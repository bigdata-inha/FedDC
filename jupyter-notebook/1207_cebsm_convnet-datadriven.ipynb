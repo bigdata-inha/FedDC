{
 "cells": [
  {
   "cell_type": "code",
   "execution_count": 1,
   "id": "magnetic-viking",
   "metadata": {},
   "outputs": [],
   "source": [
    "import matplotlib.pyplot as plt\n",
    "%matplotlib inline\n",
    "import matplotlib.style as style\n",
    "import os\n",
    "os.chdir('../')\n",
    "style.use('seaborn')\n",
    "import numpy as np\n",
    "import warnings\n",
    "warnings.filterwarnings('ignore')\n",
    "import easydict\n",
    "from test_imagenet import main_test\n",
    "total = []\n",
    "import torch\n"
   ]
  },
  {
   "cell_type": "code",
   "execution_count": 2,
   "id": "unnecessary-reader",
   "metadata": {},
   "outputs": [
    {
     "name": "stderr",
     "output_type": "stream",
     "text": [
      "INFO:root:{'model': 'ConvNet', 'dataset': 'cifar10', 'gpu': 0, 'iid': 0, 'epochs': 100, 'optimizer': 'sgd', 'seed': 0, 'norm': 'none', 'num_users': 50, 'frac': 0.2, 'local_ep': 5, 'local_bs': 32, 'lr': 0.01, 'momentum': 1, 'kernel_num': 9, 'kernel_sizes': 'only_momentum', 'num_channnels': '1', 'num_filters': 32, 'max_pool': 'True', 'num_classes': 10, 'unequal': 0, 'stopping_rounds': 0, 'verbose': 0, 'hold_normalize': 0, 'save_path': '../save/checkpoint/ConvNet_1207', 'exp_folder': 'ConvNet_1207', 'resume': None, 'server_opt': 'sgd', 'server_lr': 1.0, 'client_decay': 0, 'local_decay': 0, 'alpha': 0.05, 'server_epoch': 0, 'cosine_norm': 0, 'only_fc': 0, 'loss': 'ce', 'dc_lr': 0.0, 'tsne_pred': 0, 'pruning': 0.0}\n"
     ]
    },
    {
     "name": "stdout",
     "output_type": "stream",
     "text": [
      "Files already downloaded and verified\n",
      "Files already downloaded and verified\n",
      "Files already downloaded and verified\n"
     ]
    },
    {
     "name": "stderr",
     "output_type": "stream",
     "text": [
      "INFO:root:ConvNet(\n",
      "  (net_act): ReLU(inplace=True)\n",
      "  (net_pooling): MaxPool2d(kernel_size=2, stride=2, padding=0, dilation=1, ceil_mode=False)\n",
      "  (features): Sequential(\n",
      "    (0): Conv2d(3, 128, kernel_size=(3, 3), stride=(1, 1), padding=(1, 1))\n",
      "    (1): ReLU(inplace=True)\n",
      "    (2): MaxPool2d(kernel_size=2, stride=2, padding=0, dilation=1, ceil_mode=False)\n",
      "    (3): Conv2d(128, 128, kernel_size=(3, 3), stride=(1, 1), padding=(1, 1))\n",
      "    (4): ReLU(inplace=True)\n",
      "    (5): MaxPool2d(kernel_size=2, stride=2, padding=0, dilation=1, ceil_mode=False)\n",
      "    (6): Conv2d(128, 128, kernel_size=(3, 3), stride=(1, 1), padding=(1, 1))\n",
      "    (7): ReLU(inplace=True)\n",
      "    (8): MaxPool2d(kernel_size=2, stride=2, padding=0, dilation=1, ceil_mode=False)\n",
      "  )\n",
      "  (classifier): Linear(in_features=2048, out_features=10, bias=True)\n",
      ")\n",
      "INFO:root:None\n"
     ]
    },
    {
     "name": "stdout",
     "output_type": "stream",
     "text": [
      "----------------------------------------------------------------\n",
      "        Layer (type)               Output Shape         Param #\n",
      "================================================================\n",
      "            Conv2d-1          [-1, 128, 32, 32]           3,584\n",
      "              ReLU-2          [-1, 128, 32, 32]               0\n",
      "              ReLU-3          [-1, 128, 32, 32]               0\n",
      "         MaxPool2d-4          [-1, 128, 16, 16]               0\n",
      "         MaxPool2d-5          [-1, 128, 16, 16]               0\n",
      "            Conv2d-6          [-1, 128, 16, 16]         147,584\n",
      "              ReLU-7          [-1, 128, 16, 16]               0\n",
      "              ReLU-8          [-1, 128, 16, 16]               0\n",
      "         MaxPool2d-9            [-1, 128, 8, 8]               0\n",
      "        MaxPool2d-10            [-1, 128, 8, 8]               0\n",
      "           Conv2d-11            [-1, 128, 8, 8]         147,584\n",
      "             ReLU-12            [-1, 128, 8, 8]               0\n",
      "             ReLU-13            [-1, 128, 8, 8]               0\n",
      "        MaxPool2d-14            [-1, 128, 4, 4]               0\n",
      "        MaxPool2d-15            [-1, 128, 4, 4]               0\n",
      "           Linear-16                   [-1, 10]          20,490\n",
      "================================================================\n",
      "Total params: 319,242\n",
      "Trainable params: 319,242\n",
      "Non-trainable params: 0\n",
      "----------------------------------------------------------------\n",
      "Input size (MB): 0.01\n",
      "Forward/backward pass size (MB): 4.59\n",
      "Params size (MB): 1.22\n",
      "Estimated Total Size (MB): 5.82\n",
      "----------------------------------------------------------------\n"
     ]
    },
    {
     "name": "stderr",
     "output_type": "stream",
     "text": [
      "\r",
      "  0%|          | 0/100 [00:00<?, ?it/s]"
     ]
    },
    {
     "name": "stdout",
     "output_type": "stream",
     "text": [
      "[209, 1756, 422, 2575, 1018, 602, 2274, 447, 744, 1112, 123, 87, 1433, 1416, 40, 1119, 796, 794, 327, 470, 231, 813, 1320, 542, 690, 2195, 2934, 106, 1012, 15, 278, 1798, 303, 590, 2029, 201, 1053, 862, 231, 116, 4600, 19, 286, 1736, 2430, 431, 3195, 1780, 173, 267]\n",
      "[470, 2934, 201, 231, 2575, 744, 15, 123, 1119, 4600]\n"
     ]
    },
    {
     "name": "stderr",
     "output_type": "stream",
     "text": [
      "INFO:root: \n",
      "Avg Training Stats after 1 global rounds:\n",
      "INFO:root:Train Accuracy: 0.00%\n",
      "INFO:root:Training Loss : 0.46465974690754824\n",
      "INFO:root:Test Accuracy: 11.05%\n",
      "INFO:root:Test Loss: 2.601387382745743 \n",
      "\n",
      "  1%|          | 1/100 [00:21<34:51, 21.13s/it]"
     ]
    },
    {
     "name": "stdout",
     "output_type": "stream",
     "text": [
      "[231, 173, 2575, 1736, 2430, 123, 4600, 690, 1012, 447]\n"
     ]
    },
    {
     "name": "stderr",
     "output_type": "stream",
     "text": [
      "INFO:root: \n",
      "Avg Training Stats after 2 global rounds:\n",
      "INFO:root:Train Accuracy: 0.00%\n",
      "INFO:root:Training Loss : 0.5399401452261994\n",
      "INFO:root:Test Accuracy: 12.97%\n",
      "INFO:root:Test Loss: 3.1216396209597588 \n",
      "\n",
      "  2%|▏         | 2/100 [00:42<35:01, 21.45s/it]"
     ]
    },
    {
     "name": "stdout",
     "output_type": "stream",
     "text": [
      "[744, 2575, 1320, 470, 2430, 2274, 267, 690, 209, 303]\n"
     ]
    },
    {
     "name": "stderr",
     "output_type": "stream",
     "text": [
      "INFO:root: \n",
      "Avg Training Stats after 3 global rounds:\n",
      "INFO:root:Train Accuracy: 0.00%\n",
      "INFO:root:Training Loss : 0.4304924517383687\n",
      "INFO:root:Test Accuracy: 21.91%\n",
      "INFO:root:Test Loss: 2.593751758933067 \n",
      "\n",
      "  3%|▎         | 3/100 [01:01<32:44, 20.25s/it]"
     ]
    },
    {
     "name": "stdout",
     "output_type": "stream",
     "text": [
      "[173, 690, 542, 1012, 2195, 1780, 1053, 87, 2934, 1736]\n"
     ]
    },
    {
     "name": "stderr",
     "output_type": "stream",
     "text": [
      "INFO:root: \n",
      "Avg Training Stats after 4 global rounds:\n",
      "INFO:root:Train Accuracy: 0.00%\n",
      "INFO:root:Training Loss : 0.6030785431157545\n",
      "INFO:root:Test Accuracy: 20.89%\n",
      "INFO:root:Test Loss: 2.2453124022483824 \n",
      "\n",
      "  4%|▍         | 4/100 [01:22<32:29, 20.30s/it]"
     ]
    },
    {
     "name": "stdout",
     "output_type": "stream",
     "text": [
      "[2430, 2575, 1736, 123, 15, 1780, 1018, 231, 87, 794]\n"
     ]
    },
    {
     "name": "stderr",
     "output_type": "stream",
     "text": [
      "INFO:root: \n",
      "Avg Training Stats after 5 global rounds:\n",
      "INFO:root:Train Accuracy: 0.00%\n",
      "INFO:root:Training Loss : 0.4845566057034474\n",
      "INFO:root:Test Accuracy: 13.58%\n",
      "INFO:root:Test Loss: 3.180651658773422 \n",
      "\n",
      "  5%|▌         | 5/100 [01:40<30:56, 19.54s/it]"
     ]
    },
    {
     "name": "stdout",
     "output_type": "stream",
     "text": [
      "[1119, 87, 590, 794, 813, 303, 1320, 690, 1018, 422]\n"
     ]
    },
    {
     "name": "stderr",
     "output_type": "stream",
     "text": [
      "INFO:root: \n",
      "Avg Training Stats after 6 global rounds:\n",
      "INFO:root:Train Accuracy: 0.00%\n",
      "INFO:root:Training Loss : 0.3903852338541156\n",
      "INFO:root:Test Accuracy: 10.76%\n",
      "INFO:root:Test Loss: 2.892713804915547 \n",
      "\n",
      "  6%|▌         | 6/100 [01:54<27:57, 17.84s/it]"
     ]
    },
    {
     "name": "stdout",
     "output_type": "stream",
     "text": [
      "[2029, 1433, 303, 327, 744, 862, 2934, 231, 1416, 278]\n"
     ]
    },
    {
     "name": "stderr",
     "output_type": "stream",
     "text": [
      "INFO:root: \n",
      "Avg Training Stats after 7 global rounds:\n",
      "INFO:root:Train Accuracy: 0.00%\n",
      "INFO:root:Training Loss : 0.47678993842989625\n",
      "INFO:root:Test Accuracy: 20.54%\n",
      "INFO:root:Test Loss: 2.2776568776369093 \n",
      "\n",
      "  7%|▋         | 7/100 [02:12<27:33, 17.78s/it]"
     ]
    },
    {
     "name": "stdout",
     "output_type": "stream",
     "text": [
      "[231, 1112, 327, 744, 286, 422, 15, 1798, 1053, 173]\n"
     ]
    },
    {
     "name": "stderr",
     "output_type": "stream",
     "text": [
      "INFO:root: \n",
      "Avg Training Stats after 8 global rounds:\n",
      "INFO:root:Train Accuracy: 0.00%\n",
      "INFO:root:Training Loss : 0.5268441462921617\n",
      "INFO:root:Test Accuracy: 30.22%\n",
      "INFO:root:Test Loss: 2.0070980906486513 \n",
      "\n",
      "  8%|▊         | 8/100 [02:26<25:13, 16.46s/it]"
     ]
    },
    {
     "name": "stdout",
     "output_type": "stream",
     "text": [
      "[794, 278, 744, 862, 303, 19, 2274, 1053, 813, 1012]\n"
     ]
    },
    {
     "name": "stderr",
     "output_type": "stream",
     "text": [
      "INFO:root: \n",
      "Avg Training Stats after 9 global rounds:\n",
      "INFO:root:Train Accuracy: 0.00%\n",
      "INFO:root:Training Loss : 0.3294450950862086\n",
      "INFO:root:Test Accuracy: 23.82%\n",
      "INFO:root:Test Loss: 2.273837187886238 \n",
      "\n",
      "  9%|▉         | 9/100 [02:41<24:24, 16.09s/it]"
     ]
    },
    {
     "name": "stdout",
     "output_type": "stream",
     "text": [
      "[1320, 40, 1756, 470, 327, 1012, 862, 1433, 796, 231]\n"
     ]
    },
    {
     "name": "stderr",
     "output_type": "stream",
     "text": [
      "INFO:root: \n",
      "Avg Training Stats after 10 global rounds:\n",
      "INFO:root:Train Accuracy: 0.00%\n",
      "INFO:root:Training Loss : 0.2604878547808246\n",
      "INFO:root:Test Accuracy: 17.82%\n",
      "INFO:root:Test Loss: 2.7854189521074293 \n",
      "\n",
      " 10%|█         | 10/100 [02:56<23:51, 15.91s/it]"
     ]
    },
    {
     "name": "stdout",
     "output_type": "stream",
     "text": [
      "[87, 201, 1798, 813, 123, 2934, 1756, 231, 1053, 4600]\n"
     ]
    },
    {
     "name": "stderr",
     "output_type": "stream",
     "text": [
      "INFO:root: \n",
      "Avg Training Stats after 11 global rounds:\n",
      "INFO:root:Train Accuracy: 0.00%\n",
      "INFO:root:Training Loss : 0.3911198260997083\n",
      "INFO:root:Test Accuracy: 23.92%\n",
      "INFO:root:Test Loss: 2.3787280222773552 \n",
      "\n",
      " 11%|█         | 11/100 [03:17<25:34, 17.25s/it]"
     ]
    },
    {
     "name": "stdout",
     "output_type": "stream",
     "text": [
      "[106, 231, 447, 796, 209, 1798, 1112, 1416, 590, 794]\n"
     ]
    },
    {
     "name": "stderr",
     "output_type": "stream",
     "text": [
      "INFO:root: \n",
      "Avg Training Stats after 12 global rounds:\n",
      "INFO:root:Train Accuracy: 0.00%\n",
      "INFO:root:Training Loss : 0.25515403106262463\n",
      "INFO:root:Test Accuracy: 35.49%\n",
      "INFO:root:Test Loss: 1.903600578904152 \n",
      "\n",
      " 12%|█▏        | 12/100 [03:31<24:13, 16.52s/it]"
     ]
    },
    {
     "name": "stdout",
     "output_type": "stream",
     "text": [
      "[1320, 278, 862, 2274, 1798, 87, 2029, 796, 1018, 2430]\n"
     ]
    },
    {
     "name": "stderr",
     "output_type": "stream",
     "text": [
      "INFO:root: \n",
      "Avg Training Stats after 13 global rounds:\n",
      "INFO:root:Train Accuracy: 0.00%\n",
      "INFO:root:Training Loss : 0.2985412871474841\n",
      "INFO:root:Test Accuracy: 35.26%\n",
      "INFO:root:Test Loss: 2.0284522444009783 \n",
      "\n",
      " 13%|█▎        | 13/100 [03:52<25:35, 17.64s/it]"
     ]
    },
    {
     "name": "stdout",
     "output_type": "stream",
     "text": [
      "[4600, 2575, 590, 173, 2430, 40, 1112, 87, 231, 2195]\n"
     ]
    },
    {
     "name": "stderr",
     "output_type": "stream",
     "text": [
      "INFO:root: \n",
      "Avg Training Stats after 14 global rounds:\n",
      "INFO:root:Train Accuracy: 0.00%\n",
      "INFO:root:Training Loss : 0.3774689709754386\n",
      "INFO:root:Test Accuracy: 30.16%\n",
      "INFO:root:Test Loss: 1.9835908123850823 \n",
      "\n",
      " 14%|█▍        | 14/100 [04:12<26:37, 18.57s/it]"
     ]
    },
    {
     "name": "stdout",
     "output_type": "stream",
     "text": [
      "[231, 794, 1018, 1012, 15, 303, 796, 2274, 1320, 19]\n"
     ]
    },
    {
     "name": "stderr",
     "output_type": "stream",
     "text": [
      "INFO:root: \n",
      "Avg Training Stats after 15 global rounds:\n",
      "INFO:root:Train Accuracy: 0.00%\n",
      "INFO:root:Training Loss : 0.358622270524657\n",
      "INFO:root:Test Accuracy: 33.39%\n",
      "INFO:root:Test Loss: 1.8957448571920394 \n",
      "\n",
      " 15%|█▌        | 15/100 [04:27<24:48, 17.51s/it]"
     ]
    },
    {
     "name": "stdout",
     "output_type": "stream",
     "text": [
      "[2195, 40, 2029, 862, 2575, 1433, 447, 19, 4600, 796]\n"
     ]
    },
    {
     "name": "stderr",
     "output_type": "stream",
     "text": [
      "INFO:root: \n",
      "Avg Training Stats after 16 global rounds:\n",
      "INFO:root:Train Accuracy: 0.00%\n",
      "INFO:root:Training Loss : 0.31622699341759813\n",
      "INFO:root:Test Accuracy: 39.65%\n",
      "INFO:root:Test Loss: 1.7930078512430192 \n",
      "\n",
      " 16%|█▌        | 16/100 [04:49<26:07, 18.66s/it]"
     ]
    },
    {
     "name": "stdout",
     "output_type": "stream",
     "text": [
      "[231, 173, 303, 2274, 796, 116, 1798, 447, 106, 1433]\n"
     ]
    },
    {
     "name": "stderr",
     "output_type": "stream",
     "text": [
      "INFO:root: \n",
      "Avg Training Stats after 17 global rounds:\n",
      "INFO:root:Train Accuracy: 0.00%\n",
      "INFO:root:Training Loss : 0.26885777143238315\n",
      "INFO:root:Test Accuracy: 32.42%\n",
      "INFO:root:Test Loss: 2.0914829418063166 \n",
      "\n",
      " 17%|█▋        | 17/100 [05:04<24:17, 17.57s/it]"
     ]
    },
    {
     "name": "stdout",
     "output_type": "stream",
     "text": [
      "[201, 1756, 796, 1320, 813, 542, 116, 173, 794, 1798]\n"
     ]
    },
    {
     "name": "stderr",
     "output_type": "stream",
     "text": [
      "INFO:root: \n",
      "Avg Training Stats after 18 global rounds:\n",
      "INFO:root:Train Accuracy: 0.00%\n",
      "INFO:root:Training Loss : 0.35808537589960804\n",
      "INFO:root:Test Accuracy: 32.78%\n",
      "INFO:root:Test Loss: 2.083365397155285 \n",
      "\n",
      " 18%|█▊        | 18/100 [05:19<23:10, 16.96s/it]"
     ]
    },
    {
     "name": "stdout",
     "output_type": "stream",
     "text": [
      "[15, 1780, 19, 744, 2575, 173, 813, 40, 1320, 422]\n"
     ]
    },
    {
     "name": "stderr",
     "output_type": "stream",
     "text": [
      "INFO:root: \n",
      "Avg Training Stats after 19 global rounds:\n",
      "INFO:root:Train Accuracy: 0.00%\n",
      "INFO:root:Training Loss : 0.5047467804988092\n",
      "INFO:root:Test Accuracy: 19.01%\n",
      "INFO:root:Test Loss: 2.946823002398014 \n",
      "\n",
      " 19%|█▉        | 19/100 [05:34<22:07, 16.38s/it]"
     ]
    },
    {
     "name": "stdout",
     "output_type": "stream",
     "text": [
      "[813, 1736, 15, 1433, 267, 470, 3195, 744, 2575, 231]\n"
     ]
    },
    {
     "name": "stderr",
     "output_type": "stream",
     "text": [
      "INFO:root: \n",
      "Avg Training Stats after 20 global rounds:\n",
      "INFO:root:Train Accuracy: 0.00%\n",
      "INFO:root:Training Loss : 0.37380896553901743\n",
      "INFO:root:Test Accuracy: 21.83%\n",
      "INFO:root:Test Loss: 2.7091658423841 \n",
      "\n",
      " 20%|██        | 20/100 [05:53<22:36, 16.96s/it]"
     ]
    },
    {
     "name": "stdout",
     "output_type": "stream",
     "text": [
      "[278, 744, 1053, 447, 1320, 116, 1798, 19, 4600, 3195]\n"
     ]
    },
    {
     "name": "stderr",
     "output_type": "stream",
     "text": [
      "INFO:root: \n",
      "Avg Training Stats after 21 global rounds:\n",
      "INFO:root:Train Accuracy: 0.00%\n",
      "INFO:root:Training Loss : 0.3950934495780267\n",
      "INFO:root:Test Accuracy: 25.55%\n",
      "INFO:root:Test Loss: 2.5068945860862732 \n",
      "\n",
      " 21%|██        | 21/100 [06:13<23:39, 17.97s/it]"
     ]
    },
    {
     "name": "stdout",
     "output_type": "stream",
     "text": [
      "[813, 2029, 602, 590, 1756, 106, 1780, 40, 19, 2934]\n"
     ]
    },
    {
     "name": "stderr",
     "output_type": "stream",
     "text": [
      "INFO:root: \n",
      "Avg Training Stats after 22 global rounds:\n",
      "INFO:root:Train Accuracy: 0.00%\n",
      "INFO:root:Training Loss : 0.29766137587578834\n",
      "INFO:root:Test Accuracy: 24.53%\n",
      "INFO:root:Test Loss: 2.1048346726596354 \n",
      "\n",
      " 22%|██▏       | 22/100 [06:31<23:10, 17.83s/it]"
     ]
    },
    {
     "name": "stdout",
     "output_type": "stream",
     "text": [
      "[40, 862, 327, 1780, 2274, 106, 1053, 1112, 1012, 3195]\n"
     ]
    },
    {
     "name": "stderr",
     "output_type": "stream",
     "text": [
      "INFO:root: \n",
      "Avg Training Stats after 23 global rounds:\n",
      "INFO:root:Train Accuracy: 0.00%\n",
      "INFO:root:Training Loss : 0.2905280779748602\n",
      "INFO:root:Test Accuracy: 36.91%\n",
      "INFO:root:Test Loss: 1.7598536586761475 \n",
      "\n",
      " 23%|██▎       | 23/100 [06:49<23:10, 18.05s/it]"
     ]
    },
    {
     "name": "stdout",
     "output_type": "stream",
     "text": [
      "[1320, 1119, 862, 744, 1053, 87, 201, 470, 2274, 1012]\n"
     ]
    },
    {
     "name": "stderr",
     "output_type": "stream",
     "text": [
      "INFO:root: \n",
      "Avg Training Stats after 24 global rounds:\n",
      "INFO:root:Train Accuracy: 0.00%\n",
      "INFO:root:Training Loss : 0.30374998043930784\n",
      "INFO:root:Test Accuracy: 33.08%\n",
      "INFO:root:Test Loss: 1.979489153623581 \n",
      "\n",
      " 24%|██▍       | 24/100 [07:06<22:16, 17.59s/it]"
     ]
    },
    {
     "name": "stdout",
     "output_type": "stream",
     "text": [
      "[447, 286, 1416, 87, 796, 1798, 231, 1119, 431, 2195]\n"
     ]
    },
    {
     "name": "stderr",
     "output_type": "stream",
     "text": [
      "INFO:root: \n",
      "Avg Training Stats after 25 global rounds:\n",
      "INFO:root:Train Accuracy: 0.00%\n",
      "INFO:root:Training Loss : 0.3886709156065214\n",
      "INFO:root:Test Accuracy: 30.98%\n",
      "INFO:root:Test Loss: 1.8939556270837783 \n",
      "\n",
      " 25%|██▌       | 25/100 [07:22<21:23, 17.11s/it]"
     ]
    },
    {
     "name": "stdout",
     "output_type": "stream",
     "text": [
      "[116, 2029, 690, 1416, 1780, 602, 2575, 1756, 431, 87]\n"
     ]
    },
    {
     "name": "stderr",
     "output_type": "stream",
     "text": [
      "INFO:root: \n",
      "Avg Training Stats after 26 global rounds:\n",
      "INFO:root:Train Accuracy: 0.00%\n",
      "INFO:root:Training Loss : 0.4219931739153176\n",
      "INFO:root:Test Accuracy: 35.18%\n",
      "INFO:root:Test Loss: 1.8017406088113785 \n",
      "\n",
      " 26%|██▌       | 26/100 [07:40<21:33, 17.48s/it]"
     ]
    },
    {
     "name": "stdout",
     "output_type": "stream",
     "text": [
      "[87, 173, 2029, 19, 4600, 2195, 116, 303, 40, 209]\n"
     ]
    },
    {
     "name": "stderr",
     "output_type": "stream",
     "text": [
      "INFO:root: \n",
      "Avg Training Stats after 27 global rounds:\n",
      "INFO:root:Train Accuracy: 0.00%\n",
      "INFO:root:Training Loss : 0.43723098918287046\n",
      "INFO:root:Test Accuracy: 38.03%\n",
      "INFO:root:Test Loss: 1.9040059593319894 \n",
      "\n",
      " 27%|██▋       | 27/100 [07:57<21:01, 17.28s/it]"
     ]
    },
    {
     "name": "stdout",
     "output_type": "stream",
     "text": [
      "[4600, 267, 794, 231, 201, 231, 2934, 590, 470, 173]\n"
     ]
    },
    {
     "name": "stderr",
     "output_type": "stream",
     "text": [
      "INFO:root: \n",
      "Avg Training Stats after 28 global rounds:\n",
      "INFO:root:Train Accuracy: 0.00%\n",
      "INFO:root:Training Loss : 0.36137790449224705\n",
      "INFO:root:Test Accuracy: 31.75%\n",
      "INFO:root:Test Loss: 2.023919029533863 \n",
      "\n",
      " 28%|██▊       | 28/100 [08:15<20:57, 17.47s/it]"
     ]
    },
    {
     "name": "stdout",
     "output_type": "stream",
     "text": [
      "[1798, 286, 123, 1112, 303, 796, 744, 1320, 231, 794]\n"
     ]
    },
    {
     "name": "stderr",
     "output_type": "stream",
     "text": [
      "INFO:root: \n",
      "Avg Training Stats after 29 global rounds:\n",
      "INFO:root:Train Accuracy: 0.00%\n",
      "INFO:root:Training Loss : 0.197033939389179\n",
      "INFO:root:Test Accuracy: 42.04%\n",
      "INFO:root:Test Loss: 1.5700600826740265 \n",
      "\n",
      " 29%|██▉       | 29/100 [08:30<19:45, 16.69s/it]"
     ]
    },
    {
     "name": "stdout",
     "output_type": "stream",
     "text": [
      "[303, 4600, 1119, 447, 744, 40, 1756, 2430, 2029, 602]\n"
     ]
    },
    {
     "name": "stderr",
     "output_type": "stream",
     "text": [
      "INFO:root: \n",
      "Avg Training Stats after 30 global rounds:\n",
      "INFO:root:Train Accuracy: 0.00%\n",
      "INFO:root:Training Loss : 0.18919033176918948\n",
      "INFO:root:Test Accuracy: 35.30%\n",
      "INFO:root:Test Loss: 1.8598812013864516 \n",
      "\n",
      " 30%|███       | 30/100 [08:50<20:52, 17.89s/it]"
     ]
    },
    {
     "name": "stdout",
     "output_type": "stream",
     "text": [
      "[422, 3195, 1112, 327, 123, 1736, 303, 286, 106, 1433]\n"
     ]
    },
    {
     "name": "stderr",
     "output_type": "stream",
     "text": [
      "INFO:root: \n",
      "Avg Training Stats after 31 global rounds:\n",
      "INFO:root:Train Accuracy: 0.00%\n",
      "INFO:root:Training Loss : 0.2588466379683068\n",
      "INFO:root:Test Accuracy: 23.65%\n",
      "INFO:root:Test Loss: 2.7532801976799965 \n",
      "\n",
      " 31%|███       | 31/100 [09:06<19:59, 17.39s/it]"
     ]
    },
    {
     "name": "stdout",
     "output_type": "stream",
     "text": [
      "[862, 173, 422, 303, 123, 1012, 542, 278, 431, 2195]\n"
     ]
    },
    {
     "name": "stderr",
     "output_type": "stream",
     "text": [
      "INFO:root: \n",
      "Avg Training Stats after 32 global rounds:\n",
      "INFO:root:Train Accuracy: 0.00%\n",
      "INFO:root:Training Loss : 0.42887245484708814\n",
      "INFO:root:Test Accuracy: 36.30%\n",
      "INFO:root:Test Loss: 1.885820538699627 \n",
      "\n",
      " 32%|███▏      | 32/100 [09:20<18:32, 16.36s/it]"
     ]
    },
    {
     "name": "stdout",
     "output_type": "stream",
     "text": [
      "[1320, 15, 19, 1756, 231, 470, 267, 87, 862, 327]\n"
     ]
    },
    {
     "name": "stderr",
     "output_type": "stream",
     "text": [
      "INFO:root: \n",
      "Avg Training Stats after 33 global rounds:\n",
      "INFO:root:Train Accuracy: 0.00%\n",
      "INFO:root:Training Loss : 0.4897190610670946\n",
      "INFO:root:Test Accuracy: 30.52%\n",
      "INFO:root:Test Loss: 2.1808320903778076 \n",
      "\n",
      " 33%|███▎      | 33/100 [09:33<17:05, 15.30s/it]"
     ]
    },
    {
     "name": "stdout",
     "output_type": "stream",
     "text": [
      "[87, 267, 796, 1053, 1433, 2575, 1119, 794, 15, 327]\n"
     ]
    },
    {
     "name": "stderr",
     "output_type": "stream",
     "text": [
      "INFO:root: \n",
      "Avg Training Stats after 34 global rounds:\n",
      "INFO:root:Train Accuracy: 0.00%\n",
      "INFO:root:Training Loss : 0.3867751228197425\n",
      "INFO:root:Test Accuracy: 38.83%\n",
      "INFO:root:Test Loss: 1.8175212040543556 \n",
      "\n",
      " 34%|███▍      | 34/100 [09:49<16:56, 15.40s/it]"
     ]
    },
    {
     "name": "stdout",
     "output_type": "stream",
     "text": [
      "[422, 1798, 590, 796, 19, 1320, 173, 1416, 1053, 4600]\n"
     ]
    },
    {
     "name": "stderr",
     "output_type": "stream",
     "text": [
      "INFO:root: \n",
      "Avg Training Stats after 35 global rounds:\n",
      "INFO:root:Train Accuracy: 0.00%\n",
      "INFO:root:Training Loss : 0.35507597120241885\n",
      "INFO:root:Test Accuracy: 38.69%\n",
      "INFO:root:Test Loss: 1.8023953813314437 \n",
      "\n",
      " 35%|███▌      | 35/100 [10:08<17:52, 16.50s/it]"
     ]
    },
    {
     "name": "stdout",
     "output_type": "stream",
     "text": [
      "[2430, 1320, 602, 3195, 231, 2934, 431, 794, 1416, 542]\n"
     ]
    },
    {
     "name": "stderr",
     "output_type": "stream",
     "text": [
      "INFO:root: \n",
      "Avg Training Stats after 36 global rounds:\n",
      "INFO:root:Train Accuracy: 0.00%\n",
      "INFO:root:Training Loss : 0.2786658551444967\n",
      "INFO:root:Test Accuracy: 35.04%\n",
      "INFO:root:Test Loss: 1.738760026693344 \n",
      "\n",
      " 36%|███▌      | 36/100 [10:29<18:55, 17.75s/it]"
     ]
    },
    {
     "name": "stdout",
     "output_type": "stream",
     "text": [
      "[15, 813, 1112, 123, 40, 796, 2274, 1018, 2195, 201]\n"
     ]
    },
    {
     "name": "stderr",
     "output_type": "stream",
     "text": [
      "INFO:root: \n",
      "Avg Training Stats after 37 global rounds:\n",
      "INFO:root:Train Accuracy: 0.00%\n",
      "INFO:root:Training Loss : 0.29484633299507085\n",
      "INFO:root:Test Accuracy: 31.05%\n",
      "INFO:root:Test Loss: 2.0351116290688513 \n",
      "\n",
      " 37%|███▋      | 37/100 [10:44<18:01, 17.17s/it]"
     ]
    },
    {
     "name": "stdout",
     "output_type": "stream",
     "text": [
      "[303, 2195, 422, 1112, 1433, 116, 796, 602, 1756, 231]\n"
     ]
    },
    {
     "name": "stderr",
     "output_type": "stream",
     "text": [
      "INFO:root: \n",
      "Avg Training Stats after 38 global rounds:\n",
      "INFO:root:Train Accuracy: 0.00%\n",
      "INFO:root:Training Loss : 0.30539518603639376\n",
      "INFO:root:Test Accuracy: 33.94%\n",
      "INFO:root:Test Loss: 2.0243504613637926 \n",
      "\n",
      " 38%|███▊      | 38/100 [11:01<17:26, 16.88s/it]"
     ]
    },
    {
     "name": "stdout",
     "output_type": "stream",
     "text": [
      "[1756, 231, 267, 2430, 590, 1736, 15, 4600, 327, 1112]\n"
     ]
    },
    {
     "name": "stderr",
     "output_type": "stream",
     "text": [
      "INFO:root: \n",
      "Avg Training Stats after 39 global rounds:\n",
      "INFO:root:Train Accuracy: 0.00%\n",
      "INFO:root:Training Loss : 0.32772163281239763\n",
      "INFO:root:Test Accuracy: 32.56%\n",
      "INFO:root:Test Loss: 1.9843187761306762 \n",
      "\n",
      " 39%|███▉      | 39/100 [11:20<18:04, 17.77s/it]"
     ]
    },
    {
     "name": "stdout",
     "output_type": "stream",
     "text": [
      "[2575, 422, 3195, 862, 231, 796, 2934, 123, 2430, 794]\n"
     ]
    },
    {
     "name": "stderr",
     "output_type": "stream",
     "text": [
      "INFO:root: \n",
      "Avg Training Stats after 40 global rounds:\n",
      "INFO:root:Train Accuracy: 0.00%\n",
      "INFO:root:Training Loss : 0.259203320402409\n",
      "INFO:root:Test Accuracy: 39.19%\n",
      "INFO:root:Test Loss: 1.5471462884545326 \n",
      "\n",
      " 40%|████      | 40/100 [11:41<18:42, 18.71s/it]"
     ]
    },
    {
     "name": "stdout",
     "output_type": "stream",
     "text": [
      "[231, 1119, 1736, 278, 447, 1018, 286, 744, 690, 173]\n"
     ]
    },
    {
     "name": "stderr",
     "output_type": "stream",
     "text": [
      "INFO:root: \n",
      "Avg Training Stats after 41 global rounds:\n",
      "INFO:root:Train Accuracy: 0.00%\n",
      "INFO:root:Training Loss : 0.31544723441015554\n",
      "INFO:root:Test Accuracy: 42.95%\n",
      "INFO:root:Test Loss: 1.5584743800759315 \n",
      "\n",
      " 41%|████      | 41/100 [11:56<17:04, 17.37s/it]"
     ]
    },
    {
     "name": "stdout",
     "output_type": "stream",
     "text": [
      "[231, 1320, 1416, 2575, 2274, 862, 690, 602, 1012, 173]\n"
     ]
    },
    {
     "name": "stderr",
     "output_type": "stream",
     "text": [
      "INFO:root: \n",
      "Avg Training Stats after 42 global rounds:\n",
      "INFO:root:Train Accuracy: 0.00%\n",
      "INFO:root:Training Loss : 0.29765463228663\n",
      "INFO:root:Test Accuracy: 46.91%\n",
      "INFO:root:Test Loss: 1.4735106647014617 \n",
      "\n",
      " 42%|████▏     | 42/100 [12:14<17:04, 17.66s/it]"
     ]
    },
    {
     "name": "stdout",
     "output_type": "stream",
     "text": [
      "[1112, 1053, 3195, 2934, 2029, 201, 123, 2195, 1018, 173]\n"
     ]
    },
    {
     "name": "stderr",
     "output_type": "stream",
     "text": [
      "INFO:root: \n",
      "Avg Training Stats after 43 global rounds:\n",
      "INFO:root:Train Accuracy: 0.00%\n",
      "INFO:root:Training Loss : 0.3381490591108046\n",
      "INFO:root:Test Accuracy: 38.31%\n",
      "INFO:root:Test Loss: 1.7713874411582946 \n",
      "\n",
      " 43%|████▎     | 43/100 [12:35<17:48, 18.75s/it]"
     ]
    },
    {
     "name": "stdout",
     "output_type": "stream",
     "text": [
      "[862, 1053, 422, 3195, 4600, 794, 1756, 173, 2029, 1018]\n"
     ]
    },
    {
     "name": "stderr",
     "output_type": "stream",
     "text": [
      "INFO:root: \n",
      "Avg Training Stats after 44 global rounds:\n",
      "INFO:root:Train Accuracy: 0.00%\n",
      "INFO:root:Training Loss : 0.3319648895242258\n",
      "INFO:root:Test Accuracy: 38.71%\n",
      "INFO:root:Test Loss: 1.815774913430214 \n",
      "\n",
      " 44%|████▍     | 44/100 [12:59<18:48, 20.15s/it]"
     ]
    },
    {
     "name": "stdout",
     "output_type": "stream",
     "text": [
      "[1320, 2934, 796, 2195, 862, 2575, 2029, 19, 422, 286]\n"
     ]
    },
    {
     "name": "stderr",
     "output_type": "stream",
     "text": [
      "INFO:root: \n",
      "Avg Training Stats after 45 global rounds:\n",
      "INFO:root:Train Accuracy: 0.00%\n",
      "INFO:root:Training Loss : 0.30849680492976184\n",
      "INFO:root:Test Accuracy: 40.47%\n",
      "INFO:root:Test Loss: 1.6438464879989625 \n",
      "\n",
      " 45%|████▌     | 45/100 [13:19<18:34, 20.26s/it]"
     ]
    },
    {
     "name": "stdout",
     "output_type": "stream",
     "text": [
      "[862, 744, 1416, 1112, 590, 542, 278, 690, 116, 1780]\n"
     ]
    },
    {
     "name": "stderr",
     "output_type": "stream",
     "text": [
      "INFO:root: \n",
      "Avg Training Stats after 46 global rounds:\n",
      "INFO:root:Train Accuracy: 0.00%\n",
      "INFO:root:Training Loss : 0.4092097212300695\n",
      "INFO:root:Test Accuracy: 39.37%\n",
      "INFO:root:Test Loss: 1.6857572904229163 \n",
      "\n",
      " 46%|████▌     | 46/100 [13:35<17:00, 18.90s/it]"
     ]
    },
    {
     "name": "stdout",
     "output_type": "stream",
     "text": [
      "[2575, 1112, 1320, 231, 3195, 1012, 862, 447, 2195, 201]\n"
     ]
    },
    {
     "name": "stderr",
     "output_type": "stream",
     "text": [
      "INFO:root: \n",
      "Avg Training Stats after 47 global rounds:\n",
      "INFO:root:Train Accuracy: 0.00%\n",
      "INFO:root:Training Loss : 0.19952238595504695\n",
      "INFO:root:Test Accuracy: 38.24%\n",
      "INFO:root:Test Loss: 1.723129184395075 \n",
      "\n",
      " 47%|████▋     | 47/100 [13:55<16:57, 19.20s/it]"
     ]
    },
    {
     "name": "stdout",
     "output_type": "stream",
     "text": [
      "[1433, 542, 813, 231, 1119, 2029, 1012, 173, 2195, 1320]\n"
     ]
    },
    {
     "name": "stderr",
     "output_type": "stream",
     "text": [
      "INFO:root: \n",
      "Avg Training Stats after 48 global rounds:\n",
      "INFO:root:Train Accuracy: 0.00%\n",
      "INFO:root:Training Loss : 0.2109900473709725\n",
      "INFO:root:Test Accuracy: 33.21%\n",
      "INFO:root:Test Loss: 2.108303815573454 \n",
      "\n",
      " 48%|████▊     | 48/100 [14:13<16:21, 18.87s/it]"
     ]
    },
    {
     "name": "stdout",
     "output_type": "stream",
     "text": [
      "[744, 2195, 209, 1780, 2575, 123, 327, 40, 1736, 690]\n"
     ]
    },
    {
     "name": "stderr",
     "output_type": "stream",
     "text": [
      "INFO:root: \n",
      "Avg Training Stats after 49 global rounds:\n",
      "INFO:root:Train Accuracy: 0.00%\n",
      "INFO:root:Training Loss : 0.3649563679942065\n",
      "INFO:root:Test Accuracy: 29.30%\n",
      "INFO:root:Test Loss: 2.345831888616085 \n",
      "\n",
      " 49%|████▉     | 49/100 [14:30<15:41, 18.46s/it]"
     ]
    },
    {
     "name": "stdout",
     "output_type": "stream",
     "text": [
      "[862, 690, 1433, 173, 3195, 2934, 116, 447, 231, 431]\n"
     ]
    },
    {
     "name": "stderr",
     "output_type": "stream",
     "text": [
      "INFO:root: \n",
      "Avg Training Stats after 50 global rounds:\n",
      "INFO:root:Train Accuracy: 0.00%\n",
      "INFO:root:Training Loss : 0.4197421321233564\n",
      "INFO:root:Test Accuracy: 26.36%\n",
      "INFO:root:Test Loss: 2.183678557947278 \n",
      "\n",
      " 50%|█████     | 50/100 [14:48<15:08, 18.18s/it]"
     ]
    },
    {
     "name": "stdout",
     "output_type": "stream",
     "text": [
      "[1320, 19, 3195, 87, 1756, 303, 813, 2575, 231, 231]\n"
     ]
    },
    {
     "name": "stderr",
     "output_type": "stream",
     "text": [
      "INFO:root: \n",
      "Avg Training Stats after 51 global rounds:\n",
      "INFO:root:Train Accuracy: 0.00%\n",
      "INFO:root:Training Loss : 0.19894939085176586\n",
      "INFO:root:Test Accuracy: 31.60%\n",
      "INFO:root:Test Loss: 2.1761290344595907 \n",
      "\n",
      " 51%|█████     | 51/100 [15:05<14:42, 18.00s/it]"
     ]
    },
    {
     "name": "stdout",
     "output_type": "stream",
     "text": [
      "[40, 813, 1780, 2934, 15, 173, 278, 19, 1798, 267]\n"
     ]
    },
    {
     "name": "stderr",
     "output_type": "stream",
     "text": [
      "INFO:root: \n",
      "Avg Training Stats after 52 global rounds:\n",
      "INFO:root:Train Accuracy: 0.00%\n",
      "INFO:root:Training Loss : 0.4197311187313574\n",
      "INFO:root:Test Accuracy: 34.73%\n",
      "INFO:root:Test Loss: 1.6714705687761306 \n",
      "\n",
      " 52%|█████▏    | 52/100 [15:21<13:47, 17.25s/it]"
     ]
    },
    {
     "name": "stdout",
     "output_type": "stream",
     "text": [
      "[267, 231, 690, 173, 1780, 1053, 862, 590, 1433, 303]\n"
     ]
    },
    {
     "name": "stderr",
     "output_type": "stream",
     "text": [
      "INFO:root: \n",
      "Avg Training Stats after 53 global rounds:\n",
      "INFO:root:Train Accuracy: 0.00%\n",
      "INFO:root:Training Loss : 0.348133893890324\n",
      "INFO:root:Test Accuracy: 46.88%\n",
      "INFO:root:Test Loss: 1.4489006412029266 \n",
      "\n",
      " 53%|█████▎    | 53/100 [15:36<12:57, 16.55s/it]"
     ]
    },
    {
     "name": "stdout",
     "output_type": "stream",
     "text": [
      "[431, 3195, 201, 796, 2934, 15, 231, 1112, 1736, 267]\n"
     ]
    },
    {
     "name": "stderr",
     "output_type": "stream",
     "text": [
      "INFO:root: \n",
      "Avg Training Stats after 54 global rounds:\n",
      "INFO:root:Train Accuracy: 0.00%\n",
      "INFO:root:Training Loss : 0.3276065272057346\n",
      "INFO:root:Test Accuracy: 26.60%\n",
      "INFO:root:Test Loss: 2.1705906546115874 \n",
      "\n",
      " 54%|█████▍    | 54/100 [15:54<13:01, 16.99s/it]"
     ]
    },
    {
     "name": "stdout",
     "output_type": "stream",
     "text": [
      "[40, 1320, 1416, 286, 2195, 1012, 201, 116, 1053, 542]\n"
     ]
    },
    {
     "name": "stderr",
     "output_type": "stream",
     "text": [
      "INFO:root: \n",
      "Avg Training Stats after 55 global rounds:\n",
      "INFO:root:Train Accuracy: 0.00%\n",
      "INFO:root:Training Loss : 0.4000506660990034\n",
      "INFO:root:Test Accuracy: 37.64%\n",
      "INFO:root:Test Loss: 1.8091732096672057 \n",
      "\n",
      " 55%|█████▌    | 55/100 [16:10<12:27, 16.61s/it]"
     ]
    },
    {
     "name": "stdout",
     "output_type": "stream",
     "text": [
      "[1798, 422, 231, 4600, 231, 2575, 1433, 106, 1320, 862]\n"
     ]
    },
    {
     "name": "stderr",
     "output_type": "stream",
     "text": [
      "INFO:root: \n",
      "Avg Training Stats after 56 global rounds:\n",
      "INFO:root:Train Accuracy: 0.00%\n",
      "INFO:root:Training Loss : 0.206316505780264\n",
      "INFO:root:Test Accuracy: 41.11%\n",
      "INFO:root:Test Loss: 1.6365380144119264 \n",
      "\n",
      " 56%|█████▌    | 56/100 [16:30<12:57, 17.68s/it]"
     ]
    },
    {
     "name": "stdout",
     "output_type": "stream",
     "text": [
      "[2274, 3195, 267, 2029, 590, 327, 2195, 278, 1756, 813]\n"
     ]
    },
    {
     "name": "stderr",
     "output_type": "stream",
     "text": [
      "INFO:root: \n",
      "Avg Training Stats after 57 global rounds:\n",
      "INFO:root:Train Accuracy: 0.00%\n",
      "INFO:root:Training Loss : 0.24068397250246507\n",
      "INFO:root:Test Accuracy: 39.91%\n",
      "INFO:root:Test Loss: 1.7958123725652695 \n",
      "\n",
      " 57%|█████▋    | 57/100 [16:50<13:16, 18.53s/it]"
     ]
    },
    {
     "name": "stdout",
     "output_type": "stream",
     "text": [
      "[1798, 431, 123, 1320, 1416, 231, 2575, 2934, 19, 1756]\n"
     ]
    },
    {
     "name": "stderr",
     "output_type": "stream",
     "text": [
      "INFO:root: \n",
      "Avg Training Stats after 58 global rounds:\n",
      "INFO:root:Train Accuracy: 0.00%\n",
      "INFO:root:Training Loss : 0.284016343229176\n",
      "INFO:root:Test Accuracy: 42.79%\n",
      "INFO:root:Test Loss: 1.4930389672517776 \n",
      "\n",
      " 58%|█████▊    | 58/100 [17:10<13:10, 18.83s/it]"
     ]
    },
    {
     "name": "stdout",
     "output_type": "stream",
     "text": [
      "[1018, 267, 2274, 447, 2029, 690, 590, 303, 1119, 796]\n"
     ]
    },
    {
     "name": "stderr",
     "output_type": "stream",
     "text": [
      "INFO:root: \n",
      "Avg Training Stats after 59 global rounds:\n",
      "INFO:root:Train Accuracy: 0.00%\n",
      "INFO:root:Training Loss : 0.19792719201142736\n",
      "INFO:root:Test Accuracy: 40.26%\n",
      "INFO:root:Test Loss: 1.8317809367179871 \n",
      "\n",
      " 59%|█████▉    | 59/100 [17:27<12:26, 18.21s/it]"
     ]
    },
    {
     "name": "stdout",
     "output_type": "stream",
     "text": [
      "[106, 2430, 447, 1433, 1012, 3195, 1119, 1756, 862, 4600]\n"
     ]
    },
    {
     "name": "stderr",
     "output_type": "stream",
     "text": [
      "INFO:root: \n",
      "Avg Training Stats after 60 global rounds:\n",
      "INFO:root:Train Accuracy: 0.00%\n",
      "INFO:root:Training Loss : 0.14047069320376745\n",
      "INFO:root:Test Accuracy: 35.32%\n",
      "INFO:root:Test Loss: 1.9709840525686741 \n",
      "\n",
      " 60%|██████    | 60/100 [17:50<13:09, 19.73s/it]"
     ]
    },
    {
     "name": "stdout",
     "output_type": "stream",
     "text": [
      "[1780, 1320, 286, 2029, 40, 796, 447, 15, 231, 744]\n"
     ]
    },
    {
     "name": "stderr",
     "output_type": "stream",
     "text": [
      "INFO:root: \n",
      "Avg Training Stats after 61 global rounds:\n",
      "INFO:root:Train Accuracy: 0.00%\n",
      "INFO:root:Training Loss : 0.32505696496709013\n",
      "INFO:root:Test Accuracy: 31.33%\n",
      "INFO:root:Test Loss: 2.257191070318222 \n",
      "\n",
      " 61%|██████    | 61/100 [18:05<11:54, 18.33s/it]"
     ]
    },
    {
     "name": "stdout",
     "output_type": "stream",
     "text": [
      "[116, 15, 2029, 327, 19, 470, 422, 87, 1012, 303]\n"
     ]
    },
    {
     "name": "stderr",
     "output_type": "stream",
     "text": [
      "INFO:root: \n",
      "Avg Training Stats after 62 global rounds:\n",
      "INFO:root:Train Accuracy: 0.00%\n",
      "INFO:root:Training Loss : 0.4558727676284076\n",
      "INFO:root:Test Accuracy: 26.90%\n",
      "INFO:root:Test Loss: 2.5459838299825788 \n",
      "\n",
      " 62%|██████▏   | 62/100 [18:18<10:32, 16.64s/it]"
     ]
    },
    {
     "name": "stdout",
     "output_type": "stream",
     "text": [
      "[796, 2274, 862, 286, 813, 3195, 1112, 422, 1119, 327]\n"
     ]
    },
    {
     "name": "stderr",
     "output_type": "stream",
     "text": [
      "INFO:root: \n",
      "Avg Training Stats after 63 global rounds:\n",
      "INFO:root:Train Accuracy: 0.00%\n",
      "INFO:root:Training Loss : 0.22208134849376507\n",
      "INFO:root:Test Accuracy: 42.61%\n",
      "INFO:root:Test Loss: 1.684160521030426 \n",
      "\n",
      " 63%|██████▎   | 63/100 [18:36<10:32, 17.11s/it]"
     ]
    },
    {
     "name": "stdout",
     "output_type": "stream",
     "text": [
      "[542, 1798, 690, 15, 267, 2575, 796, 590, 209, 470]\n"
     ]
    },
    {
     "name": "stderr",
     "output_type": "stream",
     "text": [
      "INFO:root: \n",
      "Avg Training Stats after 64 global rounds:\n",
      "INFO:root:Train Accuracy: 0.00%\n",
      "INFO:root:Training Loss : 0.3054081439760162\n",
      "INFO:root:Test Accuracy: 42.83%\n",
      "INFO:root:Test Loss: 1.7446379840373993 \n",
      "\n",
      " 64%|██████▍   | 64/100 [18:51<09:57, 16.59s/it]"
     ]
    },
    {
     "name": "stdout",
     "output_type": "stream",
     "text": [
      "[87, 267, 286, 1053, 303, 796, 40, 173, 19, 327]\n"
     ]
    },
    {
     "name": "stderr",
     "output_type": "stream",
     "text": [
      "INFO:root: \n",
      "Avg Training Stats after 65 global rounds:\n",
      "INFO:root:Train Accuracy: 0.00%\n",
      "INFO:root:Training Loss : 0.3645795188732865\n",
      "INFO:root:Test Accuracy: 36.12%\n",
      "INFO:root:Test Loss: 2.0072037890553474 \n",
      "\n",
      " 65%|██████▌   | 65/100 [19:02<08:44, 14.98s/it]"
     ]
    },
    {
     "name": "stdout",
     "output_type": "stream",
     "text": [
      "[813, 542, 106, 123, 4600, 40, 209, 2029, 1736, 2195]\n"
     ]
    },
    {
     "name": "stderr",
     "output_type": "stream",
     "text": [
      "INFO:root: \n",
      "Avg Training Stats after 66 global rounds:\n",
      "INFO:root:Train Accuracy: 0.00%\n",
      "INFO:root:Training Loss : 0.278896550777367\n",
      "INFO:root:Test Accuracy: 48.96%\n",
      "INFO:root:Test Loss: 1.4498003280162812 \n",
      "\n",
      " 66%|██████▌   | 66/100 [19:22<09:19, 16.47s/it]"
     ]
    },
    {
     "name": "stdout",
     "output_type": "stream",
     "text": [
      "[1416, 1320, 201, 744, 2934, 447, 278, 2430, 1018, 2274]\n"
     ]
    },
    {
     "name": "stderr",
     "output_type": "stream",
     "text": [
      "INFO:root: \n",
      "Avg Training Stats after 67 global rounds:\n",
      "INFO:root:Train Accuracy: 0.00%\n",
      "INFO:root:Training Loss : 0.24984221010104624\n",
      "INFO:root:Test Accuracy: 45.06%\n",
      "INFO:root:Test Loss: 1.5593882571160793 \n",
      "\n",
      " 67%|██████▋   | 67/100 [19:42<09:36, 17.46s/it]"
     ]
    },
    {
     "name": "stdout",
     "output_type": "stream",
     "text": [
      "[303, 1012, 470, 123, 106, 201, 87, 1736, 2934, 2575]\n"
     ]
    },
    {
     "name": "stderr",
     "output_type": "stream",
     "text": [
      "INFO:root: \n",
      "Avg Training Stats after 68 global rounds:\n",
      "INFO:root:Train Accuracy: 0.00%\n",
      "INFO:root:Training Loss : 0.17298230474642445\n",
      "INFO:root:Test Accuracy: 31.14%\n",
      "INFO:root:Test Loss: 1.9821280682086944 \n",
      "\n",
      " 68%|██████▊   | 68/100 [19:59<09:12, 17.27s/it]"
     ]
    },
    {
     "name": "stdout",
     "output_type": "stream",
     "text": [
      "[3195, 794, 690, 2029, 231, 1756, 1112, 1736, 201, 813]\n"
     ]
    },
    {
     "name": "stderr",
     "output_type": "stream",
     "text": [
      "INFO:root: \n",
      "Avg Training Stats after 69 global rounds:\n",
      "INFO:root:Train Accuracy: 0.00%\n",
      "INFO:root:Training Loss : 0.16494843827267477\n",
      "INFO:root:Test Accuracy: 41.81%\n",
      "INFO:root:Test Loss: 1.6838062287867068 \n",
      "\n",
      " 69%|██████▉   | 69/100 [20:18<09:15, 17.92s/it]"
     ]
    },
    {
     "name": "stdout",
     "output_type": "stream",
     "text": [
      "[106, 40, 278, 422, 470, 2029, 2934, 744, 2274, 327]\n"
     ]
    },
    {
     "name": "stderr",
     "output_type": "stream",
     "text": [
      "INFO:root: \n",
      "Avg Training Stats after 70 global rounds:\n",
      "INFO:root:Train Accuracy: 0.00%\n",
      "INFO:root:Training Loss : 0.211527025049374\n",
      "INFO:root:Test Accuracy: 38.06%\n",
      "INFO:root:Test Loss: 1.938322004377842 \n",
      "\n",
      " 70%|███████   | 70/100 [20:35<08:47, 17.59s/it]"
     ]
    },
    {
     "name": "stdout",
     "output_type": "stream",
     "text": [
      "[3195, 267, 303, 173, 286, 2029, 422, 1012, 796, 106]\n"
     ]
    },
    {
     "name": "stderr",
     "output_type": "stream",
     "text": [
      "INFO:root: \n",
      "Avg Training Stats after 71 global rounds:\n",
      "INFO:root:Train Accuracy: 0.00%\n",
      "INFO:root:Training Loss : 0.2558790093812567\n",
      "INFO:root:Test Accuracy: 40.09%\n",
      "INFO:root:Test Loss: 1.815905257463455 \n",
      "\n",
      " 71%|███████   | 71/100 [20:51<08:14, 17.05s/it]"
     ]
    },
    {
     "name": "stdout",
     "output_type": "stream",
     "text": [
      "[209, 40, 4600, 106, 123, 1012, 690, 542, 602, 2575]\n"
     ]
    },
    {
     "name": "stderr",
     "output_type": "stream",
     "text": [
      "INFO:root: \n",
      "Avg Training Stats after 72 global rounds:\n",
      "INFO:root:Train Accuracy: 0.00%\n",
      "INFO:root:Training Loss : 0.223698573305739\n",
      "INFO:root:Test Accuracy: 38.70%\n",
      "INFO:root:Test Loss: 1.8914641140401363 \n",
      "\n",
      " 72%|███████▏  | 72/100 [21:09<08:02, 17.24s/it]"
     ]
    },
    {
     "name": "stdout",
     "output_type": "stream",
     "text": [
      "[1012, 2430, 2274, 209, 1798, 303, 1112, 231, 744, 278]\n"
     ]
    },
    {
     "name": "stderr",
     "output_type": "stream",
     "text": [
      "INFO:root: \n",
      "Avg Training Stats after 73 global rounds:\n",
      "INFO:root:Train Accuracy: 0.00%\n",
      "INFO:root:Training Loss : 0.18554938899038448\n",
      "INFO:root:Test Accuracy: 42.42%\n",
      "INFO:root:Test Loss: 1.62251569904387 \n",
      "\n",
      " 73%|███████▎  | 73/100 [21:27<07:51, 17.45s/it]"
     ]
    },
    {
     "name": "stdout",
     "output_type": "stream",
     "text": [
      "[447, 1320, 209, 327, 744, 1018, 231, 2430, 590, 602]\n"
     ]
    },
    {
     "name": "stderr",
     "output_type": "stream",
     "text": [
      "INFO:root: \n",
      "Avg Training Stats after 74 global rounds:\n",
      "INFO:root:Train Accuracy: 0.00%\n",
      "INFO:root:Training Loss : 0.2743669749161094\n",
      "INFO:root:Test Accuracy: 49.43%\n",
      "INFO:root:Test Loss: 1.4293652132153511 \n",
      "\n",
      " 74%|███████▍  | 74/100 [21:43<07:23, 17.07s/it]"
     ]
    },
    {
     "name": "stdout",
     "output_type": "stream",
     "text": [
      "[470, 1053, 303, 1012, 106, 3195, 447, 1112, 201, 1433]\n"
     ]
    },
    {
     "name": "stderr",
     "output_type": "stream",
     "text": [
      "INFO:root: \n",
      "Avg Training Stats after 75 global rounds:\n",
      "INFO:root:Train Accuracy: 0.00%\n",
      "INFO:root:Training Loss : 0.13810539673390237\n",
      "INFO:root:Test Accuracy: 39.53%\n",
      "INFO:root:Test Loss: 1.696176968663931 \n",
      "\n",
      " 75%|███████▌  | 75/100 [22:00<07:06, 17.04s/it]"
     ]
    },
    {
     "name": "stdout",
     "output_type": "stream",
     "text": [
      "[231, 1433, 431, 209, 1416, 1780, 116, 123, 422, 4600]\n"
     ]
    },
    {
     "name": "stderr",
     "output_type": "stream",
     "text": [
      "INFO:root: \n",
      "Avg Training Stats after 76 global rounds:\n",
      "INFO:root:Train Accuracy: 0.00%\n",
      "INFO:root:Training Loss : 0.3908653698736489\n",
      "INFO:root:Test Accuracy: 41.83%\n",
      "INFO:root:Test Loss: 1.5894947551190852 \n",
      "\n",
      " 76%|███████▌  | 76/100 [22:18<06:58, 17.44s/it]"
     ]
    },
    {
     "name": "stdout",
     "output_type": "stream",
     "text": [
      "[2575, 796, 1053, 267, 602, 1018, 201, 1756, 286, 2430]\n"
     ]
    },
    {
     "name": "stderr",
     "output_type": "stream",
     "text": [
      "INFO:root: \n",
      "Avg Training Stats after 77 global rounds:\n",
      "INFO:root:Train Accuracy: 0.00%\n",
      "INFO:root:Training Loss : 0.2535630028949577\n",
      "INFO:root:Test Accuracy: 52.66%\n",
      "INFO:root:Test Loss: 1.2968316286802293 \n",
      "\n",
      " 77%|███████▋  | 77/100 [22:36<06:46, 17.69s/it]"
     ]
    },
    {
     "name": "stdout",
     "output_type": "stream",
     "text": [
      "[15, 2029, 2274, 744, 1018, 1736, 2934, 19, 173, 447]\n"
     ]
    },
    {
     "name": "stderr",
     "output_type": "stream",
     "text": [
      "INFO:root: \n",
      "Avg Training Stats after 78 global rounds:\n",
      "INFO:root:Train Accuracy: 0.00%\n",
      "INFO:root:Training Loss : 0.3044826152389432\n",
      "INFO:root:Test Accuracy: 42.71%\n",
      "INFO:root:Test Loss: 1.6339696431159973 \n",
      "\n",
      " 78%|███████▊  | 78/100 [22:55<06:37, 18.07s/it]"
     ]
    },
    {
     "name": "stdout",
     "output_type": "stream",
     "text": [
      "[542, 602, 173, 201, 590, 690, 422, 2934, 1736, 744]\n"
     ]
    },
    {
     "name": "stderr",
     "output_type": "stream",
     "text": [
      "INFO:root: \n",
      "Avg Training Stats after 79 global rounds:\n",
      "INFO:root:Train Accuracy: 0.00%\n",
      "INFO:root:Training Loss : 0.3056052611805953\n",
      "INFO:root:Test Accuracy: 39.73%\n",
      "INFO:root:Test Loss: 1.7110159467160702 \n",
      "\n",
      " 79%|███████▉  | 79/100 [23:12<06:08, 17.55s/it]"
     ]
    },
    {
     "name": "stdout",
     "output_type": "stream",
     "text": [
      "[201, 278, 40, 1112, 106, 690, 2029, 87, 796, 3195]\n"
     ]
    },
    {
     "name": "stderr",
     "output_type": "stream",
     "text": [
      "INFO:root: \n",
      "Avg Training Stats after 80 global rounds:\n",
      "INFO:root:Train Accuracy: 0.00%\n",
      "INFO:root:Training Loss : 0.16036668181487373\n",
      "INFO:root:Test Accuracy: 43.52%\n",
      "INFO:root:Test Loss: 1.6326976001262665 \n",
      "\n",
      " 80%|████████  | 80/100 [23:28<05:40, 17.01s/it]"
     ]
    },
    {
     "name": "stdout",
     "output_type": "stream",
     "text": [
      "[1798, 15, 201, 123, 1433, 542, 1119, 690, 602, 40]\n"
     ]
    },
    {
     "name": "stderr",
     "output_type": "stream",
     "text": [
      "INFO:root: \n",
      "Avg Training Stats after 81 global rounds:\n",
      "INFO:root:Train Accuracy: 0.00%\n",
      "INFO:root:Training Loss : 0.2644294059415724\n",
      "INFO:root:Test Accuracy: 47.85%\n",
      "INFO:root:Test Loss: 1.504429686665535 \n",
      "\n",
      " 81%|████████  | 81/100 [23:42<05:05, 16.10s/it]"
     ]
    },
    {
     "name": "stdout",
     "output_type": "stream",
     "text": [
      "[267, 542, 209, 796, 87, 3195, 231, 303, 2934, 1119]\n"
     ]
    },
    {
     "name": "stderr",
     "output_type": "stream",
     "text": [
      "INFO:root: \n",
      "Avg Training Stats after 82 global rounds:\n",
      "INFO:root:Train Accuracy: 0.00%\n",
      "INFO:root:Training Loss : 0.22066693888872937\n",
      "INFO:root:Test Accuracy: 36.51%\n",
      "INFO:root:Test Loss: 1.843310305327177 \n",
      "\n",
      " 82%|████████▏ | 82/100 [23:58<04:53, 16.32s/it]"
     ]
    },
    {
     "name": "stdout",
     "output_type": "stream",
     "text": [
      "[690, 431, 422, 231, 4600, 2934, 2029, 327, 796, 590]\n"
     ]
    },
    {
     "name": "stderr",
     "output_type": "stream",
     "text": [
      "INFO:root: \n",
      "Avg Training Stats after 83 global rounds:\n",
      "INFO:root:Train Accuracy: 0.00%\n",
      "INFO:root:Training Loss : 0.23241667627360724\n",
      "INFO:root:Test Accuracy: 49.59%\n",
      "INFO:root:Test Loss: 1.4211101272702218 \n",
      "\n",
      " 83%|████████▎ | 83/100 [24:18<04:56, 17.45s/it]"
     ]
    },
    {
     "name": "stdout",
     "output_type": "stream",
     "text": [
      "[231, 1112, 87, 303, 690, 796, 2195, 813, 327, 1018]\n"
     ]
    },
    {
     "name": "stderr",
     "output_type": "stream",
     "text": [
      "INFO:root: \n",
      "Avg Training Stats after 84 global rounds:\n",
      "INFO:root:Train Accuracy: 0.00%\n",
      "INFO:root:Training Loss : 0.20519059724295552\n",
      "INFO:root:Test Accuracy: 32.66%\n",
      "INFO:root:Test Loss: 2.0032908746600153 \n",
      "\n",
      " 84%|████████▍ | 84/100 [24:33<04:27, 16.70s/it]"
     ]
    },
    {
     "name": "stdout",
     "output_type": "stream",
     "text": [
      "[602, 1018, 542, 106, 794, 447, 2029, 1433, 327, 690]\n"
     ]
    },
    {
     "name": "stderr",
     "output_type": "stream",
     "text": [
      "INFO:root: \n",
      "Avg Training Stats after 85 global rounds:\n",
      "INFO:root:Train Accuracy: 0.00%\n",
      "INFO:root:Training Loss : 0.23754151190942413\n",
      "INFO:root:Test Accuracy: 40.68%\n",
      "INFO:root:Test Loss: 1.6315999674797057 \n",
      "\n",
      " 85%|████████▌ | 85/100 [24:49<04:04, 16.31s/it]"
     ]
    },
    {
     "name": "stdout",
     "output_type": "stream",
     "text": [
      "[1433, 267, 447, 1012, 470, 201, 231, 15, 278, 1736]\n"
     ]
    },
    {
     "name": "stderr",
     "output_type": "stream",
     "text": [
      "INFO:root: \n",
      "Avg Training Stats after 86 global rounds:\n",
      "INFO:root:Train Accuracy: 0.00%\n",
      "INFO:root:Training Loss : 0.2979569662653746\n",
      "INFO:root:Test Accuracy: 38.40%\n",
      "INFO:root:Test Loss: 1.7885365971922875 \n",
      "\n",
      " 86%|████████▌ | 86/100 [25:02<03:37, 15.51s/it]"
     ]
    },
    {
     "name": "stdout",
     "output_type": "stream",
     "text": [
      "[40, 1053, 231, 286, 106, 2274, 470, 1119, 447, 1416]\n"
     ]
    },
    {
     "name": "stderr",
     "output_type": "stream",
     "text": [
      "INFO:root: \n",
      "Avg Training Stats after 87 global rounds:\n",
      "INFO:root:Train Accuracy: 0.00%\n",
      "INFO:root:Training Loss : 0.212895187294603\n",
      "INFO:root:Test Accuracy: 35.67%\n",
      "INFO:root:Test Loss: 2.302667379323393 \n",
      "\n",
      " 87%|████████▋ | 87/100 [25:17<03:19, 15.33s/it]"
     ]
    },
    {
     "name": "stdout",
     "output_type": "stream",
     "text": [
      "[209, 2029, 231, 278, 1320, 862, 2195, 690, 1736, 106]\n"
     ]
    },
    {
     "name": "stderr",
     "output_type": "stream",
     "text": [
      "INFO:root: \n",
      "Avg Training Stats after 88 global rounds:\n",
      "INFO:root:Train Accuracy: 0.00%\n",
      "INFO:root:Training Loss : 0.23791330191212126\n",
      "INFO:root:Test Accuracy: 43.86%\n",
      "INFO:root:Test Loss: 1.594855508506298 \n",
      "\n",
      " 88%|████████▊ | 88/100 [25:34<03:09, 15.76s/it]"
     ]
    },
    {
     "name": "stdout",
     "output_type": "stream",
     "text": [
      "[2430, 201, 2195, 2575, 123, 602, 116, 794, 4600, 690]\n"
     ]
    },
    {
     "name": "stderr",
     "output_type": "stream",
     "text": [
      "INFO:root: \n",
      "Avg Training Stats after 89 global rounds:\n",
      "INFO:root:Train Accuracy: 0.00%\n",
      "INFO:root:Training Loss : 0.25878127182512406\n",
      "INFO:root:Test Accuracy: 51.47%\n",
      "INFO:root:Test Loss: 1.3718176484107971 \n",
      "\n",
      " 89%|████████▉ | 89/100 [25:55<03:10, 17.28s/it]"
     ]
    },
    {
     "name": "stdout",
     "output_type": "stream",
     "text": [
      "[470, 303, 278, 87, 1119, 2274, 1780, 19, 4600, 602]\n"
     ]
    },
    {
     "name": "stderr",
     "output_type": "stream",
     "text": [
      "INFO:root: \n",
      "Avg Training Stats after 90 global rounds:\n",
      "INFO:root:Train Accuracy: 0.00%\n",
      "INFO:root:Training Loss : 0.17571045093659216\n",
      "INFO:root:Test Accuracy: 41.75%\n",
      "INFO:root:Test Loss: 1.7709028415381909 \n",
      "\n",
      " 90%|█████████ | 90/100 [26:14<02:57, 17.73s/it]"
     ]
    },
    {
     "name": "stdout",
     "output_type": "stream",
     "text": [
      "[2575, 602, 2029, 327, 209, 4600, 2274, 1756, 431, 1112]\n"
     ]
    },
    {
     "name": "stderr",
     "output_type": "stream",
     "text": [
      "INFO:root: \n",
      "Avg Training Stats after 91 global rounds:\n",
      "INFO:root:Train Accuracy: 0.00%\n",
      "INFO:root:Training Loss : 0.2019751840209969\n",
      "INFO:root:Test Accuracy: 50.34%\n",
      "INFO:root:Test Loss: 1.389375734180212 \n",
      "\n",
      " 91%|█████████ | 91/100 [26:36<02:52, 19.13s/it]"
     ]
    },
    {
     "name": "stdout",
     "output_type": "stream",
     "text": [
      "[2195, 267, 813, 286, 3195, 470, 231, 278, 1012, 231]\n"
     ]
    },
    {
     "name": "stderr",
     "output_type": "stream",
     "text": [
      "INFO:root: \n",
      "Avg Training Stats after 92 global rounds:\n",
      "INFO:root:Train Accuracy: 0.00%\n",
      "INFO:root:Training Loss : 0.20572283372118938\n",
      "INFO:root:Test Accuracy: 38.72%\n",
      "INFO:root:Test Loss: 1.8886584064364433 \n",
      "\n",
      " 92%|█████████▏| 92/100 [26:52<02:26, 18.26s/it]"
     ]
    },
    {
     "name": "stdout",
     "output_type": "stream",
     "text": [
      "[1053, 2575, 303, 2430, 542, 116, 1756, 1433, 327, 15]\n"
     ]
    },
    {
     "name": "stderr",
     "output_type": "stream",
     "text": [
      "INFO:root: \n",
      "Avg Training Stats after 93 global rounds:\n",
      "INFO:root:Train Accuracy: 0.00%\n",
      "INFO:root:Training Loss : 0.3544558572009257\n",
      "INFO:root:Test Accuracy: 48.24%\n",
      "INFO:root:Test Loss: 1.4051672983169556 \n",
      "\n",
      " 93%|█████████▎| 93/100 [27:10<02:07, 18.21s/it]"
     ]
    },
    {
     "name": "stdout",
     "output_type": "stream",
     "text": [
      "[590, 4600, 201, 286, 303, 1736, 15, 1798, 744, 422]\n"
     ]
    },
    {
     "name": "stderr",
     "output_type": "stream",
     "text": [
      "INFO:root: \n",
      "Avg Training Stats after 94 global rounds:\n",
      "INFO:root:Train Accuracy: 0.00%\n",
      "INFO:root:Training Loss : 0.2608414318706426\n",
      "INFO:root:Test Accuracy: 43.68%\n",
      "INFO:root:Test Loss: 1.7074445254728199 \n",
      "\n",
      " 94%|█████████▍| 94/100 [27:28<01:48, 18.06s/it]"
     ]
    },
    {
     "name": "stdout",
     "output_type": "stream",
     "text": [
      "[123, 862, 542, 19, 794, 1112, 4600, 2934, 231, 15]\n"
     ]
    },
    {
     "name": "stderr",
     "output_type": "stream",
     "text": [
      "INFO:root: \n",
      "Avg Training Stats after 95 global rounds:\n",
      "INFO:root:Train Accuracy: 0.00%\n",
      "INFO:root:Training Loss : 0.36972405221289484\n",
      "INFO:root:Test Accuracy: 45.52%\n",
      "INFO:root:Test Loss: 1.5717174717783928 \n",
      "\n",
      " 95%|█████████▌| 95/100 [27:46<01:30, 18.11s/it]"
     ]
    },
    {
     "name": "stdout",
     "output_type": "stream",
     "text": [
      "[1053, 87, 2575, 4600, 542, 231, 1433, 1012, 2029, 862]\n"
     ]
    },
    {
     "name": "stderr",
     "output_type": "stream",
     "text": [
      "INFO:root: \n",
      "Avg Training Stats after 96 global rounds:\n",
      "INFO:root:Train Accuracy: 0.00%\n",
      "INFO:root:Training Loss : 0.18848862711797912\n",
      "INFO:root:Test Accuracy: 51.70%\n",
      "INFO:root:Test Loss: 1.3390881833434105 \n",
      "\n",
      " 96%|█████████▌| 96/100 [28:08<01:16, 19.21s/it]"
     ]
    },
    {
     "name": "stdout",
     "output_type": "stream",
     "text": [
      "[19, 602, 40, 690, 267, 231, 173, 2029, 1798, 3195]\n"
     ]
    },
    {
     "name": "stderr",
     "output_type": "stream",
     "text": [
      "INFO:root: \n",
      "Avg Training Stats after 97 global rounds:\n",
      "INFO:root:Train Accuracy: 0.00%\n",
      "INFO:root:Training Loss : 0.28481856801827043\n",
      "INFO:root:Test Accuracy: 43.96%\n",
      "INFO:root:Test Loss: 1.613057509958744 \n",
      "\n",
      " 97%|█████████▋| 97/100 [28:24<00:55, 18.36s/it]"
     ]
    },
    {
     "name": "stdout",
     "output_type": "stream",
     "text": [
      "[209, 1012, 422, 40, 794, 4600, 116, 286, 303, 1756]\n"
     ]
    },
    {
     "name": "stderr",
     "output_type": "stream",
     "text": [
      "INFO:root: \n",
      "Avg Training Stats after 98 global rounds:\n",
      "INFO:root:Train Accuracy: 0.00%\n",
      "INFO:root:Training Loss : 0.2187334594100662\n",
      "INFO:root:Test Accuracy: 40.95%\n",
      "INFO:root:Test Loss: 1.9931005848199128 \n",
      "\n",
      " 98%|█████████▊| 98/100 [28:41<00:35, 17.95s/it]"
     ]
    },
    {
     "name": "stdout",
     "output_type": "stream",
     "text": [
      "[2274, 1736, 173, 1416, 447, 19, 2195, 2029, 862, 744]\n"
     ]
    },
    {
     "name": "stderr",
     "output_type": "stream",
     "text": [
      "INFO:root: \n",
      "Avg Training Stats after 99 global rounds:\n",
      "INFO:root:Train Accuracy: 0.00%\n",
      "INFO:root:Training Loss : 0.3562514282580688\n",
      "INFO:root:Test Accuracy: 45.06%\n",
      "INFO:root:Test Loss: 1.5989386266469956 \n",
      "\n",
      " 99%|█████████▉| 99/100 [29:00<00:18, 18.27s/it]"
     ]
    },
    {
     "name": "stdout",
     "output_type": "stream",
     "text": [
      "[431, 1798, 1736, 744, 19, 278, 690, 590, 116, 40]\n"
     ]
    },
    {
     "name": "stderr",
     "output_type": "stream",
     "text": [
      "INFO:root: \n",
      "Avg Training Stats after 100 global rounds:\n",
      "INFO:root:Train Accuracy: 0.00%\n",
      "INFO:root:Training Loss : 0.25763812197526\n",
      "INFO:root:Test Accuracy: 51.27%\n",
      "INFO:root:Test Loss: 1.4402697950601577 \n",
      "\n",
      "100%|██████████| 100/100 [29:15<00:00, 17.55s/it]\n",
      "INFO:root: \n",
      " Results after 100 global rounds of training:\n",
      "INFO:root:|---- Best Test Accuracy: 52.66% , round: 76\n"
     ]
    },
    {
     "name": "stdout",
     "output_type": "stream",
     "text": [
      " Saving checkpoints to ../save/checkpoint/ConvNet_1207/cifar10_ConvNet_none_T[100]_C[0.2]_iid[0]_E[5]_B[32]_GPU[0]_Pruned[0.0]...\n"
     ]
    }
   ],
   "source": [
    " args = easydict.EasyDict({\n",
    "    \"model\": 'ConvNet',\n",
    "    'dataset': 'cifar10',\n",
    "    'gpu': 0,\n",
    "    'iid': 0,\n",
    "    'epochs': 100,\n",
    "    'optimizer': 'sgd',\n",
    "    'seed': 0,\n",
    "    'norm': 'none',\n",
    "    'num_users': 50,\n",
    "    'frac': 0.2,\n",
    "    'local_ep': 5, \n",
    "    'local_bs': 32,\n",
    "    'lr': 0.01,\n",
    "    'momentum': 1,\n",
    "    'kernel_num': 9,\n",
    "    'kernel_sizes': 'only_momentum',\n",
    "    'num_channnels': '1',\n",
    "    'num_filters': 32,\n",
    "    'max_pool': 'True',\n",
    "    'num_classes': 10,\n",
    "    'unequal': 0,\n",
    "    'stopping_rounds': 0,\n",
    "    'verbose': 0,\n",
    "    'hold_normalize': 0,\n",
    "    'save_path': '../save/checkpoint',\n",
    "    'exp_folder': 'ConvNet_1207',\n",
    "    'resume': None,\n",
    "    'server_opt': 'sgd',\n",
    "    'server_lr': 1.0,\n",
    "    'client_decay':0,\n",
    "    'local_decay':0,\n",
    "    'alpha': 0.05,\n",
    "    'server_epoch':0,\n",
    "    'cosine_norm':0, \n",
    "    'only_fc' :0 ,\n",
    "    'loss':'ce',\n",
    "    'dc_lr':0.0,\n",
    "    'tsne_pred':0,\n",
    "    'pruning': 0.0 })\n",
    "    \n",
    "    \n",
    "    \n",
    "temp = main_test(args)\n",
    "total.append(temp)"
   ]
  },
  {
   "cell_type": "code",
   "execution_count": 3,
   "id": "future-jimmy",
   "metadata": {},
   "outputs": [
    {
     "name": "stderr",
     "output_type": "stream",
     "text": [
      "INFO:root:{'model': 'ConvNet', 'dataset': 'cifar10', 'gpu': 0, 'iid': 0, 'epochs': 100, 'optimizer': 'sgd', 'seed': 0, 'norm': 'none', 'num_users': 50, 'frac': 0.2, 'local_ep': 5, 'local_bs': 32, 'lr': 0.01, 'momentum': 1, 'kernel_num': 9, 'kernel_sizes': 'only_momentum', 'num_channnels': '1', 'num_filters': 32, 'max_pool': 'True', 'num_classes': 10, 'unequal': 0, 'stopping_rounds': 0, 'verbose': 0, 'hold_normalize': 0, 'save_path': '../save/checkpoint/ConvNet_1207', 'exp_folder': 'ConvNet_1207', 'resume': None, 'server_opt': 'sgdm', 'server_lr': 1.0, 'client_decay': 0, 'local_decay': 0, 'alpha': 0.05, 'server_epoch': 0, 'cosine_norm': 0, 'only_fc': 0, 'loss': 'ce', 'dc_lr': 0.0, 'tsne_pred': 0, 'pruning': 0.0}\n"
     ]
    },
    {
     "name": "stdout",
     "output_type": "stream",
     "text": [
      "Files already downloaded and verified\n",
      "Files already downloaded and verified\n",
      "Files already downloaded and verified\n"
     ]
    },
    {
     "name": "stderr",
     "output_type": "stream",
     "text": [
      "INFO:root:ConvNet(\n",
      "  (net_act): ReLU(inplace=True)\n",
      "  (net_pooling): MaxPool2d(kernel_size=2, stride=2, padding=0, dilation=1, ceil_mode=False)\n",
      "  (features): Sequential(\n",
      "    (0): Conv2d(3, 128, kernel_size=(3, 3), stride=(1, 1), padding=(1, 1))\n",
      "    (1): ReLU(inplace=True)\n",
      "    (2): MaxPool2d(kernel_size=2, stride=2, padding=0, dilation=1, ceil_mode=False)\n",
      "    (3): Conv2d(128, 128, kernel_size=(3, 3), stride=(1, 1), padding=(1, 1))\n",
      "    (4): ReLU(inplace=True)\n",
      "    (5): MaxPool2d(kernel_size=2, stride=2, padding=0, dilation=1, ceil_mode=False)\n",
      "    (6): Conv2d(128, 128, kernel_size=(3, 3), stride=(1, 1), padding=(1, 1))\n",
      "    (7): ReLU(inplace=True)\n",
      "    (8): MaxPool2d(kernel_size=2, stride=2, padding=0, dilation=1, ceil_mode=False)\n",
      "  )\n",
      "  (classifier): Linear(in_features=2048, out_features=10, bias=True)\n",
      ")\n",
      "INFO:root:None\n",
      "  0%|          | 0/100 [00:00<?, ?it/s]"
     ]
    },
    {
     "name": "stdout",
     "output_type": "stream",
     "text": [
      "----------------------------------------------------------------\n",
      "        Layer (type)               Output Shape         Param #\n",
      "================================================================\n",
      "            Conv2d-1          [-1, 128, 32, 32]           3,584\n",
      "              ReLU-2          [-1, 128, 32, 32]               0\n",
      "              ReLU-3          [-1, 128, 32, 32]               0\n",
      "         MaxPool2d-4          [-1, 128, 16, 16]               0\n",
      "         MaxPool2d-5          [-1, 128, 16, 16]               0\n",
      "            Conv2d-6          [-1, 128, 16, 16]         147,584\n",
      "              ReLU-7          [-1, 128, 16, 16]               0\n",
      "              ReLU-8          [-1, 128, 16, 16]               0\n",
      "         MaxPool2d-9            [-1, 128, 8, 8]               0\n",
      "        MaxPool2d-10            [-1, 128, 8, 8]               0\n",
      "           Conv2d-11            [-1, 128, 8, 8]         147,584\n",
      "             ReLU-12            [-1, 128, 8, 8]               0\n",
      "             ReLU-13            [-1, 128, 8, 8]               0\n",
      "        MaxPool2d-14            [-1, 128, 4, 4]               0\n",
      "        MaxPool2d-15            [-1, 128, 4, 4]               0\n",
      "           Linear-16                   [-1, 10]          20,490\n",
      "================================================================\n",
      "Total params: 319,242\n",
      "Trainable params: 319,242\n",
      "Non-trainable params: 0\n",
      "----------------------------------------------------------------\n",
      "Input size (MB): 0.01\n",
      "Forward/backward pass size (MB): 4.59\n",
      "Params size (MB): 1.22\n",
      "Estimated Total Size (MB): 5.82\n",
      "----------------------------------------------------------------\n",
      "[209, 1756, 422, 2575, 1018, 602, 2274, 447, 744, 1112, 123, 87, 1433, 1416, 40, 1119, 796, 794, 327, 470, 231, 813, 1320, 542, 690, 2195, 2934, 106, 1012, 15, 278, 1798, 303, 590, 2029, 201, 1053, 862, 231, 116, 4600, 19, 286, 1736, 2430, 431, 3195, 1780, 173, 267]\n",
      "[470, 2934, 201, 231, 2575, 744, 15, 123, 1119, 4600]\n"
     ]
    },
    {
     "name": "stderr",
     "output_type": "stream",
     "text": [
      "INFO:root: \n",
      "Avg Training Stats after 1 global rounds:\n",
      "INFO:root:Train Accuracy: 0.00%\n",
      "INFO:root:Training Loss : 0.46465974690754824\n",
      "INFO:root:Test Accuracy: 11.05%\n",
      "INFO:root:Test Loss: 2.601387382745743 \n",
      "\n",
      "  1%|          | 1/100 [00:20<33:18, 20.19s/it]"
     ]
    },
    {
     "name": "stdout",
     "output_type": "stream",
     "text": [
      "[231, 173, 2575, 1736, 2430, 123, 4600, 690, 1012, 447]\n"
     ]
    },
    {
     "name": "stderr",
     "output_type": "stream",
     "text": [
      "INFO:root: \n",
      "Avg Training Stats after 2 global rounds:\n",
      "INFO:root:Train Accuracy: 0.00%\n",
      "INFO:root:Training Loss : 0.5399401452261994\n",
      "INFO:root:Test Accuracy: 10.99%\n",
      "INFO:root:Test Loss: 7.132175648789853 \n",
      "\n",
      "  2%|▏         | 2/100 [00:40<33:31, 20.53s/it]"
     ]
    },
    {
     "name": "stdout",
     "output_type": "stream",
     "text": [
      "[744, 2575, 1320, 470, 2430, 2274, 267, 690, 209, 303]\n"
     ]
    },
    {
     "name": "stderr",
     "output_type": "stream",
     "text": [
      "INFO:root: \n",
      "Avg Training Stats after 3 global rounds:\n",
      "INFO:root:Train Accuracy: 0.00%\n",
      "INFO:root:Training Loss : 0.46495709948343816\n",
      "INFO:root:Test Accuracy: 21.60%\n",
      "INFO:root:Test Loss: 5.84401625007391 \n",
      "\n",
      "  3%|▎         | 3/100 [00:59<31:39, 19.58s/it]"
     ]
    },
    {
     "name": "stdout",
     "output_type": "stream",
     "text": [
      "[173, 690, 542, 1012, 2195, 1780, 1053, 87, 2934, 1736]\n"
     ]
    },
    {
     "name": "stderr",
     "output_type": "stream",
     "text": [
      "INFO:root: \n",
      "Avg Training Stats after 4 global rounds:\n",
      "INFO:root:Train Accuracy: 0.00%\n",
      "INFO:root:Training Loss : 0.6469092631177358\n",
      "INFO:root:Test Accuracy: 18.81%\n",
      "INFO:root:Test Loss: 2.496800163388252 \n",
      "\n",
      "  4%|▍         | 4/100 [01:18<31:04, 19.43s/it]"
     ]
    },
    {
     "name": "stdout",
     "output_type": "stream",
     "text": [
      "[2430, 2575, 1736, 123, 15, 1780, 1018, 231, 87, 794]\n"
     ]
    },
    {
     "name": "stderr",
     "output_type": "stream",
     "text": [
      "INFO:root: \n",
      "Avg Training Stats after 5 global rounds:\n",
      "INFO:root:Train Accuracy: 0.00%\n",
      "INFO:root:Training Loss : 0.5188791487305555\n",
      "INFO:root:Test Accuracy: 22.25%\n",
      "INFO:root:Test Loss: 2.883335409760475 \n",
      "\n",
      "  5%|▌         | 5/100 [01:36<29:52, 18.87s/it]"
     ]
    },
    {
     "name": "stdout",
     "output_type": "stream",
     "text": [
      "[1119, 87, 590, 794, 813, 303, 1320, 690, 1018, 422]\n"
     ]
    },
    {
     "name": "stderr",
     "output_type": "stream",
     "text": [
      "INFO:root: \n",
      "Avg Training Stats after 6 global rounds:\n",
      "INFO:root:Train Accuracy: 0.00%\n",
      "INFO:root:Training Loss : 0.3642427175063192\n",
      "INFO:root:Test Accuracy: 18.58%\n",
      "INFO:root:Test Loss: 3.2609813150763514 \n",
      "\n",
      "  6%|▌         | 6/100 [01:51<27:19, 17.44s/it]"
     ]
    },
    {
     "name": "stdout",
     "output_type": "stream",
     "text": [
      "[2029, 1433, 303, 327, 744, 862, 2934, 231, 1416, 278]\n"
     ]
    },
    {
     "name": "stderr",
     "output_type": "stream",
     "text": [
      "INFO:root: \n",
      "Avg Training Stats after 7 global rounds:\n",
      "INFO:root:Train Accuracy: 0.00%\n",
      "INFO:root:Training Loss : 0.45635235335253654\n",
      "INFO:root:Test Accuracy: 20.95%\n",
      "INFO:root:Test Loss: 2.8396935158967973 \n",
      "\n",
      "  7%|▋         | 7/100 [02:08<27:07, 17.50s/it]"
     ]
    },
    {
     "name": "stdout",
     "output_type": "stream",
     "text": [
      "[231, 1112, 327, 744, 286, 422, 15, 1798, 1053, 173]\n"
     ]
    },
    {
     "name": "stderr",
     "output_type": "stream",
     "text": [
      "INFO:root: \n",
      "Avg Training Stats after 8 global rounds:\n",
      "INFO:root:Train Accuracy: 0.00%\n",
      "INFO:root:Training Loss : 0.5014457581243397\n",
      "INFO:root:Test Accuracy: 27.08%\n",
      "INFO:root:Test Loss: 2.4498495936393736 \n",
      "\n",
      "  8%|▊         | 8/100 [02:22<24:58, 16.29s/it]"
     ]
    },
    {
     "name": "stdout",
     "output_type": "stream",
     "text": [
      "[794, 278, 744, 862, 303, 19, 2274, 1053, 813, 1012]\n"
     ]
    },
    {
     "name": "stderr",
     "output_type": "stream",
     "text": [
      "INFO:root: \n",
      "Avg Training Stats after 9 global rounds:\n",
      "INFO:root:Train Accuracy: 0.00%\n",
      "INFO:root:Training Loss : 0.3732779228156028\n",
      "INFO:root:Test Accuracy: 24.94%\n",
      "INFO:root:Test Loss: 3.4071247774362563 \n",
      "\n",
      "  9%|▉         | 9/100 [02:38<24:21, 16.06s/it]"
     ]
    },
    {
     "name": "stdout",
     "output_type": "stream",
     "text": [
      "[1320, 40, 1756, 470, 327, 1012, 862, 1433, 796, 231]\n"
     ]
    },
    {
     "name": "stderr",
     "output_type": "stream",
     "text": [
      "INFO:root: \n",
      "Avg Training Stats after 10 global rounds:\n",
      "INFO:root:Train Accuracy: 0.00%\n",
      "INFO:root:Training Loss : 0.2544768645962907\n",
      "INFO:root:Test Accuracy: 32.04%\n",
      "INFO:root:Test Loss: 2.4435248798131943 \n",
      "\n",
      " 10%|█         | 10/100 [02:53<23:59, 15.99s/it]"
     ]
    },
    {
     "name": "stdout",
     "output_type": "stream",
     "text": [
      "[87, 201, 1798, 813, 123, 2934, 1756, 231, 1053, 4600]\n"
     ]
    },
    {
     "name": "stderr",
     "output_type": "stream",
     "text": [
      "INFO:root: \n",
      "Avg Training Stats after 11 global rounds:\n",
      "INFO:root:Train Accuracy: 0.00%\n",
      "INFO:root:Training Loss : 0.3396815843749254\n",
      "INFO:root:Test Accuracy: 18.68%\n",
      "INFO:root:Test Loss: 3.0022743332386015 \n",
      "\n",
      " 11%|█         | 11/100 [03:14<25:45, 17.36s/it]"
     ]
    },
    {
     "name": "stdout",
     "output_type": "stream",
     "text": [
      "[106, 231, 447, 796, 209, 1798, 1112, 1416, 590, 794]\n"
     ]
    },
    {
     "name": "stderr",
     "output_type": "stream",
     "text": [
      "INFO:root: \n",
      "Avg Training Stats after 12 global rounds:\n",
      "INFO:root:Train Accuracy: 0.00%\n",
      "INFO:root:Training Loss : 0.24047603714734733\n",
      "INFO:root:Test Accuracy: 33.52%\n",
      "INFO:root:Test Loss: 1.9120909512042998 \n",
      "\n",
      " 12%|█▏        | 12/100 [03:29<24:26, 16.66s/it]"
     ]
    },
    {
     "name": "stdout",
     "output_type": "stream",
     "text": [
      "[1320, 278, 862, 2274, 1798, 87, 2029, 796, 1018, 2430]\n"
     ]
    },
    {
     "name": "stderr",
     "output_type": "stream",
     "text": [
      "INFO:root: \n",
      "Avg Training Stats after 13 global rounds:\n",
      "INFO:root:Train Accuracy: 0.00%\n",
      "INFO:root:Training Loss : 0.24870702337195935\n",
      "INFO:root:Test Accuracy: 37.83%\n",
      "INFO:root:Test Loss: 1.882520996928215 \n",
      "\n",
      " 13%|█▎        | 13/100 [03:49<25:31, 17.61s/it]"
     ]
    },
    {
     "name": "stdout",
     "output_type": "stream",
     "text": [
      "[4600, 2575, 590, 173, 2430, 40, 1112, 87, 231, 2195]\n"
     ]
    },
    {
     "name": "stderr",
     "output_type": "stream",
     "text": [
      "INFO:root: \n",
      "Avg Training Stats after 14 global rounds:\n",
      "INFO:root:Train Accuracy: 0.00%\n",
      "INFO:root:Training Loss : 0.32835356896150747\n",
      "INFO:root:Test Accuracy: 35.54%\n",
      "INFO:root:Test Loss: 2.1688733273744583 \n",
      "\n",
      " 14%|█▍        | 14/100 [04:09<26:29, 18.48s/it]"
     ]
    },
    {
     "name": "stdout",
     "output_type": "stream",
     "text": [
      "[231, 794, 1018, 1012, 15, 303, 796, 2274, 1320, 19]\n"
     ]
    },
    {
     "name": "stderr",
     "output_type": "stream",
     "text": [
      "INFO:root: \n",
      "Avg Training Stats after 15 global rounds:\n",
      "INFO:root:Train Accuracy: 0.00%\n",
      "INFO:root:Training Loss : 0.40160442106368566\n",
      "INFO:root:Test Accuracy: 34.14%\n",
      "INFO:root:Test Loss: 2.621304842233658 \n",
      "\n",
      " 15%|█▌        | 15/100 [04:24<24:47, 17.49s/it]"
     ]
    },
    {
     "name": "stdout",
     "output_type": "stream",
     "text": [
      "[2195, 40, 2029, 862, 2575, 1433, 447, 19, 4600, 796]\n"
     ]
    },
    {
     "name": "stderr",
     "output_type": "stream",
     "text": [
      "INFO:root: \n",
      "Avg Training Stats after 16 global rounds:\n",
      "INFO:root:Train Accuracy: 0.00%\n",
      "INFO:root:Training Loss : 0.3494184491954564\n",
      "INFO:root:Test Accuracy: 36.51%\n",
      "INFO:root:Test Loss: 2.405699472427368 \n",
      "\n",
      " 16%|█▌        | 16/100 [04:46<26:10, 18.69s/it]"
     ]
    },
    {
     "name": "stdout",
     "output_type": "stream",
     "text": [
      "[231, 173, 303, 2274, 796, 116, 1798, 447, 106, 1433]\n"
     ]
    },
    {
     "name": "stderr",
     "output_type": "stream",
     "text": [
      "INFO:root: \n",
      "Avg Training Stats after 17 global rounds:\n",
      "INFO:root:Train Accuracy: 0.00%\n",
      "INFO:root:Training Loss : 0.28265169278513913\n",
      "INFO:root:Test Accuracy: 40.77%\n",
      "INFO:root:Test Loss: 1.8531572264432907 \n",
      "\n",
      " 17%|█▋        | 17/100 [05:01<24:25, 17.65s/it]"
     ]
    },
    {
     "name": "stdout",
     "output_type": "stream",
     "text": [
      "[201, 1756, 796, 1320, 813, 542, 116, 173, 794, 1798]\n"
     ]
    },
    {
     "name": "stderr",
     "output_type": "stream",
     "text": [
      "INFO:root: \n",
      "Avg Training Stats after 18 global rounds:\n",
      "INFO:root:Train Accuracy: 0.00%\n",
      "INFO:root:Training Loss : 0.31145256198127735\n",
      "INFO:root:Test Accuracy: 24.36%\n",
      "INFO:root:Test Loss: 2.7017614328861237 \n",
      "\n",
      " 18%|█▊        | 18/100 [05:17<23:16, 17.04s/it]"
     ]
    },
    {
     "name": "stdout",
     "output_type": "stream",
     "text": [
      "[15, 1780, 19, 744, 2575, 173, 813, 40, 1320, 422]\n"
     ]
    },
    {
     "name": "stderr",
     "output_type": "stream",
     "text": [
      "INFO:root: \n",
      "Avg Training Stats after 19 global rounds:\n",
      "INFO:root:Train Accuracy: 0.00%\n",
      "INFO:root:Training Loss : 0.5958149730473914\n",
      "INFO:root:Test Accuracy: 32.79%\n",
      "INFO:root:Test Loss: 2.3769792357087134 \n",
      "\n",
      " 19%|█▉        | 19/100 [05:32<22:12, 16.45s/it]"
     ]
    },
    {
     "name": "stdout",
     "output_type": "stream",
     "text": [
      "[813, 1736, 15, 1433, 267, 470, 3195, 744, 2575, 231]\n"
     ]
    },
    {
     "name": "stderr",
     "output_type": "stream",
     "text": [
      "INFO:root: \n",
      "Avg Training Stats after 20 global rounds:\n",
      "INFO:root:Train Accuracy: 0.00%\n",
      "INFO:root:Training Loss : 0.3465325920897392\n",
      "INFO:root:Test Accuracy: 16.51%\n",
      "INFO:root:Test Loss: 4.837690795715898 \n",
      "\n",
      " 20%|██        | 20/100 [05:50<22:44, 17.06s/it]"
     ]
    },
    {
     "name": "stdout",
     "output_type": "stream",
     "text": [
      "[278, 744, 1053, 447, 1320, 116, 1798, 19, 4600, 3195]\n"
     ]
    },
    {
     "name": "stderr",
     "output_type": "stream",
     "text": [
      "INFO:root: \n",
      "Avg Training Stats after 21 global rounds:\n",
      "INFO:root:Train Accuracy: 0.00%\n",
      "INFO:root:Training Loss : 0.4028239573687239\n",
      "INFO:root:Test Accuracy: 26.17%\n",
      "INFO:root:Test Loss: 3.3095820782333614 \n",
      "\n",
      " 21%|██        | 21/100 [06:10<23:41, 17.99s/it]"
     ]
    },
    {
     "name": "stdout",
     "output_type": "stream",
     "text": [
      "[813, 2029, 602, 590, 1756, 106, 1780, 40, 19, 2934]\n"
     ]
    },
    {
     "name": "stderr",
     "output_type": "stream",
     "text": [
      "INFO:root: \n",
      "Avg Training Stats after 22 global rounds:\n",
      "INFO:root:Train Accuracy: 0.00%\n",
      "INFO:root:Training Loss : 0.2581780214587744\n",
      "INFO:root:Test Accuracy: 30.12%\n",
      "INFO:root:Test Loss: 2.7009689143300055 \n",
      "\n",
      " 22%|██▏       | 22/100 [06:28<23:16, 17.90s/it]"
     ]
    },
    {
     "name": "stdout",
     "output_type": "stream",
     "text": [
      "[40, 862, 327, 1780, 2274, 106, 1053, 1112, 1012, 3195]\n"
     ]
    },
    {
     "name": "stderr",
     "output_type": "stream",
     "text": [
      "INFO:root: \n",
      "Avg Training Stats after 23 global rounds:\n",
      "INFO:root:Train Accuracy: 0.00%\n",
      "INFO:root:Training Loss : 0.26930109133015606\n",
      "INFO:root:Test Accuracy: 34.81%\n",
      "INFO:root:Test Loss: 2.877913099527359 \n",
      "\n",
      " 23%|██▎       | 23/100 [06:47<23:17, 18.14s/it]"
     ]
    },
    {
     "name": "stdout",
     "output_type": "stream",
     "text": [
      "[1320, 1119, 862, 744, 1053, 87, 201, 470, 2274, 1012]\n"
     ]
    },
    {
     "name": "stderr",
     "output_type": "stream",
     "text": [
      "INFO:root: \n",
      "Avg Training Stats after 24 global rounds:\n",
      "INFO:root:Train Accuracy: 0.00%\n",
      "INFO:root:Training Loss : 0.2742111961401062\n",
      "INFO:root:Test Accuracy: 28.92%\n",
      "INFO:root:Test Loss: 4.083748331591487 \n",
      "\n",
      " 24%|██▍       | 24/100 [07:03<22:23, 17.68s/it]"
     ]
    },
    {
     "name": "stdout",
     "output_type": "stream",
     "text": [
      "[447, 286, 1416, 87, 796, 1798, 231, 1119, 431, 2195]\n"
     ]
    },
    {
     "name": "stderr",
     "output_type": "stream",
     "text": [
      "INFO:root: \n",
      "Avg Training Stats after 25 global rounds:\n",
      "INFO:root:Train Accuracy: 0.00%\n",
      "INFO:root:Training Loss : 0.37477442416220164\n",
      "INFO:root:Test Accuracy: 28.34%\n",
      "INFO:root:Test Loss: 3.0550419709086416 \n",
      "\n",
      " 25%|██▌       | 25/100 [07:20<21:31, 17.22s/it]"
     ]
    },
    {
     "name": "stdout",
     "output_type": "stream",
     "text": [
      "[116, 2029, 690, 1416, 1780, 602, 2575, 1756, 431, 87]\n"
     ]
    },
    {
     "name": "stderr",
     "output_type": "stream",
     "text": [
      "INFO:root: \n",
      "Avg Training Stats after 26 global rounds:\n",
      "INFO:root:Train Accuracy: 0.00%\n",
      "INFO:root:Training Loss : 0.3621757406716637\n",
      "INFO:root:Test Accuracy: 35.02%\n",
      "INFO:root:Test Loss: 2.201966370344162 \n",
      "\n",
      " 26%|██▌       | 26/100 [07:38<21:42, 17.60s/it]"
     ]
    },
    {
     "name": "stdout",
     "output_type": "stream",
     "text": [
      "[87, 173, 2029, 19, 4600, 2195, 116, 303, 40, 209]\n"
     ]
    },
    {
     "name": "stderr",
     "output_type": "stream",
     "text": [
      "INFO:root: \n",
      "Avg Training Stats after 27 global rounds:\n",
      "INFO:root:Train Accuracy: 0.00%\n",
      "INFO:root:Training Loss : 0.3909818769024795\n",
      "INFO:root:Test Accuracy: 32.39%\n",
      "INFO:root:Test Loss: 2.5101106435060503 \n",
      "\n",
      " 27%|██▋       | 27/100 [07:55<21:09, 17.39s/it]"
     ]
    },
    {
     "name": "stdout",
     "output_type": "stream",
     "text": [
      "[4600, 267, 794, 231, 201, 231, 2934, 590, 470, 173]\n"
     ]
    },
    {
     "name": "stderr",
     "output_type": "stream",
     "text": [
      "INFO:root: \n",
      "Avg Training Stats after 28 global rounds:\n",
      "INFO:root:Train Accuracy: 0.00%\n",
      "INFO:root:Training Loss : 0.3202141304185762\n",
      "INFO:root:Test Accuracy: 27.98%\n",
      "INFO:root:Test Loss: 3.9261045490205286 \n",
      "\n",
      " 28%|██▊       | 28/100 [08:13<20:56, 17.45s/it]"
     ]
    },
    {
     "name": "stdout",
     "output_type": "stream",
     "text": [
      "[1798, 286, 123, 1112, 303, 796, 744, 1320, 231, 794]\n"
     ]
    },
    {
     "name": "stderr",
     "output_type": "stream",
     "text": [
      "INFO:root: \n",
      "Avg Training Stats after 29 global rounds:\n",
      "INFO:root:Train Accuracy: 0.00%\n",
      "INFO:root:Training Loss : 0.23622016160026177\n",
      "INFO:root:Test Accuracy: 36.61%\n",
      "INFO:root:Test Loss: 2.4748572888970375 \n",
      "\n",
      " 29%|██▉       | 29/100 [08:27<19:44, 16.69s/it]"
     ]
    },
    {
     "name": "stdout",
     "output_type": "stream",
     "text": [
      "[303, 4600, 1119, 447, 744, 40, 1756, 2430, 2029, 602]\n"
     ]
    },
    {
     "name": "stderr",
     "output_type": "stream",
     "text": [
      "INFO:root: \n",
      "Avg Training Stats after 30 global rounds:\n",
      "INFO:root:Train Accuracy: 0.00%\n",
      "INFO:root:Training Loss : 0.19445948979193467\n",
      "INFO:root:Test Accuracy: 47.23%\n",
      "INFO:root:Test Loss: 1.8547401773929595 \n",
      "\n",
      " 30%|███       | 30/100 [08:48<20:56, 17.95s/it]"
     ]
    },
    {
     "name": "stdout",
     "output_type": "stream",
     "text": [
      "[422, 3195, 1112, 327, 123, 1736, 303, 286, 106, 1433]\n"
     ]
    },
    {
     "name": "stderr",
     "output_type": "stream",
     "text": [
      "INFO:root: \n",
      "Avg Training Stats after 31 global rounds:\n",
      "INFO:root:Train Accuracy: 0.00%\n",
      "INFO:root:Training Loss : 0.2552274886294459\n",
      "INFO:root:Test Accuracy: 34.69%\n",
      "INFO:root:Test Loss: 2.4184076629579065 \n",
      "\n",
      " 31%|███       | 31/100 [09:05<20:04, 17.45s/it]"
     ]
    },
    {
     "name": "stdout",
     "output_type": "stream",
     "text": [
      "[862, 173, 422, 303, 123, 1012, 542, 278, 431, 2195]\n"
     ]
    },
    {
     "name": "stderr",
     "output_type": "stream",
     "text": [
      "INFO:root: \n",
      "Avg Training Stats after 32 global rounds:\n",
      "INFO:root:Train Accuracy: 0.00%\n",
      "INFO:root:Training Loss : 0.3655542811172813\n",
      "INFO:root:Test Accuracy: 37.93%\n",
      "INFO:root:Test Loss: 2.688671288192272 \n",
      "\n",
      " 32%|███▏      | 32/100 [09:19<18:37, 16.44s/it]"
     ]
    },
    {
     "name": "stdout",
     "output_type": "stream",
     "text": [
      "[1320, 15, 19, 1756, 231, 470, 267, 87, 862, 327]\n"
     ]
    },
    {
     "name": "stderr",
     "output_type": "stream",
     "text": [
      "INFO:root: \n",
      "Avg Training Stats after 33 global rounds:\n",
      "INFO:root:Train Accuracy: 0.00%\n",
      "INFO:root:Training Loss : 0.47653618726190894\n",
      "INFO:root:Test Accuracy: 35.36%\n",
      "INFO:root:Test Loss: 3.0900007690489293 \n",
      "\n",
      " 33%|███▎      | 33/100 [09:32<17:10, 15.38s/it]"
     ]
    },
    {
     "name": "stdout",
     "output_type": "stream",
     "text": [
      "[87, 267, 796, 1053, 1433, 2575, 1119, 794, 15, 327]\n"
     ]
    },
    {
     "name": "stderr",
     "output_type": "stream",
     "text": [
      "INFO:root: \n",
      "Avg Training Stats after 34 global rounds:\n",
      "INFO:root:Train Accuracy: 0.00%\n",
      "INFO:root:Training Loss : 0.42696723336217596\n",
      "INFO:root:Test Accuracy: 38.00%\n",
      "INFO:root:Test Loss: 2.938985869884491 \n",
      "\n",
      " 34%|███▍      | 34/100 [09:47<17:00, 15.46s/it]"
     ]
    },
    {
     "name": "stdout",
     "output_type": "stream",
     "text": [
      "[422, 1798, 590, 796, 19, 1320, 173, 1416, 1053, 4600]\n"
     ]
    },
    {
     "name": "stderr",
     "output_type": "stream",
     "text": [
      "INFO:root: \n",
      "Avg Training Stats after 35 global rounds:\n",
      "INFO:root:Train Accuracy: 0.00%\n",
      "INFO:root:Training Loss : 0.29762715784560456\n",
      "INFO:root:Test Accuracy: 42.77%\n",
      "INFO:root:Test Loss: 2.0614432346820832 \n",
      "\n",
      " 35%|███▌      | 35/100 [10:06<17:52, 16.50s/it]"
     ]
    },
    {
     "name": "stdout",
     "output_type": "stream",
     "text": [
      "[2430, 1320, 602, 3195, 231, 2934, 431, 794, 1416, 542]\n"
     ]
    },
    {
     "name": "stderr",
     "output_type": "stream",
     "text": [
      "INFO:root: \n",
      "Avg Training Stats after 36 global rounds:\n",
      "INFO:root:Train Accuracy: 0.00%\n",
      "INFO:root:Training Loss : 0.2104872576726755\n",
      "INFO:root:Test Accuracy: 36.93%\n",
      "INFO:root:Test Loss: 2.3944419291615486 \n",
      "\n",
      " 36%|███▌      | 36/100 [10:27<18:59, 17.80s/it]"
     ]
    },
    {
     "name": "stdout",
     "output_type": "stream",
     "text": [
      "[15, 813, 1112, 123, 40, 796, 2274, 1018, 2195, 201]\n"
     ]
    },
    {
     "name": "stderr",
     "output_type": "stream",
     "text": [
      "INFO:root: \n",
      "Avg Training Stats after 37 global rounds:\n",
      "INFO:root:Train Accuracy: 0.00%\n",
      "INFO:root:Training Loss : 0.34035191343667703\n",
      "INFO:root:Test Accuracy: 43.80%\n",
      "INFO:root:Test Loss: 2.0082692942023277 \n",
      "\n",
      " 37%|███▋      | 37/100 [10:43<18:04, 17.21s/it]"
     ]
    },
    {
     "name": "stdout",
     "output_type": "stream",
     "text": [
      "[303, 2195, 422, 1112, 1433, 116, 796, 602, 1756, 231]\n"
     ]
    },
    {
     "name": "stderr",
     "output_type": "stream",
     "text": [
      "INFO:root: \n",
      "Avg Training Stats after 38 global rounds:\n",
      "INFO:root:Train Accuracy: 0.00%\n",
      "INFO:root:Training Loss : 0.23401740228162615\n",
      "INFO:root:Test Accuracy: 35.53%\n",
      "INFO:root:Test Loss: 2.705628975182772 \n",
      "\n",
      " 38%|███▊      | 38/100 [10:59<17:31, 16.97s/it]"
     ]
    },
    {
     "name": "stdout",
     "output_type": "stream",
     "text": [
      "[1756, 231, 267, 2430, 590, 1736, 15, 4600, 327, 1112]\n"
     ]
    },
    {
     "name": "stderr",
     "output_type": "stream",
     "text": [
      "INFO:root: \n",
      "Avg Training Stats after 39 global rounds:\n",
      "INFO:root:Train Accuracy: 0.00%\n",
      "INFO:root:Training Loss : 0.27823311481925267\n",
      "INFO:root:Test Accuracy: 38.80%\n",
      "INFO:root:Test Loss: 2.279792447090149 \n",
      "\n",
      " 39%|███▉      | 39/100 [11:19<18:03, 17.77s/it]"
     ]
    },
    {
     "name": "stdout",
     "output_type": "stream",
     "text": [
      "[2575, 422, 3195, 862, 231, 796, 2934, 123, 2430, 794]\n"
     ]
    },
    {
     "name": "stderr",
     "output_type": "stream",
     "text": [
      "INFO:root: \n",
      "Avg Training Stats after 40 global rounds:\n",
      "INFO:root:Train Accuracy: 0.00%\n",
      "INFO:root:Training Loss : 0.2048164289758619\n",
      "INFO:root:Test Accuracy: 33.93%\n",
      "INFO:root:Test Loss: 2.6060730765014886 \n",
      "\n",
      " 40%|████      | 40/100 [11:40<18:42, 18.71s/it]"
     ]
    },
    {
     "name": "stdout",
     "output_type": "stream",
     "text": [
      "[231, 1119, 1736, 278, 447, 1018, 286, 744, 690, 173]\n"
     ]
    },
    {
     "name": "stderr",
     "output_type": "stream",
     "text": [
      "INFO:root: \n",
      "Avg Training Stats after 41 global rounds:\n",
      "INFO:root:Train Accuracy: 0.00%\n",
      "INFO:root:Training Loss : 0.2603947482145892\n",
      "INFO:root:Test Accuracy: 37.77%\n",
      "INFO:root:Test Loss: 2.3337167155742646 \n",
      "\n",
      " 41%|████      | 41/100 [11:54<17:04, 17.37s/it]"
     ]
    },
    {
     "name": "stdout",
     "output_type": "stream",
     "text": [
      "[231, 1320, 1416, 2575, 2274, 862, 690, 602, 1012, 173]\n"
     ]
    },
    {
     "name": "stderr",
     "output_type": "stream",
     "text": [
      "INFO:root: \n",
      "Avg Training Stats after 42 global rounds:\n",
      "INFO:root:Train Accuracy: 0.00%\n",
      "INFO:root:Training Loss : 0.22952111593881708\n",
      "INFO:root:Test Accuracy: 43.85%\n",
      "INFO:root:Test Loss: 1.96111239425838 \n",
      "\n",
      " 42%|████▏     | 42/100 [12:12<16:59, 17.58s/it]"
     ]
    },
    {
     "name": "stdout",
     "output_type": "stream",
     "text": [
      "[1112, 1053, 3195, 2934, 2029, 201, 123, 2195, 1018, 173]\n"
     ]
    },
    {
     "name": "stderr",
     "output_type": "stream",
     "text": [
      "INFO:root: \n",
      "Avg Training Stats after 43 global rounds:\n",
      "INFO:root:Train Accuracy: 0.00%\n",
      "INFO:root:Training Loss : 0.2736033709861714\n",
      "INFO:root:Test Accuracy: 37.08%\n",
      "INFO:root:Test Loss: 2.7225856330245732 \n",
      "\n",
      " 43%|████▎     | 43/100 [12:33<17:35, 18.52s/it]"
     ]
    },
    {
     "name": "stdout",
     "output_type": "stream",
     "text": [
      "[862, 1053, 422, 3195, 4600, 794, 1756, 173, 2029, 1018]\n"
     ]
    },
    {
     "name": "stderr",
     "output_type": "stream",
     "text": [
      "INFO:root: \n",
      "Avg Training Stats after 44 global rounds:\n",
      "INFO:root:Train Accuracy: 0.00%\n",
      "INFO:root:Training Loss : 0.24223769354953273\n",
      "INFO:root:Test Accuracy: 34.36%\n",
      "INFO:root:Test Loss: 3.215987734794617 \n",
      "\n",
      " 44%|████▍     | 44/100 [12:55<18:24, 19.73s/it]"
     ]
    },
    {
     "name": "stdout",
     "output_type": "stream",
     "text": [
      "[1320, 2934, 796, 2195, 862, 2575, 2029, 19, 422, 286]\n"
     ]
    },
    {
     "name": "stderr",
     "output_type": "stream",
     "text": [
      "INFO:root: \n",
      "Avg Training Stats after 45 global rounds:\n",
      "INFO:root:Train Accuracy: 0.00%\n",
      "INFO:root:Training Loss : 0.3411514772169485\n",
      "INFO:root:Test Accuracy: 36.04%\n",
      "INFO:root:Test Loss: 2.6262341310828923 \n",
      "\n",
      " 45%|████▌     | 45/100 [13:15<18:09, 19.81s/it]"
     ]
    },
    {
     "name": "stdout",
     "output_type": "stream",
     "text": [
      "[862, 744, 1416, 1112, 590, 542, 278, 690, 116, 1780]\n"
     ]
    },
    {
     "name": "stderr",
     "output_type": "stream",
     "text": [
      "INFO:root: \n",
      "Avg Training Stats after 46 global rounds:\n",
      "INFO:root:Train Accuracy: 0.00%\n",
      "INFO:root:Training Loss : 0.3048713140184448\n",
      "INFO:root:Test Accuracy: 41.85%\n",
      "INFO:root:Test Loss: 2.2253291708230973 \n",
      "\n",
      " 46%|████▌     | 46/100 [13:31<16:40, 18.52s/it]"
     ]
    },
    {
     "name": "stdout",
     "output_type": "stream",
     "text": [
      "[2575, 1112, 1320, 231, 3195, 1012, 862, 447, 2195, 201]\n"
     ]
    },
    {
     "name": "stderr",
     "output_type": "stream",
     "text": [
      "INFO:root: \n",
      "Avg Training Stats after 47 global rounds:\n",
      "INFO:root:Train Accuracy: 0.00%\n",
      "INFO:root:Training Loss : 0.15568137641275165\n",
      "INFO:root:Test Accuracy: 31.13%\n",
      "INFO:root:Test Loss: 2.828261478990316 \n",
      "\n",
      " 47%|████▋     | 47/100 [13:51<16:42, 18.92s/it]"
     ]
    },
    {
     "name": "stdout",
     "output_type": "stream",
     "text": [
      "[1433, 542, 813, 231, 1119, 2029, 1012, 173, 2195, 1320]\n"
     ]
    },
    {
     "name": "stderr",
     "output_type": "stream",
     "text": [
      "INFO:root: \n",
      "Avg Training Stats after 48 global rounds:\n",
      "INFO:root:Train Accuracy: 0.00%\n",
      "INFO:root:Training Loss : 0.15902532498755848\n",
      "INFO:root:Test Accuracy: 40.18%\n",
      "INFO:root:Test Loss: 2.4238117554038765 \n",
      "\n",
      " 48%|████▊     | 48/100 [14:09<16:07, 18.61s/it]"
     ]
    },
    {
     "name": "stdout",
     "output_type": "stream",
     "text": [
      "[744, 2195, 209, 1780, 2575, 123, 327, 40, 1736, 690]\n"
     ]
    },
    {
     "name": "stderr",
     "output_type": "stream",
     "text": [
      "INFO:root: \n",
      "Avg Training Stats after 49 global rounds:\n",
      "INFO:root:Train Accuracy: 0.00%\n",
      "INFO:root:Training Loss : 0.2888680589387439\n",
      "INFO:root:Test Accuracy: 36.29%\n",
      "INFO:root:Test Loss: 2.856648786813021 \n",
      "\n",
      " 49%|████▉     | 49/100 [14:26<15:33, 18.29s/it]"
     ]
    },
    {
     "name": "stdout",
     "output_type": "stream",
     "text": [
      "[862, 690, 1433, 173, 3195, 2934, 116, 447, 231, 431]\n"
     ]
    },
    {
     "name": "stderr",
     "output_type": "stream",
     "text": [
      "INFO:root: \n",
      "Avg Training Stats after 50 global rounds:\n",
      "INFO:root:Train Accuracy: 0.00%\n",
      "INFO:root:Training Loss : 0.3107185892209611\n",
      "INFO:root:Test Accuracy: 23.81%\n",
      "INFO:root:Test Loss: 4.157768855579198 \n",
      "\n",
      " 50%|█████     | 50/100 [14:44<15:02, 18.06s/it]"
     ]
    },
    {
     "name": "stdout",
     "output_type": "stream",
     "text": [
      "[1320, 19, 3195, 87, 1756, 303, 813, 2575, 231, 231]\n"
     ]
    },
    {
     "name": "stderr",
     "output_type": "stream",
     "text": [
      "INFO:root: \n",
      "Avg Training Stats after 51 global rounds:\n",
      "INFO:root:Train Accuracy: 0.00%\n",
      "INFO:root:Training Loss : 0.21415826024468662\n",
      "INFO:root:Test Accuracy: 18.84%\n",
      "INFO:root:Test Loss: 6.347525904322975 \n",
      "\n",
      " 51%|█████     | 51/100 [15:02<14:40, 17.98s/it]"
     ]
    },
    {
     "name": "stdout",
     "output_type": "stream",
     "text": [
      "[40, 813, 1780, 2934, 15, 173, 278, 19, 1798, 267]\n"
     ]
    },
    {
     "name": "stderr",
     "output_type": "stream",
     "text": [
      "INFO:root: \n",
      "Avg Training Stats after 52 global rounds:\n",
      "INFO:root:Train Accuracy: 0.00%\n",
      "INFO:root:Training Loss : 0.49692645920558637\n",
      "INFO:root:Test Accuracy: 23.17%\n",
      "INFO:root:Test Loss: 3.939196681678295 \n",
      "\n",
      " 52%|█████▏    | 52/100 [15:17<13:45, 17.20s/it]"
     ]
    },
    {
     "name": "stdout",
     "output_type": "stream",
     "text": [
      "[267, 231, 690, 173, 1780, 1053, 862, 590, 1433, 303]\n"
     ]
    },
    {
     "name": "stderr",
     "output_type": "stream",
     "text": [
      "INFO:root: \n",
      "Avg Training Stats after 53 global rounds:\n",
      "INFO:root:Train Accuracy: 0.00%\n",
      "INFO:root:Training Loss : 0.2814856620668221\n",
      "INFO:root:Test Accuracy: 44.89%\n",
      "INFO:root:Test Loss: 1.9389662492275237 \n",
      "\n",
      " 53%|█████▎    | 53/100 [15:32<12:54, 16.48s/it]"
     ]
    },
    {
     "name": "stdout",
     "output_type": "stream",
     "text": [
      "[431, 3195, 201, 796, 2934, 15, 231, 1112, 1736, 267]\n"
     ]
    },
    {
     "name": "stderr",
     "output_type": "stream",
     "text": [
      "INFO:root: \n",
      "Avg Training Stats after 54 global rounds:\n",
      "INFO:root:Train Accuracy: 0.00%\n",
      "INFO:root:Training Loss : 0.2276250498218028\n",
      "INFO:root:Test Accuracy: 52.57%\n",
      "INFO:root:Test Loss: 1.5197774860262871 \n",
      "\n",
      " 54%|█████▍    | 54/100 [15:49<12:56, 16.88s/it]"
     ]
    },
    {
     "name": "stdout",
     "output_type": "stream",
     "text": [
      "[40, 1320, 1416, 286, 2195, 1012, 201, 116, 1053, 542]\n"
     ]
    },
    {
     "name": "stderr",
     "output_type": "stream",
     "text": [
      "INFO:root: \n",
      "Avg Training Stats after 55 global rounds:\n",
      "INFO:root:Train Accuracy: 0.00%\n",
      "INFO:root:Training Loss : 0.24090539133898434\n",
      "INFO:root:Test Accuracy: 47.66%\n",
      "INFO:root:Test Loss: 1.797758459597826 \n",
      "\n",
      " 55%|█████▌    | 55/100 [16:05<12:21, 16.47s/it]"
     ]
    },
    {
     "name": "stdout",
     "output_type": "stream",
     "text": [
      "[1798, 422, 231, 4600, 231, 2575, 1433, 106, 1320, 862]\n"
     ]
    },
    {
     "name": "stderr",
     "output_type": "stream",
     "text": [
      "INFO:root: \n",
      "Avg Training Stats after 56 global rounds:\n",
      "INFO:root:Train Accuracy: 0.00%\n",
      "INFO:root:Training Loss : 0.15058292720914107\n",
      "INFO:root:Test Accuracy: 39.09%\n",
      "INFO:root:Test Loss: 2.6324953227490187 \n",
      "\n",
      " 56%|█████▌    | 56/100 [16:25<12:54, 17.61s/it]"
     ]
    },
    {
     "name": "stdout",
     "output_type": "stream",
     "text": [
      "[2274, 3195, 267, 2029, 590, 327, 2195, 278, 1756, 813]\n"
     ]
    },
    {
     "name": "stderr",
     "output_type": "stream",
     "text": [
      "INFO:root: \n",
      "Avg Training Stats after 57 global rounds:\n",
      "INFO:root:Train Accuracy: 0.00%\n",
      "INFO:root:Training Loss : 0.18449556339882628\n",
      "INFO:root:Test Accuracy: 36.78%\n",
      "INFO:root:Test Loss: 3.5350537203252315 \n",
      "\n",
      " 57%|█████▋    | 57/100 [16:46<13:12, 18.44s/it]"
     ]
    },
    {
     "name": "stdout",
     "output_type": "stream",
     "text": [
      "[1798, 431, 123, 1320, 1416, 231, 2575, 2934, 19, 1756]\n"
     ]
    },
    {
     "name": "stderr",
     "output_type": "stream",
     "text": [
      "INFO:root: \n",
      "Avg Training Stats after 58 global rounds:\n",
      "INFO:root:Train Accuracy: 0.00%\n",
      "INFO:root:Training Loss : 0.30863942065176586\n",
      "INFO:root:Test Accuracy: 41.38%\n",
      "INFO:root:Test Loss: 2.3886023335158826 \n",
      "\n",
      " 58%|█████▊    | 58/100 [17:05<13:09, 18.81s/it]"
     ]
    },
    {
     "name": "stdout",
     "output_type": "stream",
     "text": [
      "[1018, 267, 2274, 447, 2029, 690, 590, 303, 1119, 796]\n"
     ]
    },
    {
     "name": "stderr",
     "output_type": "stream",
     "text": [
      "INFO:root: \n",
      "Avg Training Stats after 59 global rounds:\n",
      "INFO:root:Train Accuracy: 0.00%\n",
      "INFO:root:Training Loss : 0.13911657311418343\n",
      "INFO:root:Test Accuracy: 52.43%\n",
      "INFO:root:Test Loss: 1.932920545935631 \n",
      "\n",
      " 59%|█████▉    | 59/100 [17:22<12:25, 18.19s/it]"
     ]
    },
    {
     "name": "stdout",
     "output_type": "stream",
     "text": [
      "[106, 2430, 447, 1433, 1012, 3195, 1119, 1756, 862, 4600]\n"
     ]
    },
    {
     "name": "stderr",
     "output_type": "stream",
     "text": [
      "INFO:root: \n",
      "Avg Training Stats after 60 global rounds:\n",
      "INFO:root:Train Accuracy: 0.00%\n",
      "INFO:root:Training Loss : 0.0903389574197582\n",
      "INFO:root:Test Accuracy: 55.32%\n",
      "INFO:root:Test Loss: 1.5767616492509842 \n",
      "\n",
      " 60%|██████    | 60/100 [17:46<13:10, 19.77s/it]"
     ]
    },
    {
     "name": "stdout",
     "output_type": "stream",
     "text": [
      "[1780, 1320, 286, 2029, 40, 796, 447, 15, 231, 744]\n"
     ]
    },
    {
     "name": "stderr",
     "output_type": "stream",
     "text": [
      "INFO:root: \n",
      "Avg Training Stats after 61 global rounds:\n",
      "INFO:root:Train Accuracy: 0.00%\n",
      "INFO:root:Training Loss : 0.18703292800523846\n",
      "INFO:root:Test Accuracy: 43.97%\n",
      "INFO:root:Test Loss: 2.2448695170879365 \n",
      "\n",
      " 61%|██████    | 61/100 [18:01<11:59, 18.46s/it]"
     ]
    },
    {
     "name": "stdout",
     "output_type": "stream",
     "text": [
      "[116, 15, 2029, 327, 19, 470, 422, 87, 1012, 303]\n"
     ]
    },
    {
     "name": "stderr",
     "output_type": "stream",
     "text": [
      "INFO:root: \n",
      "Avg Training Stats after 62 global rounds:\n",
      "INFO:root:Train Accuracy: 0.00%\n",
      "INFO:root:Training Loss : 0.427479704868856\n",
      "INFO:root:Test Accuracy: 30.08%\n",
      "INFO:root:Test Loss: 3.6354094870388507 \n",
      "\n",
      " 62%|██████▏   | 62/100 [18:14<10:44, 16.97s/it]"
     ]
    },
    {
     "name": "stdout",
     "output_type": "stream",
     "text": [
      "[796, 2274, 862, 286, 813, 3195, 1112, 422, 1119, 327]\n"
     ]
    },
    {
     "name": "stderr",
     "output_type": "stream",
     "text": [
      "INFO:root: \n",
      "Avg Training Stats after 63 global rounds:\n",
      "INFO:root:Train Accuracy: 0.00%\n",
      "INFO:root:Training Loss : 0.17352297516810206\n",
      "INFO:root:Test Accuracy: 48.47%\n",
      "INFO:root:Test Loss: 1.8950451618433 \n",
      "\n",
      " 63%|██████▎   | 63/100 [18:33<10:50, 17.57s/it]"
     ]
    },
    {
     "name": "stdout",
     "output_type": "stream",
     "text": [
      "[542, 1798, 690, 15, 267, 2575, 796, 590, 209, 470]\n"
     ]
    },
    {
     "name": "stderr",
     "output_type": "stream",
     "text": [
      "INFO:root: \n",
      "Avg Training Stats after 64 global rounds:\n",
      "INFO:root:Train Accuracy: 0.00%\n",
      "INFO:root:Training Loss : 0.235275010809608\n",
      "INFO:root:Test Accuracy: 49.92%\n",
      "INFO:root:Test Loss: 1.7669835348427296 \n",
      "\n",
      " 64%|██████▍   | 64/100 [18:49<10:10, 16.95s/it]"
     ]
    },
    {
     "name": "stdout",
     "output_type": "stream",
     "text": [
      "[87, 267, 286, 1053, 303, 796, 40, 173, 19, 327]\n"
     ]
    },
    {
     "name": "stderr",
     "output_type": "stream",
     "text": [
      "INFO:root: \n",
      "Avg Training Stats after 65 global rounds:\n",
      "INFO:root:Train Accuracy: 0.00%\n",
      "INFO:root:Training Loss : 0.29784244530135656\n",
      "INFO:root:Test Accuracy: 50.96%\n",
      "INFO:root:Test Loss: 1.8079411521553994 \n",
      "\n",
      " 65%|██████▌   | 65/100 [19:00<08:54, 15.26s/it]"
     ]
    },
    {
     "name": "stdout",
     "output_type": "stream",
     "text": [
      "[813, 542, 106, 123, 4600, 40, 209, 2029, 1736, 2195]\n"
     ]
    },
    {
     "name": "stderr",
     "output_type": "stream",
     "text": [
      "INFO:root: \n",
      "Avg Training Stats after 66 global rounds:\n",
      "INFO:root:Train Accuracy: 0.00%\n",
      "INFO:root:Training Loss : 0.20169961026595176\n",
      "INFO:root:Test Accuracy: 59.42%\n",
      "INFO:root:Test Loss: 1.3104812616109849 \n",
      "\n",
      " 66%|██████▌   | 66/100 [19:19<09:19, 16.45s/it]"
     ]
    },
    {
     "name": "stdout",
     "output_type": "stream",
     "text": [
      "[1416, 1320, 201, 744, 2934, 447, 278, 2430, 1018, 2274]\n"
     ]
    },
    {
     "name": "stderr",
     "output_type": "stream",
     "text": [
      "INFO:root: \n",
      "Avg Training Stats after 67 global rounds:\n",
      "INFO:root:Train Accuracy: 0.00%\n",
      "INFO:root:Training Loss : 0.15521458917278402\n",
      "INFO:root:Test Accuracy: 57.00%\n",
      "INFO:root:Test Loss: 1.5255169612169266 \n",
      "\n",
      " 67%|██████▋   | 67/100 [19:39<09:36, 17.47s/it]"
     ]
    },
    {
     "name": "stdout",
     "output_type": "stream",
     "text": [
      "[303, 1012, 470, 123, 106, 201, 87, 1736, 2934, 2575]\n"
     ]
    },
    {
     "name": "stderr",
     "output_type": "stream",
     "text": [
      "INFO:root: \n",
      "Avg Training Stats after 68 global rounds:\n",
      "INFO:root:Train Accuracy: 0.00%\n",
      "INFO:root:Training Loss : 0.14083918528092454\n",
      "INFO:root:Test Accuracy: 44.90%\n",
      "INFO:root:Test Loss: 1.9685428902506827 \n",
      "\n",
      " 68%|██████▊   | 68/100 [19:56<09:12, 17.26s/it]"
     ]
    },
    {
     "name": "stdout",
     "output_type": "stream",
     "text": [
      "[3195, 794, 690, 2029, 231, 1756, 1112, 1736, 201, 813]\n"
     ]
    },
    {
     "name": "stderr",
     "output_type": "stream",
     "text": [
      "INFO:root: \n",
      "Avg Training Stats after 69 global rounds:\n",
      "INFO:root:Train Accuracy: 0.00%\n",
      "INFO:root:Training Loss : 0.10856645516727532\n",
      "INFO:root:Test Accuracy: 30.19%\n",
      "INFO:root:Test Loss: 3.125573986582458 \n",
      "\n",
      " 69%|██████▉   | 69/100 [20:15<09:14, 17.87s/it]"
     ]
    },
    {
     "name": "stdout",
     "output_type": "stream",
     "text": [
      "[106, 40, 278, 422, 470, 2029, 2934, 744, 2274, 327]\n"
     ]
    },
    {
     "name": "stderr",
     "output_type": "stream",
     "text": [
      "INFO:root: \n",
      "Avg Training Stats after 70 global rounds:\n",
      "INFO:root:Train Accuracy: 0.00%\n",
      "INFO:root:Training Loss : 0.18987726984245015\n",
      "INFO:root:Test Accuracy: 42.43%\n",
      "INFO:root:Test Loss: 2.3383649271726608 \n",
      "\n",
      " 70%|███████   | 70/100 [20:32<08:47, 17.59s/it]"
     ]
    },
    {
     "name": "stdout",
     "output_type": "stream",
     "text": [
      "[3195, 267, 303, 173, 286, 2029, 422, 1012, 796, 106]\n"
     ]
    },
    {
     "name": "stderr",
     "output_type": "stream",
     "text": [
      "INFO:root: \n",
      "Avg Training Stats after 71 global rounds:\n",
      "INFO:root:Train Accuracy: 0.00%\n",
      "INFO:root:Training Loss : 0.18913615792895772\n",
      "INFO:root:Test Accuracy: 32.63%\n",
      "INFO:root:Test Loss: 3.4109296701848506 \n",
      "\n",
      " 71%|███████   | 71/100 [20:48<08:16, 17.12s/it]"
     ]
    },
    {
     "name": "stdout",
     "output_type": "stream",
     "text": [
      "[209, 40, 4600, 106, 123, 1012, 690, 542, 602, 2575]\n"
     ]
    },
    {
     "name": "stderr",
     "output_type": "stream",
     "text": [
      "INFO:root: \n",
      "Avg Training Stats after 72 global rounds:\n",
      "INFO:root:Train Accuracy: 0.00%\n",
      "INFO:root:Training Loss : 0.19000369976435982\n",
      "INFO:root:Test Accuracy: 41.13%\n",
      "INFO:root:Test Loss: 2.689645999521017 \n",
      "\n",
      " 72%|███████▏  | 72/100 [21:06<08:04, 17.30s/it]"
     ]
    },
    {
     "name": "stdout",
     "output_type": "stream",
     "text": [
      "[1012, 2430, 2274, 209, 1798, 303, 1112, 231, 744, 278]\n"
     ]
    },
    {
     "name": "stderr",
     "output_type": "stream",
     "text": [
      "INFO:root: \n",
      "Avg Training Stats after 73 global rounds:\n",
      "INFO:root:Train Accuracy: 0.00%\n",
      "INFO:root:Training Loss : 0.1541851176614482\n",
      "INFO:root:Test Accuracy: 29.32%\n",
      "INFO:root:Test Loss: 4.606157280029729 \n",
      "\n",
      " 73%|███████▎  | 73/100 [21:23<07:48, 17.35s/it]"
     ]
    },
    {
     "name": "stdout",
     "output_type": "stream",
     "text": [
      "[447, 1320, 209, 327, 744, 1018, 231, 2430, 590, 602]\n"
     ]
    },
    {
     "name": "stderr",
     "output_type": "stream",
     "text": [
      "INFO:root: \n",
      "Avg Training Stats after 74 global rounds:\n",
      "INFO:root:Train Accuracy: 0.00%\n",
      "INFO:root:Training Loss : 0.2414754803881324\n",
      "INFO:root:Test Accuracy: 34.15%\n",
      "INFO:root:Test Loss: 3.6773891580104827 \n",
      "\n",
      " 74%|███████▍  | 74/100 [21:39<07:15, 16.76s/it]"
     ]
    },
    {
     "name": "stdout",
     "output_type": "stream",
     "text": [
      "[470, 1053, 303, 1012, 106, 3195, 447, 1112, 201, 1433]\n"
     ]
    },
    {
     "name": "stderr",
     "output_type": "stream",
     "text": [
      "INFO:root: \n",
      "Avg Training Stats after 75 global rounds:\n",
      "INFO:root:Train Accuracy: 0.00%\n",
      "INFO:root:Training Loss : 0.14701421495498662\n",
      "INFO:root:Test Accuracy: 46.68%\n",
      "INFO:root:Test Loss: 2.1052143517136575 \n",
      "\n",
      " 75%|███████▌  | 75/100 [21:55<06:56, 16.68s/it]"
     ]
    },
    {
     "name": "stdout",
     "output_type": "stream",
     "text": [
      "[231, 1433, 431, 209, 1416, 1780, 116, 123, 422, 4600]\n"
     ]
    },
    {
     "name": "stderr",
     "output_type": "stream",
     "text": [
      "INFO:root: \n",
      "Avg Training Stats after 76 global rounds:\n",
      "INFO:root:Train Accuracy: 0.00%\n",
      "INFO:root:Training Loss : 0.2959304541483594\n",
      "INFO:root:Test Accuracy: 38.24%\n",
      "INFO:root:Test Loss: 2.70157962102443 \n",
      "\n",
      " 76%|███████▌  | 76/100 [22:13<06:48, 17.03s/it]"
     ]
    },
    {
     "name": "stdout",
     "output_type": "stream",
     "text": [
      "[2575, 796, 1053, 267, 602, 1018, 201, 1756, 286, 2430]\n"
     ]
    },
    {
     "name": "stderr",
     "output_type": "stream",
     "text": [
      "INFO:root: \n",
      "Avg Training Stats after 77 global rounds:\n",
      "INFO:root:Train Accuracy: 0.00%\n",
      "INFO:root:Training Loss : 0.18223752551833425\n",
      "INFO:root:Test Accuracy: 51.58%\n",
      "INFO:root:Test Loss: 1.7135674256086348 \n",
      "\n",
      " 77%|███████▋  | 77/100 [22:31<06:37, 17.29s/it]"
     ]
    },
    {
     "name": "stdout",
     "output_type": "stream",
     "text": [
      "[15, 2029, 2274, 744, 1018, 1736, 2934, 19, 173, 447]\n"
     ]
    },
    {
     "name": "stderr",
     "output_type": "stream",
     "text": [
      "INFO:root: \n",
      "Avg Training Stats after 78 global rounds:\n",
      "INFO:root:Train Accuracy: 0.00%\n",
      "INFO:root:Training Loss : 0.21895846853671186\n",
      "INFO:root:Test Accuracy: 45.62%\n",
      "INFO:root:Test Loss: 2.3843182380497456 \n",
      "\n",
      " 78%|███████▊  | 78/100 [22:50<06:29, 17.71s/it]"
     ]
    },
    {
     "name": "stdout",
     "output_type": "stream",
     "text": [
      "[542, 602, 173, 201, 590, 690, 422, 2934, 1736, 744]\n"
     ]
    },
    {
     "name": "stderr",
     "output_type": "stream",
     "text": [
      "INFO:root: \n",
      "Avg Training Stats after 79 global rounds:\n",
      "INFO:root:Train Accuracy: 0.00%\n",
      "INFO:root:Training Loss : 0.232729303069278\n",
      "INFO:root:Test Accuracy: 47.42%\n",
      "INFO:root:Test Loss: 2.596711866557598 \n",
      "\n",
      " 79%|███████▉  | 79/100 [23:06<06:00, 17.19s/it]"
     ]
    },
    {
     "name": "stdout",
     "output_type": "stream",
     "text": [
      "[201, 278, 40, 1112, 106, 690, 2029, 87, 796, 3195]\n"
     ]
    },
    {
     "name": "stderr",
     "output_type": "stream",
     "text": [
      "INFO:root: \n",
      "Avg Training Stats after 80 global rounds:\n",
      "INFO:root:Train Accuracy: 0.00%\n",
      "INFO:root:Training Loss : 0.13371879157050295\n",
      "INFO:root:Test Accuracy: 47.51%\n",
      "INFO:root:Test Loss: 2.0969983023405074 \n",
      "\n",
      " 80%|████████  | 80/100 [23:21<05:35, 16.75s/it]"
     ]
    },
    {
     "name": "stdout",
     "output_type": "stream",
     "text": [
      "[1798, 15, 201, 123, 1433, 542, 1119, 690, 602, 40]\n"
     ]
    },
    {
     "name": "stderr",
     "output_type": "stream",
     "text": [
      "INFO:root: \n",
      "Avg Training Stats after 81 global rounds:\n",
      "INFO:root:Train Accuracy: 0.00%\n",
      "INFO:root:Training Loss : 0.18272804474932056\n",
      "INFO:root:Test Accuracy: 42.09%\n",
      "INFO:root:Test Loss: 2.9049265256524084 \n",
      "\n",
      " 81%|████████  | 81/100 [23:36<05:02, 15.94s/it]"
     ]
    },
    {
     "name": "stdout",
     "output_type": "stream",
     "text": [
      "[267, 542, 209, 796, 87, 3195, 231, 303, 2934, 1119]\n"
     ]
    },
    {
     "name": "stderr",
     "output_type": "stream",
     "text": [
      "INFO:root: \n",
      "Avg Training Stats after 82 global rounds:\n",
      "INFO:root:Train Accuracy: 0.00%\n",
      "INFO:root:Training Loss : 0.1675376874354157\n",
      "INFO:root:Test Accuracy: 36.96%\n",
      "INFO:root:Test Loss: 3.8249589233100414 \n",
      "\n",
      " 82%|████████▏ | 82/100 [23:52<04:51, 16.21s/it]"
     ]
    },
    {
     "name": "stdout",
     "output_type": "stream",
     "text": [
      "[690, 431, 422, 231, 4600, 2934, 2029, 327, 796, 590]\n"
     ]
    },
    {
     "name": "stderr",
     "output_type": "stream",
     "text": [
      "INFO:root: \n",
      "Avg Training Stats after 83 global rounds:\n",
      "INFO:root:Train Accuracy: 0.00%\n",
      "INFO:root:Training Loss : 0.2003644349335091\n",
      "INFO:root:Test Accuracy: 50.41%\n",
      "INFO:root:Test Loss: 2.0375680151581763 \n",
      "\n",
      " 83%|████████▎ | 83/100 [24:12<04:53, 17.29s/it]"
     ]
    },
    {
     "name": "stdout",
     "output_type": "stream",
     "text": [
      "[231, 1112, 87, 303, 690, 796, 2195, 813, 327, 1018]\n"
     ]
    },
    {
     "name": "stderr",
     "output_type": "stream",
     "text": [
      "INFO:root: \n",
      "Avg Training Stats after 84 global rounds:\n",
      "INFO:root:Train Accuracy: 0.00%\n",
      "INFO:root:Training Loss : 0.15827128502996443\n",
      "INFO:root:Test Accuracy: 43.40%\n",
      "INFO:root:Test Loss: 2.370038469284773 \n",
      "\n",
      " 84%|████████▍ | 84/100 [24:27<04:24, 16.55s/it]"
     ]
    },
    {
     "name": "stdout",
     "output_type": "stream",
     "text": [
      "[602, 1018, 542, 106, 794, 447, 2029, 1433, 327, 690]\n"
     ]
    },
    {
     "name": "stderr",
     "output_type": "stream",
     "text": [
      "INFO:root: \n",
      "Avg Training Stats after 85 global rounds:\n",
      "INFO:root:Train Accuracy: 0.00%\n",
      "INFO:root:Training Loss : 0.17496403055444149\n",
      "INFO:root:Test Accuracy: 40.06%\n",
      "INFO:root:Test Loss: 2.7547339157387616 \n",
      "\n",
      " 85%|████████▌ | 85/100 [24:42<04:02, 16.16s/it]"
     ]
    },
    {
     "name": "stdout",
     "output_type": "stream",
     "text": [
      "[1433, 267, 447, 1012, 470, 201, 231, 15, 278, 1736]\n"
     ]
    },
    {
     "name": "stderr",
     "output_type": "stream",
     "text": [
      "INFO:root: \n",
      "Avg Training Stats after 86 global rounds:\n",
      "INFO:root:Train Accuracy: 0.00%\n",
      "INFO:root:Training Loss : 0.26850653460398355\n",
      "INFO:root:Test Accuracy: 40.69%\n",
      "INFO:root:Test Loss: 2.486079791560769 \n",
      "\n",
      " 86%|████████▌ | 86/100 [24:56<03:36, 15.47s/it]"
     ]
    },
    {
     "name": "stdout",
     "output_type": "stream",
     "text": [
      "[40, 1053, 231, 286, 106, 2274, 470, 1119, 447, 1416]\n"
     ]
    },
    {
     "name": "stderr",
     "output_type": "stream",
     "text": [
      "INFO:root: \n",
      "Avg Training Stats after 87 global rounds:\n",
      "INFO:root:Train Accuracy: 0.00%\n",
      "INFO:root:Training Loss : 0.16918420399135528\n",
      "INFO:root:Test Accuracy: 39.93%\n",
      "INFO:root:Test Loss: 2.540358228608966 \n",
      "\n",
      " 87%|████████▋ | 87/100 [25:11<03:18, 15.27s/it]"
     ]
    },
    {
     "name": "stdout",
     "output_type": "stream",
     "text": [
      "[209, 2029, 231, 278, 1320, 862, 2195, 690, 1736, 106]\n"
     ]
    },
    {
     "name": "stderr",
     "output_type": "stream",
     "text": [
      "INFO:root: \n",
      "Avg Training Stats after 88 global rounds:\n",
      "INFO:root:Train Accuracy: 0.00%\n",
      "INFO:root:Training Loss : 0.17947027707853744\n",
      "INFO:root:Test Accuracy: 49.01%\n",
      "INFO:root:Test Loss: 2.0349042804166673 \n",
      "\n",
      " 88%|████████▊ | 88/100 [25:28<03:08, 15.74s/it]"
     ]
    },
    {
     "name": "stdout",
     "output_type": "stream",
     "text": [
      "[2430, 201, 2195, 2575, 123, 602, 116, 794, 4600, 690]\n"
     ]
    },
    {
     "name": "stderr",
     "output_type": "stream",
     "text": [
      "INFO:root: \n",
      "Avg Training Stats after 89 global rounds:\n",
      "INFO:root:Train Accuracy: 0.00%\n",
      "INFO:root:Training Loss : 0.1855680477096385\n",
      "INFO:root:Test Accuracy: 47.43%\n",
      "INFO:root:Test Loss: 2.3594933094084265 \n",
      "\n",
      " 89%|████████▉ | 89/100 [25:49<03:10, 17.34s/it]"
     ]
    },
    {
     "name": "stdout",
     "output_type": "stream",
     "text": [
      "[470, 303, 278, 87, 1119, 2274, 1780, 19, 4600, 602]\n"
     ]
    },
    {
     "name": "stderr",
     "output_type": "stream",
     "text": [
      "INFO:root: \n",
      "Avg Training Stats after 90 global rounds:\n",
      "INFO:root:Train Accuracy: 0.00%\n",
      "INFO:root:Training Loss : 0.17736781447971411\n",
      "INFO:root:Test Accuracy: 35.95%\n",
      "INFO:root:Test Loss: 3.825991884171963 \n",
      "\n",
      " 90%|█████████ | 90/100 [26:08<02:57, 17.74s/it]"
     ]
    },
    {
     "name": "stdout",
     "output_type": "stream",
     "text": [
      "[2575, 602, 2029, 327, 209, 4600, 2274, 1756, 431, 1112]\n"
     ]
    },
    {
     "name": "stderr",
     "output_type": "stream",
     "text": [
      "INFO:root: \n",
      "Avg Training Stats after 91 global rounds:\n",
      "INFO:root:Train Accuracy: 0.00%\n",
      "INFO:root:Training Loss : 0.1690952459644531\n",
      "INFO:root:Test Accuracy: 38.49%\n",
      "INFO:root:Test Loss: 3.6068062599375845 \n",
      "\n",
      " 91%|█████████ | 91/100 [26:30<02:52, 19.14s/it]"
     ]
    },
    {
     "name": "stdout",
     "output_type": "stream",
     "text": [
      "[2195, 267, 813, 286, 3195, 470, 231, 278, 1012, 231]\n"
     ]
    },
    {
     "name": "stderr",
     "output_type": "stream",
     "text": [
      "INFO:root: \n",
      "Avg Training Stats after 92 global rounds:\n",
      "INFO:root:Train Accuracy: 0.00%\n",
      "INFO:root:Training Loss : 0.21197307712041064\n",
      "INFO:root:Test Accuracy: 51.84%\n",
      "INFO:root:Test Loss: 1.8766686022281647 \n",
      "\n",
      " 92%|█████████▏| 92/100 [26:46<02:26, 18.26s/it]"
     ]
    },
    {
     "name": "stdout",
     "output_type": "stream",
     "text": [
      "[1053, 2575, 303, 2430, 542, 116, 1756, 1433, 327, 15]\n"
     ]
    },
    {
     "name": "stderr",
     "output_type": "stream",
     "text": [
      "INFO:root: \n",
      "Avg Training Stats after 93 global rounds:\n",
      "INFO:root:Train Accuracy: 0.00%\n",
      "INFO:root:Training Loss : 0.24854000513457059\n",
      "INFO:root:Test Accuracy: 44.58%\n",
      "INFO:root:Test Loss: 2.191235876753926 \n",
      "\n",
      " 93%|█████████▎| 93/100 [27:04<02:06, 18.12s/it]"
     ]
    },
    {
     "name": "stdout",
     "output_type": "stream",
     "text": [
      "[590, 4600, 201, 286, 303, 1736, 15, 1798, 744, 422]\n"
     ]
    },
    {
     "name": "stderr",
     "output_type": "stream",
     "text": [
      "INFO:root: \n",
      "Avg Training Stats after 94 global rounds:\n",
      "INFO:root:Train Accuracy: 0.00%\n",
      "INFO:root:Training Loss : 0.2243769478576215\n",
      "INFO:root:Test Accuracy: 51.11%\n",
      "INFO:root:Test Loss: 1.7915271523594856 \n",
      "\n",
      " 94%|█████████▍| 94/100 [27:22<01:47, 17.99s/it]"
     ]
    },
    {
     "name": "stdout",
     "output_type": "stream",
     "text": [
      "[123, 862, 542, 19, 794, 1112, 4600, 2934, 231, 15]\n"
     ]
    },
    {
     "name": "stderr",
     "output_type": "stream",
     "text": [
      "INFO:root: \n",
      "Avg Training Stats after 95 global rounds:\n",
      "INFO:root:Train Accuracy: 0.00%\n",
      "INFO:root:Training Loss : 0.26647768736802085\n",
      "INFO:root:Test Accuracy: 49.62%\n",
      "INFO:root:Test Loss: 2.073236488960683 \n",
      "\n",
      " 95%|█████████▌| 95/100 [27:40<01:30, 18.03s/it]"
     ]
    },
    {
     "name": "stdout",
     "output_type": "stream",
     "text": [
      "[1053, 87, 2575, 4600, 542, 231, 1433, 1012, 2029, 862]\n"
     ]
    },
    {
     "name": "stderr",
     "output_type": "stream",
     "text": [
      "INFO:root: \n",
      "Avg Training Stats after 96 global rounds:\n",
      "INFO:root:Train Accuracy: 0.00%\n",
      "INFO:root:Training Loss : 0.12006515070354769\n",
      "INFO:root:Test Accuracy: 38.74%\n",
      "INFO:root:Test Loss: 3.496868855431676 \n",
      "\n",
      " 96%|█████████▌| 96/100 [28:01<01:15, 18.92s/it]"
     ]
    },
    {
     "name": "stdout",
     "output_type": "stream",
     "text": [
      "[19, 602, 40, 690, 267, 231, 173, 2029, 1798, 3195]\n"
     ]
    },
    {
     "name": "stderr",
     "output_type": "stream",
     "text": [
      "INFO:root: \n",
      "Avg Training Stats after 97 global rounds:\n",
      "INFO:root:Train Accuracy: 0.00%\n",
      "INFO:root:Training Loss : 0.4018841530977423\n",
      "INFO:root:Test Accuracy: 43.15%\n",
      "INFO:root:Test Loss: 3.0430379974842072 \n",
      "\n",
      " 97%|█████████▋| 97/100 [28:17<00:54, 18.11s/it]"
     ]
    },
    {
     "name": "stdout",
     "output_type": "stream",
     "text": [
      "[209, 1012, 422, 40, 794, 4600, 116, 286, 303, 1756]\n"
     ]
    },
    {
     "name": "stderr",
     "output_type": "stream",
     "text": [
      "INFO:root: \n",
      "Avg Training Stats after 98 global rounds:\n",
      "INFO:root:Train Accuracy: 0.00%\n",
      "INFO:root:Training Loss : 0.1936510540763922\n",
      "INFO:root:Test Accuracy: 42.41%\n",
      "INFO:root:Test Loss: 3.262319552451372 \n",
      "\n",
      " 98%|█████████▊| 98/100 [28:34<00:35, 17.67s/it]"
     ]
    },
    {
     "name": "stdout",
     "output_type": "stream",
     "text": [
      "[2274, 1736, 173, 1416, 447, 19, 2195, 2029, 862, 744]\n"
     ]
    },
    {
     "name": "stderr",
     "output_type": "stream",
     "text": [
      "INFO:root: \n",
      "Avg Training Stats after 99 global rounds:\n",
      "INFO:root:Train Accuracy: 0.00%\n",
      "INFO:root:Training Loss : 0.377526709841864\n",
      "INFO:root:Test Accuracy: 54.80%\n",
      "INFO:root:Test Loss: 1.7555699294805527 \n",
      "\n",
      " 99%|█████████▉| 99/100 [28:53<00:18, 18.08s/it]"
     ]
    },
    {
     "name": "stdout",
     "output_type": "stream",
     "text": [
      "[431, 1798, 1736, 744, 19, 278, 690, 590, 116, 40]\n"
     ]
    },
    {
     "name": "stderr",
     "output_type": "stream",
     "text": [
      "INFO:root: \n",
      "Avg Training Stats after 100 global rounds:\n",
      "INFO:root:Train Accuracy: 0.00%\n",
      "INFO:root:Training Loss : 0.23834540560881878\n",
      "INFO:root:Test Accuracy: 50.84%\n",
      "INFO:root:Test Loss: 2.1625642968714236 \n",
      "\n",
      "100%|██████████| 100/100 [29:07<00:00, 17.47s/it]\n",
      "INFO:root: \n",
      " Results after 100 global rounds of training:\n",
      "INFO:root:|---- Best Test Accuracy: 59.42% , round: 65\n"
     ]
    },
    {
     "name": "stdout",
     "output_type": "stream",
     "text": [
      " Saving checkpoints to ../save/checkpoint/ConvNet_1207/cifar10_ConvNet_none_T[100]_C[0.2]_iid[0]_E[5]_B[32]_GPU[0]_Pruned[0.0]...\n"
     ]
    }
   ],
   "source": [
    " args = easydict.EasyDict({\n",
    "    \"model\": 'ConvNet',\n",
    "    'dataset': 'cifar10',\n",
    "    'gpu': 0,\n",
    "    'iid': 0,\n",
    "    'epochs': 100,\n",
    "    'optimizer': 'sgd',\n",
    "    'seed': 0,\n",
    "    'norm': 'none',\n",
    "    'num_users': 50,\n",
    "    'frac': 0.2,\n",
    "    'local_ep': 5, \n",
    "    'local_bs': 32,\n",
    "    'lr': 0.01,\n",
    "    'momentum': 1,\n",
    "    'kernel_num': 9,\n",
    "    'kernel_sizes': 'only_momentum',\n",
    "    'num_channnels': '1',\n",
    "    'num_filters': 32,\n",
    "    'max_pool': 'True',\n",
    "    'num_classes': 10,\n",
    "    'unequal': 0,\n",
    "    'stopping_rounds': 0,\n",
    "    'verbose': 0,\n",
    "    'hold_normalize': 0,\n",
    "    'save_path': '../save/checkpoint',\n",
    "    'exp_folder': 'ConvNet_1207',\n",
    "    'resume': None,\n",
    "    'server_opt': 'sgdm',\n",
    "    'server_lr': 1.0,\n",
    "    'client_decay':0,\n",
    "    'local_decay':0,\n",
    "    'alpha': 0.05,\n",
    "    'server_epoch':0,\n",
    "    'cosine_norm':0, \n",
    "    'only_fc' :0 ,\n",
    "    'loss':'ce',\n",
    "    'dc_lr':0.0,\n",
    "    'tsne_pred':0,\n",
    "    'pruning': 0.0 })\n",
    "    \n",
    "    \n",
    "    \n",
    "temp = main_test(args)\n",
    "total.append(temp)"
   ]
  },
  {
   "cell_type": "code",
   "execution_count": 4,
   "id": "supported-classification",
   "metadata": {},
   "outputs": [
    {
     "name": "stderr",
     "output_type": "stream",
     "text": [
      "INFO:root:{'model': 'ConvNet', 'dataset': 'cifar10', 'gpu': 0, 'iid': 0, 'epochs': 100, 'optimizer': 'sgd', 'seed': 0, 'norm': 'none', 'num_users': 50, 'frac': 0.2, 'local_ep': 5, 'local_bs': 32, 'lr': 0.01, 'momentum': 1, 'kernel_num': 9, 'kernel_sizes': 'only_momentum', 'num_channnels': '1', 'num_filters': 32, 'max_pool': 'True', 'num_classes': 10, 'unequal': 0, 'stopping_rounds': 0, 'verbose': 0, 'hold_normalize': 0, 'save_path': '../save/checkpoint/ConvNet_1207', 'exp_folder': 'ConvNet_1207', 'resume': None, 'server_opt': 'sgd', 'server_lr': 1.0, 'client_decay': 0, 'local_decay': 0, 'alpha': 0.05, 'server_epoch': 0, 'cosine_norm': 0, 'only_fc': 0, 'loss': 'bsm', 'dc_lr': 0.0, 'tsne_pred': 0, 'pruning': 0.0}\n"
     ]
    },
    {
     "name": "stdout",
     "output_type": "stream",
     "text": [
      "Files already downloaded and verified\n",
      "Files already downloaded and verified\n",
      "Files already downloaded and verified\n"
     ]
    },
    {
     "name": "stderr",
     "output_type": "stream",
     "text": [
      "INFO:root:ConvNet(\n",
      "  (net_act): ReLU(inplace=True)\n",
      "  (net_pooling): MaxPool2d(kernel_size=2, stride=2, padding=0, dilation=1, ceil_mode=False)\n",
      "  (features): Sequential(\n",
      "    (0): Conv2d(3, 128, kernel_size=(3, 3), stride=(1, 1), padding=(1, 1))\n",
      "    (1): ReLU(inplace=True)\n",
      "    (2): MaxPool2d(kernel_size=2, stride=2, padding=0, dilation=1, ceil_mode=False)\n",
      "    (3): Conv2d(128, 128, kernel_size=(3, 3), stride=(1, 1), padding=(1, 1))\n",
      "    (4): ReLU(inplace=True)\n",
      "    (5): MaxPool2d(kernel_size=2, stride=2, padding=0, dilation=1, ceil_mode=False)\n",
      "    (6): Conv2d(128, 128, kernel_size=(3, 3), stride=(1, 1), padding=(1, 1))\n",
      "    (7): ReLU(inplace=True)\n",
      "    (8): MaxPool2d(kernel_size=2, stride=2, padding=0, dilation=1, ceil_mode=False)\n",
      "  )\n",
      "  (classifier): Linear(in_features=2048, out_features=10, bias=True)\n",
      ")\n",
      "INFO:root:None\n",
      "  0%|          | 0/100 [00:00<?, ?it/s]"
     ]
    },
    {
     "name": "stdout",
     "output_type": "stream",
     "text": [
      "----------------------------------------------------------------\n",
      "        Layer (type)               Output Shape         Param #\n",
      "================================================================\n",
      "            Conv2d-1          [-1, 128, 32, 32]           3,584\n",
      "              ReLU-2          [-1, 128, 32, 32]               0\n",
      "              ReLU-3          [-1, 128, 32, 32]               0\n",
      "         MaxPool2d-4          [-1, 128, 16, 16]               0\n",
      "         MaxPool2d-5          [-1, 128, 16, 16]               0\n",
      "            Conv2d-6          [-1, 128, 16, 16]         147,584\n",
      "              ReLU-7          [-1, 128, 16, 16]               0\n",
      "              ReLU-8          [-1, 128, 16, 16]               0\n",
      "         MaxPool2d-9            [-1, 128, 8, 8]               0\n",
      "        MaxPool2d-10            [-1, 128, 8, 8]               0\n",
      "           Conv2d-11            [-1, 128, 8, 8]         147,584\n",
      "             ReLU-12            [-1, 128, 8, 8]               0\n",
      "             ReLU-13            [-1, 128, 8, 8]               0\n",
      "        MaxPool2d-14            [-1, 128, 4, 4]               0\n",
      "        MaxPool2d-15            [-1, 128, 4, 4]               0\n",
      "           Linear-16                   [-1, 10]          20,490\n",
      "================================================================\n",
      "Total params: 319,242\n",
      "Trainable params: 319,242\n",
      "Non-trainable params: 0\n",
      "----------------------------------------------------------------\n",
      "Input size (MB): 0.01\n",
      "Forward/backward pass size (MB): 4.59\n",
      "Params size (MB): 1.22\n",
      "Estimated Total Size (MB): 5.82\n",
      "----------------------------------------------------------------\n",
      "[209, 1756, 422, 2575, 1018, 602, 2274, 447, 744, 1112, 123, 87, 1433, 1416, 40, 1119, 796, 794, 327, 470, 231, 813, 1320, 542, 690, 2195, 2934, 106, 1012, 15, 278, 1798, 303, 590, 2029, 201, 1053, 862, 231, 116, 4600, 19, 286, 1736, 2430, 431, 3195, 1780, 173, 267]\n",
      "[470, 2934, 201, 231, 2575, 744, 15, 123, 1119, 4600]\n"
     ]
    },
    {
     "name": "stderr",
     "output_type": "stream",
     "text": [
      "INFO:root: \n",
      "Avg Training Stats after 1 global rounds:\n",
      "INFO:root:Train Accuracy: 0.00%\n",
      "INFO:root:Training Loss : 0.2708574619777444\n",
      "INFO:root:Test Accuracy: 19.15%\n",
      "INFO:root:Test Loss: 2.2608575415611267 \n",
      "\n",
      "  1%|          | 1/100 [00:20<33:17, 20.17s/it]"
     ]
    },
    {
     "name": "stdout",
     "output_type": "stream",
     "text": [
      "[231, 173, 2575, 1736, 2430, 123, 4600, 690, 1012, 447]\n"
     ]
    },
    {
     "name": "stderr",
     "output_type": "stream",
     "text": [
      "INFO:root: \n",
      "Avg Training Stats after 2 global rounds:\n",
      "INFO:root:Train Accuracy: 0.00%\n",
      "INFO:root:Training Loss : 0.4578003472210961\n",
      "INFO:root:Test Accuracy: 23.78%\n",
      "INFO:root:Test Loss: 2.1468290996551516 \n",
      "\n",
      "  2%|▏         | 2/100 [00:40<33:31, 20.52s/it]"
     ]
    },
    {
     "name": "stdout",
     "output_type": "stream",
     "text": [
      "[744, 2575, 1320, 470, 2430, 2274, 267, 690, 209, 303]\n"
     ]
    },
    {
     "name": "stderr",
     "output_type": "stream",
     "text": [
      "INFO:root: \n",
      "Avg Training Stats after 3 global rounds:\n",
      "INFO:root:Train Accuracy: 0.00%\n",
      "INFO:root:Training Loss : 0.3548114878582669\n",
      "INFO:root:Test Accuracy: 24.76%\n",
      "INFO:root:Test Loss: 2.083016755580902 \n",
      "\n",
      "  3%|▎         | 3/100 [00:59<31:28, 19.47s/it]"
     ]
    },
    {
     "name": "stdout",
     "output_type": "stream",
     "text": [
      "[173, 690, 542, 1012, 2195, 1780, 1053, 87, 2934, 1736]\n"
     ]
    },
    {
     "name": "stderr",
     "output_type": "stream",
     "text": [
      "INFO:root: \n",
      "Avg Training Stats after 4 global rounds:\n",
      "INFO:root:Train Accuracy: 0.00%\n",
      "INFO:root:Training Loss : 0.5163581689212922\n",
      "INFO:root:Test Accuracy: 26.33%\n",
      "INFO:root:Test Loss: 2.019502067565918 \n",
      "\n",
      "  4%|▍         | 4/100 [01:18<31:00, 19.38s/it]"
     ]
    },
    {
     "name": "stdout",
     "output_type": "stream",
     "text": [
      "[2430, 2575, 1736, 123, 15, 1780, 1018, 231, 87, 794]\n"
     ]
    },
    {
     "name": "stderr",
     "output_type": "stream",
     "text": [
      "INFO:root: \n",
      "Avg Training Stats after 5 global rounds:\n",
      "INFO:root:Train Accuracy: 0.00%\n",
      "INFO:root:Training Loss : 0.35930382600106847\n",
      "INFO:root:Test Accuracy: 27.44%\n",
      "INFO:root:Test Loss: 1.9691011118888855 \n",
      "\n",
      "  5%|▌         | 5/100 [01:36<29:53, 18.88s/it]"
     ]
    },
    {
     "name": "stdout",
     "output_type": "stream",
     "text": [
      "[1119, 87, 590, 794, 813, 303, 1320, 690, 1018, 422]\n"
     ]
    },
    {
     "name": "stderr",
     "output_type": "stream",
     "text": [
      "INFO:root: \n",
      "Avg Training Stats after 6 global rounds:\n",
      "INFO:root:Train Accuracy: 0.00%\n",
      "INFO:root:Training Loss : 0.2893616971214522\n",
      "INFO:root:Test Accuracy: 32.08%\n",
      "INFO:root:Test Loss: 1.9021364986896514 \n",
      "\n",
      "  6%|▌         | 6/100 [01:51<27:23, 17.48s/it]"
     ]
    },
    {
     "name": "stdout",
     "output_type": "stream",
     "text": [
      "[2029, 1433, 303, 327, 744, 862, 2934, 231, 1416, 278]\n"
     ]
    },
    {
     "name": "stderr",
     "output_type": "stream",
     "text": [
      "INFO:root: \n",
      "Avg Training Stats after 7 global rounds:\n",
      "INFO:root:Train Accuracy: 0.00%\n",
      "INFO:root:Training Loss : 0.3971134257665193\n",
      "INFO:root:Test Accuracy: 31.89%\n",
      "INFO:root:Test Loss: 1.8572914123535156 \n",
      "\n",
      "  7%|▋         | 7/100 [02:08<27:11, 17.54s/it]"
     ]
    },
    {
     "name": "stdout",
     "output_type": "stream",
     "text": [
      "[231, 1112, 327, 744, 286, 422, 15, 1798, 1053, 173]\n"
     ]
    },
    {
     "name": "stderr",
     "output_type": "stream",
     "text": [
      "INFO:root: \n",
      "Avg Training Stats after 8 global rounds:\n",
      "INFO:root:Train Accuracy: 0.00%\n",
      "INFO:root:Training Loss : 0.41900318231236955\n",
      "INFO:root:Test Accuracy: 32.17%\n",
      "INFO:root:Test Loss: 1.8272493386268616 \n",
      "\n",
      "  8%|▊         | 8/100 [02:22<25:03, 16.34s/it]"
     ]
    },
    {
     "name": "stdout",
     "output_type": "stream",
     "text": [
      "[794, 278, 744, 862, 303, 19, 2274, 1053, 813, 1012]\n"
     ]
    },
    {
     "name": "stderr",
     "output_type": "stream",
     "text": [
      "INFO:root: \n",
      "Avg Training Stats after 9 global rounds:\n",
      "INFO:root:Train Accuracy: 0.00%\n",
      "INFO:root:Training Loss : 0.2254150927678482\n",
      "INFO:root:Test Accuracy: 33.49%\n",
      "INFO:root:Test Loss: 1.8030159819126128 \n",
      "\n",
      "  9%|▉         | 9/100 [02:38<24:21, 16.06s/it]"
     ]
    },
    {
     "name": "stdout",
     "output_type": "stream",
     "text": [
      "[1320, 40, 1756, 470, 327, 1012, 862, 1433, 796, 231]\n"
     ]
    },
    {
     "name": "stderr",
     "output_type": "stream",
     "text": [
      "INFO:root: \n",
      "Avg Training Stats after 10 global rounds:\n",
      "INFO:root:Train Accuracy: 0.00%\n",
      "INFO:root:Training Loss : 0.21306032416002743\n",
      "INFO:root:Test Accuracy: 33.80%\n",
      "INFO:root:Test Loss: 1.8043933665752412 \n",
      "\n",
      " 10%|█         | 10/100 [02:53<23:52, 15.92s/it]"
     ]
    },
    {
     "name": "stdout",
     "output_type": "stream",
     "text": [
      "[87, 201, 1798, 813, 123, 2934, 1756, 231, 1053, 4600]\n"
     ]
    },
    {
     "name": "stderr",
     "output_type": "stream",
     "text": [
      "INFO:root: \n",
      "Avg Training Stats after 11 global rounds:\n",
      "INFO:root:Train Accuracy: 0.00%\n",
      "INFO:root:Training Loss : 0.2872600351131692\n",
      "INFO:root:Test Accuracy: 35.73%\n",
      "INFO:root:Test Loss: 1.7441887140274048 \n",
      "\n",
      " 11%|█         | 11/100 [03:14<25:40, 17.30s/it]"
     ]
    },
    {
     "name": "stdout",
     "output_type": "stream",
     "text": [
      "[106, 231, 447, 796, 209, 1798, 1112, 1416, 590, 794]\n"
     ]
    },
    {
     "name": "stderr",
     "output_type": "stream",
     "text": [
      "INFO:root: \n",
      "Avg Training Stats after 12 global rounds:\n",
      "INFO:root:Train Accuracy: 0.00%\n",
      "INFO:root:Training Loss : 0.20064019342997966\n",
      "INFO:root:Test Accuracy: 36.08%\n",
      "INFO:root:Test Loss: 1.7308856099843979 \n",
      "\n",
      " 12%|█▏        | 12/100 [03:29<24:20, 16.60s/it]"
     ]
    },
    {
     "name": "stdout",
     "output_type": "stream",
     "text": [
      "[1320, 278, 862, 2274, 1798, 87, 2029, 796, 1018, 2430]\n"
     ]
    },
    {
     "name": "stderr",
     "output_type": "stream",
     "text": [
      "INFO:root: \n",
      "Avg Training Stats after 13 global rounds:\n",
      "INFO:root:Train Accuracy: 0.00%\n",
      "INFO:root:Training Loss : 0.2518342512313377\n",
      "INFO:root:Test Accuracy: 38.27%\n",
      "INFO:root:Test Loss: 1.6962059891223908 \n",
      "\n",
      " 13%|█▎        | 13/100 [03:49<25:33, 17.62s/it]"
     ]
    },
    {
     "name": "stdout",
     "output_type": "stream",
     "text": [
      "[4600, 2575, 590, 173, 2430, 40, 1112, 87, 231, 2195]\n"
     ]
    },
    {
     "name": "stderr",
     "output_type": "stream",
     "text": [
      "INFO:root: \n",
      "Avg Training Stats after 14 global rounds:\n",
      "INFO:root:Train Accuracy: 0.00%\n",
      "INFO:root:Training Loss : 0.30509338719042256\n",
      "INFO:root:Test Accuracy: 39.43%\n",
      "INFO:root:Test Loss: 1.663974979519844 \n",
      "\n",
      " 14%|█▍        | 14/100 [04:09<26:37, 18.57s/it]"
     ]
    },
    {
     "name": "stdout",
     "output_type": "stream",
     "text": [
      "[231, 794, 1018, 1012, 15, 303, 796, 2274, 1320, 19]\n"
     ]
    },
    {
     "name": "stderr",
     "output_type": "stream",
     "text": [
      "INFO:root: \n",
      "Avg Training Stats after 15 global rounds:\n",
      "INFO:root:Train Accuracy: 0.00%\n",
      "INFO:root:Training Loss : 0.19364324847229517\n",
      "INFO:root:Test Accuracy: 40.26%\n",
      "INFO:root:Test Loss: 1.6393947774171829 \n",
      "\n",
      " 15%|█▌        | 15/100 [04:24<24:51, 17.55s/it]"
     ]
    },
    {
     "name": "stdout",
     "output_type": "stream",
     "text": [
      "[2195, 40, 2029, 862, 2575, 1433, 447, 19, 4600, 796]\n"
     ]
    },
    {
     "name": "stderr",
     "output_type": "stream",
     "text": [
      "INFO:root: \n",
      "Avg Training Stats after 16 global rounds:\n",
      "INFO:root:Train Accuracy: 0.00%\n",
      "INFO:root:Training Loss : 0.21754257359118295\n",
      "INFO:root:Test Accuracy: 41.44%\n",
      "INFO:root:Test Loss: 1.6155709677934647 \n",
      "\n",
      " 16%|█▌        | 16/100 [04:46<26:14, 18.74s/it]"
     ]
    },
    {
     "name": "stdout",
     "output_type": "stream",
     "text": [
      "[231, 173, 303, 2274, 796, 116, 1798, 447, 106, 1433]\n"
     ]
    },
    {
     "name": "stderr",
     "output_type": "stream",
     "text": [
      "INFO:root: \n",
      "Avg Training Stats after 17 global rounds:\n",
      "INFO:root:Train Accuracy: 0.00%\n",
      "INFO:root:Training Loss : 0.20708942589132975\n",
      "INFO:root:Test Accuracy: 41.32%\n",
      "INFO:root:Test Loss: 1.6092883509397506 \n",
      "\n",
      " 17%|█▋        | 17/100 [05:01<24:25, 17.66s/it]"
     ]
    },
    {
     "name": "stdout",
     "output_type": "stream",
     "text": [
      "[201, 1756, 796, 1320, 813, 542, 116, 173, 794, 1798]\n"
     ]
    },
    {
     "name": "stderr",
     "output_type": "stream",
     "text": [
      "INFO:root: \n",
      "Avg Training Stats after 18 global rounds:\n",
      "INFO:root:Train Accuracy: 0.00%\n",
      "INFO:root:Training Loss : 0.28374199088919766\n",
      "INFO:root:Test Accuracy: 41.38%\n",
      "INFO:root:Test Loss: 1.601484717130661 \n",
      "\n",
      " 18%|█▊        | 18/100 [05:17<23:17, 17.04s/it]"
     ]
    },
    {
     "name": "stdout",
     "output_type": "stream",
     "text": [
      "[15, 1780, 19, 744, 2575, 173, 813, 40, 1320, 422]\n"
     ]
    },
    {
     "name": "stderr",
     "output_type": "stream",
     "text": [
      "INFO:root: \n",
      "Avg Training Stats after 19 global rounds:\n",
      "INFO:root:Train Accuracy: 0.00%\n",
      "INFO:root:Training Loss : 0.27335209882909345\n",
      "INFO:root:Test Accuracy: 42.11%\n",
      "INFO:root:Test Loss: 1.590115767121315 \n",
      "\n",
      " 19%|█▉        | 19/100 [05:32<22:14, 16.48s/it]"
     ]
    },
    {
     "name": "stdout",
     "output_type": "stream",
     "text": [
      "[813, 1736, 15, 1433, 267, 470, 3195, 744, 2575, 231]\n"
     ]
    },
    {
     "name": "stderr",
     "output_type": "stream",
     "text": [
      "INFO:root: \n",
      "Avg Training Stats after 20 global rounds:\n",
      "INFO:root:Train Accuracy: 0.00%\n",
      "INFO:root:Training Loss : 0.18932492669773937\n",
      "INFO:root:Test Accuracy: 41.15%\n",
      "INFO:root:Test Loss: 1.5901053881645202 \n",
      "\n",
      " 20%|██        | 20/100 [05:51<22:50, 17.13s/it]"
     ]
    },
    {
     "name": "stdout",
     "output_type": "stream",
     "text": [
      "[278, 744, 1053, 447, 1320, 116, 1798, 19, 4600, 3195]\n"
     ]
    },
    {
     "name": "stderr",
     "output_type": "stream",
     "text": [
      "INFO:root: \n",
      "Avg Training Stats after 21 global rounds:\n",
      "INFO:root:Train Accuracy: 0.00%\n",
      "INFO:root:Training Loss : 0.30673103881719777\n",
      "INFO:root:Test Accuracy: 40.84%\n",
      "INFO:root:Test Loss: 1.5846569550037384 \n",
      "\n",
      " 21%|██        | 21/100 [06:11<23:45, 18.05s/it]"
     ]
    },
    {
     "name": "stdout",
     "output_type": "stream",
     "text": [
      "[813, 2029, 602, 590, 1756, 106, 1780, 40, 19, 2934]\n"
     ]
    },
    {
     "name": "stderr",
     "output_type": "stream",
     "text": [
      "INFO:root: \n",
      "Avg Training Stats after 22 global rounds:\n",
      "INFO:root:Train Accuracy: 0.00%\n",
      "INFO:root:Training Loss : 0.15104755264466135\n",
      "INFO:root:Test Accuracy: 40.41%\n",
      "INFO:root:Test Loss: 1.5767812377214432 \n",
      "\n",
      " 22%|██▏       | 22/100 [06:28<23:20, 17.96s/it]"
     ]
    },
    {
     "name": "stdout",
     "output_type": "stream",
     "text": [
      "[40, 862, 327, 1780, 2274, 106, 1053, 1112, 1012, 3195]\n"
     ]
    },
    {
     "name": "stderr",
     "output_type": "stream",
     "text": [
      "INFO:root: \n",
      "Avg Training Stats after 23 global rounds:\n",
      "INFO:root:Train Accuracy: 0.00%\n",
      "INFO:root:Training Loss : 0.24480422299107177\n",
      "INFO:root:Test Accuracy: 41.00%\n",
      "INFO:root:Test Loss: 1.5636030739545823 \n",
      "\n",
      " 23%|██▎       | 23/100 [06:47<23:23, 18.23s/it]"
     ]
    },
    {
     "name": "stdout",
     "output_type": "stream",
     "text": [
      "[1320, 1119, 862, 744, 1053, 87, 201, 470, 2274, 1012]\n"
     ]
    },
    {
     "name": "stderr",
     "output_type": "stream",
     "text": [
      "INFO:root: \n",
      "Avg Training Stats after 24 global rounds:\n",
      "INFO:root:Train Accuracy: 0.00%\n",
      "INFO:root:Training Loss : 0.23651437124120664\n",
      "INFO:root:Test Accuracy: 42.45%\n",
      "INFO:root:Test Loss: 1.5419051545858382 \n",
      "\n",
      " 24%|██▍       | 24/100 [07:04<22:24, 17.69s/it]"
     ]
    },
    {
     "name": "stdout",
     "output_type": "stream",
     "text": [
      "[447, 286, 1416, 87, 796, 1798, 231, 1119, 431, 2195]\n"
     ]
    },
    {
     "name": "stderr",
     "output_type": "stream",
     "text": [
      "INFO:root: \n",
      "Avg Training Stats after 25 global rounds:\n",
      "INFO:root:Train Accuracy: 0.00%\n",
      "INFO:root:Training Loss : 0.29644869214483893\n",
      "INFO:root:Test Accuracy: 43.32%\n",
      "INFO:root:Test Loss: 1.5286681240797042 \n",
      "\n",
      " 25%|██▌       | 25/100 [07:20<21:33, 17.25s/it]"
     ]
    },
    {
     "name": "stdout",
     "output_type": "stream",
     "text": [
      "[116, 2029, 690, 1416, 1780, 602, 2575, 1756, 431, 87]\n"
     ]
    },
    {
     "name": "stderr",
     "output_type": "stream",
     "text": [
      "INFO:root: \n",
      "Avg Training Stats after 26 global rounds:\n",
      "INFO:root:Train Accuracy: 0.00%\n",
      "INFO:root:Training Loss : 0.34731116485165286\n",
      "INFO:root:Test Accuracy: 43.50%\n",
      "INFO:root:Test Loss: 1.5228328388929366 \n",
      "\n",
      " 26%|██▌       | 26/100 [07:38<21:42, 17.61s/it]"
     ]
    },
    {
     "name": "stdout",
     "output_type": "stream",
     "text": [
      "[87, 173, 2029, 19, 4600, 2195, 116, 303, 40, 209]\n"
     ]
    },
    {
     "name": "stderr",
     "output_type": "stream",
     "text": [
      "INFO:root: \n",
      "Avg Training Stats after 27 global rounds:\n",
      "INFO:root:Train Accuracy: 0.00%\n",
      "INFO:root:Training Loss : 0.3227130486807503\n",
      "INFO:root:Test Accuracy: 44.14%\n",
      "INFO:root:Test Loss: 1.4953166192770004 \n",
      "\n",
      " 27%|██▋       | 27/100 [07:56<21:14, 17.46s/it]"
     ]
    },
    {
     "name": "stdout",
     "output_type": "stream",
     "text": [
      "[4600, 267, 794, 231, 201, 231, 2934, 590, 470, 173]\n"
     ]
    },
    {
     "name": "stderr",
     "output_type": "stream",
     "text": [
      "INFO:root: \n",
      "Avg Training Stats after 28 global rounds:\n",
      "INFO:root:Train Accuracy: 0.00%\n",
      "INFO:root:Training Loss : 0.28546300440715977\n",
      "INFO:root:Test Accuracy: 44.64%\n",
      "INFO:root:Test Loss: 1.4771069556474685 \n",
      "\n",
      " 28%|██▊       | 28/100 [08:13<20:57, 17.46s/it]"
     ]
    },
    {
     "name": "stdout",
     "output_type": "stream",
     "text": [
      "[1798, 286, 123, 1112, 303, 796, 744, 1320, 231, 794]\n"
     ]
    },
    {
     "name": "stderr",
     "output_type": "stream",
     "text": [
      "INFO:root: \n",
      "Avg Training Stats after 29 global rounds:\n",
      "INFO:root:Train Accuracy: 0.00%\n",
      "INFO:root:Training Loss : 0.12821937874037098\n",
      "INFO:root:Test Accuracy: 44.95%\n",
      "INFO:root:Test Loss: 1.4705260187387466 \n",
      "\n",
      " 29%|██▉       | 29/100 [08:28<19:43, 16.67s/it]"
     ]
    },
    {
     "name": "stdout",
     "output_type": "stream",
     "text": [
      "[303, 4600, 1119, 447, 744, 40, 1756, 2430, 2029, 602]\n"
     ]
    },
    {
     "name": "stderr",
     "output_type": "stream",
     "text": [
      "INFO:root: \n",
      "Avg Training Stats after 30 global rounds:\n",
      "INFO:root:Train Accuracy: 0.00%\n",
      "INFO:root:Training Loss : 0.1484016342065127\n",
      "INFO:root:Test Accuracy: 45.28%\n",
      "INFO:root:Test Loss: 1.4635132014751435 \n",
      "\n",
      " 30%|███       | 30/100 [08:49<20:56, 17.95s/it]"
     ]
    },
    {
     "name": "stdout",
     "output_type": "stream",
     "text": [
      "[422, 3195, 1112, 327, 123, 1736, 303, 286, 106, 1433]\n"
     ]
    },
    {
     "name": "stderr",
     "output_type": "stream",
     "text": [
      "INFO:root: \n",
      "Avg Training Stats after 31 global rounds:\n",
      "INFO:root:Train Accuracy: 0.00%\n",
      "INFO:root:Training Loss : 0.1903728009610379\n",
      "INFO:root:Test Accuracy: 44.90%\n",
      "INFO:root:Test Loss: 1.4745027947425842 \n",
      "\n",
      " 31%|███       | 31/100 [09:05<20:05, 17.48s/it]"
     ]
    },
    {
     "name": "stdout",
     "output_type": "stream",
     "text": [
      "[862, 173, 422, 303, 123, 1012, 542, 278, 431, 2195]\n"
     ]
    },
    {
     "name": "stderr",
     "output_type": "stream",
     "text": [
      "INFO:root: \n",
      "Avg Training Stats after 32 global rounds:\n",
      "INFO:root:Train Accuracy: 0.00%\n",
      "INFO:root:Training Loss : 0.33349433857235367\n",
      "INFO:root:Test Accuracy: 46.33%\n",
      "INFO:root:Test Loss: 1.4479416370391847 \n",
      "\n",
      " 32%|███▏      | 32/100 [09:19<18:35, 16.41s/it]"
     ]
    },
    {
     "name": "stdout",
     "output_type": "stream",
     "text": [
      "[1320, 15, 19, 1756, 231, 470, 267, 87, 862, 327]\n"
     ]
    },
    {
     "name": "stderr",
     "output_type": "stream",
     "text": [
      "INFO:root: \n",
      "Avg Training Stats after 33 global rounds:\n",
      "INFO:root:Train Accuracy: 0.00%\n",
      "INFO:root:Training Loss : 0.2875995568046516\n",
      "INFO:root:Test Accuracy: 46.93%\n",
      "INFO:root:Test Loss: 1.4404215914011003 \n",
      "\n",
      " 33%|███▎      | 33/100 [09:32<17:10, 15.38s/it]"
     ]
    },
    {
     "name": "stdout",
     "output_type": "stream",
     "text": [
      "[87, 267, 796, 1053, 1433, 2575, 1119, 794, 15, 327]\n"
     ]
    },
    {
     "name": "stderr",
     "output_type": "stream",
     "text": [
      "INFO:root: \n",
      "Avg Training Stats after 34 global rounds:\n",
      "INFO:root:Train Accuracy: 0.00%\n",
      "INFO:root:Training Loss : 0.2308347408001369\n",
      "INFO:root:Test Accuracy: 47.01%\n",
      "INFO:root:Test Loss: 1.4325194710493088 \n",
      "\n",
      " 34%|███▍      | 34/100 [09:48<17:07, 15.56s/it]"
     ]
    },
    {
     "name": "stdout",
     "output_type": "stream",
     "text": [
      "[422, 1798, 590, 796, 19, 1320, 173, 1416, 1053, 4600]\n"
     ]
    },
    {
     "name": "stderr",
     "output_type": "stream",
     "text": [
      "INFO:root: \n",
      "Avg Training Stats after 35 global rounds:\n",
      "INFO:root:Train Accuracy: 0.00%\n",
      "INFO:root:Training Loss : 0.2929527496118553\n",
      "INFO:root:Test Accuracy: 47.20%\n",
      "INFO:root:Test Loss: 1.4228171026706695 \n",
      "\n",
      " 35%|███▌      | 35/100 [10:07<18:00, 16.63s/it]"
     ]
    },
    {
     "name": "stdout",
     "output_type": "stream",
     "text": [
      "[2430, 1320, 602, 3195, 231, 2934, 431, 794, 1416, 542]\n"
     ]
    },
    {
     "name": "stderr",
     "output_type": "stream",
     "text": [
      "INFO:root: \n",
      "Avg Training Stats after 36 global rounds:\n",
      "INFO:root:Train Accuracy: 0.00%\n",
      "INFO:root:Training Loss : 0.23421136679717977\n",
      "INFO:root:Test Accuracy: 47.83%\n",
      "INFO:root:Test Loss: 1.411282826066017 \n",
      "\n",
      " 36%|███▌      | 36/100 [10:28<19:02, 17.85s/it]"
     ]
    },
    {
     "name": "stdout",
     "output_type": "stream",
     "text": [
      "[15, 813, 1112, 123, 40, 796, 2274, 1018, 2195, 201]\n"
     ]
    },
    {
     "name": "stderr",
     "output_type": "stream",
     "text": [
      "INFO:root: \n",
      "Avg Training Stats after 37 global rounds:\n",
      "INFO:root:Train Accuracy: 0.00%\n",
      "INFO:root:Training Loss : 0.1742075452226496\n",
      "INFO:root:Test Accuracy: 48.42%\n",
      "INFO:root:Test Loss: 1.405327936410904 \n",
      "\n",
      " 37%|███▋      | 37/100 [10:44<18:06, 17.25s/it]"
     ]
    },
    {
     "name": "stdout",
     "output_type": "stream",
     "text": [
      "[303, 2195, 422, 1112, 1433, 116, 796, 602, 1756, 231]\n"
     ]
    },
    {
     "name": "stderr",
     "output_type": "stream",
     "text": [
      "INFO:root: \n",
      "Avg Training Stats after 38 global rounds:\n",
      "INFO:root:Train Accuracy: 0.00%\n",
      "INFO:root:Training Loss : 0.2441945463136601\n",
      "INFO:root:Test Accuracy: 48.59%\n",
      "INFO:root:Test Loss: 1.4008350533246994 \n",
      "\n",
      " 38%|███▊      | 38/100 [11:00<17:32, 16.98s/it]"
     ]
    },
    {
     "name": "stdout",
     "output_type": "stream",
     "text": [
      "[1756, 231, 267, 2430, 590, 1736, 15, 4600, 327, 1112]\n"
     ]
    },
    {
     "name": "stderr",
     "output_type": "stream",
     "text": [
      "INFO:root: \n",
      "Avg Training Stats after 39 global rounds:\n",
      "INFO:root:Train Accuracy: 0.00%\n",
      "INFO:root:Training Loss : 0.21371851638531286\n",
      "INFO:root:Test Accuracy: 48.11%\n",
      "INFO:root:Test Loss: 1.401367802619934 \n",
      "\n",
      " 39%|███▉      | 39/100 [11:20<18:10, 17.87s/it]"
     ]
    },
    {
     "name": "stdout",
     "output_type": "stream",
     "text": [
      "[2575, 422, 3195, 862, 231, 796, 2934, 123, 2430, 794]\n"
     ]
    },
    {
     "name": "stderr",
     "output_type": "stream",
     "text": [
      "INFO:root: \n",
      "Avg Training Stats after 40 global rounds:\n",
      "INFO:root:Train Accuracy: 0.00%\n",
      "INFO:root:Training Loss : 0.20878952506013562\n",
      "INFO:root:Test Accuracy: 48.23%\n",
      "INFO:root:Test Loss: 1.3995990812778474 \n",
      "\n",
      " 40%|████      | 40/100 [11:41<18:51, 18.85s/it]"
     ]
    },
    {
     "name": "stdout",
     "output_type": "stream",
     "text": [
      "[231, 1119, 1736, 278, 447, 1018, 286, 744, 690, 173]\n"
     ]
    },
    {
     "name": "stderr",
     "output_type": "stream",
     "text": [
      "INFO:root: \n",
      "Avg Training Stats after 41 global rounds:\n",
      "INFO:root:Train Accuracy: 0.00%\n",
      "INFO:root:Training Loss : 0.253485133828166\n",
      "INFO:root:Test Accuracy: 49.38%\n",
      "INFO:root:Test Loss: 1.3785377877950669 \n",
      "\n",
      " 41%|████      | 41/100 [11:55<17:12, 17.49s/it]"
     ]
    },
    {
     "name": "stdout",
     "output_type": "stream",
     "text": [
      "[231, 1320, 1416, 2575, 2274, 862, 690, 602, 1012, 173]\n"
     ]
    },
    {
     "name": "stderr",
     "output_type": "stream",
     "text": [
      "INFO:root: \n",
      "Avg Training Stats after 42 global rounds:\n",
      "INFO:root:Train Accuracy: 0.00%\n",
      "INFO:root:Training Loss : 0.2475967069594021\n",
      "INFO:root:Test Accuracy: 49.79%\n",
      "INFO:root:Test Loss: 1.367759788632393 \n",
      "\n",
      " 42%|████▏     | 42/100 [12:14<17:07, 17.71s/it]"
     ]
    },
    {
     "name": "stdout",
     "output_type": "stream",
     "text": [
      "[1112, 1053, 3195, 2934, 2029, 201, 123, 2195, 1018, 173]\n"
     ]
    },
    {
     "name": "stderr",
     "output_type": "stream",
     "text": [
      "INFO:root: \n",
      "Avg Training Stats after 43 global rounds:\n",
      "INFO:root:Train Accuracy: 0.00%\n",
      "INFO:root:Training Loss : 0.2856311273890838\n",
      "INFO:root:Test Accuracy: 49.82%\n",
      "INFO:root:Test Loss: 1.3716627031564712 \n",
      "\n",
      " 43%|████▎     | 43/100 [12:35<17:43, 18.66s/it]"
     ]
    },
    {
     "name": "stdout",
     "output_type": "stream",
     "text": [
      "[862, 1053, 422, 3195, 4600, 794, 1756, 173, 2029, 1018]\n"
     ]
    },
    {
     "name": "stderr",
     "output_type": "stream",
     "text": [
      "INFO:root: \n",
      "Avg Training Stats after 44 global rounds:\n",
      "INFO:root:Train Accuracy: 0.00%\n",
      "INFO:root:Training Loss : 0.2896592031595998\n",
      "INFO:root:Test Accuracy: 49.37%\n",
      "INFO:root:Test Loss: 1.3624513387680053 \n",
      "\n",
      " 44%|████▍     | 44/100 [12:57<18:28, 19.79s/it]"
     ]
    },
    {
     "name": "stdout",
     "output_type": "stream",
     "text": [
      "[1320, 2934, 796, 2195, 862, 2575, 2029, 19, 422, 286]\n"
     ]
    },
    {
     "name": "stderr",
     "output_type": "stream",
     "text": [
      "INFO:root: \n",
      "Avg Training Stats after 45 global rounds:\n",
      "INFO:root:Train Accuracy: 0.00%\n",
      "INFO:root:Training Loss : 0.20166954257884825\n",
      "INFO:root:Test Accuracy: 49.75%\n",
      "INFO:root:Test Loss: 1.3618080008029938 \n",
      "\n",
      " 45%|████▌     | 45/100 [13:17<18:15, 19.91s/it]"
     ]
    },
    {
     "name": "stdout",
     "output_type": "stream",
     "text": [
      "[862, 744, 1416, 1112, 590, 542, 278, 690, 116, 1780]\n"
     ]
    },
    {
     "name": "stderr",
     "output_type": "stream",
     "text": [
      "INFO:root: \n",
      "Avg Training Stats after 46 global rounds:\n",
      "INFO:root:Train Accuracy: 0.00%\n",
      "INFO:root:Training Loss : 0.34842848004331206\n",
      "INFO:root:Test Accuracy: 50.56%\n",
      "INFO:root:Test Loss: 1.3483981263637543 \n",
      "\n",
      " 46%|████▌     | 46/100 [13:33<16:42, 18.57s/it]"
     ]
    },
    {
     "name": "stdout",
     "output_type": "stream",
     "text": [
      "[2575, 1112, 1320, 231, 3195, 1012, 862, 447, 2195, 201]\n"
     ]
    },
    {
     "name": "stderr",
     "output_type": "stream",
     "text": [
      "INFO:root: \n",
      "Avg Training Stats after 47 global rounds:\n",
      "INFO:root:Train Accuracy: 0.00%\n",
      "INFO:root:Training Loss : 0.16069112832195392\n",
      "INFO:root:Test Accuracy: 50.98%\n",
      "INFO:root:Test Loss: 1.3365624517202377 \n",
      "\n",
      " 47%|████▋     | 47/100 [13:53<16:48, 19.02s/it]"
     ]
    },
    {
     "name": "stdout",
     "output_type": "stream",
     "text": [
      "[1433, 542, 813, 231, 1119, 2029, 1012, 173, 2195, 1320]\n"
     ]
    },
    {
     "name": "stderr",
     "output_type": "stream",
     "text": [
      "INFO:root: \n",
      "Avg Training Stats after 48 global rounds:\n",
      "INFO:root:Train Accuracy: 0.00%\n",
      "INFO:root:Training Loss : 0.17541633826300285\n",
      "INFO:root:Test Accuracy: 50.42%\n",
      "INFO:root:Test Loss: 1.3393289870023728 \n",
      "\n",
      " 48%|████▊     | 48/100 [14:11<16:12, 18.69s/it]"
     ]
    },
    {
     "name": "stdout",
     "output_type": "stream",
     "text": [
      "[744, 2195, 209, 1780, 2575, 123, 327, 40, 1736, 690]\n"
     ]
    },
    {
     "name": "stderr",
     "output_type": "stream",
     "text": [
      "INFO:root: \n",
      "Avg Training Stats after 49 global rounds:\n",
      "INFO:root:Train Accuracy: 0.00%\n",
      "INFO:root:Training Loss : 0.29201925309580556\n",
      "INFO:root:Test Accuracy: 50.75%\n",
      "INFO:root:Test Loss: 1.3364071089029312 \n",
      "\n",
      " 49%|████▉     | 49/100 [14:28<15:35, 18.34s/it]"
     ]
    },
    {
     "name": "stdout",
     "output_type": "stream",
     "text": [
      "[862, 690, 1433, 173, 3195, 2934, 116, 447, 231, 431]\n"
     ]
    },
    {
     "name": "stderr",
     "output_type": "stream",
     "text": [
      "INFO:root: \n",
      "Avg Training Stats after 50 global rounds:\n",
      "INFO:root:Train Accuracy: 0.00%\n",
      "INFO:root:Training Loss : 0.31967679496725576\n",
      "INFO:root:Test Accuracy: 50.91%\n",
      "INFO:root:Test Loss: 1.3451295989751815 \n",
      "\n",
      " 50%|█████     | 50/100 [14:46<15:06, 18.14s/it]"
     ]
    },
    {
     "name": "stdout",
     "output_type": "stream",
     "text": [
      "[1320, 19, 3195, 87, 1756, 303, 813, 2575, 231, 231]\n"
     ]
    },
    {
     "name": "stderr",
     "output_type": "stream",
     "text": [
      "INFO:root: \n",
      "Avg Training Stats after 51 global rounds:\n",
      "INFO:root:Train Accuracy: 0.00%\n",
      "INFO:root:Training Loss : 0.0950956246054592\n",
      "INFO:root:Test Accuracy: 50.41%\n",
      "INFO:root:Test Loss: 1.345370618700981 \n",
      "\n",
      " 51%|█████     | 51/100 [15:03<14:38, 17.92s/it]"
     ]
    },
    {
     "name": "stdout",
     "output_type": "stream",
     "text": [
      "[40, 813, 1780, 2934, 15, 173, 278, 19, 1798, 267]\n"
     ]
    },
    {
     "name": "stderr",
     "output_type": "stream",
     "text": [
      "INFO:root: \n",
      "Avg Training Stats after 52 global rounds:\n",
      "INFO:root:Train Accuracy: 0.00%\n",
      "INFO:root:Training Loss : 0.2099119854935106\n",
      "INFO:root:Test Accuracy: 50.62%\n",
      "INFO:root:Test Loss: 1.3330203586816787 \n",
      "\n",
      " 52%|█████▏    | 52/100 [15:19<13:44, 17.17s/it]"
     ]
    },
    {
     "name": "stdout",
     "output_type": "stream",
     "text": [
      "[267, 231, 690, 173, 1780, 1053, 862, 590, 1433, 303]\n"
     ]
    },
    {
     "name": "stderr",
     "output_type": "stream",
     "text": [
      "INFO:root: \n",
      "Avg Training Stats after 53 global rounds:\n",
      "INFO:root:Train Accuracy: 0.00%\n",
      "INFO:root:Training Loss : 0.2862586884545187\n",
      "INFO:root:Test Accuracy: 51.88%\n",
      "INFO:root:Test Loss: 1.3155669569969177 \n",
      "\n",
      " 53%|█████▎    | 53/100 [15:33<12:53, 16.45s/it]"
     ]
    },
    {
     "name": "stdout",
     "output_type": "stream",
     "text": [
      "[431, 3195, 201, 796, 2934, 15, 231, 1112, 1736, 267]\n"
     ]
    },
    {
     "name": "stderr",
     "output_type": "stream",
     "text": [
      "INFO:root: \n",
      "Avg Training Stats after 54 global rounds:\n",
      "INFO:root:Train Accuracy: 0.00%\n",
      "INFO:root:Training Loss : 0.22158014773515183\n",
      "INFO:root:Test Accuracy: 51.30%\n",
      "INFO:root:Test Loss: 1.3272790646553039 \n",
      "\n",
      " 54%|█████▍    | 54/100 [15:52<13:06, 17.10s/it]"
     ]
    },
    {
     "name": "stdout",
     "output_type": "stream",
     "text": [
      "[40, 1320, 1416, 286, 2195, 1012, 201, 116, 1053, 542]\n"
     ]
    },
    {
     "name": "stderr",
     "output_type": "stream",
     "text": [
      "INFO:root: \n",
      "Avg Training Stats after 55 global rounds:\n",
      "INFO:root:Train Accuracy: 0.00%\n",
      "INFO:root:Training Loss : 0.3006568458282487\n",
      "INFO:root:Test Accuracy: 51.73%\n",
      "INFO:root:Test Loss: 1.3136587822437287 \n",
      "\n",
      " 55%|█████▌    | 55/100 [16:08<12:30, 16.67s/it]"
     ]
    },
    {
     "name": "stdout",
     "output_type": "stream",
     "text": [
      "[1798, 422, 231, 4600, 231, 2575, 1433, 106, 1320, 862]\n"
     ]
    },
    {
     "name": "stderr",
     "output_type": "stream",
     "text": [
      "INFO:root: \n",
      "Avg Training Stats after 56 global rounds:\n",
      "INFO:root:Train Accuracy: 0.00%\n",
      "INFO:root:Training Loss : 0.15394556304038362\n",
      "INFO:root:Test Accuracy: 52.24%\n",
      "INFO:root:Test Loss: 1.298832470178604 \n",
      "\n",
      " 56%|█████▌    | 56/100 [16:28<13:02, 17.78s/it]"
     ]
    },
    {
     "name": "stdout",
     "output_type": "stream",
     "text": [
      "[2274, 3195, 267, 2029, 590, 327, 2195, 278, 1756, 813]\n"
     ]
    },
    {
     "name": "stderr",
     "output_type": "stream",
     "text": [
      "INFO:root: \n",
      "Avg Training Stats after 57 global rounds:\n",
      "INFO:root:Train Accuracy: 0.00%\n",
      "INFO:root:Training Loss : 0.2048906162525034\n",
      "INFO:root:Test Accuracy: 52.22%\n",
      "INFO:root:Test Loss: 1.3025741821527481 \n",
      "\n",
      " 57%|█████▋    | 57/100 [16:49<13:25, 18.72s/it]"
     ]
    },
    {
     "name": "stdout",
     "output_type": "stream",
     "text": [
      "[1798, 431, 123, 1320, 1416, 231, 2575, 2934, 19, 1756]\n"
     ]
    },
    {
     "name": "stderr",
     "output_type": "stream",
     "text": [
      "INFO:root: \n",
      "Avg Training Stats after 58 global rounds:\n",
      "INFO:root:Train Accuracy: 0.00%\n",
      "INFO:root:Training Loss : 0.17759545984124475\n",
      "INFO:root:Test Accuracy: 52.25%\n",
      "INFO:root:Test Loss: 1.3078938955068589 \n",
      "\n",
      " 58%|█████▊    | 58/100 [17:10<13:28, 19.26s/it]"
     ]
    },
    {
     "name": "stdout",
     "output_type": "stream",
     "text": [
      "[1018, 267, 2274, 447, 2029, 690, 590, 303, 1119, 796]\n"
     ]
    },
    {
     "name": "stderr",
     "output_type": "stream",
     "text": [
      "INFO:root: \n",
      "Avg Training Stats after 59 global rounds:\n",
      "INFO:root:Train Accuracy: 0.00%\n",
      "INFO:root:Training Loss : 0.16335035605171347\n",
      "INFO:root:Test Accuracy: 52.91%\n",
      "INFO:root:Test Loss: 1.285895472764969 \n",
      "\n",
      " 59%|█████▉    | 59/100 [17:26<12:37, 18.47s/it]"
     ]
    },
    {
     "name": "stdout",
     "output_type": "stream",
     "text": [
      "[106, 2430, 447, 1433, 1012, 3195, 1119, 1756, 862, 4600]\n"
     ]
    },
    {
     "name": "stderr",
     "output_type": "stream",
     "text": [
      "INFO:root: \n",
      "Avg Training Stats after 60 global rounds:\n",
      "INFO:root:Train Accuracy: 0.00%\n",
      "INFO:root:Training Loss : 0.10742542628294123\n",
      "INFO:root:Test Accuracy: 52.76%\n",
      "INFO:root:Test Loss: 1.2837814337015152 \n",
      "\n",
      " 60%|██████    | 60/100 [17:50<13:18, 19.96s/it]"
     ]
    },
    {
     "name": "stdout",
     "output_type": "stream",
     "text": [
      "[1780, 1320, 286, 2029, 40, 796, 447, 15, 231, 744]\n"
     ]
    },
    {
     "name": "stderr",
     "output_type": "stream",
     "text": [
      "INFO:root: \n",
      "Avg Training Stats after 61 global rounds:\n",
      "INFO:root:Train Accuracy: 0.00%\n",
      "INFO:root:Training Loss : 0.15563177199616363\n",
      "INFO:root:Test Accuracy: 52.34%\n",
      "INFO:root:Test Loss: 1.3001196360588074 \n",
      "\n",
      " 61%|██████    | 61/100 [18:05<12:01, 18.51s/it]"
     ]
    },
    {
     "name": "stdout",
     "output_type": "stream",
     "text": [
      "[116, 15, 2029, 327, 19, 470, 422, 87, 1012, 303]\n"
     ]
    },
    {
     "name": "stderr",
     "output_type": "stream",
     "text": [
      "INFO:root: \n",
      "Avg Training Stats after 62 global rounds:\n",
      "INFO:root:Train Accuracy: 0.00%\n",
      "INFO:root:Training Loss : 0.2143292795035952\n",
      "INFO:root:Test Accuracy: 52.17%\n",
      "INFO:root:Test Loss: 1.2913869255781174 \n",
      "\n",
      " 62%|██████▏   | 62/100 [18:17<10:37, 16.77s/it]"
     ]
    },
    {
     "name": "stdout",
     "output_type": "stream",
     "text": [
      "[796, 2274, 862, 286, 813, 3195, 1112, 422, 1119, 327]\n"
     ]
    },
    {
     "name": "stderr",
     "output_type": "stream",
     "text": [
      "INFO:root: \n",
      "Avg Training Stats after 63 global rounds:\n",
      "INFO:root:Train Accuracy: 0.00%\n",
      "INFO:root:Training Loss : 0.17509419040282115\n",
      "INFO:root:Test Accuracy: 51.47%\n",
      "INFO:root:Test Loss: 1.3075684520602227 \n",
      "\n",
      " 63%|██████▎   | 63/100 [18:36<10:39, 17.29s/it]"
     ]
    },
    {
     "name": "stdout",
     "output_type": "stream",
     "text": [
      "[542, 1798, 690, 15, 267, 2575, 796, 590, 209, 470]\n"
     ]
    },
    {
     "name": "stderr",
     "output_type": "stream",
     "text": [
      "INFO:root: \n",
      "Avg Training Stats after 64 global rounds:\n",
      "INFO:root:Train Accuracy: 0.00%\n",
      "INFO:root:Training Loss : 0.19019787269111132\n",
      "INFO:root:Test Accuracy: 52.25%\n",
      "INFO:root:Test Loss: 1.2951994174718857 \n",
      "\n",
      " 64%|██████▍   | 64/100 [18:51<10:02, 16.73s/it]"
     ]
    },
    {
     "name": "stdout",
     "output_type": "stream",
     "text": [
      "[87, 267, 286, 1053, 303, 796, 40, 173, 19, 327]\n"
     ]
    },
    {
     "name": "stderr",
     "output_type": "stream",
     "text": [
      "INFO:root: \n",
      "Avg Training Stats after 65 global rounds:\n",
      "INFO:root:Train Accuracy: 0.00%\n",
      "INFO:root:Training Loss : 0.2592837691371056\n",
      "INFO:root:Test Accuracy: 53.52%\n",
      "INFO:root:Test Loss: 1.2740491896867752 \n",
      "\n",
      " 65%|██████▌   | 65/100 [19:02<08:46, 15.06s/it]"
     ]
    },
    {
     "name": "stdout",
     "output_type": "stream",
     "text": [
      "[813, 542, 106, 123, 4600, 40, 209, 2029, 1736, 2195]\n"
     ]
    },
    {
     "name": "stderr",
     "output_type": "stream",
     "text": [
      "INFO:root: \n",
      "Avg Training Stats after 66 global rounds:\n",
      "INFO:root:Train Accuracy: 0.00%\n",
      "INFO:root:Training Loss : 0.19419596051121168\n",
      "INFO:root:Test Accuracy: 53.42%\n",
      "INFO:root:Test Loss: 1.2664950013160705 \n",
      "\n",
      " 66%|██████▌   | 66/100 [19:22<09:16, 16.36s/it]"
     ]
    },
    {
     "name": "stdout",
     "output_type": "stream",
     "text": [
      "[1416, 1320, 201, 744, 2934, 447, 278, 2430, 1018, 2274]\n"
     ]
    },
    {
     "name": "stderr",
     "output_type": "stream",
     "text": [
      "INFO:root: \n",
      "Avg Training Stats after 67 global rounds:\n",
      "INFO:root:Train Accuracy: 0.00%\n",
      "INFO:root:Training Loss : 0.2057393115647647\n",
      "INFO:root:Test Accuracy: 54.50%\n",
      "INFO:root:Test Loss: 1.246862256526947 \n",
      "\n",
      " 67%|██████▋   | 67/100 [19:42<09:38, 17.53s/it]"
     ]
    },
    {
     "name": "stdout",
     "output_type": "stream",
     "text": [
      "[303, 1012, 470, 123, 106, 201, 87, 1736, 2934, 2575]\n"
     ]
    },
    {
     "name": "stderr",
     "output_type": "stream",
     "text": [
      "INFO:root: \n",
      "Avg Training Stats after 68 global rounds:\n",
      "INFO:root:Train Accuracy: 0.00%\n",
      "INFO:root:Training Loss : 0.10681436468673637\n",
      "INFO:root:Test Accuracy: 53.85%\n",
      "INFO:root:Test Loss: 1.2661232680082322 \n",
      "\n",
      " 68%|██████▊   | 68/100 [19:59<09:13, 17.31s/it]"
     ]
    },
    {
     "name": "stdout",
     "output_type": "stream",
     "text": [
      "[3195, 794, 690, 2029, 231, 1756, 1112, 1736, 201, 813]\n"
     ]
    },
    {
     "name": "stderr",
     "output_type": "stream",
     "text": [
      "INFO:root: \n",
      "Avg Training Stats after 69 global rounds:\n",
      "INFO:root:Train Accuracy: 0.00%\n",
      "INFO:root:Training Loss : 0.12986091653325957\n",
      "INFO:root:Test Accuracy: 53.05%\n",
      "INFO:root:Test Loss: 1.2785119330883026 \n",
      "\n",
      " 69%|██████▉   | 69/100 [20:19<09:18, 18.01s/it]"
     ]
    },
    {
     "name": "stdout",
     "output_type": "stream",
     "text": [
      "[106, 40, 278, 422, 470, 2029, 2934, 744, 2274, 327]\n"
     ]
    },
    {
     "name": "stderr",
     "output_type": "stream",
     "text": [
      "INFO:root: \n",
      "Avg Training Stats after 70 global rounds:\n",
      "INFO:root:Train Accuracy: 0.00%\n",
      "INFO:root:Training Loss : 0.16007531784684198\n",
      "INFO:root:Test Accuracy: 52.05%\n",
      "INFO:root:Test Loss: 1.3000890499353408 \n",
      "\n",
      " 70%|███████   | 70/100 [20:36<08:53, 17.79s/it]"
     ]
    },
    {
     "name": "stdout",
     "output_type": "stream",
     "text": [
      "[3195, 267, 303, 173, 286, 2029, 422, 1012, 796, 106]\n"
     ]
    },
    {
     "name": "stderr",
     "output_type": "stream",
     "text": [
      "INFO:root: \n",
      "Avg Training Stats after 71 global rounds:\n",
      "INFO:root:Train Accuracy: 0.00%\n",
      "INFO:root:Training Loss : 0.1961156215985834\n",
      "INFO:root:Test Accuracy: 52.62%\n",
      "INFO:root:Test Loss: 1.2843928945064544 \n",
      "\n",
      " 71%|███████   | 71/100 [20:52<08:21, 17.31s/it]"
     ]
    },
    {
     "name": "stdout",
     "output_type": "stream",
     "text": [
      "[209, 40, 4600, 106, 123, 1012, 690, 542, 602, 2575]\n"
     ]
    },
    {
     "name": "stderr",
     "output_type": "stream",
     "text": [
      "INFO:root: \n",
      "Avg Training Stats after 72 global rounds:\n",
      "INFO:root:Train Accuracy: 0.00%\n",
      "INFO:root:Training Loss : 0.15689299111792004\n",
      "INFO:root:Test Accuracy: 53.82%\n",
      "INFO:root:Test Loss: 1.2517483270168304 \n",
      "\n",
      " 72%|███████▏  | 72/100 [21:11<08:16, 17.75s/it]"
     ]
    },
    {
     "name": "stdout",
     "output_type": "stream",
     "text": [
      "[1012, 2430, 2274, 209, 1798, 303, 1112, 231, 744, 278]\n"
     ]
    },
    {
     "name": "stderr",
     "output_type": "stream",
     "text": [
      "INFO:root: \n",
      "Avg Training Stats after 73 global rounds:\n",
      "INFO:root:Train Accuracy: 0.00%\n",
      "INFO:root:Training Loss : 0.13033219587159184\n",
      "INFO:root:Test Accuracy: 54.23%\n",
      "INFO:root:Test Loss: 1.2468045896291733 \n",
      "\n",
      " 73%|███████▎  | 73/100 [21:29<08:05, 17.97s/it]"
     ]
    },
    {
     "name": "stdout",
     "output_type": "stream",
     "text": [
      "[447, 1320, 209, 327, 744, 1018, 231, 2430, 590, 602]\n"
     ]
    },
    {
     "name": "stderr",
     "output_type": "stream",
     "text": [
      "INFO:root: \n",
      "Avg Training Stats after 74 global rounds:\n",
      "INFO:root:Train Accuracy: 0.00%\n",
      "INFO:root:Training Loss : 0.2254969670891927\n",
      "INFO:root:Test Accuracy: 54.96%\n",
      "INFO:root:Test Loss: 1.2345668298006058 \n",
      "\n",
      " 74%|███████▍  | 74/100 [21:46<07:33, 17.44s/it]"
     ]
    },
    {
     "name": "stdout",
     "output_type": "stream",
     "text": [
      "[470, 1053, 303, 1012, 106, 3195, 447, 1112, 201, 1433]\n"
     ]
    },
    {
     "name": "stderr",
     "output_type": "stream",
     "text": [
      "INFO:root: \n",
      "Avg Training Stats after 75 global rounds:\n",
      "INFO:root:Train Accuracy: 0.00%\n",
      "INFO:root:Training Loss : 0.09732908885800777\n",
      "INFO:root:Test Accuracy: 54.53%\n",
      "INFO:root:Test Loss: 1.2404814982414245 \n",
      "\n",
      " 75%|███████▌  | 75/100 [22:03<07:14, 17.39s/it]"
     ]
    },
    {
     "name": "stdout",
     "output_type": "stream",
     "text": [
      "[231, 1433, 431, 209, 1416, 1780, 116, 123, 422, 4600]\n"
     ]
    },
    {
     "name": "stderr",
     "output_type": "stream",
     "text": [
      "INFO:root: \n",
      "Avg Training Stats after 76 global rounds:\n",
      "INFO:root:Train Accuracy: 0.00%\n",
      "INFO:root:Training Loss : 0.31612313627629784\n",
      "INFO:root:Test Accuracy: 56.73%\n",
      "INFO:root:Test Loss: 1.2016933119297029 \n",
      "\n",
      " 76%|███████▌  | 76/100 [22:21<07:06, 17.76s/it]"
     ]
    },
    {
     "name": "stdout",
     "output_type": "stream",
     "text": [
      "[2575, 796, 1053, 267, 602, 1018, 201, 1756, 286, 2430]\n"
     ]
    },
    {
     "name": "stderr",
     "output_type": "stream",
     "text": [
      "INFO:root: \n",
      "Avg Training Stats after 77 global rounds:\n",
      "INFO:root:Train Accuracy: 0.00%\n",
      "INFO:root:Training Loss : 0.20627067507019836\n",
      "INFO:root:Test Accuracy: 56.21%\n",
      "INFO:root:Test Loss: 1.2010388886928558 \n",
      "\n",
      " 77%|███████▋  | 77/100 [22:40<06:52, 17.93s/it]"
     ]
    },
    {
     "name": "stdout",
     "output_type": "stream",
     "text": [
      "[15, 2029, 2274, 744, 1018, 1736, 2934, 19, 173, 447]\n"
     ]
    },
    {
     "name": "stderr",
     "output_type": "stream",
     "text": [
      "INFO:root: \n",
      "Avg Training Stats after 78 global rounds:\n",
      "INFO:root:Train Accuracy: 0.00%\n",
      "INFO:root:Training Loss : 0.1917635373155147\n",
      "INFO:root:Test Accuracy: 54.88%\n",
      "INFO:root:Test Loss: 1.2364369907975197 \n",
      "\n",
      " 78%|███████▊  | 78/100 [22:58<06:39, 18.14s/it]"
     ]
    },
    {
     "name": "stdout",
     "output_type": "stream",
     "text": [
      "[542, 602, 173, 201, 590, 690, 422, 2934, 1736, 744]\n"
     ]
    },
    {
     "name": "stderr",
     "output_type": "stream",
     "text": [
      "INFO:root: \n",
      "Avg Training Stats after 79 global rounds:\n",
      "INFO:root:Train Accuracy: 0.00%\n",
      "INFO:root:Training Loss : 0.24921880280805003\n",
      "INFO:root:Test Accuracy: 55.08%\n",
      "INFO:root:Test Loss: 1.2355798763036727 \n",
      "\n",
      " 79%|███████▉  | 79/100 [23:15<06:08, 17.56s/it]"
     ]
    },
    {
     "name": "stdout",
     "output_type": "stream",
     "text": [
      "[201, 278, 40, 1112, 106, 690, 2029, 87, 796, 3195]\n"
     ]
    },
    {
     "name": "stderr",
     "output_type": "stream",
     "text": [
      "INFO:root: \n",
      "Avg Training Stats after 80 global rounds:\n",
      "INFO:root:Train Accuracy: 0.00%\n",
      "INFO:root:Training Loss : 0.09566460158261973\n",
      "INFO:root:Test Accuracy: 54.75%\n",
      "INFO:root:Test Loss: 1.2358643025159837 \n",
      "\n",
      " 80%|████████  | 80/100 [23:31<05:43, 17.17s/it]"
     ]
    },
    {
     "name": "stdout",
     "output_type": "stream",
     "text": [
      "[1798, 15, 201, 123, 1433, 542, 1119, 690, 602, 40]\n"
     ]
    },
    {
     "name": "stderr",
     "output_type": "stream",
     "text": [
      "INFO:root: \n",
      "Avg Training Stats after 81 global rounds:\n",
      "INFO:root:Train Accuracy: 0.00%\n",
      "INFO:root:Training Loss : 0.13484690101201338\n",
      "INFO:root:Test Accuracy: 55.24%\n",
      "INFO:root:Test Loss: 1.230260660648346 \n",
      "\n",
      " 81%|████████  | 81/100 [23:45<05:11, 16.38s/it]"
     ]
    },
    {
     "name": "stdout",
     "output_type": "stream",
     "text": [
      "[267, 542, 209, 796, 87, 3195, 231, 303, 2934, 1119]\n"
     ]
    },
    {
     "name": "stderr",
     "output_type": "stream",
     "text": [
      "INFO:root: \n",
      "Avg Training Stats after 82 global rounds:\n",
      "INFO:root:Train Accuracy: 0.00%\n",
      "INFO:root:Training Loss : 0.15887301844567503\n",
      "INFO:root:Test Accuracy: 54.56%\n",
      "INFO:root:Test Loss: 1.245372154712677 \n",
      "\n",
      " 82%|████████▏ | 82/100 [24:03<04:59, 16.62s/it]"
     ]
    },
    {
     "name": "stdout",
     "output_type": "stream",
     "text": [
      "[690, 431, 422, 231, 4600, 2934, 2029, 327, 796, 590]\n"
     ]
    },
    {
     "name": "stderr",
     "output_type": "stream",
     "text": [
      "INFO:root: \n",
      "Avg Training Stats after 83 global rounds:\n",
      "INFO:root:Train Accuracy: 0.00%\n",
      "INFO:root:Training Loss : 0.1888784310676216\n",
      "INFO:root:Test Accuracy: 55.67%\n",
      "INFO:root:Test Loss: 1.2159274098277093 \n",
      "\n",
      " 83%|████████▎ | 83/100 [24:23<05:00, 17.68s/it]"
     ]
    },
    {
     "name": "stdout",
     "output_type": "stream",
     "text": [
      "[231, 1112, 87, 303, 690, 796, 2195, 813, 327, 1018]\n"
     ]
    },
    {
     "name": "stderr",
     "output_type": "stream",
     "text": [
      "INFO:root: \n",
      "Avg Training Stats after 84 global rounds:\n",
      "INFO:root:Train Accuracy: 0.00%\n",
      "INFO:root:Training Loss : 0.1742081900446357\n",
      "INFO:root:Test Accuracy: 56.13%\n",
      "INFO:root:Test Loss: 1.2022340190410614 \n",
      "\n",
      " 84%|████████▍ | 84/100 [24:38<04:32, 17.02s/it]"
     ]
    },
    {
     "name": "stdout",
     "output_type": "stream",
     "text": [
      "[602, 1018, 542, 106, 794, 447, 2029, 1433, 327, 690]\n"
     ]
    },
    {
     "name": "stderr",
     "output_type": "stream",
     "text": [
      "INFO:root: \n",
      "Avg Training Stats after 85 global rounds:\n",
      "INFO:root:Train Accuracy: 0.00%\n",
      "INFO:root:Training Loss : 0.18536064260929372\n",
      "INFO:root:Test Accuracy: 55.59%\n",
      "INFO:root:Test Loss: 1.2134457278251647 \n",
      "\n",
      " 85%|████████▌ | 85/100 [24:54<04:08, 16.57s/it]"
     ]
    },
    {
     "name": "stdout",
     "output_type": "stream",
     "text": [
      "[1433, 267, 447, 1012, 470, 201, 231, 15, 278, 1736]\n"
     ]
    },
    {
     "name": "stderr",
     "output_type": "stream",
     "text": [
      "INFO:root: \n",
      "Avg Training Stats after 86 global rounds:\n",
      "INFO:root:Train Accuracy: 0.00%\n",
      "INFO:root:Training Loss : 0.17004680620929863\n",
      "INFO:root:Test Accuracy: 55.53%\n",
      "INFO:root:Test Loss: 1.2200438994169236 \n",
      "\n",
      " 86%|████████▌ | 86/100 [25:08<03:40, 15.76s/it]"
     ]
    },
    {
     "name": "stdout",
     "output_type": "stream",
     "text": [
      "[40, 1053, 231, 286, 106, 2274, 470, 1119, 447, 1416]\n"
     ]
    },
    {
     "name": "stderr",
     "output_type": "stream",
     "text": [
      "INFO:root: \n",
      "Avg Training Stats after 87 global rounds:\n",
      "INFO:root:Train Accuracy: 0.00%\n",
      "INFO:root:Training Loss : 0.1602346098320392\n",
      "INFO:root:Test Accuracy: 56.24%\n",
      "INFO:root:Test Loss: 1.1958493405580521 \n",
      "\n",
      " 87%|████████▋ | 87/100 [25:23<03:22, 15.54s/it]"
     ]
    },
    {
     "name": "stdout",
     "output_type": "stream",
     "text": [
      "[209, 2029, 231, 278, 1320, 862, 2195, 690, 1736, 106]\n"
     ]
    },
    {
     "name": "stderr",
     "output_type": "stream",
     "text": [
      "INFO:root: \n",
      "Avg Training Stats after 88 global rounds:\n",
      "INFO:root:Train Accuracy: 0.00%\n",
      "INFO:root:Training Loss : 0.1798106099074277\n",
      "INFO:root:Test Accuracy: 56.60%\n",
      "INFO:root:Test Loss: 1.193503613471985 \n",
      "\n",
      " 88%|████████▊ | 88/100 [25:40<03:12, 16.01s/it]"
     ]
    },
    {
     "name": "stdout",
     "output_type": "stream",
     "text": [
      "[2430, 201, 2195, 2575, 123, 602, 116, 794, 4600, 690]\n"
     ]
    },
    {
     "name": "stderr",
     "output_type": "stream",
     "text": [
      "INFO:root: \n",
      "Avg Training Stats after 89 global rounds:\n",
      "INFO:root:Train Accuracy: 0.00%\n",
      "INFO:root:Training Loss : 0.2057044605511825\n",
      "INFO:root:Test Accuracy: 56.76%\n",
      "INFO:root:Test Loss: 1.1845205706357955 \n",
      "\n",
      " 89%|████████▉ | 89/100 [26:01<03:14, 17.64s/it]"
     ]
    },
    {
     "name": "stdout",
     "output_type": "stream",
     "text": [
      "[470, 303, 278, 87, 1119, 2274, 1780, 19, 4600, 602]\n"
     ]
    },
    {
     "name": "stderr",
     "output_type": "stream",
     "text": [
      "INFO:root: \n",
      "Avg Training Stats after 90 global rounds:\n",
      "INFO:root:Train Accuracy: 0.00%\n",
      "INFO:root:Training Loss : 0.11747042761047125\n",
      "INFO:root:Test Accuracy: 56.29%\n",
      "INFO:root:Test Loss: 1.1975376045703887 \n",
      "\n",
      " 90%|█████████ | 90/100 [26:21<03:01, 18.16s/it]"
     ]
    },
    {
     "name": "stdout",
     "output_type": "stream",
     "text": [
      "[2575, 602, 2029, 327, 209, 4600, 2274, 1756, 431, 1112]\n"
     ]
    },
    {
     "name": "stderr",
     "output_type": "stream",
     "text": [
      "INFO:root: \n",
      "Avg Training Stats after 91 global rounds:\n",
      "INFO:root:Train Accuracy: 0.00%\n",
      "INFO:root:Training Loss : 0.16094457266369547\n",
      "INFO:root:Test Accuracy: 56.90%\n",
      "INFO:root:Test Loss: 1.1818571189045906 \n",
      "\n",
      " 91%|█████████ | 91/100 [26:44<02:57, 19.77s/it]"
     ]
    },
    {
     "name": "stdout",
     "output_type": "stream",
     "text": [
      "[2195, 267, 813, 286, 3195, 470, 231, 278, 1012, 231]\n"
     ]
    },
    {
     "name": "stderr",
     "output_type": "stream",
     "text": [
      "INFO:root: \n",
      "Avg Training Stats after 92 global rounds:\n",
      "INFO:root:Train Accuracy: 0.00%\n",
      "INFO:root:Training Loss : 0.16273967942490977\n",
      "INFO:root:Test Accuracy: 56.29%\n",
      "INFO:root:Test Loss: 1.1985548204183578 \n",
      "\n",
      " 92%|█████████▏| 92/100 [27:01<02:31, 18.94s/it]"
     ]
    },
    {
     "name": "stdout",
     "output_type": "stream",
     "text": [
      "[1053, 2575, 303, 2430, 542, 116, 1756, 1433, 327, 15]\n"
     ]
    },
    {
     "name": "stderr",
     "output_type": "stream",
     "text": [
      "INFO:root: \n",
      "Avg Training Stats after 93 global rounds:\n",
      "INFO:root:Train Accuracy: 0.00%\n",
      "INFO:root:Training Loss : 0.20119556682949993\n",
      "INFO:root:Test Accuracy: 57.69%\n",
      "INFO:root:Test Loss: 1.1667756417393684 \n",
      "\n",
      " 93%|█████████▎| 93/100 [27:20<02:11, 18.81s/it]"
     ]
    },
    {
     "name": "stdout",
     "output_type": "stream",
     "text": [
      "[590, 4600, 201, 286, 303, 1736, 15, 1798, 744, 422]\n"
     ]
    },
    {
     "name": "stderr",
     "output_type": "stream",
     "text": [
      "INFO:root: \n",
      "Avg Training Stats after 94 global rounds:\n",
      "INFO:root:Train Accuracy: 0.00%\n",
      "INFO:root:Training Loss : 0.14749387898029087\n",
      "INFO:root:Test Accuracy: 58.13%\n",
      "INFO:root:Test Loss: 1.1634871473908424 \n",
      "\n",
      " 94%|█████████▍| 94/100 [27:38<01:51, 18.60s/it]"
     ]
    },
    {
     "name": "stdout",
     "output_type": "stream",
     "text": [
      "[123, 862, 542, 19, 794, 1112, 4600, 2934, 231, 15]\n"
     ]
    },
    {
     "name": "stderr",
     "output_type": "stream",
     "text": [
      "INFO:root: \n",
      "Avg Training Stats after 95 global rounds:\n",
      "INFO:root:Train Accuracy: 0.00%\n",
      "INFO:root:Training Loss : 0.17002661557689774\n",
      "INFO:root:Test Accuracy: 57.95%\n",
      "INFO:root:Test Loss: 1.1660150933265685 \n",
      "\n",
      " 95%|█████████▌| 95/100 [27:56<01:32, 18.60s/it]"
     ]
    },
    {
     "name": "stdout",
     "output_type": "stream",
     "text": [
      "[1053, 87, 2575, 4600, 542, 231, 1433, 1012, 2029, 862]\n"
     ]
    },
    {
     "name": "stderr",
     "output_type": "stream",
     "text": [
      "INFO:root: \n",
      "Avg Training Stats after 96 global rounds:\n",
      "INFO:root:Train Accuracy: 0.00%\n",
      "INFO:root:Training Loss : 0.15469542764280259\n",
      "INFO:root:Test Accuracy: 58.12%\n",
      "INFO:root:Test Loss: 1.1577540335059167 \n",
      "\n",
      " 96%|█████████▌| 96/100 [28:18<01:17, 19.43s/it]"
     ]
    },
    {
     "name": "stdout",
     "output_type": "stream",
     "text": [
      "[19, 602, 40, 690, 267, 231, 173, 2029, 1798, 3195]\n"
     ]
    },
    {
     "name": "stderr",
     "output_type": "stream",
     "text": [
      "INFO:root: \n",
      "Avg Training Stats after 97 global rounds:\n",
      "INFO:root:Train Accuracy: 0.00%\n",
      "INFO:root:Training Loss : 0.19628128971650002\n",
      "INFO:root:Test Accuracy: 57.30%\n",
      "INFO:root:Test Loss: 1.1804786145687103 \n",
      "\n",
      " 97%|█████████▋| 97/100 [28:34<00:55, 18.56s/it]"
     ]
    },
    {
     "name": "stdout",
     "output_type": "stream",
     "text": [
      "[209, 1012, 422, 40, 794, 4600, 116, 286, 303, 1756]\n"
     ]
    },
    {
     "name": "stderr",
     "output_type": "stream",
     "text": [
      "INFO:root: \n",
      "Avg Training Stats after 98 global rounds:\n",
      "INFO:root:Train Accuracy: 0.00%\n",
      "INFO:root:Training Loss : 0.1433435570532827\n",
      "INFO:root:Test Accuracy: 58.54%\n",
      "INFO:root:Test Loss: 1.149429266154766 \n",
      "\n",
      " 98%|█████████▊| 98/100 [28:51<00:36, 18.09s/it]"
     ]
    },
    {
     "name": "stdout",
     "output_type": "stream",
     "text": [
      "[2274, 1736, 173, 1416, 447, 19, 2195, 2029, 862, 744]\n"
     ]
    },
    {
     "name": "stderr",
     "output_type": "stream",
     "text": [
      "INFO:root: \n",
      "Avg Training Stats after 99 global rounds:\n",
      "INFO:root:Train Accuracy: 0.00%\n",
      "INFO:root:Training Loss : 0.2473326629030387\n",
      "INFO:root:Test Accuracy: 58.45%\n",
      "INFO:root:Test Loss: 1.1486522084474564 \n",
      "\n",
      " 99%|█████████▉| 99/100 [29:10<00:18, 18.36s/it]"
     ]
    },
    {
     "name": "stdout",
     "output_type": "stream",
     "text": [
      "[431, 1798, 1736, 744, 19, 278, 690, 590, 116, 40]\n"
     ]
    },
    {
     "name": "stderr",
     "output_type": "stream",
     "text": [
      "INFO:root: \n",
      "Avg Training Stats after 100 global rounds:\n",
      "INFO:root:Train Accuracy: 0.00%\n",
      "INFO:root:Training Loss : 0.16680596444611964\n",
      "INFO:root:Test Accuracy: 58.63%\n",
      "INFO:root:Test Loss: 1.1567390978336334 \n",
      "\n",
      "100%|██████████| 100/100 [29:24<00:00, 17.65s/it]\n",
      "INFO:root: \n",
      " Results after 100 global rounds of training:\n",
      "INFO:root:|---- Best Test Accuracy: 58.63% , round: 99\n"
     ]
    },
    {
     "name": "stdout",
     "output_type": "stream",
     "text": [
      " Saving checkpoints to ../save/checkpoint/ConvNet_1207/cifar10_ConvNet_none_T[100]_C[0.2]_iid[0]_E[5]_B[32]_GPU[0]_Pruned[0.0]...\n"
     ]
    }
   ],
   "source": [
    " args = easydict.EasyDict({\n",
    "    \"model\": 'ConvNet',\n",
    "    'dataset': 'cifar10',\n",
    "    'gpu': 0,\n",
    "    'iid': 0,\n",
    "    'epochs': 100,\n",
    "    'optimizer': 'sgd',\n",
    "    'seed': 0,\n",
    "    'norm': 'none',\n",
    "    'num_users': 50,\n",
    "    'frac': 0.2,\n",
    "    'local_ep': 5, \n",
    "    'local_bs': 32,\n",
    "    'lr': 0.01,\n",
    "    'momentum': 1,\n",
    "    'kernel_num': 9,\n",
    "    'kernel_sizes': 'only_momentum',\n",
    "    'num_channnels': '1',\n",
    "    'num_filters': 32,\n",
    "    'max_pool': 'True',\n",
    "    'num_classes': 10,\n",
    "    'unequal': 0,\n",
    "    'stopping_rounds': 0,\n",
    "    'verbose': 0,\n",
    "    'hold_normalize': 0,\n",
    "    'save_path': '../save/checkpoint',\n",
    "    'exp_folder': 'ConvNet_1207',\n",
    "    'resume': None,\n",
    "    'server_opt': 'sgd',\n",
    "    'server_lr': 1.0,\n",
    "    'client_decay':0,\n",
    "    'local_decay':0,\n",
    "    'alpha': 0.05,\n",
    "    'server_epoch':0,\n",
    "    'cosine_norm':0, \n",
    "    'only_fc' :0 ,\n",
    "    'loss':'bsm',\n",
    "    'dc_lr':0.0,\n",
    "    'tsne_pred':0,\n",
    "    'pruning': 0.0 })\n",
    "    \n",
    "    \n",
    "    \n",
    "temp = main_test(args)\n",
    "total.append(temp)"
   ]
  },
  {
   "cell_type": "code",
   "execution_count": 5,
   "id": "tropical-opening",
   "metadata": {},
   "outputs": [
    {
     "name": "stderr",
     "output_type": "stream",
     "text": [
      "INFO:root:{'model': 'ConvNet', 'dataset': 'cifar10', 'gpu': 0, 'iid': 0, 'epochs': 100, 'optimizer': 'sgd', 'seed': 0, 'norm': 'none', 'num_users': 50, 'frac': 0.2, 'local_ep': 5, 'local_bs': 32, 'lr': 0.01, 'momentum': 1, 'kernel_num': 9, 'kernel_sizes': 'only_momentum', 'num_channnels': '1', 'num_filters': 32, 'max_pool': 'True', 'num_classes': 10, 'unequal': 0, 'stopping_rounds': 0, 'verbose': 0, 'hold_normalize': 0, 'save_path': '../save/checkpoint/ConvNet_1207', 'exp_folder': 'ConvNet_1207', 'resume': None, 'server_opt': 'sgdm', 'server_lr': 1.0, 'client_decay': 0, 'local_decay': 0, 'alpha': 0.05, 'server_epoch': 0, 'cosine_norm': 0, 'only_fc': 0, 'loss': 'bsm', 'dc_lr': 0.0, 'tsne_pred': 0, 'pruning': 0.0}\n"
     ]
    },
    {
     "name": "stdout",
     "output_type": "stream",
     "text": [
      "Files already downloaded and verified\n",
      "Files already downloaded and verified\n",
      "Files already downloaded and verified\n"
     ]
    },
    {
     "name": "stderr",
     "output_type": "stream",
     "text": [
      "INFO:root:ConvNet(\n",
      "  (net_act): ReLU(inplace=True)\n",
      "  (net_pooling): MaxPool2d(kernel_size=2, stride=2, padding=0, dilation=1, ceil_mode=False)\n",
      "  (features): Sequential(\n",
      "    (0): Conv2d(3, 128, kernel_size=(3, 3), stride=(1, 1), padding=(1, 1))\n",
      "    (1): ReLU(inplace=True)\n",
      "    (2): MaxPool2d(kernel_size=2, stride=2, padding=0, dilation=1, ceil_mode=False)\n",
      "    (3): Conv2d(128, 128, kernel_size=(3, 3), stride=(1, 1), padding=(1, 1))\n",
      "    (4): ReLU(inplace=True)\n",
      "    (5): MaxPool2d(kernel_size=2, stride=2, padding=0, dilation=1, ceil_mode=False)\n",
      "    (6): Conv2d(128, 128, kernel_size=(3, 3), stride=(1, 1), padding=(1, 1))\n",
      "    (7): ReLU(inplace=True)\n",
      "    (8): MaxPool2d(kernel_size=2, stride=2, padding=0, dilation=1, ceil_mode=False)\n",
      "  )\n",
      "  (classifier): Linear(in_features=2048, out_features=10, bias=True)\n",
      ")\n",
      "INFO:root:None\n",
      "  0%|          | 0/100 [00:00<?, ?it/s]"
     ]
    },
    {
     "name": "stdout",
     "output_type": "stream",
     "text": [
      "----------------------------------------------------------------\n",
      "        Layer (type)               Output Shape         Param #\n",
      "================================================================\n",
      "            Conv2d-1          [-1, 128, 32, 32]           3,584\n",
      "              ReLU-2          [-1, 128, 32, 32]               0\n",
      "              ReLU-3          [-1, 128, 32, 32]               0\n",
      "         MaxPool2d-4          [-1, 128, 16, 16]               0\n",
      "         MaxPool2d-5          [-1, 128, 16, 16]               0\n",
      "            Conv2d-6          [-1, 128, 16, 16]         147,584\n",
      "              ReLU-7          [-1, 128, 16, 16]               0\n",
      "              ReLU-8          [-1, 128, 16, 16]               0\n",
      "         MaxPool2d-9            [-1, 128, 8, 8]               0\n",
      "        MaxPool2d-10            [-1, 128, 8, 8]               0\n",
      "           Conv2d-11            [-1, 128, 8, 8]         147,584\n",
      "             ReLU-12            [-1, 128, 8, 8]               0\n",
      "             ReLU-13            [-1, 128, 8, 8]               0\n",
      "        MaxPool2d-14            [-1, 128, 4, 4]               0\n",
      "        MaxPool2d-15            [-1, 128, 4, 4]               0\n",
      "           Linear-16                   [-1, 10]          20,490\n",
      "================================================================\n",
      "Total params: 319,242\n",
      "Trainable params: 319,242\n",
      "Non-trainable params: 0\n",
      "----------------------------------------------------------------\n",
      "Input size (MB): 0.01\n",
      "Forward/backward pass size (MB): 4.59\n",
      "Params size (MB): 1.22\n",
      "Estimated Total Size (MB): 5.82\n",
      "----------------------------------------------------------------\n",
      "[209, 1756, 422, 2575, 1018, 602, 2274, 447, 744, 1112, 123, 87, 1433, 1416, 40, 1119, 796, 794, 327, 470, 231, 813, 1320, 542, 690, 2195, 2934, 106, 1012, 15, 278, 1798, 303, 590, 2029, 201, 1053, 862, 231, 116, 4600, 19, 286, 1736, 2430, 431, 3195, 1780, 173, 267]\n",
      "[470, 2934, 201, 231, 2575, 744, 15, 123, 1119, 4600]\n"
     ]
    },
    {
     "name": "stderr",
     "output_type": "stream",
     "text": [
      "INFO:root: \n",
      "Avg Training Stats after 1 global rounds:\n",
      "INFO:root:Train Accuracy: 0.00%\n",
      "INFO:root:Training Loss : 0.2708574619777444\n",
      "INFO:root:Test Accuracy: 19.15%\n",
      "INFO:root:Test Loss: 2.2608575415611267 \n",
      "\n",
      "  1%|          | 1/100 [00:20<33:38, 20.39s/it]"
     ]
    },
    {
     "name": "stdout",
     "output_type": "stream",
     "text": [
      "[231, 173, 2575, 1736, 2430, 123, 4600, 690, 1012, 447]\n"
     ]
    },
    {
     "name": "stderr",
     "output_type": "stream",
     "text": [
      "INFO:root: \n",
      "Avg Training Stats after 2 global rounds:\n",
      "INFO:root:Train Accuracy: 0.00%\n",
      "INFO:root:Training Loss : 0.4578003472210961\n",
      "INFO:root:Test Accuracy: 23.68%\n",
      "INFO:root:Test Loss: 2.107278592586517 \n",
      "\n",
      "  2%|▏         | 2/100 [00:41<33:56, 20.78s/it]"
     ]
    },
    {
     "name": "stdout",
     "output_type": "stream",
     "text": [
      "[744, 2575, 1320, 470, 2430, 2274, 267, 690, 209, 303]\n"
     ]
    },
    {
     "name": "stderr",
     "output_type": "stream",
     "text": [
      "INFO:root: \n",
      "Avg Training Stats after 3 global rounds:\n",
      "INFO:root:Train Accuracy: 0.00%\n",
      "INFO:root:Training Loss : 0.34630417268043245\n",
      "INFO:root:Test Accuracy: 24.38%\n",
      "INFO:root:Test Loss: 2.3674136877059935 \n",
      "\n",
      "  3%|▎         | 3/100 [01:00<32:03, 19.83s/it]"
     ]
    },
    {
     "name": "stdout",
     "output_type": "stream",
     "text": [
      "[173, 690, 542, 1012, 2195, 1780, 1053, 87, 2934, 1736]\n"
     ]
    },
    {
     "name": "stderr",
     "output_type": "stream",
     "text": [
      "INFO:root: \n",
      "Avg Training Stats after 4 global rounds:\n",
      "INFO:root:Train Accuracy: 0.00%\n",
      "INFO:root:Training Loss : 0.5027134591744649\n",
      "INFO:root:Test Accuracy: 25.05%\n",
      "INFO:root:Test Loss: 2.538783192038536 \n",
      "\n",
      "  4%|▍         | 4/100 [01:19<31:25, 19.64s/it]"
     ]
    },
    {
     "name": "stdout",
     "output_type": "stream",
     "text": [
      "[2430, 2575, 1736, 123, 15, 1780, 1018, 231, 87, 794]\n"
     ]
    },
    {
     "name": "stderr",
     "output_type": "stream",
     "text": [
      "INFO:root: \n",
      "Avg Training Stats after 5 global rounds:\n",
      "INFO:root:Train Accuracy: 0.00%\n",
      "INFO:root:Training Loss : 0.36805649045768535\n",
      "INFO:root:Test Accuracy: 27.38%\n",
      "INFO:root:Test Loss: 2.330505573749542 \n",
      "\n",
      "  5%|▌         | 5/100 [01:37<30:13, 19.09s/it]"
     ]
    },
    {
     "name": "stdout",
     "output_type": "stream",
     "text": [
      "[1119, 87, 590, 794, 813, 303, 1320, 690, 1018, 422]\n"
     ]
    },
    {
     "name": "stderr",
     "output_type": "stream",
     "text": [
      "INFO:root: \n",
      "Avg Training Stats after 6 global rounds:\n",
      "INFO:root:Train Accuracy: 0.00%\n",
      "INFO:root:Training Loss : 0.25607927001730585\n",
      "INFO:root:Test Accuracy: 29.01%\n",
      "INFO:root:Test Loss: 2.118554427623749 \n",
      "\n",
      "  6%|▌         | 6/100 [01:52<27:38, 17.65s/it]"
     ]
    },
    {
     "name": "stdout",
     "output_type": "stream",
     "text": [
      "[2029, 1433, 303, 327, 744, 862, 2934, 231, 1416, 278]\n"
     ]
    },
    {
     "name": "stderr",
     "output_type": "stream",
     "text": [
      "INFO:root: \n",
      "Avg Training Stats after 7 global rounds:\n",
      "INFO:root:Train Accuracy: 0.00%\n",
      "INFO:root:Training Loss : 0.3714243902263318\n",
      "INFO:root:Test Accuracy: 32.17%\n",
      "INFO:root:Test Loss: 1.964442656636238 \n",
      "\n",
      "  7%|▋         | 7/100 [02:10<27:33, 17.78s/it]"
     ]
    },
    {
     "name": "stdout",
     "output_type": "stream",
     "text": [
      "[231, 1112, 327, 744, 286, 422, 15, 1798, 1053, 173]\n"
     ]
    },
    {
     "name": "stderr",
     "output_type": "stream",
     "text": [
      "INFO:root: \n",
      "Avg Training Stats after 8 global rounds:\n",
      "INFO:root:Train Accuracy: 0.00%\n",
      "INFO:root:Training Loss : 0.38060783612511295\n",
      "INFO:root:Test Accuracy: 36.13%\n",
      "INFO:root:Test Loss: 1.8137563866376878 \n",
      "\n",
      "  8%|▊         | 8/100 [02:24<25:30, 16.64s/it]"
     ]
    },
    {
     "name": "stdout",
     "output_type": "stream",
     "text": [
      "[794, 278, 744, 862, 303, 19, 2274, 1053, 813, 1012]\n"
     ]
    },
    {
     "name": "stderr",
     "output_type": "stream",
     "text": [
      "INFO:root: \n",
      "Avg Training Stats after 9 global rounds:\n",
      "INFO:root:Train Accuracy: 0.00%\n",
      "INFO:root:Training Loss : 0.20213109815770158\n",
      "INFO:root:Test Accuracy: 38.15%\n",
      "INFO:root:Test Loss: 1.7771214628219605 \n",
      "\n",
      "  9%|▉         | 9/100 [02:40<24:46, 16.33s/it]"
     ]
    },
    {
     "name": "stdout",
     "output_type": "stream",
     "text": [
      "[1320, 40, 1756, 470, 327, 1012, 862, 1433, 796, 231]\n"
     ]
    },
    {
     "name": "stderr",
     "output_type": "stream",
     "text": [
      "INFO:root: \n",
      "Avg Training Stats after 10 global rounds:\n",
      "INFO:root:Train Accuracy: 0.00%\n",
      "INFO:root:Training Loss : 0.1795947039852201\n",
      "INFO:root:Test Accuracy: 38.94%\n",
      "INFO:root:Test Loss: 1.7751434642076491 \n",
      "\n",
      " 10%|█         | 10/100 [02:56<24:14, 16.16s/it]"
     ]
    },
    {
     "name": "stdout",
     "output_type": "stream",
     "text": [
      "[87, 201, 1798, 813, 123, 2934, 1756, 231, 1053, 4600]\n"
     ]
    },
    {
     "name": "stderr",
     "output_type": "stream",
     "text": [
      "INFO:root: \n",
      "Avg Training Stats after 11 global rounds:\n",
      "INFO:root:Train Accuracy: 0.00%\n",
      "INFO:root:Training Loss : 0.2511185872067805\n",
      "INFO:root:Test Accuracy: 41.22%\n",
      "INFO:root:Test Loss: 1.6436948132514955 \n",
      "\n",
      " 11%|█         | 11/100 [03:16<26:05, 17.59s/it]"
     ]
    },
    {
     "name": "stdout",
     "output_type": "stream",
     "text": [
      "[106, 231, 447, 796, 209, 1798, 1112, 1416, 590, 794]\n"
     ]
    },
    {
     "name": "stderr",
     "output_type": "stream",
     "text": [
      "INFO:root: \n",
      "Avg Training Stats after 12 global rounds:\n",
      "INFO:root:Train Accuracy: 0.00%\n",
      "INFO:root:Training Loss : 0.16953704910228884\n",
      "INFO:root:Test Accuracy: 41.87%\n",
      "INFO:root:Test Loss: 1.6148211449384688 \n",
      "\n",
      " 12%|█▏        | 12/100 [03:32<24:47, 16.90s/it]"
     ]
    },
    {
     "name": "stdout",
     "output_type": "stream",
     "text": [
      "[1320, 278, 862, 2274, 1798, 87, 2029, 796, 1018, 2430]\n"
     ]
    },
    {
     "name": "stderr",
     "output_type": "stream",
     "text": [
      "INFO:root: \n",
      "Avg Training Stats after 13 global rounds:\n",
      "INFO:root:Train Accuracy: 0.00%\n",
      "INFO:root:Training Loss : 0.19961891865259712\n",
      "INFO:root:Test Accuracy: 42.33%\n",
      "INFO:root:Test Loss: 1.606537756919861 \n",
      "\n",
      " 13%|█▎        | 13/100 [03:52<25:51, 17.84s/it]"
     ]
    },
    {
     "name": "stdout",
     "output_type": "stream",
     "text": [
      "[4600, 2575, 590, 173, 2430, 40, 1112, 87, 231, 2195]\n"
     ]
    },
    {
     "name": "stderr",
     "output_type": "stream",
     "text": [
      "INFO:root: \n",
      "Avg Training Stats after 14 global rounds:\n",
      "INFO:root:Train Accuracy: 0.00%\n",
      "INFO:root:Training Loss : 0.24751176558819682\n",
      "INFO:root:Test Accuracy: 44.26%\n",
      "INFO:root:Test Loss: 1.579044000506401 \n",
      "\n",
      " 14%|█▍        | 14/100 [04:13<27:06, 18.91s/it]"
     ]
    },
    {
     "name": "stdout",
     "output_type": "stream",
     "text": [
      "[231, 794, 1018, 1012, 15, 303, 796, 2274, 1320, 19]\n"
     ]
    },
    {
     "name": "stderr",
     "output_type": "stream",
     "text": [
      "INFO:root: \n",
      "Avg Training Stats after 15 global rounds:\n",
      "INFO:root:Train Accuracy: 0.00%\n",
      "INFO:root:Training Loss : 0.15241977878214624\n",
      "INFO:root:Test Accuracy: 44.13%\n",
      "INFO:root:Test Loss: 1.5873251342773438 \n",
      "\n",
      " 15%|█▌        | 15/100 [04:29<25:18, 17.86s/it]"
     ]
    },
    {
     "name": "stdout",
     "output_type": "stream",
     "text": [
      "[2195, 40, 2029, 862, 2575, 1433, 447, 19, 4600, 796]\n"
     ]
    },
    {
     "name": "stderr",
     "output_type": "stream",
     "text": [
      "INFO:root: \n",
      "Avg Training Stats after 16 global rounds:\n",
      "INFO:root:Train Accuracy: 0.00%\n",
      "INFO:root:Training Loss : 0.1753746489880203\n",
      "INFO:root:Test Accuracy: 45.97%\n",
      "INFO:root:Test Loss: 1.4854203808307647 \n",
      "\n",
      " 16%|█▌        | 16/100 [04:50<26:39, 19.05s/it]"
     ]
    },
    {
     "name": "stdout",
     "output_type": "stream",
     "text": [
      "[231, 173, 303, 2274, 796, 116, 1798, 447, 106, 1433]\n"
     ]
    },
    {
     "name": "stderr",
     "output_type": "stream",
     "text": [
      "INFO:root: \n",
      "Avg Training Stats after 17 global rounds:\n",
      "INFO:root:Train Accuracy: 0.00%\n",
      "INFO:root:Training Loss : 0.15662637363884088\n",
      "INFO:root:Test Accuracy: 46.66%\n",
      "INFO:root:Test Loss: 1.4656038278341292 \n",
      "\n",
      " 17%|█▋        | 17/100 [05:06<24:47, 17.92s/it]"
     ]
    },
    {
     "name": "stdout",
     "output_type": "stream",
     "text": [
      "[201, 1756, 796, 1320, 813, 542, 116, 173, 794, 1798]\n"
     ]
    },
    {
     "name": "stderr",
     "output_type": "stream",
     "text": [
      "INFO:root: \n",
      "Avg Training Stats after 18 global rounds:\n",
      "INFO:root:Train Accuracy: 0.00%\n",
      "INFO:root:Training Loss : 0.21736452646130172\n",
      "INFO:root:Test Accuracy: 45.96%\n",
      "INFO:root:Test Loss: 1.504454048871994 \n",
      "\n",
      " 18%|█▊        | 18/100 [05:22<23:40, 17.33s/it]"
     ]
    },
    {
     "name": "stdout",
     "output_type": "stream",
     "text": [
      "[15, 1780, 19, 744, 2575, 173, 813, 40, 1320, 422]\n"
     ]
    },
    {
     "name": "stderr",
     "output_type": "stream",
     "text": [
      "INFO:root: \n",
      "Avg Training Stats after 19 global rounds:\n",
      "INFO:root:Train Accuracy: 0.00%\n",
      "INFO:root:Training Loss : 0.21238953586659087\n",
      "INFO:root:Test Accuracy: 46.32%\n",
      "INFO:root:Test Loss: 1.515435239672661 \n",
      "\n",
      " 19%|█▉        | 19/100 [05:37<22:36, 16.74s/it]"
     ]
    },
    {
     "name": "stdout",
     "output_type": "stream",
     "text": [
      "[813, 1736, 15, 1433, 267, 470, 3195, 744, 2575, 231]\n"
     ]
    },
    {
     "name": "stderr",
     "output_type": "stream",
     "text": [
      "INFO:root: \n",
      "Avg Training Stats after 20 global rounds:\n",
      "INFO:root:Train Accuracy: 0.00%\n",
      "INFO:root:Training Loss : 0.16297747479310465\n",
      "INFO:root:Test Accuracy: 45.21%\n",
      "INFO:root:Test Loss: 1.5469452199339866 \n",
      "\n",
      " 20%|██        | 20/100 [05:56<23:04, 17.31s/it]"
     ]
    },
    {
     "name": "stdout",
     "output_type": "stream",
     "text": [
      "[278, 744, 1053, 447, 1320, 116, 1798, 19, 4600, 3195]\n"
     ]
    },
    {
     "name": "stderr",
     "output_type": "stream",
     "text": [
      "INFO:root: \n",
      "Avg Training Stats after 21 global rounds:\n",
      "INFO:root:Train Accuracy: 0.00%\n",
      "INFO:root:Training Loss : 0.22741455882793274\n",
      "INFO:root:Test Accuracy: 48.72%\n",
      "INFO:root:Test Loss: 1.4354072701931 \n",
      "\n",
      " 21%|██        | 21/100 [06:16<24:09, 18.35s/it]"
     ]
    },
    {
     "name": "stdout",
     "output_type": "stream",
     "text": [
      "[813, 2029, 602, 590, 1756, 106, 1780, 40, 19, 2934]\n"
     ]
    },
    {
     "name": "stderr",
     "output_type": "stream",
     "text": [
      "INFO:root: \n",
      "Avg Training Stats after 22 global rounds:\n",
      "INFO:root:Train Accuracy: 0.00%\n",
      "INFO:root:Training Loss : 0.11043284832620717\n",
      "INFO:root:Test Accuracy: 49.94%\n",
      "INFO:root:Test Loss: 1.3886948269605637 \n",
      "\n",
      " 22%|██▏       | 22/100 [06:35<23:57, 18.43s/it]"
     ]
    },
    {
     "name": "stdout",
     "output_type": "stream",
     "text": [
      "[40, 862, 327, 1780, 2274, 106, 1053, 1112, 1012, 3195]\n"
     ]
    },
    {
     "name": "stderr",
     "output_type": "stream",
     "text": [
      "INFO:root: \n",
      "Avg Training Stats after 23 global rounds:\n",
      "INFO:root:Train Accuracy: 0.00%\n",
      "INFO:root:Training Loss : 0.19391714237812846\n",
      "INFO:root:Test Accuracy: 50.06%\n",
      "INFO:root:Test Loss: 1.412084275484085 \n",
      "\n",
      " 23%|██▎       | 23/100 [06:54<23:57, 18.67s/it]"
     ]
    },
    {
     "name": "stdout",
     "output_type": "stream",
     "text": [
      "[1320, 1119, 862, 744, 1053, 87, 201, 470, 2274, 1012]\n"
     ]
    },
    {
     "name": "stderr",
     "output_type": "stream",
     "text": [
      "INFO:root: \n",
      "Avg Training Stats after 24 global rounds:\n",
      "INFO:root:Train Accuracy: 0.00%\n",
      "INFO:root:Training Loss : 0.17944739054450895\n",
      "INFO:root:Test Accuracy: 50.07%\n",
      "INFO:root:Test Loss: 1.4303280651569366 \n",
      "\n",
      " 24%|██▍       | 24/100 [07:11<22:48, 18.01s/it]"
     ]
    },
    {
     "name": "stdout",
     "output_type": "stream",
     "text": [
      "[447, 286, 1416, 87, 796, 1798, 231, 1119, 431, 2195]\n"
     ]
    },
    {
     "name": "stderr",
     "output_type": "stream",
     "text": [
      "INFO:root: \n",
      "Avg Training Stats after 25 global rounds:\n",
      "INFO:root:Train Accuracy: 0.00%\n",
      "INFO:root:Training Loss : 0.22809875900503332\n",
      "INFO:root:Test Accuracy: 50.92%\n",
      "INFO:root:Test Loss: 1.3923286497592926 \n",
      "\n",
      " 25%|██▌       | 25/100 [07:27<21:50, 17.47s/it]"
     ]
    },
    {
     "name": "stdout",
     "output_type": "stream",
     "text": [
      "[116, 2029, 690, 1416, 1780, 602, 2575, 1756, 431, 87]\n"
     ]
    },
    {
     "name": "stderr",
     "output_type": "stream",
     "text": [
      "INFO:root: \n",
      "Avg Training Stats after 26 global rounds:\n",
      "INFO:root:Train Accuracy: 0.00%\n",
      "INFO:root:Training Loss : 0.25151599095057686\n",
      "INFO:root:Test Accuracy: 50.76%\n",
      "INFO:root:Test Loss: 1.3748608988523483 \n",
      "\n",
      " 26%|██▌       | 26/100 [07:45<21:55, 17.78s/it]"
     ]
    },
    {
     "name": "stdout",
     "output_type": "stream",
     "text": [
      "[87, 173, 2029, 19, 4600, 2195, 116, 303, 40, 209]\n"
     ]
    },
    {
     "name": "stderr",
     "output_type": "stream",
     "text": [
      "INFO:root: \n",
      "Avg Training Stats after 27 global rounds:\n",
      "INFO:root:Train Accuracy: 0.00%\n",
      "INFO:root:Training Loss : 0.23695381905828422\n",
      "INFO:root:Test Accuracy: 52.10%\n",
      "INFO:root:Test Loss: 1.3187495517730712 \n",
      "\n",
      " 27%|██▋       | 27/100 [08:02<21:18, 17.51s/it]"
     ]
    },
    {
     "name": "stdout",
     "output_type": "stream",
     "text": [
      "[4600, 267, 794, 231, 201, 231, 2934, 590, 470, 173]\n"
     ]
    },
    {
     "name": "stderr",
     "output_type": "stream",
     "text": [
      "INFO:root: \n",
      "Avg Training Stats after 28 global rounds:\n",
      "INFO:root:Train Accuracy: 0.00%\n",
      "INFO:root:Training Loss : 0.20936195938752733\n",
      "INFO:root:Test Accuracy: 53.57%\n",
      "INFO:root:Test Loss: 1.27947130382061 \n",
      "\n",
      " 28%|██▊       | 28/100 [08:20<21:03, 17.55s/it]"
     ]
    },
    {
     "name": "stdout",
     "output_type": "stream",
     "text": [
      "[1798, 286, 123, 1112, 303, 796, 744, 1320, 231, 794]\n"
     ]
    },
    {
     "name": "stderr",
     "output_type": "stream",
     "text": [
      "INFO:root: \n",
      "Avg Training Stats after 29 global rounds:\n",
      "INFO:root:Train Accuracy: 0.00%\n",
      "INFO:root:Training Loss : 0.084832379289073\n",
      "INFO:root:Test Accuracy: 51.54%\n",
      "INFO:root:Test Loss: 1.3906999364495278 \n",
      "\n",
      " 29%|██▉       | 29/100 [08:35<19:52, 16.79s/it]"
     ]
    },
    {
     "name": "stdout",
     "output_type": "stream",
     "text": [
      "[303, 4600, 1119, 447, 744, 40, 1756, 2430, 2029, 602]\n"
     ]
    },
    {
     "name": "stderr",
     "output_type": "stream",
     "text": [
      "INFO:root: \n",
      "Avg Training Stats after 30 global rounds:\n",
      "INFO:root:Train Accuracy: 0.00%\n",
      "INFO:root:Training Loss : 0.10079220677472116\n",
      "INFO:root:Test Accuracy: 52.17%\n",
      "INFO:root:Test Loss: 1.4048339122533797 \n",
      "\n",
      " 30%|███       | 30/100 [08:56<20:57, 17.97s/it]"
     ]
    },
    {
     "name": "stdout",
     "output_type": "stream",
     "text": [
      "[422, 3195, 1112, 327, 123, 1736, 303, 286, 106, 1433]\n"
     ]
    },
    {
     "name": "stderr",
     "output_type": "stream",
     "text": [
      "INFO:root: \n",
      "Avg Training Stats after 31 global rounds:\n",
      "INFO:root:Train Accuracy: 0.00%\n",
      "INFO:root:Training Loss : 0.14741544409157345\n",
      "INFO:root:Test Accuracy: 51.48%\n",
      "INFO:root:Test Loss: 1.455063712000847 \n",
      "\n",
      " 31%|███       | 31/100 [09:12<20:05, 17.48s/it]"
     ]
    },
    {
     "name": "stdout",
     "output_type": "stream",
     "text": [
      "[862, 173, 422, 303, 123, 1012, 542, 278, 431, 2195]\n"
     ]
    },
    {
     "name": "stderr",
     "output_type": "stream",
     "text": [
      "INFO:root: \n",
      "Avg Training Stats after 32 global rounds:\n",
      "INFO:root:Train Accuracy: 0.00%\n",
      "INFO:root:Training Loss : 0.25907193676172835\n",
      "INFO:root:Test Accuracy: 52.48%\n",
      "INFO:root:Test Loss: 1.3930254530906678 \n",
      "\n",
      " 32%|███▏      | 32/100 [09:26<18:38, 16.45s/it]"
     ]
    },
    {
     "name": "stdout",
     "output_type": "stream",
     "text": [
      "[1320, 15, 19, 1756, 231, 470, 267, 87, 862, 327]\n"
     ]
    },
    {
     "name": "stderr",
     "output_type": "stream",
     "text": [
      "INFO:root: \n",
      "Avg Training Stats after 33 global rounds:\n",
      "INFO:root:Train Accuracy: 0.00%\n",
      "INFO:root:Training Loss : 0.21507271139664946\n",
      "INFO:root:Test Accuracy: 52.74%\n",
      "INFO:root:Test Loss: 1.3776106470823288 \n",
      "\n",
      " 33%|███▎      | 33/100 [09:39<17:18, 15.50s/it]"
     ]
    },
    {
     "name": "stdout",
     "output_type": "stream",
     "text": [
      "[87, 267, 796, 1053, 1433, 2575, 1119, 794, 15, 327]\n"
     ]
    },
    {
     "name": "stderr",
     "output_type": "stream",
     "text": [
      "INFO:root: \n",
      "Avg Training Stats after 34 global rounds:\n",
      "INFO:root:Train Accuracy: 0.00%\n",
      "INFO:root:Training Loss : 0.16821211836960565\n",
      "INFO:root:Test Accuracy: 50.64%\n",
      "INFO:root:Test Loss: 1.4246602761745453 \n",
      "\n",
      " 34%|███▍      | 34/100 [09:56<17:17, 15.71s/it]"
     ]
    },
    {
     "name": "stdout",
     "output_type": "stream",
     "text": [
      "[422, 1798, 590, 796, 19, 1320, 173, 1416, 1053, 4600]\n"
     ]
    },
    {
     "name": "stderr",
     "output_type": "stream",
     "text": [
      "INFO:root: \n",
      "Avg Training Stats after 35 global rounds:\n",
      "INFO:root:Train Accuracy: 0.00%\n",
      "INFO:root:Training Loss : 0.2021961441869319\n",
      "INFO:root:Test Accuracy: 54.54%\n",
      "INFO:root:Test Loss: 1.2755888497829437 \n",
      "\n",
      " 35%|███▌      | 35/100 [10:16<18:26, 17.02s/it]"
     ]
    },
    {
     "name": "stdout",
     "output_type": "stream",
     "text": [
      "[2430, 1320, 602, 3195, 231, 2934, 431, 794, 1416, 542]\n"
     ]
    },
    {
     "name": "stderr",
     "output_type": "stream",
     "text": [
      "INFO:root: \n",
      "Avg Training Stats after 36 global rounds:\n",
      "INFO:root:Train Accuracy: 0.00%\n",
      "INFO:root:Training Loss : 0.15809212884328008\n",
      "INFO:root:Test Accuracy: 57.82%\n",
      "INFO:root:Test Loss: 1.1906743702292442 \n",
      "\n",
      " 36%|███▌      | 36/100 [10:37<19:31, 18.31s/it]"
     ]
    },
    {
     "name": "stdout",
     "output_type": "stream",
     "text": [
      "[15, 813, 1112, 123, 40, 796, 2274, 1018, 2195, 201]\n"
     ]
    },
    {
     "name": "stderr",
     "output_type": "stream",
     "text": [
      "INFO:root: \n",
      "Avg Training Stats after 37 global rounds:\n",
      "INFO:root:Train Accuracy: 0.00%\n",
      "INFO:root:Training Loss : 0.11938017749232399\n",
      "INFO:root:Test Accuracy: 57.86%\n",
      "INFO:root:Test Loss: 1.2034430700540542 \n",
      "\n",
      " 37%|███▋      | 37/100 [10:53<18:31, 17.64s/it]"
     ]
    },
    {
     "name": "stdout",
     "output_type": "stream",
     "text": [
      "[303, 2195, 422, 1112, 1433, 116, 796, 602, 1756, 231]\n"
     ]
    },
    {
     "name": "stderr",
     "output_type": "stream",
     "text": [
      "INFO:root: \n",
      "Avg Training Stats after 38 global rounds:\n",
      "INFO:root:Train Accuracy: 0.00%\n",
      "INFO:root:Training Loss : 0.1574200892557009\n",
      "INFO:root:Test Accuracy: 57.18%\n",
      "INFO:root:Test Loss: 1.2400720605254174 \n",
      "\n",
      " 38%|███▊      | 38/100 [11:09<17:47, 17.21s/it]"
     ]
    },
    {
     "name": "stdout",
     "output_type": "stream",
     "text": [
      "[1756, 231, 267, 2430, 590, 1736, 15, 4600, 327, 1112]\n"
     ]
    },
    {
     "name": "stderr",
     "output_type": "stream",
     "text": [
      "INFO:root: \n",
      "Avg Training Stats after 39 global rounds:\n",
      "INFO:root:Train Accuracy: 0.00%\n",
      "INFO:root:Training Loss : 0.15211239273408544\n",
      "INFO:root:Test Accuracy: 59.07%\n",
      "INFO:root:Test Loss: 1.1586123430728912 \n",
      "\n",
      " 39%|███▉      | 39/100 [11:29<18:18, 18.01s/it]"
     ]
    },
    {
     "name": "stdout",
     "output_type": "stream",
     "text": [
      "[2575, 422, 3195, 862, 231, 796, 2934, 123, 2430, 794]\n"
     ]
    },
    {
     "name": "stderr",
     "output_type": "stream",
     "text": [
      "INFO:root: \n",
      "Avg Training Stats after 40 global rounds:\n",
      "INFO:root:Train Accuracy: 0.00%\n",
      "INFO:root:Training Loss : 0.13550594485366257\n",
      "INFO:root:Test Accuracy: 59.37%\n",
      "INFO:root:Test Loss: 1.164867170751095 \n",
      "\n",
      " 40%|████      | 40/100 [11:51<19:00, 19.01s/it]"
     ]
    },
    {
     "name": "stdout",
     "output_type": "stream",
     "text": [
      "[231, 1119, 1736, 278, 447, 1018, 286, 744, 690, 173]\n"
     ]
    },
    {
     "name": "stderr",
     "output_type": "stream",
     "text": [
      "INFO:root: \n",
      "Avg Training Stats after 41 global rounds:\n",
      "INFO:root:Train Accuracy: 0.00%\n",
      "INFO:root:Training Loss : 0.16116422907589684\n",
      "INFO:root:Test Accuracy: 58.56%\n",
      "INFO:root:Test Loss: 1.2110310861468314 \n",
      "\n",
      " 41%|████      | 41/100 [12:05<17:24, 17.70s/it]"
     ]
    },
    {
     "name": "stdout",
     "output_type": "stream",
     "text": [
      "[231, 1320, 1416, 2575, 2274, 862, 690, 602, 1012, 173]\n"
     ]
    },
    {
     "name": "stderr",
     "output_type": "stream",
     "text": [
      "INFO:root: \n",
      "Avg Training Stats after 42 global rounds:\n",
      "INFO:root:Train Accuracy: 0.00%\n",
      "INFO:root:Training Loss : 0.16265057500760158\n",
      "INFO:root:Test Accuracy: 58.85%\n",
      "INFO:root:Test Loss: 1.2133750635385514 \n",
      "\n",
      " 42%|████▏     | 42/100 [12:24<17:22, 17.97s/it]"
     ]
    },
    {
     "name": "stdout",
     "output_type": "stream",
     "text": [
      "[1112, 1053, 3195, 2934, 2029, 201, 123, 2195, 1018, 173]\n"
     ]
    },
    {
     "name": "stderr",
     "output_type": "stream",
     "text": [
      "INFO:root: \n",
      "Avg Training Stats after 43 global rounds:\n",
      "INFO:root:Train Accuracy: 0.00%\n",
      "INFO:root:Training Loss : 0.19326464383244896\n",
      "INFO:root:Test Accuracy: 60.74%\n",
      "INFO:root:Test Loss: 1.1389770457148551 \n",
      "\n",
      " 43%|████▎     | 43/100 [12:45<18:03, 19.00s/it]"
     ]
    },
    {
     "name": "stdout",
     "output_type": "stream",
     "text": [
      "[862, 1053, 422, 3195, 4600, 794, 1756, 173, 2029, 1018]\n"
     ]
    },
    {
     "name": "stderr",
     "output_type": "stream",
     "text": [
      "INFO:root: \n",
      "Avg Training Stats after 44 global rounds:\n",
      "INFO:root:Train Accuracy: 0.00%\n",
      "INFO:root:Training Loss : 0.1763483797301778\n",
      "INFO:root:Test Accuracy: 61.85%\n",
      "INFO:root:Test Loss: 1.1042553451657295 \n",
      "\n",
      " 44%|████▍     | 44/100 [13:08<18:44, 20.08s/it]"
     ]
    },
    {
     "name": "stdout",
     "output_type": "stream",
     "text": [
      "[1320, 2934, 796, 2195, 862, 2575, 2029, 19, 422, 286]\n"
     ]
    },
    {
     "name": "stderr",
     "output_type": "stream",
     "text": [
      "INFO:root: \n",
      "Avg Training Stats after 45 global rounds:\n",
      "INFO:root:Train Accuracy: 0.00%\n",
      "INFO:root:Training Loss : 0.11314833093179251\n",
      "INFO:root:Test Accuracy: 61.11%\n",
      "INFO:root:Test Loss: 1.1306350296735763 \n",
      "\n",
      " 45%|████▌     | 45/100 [13:28<18:29, 20.18s/it]"
     ]
    },
    {
     "name": "stdout",
     "output_type": "stream",
     "text": [
      "[862, 744, 1416, 1112, 590, 542, 278, 690, 116, 1780]\n"
     ]
    },
    {
     "name": "stderr",
     "output_type": "stream",
     "text": [
      "INFO:root: \n",
      "Avg Training Stats after 46 global rounds:\n",
      "INFO:root:Train Accuracy: 0.00%\n",
      "INFO:root:Training Loss : 0.21859282811190192\n",
      "INFO:root:Test Accuracy: 61.74%\n",
      "INFO:root:Test Loss: 1.1095735555887223 \n",
      "\n",
      " 46%|████▌     | 46/100 [13:44<16:54, 18.78s/it]"
     ]
    },
    {
     "name": "stdout",
     "output_type": "stream",
     "text": [
      "[2575, 1112, 1320, 231, 3195, 1012, 862, 447, 2195, 201]\n"
     ]
    },
    {
     "name": "stderr",
     "output_type": "stream",
     "text": [
      "INFO:root: \n",
      "Avg Training Stats after 47 global rounds:\n",
      "INFO:root:Train Accuracy: 0.00%\n",
      "INFO:root:Training Loss : 0.09630521229427962\n",
      "INFO:root:Test Accuracy: 61.60%\n",
      "INFO:root:Test Loss: 1.1195757699012756 \n",
      "\n",
      " 47%|████▋     | 47/100 [14:04<16:55, 19.16s/it]"
     ]
    },
    {
     "name": "stdout",
     "output_type": "stream",
     "text": [
      "[1433, 542, 813, 231, 1119, 2029, 1012, 173, 2195, 1320]\n"
     ]
    },
    {
     "name": "stderr",
     "output_type": "stream",
     "text": [
      "INFO:root: \n",
      "Avg Training Stats after 48 global rounds:\n",
      "INFO:root:Train Accuracy: 0.00%\n",
      "INFO:root:Training Loss : 0.1053052183555528\n",
      "INFO:root:Test Accuracy: 60.85%\n",
      "INFO:root:Test Loss: 1.1495902308821677 \n",
      "\n",
      " 48%|████▊     | 48/100 [14:22<16:21, 18.87s/it]"
     ]
    },
    {
     "name": "stdout",
     "output_type": "stream",
     "text": [
      "[744, 2195, 209, 1780, 2575, 123, 327, 40, 1736, 690]\n"
     ]
    },
    {
     "name": "stderr",
     "output_type": "stream",
     "text": [
      "INFO:root: \n",
      "Avg Training Stats after 49 global rounds:\n",
      "INFO:root:Train Accuracy: 0.00%\n",
      "INFO:root:Training Loss : 0.19359154736968548\n",
      "INFO:root:Test Accuracy: 60.27%\n",
      "INFO:root:Test Loss: 1.1797040373086929 \n",
      "\n",
      " 49%|████▉     | 49/100 [14:40<15:43, 18.49s/it]"
     ]
    },
    {
     "name": "stdout",
     "output_type": "stream",
     "text": [
      "[862, 690, 1433, 173, 3195, 2934, 116, 447, 231, 431]\n"
     ]
    },
    {
     "name": "stderr",
     "output_type": "stream",
     "text": [
      "INFO:root: \n",
      "Avg Training Stats after 50 global rounds:\n",
      "INFO:root:Train Accuracy: 0.00%\n",
      "INFO:root:Training Loss : 0.19557646731476747\n",
      "INFO:root:Test Accuracy: 59.52%\n",
      "INFO:root:Test Loss: 1.274884316921234 \n",
      "\n",
      " 50%|█████     | 50/100 [14:57<15:12, 18.26s/it]"
     ]
    },
    {
     "name": "stdout",
     "output_type": "stream",
     "text": [
      "[1320, 19, 3195, 87, 1756, 303, 813, 2575, 231, 231]\n"
     ]
    },
    {
     "name": "stderr",
     "output_type": "stream",
     "text": [
      "INFO:root: \n",
      "Avg Training Stats after 51 global rounds:\n",
      "INFO:root:Train Accuracy: 0.00%\n",
      "INFO:root:Training Loss : 0.050858435199123864\n",
      "INFO:root:Test Accuracy: 58.16%\n",
      "INFO:root:Test Loss: 1.3767621278762818 \n",
      "\n",
      " 51%|█████     | 51/100 [15:15<14:51, 18.19s/it]"
     ]
    },
    {
     "name": "stdout",
     "output_type": "stream",
     "text": [
      "[40, 813, 1780, 2934, 15, 173, 278, 19, 1798, 267]\n"
     ]
    },
    {
     "name": "stderr",
     "output_type": "stream",
     "text": [
      "INFO:root: \n",
      "Avg Training Stats after 52 global rounds:\n",
      "INFO:root:Train Accuracy: 0.00%\n",
      "INFO:root:Training Loss : 0.13654479482990295\n",
      "INFO:root:Test Accuracy: 60.58%\n",
      "INFO:root:Test Loss: 1.2708724084496499 \n",
      "\n",
      " 52%|█████▏    | 52/100 [15:31<13:58, 17.47s/it]"
     ]
    },
    {
     "name": "stdout",
     "output_type": "stream",
     "text": [
      "[267, 231, 690, 173, 1780, 1053, 862, 590, 1433, 303]\n"
     ]
    },
    {
     "name": "stderr",
     "output_type": "stream",
     "text": [
      "INFO:root: \n",
      "Avg Training Stats after 53 global rounds:\n",
      "INFO:root:Train Accuracy: 0.00%\n",
      "INFO:root:Training Loss : 0.17996456131262117\n",
      "INFO:root:Test Accuracy: 62.80%\n",
      "INFO:root:Test Loss: 1.1272716549038888 \n",
      "\n",
      " 53%|█████▎    | 53/100 [15:47<13:13, 16.89s/it]"
     ]
    },
    {
     "name": "stdout",
     "output_type": "stream",
     "text": [
      "[431, 3195, 201, 796, 2934, 15, 231, 1112, 1736, 267]\n"
     ]
    },
    {
     "name": "stderr",
     "output_type": "stream",
     "text": [
      "INFO:root: \n",
      "Avg Training Stats after 54 global rounds:\n",
      "INFO:root:Train Accuracy: 0.00%\n",
      "INFO:root:Training Loss : 0.13376075916036184\n",
      "INFO:root:Test Accuracy: 63.14%\n",
      "INFO:root:Test Loss: 1.117624237537384 \n",
      "\n",
      " 54%|█████▍    | 54/100 [16:06<13:25, 17.51s/it]"
     ]
    },
    {
     "name": "stdout",
     "output_type": "stream",
     "text": [
      "[40, 1320, 1416, 286, 2195, 1012, 201, 116, 1053, 542]\n"
     ]
    },
    {
     "name": "stderr",
     "output_type": "stream",
     "text": [
      "INFO:root: \n",
      "Avg Training Stats after 55 global rounds:\n",
      "INFO:root:Train Accuracy: 0.00%\n",
      "INFO:root:Training Loss : 0.17351864830468172\n",
      "INFO:root:Test Accuracy: 61.88%\n",
      "INFO:root:Test Loss: 1.122910327911377 \n",
      "\n",
      " 55%|█████▌    | 55/100 [16:22<12:51, 17.13s/it]"
     ]
    },
    {
     "name": "stdout",
     "output_type": "stream",
     "text": [
      "[1798, 422, 231, 4600, 231, 2575, 1433, 106, 1320, 862]\n"
     ]
    },
    {
     "name": "stderr",
     "output_type": "stream",
     "text": [
      "INFO:root: \n",
      "Avg Training Stats after 56 global rounds:\n",
      "INFO:root:Train Accuracy: 0.00%\n",
      "INFO:root:Training Loss : 0.08534511571160126\n",
      "INFO:root:Test Accuracy: 61.59%\n",
      "INFO:root:Test Loss: 1.1521680456399919 \n",
      "\n",
      " 56%|█████▌    | 56/100 [16:43<13:21, 18.22s/it]"
     ]
    },
    {
     "name": "stdout",
     "output_type": "stream",
     "text": [
      "[2274, 3195, 267, 2029, 590, 327, 2195, 278, 1756, 813]\n"
     ]
    },
    {
     "name": "stderr",
     "output_type": "stream",
     "text": [
      "INFO:root: \n",
      "Avg Training Stats after 57 global rounds:\n",
      "INFO:root:Train Accuracy: 0.00%\n",
      "INFO:root:Training Loss : 0.12518817079119093\n",
      "INFO:root:Test Accuracy: 62.77%\n",
      "INFO:root:Test Loss: 1.133867170214653 \n",
      "\n",
      " 57%|█████▋    | 57/100 [17:03<13:34, 18.95s/it]"
     ]
    },
    {
     "name": "stdout",
     "output_type": "stream",
     "text": [
      "[1798, 431, 123, 1320, 1416, 231, 2575, 2934, 19, 1756]\n"
     ]
    },
    {
     "name": "stderr",
     "output_type": "stream",
     "text": [
      "INFO:root: \n",
      "Avg Training Stats after 58 global rounds:\n",
      "INFO:root:Train Accuracy: 0.00%\n",
      "INFO:root:Training Loss : 0.09849476731033945\n",
      "INFO:root:Test Accuracy: 63.11%\n",
      "INFO:root:Test Loss: 1.1633511048555374 \n",
      "\n",
      " 58%|█████▊    | 58/100 [17:23<13:23, 19.14s/it]"
     ]
    },
    {
     "name": "stdout",
     "output_type": "stream",
     "text": [
      "[1018, 267, 2274, 447, 2029, 690, 590, 303, 1119, 796]\n"
     ]
    },
    {
     "name": "stderr",
     "output_type": "stream",
     "text": [
      "INFO:root: \n",
      "Avg Training Stats after 59 global rounds:\n",
      "INFO:root:Train Accuracy: 0.00%\n",
      "INFO:root:Training Loss : 0.09017244791764913\n",
      "INFO:root:Test Accuracy: 62.53%\n",
      "INFO:root:Test Loss: 1.2087321381270886 \n",
      "\n",
      " 59%|█████▉    | 59/100 [17:40<12:43, 18.63s/it]"
     ]
    },
    {
     "name": "stdout",
     "output_type": "stream",
     "text": [
      "[106, 2430, 447, 1433, 1012, 3195, 1119, 1756, 862, 4600]\n"
     ]
    },
    {
     "name": "stderr",
     "output_type": "stream",
     "text": [
      "INFO:root: \n",
      "Avg Training Stats after 60 global rounds:\n",
      "INFO:root:Train Accuracy: 0.00%\n",
      "INFO:root:Training Loss : 0.05196681350508732\n",
      "INFO:root:Test Accuracy: 62.17%\n",
      "INFO:root:Test Loss: 1.2347857977449894 \n",
      "\n",
      " 60%|██████    | 60/100 [18:05<13:35, 20.39s/it]"
     ]
    },
    {
     "name": "stdout",
     "output_type": "stream",
     "text": [
      "[1780, 1320, 286, 2029, 40, 796, 447, 15, 231, 744]\n"
     ]
    },
    {
     "name": "stderr",
     "output_type": "stream",
     "text": [
      "INFO:root: \n",
      "Avg Training Stats after 61 global rounds:\n",
      "INFO:root:Train Accuracy: 0.00%\n",
      "INFO:root:Training Loss : 0.07807295557167093\n",
      "INFO:root:Test Accuracy: 63.02%\n",
      "INFO:root:Test Loss: 1.1679590429365634 \n",
      "\n",
      " 61%|██████    | 61/100 [18:20<12:19, 18.97s/it]"
     ]
    },
    {
     "name": "stdout",
     "output_type": "stream",
     "text": [
      "[116, 15, 2029, 327, 19, 470, 422, 87, 1012, 303]\n"
     ]
    },
    {
     "name": "stderr",
     "output_type": "stream",
     "text": [
      "INFO:root: \n",
      "Avg Training Stats after 62 global rounds:\n",
      "INFO:root:Train Accuracy: 0.00%\n",
      "INFO:root:Training Loss : 0.13614638633606782\n",
      "INFO:root:Test Accuracy: 62.50%\n",
      "INFO:root:Test Loss: 1.165029364824295 \n",
      "\n",
      " 62%|██████▏   | 62/100 [18:33<10:47, 17.05s/it]"
     ]
    },
    {
     "name": "stdout",
     "output_type": "stream",
     "text": [
      "[796, 2274, 862, 286, 813, 3195, 1112, 422, 1119, 327]\n"
     ]
    },
    {
     "name": "stderr",
     "output_type": "stream",
     "text": [
      "INFO:root: \n",
      "Avg Training Stats after 63 global rounds:\n",
      "INFO:root:Train Accuracy: 0.00%\n",
      "INFO:root:Training Loss : 0.1047201278593974\n",
      "INFO:root:Test Accuracy: 62.15%\n",
      "INFO:root:Test Loss: 1.176060818731785 \n",
      "\n",
      " 63%|██████▎   | 63/100 [18:51<10:46, 17.48s/it]"
     ]
    },
    {
     "name": "stdout",
     "output_type": "stream",
     "text": [
      "[542, 1798, 690, 15, 267, 2575, 796, 590, 209, 470]\n"
     ]
    },
    {
     "name": "stderr",
     "output_type": "stream",
     "text": [
      "INFO:root: \n",
      "Avg Training Stats after 64 global rounds:\n",
      "INFO:root:Train Accuracy: 0.00%\n",
      "INFO:root:Training Loss : 0.11630698051781652\n",
      "INFO:root:Test Accuracy: 62.35%\n",
      "INFO:root:Test Loss: 1.190338452756405 \n",
      "\n",
      " 64%|██████▍   | 64/100 [19:07<10:11, 17.00s/it]"
     ]
    },
    {
     "name": "stdout",
     "output_type": "stream",
     "text": [
      "[87, 267, 286, 1053, 303, 796, 40, 173, 19, 327]\n"
     ]
    },
    {
     "name": "stderr",
     "output_type": "stream",
     "text": [
      "INFO:root: \n",
      "Avg Training Stats after 65 global rounds:\n",
      "INFO:root:Train Accuracy: 0.00%\n",
      "INFO:root:Training Loss : 0.1637328072886862\n",
      "INFO:root:Test Accuracy: 62.55%\n",
      "INFO:root:Test Loss: 1.1958629471063613 \n",
      "\n",
      " 65%|██████▌   | 65/100 [19:19<08:57, 15.36s/it]"
     ]
    },
    {
     "name": "stdout",
     "output_type": "stream",
     "text": [
      "[813, 542, 106, 123, 4600, 40, 209, 2029, 1736, 2195]\n"
     ]
    },
    {
     "name": "stderr",
     "output_type": "stream",
     "text": [
      "INFO:root: \n",
      "Avg Training Stats after 66 global rounds:\n",
      "INFO:root:Train Accuracy: 0.00%\n",
      "INFO:root:Training Loss : 0.11350850092431145\n",
      "INFO:root:Test Accuracy: 63.28%\n",
      "INFO:root:Test Loss: 1.1756977912783624 \n",
      "\n",
      " 66%|██████▌   | 66/100 [19:38<09:24, 16.61s/it]"
     ]
    },
    {
     "name": "stdout",
     "output_type": "stream",
     "text": [
      "[1416, 1320, 201, 744, 2934, 447, 278, 2430, 1018, 2274]\n"
     ]
    },
    {
     "name": "stderr",
     "output_type": "stream",
     "text": [
      "INFO:root: \n",
      "Avg Training Stats after 67 global rounds:\n",
      "INFO:root:Train Accuracy: 0.00%\n",
      "INFO:root:Training Loss : 0.10975632454030673\n",
      "INFO:root:Test Accuracy: 64.37%\n",
      "INFO:root:Test Loss: 1.1761623340845109 \n",
      "\n",
      " 67%|██████▋   | 67/100 [19:59<09:45, 17.75s/it]"
     ]
    },
    {
     "name": "stdout",
     "output_type": "stream",
     "text": [
      "[303, 1012, 470, 123, 106, 201, 87, 1736, 2934, 2575]\n"
     ]
    },
    {
     "name": "stderr",
     "output_type": "stream",
     "text": [
      "INFO:root: \n",
      "Avg Training Stats after 68 global rounds:\n",
      "INFO:root:Train Accuracy: 0.00%\n",
      "INFO:root:Training Loss : 0.05997530702428674\n",
      "INFO:root:Test Accuracy: 63.72%\n",
      "INFO:root:Test Loss: 1.248194165378809 \n",
      "\n",
      " 68%|██████▊   | 68/100 [20:16<09:24, 17.64s/it]"
     ]
    },
    {
     "name": "stdout",
     "output_type": "stream",
     "text": [
      "[3195, 794, 690, 2029, 231, 1756, 1112, 1736, 201, 813]\n"
     ]
    },
    {
     "name": "stderr",
     "output_type": "stream",
     "text": [
      "INFO:root: \n",
      "Avg Training Stats after 69 global rounds:\n",
      "INFO:root:Train Accuracy: 0.00%\n",
      "INFO:root:Training Loss : 0.06552443214209672\n",
      "INFO:root:Test Accuracy: 63.47%\n",
      "INFO:root:Test Loss: 1.270067609101534 \n",
      "\n",
      " 69%|██████▉   | 69/100 [20:37<09:31, 18.44s/it]"
     ]
    },
    {
     "name": "stdout",
     "output_type": "stream",
     "text": [
      "[106, 40, 278, 422, 470, 2029, 2934, 744, 2274, 327]\n"
     ]
    },
    {
     "name": "stderr",
     "output_type": "stream",
     "text": [
      "INFO:root: \n",
      "Avg Training Stats after 70 global rounds:\n",
      "INFO:root:Train Accuracy: 0.00%\n",
      "INFO:root:Training Loss : 0.09495649301263169\n",
      "INFO:root:Test Accuracy: 62.52%\n",
      "INFO:root:Test Loss: 1.3302609047293663 \n",
      "\n",
      " 70%|███████   | 70/100 [20:54<09:00, 18.01s/it]"
     ]
    },
    {
     "name": "stdout",
     "output_type": "stream",
     "text": [
      "[3195, 267, 303, 173, 286, 2029, 422, 1012, 796, 106]\n"
     ]
    },
    {
     "name": "stderr",
     "output_type": "stream",
     "text": [
      "INFO:root: \n",
      "Avg Training Stats after 71 global rounds:\n",
      "INFO:root:Train Accuracy: 0.00%\n",
      "INFO:root:Training Loss : 0.12293682541965364\n",
      "INFO:root:Test Accuracy: 61.82%\n",
      "INFO:root:Test Loss: 1.3503706687688828 \n",
      "\n",
      " 71%|███████   | 71/100 [21:09<08:24, 17.39s/it]"
     ]
    },
    {
     "name": "stdout",
     "output_type": "stream",
     "text": [
      "[209, 40, 4600, 106, 123, 1012, 690, 542, 602, 2575]\n"
     ]
    },
    {
     "name": "stderr",
     "output_type": "stream",
     "text": [
      "INFO:root: \n",
      "Avg Training Stats after 72 global rounds:\n",
      "INFO:root:Train Accuracy: 0.00%\n",
      "INFO:root:Training Loss : 0.09560941550205657\n",
      "INFO:root:Test Accuracy: 62.36%\n",
      "INFO:root:Test Loss: 1.2866561895608901 \n",
      "\n",
      " 72%|███████▏  | 72/100 [21:27<08:09, 17.47s/it]"
     ]
    },
    {
     "name": "stdout",
     "output_type": "stream",
     "text": [
      "[1012, 2430, 2274, 209, 1798, 303, 1112, 231, 744, 278]\n"
     ]
    },
    {
     "name": "stderr",
     "output_type": "stream",
     "text": [
      "INFO:root: \n",
      "Avg Training Stats after 73 global rounds:\n",
      "INFO:root:Train Accuracy: 0.00%\n",
      "INFO:root:Training Loss : 0.07914785686340395\n",
      "INFO:root:Test Accuracy: 63.12%\n",
      "INFO:root:Test Loss: 1.2210987415909766 \n",
      "\n",
      " 73%|███████▎  | 73/100 [21:45<07:52, 17.48s/it]"
     ]
    },
    {
     "name": "stdout",
     "output_type": "stream",
     "text": [
      "[447, 1320, 209, 327, 744, 1018, 231, 2430, 590, 602]\n"
     ]
    },
    {
     "name": "stderr",
     "output_type": "stream",
     "text": [
      "INFO:root: \n",
      "Avg Training Stats after 74 global rounds:\n",
      "INFO:root:Train Accuracy: 0.00%\n",
      "INFO:root:Training Loss : 0.13542836984018378\n",
      "INFO:root:Test Accuracy: 63.29%\n",
      "INFO:root:Test Loss: 1.1801601579785348 \n",
      "\n",
      " 74%|███████▍  | 74/100 [22:00<07:17, 16.84s/it]"
     ]
    },
    {
     "name": "stdout",
     "output_type": "stream",
     "text": [
      "[470, 1053, 303, 1012, 106, 3195, 447, 1112, 201, 1433]\n"
     ]
    },
    {
     "name": "stderr",
     "output_type": "stream",
     "text": [
      "INFO:root: \n",
      "Avg Training Stats after 75 global rounds:\n",
      "INFO:root:Train Accuracy: 0.00%\n",
      "INFO:root:Training Loss : 0.05005834548503303\n",
      "INFO:root:Test Accuracy: 62.36%\n",
      "INFO:root:Test Loss: 1.2180057147145271 \n",
      "\n",
      " 75%|███████▌  | 75/100 [22:17<06:59, 16.80s/it]"
     ]
    },
    {
     "name": "stdout",
     "output_type": "stream",
     "text": [
      "[231, 1433, 431, 209, 1416, 1780, 116, 123, 422, 4600]\n"
     ]
    },
    {
     "name": "stderr",
     "output_type": "stream",
     "text": [
      "INFO:root: \n",
      "Avg Training Stats after 76 global rounds:\n",
      "INFO:root:Train Accuracy: 0.00%\n",
      "INFO:root:Training Loss : 0.184514046789031\n",
      "INFO:root:Test Accuracy: 65.04%\n",
      "INFO:root:Test Loss: 1.1442754319310189 \n",
      "\n",
      " 76%|███████▌  | 76/100 [22:35<06:51, 17.15s/it]"
     ]
    },
    {
     "name": "stdout",
     "output_type": "stream",
     "text": [
      "[2575, 796, 1053, 267, 602, 1018, 201, 1756, 286, 2430]\n"
     ]
    },
    {
     "name": "stderr",
     "output_type": "stream",
     "text": [
      "INFO:root: \n",
      "Avg Training Stats after 77 global rounds:\n",
      "INFO:root:Train Accuracy: 0.00%\n",
      "INFO:root:Training Loss : 0.11418435997037105\n",
      "INFO:root:Test Accuracy: 65.89%\n",
      "INFO:root:Test Loss: 1.1381787145137787 \n",
      "\n",
      " 77%|███████▋  | 77/100 [22:53<06:40, 17.41s/it]"
     ]
    },
    {
     "name": "stdout",
     "output_type": "stream",
     "text": [
      "[15, 2029, 2274, 744, 1018, 1736, 2934, 19, 173, 447]\n"
     ]
    },
    {
     "name": "stderr",
     "output_type": "stream",
     "text": [
      "INFO:root: \n",
      "Avg Training Stats after 78 global rounds:\n",
      "INFO:root:Train Accuracy: 0.00%\n",
      "INFO:root:Training Loss : 0.10457157096204739\n",
      "INFO:root:Test Accuracy: 64.49%\n",
      "INFO:root:Test Loss: 1.281201894581318 \n",
      "\n",
      " 78%|███████▊  | 78/100 [23:11<06:29, 17.70s/it]"
     ]
    },
    {
     "name": "stdout",
     "output_type": "stream",
     "text": [
      "[542, 602, 173, 201, 590, 690, 422, 2934, 1736, 744]\n"
     ]
    },
    {
     "name": "stderr",
     "output_type": "stream",
     "text": [
      "INFO:root: \n",
      "Avg Training Stats after 79 global rounds:\n",
      "INFO:root:Train Accuracy: 0.00%\n",
      "INFO:root:Training Loss : 0.14610538105994045\n",
      "INFO:root:Test Accuracy: 64.41%\n",
      "INFO:root:Test Loss: 1.3239387735724448 \n",
      "\n",
      " 79%|███████▉  | 79/100 [23:27<06:01, 17.22s/it]"
     ]
    },
    {
     "name": "stdout",
     "output_type": "stream",
     "text": [
      "[201, 278, 40, 1112, 106, 690, 2029, 87, 796, 3195]\n"
     ]
    },
    {
     "name": "stderr",
     "output_type": "stream",
     "text": [
      "INFO:root: \n",
      "Avg Training Stats after 80 global rounds:\n",
      "INFO:root:Train Accuracy: 0.00%\n",
      "INFO:root:Training Loss : 0.04120806230921047\n",
      "INFO:root:Test Accuracy: 64.06%\n",
      "INFO:root:Test Loss: 1.3573228546977043 \n",
      "\n",
      " 80%|████████  | 80/100 [23:43<05:36, 16.81s/it]"
     ]
    },
    {
     "name": "stdout",
     "output_type": "stream",
     "text": [
      "[1798, 15, 201, 123, 1433, 542, 1119, 690, 602, 40]\n"
     ]
    },
    {
     "name": "stderr",
     "output_type": "stream",
     "text": [
      "INFO:root: \n",
      "Avg Training Stats after 81 global rounds:\n",
      "INFO:root:Train Accuracy: 0.00%\n",
      "INFO:root:Training Loss : 0.09549064304298391\n",
      "INFO:root:Test Accuracy: 64.09%\n",
      "INFO:root:Test Loss: 1.3294483724236488 \n",
      "\n",
      " 81%|████████  | 81/100 [23:57<05:04, 16.01s/it]"
     ]
    },
    {
     "name": "stdout",
     "output_type": "stream",
     "text": [
      "[267, 542, 209, 796, 87, 3195, 231, 303, 2934, 1119]\n"
     ]
    },
    {
     "name": "stderr",
     "output_type": "stream",
     "text": [
      "INFO:root: \n",
      "Avg Training Stats after 82 global rounds:\n",
      "INFO:root:Train Accuracy: 0.00%\n",
      "INFO:root:Training Loss : 0.08555882579620364\n",
      "INFO:root:Test Accuracy: 63.59%\n",
      "INFO:root:Test Loss: 1.3146555885672568 \n",
      "\n",
      " 82%|████████▏ | 82/100 [24:14<04:54, 16.35s/it]"
     ]
    },
    {
     "name": "stdout",
     "output_type": "stream",
     "text": [
      "[690, 431, 422, 231, 4600, 2934, 2029, 327, 796, 590]\n"
     ]
    },
    {
     "name": "stderr",
     "output_type": "stream",
     "text": [
      "INFO:root: \n",
      "Avg Training Stats after 83 global rounds:\n",
      "INFO:root:Train Accuracy: 0.00%\n",
      "INFO:root:Training Loss : 0.10011576314592693\n",
      "INFO:root:Test Accuracy: 64.56%\n",
      "INFO:root:Test Loss: 1.2598224890232086 \n",
      "\n",
      " 83%|████████▎ | 83/100 [24:34<04:56, 17.43s/it]"
     ]
    },
    {
     "name": "stdout",
     "output_type": "stream",
     "text": [
      "[231, 1112, 87, 303, 690, 796, 2195, 813, 327, 1018]\n"
     ]
    },
    {
     "name": "stderr",
     "output_type": "stream",
     "text": [
      "INFO:root: \n",
      "Avg Training Stats after 84 global rounds:\n",
      "INFO:root:Train Accuracy: 0.00%\n",
      "INFO:root:Training Loss : 0.10525750702633627\n",
      "INFO:root:Test Accuracy: 65.00%\n",
      "INFO:root:Test Loss: 1.1634836676716804 \n",
      "\n",
      " 84%|████████▍ | 84/100 [24:49<04:27, 16.70s/it]"
     ]
    },
    {
     "name": "stdout",
     "output_type": "stream",
     "text": [
      "[602, 1018, 542, 106, 794, 447, 2029, 1433, 327, 690]\n"
     ]
    },
    {
     "name": "stderr",
     "output_type": "stream",
     "text": [
      "INFO:root: \n",
      "Avg Training Stats after 85 global rounds:\n",
      "INFO:root:Train Accuracy: 0.00%\n",
      "INFO:root:Training Loss : 0.09478354450975567\n",
      "INFO:root:Test Accuracy: 64.02%\n",
      "INFO:root:Test Loss: 1.167999878823757 \n",
      "\n",
      " 85%|████████▌ | 85/100 [25:05<04:04, 16.31s/it]"
     ]
    },
    {
     "name": "stdout",
     "output_type": "stream",
     "text": [
      "[1433, 267, 447, 1012, 470, 201, 231, 15, 278, 1736]\n"
     ]
    },
    {
     "name": "stderr",
     "output_type": "stream",
     "text": [
      "INFO:root: \n",
      "Avg Training Stats after 86 global rounds:\n",
      "INFO:root:Train Accuracy: 0.00%\n",
      "INFO:root:Training Loss : 0.1022095981396827\n",
      "INFO:root:Test Accuracy: 63.08%\n",
      "INFO:root:Test Loss: 1.1985123282670975 \n",
      "\n",
      " 86%|████████▌ | 86/100 [25:18<03:37, 15.57s/it]"
     ]
    },
    {
     "name": "stdout",
     "output_type": "stream",
     "text": [
      "[40, 1053, 231, 286, 106, 2274, 470, 1119, 447, 1416]\n"
     ]
    },
    {
     "name": "stderr",
     "output_type": "stream",
     "text": [
      "INFO:root: \n",
      "Avg Training Stats after 87 global rounds:\n",
      "INFO:root:Train Accuracy: 0.00%\n",
      "INFO:root:Training Loss : 0.0932465235620984\n",
      "INFO:root:Test Accuracy: 62.72%\n",
      "INFO:root:Test Loss: 1.2126068264245986 \n",
      "\n",
      " 87%|████████▋ | 87/100 [25:33<03:19, 15.37s/it]"
     ]
    },
    {
     "name": "stdout",
     "output_type": "stream",
     "text": [
      "[209, 2029, 231, 278, 1320, 862, 2195, 690, 1736, 106]\n"
     ]
    },
    {
     "name": "stderr",
     "output_type": "stream",
     "text": [
      "INFO:root: \n",
      "Avg Training Stats after 88 global rounds:\n",
      "INFO:root:Train Accuracy: 0.00%\n",
      "INFO:root:Training Loss : 0.09083458396826323\n",
      "INFO:root:Test Accuracy: 64.86%\n",
      "INFO:root:Test Loss: 1.1462751984596253 \n",
      "\n",
      " 88%|████████▊ | 88/100 [25:50<03:09, 15.81s/it]"
     ]
    },
    {
     "name": "stdout",
     "output_type": "stream",
     "text": [
      "[2430, 201, 2195, 2575, 123, 602, 116, 794, 4600, 690]\n"
     ]
    },
    {
     "name": "stderr",
     "output_type": "stream",
     "text": [
      "INFO:root: \n",
      "Avg Training Stats after 89 global rounds:\n",
      "INFO:root:Train Accuracy: 0.00%\n",
      "INFO:root:Training Loss : 0.10909054843960944\n",
      "INFO:root:Test Accuracy: 65.34%\n",
      "INFO:root:Test Loss: 1.1777701458334924 \n",
      "\n",
      " 89%|████████▉ | 89/100 [26:11<03:11, 17.40s/it]"
     ]
    },
    {
     "name": "stdout",
     "output_type": "stream",
     "text": [
      "[470, 303, 278, 87, 1119, 2274, 1780, 19, 4600, 602]\n"
     ]
    },
    {
     "name": "stderr",
     "output_type": "stream",
     "text": [
      "INFO:root: \n",
      "Avg Training Stats after 90 global rounds:\n",
      "INFO:root:Train Accuracy: 0.00%\n",
      "INFO:root:Training Loss : 0.05187782589017389\n",
      "INFO:root:Test Accuracy: 62.66%\n",
      "INFO:root:Test Loss: 1.4050540760159493 \n",
      "\n",
      " 90%|█████████ | 90/100 [26:30<02:57, 17.76s/it]"
     ]
    },
    {
     "name": "stdout",
     "output_type": "stream",
     "text": [
      "[2575, 602, 2029, 327, 209, 4600, 2274, 1756, 431, 1112]\n"
     ]
    },
    {
     "name": "stderr",
     "output_type": "stream",
     "text": [
      "INFO:root: \n",
      "Avg Training Stats after 91 global rounds:\n",
      "INFO:root:Train Accuracy: 0.00%\n",
      "INFO:root:Training Loss : 0.09388605022993024\n",
      "INFO:root:Test Accuracy: 59.57%\n",
      "INFO:root:Test Loss: 1.7083671098947526 \n",
      "\n",
      " 91%|█████████ | 91/100 [26:52<02:52, 19.18s/it]"
     ]
    },
    {
     "name": "stdout",
     "output_type": "stream",
     "text": [
      "[2195, 267, 813, 286, 3195, 470, 231, 278, 1012, 231]\n"
     ]
    },
    {
     "name": "stderr",
     "output_type": "stream",
     "text": [
      "INFO:root: \n",
      "Avg Training Stats after 92 global rounds:\n",
      "INFO:root:Train Accuracy: 0.00%\n",
      "INFO:root:Training Loss : 0.09509771810843629\n",
      "INFO:root:Test Accuracy: 58.95%\n",
      "INFO:root:Test Loss: 1.6982584637403488 \n",
      "\n",
      " 92%|█████████▏| 92/100 [27:09<02:26, 18.28s/it]"
     ]
    },
    {
     "name": "stdout",
     "output_type": "stream",
     "text": [
      "[1053, 2575, 303, 2430, 542, 116, 1756, 1433, 327, 15]\n"
     ]
    },
    {
     "name": "stderr",
     "output_type": "stream",
     "text": [
      "INFO:root: \n",
      "Avg Training Stats after 93 global rounds:\n",
      "INFO:root:Train Accuracy: 0.00%\n",
      "INFO:root:Training Loss : 0.12681504277396588\n",
      "INFO:root:Test Accuracy: 59.45%\n",
      "INFO:root:Test Loss: 1.6209672927856444 \n",
      "\n",
      " 93%|█████████▎| 93/100 [27:26<02:06, 18.12s/it]"
     ]
    },
    {
     "name": "stdout",
     "output_type": "stream",
     "text": [
      "[590, 4600, 201, 286, 303, 1736, 15, 1798, 744, 422]\n"
     ]
    },
    {
     "name": "stderr",
     "output_type": "stream",
     "text": [
      "INFO:root: \n",
      "Avg Training Stats after 94 global rounds:\n",
      "INFO:root:Train Accuracy: 0.00%\n",
      "INFO:root:Training Loss : 0.07145273351041435\n",
      "INFO:root:Test Accuracy: 63.15%\n",
      "INFO:root:Test Loss: 1.3824238336086274 \n",
      "\n",
      " 94%|█████████▍| 94/100 [27:44<01:48, 18.13s/it]"
     ]
    },
    {
     "name": "stdout",
     "output_type": "stream",
     "text": [
      "[123, 862, 542, 19, 794, 1112, 4600, 2934, 231, 15]\n"
     ]
    },
    {
     "name": "stderr",
     "output_type": "stream",
     "text": [
      "INFO:root: \n",
      "Avg Training Stats after 95 global rounds:\n",
      "INFO:root:Train Accuracy: 0.00%\n",
      "INFO:root:Training Loss : 0.09003181924472078\n",
      "INFO:root:Test Accuracy: 66.18%\n",
      "INFO:root:Test Loss: 1.204861843585968 \n",
      "\n",
      " 95%|█████████▌| 95/100 [28:03<01:30, 18.15s/it]"
     ]
    },
    {
     "name": "stdout",
     "output_type": "stream",
     "text": [
      "[1053, 87, 2575, 4600, 542, 231, 1433, 1012, 2029, 862]\n"
     ]
    },
    {
     "name": "stderr",
     "output_type": "stream",
     "text": [
      "INFO:root: \n",
      "Avg Training Stats after 96 global rounds:\n",
      "INFO:root:Train Accuracy: 0.00%\n",
      "INFO:root:Training Loss : 0.06475937728000739\n",
      "INFO:root:Test Accuracy: 65.83%\n",
      "INFO:root:Test Loss: 1.2540878066420555 \n",
      "\n",
      " 96%|█████████▌| 96/100 [28:24<01:16, 19.11s/it]"
     ]
    },
    {
     "name": "stdout",
     "output_type": "stream",
     "text": [
      "[19, 602, 40, 690, 267, 231, 173, 2029, 1798, 3195]\n"
     ]
    },
    {
     "name": "stderr",
     "output_type": "stream",
     "text": [
      "INFO:root: \n",
      "Avg Training Stats after 97 global rounds:\n",
      "INFO:root:Train Accuracy: 0.00%\n",
      "INFO:root:Training Loss : 0.11838491938240932\n",
      "INFO:root:Test Accuracy: 64.49%\n",
      "INFO:root:Test Loss: 1.377381522655487 \n",
      "\n",
      " 97%|█████████▋| 97/100 [28:40<00:54, 18.27s/it]"
     ]
    },
    {
     "name": "stdout",
     "output_type": "stream",
     "text": [
      "[209, 1012, 422, 40, 794, 4600, 116, 286, 303, 1756]\n"
     ]
    },
    {
     "name": "stderr",
     "output_type": "stream",
     "text": [
      "INFO:root: \n",
      "Avg Training Stats after 98 global rounds:\n",
      "INFO:root:Train Accuracy: 0.00%\n",
      "INFO:root:Training Loss : 0.07801986461585617\n",
      "INFO:root:Test Accuracy: 64.13%\n",
      "INFO:root:Test Loss: 1.4449684476852418 \n",
      "\n",
      " 98%|█████████▊| 98/100 [28:57<00:35, 17.86s/it]"
     ]
    },
    {
     "name": "stdout",
     "output_type": "stream",
     "text": [
      "[2274, 1736, 173, 1416, 447, 19, 2195, 2029, 862, 744]\n"
     ]
    },
    {
     "name": "stderr",
     "output_type": "stream",
     "text": [
      "INFO:root: \n",
      "Avg Training Stats after 99 global rounds:\n",
      "INFO:root:Train Accuracy: 0.00%\n",
      "INFO:root:Training Loss : 0.143803445650053\n",
      "INFO:root:Test Accuracy: 65.79%\n",
      "INFO:root:Test Loss: 1.3160942551493644 \n",
      "\n",
      " 99%|█████████▉| 99/100 [29:16<00:18, 18.22s/it]"
     ]
    },
    {
     "name": "stdout",
     "output_type": "stream",
     "text": [
      "[431, 1798, 1736, 744, 19, 278, 690, 590, 116, 40]\n"
     ]
    },
    {
     "name": "stderr",
     "output_type": "stream",
     "text": [
      "INFO:root: \n",
      "Avg Training Stats after 100 global rounds:\n",
      "INFO:root:Train Accuracy: 0.00%\n",
      "INFO:root:Training Loss : 0.08050027665525737\n",
      "INFO:root:Test Accuracy: 65.51%\n",
      "INFO:root:Test Loss: 1.3159439457952977 \n",
      "\n",
      "100%|██████████| 100/100 [29:30<00:00, 17.71s/it]\n",
      "INFO:root: \n",
      " Results after 100 global rounds of training:\n",
      "INFO:root:|---- Best Test Accuracy: 66.18% , round: 94\n"
     ]
    },
    {
     "name": "stdout",
     "output_type": "stream",
     "text": [
      " Saving checkpoints to ../save/checkpoint/ConvNet_1207/cifar10_ConvNet_none_T[100]_C[0.2]_iid[0]_E[5]_B[32]_GPU[0]_Pruned[0.0]...\n"
     ]
    }
   ],
   "source": [
    " args = easydict.EasyDict({\n",
    "    \"model\": 'ConvNet',\n",
    "    'dataset': 'cifar10',\n",
    "    'gpu': 0,\n",
    "    'iid': 0,\n",
    "    'epochs': 100,\n",
    "    'optimizer': 'sgd',\n",
    "    'seed': 0,\n",
    "    'norm': 'none',\n",
    "    'num_users': 50,\n",
    "    'frac': 0.2,\n",
    "    'local_ep': 5, \n",
    "    'local_bs': 32,\n",
    "    'lr': 0.01,\n",
    "    'momentum': 1,\n",
    "    'kernel_num': 9,\n",
    "    'kernel_sizes': 'only_momentum',\n",
    "    'num_channnels': '1',\n",
    "    'num_filters': 32,\n",
    "    'max_pool': 'True',\n",
    "    'num_classes': 10,\n",
    "    'unequal': 0,\n",
    "    'stopping_rounds': 0,\n",
    "    'verbose': 0,\n",
    "    'hold_normalize': 0,\n",
    "    'save_path': '../save/checkpoint',\n",
    "    'exp_folder': 'ConvNet_1207',\n",
    "    'resume': None,\n",
    "    'server_opt': 'sgdm',\n",
    "    'server_lr': 1.0,\n",
    "    'client_decay':0,\n",
    "    'local_decay':0,\n",
    "    'alpha': 0.05,\n",
    "    'server_epoch':0,\n",
    "    'cosine_norm':0, \n",
    "    'only_fc' :0 ,\n",
    "    'loss':'bsm',\n",
    "    'dc_lr':0.0,\n",
    "    'tsne_pred':0,\n",
    "    'pruning': 0.0 })\n",
    "    \n",
    "    \n",
    "    \n",
    "temp = main_test(args)\n",
    "total.append(temp)"
   ]
  },
  {
   "cell_type": "code",
   "execution_count": 6,
   "id": "awful-syntax",
   "metadata": {},
   "outputs": [
    {
     "name": "stderr",
     "output_type": "stream",
     "text": [
      "INFO:root:{'model': 'ConvNet', 'dataset': 'cifar10', 'gpu': 0, 'iid': 0, 'epochs': 100, 'optimizer': 'sgd', 'seed': 0, 'norm': 'none', 'num_users': 50, 'frac': 0.2, 'local_ep': 5, 'local_bs': 32, 'lr': 0.01, 'momentum': 1, 'kernel_num': 9, 'kernel_sizes': 'centering', 'num_channnels': '1', 'num_filters': 32, 'max_pool': 'True', 'num_classes': 10, 'unequal': 0, 'stopping_rounds': 0, 'verbose': 0, 'hold_normalize': 0, 'save_path': '../save/checkpoint/ConvNet_1207', 'exp_folder': 'ConvNet_1207', 'resume': None, 'server_opt': 'sgd', 'server_lr': 1.0, 'client_decay': 0, 'local_decay': 0, 'alpha': 0.05, 'server_epoch': 0, 'cosine_norm': 0, 'only_fc': 0, 'loss': 'ce', 'dc_lr': 0.0, 'tsne_pred': 0, 'pruning': 0.0}\n"
     ]
    },
    {
     "name": "stdout",
     "output_type": "stream",
     "text": [
      "Files already downloaded and verified\n",
      "Files already downloaded and verified\n",
      "Files already downloaded and verified\n"
     ]
    },
    {
     "name": "stderr",
     "output_type": "stream",
     "text": [
      "INFO:root:ConvNet(\n",
      "  (net_act): ReLU(inplace=True)\n",
      "  (net_pooling): MaxPool2d(kernel_size=2, stride=2, padding=0, dilation=1, ceil_mode=False)\n",
      "  (features): Sequential(\n",
      "    (0): Conv2d(3, 128, kernel_size=(3, 3), stride=(1, 1), padding=(1, 1))\n",
      "    (1): ReLU(inplace=True)\n",
      "    (2): MaxPool2d(kernel_size=2, stride=2, padding=0, dilation=1, ceil_mode=False)\n",
      "    (3): Conv2d(128, 128, kernel_size=(3, 3), stride=(1, 1), padding=(1, 1))\n",
      "    (4): ReLU(inplace=True)\n",
      "    (5): MaxPool2d(kernel_size=2, stride=2, padding=0, dilation=1, ceil_mode=False)\n",
      "    (6): Conv2d(128, 128, kernel_size=(3, 3), stride=(1, 1), padding=(1, 1))\n",
      "    (7): ReLU(inplace=True)\n",
      "    (8): MaxPool2d(kernel_size=2, stride=2, padding=0, dilation=1, ceil_mode=False)\n",
      "  )\n",
      "  (classifier): Linear(in_features=2048, out_features=10, bias=True)\n",
      ")\n",
      "INFO:root:None\n",
      "  0%|          | 0/100 [00:00<?, ?it/s]"
     ]
    },
    {
     "name": "stdout",
     "output_type": "stream",
     "text": [
      "----------------------------------------------------------------\n",
      "        Layer (type)               Output Shape         Param #\n",
      "================================================================\n",
      "            Conv2d-1          [-1, 128, 32, 32]           3,584\n",
      "              ReLU-2          [-1, 128, 32, 32]               0\n",
      "              ReLU-3          [-1, 128, 32, 32]               0\n",
      "         MaxPool2d-4          [-1, 128, 16, 16]               0\n",
      "         MaxPool2d-5          [-1, 128, 16, 16]               0\n",
      "            Conv2d-6          [-1, 128, 16, 16]         147,584\n",
      "              ReLU-7          [-1, 128, 16, 16]               0\n",
      "              ReLU-8          [-1, 128, 16, 16]               0\n",
      "         MaxPool2d-9            [-1, 128, 8, 8]               0\n",
      "        MaxPool2d-10            [-1, 128, 8, 8]               0\n",
      "           Conv2d-11            [-1, 128, 8, 8]         147,584\n",
      "             ReLU-12            [-1, 128, 8, 8]               0\n",
      "             ReLU-13            [-1, 128, 8, 8]               0\n",
      "        MaxPool2d-14            [-1, 128, 4, 4]               0\n",
      "        MaxPool2d-15            [-1, 128, 4, 4]               0\n",
      "           Linear-16                   [-1, 10]          20,490\n",
      "================================================================\n",
      "Total params: 319,242\n",
      "Trainable params: 319,242\n",
      "Non-trainable params: 0\n",
      "----------------------------------------------------------------\n",
      "Input size (MB): 0.01\n",
      "Forward/backward pass size (MB): 4.59\n",
      "Params size (MB): 1.22\n",
      "Estimated Total Size (MB): 5.82\n",
      "----------------------------------------------------------------\n",
      "[209, 1756, 422, 2575, 1018, 602, 2274, 447, 744, 1112, 123, 87, 1433, 1416, 40, 1119, 796, 794, 327, 470, 231, 813, 1320, 542, 690, 2195, 2934, 106, 1012, 15, 278, 1798, 303, 590, 2029, 201, 1053, 862, 231, 116, 4600, 19, 286, 1736, 2430, 431, 3195, 1780, 173, 267]\n",
      "[470, 2934, 201, 231, 2575, 744, 15, 123, 1119, 4600]\n"
     ]
    },
    {
     "name": "stderr",
     "output_type": "stream",
     "text": [
      "INFO:root: \n",
      "Avg Training Stats after 1 global rounds:\n",
      "INFO:root:Train Accuracy: 0.00%\n",
      "INFO:root:Training Loss : 0.5188513476729864\n",
      "INFO:root:Test Accuracy: 10.34%\n",
      "INFO:root:Test Loss: 2.5043335616588593 \n",
      "\n",
      "  1%|          | 1/100 [00:20<33:06, 20.06s/it]"
     ]
    },
    {
     "name": "stdout",
     "output_type": "stream",
     "text": [
      "[231, 173, 2575, 1736, 2430, 123, 4600, 690, 1012, 447]\n"
     ]
    },
    {
     "name": "stderr",
     "output_type": "stream",
     "text": [
      "INFO:root: \n",
      "Avg Training Stats after 2 global rounds:\n",
      "INFO:root:Train Accuracy: 0.00%\n",
      "INFO:root:Training Loss : 0.5378256183759287\n",
      "INFO:root:Test Accuracy: 12.87%\n",
      "INFO:root:Test Loss: 3.073071088194847 \n",
      "\n",
      "  2%|▏         | 2/100 [00:40<33:27, 20.49s/it]"
     ]
    },
    {
     "name": "stdout",
     "output_type": "stream",
     "text": [
      "[744, 2575, 1320, 470, 2430, 2274, 267, 690, 209, 303]\n"
     ]
    },
    {
     "name": "stderr",
     "output_type": "stream",
     "text": [
      "INFO:root: \n",
      "Avg Training Stats after 3 global rounds:\n",
      "INFO:root:Train Accuracy: 0.00%\n",
      "INFO:root:Training Loss : 0.42525608324337466\n",
      "INFO:root:Test Accuracy: 22.10%\n",
      "INFO:root:Test Loss: 2.578998703956604 \n",
      "\n",
      "  3%|▎         | 3/100 [00:59<32:01, 19.81s/it]"
     ]
    },
    {
     "name": "stdout",
     "output_type": "stream",
     "text": [
      "[173, 690, 542, 1012, 2195, 1780, 1053, 87, 2934, 1736]\n"
     ]
    },
    {
     "name": "stderr",
     "output_type": "stream",
     "text": [
      "INFO:root: \n",
      "Avg Training Stats after 4 global rounds:\n",
      "INFO:root:Train Accuracy: 0.00%\n",
      "INFO:root:Training Loss : 0.5968993299338191\n",
      "INFO:root:Test Accuracy: 20.78%\n",
      "INFO:root:Test Loss: 2.187982077598572 \n",
      "\n",
      "  4%|▍         | 4/100 [01:19<31:46, 19.86s/it]"
     ]
    },
    {
     "name": "stdout",
     "output_type": "stream",
     "text": [
      "[2430, 2575, 1736, 123, 15, 1780, 1018, 231, 87, 794]\n"
     ]
    },
    {
     "name": "stderr",
     "output_type": "stream",
     "text": [
      "INFO:root: \n",
      "Avg Training Stats after 5 global rounds:\n",
      "INFO:root:Train Accuracy: 0.00%\n",
      "INFO:root:Training Loss : 0.4785661424575198\n",
      "INFO:root:Test Accuracy: 15.53%\n",
      "INFO:root:Test Loss: 2.9923414000868798 \n",
      "\n",
      "  5%|▌         | 5/100 [01:38<30:38, 19.35s/it]"
     ]
    },
    {
     "name": "stdout",
     "output_type": "stream",
     "text": [
      "[1119, 87, 590, 794, 813, 303, 1320, 690, 1018, 422]\n"
     ]
    },
    {
     "name": "stderr",
     "output_type": "stream",
     "text": [
      "INFO:root: \n",
      "Avg Training Stats after 6 global rounds:\n",
      "INFO:root:Train Accuracy: 0.00%\n",
      "INFO:root:Training Loss : 0.3799809591036566\n",
      "INFO:root:Test Accuracy: 11.67%\n",
      "INFO:root:Test Loss: 2.7719780939817427 \n",
      "\n",
      "  6%|▌         | 6/100 [01:53<27:58, 17.85s/it]"
     ]
    },
    {
     "name": "stdout",
     "output_type": "stream",
     "text": [
      "[2029, 1433, 303, 327, 744, 862, 2934, 231, 1416, 278]\n"
     ]
    },
    {
     "name": "stderr",
     "output_type": "stream",
     "text": [
      "INFO:root: \n",
      "Avg Training Stats after 7 global rounds:\n",
      "INFO:root:Train Accuracy: 0.00%\n",
      "INFO:root:Training Loss : 0.4699675995111495\n",
      "INFO:root:Test Accuracy: 22.10%\n",
      "INFO:root:Test Loss: 2.1510581028461457 \n",
      "\n",
      "  7%|▋         | 7/100 [02:11<27:47, 17.93s/it]"
     ]
    },
    {
     "name": "stdout",
     "output_type": "stream",
     "text": [
      "[231, 1112, 327, 744, 286, 422, 15, 1798, 1053, 173]\n"
     ]
    },
    {
     "name": "stderr",
     "output_type": "stream",
     "text": [
      "INFO:root: \n",
      "Avg Training Stats after 8 global rounds:\n",
      "INFO:root:Train Accuracy: 0.00%\n",
      "INFO:root:Training Loss : 0.5164629909002997\n",
      "INFO:root:Test Accuracy: 31.45%\n",
      "INFO:root:Test Loss: 1.9756445521116257 \n",
      "\n",
      "  8%|▊         | 8/100 [02:25<25:32, 16.66s/it]"
     ]
    },
    {
     "name": "stdout",
     "output_type": "stream",
     "text": [
      "[794, 278, 744, 862, 303, 19, 2274, 1053, 813, 1012]\n"
     ]
    },
    {
     "name": "stderr",
     "output_type": "stream",
     "text": [
      "INFO:root: \n",
      "Avg Training Stats after 9 global rounds:\n",
      "INFO:root:Train Accuracy: 0.00%\n",
      "INFO:root:Training Loss : 0.3276309588656991\n",
      "INFO:root:Test Accuracy: 24.79%\n",
      "INFO:root:Test Loss: 2.2675355583429337 \n",
      "\n",
      "  9%|▉         | 9/100 [02:40<24:45, 16.33s/it]"
     ]
    },
    {
     "name": "stdout",
     "output_type": "stream",
     "text": [
      "[1320, 40, 1756, 470, 327, 1012, 862, 1433, 796, 231]\n"
     ]
    },
    {
     "name": "stderr",
     "output_type": "stream",
     "text": [
      "INFO:root: \n",
      "Avg Training Stats after 10 global rounds:\n",
      "INFO:root:Train Accuracy: 0.00%\n",
      "INFO:root:Training Loss : 0.2560481687496122\n",
      "INFO:root:Test Accuracy: 18.37%\n",
      "INFO:root:Test Loss: 2.76341044485569 \n",
      "\n",
      " 10%|█         | 10/100 [02:56<24:11, 16.13s/it]"
     ]
    },
    {
     "name": "stdout",
     "output_type": "stream",
     "text": [
      "[87, 201, 1798, 813, 123, 2934, 1756, 231, 1053, 4600]\n"
     ]
    },
    {
     "name": "stderr",
     "output_type": "stream",
     "text": [
      "INFO:root: \n",
      "Avg Training Stats after 11 global rounds:\n",
      "INFO:root:Train Accuracy: 0.00%\n",
      "INFO:root:Training Loss : 0.38616221250793137\n",
      "INFO:root:Test Accuracy: 24.22%\n",
      "INFO:root:Test Loss: 2.2212667241692543 \n",
      "\n",
      " 11%|█         | 11/100 [03:16<25:52, 17.45s/it]"
     ]
    },
    {
     "name": "stdout",
     "output_type": "stream",
     "text": [
      "[106, 231, 447, 796, 209, 1798, 1112, 1416, 590, 794]\n"
     ]
    },
    {
     "name": "stderr",
     "output_type": "stream",
     "text": [
      "INFO:root: \n",
      "Avg Training Stats after 12 global rounds:\n",
      "INFO:root:Train Accuracy: 0.00%\n",
      "INFO:root:Training Loss : 0.25203496844529816\n",
      "INFO:root:Test Accuracy: 35.95%\n",
      "INFO:root:Test Loss: 1.8616657757759094 \n",
      "\n",
      " 12%|█▏        | 12/100 [03:32<24:37, 16.79s/it]"
     ]
    },
    {
     "name": "stdout",
     "output_type": "stream",
     "text": [
      "[1320, 278, 862, 2274, 1798, 87, 2029, 796, 1018, 2430]\n"
     ]
    },
    {
     "name": "stderr",
     "output_type": "stream",
     "text": [
      "INFO:root: \n",
      "Avg Training Stats after 13 global rounds:\n",
      "INFO:root:Train Accuracy: 0.00%\n",
      "INFO:root:Training Loss : 0.2933548356461018\n",
      "INFO:root:Test Accuracy: 35.28%\n",
      "INFO:root:Test Loss: 2.0104464799165727 \n",
      "\n",
      " 13%|█▎        | 13/100 [03:51<25:37, 17.67s/it]"
     ]
    },
    {
     "name": "stdout",
     "output_type": "stream",
     "text": [
      "[4600, 2575, 590, 173, 2430, 40, 1112, 87, 231, 2195]\n"
     ]
    },
    {
     "name": "stderr",
     "output_type": "stream",
     "text": [
      "INFO:root: \n",
      "Avg Training Stats after 14 global rounds:\n",
      "INFO:root:Train Accuracy: 0.00%\n",
      "INFO:root:Training Loss : 0.37637892820722907\n",
      "INFO:root:Test Accuracy: 31.84%\n",
      "INFO:root:Test Loss: 1.8954212605953216 \n",
      "\n",
      " 14%|█▍        | 14/100 [04:12<26:37, 18.57s/it]"
     ]
    },
    {
     "name": "stdout",
     "output_type": "stream",
     "text": [
      "[231, 794, 1018, 1012, 15, 303, 796, 2274, 1320, 19]\n"
     ]
    },
    {
     "name": "stderr",
     "output_type": "stream",
     "text": [
      "INFO:root: \n",
      "Avg Training Stats after 15 global rounds:\n",
      "INFO:root:Train Accuracy: 0.00%\n",
      "INFO:root:Training Loss : 0.3513002710235635\n",
      "INFO:root:Test Accuracy: 34.20%\n",
      "INFO:root:Test Loss: 1.8964248850941658 \n",
      "\n",
      " 15%|█▌        | 15/100 [04:28<25:06, 17.72s/it]"
     ]
    },
    {
     "name": "stdout",
     "output_type": "stream",
     "text": [
      "[2195, 40, 2029, 862, 2575, 1433, 447, 19, 4600, 796]\n"
     ]
    },
    {
     "name": "stderr",
     "output_type": "stream",
     "text": [
      "INFO:root: \n",
      "Avg Training Stats after 16 global rounds:\n",
      "INFO:root:Train Accuracy: 0.00%\n",
      "INFO:root:Training Loss : 0.3098282421981115\n",
      "INFO:root:Test Accuracy: 39.56%\n",
      "INFO:root:Test Loss: 1.7578383994102478 \n",
      "\n",
      " 16%|█▌        | 16/100 [04:50<26:44, 19.10s/it]"
     ]
    },
    {
     "name": "stdout",
     "output_type": "stream",
     "text": [
      "[231, 173, 303, 2274, 796, 116, 1798, 447, 106, 1433]\n"
     ]
    },
    {
     "name": "stderr",
     "output_type": "stream",
     "text": [
      " 16%|█▌        | 16/100 [04:53<25:42, 18.36s/it]\n"
     ]
    },
    {
     "ename": "KeyboardInterrupt",
     "evalue": "",
     "output_type": "error",
     "traceback": [
      "\u001b[0;31m---------------------------------------------------------------------------\u001b[0m",
      "\u001b[0;31mKeyboardInterrupt\u001b[0m                         Traceback (most recent call last)",
      "\u001b[0;32m<ipython-input-6-69c7816487a3>\u001b[0m in \u001b[0;36m<module>\u001b[0;34m\u001b[0m\n\u001b[1;32m     42\u001b[0m \u001b[0;34m\u001b[0m\u001b[0m\n\u001b[1;32m     43\u001b[0m \u001b[0;34m\u001b[0m\u001b[0m\n\u001b[0;32m---> 44\u001b[0;31m \u001b[0mtemp\u001b[0m \u001b[0;34m=\u001b[0m \u001b[0mmain_test\u001b[0m\u001b[0;34m(\u001b[0m\u001b[0margs\u001b[0m\u001b[0;34m)\u001b[0m\u001b[0;34m\u001b[0m\u001b[0;34m\u001b[0m\u001b[0m\n\u001b[0m\u001b[1;32m     45\u001b[0m \u001b[0mtotal\u001b[0m\u001b[0;34m.\u001b[0m\u001b[0mappend\u001b[0m\u001b[0;34m(\u001b[0m\u001b[0mtemp\u001b[0m\u001b[0;34m)\u001b[0m\u001b[0;34m\u001b[0m\u001b[0;34m\u001b[0m\u001b[0m\n",
      "\u001b[0;32m~/Projects/Federated-Learning/src/test_imagenet.py\u001b[0m in \u001b[0;36mmain_test\u001b[0;34m(args)\u001b[0m\n\u001b[1;32m    336\u001b[0m \u001b[0;34m\u001b[0m\u001b[0m\n\u001b[1;32m    337\u001b[0m             \u001b[0mlocal_model\u001b[0m \u001b[0;34m=\u001b[0m \u001b[0mLocalUpdate\u001b[0m\u001b[0;34m(\u001b[0m\u001b[0margs\u001b[0m\u001b[0;34m=\u001b[0m\u001b[0margs\u001b[0m\u001b[0;34m,\u001b[0m \u001b[0mtrain_loader\u001b[0m\u001b[0;34m=\u001b[0m\u001b[0mclient_loader_dict\u001b[0m\u001b[0;34m[\u001b[0m\u001b[0midx\u001b[0m\u001b[0;34m]\u001b[0m\u001b[0;34m,\u001b[0m \u001b[0mdevice\u001b[0m\u001b[0;34m=\u001b[0m\u001b[0mdevice\u001b[0m\u001b[0;34m)\u001b[0m\u001b[0;34m\u001b[0m\u001b[0;34m\u001b[0m\u001b[0m\n\u001b[0;32m--> 338\u001b[0;31m             \u001b[0mw\u001b[0m\u001b[0;34m,\u001b[0m \u001b[0mloss\u001b[0m \u001b[0;34m=\u001b[0m \u001b[0mlocal_model\u001b[0m\u001b[0;34m.\u001b[0m\u001b[0mupdate_weights\u001b[0m\u001b[0;34m(\u001b[0m\u001b[0mmodel\u001b[0m\u001b[0;34m=\u001b[0m\u001b[0mcopy\u001b[0m\u001b[0;34m.\u001b[0m\u001b[0mdeepcopy\u001b[0m\u001b[0;34m(\u001b[0m\u001b[0mglobal_model\u001b[0m\u001b[0;34m)\u001b[0m\u001b[0;34m,\u001b[0m \u001b[0mglobal_round\u001b[0m\u001b[0;34m=\u001b[0m\u001b[0mepoch\u001b[0m\u001b[0;34m,\u001b[0m \u001b[0midx_user\u001b[0m\u001b[0;34m=\u001b[0m\u001b[0midx\u001b[0m\u001b[0;34m)\u001b[0m\u001b[0;34m\u001b[0m\u001b[0;34m\u001b[0m\u001b[0m\n\u001b[0m\u001b[1;32m    339\u001b[0m \u001b[0;34m\u001b[0m\u001b[0m\n\u001b[1;32m    340\u001b[0m             '''if (epoch+1) %50 == 0: \n",
      "\u001b[0;32m~/Projects/Federated-Learning/src/update_imagenet.py\u001b[0m in \u001b[0;36mupdate_weights\u001b[0;34m(self, model, global_round, idx_user)\u001b[0m\n\u001b[1;32m    193\u001b[0m                 \u001b[0;31m#state_dict[CLASSIFIER_BIAS][:1000] = torch.zeros_like(state_dict[CLASSIFIER_BIAS][:1000] ,device=\"cuda:0\")\u001b[0m\u001b[0;34m\u001b[0m\u001b[0;34m\u001b[0m\u001b[0;34m\u001b[0m\u001b[0m\n\u001b[1;32m    194\u001b[0m                 \u001b[0;32mif\u001b[0m \u001b[0mself\u001b[0m\u001b[0;34m.\u001b[0m\u001b[0margs\u001b[0m\u001b[0;34m.\u001b[0m\u001b[0mkernel_sizes\u001b[0m \u001b[0;34m==\u001b[0m \u001b[0;34m'centering'\u001b[0m\u001b[0;34m:\u001b[0m\u001b[0;34m\u001b[0m\u001b[0;34m\u001b[0m\u001b[0m\n\u001b[0;32m--> 195\u001b[0;31m                     \u001b[0mstate_dict\u001b[0m\u001b[0;34m[\u001b[0m\u001b[0mCLASSIFIER_WEIGHT\u001b[0m\u001b[0;34m]\u001b[0m \u001b[0;34m=\u001b[0m \u001b[0mstate_dict\u001b[0m\u001b[0;34m[\u001b[0m\u001b[0mCLASSIFIER_WEIGHT\u001b[0m\u001b[0;34m]\u001b[0m \u001b[0;34m-\u001b[0m \u001b[0mtorch\u001b[0m\u001b[0;34m.\u001b[0m\u001b[0mmean\u001b[0m\u001b[0;34m(\u001b[0m\u001b[0mstate_dict\u001b[0m\u001b[0;34m[\u001b[0m\u001b[0mCLASSIFIER_WEIGHT\u001b[0m\u001b[0;34m]\u001b[0m\u001b[0;34m,\u001b[0m\u001b[0mdim\u001b[0m\u001b[0;34m=\u001b[0m\u001b[0;36m1\u001b[0m\u001b[0;34m)\u001b[0m\u001b[0;34m.\u001b[0m\u001b[0mreshape\u001b[0m\u001b[0;34m(\u001b[0m\u001b[0mstate_dict\u001b[0m\u001b[0;34m[\u001b[0m\u001b[0mCLASSIFIER_WEIGHT\u001b[0m\u001b[0;34m]\u001b[0m\u001b[0;34m.\u001b[0m\u001b[0mshape\u001b[0m\u001b[0;34m[\u001b[0m\u001b[0;36m0\u001b[0m\u001b[0;34m]\u001b[0m\u001b[0;34m,\u001b[0m\u001b[0;34m-\u001b[0m\u001b[0;36m1\u001b[0m\u001b[0;34m)\u001b[0m\u001b[0;34m\u001b[0m\u001b[0;34m\u001b[0m\u001b[0m\n\u001b[0m\u001b[1;32m    196\u001b[0m                 \u001b[0mmodel\u001b[0m\u001b[0;34m.\u001b[0m\u001b[0mload_state_dict\u001b[0m\u001b[0;34m(\u001b[0m\u001b[0mstate_dict\u001b[0m\u001b[0;34m)\u001b[0m\u001b[0;34m\u001b[0m\u001b[0;34m\u001b[0m\u001b[0m\n\u001b[1;32m    197\u001b[0m                 \u001b[0moptimizer\u001b[0m\u001b[0;34m.\u001b[0m\u001b[0mzero_grad\u001b[0m\u001b[0;34m(\u001b[0m\u001b[0;34m)\u001b[0m\u001b[0;34m\u001b[0m\u001b[0;34m\u001b[0m\u001b[0m\n",
      "\u001b[0;31mKeyboardInterrupt\u001b[0m: "
     ]
    }
   ],
   "source": [
    " args = easydict.EasyDict({\n",
    "    \"model\": 'ConvNet',\n",
    "    'dataset': 'cifar10',\n",
    "    'gpu': 0,\n",
    "    'iid': 0,\n",
    "    'epochs': 100,\n",
    "    'optimizer': 'sgd',\n",
    "    'seed': 0,\n",
    "    'norm': 'none',\n",
    "    'num_users': 50,\n",
    "    'frac': 0.2,\n",
    "    'local_ep': 5, \n",
    "    'local_bs': 32,\n",
    "    'lr': 0.01,\n",
    "    'momentum': 1,\n",
    "    'kernel_num': 9,\n",
    "    'kernel_sizes': 'centering',\n",
    "    'num_channnels': '1',\n",
    "    'num_filters': 32,\n",
    "    'max_pool': 'True',\n",
    "    'num_classes': 10,\n",
    "    'unequal': 0,\n",
    "    'stopping_rounds': 0,\n",
    "    'verbose': 0,\n",
    "    'hold_normalize': 0,\n",
    "    'save_path': '../save/checkpoint',\n",
    "    'exp_folder': 'ConvNet_1207',\n",
    "    'resume': None,\n",
    "    'server_opt': 'sgd',\n",
    "    'server_lr': 1.0,\n",
    "    'client_decay':0,\n",
    "    'local_decay':0,\n",
    "    'alpha': 0.05,\n",
    "    'server_epoch':0,\n",
    "    'cosine_norm':0, \n",
    "    'only_fc' :0 ,\n",
    "    'loss':'ce',\n",
    "    'dc_lr':0.0,\n",
    "    'tsne_pred':0,\n",
    "    'pruning': 0.0 })\n",
    "    \n",
    "    \n",
    "    \n",
    "temp = main_test(args)\n",
    "total.append(temp)"
   ]
  },
  {
   "cell_type": "code",
   "execution_count": null,
   "id": "surprising-olive",
   "metadata": {},
   "outputs": [],
   "source": [
    " args = easydict.EasyDict({\n",
    "    \"model\": 'ConvNet',\n",
    "    'dataset': 'cifar10',\n",
    "    'gpu': 0,\n",
    "    'iid': 0,\n",
    "    'epochs': 100,\n",
    "    'optimizer': 'sgd',\n",
    "    'seed': 0,\n",
    "    'norm': 'none',\n",
    "    'num_users': 50,\n",
    "    'frac': 0.2,\n",
    "    'local_ep': 5, \n",
    "    'local_bs': 32,\n",
    "    'lr': 0.01,\n",
    "    'momentum': 1,\n",
    "    'kernel_num': 9,\n",
    "    'kernel_sizes': 'centering',\n",
    "    'num_channnels': '1',\n",
    "    'num_filters': 32,\n",
    "    'max_pool': 'True',\n",
    "    'num_classes': 10,\n",
    "    'unequal': 0,\n",
    "    'stopping_rounds': 0,\n",
    "    'verbose': 0,\n",
    "    'hold_normalize': 0,\n",
    "    'save_path': '../save/checkpoint',\n",
    "    'exp_folder': 'ConvNet_1207',\n",
    "    'resume': None,\n",
    "    'server_opt': 'sgdm',\n",
    "    'server_lr': 1.0,\n",
    "    'client_decay':0,\n",
    "    'local_decay':0,\n",
    "    'alpha': 0.05,\n",
    "    'server_epoch':0,\n",
    "    'cosine_norm':0, \n",
    "    'only_fc' :0 ,\n",
    "    'loss':'ce',\n",
    "    'dc_lr':0.0,\n",
    "    'tsne_pred':0,\n",
    "    'pruning': 0.0 })\n",
    "    \n",
    "    \n",
    "    \n",
    "temp = main_test(args)\n",
    "total.append(temp)"
   ]
  },
  {
   "cell_type": "code",
   "execution_count": null,
   "id": "natural-annex",
   "metadata": {},
   "outputs": [],
   "source": [
    " args = easydict.EasyDict({\n",
    "    \"model\": 'ConvNet',\n",
    "    'dataset': 'cifar10',\n",
    "    'gpu': 0,\n",
    "    'iid': 0,\n",
    "    'epochs': 100,\n",
    "    'optimizer': 'sgd',\n",
    "    'seed': 0,\n",
    "    'norm': 'none',\n",
    "    'num_users': 50,\n",
    "    'frac': 0.2,\n",
    "    'local_ep': 5, \n",
    "    'local_bs': 32,\n",
    "    'lr': 0.01,\n",
    "    'momentum': 1,\n",
    "    'kernel_num': 9,\n",
    "    'kernel_sizes': 'centering',\n",
    "    'num_channnels': '1',\n",
    "    'num_filters': 32,\n",
    "    'max_pool': 'True',\n",
    "    'num_classes': 10,\n",
    "    'unequal': 0,\n",
    "    'stopping_rounds': 0,\n",
    "    'verbose': 0,\n",
    "    'hold_normalize': 0,\n",
    "    'save_path': '../save/checkpoint',\n",
    "    'exp_folder': 'ConvNet_1207',\n",
    "    'resume': None,\n",
    "    'server_opt': 'sgd',\n",
    "    'server_lr': 1.0,\n",
    "    'client_decay':0,\n",
    "    'local_decay':0,\n",
    "    'alpha': 0.05,\n",
    "    'server_epoch':0,\n",
    "    'cosine_norm':0, \n",
    "    'only_fc' :0 ,\n",
    "    'loss':'bsm',\n",
    "    'dc_lr':0.0,\n",
    "    'tsne_pred':0,\n",
    "    'pruning': 0.0 })\n",
    "    \n",
    "    \n",
    "    \n",
    "temp = main_test(args)\n",
    "total.append(temp)"
   ]
  },
  {
   "cell_type": "code",
   "execution_count": null,
   "id": "addressed-anaheim",
   "metadata": {},
   "outputs": [],
   "source": [
    " args = easydict.EasyDict({\n",
    "    \"model\": 'ConvNet',\n",
    "    'dataset': 'cifar10',\n",
    "    'gpu': 0,\n",
    "    'iid': 0,\n",
    "    'epochs': 100,\n",
    "    'optimizer': 'sgd',\n",
    "    'seed': 0,\n",
    "    'norm': 'none',\n",
    "    'num_users': 50,\n",
    "    'frac': 0.2,\n",
    "    'local_ep': 5, \n",
    "    'local_bs': 32,\n",
    "    'lr': 0.01,\n",
    "    'momentum': 1,\n",
    "    'kernel_num': 9,\n",
    "    'kernel_sizes': 'centering',\n",
    "    'num_channnels': '1',\n",
    "    'num_filters': 32,\n",
    "    'max_pool': 'True',\n",
    "    'num_classes': 10,\n",
    "    'unequal': 0,\n",
    "    'stopping_rounds': 0,\n",
    "    'verbose': 0,\n",
    "    'hold_normalize': 0,\n",
    "    'save_path': '../save/checkpoint',\n",
    "    'exp_folder': 'ConvNet_1207',\n",
    "    'resume': None,\n",
    "    'server_opt': 'sgdm',\n",
    "    'server_lr': 1.0,\n",
    "    'client_decay':0,\n",
    "    'local_decay':0,\n",
    "    'alpha': 0.05,\n",
    "    'server_epoch':0,\n",
    "    'cosine_norm':0, \n",
    "    'only_fc' :0 ,\n",
    "    'loss':'bsm',\n",
    "    'dc_lr':0.0,\n",
    "    'tsne_pred':0,\n",
    "    'pruning': 0.0 })\n",
    "    \n",
    "    \n",
    "    \n",
    "temp = main_test(args)\n",
    "total.append(temp)"
   ]
  }
 ],
 "metadata": {
  "kernelspec": {
   "display_name": "federeated_learning",
   "language": "python",
   "name": "fedml"
  },
  "language_info": {
   "codemirror_mode": {
    "name": "ipython",
    "version": 3
   },
   "file_extension": ".py",
   "mimetype": "text/x-python",
   "name": "python",
   "nbconvert_exporter": "python",
   "pygments_lexer": "ipython3",
   "version": "3.7.4"
  }
 },
 "nbformat": 4,
 "nbformat_minor": 5
}
