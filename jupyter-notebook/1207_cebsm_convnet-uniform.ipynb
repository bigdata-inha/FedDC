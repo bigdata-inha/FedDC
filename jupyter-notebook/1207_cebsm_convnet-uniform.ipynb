{
 "cells": [
  {
   "cell_type": "code",
   "execution_count": 1,
   "id": "magnetic-viking",
   "metadata": {},
   "outputs": [],
   "source": [
    "import matplotlib.pyplot as plt\n",
    "%matplotlib inline\n",
    "import matplotlib.style as style\n",
    "import os\n",
    "os.chdir('../')\n",
    "style.use('seaborn')\n",
    "import numpy as np\n",
    "import warnings\n",
    "warnings.filterwarnings('ignore')\n",
    "import easydict\n",
    "from test_imagenet import main_test\n",
    "total = []\n",
    "import torch\n"
   ]
  },
  {
   "cell_type": "code",
   "execution_count": 2,
   "id": "unnecessary-reader",
   "metadata": {},
   "outputs": [
    {
     "name": "stderr",
     "output_type": "stream",
     "text": [
      "INFO:root:{'model': 'ConvNet', 'dataset': 'cifar10', 'gpu': 0, 'iid': 0, 'epochs': 100, 'optimizer': 'sgd', 'seed': 0, 'norm': 'none', 'num_users': 50, 'frac': 0.2, 'local_ep': 5, 'local_bs': 32, 'lr': 0.01, 'momentum': 1, 'kernel_num': 9, 'kernel_sizes': 'only_momentum', 'num_channnels': '1', 'num_filters': 32, 'max_pool': 'True', 'num_classes': 10, 'unequal': 0, 'stopping_rounds': 0, 'verbose': 0, 'hold_normalize': 0, 'save_path': '../save/checkpoint/ConvNet_1207', 'exp_folder': 'ConvNet_1207', 'resume': None, 'server_opt': 'sgd', 'server_lr': 1.0, 'client_decay': 0, 'local_decay': 0, 'alpha': 0.05, 'server_epoch': 0, 'cosine_norm': 0, 'only_fc': 0, 'loss': 'ce', 'dc_lr': 0.0, 'tsne_pred': 0, 'pruning': 0.0}\n"
     ]
    },
    {
     "name": "stdout",
     "output_type": "stream",
     "text": [
      "Files already downloaded and verified\n",
      "Files already downloaded and verified\n",
      "Files already downloaded and verified\n"
     ]
    },
    {
     "name": "stderr",
     "output_type": "stream",
     "text": [
      "INFO:root:ConvNet(\n",
      "  (net_act): ReLU(inplace=True)\n",
      "  (net_pooling): MaxPool2d(kernel_size=2, stride=2, padding=0, dilation=1, ceil_mode=False)\n",
      "  (features): Sequential(\n",
      "    (0): Conv2d(3, 128, kernel_size=(3, 3), stride=(1, 1), padding=(1, 1))\n",
      "    (1): ReLU(inplace=True)\n",
      "    (2): MaxPool2d(kernel_size=2, stride=2, padding=0, dilation=1, ceil_mode=False)\n",
      "    (3): Conv2d(128, 128, kernel_size=(3, 3), stride=(1, 1), padding=(1, 1))\n",
      "    (4): ReLU(inplace=True)\n",
      "    (5): MaxPool2d(kernel_size=2, stride=2, padding=0, dilation=1, ceil_mode=False)\n",
      "    (6): Conv2d(128, 128, kernel_size=(3, 3), stride=(1, 1), padding=(1, 1))\n",
      "    (7): ReLU(inplace=True)\n",
      "    (8): MaxPool2d(kernel_size=2, stride=2, padding=0, dilation=1, ceil_mode=False)\n",
      "  )\n",
      "  (classifier): Linear(in_features=2048, out_features=10, bias=True)\n",
      ")\n",
      "INFO:root:None\n"
     ]
    },
    {
     "name": "stdout",
     "output_type": "stream",
     "text": [
      "----------------------------------------------------------------\n",
      "        Layer (type)               Output Shape         Param #\n",
      "================================================================\n",
      "            Conv2d-1          [-1, 128, 32, 32]           3,584\n",
      "              ReLU-2          [-1, 128, 32, 32]               0\n",
      "              ReLU-3          [-1, 128, 32, 32]               0\n",
      "         MaxPool2d-4          [-1, 128, 16, 16]               0\n",
      "         MaxPool2d-5          [-1, 128, 16, 16]               0\n",
      "            Conv2d-6          [-1, 128, 16, 16]         147,584\n",
      "              ReLU-7          [-1, 128, 16, 16]               0\n",
      "              ReLU-8          [-1, 128, 16, 16]               0\n",
      "         MaxPool2d-9            [-1, 128, 8, 8]               0\n",
      "        MaxPool2d-10            [-1, 128, 8, 8]               0\n",
      "           Conv2d-11            [-1, 128, 8, 8]         147,584\n",
      "             ReLU-12            [-1, 128, 8, 8]               0\n",
      "             ReLU-13            [-1, 128, 8, 8]               0\n",
      "        MaxPool2d-14            [-1, 128, 4, 4]               0\n",
      "        MaxPool2d-15            [-1, 128, 4, 4]               0\n",
      "           Linear-16                   [-1, 10]          20,490\n",
      "================================================================\n",
      "Total params: 319,242\n",
      "Trainable params: 319,242\n",
      "Non-trainable params: 0\n",
      "----------------------------------------------------------------\n",
      "Input size (MB): 0.01\n",
      "Forward/backward pass size (MB): 4.59\n",
      "Params size (MB): 1.22\n",
      "Estimated Total Size (MB): 5.82\n",
      "----------------------------------------------------------------\n"
     ]
    },
    {
     "name": "stderr",
     "output_type": "stream",
     "text": [
      "\r",
      "  0%|          | 0/100 [00:00<?, ?it/s]"
     ]
    },
    {
     "name": "stdout",
     "output_type": "stream",
     "text": [
      "[209, 1756, 422, 2575, 1018, 602, 2274, 447, 744, 1112, 123, 87, 1433, 1416, 40, 1119, 796, 794, 327, 470, 231, 813, 1320, 542, 690, 2195, 2934, 106, 1012, 15, 278, 1798, 303, 590, 2029, 201, 1053, 862, 231, 116, 4600, 19, 286, 1736, 2430, 431, 3195, 1780, 173, 267]\n",
      "[470, 2934, 201, 231, 2575, 744, 15, 123, 1119, 4600]\n"
     ]
    },
    {
     "name": "stderr",
     "output_type": "stream",
     "text": [
      "INFO:root: \n",
      "Avg Training Stats after 1 global rounds:\n",
      "INFO:root:Train Accuracy: 0.00%\n",
      "INFO:root:Training Loss : 0.46465974690754824\n",
      "INFO:root:Test Accuracy: 10.92%\n",
      "INFO:root:Test Loss: 2.3867425334453585 \n",
      "\n",
      "  1%|          | 1/100 [00:20<34:11, 20.72s/it]"
     ]
    },
    {
     "name": "stdout",
     "output_type": "stream",
     "text": [
      "[231, 173, 2575, 1736, 2430, 123, 4600, 690, 1012, 447]\n"
     ]
    },
    {
     "name": "stderr",
     "output_type": "stream",
     "text": [
      "INFO:root: \n",
      "Avg Training Stats after 2 global rounds:\n",
      "INFO:root:Train Accuracy: 0.00%\n",
      "INFO:root:Training Loss : 0.5620017830207\n",
      "INFO:root:Test Accuracy: 16.07%\n",
      "INFO:root:Test Loss: 2.6215659844875336 \n",
      "\n",
      "  2%|▏         | 2/100 [00:41<34:17, 20.99s/it]"
     ]
    },
    {
     "name": "stdout",
     "output_type": "stream",
     "text": [
      "[744, 2575, 1320, 470, 2430, 2274, 267, 690, 209, 303]\n"
     ]
    },
    {
     "name": "stderr",
     "output_type": "stream",
     "text": [
      "INFO:root: \n",
      "Avg Training Stats after 3 global rounds:\n",
      "INFO:root:Train Accuracy: 0.00%\n",
      "INFO:root:Training Loss : 0.44767553501437796\n",
      "INFO:root:Test Accuracy: 20.95%\n",
      "INFO:root:Test Loss: 2.246434885263443 \n",
      "\n",
      "  3%|▎         | 3/100 [01:00<32:09, 19.89s/it]"
     ]
    },
    {
     "name": "stdout",
     "output_type": "stream",
     "text": [
      "[173, 690, 542, 1012, 2195, 1780, 1053, 87, 2934, 1736]\n"
     ]
    },
    {
     "name": "stderr",
     "output_type": "stream",
     "text": [
      "INFO:root: \n",
      "Avg Training Stats after 4 global rounds:\n",
      "INFO:root:Train Accuracy: 0.00%\n",
      "INFO:root:Training Loss : 0.6150044804837538\n",
      "INFO:root:Test Accuracy: 17.96%\n",
      "INFO:root:Test Loss: 2.21968510389328 \n",
      "\n",
      "  4%|▍         | 4/100 [01:20<31:35, 19.75s/it]"
     ]
    },
    {
     "name": "stdout",
     "output_type": "stream",
     "text": [
      "[2430, 2575, 1736, 123, 15, 1780, 1018, 231, 87, 794]\n"
     ]
    },
    {
     "name": "stderr",
     "output_type": "stream",
     "text": [
      "INFO:root: \n",
      "Avg Training Stats after 5 global rounds:\n",
      "INFO:root:Train Accuracy: 0.00%\n",
      "INFO:root:Training Loss : 0.5040994168812979\n",
      "INFO:root:Test Accuracy: 16.23%\n",
      "INFO:root:Test Loss: 2.580637326836586 \n",
      "\n",
      "  5%|▌         | 5/100 [01:38<30:23, 19.20s/it]"
     ]
    },
    {
     "name": "stdout",
     "output_type": "stream",
     "text": [
      "[1119, 87, 590, 794, 813, 303, 1320, 690, 1018, 422]\n"
     ]
    },
    {
     "name": "stderr",
     "output_type": "stream",
     "text": [
      "INFO:root: \n",
      "Avg Training Stats after 6 global rounds:\n",
      "INFO:root:Train Accuracy: 0.00%\n",
      "INFO:root:Training Loss : 0.3875464094098736\n",
      "INFO:root:Test Accuracy: 11.99%\n",
      "INFO:root:Test Loss: 2.5234178310632704 \n",
      "\n",
      "  6%|▌         | 6/100 [01:52<27:39, 17.65s/it]"
     ]
    },
    {
     "name": "stdout",
     "output_type": "stream",
     "text": [
      "[2029, 1433, 303, 327, 744, 862, 2934, 231, 1416, 278]\n"
     ]
    },
    {
     "name": "stderr",
     "output_type": "stream",
     "text": [
      "INFO:root: \n",
      "Avg Training Stats after 7 global rounds:\n",
      "INFO:root:Train Accuracy: 0.00%\n",
      "INFO:root:Training Loss : 0.49106109515302654\n",
      "INFO:root:Test Accuracy: 20.88%\n",
      "INFO:root:Test Loss: 2.127106260061264 \n",
      "\n",
      "  7%|▋         | 7/100 [02:11<27:36, 17.81s/it]"
     ]
    },
    {
     "name": "stdout",
     "output_type": "stream",
     "text": [
      "[231, 1112, 327, 744, 286, 422, 15, 1798, 1053, 173]\n"
     ]
    },
    {
     "name": "stderr",
     "output_type": "stream",
     "text": [
      "INFO:root: \n",
      "Avg Training Stats after 8 global rounds:\n",
      "INFO:root:Train Accuracy: 0.00%\n",
      "INFO:root:Training Loss : 0.5679264847949745\n",
      "INFO:root:Test Accuracy: 21.78%\n",
      "INFO:root:Test Loss: 2.059301189184189 \n",
      "\n",
      "  8%|▊         | 8/100 [02:24<25:20, 16.53s/it]"
     ]
    },
    {
     "name": "stdout",
     "output_type": "stream",
     "text": [
      "[794, 278, 744, 862, 303, 19, 2274, 1053, 813, 1012]\n"
     ]
    },
    {
     "name": "stderr",
     "output_type": "stream",
     "text": [
      "INFO:root: \n",
      "Avg Training Stats after 9 global rounds:\n",
      "INFO:root:Train Accuracy: 0.00%\n",
      "INFO:root:Training Loss : 0.33643048104451156\n",
      "INFO:root:Test Accuracy: 22.71%\n",
      "INFO:root:Test Loss: 2.1782538044452666 \n",
      "\n",
      "  9%|▉         | 9/100 [02:40<24:34, 16.20s/it]"
     ]
    },
    {
     "name": "stdout",
     "output_type": "stream",
     "text": [
      "[1320, 40, 1756, 470, 327, 1012, 862, 1433, 796, 231]\n"
     ]
    },
    {
     "name": "stderr",
     "output_type": "stream",
     "text": [
      "INFO:root: \n",
      "Avg Training Stats after 10 global rounds:\n",
      "INFO:root:Train Accuracy: 0.00%\n",
      "INFO:root:Training Loss : 0.2800021589437112\n",
      "INFO:root:Test Accuracy: 18.68%\n",
      "INFO:root:Test Loss: 2.4928592723608016 \n",
      "\n",
      " 10%|█         | 10/100 [02:56<24:11, 16.13s/it]"
     ]
    },
    {
     "name": "stdout",
     "output_type": "stream",
     "text": [
      "[87, 201, 1798, 813, 123, 2934, 1756, 231, 1053, 4600]\n"
     ]
    },
    {
     "name": "stderr",
     "output_type": "stream",
     "text": [
      "INFO:root: \n",
      "Avg Training Stats after 11 global rounds:\n",
      "INFO:root:Train Accuracy: 0.00%\n",
      "INFO:root:Training Loss : 0.41519992885550183\n",
      "INFO:root:Test Accuracy: 21.32%\n",
      "INFO:root:Test Loss: 2.1138475704193116 \n",
      "\n",
      " 11%|█         | 11/100 [03:16<26:00, 17.53s/it]"
     ]
    },
    {
     "name": "stdout",
     "output_type": "stream",
     "text": [
      "[106, 231, 447, 796, 209, 1798, 1112, 1416, 590, 794]\n"
     ]
    },
    {
     "name": "stderr",
     "output_type": "stream",
     "text": [
      "INFO:root: \n",
      "Avg Training Stats after 12 global rounds:\n",
      "INFO:root:Train Accuracy: 0.00%\n",
      "INFO:root:Training Loss : 0.270008555451549\n",
      "INFO:root:Test Accuracy: 31.90%\n",
      "INFO:root:Test Loss: 1.928823110461235 \n",
      "\n",
      " 12%|█▏        | 12/100 [03:32<24:39, 16.82s/it]"
     ]
    },
    {
     "name": "stdout",
     "output_type": "stream",
     "text": [
      "[1320, 278, 862, 2274, 1798, 87, 2029, 796, 1018, 2430]\n"
     ]
    },
    {
     "name": "stderr",
     "output_type": "stream",
     "text": [
      "INFO:root: \n",
      "Avg Training Stats after 13 global rounds:\n",
      "INFO:root:Train Accuracy: 0.00%\n",
      "INFO:root:Training Loss : 0.32529581008904546\n",
      "INFO:root:Test Accuracy: 29.28%\n",
      "INFO:root:Test Loss: 2.075177153348923 \n",
      "\n",
      " 13%|█▎        | 13/100 [03:52<25:45, 17.77s/it]"
     ]
    },
    {
     "name": "stdout",
     "output_type": "stream",
     "text": [
      "[4600, 2575, 590, 173, 2430, 40, 1112, 87, 231, 2195]\n"
     ]
    },
    {
     "name": "stderr",
     "output_type": "stream",
     "text": [
      "INFO:root: \n",
      "Avg Training Stats after 14 global rounds:\n",
      "INFO:root:Train Accuracy: 0.00%\n",
      "INFO:root:Training Loss : 0.40649106462107837\n",
      "INFO:root:Test Accuracy: 25.77%\n",
      "INFO:root:Test Loss: 1.8767656469345093 \n",
      "\n",
      " 14%|█▍        | 14/100 [04:13<26:52, 18.75s/it]"
     ]
    },
    {
     "name": "stdout",
     "output_type": "stream",
     "text": [
      "[231, 794, 1018, 1012, 15, 303, 796, 2274, 1320, 19]\n"
     ]
    },
    {
     "name": "stderr",
     "output_type": "stream",
     "text": [
      "INFO:root: \n",
      "Avg Training Stats after 15 global rounds:\n",
      "INFO:root:Train Accuracy: 0.00%\n",
      "INFO:root:Training Loss : 0.3451572264869049\n",
      "INFO:root:Test Accuracy: 35.66%\n",
      "INFO:root:Test Loss: 1.776577092409134 \n",
      "\n",
      " 15%|█▌        | 15/100 [04:28<24:57, 17.62s/it]"
     ]
    },
    {
     "name": "stdout",
     "output_type": "stream",
     "text": [
      "[2195, 40, 2029, 862, 2575, 1433, 447, 19, 4600, 796]\n"
     ]
    },
    {
     "name": "stderr",
     "output_type": "stream",
     "text": [
      "INFO:root: \n",
      "Avg Training Stats after 16 global rounds:\n",
      "INFO:root:Train Accuracy: 0.00%\n",
      "INFO:root:Training Loss : 0.31298391025635985\n",
      "INFO:root:Test Accuracy: 30.04%\n",
      "INFO:root:Test Loss: 1.947124763727188 \n",
      "\n",
      " 16%|█▌        | 16/100 [04:50<26:32, 18.96s/it]"
     ]
    },
    {
     "name": "stdout",
     "output_type": "stream",
     "text": [
      "[231, 173, 303, 2274, 796, 116, 1798, 447, 106, 1433]\n"
     ]
    },
    {
     "name": "stderr",
     "output_type": "stream",
     "text": [
      "INFO:root: \n",
      "Avg Training Stats after 17 global rounds:\n",
      "INFO:root:Train Accuracy: 0.00%\n",
      "INFO:root:Training Loss : 0.2921513357613963\n",
      "INFO:root:Test Accuracy: 33.60%\n",
      "INFO:root:Test Loss: 1.8866147190332412 \n",
      "\n",
      " 17%|█▋        | 17/100 [05:05<24:41, 17.84s/it]"
     ]
    },
    {
     "name": "stdout",
     "output_type": "stream",
     "text": [
      "[201, 1756, 796, 1320, 813, 542, 116, 173, 794, 1798]\n"
     ]
    },
    {
     "name": "stderr",
     "output_type": "stream",
     "text": [
      "INFO:root: \n",
      "Avg Training Stats after 18 global rounds:\n",
      "INFO:root:Train Accuracy: 0.00%\n",
      "INFO:root:Training Loss : 0.373392269743723\n",
      "INFO:root:Test Accuracy: 30.02%\n",
      "INFO:root:Test Loss: 1.9402805638313294 \n",
      "\n",
      " 18%|█▊        | 18/100 [05:21<23:39, 17.31s/it]"
     ]
    },
    {
     "name": "stdout",
     "output_type": "stream",
     "text": [
      "[15, 1780, 19, 744, 2575, 173, 813, 40, 1320, 422]\n"
     ]
    },
    {
     "name": "stderr",
     "output_type": "stream",
     "text": [
      "INFO:root: \n",
      "Avg Training Stats after 19 global rounds:\n",
      "INFO:root:Train Accuracy: 0.00%\n",
      "INFO:root:Training Loss : 0.48141113303301986\n",
      "INFO:root:Test Accuracy: 26.05%\n",
      "INFO:root:Test Loss: 1.9933270978927613 \n",
      "\n",
      " 19%|█▉        | 19/100 [05:36<22:31, 16.68s/it]"
     ]
    },
    {
     "name": "stdout",
     "output_type": "stream",
     "text": [
      "[813, 1736, 15, 1433, 267, 470, 3195, 744, 2575, 231]\n"
     ]
    },
    {
     "name": "stderr",
     "output_type": "stream",
     "text": [
      "INFO:root: \n",
      "Avg Training Stats after 20 global rounds:\n",
      "INFO:root:Train Accuracy: 0.00%\n",
      "INFO:root:Training Loss : 0.30361208006211615\n",
      "INFO:root:Test Accuracy: 29.73%\n",
      "INFO:root:Test Loss: 1.947441958785057 \n",
      "\n",
      " 20%|██        | 20/100 [05:55<23:08, 17.35s/it]"
     ]
    },
    {
     "name": "stdout",
     "output_type": "stream",
     "text": [
      "[278, 744, 1053, 447, 1320, 116, 1798, 19, 4600, 3195]\n"
     ]
    },
    {
     "name": "stderr",
     "output_type": "stream",
     "text": [
      "INFO:root: \n",
      "Avg Training Stats after 21 global rounds:\n",
      "INFO:root:Train Accuracy: 0.00%\n",
      "INFO:root:Training Loss : 0.4114852955539986\n",
      "INFO:root:Test Accuracy: 40.03%\n",
      "INFO:root:Test Loss: 1.6591601157188416 \n",
      "\n",
      " 21%|██        | 21/100 [06:16<24:16, 18.44s/it]"
     ]
    },
    {
     "name": "stdout",
     "output_type": "stream",
     "text": [
      "[813, 2029, 602, 590, 1756, 106, 1780, 40, 19, 2934]\n"
     ]
    },
    {
     "name": "stderr",
     "output_type": "stream",
     "text": [
      "INFO:root: \n",
      "Avg Training Stats after 22 global rounds:\n",
      "INFO:root:Train Accuracy: 0.00%\n",
      "INFO:root:Training Loss : 0.24449668021660678\n",
      "INFO:root:Test Accuracy: 25.16%\n",
      "INFO:root:Test Loss: 2.0893161404132843 \n",
      "\n",
      " 22%|██▏       | 22/100 [06:34<23:39, 18.19s/it]"
     ]
    },
    {
     "name": "stdout",
     "output_type": "stream",
     "text": [
      "[40, 862, 327, 1780, 2274, 106, 1053, 1112, 1012, 3195]\n"
     ]
    },
    {
     "name": "stderr",
     "output_type": "stream",
     "text": [
      "INFO:root: \n",
      "Avg Training Stats after 23 global rounds:\n",
      "INFO:root:Train Accuracy: 0.00%\n",
      "INFO:root:Training Loss : 0.3101467986528189\n",
      "INFO:root:Test Accuracy: 34.06%\n",
      "INFO:root:Test Loss: 1.8497653484344483 \n",
      "\n",
      " 23%|██▎       | 23/100 [06:53<23:43, 18.48s/it]"
     ]
    },
    {
     "name": "stdout",
     "output_type": "stream",
     "text": [
      "[1320, 1119, 862, 744, 1053, 87, 201, 470, 2274, 1012]\n"
     ]
    },
    {
     "name": "stderr",
     "output_type": "stream",
     "text": [
      "INFO:root: \n",
      "Avg Training Stats after 24 global rounds:\n",
      "INFO:root:Train Accuracy: 0.00%\n",
      "INFO:root:Training Loss : 0.3212879163137587\n",
      "INFO:root:Test Accuracy: 27.47%\n",
      "INFO:root:Test Loss: 2.095315841436386 \n",
      "\n",
      " 24%|██▍       | 24/100 [07:10<22:43, 17.94s/it]"
     ]
    },
    {
     "name": "stdout",
     "output_type": "stream",
     "text": [
      "[447, 286, 1416, 87, 796, 1798, 231, 1119, 431, 2195]\n"
     ]
    },
    {
     "name": "stderr",
     "output_type": "stream",
     "text": [
      "INFO:root: \n",
      "Avg Training Stats after 25 global rounds:\n",
      "INFO:root:Train Accuracy: 0.00%\n",
      "INFO:root:Training Loss : 0.40801023208854803\n",
      "INFO:root:Test Accuracy: 36.56%\n",
      "INFO:root:Test Loss: 1.7578921669721603 \n",
      "\n",
      " 25%|██▌       | 25/100 [07:26<21:40, 17.34s/it]"
     ]
    },
    {
     "name": "stdout",
     "output_type": "stream",
     "text": [
      "[116, 2029, 690, 1416, 1780, 602, 2575, 1756, 431, 87]\n"
     ]
    },
    {
     "name": "stderr",
     "output_type": "stream",
     "text": [
      "INFO:root: \n",
      "Avg Training Stats after 26 global rounds:\n",
      "INFO:root:Train Accuracy: 0.00%\n",
      "INFO:root:Training Loss : 0.43149468590472606\n",
      "INFO:root:Test Accuracy: 35.62%\n",
      "INFO:root:Test Loss: 1.7500339078903198 \n",
      "\n",
      " 26%|██▌       | 26/100 [07:44<21:46, 17.66s/it]"
     ]
    },
    {
     "name": "stdout",
     "output_type": "stream",
     "text": [
      "[87, 173, 2029, 19, 4600, 2195, 116, 303, 40, 209]\n"
     ]
    },
    {
     "name": "stderr",
     "output_type": "stream",
     "text": [
      "INFO:root: \n",
      "Avg Training Stats after 27 global rounds:\n",
      "INFO:root:Train Accuracy: 0.00%\n",
      "INFO:root:Training Loss : 0.4627901480559385\n",
      "INFO:root:Test Accuracy: 35.06%\n",
      "INFO:root:Test Loss: 1.7172583085298538 \n",
      "\n",
      " 27%|██▋       | 27/100 [08:01<21:09, 17.40s/it]"
     ]
    },
    {
     "name": "stdout",
     "output_type": "stream",
     "text": [
      "[4600, 267, 794, 231, 201, 231, 2934, 590, 470, 173]\n"
     ]
    },
    {
     "name": "stderr",
     "output_type": "stream",
     "text": [
      "INFO:root: \n",
      "Avg Training Stats after 28 global rounds:\n",
      "INFO:root:Train Accuracy: 0.00%\n",
      "INFO:root:Training Loss : 0.37805090543207936\n",
      "INFO:root:Test Accuracy: 38.81%\n",
      "INFO:root:Test Loss: 1.6568885296583176 \n",
      "\n",
      " 28%|██▊       | 28/100 [08:18<20:59, 17.50s/it]"
     ]
    },
    {
     "name": "stdout",
     "output_type": "stream",
     "text": [
      "[1798, 286, 123, 1112, 303, 796, 744, 1320, 231, 794]\n"
     ]
    },
    {
     "name": "stderr",
     "output_type": "stream",
     "text": [
      "INFO:root: \n",
      "Avg Training Stats after 29 global rounds:\n",
      "INFO:root:Train Accuracy: 0.00%\n",
      "INFO:root:Training Loss : 0.19249100367502942\n",
      "INFO:root:Test Accuracy: 38.70%\n",
      "INFO:root:Test Loss: 1.6523348832130431 \n",
      "\n",
      " 29%|██▉       | 29/100 [08:33<19:44, 16.69s/it]"
     ]
    },
    {
     "name": "stdout",
     "output_type": "stream",
     "text": [
      "[303, 4600, 1119, 447, 744, 40, 1756, 2430, 2029, 602]\n"
     ]
    },
    {
     "name": "stderr",
     "output_type": "stream",
     "text": [
      "INFO:root: \n",
      "Avg Training Stats after 30 global rounds:\n",
      "INFO:root:Train Accuracy: 0.00%\n",
      "INFO:root:Training Loss : 0.2070878747216963\n",
      "INFO:root:Test Accuracy: 41.70%\n",
      "INFO:root:Test Loss: 1.6209751516580582 \n",
      "\n",
      " 30%|███       | 30/100 [08:54<20:51, 17.87s/it]"
     ]
    },
    {
     "name": "stdout",
     "output_type": "stream",
     "text": [
      "[422, 3195, 1112, 327, 123, 1736, 303, 286, 106, 1433]\n"
     ]
    },
    {
     "name": "stderr",
     "output_type": "stream",
     "text": [
      "INFO:root: \n",
      "Avg Training Stats after 31 global rounds:\n",
      "INFO:root:Train Accuracy: 0.00%\n",
      "INFO:root:Training Loss : 0.2694381913269507\n",
      "INFO:root:Test Accuracy: 30.50%\n",
      "INFO:root:Test Loss: 1.978821762651205 \n",
      "\n",
      " 31%|███       | 31/100 [09:10<19:58, 17.36s/it]"
     ]
    },
    {
     "name": "stdout",
     "output_type": "stream",
     "text": [
      "[862, 173, 422, 303, 123, 1012, 542, 278, 431, 2195]\n"
     ]
    },
    {
     "name": "stderr",
     "output_type": "stream",
     "text": [
      "INFO:root: \n",
      "Avg Training Stats after 32 global rounds:\n",
      "INFO:root:Train Accuracy: 0.00%\n",
      "INFO:root:Training Loss : 0.4301278886325761\n",
      "INFO:root:Test Accuracy: 36.75%\n",
      "INFO:root:Test Loss: 1.706741347014904 \n",
      "\n",
      " 32%|███▏      | 32/100 [09:24<18:28, 16.30s/it]"
     ]
    },
    {
     "name": "stdout",
     "output_type": "stream",
     "text": [
      "[1320, 15, 19, 1756, 231, 470, 267, 87, 862, 327]\n"
     ]
    },
    {
     "name": "stderr",
     "output_type": "stream",
     "text": [
      "INFO:root: \n",
      "Avg Training Stats after 33 global rounds:\n",
      "INFO:root:Train Accuracy: 0.00%\n",
      "INFO:root:Training Loss : 0.45971018503876576\n",
      "INFO:root:Test Accuracy: 36.55%\n",
      "INFO:root:Test Loss: 1.6994347327947616 \n",
      "\n",
      " 33%|███▎      | 33/100 [09:37<17:01, 15.25s/it]"
     ]
    },
    {
     "name": "stdout",
     "output_type": "stream",
     "text": [
      "[87, 267, 796, 1053, 1433, 2575, 1119, 794, 15, 327]\n"
     ]
    },
    {
     "name": "stderr",
     "output_type": "stream",
     "text": [
      "INFO:root: \n",
      "Avg Training Stats after 34 global rounds:\n",
      "INFO:root:Train Accuracy: 0.00%\n",
      "INFO:root:Training Loss : 0.35525735897234456\n",
      "INFO:root:Test Accuracy: 41.18%\n",
      "INFO:root:Test Loss: 1.6232064473628998 \n",
      "\n",
      " 34%|███▍      | 34/100 [09:52<16:52, 15.34s/it]"
     ]
    },
    {
     "name": "stdout",
     "output_type": "stream",
     "text": [
      "[422, 1798, 590, 796, 19, 1320, 173, 1416, 1053, 4600]\n"
     ]
    },
    {
     "name": "stderr",
     "output_type": "stream",
     "text": [
      "INFO:root: \n",
      "Avg Training Stats after 35 global rounds:\n",
      "INFO:root:Train Accuracy: 0.00%\n",
      "INFO:root:Training Loss : 0.4144479129941268\n",
      "INFO:root:Test Accuracy: 43.46%\n",
      "INFO:root:Test Loss: 1.5456710070371629 \n",
      "\n",
      " 35%|███▌      | 35/100 [10:11<17:51, 16.49s/it]"
     ]
    },
    {
     "name": "stdout",
     "output_type": "stream",
     "text": [
      "[2430, 1320, 602, 3195, 231, 2934, 431, 794, 1416, 542]\n"
     ]
    },
    {
     "name": "stderr",
     "output_type": "stream",
     "text": [
      "INFO:root: \n",
      "Avg Training Stats after 36 global rounds:\n",
      "INFO:root:Train Accuracy: 0.00%\n",
      "INFO:root:Training Loss : 0.2971558566954873\n",
      "INFO:root:Test Accuracy: 38.43%\n",
      "INFO:root:Test Loss: 1.628474968969822 \n",
      "\n",
      " 36%|███▌      | 36/100 [10:32<18:51, 17.68s/it]"
     ]
    },
    {
     "name": "stdout",
     "output_type": "stream",
     "text": [
      "[15, 813, 1112, 123, 40, 796, 2274, 1018, 2195, 201]\n"
     ]
    },
    {
     "name": "stderr",
     "output_type": "stream",
     "text": [
      "INFO:root: \n",
      "Avg Training Stats after 37 global rounds:\n",
      "INFO:root:Train Accuracy: 0.00%\n",
      "INFO:root:Training Loss : 0.3040239406259419\n",
      "INFO:root:Test Accuracy: 35.55%\n",
      "INFO:root:Test Loss: 1.707236539721489 \n",
      "\n",
      " 37%|███▋      | 37/100 [10:48<17:59, 17.14s/it]"
     ]
    },
    {
     "name": "stdout",
     "output_type": "stream",
     "text": [
      "[303, 2195, 422, 1112, 1433, 116, 796, 602, 1756, 231]\n"
     ]
    },
    {
     "name": "stderr",
     "output_type": "stream",
     "text": [
      "INFO:root: \n",
      "Avg Training Stats after 38 global rounds:\n",
      "INFO:root:Train Accuracy: 0.00%\n",
      "INFO:root:Training Loss : 0.32058365190736454\n",
      "INFO:root:Test Accuracy: 41.10%\n",
      "INFO:root:Test Loss: 1.621324669122696 \n",
      "\n",
      " 38%|███▊      | 38/100 [11:04<17:35, 17.03s/it]"
     ]
    },
    {
     "name": "stdout",
     "output_type": "stream",
     "text": [
      "[1756, 231, 267, 2430, 590, 1736, 15, 4600, 327, 1112]\n"
     ]
    },
    {
     "name": "stderr",
     "output_type": "stream",
     "text": [
      "INFO:root: \n",
      "Avg Training Stats after 39 global rounds:\n",
      "INFO:root:Train Accuracy: 0.00%\n",
      "INFO:root:Training Loss : 0.32498434487043176\n",
      "INFO:root:Test Accuracy: 42.32%\n",
      "INFO:root:Test Loss: 1.5296204978227614 \n",
      "\n",
      " 39%|███▉      | 39/100 [11:25<18:22, 18.08s/it]"
     ]
    },
    {
     "name": "stdout",
     "output_type": "stream",
     "text": [
      "[2575, 422, 3195, 862, 231, 796, 2934, 123, 2430, 794]\n"
     ]
    },
    {
     "name": "stderr",
     "output_type": "stream",
     "text": [
      "INFO:root: \n",
      "Avg Training Stats after 40 global rounds:\n",
      "INFO:root:Train Accuracy: 0.00%\n",
      "INFO:root:Training Loss : 0.2739654051073912\n",
      "INFO:root:Test Accuracy: 41.30%\n",
      "INFO:root:Test Loss: 1.5906115984916687 \n",
      "\n",
      " 40%|████      | 40/100 [11:46<19:04, 19.07s/it]"
     ]
    },
    {
     "name": "stdout",
     "output_type": "stream",
     "text": [
      "[231, 1119, 1736, 278, 447, 1018, 286, 744, 690, 173]\n"
     ]
    },
    {
     "name": "stderr",
     "output_type": "stream",
     "text": [
      "INFO:root: \n",
      "Avg Training Stats after 41 global rounds:\n",
      "INFO:root:Train Accuracy: 0.00%\n",
      "INFO:root:Training Loss : 0.3368243911940461\n",
      "INFO:root:Test Accuracy: 45.33%\n",
      "INFO:root:Test Loss: 1.504842807650566 \n",
      "\n",
      " 41%|████      | 41/100 [12:01<17:24, 17.71s/it]"
     ]
    },
    {
     "name": "stdout",
     "output_type": "stream",
     "text": [
      "[231, 1320, 1416, 2575, 2274, 862, 690, 602, 1012, 173]\n"
     ]
    },
    {
     "name": "stderr",
     "output_type": "stream",
     "text": [
      "INFO:root: \n",
      "Avg Training Stats after 42 global rounds:\n",
      "INFO:root:Train Accuracy: 0.00%\n",
      "INFO:root:Training Loss : 0.31760536945285445\n",
      "INFO:root:Test Accuracy: 40.19%\n",
      "INFO:root:Test Loss: 1.609986163675785 \n",
      "\n",
      " 42%|████▏     | 42/100 [12:20<17:29, 18.10s/it]"
     ]
    },
    {
     "name": "stdout",
     "output_type": "stream",
     "text": [
      "[1112, 1053, 3195, 2934, 2029, 201, 123, 2195, 1018, 173]\n"
     ]
    },
    {
     "name": "stderr",
     "output_type": "stream",
     "text": [
      "INFO:root: \n",
      "Avg Training Stats after 43 global rounds:\n",
      "INFO:root:Train Accuracy: 0.00%\n",
      "INFO:root:Training Loss : 0.3689176964643461\n",
      "INFO:root:Test Accuracy: 39.05%\n",
      "INFO:root:Test Loss: 1.6078458720445632 \n",
      "\n",
      " 43%|████▎     | 43/100 [12:41<18:00, 18.95s/it]"
     ]
    },
    {
     "name": "stdout",
     "output_type": "stream",
     "text": [
      "[862, 1053, 422, 3195, 4600, 794, 1756, 173, 2029, 1018]\n"
     ]
    },
    {
     "name": "stderr",
     "output_type": "stream",
     "text": [
      "INFO:root: \n",
      "Avg Training Stats after 44 global rounds:\n",
      "INFO:root:Train Accuracy: 0.00%\n",
      "INFO:root:Training Loss : 0.3656058362381591\n",
      "INFO:root:Test Accuracy: 41.27%\n",
      "INFO:root:Test Loss: 1.6165508949756622 \n",
      "\n",
      " 44%|████▍     | 44/100 [13:03<18:42, 20.04s/it]"
     ]
    },
    {
     "name": "stdout",
     "output_type": "stream",
     "text": [
      "[1320, 2934, 796, 2195, 862, 2575, 2029, 19, 422, 286]\n"
     ]
    },
    {
     "name": "stderr",
     "output_type": "stream",
     "text": [
      "INFO:root: \n",
      "Avg Training Stats after 45 global rounds:\n",
      "INFO:root:Train Accuracy: 0.00%\n",
      "INFO:root:Training Loss : 0.30909697885569054\n",
      "INFO:root:Test Accuracy: 38.44%\n",
      "INFO:root:Test Loss: 1.6714027681946755 \n",
      "\n",
      " 45%|████▌     | 45/100 [13:24<18:26, 20.11s/it]"
     ]
    },
    {
     "name": "stdout",
     "output_type": "stream",
     "text": [
      "[862, 744, 1416, 1112, 590, 542, 278, 690, 116, 1780]\n"
     ]
    },
    {
     "name": "stderr",
     "output_type": "stream",
     "text": [
      "INFO:root: \n",
      "Avg Training Stats after 46 global rounds:\n",
      "INFO:root:Train Accuracy: 0.00%\n",
      "INFO:root:Training Loss : 0.4255947547128619\n",
      "INFO:root:Test Accuracy: 38.45%\n",
      "INFO:root:Test Loss: 1.675759803056717 \n",
      "\n",
      " 46%|████▌     | 46/100 [13:39<16:50, 18.72s/it]"
     ]
    },
    {
     "name": "stdout",
     "output_type": "stream",
     "text": [
      "[2575, 1112, 1320, 231, 3195, 1012, 862, 447, 2195, 201]\n"
     ]
    },
    {
     "name": "stderr",
     "output_type": "stream",
     "text": [
      "INFO:root: \n",
      "Avg Training Stats after 47 global rounds:\n",
      "INFO:root:Train Accuracy: 0.00%\n",
      "INFO:root:Training Loss : 0.21038760352468855\n",
      "INFO:root:Test Accuracy: 40.95%\n",
      "INFO:root:Test Loss: 1.6345465433597566 \n",
      "\n",
      " 47%|████▋     | 47/100 [13:59<16:55, 19.16s/it]"
     ]
    },
    {
     "name": "stdout",
     "output_type": "stream",
     "text": [
      "[1433, 542, 813, 231, 1119, 2029, 1012, 173, 2195, 1320]\n"
     ]
    },
    {
     "name": "stderr",
     "output_type": "stream",
     "text": [
      "INFO:root: \n",
      "Avg Training Stats after 48 global rounds:\n",
      "INFO:root:Train Accuracy: 0.00%\n",
      "INFO:root:Training Loss : 0.22549003268499038\n",
      "INFO:root:Test Accuracy: 34.66%\n",
      "INFO:root:Test Loss: 1.9315279033780097 \n",
      "\n",
      " 48%|████▊     | 48/100 [14:18<16:25, 18.94s/it]"
     ]
    },
    {
     "name": "stdout",
     "output_type": "stream",
     "text": [
      "[744, 2195, 209, 1780, 2575, 123, 327, 40, 1736, 690]\n"
     ]
    },
    {
     "name": "stderr",
     "output_type": "stream",
     "text": [
      "INFO:root: \n",
      "Avg Training Stats after 49 global rounds:\n",
      "INFO:root:Train Accuracy: 0.00%\n",
      "INFO:root:Training Loss : 0.40337347878309\n",
      "INFO:root:Test Accuracy: 34.29%\n",
      "INFO:root:Test Loss: 1.8432023364305496 \n",
      "\n",
      " 49%|████▉     | 49/100 [14:35<15:44, 18.53s/it]"
     ]
    },
    {
     "name": "stdout",
     "output_type": "stream",
     "text": [
      "[862, 690, 1433, 173, 3195, 2934, 116, 447, 231, 431]\n"
     ]
    },
    {
     "name": "stderr",
     "output_type": "stream",
     "text": [
      "INFO:root: \n",
      "Avg Training Stats after 50 global rounds:\n",
      "INFO:root:Train Accuracy: 0.00%\n",
      "INFO:root:Training Loss : 0.42313405138420135\n",
      "INFO:root:Test Accuracy: 41.78%\n",
      "INFO:root:Test Loss: 1.532448605298996 \n",
      "\n",
      " 50%|█████     | 50/100 [14:53<15:13, 18.28s/it]"
     ]
    },
    {
     "name": "stdout",
     "output_type": "stream",
     "text": [
      "[1320, 19, 3195, 87, 1756, 303, 813, 2575, 231, 231]\n"
     ]
    },
    {
     "name": "stderr",
     "output_type": "stream",
     "text": [
      "INFO:root: \n",
      "Avg Training Stats after 51 global rounds:\n",
      "INFO:root:Train Accuracy: 0.00%\n",
      "INFO:root:Training Loss : 0.17716169695888312\n",
      "INFO:root:Test Accuracy: 40.36%\n",
      "INFO:root:Test Loss: 1.638663919568062 \n",
      "\n",
      " 51%|█████     | 51/100 [15:11<14:45, 18.07s/it]"
     ]
    },
    {
     "name": "stdout",
     "output_type": "stream",
     "text": [
      "[40, 813, 1780, 2934, 15, 173, 278, 19, 1798, 267]\n"
     ]
    },
    {
     "name": "stderr",
     "output_type": "stream",
     "text": [
      "INFO:root: \n",
      "Avg Training Stats after 52 global rounds:\n",
      "INFO:root:Train Accuracy: 0.00%\n",
      "INFO:root:Training Loss : 0.3851208590264493\n",
      "INFO:root:Test Accuracy: 44.36%\n",
      "INFO:root:Test Loss: 1.5014688789844512 \n",
      "\n",
      " 52%|█████▏    | 52/100 [15:26<13:49, 17.28s/it]"
     ]
    },
    {
     "name": "stdout",
     "output_type": "stream",
     "text": [
      "[267, 231, 690, 173, 1780, 1053, 862, 590, 1433, 303]\n"
     ]
    },
    {
     "name": "stderr",
     "output_type": "stream",
     "text": [
      "INFO:root: \n",
      "Avg Training Stats after 53 global rounds:\n",
      "INFO:root:Train Accuracy: 0.00%\n",
      "INFO:root:Training Loss : 0.3670157985685106\n",
      "INFO:root:Test Accuracy: 46.95%\n",
      "INFO:root:Test Loss: 1.4625355112552643 \n",
      "\n",
      " 53%|█████▎    | 53/100 [15:41<12:56, 16.53s/it]"
     ]
    },
    {
     "name": "stdout",
     "output_type": "stream",
     "text": [
      "[431, 3195, 201, 796, 2934, 15, 231, 1112, 1736, 267]\n"
     ]
    },
    {
     "name": "stderr",
     "output_type": "stream",
     "text": [
      "INFO:root: \n",
      "Avg Training Stats after 54 global rounds:\n",
      "INFO:root:Train Accuracy: 0.00%\n",
      "INFO:root:Training Loss : 0.33319134866389283\n",
      "INFO:root:Test Accuracy: 42.17%\n",
      "INFO:root:Test Loss: 1.4990118473768235 \n",
      "\n",
      " 54%|█████▍    | 54/100 [15:59<13:01, 16.98s/it]"
     ]
    },
    {
     "name": "stdout",
     "output_type": "stream",
     "text": [
      "[40, 1320, 1416, 286, 2195, 1012, 201, 116, 1053, 542]\n"
     ]
    },
    {
     "name": "stderr",
     "output_type": "stream",
     "text": [
      "INFO:root: \n",
      "Avg Training Stats after 55 global rounds:\n",
      "INFO:root:Train Accuracy: 0.00%\n",
      "INFO:root:Training Loss : 0.3986114380743576\n",
      "INFO:root:Test Accuracy: 40.57%\n",
      "INFO:root:Test Loss: 1.6108560019731522 \n",
      "\n",
      " 55%|█████▌    | 55/100 [16:15<12:26, 16.60s/it]"
     ]
    },
    {
     "name": "stdout",
     "output_type": "stream",
     "text": [
      "[1798, 422, 231, 4600, 231, 2575, 1433, 106, 1320, 862]\n"
     ]
    },
    {
     "name": "stderr",
     "output_type": "stream",
     "text": [
      "INFO:root: \n",
      "Avg Training Stats after 56 global rounds:\n",
      "INFO:root:Train Accuracy: 0.00%\n",
      "INFO:root:Training Loss : 0.2279766057490523\n",
      "INFO:root:Test Accuracy: 41.76%\n",
      "INFO:root:Test Loss: 1.5683216500282287 \n",
      "\n",
      " 56%|█████▌    | 56/100 [16:35<12:59, 17.72s/it]"
     ]
    },
    {
     "name": "stdout",
     "output_type": "stream",
     "text": [
      "[2274, 3195, 267, 2029, 590, 327, 2195, 278, 1756, 813]\n"
     ]
    },
    {
     "name": "stderr",
     "output_type": "stream",
     "text": [
      "INFO:root: \n",
      "Avg Training Stats after 57 global rounds:\n",
      "INFO:root:Train Accuracy: 0.00%\n",
      "INFO:root:Training Loss : 0.25655487307936986\n",
      "INFO:root:Test Accuracy: 41.29%\n",
      "INFO:root:Test Loss: 1.6361411556601524 \n",
      "\n",
      " 57%|█████▋    | 57/100 [16:55<13:17, 18.55s/it]"
     ]
    },
    {
     "name": "stdout",
     "output_type": "stream",
     "text": [
      "[1798, 431, 123, 1320, 1416, 231, 2575, 2934, 19, 1756]\n"
     ]
    },
    {
     "name": "stderr",
     "output_type": "stream",
     "text": [
      "INFO:root: \n",
      "Avg Training Stats after 58 global rounds:\n",
      "INFO:root:Train Accuracy: 0.00%\n",
      "INFO:root:Training Loss : 0.2935203862908499\n",
      "INFO:root:Test Accuracy: 39.25%\n",
      "INFO:root:Test Loss: 1.555580209493637 \n",
      "\n",
      " 58%|█████▊    | 58/100 [17:15<13:11, 18.84s/it]"
     ]
    },
    {
     "name": "stdout",
     "output_type": "stream",
     "text": [
      "[1018, 267, 2274, 447, 2029, 690, 590, 303, 1119, 796]\n"
     ]
    },
    {
     "name": "stderr",
     "output_type": "stream",
     "text": [
      "INFO:root: \n",
      "Avg Training Stats after 59 global rounds:\n",
      "INFO:root:Train Accuracy: 0.00%\n",
      "INFO:root:Training Loss : 0.2109658503880048\n",
      "INFO:root:Test Accuracy: 40.73%\n",
      "INFO:root:Test Loss: 1.7298268535733223 \n",
      "\n",
      " 59%|█████▉    | 59/100 [17:32<12:25, 18.19s/it]"
     ]
    },
    {
     "name": "stdout",
     "output_type": "stream",
     "text": [
      "[106, 2430, 447, 1433, 1012, 3195, 1119, 1756, 862, 4600]\n"
     ]
    },
    {
     "name": "stderr",
     "output_type": "stream",
     "text": [
      "INFO:root: \n",
      "Avg Training Stats after 60 global rounds:\n",
      "INFO:root:Train Accuracy: 0.00%\n",
      "INFO:root:Training Loss : 0.15748167514736053\n",
      "INFO:root:Test Accuracy: 37.47%\n",
      "INFO:root:Test Loss: 1.763799537718296 \n",
      "\n",
      " 60%|██████    | 60/100 [17:55<13:10, 19.77s/it]"
     ]
    },
    {
     "name": "stdout",
     "output_type": "stream",
     "text": [
      "[1780, 1320, 286, 2029, 40, 796, 447, 15, 231, 744]\n"
     ]
    },
    {
     "name": "stderr",
     "output_type": "stream",
     "text": [
      "INFO:root: \n",
      "Avg Training Stats after 61 global rounds:\n",
      "INFO:root:Train Accuracy: 0.00%\n",
      "INFO:root:Training Loss : 0.30918116234858833\n",
      "INFO:root:Test Accuracy: 35.46%\n",
      "INFO:root:Test Loss: 1.8538274444639682 \n",
      "\n",
      " 61%|██████    | 61/100 [18:10<11:56, 18.37s/it]"
     ]
    },
    {
     "name": "stdout",
     "output_type": "stream",
     "text": [
      "[116, 15, 2029, 327, 19, 470, 422, 87, 1012, 303]\n"
     ]
    },
    {
     "name": "stderr",
     "output_type": "stream",
     "text": [
      "INFO:root: \n",
      "Avg Training Stats after 62 global rounds:\n",
      "INFO:root:Train Accuracy: 0.00%\n",
      "INFO:root:Training Loss : 0.41890239759143943\n",
      "INFO:root:Test Accuracy: 42.28%\n",
      "INFO:root:Test Loss: 1.581386134326458 \n",
      "\n",
      " 62%|██████▏   | 62/100 [18:23<10:31, 16.61s/it]"
     ]
    },
    {
     "name": "stdout",
     "output_type": "stream",
     "text": [
      "[796, 2274, 862, 286, 813, 3195, 1112, 422, 1119, 327]\n"
     ]
    },
    {
     "name": "stderr",
     "output_type": "stream",
     "text": [
      "INFO:root: \n",
      "Avg Training Stats after 63 global rounds:\n",
      "INFO:root:Train Accuracy: 0.00%\n",
      "INFO:root:Training Loss : 0.2297174658270463\n",
      "INFO:root:Test Accuracy: 40.03%\n",
      "INFO:root:Test Loss: 1.6635678642988205 \n",
      "\n",
      " 63%|██████▎   | 63/100 [18:41<10:33, 17.12s/it]"
     ]
    },
    {
     "name": "stdout",
     "output_type": "stream",
     "text": [
      "[542, 1798, 690, 15, 267, 2575, 796, 590, 209, 470]\n"
     ]
    },
    {
     "name": "stderr",
     "output_type": "stream",
     "text": [
      "INFO:root: \n",
      "Avg Training Stats after 64 global rounds:\n",
      "INFO:root:Train Accuracy: 0.00%\n",
      "INFO:root:Training Loss : 0.3060629881589531\n",
      "INFO:root:Test Accuracy: 43.87%\n",
      "INFO:root:Test Loss: 1.5258586165308952 \n",
      "\n",
      " 64%|██████▍   | 64/100 [18:57<10:03, 16.77s/it]"
     ]
    },
    {
     "name": "stdout",
     "output_type": "stream",
     "text": [
      "[87, 267, 286, 1053, 303, 796, 40, 173, 19, 327]\n"
     ]
    },
    {
     "name": "stderr",
     "output_type": "stream",
     "text": [
      "INFO:root: \n",
      "Avg Training Stats after 65 global rounds:\n",
      "INFO:root:Train Accuracy: 0.00%\n",
      "INFO:root:Training Loss : 0.3924859143566274\n",
      "INFO:root:Test Accuracy: 43.53%\n",
      "INFO:root:Test Loss: 1.5329793691635132 \n",
      "\n",
      " 65%|██████▌   | 65/100 [19:08<08:50, 15.15s/it]"
     ]
    },
    {
     "name": "stdout",
     "output_type": "stream",
     "text": [
      "[813, 542, 106, 123, 4600, 40, 209, 2029, 1736, 2195]\n"
     ]
    },
    {
     "name": "stderr",
     "output_type": "stream",
     "text": [
      "INFO:root: \n",
      "Avg Training Stats after 66 global rounds:\n",
      "INFO:root:Train Accuracy: 0.00%\n",
      "INFO:root:Training Loss : 0.28990440376602133\n",
      "INFO:root:Test Accuracy: 44.34%\n",
      "INFO:root:Test Loss: 1.502942972779274 \n",
      "\n",
      " 66%|██████▌   | 66/100 [19:28<09:21, 16.51s/it]"
     ]
    },
    {
     "name": "stdout",
     "output_type": "stream",
     "text": [
      "[1416, 1320, 201, 744, 2934, 447, 278, 2430, 1018, 2274]\n"
     ]
    },
    {
     "name": "stderr",
     "output_type": "stream",
     "text": [
      "INFO:root: \n",
      "Avg Training Stats after 67 global rounds:\n",
      "INFO:root:Train Accuracy: 0.00%\n",
      "INFO:root:Training Loss : 0.2707454992231185\n",
      "INFO:root:Test Accuracy: 43.12%\n",
      "INFO:root:Test Loss: 1.5614121675491333 \n",
      "\n",
      " 67%|██████▋   | 67/100 [19:48<09:41, 17.63s/it]"
     ]
    },
    {
     "name": "stdout",
     "output_type": "stream",
     "text": [
      "[303, 1012, 470, 123, 106, 201, 87, 1736, 2934, 2575]\n"
     ]
    },
    {
     "name": "stderr",
     "output_type": "stream",
     "text": [
      "INFO:root: \n",
      "Avg Training Stats after 68 global rounds:\n",
      "INFO:root:Train Accuracy: 0.00%\n",
      "INFO:root:Training Loss : 0.186870725086273\n",
      "INFO:root:Test Accuracy: 43.21%\n",
      "INFO:root:Test Loss: 1.5081910943984986 \n",
      "\n",
      " 68%|██████▊   | 68/100 [20:05<09:20, 17.50s/it]"
     ]
    },
    {
     "name": "stdout",
     "output_type": "stream",
     "text": [
      "[3195, 794, 690, 2029, 231, 1756, 1112, 1736, 201, 813]\n"
     ]
    },
    {
     "name": "stderr",
     "output_type": "stream",
     "text": [
      "INFO:root: \n",
      "Avg Training Stats after 69 global rounds:\n",
      "INFO:root:Train Accuracy: 0.00%\n",
      "INFO:root:Training Loss : 0.1831045437800759\n",
      "INFO:root:Test Accuracy: 44.67%\n",
      "INFO:root:Test Loss: 1.5178683769702912 \n",
      "\n",
      " 69%|██████▉   | 69/100 [20:26<09:31, 18.45s/it]"
     ]
    },
    {
     "name": "stdout",
     "output_type": "stream",
     "text": [
      "[106, 40, 278, 422, 470, 2029, 2934, 744, 2274, 327]\n"
     ]
    },
    {
     "name": "stderr",
     "output_type": "stream",
     "text": [
      "INFO:root: \n",
      "Avg Training Stats after 70 global rounds:\n",
      "INFO:root:Train Accuracy: 0.00%\n",
      "INFO:root:Training Loss : 0.23276005442935013\n",
      "INFO:root:Test Accuracy: 38.01%\n",
      "INFO:root:Test Loss: 1.7491741955280304 \n",
      "\n",
      " 70%|███████   | 70/100 [20:44<09:12, 18.42s/it]"
     ]
    },
    {
     "name": "stdout",
     "output_type": "stream",
     "text": [
      "[3195, 267, 303, 173, 286, 2029, 422, 1012, 796, 106]\n"
     ]
    },
    {
     "name": "stderr",
     "output_type": "stream",
     "text": [
      "INFO:root: \n",
      "Avg Training Stats after 71 global rounds:\n",
      "INFO:root:Train Accuracy: 0.00%\n",
      "INFO:root:Training Loss : 0.28019683089170533\n",
      "INFO:root:Test Accuracy: 46.30%\n",
      "INFO:root:Test Loss: 1.4527250814437866 \n",
      "\n",
      " 71%|███████   | 71/100 [21:01<08:41, 17.99s/it]"
     ]
    },
    {
     "name": "stdout",
     "output_type": "stream",
     "text": [
      "[209, 40, 4600, 106, 123, 1012, 690, 542, 602, 2575]\n"
     ]
    },
    {
     "name": "stderr",
     "output_type": "stream",
     "text": [
      "INFO:root: \n",
      "Avg Training Stats after 72 global rounds:\n",
      "INFO:root:Train Accuracy: 0.00%\n",
      "INFO:root:Training Loss : 0.24750845507704744\n",
      "INFO:root:Test Accuracy: 39.57%\n",
      "INFO:root:Test Loss: 1.634575098156929 \n",
      "\n",
      " 72%|███████▏  | 72/100 [21:20<08:26, 18.09s/it]"
     ]
    },
    {
     "name": "stdout",
     "output_type": "stream",
     "text": [
      "[1012, 2430, 2274, 209, 1798, 303, 1112, 231, 744, 278]\n"
     ]
    },
    {
     "name": "stderr",
     "output_type": "stream",
     "text": [
      "INFO:root: \n",
      "Avg Training Stats after 73 global rounds:\n",
      "INFO:root:Train Accuracy: 0.00%\n",
      "INFO:root:Training Loss : 0.2021568758188887\n",
      "INFO:root:Test Accuracy: 45.02%\n",
      "INFO:root:Test Loss: 1.4957971504330636 \n",
      "\n",
      " 73%|███████▎  | 73/100 [21:38<08:08, 18.10s/it]"
     ]
    },
    {
     "name": "stdout",
     "output_type": "stream",
     "text": [
      "[447, 1320, 209, 327, 744, 1018, 231, 2430, 590, 602]\n"
     ]
    },
    {
     "name": "stderr",
     "output_type": "stream",
     "text": [
      "INFO:root: \n",
      "Avg Training Stats after 74 global rounds:\n",
      "INFO:root:Train Accuracy: 0.00%\n",
      "INFO:root:Training Loss : 0.2974583230157912\n",
      "INFO:root:Test Accuracy: 49.79%\n",
      "INFO:root:Test Loss: 1.4004276478290558 \n",
      "\n",
      " 74%|███████▍  | 74/100 [21:54<07:32, 17.40s/it]"
     ]
    },
    {
     "name": "stdout",
     "output_type": "stream",
     "text": [
      "[470, 1053, 303, 1012, 106, 3195, 447, 1112, 201, 1433]\n"
     ]
    },
    {
     "name": "stderr",
     "output_type": "stream",
     "text": [
      "INFO:root: \n",
      "Avg Training Stats after 75 global rounds:\n",
      "INFO:root:Train Accuracy: 0.00%\n",
      "INFO:root:Training Loss : 0.14824172149159257\n",
      "INFO:root:Test Accuracy: 48.81%\n",
      "INFO:root:Test Loss: 1.3944212502241136 \n",
      "\n",
      " 75%|███████▌  | 75/100 [22:11<07:11, 17.27s/it]"
     ]
    },
    {
     "name": "stdout",
     "output_type": "stream",
     "text": [
      "[231, 1433, 431, 209, 1416, 1780, 116, 123, 422, 4600]\n"
     ]
    },
    {
     "name": "stderr",
     "output_type": "stream",
     "text": [
      "INFO:root: \n",
      "Avg Training Stats after 76 global rounds:\n",
      "INFO:root:Train Accuracy: 0.00%\n",
      "INFO:root:Training Loss : 0.42745366274318836\n",
      "INFO:root:Test Accuracy: 46.43%\n",
      "INFO:root:Test Loss: 1.432613554596901 \n",
      "\n",
      " 76%|███████▌  | 76/100 [22:29<07:03, 17.65s/it]"
     ]
    },
    {
     "name": "stdout",
     "output_type": "stream",
     "text": [
      "[2575, 796, 1053, 267, 602, 1018, 201, 1756, 286, 2430]\n"
     ]
    },
    {
     "name": "stderr",
     "output_type": "stream",
     "text": [
      "INFO:root: \n",
      "Avg Training Stats after 77 global rounds:\n",
      "INFO:root:Train Accuracy: 0.00%\n",
      "INFO:root:Training Loss : 0.27018418434255187\n",
      "INFO:root:Test Accuracy: 52.58%\n",
      "INFO:root:Test Loss: 1.3328180599212647 \n",
      "\n",
      " 77%|███████▋  | 77/100 [22:47<06:50, 17.85s/it]"
     ]
    },
    {
     "name": "stdout",
     "output_type": "stream",
     "text": [
      "[15, 2029, 2274, 744, 1018, 1736, 2934, 19, 173, 447]\n"
     ]
    },
    {
     "name": "stderr",
     "output_type": "stream",
     "text": [
      "INFO:root: \n",
      "Avg Training Stats after 78 global rounds:\n",
      "INFO:root:Train Accuracy: 0.00%\n",
      "INFO:root:Training Loss : 0.3207030628566611\n",
      "INFO:root:Test Accuracy: 47.58%\n",
      "INFO:root:Test Loss: 1.431837819814682 \n",
      "\n",
      " 78%|███████▊  | 78/100 [23:06<06:39, 18.14s/it]"
     ]
    },
    {
     "name": "stdout",
     "output_type": "stream",
     "text": [
      "[542, 602, 173, 201, 590, 690, 422, 2934, 1736, 744]\n"
     ]
    },
    {
     "name": "stderr",
     "output_type": "stream",
     "text": [
      "INFO:root: \n",
      "Avg Training Stats after 79 global rounds:\n",
      "INFO:root:Train Accuracy: 0.00%\n",
      "INFO:root:Training Loss : 0.3367110328295085\n",
      "INFO:root:Test Accuracy: 48.74%\n",
      "INFO:root:Test Loss: 1.3773225575685502 \n",
      "\n",
      " 79%|███████▉  | 79/100 [23:23<06:09, 17.62s/it]"
     ]
    },
    {
     "name": "stdout",
     "output_type": "stream",
     "text": [
      "[201, 278, 40, 1112, 106, 690, 2029, 87, 796, 3195]\n"
     ]
    },
    {
     "name": "stderr",
     "output_type": "stream",
     "text": [
      "INFO:root: \n",
      "Avg Training Stats after 80 global rounds:\n",
      "INFO:root:Train Accuracy: 0.00%\n",
      "INFO:root:Training Loss : 0.16998323752360872\n",
      "INFO:root:Test Accuracy: 44.25%\n",
      "INFO:root:Test Loss: 1.4942264693975449 \n",
      "\n",
      " 80%|████████  | 80/100 [23:39<05:42, 17.12s/it]"
     ]
    },
    {
     "name": "stdout",
     "output_type": "stream",
     "text": [
      "[1798, 15, 201, 123, 1433, 542, 1119, 690, 602, 40]\n"
     ]
    },
    {
     "name": "stderr",
     "output_type": "stream",
     "text": [
      "INFO:root: \n",
      "Avg Training Stats after 81 global rounds:\n",
      "INFO:root:Train Accuracy: 0.00%\n",
      "INFO:root:Training Loss : 0.23747977214356744\n",
      "INFO:root:Test Accuracy: 49.45%\n",
      "INFO:root:Test Loss: 1.4105790543556214 \n",
      "\n",
      " 81%|████████  | 81/100 [23:53<05:07, 16.18s/it]"
     ]
    },
    {
     "name": "stdout",
     "output_type": "stream",
     "text": [
      "[267, 542, 209, 796, 87, 3195, 231, 303, 2934, 1119]\n"
     ]
    },
    {
     "name": "stderr",
     "output_type": "stream",
     "text": [
      "INFO:root: \n",
      "Avg Training Stats after 82 global rounds:\n",
      "INFO:root:Train Accuracy: 0.00%\n",
      "INFO:root:Training Loss : 0.22954122673101351\n",
      "INFO:root:Test Accuracy: 48.67%\n",
      "INFO:root:Test Loss: 1.428307555913925 \n",
      "\n",
      " 82%|████████▏ | 82/100 [24:10<04:58, 16.56s/it]"
     ]
    },
    {
     "name": "stdout",
     "output_type": "stream",
     "text": [
      "[690, 431, 422, 231, 4600, 2934, 2029, 327, 796, 590]\n"
     ]
    },
    {
     "name": "stderr",
     "output_type": "stream",
     "text": [
      "INFO:root: \n",
      "Avg Training Stats after 83 global rounds:\n",
      "INFO:root:Train Accuracy: 0.00%\n",
      "INFO:root:Training Loss : 0.25360544554217707\n",
      "INFO:root:Test Accuracy: 43.37%\n",
      "INFO:root:Test Loss: 1.5590566402673722 \n",
      "\n",
      " 83%|████████▎ | 83/100 [24:30<04:59, 17.63s/it]"
     ]
    },
    {
     "name": "stdout",
     "output_type": "stream",
     "text": [
      "[231, 1112, 87, 303, 690, 796, 2195, 813, 327, 1018]\n"
     ]
    },
    {
     "name": "stderr",
     "output_type": "stream",
     "text": [
      "INFO:root: \n",
      "Avg Training Stats after 84 global rounds:\n",
      "INFO:root:Train Accuracy: 0.00%\n",
      "INFO:root:Training Loss : 0.22923953763954646\n",
      "INFO:root:Test Accuracy: 42.39%\n",
      "INFO:root:Test Loss: 1.6610886526107789 \n",
      "\n",
      " 84%|████████▍ | 84/100 [24:45<04:29, 16.85s/it]"
     ]
    },
    {
     "name": "stdout",
     "output_type": "stream",
     "text": [
      "[602, 1018, 542, 106, 794, 447, 2029, 1433, 327, 690]\n"
     ]
    },
    {
     "name": "stderr",
     "output_type": "stream",
     "text": [
      "INFO:root: \n",
      "Avg Training Stats after 85 global rounds:\n",
      "INFO:root:Train Accuracy: 0.00%\n",
      "INFO:root:Training Loss : 0.25579317730281065\n",
      "INFO:root:Test Accuracy: 43.30%\n",
      "INFO:root:Test Loss: 1.5421629416942597 \n",
      "\n",
      " 85%|████████▌ | 85/100 [25:01<04:06, 16.41s/it]"
     ]
    },
    {
     "name": "stdout",
     "output_type": "stream",
     "text": [
      "[1433, 267, 447, 1012, 470, 201, 231, 15, 278, 1736]\n"
     ]
    },
    {
     "name": "stderr",
     "output_type": "stream",
     "text": [
      "INFO:root: \n",
      "Avg Training Stats after 86 global rounds:\n",
      "INFO:root:Train Accuracy: 0.00%\n",
      "INFO:root:Training Loss : 0.29890205636050665\n",
      "INFO:root:Test Accuracy: 51.70%\n",
      "INFO:root:Test Loss: 1.3208858346939087 \n",
      "\n",
      " 86%|████████▌ | 86/100 [25:15<03:39, 15.69s/it]"
     ]
    },
    {
     "name": "stdout",
     "output_type": "stream",
     "text": [
      "[40, 1053, 231, 286, 106, 2274, 470, 1119, 447, 1416]\n"
     ]
    },
    {
     "name": "stderr",
     "output_type": "stream",
     "text": [
      "INFO:root: \n",
      "Avg Training Stats after 87 global rounds:\n",
      "INFO:root:Train Accuracy: 0.00%\n",
      "INFO:root:Training Loss : 0.2294136186004138\n",
      "INFO:root:Test Accuracy: 46.56%\n",
      "INFO:root:Test Loss: 1.5348229360580445 \n",
      "\n",
      " 87%|████████▋ | 87/100 [25:30<03:23, 15.67s/it]"
     ]
    },
    {
     "name": "stdout",
     "output_type": "stream",
     "text": [
      "[209, 2029, 231, 278, 1320, 862, 2195, 690, 1736, 106]\n"
     ]
    },
    {
     "name": "stderr",
     "output_type": "stream",
     "text": [
      "INFO:root: \n",
      "Avg Training Stats after 88 global rounds:\n",
      "INFO:root:Train Accuracy: 0.00%\n",
      "INFO:root:Training Loss : 0.25421979930816924\n",
      "INFO:root:Test Accuracy: 46.21%\n",
      "INFO:root:Test Loss: 1.4576832062005998 \n",
      "\n",
      " 88%|████████▊ | 88/100 [25:48<03:15, 16.31s/it]"
     ]
    },
    {
     "name": "stdout",
     "output_type": "stream",
     "text": [
      "[2430, 201, 2195, 2575, 123, 602, 116, 794, 4600, 690]\n"
     ]
    },
    {
     "name": "stderr",
     "output_type": "stream",
     "text": [
      "INFO:root: \n",
      "Avg Training Stats after 89 global rounds:\n",
      "INFO:root:Train Accuracy: 0.00%\n",
      "INFO:root:Training Loss : 0.2878882680431106\n",
      "INFO:root:Test Accuracy: 53.08%\n",
      "INFO:root:Test Loss: 1.2916724759340286 \n",
      "\n",
      " 89%|████████▉ | 89/100 [26:10<03:18, 18.02s/it]"
     ]
    },
    {
     "name": "stdout",
     "output_type": "stream",
     "text": [
      "[470, 303, 278, 87, 1119, 2274, 1780, 19, 4600, 602]\n"
     ]
    },
    {
     "name": "stderr",
     "output_type": "stream",
     "text": [
      "INFO:root: \n",
      "Avg Training Stats after 90 global rounds:\n",
      "INFO:root:Train Accuracy: 0.00%\n",
      "INFO:root:Training Loss : 0.19513879977281817\n",
      "INFO:root:Test Accuracy: 50.40%\n",
      "INFO:root:Test Loss: 1.378303841650486 \n",
      "\n",
      " 90%|█████████ | 90/100 [26:29<03:02, 18.29s/it]"
     ]
    },
    {
     "name": "stdout",
     "output_type": "stream",
     "text": [
      "[2575, 602, 2029, 327, 209, 4600, 2274, 1756, 431, 1112]\n"
     ]
    },
    {
     "name": "stderr",
     "output_type": "stream",
     "text": [
      "INFO:root: \n",
      "Avg Training Stats after 91 global rounds:\n",
      "INFO:root:Train Accuracy: 0.00%\n",
      "INFO:root:Training Loss : 0.22360181000541085\n",
      "INFO:root:Test Accuracy: 51.94%\n",
      "INFO:root:Test Loss: 1.3139950919151306 \n",
      "\n",
      " 91%|█████████ | 91/100 [26:52<02:56, 19.58s/it]"
     ]
    },
    {
     "name": "stdout",
     "output_type": "stream",
     "text": [
      "[2195, 267, 813, 286, 3195, 470, 231, 278, 1012, 231]\n"
     ]
    },
    {
     "name": "stderr",
     "output_type": "stream",
     "text": [
      "INFO:root: \n",
      "Avg Training Stats after 92 global rounds:\n",
      "INFO:root:Train Accuracy: 0.00%\n",
      "INFO:root:Training Loss : 0.2208585594755878\n",
      "INFO:root:Test Accuracy: 49.29%\n",
      "INFO:root:Test Loss: 1.4150179523229598 \n",
      "\n",
      " 92%|█████████▏| 92/100 [27:08<02:28, 18.60s/it]"
     ]
    },
    {
     "name": "stdout",
     "output_type": "stream",
     "text": [
      "[1053, 2575, 303, 2430, 542, 116, 1756, 1433, 327, 15]\n"
     ]
    },
    {
     "name": "stderr",
     "output_type": "stream",
     "text": [
      "INFO:root: \n",
      "Avg Training Stats after 93 global rounds:\n",
      "INFO:root:Train Accuracy: 0.00%\n",
      "INFO:root:Training Loss : 0.3108008302010582\n",
      "INFO:root:Test Accuracy: 51.50%\n",
      "INFO:root:Test Loss: 1.3039942494034766 \n",
      "\n",
      " 93%|█████████▎| 93/100 [27:25<02:07, 18.28s/it]"
     ]
    },
    {
     "name": "stdout",
     "output_type": "stream",
     "text": [
      "[590, 4600, 201, 286, 303, 1736, 15, 1798, 744, 422]\n"
     ]
    },
    {
     "name": "stderr",
     "output_type": "stream",
     "text": [
      "INFO:root: \n",
      "Avg Training Stats after 94 global rounds:\n",
      "INFO:root:Train Accuracy: 0.00%\n",
      "INFO:root:Training Loss : 0.23603149559911926\n",
      "INFO:root:Test Accuracy: 53.57%\n",
      "INFO:root:Test Loss: 1.2889156261086463 \n",
      "\n",
      " 94%|█████████▍| 94/100 [27:44<01:49, 18.23s/it]"
     ]
    },
    {
     "name": "stdout",
     "output_type": "stream",
     "text": [
      "[123, 862, 542, 19, 794, 1112, 4600, 2934, 231, 15]\n"
     ]
    },
    {
     "name": "stderr",
     "output_type": "stream",
     "text": [
      "INFO:root: \n",
      "Avg Training Stats after 95 global rounds:\n",
      "INFO:root:Train Accuracy: 0.00%\n",
      "INFO:root:Training Loss : 0.2893998411688389\n",
      "INFO:root:Test Accuracy: 47.92%\n",
      "INFO:root:Test Loss: 1.4142591074109077 \n",
      "\n",
      " 95%|█████████▌| 95/100 [28:03<01:32, 18.46s/it]"
     ]
    },
    {
     "name": "stdout",
     "output_type": "stream",
     "text": [
      "[1053, 87, 2575, 4600, 542, 231, 1433, 1012, 2029, 862]\n"
     ]
    },
    {
     "name": "stderr",
     "output_type": "stream",
     "text": [
      "INFO:root: \n",
      "Avg Training Stats after 96 global rounds:\n",
      "INFO:root:Train Accuracy: 0.00%\n",
      "INFO:root:Training Loss : 0.2073615195939677\n",
      "INFO:root:Test Accuracy: 39.51%\n",
      "INFO:root:Test Loss: 1.7391428415477277 \n",
      "\n",
      " 96%|█████████▌| 96/100 [28:25<01:18, 19.58s/it]"
     ]
    },
    {
     "name": "stdout",
     "output_type": "stream",
     "text": [
      "[19, 602, 40, 690, 267, 231, 173, 2029, 1798, 3195]\n"
     ]
    },
    {
     "name": "stderr",
     "output_type": "stream",
     "text": [
      "INFO:root: \n",
      "Avg Training Stats after 97 global rounds:\n",
      "INFO:root:Train Accuracy: 0.00%\n",
      "INFO:root:Training Loss : 0.3278915848588504\n",
      "INFO:root:Test Accuracy: 48.00%\n",
      "INFO:root:Test Loss: 1.381009775996208 \n",
      "\n",
      " 97%|█████████▋| 97/100 [28:42<00:56, 18.74s/it]"
     ]
    },
    {
     "name": "stdout",
     "output_type": "stream",
     "text": [
      "[209, 1012, 422, 40, 794, 4600, 116, 286, 303, 1756]\n"
     ]
    },
    {
     "name": "stderr",
     "output_type": "stream",
     "text": [
      "INFO:root: \n",
      "Avg Training Stats after 98 global rounds:\n",
      "INFO:root:Train Accuracy: 0.00%\n",
      "INFO:root:Training Loss : 0.23113958640649163\n",
      "INFO:root:Test Accuracy: 47.02%\n",
      "INFO:root:Test Loss: 1.4066317734122276 \n",
      "\n",
      " 98%|█████████▊| 98/100 [28:59<00:36, 18.22s/it]"
     ]
    },
    {
     "name": "stdout",
     "output_type": "stream",
     "text": [
      "[2274, 1736, 173, 1416, 447, 19, 2195, 2029, 862, 744]\n"
     ]
    },
    {
     "name": "stderr",
     "output_type": "stream",
     "text": [
      "INFO:root: \n",
      "Avg Training Stats after 99 global rounds:\n",
      "INFO:root:Train Accuracy: 0.00%\n",
      "INFO:root:Training Loss : 0.35424375439147127\n",
      "INFO:root:Test Accuracy: 48.61%\n",
      "INFO:root:Test Loss: 1.4025150790810585 \n",
      "\n",
      " 99%|█████████▉| 99/100 [29:17<00:18, 18.44s/it]"
     ]
    },
    {
     "name": "stdout",
     "output_type": "stream",
     "text": [
      "[431, 1798, 1736, 744, 19, 278, 690, 590, 116, 40]\n"
     ]
    },
    {
     "name": "stderr",
     "output_type": "stream",
     "text": [
      "INFO:root: \n",
      "Avg Training Stats after 100 global rounds:\n",
      "INFO:root:Train Accuracy: 0.00%\n",
      "INFO:root:Training Loss : 0.2699337713380431\n",
      "INFO:root:Test Accuracy: 50.67%\n",
      "INFO:root:Test Loss: 1.3684751081466675 \n",
      "\n",
      "100%|██████████| 100/100 [29:32<00:00, 17.72s/it]\n",
      "INFO:root: \n",
      " Results after 100 global rounds of training:\n",
      "INFO:root:|---- Best Test Accuracy: 53.57% , round: 93\n"
     ]
    },
    {
     "name": "stdout",
     "output_type": "stream",
     "text": [
      " Saving checkpoints to ../save/checkpoint/ConvNet_1207/cifar10_ConvNet_none_T[100]_C[0.2]_iid[0]_E[5]_B[32]_GPU[0]_Pruned[0.0]...\n"
     ]
    }
   ],
   "source": [
    " args = easydict.EasyDict({\n",
    "    \"model\": 'ConvNet',\n",
    "    'dataset': 'cifar10',\n",
    "    'gpu': 0,\n",
    "    'iid': 0,\n",
    "    'epochs': 100,\n",
    "    'optimizer': 'sgd',\n",
    "    'seed': 0,\n",
    "    'norm': 'none',\n",
    "    'num_users': 50,\n",
    "    'frac': 0.2,\n",
    "    'local_ep': 5, \n",
    "    'local_bs': 32,\n",
    "    'lr': 0.01,\n",
    "    'momentum': 1,\n",
    "    'kernel_num': 9,\n",
    "    'kernel_sizes': 'only_momentum',\n",
    "    'num_channnels': '1',\n",
    "    'num_filters': 32,\n",
    "    'max_pool': 'True',\n",
    "    'num_classes': 10,\n",
    "    'unequal': 0,\n",
    "    'stopping_rounds': 0,\n",
    "    'verbose': 0,\n",
    "    'hold_normalize': 0,\n",
    "    'save_path': '../save/checkpoint',\n",
    "    'exp_folder': 'ConvNet_1207',\n",
    "    'resume': None,\n",
    "    'server_opt': 'sgd',\n",
    "    'server_lr': 1.0,\n",
    "    'client_decay':0,\n",
    "    'local_decay':0,\n",
    "    'alpha': 0.05,\n",
    "    'server_epoch':0,\n",
    "    'cosine_norm':0, \n",
    "    'only_fc' :0 ,\n",
    "    'loss':'ce',\n",
    "    'dc_lr':0.0,\n",
    "    'tsne_pred':0,\n",
    "    'pruning': 0.0 })\n",
    "    \n",
    "temp = main_test(args)\n",
    "total.append(temp)"
   ]
  },
  {
   "cell_type": "code",
   "execution_count": 3,
   "id": "future-jimmy",
   "metadata": {},
   "outputs": [
    {
     "name": "stderr",
     "output_type": "stream",
     "text": [
      "INFO:root:{'model': 'ConvNet', 'dataset': 'cifar10', 'gpu': 0, 'iid': 0, 'epochs': 100, 'optimizer': 'sgd', 'seed': 0, 'norm': 'none', 'num_users': 50, 'frac': 0.2, 'local_ep': 5, 'local_bs': 32, 'lr': 0.01, 'momentum': 1, 'kernel_num': 9, 'kernel_sizes': 'only_momentum', 'num_channnels': '1', 'num_filters': 32, 'max_pool': 'True', 'num_classes': 10, 'unequal': 0, 'stopping_rounds': 0, 'verbose': 0, 'hold_normalize': 0, 'save_path': '../save/checkpoint/ConvNet_1207', 'exp_folder': 'ConvNet_1207', 'resume': None, 'server_opt': 'sgdm', 'server_lr': 1.0, 'client_decay': 0, 'local_decay': 0, 'alpha': 0.05, 'server_epoch': 0, 'cosine_norm': 0, 'only_fc': 0, 'loss': 'ce', 'dc_lr': 0.0, 'tsne_pred': 0, 'pruning': 0.0}\n"
     ]
    },
    {
     "name": "stdout",
     "output_type": "stream",
     "text": [
      "Files already downloaded and verified\n",
      "Files already downloaded and verified\n",
      "Files already downloaded and verified\n"
     ]
    },
    {
     "name": "stderr",
     "output_type": "stream",
     "text": [
      "INFO:root:ConvNet(\n",
      "  (net_act): ReLU(inplace=True)\n",
      "  (net_pooling): MaxPool2d(kernel_size=2, stride=2, padding=0, dilation=1, ceil_mode=False)\n",
      "  (features): Sequential(\n",
      "    (0): Conv2d(3, 128, kernel_size=(3, 3), stride=(1, 1), padding=(1, 1))\n",
      "    (1): ReLU(inplace=True)\n",
      "    (2): MaxPool2d(kernel_size=2, stride=2, padding=0, dilation=1, ceil_mode=False)\n",
      "    (3): Conv2d(128, 128, kernel_size=(3, 3), stride=(1, 1), padding=(1, 1))\n",
      "    (4): ReLU(inplace=True)\n",
      "    (5): MaxPool2d(kernel_size=2, stride=2, padding=0, dilation=1, ceil_mode=False)\n",
      "    (6): Conv2d(128, 128, kernel_size=(3, 3), stride=(1, 1), padding=(1, 1))\n",
      "    (7): ReLU(inplace=True)\n",
      "    (8): MaxPool2d(kernel_size=2, stride=2, padding=0, dilation=1, ceil_mode=False)\n",
      "  )\n",
      "  (classifier): Linear(in_features=2048, out_features=10, bias=True)\n",
      ")\n",
      "INFO:root:None\n",
      "  0%|          | 0/100 [00:00<?, ?it/s]"
     ]
    },
    {
     "name": "stdout",
     "output_type": "stream",
     "text": [
      "----------------------------------------------------------------\n",
      "        Layer (type)               Output Shape         Param #\n",
      "================================================================\n",
      "            Conv2d-1          [-1, 128, 32, 32]           3,584\n",
      "              ReLU-2          [-1, 128, 32, 32]               0\n",
      "              ReLU-3          [-1, 128, 32, 32]               0\n",
      "         MaxPool2d-4          [-1, 128, 16, 16]               0\n",
      "         MaxPool2d-5          [-1, 128, 16, 16]               0\n",
      "            Conv2d-6          [-1, 128, 16, 16]         147,584\n",
      "              ReLU-7          [-1, 128, 16, 16]               0\n",
      "              ReLU-8          [-1, 128, 16, 16]               0\n",
      "         MaxPool2d-9            [-1, 128, 8, 8]               0\n",
      "        MaxPool2d-10            [-1, 128, 8, 8]               0\n",
      "           Conv2d-11            [-1, 128, 8, 8]         147,584\n",
      "             ReLU-12            [-1, 128, 8, 8]               0\n",
      "             ReLU-13            [-1, 128, 8, 8]               0\n",
      "        MaxPool2d-14            [-1, 128, 4, 4]               0\n",
      "        MaxPool2d-15            [-1, 128, 4, 4]               0\n",
      "           Linear-16                   [-1, 10]          20,490\n",
      "================================================================\n",
      "Total params: 319,242\n",
      "Trainable params: 319,242\n",
      "Non-trainable params: 0\n",
      "----------------------------------------------------------------\n",
      "Input size (MB): 0.01\n",
      "Forward/backward pass size (MB): 4.59\n",
      "Params size (MB): 1.22\n",
      "Estimated Total Size (MB): 5.82\n",
      "----------------------------------------------------------------\n",
      "[209, 1756, 422, 2575, 1018, 602, 2274, 447, 744, 1112, 123, 87, 1433, 1416, 40, 1119, 796, 794, 327, 470, 231, 813, 1320, 542, 690, 2195, 2934, 106, 1012, 15, 278, 1798, 303, 590, 2029, 201, 1053, 862, 231, 116, 4600, 19, 286, 1736, 2430, 431, 3195, 1780, 173, 267]\n",
      "[470, 2934, 201, 231, 2575, 744, 15, 123, 1119, 4600]\n"
     ]
    },
    {
     "name": "stderr",
     "output_type": "stream",
     "text": [
      "INFO:root: \n",
      "Avg Training Stats after 1 global rounds:\n",
      "INFO:root:Train Accuracy: 0.00%\n",
      "INFO:root:Training Loss : 0.46465974690754824\n",
      "INFO:root:Test Accuracy: 10.92%\n",
      "INFO:root:Test Loss: 2.3867425334453585 \n",
      "\n",
      "  1%|          | 1/100 [00:20<33:44, 20.45s/it]"
     ]
    },
    {
     "name": "stdout",
     "output_type": "stream",
     "text": [
      "[231, 173, 2575, 1736, 2430, 123, 4600, 690, 1012, 447]\n"
     ]
    },
    {
     "name": "stderr",
     "output_type": "stream",
     "text": [
      "INFO:root: \n",
      "Avg Training Stats after 2 global rounds:\n",
      "INFO:root:Train Accuracy: 0.00%\n",
      "INFO:root:Training Loss : 0.5620017830207\n",
      "INFO:root:Test Accuracy: 14.87%\n",
      "INFO:root:Test Loss: 3.4811441147327424 \n",
      "\n",
      "  2%|▏         | 2/100 [00:42<34:49, 21.32s/it]"
     ]
    },
    {
     "name": "stdout",
     "output_type": "stream",
     "text": [
      "[744, 2575, 1320, 470, 2430, 2274, 267, 690, 209, 303]\n"
     ]
    },
    {
     "name": "stderr",
     "output_type": "stream",
     "text": [
      "INFO:root: \n",
      "Avg Training Stats after 3 global rounds:\n",
      "INFO:root:Train Accuracy: 0.00%\n",
      "INFO:root:Training Loss : 0.4622460360647029\n",
      "INFO:root:Test Accuracy: 12.64%\n",
      "INFO:root:Test Loss: 4.017519520297647 \n",
      "\n",
      "  3%|▎         | 3/100 [01:01<32:48, 20.29s/it]"
     ]
    },
    {
     "name": "stdout",
     "output_type": "stream",
     "text": [
      "[173, 690, 542, 1012, 2195, 1780, 1053, 87, 2934, 1736]\n"
     ]
    },
    {
     "name": "stderr",
     "output_type": "stream",
     "text": [
      "INFO:root: \n",
      "Avg Training Stats after 4 global rounds:\n",
      "INFO:root:Train Accuracy: 0.00%\n",
      "INFO:root:Training Loss : 0.6258387036109203\n",
      "INFO:root:Test Accuracy: 25.75%\n",
      "INFO:root:Test Loss: 2.132777600288391 \n",
      "\n",
      "  4%|▍         | 4/100 [01:21<32:15, 20.16s/it]"
     ]
    },
    {
     "name": "stdout",
     "output_type": "stream",
     "text": [
      "[2430, 2575, 1736, 123, 15, 1780, 1018, 231, 87, 794]\n"
     ]
    },
    {
     "name": "stderr",
     "output_type": "stream",
     "text": [
      "INFO:root: \n",
      "Avg Training Stats after 5 global rounds:\n",
      "INFO:root:Train Accuracy: 0.00%\n",
      "INFO:root:Training Loss : 0.515772467611157\n",
      "INFO:root:Test Accuracy: 24.69%\n",
      "INFO:root:Test Loss: 2.094941738247871 \n",
      "\n",
      "  5%|▌         | 5/100 [01:39<30:56, 19.55s/it]"
     ]
    },
    {
     "name": "stdout",
     "output_type": "stream",
     "text": [
      "[1119, 87, 590, 794, 813, 303, 1320, 690, 1018, 422]\n"
     ]
    },
    {
     "name": "stderr",
     "output_type": "stream",
     "text": [
      "INFO:root: \n",
      "Avg Training Stats after 6 global rounds:\n",
      "INFO:root:Train Accuracy: 0.00%\n",
      "INFO:root:Training Loss : 0.3353588137780791\n",
      "INFO:root:Test Accuracy: 20.56%\n",
      "INFO:root:Test Loss: 2.392235570549965 \n",
      "\n",
      "  6%|▌         | 6/100 [01:54<28:02, 17.90s/it]"
     ]
    },
    {
     "name": "stdout",
     "output_type": "stream",
     "text": [
      "[2029, 1433, 303, 327, 744, 862, 2934, 231, 1416, 278]\n"
     ]
    },
    {
     "name": "stderr",
     "output_type": "stream",
     "text": [
      "INFO:root: \n",
      "Avg Training Stats after 7 global rounds:\n",
      "INFO:root:Train Accuracy: 0.00%\n",
      "INFO:root:Training Loss : 0.4527555007441092\n",
      "INFO:root:Test Accuracy: 22.46%\n",
      "INFO:root:Test Loss: 2.5309632919728755 \n",
      "\n",
      "  7%|▋         | 7/100 [02:12<27:54, 18.00s/it]"
     ]
    },
    {
     "name": "stdout",
     "output_type": "stream",
     "text": [
      "[231, 1112, 327, 744, 286, 422, 15, 1798, 1053, 173]\n"
     ]
    },
    {
     "name": "stderr",
     "output_type": "stream",
     "text": [
      "INFO:root: \n",
      "Avg Training Stats after 8 global rounds:\n",
      "INFO:root:Train Accuracy: 0.00%\n",
      "INFO:root:Training Loss : 0.5175675710402936\n",
      "INFO:root:Test Accuracy: 26.86%\n",
      "INFO:root:Test Loss: 2.5743202912807464 \n",
      "\n",
      "  8%|▊         | 8/100 [02:27<25:56, 16.91s/it]"
     ]
    },
    {
     "name": "stdout",
     "output_type": "stream",
     "text": [
      "[794, 278, 744, 862, 303, 19, 2274, 1053, 813, 1012]\n"
     ]
    },
    {
     "name": "stderr",
     "output_type": "stream",
     "text": [
      "INFO:root: \n",
      "Avg Training Stats after 9 global rounds:\n",
      "INFO:root:Train Accuracy: 0.00%\n",
      "INFO:root:Training Loss : 0.3629792295477676\n",
      "INFO:root:Test Accuracy: 27.97%\n",
      "INFO:root:Test Loss: 2.9413375079631807 \n",
      "\n",
      "  9%|▉         | 9/100 [02:43<25:26, 16.78s/it]"
     ]
    },
    {
     "name": "stdout",
     "output_type": "stream",
     "text": [
      "[1320, 40, 1756, 470, 327, 1012, 862, 1433, 796, 231]\n"
     ]
    },
    {
     "name": "stderr",
     "output_type": "stream",
     "text": [
      "INFO:root: \n",
      "Avg Training Stats after 10 global rounds:\n",
      "INFO:root:Train Accuracy: 0.00%\n",
      "INFO:root:Training Loss : 0.24155482090678274\n",
      "INFO:root:Test Accuracy: 25.95%\n",
      "INFO:root:Test Loss: 2.818703041225672 \n",
      "\n",
      " 10%|█         | 10/100 [02:59<24:51, 16.57s/it]"
     ]
    },
    {
     "name": "stdout",
     "output_type": "stream",
     "text": [
      "[87, 201, 1798, 813, 123, 2934, 1756, 231, 1053, 4600]\n"
     ]
    },
    {
     "name": "stderr",
     "output_type": "stream",
     "text": [
      "INFO:root: \n",
      "Avg Training Stats after 11 global rounds:\n",
      "INFO:root:Train Accuracy: 0.00%\n",
      "INFO:root:Training Loss : 0.3855322936623291\n",
      "INFO:root:Test Accuracy: 19.20%\n",
      "INFO:root:Test Loss: 2.5240548020601272 \n",
      "\n",
      " 11%|█         | 11/100 [03:20<26:31, 17.88s/it]"
     ]
    },
    {
     "name": "stdout",
     "output_type": "stream",
     "text": [
      "[106, 231, 447, 796, 209, 1798, 1112, 1416, 590, 794]\n"
     ]
    },
    {
     "name": "stderr",
     "output_type": "stream",
     "text": [
      "INFO:root: \n",
      "Avg Training Stats after 12 global rounds:\n",
      "INFO:root:Train Accuracy: 0.00%\n",
      "INFO:root:Training Loss : 0.24223085791955135\n",
      "INFO:root:Test Accuracy: 26.37%\n",
      "INFO:root:Test Loss: 2.229636152982712 \n",
      "\n",
      " 12%|█▏        | 12/100 [03:35<24:55, 17.00s/it]"
     ]
    },
    {
     "name": "stdout",
     "output_type": "stream",
     "text": [
      "[1320, 278, 862, 2274, 1798, 87, 2029, 796, 1018, 2430]\n"
     ]
    },
    {
     "name": "stderr",
     "output_type": "stream",
     "text": [
      "INFO:root: \n",
      "Avg Training Stats after 13 global rounds:\n",
      "INFO:root:Train Accuracy: 0.00%\n",
      "INFO:root:Training Loss : 0.2666381760383397\n",
      "INFO:root:Test Accuracy: 32.00%\n",
      "INFO:root:Test Loss: 1.9494349551200867 \n",
      "\n",
      " 13%|█▎        | 13/100 [03:55<26:01, 17.94s/it]"
     ]
    },
    {
     "name": "stdout",
     "output_type": "stream",
     "text": [
      "[4600, 2575, 590, 173, 2430, 40, 1112, 87, 231, 2195]\n"
     ]
    },
    {
     "name": "stderr",
     "output_type": "stream",
     "text": [
      "INFO:root: \n",
      "Avg Training Stats after 14 global rounds:\n",
      "INFO:root:Train Accuracy: 0.00%\n",
      "INFO:root:Training Loss : 0.33416012047072263\n",
      "INFO:root:Test Accuracy: 32.89%\n",
      "INFO:root:Test Loss: 2.27131178021431 \n",
      "\n",
      " 14%|█▍        | 14/100 [04:17<27:20, 19.07s/it]"
     ]
    },
    {
     "name": "stdout",
     "output_type": "stream",
     "text": [
      "[231, 794, 1018, 1012, 15, 303, 796, 2274, 1320, 19]\n"
     ]
    },
    {
     "name": "stderr",
     "output_type": "stream",
     "text": [
      "INFO:root: \n",
      "Avg Training Stats after 15 global rounds:\n",
      "INFO:root:Train Accuracy: 0.00%\n",
      "INFO:root:Training Loss : 0.35236518698599867\n",
      "INFO:root:Test Accuracy: 33.72%\n",
      "INFO:root:Test Loss: 2.319161990582943 \n",
      "\n",
      " 15%|█▌        | 15/100 [04:32<25:26, 17.96s/it]"
     ]
    },
    {
     "name": "stdout",
     "output_type": "stream",
     "text": [
      "[2195, 40, 2029, 862, 2575, 1433, 447, 19, 4600, 796]\n"
     ]
    },
    {
     "name": "stderr",
     "output_type": "stream",
     "text": [
      "INFO:root: \n",
      "Avg Training Stats after 16 global rounds:\n",
      "INFO:root:Train Accuracy: 0.00%\n",
      "INFO:root:Training Loss : 0.2983943654694559\n",
      "INFO:root:Test Accuracy: 32.60%\n",
      "INFO:root:Test Loss: 2.4708727245032787 \n",
      "\n",
      " 16%|█▌        | 16/100 [04:55<26:58, 19.27s/it]"
     ]
    },
    {
     "name": "stdout",
     "output_type": "stream",
     "text": [
      "[231, 173, 303, 2274, 796, 116, 1798, 447, 106, 1433]\n"
     ]
    },
    {
     "name": "stderr",
     "output_type": "stream",
     "text": [
      "INFO:root: \n",
      "Avg Training Stats after 17 global rounds:\n",
      "INFO:root:Train Accuracy: 0.00%\n",
      "INFO:root:Training Loss : 0.2616420799841842\n",
      "INFO:root:Test Accuracy: 29.15%\n",
      "INFO:root:Test Loss: 2.562744412571192 \n",
      "\n",
      " 17%|█▋        | 17/100 [05:10<24:55, 18.02s/it]"
     ]
    },
    {
     "name": "stdout",
     "output_type": "stream",
     "text": [
      "[201, 1756, 796, 1320, 813, 542, 116, 173, 794, 1798]\n"
     ]
    },
    {
     "name": "stderr",
     "output_type": "stream",
     "text": [
      "INFO:root: \n",
      "Avg Training Stats after 18 global rounds:\n",
      "INFO:root:Train Accuracy: 0.00%\n",
      "INFO:root:Training Loss : 0.31498964698727966\n",
      "INFO:root:Test Accuracy: 36.69%\n",
      "INFO:root:Test Loss: 1.9080912792682647 \n",
      "\n",
      " 18%|█▊        | 18/100 [05:26<23:42, 17.35s/it]"
     ]
    },
    {
     "name": "stdout",
     "output_type": "stream",
     "text": [
      "[15, 1780, 19, 744, 2575, 173, 813, 40, 1320, 422]\n"
     ]
    },
    {
     "name": "stderr",
     "output_type": "stream",
     "text": [
      "INFO:root: \n",
      "Avg Training Stats after 19 global rounds:\n",
      "INFO:root:Train Accuracy: 0.00%\n",
      "INFO:root:Training Loss : 0.44373165258389563\n",
      "INFO:root:Test Accuracy: 35.70%\n",
      "INFO:root:Test Loss: 1.9852982410788536 \n",
      "\n",
      " 19%|█▉        | 19/100 [05:41<22:37, 16.76s/it]"
     ]
    },
    {
     "name": "stdout",
     "output_type": "stream",
     "text": [
      "[813, 1736, 15, 1433, 267, 470, 3195, 744, 2575, 231]\n"
     ]
    },
    {
     "name": "stderr",
     "output_type": "stream",
     "text": [
      "INFO:root: \n",
      "Avg Training Stats after 20 global rounds:\n",
      "INFO:root:Train Accuracy: 0.00%\n",
      "INFO:root:Training Loss : 0.24044672809216522\n",
      "INFO:root:Test Accuracy: 30.70%\n",
      "INFO:root:Test Loss: 2.4659215542674064 \n",
      "\n",
      " 20%|██        | 20/100 [06:00<23:17, 17.47s/it]"
     ]
    },
    {
     "name": "stdout",
     "output_type": "stream",
     "text": [
      "[278, 744, 1053, 447, 1320, 116, 1798, 19, 4600, 3195]\n"
     ]
    },
    {
     "name": "stderr",
     "output_type": "stream",
     "text": [
      "INFO:root: \n",
      "Avg Training Stats after 21 global rounds:\n",
      "INFO:root:Train Accuracy: 0.00%\n",
      "INFO:root:Training Loss : 0.3600045144593994\n",
      "INFO:root:Test Accuracy: 33.24%\n",
      "INFO:root:Test Loss: 2.1789637488126754 \n",
      "\n",
      " 21%|██        | 21/100 [06:21<24:24, 18.54s/it]"
     ]
    },
    {
     "name": "stdout",
     "output_type": "stream",
     "text": [
      "[813, 2029, 602, 590, 1756, 106, 1780, 40, 19, 2934]\n"
     ]
    },
    {
     "name": "stderr",
     "output_type": "stream",
     "text": [
      "INFO:root: \n",
      "Avg Training Stats after 22 global rounds:\n",
      "INFO:root:Train Accuracy: 0.00%\n",
      "INFO:root:Training Loss : 0.19526602207937557\n",
      "INFO:root:Test Accuracy: 31.79%\n",
      "INFO:root:Test Loss: 2.2805531045794485 \n",
      "\n",
      " 22%|██▏       | 22/100 [06:39<23:58, 18.44s/it]"
     ]
    },
    {
     "name": "stdout",
     "output_type": "stream",
     "text": [
      "[40, 862, 327, 1780, 2274, 106, 1053, 1112, 1012, 3195]\n"
     ]
    },
    {
     "name": "stderr",
     "output_type": "stream",
     "text": [
      "INFO:root: \n",
      "Avg Training Stats after 23 global rounds:\n",
      "INFO:root:Train Accuracy: 0.00%\n",
      "INFO:root:Training Loss : 0.25206992063398276\n",
      "INFO:root:Test Accuracy: 36.00%\n",
      "INFO:root:Test Loss: 2.3205759999156 \n",
      "\n",
      " 23%|██▎       | 23/100 [06:59<24:00, 18.70s/it]"
     ]
    },
    {
     "name": "stdout",
     "output_type": "stream",
     "text": [
      "[1320, 1119, 862, 744, 1053, 87, 201, 470, 2274, 1012]\n"
     ]
    },
    {
     "name": "stderr",
     "output_type": "stream",
     "text": [
      "INFO:root: \n",
      "Avg Training Stats after 24 global rounds:\n",
      "INFO:root:Train Accuracy: 0.00%\n",
      "INFO:root:Training Loss : 0.2662217857827319\n",
      "INFO:root:Test Accuracy: 30.58%\n",
      "INFO:root:Test Loss: 3.009355841875076 \n",
      "\n",
      " 24%|██▍       | 24/100 [07:15<22:54, 18.09s/it]"
     ]
    },
    {
     "name": "stdout",
     "output_type": "stream",
     "text": [
      "[447, 286, 1416, 87, 796, 1798, 231, 1119, 431, 2195]\n"
     ]
    },
    {
     "name": "stderr",
     "output_type": "stream",
     "text": [
      "INFO:root: \n",
      "Avg Training Stats after 25 global rounds:\n",
      "INFO:root:Train Accuracy: 0.00%\n",
      "INFO:root:Training Loss : 0.35328330720727336\n",
      "INFO:root:Test Accuracy: 36.28%\n",
      "INFO:root:Test Loss: 2.4026635509729384 \n",
      "\n",
      " 25%|██▌       | 25/100 [07:32<21:59, 17.59s/it]"
     ]
    },
    {
     "name": "stdout",
     "output_type": "stream",
     "text": [
      "[116, 2029, 690, 1416, 1780, 602, 2575, 1756, 431, 87]\n"
     ]
    },
    {
     "name": "stderr",
     "output_type": "stream",
     "text": [
      "INFO:root: \n",
      "Avg Training Stats after 26 global rounds:\n",
      "INFO:root:Train Accuracy: 0.00%\n",
      "INFO:root:Training Loss : 0.34762969337529215\n",
      "INFO:root:Test Accuracy: 38.27%\n",
      "INFO:root:Test Loss: 1.832170120626688 \n",
      "\n",
      " 26%|██▌       | 26/100 [07:51<22:12, 18.01s/it]"
     ]
    },
    {
     "name": "stdout",
     "output_type": "stream",
     "text": [
      "[87, 173, 2029, 19, 4600, 2195, 116, 303, 40, 209]\n"
     ]
    },
    {
     "name": "stderr",
     "output_type": "stream",
     "text": [
      "INFO:root: \n",
      "Avg Training Stats after 27 global rounds:\n",
      "INFO:root:Train Accuracy: 0.00%\n",
      "INFO:root:Training Loss : 0.4127735291627842\n",
      "INFO:root:Test Accuracy: 36.95%\n",
      "INFO:root:Test Loss: 1.7993440613150598 \n",
      "\n",
      " 27%|██▋       | 27/100 [08:08<21:39, 17.80s/it]"
     ]
    },
    {
     "name": "stdout",
     "output_type": "stream",
     "text": [
      "[4600, 267, 794, 231, 201, 231, 2934, 590, 470, 173]\n"
     ]
    },
    {
     "name": "stderr",
     "output_type": "stream",
     "text": [
      "INFO:root: \n",
      "Avg Training Stats after 28 global rounds:\n",
      "INFO:root:Train Accuracy: 0.00%\n",
      "INFO:root:Training Loss : 0.29953247173727265\n",
      "INFO:root:Test Accuracy: 40.16%\n",
      "INFO:root:Test Loss: 1.8382748129963875 \n",
      "\n",
      " 28%|██▊       | 28/100 [08:26<21:24, 17.85s/it]"
     ]
    },
    {
     "name": "stdout",
     "output_type": "stream",
     "text": [
      "[1798, 286, 123, 1112, 303, 796, 744, 1320, 231, 794]\n"
     ]
    },
    {
     "name": "stderr",
     "output_type": "stream",
     "text": [
      "INFO:root: \n",
      "Avg Training Stats after 29 global rounds:\n",
      "INFO:root:Train Accuracy: 0.00%\n",
      "INFO:root:Training Loss : 0.15485217986144767\n",
      "INFO:root:Test Accuracy: 41.39%\n",
      "INFO:root:Test Loss: 1.9231209504604339 \n",
      "\n",
      " 29%|██▉       | 29/100 [08:42<20:22, 17.22s/it]"
     ]
    },
    {
     "name": "stdout",
     "output_type": "stream",
     "text": [
      "[303, 4600, 1119, 447, 744, 40, 1756, 2430, 2029, 602]\n"
     ]
    },
    {
     "name": "stderr",
     "output_type": "stream",
     "text": [
      "INFO:root: \n",
      "Avg Training Stats after 30 global rounds:\n",
      "INFO:root:Train Accuracy: 0.00%\n",
      "INFO:root:Training Loss : 0.16938515516165067\n",
      "INFO:root:Test Accuracy: 47.24%\n",
      "INFO:root:Test Loss: 1.6507172495126725 \n",
      "\n",
      " 30%|███       | 30/100 [09:03<21:30, 18.43s/it]"
     ]
    },
    {
     "name": "stdout",
     "output_type": "stream",
     "text": [
      "[422, 3195, 1112, 327, 123, 1736, 303, 286, 106, 1433]\n"
     ]
    },
    {
     "name": "stderr",
     "output_type": "stream",
     "text": [
      "INFO:root: \n",
      "Avg Training Stats after 31 global rounds:\n",
      "INFO:root:Train Accuracy: 0.00%\n",
      "INFO:root:Training Loss : 0.21670486330064706\n",
      "INFO:root:Test Accuracy: 38.73%\n",
      "INFO:root:Test Loss: 2.111985805295408 \n",
      "\n",
      " 31%|███       | 31/100 [09:20<20:35, 17.91s/it]"
     ]
    },
    {
     "name": "stdout",
     "output_type": "stream",
     "text": [
      "[862, 173, 422, 303, 123, 1012, 542, 278, 431, 2195]\n"
     ]
    },
    {
     "name": "stderr",
     "output_type": "stream",
     "text": [
      "INFO:root: \n",
      "Avg Training Stats after 32 global rounds:\n",
      "INFO:root:Train Accuracy: 0.00%\n",
      "INFO:root:Training Loss : 0.34122128651466044\n",
      "INFO:root:Test Accuracy: 40.75%\n",
      "INFO:root:Test Loss: 1.9944069178402424 \n",
      "\n",
      " 32%|███▏      | 32/100 [09:34<19:00, 16.77s/it]"
     ]
    },
    {
     "name": "stdout",
     "output_type": "stream",
     "text": [
      "[1320, 15, 19, 1756, 231, 470, 267, 87, 862, 327]\n"
     ]
    },
    {
     "name": "stderr",
     "output_type": "stream",
     "text": [
      "INFO:root: \n",
      "Avg Training Stats after 33 global rounds:\n",
      "INFO:root:Train Accuracy: 0.00%\n",
      "INFO:root:Training Loss : 0.3880104091620794\n",
      "INFO:root:Test Accuracy: 42.71%\n",
      "INFO:root:Test Loss: 1.757013022005558 \n",
      "\n",
      " 33%|███▎      | 33/100 [09:47<17:33, 15.72s/it]"
     ]
    },
    {
     "name": "stdout",
     "output_type": "stream",
     "text": [
      "[87, 267, 796, 1053, 1433, 2575, 1119, 794, 15, 327]\n"
     ]
    },
    {
     "name": "stderr",
     "output_type": "stream",
     "text": [
      "INFO:root: \n",
      "Avg Training Stats after 34 global rounds:\n",
      "INFO:root:Train Accuracy: 0.00%\n",
      "INFO:root:Training Loss : 0.2716089676304644\n",
      "INFO:root:Test Accuracy: 44.45%\n",
      "INFO:root:Test Loss: 1.5977579122781753 \n",
      "\n",
      " 34%|███▍      | 34/100 [10:03<17:26, 15.85s/it]"
     ]
    },
    {
     "name": "stdout",
     "output_type": "stream",
     "text": [
      "[422, 1798, 590, 796, 19, 1320, 173, 1416, 1053, 4600]\n"
     ]
    },
    {
     "name": "stderr",
     "output_type": "stream",
     "text": [
      "INFO:root: \n",
      "Avg Training Stats after 35 global rounds:\n",
      "INFO:root:Train Accuracy: 0.00%\n",
      "INFO:root:Training Loss : 0.2919715727318888\n",
      "INFO:root:Test Accuracy: 45.77%\n",
      "INFO:root:Test Loss: 1.6026614820957183 \n",
      "\n",
      " 35%|███▌      | 35/100 [10:23<18:26, 17.02s/it]"
     ]
    },
    {
     "name": "stdout",
     "output_type": "stream",
     "text": [
      "[2430, 1320, 602, 3195, 231, 2934, 431, 794, 1416, 542]\n"
     ]
    },
    {
     "name": "stderr",
     "output_type": "stream",
     "text": [
      "INFO:root: \n",
      "Avg Training Stats after 36 global rounds:\n",
      "INFO:root:Train Accuracy: 0.00%\n",
      "INFO:root:Training Loss : 0.20066242526813544\n",
      "INFO:root:Test Accuracy: 42.81%\n",
      "INFO:root:Test Loss: 1.8512379142642021 \n",
      "\n",
      " 36%|███▌      | 36/100 [10:45<19:36, 18.39s/it]"
     ]
    },
    {
     "name": "stdout",
     "output_type": "stream",
     "text": [
      "[15, 813, 1112, 123, 40, 796, 2274, 1018, 2195, 201]\n"
     ]
    },
    {
     "name": "stderr",
     "output_type": "stream",
     "text": [
      "INFO:root: \n",
      "Avg Training Stats after 37 global rounds:\n",
      "INFO:root:Train Accuracy: 0.00%\n",
      "INFO:root:Training Loss : 0.23780879804723645\n",
      "INFO:root:Test Accuracy: 46.46%\n",
      "INFO:root:Test Loss: 1.750216088593006 \n",
      "\n",
      " 37%|███▋      | 37/100 [11:01<18:37, 17.73s/it]"
     ]
    },
    {
     "name": "stdout",
     "output_type": "stream",
     "text": [
      "[303, 2195, 422, 1112, 1433, 116, 796, 602, 1756, 231]\n"
     ]
    },
    {
     "name": "stderr",
     "output_type": "stream",
     "text": [
      "INFO:root: \n",
      "Avg Training Stats after 38 global rounds:\n",
      "INFO:root:Train Accuracy: 0.00%\n",
      "INFO:root:Training Loss : 0.20504639737840705\n",
      "INFO:root:Test Accuracy: 48.53%\n",
      "INFO:root:Test Loss: 1.5208521777391433 \n",
      "\n",
      " 38%|███▊      | 38/100 [11:17<17:56, 17.36s/it]"
     ]
    },
    {
     "name": "stdout",
     "output_type": "stream",
     "text": [
      "[1756, 231, 267, 2430, 590, 1736, 15, 4600, 327, 1112]\n"
     ]
    },
    {
     "name": "stderr",
     "output_type": "stream",
     "text": [
      "INFO:root: \n",
      "Avg Training Stats after 39 global rounds:\n",
      "INFO:root:Train Accuracy: 0.00%\n",
      "INFO:root:Training Loss : 0.22266107394863752\n",
      "INFO:root:Test Accuracy: 39.83%\n",
      "INFO:root:Test Loss: 1.983406561911106 \n",
      "\n",
      " 39%|███▉      | 39/100 [11:38<18:40, 18.36s/it]"
     ]
    },
    {
     "name": "stdout",
     "output_type": "stream",
     "text": [
      "[2575, 422, 3195, 862, 231, 796, 2934, 123, 2430, 794]\n"
     ]
    },
    {
     "name": "stderr",
     "output_type": "stream",
     "text": [
      "INFO:root: \n",
      "Avg Training Stats after 40 global rounds:\n",
      "INFO:root:Train Accuracy: 0.00%\n",
      "INFO:root:Training Loss : 0.1857638943739358\n",
      "INFO:root:Test Accuracy: 38.78%\n",
      "INFO:root:Test Loss: 2.0206741805374624 \n",
      "\n",
      " 40%|████      | 40/100 [12:00<19:31, 19.53s/it]"
     ]
    },
    {
     "name": "stdout",
     "output_type": "stream",
     "text": [
      "[231, 1119, 1736, 278, 447, 1018, 286, 744, 690, 173]\n"
     ]
    },
    {
     "name": "stderr",
     "output_type": "stream",
     "text": [
      "INFO:root: \n",
      "Avg Training Stats after 41 global rounds:\n",
      "INFO:root:Train Accuracy: 0.00%\n",
      "INFO:root:Training Loss : 0.22739332844381047\n",
      "INFO:root:Test Accuracy: 47.89%\n",
      "INFO:root:Test Loss: 1.5724498802423477 \n",
      "\n",
      " 41%|████      | 41/100 [12:15<17:48, 18.10s/it]"
     ]
    },
    {
     "name": "stdout",
     "output_type": "stream",
     "text": [
      "[231, 1320, 1416, 2575, 2274, 862, 690, 602, 1012, 173]\n"
     ]
    },
    {
     "name": "stderr",
     "output_type": "stream",
     "text": [
      "INFO:root: \n",
      "Avg Training Stats after 42 global rounds:\n",
      "INFO:root:Train Accuracy: 0.00%\n",
      "INFO:root:Training Loss : 0.21029346228927306\n",
      "INFO:root:Test Accuracy: 46.26%\n",
      "INFO:root:Test Loss: 1.709611787199974 \n",
      "\n",
      " 42%|████▏     | 42/100 [12:35<18:03, 18.68s/it]"
     ]
    },
    {
     "name": "stdout",
     "output_type": "stream",
     "text": [
      "[1112, 1053, 3195, 2934, 2029, 201, 123, 2195, 1018, 173]\n"
     ]
    },
    {
     "name": "stderr",
     "output_type": "stream",
     "text": [
      "INFO:root: \n",
      "Avg Training Stats after 43 global rounds:\n",
      "INFO:root:Train Accuracy: 0.00%\n",
      "INFO:root:Training Loss : 0.26448770483777445\n",
      "INFO:root:Test Accuracy: 43.10%\n",
      "INFO:root:Test Loss: 2.173744111061096 \n",
      "\n",
      " 43%|████▎     | 43/100 [12:57<18:34, 19.55s/it]"
     ]
    },
    {
     "name": "stdout",
     "output_type": "stream",
     "text": [
      "[862, 1053, 422, 3195, 4600, 794, 1756, 173, 2029, 1018]\n"
     ]
    },
    {
     "name": "stderr",
     "output_type": "stream",
     "text": [
      "INFO:root: \n",
      "Avg Training Stats after 44 global rounds:\n",
      "INFO:root:Train Accuracy: 0.00%\n",
      "INFO:root:Training Loss : 0.2270903814886803\n",
      "INFO:root:Test Accuracy: 45.25%\n",
      "INFO:root:Test Loss: 2.02184408724308 \n",
      "\n",
      " 44%|████▍     | 44/100 [13:20<19:16, 20.65s/it]"
     ]
    },
    {
     "name": "stdout",
     "output_type": "stream",
     "text": [
      "[1320, 2934, 796, 2195, 862, 2575, 2029, 19, 422, 286]\n"
     ]
    },
    {
     "name": "stderr",
     "output_type": "stream",
     "text": [
      "INFO:root: \n",
      "Avg Training Stats after 45 global rounds:\n",
      "INFO:root:Train Accuracy: 0.00%\n",
      "INFO:root:Training Loss : 0.24233022640938767\n",
      "INFO:root:Test Accuracy: 48.39%\n",
      "INFO:root:Test Loss: 1.6441055817902088 \n",
      "\n",
      " 45%|████▌     | 45/100 [13:41<19:04, 20.81s/it]"
     ]
    },
    {
     "name": "stdout",
     "output_type": "stream",
     "text": [
      "[862, 744, 1416, 1112, 590, 542, 278, 690, 116, 1780]\n"
     ]
    },
    {
     "name": "stderr",
     "output_type": "stream",
     "text": [
      "INFO:root: \n",
      "Avg Training Stats after 46 global rounds:\n",
      "INFO:root:Train Accuracy: 0.00%\n",
      "INFO:root:Training Loss : 0.2689468895320895\n",
      "INFO:root:Test Accuracy: 41.38%\n",
      "INFO:root:Test Loss: 2.1386436355113982 \n",
      "\n",
      " 46%|████▌     | 46/100 [13:57<17:29, 19.44s/it]"
     ]
    },
    {
     "name": "stdout",
     "output_type": "stream",
     "text": [
      "[2575, 1112, 1320, 231, 3195, 1012, 862, 447, 2195, 201]\n"
     ]
    },
    {
     "name": "stderr",
     "output_type": "stream",
     "text": [
      "INFO:root: \n",
      "Avg Training Stats after 47 global rounds:\n",
      "INFO:root:Train Accuracy: 0.00%\n",
      "INFO:root:Training Loss : 0.14718671101413727\n",
      "INFO:root:Test Accuracy: 46.97%\n",
      "INFO:root:Test Loss: 1.6934641174972058 \n",
      "\n",
      " 47%|████▋     | 47/100 [14:19<17:40, 20.02s/it]"
     ]
    },
    {
     "name": "stdout",
     "output_type": "stream",
     "text": [
      "[1433, 542, 813, 231, 1119, 2029, 1012, 173, 2195, 1320]\n"
     ]
    },
    {
     "name": "stderr",
     "output_type": "stream",
     "text": [
      "INFO:root: \n",
      "Avg Training Stats after 48 global rounds:\n",
      "INFO:root:Train Accuracy: 0.00%\n",
      "INFO:root:Training Loss : 0.15011897243739955\n",
      "INFO:root:Test Accuracy: 51.08%\n",
      "INFO:root:Test Loss: 1.4427116273343563 \n",
      "\n",
      " 48%|████▊     | 48/100 [14:38<17:05, 19.71s/it]"
     ]
    },
    {
     "name": "stdout",
     "output_type": "stream",
     "text": [
      "[744, 2195, 209, 1780, 2575, 123, 327, 40, 1736, 690]\n"
     ]
    },
    {
     "name": "stderr",
     "output_type": "stream",
     "text": [
      "INFO:root: \n",
      "Avg Training Stats after 49 global rounds:\n",
      "INFO:root:Train Accuracy: 0.00%\n",
      "INFO:root:Training Loss : 0.2716887042465739\n",
      "INFO:root:Test Accuracy: 52.67%\n",
      "INFO:root:Test Loss: 1.414843672811985 \n",
      "\n",
      " 49%|████▉     | 49/100 [14:56<16:19, 19.20s/it]"
     ]
    },
    {
     "name": "stdout",
     "output_type": "stream",
     "text": [
      "[862, 690, 1433, 173, 3195, 2934, 116, 447, 231, 431]\n"
     ]
    },
    {
     "name": "stderr",
     "output_type": "stream",
     "text": [
      "INFO:root: \n",
      "Avg Training Stats after 50 global rounds:\n",
      "INFO:root:Train Accuracy: 0.00%\n",
      "INFO:root:Training Loss : 0.23500577010658033\n",
      "INFO:root:Test Accuracy: 47.61%\n",
      "INFO:root:Test Loss: 1.594058144390583 \n",
      "\n",
      " 50%|█████     | 50/100 [15:14<15:43, 18.87s/it]"
     ]
    },
    {
     "name": "stdout",
     "output_type": "stream",
     "text": [
      "[1320, 19, 3195, 87, 1756, 303, 813, 2575, 231, 231]\n"
     ]
    },
    {
     "name": "stderr",
     "output_type": "stream",
     "text": [
      "INFO:root: \n",
      "Avg Training Stats after 51 global rounds:\n",
      "INFO:root:Train Accuracy: 0.00%\n",
      "INFO:root:Training Loss : 0.11653809656806398\n",
      "INFO:root:Test Accuracy: 36.90%\n",
      "INFO:root:Test Loss: 2.684286221601069 \n",
      "\n",
      " 51%|█████     | 51/100 [15:32<15:11, 18.61s/it]"
     ]
    },
    {
     "name": "stdout",
     "output_type": "stream",
     "text": [
      "[40, 813, 1780, 2934, 15, 173, 278, 19, 1798, 267]\n"
     ]
    },
    {
     "name": "stderr",
     "output_type": "stream",
     "text": [
      "INFO:root: \n",
      "Avg Training Stats after 52 global rounds:\n",
      "INFO:root:Train Accuracy: 0.00%\n",
      "INFO:root:Training Loss : 0.3291502010600818\n",
      "INFO:root:Test Accuracy: 48.30%\n",
      "INFO:root:Test Loss: 1.6910043843090534 \n",
      "\n",
      " 52%|█████▏    | 52/100 [15:47<14:09, 17.70s/it]"
     ]
    },
    {
     "name": "stdout",
     "output_type": "stream",
     "text": [
      "[267, 231, 690, 173, 1780, 1053, 862, 590, 1433, 303]\n"
     ]
    },
    {
     "name": "stderr",
     "output_type": "stream",
     "text": [
      "INFO:root: \n",
      "Avg Training Stats after 53 global rounds:\n",
      "INFO:root:Train Accuracy: 0.00%\n",
      "INFO:root:Training Loss : 0.21310959779395153\n",
      "INFO:root:Test Accuracy: 58.66%\n",
      "INFO:root:Test Loss: 1.211903275847435 \n",
      "\n",
      " 53%|█████▎    | 53/100 [16:02<13:13, 16.88s/it]"
     ]
    },
    {
     "name": "stdout",
     "output_type": "stream",
     "text": [
      "[431, 3195, 201, 796, 2934, 15, 231, 1112, 1736, 267]\n"
     ]
    },
    {
     "name": "stderr",
     "output_type": "stream",
     "text": [
      "INFO:root: \n",
      "Avg Training Stats after 54 global rounds:\n",
      "INFO:root:Train Accuracy: 0.00%\n",
      "INFO:root:Training Loss : 0.1639725895011558\n",
      "INFO:root:Test Accuracy: 54.31%\n",
      "INFO:root:Test Loss: 1.331874314546585 \n",
      "\n",
      " 54%|█████▍    | 54/100 [16:20<13:13, 17.24s/it]"
     ]
    },
    {
     "name": "stdout",
     "output_type": "stream",
     "text": [
      "[40, 1320, 1416, 286, 2195, 1012, 201, 116, 1053, 542]\n"
     ]
    },
    {
     "name": "stderr",
     "output_type": "stream",
     "text": [
      "INFO:root: \n",
      "Avg Training Stats after 55 global rounds:\n",
      "INFO:root:Train Accuracy: 0.00%\n",
      "INFO:root:Training Loss : 0.22453946395031302\n",
      "INFO:root:Test Accuracy: 50.36%\n",
      "INFO:root:Test Loss: 1.5357271115481854 \n",
      "\n",
      " 55%|█████▌    | 55/100 [16:36<12:36, 16.80s/it]"
     ]
    },
    {
     "name": "stdout",
     "output_type": "stream",
     "text": [
      "[1798, 422, 231, 4600, 231, 2575, 1433, 106, 1320, 862]\n"
     ]
    },
    {
     "name": "stderr",
     "output_type": "stream",
     "text": [
      "INFO:root: \n",
      "Avg Training Stats after 56 global rounds:\n",
      "INFO:root:Train Accuracy: 0.00%\n",
      "INFO:root:Training Loss : 0.14505461516463705\n",
      "INFO:root:Test Accuracy: 57.07%\n",
      "INFO:root:Test Loss: 1.241146501749754 \n",
      "\n",
      " 56%|█████▌    | 56/100 [16:57<13:10, 17.97s/it]"
     ]
    },
    {
     "name": "stdout",
     "output_type": "stream",
     "text": [
      "[2274, 3195, 267, 2029, 590, 327, 2195, 278, 1756, 813]\n"
     ]
    },
    {
     "name": "stderr",
     "output_type": "stream",
     "text": [
      "INFO:root: \n",
      "Avg Training Stats after 57 global rounds:\n",
      "INFO:root:Train Accuracy: 0.00%\n",
      "INFO:root:Training Loss : 0.14964746191105333\n",
      "INFO:root:Test Accuracy: 47.25%\n",
      "INFO:root:Test Loss: 1.729738893955946 \n",
      "\n",
      " 57%|█████▋    | 57/100 [17:18<13:29, 18.83s/it]"
     ]
    },
    {
     "name": "stdout",
     "output_type": "stream",
     "text": [
      "[1798, 431, 123, 1320, 1416, 231, 2575, 2934, 19, 1756]\n"
     ]
    },
    {
     "name": "stderr",
     "output_type": "stream",
     "text": [
      "INFO:root: \n",
      "Avg Training Stats after 58 global rounds:\n",
      "INFO:root:Train Accuracy: 0.00%\n",
      "INFO:root:Training Loss : 0.1668165023398666\n",
      "INFO:root:Test Accuracy: 45.58%\n",
      "INFO:root:Test Loss: 1.914875222966075 \n",
      "\n",
      " 58%|█████▊    | 58/100 [17:38<13:24, 19.16s/it]"
     ]
    },
    {
     "name": "stdout",
     "output_type": "stream",
     "text": [
      "[1018, 267, 2274, 447, 2029, 690, 590, 303, 1119, 796]\n"
     ]
    },
    {
     "name": "stderr",
     "output_type": "stream",
     "text": [
      "INFO:root: \n",
      "Avg Training Stats after 59 global rounds:\n",
      "INFO:root:Train Accuracy: 0.00%\n",
      "INFO:root:Training Loss : 0.11285491990687893\n",
      "INFO:root:Test Accuracy: 56.77%\n",
      "INFO:root:Test Loss: 1.5343988133966924 \n",
      "\n",
      " 59%|█████▉    | 59/100 [17:55<12:38, 18.51s/it]"
     ]
    },
    {
     "name": "stdout",
     "output_type": "stream",
     "text": [
      "[106, 2430, 447, 1433, 1012, 3195, 1119, 1756, 862, 4600]\n"
     ]
    },
    {
     "name": "stderr",
     "output_type": "stream",
     "text": [
      "INFO:root: \n",
      "Avg Training Stats after 60 global rounds:\n",
      "INFO:root:Train Accuracy: 0.00%\n",
      "INFO:root:Training Loss : 0.0863765351010537\n",
      "INFO:root:Test Accuracy: 55.33%\n",
      "INFO:root:Test Loss: 1.648051112294197 \n",
      "\n",
      " 60%|██████    | 60/100 [18:18<13:21, 20.03s/it]"
     ]
    },
    {
     "name": "stdout",
     "output_type": "stream",
     "text": [
      "[1780, 1320, 286, 2029, 40, 796, 447, 15, 231, 744]\n"
     ]
    },
    {
     "name": "stderr",
     "output_type": "stream",
     "text": [
      "INFO:root: \n",
      "Avg Training Stats after 61 global rounds:\n",
      "INFO:root:Train Accuracy: 0.00%\n",
      "INFO:root:Training Loss : 0.251123355122234\n",
      "INFO:root:Test Accuracy: 48.96%\n",
      "INFO:root:Test Loss: 1.990376142039895 \n",
      "\n",
      " 61%|██████    | 61/100 [18:34<12:05, 18.61s/it]"
     ]
    },
    {
     "name": "stdout",
     "output_type": "stream",
     "text": [
      "[116, 15, 2029, 327, 19, 470, 422, 87, 1012, 303]\n"
     ]
    },
    {
     "name": "stderr",
     "output_type": "stream",
     "text": [
      "INFO:root: \n",
      "Avg Training Stats after 62 global rounds:\n",
      "INFO:root:Train Accuracy: 0.00%\n",
      "INFO:root:Training Loss : 0.35752921780781577\n",
      "INFO:root:Test Accuracy: 45.61%\n",
      "INFO:root:Test Loss: 1.9206537403166295 \n",
      "\n",
      " 62%|██████▏   | 62/100 [18:46<10:38, 16.80s/it]"
     ]
    },
    {
     "name": "stdout",
     "output_type": "stream",
     "text": [
      "[796, 2274, 862, 286, 813, 3195, 1112, 422, 1119, 327]\n"
     ]
    },
    {
     "name": "stderr",
     "output_type": "stream",
     "text": [
      "INFO:root: \n",
      "Avg Training Stats after 63 global rounds:\n",
      "INFO:root:Train Accuracy: 0.00%\n",
      "INFO:root:Training Loss : 0.1303782659854917\n",
      "INFO:root:Test Accuracy: 53.43%\n",
      "INFO:root:Test Loss: 1.4978796164691448 \n",
      "\n",
      " 63%|██████▎   | 63/100 [19:05<10:39, 17.29s/it]"
     ]
    },
    {
     "name": "stdout",
     "output_type": "stream",
     "text": [
      "[542, 1798, 690, 15, 267, 2575, 796, 590, 209, 470]\n"
     ]
    },
    {
     "name": "stderr",
     "output_type": "stream",
     "text": [
      "INFO:root: \n",
      "Avg Training Stats after 64 global rounds:\n",
      "INFO:root:Train Accuracy: 0.00%\n",
      "INFO:root:Training Loss : 0.13428025228358018\n",
      "INFO:root:Test Accuracy: 45.71%\n",
      "INFO:root:Test Loss: 1.7607203661091626 \n",
      "\n",
      " 64%|██████▍   | 64/100 [19:20<10:01, 16.71s/it]"
     ]
    },
    {
     "name": "stdout",
     "output_type": "stream",
     "text": [
      "[87, 267, 286, 1053, 303, 796, 40, 173, 19, 327]\n"
     ]
    },
    {
     "name": "stderr",
     "output_type": "stream",
     "text": [
      "INFO:root: \n",
      "Avg Training Stats after 65 global rounds:\n",
      "INFO:root:Train Accuracy: 0.00%\n",
      "INFO:root:Training Loss : 0.2533539127238084\n",
      "INFO:root:Test Accuracy: 53.90%\n",
      "INFO:root:Test Loss: 1.4315198571234942 \n",
      "\n",
      " 65%|██████▌   | 65/100 [19:31<08:50, 15.17s/it]"
     ]
    },
    {
     "name": "stdout",
     "output_type": "stream",
     "text": [
      "[813, 542, 106, 123, 4600, 40, 209, 2029, 1736, 2195]\n"
     ]
    },
    {
     "name": "stderr",
     "output_type": "stream",
     "text": [
      "INFO:root: \n",
      "Avg Training Stats after 66 global rounds:\n",
      "INFO:root:Train Accuracy: 0.00%\n",
      "INFO:root:Training Loss : 0.19090766077907304\n",
      "INFO:root:Test Accuracy: 59.04%\n",
      "INFO:root:Test Loss: 1.2454047390818597 \n",
      "\n",
      " 66%|██████▌   | 66/100 [19:51<09:18, 16.44s/it]"
     ]
    },
    {
     "name": "stdout",
     "output_type": "stream",
     "text": [
      "[1416, 1320, 201, 744, 2934, 447, 278, 2430, 1018, 2274]\n"
     ]
    },
    {
     "name": "stderr",
     "output_type": "stream",
     "text": [
      "INFO:root: \n",
      "Avg Training Stats after 67 global rounds:\n",
      "INFO:root:Train Accuracy: 0.00%\n",
      "INFO:root:Training Loss : 0.15176201053076843\n",
      "INFO:root:Test Accuracy: 54.21%\n",
      "INFO:root:Test Loss: 1.434535449743271 \n",
      "\n",
      " 67%|██████▋   | 67/100 [20:11<09:38, 17.52s/it]"
     ]
    },
    {
     "name": "stdout",
     "output_type": "stream",
     "text": [
      "[303, 1012, 470, 123, 106, 201, 87, 1736, 2934, 2575]\n"
     ]
    },
    {
     "name": "stderr",
     "output_type": "stream",
     "text": [
      "INFO:root: \n",
      "Avg Training Stats after 68 global rounds:\n",
      "INFO:root:Train Accuracy: 0.00%\n",
      "INFO:root:Training Loss : 0.11724670565853172\n",
      "INFO:root:Test Accuracy: 54.13%\n",
      "INFO:root:Test Loss: 1.5664175455272198 \n",
      "\n",
      " 68%|██████▊   | 68/100 [20:28<09:14, 17.32s/it]"
     ]
    },
    {
     "name": "stdout",
     "output_type": "stream",
     "text": [
      "[3195, 794, 690, 2029, 231, 1756, 1112, 1736, 201, 813]\n"
     ]
    },
    {
     "name": "stderr",
     "output_type": "stream",
     "text": [
      "INFO:root: \n",
      "Avg Training Stats after 69 global rounds:\n",
      "INFO:root:Train Accuracy: 0.00%\n",
      "INFO:root:Training Loss : 0.09187762081958062\n",
      "INFO:root:Test Accuracy: 52.41%\n",
      "INFO:root:Test Loss: 1.6841495549678802 \n",
      "\n",
      " 69%|██████▉   | 69/100 [20:48<09:21, 18.13s/it]"
     ]
    },
    {
     "name": "stdout",
     "output_type": "stream",
     "text": [
      "[106, 40, 278, 422, 470, 2029, 2934, 744, 2274, 327]\n"
     ]
    },
    {
     "name": "stderr",
     "output_type": "stream",
     "text": [
      "INFO:root: \n",
      "Avg Training Stats after 70 global rounds:\n",
      "INFO:root:Train Accuracy: 0.00%\n",
      "INFO:root:Training Loss : 0.14401704081214828\n",
      "INFO:root:Test Accuracy: 56.38%\n",
      "INFO:root:Test Loss: 1.520798650532961 \n",
      "\n",
      " 70%|███████   | 70/100 [21:05<08:54, 17.81s/it]"
     ]
    },
    {
     "name": "stdout",
     "output_type": "stream",
     "text": [
      "[3195, 267, 303, 173, 286, 2029, 422, 1012, 796, 106]\n"
     ]
    },
    {
     "name": "stderr",
     "output_type": "stream",
     "text": [
      "INFO:root: \n",
      "Avg Training Stats after 71 global rounds:\n",
      "INFO:root:Train Accuracy: 0.00%\n",
      "INFO:root:Training Loss : 0.13739987103772594\n",
      "INFO:root:Test Accuracy: 53.06%\n",
      "INFO:root:Test Loss: 1.6050415934622289 \n",
      "\n",
      " 71%|███████   | 71/100 [21:21<08:20, 17.27s/it]"
     ]
    },
    {
     "name": "stdout",
     "output_type": "stream",
     "text": [
      "[209, 40, 4600, 106, 123, 1012, 690, 542, 602, 2575]\n"
     ]
    },
    {
     "name": "stderr",
     "output_type": "stream",
     "text": [
      "INFO:root: \n",
      "Avg Training Stats after 72 global rounds:\n",
      "INFO:root:Train Accuracy: 0.00%\n",
      "INFO:root:Training Loss : 0.1414019443525517\n",
      "INFO:root:Test Accuracy: 53.35%\n",
      "INFO:root:Test Loss: 1.5999945998191833 \n",
      "\n",
      " 72%|███████▏  | 72/100 [21:39<08:09, 17.47s/it]"
     ]
    },
    {
     "name": "stdout",
     "output_type": "stream",
     "text": [
      "[1012, 2430, 2274, 209, 1798, 303, 1112, 231, 744, 278]\n"
     ]
    },
    {
     "name": "stderr",
     "output_type": "stream",
     "text": [
      "INFO:root: \n",
      "Avg Training Stats after 73 global rounds:\n",
      "INFO:root:Train Accuracy: 0.00%\n",
      "INFO:root:Training Loss : 0.11710102886702538\n",
      "INFO:root:Test Accuracy: 52.00%\n",
      "INFO:root:Test Loss: 1.739621070548892 \n",
      "\n",
      " 73%|███████▎  | 73/100 [21:56<07:53, 17.52s/it]"
     ]
    },
    {
     "name": "stdout",
     "output_type": "stream",
     "text": [
      "[447, 1320, 209, 327, 744, 1018, 231, 2430, 590, 602]\n"
     ]
    },
    {
     "name": "stderr",
     "output_type": "stream",
     "text": [
      "INFO:root: \n",
      "Avg Training Stats after 74 global rounds:\n",
      "INFO:root:Train Accuracy: 0.00%\n",
      "INFO:root:Training Loss : 0.16874449374106726\n",
      "INFO:root:Test Accuracy: 52.77%\n",
      "INFO:root:Test Loss: 1.691692167520523 \n",
      "\n",
      " 74%|███████▍  | 74/100 [22:12<07:18, 16.86s/it]"
     ]
    },
    {
     "name": "stdout",
     "output_type": "stream",
     "text": [
      "[470, 1053, 303, 1012, 106, 3195, 447, 1112, 201, 1433]\n"
     ]
    },
    {
     "name": "stderr",
     "output_type": "stream",
     "text": [
      "INFO:root: \n",
      "Avg Training Stats after 75 global rounds:\n",
      "INFO:root:Train Accuracy: 0.00%\n",
      "INFO:root:Training Loss : 0.08948053282865429\n",
      "INFO:root:Test Accuracy: 55.76%\n",
      "INFO:root:Test Loss: 1.4375810869038106 \n",
      "\n",
      " 75%|███████▌  | 75/100 [22:29<07:03, 16.93s/it]"
     ]
    },
    {
     "name": "stdout",
     "output_type": "stream",
     "text": [
      "[231, 1433, 431, 209, 1416, 1780, 116, 123, 422, 4600]\n"
     ]
    },
    {
     "name": "stderr",
     "output_type": "stream",
     "text": [
      "INFO:root: \n",
      "Avg Training Stats after 76 global rounds:\n",
      "INFO:root:Train Accuracy: 0.00%\n",
      "INFO:root:Training Loss : 0.23256922158127818\n",
      "INFO:root:Test Accuracy: 57.71%\n",
      "INFO:root:Test Loss: 1.3104191173613071 \n",
      "\n",
      " 76%|███████▌  | 76/100 [22:48<06:59, 17.50s/it]"
     ]
    },
    {
     "name": "stdout",
     "output_type": "stream",
     "text": [
      "[2575, 796, 1053, 267, 602, 1018, 201, 1756, 286, 2430]\n"
     ]
    },
    {
     "name": "stderr",
     "output_type": "stream",
     "text": [
      "INFO:root: \n",
      "Avg Training Stats after 77 global rounds:\n",
      "INFO:root:Train Accuracy: 0.00%\n",
      "INFO:root:Training Loss : 0.12672451064233242\n",
      "INFO:root:Test Accuracy: 57.59%\n",
      "INFO:root:Test Loss: 1.3507230131328105 \n",
      "\n",
      " 77%|███████▋  | 77/100 [23:06<06:46, 17.68s/it]"
     ]
    },
    {
     "name": "stdout",
     "output_type": "stream",
     "text": [
      "[15, 2029, 2274, 744, 1018, 1736, 2934, 19, 173, 447]\n"
     ]
    },
    {
     "name": "stderr",
     "output_type": "stream",
     "text": [
      "INFO:root: \n",
      "Avg Training Stats after 78 global rounds:\n",
      "INFO:root:Train Accuracy: 0.00%\n",
      "INFO:root:Training Loss : 0.1845405771645049\n",
      "INFO:root:Test Accuracy: 58.03%\n",
      "INFO:root:Test Loss: 1.4262739884853364 \n",
      "\n",
      " 78%|███████▊  | 78/100 [23:24<06:34, 17.94s/it]"
     ]
    },
    {
     "name": "stdout",
     "output_type": "stream",
     "text": [
      "[542, 602, 173, 201, 590, 690, 422, 2934, 1736, 744]\n"
     ]
    },
    {
     "name": "stderr",
     "output_type": "stream",
     "text": [
      "INFO:root: \n",
      "Avg Training Stats after 79 global rounds:\n",
      "INFO:root:Train Accuracy: 0.00%\n",
      "INFO:root:Training Loss : 0.17069037483175742\n",
      "INFO:root:Test Accuracy: 60.46%\n",
      "INFO:root:Test Loss: 1.341138400733471 \n",
      "\n",
      " 79%|███████▉  | 79/100 [23:40<06:04, 17.37s/it]"
     ]
    },
    {
     "name": "stdout",
     "output_type": "stream",
     "text": [
      "[201, 278, 40, 1112, 106, 690, 2029, 87, 796, 3195]\n"
     ]
    },
    {
     "name": "stderr",
     "output_type": "stream",
     "text": [
      "INFO:root: \n",
      "Avg Training Stats after 80 global rounds:\n",
      "INFO:root:Train Accuracy: 0.00%\n",
      "INFO:root:Training Loss : 0.08265316894770144\n",
      "INFO:root:Test Accuracy: 60.40%\n",
      "INFO:root:Test Loss: 1.2768572771549225 \n",
      "\n",
      " 80%|████████  | 80/100 [23:56<05:39, 16.95s/it]"
     ]
    },
    {
     "name": "stdout",
     "output_type": "stream",
     "text": [
      "[1798, 15, 201, 123, 1433, 542, 1119, 690, 602, 40]\n"
     ]
    },
    {
     "name": "stderr",
     "output_type": "stream",
     "text": [
      "INFO:root: \n",
      "Avg Training Stats after 81 global rounds:\n",
      "INFO:root:Train Accuracy: 0.00%\n",
      "INFO:root:Training Loss : 0.11576480219278548\n",
      "INFO:root:Test Accuracy: 56.70%\n",
      "INFO:root:Test Loss: 1.5607329657673836 \n",
      "\n",
      " 81%|████████  | 81/100 [24:10<05:05, 16.09s/it]"
     ]
    },
    {
     "name": "stdout",
     "output_type": "stream",
     "text": [
      "[267, 542, 209, 796, 87, 3195, 231, 303, 2934, 1119]\n"
     ]
    },
    {
     "name": "stderr",
     "output_type": "stream",
     "text": [
      "INFO:root: \n",
      "Avg Training Stats after 82 global rounds:\n",
      "INFO:root:Train Accuracy: 0.00%\n",
      "INFO:root:Training Loss : 0.10800962521446962\n",
      "INFO:root:Test Accuracy: 55.74%\n",
      "INFO:root:Test Loss: 1.589836882799864 \n",
      "\n",
      " 82%|████████▏ | 82/100 [24:27<04:54, 16.35s/it]"
     ]
    },
    {
     "name": "stdout",
     "output_type": "stream",
     "text": [
      "[690, 431, 422, 231, 4600, 2934, 2029, 327, 796, 590]\n"
     ]
    },
    {
     "name": "stderr",
     "output_type": "stream",
     "text": [
      "INFO:root: \n",
      "Avg Training Stats after 83 global rounds:\n",
      "INFO:root:Train Accuracy: 0.00%\n",
      "INFO:root:Training Loss : 0.12312126955928684\n",
      "INFO:root:Test Accuracy: 57.18%\n",
      "INFO:root:Test Loss: 1.5793956599757075 \n",
      "\n",
      " 83%|████████▎ | 83/100 [24:48<04:57, 17.50s/it]"
     ]
    },
    {
     "name": "stdout",
     "output_type": "stream",
     "text": [
      "[231, 1112, 87, 303, 690, 796, 2195, 813, 327, 1018]\n"
     ]
    },
    {
     "name": "stderr",
     "output_type": "stream",
     "text": [
      "INFO:root: \n",
      "Avg Training Stats after 84 global rounds:\n",
      "INFO:root:Train Accuracy: 0.00%\n",
      "INFO:root:Training Loss : 0.13228094399368845\n",
      "INFO:root:Test Accuracy: 50.50%\n",
      "INFO:root:Test Loss: 2.0495669694989918 \n",
      "\n",
      " 84%|████████▍ | 84/100 [25:03<04:27, 16.75s/it]"
     ]
    },
    {
     "name": "stdout",
     "output_type": "stream",
     "text": [
      "[602, 1018, 542, 106, 794, 447, 2029, 1433, 327, 690]\n"
     ]
    },
    {
     "name": "stderr",
     "output_type": "stream",
     "text": [
      "INFO:root: \n",
      "Avg Training Stats after 85 global rounds:\n",
      "INFO:root:Train Accuracy: 0.00%\n",
      "INFO:root:Training Loss : 0.13118170306234397\n",
      "INFO:root:Test Accuracy: 49.86%\n",
      "INFO:root:Test Loss: 2.0423203710466624 \n",
      "\n",
      " 85%|████████▌ | 85/100 [25:18<04:05, 16.36s/it]"
     ]
    },
    {
     "name": "stdout",
     "output_type": "stream",
     "text": [
      "[1433, 267, 447, 1012, 470, 201, 231, 15, 278, 1736]\n"
     ]
    },
    {
     "name": "stderr",
     "output_type": "stream",
     "text": [
      "INFO:root: \n",
      "Avg Training Stats after 86 global rounds:\n",
      "INFO:root:Train Accuracy: 0.00%\n",
      "INFO:root:Training Loss : 0.18647659121710403\n",
      "INFO:root:Test Accuracy: 52.30%\n",
      "INFO:root:Test Loss: 1.562434860020876 \n",
      "\n",
      " 86%|████████▌ | 86/100 [25:32<03:38, 15.60s/it]"
     ]
    },
    {
     "name": "stdout",
     "output_type": "stream",
     "text": [
      "[40, 1053, 231, 286, 106, 2274, 470, 1119, 447, 1416]\n"
     ]
    },
    {
     "name": "stderr",
     "output_type": "stream",
     "text": [
      "INFO:root: \n",
      "Avg Training Stats after 87 global rounds:\n",
      "INFO:root:Train Accuracy: 0.00%\n",
      "INFO:root:Training Loss : 0.12047523059613421\n",
      "INFO:root:Test Accuracy: 51.80%\n",
      "INFO:root:Test Loss: 1.6590627099573612 \n",
      "\n",
      " 87%|████████▋ | 87/100 [25:47<03:20, 15.40s/it]"
     ]
    },
    {
     "name": "stdout",
     "output_type": "stream",
     "text": [
      "[209, 2029, 231, 278, 1320, 862, 2195, 690, 1736, 106]\n"
     ]
    },
    {
     "name": "stderr",
     "output_type": "stream",
     "text": [
      "INFO:root: \n",
      "Avg Training Stats after 88 global rounds:\n",
      "INFO:root:Train Accuracy: 0.00%\n",
      "INFO:root:Training Loss : 0.12578162528509798\n",
      "INFO:root:Test Accuracy: 59.98%\n",
      "INFO:root:Test Loss: 1.2269388248026372 \n",
      "\n",
      " 88%|████████▊ | 88/100 [26:04<03:10, 15.88s/it]"
     ]
    },
    {
     "name": "stdout",
     "output_type": "stream",
     "text": [
      "[2430, 201, 2195, 2575, 123, 602, 116, 794, 4600, 690]\n"
     ]
    },
    {
     "name": "stderr",
     "output_type": "stream",
     "text": [
      "INFO:root: \n",
      "Avg Training Stats after 89 global rounds:\n",
      "INFO:root:Train Accuracy: 0.00%\n",
      "INFO:root:Training Loss : 0.14096171439908195\n",
      "INFO:root:Test Accuracy: 60.19%\n",
      "INFO:root:Test Loss: 1.3127989458292724 \n",
      "\n",
      " 89%|████████▉ | 89/100 [26:25<03:12, 17.46s/it]"
     ]
    },
    {
     "name": "stdout",
     "output_type": "stream",
     "text": [
      "[470, 303, 278, 87, 1119, 2274, 1780, 19, 4600, 602]\n"
     ]
    },
    {
     "name": "stderr",
     "output_type": "stream",
     "text": [
      "INFO:root: \n",
      "Avg Training Stats after 90 global rounds:\n",
      "INFO:root:Train Accuracy: 0.00%\n",
      "INFO:root:Training Loss : 0.12146443675337097\n",
      "INFO:root:Test Accuracy: 56.40%\n",
      "INFO:root:Test Loss: 1.6631840905547142 \n",
      "\n",
      " 90%|█████████ | 90/100 [26:44<02:58, 17.87s/it]"
     ]
    },
    {
     "name": "stdout",
     "output_type": "stream",
     "text": [
      "[2575, 602, 2029, 327, 209, 4600, 2274, 1756, 431, 1112]\n"
     ]
    },
    {
     "name": "stderr",
     "output_type": "stream",
     "text": [
      "INFO:root: \n",
      "Avg Training Stats after 91 global rounds:\n",
      "INFO:root:Train Accuracy: 0.00%\n",
      "INFO:root:Training Loss : 0.10827637620670641\n",
      "INFO:root:Test Accuracy: 50.02%\n",
      "INFO:root:Test Loss: 2.1186020912230017 \n",
      "\n",
      " 91%|█████████ | 91/100 [27:06<02:53, 19.30s/it]"
     ]
    },
    {
     "name": "stdout",
     "output_type": "stream",
     "text": [
      "[2195, 267, 813, 286, 3195, 470, 231, 278, 1012, 231]\n"
     ]
    },
    {
     "name": "stderr",
     "output_type": "stream",
     "text": [
      "INFO:root: \n",
      "Avg Training Stats after 92 global rounds:\n",
      "INFO:root:Train Accuracy: 0.00%\n",
      "INFO:root:Training Loss : 0.11950210306760681\n",
      "INFO:root:Test Accuracy: 63.22%\n",
      "INFO:root:Test Loss: 1.1728589591383933 \n",
      "\n",
      " 92%|█████████▏| 92/100 [27:23<02:27, 18.40s/it]"
     ]
    },
    {
     "name": "stdout",
     "output_type": "stream",
     "text": [
      "[1053, 2575, 303, 2430, 542, 116, 1756, 1433, 327, 15]\n"
     ]
    },
    {
     "name": "stderr",
     "output_type": "stream",
     "text": [
      "INFO:root: \n",
      "Avg Training Stats after 93 global rounds:\n",
      "INFO:root:Train Accuracy: 0.00%\n",
      "INFO:root:Training Loss : 0.14125194854529266\n",
      "INFO:root:Test Accuracy: 57.86%\n",
      "INFO:root:Test Loss: 1.3965607227385044 \n",
      "\n",
      " 93%|█████████▎| 93/100 [27:40<02:07, 18.19s/it]"
     ]
    },
    {
     "name": "stdout",
     "output_type": "stream",
     "text": [
      "[590, 4600, 201, 286, 303, 1736, 15, 1798, 744, 422]\n"
     ]
    },
    {
     "name": "stderr",
     "output_type": "stream",
     "text": [
      "INFO:root: \n",
      "Avg Training Stats after 94 global rounds:\n",
      "INFO:root:Train Accuracy: 0.00%\n",
      "INFO:root:Training Loss : 0.10734394920827392\n",
      "INFO:root:Test Accuracy: 59.76%\n",
      "INFO:root:Test Loss: 1.4391455712914467 \n",
      "\n",
      " 94%|█████████▍| 94/100 [27:58<01:48, 18.10s/it]"
     ]
    },
    {
     "name": "stdout",
     "output_type": "stream",
     "text": [
      "[123, 862, 542, 19, 794, 1112, 4600, 2934, 231, 15]\n"
     ]
    },
    {
     "name": "stderr",
     "output_type": "stream",
     "text": [
      "INFO:root: \n",
      "Avg Training Stats after 95 global rounds:\n",
      "INFO:root:Train Accuracy: 0.00%\n",
      "INFO:root:Training Loss : 0.13185898750346525\n",
      "INFO:root:Test Accuracy: 62.40%\n",
      "INFO:root:Test Loss: 1.4526259177923202 \n",
      "\n",
      " 95%|█████████▌| 95/100 [28:17<01:30, 18.15s/it]"
     ]
    },
    {
     "name": "stdout",
     "output_type": "stream",
     "text": [
      "[1053, 87, 2575, 4600, 542, 231, 1433, 1012, 2029, 862]\n"
     ]
    },
    {
     "name": "stderr",
     "output_type": "stream",
     "text": [
      "INFO:root: \n",
      "Avg Training Stats after 96 global rounds:\n",
      "INFO:root:Train Accuracy: 0.00%\n",
      "INFO:root:Training Loss : 0.09032183104924371\n",
      "INFO:root:Test Accuracy: 55.77%\n",
      "INFO:root:Test Loss: 1.7165988827683032 \n",
      "\n",
      " 96%|█████████▌| 96/100 [28:38<01:16, 19.13s/it]"
     ]
    },
    {
     "name": "stdout",
     "output_type": "stream",
     "text": [
      "[19, 602, 40, 690, 267, 231, 173, 2029, 1798, 3195]\n"
     ]
    },
    {
     "name": "stderr",
     "output_type": "stream",
     "text": [
      "INFO:root: \n",
      "Avg Training Stats after 97 global rounds:\n",
      "INFO:root:Train Accuracy: 0.00%\n",
      "INFO:root:Training Loss : 0.1644516560757429\n",
      "INFO:root:Test Accuracy: 55.97%\n",
      "INFO:root:Test Loss: 1.5630488728173078 \n",
      "\n",
      " 97%|█████████▋| 97/100 [28:54<00:54, 18.31s/it]"
     ]
    },
    {
     "name": "stdout",
     "output_type": "stream",
     "text": [
      "[209, 1012, 422, 40, 794, 4600, 116, 286, 303, 1756]\n"
     ]
    },
    {
     "name": "stderr",
     "output_type": "stream",
     "text": [
      "INFO:root: \n",
      "Avg Training Stats after 98 global rounds:\n",
      "INFO:root:Train Accuracy: 0.00%\n",
      "INFO:root:Training Loss : 0.10376204494127936\n",
      "INFO:root:Test Accuracy: 52.82%\n",
      "INFO:root:Test Loss: 1.738629070967436 \n",
      "\n",
      " 98%|█████████▊| 98/100 [29:11<00:35, 17.86s/it]"
     ]
    },
    {
     "name": "stdout",
     "output_type": "stream",
     "text": [
      "[2274, 1736, 173, 1416, 447, 19, 2195, 2029, 862, 744]\n"
     ]
    },
    {
     "name": "stderr",
     "output_type": "stream",
     "text": [
      "INFO:root: \n",
      "Avg Training Stats after 99 global rounds:\n",
      "INFO:root:Train Accuracy: 0.00%\n",
      "INFO:root:Training Loss : 0.20830736515370712\n",
      "INFO:root:Test Accuracy: 52.84%\n",
      "INFO:root:Test Loss: 1.7548049166798592 \n",
      "\n",
      " 99%|█████████▉| 99/100 [29:30<00:18, 18.17s/it]"
     ]
    },
    {
     "name": "stdout",
     "output_type": "stream",
     "text": [
      "[431, 1798, 1736, 744, 19, 278, 690, 590, 116, 40]\n"
     ]
    },
    {
     "name": "stderr",
     "output_type": "stream",
     "text": [
      "INFO:root: \n",
      "Avg Training Stats after 100 global rounds:\n",
      "INFO:root:Train Accuracy: 0.00%\n",
      "INFO:root:Training Loss : 0.14079770750810036\n",
      "INFO:root:Test Accuracy: 58.03%\n",
      "INFO:root:Test Loss: 1.5268926313519477 \n",
      "\n",
      "100%|██████████| 100/100 [29:44<00:00, 17.85s/it]\n",
      "INFO:root: \n",
      " Results after 100 global rounds of training:\n",
      "INFO:root:|---- Best Test Accuracy: 63.22% , round: 91\n"
     ]
    },
    {
     "name": "stdout",
     "output_type": "stream",
     "text": [
      " Saving checkpoints to ../save/checkpoint/ConvNet_1207/cifar10_ConvNet_none_T[100]_C[0.2]_iid[0]_E[5]_B[32]_GPU[0]_Pruned[0.0]...\n"
     ]
    }
   ],
   "source": [
    " args = easydict.EasyDict({\n",
    "    \"model\": 'ConvNet',\n",
    "    'dataset': 'cifar10',\n",
    "    'gpu': 0,\n",
    "    'iid': 0,\n",
    "    'epochs': 100,\n",
    "    'optimizer': 'sgd',\n",
    "    'seed': 0,\n",
    "    'norm': 'none',\n",
    "    'num_users': 50,\n",
    "    'frac': 0.2,\n",
    "    'local_ep': 5, \n",
    "    'local_bs': 32,\n",
    "    'lr': 0.01,\n",
    "    'momentum': 1,\n",
    "    'kernel_num': 9,\n",
    "    'kernel_sizes': 'only_momentum',\n",
    "    'num_channnels': '1',\n",
    "    'num_filters': 32,\n",
    "    'max_pool': 'True',\n",
    "    'num_classes': 10,\n",
    "    'unequal': 0,\n",
    "    'stopping_rounds': 0,\n",
    "    'verbose': 0,\n",
    "    'hold_normalize': 0,\n",
    "    'save_path': '../save/checkpoint',\n",
    "    'exp_folder': 'ConvNet_1207',\n",
    "    'resume': None,\n",
    "    'server_opt': 'sgdm',\n",
    "    'server_lr': 1.0,\n",
    "    'client_decay':0,\n",
    "    'local_decay':0,\n",
    "    'alpha': 0.05,\n",
    "    'server_epoch':0,\n",
    "    'cosine_norm':0, \n",
    "    'only_fc' :0 ,\n",
    "    'loss':'ce',\n",
    "    'dc_lr':0.0,\n",
    "    'tsne_pred':0,\n",
    "    'pruning': 0.0 })\n",
    "    \n",
    "    \n",
    "    \n",
    "temp = main_test(args)\n",
    "total.append(temp)"
   ]
  },
  {
   "cell_type": "code",
   "execution_count": 4,
   "id": "supported-classification",
   "metadata": {},
   "outputs": [
    {
     "name": "stderr",
     "output_type": "stream",
     "text": [
      "INFO:root:{'model': 'ConvNet', 'dataset': 'cifar10', 'gpu': 0, 'iid': 0, 'epochs': 100, 'optimizer': 'sgd', 'seed': 0, 'norm': 'none', 'num_users': 50, 'frac': 0.2, 'local_ep': 5, 'local_bs': 32, 'lr': 0.01, 'momentum': 1, 'kernel_num': 9, 'kernel_sizes': 'only_momentum', 'num_channnels': '1', 'num_filters': 32, 'max_pool': 'True', 'num_classes': 10, 'unequal': 0, 'stopping_rounds': 0, 'verbose': 0, 'hold_normalize': 0, 'save_path': '../save/checkpoint/ConvNet_1207', 'exp_folder': 'ConvNet_1207', 'resume': None, 'server_opt': 'sgd', 'server_lr': 1.0, 'client_decay': 0, 'local_decay': 0, 'alpha': 0.05, 'server_epoch': 0, 'cosine_norm': 0, 'only_fc': 0, 'loss': 'bsm', 'dc_lr': 0.0, 'tsne_pred': 0, 'pruning': 0.0}\n"
     ]
    },
    {
     "name": "stdout",
     "output_type": "stream",
     "text": [
      "Files already downloaded and verified\n",
      "Files already downloaded and verified\n",
      "Files already downloaded and verified\n"
     ]
    },
    {
     "name": "stderr",
     "output_type": "stream",
     "text": [
      "INFO:root:ConvNet(\n",
      "  (net_act): ReLU(inplace=True)\n",
      "  (net_pooling): MaxPool2d(kernel_size=2, stride=2, padding=0, dilation=1, ceil_mode=False)\n",
      "  (features): Sequential(\n",
      "    (0): Conv2d(3, 128, kernel_size=(3, 3), stride=(1, 1), padding=(1, 1))\n",
      "    (1): ReLU(inplace=True)\n",
      "    (2): MaxPool2d(kernel_size=2, stride=2, padding=0, dilation=1, ceil_mode=False)\n",
      "    (3): Conv2d(128, 128, kernel_size=(3, 3), stride=(1, 1), padding=(1, 1))\n",
      "    (4): ReLU(inplace=True)\n",
      "    (5): MaxPool2d(kernel_size=2, stride=2, padding=0, dilation=1, ceil_mode=False)\n",
      "    (6): Conv2d(128, 128, kernel_size=(3, 3), stride=(1, 1), padding=(1, 1))\n",
      "    (7): ReLU(inplace=True)\n",
      "    (8): MaxPool2d(kernel_size=2, stride=2, padding=0, dilation=1, ceil_mode=False)\n",
      "  )\n",
      "  (classifier): Linear(in_features=2048, out_features=10, bias=True)\n",
      ")\n",
      "INFO:root:None\n",
      "  0%|          | 0/100 [00:00<?, ?it/s]"
     ]
    },
    {
     "name": "stdout",
     "output_type": "stream",
     "text": [
      "----------------------------------------------------------------\n",
      "        Layer (type)               Output Shape         Param #\n",
      "================================================================\n",
      "            Conv2d-1          [-1, 128, 32, 32]           3,584\n",
      "              ReLU-2          [-1, 128, 32, 32]               0\n",
      "              ReLU-3          [-1, 128, 32, 32]               0\n",
      "         MaxPool2d-4          [-1, 128, 16, 16]               0\n",
      "         MaxPool2d-5          [-1, 128, 16, 16]               0\n",
      "            Conv2d-6          [-1, 128, 16, 16]         147,584\n",
      "              ReLU-7          [-1, 128, 16, 16]               0\n",
      "              ReLU-8          [-1, 128, 16, 16]               0\n",
      "         MaxPool2d-9            [-1, 128, 8, 8]               0\n",
      "        MaxPool2d-10            [-1, 128, 8, 8]               0\n",
      "           Conv2d-11            [-1, 128, 8, 8]         147,584\n",
      "             ReLU-12            [-1, 128, 8, 8]               0\n",
      "             ReLU-13            [-1, 128, 8, 8]               0\n",
      "        MaxPool2d-14            [-1, 128, 4, 4]               0\n",
      "        MaxPool2d-15            [-1, 128, 4, 4]               0\n",
      "           Linear-16                   [-1, 10]          20,490\n",
      "================================================================\n",
      "Total params: 319,242\n",
      "Trainable params: 319,242\n",
      "Non-trainable params: 0\n",
      "----------------------------------------------------------------\n",
      "Input size (MB): 0.01\n",
      "Forward/backward pass size (MB): 4.59\n",
      "Params size (MB): 1.22\n",
      "Estimated Total Size (MB): 5.82\n",
      "----------------------------------------------------------------\n",
      "[209, 1756, 422, 2575, 1018, 602, 2274, 447, 744, 1112, 123, 87, 1433, 1416, 40, 1119, 796, 794, 327, 470, 231, 813, 1320, 542, 690, 2195, 2934, 106, 1012, 15, 278, 1798, 303, 590, 2029, 201, 1053, 862, 231, 116, 4600, 19, 286, 1736, 2430, 431, 3195, 1780, 173, 267]\n",
      "[470, 2934, 201, 231, 2575, 744, 15, 123, 1119, 4600]\n"
     ]
    },
    {
     "name": "stderr",
     "output_type": "stream",
     "text": [
      "INFO:root: \n",
      "Avg Training Stats after 1 global rounds:\n",
      "INFO:root:Train Accuracy: 0.00%\n",
      "INFO:root:Training Loss : 0.2708574619777444\n",
      "INFO:root:Test Accuracy: 15.86%\n",
      "INFO:root:Test Loss: 2.293452444076538 \n",
      "\n",
      "  1%|          | 1/100 [00:20<33:52, 20.53s/it]"
     ]
    },
    {
     "name": "stdout",
     "output_type": "stream",
     "text": [
      "[231, 173, 2575, 1736, 2430, 123, 4600, 690, 1012, 447]\n"
     ]
    },
    {
     "name": "stderr",
     "output_type": "stream",
     "text": [
      "INFO:root: \n",
      "Avg Training Stats after 2 global rounds:\n",
      "INFO:root:Train Accuracy: 0.00%\n",
      "INFO:root:Training Loss : 0.48198037942650024\n",
      "INFO:root:Test Accuracy: 19.19%\n",
      "INFO:root:Test Loss: 2.2203032302856447 \n",
      "\n",
      "  2%|▏         | 2/100 [00:41<34:12, 20.94s/it]"
     ]
    },
    {
     "name": "stdout",
     "output_type": "stream",
     "text": [
      "[744, 2575, 1320, 470, 2430, 2274, 267, 690, 209, 303]\n"
     ]
    },
    {
     "name": "stderr",
     "output_type": "stream",
     "text": [
      "INFO:root: \n",
      "Avg Training Stats after 3 global rounds:\n",
      "INFO:root:Train Accuracy: 0.00%\n",
      "INFO:root:Training Loss : 0.37337699364308896\n",
      "INFO:root:Test Accuracy: 23.53%\n",
      "INFO:root:Test Loss: 2.165829584598541 \n",
      "\n",
      "  3%|▎         | 3/100 [01:00<32:06, 19.86s/it]"
     ]
    },
    {
     "name": "stdout",
     "output_type": "stream",
     "text": [
      "[173, 690, 542, 1012, 2195, 1780, 1053, 87, 2934, 1736]\n"
     ]
    },
    {
     "name": "stderr",
     "output_type": "stream",
     "text": [
      "INFO:root: \n",
      "Avg Training Stats after 4 global rounds:\n",
      "INFO:root:Train Accuracy: 0.00%\n",
      "INFO:root:Training Loss : 0.5412289358449613\n",
      "INFO:root:Test Accuracy: 23.52%\n",
      "INFO:root:Test Loss: 2.1022009897232055 \n",
      "\n",
      "  4%|▍         | 4/100 [01:19<31:23, 19.62s/it]"
     ]
    },
    {
     "name": "stdout",
     "output_type": "stream",
     "text": [
      "[2430, 2575, 1736, 123, 15, 1780, 1018, 231, 87, 794]\n"
     ]
    },
    {
     "name": "stderr",
     "output_type": "stream",
     "text": [
      "INFO:root: \n",
      "Avg Training Stats after 5 global rounds:\n",
      "INFO:root:Train Accuracy: 0.00%\n",
      "INFO:root:Training Loss : 0.3811520433160477\n",
      "INFO:root:Test Accuracy: 24.59%\n",
      "INFO:root:Test Loss: 2.0479932749271392 \n",
      "\n",
      "  5%|▌         | 5/100 [01:38<30:26, 19.23s/it]"
     ]
    },
    {
     "name": "stdout",
     "output_type": "stream",
     "text": [
      "[1119, 87, 590, 794, 813, 303, 1320, 690, 1018, 422]\n"
     ]
    },
    {
     "name": "stderr",
     "output_type": "stream",
     "text": [
      "INFO:root: \n",
      "Avg Training Stats after 6 global rounds:\n",
      "INFO:root:Train Accuracy: 0.00%\n",
      "INFO:root:Training Loss : 0.31612695679011177\n",
      "INFO:root:Test Accuracy: 27.98%\n",
      "INFO:root:Test Loss: 1.9916611671447755 \n",
      "\n",
      "  6%|▌         | 6/100 [01:52<27:42, 17.69s/it]"
     ]
    },
    {
     "name": "stdout",
     "output_type": "stream",
     "text": [
      "[2029, 1433, 303, 327, 744, 862, 2934, 231, 1416, 278]\n"
     ]
    },
    {
     "name": "stderr",
     "output_type": "stream",
     "text": [
      "INFO:root: \n",
      "Avg Training Stats after 7 global rounds:\n",
      "INFO:root:Train Accuracy: 0.00%\n",
      "INFO:root:Training Loss : 0.4167054647314566\n",
      "INFO:root:Test Accuracy: 29.34%\n",
      "INFO:root:Test Loss: 1.951702378988266 \n",
      "\n",
      "  7%|▋         | 7/100 [02:10<27:29, 17.74s/it]"
     ]
    },
    {
     "name": "stdout",
     "output_type": "stream",
     "text": [
      "[231, 1112, 327, 744, 286, 422, 15, 1798, 1053, 173]\n"
     ]
    },
    {
     "name": "stderr",
     "output_type": "stream",
     "text": [
      "INFO:root: \n",
      "Avg Training Stats after 8 global rounds:\n",
      "INFO:root:Train Accuracy: 0.00%\n",
      "INFO:root:Training Loss : 0.44889626299297125\n",
      "INFO:root:Test Accuracy: 31.53%\n",
      "INFO:root:Test Loss: 1.9118849563598632 \n",
      "\n",
      "  8%|▊         | 8/100 [02:24<25:18, 16.51s/it]"
     ]
    },
    {
     "name": "stdout",
     "output_type": "stream",
     "text": [
      "[794, 278, 744, 862, 303, 19, 2274, 1053, 813, 1012]\n"
     ]
    },
    {
     "name": "stderr",
     "output_type": "stream",
     "text": [
      "INFO:root: \n",
      "Avg Training Stats after 9 global rounds:\n",
      "INFO:root:Train Accuracy: 0.00%\n",
      "INFO:root:Training Loss : 0.2368164833684439\n",
      "INFO:root:Test Accuracy: 32.02%\n",
      "INFO:root:Test Loss: 1.896320024728775 \n",
      "\n",
      "  9%|▉         | 9/100 [02:40<24:53, 16.41s/it]"
     ]
    },
    {
     "name": "stdout",
     "output_type": "stream",
     "text": [
      "[1320, 40, 1756, 470, 327, 1012, 862, 1433, 796, 231]\n"
     ]
    },
    {
     "name": "stderr",
     "output_type": "stream",
     "text": [
      "INFO:root: \n",
      "Avg Training Stats after 10 global rounds:\n",
      "INFO:root:Train Accuracy: 0.00%\n",
      "INFO:root:Training Loss : 0.230030687792193\n",
      "INFO:root:Test Accuracy: 32.50%\n",
      "INFO:root:Test Loss: 1.8767970418930053 \n",
      "\n",
      " 10%|█         | 10/100 [02:56<24:31, 16.34s/it]"
     ]
    },
    {
     "name": "stdout",
     "output_type": "stream",
     "text": [
      "[87, 201, 1798, 813, 123, 2934, 1756, 231, 1053, 4600]\n"
     ]
    },
    {
     "name": "stderr",
     "output_type": "stream",
     "text": [
      "INFO:root: \n",
      "Avg Training Stats after 11 global rounds:\n",
      "INFO:root:Train Accuracy: 0.00%\n",
      "INFO:root:Training Loss : 0.30884456009007283\n",
      "INFO:root:Test Accuracy: 33.98%\n",
      "INFO:root:Test Loss: 1.8311300563812256 \n",
      "\n",
      " 11%|█         | 11/100 [03:17<26:09, 17.63s/it]"
     ]
    },
    {
     "name": "stdout",
     "output_type": "stream",
     "text": [
      "[106, 231, 447, 796, 209, 1798, 1112, 1416, 590, 794]\n"
     ]
    },
    {
     "name": "stderr",
     "output_type": "stream",
     "text": [
      "INFO:root: \n",
      "Avg Training Stats after 12 global rounds:\n",
      "INFO:root:Train Accuracy: 0.00%\n",
      "INFO:root:Training Loss : 0.21815416500285228\n",
      "INFO:root:Test Accuracy: 35.09%\n",
      "INFO:root:Test Loss: 1.8090844428539277 \n",
      "\n",
      " 12%|█▏        | 12/100 [03:32<24:40, 16.82s/it]"
     ]
    },
    {
     "name": "stdout",
     "output_type": "stream",
     "text": [
      "[1320, 278, 862, 2274, 1798, 87, 2029, 796, 1018, 2430]\n"
     ]
    },
    {
     "name": "stderr",
     "output_type": "stream",
     "text": [
      "INFO:root: \n",
      "Avg Training Stats after 13 global rounds:\n",
      "INFO:root:Train Accuracy: 0.00%\n",
      "INFO:root:Training Loss : 0.2740963109977841\n",
      "INFO:root:Test Accuracy: 35.77%\n",
      "INFO:root:Test Loss: 1.7769353199005127 \n",
      "\n",
      " 13%|█▎        | 13/100 [03:52<25:44, 17.75s/it]"
     ]
    },
    {
     "name": "stdout",
     "output_type": "stream",
     "text": [
      "[4600, 2575, 590, 173, 2430, 40, 1112, 87, 231, 2195]\n"
     ]
    },
    {
     "name": "stderr",
     "output_type": "stream",
     "text": [
      "INFO:root: \n",
      "Avg Training Stats after 14 global rounds:\n",
      "INFO:root:Train Accuracy: 0.00%\n",
      "INFO:root:Training Loss : 0.33154923224726174\n",
      "INFO:root:Test Accuracy: 37.37%\n",
      "INFO:root:Test Loss: 1.7490202915668487 \n",
      "\n",
      " 14%|█▍        | 14/100 [04:13<26:48, 18.70s/it]"
     ]
    },
    {
     "name": "stdout",
     "output_type": "stream",
     "text": [
      "[231, 794, 1018, 1012, 15, 303, 796, 2274, 1320, 19]\n"
     ]
    },
    {
     "name": "stderr",
     "output_type": "stream",
     "text": [
      "INFO:root: \n",
      "Avg Training Stats after 15 global rounds:\n",
      "INFO:root:Train Accuracy: 0.00%\n",
      "INFO:root:Training Loss : 0.21025360717776714\n",
      "INFO:root:Test Accuracy: 37.63%\n",
      "INFO:root:Test Loss: 1.7340754568576813 \n",
      "\n",
      " 15%|█▌        | 15/100 [04:28<24:57, 17.62s/it]"
     ]
    },
    {
     "name": "stdout",
     "output_type": "stream",
     "text": [
      "[2195, 40, 2029, 862, 2575, 1433, 447, 19, 4600, 796]\n"
     ]
    },
    {
     "name": "stderr",
     "output_type": "stream",
     "text": [
      "INFO:root: \n",
      "Avg Training Stats after 16 global rounds:\n",
      "INFO:root:Train Accuracy: 0.00%\n",
      "INFO:root:Training Loss : 0.23536463225522772\n",
      "INFO:root:Test Accuracy: 38.25%\n",
      "INFO:root:Test Loss: 1.7182599157094955 \n",
      "\n",
      " 16%|█▌        | 16/100 [04:50<26:31, 18.94s/it]"
     ]
    },
    {
     "name": "stdout",
     "output_type": "stream",
     "text": [
      "[231, 173, 303, 2274, 796, 116, 1798, 447, 106, 1433]\n"
     ]
    },
    {
     "name": "stderr",
     "output_type": "stream",
     "text": [
      "INFO:root: \n",
      "Avg Training Stats after 17 global rounds:\n",
      "INFO:root:Train Accuracy: 0.00%\n",
      "INFO:root:Training Loss : 0.22655375188052615\n",
      "INFO:root:Test Accuracy: 38.27%\n",
      "INFO:root:Test Loss: 1.7030319380760193 \n",
      "\n",
      " 17%|█▋        | 17/100 [05:05<24:38, 17.81s/it]"
     ]
    },
    {
     "name": "stdout",
     "output_type": "stream",
     "text": [
      "[201, 1756, 796, 1320, 813, 542, 116, 173, 794, 1798]\n"
     ]
    },
    {
     "name": "stderr",
     "output_type": "stream",
     "text": [
      "INFO:root: \n",
      "Avg Training Stats after 18 global rounds:\n",
      "INFO:root:Train Accuracy: 0.00%\n",
      "INFO:root:Training Loss : 0.30712164499944966\n",
      "INFO:root:Test Accuracy: 37.80%\n",
      "INFO:root:Test Loss: 1.6892332601547242 \n",
      "\n",
      " 18%|█▊        | 18/100 [05:21<23:29, 17.19s/it]"
     ]
    },
    {
     "name": "stdout",
     "output_type": "stream",
     "text": [
      "[15, 1780, 19, 744, 2575, 173, 813, 40, 1320, 422]\n"
     ]
    },
    {
     "name": "stderr",
     "output_type": "stream",
     "text": [
      "INFO:root: \n",
      "Avg Training Stats after 19 global rounds:\n",
      "INFO:root:Train Accuracy: 0.00%\n",
      "INFO:root:Training Loss : 0.29445071114832233\n",
      "INFO:root:Test Accuracy: 38.47%\n",
      "INFO:root:Test Loss: 1.6777479434013367 \n",
      "\n",
      " 19%|█▉        | 19/100 [05:36<22:25, 16.61s/it]"
     ]
    },
    {
     "name": "stdout",
     "output_type": "stream",
     "text": [
      "[813, 1736, 15, 1433, 267, 470, 3195, 744, 2575, 231]\n"
     ]
    },
    {
     "name": "stderr",
     "output_type": "stream",
     "text": [
      "INFO:root: \n",
      "Avg Training Stats after 20 global rounds:\n",
      "INFO:root:Train Accuracy: 0.00%\n",
      "INFO:root:Training Loss : 0.20099271055108497\n",
      "INFO:root:Test Accuracy: 39.81%\n",
      "INFO:root:Test Loss: 1.6591340267658234 \n",
      "\n",
      " 20%|██        | 20/100 [05:55<22:57, 17.21s/it]"
     ]
    },
    {
     "name": "stdout",
     "output_type": "stream",
     "text": [
      "[278, 744, 1053, 447, 1320, 116, 1798, 19, 4600, 3195]\n"
     ]
    },
    {
     "name": "stderr",
     "output_type": "stream",
     "text": [
      "INFO:root: \n",
      "Avg Training Stats after 21 global rounds:\n",
      "INFO:root:Train Accuracy: 0.00%\n",
      "INFO:root:Training Loss : 0.3376605692433029\n",
      "INFO:root:Test Accuracy: 40.43%\n",
      "INFO:root:Test Loss: 1.6341513562202454 \n",
      "\n",
      " 21%|██        | 21/100 [06:15<23:57, 18.19s/it]"
     ]
    },
    {
     "name": "stdout",
     "output_type": "stream",
     "text": [
      "[813, 2029, 602, 590, 1756, 106, 1780, 40, 19, 2934]\n"
     ]
    },
    {
     "name": "stderr",
     "output_type": "stream",
     "text": [
      "INFO:root: \n",
      "Avg Training Stats after 22 global rounds:\n",
      "INFO:root:Train Accuracy: 0.00%\n",
      "INFO:root:Training Loss : 0.16251015596101023\n",
      "INFO:root:Test Accuracy: 40.18%\n",
      "INFO:root:Test Loss: 1.6317755734920503 \n",
      "\n",
      " 22%|██▏       | 22/100 [06:33<23:28, 18.05s/it]"
     ]
    },
    {
     "name": "stdout",
     "output_type": "stream",
     "text": [
      "[40, 862, 327, 1780, 2274, 106, 1053, 1112, 1012, 3195]\n"
     ]
    },
    {
     "name": "stderr",
     "output_type": "stream",
     "text": [
      "INFO:root: \n",
      "Avg Training Stats after 23 global rounds:\n",
      "INFO:root:Train Accuracy: 0.00%\n",
      "INFO:root:Training Loss : 0.2637171309623196\n",
      "INFO:root:Test Accuracy: 40.73%\n",
      "INFO:root:Test Loss: 1.6215462964773177 \n",
      "\n",
      " 23%|██▎       | 23/100 [06:52<23:32, 18.34s/it]"
     ]
    },
    {
     "name": "stdout",
     "output_type": "stream",
     "text": [
      "[1320, 1119, 862, 744, 1053, 87, 201, 470, 2274, 1012]\n"
     ]
    },
    {
     "name": "stderr",
     "output_type": "stream",
     "text": [
      "INFO:root: \n",
      "Avg Training Stats after 24 global rounds:\n",
      "INFO:root:Train Accuracy: 0.00%\n",
      "INFO:root:Training Loss : 0.25218292583705293\n",
      "INFO:root:Test Accuracy: 40.95%\n",
      "INFO:root:Test Loss: 1.6120948415994645 \n",
      "\n",
      " 24%|██▍       | 24/100 [07:09<22:43, 17.95s/it]"
     ]
    },
    {
     "name": "stdout",
     "output_type": "stream",
     "text": [
      "[447, 286, 1416, 87, 796, 1798, 231, 1119, 431, 2195]\n"
     ]
    },
    {
     "name": "stderr",
     "output_type": "stream",
     "text": [
      "INFO:root: \n",
      "Avg Training Stats after 25 global rounds:\n",
      "INFO:root:Train Accuracy: 0.00%\n",
      "INFO:root:Training Loss : 0.316503155832601\n",
      "INFO:root:Test Accuracy: 40.97%\n",
      "INFO:root:Test Loss: 1.5982340252399445 \n",
      "\n",
      " 25%|██▌       | 25/100 [07:25<21:53, 17.51s/it]"
     ]
    },
    {
     "name": "stdout",
     "output_type": "stream",
     "text": [
      "[116, 2029, 690, 1416, 1780, 602, 2575, 1756, 431, 87]\n"
     ]
    },
    {
     "name": "stderr",
     "output_type": "stream",
     "text": [
      "INFO:root: \n",
      "Avg Training Stats after 26 global rounds:\n",
      "INFO:root:Train Accuracy: 0.00%\n",
      "INFO:root:Training Loss : 0.37017566583862493\n",
      "INFO:root:Test Accuracy: 41.48%\n",
      "INFO:root:Test Loss: 1.5870518040657045 \n",
      "\n",
      " 26%|██▌       | 26/100 [07:44<21:59, 17.83s/it]"
     ]
    },
    {
     "name": "stdout",
     "output_type": "stream",
     "text": [
      "[87, 173, 2029, 19, 4600, 2195, 116, 303, 40, 209]\n"
     ]
    },
    {
     "name": "stderr",
     "output_type": "stream",
     "text": [
      "INFO:root: \n",
      "Avg Training Stats after 27 global rounds:\n",
      "INFO:root:Train Accuracy: 0.00%\n",
      "INFO:root:Training Loss : 0.35279046147092263\n",
      "INFO:root:Test Accuracy: 42.22%\n",
      "INFO:root:Test Loss: 1.5763036334514617 \n",
      "\n",
      " 27%|██▋       | 27/100 [08:01<21:25, 17.61s/it]"
     ]
    },
    {
     "name": "stdout",
     "output_type": "stream",
     "text": [
      "[4600, 267, 794, 231, 201, 231, 2934, 590, 470, 173]\n"
     ]
    },
    {
     "name": "stderr",
     "output_type": "stream",
     "text": [
      "INFO:root: \n",
      "Avg Training Stats after 28 global rounds:\n",
      "INFO:root:Train Accuracy: 0.00%\n",
      "INFO:root:Training Loss : 0.3125129236077747\n",
      "INFO:root:Test Accuracy: 42.77%\n",
      "INFO:root:Test Loss: 1.5559026569128036 \n",
      "\n",
      " 28%|██▊       | 28/100 [08:20<21:26, 17.87s/it]"
     ]
    },
    {
     "name": "stdout",
     "output_type": "stream",
     "text": [
      "[1798, 286, 123, 1112, 303, 796, 744, 1320, 231, 794]\n"
     ]
    },
    {
     "name": "stderr",
     "output_type": "stream",
     "text": [
      "INFO:root: \n",
      "Avg Training Stats after 29 global rounds:\n",
      "INFO:root:Train Accuracy: 0.00%\n",
      "INFO:root:Training Loss : 0.1378709193724206\n",
      "INFO:root:Test Accuracy: 42.85%\n",
      "INFO:root:Test Loss: 1.556733985543251 \n",
      "\n",
      " 29%|██▉       | 29/100 [08:35<20:22, 17.22s/it]"
     ]
    },
    {
     "name": "stdout",
     "output_type": "stream",
     "text": [
      "[303, 4600, 1119, 447, 744, 40, 1756, 2430, 2029, 602]\n"
     ]
    },
    {
     "name": "stderr",
     "output_type": "stream",
     "text": [
      "INFO:root: \n",
      "Avg Training Stats after 30 global rounds:\n",
      "INFO:root:Train Accuracy: 0.00%\n",
      "INFO:root:Training Loss : 0.16841377802298785\n",
      "INFO:root:Test Accuracy: 43.18%\n",
      "INFO:root:Test Loss: 1.543394637107849 \n",
      "\n",
      " 30%|███       | 30/100 [08:57<21:48, 18.70s/it]"
     ]
    },
    {
     "name": "stdout",
     "output_type": "stream",
     "text": [
      "[422, 3195, 1112, 327, 123, 1736, 303, 286, 106, 1433]\n"
     ]
    },
    {
     "name": "stderr",
     "output_type": "stream",
     "text": [
      "INFO:root: \n",
      "Avg Training Stats after 31 global rounds:\n",
      "INFO:root:Train Accuracy: 0.00%\n",
      "INFO:root:Training Loss : 0.20968148796778313\n",
      "INFO:root:Test Accuracy: 43.44%\n",
      "INFO:root:Test Loss: 1.5375027227401734 \n",
      "\n",
      " 31%|███       | 31/100 [09:14<20:52, 18.16s/it]"
     ]
    },
    {
     "name": "stdout",
     "output_type": "stream",
     "text": [
      "[862, 173, 422, 303, 123, 1012, 542, 278, 431, 2195]\n"
     ]
    },
    {
     "name": "stderr",
     "output_type": "stream",
     "text": [
      "INFO:root: \n",
      "Avg Training Stats after 32 global rounds:\n",
      "INFO:root:Train Accuracy: 0.00%\n",
      "INFO:root:Training Loss : 0.35702390426957803\n",
      "INFO:root:Test Accuracy: 43.71%\n",
      "INFO:root:Test Loss: 1.529352042078972 \n",
      "\n",
      " 32%|███▏      | 32/100 [09:29<19:15, 16.99s/it]"
     ]
    },
    {
     "name": "stdout",
     "output_type": "stream",
     "text": [
      "[1320, 15, 19, 1756, 231, 470, 267, 87, 862, 327]\n"
     ]
    },
    {
     "name": "stderr",
     "output_type": "stream",
     "text": [
      "INFO:root: \n",
      "Avg Training Stats after 33 global rounds:\n",
      "INFO:root:Train Accuracy: 0.00%\n",
      "INFO:root:Training Loss : 0.3121756791153501\n",
      "INFO:root:Test Accuracy: 44.58%\n",
      "INFO:root:Test Loss: 1.5233790397644043 \n",
      "\n",
      " 33%|███▎      | 33/100 [09:42<17:47, 15.93s/it]"
     ]
    },
    {
     "name": "stdout",
     "output_type": "stream",
     "text": [
      "[87, 267, 796, 1053, 1433, 2575, 1119, 794, 15, 327]\n"
     ]
    },
    {
     "name": "stderr",
     "output_type": "stream",
     "text": [
      "INFO:root: \n",
      "Avg Training Stats after 34 global rounds:\n",
      "INFO:root:Train Accuracy: 0.00%\n",
      "INFO:root:Training Loss : 0.24879317756214564\n",
      "INFO:root:Test Accuracy: 44.64%\n",
      "INFO:root:Test Loss: 1.516903165578842 \n",
      "\n",
      " 34%|███▍      | 34/100 [09:58<17:36, 16.01s/it]"
     ]
    },
    {
     "name": "stdout",
     "output_type": "stream",
     "text": [
      "[422, 1798, 590, 796, 19, 1320, 173, 1416, 1053, 4600]\n"
     ]
    },
    {
     "name": "stderr",
     "output_type": "stream",
     "text": [
      "INFO:root: \n",
      "Avg Training Stats after 35 global rounds:\n",
      "INFO:root:Train Accuracy: 0.00%\n",
      "INFO:root:Training Loss : 0.3360206661532337\n",
      "INFO:root:Test Accuracy: 44.82%\n",
      "INFO:root:Test Loss: 1.5060758525133133 \n",
      "\n",
      " 35%|███▌      | 35/100 [10:18<18:40, 17.24s/it]"
     ]
    },
    {
     "name": "stdout",
     "output_type": "stream",
     "text": [
      "[2430, 1320, 602, 3195, 231, 2934, 431, 794, 1416, 542]\n"
     ]
    },
    {
     "name": "stderr",
     "output_type": "stream",
     "text": [
      "INFO:root: \n",
      "Avg Training Stats after 36 global rounds:\n",
      "INFO:root:Train Accuracy: 0.00%\n",
      "INFO:root:Training Loss : 0.25664331175818456\n",
      "INFO:root:Test Accuracy: 45.46%\n",
      "INFO:root:Test Loss: 1.4898521614074707 \n",
      "\n",
      " 36%|███▌      | 36/100 [10:40<19:44, 18.50s/it]"
     ]
    },
    {
     "name": "stdout",
     "output_type": "stream",
     "text": [
      "[15, 813, 1112, 123, 40, 796, 2274, 1018, 2195, 201]\n"
     ]
    },
    {
     "name": "stderr",
     "output_type": "stream",
     "text": [
      "INFO:root: \n",
      "Avg Training Stats after 37 global rounds:\n",
      "INFO:root:Train Accuracy: 0.00%\n",
      "INFO:root:Training Loss : 0.1848521690211097\n",
      "INFO:root:Test Accuracy: 45.99%\n",
      "INFO:root:Test Loss: 1.4859831941127777 \n",
      "\n",
      " 37%|███▋      | 37/100 [10:57<18:53, 17.99s/it]"
     ]
    },
    {
     "name": "stdout",
     "output_type": "stream",
     "text": [
      "[303, 2195, 422, 1112, 1433, 116, 796, 602, 1756, 231]\n"
     ]
    },
    {
     "name": "stderr",
     "output_type": "stream",
     "text": [
      "INFO:root: \n",
      "Avg Training Stats after 38 global rounds:\n",
      "INFO:root:Train Accuracy: 0.00%\n",
      "INFO:root:Training Loss : 0.2690368296478323\n",
      "INFO:root:Test Accuracy: 45.68%\n",
      "INFO:root:Test Loss: 1.4865816110372543 \n",
      "\n",
      " 38%|███▊      | 38/100 [11:14<18:20, 17.75s/it]"
     ]
    },
    {
     "name": "stdout",
     "output_type": "stream",
     "text": [
      "[1756, 231, 267, 2430, 590, 1736, 15, 4600, 327, 1112]\n"
     ]
    },
    {
     "name": "stderr",
     "output_type": "stream",
     "text": [
      "INFO:root: \n",
      "Avg Training Stats after 39 global rounds:\n",
      "INFO:root:Train Accuracy: 0.00%\n",
      "INFO:root:Training Loss : 0.23704884316181438\n",
      "INFO:root:Test Accuracy: 46.37%\n",
      "INFO:root:Test Loss: 1.4763618052005767 \n",
      "\n",
      " 39%|███▉      | 39/100 [11:35<19:06, 18.79s/it]"
     ]
    },
    {
     "name": "stdout",
     "output_type": "stream",
     "text": [
      "[2575, 422, 3195, 862, 231, 796, 2934, 123, 2430, 794]\n"
     ]
    },
    {
     "name": "stderr",
     "output_type": "stream",
     "text": [
      "INFO:root: \n",
      "Avg Training Stats after 40 global rounds:\n",
      "INFO:root:Train Accuracy: 0.00%\n",
      "INFO:root:Training Loss : 0.23267995851887885\n",
      "INFO:root:Test Accuracy: 46.13%\n",
      "INFO:root:Test Loss: 1.4782191377878189 \n",
      "\n",
      " 40%|████      | 40/100 [11:57<19:45, 19.76s/it]"
     ]
    },
    {
     "name": "stdout",
     "output_type": "stream",
     "text": [
      "[231, 1119, 1736, 278, 447, 1018, 286, 744, 690, 173]\n"
     ]
    },
    {
     "name": "stderr",
     "output_type": "stream",
     "text": [
      "INFO:root: \n",
      "Avg Training Stats after 41 global rounds:\n",
      "INFO:root:Train Accuracy: 0.00%\n",
      "INFO:root:Training Loss : 0.27834036596561607\n",
      "INFO:root:Test Accuracy: 46.05%\n",
      "INFO:root:Test Loss: 1.4701770955324174 \n",
      "\n",
      " 41%|████      | 41/100 [12:12<18:03, 18.37s/it]"
     ]
    },
    {
     "name": "stdout",
     "output_type": "stream",
     "text": [
      "[231, 1320, 1416, 2575, 2274, 862, 690, 602, 1012, 173]\n"
     ]
    },
    {
     "name": "stderr",
     "output_type": "stream",
     "text": [
      "INFO:root: \n",
      "Avg Training Stats after 42 global rounds:\n",
      "INFO:root:Train Accuracy: 0.00%\n",
      "INFO:root:Training Loss : 0.2756889542413035\n",
      "INFO:root:Test Accuracy: 46.54%\n",
      "INFO:root:Test Loss: 1.4681066989898681 \n",
      "\n",
      " 42%|████▏     | 42/100 [12:31<18:02, 18.67s/it]"
     ]
    },
    {
     "name": "stdout",
     "output_type": "stream",
     "text": [
      "[1112, 1053, 3195, 2934, 2029, 201, 123, 2195, 1018, 173]\n"
     ]
    },
    {
     "name": "stderr",
     "output_type": "stream",
     "text": [
      "INFO:root: \n",
      "Avg Training Stats after 43 global rounds:\n",
      "INFO:root:Train Accuracy: 0.00%\n",
      "INFO:root:Training Loss : 0.3147316903851175\n",
      "INFO:root:Test Accuracy: 47.13%\n",
      "INFO:root:Test Loss: 1.4579417771100998 \n",
      "\n",
      " 43%|████▎     | 43/100 [12:53<18:30, 19.49s/it]"
     ]
    },
    {
     "name": "stdout",
     "output_type": "stream",
     "text": [
      "[862, 1053, 422, 3195, 4600, 794, 1756, 173, 2029, 1018]\n"
     ]
    },
    {
     "name": "stderr",
     "output_type": "stream",
     "text": [
      "INFO:root: \n",
      "Avg Training Stats after 44 global rounds:\n",
      "INFO:root:Train Accuracy: 0.00%\n",
      "INFO:root:Training Loss : 0.3266068077336114\n",
      "INFO:root:Test Accuracy: 48.06%\n",
      "INFO:root:Test Loss: 1.440787410736084 \n",
      "\n",
      " 44%|████▍     | 44/100 [13:16<19:07, 20.49s/it]"
     ]
    },
    {
     "name": "stdout",
     "output_type": "stream",
     "text": [
      "[1320, 2934, 796, 2195, 862, 2575, 2029, 19, 422, 286]\n"
     ]
    },
    {
     "name": "stderr",
     "output_type": "stream",
     "text": [
      "INFO:root: \n",
      "Avg Training Stats after 45 global rounds:\n",
      "INFO:root:Train Accuracy: 0.00%\n",
      "INFO:root:Training Loss : 0.22442666540825687\n",
      "INFO:root:Test Accuracy: 48.07%\n",
      "INFO:root:Test Loss: 1.441835302710533 \n",
      "\n",
      " 45%|████▌     | 45/100 [13:36<18:47, 20.51s/it]"
     ]
    },
    {
     "name": "stdout",
     "output_type": "stream",
     "text": [
      "[862, 744, 1416, 1112, 590, 542, 278, 690, 116, 1780]\n"
     ]
    },
    {
     "name": "stderr",
     "output_type": "stream",
     "text": [
      "INFO:root: \n",
      "Avg Training Stats after 46 global rounds:\n",
      "INFO:root:Train Accuracy: 0.00%\n",
      "INFO:root:Training Loss : 0.37010447875108554\n",
      "INFO:root:Test Accuracy: 48.41%\n",
      "INFO:root:Test Loss: 1.435786440372467 \n",
      "\n",
      " 46%|████▌     | 46/100 [13:52<17:10, 19.08s/it]"
     ]
    },
    {
     "name": "stdout",
     "output_type": "stream",
     "text": [
      "[2575, 1112, 1320, 231, 3195, 1012, 862, 447, 2195, 201]\n"
     ]
    },
    {
     "name": "stderr",
     "output_type": "stream",
     "text": [
      "INFO:root: \n",
      "Avg Training Stats after 47 global rounds:\n",
      "INFO:root:Train Accuracy: 0.00%\n",
      "INFO:root:Training Loss : 0.17460984341642577\n",
      "INFO:root:Test Accuracy: 49.09%\n",
      "INFO:root:Test Loss: 1.4269996201992035 \n",
      "\n",
      " 47%|████▋     | 47/100 [14:12<17:10, 19.45s/it]"
     ]
    },
    {
     "name": "stdout",
     "output_type": "stream",
     "text": [
      "[1433, 542, 813, 231, 1119, 2029, 1012, 173, 2195, 1320]\n"
     ]
    },
    {
     "name": "stderr",
     "output_type": "stream",
     "text": [
      "INFO:root: \n",
      "Avg Training Stats after 48 global rounds:\n",
      "INFO:root:Train Accuracy: 0.00%\n",
      "INFO:root:Training Loss : 0.19523806389613202\n",
      "INFO:root:Test Accuracy: 48.53%\n",
      "INFO:root:Test Loss: 1.433425901532173 \n",
      "\n",
      " 48%|████▊     | 48/100 [14:30<16:31, 19.06s/it]"
     ]
    },
    {
     "name": "stdout",
     "output_type": "stream",
     "text": [
      "[744, 2195, 209, 1780, 2575, 123, 327, 40, 1736, 690]\n"
     ]
    },
    {
     "name": "stderr",
     "output_type": "stream",
     "text": [
      "INFO:root: \n",
      "Avg Training Stats after 49 global rounds:\n",
      "INFO:root:Train Accuracy: 0.00%\n",
      "INFO:root:Training Loss : 0.3250895629197932\n",
      "INFO:root:Test Accuracy: 48.24%\n",
      "INFO:root:Test Loss: 1.4419513857364654 \n",
      "\n",
      " 49%|████▉     | 49/100 [14:49<15:57, 18.77s/it]"
     ]
    },
    {
     "name": "stdout",
     "output_type": "stream",
     "text": [
      "[862, 690, 1433, 173, 3195, 2934, 116, 447, 231, 431]\n"
     ]
    },
    {
     "name": "stderr",
     "output_type": "stream",
     "text": [
      "INFO:root: \n",
      "Avg Training Stats after 50 global rounds:\n",
      "INFO:root:Train Accuracy: 0.00%\n",
      "INFO:root:Training Loss : 0.3501108642270888\n",
      "INFO:root:Test Accuracy: 49.01%\n",
      "INFO:root:Test Loss: 1.4216553831100465 \n",
      "\n",
      " 50%|█████     | 50/100 [15:06<15:25, 18.51s/it]"
     ]
    },
    {
     "name": "stdout",
     "output_type": "stream",
     "text": [
      "[1320, 19, 3195, 87, 1756, 303, 813, 2575, 231, 231]\n"
     ]
    },
    {
     "name": "stderr",
     "output_type": "stream",
     "text": [
      "INFO:root: \n",
      "Avg Training Stats after 51 global rounds:\n",
      "INFO:root:Train Accuracy: 0.00%\n",
      "INFO:root:Training Loss : 0.10971187850526698\n",
      "INFO:root:Test Accuracy: 48.88%\n",
      "INFO:root:Test Loss: 1.4208942478895188 \n",
      "\n",
      " 51%|█████     | 51/100 [15:24<14:57, 18.32s/it]"
     ]
    },
    {
     "name": "stdout",
     "output_type": "stream",
     "text": [
      "[40, 813, 1780, 2934, 15, 173, 278, 19, 1798, 267]\n"
     ]
    },
    {
     "name": "stderr",
     "output_type": "stream",
     "text": [
      "INFO:root: \n",
      "Avg Training Stats after 52 global rounds:\n",
      "INFO:root:Train Accuracy: 0.00%\n",
      "INFO:root:Training Loss : 0.22644668116794628\n",
      "INFO:root:Test Accuracy: 48.78%\n",
      "INFO:root:Test Loss: 1.4163588923215866 \n",
      "\n",
      " 52%|█████▏    | 52/100 [15:40<13:59, 17.49s/it]"
     ]
    },
    {
     "name": "stdout",
     "output_type": "stream",
     "text": [
      "[267, 231, 690, 173, 1780, 1053, 862, 590, 1433, 303]\n"
     ]
    },
    {
     "name": "stderr",
     "output_type": "stream",
     "text": [
      "INFO:root: \n",
      "Avg Training Stats after 53 global rounds:\n",
      "INFO:root:Train Accuracy: 0.00%\n",
      "INFO:root:Training Loss : 0.31400104591334654\n",
      "INFO:root:Test Accuracy: 49.18%\n",
      "INFO:root:Test Loss: 1.4102713906764983 \n",
      "\n",
      " 53%|█████▎    | 53/100 [15:55<13:06, 16.74s/it]"
     ]
    },
    {
     "name": "stdout",
     "output_type": "stream",
     "text": [
      "[431, 3195, 201, 796, 2934, 15, 231, 1112, 1736, 267]\n"
     ]
    },
    {
     "name": "stderr",
     "output_type": "stream",
     "text": [
      "INFO:root: \n",
      "Avg Training Stats after 54 global rounds:\n",
      "INFO:root:Train Accuracy: 0.00%\n",
      "INFO:root:Training Loss : 0.23804757898735485\n",
      "INFO:root:Test Accuracy: 49.07%\n",
      "INFO:root:Test Loss: 1.4096923613548278 \n",
      "\n",
      " 54%|█████▍    | 54/100 [16:13<13:14, 17.26s/it]"
     ]
    },
    {
     "name": "stdout",
     "output_type": "stream",
     "text": [
      "[40, 1320, 1416, 286, 2195, 1012, 201, 116, 1053, 542]\n"
     ]
    },
    {
     "name": "stderr",
     "output_type": "stream",
     "text": [
      "INFO:root: \n",
      "Avg Training Stats after 55 global rounds:\n",
      "INFO:root:Train Accuracy: 0.00%\n",
      "INFO:root:Training Loss : 0.3228163946306649\n",
      "INFO:root:Test Accuracy: 49.88%\n",
      "INFO:root:Test Loss: 1.3979203110933305 \n",
      "\n",
      " 55%|█████▌    | 55/100 [16:29<12:36, 16.81s/it]"
     ]
    },
    {
     "name": "stdout",
     "output_type": "stream",
     "text": [
      "[1798, 422, 231, 4600, 231, 2575, 1433, 106, 1320, 862]\n"
     ]
    },
    {
     "name": "stderr",
     "output_type": "stream",
     "text": [
      "INFO:root: \n",
      "Avg Training Stats after 56 global rounds:\n",
      "INFO:root:Train Accuracy: 0.00%\n",
      "INFO:root:Training Loss : 0.18125844260625593\n",
      "INFO:root:Test Accuracy: 50.05%\n",
      "INFO:root:Test Loss: 1.3944903302192688 \n",
      "\n",
      " 56%|█████▌    | 56/100 [16:50<13:14, 18.06s/it]"
     ]
    },
    {
     "name": "stdout",
     "output_type": "stream",
     "text": [
      "[2274, 3195, 267, 2029, 590, 327, 2195, 278, 1756, 813]\n"
     ]
    },
    {
     "name": "stderr",
     "output_type": "stream",
     "text": [
      "INFO:root: \n",
      "Avg Training Stats after 57 global rounds:\n",
      "INFO:root:Train Accuracy: 0.00%\n",
      "INFO:root:Training Loss : 0.22277836035700585\n",
      "INFO:root:Test Accuracy: 49.63%\n",
      "INFO:root:Test Loss: 1.3916504395008087 \n",
      "\n",
      " 57%|█████▋    | 57/100 [17:11<13:36, 18.99s/it]"
     ]
    },
    {
     "name": "stdout",
     "output_type": "stream",
     "text": [
      "[1798, 431, 123, 1320, 1416, 231, 2575, 2934, 19, 1756]\n"
     ]
    },
    {
     "name": "stderr",
     "output_type": "stream",
     "text": [
      "INFO:root: \n",
      "Avg Training Stats after 58 global rounds:\n",
      "INFO:root:Train Accuracy: 0.00%\n",
      "INFO:root:Training Loss : 0.20265858269507714\n",
      "INFO:root:Test Accuracy: 49.80%\n",
      "INFO:root:Test Loss: 1.3904560381174087 \n",
      "\n",
      " 58%|█████▊    | 58/100 [17:31<13:29, 19.26s/it]"
     ]
    },
    {
     "name": "stdout",
     "output_type": "stream",
     "text": [
      "[1018, 267, 2274, 447, 2029, 690, 590, 303, 1119, 796]\n"
     ]
    },
    {
     "name": "stderr",
     "output_type": "stream",
     "text": [
      "INFO:root: \n",
      "Avg Training Stats after 59 global rounds:\n",
      "INFO:root:Train Accuracy: 0.00%\n",
      "INFO:root:Training Loss : 0.1766320576802377\n",
      "INFO:root:Test Accuracy: 49.69%\n",
      "INFO:root:Test Loss: 1.3892751789093019 \n",
      "\n",
      " 59%|█████▉    | 59/100 [17:48<12:40, 18.55s/it]"
     ]
    },
    {
     "name": "stdout",
     "output_type": "stream",
     "text": [
      "[106, 2430, 447, 1433, 1012, 3195, 1119, 1756, 862, 4600]\n"
     ]
    },
    {
     "name": "stderr",
     "output_type": "stream",
     "text": [
      "INFO:root: \n",
      "Avg Training Stats after 60 global rounds:\n",
      "INFO:root:Train Accuracy: 0.00%\n",
      "INFO:root:Training Loss : 0.12438074778537515\n",
      "INFO:root:Test Accuracy: 50.23%\n",
      "INFO:root:Test Loss: 1.375451963543892 \n",
      "\n",
      " 60%|██████    | 60/100 [18:12<13:24, 20.10s/it]"
     ]
    },
    {
     "name": "stdout",
     "output_type": "stream",
     "text": [
      "[1780, 1320, 286, 2029, 40, 796, 447, 15, 231, 744]\n"
     ]
    },
    {
     "name": "stderr",
     "output_type": "stream",
     "text": [
      "INFO:root: \n",
      "Avg Training Stats after 61 global rounds:\n",
      "INFO:root:Train Accuracy: 0.00%\n",
      "INFO:root:Training Loss : 0.17278037645579253\n",
      "INFO:root:Test Accuracy: 49.86%\n",
      "INFO:root:Test Loss: 1.3863888293504716 \n",
      "\n",
      " 61%|██████    | 61/100 [18:27<12:08, 18.67s/it]"
     ]
    },
    {
     "name": "stdout",
     "output_type": "stream",
     "text": [
      "[116, 15, 2029, 327, 19, 470, 422, 87, 1012, 303]\n"
     ]
    },
    {
     "name": "stderr",
     "output_type": "stream",
     "text": [
      "INFO:root: \n",
      "Avg Training Stats after 62 global rounds:\n",
      "INFO:root:Train Accuracy: 0.00%\n",
      "INFO:root:Training Loss : 0.23489378060705146\n",
      "INFO:root:Test Accuracy: 50.28%\n",
      "INFO:root:Test Loss: 1.3717463135719299 \n",
      "\n",
      " 62%|██████▏   | 62/100 [18:40<10:40, 16.86s/it]"
     ]
    },
    {
     "name": "stdout",
     "output_type": "stream",
     "text": [
      "[796, 2274, 862, 286, 813, 3195, 1112, 422, 1119, 327]\n"
     ]
    },
    {
     "name": "stderr",
     "output_type": "stream",
     "text": [
      "INFO:root: \n",
      "Avg Training Stats after 63 global rounds:\n",
      "INFO:root:Train Accuracy: 0.00%\n",
      "INFO:root:Training Loss : 0.1968075073826746\n",
      "INFO:root:Test Accuracy: 50.34%\n",
      "INFO:root:Test Loss: 1.3677256077528 \n",
      "\n",
      " 63%|██████▎   | 63/100 [18:58<10:43, 17.39s/it]"
     ]
    },
    {
     "name": "stdout",
     "output_type": "stream",
     "text": [
      "[542, 1798, 690, 15, 267, 2575, 796, 590, 209, 470]\n"
     ]
    },
    {
     "name": "stderr",
     "output_type": "stream",
     "text": [
      "INFO:root: \n",
      "Avg Training Stats after 64 global rounds:\n",
      "INFO:root:Train Accuracy: 0.00%\n",
      "INFO:root:Training Loss : 0.20728026869618574\n",
      "INFO:root:Test Accuracy: 50.72%\n",
      "INFO:root:Test Loss: 1.3630153560638427 \n",
      "\n",
      " 64%|██████▍   | 64/100 [19:14<10:04, 16.80s/it]"
     ]
    },
    {
     "name": "stdout",
     "output_type": "stream",
     "text": [
      "[87, 267, 286, 1053, 303, 796, 40, 173, 19, 327]\n"
     ]
    },
    {
     "name": "stderr",
     "output_type": "stream",
     "text": [
      "INFO:root: \n",
      "Avg Training Stats after 65 global rounds:\n",
      "INFO:root:Train Accuracy: 0.00%\n",
      "INFO:root:Training Loss : 0.2870645304096543\n",
      "INFO:root:Test Accuracy: 50.31%\n",
      "INFO:root:Test Loss: 1.3682764118909836 \n",
      "\n",
      " 65%|██████▌   | 65/100 [19:25<08:49, 15.13s/it]"
     ]
    },
    {
     "name": "stdout",
     "output_type": "stream",
     "text": [
      "[813, 542, 106, 123, 4600, 40, 209, 2029, 1736, 2195]\n"
     ]
    },
    {
     "name": "stderr",
     "output_type": "stream",
     "text": [
      "INFO:root: \n",
      "Avg Training Stats after 66 global rounds:\n",
      "INFO:root:Train Accuracy: 0.00%\n",
      "INFO:root:Training Loss : 0.2206009510556118\n",
      "INFO:root:Test Accuracy: 50.96%\n",
      "INFO:root:Test Loss: 1.3592972928285598 \n",
      "\n",
      " 66%|██████▌   | 66/100 [19:45<09:21, 16.50s/it]"
     ]
    },
    {
     "name": "stdout",
     "output_type": "stream",
     "text": [
      "[1416, 1320, 201, 744, 2934, 447, 278, 2430, 1018, 2274]\n"
     ]
    },
    {
     "name": "stderr",
     "output_type": "stream",
     "text": [
      "INFO:root: \n",
      "Avg Training Stats after 67 global rounds:\n",
      "INFO:root:Train Accuracy: 0.00%\n",
      "INFO:root:Training Loss : 0.22846680443628214\n",
      "INFO:root:Test Accuracy: 51.29%\n",
      "INFO:root:Test Loss: 1.3520936810970305 \n",
      "\n",
      " 67%|██████▋   | 67/100 [20:05<09:39, 17.57s/it]"
     ]
    },
    {
     "name": "stdout",
     "output_type": "stream",
     "text": [
      "[303, 1012, 470, 123, 106, 201, 87, 1736, 2934, 2575]\n"
     ]
    },
    {
     "name": "stderr",
     "output_type": "stream",
     "text": [
      "INFO:root: \n",
      "Avg Training Stats after 68 global rounds:\n",
      "INFO:root:Train Accuracy: 0.00%\n",
      "INFO:root:Training Loss : 0.11829209330057985\n",
      "INFO:root:Test Accuracy: 51.35%\n",
      "INFO:root:Test Loss: 1.352438019514084 \n",
      "\n",
      " 68%|██████▊   | 68/100 [20:22<09:17, 17.43s/it]"
     ]
    },
    {
     "name": "stdout",
     "output_type": "stream",
     "text": [
      "[3195, 794, 690, 2029, 231, 1756, 1112, 1736, 201, 813]\n"
     ]
    },
    {
     "name": "stderr",
     "output_type": "stream",
     "text": [
      "INFO:root: \n",
      "Avg Training Stats after 69 global rounds:\n",
      "INFO:root:Train Accuracy: 0.00%\n",
      "INFO:root:Training Loss : 0.1519004586491179\n",
      "INFO:root:Test Accuracy: 50.90%\n",
      "INFO:root:Test Loss: 1.3536000543832778 \n",
      "\n",
      " 69%|██████▉   | 69/100 [20:42<09:21, 18.13s/it]"
     ]
    },
    {
     "name": "stdout",
     "output_type": "stream",
     "text": [
      "[106, 40, 278, 422, 470, 2029, 2934, 744, 2274, 327]\n"
     ]
    },
    {
     "name": "stderr",
     "output_type": "stream",
     "text": [
      "INFO:root: \n",
      "Avg Training Stats after 70 global rounds:\n",
      "INFO:root:Train Accuracy: 0.00%\n",
      "INFO:root:Training Loss : 0.1818452956231591\n",
      "INFO:root:Test Accuracy: 50.74%\n",
      "INFO:root:Test Loss: 1.357807298898697 \n",
      "\n",
      " 70%|███████   | 70/100 [20:59<08:56, 17.87s/it]"
     ]
    },
    {
     "name": "stdout",
     "output_type": "stream",
     "text": [
      "[3195, 267, 303, 173, 286, 2029, 422, 1012, 796, 106]\n"
     ]
    },
    {
     "name": "stderr",
     "output_type": "stream",
     "text": [
      "INFO:root: \n",
      "Avg Training Stats after 71 global rounds:\n",
      "INFO:root:Train Accuracy: 0.00%\n",
      "INFO:root:Training Loss : 0.21427196726058298\n",
      "INFO:root:Test Accuracy: 50.22%\n",
      "INFO:root:Test Loss: 1.3604022800922393 \n",
      "\n",
      " 71%|███████   | 71/100 [21:15<08:22, 17.31s/it]"
     ]
    },
    {
     "name": "stdout",
     "output_type": "stream",
     "text": [
      "[209, 40, 4600, 106, 123, 1012, 690, 542, 602, 2575]\n"
     ]
    },
    {
     "name": "stderr",
     "output_type": "stream",
     "text": [
      "INFO:root: \n",
      "Avg Training Stats after 72 global rounds:\n",
      "INFO:root:Train Accuracy: 0.00%\n",
      "INFO:root:Training Loss : 0.18413423514377497\n",
      "INFO:root:Test Accuracy: 50.85%\n",
      "INFO:root:Test Loss: 1.3516837471723557 \n",
      "\n",
      " 72%|███████▏  | 72/100 [21:33<08:08, 17.46s/it]"
     ]
    },
    {
     "name": "stdout",
     "output_type": "stream",
     "text": [
      "[1012, 2430, 2274, 209, 1798, 303, 1112, 231, 744, 278]\n"
     ]
    },
    {
     "name": "stderr",
     "output_type": "stream",
     "text": [
      "INFO:root: \n",
      "Avg Training Stats after 73 global rounds:\n",
      "INFO:root:Train Accuracy: 0.00%\n",
      "INFO:root:Training Loss : 0.15185909735724945\n",
      "INFO:root:Test Accuracy: 50.94%\n",
      "INFO:root:Test Loss: 1.3451981711387635 \n",
      "\n",
      " 73%|███████▎  | 73/100 [21:51<07:58, 17.74s/it]"
     ]
    },
    {
     "name": "stdout",
     "output_type": "stream",
     "text": [
      "[447, 1320, 209, 327, 744, 1018, 231, 2430, 590, 602]\n"
     ]
    },
    {
     "name": "stderr",
     "output_type": "stream",
     "text": [
      "INFO:root: \n",
      "Avg Training Stats after 74 global rounds:\n",
      "INFO:root:Train Accuracy: 0.00%\n",
      "INFO:root:Training Loss : 0.2536149439029678\n",
      "INFO:root:Test Accuracy: 51.31%\n",
      "INFO:root:Test Loss: 1.3406833291053772 \n",
      "\n",
      " 74%|███████▍  | 74/100 [22:07<07:26, 17.19s/it]"
     ]
    },
    {
     "name": "stdout",
     "output_type": "stream",
     "text": [
      "[470, 1053, 303, 1012, 106, 3195, 447, 1112, 201, 1433]\n"
     ]
    },
    {
     "name": "stderr",
     "output_type": "stream",
     "text": [
      "INFO:root: \n",
      "Avg Training Stats after 75 global rounds:\n",
      "INFO:root:Train Accuracy: 0.00%\n",
      "INFO:root:Training Loss : 0.10954654848789398\n",
      "INFO:root:Test Accuracy: 52.10%\n",
      "INFO:root:Test Loss: 1.327663053870201 \n",
      "\n",
      " 75%|███████▌  | 75/100 [22:24<07:09, 17.20s/it]"
     ]
    },
    {
     "name": "stdout",
     "output_type": "stream",
     "text": [
      "[231, 1433, 431, 209, 1416, 1780, 116, 123, 422, 4600]\n"
     ]
    },
    {
     "name": "stderr",
     "output_type": "stream",
     "text": [
      "INFO:root: \n",
      "Avg Training Stats after 76 global rounds:\n",
      "INFO:root:Train Accuracy: 0.00%\n",
      "INFO:root:Training Loss : 0.35855652152751355\n",
      "INFO:root:Test Accuracy: 52.29%\n",
      "INFO:root:Test Loss: 1.3296869063377381 \n",
      "\n",
      " 76%|███████▌  | 76/100 [22:43<07:03, 17.66s/it]"
     ]
    },
    {
     "name": "stdout",
     "output_type": "stream",
     "text": [
      "[2575, 796, 1053, 267, 602, 1018, 201, 1756, 286, 2430]\n"
     ]
    },
    {
     "name": "stderr",
     "output_type": "stream",
     "text": [
      "INFO:root: \n",
      "Avg Training Stats after 77 global rounds:\n",
      "INFO:root:Train Accuracy: 0.00%\n",
      "INFO:root:Training Loss : 0.22880630164720248\n",
      "INFO:root:Test Accuracy: 52.68%\n",
      "INFO:root:Test Loss: 1.309817898273468 \n",
      "\n",
      " 77%|███████▋  | 77/100 [23:02<06:52, 17.93s/it]"
     ]
    },
    {
     "name": "stdout",
     "output_type": "stream",
     "text": [
      "[15, 2029, 2274, 744, 1018, 1736, 2934, 19, 173, 447]\n"
     ]
    },
    {
     "name": "stderr",
     "output_type": "stream",
     "text": [
      "INFO:root: \n",
      "Avg Training Stats after 78 global rounds:\n",
      "INFO:root:Train Accuracy: 0.00%\n",
      "INFO:root:Training Loss : 0.22099981302026417\n",
      "INFO:root:Test Accuracy: 52.35%\n",
      "INFO:root:Test Loss: 1.3153895527124404 \n",
      "\n",
      " 78%|███████▊  | 78/100 [23:20<06:39, 18.17s/it]"
     ]
    },
    {
     "name": "stdout",
     "output_type": "stream",
     "text": [
      "[542, 602, 173, 201, 590, 690, 422, 2934, 1736, 744]\n"
     ]
    },
    {
     "name": "stderr",
     "output_type": "stream",
     "text": [
      "INFO:root: \n",
      "Avg Training Stats after 79 global rounds:\n",
      "INFO:root:Train Accuracy: 0.00%\n",
      "INFO:root:Training Loss : 0.28850252917391883\n",
      "INFO:root:Test Accuracy: 52.76%\n",
      "INFO:root:Test Loss: 1.3089516657590865 \n",
      "\n",
      " 79%|███████▉  | 79/100 [23:37<06:10, 17.64s/it]"
     ]
    },
    {
     "name": "stdout",
     "output_type": "stream",
     "text": [
      "[201, 278, 40, 1112, 106, 690, 2029, 87, 796, 3195]\n"
     ]
    },
    {
     "name": "stderr",
     "output_type": "stream",
     "text": [
      "INFO:root: \n",
      "Avg Training Stats after 80 global rounds:\n",
      "INFO:root:Train Accuracy: 0.00%\n",
      "INFO:root:Training Loss : 0.11241293750407358\n",
      "INFO:root:Test Accuracy: 53.09%\n",
      "INFO:root:Test Loss: 1.3083500027656556 \n",
      "\n",
      " 80%|████████  | 80/100 [23:53<05:44, 17.21s/it]"
     ]
    },
    {
     "name": "stdout",
     "output_type": "stream",
     "text": [
      "[1798, 15, 201, 123, 1433, 542, 1119, 690, 602, 40]\n"
     ]
    },
    {
     "name": "stderr",
     "output_type": "stream",
     "text": [
      "INFO:root: \n",
      "Avg Training Stats after 81 global rounds:\n",
      "INFO:root:Train Accuracy: 0.00%\n",
      "INFO:root:Training Loss : 0.15033286760759734\n",
      "INFO:root:Test Accuracy: 52.75%\n",
      "INFO:root:Test Loss: 1.3076332646608353 \n",
      "\n",
      " 81%|████████  | 81/100 [24:07<05:09, 16.27s/it]"
     ]
    },
    {
     "name": "stdout",
     "output_type": "stream",
     "text": [
      "[267, 542, 209, 796, 87, 3195, 231, 303, 2934, 1119]\n"
     ]
    },
    {
     "name": "stderr",
     "output_type": "stream",
     "text": [
      "INFO:root: \n",
      "Avg Training Stats after 82 global rounds:\n",
      "INFO:root:Train Accuracy: 0.00%\n",
      "INFO:root:Training Loss : 0.17903240860828215\n",
      "INFO:root:Test Accuracy: 52.54%\n",
      "INFO:root:Test Loss: 1.3090109992027283 \n",
      "\n",
      " 82%|████████▏ | 82/100 [24:24<04:57, 16.55s/it]"
     ]
    },
    {
     "name": "stdout",
     "output_type": "stream",
     "text": [
      "[690, 431, 422, 231, 4600, 2934, 2029, 327, 796, 590]\n"
     ]
    },
    {
     "name": "stderr",
     "output_type": "stream",
     "text": [
      "INFO:root: \n",
      "Avg Training Stats after 83 global rounds:\n",
      "INFO:root:Train Accuracy: 0.00%\n",
      "INFO:root:Training Loss : 0.22114474511046\n",
      "INFO:root:Test Accuracy: 52.69%\n",
      "INFO:root:Test Loss: 1.3081581342220305 \n",
      "\n",
      " 83%|████████▎ | 83/100 [24:45<05:00, 17.69s/it]"
     ]
    },
    {
     "name": "stdout",
     "output_type": "stream",
     "text": [
      "[231, 1112, 87, 303, 690, 796, 2195, 813, 327, 1018]\n"
     ]
    },
    {
     "name": "stderr",
     "output_type": "stream",
     "text": [
      "INFO:root: \n",
      "Avg Training Stats after 84 global rounds:\n",
      "INFO:root:Train Accuracy: 0.00%\n",
      "INFO:root:Training Loss : 0.19931357154570464\n",
      "INFO:root:Test Accuracy: 53.00%\n",
      "INFO:root:Test Loss: 1.3016923570632934 \n",
      "\n",
      " 84%|████████▍ | 84/100 [25:00<04:31, 16.98s/it]"
     ]
    },
    {
     "name": "stdout",
     "output_type": "stream",
     "text": [
      "[602, 1018, 542, 106, 794, 447, 2029, 1433, 327, 690]\n"
     ]
    },
    {
     "name": "stderr",
     "output_type": "stream",
     "text": [
      "INFO:root: \n",
      "Avg Training Stats after 85 global rounds:\n",
      "INFO:root:Train Accuracy: 0.00%\n",
      "INFO:root:Training Loss : 0.21147101998291803\n",
      "INFO:root:Test Accuracy: 52.40%\n",
      "INFO:root:Test Loss: 1.3089591413736343 \n",
      "\n",
      " 85%|████████▌ | 85/100 [25:15<04:08, 16.56s/it]"
     ]
    },
    {
     "name": "stdout",
     "output_type": "stream",
     "text": [
      "[1433, 267, 447, 1012, 470, 201, 231, 15, 278, 1736]\n"
     ]
    },
    {
     "name": "stderr",
     "output_type": "stream",
     "text": [
      "INFO:root: \n",
      "Avg Training Stats after 86 global rounds:\n",
      "INFO:root:Train Accuracy: 0.00%\n",
      "INFO:root:Training Loss : 0.18383341154712968\n",
      "INFO:root:Test Accuracy: 52.75%\n",
      "INFO:root:Test Loss: 1.3017112058401108 \n",
      "\n",
      " 86%|████████▌ | 86/100 [25:29<03:40, 15.75s/it]"
     ]
    },
    {
     "name": "stdout",
     "output_type": "stream",
     "text": [
      "[40, 1053, 231, 286, 106, 2274, 470, 1119, 447, 1416]\n"
     ]
    },
    {
     "name": "stderr",
     "output_type": "stream",
     "text": [
      "INFO:root: \n",
      "Avg Training Stats after 87 global rounds:\n",
      "INFO:root:Train Accuracy: 0.00%\n",
      "INFO:root:Training Loss : 0.1818752219396378\n",
      "INFO:root:Test Accuracy: 53.14%\n",
      "INFO:root:Test Loss: 1.2971816980838775 \n",
      "\n",
      " 87%|████████▋ | 87/100 [25:44<03:22, 15.54s/it]"
     ]
    },
    {
     "name": "stdout",
     "output_type": "stream",
     "text": [
      "[209, 2029, 231, 278, 1320, 862, 2195, 690, 1736, 106]\n"
     ]
    },
    {
     "name": "stderr",
     "output_type": "stream",
     "text": [
      "INFO:root: \n",
      "Avg Training Stats after 88 global rounds:\n",
      "INFO:root:Train Accuracy: 0.00%\n",
      "INFO:root:Training Loss : 0.20914333208507535\n",
      "INFO:root:Test Accuracy: 53.64%\n",
      "INFO:root:Test Loss: 1.2914039927721024 \n",
      "\n",
      " 88%|████████▊ | 88/100 [26:01<03:11, 15.98s/it]"
     ]
    },
    {
     "name": "stdout",
     "output_type": "stream",
     "text": [
      "[2430, 201, 2195, 2575, 123, 602, 116, 794, 4600, 690]\n"
     ]
    },
    {
     "name": "stderr",
     "output_type": "stream",
     "text": [
      "INFO:root: \n",
      "Avg Training Stats after 89 global rounds:\n",
      "INFO:root:Train Accuracy: 0.00%\n",
      "INFO:root:Training Loss : 0.23427070805072966\n",
      "INFO:root:Test Accuracy: 53.89%\n",
      "INFO:root:Test Loss: 1.2838531816005707 \n",
      "\n",
      " 89%|████████▉ | 89/100 [26:23<03:13, 17.63s/it]"
     ]
    },
    {
     "name": "stdout",
     "output_type": "stream",
     "text": [
      "[470, 303, 278, 87, 1119, 2274, 1780, 19, 4600, 602]\n"
     ]
    },
    {
     "name": "stderr",
     "output_type": "stream",
     "text": [
      "INFO:root: \n",
      "Avg Training Stats after 90 global rounds:\n",
      "INFO:root:Train Accuracy: 0.00%\n",
      "INFO:root:Training Loss : 0.14385143486018664\n",
      "INFO:root:Test Accuracy: 53.91%\n",
      "INFO:root:Test Loss: 1.2824972462654114 \n",
      "\n",
      " 90%|█████████ | 90/100 [26:42<03:00, 18.02s/it]"
     ]
    },
    {
     "name": "stdout",
     "output_type": "stream",
     "text": [
      "[2575, 602, 2029, 327, 209, 4600, 2274, 1756, 431, 1112]\n"
     ]
    },
    {
     "name": "stderr",
     "output_type": "stream",
     "text": [
      "INFO:root: \n",
      "Avg Training Stats after 91 global rounds:\n",
      "INFO:root:Train Accuracy: 0.00%\n",
      "INFO:root:Training Loss : 0.18818045716760412\n",
      "INFO:root:Test Accuracy: 54.00%\n",
      "INFO:root:Test Loss: 1.2760824704170226 \n",
      "\n",
      " 91%|█████████ | 91/100 [27:05<02:56, 19.57s/it]"
     ]
    },
    {
     "name": "stdout",
     "output_type": "stream",
     "text": [
      "[2195, 267, 813, 286, 3195, 470, 231, 278, 1012, 231]\n"
     ]
    },
    {
     "name": "stderr",
     "output_type": "stream",
     "text": [
      "INFO:root: \n",
      "Avg Training Stats after 92 global rounds:\n",
      "INFO:root:Train Accuracy: 0.00%\n",
      "INFO:root:Training Loss : 0.18427447250864087\n",
      "INFO:root:Test Accuracy: 54.00%\n",
      "INFO:root:Test Loss: 1.2750806707143783 \n",
      "\n",
      " 92%|█████████▏| 92/100 [27:21<02:29, 18.65s/it]"
     ]
    },
    {
     "name": "stdout",
     "output_type": "stream",
     "text": [
      "[1053, 2575, 303, 2430, 542, 116, 1756, 1433, 327, 15]\n"
     ]
    },
    {
     "name": "stderr",
     "output_type": "stream",
     "text": [
      "INFO:root: \n",
      "Avg Training Stats after 93 global rounds:\n",
      "INFO:root:Train Accuracy: 0.00%\n",
      "INFO:root:Training Loss : 0.21934759293882616\n",
      "INFO:root:Test Accuracy: 54.32%\n",
      "INFO:root:Test Loss: 1.2670914727449416 \n",
      "\n",
      " 93%|█████████▎| 93/100 [27:40<02:09, 18.53s/it]"
     ]
    },
    {
     "name": "stdout",
     "output_type": "stream",
     "text": [
      "[590, 4600, 201, 286, 303, 1736, 15, 1798, 744, 422]\n"
     ]
    },
    {
     "name": "stderr",
     "output_type": "stream",
     "text": [
      "INFO:root: \n",
      "Avg Training Stats after 94 global rounds:\n",
      "INFO:root:Train Accuracy: 0.00%\n",
      "INFO:root:Training Loss : 0.16957016969893526\n",
      "INFO:root:Test Accuracy: 54.20%\n",
      "INFO:root:Test Loss: 1.2741450309753417 \n",
      "\n",
      " 94%|█████████▍| 94/100 [27:58<01:50, 18.40s/it]"
     ]
    },
    {
     "name": "stdout",
     "output_type": "stream",
     "text": [
      "[123, 862, 542, 19, 794, 1112, 4600, 2934, 231, 15]\n"
     ]
    },
    {
     "name": "stderr",
     "output_type": "stream",
     "text": [
      "INFO:root: \n",
      "Avg Training Stats after 95 global rounds:\n",
      "INFO:root:Train Accuracy: 0.00%\n",
      "INFO:root:Training Loss : 0.19100570480747003\n",
      "INFO:root:Test Accuracy: 54.93%\n",
      "INFO:root:Test Loss: 1.2590670132637023 \n",
      "\n",
      " 95%|█████████▌| 95/100 [28:16<01:32, 18.43s/it]"
     ]
    },
    {
     "name": "stdout",
     "output_type": "stream",
     "text": [
      "[1053, 87, 2575, 4600, 542, 231, 1433, 1012, 2029, 862]\n"
     ]
    },
    {
     "name": "stderr",
     "output_type": "stream",
     "text": [
      "INFO:root: \n",
      "Avg Training Stats after 96 global rounds:\n",
      "INFO:root:Train Accuracy: 0.00%\n",
      "INFO:root:Training Loss : 0.18190903955271326\n",
      "INFO:root:Test Accuracy: 55.08%\n",
      "INFO:root:Test Loss: 1.2558641695976258 \n",
      "\n",
      " 96%|█████████▌| 96/100 [28:38<01:17, 19.33s/it]"
     ]
    },
    {
     "name": "stdout",
     "output_type": "stream",
     "text": [
      "[19, 602, 40, 690, 267, 231, 173, 2029, 1798, 3195]\n"
     ]
    },
    {
     "name": "stderr",
     "output_type": "stream",
     "text": [
      "INFO:root: \n",
      "Avg Training Stats after 97 global rounds:\n",
      "INFO:root:Train Accuracy: 0.00%\n",
      "INFO:root:Training Loss : 0.22743899300442352\n",
      "INFO:root:Test Accuracy: 54.51%\n",
      "INFO:root:Test Loss: 1.2577191668748855 \n",
      "\n",
      " 97%|█████████▋| 97/100 [28:54<00:55, 18.50s/it]"
     ]
    },
    {
     "name": "stdout",
     "output_type": "stream",
     "text": [
      "[209, 1012, 422, 40, 794, 4600, 116, 286, 303, 1756]\n"
     ]
    },
    {
     "name": "stderr",
     "output_type": "stream",
     "text": [
      "INFO:root: \n",
      "Avg Training Stats after 98 global rounds:\n",
      "INFO:root:Train Accuracy: 0.00%\n",
      "INFO:root:Training Loss : 0.16639451738398264\n",
      "INFO:root:Test Accuracy: 55.07%\n",
      "INFO:root:Test Loss: 1.2504437190294266 \n",
      "\n",
      " 98%|█████████▊| 98/100 [29:11<00:36, 18.05s/it]"
     ]
    },
    {
     "name": "stdout",
     "output_type": "stream",
     "text": [
      "[2274, 1736, 173, 1416, 447, 19, 2195, 2029, 862, 744]\n"
     ]
    },
    {
     "name": "stderr",
     "output_type": "stream",
     "text": [
      "INFO:root: \n",
      "Avg Training Stats after 99 global rounds:\n",
      "INFO:root:Train Accuracy: 0.00%\n",
      "INFO:root:Training Loss : 0.2844023340432968\n",
      "INFO:root:Test Accuracy: 55.36%\n",
      "INFO:root:Test Loss: 1.2482953530550003 \n",
      "\n",
      " 99%|█████████▉| 99/100 [29:31<00:18, 18.39s/it]"
     ]
    },
    {
     "name": "stdout",
     "output_type": "stream",
     "text": [
      "[431, 1798, 1736, 744, 19, 278, 690, 590, 116, 40]\n"
     ]
    },
    {
     "name": "stderr",
     "output_type": "stream",
     "text": [
      "INFO:root: \n",
      "Avg Training Stats after 100 global rounds:\n",
      "INFO:root:Train Accuracy: 0.00%\n",
      "INFO:root:Training Loss : 0.19471810133972783\n",
      "INFO:root:Test Accuracy: 55.60%\n",
      "INFO:root:Test Loss: 1.2384687602519988 \n",
      "\n",
      "100%|██████████| 100/100 [29:45<00:00, 17.85s/it]\n",
      "INFO:root: \n",
      " Results after 100 global rounds of training:\n",
      "INFO:root:|---- Best Test Accuracy: 55.60% , round: 99\n"
     ]
    },
    {
     "name": "stdout",
     "output_type": "stream",
     "text": [
      " Saving checkpoints to ../save/checkpoint/ConvNet_1207/cifar10_ConvNet_none_T[100]_C[0.2]_iid[0]_E[5]_B[32]_GPU[0]_Pruned[0.0]...\n"
     ]
    }
   ],
   "source": [
    " args = easydict.EasyDict({\n",
    "    \"model\": 'ConvNet',\n",
    "    'dataset': 'cifar10',\n",
    "    'gpu': 0,\n",
    "    'iid': 0,\n",
    "    'epochs': 100,\n",
    "    'optimizer': 'sgd',\n",
    "    'seed': 0,\n",
    "    'norm': 'none',\n",
    "    'num_users': 50,\n",
    "    'frac': 0.2,\n",
    "    'local_ep': 5, \n",
    "    'local_bs': 32,\n",
    "    'lr': 0.01,\n",
    "    'momentum': 1,\n",
    "    'kernel_num': 9,\n",
    "    'kernel_sizes': 'only_momentum',\n",
    "    'num_channnels': '1',\n",
    "    'num_filters': 32,\n",
    "    'max_pool': 'True',\n",
    "    'num_classes': 10,\n",
    "    'unequal': 0,\n",
    "    'stopping_rounds': 0,\n",
    "    'verbose': 0,\n",
    "    'hold_normalize': 0,\n",
    "    'save_path': '../save/checkpoint',\n",
    "    'exp_folder': 'ConvNet_1207',\n",
    "    'resume': None,\n",
    "    'server_opt': 'sgd',\n",
    "    'server_lr': 1.0,\n",
    "    'client_decay':0,\n",
    "    'local_decay':0,\n",
    "    'alpha': 0.05,\n",
    "    'server_epoch':0,\n",
    "    'cosine_norm':0, \n",
    "    'only_fc' :0 ,\n",
    "    'loss':'bsm',\n",
    "    'dc_lr':0.0,\n",
    "    'tsne_pred':0,\n",
    "    'pruning': 0.0 })\n",
    "    \n",
    "    \n",
    "    \n",
    "temp = main_test(args)\n",
    "total.append(temp)"
   ]
  },
  {
   "cell_type": "code",
   "execution_count": 5,
   "id": "tropical-opening",
   "metadata": {},
   "outputs": [
    {
     "name": "stderr",
     "output_type": "stream",
     "text": [
      "INFO:root:{'model': 'ConvNet', 'dataset': 'cifar10', 'gpu': 0, 'iid': 0, 'epochs': 100, 'optimizer': 'sgd', 'seed': 0, 'norm': 'none', 'num_users': 50, 'frac': 0.2, 'local_ep': 5, 'local_bs': 32, 'lr': 0.01, 'momentum': 1, 'kernel_num': 9, 'kernel_sizes': 'only_momentum', 'num_channnels': '1', 'num_filters': 32, 'max_pool': 'True', 'num_classes': 10, 'unequal': 0, 'stopping_rounds': 0, 'verbose': 0, 'hold_normalize': 0, 'save_path': '../save/checkpoint/ConvNet_1207', 'exp_folder': 'ConvNet_1207', 'resume': None, 'server_opt': 'sgdm', 'server_lr': 1.0, 'client_decay': 0, 'local_decay': 0, 'alpha': 0.05, 'server_epoch': 0, 'cosine_norm': 0, 'only_fc': 0, 'loss': 'bsm', 'dc_lr': 0.0, 'tsne_pred': 0, 'pruning': 0.0}\n"
     ]
    },
    {
     "name": "stdout",
     "output_type": "stream",
     "text": [
      "Files already downloaded and verified\n",
      "Files already downloaded and verified\n",
      "Files already downloaded and verified\n"
     ]
    },
    {
     "name": "stderr",
     "output_type": "stream",
     "text": [
      "INFO:root:ConvNet(\n",
      "  (net_act): ReLU(inplace=True)\n",
      "  (net_pooling): MaxPool2d(kernel_size=2, stride=2, padding=0, dilation=1, ceil_mode=False)\n",
      "  (features): Sequential(\n",
      "    (0): Conv2d(3, 128, kernel_size=(3, 3), stride=(1, 1), padding=(1, 1))\n",
      "    (1): ReLU(inplace=True)\n",
      "    (2): MaxPool2d(kernel_size=2, stride=2, padding=0, dilation=1, ceil_mode=False)\n",
      "    (3): Conv2d(128, 128, kernel_size=(3, 3), stride=(1, 1), padding=(1, 1))\n",
      "    (4): ReLU(inplace=True)\n",
      "    (5): MaxPool2d(kernel_size=2, stride=2, padding=0, dilation=1, ceil_mode=False)\n",
      "    (6): Conv2d(128, 128, kernel_size=(3, 3), stride=(1, 1), padding=(1, 1))\n",
      "    (7): ReLU(inplace=True)\n",
      "    (8): MaxPool2d(kernel_size=2, stride=2, padding=0, dilation=1, ceil_mode=False)\n",
      "  )\n",
      "  (classifier): Linear(in_features=2048, out_features=10, bias=True)\n",
      ")\n",
      "INFO:root:None\n",
      "  0%|          | 0/100 [00:00<?, ?it/s]"
     ]
    },
    {
     "name": "stdout",
     "output_type": "stream",
     "text": [
      "----------------------------------------------------------------\n",
      "        Layer (type)               Output Shape         Param #\n",
      "================================================================\n",
      "            Conv2d-1          [-1, 128, 32, 32]           3,584\n",
      "              ReLU-2          [-1, 128, 32, 32]               0\n",
      "              ReLU-3          [-1, 128, 32, 32]               0\n",
      "         MaxPool2d-4          [-1, 128, 16, 16]               0\n",
      "         MaxPool2d-5          [-1, 128, 16, 16]               0\n",
      "            Conv2d-6          [-1, 128, 16, 16]         147,584\n",
      "              ReLU-7          [-1, 128, 16, 16]               0\n",
      "              ReLU-8          [-1, 128, 16, 16]               0\n",
      "         MaxPool2d-9            [-1, 128, 8, 8]               0\n",
      "        MaxPool2d-10            [-1, 128, 8, 8]               0\n",
      "           Conv2d-11            [-1, 128, 8, 8]         147,584\n",
      "             ReLU-12            [-1, 128, 8, 8]               0\n",
      "             ReLU-13            [-1, 128, 8, 8]               0\n",
      "        MaxPool2d-14            [-1, 128, 4, 4]               0\n",
      "        MaxPool2d-15            [-1, 128, 4, 4]               0\n",
      "           Linear-16                   [-1, 10]          20,490\n",
      "================================================================\n",
      "Total params: 319,242\n",
      "Trainable params: 319,242\n",
      "Non-trainable params: 0\n",
      "----------------------------------------------------------------\n",
      "Input size (MB): 0.01\n",
      "Forward/backward pass size (MB): 4.59\n",
      "Params size (MB): 1.22\n",
      "Estimated Total Size (MB): 5.82\n",
      "----------------------------------------------------------------\n",
      "[209, 1756, 422, 2575, 1018, 602, 2274, 447, 744, 1112, 123, 87, 1433, 1416, 40, 1119, 796, 794, 327, 470, 231, 813, 1320, 542, 690, 2195, 2934, 106, 1012, 15, 278, 1798, 303, 590, 2029, 201, 1053, 862, 231, 116, 4600, 19, 286, 1736, 2430, 431, 3195, 1780, 173, 267]\n",
      "[470, 2934, 201, 231, 2575, 744, 15, 123, 1119, 4600]\n"
     ]
    },
    {
     "name": "stderr",
     "output_type": "stream",
     "text": [
      "INFO:root: \n",
      "Avg Training Stats after 1 global rounds:\n",
      "INFO:root:Train Accuracy: 0.00%\n",
      "INFO:root:Training Loss : 0.2708574619777444\n",
      "INFO:root:Test Accuracy: 15.86%\n",
      "INFO:root:Test Loss: 2.293452444076538 \n",
      "\n",
      "  1%|          | 1/100 [00:20<33:11, 20.12s/it]"
     ]
    },
    {
     "name": "stdout",
     "output_type": "stream",
     "text": [
      "[231, 173, 2575, 1736, 2430, 123, 4600, 690, 1012, 447]\n"
     ]
    },
    {
     "name": "stderr",
     "output_type": "stream",
     "text": [
      "INFO:root: \n",
      "Avg Training Stats after 2 global rounds:\n",
      "INFO:root:Train Accuracy: 0.00%\n",
      "INFO:root:Training Loss : 0.48198037942650024\n",
      "INFO:root:Test Accuracy: 20.30%\n",
      "INFO:root:Test Loss: 2.191971788406372 \n",
      "\n",
      "  2%|▏         | 2/100 [00:41<33:37, 20.59s/it]"
     ]
    },
    {
     "name": "stdout",
     "output_type": "stream",
     "text": [
      "[744, 2575, 1320, 470, 2430, 2274, 267, 690, 209, 303]\n"
     ]
    },
    {
     "name": "stderr",
     "output_type": "stream",
     "text": [
      "INFO:root: \n",
      "Avg Training Stats after 3 global rounds:\n",
      "INFO:root:Train Accuracy: 0.00%\n",
      "INFO:root:Training Loss : 0.36797948982905454\n",
      "INFO:root:Test Accuracy: 23.71%\n",
      "INFO:root:Test Loss: 2.060546190738678 \n",
      "\n",
      "  3%|▎         | 3/100 [00:59<31:45, 19.64s/it]"
     ]
    },
    {
     "name": "stdout",
     "output_type": "stream",
     "text": [
      "[173, 690, 542, 1012, 2195, 1780, 1053, 87, 2934, 1736]\n"
     ]
    },
    {
     "name": "stderr",
     "output_type": "stream",
     "text": [
      "INFO:root: \n",
      "Avg Training Stats after 4 global rounds:\n",
      "INFO:root:Train Accuracy: 0.00%\n",
      "INFO:root:Training Loss : 0.5163638231323804\n",
      "INFO:root:Test Accuracy: 26.91%\n",
      "INFO:root:Test Loss: 2.0287811934947966 \n",
      "\n",
      "  4%|▍         | 4/100 [01:18<31:13, 19.51s/it]"
     ]
    },
    {
     "name": "stdout",
     "output_type": "stream",
     "text": [
      "[2430, 2575, 1736, 123, 15, 1780, 1018, 231, 87, 794]\n"
     ]
    },
    {
     "name": "stderr",
     "output_type": "stream",
     "text": [
      "INFO:root: \n",
      "Avg Training Stats after 5 global rounds:\n",
      "INFO:root:Train Accuracy: 0.00%\n",
      "INFO:root:Training Loss : 0.3542659508218342\n",
      "INFO:root:Test Accuracy: 29.02%\n",
      "INFO:root:Test Loss: 2.0475332856178285 \n",
      "\n",
      "  5%|▌         | 5/100 [01:36<30:03, 18.98s/it]"
     ]
    },
    {
     "name": "stdout",
     "output_type": "stream",
     "text": [
      "[1119, 87, 590, 794, 813, 303, 1320, 690, 1018, 422]\n"
     ]
    },
    {
     "name": "stderr",
     "output_type": "stream",
     "text": [
      "INFO:root: \n",
      "Avg Training Stats after 6 global rounds:\n",
      "INFO:root:Train Accuracy: 0.00%\n",
      "INFO:root:Training Loss : 0.26718687238835576\n",
      "INFO:root:Test Accuracy: 30.55%\n",
      "INFO:root:Test Loss: 2.0529205936193464 \n",
      "\n",
      "  6%|▌         | 6/100 [01:51<27:32, 17.58s/it]"
     ]
    },
    {
     "name": "stdout",
     "output_type": "stream",
     "text": [
      "[2029, 1433, 303, 327, 744, 862, 2934, 231, 1416, 278]\n"
     ]
    },
    {
     "name": "stderr",
     "output_type": "stream",
     "text": [
      "INFO:root: \n",
      "Avg Training Stats after 7 global rounds:\n",
      "INFO:root:Train Accuracy: 0.00%\n",
      "INFO:root:Training Loss : 0.3861242870659075\n",
      "INFO:root:Test Accuracy: 30.97%\n",
      "INFO:root:Test Loss: 2.015336100459099 \n",
      "\n",
      "  7%|▋         | 7/100 [02:10<27:36, 17.81s/it]"
     ]
    },
    {
     "name": "stdout",
     "output_type": "stream",
     "text": [
      "[231, 1112, 327, 744, 286, 422, 15, 1798, 1053, 173]\n"
     ]
    },
    {
     "name": "stderr",
     "output_type": "stream",
     "text": [
      "INFO:root: \n",
      "Avg Training Stats after 8 global rounds:\n",
      "INFO:root:Train Accuracy: 0.00%\n",
      "INFO:root:Training Loss : 0.39176523301870003\n",
      "INFO:root:Test Accuracy: 33.33%\n",
      "INFO:root:Test Loss: 1.8755121594667434 \n",
      "\n",
      "  8%|▊         | 8/100 [02:24<25:33, 16.67s/it]"
     ]
    },
    {
     "name": "stdout",
     "output_type": "stream",
     "text": [
      "[794, 278, 744, 862, 303, 19, 2274, 1053, 813, 1012]\n"
     ]
    },
    {
     "name": "stderr",
     "output_type": "stream",
     "text": [
      "INFO:root: \n",
      "Avg Training Stats after 9 global rounds:\n",
      "INFO:root:Train Accuracy: 0.00%\n",
      "INFO:root:Training Loss : 0.20737241212531007\n",
      "INFO:root:Test Accuracy: 33.60%\n",
      "INFO:root:Test Loss: 1.8860224097967149 \n",
      "\n",
      "  9%|▉         | 9/100 [02:39<24:47, 16.34s/it]"
     ]
    },
    {
     "name": "stdout",
     "output_type": "stream",
     "text": [
      "[1320, 40, 1756, 470, 327, 1012, 862, 1433, 796, 231]\n"
     ]
    },
    {
     "name": "stderr",
     "output_type": "stream",
     "text": [
      "INFO:root: \n",
      "Avg Training Stats after 10 global rounds:\n",
      "INFO:root:Train Accuracy: 0.00%\n",
      "INFO:root:Training Loss : 0.1889787955518631\n",
      "INFO:root:Test Accuracy: 33.89%\n",
      "INFO:root:Test Loss: 1.8633534932136535 \n",
      "\n",
      " 10%|█         | 10/100 [02:55<24:14, 16.16s/it]"
     ]
    },
    {
     "name": "stdout",
     "output_type": "stream",
     "text": [
      "[87, 201, 1798, 813, 123, 2934, 1756, 231, 1053, 4600]\n"
     ]
    },
    {
     "name": "stderr",
     "output_type": "stream",
     "text": [
      "INFO:root: \n",
      "Avg Training Stats after 11 global rounds:\n",
      "INFO:root:Train Accuracy: 0.00%\n",
      "INFO:root:Training Loss : 0.26043294394596506\n",
      "INFO:root:Test Accuracy: 38.14%\n",
      "INFO:root:Test Loss: 1.6694619780778885 \n",
      "\n",
      " 11%|█         | 11/100 [03:16<25:59, 17.52s/it]"
     ]
    },
    {
     "name": "stdout",
     "output_type": "stream",
     "text": [
      "[106, 231, 447, 796, 209, 1798, 1112, 1416, 590, 794]\n"
     ]
    },
    {
     "name": "stderr",
     "output_type": "stream",
     "text": [
      "INFO:root: \n",
      "Avg Training Stats after 12 global rounds:\n",
      "INFO:root:Train Accuracy: 0.00%\n",
      "INFO:root:Training Loss : 0.17959372201561613\n",
      "INFO:root:Test Accuracy: 38.70%\n",
      "INFO:root:Test Loss: 1.6622789418697357 \n",
      "\n",
      " 12%|█▏        | 12/100 [03:31<24:42, 16.84s/it]"
     ]
    },
    {
     "name": "stdout",
     "output_type": "stream",
     "text": [
      "[1320, 278, 862, 2274, 1798, 87, 2029, 796, 1018, 2430]\n"
     ]
    },
    {
     "name": "stderr",
     "output_type": "stream",
     "text": [
      "INFO:root: \n",
      "Avg Training Stats after 13 global rounds:\n",
      "INFO:root:Train Accuracy: 0.00%\n",
      "INFO:root:Training Loss : 0.20531510475489415\n",
      "INFO:root:Test Accuracy: 37.71%\n",
      "INFO:root:Test Loss: 1.7426269197463988 \n",
      "\n",
      " 13%|█▎        | 13/100 [03:51<26:00, 17.93s/it]"
     ]
    },
    {
     "name": "stdout",
     "output_type": "stream",
     "text": [
      "[4600, 2575, 590, 173, 2430, 40, 1112, 87, 231, 2195]\n"
     ]
    },
    {
     "name": "stderr",
     "output_type": "stream",
     "text": [
      "INFO:root: \n",
      "Avg Training Stats after 14 global rounds:\n",
      "INFO:root:Train Accuracy: 0.00%\n",
      "INFO:root:Training Loss : 0.26489855445933463\n",
      "INFO:root:Test Accuracy: 39.52%\n",
      "INFO:root:Test Loss: 1.7171180629730225 \n",
      "\n",
      " 14%|█▍        | 14/100 [04:12<27:00, 18.84s/it]"
     ]
    },
    {
     "name": "stdout",
     "output_type": "stream",
     "text": [
      "[231, 794, 1018, 1012, 15, 303, 796, 2274, 1320, 19]\n"
     ]
    },
    {
     "name": "stderr",
     "output_type": "stream",
     "text": [
      "INFO:root: \n",
      "Avg Training Stats after 15 global rounds:\n",
      "INFO:root:Train Accuracy: 0.00%\n",
      "INFO:root:Training Loss : 0.15620574807345047\n",
      "INFO:root:Test Accuracy: 42.12%\n",
      "INFO:root:Test Loss: 1.6083332794904708 \n",
      "\n",
      " 15%|█▌        | 15/100 [04:28<25:08, 17.74s/it]"
     ]
    },
    {
     "name": "stdout",
     "output_type": "stream",
     "text": [
      "[2195, 40, 2029, 862, 2575, 1433, 447, 19, 4600, 796]\n"
     ]
    },
    {
     "name": "stderr",
     "output_type": "stream",
     "text": [
      "INFO:root: \n",
      "Avg Training Stats after 16 global rounds:\n",
      "INFO:root:Train Accuracy: 0.00%\n",
      "INFO:root:Training Loss : 0.1859552071892333\n",
      "INFO:root:Test Accuracy: 43.33%\n",
      "INFO:root:Test Loss: 1.5610428392887115 \n",
      "\n",
      " 16%|█▌        | 16/100 [04:49<26:32, 18.96s/it]"
     ]
    },
    {
     "name": "stdout",
     "output_type": "stream",
     "text": [
      "[231, 173, 303, 2274, 796, 116, 1798, 447, 106, 1433]\n"
     ]
    },
    {
     "name": "stderr",
     "output_type": "stream",
     "text": [
      "INFO:root: \n",
      "Avg Training Stats after 17 global rounds:\n",
      "INFO:root:Train Accuracy: 0.00%\n",
      "INFO:root:Training Loss : 0.17010755534533975\n",
      "INFO:root:Test Accuracy: 41.06%\n",
      "INFO:root:Test Loss: 1.6630208832025528 \n",
      "\n",
      " 17%|█▋        | 17/100 [05:05<24:51, 17.96s/it]"
     ]
    },
    {
     "name": "stdout",
     "output_type": "stream",
     "text": [
      "[201, 1756, 796, 1320, 813, 542, 116, 173, 794, 1798]\n"
     ]
    },
    {
     "name": "stderr",
     "output_type": "stream",
     "text": [
      "INFO:root: \n",
      "Avg Training Stats after 18 global rounds:\n",
      "INFO:root:Train Accuracy: 0.00%\n",
      "INFO:root:Training Loss : 0.22869473385140598\n",
      "INFO:root:Test Accuracy: 42.78%\n",
      "INFO:root:Test Loss: 1.605276266336441 \n",
      "\n",
      " 18%|█▊        | 18/100 [05:21<23:46, 17.40s/it]"
     ]
    },
    {
     "name": "stdout",
     "output_type": "stream",
     "text": [
      "[15, 1780, 19, 744, 2575, 173, 813, 40, 1320, 422]\n"
     ]
    },
    {
     "name": "stderr",
     "output_type": "stream",
     "text": [
      "INFO:root: \n",
      "Avg Training Stats after 19 global rounds:\n",
      "INFO:root:Train Accuracy: 0.00%\n",
      "INFO:root:Training Loss : 0.23020575411241598\n",
      "INFO:root:Test Accuracy: 43.41%\n",
      "INFO:root:Test Loss: 1.5403226917982102 \n",
      "\n",
      " 19%|█▉        | 19/100 [05:37<22:48, 16.89s/it]"
     ]
    },
    {
     "name": "stdout",
     "output_type": "stream",
     "text": [
      "[813, 1736, 15, 1433, 267, 470, 3195, 744, 2575, 231]\n"
     ]
    },
    {
     "name": "stderr",
     "output_type": "stream",
     "text": [
      "INFO:root: \n",
      "Avg Training Stats after 20 global rounds:\n",
      "INFO:root:Train Accuracy: 0.00%\n",
      "INFO:root:Training Loss : 0.1613872782593087\n",
      "INFO:root:Test Accuracy: 42.96%\n",
      "INFO:root:Test Loss: 1.5676731687784196 \n",
      "\n",
      " 20%|██        | 20/100 [05:56<23:21, 17.52s/it]"
     ]
    },
    {
     "name": "stdout",
     "output_type": "stream",
     "text": [
      "[278, 744, 1053, 447, 1320, 116, 1798, 19, 4600, 3195]\n"
     ]
    },
    {
     "name": "stderr",
     "output_type": "stream",
     "text": [
      "INFO:root: \n",
      "Avg Training Stats after 21 global rounds:\n",
      "INFO:root:Train Accuracy: 0.00%\n",
      "INFO:root:Training Loss : 0.24157217275045437\n",
      "INFO:root:Test Accuracy: 45.43%\n",
      "INFO:root:Test Loss: 1.515055228471756 \n",
      "\n",
      " 21%|██        | 21/100 [06:16<24:13, 18.40s/it]"
     ]
    },
    {
     "name": "stdout",
     "output_type": "stream",
     "text": [
      "[813, 2029, 602, 590, 1756, 106, 1780, 40, 19, 2934]\n"
     ]
    },
    {
     "name": "stderr",
     "output_type": "stream",
     "text": [
      "INFO:root: \n",
      "Avg Training Stats after 22 global rounds:\n",
      "INFO:root:Train Accuracy: 0.00%\n",
      "INFO:root:Training Loss : 0.12184751021241161\n",
      "INFO:root:Test Accuracy: 48.75%\n",
      "INFO:root:Test Loss: 1.418983861207962 \n",
      "\n",
      " 22%|██▏       | 22/100 [06:35<23:51, 18.36s/it]"
     ]
    },
    {
     "name": "stdout",
     "output_type": "stream",
     "text": [
      "[40, 862, 327, 1780, 2274, 106, 1053, 1112, 1012, 3195]\n"
     ]
    },
    {
     "name": "stderr",
     "output_type": "stream",
     "text": [
      "INFO:root: \n",
      "Avg Training Stats after 23 global rounds:\n",
      "INFO:root:Train Accuracy: 0.00%\n",
      "INFO:root:Training Loss : 0.2075570360438675\n",
      "INFO:root:Test Accuracy: 51.04%\n",
      "INFO:root:Test Loss: 1.3722710424661637 \n",
      "\n",
      " 23%|██▎       | 23/100 [06:54<23:59, 18.69s/it]"
     ]
    },
    {
     "name": "stdout",
     "output_type": "stream",
     "text": [
      "[1320, 1119, 862, 744, 1053, 87, 201, 470, 2274, 1012]\n"
     ]
    },
    {
     "name": "stderr",
     "output_type": "stream",
     "text": [
      "INFO:root: \n",
      "Avg Training Stats after 24 global rounds:\n",
      "INFO:root:Train Accuracy: 0.00%\n",
      "INFO:root:Training Loss : 0.1841908520661688\n",
      "INFO:root:Test Accuracy: 51.51%\n",
      "INFO:root:Test Loss: 1.359654377102852 \n",
      "\n",
      " 24%|██▍       | 24/100 [07:11<22:56, 18.11s/it]"
     ]
    },
    {
     "name": "stdout",
     "output_type": "stream",
     "text": [
      "[447, 286, 1416, 87, 796, 1798, 231, 1119, 431, 2195]\n"
     ]
    },
    {
     "name": "stderr",
     "output_type": "stream",
     "text": [
      "INFO:root: \n",
      "Avg Training Stats after 25 global rounds:\n",
      "INFO:root:Train Accuracy: 0.00%\n",
      "INFO:root:Training Loss : 0.23074718705503852\n",
      "INFO:root:Test Accuracy: 52.67%\n",
      "INFO:root:Test Loss: 1.3240134578943252 \n",
      "\n",
      " 25%|██▌       | 25/100 [07:27<21:59, 17.60s/it]"
     ]
    },
    {
     "name": "stdout",
     "output_type": "stream",
     "text": [
      "[116, 2029, 690, 1416, 1780, 602, 2575, 1756, 431, 87]\n"
     ]
    },
    {
     "name": "stderr",
     "output_type": "stream",
     "text": [
      "INFO:root: \n",
      "Avg Training Stats after 26 global rounds:\n",
      "INFO:root:Train Accuracy: 0.00%\n",
      "INFO:root:Training Loss : 0.2638189553643239\n",
      "INFO:root:Test Accuracy: 53.54%\n",
      "INFO:root:Test Loss: 1.2922213083505631 \n",
      "\n",
      " 26%|██▌       | 26/100 [07:46<22:11, 18.00s/it]"
     ]
    },
    {
     "name": "stdout",
     "output_type": "stream",
     "text": [
      "[87, 173, 2029, 19, 4600, 2195, 116, 303, 40, 209]\n"
     ]
    },
    {
     "name": "stderr",
     "output_type": "stream",
     "text": [
      "INFO:root: \n",
      "Avg Training Stats after 27 global rounds:\n",
      "INFO:root:Train Accuracy: 0.00%\n",
      "INFO:root:Training Loss : 0.24277179105522978\n",
      "INFO:root:Test Accuracy: 53.17%\n",
      "INFO:root:Test Loss: 1.291375333070755 \n",
      "\n",
      " 27%|██▋       | 27/100 [08:03<21:39, 17.80s/it]"
     ]
    },
    {
     "name": "stdout",
     "output_type": "stream",
     "text": [
      "[4600, 267, 794, 231, 201, 231, 2934, 590, 470, 173]\n"
     ]
    },
    {
     "name": "stderr",
     "output_type": "stream",
     "text": [
      "INFO:root: \n",
      "Avg Training Stats after 28 global rounds:\n",
      "INFO:root:Train Accuracy: 0.00%\n",
      "INFO:root:Training Loss : 0.21691465649601432\n",
      "INFO:root:Test Accuracy: 53.63%\n",
      "INFO:root:Test Loss: 1.2796866858005524 \n",
      "\n",
      " 28%|██▊       | 28/100 [08:21<21:24, 17.84s/it]"
     ]
    },
    {
     "name": "stdout",
     "output_type": "stream",
     "text": [
      "[1798, 286, 123, 1112, 303, 796, 744, 1320, 231, 794]\n"
     ]
    },
    {
     "name": "stderr",
     "output_type": "stream",
     "text": [
      "INFO:root: \n",
      "Avg Training Stats after 29 global rounds:\n",
      "INFO:root:Train Accuracy: 0.00%\n",
      "INFO:root:Training Loss : 0.0890431121065885\n",
      "INFO:root:Test Accuracy: 54.25%\n",
      "INFO:root:Test Loss: 1.2754543787240982 \n",
      "\n",
      " 29%|██▉       | 29/100 [08:36<20:06, 17.00s/it]"
     ]
    },
    {
     "name": "stdout",
     "output_type": "stream",
     "text": [
      "[303, 4600, 1119, 447, 744, 40, 1756, 2430, 2029, 602]\n"
     ]
    },
    {
     "name": "stderr",
     "output_type": "stream",
     "text": [
      "INFO:root: \n",
      "Avg Training Stats after 30 global rounds:\n",
      "INFO:root:Train Accuracy: 0.00%\n",
      "INFO:root:Training Loss : 0.11035488298318621\n",
      "INFO:root:Test Accuracy: 53.62%\n",
      "INFO:root:Test Loss: 1.2870080119371414 \n",
      "\n",
      " 30%|███       | 30/100 [08:57<21:12, 18.18s/it]"
     ]
    },
    {
     "name": "stdout",
     "output_type": "stream",
     "text": [
      "[422, 3195, 1112, 327, 123, 1736, 303, 286, 106, 1433]\n"
     ]
    },
    {
     "name": "stderr",
     "output_type": "stream",
     "text": [
      "INFO:root: \n",
      "Avg Training Stats after 31 global rounds:\n",
      "INFO:root:Train Accuracy: 0.00%\n",
      "INFO:root:Training Loss : 0.1473006411415993\n",
      "INFO:root:Test Accuracy: 54.20%\n",
      "INFO:root:Test Loss: 1.2782886803150177 \n",
      "\n",
      " 31%|███       | 31/100 [09:14<20:19, 17.68s/it]"
     ]
    },
    {
     "name": "stdout",
     "output_type": "stream",
     "text": [
      "[862, 173, 422, 303, 123, 1012, 542, 278, 431, 2195]\n"
     ]
    },
    {
     "name": "stderr",
     "output_type": "stream",
     "text": [
      "INFO:root: \n",
      "Avg Training Stats after 32 global rounds:\n",
      "INFO:root:Train Accuracy: 0.00%\n",
      "INFO:root:Training Loss : 0.25219760267417934\n",
      "INFO:root:Test Accuracy: 56.04%\n",
      "INFO:root:Test Loss: 1.2191942071914672 \n",
      "\n",
      " 32%|███▏      | 32/100 [09:28<18:47, 16.58s/it]"
     ]
    },
    {
     "name": "stdout",
     "output_type": "stream",
     "text": [
      "[1320, 15, 19, 1756, 231, 470, 267, 87, 862, 327]\n"
     ]
    },
    {
     "name": "stderr",
     "output_type": "stream",
     "text": [
      "INFO:root: \n",
      "Avg Training Stats after 33 global rounds:\n",
      "INFO:root:Train Accuracy: 0.00%\n",
      "INFO:root:Training Loss : 0.2029699919371677\n",
      "INFO:root:Test Accuracy: 56.72%\n",
      "INFO:root:Test Loss: 1.1944148927927016 \n",
      "\n",
      " 33%|███▎      | 33/100 [09:41<17:19, 15.52s/it]"
     ]
    },
    {
     "name": "stdout",
     "output_type": "stream",
     "text": [
      "[87, 267, 796, 1053, 1433, 2575, 1119, 794, 15, 327]\n"
     ]
    },
    {
     "name": "stderr",
     "output_type": "stream",
     "text": [
      "INFO:root: \n",
      "Avg Training Stats after 34 global rounds:\n",
      "INFO:root:Train Accuracy: 0.00%\n",
      "INFO:root:Training Loss : 0.1562664516056557\n",
      "INFO:root:Test Accuracy: 56.83%\n",
      "INFO:root:Test Loss: 1.1962448886036874 \n",
      "\n",
      " 34%|███▍      | 34/100 [09:57<17:15, 15.68s/it]"
     ]
    },
    {
     "name": "stdout",
     "output_type": "stream",
     "text": [
      "[422, 1798, 590, 796, 19, 1320, 173, 1416, 1053, 4600]\n"
     ]
    },
    {
     "name": "stderr",
     "output_type": "stream",
     "text": [
      "INFO:root: \n",
      "Avg Training Stats after 35 global rounds:\n",
      "INFO:root:Train Accuracy: 0.00%\n",
      "INFO:root:Training Loss : 0.20716001726649816\n",
      "INFO:root:Test Accuracy: 57.36%\n",
      "INFO:root:Test Loss: 1.1926812121272088 \n",
      "\n",
      " 35%|███▌      | 35/100 [10:16<18:10, 16.78s/it]"
     ]
    },
    {
     "name": "stdout",
     "output_type": "stream",
     "text": [
      "[2430, 1320, 602, 3195, 231, 2934, 431, 794, 1416, 542]\n"
     ]
    },
    {
     "name": "stderr",
     "output_type": "stream",
     "text": [
      "INFO:root: \n",
      "Avg Training Stats after 36 global rounds:\n",
      "INFO:root:Train Accuracy: 0.00%\n",
      "INFO:root:Training Loss : 0.16421729889359146\n",
      "INFO:root:Test Accuracy: 57.52%\n",
      "INFO:root:Test Loss: 1.2053873574733733 \n",
      "\n",
      " 36%|███▌      | 36/100 [10:37<19:17, 18.09s/it]"
     ]
    },
    {
     "name": "stdout",
     "output_type": "stream",
     "text": [
      "[15, 813, 1112, 123, 40, 796, 2274, 1018, 2195, 201]\n"
     ]
    },
    {
     "name": "stderr",
     "output_type": "stream",
     "text": [
      "INFO:root: \n",
      "Avg Training Stats after 37 global rounds:\n",
      "INFO:root:Train Accuracy: 0.00%\n",
      "INFO:root:Training Loss : 0.11750685617913989\n",
      "INFO:root:Test Accuracy: 57.18%\n",
      "INFO:root:Test Loss: 1.2243579453229905 \n",
      "\n",
      " 37%|███▋      | 37/100 [10:54<18:22, 17.50s/it]"
     ]
    },
    {
     "name": "stdout",
     "output_type": "stream",
     "text": [
      "[303, 2195, 422, 1112, 1433, 116, 796, 602, 1756, 231]\n"
     ]
    },
    {
     "name": "stderr",
     "output_type": "stream",
     "text": [
      "INFO:root: \n",
      "Avg Training Stats after 38 global rounds:\n",
      "INFO:root:Train Accuracy: 0.00%\n",
      "INFO:root:Training Loss : 0.1575272353632992\n",
      "INFO:root:Test Accuracy: 57.59%\n",
      "INFO:root:Test Loss: 1.2185624819993972 \n",
      "\n",
      " 38%|███▊      | 38/100 [11:10<17:45, 17.19s/it]"
     ]
    },
    {
     "name": "stdout",
     "output_type": "stream",
     "text": [
      "[1756, 231, 267, 2430, 590, 1736, 15, 4600, 327, 1112]\n"
     ]
    },
    {
     "name": "stderr",
     "output_type": "stream",
     "text": [
      "INFO:root: \n",
      "Avg Training Stats after 39 global rounds:\n",
      "INFO:root:Train Accuracy: 0.00%\n",
      "INFO:root:Training Loss : 0.14187539880483943\n",
      "INFO:root:Test Accuracy: 58.37%\n",
      "INFO:root:Test Loss: 1.1668060711026191 \n",
      "\n",
      " 39%|███▉      | 39/100 [11:31<18:37, 18.32s/it]"
     ]
    },
    {
     "name": "stdout",
     "output_type": "stream",
     "text": [
      "[2575, 422, 3195, 862, 231, 796, 2934, 123, 2430, 794]\n"
     ]
    },
    {
     "name": "stderr",
     "output_type": "stream",
     "text": [
      "INFO:root: \n",
      "Avg Training Stats after 40 global rounds:\n",
      "INFO:root:Train Accuracy: 0.00%\n",
      "INFO:root:Training Loss : 0.13839072896210022\n",
      "INFO:root:Test Accuracy: 58.64%\n",
      "INFO:root:Test Loss: 1.1577476808428764 \n",
      "\n",
      " 40%|████      | 40/100 [11:53<19:20, 19.35s/it]"
     ]
    },
    {
     "name": "stdout",
     "output_type": "stream",
     "text": [
      "[231, 1119, 1736, 278, 447, 1018, 286, 744, 690, 173]\n"
     ]
    },
    {
     "name": "stderr",
     "output_type": "stream",
     "text": [
      "INFO:root: \n",
      "Avg Training Stats after 41 global rounds:\n",
      "INFO:root:Train Accuracy: 0.00%\n",
      "INFO:root:Training Loss : 0.16160401753478953\n",
      "INFO:root:Test Accuracy: 58.41%\n",
      "INFO:root:Test Loss: 1.163049807846546 \n",
      "\n",
      " 41%|████      | 41/100 [12:07<17:35, 17.90s/it]"
     ]
    },
    {
     "name": "stdout",
     "output_type": "stream",
     "text": [
      "[231, 1320, 1416, 2575, 2274, 862, 690, 602, 1012, 173]\n"
     ]
    },
    {
     "name": "stderr",
     "output_type": "stream",
     "text": [
      "INFO:root: \n",
      "Avg Training Stats after 42 global rounds:\n",
      "INFO:root:Train Accuracy: 0.00%\n",
      "INFO:root:Training Loss : 0.1639660747072752\n",
      "INFO:root:Test Accuracy: 59.24%\n",
      "INFO:root:Test Loss: 1.1387369337677955 \n",
      "\n",
      " 42%|████▏     | 42/100 [12:26<17:29, 18.09s/it]"
     ]
    },
    {
     "name": "stdout",
     "output_type": "stream",
     "text": [
      "[1112, 1053, 3195, 2934, 2029, 201, 123, 2195, 1018, 173]\n"
     ]
    },
    {
     "name": "stderr",
     "output_type": "stream",
     "text": [
      "INFO:root: \n",
      "Avg Training Stats after 43 global rounds:\n",
      "INFO:root:Train Accuracy: 0.00%\n",
      "INFO:root:Training Loss : 0.1939483177221068\n",
      "INFO:root:Test Accuracy: 60.37%\n",
      "INFO:root:Test Loss: 1.095179277062416 \n",
      "\n",
      " 43%|████▎     | 43/100 [12:47<18:02, 18.98s/it]"
     ]
    },
    {
     "name": "stdout",
     "output_type": "stream",
     "text": [
      "[862, 1053, 422, 3195, 4600, 794, 1756, 173, 2029, 1018]\n"
     ]
    },
    {
     "name": "stderr",
     "output_type": "stream",
     "text": [
      "INFO:root: \n",
      "Avg Training Stats after 44 global rounds:\n",
      "INFO:root:Train Accuracy: 0.00%\n",
      "INFO:root:Training Loss : 0.1810477409206586\n",
      "INFO:root:Test Accuracy: 60.19%\n",
      "INFO:root:Test Loss: 1.1334786835312842 \n",
      "\n",
      " 44%|████▍     | 44/100 [13:10<18:50, 20.19s/it]"
     ]
    },
    {
     "name": "stdout",
     "output_type": "stream",
     "text": [
      "[1320, 2934, 796, 2195, 862, 2575, 2029, 19, 422, 286]\n"
     ]
    },
    {
     "name": "stderr",
     "output_type": "stream",
     "text": [
      "INFO:root: \n",
      "Avg Training Stats after 45 global rounds:\n",
      "INFO:root:Train Accuracy: 0.00%\n",
      "INFO:root:Training Loss : 0.11838856095302575\n",
      "INFO:root:Test Accuracy: 58.13%\n",
      "INFO:root:Test Loss: 1.238334446400404 \n",
      "\n",
      " 45%|████▌     | 45/100 [13:30<18:36, 20.30s/it]"
     ]
    },
    {
     "name": "stdout",
     "output_type": "stream",
     "text": [
      "[862, 744, 1416, 1112, 590, 542, 278, 690, 116, 1780]\n"
     ]
    },
    {
     "name": "stderr",
     "output_type": "stream",
     "text": [
      "INFO:root: \n",
      "Avg Training Stats after 46 global rounds:\n",
      "INFO:root:Train Accuracy: 0.00%\n",
      "INFO:root:Training Loss : 0.21592126141732057\n",
      "INFO:root:Test Accuracy: 61.39%\n",
      "INFO:root:Test Loss: 1.118844524472952 \n",
      "\n",
      " 46%|████▌     | 46/100 [13:46<17:00, 18.90s/it]"
     ]
    },
    {
     "name": "stdout",
     "output_type": "stream",
     "text": [
      "[2575, 1112, 1320, 231, 3195, 1012, 862, 447, 2195, 201]\n"
     ]
    },
    {
     "name": "stderr",
     "output_type": "stream",
     "text": [
      "INFO:root: \n",
      "Avg Training Stats after 47 global rounds:\n",
      "INFO:root:Train Accuracy: 0.00%\n",
      "INFO:root:Training Loss : 0.09991304527454976\n",
      "INFO:root:Test Accuracy: 63.03%\n",
      "INFO:root:Test Loss: 1.0486223375797272 \n",
      "\n",
      " 47%|████▋     | 47/100 [14:07<17:07, 19.38s/it]"
     ]
    },
    {
     "name": "stdout",
     "output_type": "stream",
     "text": [
      "[1433, 542, 813, 231, 1119, 2029, 1012, 173, 2195, 1320]\n"
     ]
    },
    {
     "name": "stderr",
     "output_type": "stream",
     "text": [
      "INFO:root: \n",
      "Avg Training Stats after 48 global rounds:\n",
      "INFO:root:Train Accuracy: 0.00%\n",
      "INFO:root:Training Loss : 0.1084631460409958\n",
      "INFO:root:Test Accuracy: 61.99%\n",
      "INFO:root:Test Loss: 1.0805517295002938 \n",
      "\n",
      " 48%|████▊     | 48/100 [14:25<16:31, 19.07s/it]"
     ]
    },
    {
     "name": "stdout",
     "output_type": "stream",
     "text": [
      "[744, 2195, 209, 1780, 2575, 123, 327, 40, 1736, 690]\n"
     ]
    },
    {
     "name": "stderr",
     "output_type": "stream",
     "text": [
      "INFO:root: \n",
      "Avg Training Stats after 49 global rounds:\n",
      "INFO:root:Train Accuracy: 0.00%\n",
      "INFO:root:Training Loss : 0.1997564749063279\n",
      "INFO:root:Test Accuracy: 61.45%\n",
      "INFO:root:Test Loss: 1.1070826144516468 \n",
      "\n",
      " 49%|████▉     | 49/100 [14:43<15:54, 18.71s/it]"
     ]
    },
    {
     "name": "stdout",
     "output_type": "stream",
     "text": [
      "[862, 690, 1433, 173, 3195, 2934, 116, 447, 231, 431]\n"
     ]
    },
    {
     "name": "stderr",
     "output_type": "stream",
     "text": [
      "INFO:root: \n",
      "Avg Training Stats after 50 global rounds:\n",
      "INFO:root:Train Accuracy: 0.00%\n",
      "INFO:root:Training Loss : 0.18011866279962724\n",
      "INFO:root:Test Accuracy: 62.93%\n",
      "INFO:root:Test Loss: 1.0725235885381699 \n",
      "\n",
      " 50%|█████     | 50/100 [15:01<15:25, 18.52s/it]"
     ]
    },
    {
     "name": "stdout",
     "output_type": "stream",
     "text": [
      "[1320, 19, 3195, 87, 1756, 303, 813, 2575, 231, 231]\n"
     ]
    },
    {
     "name": "stderr",
     "output_type": "stream",
     "text": [
      "INFO:root: \n",
      "Avg Training Stats after 51 global rounds:\n",
      "INFO:root:Train Accuracy: 0.00%\n",
      "INFO:root:Training Loss : 0.04711374855173295\n",
      "INFO:root:Test Accuracy: 62.15%\n",
      "INFO:root:Test Loss: 1.115056828558445 \n",
      "\n",
      " 51%|█████     | 51/100 [15:19<15:06, 18.49s/it]"
     ]
    },
    {
     "name": "stdout",
     "output_type": "stream",
     "text": [
      "[40, 813, 1780, 2934, 15, 173, 278, 19, 1798, 267]\n"
     ]
    },
    {
     "name": "stderr",
     "output_type": "stream",
     "text": [
      "INFO:root: \n",
      "Avg Training Stats after 52 global rounds:\n",
      "INFO:root:Train Accuracy: 0.00%\n",
      "INFO:root:Training Loss : 0.11902363392734663\n",
      "INFO:root:Test Accuracy: 60.54%\n",
      "INFO:root:Test Loss: 1.1863848125934602 \n",
      "\n",
      " 52%|█████▏    | 52/100 [15:35<14:08, 17.67s/it]"
     ]
    },
    {
     "name": "stdout",
     "output_type": "stream",
     "text": [
      "[267, 231, 690, 173, 1780, 1053, 862, 590, 1433, 303]\n"
     ]
    },
    {
     "name": "stderr",
     "output_type": "stream",
     "text": [
      "INFO:root: \n",
      "Avg Training Stats after 53 global rounds:\n",
      "INFO:root:Train Accuracy: 0.00%\n",
      "INFO:root:Training Loss : 0.15895089881914773\n",
      "INFO:root:Test Accuracy: 62.12%\n",
      "INFO:root:Test Loss: 1.1319858556985856 \n",
      "\n",
      " 53%|█████▎    | 53/100 [15:50<13:18, 16.99s/it]"
     ]
    },
    {
     "name": "stdout",
     "output_type": "stream",
     "text": [
      "[431, 3195, 201, 796, 2934, 15, 231, 1112, 1736, 267]\n"
     ]
    },
    {
     "name": "stderr",
     "output_type": "stream",
     "text": [
      "INFO:root: \n",
      "Avg Training Stats after 54 global rounds:\n",
      "INFO:root:Train Accuracy: 0.00%\n",
      "INFO:root:Training Loss : 0.11455969451037581\n",
      "INFO:root:Test Accuracy: 64.03%\n",
      "INFO:root:Test Loss: 1.034880912899971 \n",
      "\n",
      " 54%|█████▍    | 54/100 [16:09<13:20, 17.40s/it]"
     ]
    },
    {
     "name": "stdout",
     "output_type": "stream",
     "text": [
      "[40, 1320, 1416, 286, 2195, 1012, 201, 116, 1053, 542]\n"
     ]
    },
    {
     "name": "stderr",
     "output_type": "stream",
     "text": [
      "INFO:root: \n",
      "Avg Training Stats after 55 global rounds:\n",
      "INFO:root:Train Accuracy: 0.00%\n",
      "INFO:root:Training Loss : 0.167229490389376\n",
      "INFO:root:Test Accuracy: 65.07%\n",
      "INFO:root:Test Loss: 1.002135350704193 \n",
      "\n",
      " 55%|█████▌    | 55/100 [16:25<12:41, 16.92s/it]"
     ]
    },
    {
     "name": "stdout",
     "output_type": "stream",
     "text": [
      "[1798, 422, 231, 4600, 231, 2575, 1433, 106, 1320, 862]\n"
     ]
    },
    {
     "name": "stderr",
     "output_type": "stream",
     "text": [
      "INFO:root: \n",
      "Avg Training Stats after 56 global rounds:\n",
      "INFO:root:Train Accuracy: 0.00%\n",
      "INFO:root:Training Loss : 0.08367974983474134\n",
      "INFO:root:Test Accuracy: 64.75%\n",
      "INFO:root:Test Loss: 1.0194943630695343 \n",
      "\n",
      " 56%|█████▌    | 56/100 [16:46<13:23, 18.26s/it]"
     ]
    },
    {
     "name": "stdout",
     "output_type": "stream",
     "text": [
      "[2274, 3195, 267, 2029, 590, 327, 2195, 278, 1756, 813]\n"
     ]
    },
    {
     "name": "stderr",
     "output_type": "stream",
     "text": [
      "INFO:root: \n",
      "Avg Training Stats after 57 global rounds:\n",
      "INFO:root:Train Accuracy: 0.00%\n",
      "INFO:root:Training Loss : 0.12045297535050474\n",
      "INFO:root:Test Accuracy: 64.96%\n",
      "INFO:root:Test Loss: 1.0295474275946617 \n",
      "\n",
      " 57%|█████▋    | 57/100 [17:08<13:48, 19.28s/it]"
     ]
    },
    {
     "name": "stdout",
     "output_type": "stream",
     "text": [
      "[1798, 431, 123, 1320, 1416, 231, 2575, 2934, 19, 1756]\n"
     ]
    },
    {
     "name": "stderr",
     "output_type": "stream",
     "text": [
      "INFO:root: \n",
      "Avg Training Stats after 58 global rounds:\n",
      "INFO:root:Train Accuracy: 0.00%\n",
      "INFO:root:Training Loss : 0.0968782847251504\n",
      "INFO:root:Test Accuracy: 64.52%\n",
      "INFO:root:Test Loss: 1.063456391096115 \n",
      "\n",
      " 58%|█████▊    | 58/100 [17:29<13:49, 19.76s/it]"
     ]
    },
    {
     "name": "stdout",
     "output_type": "stream",
     "text": [
      "[1018, 267, 2274, 447, 2029, 690, 590, 303, 1119, 796]\n"
     ]
    },
    {
     "name": "stderr",
     "output_type": "stream",
     "text": [
      "INFO:root: \n",
      "Avg Training Stats after 59 global rounds:\n",
      "INFO:root:Train Accuracy: 0.00%\n",
      "INFO:root:Training Loss : 0.07068713565763156\n",
      "INFO:root:Test Accuracy: 63.64%\n",
      "INFO:root:Test Loss: 1.1129415401816367 \n",
      "\n",
      " 59%|█████▉    | 59/100 [17:46<12:58, 18.98s/it]"
     ]
    },
    {
     "name": "stdout",
     "output_type": "stream",
     "text": [
      "[106, 2430, 447, 1433, 1012, 3195, 1119, 1756, 862, 4600]\n"
     ]
    },
    {
     "name": "stderr",
     "output_type": "stream",
     "text": [
      "INFO:root: \n",
      "Avg Training Stats after 60 global rounds:\n",
      "INFO:root:Train Accuracy: 0.00%\n",
      "INFO:root:Training Loss : 0.0592136883442206\n",
      "INFO:root:Test Accuracy: 63.69%\n",
      "INFO:root:Test Loss: 1.12252396017313 \n",
      "\n",
      " 60%|██████    | 60/100 [18:10<13:39, 20.48s/it]"
     ]
    },
    {
     "name": "stdout",
     "output_type": "stream",
     "text": [
      "[1780, 1320, 286, 2029, 40, 796, 447, 15, 231, 744]\n"
     ]
    },
    {
     "name": "stderr",
     "output_type": "stream",
     "text": [
      "INFO:root: \n",
      "Avg Training Stats after 61 global rounds:\n",
      "INFO:root:Train Accuracy: 0.00%\n",
      "INFO:root:Training Loss : 0.08521880878519703\n",
      "INFO:root:Test Accuracy: 65.09%\n",
      "INFO:root:Test Loss: 1.0475825509428978 \n",
      "\n",
      " 61%|██████    | 61/100 [18:25<12:16, 18.88s/it]"
     ]
    },
    {
     "name": "stdout",
     "output_type": "stream",
     "text": [
      "[116, 15, 2029, 327, 19, 470, 422, 87, 1012, 303]\n"
     ]
    },
    {
     "name": "stderr",
     "output_type": "stream",
     "text": [
      "INFO:root: \n",
      "Avg Training Stats after 62 global rounds:\n",
      "INFO:root:Train Accuracy: 0.00%\n",
      "INFO:root:Training Loss : 0.11215077550416049\n",
      "INFO:root:Test Accuracy: 66.61%\n",
      "INFO:root:Test Loss: 0.9843298557400704 \n",
      "\n",
      " 62%|██████▏   | 62/100 [18:37<10:46, 17.00s/it]"
     ]
    },
    {
     "name": "stdout",
     "output_type": "stream",
     "text": [
      "[796, 2274, 862, 286, 813, 3195, 1112, 422, 1119, 327]\n"
     ]
    },
    {
     "name": "stderr",
     "output_type": "stream",
     "text": [
      "INFO:root: \n",
      "Avg Training Stats after 63 global rounds:\n",
      "INFO:root:Train Accuracy: 0.00%\n",
      "INFO:root:Training Loss : 0.09096367819450496\n",
      "INFO:root:Test Accuracy: 66.97%\n",
      "INFO:root:Test Loss: 0.9724253904819489 \n",
      "\n",
      " 63%|██████▎   | 63/100 [18:56<10:45, 17.44s/it]"
     ]
    },
    {
     "name": "stdout",
     "output_type": "stream",
     "text": [
      "[542, 1798, 690, 15, 267, 2575, 796, 590, 209, 470]\n"
     ]
    },
    {
     "name": "stderr",
     "output_type": "stream",
     "text": [
      "INFO:root: \n",
      "Avg Training Stats after 64 global rounds:\n",
      "INFO:root:Train Accuracy: 0.00%\n",
      "INFO:root:Training Loss : 0.08718940443739086\n",
      "INFO:root:Test Accuracy: 66.72%\n",
      "INFO:root:Test Loss: 0.9784557503461838 \n",
      "\n",
      " 64%|██████▍   | 64/100 [19:11<10:06, 16.86s/it]"
     ]
    },
    {
     "name": "stdout",
     "output_type": "stream",
     "text": [
      "[87, 267, 286, 1053, 303, 796, 40, 173, 19, 327]\n"
     ]
    },
    {
     "name": "stderr",
     "output_type": "stream",
     "text": [
      "INFO:root: \n",
      "Avg Training Stats after 65 global rounds:\n",
      "INFO:root:Train Accuracy: 0.00%\n",
      "INFO:root:Training Loss : 0.12565699241651843\n",
      "INFO:root:Test Accuracy: 66.89%\n",
      "INFO:root:Test Loss: 0.9798470199108124 \n",
      "\n",
      " 65%|██████▌   | 65/100 [19:23<08:51, 15.18s/it]"
     ]
    },
    {
     "name": "stdout",
     "output_type": "stream",
     "text": [
      "[813, 542, 106, 123, 4600, 40, 209, 2029, 1736, 2195]\n"
     ]
    },
    {
     "name": "stderr",
     "output_type": "stream",
     "text": [
      "INFO:root: \n",
      "Avg Training Stats after 66 global rounds:\n",
      "INFO:root:Train Accuracy: 0.00%\n",
      "INFO:root:Training Loss : 0.11198791798599847\n",
      "INFO:root:Test Accuracy: 67.03%\n",
      "INFO:root:Test Loss: 0.9849120581150055 \n",
      "\n",
      " 66%|██████▌   | 66/100 [19:42<09:22, 16.54s/it]"
     ]
    },
    {
     "name": "stdout",
     "output_type": "stream",
     "text": [
      "[1416, 1320, 201, 744, 2934, 447, 278, 2430, 1018, 2274]\n"
     ]
    },
    {
     "name": "stderr",
     "output_type": "stream",
     "text": [
      "INFO:root: \n",
      "Avg Training Stats after 67 global rounds:\n",
      "INFO:root:Train Accuracy: 0.00%\n",
      "INFO:root:Training Loss : 0.1062692487791842\n",
      "INFO:root:Test Accuracy: 67.06%\n",
      "INFO:root:Test Loss: 0.9793177422881126 \n",
      "\n",
      " 67%|██████▋   | 67/100 [20:03<09:42, 17.66s/it]"
     ]
    },
    {
     "name": "stdout",
     "output_type": "stream",
     "text": [
      "[303, 1012, 470, 123, 106, 201, 87, 1736, 2934, 2575]\n"
     ]
    },
    {
     "name": "stderr",
     "output_type": "stream",
     "text": [
      "INFO:root: \n",
      "Avg Training Stats after 68 global rounds:\n",
      "INFO:root:Train Accuracy: 0.00%\n",
      "INFO:root:Training Loss : 0.04922656468665903\n",
      "INFO:root:Test Accuracy: 66.41%\n",
      "INFO:root:Test Loss: 0.987729674577713 \n",
      "\n",
      " 68%|██████▊   | 68/100 [20:20<09:17, 17.43s/it]"
     ]
    },
    {
     "name": "stdout",
     "output_type": "stream",
     "text": [
      "[3195, 794, 690, 2029, 231, 1756, 1112, 1736, 201, 813]\n"
     ]
    },
    {
     "name": "stderr",
     "output_type": "stream",
     "text": [
      "INFO:root: \n",
      "Avg Training Stats after 69 global rounds:\n",
      "INFO:root:Train Accuracy: 0.00%\n",
      "INFO:root:Training Loss : 0.05535655666946789\n",
      "INFO:root:Test Accuracy: 65.87%\n",
      "INFO:root:Test Loss: 1.007075082361698 \n",
      "\n",
      " 69%|██████▉   | 69/100 [20:40<09:26, 18.28s/it]"
     ]
    },
    {
     "name": "stdout",
     "output_type": "stream",
     "text": [
      "[106, 40, 278, 422, 470, 2029, 2934, 744, 2274, 327]\n"
     ]
    },
    {
     "name": "stderr",
     "output_type": "stream",
     "text": [
      "INFO:root: \n",
      "Avg Training Stats after 70 global rounds:\n",
      "INFO:root:Train Accuracy: 0.00%\n",
      "INFO:root:Training Loss : 0.08155395049003603\n",
      "INFO:root:Test Accuracy: 65.57%\n",
      "INFO:root:Test Loss: 1.0334739670157433 \n",
      "\n",
      " 70%|███████   | 70/100 [20:57<09:02, 18.09s/it]"
     ]
    },
    {
     "name": "stdout",
     "output_type": "stream",
     "text": [
      "[3195, 267, 303, 173, 286, 2029, 422, 1012, 796, 106]\n"
     ]
    },
    {
     "name": "stderr",
     "output_type": "stream",
     "text": [
      "INFO:root: \n",
      "Avg Training Stats after 71 global rounds:\n",
      "INFO:root:Train Accuracy: 0.00%\n",
      "INFO:root:Training Loss : 0.07955489050082429\n",
      "INFO:root:Test Accuracy: 65.35%\n",
      "INFO:root:Test Loss: 1.0737952584028243 \n",
      "\n",
      " 71%|███████   | 71/100 [21:14<08:28, 17.53s/it]"
     ]
    },
    {
     "name": "stdout",
     "output_type": "stream",
     "text": [
      "[209, 40, 4600, 106, 123, 1012, 690, 542, 602, 2575]\n"
     ]
    },
    {
     "name": "stderr",
     "output_type": "stream",
     "text": [
      "INFO:root: \n",
      "Avg Training Stats after 72 global rounds:\n",
      "INFO:root:Train Accuracy: 0.00%\n",
      "INFO:root:Training Loss : 0.08475590784744398\n",
      "INFO:root:Test Accuracy: 64.71%\n",
      "INFO:root:Test Loss: 1.111976700425148 \n",
      "\n",
      " 72%|███████▏  | 72/100 [21:32<08:16, 17.74s/it]"
     ]
    },
    {
     "name": "stdout",
     "output_type": "stream",
     "text": [
      "[1012, 2430, 2274, 209, 1798, 303, 1112, 231, 744, 278]\n"
     ]
    },
    {
     "name": "stderr",
     "output_type": "stream",
     "text": [
      "INFO:root: \n",
      "Avg Training Stats after 73 global rounds:\n",
      "INFO:root:Train Accuracy: 0.00%\n",
      "INFO:root:Training Loss : 0.06722653834026958\n",
      "INFO:root:Test Accuracy: 64.58%\n",
      "INFO:root:Test Loss: 1.1032025238871574 \n",
      "\n",
      " 73%|███████▎  | 73/100 [21:50<08:04, 17.94s/it]"
     ]
    },
    {
     "name": "stdout",
     "output_type": "stream",
     "text": [
      "[447, 1320, 209, 327, 744, 1018, 231, 2430, 590, 602]\n"
     ]
    },
    {
     "name": "stderr",
     "output_type": "stream",
     "text": [
      "INFO:root: \n",
      "Avg Training Stats after 74 global rounds:\n",
      "INFO:root:Train Accuracy: 0.00%\n",
      "INFO:root:Training Loss : 0.1137853134418905\n",
      "INFO:root:Test Accuracy: 65.43%\n",
      "INFO:root:Test Loss: 1.0743509203195571 \n",
      "\n",
      " 74%|███████▍  | 74/100 [22:07<07:32, 17.41s/it]"
     ]
    },
    {
     "name": "stdout",
     "output_type": "stream",
     "text": [
      "[470, 1053, 303, 1012, 106, 3195, 447, 1112, 201, 1433]\n"
     ]
    },
    {
     "name": "stderr",
     "output_type": "stream",
     "text": [
      "INFO:root: \n",
      "Avg Training Stats after 75 global rounds:\n",
      "INFO:root:Train Accuracy: 0.00%\n",
      "INFO:root:Training Loss : 0.046474875539942874\n",
      "INFO:root:Test Accuracy: 65.80%\n",
      "INFO:root:Test Loss: 1.040560714304447 \n",
      "\n",
      " 75%|███████▌  | 75/100 [22:24<07:15, 17.43s/it]"
     ]
    },
    {
     "name": "stdout",
     "output_type": "stream",
     "text": [
      "[231, 1433, 431, 209, 1416, 1780, 116, 123, 422, 4600]\n"
     ]
    },
    {
     "name": "stderr",
     "output_type": "stream",
     "text": [
      "INFO:root: \n",
      "Avg Training Stats after 76 global rounds:\n",
      "INFO:root:Train Accuracy: 0.00%\n",
      "INFO:root:Training Loss : 0.16172230182586622\n",
      "INFO:root:Test Accuracy: 67.05%\n",
      "INFO:root:Test Loss: 0.9958637776970863 \n",
      "\n",
      " 76%|███████▌  | 76/100 [22:43<07:10, 17.94s/it]"
     ]
    },
    {
     "name": "stdout",
     "output_type": "stream",
     "text": [
      "[2575, 796, 1053, 267, 602, 1018, 201, 1756, 286, 2430]\n"
     ]
    },
    {
     "name": "stderr",
     "output_type": "stream",
     "text": [
      "INFO:root: \n",
      "Avg Training Stats after 77 global rounds:\n",
      "INFO:root:Train Accuracy: 0.00%\n",
      "INFO:root:Training Loss : 0.08829388669549094\n",
      "INFO:root:Test Accuracy: 67.57%\n",
      "INFO:root:Test Loss: 0.9724538493156433 \n",
      "\n",
      " 77%|███████▋  | 77/100 [23:02<07:01, 18.33s/it]"
     ]
    },
    {
     "name": "stdout",
     "output_type": "stream",
     "text": [
      "[15, 2029, 2274, 744, 1018, 1736, 2934, 19, 173, 447]\n"
     ]
    },
    {
     "name": "stderr",
     "output_type": "stream",
     "text": [
      "INFO:root: \n",
      "Avg Training Stats after 78 global rounds:\n",
      "INFO:root:Train Accuracy: 0.00%\n",
      "INFO:root:Training Loss : 0.08347561888715609\n",
      "INFO:root:Test Accuracy: 67.45%\n",
      "INFO:root:Test Loss: 0.99075463950634 \n",
      "\n",
      " 78%|███████▊  | 78/100 [23:22<06:49, 18.63s/it]"
     ]
    },
    {
     "name": "stdout",
     "output_type": "stream",
     "text": [
      "[542, 602, 173, 201, 590, 690, 422, 2934, 1736, 744]\n"
     ]
    },
    {
     "name": "stderr",
     "output_type": "stream",
     "text": [
      "INFO:root: \n",
      "Avg Training Stats after 79 global rounds:\n",
      "INFO:root:Train Accuracy: 0.00%\n",
      "INFO:root:Training Loss : 0.10767838056099661\n",
      "INFO:root:Test Accuracy: 67.57%\n",
      "INFO:root:Test Loss: 1.0109594665467738 \n",
      "\n",
      " 79%|███████▉  | 79/100 [23:38<06:17, 17.97s/it]"
     ]
    },
    {
     "name": "stdout",
     "output_type": "stream",
     "text": [
      "[201, 278, 40, 1112, 106, 690, 2029, 87, 796, 3195]\n"
     ]
    },
    {
     "name": "stderr",
     "output_type": "stream",
     "text": [
      "INFO:root: \n",
      "Avg Training Stats after 80 global rounds:\n",
      "INFO:root:Train Accuracy: 0.00%\n",
      "INFO:root:Training Loss : 0.03168189054335416\n",
      "INFO:root:Test Accuracy: 67.63%\n",
      "INFO:root:Test Loss: 1.026826338469982 \n",
      "\n",
      " 80%|████████  | 80/100 [23:54<05:47, 17.38s/it]"
     ]
    },
    {
     "name": "stdout",
     "output_type": "stream",
     "text": [
      "[1798, 15, 201, 123, 1433, 542, 1119, 690, 602, 40]\n"
     ]
    },
    {
     "name": "stderr",
     "output_type": "stream",
     "text": [
      "INFO:root: \n",
      "Avg Training Stats after 81 global rounds:\n",
      "INFO:root:Train Accuracy: 0.00%\n",
      "INFO:root:Training Loss : 0.04828138640321787\n",
      "INFO:root:Test Accuracy: 67.65%\n",
      "INFO:root:Test Loss: 1.0335419487953186 \n",
      "\n",
      " 81%|████████  | 81/100 [24:08<05:11, 16.38s/it]"
     ]
    },
    {
     "name": "stdout",
     "output_type": "stream",
     "text": [
      "[267, 542, 209, 796, 87, 3195, 231, 303, 2934, 1119]\n"
     ]
    },
    {
     "name": "stderr",
     "output_type": "stream",
     "text": [
      "INFO:root: \n",
      "Avg Training Stats after 82 global rounds:\n",
      "INFO:root:Train Accuracy: 0.00%\n",
      "INFO:root:Training Loss : 0.06170601709139858\n",
      "INFO:root:Test Accuracy: 67.70%\n",
      "INFO:root:Test Loss: 1.0301554116606713 \n",
      "\n",
      " 82%|████████▏ | 82/100 [24:25<04:58, 16.58s/it]"
     ]
    },
    {
     "name": "stdout",
     "output_type": "stream",
     "text": [
      "[690, 431, 422, 231, 4600, 2934, 2029, 327, 796, 590]\n"
     ]
    },
    {
     "name": "stderr",
     "output_type": "stream",
     "text": [
      "INFO:root: \n",
      "Avg Training Stats after 83 global rounds:\n",
      "INFO:root:Train Accuracy: 0.00%\n",
      "INFO:root:Training Loss : 0.08494361261867947\n",
      "INFO:root:Test Accuracy: 66.75%\n",
      "INFO:root:Test Loss: 1.058040432035923 \n",
      "\n",
      " 83%|████████▎ | 83/100 [24:46<05:00, 17.70s/it]"
     ]
    },
    {
     "name": "stdout",
     "output_type": "stream",
     "text": [
      "[231, 1112, 87, 303, 690, 796, 2195, 813, 327, 1018]\n"
     ]
    },
    {
     "name": "stderr",
     "output_type": "stream",
     "text": [
      "INFO:root: \n",
      "Avg Training Stats after 84 global rounds:\n",
      "INFO:root:Train Accuracy: 0.00%\n",
      "INFO:root:Training Loss : 0.08316766822992455\n",
      "INFO:root:Test Accuracy: 65.69%\n",
      "INFO:root:Test Loss: 1.0624349200725556 \n",
      "\n",
      " 84%|████████▍ | 84/100 [25:01<04:31, 16.98s/it]"
     ]
    },
    {
     "name": "stdout",
     "output_type": "stream",
     "text": [
      "[602, 1018, 542, 106, 794, 447, 2029, 1433, 327, 690]\n"
     ]
    },
    {
     "name": "stderr",
     "output_type": "stream",
     "text": [
      "INFO:root: \n",
      "Avg Training Stats after 85 global rounds:\n",
      "INFO:root:Train Accuracy: 0.00%\n",
      "INFO:root:Training Loss : 0.07383715740355343\n",
      "INFO:root:Test Accuracy: 65.69%\n",
      "INFO:root:Test Loss: 1.0559799140691757 \n",
      "\n",
      " 85%|████████▌ | 85/100 [25:16<04:08, 16.54s/it]"
     ]
    },
    {
     "name": "stdout",
     "output_type": "stream",
     "text": [
      "[1433, 267, 447, 1012, 470, 201, 231, 15, 278, 1736]\n"
     ]
    },
    {
     "name": "stderr",
     "output_type": "stream",
     "text": [
      "INFO:root: \n",
      "Avg Training Stats after 86 global rounds:\n",
      "INFO:root:Train Accuracy: 0.00%\n",
      "INFO:root:Training Loss : 0.06405747815999621\n",
      "INFO:root:Test Accuracy: 66.73%\n",
      "INFO:root:Test Loss: 1.0221290820837021 \n",
      "\n",
      " 86%|████████▌ | 86/100 [25:30<03:40, 15.73s/it]"
     ]
    },
    {
     "name": "stdout",
     "output_type": "stream",
     "text": [
      "[40, 1053, 231, 286, 106, 2274, 470, 1119, 447, 1416]\n"
     ]
    },
    {
     "name": "stderr",
     "output_type": "stream",
     "text": [
      "INFO:root: \n",
      "Avg Training Stats after 87 global rounds:\n",
      "INFO:root:Train Accuracy: 0.00%\n",
      "INFO:root:Training Loss : 0.07798620489786226\n",
      "INFO:root:Test Accuracy: 67.04%\n",
      "INFO:root:Test Loss: 1.0171137154102325 \n",
      "\n",
      " 87%|████████▋ | 87/100 [25:45<03:21, 15.50s/it]"
     ]
    },
    {
     "name": "stdout",
     "output_type": "stream",
     "text": [
      "[209, 2029, 231, 278, 1320, 862, 2195, 690, 1736, 106]\n"
     ]
    },
    {
     "name": "stderr",
     "output_type": "stream",
     "text": [
      "INFO:root: \n",
      "Avg Training Stats after 88 global rounds:\n",
      "INFO:root:Train Accuracy: 0.00%\n",
      "INFO:root:Training Loss : 0.08235394105858265\n",
      "INFO:root:Test Accuracy: 67.26%\n",
      "INFO:root:Test Loss: 1.0510346749424935 \n",
      "\n",
      " 88%|████████▊ | 88/100 [26:02<03:11, 15.97s/it]"
     ]
    },
    {
     "name": "stdout",
     "output_type": "stream",
     "text": [
      "[2430, 201, 2195, 2575, 123, 602, 116, 794, 4600, 690]\n"
     ]
    },
    {
     "name": "stderr",
     "output_type": "stream",
     "text": [
      "INFO:root: \n",
      "Avg Training Stats after 89 global rounds:\n",
      "INFO:root:Train Accuracy: 0.00%\n",
      "INFO:root:Training Loss : 0.09766455945348998\n",
      "INFO:root:Test Accuracy: 67.97%\n",
      "INFO:root:Test Loss: 1.025864695161581 \n",
      "\n",
      " 89%|████████▉ | 89/100 [26:24<03:14, 17.68s/it]"
     ]
    },
    {
     "name": "stdout",
     "output_type": "stream",
     "text": [
      "[470, 303, 278, 87, 1119, 2274, 1780, 19, 4600, 602]\n"
     ]
    },
    {
     "name": "stderr",
     "output_type": "stream",
     "text": [
      "INFO:root: \n",
      "Avg Training Stats after 90 global rounds:\n",
      "INFO:root:Train Accuracy: 0.00%\n",
      "INFO:root:Training Loss : 0.054365954014502636\n",
      "INFO:root:Test Accuracy: 68.25%\n",
      "INFO:root:Test Loss: 1.0010397374629973 \n",
      "\n",
      " 90%|█████████ | 90/100 [26:43<03:02, 18.24s/it]"
     ]
    },
    {
     "name": "stdout",
     "output_type": "stream",
     "text": [
      "[2575, 602, 2029, 327, 209, 4600, 2274, 1756, 431, 1112]\n"
     ]
    },
    {
     "name": "stderr",
     "output_type": "stream",
     "text": [
      "INFO:root: \n",
      "Avg Training Stats after 91 global rounds:\n",
      "INFO:root:Train Accuracy: 0.00%\n",
      "INFO:root:Training Loss : 0.06794062116220514\n",
      "INFO:root:Test Accuracy: 67.79%\n",
      "INFO:root:Test Loss: 1.0056409281492233 \n",
      "\n",
      " 91%|█████████ | 91/100 [27:08<03:00, 20.08s/it]"
     ]
    },
    {
     "name": "stdout",
     "output_type": "stream",
     "text": [
      "[2195, 267, 813, 286, 3195, 470, 231, 278, 1012, 231]\n"
     ]
    },
    {
     "name": "stderr",
     "output_type": "stream",
     "text": [
      "INFO:root: \n",
      "Avg Training Stats after 92 global rounds:\n",
      "INFO:root:Train Accuracy: 0.00%\n",
      "INFO:root:Training Loss : 0.0672955321612116\n",
      "INFO:root:Test Accuracy: 66.78%\n",
      "INFO:root:Test Loss: 1.0426148802042008 \n",
      "\n",
      " 92%|█████████▏| 92/100 [27:26<02:35, 19.47s/it]"
     ]
    },
    {
     "name": "stdout",
     "output_type": "stream",
     "text": [
      "[1053, 2575, 303, 2430, 542, 116, 1756, 1433, 327, 15]\n"
     ]
    },
    {
     "name": "stderr",
     "output_type": "stream",
     "text": [
      "INFO:root: \n",
      "Avg Training Stats after 93 global rounds:\n",
      "INFO:root:Train Accuracy: 0.00%\n",
      "INFO:root:Training Loss : 0.0926798709442761\n",
      "INFO:root:Test Accuracy: 66.43%\n",
      "INFO:root:Test Loss: 1.0621303322911262 \n",
      "\n",
      " 93%|█████████▎| 93/100 [27:45<02:15, 19.42s/it]"
     ]
    },
    {
     "name": "stdout",
     "output_type": "stream",
     "text": [
      "[590, 4600, 201, 286, 303, 1736, 15, 1798, 744, 422]\n"
     ]
    },
    {
     "name": "stderr",
     "output_type": "stream",
     "text": [
      "INFO:root: \n",
      "Avg Training Stats after 94 global rounds:\n",
      "INFO:root:Train Accuracy: 0.00%\n",
      "INFO:root:Training Loss : 0.0589125849293485\n",
      "INFO:root:Test Accuracy: 67.39%\n",
      "INFO:root:Test Loss: 1.0320308610796929 \n",
      "\n",
      " 94%|█████████▍| 94/100 [28:04<01:55, 19.24s/it]"
     ]
    },
    {
     "name": "stdout",
     "output_type": "stream",
     "text": [
      "[123, 862, 542, 19, 794, 1112, 4600, 2934, 231, 15]\n"
     ]
    },
    {
     "name": "stderr",
     "output_type": "stream",
     "text": [
      "INFO:root: \n",
      "Avg Training Stats after 95 global rounds:\n",
      "INFO:root:Train Accuracy: 0.00%\n",
      "INFO:root:Training Loss : 0.06632697368036221\n",
      "INFO:root:Test Accuracy: 68.52%\n",
      "INFO:root:Test Loss: 0.9852789065241814 \n",
      "\n",
      " 95%|█████████▌| 95/100 [28:23<01:35, 19.15s/it]"
     ]
    },
    {
     "name": "stdout",
     "output_type": "stream",
     "text": [
      "[1053, 87, 2575, 4600, 542, 231, 1433, 1012, 2029, 862]\n"
     ]
    },
    {
     "name": "stderr",
     "output_type": "stream",
     "text": [
      "INFO:root: \n",
      "Avg Training Stats after 96 global rounds:\n",
      "INFO:root:Train Accuracy: 0.00%\n",
      "INFO:root:Training Loss : 0.058386242983529624\n",
      "INFO:root:Test Accuracy: 68.84%\n",
      "INFO:root:Test Loss: 0.9843565312027931 \n",
      "\n",
      " 96%|█████████▌| 96/100 [28:45<01:20, 20.03s/it]"
     ]
    },
    {
     "name": "stdout",
     "output_type": "stream",
     "text": [
      "[19, 602, 40, 690, 267, 231, 173, 2029, 1798, 3195]\n"
     ]
    },
    {
     "name": "stderr",
     "output_type": "stream",
     "text": [
      "INFO:root: \n",
      "Avg Training Stats after 97 global rounds:\n",
      "INFO:root:Train Accuracy: 0.00%\n",
      "INFO:root:Training Loss : 0.07271485391701833\n",
      "INFO:root:Test Accuracy: 68.39%\n",
      "INFO:root:Test Loss: 1.0003905269503592 \n",
      "\n",
      " 97%|█████████▋| 97/100 [29:02<00:57, 19.11s/it]"
     ]
    },
    {
     "name": "stdout",
     "output_type": "stream",
     "text": [
      "[209, 1012, 422, 40, 794, 4600, 116, 286, 303, 1756]\n"
     ]
    },
    {
     "name": "stderr",
     "output_type": "stream",
     "text": [
      "INFO:root: \n",
      "Avg Training Stats after 98 global rounds:\n",
      "INFO:root:Train Accuracy: 0.00%\n",
      "INFO:root:Training Loss : 0.055963225054757225\n",
      "INFO:root:Test Accuracy: 68.08%\n",
      "INFO:root:Test Loss: 1.0235604238510132 \n",
      "\n",
      " 98%|█████████▊| 98/100 [29:20<00:37, 18.72s/it]"
     ]
    },
    {
     "name": "stdout",
     "output_type": "stream",
     "text": [
      "[2274, 1736, 173, 1416, 447, 19, 2195, 2029, 862, 744]\n"
     ]
    },
    {
     "name": "stderr",
     "output_type": "stream",
     "text": [
      "INFO:root: \n",
      "Avg Training Stats after 99 global rounds:\n",
      "INFO:root:Train Accuracy: 0.00%\n",
      "INFO:root:Training Loss : 0.11973742921490707\n",
      "INFO:root:Test Accuracy: 67.66%\n",
      "INFO:root:Test Loss: 1.0133964890241622 \n",
      "\n",
      " 99%|█████████▉| 99/100 [29:39<00:19, 19.01s/it]"
     ]
    },
    {
     "name": "stdout",
     "output_type": "stream",
     "text": [
      "[431, 1798, 1736, 744, 19, 278, 690, 590, 116, 40]\n"
     ]
    },
    {
     "name": "stderr",
     "output_type": "stream",
     "text": [
      "INFO:root: \n",
      "Avg Training Stats after 100 global rounds:\n",
      "INFO:root:Train Accuracy: 0.00%\n",
      "INFO:root:Training Loss : 0.0609013903361072\n",
      "INFO:root:Test Accuracy: 68.36%\n",
      "INFO:root:Test Loss: 1.0087430518865586 \n",
      "\n",
      "100%|██████████| 100/100 [29:54<00:00, 17.95s/it]\n",
      "INFO:root: \n",
      " Results after 100 global rounds of training:\n",
      "INFO:root:|---- Best Test Accuracy: 68.84% , round: 95\n"
     ]
    },
    {
     "name": "stdout",
     "output_type": "stream",
     "text": [
      " Saving checkpoints to ../save/checkpoint/ConvNet_1207/cifar10_ConvNet_none_T[100]_C[0.2]_iid[0]_E[5]_B[32]_GPU[0]_Pruned[0.0]...\n"
     ]
    }
   ],
   "source": [
    " args = easydict.EasyDict({\n",
    "    \"model\": 'ConvNet',\n",
    "    'dataset': 'cifar10',\n",
    "    'gpu': 0,\n",
    "    'iid': 0,\n",
    "    'epochs': 100,\n",
    "    'optimizer': 'sgd',\n",
    "    'seed': 0,\n",
    "    'norm': 'none',\n",
    "    'num_users': 50,\n",
    "    'frac': 0.2,\n",
    "    'local_ep': 5, \n",
    "    'local_bs': 32,\n",
    "    'lr': 0.01,\n",
    "    'momentum': 1,\n",
    "    'kernel_num': 9,\n",
    "    'kernel_sizes': 'only_momentum',\n",
    "    'num_channnels': '1',\n",
    "    'num_filters': 32,\n",
    "    'max_pool': 'True',\n",
    "    'num_classes': 10,\n",
    "    'unequal': 0,\n",
    "    'stopping_rounds': 0,\n",
    "    'verbose': 0,\n",
    "    'hold_normalize': 0,\n",
    "    'save_path': '../save/checkpoint',\n",
    "    'exp_folder': 'ConvNet_1207',\n",
    "    'resume': None,\n",
    "    'server_opt': 'sgdm',\n",
    "    'server_lr': 1.0,\n",
    "    'client_decay':0,\n",
    "    'local_decay':0,\n",
    "    'alpha': 0.05,\n",
    "    'server_epoch':0,\n",
    "    'cosine_norm':0, \n",
    "    'only_fc' :0 ,\n",
    "    'loss':'bsm',\n",
    "    'dc_lr':0.0,\n",
    "    'tsne_pred':0,\n",
    "    'pruning': 0.0 })\n",
    "    \n",
    "    \n",
    "    \n",
    "temp = main_test(args)\n",
    "total.append(temp)"
   ]
  },
  {
   "cell_type": "code",
   "execution_count": 6,
   "id": "awful-syntax",
   "metadata": {},
   "outputs": [
    {
     "name": "stderr",
     "output_type": "stream",
     "text": [
      "INFO:root:{'model': 'ConvNet', 'dataset': 'cifar10', 'gpu': 0, 'iid': 0, 'epochs': 100, 'optimizer': 'sgd', 'seed': 0, 'norm': 'none', 'num_users': 50, 'frac': 0.2, 'local_ep': 5, 'local_bs': 32, 'lr': 0.01, 'momentum': 1, 'kernel_num': 9, 'kernel_sizes': 'centering', 'num_channnels': '1', 'num_filters': 32, 'max_pool': 'True', 'num_classes': 10, 'unequal': 0, 'stopping_rounds': 0, 'verbose': 0, 'hold_normalize': 0, 'save_path': '../save/checkpoint/ConvNet_1207', 'exp_folder': 'ConvNet_1207', 'resume': None, 'server_opt': 'sgd', 'server_lr': 1.0, 'client_decay': 0, 'local_decay': 0, 'alpha': 0.05, 'server_epoch': 0, 'cosine_norm': 0, 'only_fc': 0, 'loss': 'ce', 'dc_lr': 0.0, 'tsne_pred': 0, 'pruning': 0.0}\n"
     ]
    },
    {
     "name": "stdout",
     "output_type": "stream",
     "text": [
      "Files already downloaded and verified\n",
      "Files already downloaded and verified\n",
      "Files already downloaded and verified\n"
     ]
    },
    {
     "name": "stderr",
     "output_type": "stream",
     "text": [
      "INFO:root:ConvNet(\n",
      "  (net_act): ReLU(inplace=True)\n",
      "  (net_pooling): MaxPool2d(kernel_size=2, stride=2, padding=0, dilation=1, ceil_mode=False)\n",
      "  (features): Sequential(\n",
      "    (0): Conv2d(3, 128, kernel_size=(3, 3), stride=(1, 1), padding=(1, 1))\n",
      "    (1): ReLU(inplace=True)\n",
      "    (2): MaxPool2d(kernel_size=2, stride=2, padding=0, dilation=1, ceil_mode=False)\n",
      "    (3): Conv2d(128, 128, kernel_size=(3, 3), stride=(1, 1), padding=(1, 1))\n",
      "    (4): ReLU(inplace=True)\n",
      "    (5): MaxPool2d(kernel_size=2, stride=2, padding=0, dilation=1, ceil_mode=False)\n",
      "    (6): Conv2d(128, 128, kernel_size=(3, 3), stride=(1, 1), padding=(1, 1))\n",
      "    (7): ReLU(inplace=True)\n",
      "    (8): MaxPool2d(kernel_size=2, stride=2, padding=0, dilation=1, ceil_mode=False)\n",
      "  )\n",
      "  (classifier): Linear(in_features=2048, out_features=10, bias=True)\n",
      ")\n",
      "INFO:root:None\n",
      "  0%|          | 0/100 [00:00<?, ?it/s]"
     ]
    },
    {
     "name": "stdout",
     "output_type": "stream",
     "text": [
      "----------------------------------------------------------------\n",
      "        Layer (type)               Output Shape         Param #\n",
      "================================================================\n",
      "            Conv2d-1          [-1, 128, 32, 32]           3,584\n",
      "              ReLU-2          [-1, 128, 32, 32]               0\n",
      "              ReLU-3          [-1, 128, 32, 32]               0\n",
      "         MaxPool2d-4          [-1, 128, 16, 16]               0\n",
      "         MaxPool2d-5          [-1, 128, 16, 16]               0\n",
      "            Conv2d-6          [-1, 128, 16, 16]         147,584\n",
      "              ReLU-7          [-1, 128, 16, 16]               0\n",
      "              ReLU-8          [-1, 128, 16, 16]               0\n",
      "         MaxPool2d-9            [-1, 128, 8, 8]               0\n",
      "        MaxPool2d-10            [-1, 128, 8, 8]               0\n",
      "           Conv2d-11            [-1, 128, 8, 8]         147,584\n",
      "             ReLU-12            [-1, 128, 8, 8]               0\n",
      "             ReLU-13            [-1, 128, 8, 8]               0\n",
      "        MaxPool2d-14            [-1, 128, 4, 4]               0\n",
      "        MaxPool2d-15            [-1, 128, 4, 4]               0\n",
      "           Linear-16                   [-1, 10]          20,490\n",
      "================================================================\n",
      "Total params: 319,242\n",
      "Trainable params: 319,242\n",
      "Non-trainable params: 0\n",
      "----------------------------------------------------------------\n",
      "Input size (MB): 0.01\n",
      "Forward/backward pass size (MB): 4.59\n",
      "Params size (MB): 1.22\n",
      "Estimated Total Size (MB): 5.82\n",
      "----------------------------------------------------------------\n",
      "[209, 1756, 422, 2575, 1018, 602, 2274, 447, 744, 1112, 123, 87, 1433, 1416, 40, 1119, 796, 794, 327, 470, 231, 813, 1320, 542, 690, 2195, 2934, 106, 1012, 15, 278, 1798, 303, 590, 2029, 201, 1053, 862, 231, 116, 4600, 19, 286, 1736, 2430, 431, 3195, 1780, 173, 267]\n",
      "[470, 2934, 201, 231, 2575, 744, 15, 123, 1119, 4600]\n"
     ]
    },
    {
     "name": "stderr",
     "output_type": "stream",
     "text": [
      "INFO:root: \n",
      "Avg Training Stats after 1 global rounds:\n",
      "INFO:root:Train Accuracy: 0.00%\n",
      "INFO:root:Training Loss : 0.5188513476729864\n",
      "INFO:root:Test Accuracy: 11.45%\n",
      "INFO:root:Test Loss: 2.348912551403046 \n",
      "\n",
      "  1%|          | 1/100 [00:20<33:14, 20.15s/it]"
     ]
    },
    {
     "name": "stdout",
     "output_type": "stream",
     "text": [
      "[231, 173, 2575, 1736, 2430, 123, 4600, 690, 1012, 447]\n"
     ]
    },
    {
     "name": "stderr",
     "output_type": "stream",
     "text": [
      "INFO:root: \n",
      "Avg Training Stats after 2 global rounds:\n",
      "INFO:root:Train Accuracy: 0.00%\n",
      "INFO:root:Training Loss : 0.5609489013151473\n",
      "INFO:root:Test Accuracy: 15.96%\n",
      "INFO:root:Test Loss: 2.5959742295742037 \n",
      "\n",
      "  2%|▏         | 2/100 [00:41<33:47, 20.68s/it]"
     ]
    },
    {
     "name": "stdout",
     "output_type": "stream",
     "text": [
      "[744, 2575, 1320, 470, 2430, 2274, 267, 690, 209, 303]\n"
     ]
    },
    {
     "name": "stderr",
     "output_type": "stream",
     "text": [
      "INFO:root: \n",
      "Avg Training Stats after 3 global rounds:\n",
      "INFO:root:Train Accuracy: 0.00%\n",
      "INFO:root:Training Loss : 0.4436399547795934\n",
      "INFO:root:Test Accuracy: 20.59%\n",
      "INFO:root:Test Loss: 2.251997126340866 \n",
      "\n",
      "  3%|▎         | 3/100 [00:59<31:52, 19.72s/it]"
     ]
    },
    {
     "name": "stdout",
     "output_type": "stream",
     "text": [
      "[173, 690, 542, 1012, 2195, 1780, 1053, 87, 2934, 1736]\n"
     ]
    },
    {
     "name": "stderr",
     "output_type": "stream",
     "text": [
      "INFO:root: \n",
      "Avg Training Stats after 4 global rounds:\n",
      "INFO:root:Train Accuracy: 0.00%\n",
      "INFO:root:Training Loss : 0.6085305193058275\n",
      "INFO:root:Test Accuracy: 17.62%\n",
      "INFO:root:Test Loss: 2.2053018128871917 \n",
      "\n",
      "  4%|▍         | 4/100 [01:19<31:19, 19.58s/it]"
     ]
    },
    {
     "name": "stdout",
     "output_type": "stream",
     "text": [
      "[2430, 2575, 1736, 123, 15, 1780, 1018, 231, 87, 794]\n"
     ]
    },
    {
     "name": "stderr",
     "output_type": "stream",
     "text": [
      "INFO:root: \n",
      "Avg Training Stats after 5 global rounds:\n",
      "INFO:root:Train Accuracy: 0.00%\n",
      "INFO:root:Training Loss : 0.498458781405434\n",
      "INFO:root:Test Accuracy: 16.54%\n",
      "INFO:root:Test Loss: 2.513721330165863 \n",
      "\n",
      "  5%|▌         | 5/100 [01:37<30:17, 19.14s/it]"
     ]
    },
    {
     "name": "stdout",
     "output_type": "stream",
     "text": [
      "[1119, 87, 590, 794, 813, 303, 1320, 690, 1018, 422]\n"
     ]
    },
    {
     "name": "stderr",
     "output_type": "stream",
     "text": [
      "INFO:root: \n",
      "Avg Training Stats after 6 global rounds:\n",
      "INFO:root:Train Accuracy: 0.00%\n",
      "INFO:root:Training Loss : 0.3794469947773419\n",
      "INFO:root:Test Accuracy: 12.86%\n",
      "INFO:root:Test Loss: 2.4894045412540438 \n",
      "\n",
      "  6%|▌         | 6/100 [01:52<27:55, 17.82s/it]"
     ]
    },
    {
     "name": "stdout",
     "output_type": "stream",
     "text": [
      "[2029, 1433, 303, 327, 744, 862, 2934, 231, 1416, 278]\n"
     ]
    },
    {
     "name": "stderr",
     "output_type": "stream",
     "text": [
      "INFO:root: \n",
      "Avg Training Stats after 7 global rounds:\n",
      "INFO:root:Train Accuracy: 0.00%\n",
      "INFO:root:Training Loss : 0.48597691485940775\n",
      "INFO:root:Test Accuracy: 23.90%\n",
      "INFO:root:Test Loss: 2.0707800966501235 \n",
      "\n",
      "  7%|▋         | 7/100 [02:11<27:55, 18.01s/it]"
     ]
    },
    {
     "name": "stdout",
     "output_type": "stream",
     "text": [
      "[231, 1112, 327, 744, 286, 422, 15, 1798, 1053, 173]\n"
     ]
    },
    {
     "name": "stderr",
     "output_type": "stream",
     "text": [
      "INFO:root: \n",
      "Avg Training Stats after 8 global rounds:\n",
      "INFO:root:Train Accuracy: 0.00%\n",
      "INFO:root:Training Loss : 0.5588830560441865\n",
      "INFO:root:Test Accuracy: 23.70%\n",
      "INFO:root:Test Loss: 2.0497495889663697 \n",
      "\n",
      "  8%|▊         | 8/100 [02:25<25:42, 16.77s/it]"
     ]
    },
    {
     "name": "stdout",
     "output_type": "stream",
     "text": [
      "[794, 278, 744, 862, 303, 19, 2274, 1053, 813, 1012]\n"
     ]
    },
    {
     "name": "stderr",
     "output_type": "stream",
     "text": [
      "INFO:root: \n",
      "Avg Training Stats after 9 global rounds:\n",
      "INFO:root:Train Accuracy: 0.00%\n",
      "INFO:root:Training Loss : 0.33332226584164626\n",
      "INFO:root:Test Accuracy: 23.49%\n",
      "INFO:root:Test Loss: 2.163936495780945 \n",
      "\n",
      "  9%|▉         | 9/100 [02:41<25:08, 16.57s/it]"
     ]
    },
    {
     "name": "stdout",
     "output_type": "stream",
     "text": [
      "[1320, 40, 1756, 470, 327, 1012, 862, 1433, 796, 231]\n"
     ]
    },
    {
     "name": "stderr",
     "output_type": "stream",
     "text": [
      "INFO:root: \n",
      "Avg Training Stats after 10 global rounds:\n",
      "INFO:root:Train Accuracy: 0.00%\n",
      "INFO:root:Training Loss : 0.2759396932984039\n",
      "INFO:root:Test Accuracy: 19.97%\n",
      "INFO:root:Test Loss: 2.4681857979297637 \n",
      "\n",
      " 10%|█         | 10/100 [02:57<24:33, 16.37s/it]"
     ]
    },
    {
     "name": "stdout",
     "output_type": "stream",
     "text": [
      "[87, 201, 1798, 813, 123, 2934, 1756, 231, 1053, 4600]\n"
     ]
    },
    {
     "name": "stderr",
     "output_type": "stream",
     "text": [
      "INFO:root: \n",
      "Avg Training Stats after 11 global rounds:\n",
      "INFO:root:Train Accuracy: 0.00%\n",
      "INFO:root:Training Loss : 0.4073438426208938\n",
      "INFO:root:Test Accuracy: 22.01%\n",
      "INFO:root:Test Loss: 2.077645105421543 \n",
      "\n",
      " 11%|█         | 11/100 [03:18<26:22, 17.78s/it]"
     ]
    },
    {
     "name": "stdout",
     "output_type": "stream",
     "text": [
      "[106, 231, 447, 796, 209, 1798, 1112, 1416, 590, 794]\n"
     ]
    },
    {
     "name": "stderr",
     "output_type": "stream",
     "text": [
      "INFO:root: \n",
      "Avg Training Stats after 12 global rounds:\n",
      "INFO:root:Train Accuracy: 0.00%\n",
      "INFO:root:Training Loss : 0.2676008112507544\n",
      "INFO:root:Test Accuracy: 31.63%\n",
      "INFO:root:Test Loss: 1.9268979102373123 \n",
      "\n",
      " 12%|█▏        | 12/100 [03:33<24:53, 16.97s/it]"
     ]
    },
    {
     "name": "stdout",
     "output_type": "stream",
     "text": [
      "[1320, 278, 862, 2274, 1798, 87, 2029, 796, 1018, 2430]\n"
     ]
    },
    {
     "name": "stderr",
     "output_type": "stream",
     "text": [
      "INFO:root: \n",
      "Avg Training Stats after 13 global rounds:\n",
      "INFO:root:Train Accuracy: 0.00%\n",
      "INFO:root:Training Loss : 0.3199514342020898\n",
      "INFO:root:Test Accuracy: 30.40%\n",
      "INFO:root:Test Loss: 2.0453067421913147 \n",
      "\n",
      " 13%|█▎        | 13/100 [03:53<25:55, 17.88s/it]"
     ]
    },
    {
     "name": "stdout",
     "output_type": "stream",
     "text": [
      "[4600, 2575, 590, 173, 2430, 40, 1112, 87, 231, 2195]\n"
     ]
    },
    {
     "name": "stderr",
     "output_type": "stream",
     "text": [
      "INFO:root: \n",
      "Avg Training Stats after 14 global rounds:\n",
      "INFO:root:Train Accuracy: 0.00%\n",
      "INFO:root:Training Loss : 0.4005975091210563\n",
      "INFO:root:Test Accuracy: 28.16%\n",
      "INFO:root:Test Loss: 1.8517987829446794 \n",
      "\n",
      " 14%|█▍        | 14/100 [04:14<27:00, 18.84s/it]"
     ]
    },
    {
     "name": "stdout",
     "output_type": "stream",
     "text": [
      "[231, 794, 1018, 1012, 15, 303, 796, 2274, 1320, 19]\n"
     ]
    },
    {
     "name": "stderr",
     "output_type": "stream",
     "text": [
      "INFO:root: \n",
      "Avg Training Stats after 15 global rounds:\n",
      "INFO:root:Train Accuracy: 0.00%\n",
      "INFO:root:Training Loss : 0.33639670612442274\n",
      "INFO:root:Test Accuracy: 35.41%\n",
      "INFO:root:Test Loss: 1.7872169983386994 \n",
      "\n",
      " 15%|█▌        | 15/100 [04:29<25:10, 17.77s/it]"
     ]
    },
    {
     "name": "stdout",
     "output_type": "stream",
     "text": [
      "[2195, 40, 2029, 862, 2575, 1433, 447, 19, 4600, 796]\n"
     ]
    },
    {
     "name": "stderr",
     "output_type": "stream",
     "text": [
      "INFO:root: \n",
      "Avg Training Stats after 16 global rounds:\n",
      "INFO:root:Train Accuracy: 0.00%\n",
      "INFO:root:Training Loss : 0.30714195515246223\n",
      "INFO:root:Test Accuracy: 31.17%\n",
      "INFO:root:Test Loss: 1.9407937026023865 \n",
      "\n",
      " 16%|█▌        | 16/100 [04:51<26:36, 19.01s/it]"
     ]
    },
    {
     "name": "stdout",
     "output_type": "stream",
     "text": [
      "[231, 173, 303, 2274, 796, 116, 1798, 447, 106, 1433]\n"
     ]
    },
    {
     "name": "stderr",
     "output_type": "stream",
     "text": [
      "INFO:root: \n",
      "Avg Training Stats after 17 global rounds:\n",
      "INFO:root:Train Accuracy: 0.00%\n",
      "INFO:root:Training Loss : 0.2893801240582313\n",
      "INFO:root:Test Accuracy: 34.30%\n",
      "INFO:root:Test Loss: 1.8729599726200103 \n",
      "\n",
      " 17%|█▋        | 17/100 [05:07<24:49, 17.95s/it]"
     ]
    },
    {
     "name": "stdout",
     "output_type": "stream",
     "text": [
      "[201, 1756, 796, 1320, 813, 542, 116, 173, 794, 1798]\n"
     ]
    },
    {
     "name": "stderr",
     "output_type": "stream",
     "text": [
      "INFO:root: \n",
      "Avg Training Stats after 18 global rounds:\n",
      "INFO:root:Train Accuracy: 0.00%\n",
      "INFO:root:Training Loss : 0.36732256875594704\n",
      "INFO:root:Test Accuracy: 30.36%\n",
      "INFO:root:Test Loss: 1.9387682396173478 \n",
      "\n",
      " 18%|█▊        | 18/100 [05:22<23:39, 17.31s/it]"
     ]
    },
    {
     "name": "stdout",
     "output_type": "stream",
     "text": [
      "[15, 1780, 19, 744, 2575, 173, 813, 40, 1320, 422]\n"
     ]
    },
    {
     "name": "stderr",
     "output_type": "stream",
     "text": [
      "INFO:root: \n",
      "Avg Training Stats after 19 global rounds:\n",
      "INFO:root:Train Accuracy: 0.00%\n",
      "INFO:root:Training Loss : 0.4696965636860703\n",
      "INFO:root:Test Accuracy: 29.19%\n",
      "INFO:root:Test Loss: 1.921513529419899 \n",
      "\n",
      " 19%|█▉        | 19/100 [05:38<22:36, 16.75s/it]"
     ]
    },
    {
     "name": "stdout",
     "output_type": "stream",
     "text": [
      "[813, 1736, 15, 1433, 267, 470, 3195, 744, 2575, 231]\n"
     ]
    },
    {
     "name": "stderr",
     "output_type": "stream",
     "text": [
      "INFO:root: \n",
      "Avg Training Stats after 20 global rounds:\n",
      "INFO:root:Train Accuracy: 0.00%\n",
      "INFO:root:Training Loss : 0.2973693219452828\n",
      "INFO:root:Test Accuracy: 31.43%\n",
      "INFO:root:Test Loss: 1.910826748609543 \n",
      "\n",
      " 20%|██        | 20/100 [05:57<23:08, 17.35s/it]"
     ]
    },
    {
     "name": "stdout",
     "output_type": "stream",
     "text": [
      "[278, 744, 1053, 447, 1320, 116, 1798, 19, 4600, 3195]\n"
     ]
    },
    {
     "name": "stderr",
     "output_type": "stream",
     "text": [
      "INFO:root: \n",
      "Avg Training Stats after 21 global rounds:\n",
      "INFO:root:Train Accuracy: 0.00%\n",
      "INFO:root:Training Loss : 0.4049371386576843\n",
      "INFO:root:Test Accuracy: 40.51%\n",
      "INFO:root:Test Loss: 1.6288475370407105 \n",
      "\n",
      " 21%|██        | 21/100 [06:18<24:15, 18.43s/it]"
     ]
    },
    {
     "name": "stdout",
     "output_type": "stream",
     "text": [
      "[813, 2029, 602, 590, 1756, 106, 1780, 40, 19, 2934]\n"
     ]
    },
    {
     "name": "stderr",
     "output_type": "stream",
     "text": [
      "INFO:root: \n",
      "Avg Training Stats after 22 global rounds:\n",
      "INFO:root:Train Accuracy: 0.00%\n",
      "INFO:root:Training Loss : 0.24147328723952444\n",
      "INFO:root:Test Accuracy: 26.31%\n",
      "INFO:root:Test Loss: 2.0289442119002343 \n",
      "\n",
      " 22%|██▏       | 22/100 [06:36<23:47, 18.30s/it]"
     ]
    },
    {
     "name": "stdout",
     "output_type": "stream",
     "text": [
      "[40, 862, 327, 1780, 2274, 106, 1053, 1112, 1012, 3195]\n"
     ]
    },
    {
     "name": "stderr",
     "output_type": "stream",
     "text": [
      "INFO:root: \n",
      "Avg Training Stats after 23 global rounds:\n",
      "INFO:root:Train Accuracy: 0.00%\n",
      "INFO:root:Training Loss : 0.3097265161148807\n",
      "INFO:root:Test Accuracy: 34.67%\n",
      "INFO:root:Test Loss: 1.808589105606079 \n",
      "\n",
      " 23%|██▎       | 23/100 [06:55<23:50, 18.58s/it]"
     ]
    },
    {
     "name": "stdout",
     "output_type": "stream",
     "text": [
      "[1320, 1119, 862, 744, 1053, 87, 201, 470, 2274, 1012]\n"
     ]
    },
    {
     "name": "stderr",
     "output_type": "stream",
     "text": [
      "INFO:root: \n",
      "Avg Training Stats after 24 global rounds:\n",
      "INFO:root:Train Accuracy: 0.00%\n",
      "INFO:root:Training Loss : 0.3160508883143391\n",
      "INFO:root:Test Accuracy: 28.32%\n",
      "INFO:root:Test Loss: 2.055651527047157 \n",
      "\n",
      " 24%|██▍       | 24/100 [07:12<22:55, 18.10s/it]"
     ]
    },
    {
     "name": "stdout",
     "output_type": "stream",
     "text": [
      "[447, 286, 1416, 87, 796, 1798, 231, 1119, 431, 2195]\n"
     ]
    },
    {
     "name": "stderr",
     "output_type": "stream",
     "text": [
      "INFO:root: \n",
      "Avg Training Stats after 25 global rounds:\n",
      "INFO:root:Train Accuracy: 0.00%\n",
      "INFO:root:Training Loss : 0.4028477614063406\n",
      "INFO:root:Test Accuracy: 37.85%\n",
      "INFO:root:Test Loss: 1.7369667530059814 \n",
      "\n",
      " 25%|██▌       | 25/100 [07:28<22:01, 17.62s/it]"
     ]
    },
    {
     "name": "stdout",
     "output_type": "stream",
     "text": [
      "[116, 2029, 690, 1416, 1780, 602, 2575, 1756, 431, 87]\n"
     ]
    },
    {
     "name": "stderr",
     "output_type": "stream",
     "text": [
      "INFO:root: \n",
      "Avg Training Stats after 26 global rounds:\n",
      "INFO:root:Train Accuracy: 0.00%\n",
      "INFO:root:Training Loss : 0.42507968072882496\n",
      "INFO:root:Test Accuracy: 37.32%\n",
      "INFO:root:Test Loss: 1.7013357520103454 \n",
      "\n",
      " 26%|██▌       | 26/100 [07:47<22:14, 18.03s/it]"
     ]
    },
    {
     "name": "stdout",
     "output_type": "stream",
     "text": [
      "[87, 173, 2029, 19, 4600, 2195, 116, 303, 40, 209]\n"
     ]
    },
    {
     "name": "stderr",
     "output_type": "stream",
     "text": [
      "INFO:root: \n",
      "Avg Training Stats after 27 global rounds:\n",
      "INFO:root:Train Accuracy: 0.00%\n",
      "INFO:root:Training Loss : 0.4555431171751452\n",
      "INFO:root:Test Accuracy: 35.54%\n",
      "INFO:root:Test Loss: 1.707681251168251 \n",
      "\n",
      " 27%|██▋       | 27/100 [08:04<21:37, 17.77s/it]"
     ]
    },
    {
     "name": "stdout",
     "output_type": "stream",
     "text": [
      "[4600, 267, 794, 231, 201, 231, 2934, 590, 470, 173]\n"
     ]
    },
    {
     "name": "stderr",
     "output_type": "stream",
     "text": [
      "INFO:root: \n",
      "Avg Training Stats after 28 global rounds:\n",
      "INFO:root:Train Accuracy: 0.00%\n",
      "INFO:root:Training Loss : 0.37117683926254913\n",
      "INFO:root:Test Accuracy: 39.28%\n",
      "INFO:root:Test Loss: 1.6567090702056886 \n",
      "\n",
      " 28%|██▊       | 28/100 [08:23<21:27, 17.89s/it]"
     ]
    },
    {
     "name": "stdout",
     "output_type": "stream",
     "text": [
      "[1798, 286, 123, 1112, 303, 796, 744, 1320, 231, 794]\n"
     ]
    },
    {
     "name": "stderr",
     "output_type": "stream",
     "text": [
      "INFO:root: \n",
      "Avg Training Stats after 29 global rounds:\n",
      "INFO:root:Train Accuracy: 0.00%\n",
      "INFO:root:Training Loss : 0.19141381401480834\n",
      "INFO:root:Test Accuracy: 37.20%\n",
      "INFO:root:Test Loss: 1.6634645149111749 \n",
      "\n",
      " 29%|██▉       | 29/100 [08:39<20:28, 17.31s/it]"
     ]
    },
    {
     "name": "stdout",
     "output_type": "stream",
     "text": [
      "[303, 4600, 1119, 447, 744, 40, 1756, 2430, 2029, 602]\n"
     ]
    },
    {
     "name": "stderr",
     "output_type": "stream",
     "text": [
      "INFO:root: \n",
      "Avg Training Stats after 30 global rounds:\n",
      "INFO:root:Train Accuracy: 0.00%\n",
      "INFO:root:Training Loss : 0.20447692149444316\n",
      "INFO:root:Test Accuracy: 42.85%\n",
      "INFO:root:Test Loss: 1.567432890534401 \n",
      "\n",
      " 30%|███       | 30/100 [09:01<21:52, 18.75s/it]"
     ]
    },
    {
     "name": "stdout",
     "output_type": "stream",
     "text": [
      "[422, 3195, 1112, 327, 123, 1736, 303, 286, 106, 1433]\n"
     ]
    },
    {
     "name": "stderr",
     "output_type": "stream",
     "text": [
      "INFO:root: \n",
      "Avg Training Stats after 31 global rounds:\n",
      "INFO:root:Train Accuracy: 0.00%\n",
      "INFO:root:Training Loss : 0.2692532447411565\n",
      "INFO:root:Test Accuracy: 32.01%\n",
      "INFO:root:Test Loss: 1.8840071648359298 \n",
      "\n",
      " 31%|███       | 31/100 [09:17<20:53, 18.17s/it]"
     ]
    },
    {
     "name": "stdout",
     "output_type": "stream",
     "text": [
      "[862, 173, 422, 303, 123, 1012, 542, 278, 431, 2195]\n"
     ]
    },
    {
     "name": "stderr",
     "output_type": "stream",
     "text": [
      "INFO:root: \n",
      "Avg Training Stats after 32 global rounds:\n",
      "INFO:root:Train Accuracy: 0.00%\n",
      "INFO:root:Training Loss : 0.4229100010414467\n",
      "INFO:root:Test Accuracy: 37.20%\n",
      "INFO:root:Test Loss: 1.6771758699417114 \n",
      "\n",
      " 32%|███▏      | 32/100 [09:32<19:17, 17.02s/it]"
     ]
    },
    {
     "name": "stdout",
     "output_type": "stream",
     "text": [
      "[1320, 15, 19, 1756, 231, 470, 267, 87, 862, 327]\n"
     ]
    },
    {
     "name": "stderr",
     "output_type": "stream",
     "text": [
      "INFO:root: \n",
      "Avg Training Stats after 33 global rounds:\n",
      "INFO:root:Train Accuracy: 0.00%\n",
      "INFO:root:Training Loss : 0.4494309926579677\n",
      "INFO:root:Test Accuracy: 37.83%\n",
      "INFO:root:Test Loss: 1.6727882745862006 \n",
      "\n",
      " 33%|███▎      | 33/100 [09:45<17:46, 15.92s/it]"
     ]
    },
    {
     "name": "stdout",
     "output_type": "stream",
     "text": [
      "[87, 267, 796, 1053, 1433, 2575, 1119, 794, 15, 327]\n"
     ]
    },
    {
     "name": "stderr",
     "output_type": "stream",
     "text": [
      "INFO:root: \n",
      "Avg Training Stats after 34 global rounds:\n",
      "INFO:root:Train Accuracy: 0.00%\n",
      "INFO:root:Training Loss : 0.34942799623291737\n",
      "INFO:root:Test Accuracy: 41.53%\n",
      "INFO:root:Test Loss: 1.6277660423517226 \n",
      "\n",
      " 34%|███▍      | 34/100 [10:02<17:41, 16.08s/it]"
     ]
    },
    {
     "name": "stdout",
     "output_type": "stream",
     "text": [
      "[422, 1798, 590, 796, 19, 1320, 173, 1416, 1053, 4600]\n"
     ]
    },
    {
     "name": "stderr",
     "output_type": "stream",
     "text": [
      "INFO:root: \n",
      "Avg Training Stats after 35 global rounds:\n",
      "INFO:root:Train Accuracy: 0.00%\n",
      "INFO:root:Training Loss : 0.4079285996349247\n",
      "INFO:root:Test Accuracy: 44.96%\n",
      "INFO:root:Test Loss: 1.5231047052145004 \n",
      "\n",
      " 35%|███▌      | 35/100 [10:22<18:39, 17.23s/it]"
     ]
    },
    {
     "name": "stdout",
     "output_type": "stream",
     "text": [
      "[2430, 1320, 602, 3195, 231, 2934, 431, 794, 1416, 542]\n"
     ]
    },
    {
     "name": "stderr",
     "output_type": "stream",
     "text": [
      "INFO:root: \n",
      "Avg Training Stats after 36 global rounds:\n",
      "INFO:root:Train Accuracy: 0.00%\n",
      "INFO:root:Training Loss : 0.2910316534347125\n",
      "INFO:root:Test Accuracy: 40.71%\n",
      "INFO:root:Test Loss: 1.5913562750816346 \n",
      "\n",
      " 36%|███▌      | 36/100 [10:43<19:35, 18.37s/it]"
     ]
    },
    {
     "name": "stdout",
     "output_type": "stream",
     "text": [
      "[15, 813, 1112, 123, 40, 796, 2274, 1018, 2195, 201]\n"
     ]
    },
    {
     "name": "stderr",
     "output_type": "stream",
     "text": [
      "INFO:root: \n",
      "Avg Training Stats after 37 global rounds:\n",
      "INFO:root:Train Accuracy: 0.00%\n",
      "INFO:root:Training Loss : 0.2997130256239248\n",
      "INFO:root:Test Accuracy: 37.24%\n",
      "INFO:root:Test Loss: 1.6904884174466133 \n",
      "\n",
      " 37%|███▋      | 37/100 [10:59<18:37, 17.74s/it]"
     ]
    },
    {
     "name": "stdout",
     "output_type": "stream",
     "text": [
      "[303, 2195, 422, 1112, 1433, 116, 796, 602, 1756, 231]\n"
     ]
    },
    {
     "name": "stderr",
     "output_type": "stream",
     "text": [
      "INFO:root: \n",
      "Avg Training Stats after 38 global rounds:\n",
      "INFO:root:Train Accuracy: 0.00%\n",
      "INFO:root:Training Loss : 0.3155527238991511\n",
      "INFO:root:Test Accuracy: 42.38%\n",
      "INFO:root:Test Loss: 1.5810096138715743 \n",
      "\n",
      " 38%|███▊      | 38/100 [11:16<18:00, 17.42s/it]"
     ]
    },
    {
     "name": "stdout",
     "output_type": "stream",
     "text": [
      "[1756, 231, 267, 2430, 590, 1736, 15, 4600, 327, 1112]\n"
     ]
    },
    {
     "name": "stderr",
     "output_type": "stream",
     "text": [
      "INFO:root: \n",
      "Avg Training Stats after 39 global rounds:\n",
      "INFO:root:Train Accuracy: 0.00%\n",
      "INFO:root:Training Loss : 0.32084285093829157\n",
      "INFO:root:Test Accuracy: 45.05%\n",
      "INFO:root:Test Loss: 1.4919112187623977 \n",
      "\n",
      " 39%|███▉      | 39/100 [11:36<18:35, 18.29s/it]"
     ]
    },
    {
     "name": "stdout",
     "output_type": "stream",
     "text": [
      "[2575, 422, 3195, 862, 231, 796, 2934, 123, 2430, 794]\n"
     ]
    },
    {
     "name": "stderr",
     "output_type": "stream",
     "text": [
      "INFO:root: \n",
      "Avg Training Stats after 40 global rounds:\n",
      "INFO:root:Train Accuracy: 0.00%\n",
      "INFO:root:Training Loss : 0.269862601524492\n",
      "INFO:root:Test Accuracy: 43.08%\n",
      "INFO:root:Test Loss: 1.558157395720482 \n",
      "\n",
      " 40%|████      | 40/100 [11:57<19:14, 19.24s/it]"
     ]
    },
    {
     "name": "stdout",
     "output_type": "stream",
     "text": [
      "[231, 1119, 1736, 278, 447, 1018, 286, 744, 690, 173]\n"
     ]
    },
    {
     "name": "stderr",
     "output_type": "stream",
     "text": [
      "INFO:root: \n",
      "Avg Training Stats after 41 global rounds:\n",
      "INFO:root:Train Accuracy: 0.00%\n",
      "INFO:root:Training Loss : 0.33242890321699575\n",
      "INFO:root:Test Accuracy: 45.31%\n",
      "INFO:root:Test Loss: 1.511290224790573 \n",
      "\n",
      " 41%|████      | 41/100 [12:12<17:29, 17.79s/it]"
     ]
    },
    {
     "name": "stdout",
     "output_type": "stream",
     "text": [
      "[231, 1320, 1416, 2575, 2274, 862, 690, 602, 1012, 173]\n"
     ]
    },
    {
     "name": "stderr",
     "output_type": "stream",
     "text": [
      "INFO:root: \n",
      "Avg Training Stats after 42 global rounds:\n",
      "INFO:root:Train Accuracy: 0.00%\n",
      "INFO:root:Training Loss : 0.3124091317767127\n",
      "INFO:root:Test Accuracy: 41.49%\n",
      "INFO:root:Test Loss: 1.5936714485287666 \n",
      "\n",
      " 42%|████▏     | 42/100 [12:30<17:25, 18.02s/it]"
     ]
    },
    {
     "name": "stdout",
     "output_type": "stream",
     "text": [
      "[1112, 1053, 3195, 2934, 2029, 201, 123, 2195, 1018, 173]\n"
     ]
    },
    {
     "name": "stderr",
     "output_type": "stream",
     "text": [
      "INFO:root: \n",
      "Avg Training Stats after 43 global rounds:\n",
      "INFO:root:Train Accuracy: 0.00%\n",
      "INFO:root:Training Loss : 0.3631834278152211\n",
      "INFO:root:Test Accuracy: 41.65%\n",
      "INFO:root:Test Loss: 1.5604223364591598 \n",
      "\n",
      " 43%|████▎     | 43/100 [12:51<18:01, 18.97s/it]"
     ]
    },
    {
     "name": "stdout",
     "output_type": "stream",
     "text": [
      "[862, 1053, 422, 3195, 4600, 794, 1756, 173, 2029, 1018]\n"
     ]
    },
    {
     "name": "stderr",
     "output_type": "stream",
     "text": [
      "INFO:root: \n",
      "Avg Training Stats after 44 global rounds:\n",
      "INFO:root:Train Accuracy: 0.00%\n",
      "INFO:root:Training Loss : 0.36138874981924296\n",
      "INFO:root:Test Accuracy: 43.12%\n",
      "INFO:root:Test Loss: 1.5660443723201751 \n",
      "\n",
      " 44%|████▍     | 44/100 [13:16<19:07, 20.50s/it]"
     ]
    },
    {
     "name": "stdout",
     "output_type": "stream",
     "text": [
      "[1320, 2934, 796, 2195, 862, 2575, 2029, 19, 422, 286]\n"
     ]
    },
    {
     "name": "stderr",
     "output_type": "stream",
     "text": [
      "INFO:root: \n",
      "Avg Training Stats after 45 global rounds:\n",
      "INFO:root:Train Accuracy: 0.00%\n",
      "INFO:root:Training Loss : 0.3029388431247597\n",
      "INFO:root:Test Accuracy: 38.51%\n",
      "INFO:root:Test Loss: 1.665649383366108 \n",
      "\n",
      " 45%|████▌     | 45/100 [13:37<18:59, 20.72s/it]"
     ]
    },
    {
     "name": "stdout",
     "output_type": "stream",
     "text": [
      "[862, 744, 1416, 1112, 590, 542, 278, 690, 116, 1780]\n"
     ]
    },
    {
     "name": "stderr",
     "output_type": "stream",
     "text": [
      "INFO:root: \n",
      "Avg Training Stats after 46 global rounds:\n",
      "INFO:root:Train Accuracy: 0.00%\n",
      "INFO:root:Training Loss : 0.41906670903355875\n",
      "INFO:root:Test Accuracy: 39.98%\n",
      "INFO:root:Test Loss: 1.6376993185281754 \n",
      "\n",
      " 46%|████▌     | 46/100 [13:53<17:22, 19.30s/it]"
     ]
    },
    {
     "name": "stdout",
     "output_type": "stream",
     "text": [
      "[2575, 1112, 1320, 231, 3195, 1012, 862, 447, 2195, 201]\n"
     ]
    },
    {
     "name": "stderr",
     "output_type": "stream",
     "text": [
      "INFO:root: \n",
      "Avg Training Stats after 47 global rounds:\n",
      "INFO:root:Train Accuracy: 0.00%\n",
      "INFO:root:Training Loss : 0.20679875924458196\n",
      "INFO:root:Test Accuracy: 41.33%\n",
      "INFO:root:Test Loss: 1.6093709641695022 \n",
      "\n",
      " 47%|████▋     | 47/100 [14:13<17:19, 19.61s/it]"
     ]
    },
    {
     "name": "stdout",
     "output_type": "stream",
     "text": [
      "[1433, 542, 813, 231, 1119, 2029, 1012, 173, 2195, 1320]\n"
     ]
    },
    {
     "name": "stderr",
     "output_type": "stream",
     "text": [
      "INFO:root: \n",
      "Avg Training Stats after 48 global rounds:\n",
      "INFO:root:Train Accuracy: 0.00%\n",
      "INFO:root:Training Loss : 0.2223050756980685\n",
      "INFO:root:Test Accuracy: 34.57%\n",
      "INFO:root:Test Loss: 1.948568658977747 \n",
      "\n",
      " 48%|████▊     | 48/100 [14:31<16:36, 19.17s/it]"
     ]
    },
    {
     "name": "stdout",
     "output_type": "stream",
     "text": [
      "[744, 2195, 209, 1780, 2575, 123, 327, 40, 1736, 690]\n"
     ]
    },
    {
     "name": "stderr",
     "output_type": "stream",
     "text": [
      "INFO:root: \n",
      "Avg Training Stats after 49 global rounds:\n",
      "INFO:root:Train Accuracy: 0.00%\n",
      "INFO:root:Training Loss : 0.40080494192928756\n",
      "INFO:root:Test Accuracy: 35.55%\n",
      "INFO:root:Test Loss: 1.8146860218048095 \n",
      "\n",
      " 49%|████▉     | 49/100 [14:49<15:55, 18.74s/it]"
     ]
    },
    {
     "name": "stdout",
     "output_type": "stream",
     "text": [
      "[862, 690, 1433, 173, 3195, 2934, 116, 447, 231, 431]\n"
     ]
    },
    {
     "name": "stderr",
     "output_type": "stream",
     "text": [
      "INFO:root: \n",
      "Avg Training Stats after 50 global rounds:\n",
      "INFO:root:Train Accuracy: 0.00%\n",
      "INFO:root:Training Loss : 0.41412376512372545\n",
      "INFO:root:Test Accuracy: 44.49%\n",
      "INFO:root:Test Loss: 1.4912930363416672 \n",
      "\n",
      " 50%|█████     | 50/100 [15:07<15:29, 18.59s/it]"
     ]
    },
    {
     "name": "stdout",
     "output_type": "stream",
     "text": [
      "[1320, 19, 3195, 87, 1756, 303, 813, 2575, 231, 231]\n"
     ]
    },
    {
     "name": "stderr",
     "output_type": "stream",
     "text": [
      "INFO:root: \n",
      "Avg Training Stats after 51 global rounds:\n",
      "INFO:root:Train Accuracy: 0.00%\n",
      "INFO:root:Training Loss : 0.1736548034926854\n",
      "INFO:root:Test Accuracy: 40.35%\n",
      "INFO:root:Test Loss: 1.6331109637022019 \n",
      "\n",
      " 51%|█████     | 51/100 [15:25<15:00, 18.38s/it]"
     ]
    },
    {
     "name": "stdout",
     "output_type": "stream",
     "text": [
      "[40, 813, 1780, 2934, 15, 173, 278, 19, 1798, 267]\n"
     ]
    },
    {
     "name": "stderr",
     "output_type": "stream",
     "text": [
      "INFO:root: \n",
      "Avg Training Stats after 52 global rounds:\n",
      "INFO:root:Train Accuracy: 0.00%\n",
      "INFO:root:Training Loss : 0.38425118272830744\n",
      "INFO:root:Test Accuracy: 46.29%\n",
      "INFO:root:Test Loss: 1.4547429859638215 \n",
      "\n",
      " 52%|█████▏    | 52/100 [15:41<14:02, 17.55s/it]"
     ]
    },
    {
     "name": "stdout",
     "output_type": "stream",
     "text": [
      "[267, 231, 690, 173, 1780, 1053, 862, 590, 1433, 303]\n"
     ]
    },
    {
     "name": "stderr",
     "output_type": "stream",
     "text": [
      "INFO:root: \n",
      "Avg Training Stats after 53 global rounds:\n",
      "INFO:root:Train Accuracy: 0.00%\n",
      "INFO:root:Training Loss : 0.3598133742485693\n",
      "INFO:root:Test Accuracy: 48.26%\n",
      "INFO:root:Test Loss: 1.4516873908042909 \n",
      "\n",
      " 53%|█████▎    | 53/100 [15:56<13:16, 16.94s/it]"
     ]
    },
    {
     "name": "stdout",
     "output_type": "stream",
     "text": [
      "[431, 3195, 201, 796, 2934, 15, 231, 1112, 1736, 267]\n"
     ]
    },
    {
     "name": "stderr",
     "output_type": "stream",
     "text": [
      "INFO:root: \n",
      "Avg Training Stats after 54 global rounds:\n",
      "INFO:root:Train Accuracy: 0.00%\n",
      "INFO:root:Training Loss : 0.3281961655483547\n",
      "INFO:root:Test Accuracy: 44.36%\n",
      "INFO:root:Test Loss: 1.4617155575752259 \n",
      "\n",
      " 54%|█████▍    | 54/100 [16:15<13:21, 17.43s/it]"
     ]
    },
    {
     "name": "stdout",
     "output_type": "stream",
     "text": [
      "[40, 1320, 1416, 286, 2195, 1012, 201, 116, 1053, 542]\n"
     ]
    },
    {
     "name": "stderr",
     "output_type": "stream",
     "text": [
      "INFO:root: \n",
      "Avg Training Stats after 55 global rounds:\n",
      "INFO:root:Train Accuracy: 0.00%\n",
      "INFO:root:Training Loss : 0.39524472947800404\n",
      "INFO:root:Test Accuracy: 40.10%\n",
      "INFO:root:Test Loss: 1.633646881878376 \n",
      "\n",
      " 55%|█████▌    | 55/100 [16:31<12:46, 17.04s/it]"
     ]
    },
    {
     "name": "stdout",
     "output_type": "stream",
     "text": [
      "[1798, 422, 231, 4600, 231, 2575, 1433, 106, 1320, 862]\n"
     ]
    },
    {
     "name": "stderr",
     "output_type": "stream",
     "text": [
      "INFO:root: \n",
      "Avg Training Stats after 56 global rounds:\n",
      "INFO:root:Train Accuracy: 0.00%\n",
      "INFO:root:Training Loss : 0.2272594185382996\n",
      "INFO:root:Test Accuracy: 42.36%\n",
      "INFO:root:Test Loss: 1.5643140029907228 \n",
      "\n",
      " 56%|█████▌    | 56/100 [16:52<13:20, 18.20s/it]"
     ]
    },
    {
     "name": "stdout",
     "output_type": "stream",
     "text": [
      "[2274, 3195, 267, 2029, 590, 327, 2195, 278, 1756, 813]\n"
     ]
    },
    {
     "name": "stderr",
     "output_type": "stream",
     "text": [
      "INFO:root: \n",
      "Avg Training Stats after 57 global rounds:\n",
      "INFO:root:Train Accuracy: 0.00%\n",
      "INFO:root:Training Loss : 0.25554343133372825\n",
      "INFO:root:Test Accuracy: 42.23%\n",
      "INFO:root:Test Loss: 1.6014769688248633 \n",
      "\n",
      " 57%|█████▋    | 57/100 [17:13<13:44, 19.17s/it]"
     ]
    },
    {
     "name": "stdout",
     "output_type": "stream",
     "text": [
      "[1798, 431, 123, 1320, 1416, 231, 2575, 2934, 19, 1756]\n"
     ]
    },
    {
     "name": "stderr",
     "output_type": "stream",
     "text": [
      "INFO:root: \n",
      "Avg Training Stats after 58 global rounds:\n",
      "INFO:root:Train Accuracy: 0.00%\n",
      "INFO:root:Training Loss : 0.28725876176477205\n",
      "INFO:root:Test Accuracy: 39.55%\n",
      "INFO:root:Test Loss: 1.5536976939439773 \n",
      "\n",
      " 58%|█████▊    | 58/100 [17:33<13:33, 19.37s/it]"
     ]
    },
    {
     "name": "stdout",
     "output_type": "stream",
     "text": [
      "[1018, 267, 2274, 447, 2029, 690, 590, 303, 1119, 796]\n"
     ]
    },
    {
     "name": "stderr",
     "output_type": "stream",
     "text": [
      "INFO:root: \n",
      "Avg Training Stats after 59 global rounds:\n",
      "INFO:root:Train Accuracy: 0.00%\n",
      "INFO:root:Training Loss : 0.20926876109110268\n",
      "INFO:root:Test Accuracy: 40.95%\n",
      "INFO:root:Test Loss: 1.7573241585493087 \n",
      "\n",
      " 59%|█████▉    | 59/100 [17:50<12:44, 18.64s/it]"
     ]
    },
    {
     "name": "stdout",
     "output_type": "stream",
     "text": [
      "[106, 2430, 447, 1433, 1012, 3195, 1119, 1756, 862, 4600]\n"
     ]
    },
    {
     "name": "stderr",
     "output_type": "stream",
     "text": [
      "INFO:root: \n",
      "Avg Training Stats after 60 global rounds:\n",
      "INFO:root:Train Accuracy: 0.00%\n",
      "INFO:root:Training Loss : 0.15881950459807487\n",
      "INFO:root:Test Accuracy: 39.24%\n",
      "INFO:root:Test Loss: 1.6849258211255074 \n",
      "\n",
      " 60%|██████    | 60/100 [18:14<13:29, 20.23s/it]"
     ]
    },
    {
     "name": "stdout",
     "output_type": "stream",
     "text": [
      "[1780, 1320, 286, 2029, 40, 796, 447, 15, 231, 744]\n"
     ]
    },
    {
     "name": "stderr",
     "output_type": "stream",
     "text": [
      "INFO:root: \n",
      "Avg Training Stats after 61 global rounds:\n",
      "INFO:root:Train Accuracy: 0.00%\n",
      "INFO:root:Training Loss : 0.30574827146525824\n",
      "INFO:root:Test Accuracy: 36.25%\n",
      "INFO:root:Test Loss: 1.8536621557176114 \n",
      "\n",
      " 61%|██████    | 61/100 [18:29<12:11, 18.75s/it]"
     ]
    },
    {
     "name": "stdout",
     "output_type": "stream",
     "text": [
      "[116, 15, 2029, 327, 19, 470, 422, 87, 1012, 303]\n"
     ]
    },
    {
     "name": "stderr",
     "output_type": "stream",
     "text": [
      "INFO:root: \n",
      "Avg Training Stats after 62 global rounds:\n",
      "INFO:root:Train Accuracy: 0.00%\n",
      "INFO:root:Training Loss : 0.4195021476107845\n",
      "INFO:root:Test Accuracy: 43.36%\n",
      "INFO:root:Test Loss: 1.5792675945162773 \n",
      "\n",
      " 62%|██████▏   | 62/100 [18:42<10:42, 16.90s/it]"
     ]
    },
    {
     "name": "stdout",
     "output_type": "stream",
     "text": [
      "[796, 2274, 862, 286, 813, 3195, 1112, 422, 1119, 327]\n"
     ]
    },
    {
     "name": "stderr",
     "output_type": "stream",
     "text": [
      "INFO:root: \n",
      "Avg Training Stats after 63 global rounds:\n",
      "INFO:root:Train Accuracy: 0.00%\n",
      "INFO:root:Training Loss : 0.2320760633448767\n",
      "INFO:root:Test Accuracy: 40.75%\n",
      "INFO:root:Test Loss: 1.6356990192830563 \n",
      "\n",
      " 63%|██████▎   | 63/100 [19:00<10:43, 17.41s/it]"
     ]
    },
    {
     "name": "stdout",
     "output_type": "stream",
     "text": [
      "[542, 1798, 690, 15, 267, 2575, 796, 590, 209, 470]\n"
     ]
    },
    {
     "name": "stderr",
     "output_type": "stream",
     "text": [
      "INFO:root: \n",
      "Avg Training Stats after 64 global rounds:\n",
      "INFO:root:Train Accuracy: 0.00%\n",
      "INFO:root:Training Loss : 0.3014184763322525\n",
      "INFO:root:Test Accuracy: 45.44%\n",
      "INFO:root:Test Loss: 1.501652696430683 \n",
      "\n",
      " 64%|██████▍   | 64/100 [19:16<10:08, 16.90s/it]"
     ]
    },
    {
     "name": "stdout",
     "output_type": "stream",
     "text": [
      "[87, 267, 286, 1053, 303, 796, 40, 173, 19, 327]\n"
     ]
    },
    {
     "name": "stderr",
     "output_type": "stream",
     "text": [
      "INFO:root: \n",
      "Avg Training Stats after 65 global rounds:\n",
      "INFO:root:Train Accuracy: 0.00%\n",
      "INFO:root:Training Loss : 0.3879683735912948\n",
      "INFO:root:Test Accuracy: 43.96%\n",
      "INFO:root:Test Loss: 1.5437917926907538 \n",
      "\n",
      " 65%|██████▌   | 65/100 [19:27<08:52, 15.22s/it]"
     ]
    },
    {
     "name": "stdout",
     "output_type": "stream",
     "text": [
      "[813, 542, 106, 123, 4600, 40, 209, 2029, 1736, 2195]\n"
     ]
    },
    {
     "name": "stderr",
     "output_type": "stream",
     "text": [
      "INFO:root: \n",
      "Avg Training Stats after 66 global rounds:\n",
      "INFO:root:Train Accuracy: 0.00%\n",
      "INFO:root:Training Loss : 0.2895591975738401\n",
      "INFO:root:Test Accuracy: 45.39%\n",
      "INFO:root:Test Loss: 1.470126382112503 \n",
      "\n",
      " 66%|██████▌   | 66/100 [19:47<09:24, 16.62s/it]"
     ]
    },
    {
     "name": "stdout",
     "output_type": "stream",
     "text": [
      "[1416, 1320, 201, 744, 2934, 447, 278, 2430, 1018, 2274]\n"
     ]
    },
    {
     "name": "stderr",
     "output_type": "stream",
     "text": [
      "INFO:root: \n",
      "Avg Training Stats after 67 global rounds:\n",
      "INFO:root:Train Accuracy: 0.00%\n",
      "INFO:root:Training Loss : 0.26908882298690207\n",
      "INFO:root:Test Accuracy: 43.69%\n",
      "INFO:root:Test Loss: 1.5460421741008759 \n",
      "\n",
      " 67%|██████▋   | 67/100 [20:08<09:44, 17.70s/it]"
     ]
    },
    {
     "name": "stdout",
     "output_type": "stream",
     "text": [
      "[303, 1012, 470, 123, 106, 201, 87, 1736, 2934, 2575]\n"
     ]
    },
    {
     "name": "stderr",
     "output_type": "stream",
     "text": [
      "INFO:root: \n",
      "Avg Training Stats after 68 global rounds:\n",
      "INFO:root:Train Accuracy: 0.00%\n",
      "INFO:root:Training Loss : 0.18502945842640026\n",
      "INFO:root:Test Accuracy: 44.51%\n",
      "INFO:root:Test Loss: 1.4757976198196412 \n",
      "\n",
      " 68%|██████▊   | 68/100 [20:25<09:20, 17.51s/it]"
     ]
    },
    {
     "name": "stdout",
     "output_type": "stream",
     "text": [
      "[3195, 794, 690, 2029, 231, 1756, 1112, 1736, 201, 813]\n"
     ]
    },
    {
     "name": "stderr",
     "output_type": "stream",
     "text": [
      "INFO:root: \n",
      "Avg Training Stats after 69 global rounds:\n",
      "INFO:root:Train Accuracy: 0.00%\n",
      "INFO:root:Training Loss : 0.17972462534144623\n",
      "INFO:root:Test Accuracy: 46.42%\n",
      "INFO:root:Test Loss: 1.4835720753669739 \n",
      "\n",
      " 69%|██████▉   | 69/100 [20:44<09:23, 18.18s/it]"
     ]
    },
    {
     "name": "stdout",
     "output_type": "stream",
     "text": [
      "[106, 40, 278, 422, 470, 2029, 2934, 744, 2274, 327]\n"
     ]
    },
    {
     "name": "stderr",
     "output_type": "stream",
     "text": [
      "INFO:root: \n",
      "Avg Training Stats after 70 global rounds:\n",
      "INFO:root:Train Accuracy: 0.00%\n",
      "INFO:root:Training Loss : 0.2318121561994241\n",
      "INFO:root:Test Accuracy: 39.89%\n",
      "INFO:root:Test Loss: 1.6867019651830197 \n",
      "\n",
      " 70%|███████   | 70/100 [21:02<08:56, 17.87s/it]"
     ]
    },
    {
     "name": "stdout",
     "output_type": "stream",
     "text": [
      "[3195, 267, 303, 173, 286, 2029, 422, 1012, 796, 106]\n"
     ]
    },
    {
     "name": "stderr",
     "output_type": "stream",
     "text": [
      "INFO:root: \n",
      "Avg Training Stats after 71 global rounds:\n",
      "INFO:root:Train Accuracy: 0.00%\n",
      "INFO:root:Training Loss : 0.2814251345024405\n",
      "INFO:root:Test Accuracy: 48.49%\n",
      "INFO:root:Test Loss: 1.4147506952285767 \n",
      "\n",
      " 71%|███████   | 71/100 [21:18<08:24, 17.40s/it]"
     ]
    },
    {
     "name": "stdout",
     "output_type": "stream",
     "text": [
      "[209, 40, 4600, 106, 123, 1012, 690, 542, 602, 2575]\n"
     ]
    },
    {
     "name": "stderr",
     "output_type": "stream",
     "text": [
      "INFO:root: \n",
      "Avg Training Stats after 72 global rounds:\n",
      "INFO:root:Train Accuracy: 0.00%\n",
      "INFO:root:Training Loss : 0.24330990210212167\n",
      "INFO:root:Test Accuracy: 41.43%\n",
      "INFO:root:Test Loss: 1.5802582857012748 \n",
      "\n",
      " 72%|███████▏  | 72/100 [21:36<08:10, 17.52s/it]"
     ]
    },
    {
     "name": "stdout",
     "output_type": "stream",
     "text": [
      "[1012, 2430, 2274, 209, 1798, 303, 1112, 231, 744, 278]\n"
     ]
    },
    {
     "name": "stderr",
     "output_type": "stream",
     "text": [
      "INFO:root: \n",
      "Avg Training Stats after 73 global rounds:\n",
      "INFO:root:Train Accuracy: 0.00%\n",
      "INFO:root:Training Loss : 0.1980187964924849\n",
      "INFO:root:Test Accuracy: 46.44%\n",
      "INFO:root:Test Loss: 1.4813558557629585 \n",
      "\n",
      " 73%|███████▎  | 73/100 [21:53<07:55, 17.62s/it]"
     ]
    },
    {
     "name": "stdout",
     "output_type": "stream",
     "text": [
      "[447, 1320, 209, 327, 744, 1018, 231, 2430, 590, 602]\n"
     ]
    },
    {
     "name": "stderr",
     "output_type": "stream",
     "text": [
      "INFO:root: \n",
      "Avg Training Stats after 74 global rounds:\n",
      "INFO:root:Train Accuracy: 0.00%\n",
      "INFO:root:Training Loss : 0.2935345686570717\n",
      "INFO:root:Test Accuracy: 49.70%\n",
      "INFO:root:Test Loss: 1.4007023561000824 \n",
      "\n",
      " 74%|███████▍  | 74/100 [22:09<07:21, 16.99s/it]"
     ]
    },
    {
     "name": "stdout",
     "output_type": "stream",
     "text": [
      "[470, 1053, 303, 1012, 106, 3195, 447, 1112, 201, 1433]\n"
     ]
    },
    {
     "name": "stderr",
     "output_type": "stream",
     "text": [
      "INFO:root: \n",
      "Avg Training Stats after 75 global rounds:\n",
      "INFO:root:Train Accuracy: 0.00%\n",
      "INFO:root:Training Loss : 0.1463965096153012\n",
      "INFO:root:Test Accuracy: 50.37%\n",
      "INFO:root:Test Loss: 1.36996173620224 \n",
      "\n",
      " 75%|███████▌  | 75/100 [22:26<07:03, 16.94s/it]"
     ]
    },
    {
     "name": "stdout",
     "output_type": "stream",
     "text": [
      "[231, 1433, 431, 209, 1416, 1780, 116, 123, 422, 4600]\n"
     ]
    },
    {
     "name": "stderr",
     "output_type": "stream",
     "text": [
      "INFO:root: \n",
      "Avg Training Stats after 76 global rounds:\n",
      "INFO:root:Train Accuracy: 0.00%\n",
      "INFO:root:Training Loss : 0.4227443567862492\n",
      "INFO:root:Test Accuracy: 48.82%\n",
      "INFO:root:Test Loss: 1.3942398327589034 \n",
      "\n",
      " 76%|███████▌  | 76/100 [22:44<06:55, 17.31s/it]"
     ]
    },
    {
     "name": "stdout",
     "output_type": "stream",
     "text": [
      "[2575, 796, 1053, 267, 602, 1018, 201, 1756, 286, 2430]\n"
     ]
    },
    {
     "name": "stderr",
     "output_type": "stream",
     "text": [
      "INFO:root: \n",
      "Avg Training Stats after 77 global rounds:\n",
      "INFO:root:Train Accuracy: 0.00%\n",
      "INFO:root:Training Loss : 0.26851710703422305\n",
      "INFO:root:Test Accuracy: 52.99%\n",
      "INFO:root:Test Loss: 1.3221977436542511 \n",
      "\n",
      " 77%|███████▋  | 77/100 [23:02<06:45, 17.62s/it]"
     ]
    },
    {
     "name": "stdout",
     "output_type": "stream",
     "text": [
      "[15, 2029, 2274, 744, 1018, 1736, 2934, 19, 173, 447]\n"
     ]
    },
    {
     "name": "stderr",
     "output_type": "stream",
     "text": [
      "INFO:root: \n",
      "Avg Training Stats after 78 global rounds:\n",
      "INFO:root:Train Accuracy: 0.00%\n",
      "INFO:root:Training Loss : 0.315968407864657\n",
      "INFO:root:Test Accuracy: 49.95%\n",
      "INFO:root:Test Loss: 1.3838665458559989 \n",
      "\n",
      " 78%|███████▊  | 78/100 [23:21<06:35, 17.99s/it]"
     ]
    },
    {
     "name": "stdout",
     "output_type": "stream",
     "text": [
      "[542, 602, 173, 201, 590, 690, 422, 2934, 1736, 744]\n"
     ]
    },
    {
     "name": "stderr",
     "output_type": "stream",
     "text": [
      "INFO:root: \n",
      "Avg Training Stats after 79 global rounds:\n",
      "INFO:root:Train Accuracy: 0.00%\n",
      "INFO:root:Training Loss : 0.3304570335459967\n",
      "INFO:root:Test Accuracy: 50.86%\n",
      "INFO:root:Test Loss: 1.3418553406000138 \n",
      "\n",
      " 79%|███████▉  | 79/100 [23:37<06:06, 17.44s/it]"
     ]
    },
    {
     "name": "stdout",
     "output_type": "stream",
     "text": [
      "[201, 278, 40, 1112, 106, 690, 2029, 87, 796, 3195]\n"
     ]
    },
    {
     "name": "stderr",
     "output_type": "stream",
     "text": [
      "INFO:root: \n",
      "Avg Training Stats after 80 global rounds:\n",
      "INFO:root:Train Accuracy: 0.00%\n",
      "INFO:root:Training Loss : 0.1656695638684762\n",
      "INFO:root:Test Accuracy: 46.93%\n",
      "INFO:root:Test Loss: 1.4345595037937164 \n",
      "\n",
      " 80%|████████  | 80/100 [23:53<05:40, 17.05s/it]"
     ]
    },
    {
     "name": "stdout",
     "output_type": "stream",
     "text": [
      "[1798, 15, 201, 123, 1433, 542, 1119, 690, 602, 40]\n"
     ]
    },
    {
     "name": "stderr",
     "output_type": "stream",
     "text": [
      "INFO:root: \n",
      "Avg Training Stats after 81 global rounds:\n",
      "INFO:root:Train Accuracy: 0.00%\n",
      "INFO:root:Training Loss : 0.23128851499902242\n",
      "INFO:root:Test Accuracy: 51.24%\n",
      "INFO:root:Test Loss: 1.3701282250881195 \n",
      "\n",
      " 81%|████████  | 81/100 [24:08<05:08, 16.21s/it]"
     ]
    },
    {
     "name": "stdout",
     "output_type": "stream",
     "text": [
      "[267, 542, 209, 796, 87, 3195, 231, 303, 2934, 1119]\n"
     ]
    },
    {
     "name": "stderr",
     "output_type": "stream",
     "text": [
      "INFO:root: \n",
      "Avg Training Stats after 82 global rounds:\n",
      "INFO:root:Train Accuracy: 0.00%\n",
      "INFO:root:Training Loss : 0.22633193779429636\n",
      "INFO:root:Test Accuracy: 50.54%\n",
      "INFO:root:Test Loss: 1.4054127091169357 \n",
      "\n",
      " 82%|████████▏ | 82/100 [24:25<04:56, 16.48s/it]"
     ]
    },
    {
     "name": "stdout",
     "output_type": "stream",
     "text": [
      "[690, 431, 422, 231, 4600, 2934, 2029, 327, 796, 590]\n"
     ]
    },
    {
     "name": "stderr",
     "output_type": "stream",
     "text": [
      "INFO:root: \n",
      "Avg Training Stats after 83 global rounds:\n",
      "INFO:root:Train Accuracy: 0.00%\n",
      "INFO:root:Training Loss : 0.2510046501910495\n",
      "INFO:root:Test Accuracy: 45.42%\n",
      "INFO:root:Test Loss: 1.5411492559313773 \n",
      "\n",
      " 83%|████████▎ | 83/100 [24:45<04:58, 17.57s/it]"
     ]
    },
    {
     "name": "stdout",
     "output_type": "stream",
     "text": [
      "[231, 1112, 87, 303, 690, 796, 2195, 813, 327, 1018]\n"
     ]
    },
    {
     "name": "stderr",
     "output_type": "stream",
     "text": [
      "INFO:root: \n",
      "Avg Training Stats after 84 global rounds:\n",
      "INFO:root:Train Accuracy: 0.00%\n",
      "INFO:root:Training Loss : 0.22603717296433765\n",
      "INFO:root:Test Accuracy: 43.53%\n",
      "INFO:root:Test Loss: 1.6655041038990022 \n",
      "\n",
      " 84%|████████▍ | 84/100 [25:00<04:30, 16.88s/it]"
     ]
    },
    {
     "name": "stdout",
     "output_type": "stream",
     "text": [
      "[602, 1018, 542, 106, 794, 447, 2029, 1433, 327, 690]\n"
     ]
    },
    {
     "name": "stderr",
     "output_type": "stream",
     "text": [
      "INFO:root: \n",
      "Avg Training Stats after 85 global rounds:\n",
      "INFO:root:Train Accuracy: 0.00%\n",
      "INFO:root:Training Loss : 0.2541907325018121\n",
      "INFO:root:Test Accuracy: 46.91%\n",
      "INFO:root:Test Loss: 1.4555780762434005 \n",
      "\n",
      " 85%|████████▌ | 85/100 [25:16<04:08, 16.55s/it]"
     ]
    },
    {
     "name": "stdout",
     "output_type": "stream",
     "text": [
      "[1433, 267, 447, 1012, 470, 201, 231, 15, 278, 1736]\n"
     ]
    },
    {
     "name": "stderr",
     "output_type": "stream",
     "text": [
      "INFO:root: \n",
      "Avg Training Stats after 86 global rounds:\n",
      "INFO:root:Train Accuracy: 0.00%\n",
      "INFO:root:Training Loss : 0.29432048442056047\n",
      "INFO:root:Test Accuracy: 52.86%\n",
      "INFO:root:Test Loss: 1.3122903388738631 \n",
      "\n",
      " 86%|████████▌ | 86/100 [25:30<03:40, 15.74s/it]"
     ]
    },
    {
     "name": "stdout",
     "output_type": "stream",
     "text": [
      "[40, 1053, 231, 286, 106, 2274, 470, 1119, 447, 1416]\n"
     ]
    },
    {
     "name": "stderr",
     "output_type": "stream",
     "text": [
      "INFO:root: \n",
      "Avg Training Stats after 87 global rounds:\n",
      "INFO:root:Train Accuracy: 0.00%\n",
      "INFO:root:Training Loss : 0.2260437822766254\n",
      "INFO:root:Test Accuracy: 47.79%\n",
      "INFO:root:Test Loss: 1.520310990512371 \n",
      "\n",
      " 87%|████████▋ | 87/100 [25:45<03:21, 15.53s/it]"
     ]
    },
    {
     "name": "stdout",
     "output_type": "stream",
     "text": [
      "[209, 2029, 231, 278, 1320, 862, 2195, 690, 1736, 106]\n"
     ]
    },
    {
     "name": "stderr",
     "output_type": "stream",
     "text": [
      "INFO:root: \n",
      "Avg Training Stats after 88 global rounds:\n",
      "INFO:root:Train Accuracy: 0.00%\n",
      "INFO:root:Training Loss : 0.2518622488438483\n",
      "INFO:root:Test Accuracy: 48.26%\n",
      "INFO:root:Test Loss: 1.4118327915668487 \n",
      "\n",
      " 88%|████████▊ | 88/100 [26:02<03:12, 16.07s/it]"
     ]
    },
    {
     "name": "stdout",
     "output_type": "stream",
     "text": [
      "[2430, 201, 2195, 2575, 123, 602, 116, 794, 4600, 690]\n"
     ]
    },
    {
     "name": "stderr",
     "output_type": "stream",
     "text": [
      "INFO:root: \n",
      "Avg Training Stats after 89 global rounds:\n",
      "INFO:root:Train Accuracy: 0.00%\n",
      "INFO:root:Training Loss : 0.28789958929410464\n",
      "INFO:root:Test Accuracy: 54.70%\n",
      "INFO:root:Test Loss: 1.2824728333950042 \n",
      "\n",
      " 89%|████████▉ | 89/100 [26:24<03:14, 17.66s/it]"
     ]
    },
    {
     "name": "stdout",
     "output_type": "stream",
     "text": [
      "[470, 303, 278, 87, 1119, 2274, 1780, 19, 4600, 602]\n"
     ]
    },
    {
     "name": "stderr",
     "output_type": "stream",
     "text": [
      "INFO:root: \n",
      "Avg Training Stats after 90 global rounds:\n",
      "INFO:root:Train Accuracy: 0.00%\n",
      "INFO:root:Training Loss : 0.19092449322573704\n",
      "INFO:root:Test Accuracy: 52.13%\n",
      "INFO:root:Test Loss: 1.3598484149575234 \n",
      "\n",
      " 90%|█████████ | 90/100 [26:42<03:00, 18.03s/it]"
     ]
    },
    {
     "name": "stdout",
     "output_type": "stream",
     "text": [
      "[2575, 602, 2029, 327, 209, 4600, 2274, 1756, 431, 1112]\n"
     ]
    },
    {
     "name": "stderr",
     "output_type": "stream",
     "text": [
      "INFO:root: \n",
      "Avg Training Stats after 91 global rounds:\n",
      "INFO:root:Train Accuracy: 0.00%\n",
      "INFO:root:Training Loss : 0.22226016977525392\n",
      "INFO:root:Test Accuracy: 54.33%\n",
      "INFO:root:Test Loss: 1.2759361013770103 \n",
      "\n",
      " 91%|█████████ | 91/100 [27:05<02:55, 19.49s/it]"
     ]
    },
    {
     "name": "stdout",
     "output_type": "stream",
     "text": [
      "[2195, 267, 813, 286, 3195, 470, 231, 278, 1012, 231]\n"
     ]
    },
    {
     "name": "stderr",
     "output_type": "stream",
     "text": [
      "INFO:root: \n",
      "Avg Training Stats after 92 global rounds:\n",
      "INFO:root:Train Accuracy: 0.00%\n",
      "INFO:root:Training Loss : 0.21718486830355133\n",
      "INFO:root:Test Accuracy: 49.50%\n",
      "INFO:root:Test Loss: 1.4127083417773247 \n",
      "\n",
      " 92%|█████████▏| 92/100 [27:22<02:28, 18.60s/it]"
     ]
    },
    {
     "name": "stdout",
     "output_type": "stream",
     "text": [
      "[1053, 2575, 303, 2430, 542, 116, 1756, 1433, 327, 15]\n"
     ]
    },
    {
     "name": "stderr",
     "output_type": "stream",
     "text": [
      "INFO:root: \n",
      "Avg Training Stats after 93 global rounds:\n",
      "INFO:root:Train Accuracy: 0.00%\n",
      "INFO:root:Training Loss : 0.30836599329032255\n",
      "INFO:root:Test Accuracy: 53.68%\n",
      "INFO:root:Test Loss: 1.2606162592768668 \n",
      "\n",
      " 93%|█████████▎| 93/100 [27:40<02:08, 18.39s/it]"
     ]
    },
    {
     "name": "stdout",
     "output_type": "stream",
     "text": [
      "[590, 4600, 201, 286, 303, 1736, 15, 1798, 744, 422]\n"
     ]
    },
    {
     "name": "stderr",
     "output_type": "stream",
     "text": [
      "INFO:root: \n",
      "Avg Training Stats after 94 global rounds:\n",
      "INFO:root:Train Accuracy: 0.00%\n",
      "INFO:root:Training Loss : 0.23312736273912563\n",
      "INFO:root:Test Accuracy: 55.09%\n",
      "INFO:root:Test Loss: 1.263541386127472 \n",
      "\n",
      " 94%|█████████▍| 94/100 [27:58<01:50, 18.35s/it]"
     ]
    },
    {
     "name": "stdout",
     "output_type": "stream",
     "text": [
      "[123, 862, 542, 19, 794, 1112, 4600, 2934, 231, 15]\n"
     ]
    },
    {
     "name": "stderr",
     "output_type": "stream",
     "text": [
      "INFO:root: \n",
      "Avg Training Stats after 95 global rounds:\n",
      "INFO:root:Train Accuracy: 0.00%\n",
      "INFO:root:Training Loss : 0.28561806405279405\n",
      "INFO:root:Test Accuracy: 49.39%\n",
      "INFO:root:Test Loss: 1.3695805463194848 \n",
      "\n",
      " 95%|█████████▌| 95/100 [28:16<01:31, 18.36s/it]"
     ]
    },
    {
     "name": "stdout",
     "output_type": "stream",
     "text": [
      "[1053, 87, 2575, 4600, 542, 231, 1433, 1012, 2029, 862]\n"
     ]
    },
    {
     "name": "stderr",
     "output_type": "stream",
     "text": [
      "INFO:root: \n",
      "Avg Training Stats after 96 global rounds:\n",
      "INFO:root:Train Accuracy: 0.00%\n",
      "INFO:root:Training Loss : 0.20349732012033223\n",
      "INFO:root:Test Accuracy: 41.19%\n",
      "INFO:root:Test Loss: 1.6967015773802996 \n",
      "\n",
      " 96%|█████████▌| 96/100 [28:38<01:17, 19.28s/it]"
     ]
    },
    {
     "name": "stdout",
     "output_type": "stream",
     "text": [
      "[19, 602, 40, 690, 267, 231, 173, 2029, 1798, 3195]\n"
     ]
    },
    {
     "name": "stderr",
     "output_type": "stream",
     "text": [
      "INFO:root: \n",
      "Avg Training Stats after 97 global rounds:\n",
      "INFO:root:Train Accuracy: 0.00%\n",
      "INFO:root:Training Loss : 0.3222912340687842\n",
      "INFO:root:Test Accuracy: 52.16%\n",
      "INFO:root:Test Loss: 1.3072634094953537 \n",
      "\n",
      " 97%|█████████▋| 97/100 [28:55<00:55, 18.50s/it]"
     ]
    },
    {
     "name": "stdout",
     "output_type": "stream",
     "text": [
      "[209, 1012, 422, 40, 794, 4600, 116, 286, 303, 1756]\n"
     ]
    },
    {
     "name": "stderr",
     "output_type": "stream",
     "text": [
      "INFO:root: \n",
      "Avg Training Stats after 98 global rounds:\n",
      "INFO:root:Train Accuracy: 0.00%\n",
      "INFO:root:Training Loss : 0.22787458774638275\n",
      "INFO:root:Test Accuracy: 49.85%\n",
      "INFO:root:Test Loss: 1.352128741443157 \n",
      "\n",
      " 98%|█████████▊| 98/100 [29:12<00:36, 18.05s/it]"
     ]
    },
    {
     "name": "stdout",
     "output_type": "stream",
     "text": [
      "[2274, 1736, 173, 1416, 447, 19, 2195, 2029, 862, 744]\n"
     ]
    },
    {
     "name": "stderr",
     "output_type": "stream",
     "text": [
      "INFO:root: \n",
      "Avg Training Stats after 99 global rounds:\n",
      "INFO:root:Train Accuracy: 0.00%\n",
      "INFO:root:Training Loss : 0.35002778178171357\n",
      "INFO:root:Test Accuracy: 49.22%\n",
      "INFO:root:Test Loss: 1.4077601715922357 \n",
      "\n",
      " 99%|█████████▉| 99/100 [29:31<00:18, 18.35s/it]"
     ]
    },
    {
     "name": "stdout",
     "output_type": "stream",
     "text": [
      "[431, 1798, 1736, 744, 19, 278, 690, 590, 116, 40]\n"
     ]
    },
    {
     "name": "stderr",
     "output_type": "stream",
     "text": [
      "INFO:root: \n",
      "Avg Training Stats after 100 global rounds:\n",
      "INFO:root:Train Accuracy: 0.00%\n",
      "INFO:root:Training Loss : 0.2678747051927548\n",
      "INFO:root:Test Accuracy: 52.23%\n",
      "INFO:root:Test Loss: 1.3383452576398849 \n",
      "\n",
      "100%|██████████| 100/100 [29:45<00:00, 17.85s/it]\n",
      "INFO:root: \n",
      " Results after 100 global rounds of training:\n",
      "INFO:root:|---- Best Test Accuracy: 55.09% , round: 93\n"
     ]
    },
    {
     "name": "stdout",
     "output_type": "stream",
     "text": [
      " Saving checkpoints to ../save/checkpoint/ConvNet_1207/cifar10_ConvNet_none_T[100]_C[0.2]_iid[0]_E[5]_B[32]_GPU[0]_Pruned[0.0]...\n"
     ]
    }
   ],
   "source": [
    " args = easydict.EasyDict({\n",
    "    \"model\": 'ConvNet',\n",
    "    'dataset': 'cifar10',\n",
    "    'gpu': 0,\n",
    "    'iid': 0,\n",
    "    'epochs': 100,\n",
    "    'optimizer': 'sgd',\n",
    "    'seed': 0,\n",
    "    'norm': 'none',\n",
    "    'num_users': 50,\n",
    "    'frac': 0.2,\n",
    "    'local_ep': 5, \n",
    "    'local_bs': 32,\n",
    "    'lr': 0.01,\n",
    "    'momentum': 1,\n",
    "    'kernel_num': 9,\n",
    "    'kernel_sizes': 'centering',\n",
    "    'num_channnels': '1',\n",
    "    'num_filters': 32,\n",
    "    'max_pool': 'True',\n",
    "    'num_classes': 10,\n",
    "    'unequal': 0,\n",
    "    'stopping_rounds': 0,\n",
    "    'verbose': 0,\n",
    "    'hold_normalize': 0,\n",
    "    'save_path': '../save/checkpoint',\n",
    "    'exp_folder': 'ConvNet_1207',\n",
    "    'resume': None,\n",
    "    'server_opt': 'sgd',\n",
    "    'server_lr': 1.0,\n",
    "    'client_decay':0,\n",
    "    'local_decay':0,\n",
    "    'alpha': 0.05,\n",
    "    'server_epoch':0,\n",
    "    'cosine_norm':0, \n",
    "    'only_fc' :0 ,\n",
    "    'loss':'ce',\n",
    "    'dc_lr':0.0,\n",
    "    'tsne_pred':0,\n",
    "    'pruning': 0.0 })\n",
    "    \n",
    "    \n",
    "    \n",
    "temp = main_test(args)\n",
    "total.append(temp)"
   ]
  },
  {
   "cell_type": "code",
   "execution_count": 7,
   "id": "surprising-olive",
   "metadata": {},
   "outputs": [
    {
     "name": "stderr",
     "output_type": "stream",
     "text": [
      "INFO:root:{'model': 'ConvNet', 'dataset': 'cifar10', 'gpu': 0, 'iid': 0, 'epochs': 100, 'optimizer': 'sgd', 'seed': 0, 'norm': 'none', 'num_users': 50, 'frac': 0.2, 'local_ep': 5, 'local_bs': 32, 'lr': 0.01, 'momentum': 1, 'kernel_num': 9, 'kernel_sizes': 'centering', 'num_channnels': '1', 'num_filters': 32, 'max_pool': 'True', 'num_classes': 10, 'unequal': 0, 'stopping_rounds': 0, 'verbose': 0, 'hold_normalize': 0, 'save_path': '../save/checkpoint/ConvNet_1207', 'exp_folder': 'ConvNet_1207', 'resume': None, 'server_opt': 'sgdm', 'server_lr': 1.0, 'client_decay': 0, 'local_decay': 0, 'alpha': 0.05, 'server_epoch': 0, 'cosine_norm': 0, 'only_fc': 0, 'loss': 'ce', 'dc_lr': 0.0, 'tsne_pred': 0, 'pruning': 0.0}\n"
     ]
    },
    {
     "name": "stdout",
     "output_type": "stream",
     "text": [
      "Files already downloaded and verified\n",
      "Files already downloaded and verified\n",
      "Files already downloaded and verified\n"
     ]
    },
    {
     "name": "stderr",
     "output_type": "stream",
     "text": [
      "INFO:root:ConvNet(\n",
      "  (net_act): ReLU(inplace=True)\n",
      "  (net_pooling): MaxPool2d(kernel_size=2, stride=2, padding=0, dilation=1, ceil_mode=False)\n",
      "  (features): Sequential(\n",
      "    (0): Conv2d(3, 128, kernel_size=(3, 3), stride=(1, 1), padding=(1, 1))\n",
      "    (1): ReLU(inplace=True)\n",
      "    (2): MaxPool2d(kernel_size=2, stride=2, padding=0, dilation=1, ceil_mode=False)\n",
      "    (3): Conv2d(128, 128, kernel_size=(3, 3), stride=(1, 1), padding=(1, 1))\n",
      "    (4): ReLU(inplace=True)\n",
      "    (5): MaxPool2d(kernel_size=2, stride=2, padding=0, dilation=1, ceil_mode=False)\n",
      "    (6): Conv2d(128, 128, kernel_size=(3, 3), stride=(1, 1), padding=(1, 1))\n",
      "    (7): ReLU(inplace=True)\n",
      "    (8): MaxPool2d(kernel_size=2, stride=2, padding=0, dilation=1, ceil_mode=False)\n",
      "  )\n",
      "  (classifier): Linear(in_features=2048, out_features=10, bias=True)\n",
      ")\n",
      "INFO:root:None\n",
      "  0%|          | 0/100 [00:00<?, ?it/s]"
     ]
    },
    {
     "name": "stdout",
     "output_type": "stream",
     "text": [
      "----------------------------------------------------------------\n",
      "        Layer (type)               Output Shape         Param #\n",
      "================================================================\n",
      "            Conv2d-1          [-1, 128, 32, 32]           3,584\n",
      "              ReLU-2          [-1, 128, 32, 32]               0\n",
      "              ReLU-3          [-1, 128, 32, 32]               0\n",
      "         MaxPool2d-4          [-1, 128, 16, 16]               0\n",
      "         MaxPool2d-5          [-1, 128, 16, 16]               0\n",
      "            Conv2d-6          [-1, 128, 16, 16]         147,584\n",
      "              ReLU-7          [-1, 128, 16, 16]               0\n",
      "              ReLU-8          [-1, 128, 16, 16]               0\n",
      "         MaxPool2d-9            [-1, 128, 8, 8]               0\n",
      "        MaxPool2d-10            [-1, 128, 8, 8]               0\n",
      "           Conv2d-11            [-1, 128, 8, 8]         147,584\n",
      "             ReLU-12            [-1, 128, 8, 8]               0\n",
      "             ReLU-13            [-1, 128, 8, 8]               0\n",
      "        MaxPool2d-14            [-1, 128, 4, 4]               0\n",
      "        MaxPool2d-15            [-1, 128, 4, 4]               0\n",
      "           Linear-16                   [-1, 10]          20,490\n",
      "================================================================\n",
      "Total params: 319,242\n",
      "Trainable params: 319,242\n",
      "Non-trainable params: 0\n",
      "----------------------------------------------------------------\n",
      "Input size (MB): 0.01\n",
      "Forward/backward pass size (MB): 4.59\n",
      "Params size (MB): 1.22\n",
      "Estimated Total Size (MB): 5.82\n",
      "----------------------------------------------------------------\n",
      "[209, 1756, 422, 2575, 1018, 602, 2274, 447, 744, 1112, 123, 87, 1433, 1416, 40, 1119, 796, 794, 327, 470, 231, 813, 1320, 542, 690, 2195, 2934, 106, 1012, 15, 278, 1798, 303, 590, 2029, 201, 1053, 862, 231, 116, 4600, 19, 286, 1736, 2430, 431, 3195, 1780, 173, 267]\n",
      "[470, 2934, 201, 231, 2575, 744, 15, 123, 1119, 4600]\n"
     ]
    },
    {
     "name": "stderr",
     "output_type": "stream",
     "text": [
      "INFO:root: \n",
      "Avg Training Stats after 1 global rounds:\n",
      "INFO:root:Train Accuracy: 0.00%\n",
      "INFO:root:Training Loss : 0.5188513476729864\n",
      "INFO:root:Test Accuracy: 11.45%\n",
      "INFO:root:Test Loss: 2.348912551403046 \n",
      "\n",
      "  1%|          | 1/100 [00:20<33:35, 20.36s/it]"
     ]
    },
    {
     "name": "stdout",
     "output_type": "stream",
     "text": [
      "[231, 173, 2575, 1736, 2430, 123, 4600, 690, 1012, 447]\n"
     ]
    },
    {
     "name": "stderr",
     "output_type": "stream",
     "text": [
      "INFO:root: \n",
      "Avg Training Stats after 2 global rounds:\n",
      "INFO:root:Train Accuracy: 0.00%\n",
      "INFO:root:Training Loss : 0.5609489013151473\n",
      "INFO:root:Test Accuracy: 13.83%\n",
      "INFO:root:Test Loss: 3.506603801846504 \n",
      "\n",
      "  2%|▏         | 2/100 [00:41<33:53, 20.75s/it]"
     ]
    },
    {
     "name": "stdout",
     "output_type": "stream",
     "text": [
      "[744, 2575, 1320, 470, 2430, 2274, 267, 690, 209, 303]\n"
     ]
    },
    {
     "name": "stderr",
     "output_type": "stream",
     "text": [
      "INFO:root: \n",
      "Avg Training Stats after 3 global rounds:\n",
      "INFO:root:Train Accuracy: 0.00%\n",
      "INFO:root:Training Loss : 0.46326399615518793\n",
      "INFO:root:Test Accuracy: 13.27%\n",
      "INFO:root:Test Loss: 4.4420951339975 \n",
      "\n",
      "  3%|▎         | 3/100 [00:59<31:54, 19.74s/it]"
     ]
    },
    {
     "name": "stdout",
     "output_type": "stream",
     "text": [
      "[173, 690, 542, 1012, 2195, 1780, 1053, 87, 2934, 1736]\n"
     ]
    },
    {
     "name": "stderr",
     "output_type": "stream",
     "text": [
      "INFO:root: \n",
      "Avg Training Stats after 4 global rounds:\n",
      "INFO:root:Train Accuracy: 0.00%\n",
      "INFO:root:Training Loss : 0.6370270700932057\n",
      "INFO:root:Test Accuracy: 26.64%\n",
      "INFO:root:Test Loss: 2.1949927896261214 \n",
      "\n",
      "  4%|▍         | 4/100 [01:19<31:23, 19.62s/it]"
     ]
    },
    {
     "name": "stdout",
     "output_type": "stream",
     "text": [
      "[2430, 2575, 1736, 123, 15, 1780, 1018, 231, 87, 794]\n"
     ]
    },
    {
     "name": "stderr",
     "output_type": "stream",
     "text": [
      "INFO:root: \n",
      "Avg Training Stats after 5 global rounds:\n",
      "INFO:root:Train Accuracy: 0.00%\n",
      "INFO:root:Training Loss : 0.508955932685083\n",
      "INFO:root:Test Accuracy: 25.04%\n",
      "INFO:root:Test Loss: 2.1823407036066054 \n",
      "\n",
      "  5%|▌         | 5/100 [01:37<30:09, 19.05s/it]"
     ]
    },
    {
     "name": "stdout",
     "output_type": "stream",
     "text": [
      "[1119, 87, 590, 794, 813, 303, 1320, 690, 1018, 422]\n"
     ]
    },
    {
     "name": "stderr",
     "output_type": "stream",
     "text": [
      "INFO:root: \n",
      "Avg Training Stats after 6 global rounds:\n",
      "INFO:root:Train Accuracy: 0.00%\n",
      "INFO:root:Training Loss : 0.3259759174369889\n",
      "INFO:root:Test Accuracy: 24.81%\n",
      "INFO:root:Test Loss: 2.326351122260094 \n",
      "\n",
      "  6%|▌         | 6/100 [01:52<27:33, 17.59s/it]"
     ]
    },
    {
     "name": "stdout",
     "output_type": "stream",
     "text": [
      "[2029, 1433, 303, 327, 744, 862, 2934, 231, 1416, 278]\n"
     ]
    },
    {
     "name": "stderr",
     "output_type": "stream",
     "text": [
      "INFO:root: \n",
      "Avg Training Stats after 7 global rounds:\n",
      "INFO:root:Train Accuracy: 0.00%\n",
      "INFO:root:Training Loss : 0.4454829586142326\n",
      "INFO:root:Test Accuracy: 23.04%\n",
      "INFO:root:Test Loss: 2.282360341846943 \n",
      "\n",
      "  7%|▋         | 7/100 [02:10<27:34, 17.79s/it]"
     ]
    },
    {
     "name": "stdout",
     "output_type": "stream",
     "text": [
      "[231, 1112, 327, 744, 286, 422, 15, 1798, 1053, 173]\n"
     ]
    },
    {
     "name": "stderr",
     "output_type": "stream",
     "text": [
      "INFO:root: \n",
      "Avg Training Stats after 8 global rounds:\n",
      "INFO:root:Train Accuracy: 0.00%\n",
      "INFO:root:Training Loss : 0.5060769414716145\n",
      "INFO:root:Test Accuracy: 27.34%\n",
      "INFO:root:Test Loss: 2.5727570927143097 \n",
      "\n",
      "  8%|▊         | 8/100 [02:24<25:24, 16.57s/it]"
     ]
    },
    {
     "name": "stdout",
     "output_type": "stream",
     "text": [
      "[794, 278, 744, 862, 303, 19, 2274, 1053, 813, 1012]\n"
     ]
    },
    {
     "name": "stderr",
     "output_type": "stream",
     "text": [
      "INFO:root: \n",
      "Avg Training Stats after 9 global rounds:\n",
      "INFO:root:Train Accuracy: 0.00%\n",
      "INFO:root:Training Loss : 0.37999807200398555\n",
      "INFO:root:Test Accuracy: 27.04%\n",
      "INFO:root:Test Loss: 3.0057032829523087 \n",
      "\n",
      "  9%|▉         | 9/100 [02:39<24:41, 16.28s/it]"
     ]
    },
    {
     "name": "stdout",
     "output_type": "stream",
     "text": [
      "[1320, 40, 1756, 470, 327, 1012, 862, 1433, 796, 231]\n"
     ]
    },
    {
     "name": "stderr",
     "output_type": "stream",
     "text": [
      "INFO:root: \n",
      "Avg Training Stats after 10 global rounds:\n",
      "INFO:root:Train Accuracy: 0.00%\n",
      "INFO:root:Training Loss : 0.24064401803242172\n",
      "INFO:root:Test Accuracy: 25.19%\n",
      "INFO:root:Test Loss: 2.996475758254528 \n",
      "\n",
      " 10%|█         | 10/100 [02:55<24:11, 16.13s/it]"
     ]
    },
    {
     "name": "stdout",
     "output_type": "stream",
     "text": [
      "[87, 201, 1798, 813, 123, 2934, 1756, 231, 1053, 4600]\n"
     ]
    },
    {
     "name": "stderr",
     "output_type": "stream",
     "text": [
      "INFO:root: \n",
      "Avg Training Stats after 11 global rounds:\n",
      "INFO:root:Train Accuracy: 0.00%\n",
      "INFO:root:Training Loss : 0.4107601005283625\n",
      "INFO:root:Test Accuracy: 19.37%\n",
      "INFO:root:Test Loss: 2.517960497438908 \n",
      "\n",
      " 11%|█         | 11/100 [03:16<26:04, 17.58s/it]"
     ]
    },
    {
     "name": "stdout",
     "output_type": "stream",
     "text": [
      "[106, 231, 447, 796, 209, 1798, 1112, 1416, 590, 794]\n"
     ]
    },
    {
     "name": "stderr",
     "output_type": "stream",
     "text": [
      "INFO:root: \n",
      "Avg Training Stats after 12 global rounds:\n",
      "INFO:root:Train Accuracy: 0.00%\n",
      "INFO:root:Training Loss : 0.24648543460592115\n",
      "INFO:root:Test Accuracy: 27.45%\n",
      "INFO:root:Test Loss: 2.260826866030693 \n",
      "\n",
      " 12%|█▏        | 12/100 [03:31<24:42, 16.84s/it]"
     ]
    },
    {
     "name": "stdout",
     "output_type": "stream",
     "text": [
      "[1320, 278, 862, 2274, 1798, 87, 2029, 796, 1018, 2430]\n"
     ]
    },
    {
     "name": "stderr",
     "output_type": "stream",
     "text": [
      "INFO:root: \n",
      "Avg Training Stats after 13 global rounds:\n",
      "INFO:root:Train Accuracy: 0.00%\n",
      "INFO:root:Training Loss : 0.2639143550308972\n",
      "INFO:root:Test Accuracy: 33.45%\n",
      "INFO:root:Test Loss: 1.986414092183113 \n",
      "\n",
      " 13%|█▎        | 13/100 [03:51<25:48, 17.80s/it]"
     ]
    },
    {
     "name": "stdout",
     "output_type": "stream",
     "text": [
      "[4600, 2575, 590, 173, 2430, 40, 1112, 87, 231, 2195]\n"
     ]
    },
    {
     "name": "stderr",
     "output_type": "stream",
     "text": [
      "INFO:root: \n",
      "Avg Training Stats after 14 global rounds:\n",
      "INFO:root:Train Accuracy: 0.00%\n",
      "INFO:root:Training Loss : 0.33244272278940123\n",
      "INFO:root:Test Accuracy: 34.63%\n",
      "INFO:root:Test Loss: 2.1039487755298616 \n",
      "\n",
      " 14%|█▍        | 14/100 [04:12<26:55, 18.79s/it]"
     ]
    },
    {
     "name": "stdout",
     "output_type": "stream",
     "text": [
      "[231, 794, 1018, 1012, 15, 303, 796, 2274, 1320, 19]\n"
     ]
    },
    {
     "name": "stderr",
     "output_type": "stream",
     "text": [
      "INFO:root: \n",
      "Avg Training Stats after 15 global rounds:\n",
      "INFO:root:Train Accuracy: 0.00%\n",
      "INFO:root:Training Loss : 0.34059510794545406\n",
      "INFO:root:Test Accuracy: 31.79%\n",
      "INFO:root:Test Loss: 2.271290288865566 \n",
      "\n",
      " 15%|█▌        | 15/100 [04:28<25:07, 17.74s/it]"
     ]
    },
    {
     "name": "stdout",
     "output_type": "stream",
     "text": [
      "[2195, 40, 2029, 862, 2575, 1433, 447, 19, 4600, 796]\n"
     ]
    },
    {
     "name": "stderr",
     "output_type": "stream",
     "text": [
      "INFO:root: \n",
      "Avg Training Stats after 16 global rounds:\n",
      "INFO:root:Train Accuracy: 0.00%\n",
      "INFO:root:Training Loss : 0.27645064445642087\n",
      "INFO:root:Test Accuracy: 35.95%\n",
      "INFO:root:Test Loss: 2.412395545244217 \n",
      "\n",
      " 16%|█▌        | 16/100 [04:50<26:37, 19.02s/it]"
     ]
    },
    {
     "name": "stdout",
     "output_type": "stream",
     "text": [
      "[231, 173, 303, 2274, 796, 116, 1798, 447, 106, 1433]\n"
     ]
    },
    {
     "name": "stderr",
     "output_type": "stream",
     "text": [
      "INFO:root: \n",
      "Avg Training Stats after 17 global rounds:\n",
      "INFO:root:Train Accuracy: 0.00%\n",
      "INFO:root:Training Loss : 0.2711514139345954\n",
      "INFO:root:Test Accuracy: 22.93%\n",
      "INFO:root:Test Loss: 3.2068251470848916 \n",
      "\n",
      " 17%|█▋        | 17/100 [05:05<24:46, 17.91s/it]"
     ]
    },
    {
     "name": "stdout",
     "output_type": "stream",
     "text": [
      "[201, 1756, 796, 1320, 813, 542, 116, 173, 794, 1798]\n"
     ]
    },
    {
     "name": "stderr",
     "output_type": "stream",
     "text": [
      "INFO:root: \n",
      "Avg Training Stats after 18 global rounds:\n",
      "INFO:root:Train Accuracy: 0.00%\n",
      "INFO:root:Training Loss : 0.35115114288929783\n",
      "INFO:root:Test Accuracy: 40.07%\n",
      "INFO:root:Test Loss: 1.7497889715433121 \n",
      "\n",
      " 18%|█▊        | 18/100 [05:21<23:37, 17.29s/it]"
     ]
    },
    {
     "name": "stdout",
     "output_type": "stream",
     "text": [
      "[15, 1780, 19, 744, 2575, 173, 813, 40, 1320, 422]\n"
     ]
    },
    {
     "name": "stderr",
     "output_type": "stream",
     "text": [
      "INFO:root: \n",
      "Avg Training Stats after 19 global rounds:\n",
      "INFO:root:Train Accuracy: 0.00%\n",
      "INFO:root:Training Loss : 0.4294124393482798\n",
      "INFO:root:Test Accuracy: 37.23%\n",
      "INFO:root:Test Loss: 2.0325858446955682 \n",
      "\n",
      " 19%|█▉        | 19/100 [05:36<22:32, 16.70s/it]"
     ]
    },
    {
     "name": "stdout",
     "output_type": "stream",
     "text": [
      "[813, 1736, 15, 1433, 267, 470, 3195, 744, 2575, 231]\n"
     ]
    },
    {
     "name": "stderr",
     "output_type": "stream",
     "text": [
      "INFO:root: \n",
      "Avg Training Stats after 20 global rounds:\n",
      "INFO:root:Train Accuracy: 0.00%\n",
      "INFO:root:Training Loss : 0.24184834337183428\n",
      "INFO:root:Test Accuracy: 31.06%\n",
      "INFO:root:Test Loss: 2.6413183075189592 \n",
      "\n",
      " 20%|██        | 20/100 [05:55<23:07, 17.34s/it]"
     ]
    },
    {
     "name": "stdout",
     "output_type": "stream",
     "text": [
      "[278, 744, 1053, 447, 1320, 116, 1798, 19, 4600, 3195]\n"
     ]
    },
    {
     "name": "stderr",
     "output_type": "stream",
     "text": [
      "INFO:root: \n",
      "Avg Training Stats after 21 global rounds:\n",
      "INFO:root:Train Accuracy: 0.00%\n",
      "INFO:root:Training Loss : 0.37398800885585576\n",
      "INFO:root:Test Accuracy: 37.46%\n",
      "INFO:root:Test Loss: 2.0403886741399764 \n",
      "\n",
      " 21%|██        | 21/100 [06:16<24:11, 18.37s/it]"
     ]
    },
    {
     "name": "stdout",
     "output_type": "stream",
     "text": [
      "[813, 2029, 602, 590, 1756, 106, 1780, 40, 19, 2934]\n"
     ]
    },
    {
     "name": "stderr",
     "output_type": "stream",
     "text": [
      "INFO:root: \n",
      "Avg Training Stats after 22 global rounds:\n",
      "INFO:root:Train Accuracy: 0.00%\n",
      "INFO:root:Training Loss : 0.1970285734777355\n",
      "INFO:root:Test Accuracy: 32.63%\n",
      "INFO:root:Test Loss: 2.0159800285100937 \n",
      "\n",
      " 22%|██▏       | 22/100 [06:34<23:41, 18.22s/it]"
     ]
    },
    {
     "name": "stdout",
     "output_type": "stream",
     "text": [
      "[40, 862, 327, 1780, 2274, 106, 1053, 1112, 1012, 3195]\n"
     ]
    },
    {
     "name": "stderr",
     "output_type": "stream",
     "text": [
      "INFO:root: \n",
      "Avg Training Stats after 23 global rounds:\n",
      "INFO:root:Train Accuracy: 0.00%\n",
      "INFO:root:Training Loss : 0.2570063444031526\n",
      "INFO:root:Test Accuracy: 34.31%\n",
      "INFO:root:Test Loss: 2.0533448669314383 \n",
      "\n",
      " 23%|██▎       | 23/100 [06:53<23:44, 18.50s/it]"
     ]
    },
    {
     "name": "stdout",
     "output_type": "stream",
     "text": [
      "[1320, 1119, 862, 744, 1053, 87, 201, 470, 2274, 1012]\n"
     ]
    },
    {
     "name": "stderr",
     "output_type": "stream",
     "text": [
      "INFO:root: \n",
      "Avg Training Stats after 24 global rounds:\n",
      "INFO:root:Train Accuracy: 0.00%\n",
      "INFO:root:Training Loss : 0.2643742606726832\n",
      "INFO:root:Test Accuracy: 32.75%\n",
      "INFO:root:Test Loss: 2.852759542092681 \n",
      "\n",
      " 24%|██▍       | 24/100 [07:09<22:44, 17.95s/it]"
     ]
    },
    {
     "name": "stdout",
     "output_type": "stream",
     "text": [
      "[447, 286, 1416, 87, 796, 1798, 231, 1119, 431, 2195]\n"
     ]
    },
    {
     "name": "stderr",
     "output_type": "stream",
     "text": [
      "INFO:root: \n",
      "Avg Training Stats after 25 global rounds:\n",
      "INFO:root:Train Accuracy: 0.00%\n",
      "INFO:root:Training Loss : 0.3590397445324573\n",
      "INFO:root:Test Accuracy: 34.96%\n",
      "INFO:root:Test Loss: 2.814231071472168 \n",
      "\n",
      " 25%|██▌       | 25/100 [07:26<21:47, 17.44s/it]"
     ]
    },
    {
     "name": "stdout",
     "output_type": "stream",
     "text": [
      "[116, 2029, 690, 1416, 1780, 602, 2575, 1756, 431, 87]\n"
     ]
    },
    {
     "name": "stderr",
     "output_type": "stream",
     "text": [
      "INFO:root: \n",
      "Avg Training Stats after 26 global rounds:\n",
      "INFO:root:Train Accuracy: 0.00%\n",
      "INFO:root:Training Loss : 0.36259917823808163\n",
      "INFO:root:Test Accuracy: 40.47%\n",
      "INFO:root:Test Loss: 1.8328796935081482 \n",
      "\n",
      " 26%|██▌       | 26/100 [07:44<22:00, 17.85s/it]"
     ]
    },
    {
     "name": "stdout",
     "output_type": "stream",
     "text": [
      "[87, 173, 2029, 19, 4600, 2195, 116, 303, 40, 209]\n"
     ]
    },
    {
     "name": "stderr",
     "output_type": "stream",
     "text": [
      "INFO:root: \n",
      "Avg Training Stats after 27 global rounds:\n",
      "INFO:root:Train Accuracy: 0.00%\n",
      "INFO:root:Training Loss : 0.41675072902579463\n",
      "INFO:root:Test Accuracy: 40.67%\n",
      "INFO:root:Test Loss: 1.7038510072231292 \n",
      "\n",
      " 27%|██▋       | 27/100 [08:02<21:26, 17.63s/it]"
     ]
    },
    {
     "name": "stdout",
     "output_type": "stream",
     "text": [
      "[4600, 267, 794, 231, 201, 231, 2934, 590, 470, 173]\n"
     ]
    },
    {
     "name": "stderr",
     "output_type": "stream",
     "text": [
      "INFO:root: \n",
      "Avg Training Stats after 28 global rounds:\n",
      "INFO:root:Train Accuracy: 0.00%\n",
      "INFO:root:Training Loss : 0.2944668725793105\n",
      "INFO:root:Test Accuracy: 39.07%\n",
      "INFO:root:Test Loss: 1.8658901965618133 \n",
      "\n",
      " 28%|██▊       | 28/100 [08:20<21:20, 17.78s/it]"
     ]
    },
    {
     "name": "stdout",
     "output_type": "stream",
     "text": [
      "[1798, 286, 123, 1112, 303, 796, 744, 1320, 231, 794]\n"
     ]
    },
    {
     "name": "stderr",
     "output_type": "stream",
     "text": [
      "INFO:root: \n",
      "Avg Training Stats after 29 global rounds:\n",
      "INFO:root:Train Accuracy: 0.00%\n",
      "INFO:root:Training Loss : 0.1538422757781865\n",
      "INFO:root:Test Accuracy: 41.77%\n",
      "INFO:root:Test Loss: 1.8212886184453965 \n",
      "\n",
      " 29%|██▉       | 29/100 [08:35<20:06, 17.00s/it]"
     ]
    },
    {
     "name": "stdout",
     "output_type": "stream",
     "text": [
      "[303, 4600, 1119, 447, 744, 40, 1756, 2430, 2029, 602]\n"
     ]
    },
    {
     "name": "stderr",
     "output_type": "stream",
     "text": [
      "INFO:root: \n",
      "Avg Training Stats after 30 global rounds:\n",
      "INFO:root:Train Accuracy: 0.00%\n",
      "INFO:root:Training Loss : 0.17445302296606058\n",
      "INFO:root:Test Accuracy: 47.26%\n",
      "INFO:root:Test Loss: 1.608625654876232 \n",
      "\n",
      " 30%|███       | 30/100 [08:56<21:20, 18.29s/it]"
     ]
    },
    {
     "name": "stdout",
     "output_type": "stream",
     "text": [
      "[422, 3195, 1112, 327, 123, 1736, 303, 286, 106, 1433]\n"
     ]
    },
    {
     "name": "stderr",
     "output_type": "stream",
     "text": [
      "INFO:root: \n",
      "Avg Training Stats after 31 global rounds:\n",
      "INFO:root:Train Accuracy: 0.00%\n",
      "INFO:root:Training Loss : 0.23122285509769802\n",
      "INFO:root:Test Accuracy: 45.78%\n",
      "INFO:root:Test Loss: 1.6851414400339126 \n",
      "\n",
      " 31%|███       | 31/100 [09:13<20:28, 17.80s/it]"
     ]
    },
    {
     "name": "stdout",
     "output_type": "stream",
     "text": [
      "[862, 173, 422, 303, 123, 1012, 542, 278, 431, 2195]\n"
     ]
    },
    {
     "name": "stderr",
     "output_type": "stream",
     "text": [
      "INFO:root: \n",
      "Avg Training Stats after 32 global rounds:\n",
      "INFO:root:Train Accuracy: 0.00%\n",
      "INFO:root:Training Loss : 0.32847030678583333\n",
      "INFO:root:Test Accuracy: 45.53%\n",
      "INFO:root:Test Loss: 1.7458784529566764 \n",
      "\n",
      " 32%|███▏      | 32/100 [09:27<18:54, 16.68s/it]"
     ]
    },
    {
     "name": "stdout",
     "output_type": "stream",
     "text": [
      "[1320, 15, 19, 1756, 231, 470, 267, 87, 862, 327]\n"
     ]
    },
    {
     "name": "stderr",
     "output_type": "stream",
     "text": [
      "INFO:root: \n",
      "Avg Training Stats after 33 global rounds:\n",
      "INFO:root:Train Accuracy: 0.00%\n",
      "INFO:root:Training Loss : 0.3858810410616088\n",
      "INFO:root:Test Accuracy: 44.75%\n",
      "INFO:root:Test Loss: 1.67470716714859 \n",
      "\n",
      " 33%|███▎      | 33/100 [09:40<17:24, 15.59s/it]"
     ]
    },
    {
     "name": "stdout",
     "output_type": "stream",
     "text": [
      "[87, 267, 796, 1053, 1433, 2575, 1119, 794, 15, 327]\n"
     ]
    },
    {
     "name": "stderr",
     "output_type": "stream",
     "text": [
      "INFO:root: \n",
      "Avg Training Stats after 34 global rounds:\n",
      "INFO:root:Train Accuracy: 0.00%\n",
      "INFO:root:Training Loss : 0.2518951517870877\n",
      "INFO:root:Test Accuracy: 46.99%\n",
      "INFO:root:Test Loss: 1.6104230031371116 \n",
      "\n",
      " 34%|███▍      | 34/100 [09:56<17:14, 15.68s/it]"
     ]
    },
    {
     "name": "stdout",
     "output_type": "stream",
     "text": [
      "[422, 1798, 590, 796, 19, 1320, 173, 1416, 1053, 4600]\n"
     ]
    },
    {
     "name": "stderr",
     "output_type": "stream",
     "text": [
      "INFO:root: \n",
      "Avg Training Stats after 35 global rounds:\n",
      "INFO:root:Train Accuracy: 0.00%\n",
      "INFO:root:Training Loss : 0.29613788178147826\n",
      "INFO:root:Test Accuracy: 45.66%\n",
      "INFO:root:Test Loss: 1.643864925354719 \n",
      "\n",
      " 35%|███▌      | 35/100 [10:16<18:18, 16.90s/it]"
     ]
    },
    {
     "name": "stdout",
     "output_type": "stream",
     "text": [
      "[2430, 1320, 602, 3195, 231, 2934, 431, 794, 1416, 542]\n"
     ]
    },
    {
     "name": "stderr",
     "output_type": "stream",
     "text": [
      "INFO:root: \n",
      "Avg Training Stats after 36 global rounds:\n",
      "INFO:root:Train Accuracy: 0.00%\n",
      "INFO:root:Training Loss : 0.19964569007552618\n",
      "INFO:root:Test Accuracy: 45.36%\n",
      "INFO:root:Test Loss: 1.7520726856589317 \n",
      "\n",
      " 36%|███▌      | 36/100 [10:37<19:20, 18.13s/it]"
     ]
    },
    {
     "name": "stdout",
     "output_type": "stream",
     "text": [
      "[15, 813, 1112, 123, 40, 796, 2274, 1018, 2195, 201]\n"
     ]
    },
    {
     "name": "stderr",
     "output_type": "stream",
     "text": [
      "INFO:root: \n",
      "Avg Training Stats after 37 global rounds:\n",
      "INFO:root:Train Accuracy: 0.00%\n",
      "INFO:root:Training Loss : 0.24339080782871525\n",
      "INFO:root:Test Accuracy: 47.70%\n",
      "INFO:root:Test Loss: 1.6591634398698807 \n",
      "\n",
      " 37%|███▋      | 37/100 [10:53<18:22, 17.51s/it]"
     ]
    },
    {
     "name": "stdout",
     "output_type": "stream",
     "text": [
      "[303, 2195, 422, 1112, 1433, 116, 796, 602, 1756, 231]\n"
     ]
    },
    {
     "name": "stderr",
     "output_type": "stream",
     "text": [
      "INFO:root: \n",
      "Avg Training Stats after 38 global rounds:\n",
      "INFO:root:Train Accuracy: 0.00%\n",
      "INFO:root:Training Loss : 0.21071056943425753\n",
      "INFO:root:Test Accuracy: 52.41%\n",
      "INFO:root:Test Loss: 1.391531287431717 \n",
      "\n",
      " 38%|███▊      | 38/100 [11:09<17:45, 17.19s/it]"
     ]
    },
    {
     "name": "stdout",
     "output_type": "stream",
     "text": [
      "[1756, 231, 267, 2430, 590, 1736, 15, 4600, 327, 1112]\n"
     ]
    },
    {
     "name": "stderr",
     "output_type": "stream",
     "text": [
      "INFO:root: \n",
      "Avg Training Stats after 39 global rounds:\n",
      "INFO:root:Train Accuracy: 0.00%\n",
      "INFO:root:Training Loss : 0.22101873078198278\n",
      "INFO:root:Test Accuracy: 36.20%\n",
      "INFO:root:Test Loss: 2.087766232341528 \n",
      "\n",
      " 39%|███▉      | 39/100 [11:29<18:22, 18.08s/it]"
     ]
    },
    {
     "name": "stdout",
     "output_type": "stream",
     "text": [
      "[2575, 422, 3195, 862, 231, 796, 2934, 123, 2430, 794]\n"
     ]
    },
    {
     "name": "stderr",
     "output_type": "stream",
     "text": [
      "INFO:root: \n",
      "Avg Training Stats after 40 global rounds:\n",
      "INFO:root:Train Accuracy: 0.00%\n",
      "INFO:root:Training Loss : 0.19023749966010428\n",
      "INFO:root:Test Accuracy: 40.41%\n",
      "INFO:root:Test Loss: 1.902161674797535 \n",
      "\n",
      " 40%|████      | 40/100 [11:51<19:04, 19.08s/it]"
     ]
    },
    {
     "name": "stdout",
     "output_type": "stream",
     "text": [
      "[231, 1119, 1736, 278, 447, 1018, 286, 744, 690, 173]\n"
     ]
    },
    {
     "name": "stderr",
     "output_type": "stream",
     "text": [
      "INFO:root: \n",
      "Avg Training Stats after 41 global rounds:\n",
      "INFO:root:Train Accuracy: 0.00%\n",
      "INFO:root:Training Loss : 0.22313651017271674\n",
      "INFO:root:Test Accuracy: 49.28%\n",
      "INFO:root:Test Loss: 1.5354466135799885 \n",
      "\n",
      " 41%|████      | 41/100 [12:05<17:25, 17.71s/it]"
     ]
    },
    {
     "name": "stdout",
     "output_type": "stream",
     "text": [
      "[231, 1320, 1416, 2575, 2274, 862, 690, 602, 1012, 173]\n"
     ]
    },
    {
     "name": "stderr",
     "output_type": "stream",
     "text": [
      "INFO:root: \n",
      "Avg Training Stats after 42 global rounds:\n",
      "INFO:root:Train Accuracy: 0.00%\n",
      "INFO:root:Training Loss : 0.20909791886149906\n",
      "INFO:root:Test Accuracy: 42.05%\n",
      "INFO:root:Test Loss: 1.9296696256101131 \n",
      "\n",
      " 42%|████▏     | 42/100 [12:24<17:25, 18.03s/it]"
     ]
    },
    {
     "name": "stdout",
     "output_type": "stream",
     "text": [
      "[1112, 1053, 3195, 2934, 2029, 201, 123, 2195, 1018, 173]\n"
     ]
    },
    {
     "name": "stderr",
     "output_type": "stream",
     "text": [
      "INFO:root: \n",
      "Avg Training Stats after 43 global rounds:\n",
      "INFO:root:Train Accuracy: 0.00%\n",
      "INFO:root:Training Loss : 0.26706917557017357\n",
      "INFO:root:Test Accuracy: 42.55%\n",
      "INFO:root:Test Loss: 2.2868283250927925 \n",
      "\n",
      " 43%|████▎     | 43/100 [12:45<18:00, 18.96s/it]"
     ]
    },
    {
     "name": "stdout",
     "output_type": "stream",
     "text": [
      "[862, 1053, 422, 3195, 4600, 794, 1756, 173, 2029, 1018]\n"
     ]
    },
    {
     "name": "stderr",
     "output_type": "stream",
     "text": [
      "INFO:root: \n",
      "Avg Training Stats after 44 global rounds:\n",
      "INFO:root:Train Accuracy: 0.00%\n",
      "INFO:root:Training Loss : 0.22294697738410427\n",
      "INFO:root:Test Accuracy: 48.72%\n",
      "INFO:root:Test Loss: 1.9522809702157975 \n",
      "\n",
      " 44%|████▍     | 44/100 [13:08<18:49, 20.16s/it]"
     ]
    },
    {
     "name": "stdout",
     "output_type": "stream",
     "text": [
      "[1320, 2934, 796, 2195, 862, 2575, 2029, 19, 422, 286]\n"
     ]
    },
    {
     "name": "stderr",
     "output_type": "stream",
     "text": [
      "INFO:root: \n",
      "Avg Training Stats after 45 global rounds:\n",
      "INFO:root:Train Accuracy: 0.00%\n",
      "INFO:root:Training Loss : 0.26691475081878674\n",
      "INFO:root:Test Accuracy: 50.72%\n",
      "INFO:root:Test Loss: 1.4619517569243907 \n",
      "\n",
      " 45%|████▌     | 45/100 [13:29<18:35, 20.29s/it]"
     ]
    },
    {
     "name": "stdout",
     "output_type": "stream",
     "text": [
      "[862, 744, 1416, 1112, 590, 542, 278, 690, 116, 1780]\n"
     ]
    },
    {
     "name": "stderr",
     "output_type": "stream",
     "text": [
      "INFO:root: \n",
      "Avg Training Stats after 46 global rounds:\n",
      "INFO:root:Train Accuracy: 0.00%\n",
      "INFO:root:Training Loss : 0.2638827377075175\n",
      "INFO:root:Test Accuracy: 40.58%\n",
      "INFO:root:Test Loss: 2.1687693201750515 \n",
      "\n",
      " 46%|████▌     | 46/100 [13:44<17:00, 18.90s/it]"
     ]
    },
    {
     "name": "stdout",
     "output_type": "stream",
     "text": [
      "[2575, 1112, 1320, 231, 3195, 1012, 862, 447, 2195, 201]\n"
     ]
    },
    {
     "name": "stderr",
     "output_type": "stream",
     "text": [
      "INFO:root: \n",
      "Avg Training Stats after 47 global rounds:\n",
      "INFO:root:Train Accuracy: 0.00%\n",
      "INFO:root:Training Loss : 0.14684009440162477\n",
      "INFO:root:Test Accuracy: 40.63%\n",
      "INFO:root:Test Loss: 2.1684234227240085 \n",
      "\n",
      " 47%|████▋     | 47/100 [14:05<17:04, 19.34s/it]"
     ]
    },
    {
     "name": "stdout",
     "output_type": "stream",
     "text": [
      "[1433, 542, 813, 231, 1119, 2029, 1012, 173, 2195, 1320]\n"
     ]
    },
    {
     "name": "stderr",
     "output_type": "stream",
     "text": [
      "INFO:root: \n",
      "Avg Training Stats after 48 global rounds:\n",
      "INFO:root:Train Accuracy: 0.00%\n",
      "INFO:root:Training Loss : 0.14895802286920448\n",
      "INFO:root:Test Accuracy: 50.40%\n",
      "INFO:root:Test Loss: 1.5728421007096767 \n",
      "\n",
      " 48%|████▊     | 48/100 [14:23<16:31, 19.06s/it]"
     ]
    },
    {
     "name": "stdout",
     "output_type": "stream",
     "text": [
      "[744, 2195, 209, 1780, 2575, 123, 327, 40, 1736, 690]\n"
     ]
    },
    {
     "name": "stderr",
     "output_type": "stream",
     "text": [
      "INFO:root: \n",
      "Avg Training Stats after 49 global rounds:\n",
      "INFO:root:Train Accuracy: 0.00%\n",
      "INFO:root:Training Loss : 0.2628830280791432\n",
      "INFO:root:Test Accuracy: 50.72%\n",
      "INFO:root:Test Loss: 1.509144546687603 \n",
      "\n",
      " 49%|████▉     | 49/100 [14:41<15:51, 18.65s/it]"
     ]
    },
    {
     "name": "stdout",
     "output_type": "stream",
     "text": [
      "[862, 690, 1433, 173, 3195, 2934, 116, 447, 231, 431]\n"
     ]
    },
    {
     "name": "stderr",
     "output_type": "stream",
     "text": [
      "INFO:root: \n",
      "Avg Training Stats after 50 global rounds:\n",
      "INFO:root:Train Accuracy: 0.00%\n",
      "INFO:root:Training Loss : 0.23416776965733885\n",
      "INFO:root:Test Accuracy: 46.98%\n",
      "INFO:root:Test Loss: 1.547227289378643 \n",
      "\n",
      " 50%|█████     | 50/100 [14:59<15:23, 18.46s/it]"
     ]
    },
    {
     "name": "stdout",
     "output_type": "stream",
     "text": [
      "[1320, 19, 3195, 87, 1756, 303, 813, 2575, 231, 231]\n"
     ]
    },
    {
     "name": "stderr",
     "output_type": "stream",
     "text": [
      "INFO:root: \n",
      "Avg Training Stats after 51 global rounds:\n",
      "INFO:root:Train Accuracy: 0.00%\n",
      "INFO:root:Training Loss : 0.1182743058931156\n",
      "INFO:root:Test Accuracy: 37.66%\n",
      "INFO:root:Test Loss: 2.352875756137073 \n",
      "\n",
      " 51%|█████     | 51/100 [15:17<14:56, 18.29s/it]"
     ]
    },
    {
     "name": "stdout",
     "output_type": "stream",
     "text": [
      "[40, 813, 1780, 2934, 15, 173, 278, 19, 1798, 267]\n"
     ]
    },
    {
     "name": "stderr",
     "output_type": "stream",
     "text": [
      "INFO:root: \n",
      "Avg Training Stats after 52 global rounds:\n",
      "INFO:root:Train Accuracy: 0.00%\n",
      "INFO:root:Training Loss : 0.32795993398729034\n",
      "INFO:root:Test Accuracy: 50.97%\n",
      "INFO:root:Test Loss: 1.5388337545096875 \n",
      "\n",
      " 52%|█████▏    | 52/100 [15:32<13:58, 17.47s/it]"
     ]
    },
    {
     "name": "stdout",
     "output_type": "stream",
     "text": [
      "[267, 231, 690, 173, 1780, 1053, 862, 590, 1433, 303]\n"
     ]
    },
    {
     "name": "stderr",
     "output_type": "stream",
     "text": [
      "INFO:root: \n",
      "Avg Training Stats after 53 global rounds:\n",
      "INFO:root:Train Accuracy: 0.00%\n",
      "INFO:root:Training Loss : 0.21090165080852027\n",
      "INFO:root:Test Accuracy: 60.45%\n",
      "INFO:root:Test Loss: 1.1943872556090356 \n",
      "\n",
      " 53%|█████▎    | 53/100 [15:47<13:05, 16.72s/it]"
     ]
    },
    {
     "name": "stdout",
     "output_type": "stream",
     "text": [
      "[431, 3195, 201, 796, 2934, 15, 231, 1112, 1736, 267]\n"
     ]
    },
    {
     "name": "stderr",
     "output_type": "stream",
     "text": [
      "INFO:root: \n",
      "Avg Training Stats after 54 global rounds:\n",
      "INFO:root:Train Accuracy: 0.00%\n",
      "INFO:root:Training Loss : 0.1726741277357889\n",
      "INFO:root:Test Accuracy: 54.78%\n",
      "INFO:root:Test Loss: 1.405103848055005 \n",
      "\n",
      " 54%|█████▍    | 54/100 [16:06<13:12, 17.23s/it]"
     ]
    },
    {
     "name": "stdout",
     "output_type": "stream",
     "text": [
      "[40, 1320, 1416, 286, 2195, 1012, 201, 116, 1053, 542]\n"
     ]
    },
    {
     "name": "stderr",
     "output_type": "stream",
     "text": [
      "INFO:root: \n",
      "Avg Training Stats after 55 global rounds:\n",
      "INFO:root:Train Accuracy: 0.00%\n",
      "INFO:root:Training Loss : 0.2123156302480833\n",
      "INFO:root:Test Accuracy: 48.31%\n",
      "INFO:root:Test Loss: 1.787447877973318 \n",
      "\n",
      " 55%|█████▌    | 55/100 [16:22<12:37, 16.83s/it]"
     ]
    },
    {
     "name": "stdout",
     "output_type": "stream",
     "text": [
      "[1798, 422, 231, 4600, 231, 2575, 1433, 106, 1320, 862]\n"
     ]
    },
    {
     "name": "stderr",
     "output_type": "stream",
     "text": [
      "INFO:root: \n",
      "Avg Training Stats after 56 global rounds:\n",
      "INFO:root:Train Accuracy: 0.00%\n",
      "INFO:root:Training Loss : 0.14922069311674843\n",
      "INFO:root:Test Accuracy: 55.81%\n",
      "INFO:root:Test Loss: 1.3213128904998301 \n",
      "\n",
      " 56%|█████▌    | 56/100 [16:42<13:14, 18.05s/it]"
     ]
    },
    {
     "name": "stdout",
     "output_type": "stream",
     "text": [
      "[2274, 3195, 267, 2029, 590, 327, 2195, 278, 1756, 813]\n"
     ]
    },
    {
     "name": "stderr",
     "output_type": "stream",
     "text": [
      "INFO:root: \n",
      "Avg Training Stats after 57 global rounds:\n",
      "INFO:root:Train Accuracy: 0.00%\n",
      "INFO:root:Training Loss : 0.1486447264256779\n",
      "INFO:root:Test Accuracy: 46.39%\n",
      "INFO:root:Test Loss: 1.7719668319821358 \n",
      "\n",
      " 57%|█████▋    | 57/100 [17:03<13:31, 18.86s/it]"
     ]
    },
    {
     "name": "stdout",
     "output_type": "stream",
     "text": [
      "[1798, 431, 123, 1320, 1416, 231, 2575, 2934, 19, 1756]\n"
     ]
    },
    {
     "name": "stderr",
     "output_type": "stream",
     "text": [
      "INFO:root: \n",
      "Avg Training Stats after 58 global rounds:\n",
      "INFO:root:Train Accuracy: 0.00%\n",
      "INFO:root:Training Loss : 0.15697155653416398\n",
      "INFO:root:Test Accuracy: 49.28%\n",
      "INFO:root:Test Loss: 1.6434939797222614 \n",
      "\n",
      " 58%|█████▊    | 58/100 [17:23<13:24, 19.16s/it]"
     ]
    },
    {
     "name": "stdout",
     "output_type": "stream",
     "text": [
      "[1018, 267, 2274, 447, 2029, 690, 590, 303, 1119, 796]\n"
     ]
    },
    {
     "name": "stderr",
     "output_type": "stream",
     "text": [
      "INFO:root: \n",
      "Avg Training Stats after 59 global rounds:\n",
      "INFO:root:Train Accuracy: 0.00%\n",
      "INFO:root:Training Loss : 0.10772555105869024\n",
      "INFO:root:Test Accuracy: 59.32%\n",
      "INFO:root:Test Loss: 1.3817542694509029 \n",
      "\n",
      " 59%|█████▉    | 59/100 [17:40<12:40, 18.54s/it]"
     ]
    },
    {
     "name": "stdout",
     "output_type": "stream",
     "text": [
      "[106, 2430, 447, 1433, 1012, 3195, 1119, 1756, 862, 4600]\n"
     ]
    },
    {
     "name": "stderr",
     "output_type": "stream",
     "text": [
      "INFO:root: \n",
      "Avg Training Stats after 60 global rounds:\n",
      "INFO:root:Train Accuracy: 0.00%\n",
      "INFO:root:Training Loss : 0.08586896515277082\n",
      "INFO:root:Test Accuracy: 57.70%\n",
      "INFO:root:Test Loss: 1.4678519955277443 \n",
      "\n",
      " 60%|██████    | 60/100 [18:04<13:24, 20.10s/it]"
     ]
    },
    {
     "name": "stdout",
     "output_type": "stream",
     "text": [
      "[1780, 1320, 286, 2029, 40, 796, 447, 15, 231, 744]\n"
     ]
    },
    {
     "name": "stderr",
     "output_type": "stream",
     "text": [
      "INFO:root: \n",
      "Avg Training Stats after 61 global rounds:\n",
      "INFO:root:Train Accuracy: 0.00%\n",
      "INFO:root:Training Loss : 0.22850805739175448\n",
      "INFO:root:Test Accuracy: 50.93%\n",
      "INFO:root:Test Loss: 1.8043483956158162 \n",
      "\n",
      " 61%|██████    | 61/100 [18:19<12:10, 18.73s/it]"
     ]
    },
    {
     "name": "stdout",
     "output_type": "stream",
     "text": [
      "[116, 15, 2029, 327, 19, 470, 422, 87, 1012, 303]\n"
     ]
    },
    {
     "name": "stderr",
     "output_type": "stream",
     "text": [
      "INFO:root: \n",
      "Avg Training Stats after 62 global rounds:\n",
      "INFO:root:Train Accuracy: 0.00%\n",
      "INFO:root:Training Loss : 0.3498202279824782\n",
      "INFO:root:Test Accuracy: 50.35%\n",
      "INFO:root:Test Loss: 1.7433756195008754 \n",
      "\n",
      " 62%|██████▏   | 62/100 [18:32<10:42, 16.92s/it]"
     ]
    },
    {
     "name": "stdout",
     "output_type": "stream",
     "text": [
      "[796, 2274, 862, 286, 813, 3195, 1112, 422, 1119, 327]\n"
     ]
    },
    {
     "name": "stderr",
     "output_type": "stream",
     "text": [
      "INFO:root: \n",
      "Avg Training Stats after 63 global rounds:\n",
      "INFO:root:Train Accuracy: 0.00%\n",
      "INFO:root:Training Loss : 0.1266227752111897\n",
      "INFO:root:Test Accuracy: 51.09%\n",
      "INFO:root:Test Loss: 1.7545199045538902 \n",
      "\n",
      " 63%|██████▎   | 63/100 [18:51<10:43, 17.40s/it]"
     ]
    },
    {
     "name": "stdout",
     "output_type": "stream",
     "text": [
      "[542, 1798, 690, 15, 267, 2575, 796, 590, 209, 470]\n"
     ]
    },
    {
     "name": "stderr",
     "output_type": "stream",
     "text": [
      "INFO:root: \n",
      "Avg Training Stats after 64 global rounds:\n",
      "INFO:root:Train Accuracy: 0.00%\n",
      "INFO:root:Training Loss : 0.12907906353712179\n",
      "INFO:root:Test Accuracy: 51.27%\n",
      "INFO:root:Test Loss: 1.571844425946474 \n",
      "\n",
      " 64%|██████▍   | 64/100 [19:06<10:06, 16.84s/it]"
     ]
    },
    {
     "name": "stdout",
     "output_type": "stream",
     "text": [
      "[87, 267, 286, 1053, 303, 796, 40, 173, 19, 327]\n"
     ]
    },
    {
     "name": "stderr",
     "output_type": "stream",
     "text": [
      "INFO:root: \n",
      "Avg Training Stats after 65 global rounds:\n",
      "INFO:root:Train Accuracy: 0.00%\n",
      "INFO:root:Training Loss : 0.23192385283934264\n",
      "INFO:root:Test Accuracy: 60.51%\n",
      "INFO:root:Test Loss: 1.1968304377794265 \n",
      "\n",
      " 65%|██████▌   | 65/100 [19:17<08:50, 15.17s/it]"
     ]
    },
    {
     "name": "stdout",
     "output_type": "stream",
     "text": [
      "[813, 542, 106, 123, 4600, 40, 209, 2029, 1736, 2195]\n"
     ]
    },
    {
     "name": "stderr",
     "output_type": "stream",
     "text": [
      "INFO:root: \n",
      "Avg Training Stats after 66 global rounds:\n",
      "INFO:root:Train Accuracy: 0.00%\n",
      "INFO:root:Training Loss : 0.17776899394363677\n",
      "INFO:root:Test Accuracy: 59.51%\n",
      "INFO:root:Test Loss: 1.2530326342582703 \n",
      "\n",
      " 66%|██████▌   | 66/100 [19:37<09:21, 16.51s/it]"
     ]
    },
    {
     "name": "stdout",
     "output_type": "stream",
     "text": [
      "[1416, 1320, 201, 744, 2934, 447, 278, 2430, 1018, 2274]\n"
     ]
    },
    {
     "name": "stderr",
     "output_type": "stream",
     "text": [
      "INFO:root: \n",
      "Avg Training Stats after 67 global rounds:\n",
      "INFO:root:Train Accuracy: 0.00%\n",
      "INFO:root:Training Loss : 0.1454370180491449\n",
      "INFO:root:Test Accuracy: 53.51%\n",
      "INFO:root:Test Loss: 1.4566023010015487 \n",
      "\n",
      " 67%|██████▋   | 67/100 [19:57<09:42, 17.65s/it]"
     ]
    },
    {
     "name": "stdout",
     "output_type": "stream",
     "text": [
      "[303, 1012, 470, 123, 106, 201, 87, 1736, 2934, 2575]\n"
     ]
    },
    {
     "name": "stderr",
     "output_type": "stream",
     "text": [
      "INFO:root: \n",
      "Avg Training Stats after 68 global rounds:\n",
      "INFO:root:Train Accuracy: 0.00%\n",
      "INFO:root:Training Loss : 0.11023854262129502\n",
      "INFO:root:Test Accuracy: 53.20%\n",
      "INFO:root:Test Loss: 1.5474100393056869 \n",
      "\n",
      " 68%|██████▊   | 68/100 [20:15<09:20, 17.52s/it]"
     ]
    },
    {
     "name": "stdout",
     "output_type": "stream",
     "text": [
      "[3195, 794, 690, 2029, 231, 1756, 1112, 1736, 201, 813]\n"
     ]
    },
    {
     "name": "stderr",
     "output_type": "stream",
     "text": [
      "INFO:root: \n",
      "Avg Training Stats after 69 global rounds:\n",
      "INFO:root:Train Accuracy: 0.00%\n",
      "INFO:root:Training Loss : 0.08788799825895881\n",
      "INFO:root:Test Accuracy: 54.61%\n",
      "INFO:root:Test Loss: 1.4500506761670113 \n",
      "\n",
      " 69%|██████▉   | 69/100 [20:35<09:25, 18.23s/it]"
     ]
    },
    {
     "name": "stdout",
     "output_type": "stream",
     "text": [
      "[106, 40, 278, 422, 470, 2029, 2934, 744, 2274, 327]\n"
     ]
    },
    {
     "name": "stderr",
     "output_type": "stream",
     "text": [
      "INFO:root: \n",
      "Avg Training Stats after 70 global rounds:\n",
      "INFO:root:Train Accuracy: 0.00%\n",
      "INFO:root:Training Loss : 0.13945300094389537\n",
      "INFO:root:Test Accuracy: 58.13%\n",
      "INFO:root:Test Loss: 1.3492888075113296 \n",
      "\n",
      " 70%|███████   | 70/100 [20:51<08:55, 17.85s/it]"
     ]
    },
    {
     "name": "stdout",
     "output_type": "stream",
     "text": [
      "[3195, 267, 303, 173, 286, 2029, 422, 1012, 796, 106]\n"
     ]
    },
    {
     "name": "stderr",
     "output_type": "stream",
     "text": [
      "INFO:root: \n",
      "Avg Training Stats after 71 global rounds:\n",
      "INFO:root:Train Accuracy: 0.00%\n",
      "INFO:root:Training Loss : 0.1418458043836855\n",
      "INFO:root:Test Accuracy: 54.44%\n",
      "INFO:root:Test Loss: 1.5435306406021119 \n",
      "\n",
      " 71%|███████   | 71/100 [21:08<08:23, 17.34s/it]"
     ]
    },
    {
     "name": "stdout",
     "output_type": "stream",
     "text": [
      "[209, 40, 4600, 106, 123, 1012, 690, 542, 602, 2575]\n"
     ]
    },
    {
     "name": "stderr",
     "output_type": "stream",
     "text": [
      "INFO:root: \n",
      "Avg Training Stats after 72 global rounds:\n",
      "INFO:root:Train Accuracy: 0.00%\n",
      "INFO:root:Training Loss : 0.13235561817866376\n",
      "INFO:root:Test Accuracy: 54.28%\n",
      "INFO:root:Test Loss: 1.589869592860341 \n",
      "\n",
      " 72%|███████▏  | 72/100 [21:25<08:09, 17.49s/it]"
     ]
    },
    {
     "name": "stdout",
     "output_type": "stream",
     "text": [
      "[1012, 2430, 2274, 209, 1798, 303, 1112, 231, 744, 278]\n"
     ]
    },
    {
     "name": "stderr",
     "output_type": "stream",
     "text": [
      "INFO:root: \n",
      "Avg Training Stats after 73 global rounds:\n",
      "INFO:root:Train Accuracy: 0.00%\n",
      "INFO:root:Training Loss : 0.10847979056229282\n",
      "INFO:root:Test Accuracy: 51.07%\n",
      "INFO:root:Test Loss: 1.7262272993847727 \n",
      "\n",
      " 73%|███████▎  | 73/100 [21:43<07:54, 17.59s/it]"
     ]
    },
    {
     "name": "stdout",
     "output_type": "stream",
     "text": [
      "[447, 1320, 209, 327, 744, 1018, 231, 2430, 590, 602]\n"
     ]
    },
    {
     "name": "stderr",
     "output_type": "stream",
     "text": [
      "INFO:root: \n",
      "Avg Training Stats after 74 global rounds:\n",
      "INFO:root:Train Accuracy: 0.00%\n",
      "INFO:root:Training Loss : 0.16162850028629733\n",
      "INFO:root:Test Accuracy: 54.17%\n",
      "INFO:root:Test Loss: 1.6493255630135537 \n",
      "\n",
      " 74%|███████▍  | 74/100 [21:59<07:21, 16.97s/it]"
     ]
    },
    {
     "name": "stdout",
     "output_type": "stream",
     "text": [
      "[470, 1053, 303, 1012, 106, 3195, 447, 1112, 201, 1433]\n"
     ]
    },
    {
     "name": "stderr",
     "output_type": "stream",
     "text": [
      "INFO:root: \n",
      "Avg Training Stats after 75 global rounds:\n",
      "INFO:root:Train Accuracy: 0.00%\n",
      "INFO:root:Training Loss : 0.08702129162467793\n",
      "INFO:root:Test Accuracy: 56.75%\n",
      "INFO:root:Test Loss: 1.4528657776117324 \n",
      "\n",
      " 75%|███████▌  | 75/100 [22:16<07:04, 16.98s/it]"
     ]
    },
    {
     "name": "stdout",
     "output_type": "stream",
     "text": [
      "[231, 1433, 431, 209, 1416, 1780, 116, 123, 422, 4600]\n"
     ]
    },
    {
     "name": "stderr",
     "output_type": "stream",
     "text": [
      "INFO:root: \n",
      "Avg Training Stats after 76 global rounds:\n",
      "INFO:root:Train Accuracy: 0.00%\n",
      "INFO:root:Training Loss : 0.22388959239290895\n",
      "INFO:root:Test Accuracy: 59.77%\n",
      "INFO:root:Test Loss: 1.2171538998186588 \n",
      "\n",
      " 76%|███████▌  | 76/100 [22:34<06:56, 17.36s/it]"
     ]
    },
    {
     "name": "stdout",
     "output_type": "stream",
     "text": [
      "[2575, 796, 1053, 267, 602, 1018, 201, 1756, 286, 2430]\n"
     ]
    },
    {
     "name": "stderr",
     "output_type": "stream",
     "text": [
      "INFO:root: \n",
      "Avg Training Stats after 77 global rounds:\n",
      "INFO:root:Train Accuracy: 0.00%\n",
      "INFO:root:Training Loss : 0.12222379677121549\n",
      "INFO:root:Test Accuracy: 59.46%\n",
      "INFO:root:Test Loss: 1.2557941943407058 \n",
      "\n",
      " 77%|███████▋  | 77/100 [22:52<06:44, 17.60s/it]"
     ]
    },
    {
     "name": "stdout",
     "output_type": "stream",
     "text": [
      "[15, 2029, 2274, 744, 1018, 1736, 2934, 19, 173, 447]\n"
     ]
    },
    {
     "name": "stderr",
     "output_type": "stream",
     "text": [
      "INFO:root: \n",
      "Avg Training Stats after 78 global rounds:\n",
      "INFO:root:Train Accuracy: 0.00%\n",
      "INFO:root:Training Loss : 0.1695236457431138\n",
      "INFO:root:Test Accuracy: 60.55%\n",
      "INFO:root:Test Loss: 1.2351194547116757 \n",
      "\n",
      " 78%|███████▊  | 78/100 [23:11<06:35, 17.97s/it]"
     ]
    },
    {
     "name": "stdout",
     "output_type": "stream",
     "text": [
      "[542, 602, 173, 201, 590, 690, 422, 2934, 1736, 744]\n"
     ]
    },
    {
     "name": "stderr",
     "output_type": "stream",
     "text": [
      "INFO:root: \n",
      "Avg Training Stats after 79 global rounds:\n",
      "INFO:root:Train Accuracy: 0.00%\n",
      "INFO:root:Training Loss : 0.15738295757684612\n",
      "INFO:root:Test Accuracy: 64.65%\n",
      "INFO:root:Test Loss: 1.101399254500866 \n",
      "\n",
      " 79%|███████▉  | 79/100 [23:27<06:05, 17.41s/it]"
     ]
    },
    {
     "name": "stdout",
     "output_type": "stream",
     "text": [
      "[201, 278, 40, 1112, 106, 690, 2029, 87, 796, 3195]\n"
     ]
    },
    {
     "name": "stderr",
     "output_type": "stream",
     "text": [
      "INFO:root: \n",
      "Avg Training Stats after 80 global rounds:\n",
      "INFO:root:Train Accuracy: 0.00%\n",
      "INFO:root:Training Loss : 0.07738228771475239\n",
      "INFO:root:Test Accuracy: 60.58%\n",
      "INFO:root:Test Loss: 1.266491011083126 \n",
      "\n",
      " 80%|████████  | 80/100 [23:43<05:39, 16.99s/it]"
     ]
    },
    {
     "name": "stdout",
     "output_type": "stream",
     "text": [
      "[1798, 15, 201, 123, 1433, 542, 1119, 690, 602, 40]\n"
     ]
    },
    {
     "name": "stderr",
     "output_type": "stream",
     "text": [
      "INFO:root: \n",
      "Avg Training Stats after 81 global rounds:\n",
      "INFO:root:Train Accuracy: 0.00%\n",
      "INFO:root:Training Loss : 0.11296439753057437\n",
      "INFO:root:Test Accuracy: 56.32%\n",
      "INFO:root:Test Loss: 1.6488468034565449 \n",
      "\n",
      " 81%|████████  | 81/100 [23:57<05:06, 16.12s/it]"
     ]
    },
    {
     "name": "stdout",
     "output_type": "stream",
     "text": [
      "[267, 542, 209, 796, 87, 3195, 231, 303, 2934, 1119]\n"
     ]
    },
    {
     "name": "stderr",
     "output_type": "stream",
     "text": [
      "INFO:root: \n",
      "Avg Training Stats after 82 global rounds:\n",
      "INFO:root:Train Accuracy: 0.00%\n",
      "INFO:root:Training Loss : 0.10782687108048958\n",
      "INFO:root:Test Accuracy: 53.85%\n",
      "INFO:root:Test Loss: 1.754095001667738 \n",
      "\n",
      " 82%|████████▏ | 82/100 [24:15<04:56, 16.49s/it]"
     ]
    },
    {
     "name": "stdout",
     "output_type": "stream",
     "text": [
      "[690, 431, 422, 231, 4600, 2934, 2029, 327, 796, 590]\n"
     ]
    },
    {
     "name": "stderr",
     "output_type": "stream",
     "text": [
      "INFO:root: \n",
      "Avg Training Stats after 83 global rounds:\n",
      "INFO:root:Train Accuracy: 0.00%\n",
      "INFO:root:Training Loss : 0.12140338035945748\n",
      "INFO:root:Test Accuracy: 59.73%\n",
      "INFO:root:Test Loss: 1.4108508393913508 \n",
      "\n",
      " 83%|████████▎ | 83/100 [24:35<04:59, 17.63s/it]"
     ]
    },
    {
     "name": "stdout",
     "output_type": "stream",
     "text": [
      "[231, 1112, 87, 303, 690, 796, 2195, 813, 327, 1018]\n"
     ]
    },
    {
     "name": "stderr",
     "output_type": "stream",
     "text": [
      "INFO:root: \n",
      "Avg Training Stats after 84 global rounds:\n",
      "INFO:root:Train Accuracy: 0.00%\n",
      "INFO:root:Training Loss : 0.11805506752234478\n",
      "INFO:root:Test Accuracy: 52.01%\n",
      "INFO:root:Test Loss: 1.7699905451387168 \n",
      "\n",
      " 84%|████████▍ | 84/100 [24:50<04:29, 16.85s/it]"
     ]
    },
    {
     "name": "stdout",
     "output_type": "stream",
     "text": [
      "[602, 1018, 542, 106, 794, 447, 2029, 1433, 327, 690]\n"
     ]
    },
    {
     "name": "stderr",
     "output_type": "stream",
     "text": [
      "INFO:root: \n",
      "Avg Training Stats after 85 global rounds:\n",
      "INFO:root:Train Accuracy: 0.00%\n",
      "INFO:root:Training Loss : 0.1175836289509826\n",
      "INFO:root:Test Accuracy: 53.58%\n",
      "INFO:root:Test Loss: 1.675745842717588 \n",
      "\n",
      " 85%|████████▌ | 85/100 [25:05<04:06, 16.46s/it]"
     ]
    },
    {
     "name": "stdout",
     "output_type": "stream",
     "text": [
      "[1433, 267, 447, 1012, 470, 201, 231, 15, 278, 1736]\n"
     ]
    },
    {
     "name": "stderr",
     "output_type": "stream",
     "text": [
      "INFO:root: \n",
      "Avg Training Stats after 86 global rounds:\n",
      "INFO:root:Train Accuracy: 0.00%\n",
      "INFO:root:Training Loss : 0.18193464297931683\n",
      "INFO:root:Test Accuracy: 58.75%\n",
      "INFO:root:Test Loss: 1.2713712106645108 \n",
      "\n",
      " 86%|████████▌ | 86/100 [25:19<03:39, 15.71s/it]"
     ]
    },
    {
     "name": "stdout",
     "output_type": "stream",
     "text": [
      "[40, 1053, 231, 286, 106, 2274, 470, 1119, 447, 1416]\n"
     ]
    },
    {
     "name": "stderr",
     "output_type": "stream",
     "text": [
      "INFO:root: \n",
      "Avg Training Stats after 87 global rounds:\n",
      "INFO:root:Train Accuracy: 0.00%\n",
      "INFO:root:Training Loss : 0.11798425629694878\n",
      "INFO:root:Test Accuracy: 55.66%\n",
      "INFO:root:Test Loss: 1.4304169310629369 \n",
      "\n",
      " 87%|████████▋ | 87/100 [25:34<03:21, 15.51s/it]"
     ]
    },
    {
     "name": "stdout",
     "output_type": "stream",
     "text": [
      "[209, 2029, 231, 278, 1320, 862, 2195, 690, 1736, 106]\n"
     ]
    },
    {
     "name": "stderr",
     "output_type": "stream",
     "text": [
      "INFO:root: \n",
      "Avg Training Stats after 88 global rounds:\n",
      "INFO:root:Train Accuracy: 0.00%\n",
      "INFO:root:Training Loss : 0.12158106470114971\n",
      "INFO:root:Test Accuracy: 61.15%\n",
      "INFO:root:Test Loss: 1.184170434176922 \n",
      "\n",
      " 88%|████████▊ | 88/100 [25:51<03:11, 15.94s/it]"
     ]
    },
    {
     "name": "stdout",
     "output_type": "stream",
     "text": [
      "[2430, 201, 2195, 2575, 123, 602, 116, 794, 4600, 690]\n"
     ]
    },
    {
     "name": "stderr",
     "output_type": "stream",
     "text": [
      "INFO:root: \n",
      "Avg Training Stats after 89 global rounds:\n",
      "INFO:root:Train Accuracy: 0.00%\n",
      "INFO:root:Training Loss : 0.13855271755610923\n",
      "INFO:root:Test Accuracy: 62.81%\n",
      "INFO:root:Test Loss: 1.2023645202815532 \n",
      "\n",
      " 89%|████████▉ | 89/100 [26:13<03:13, 17.62s/it]"
     ]
    },
    {
     "name": "stdout",
     "output_type": "stream",
     "text": [
      "[470, 303, 278, 87, 1119, 2274, 1780, 19, 4600, 602]\n"
     ]
    },
    {
     "name": "stderr",
     "output_type": "stream",
     "text": [
      "INFO:root: \n",
      "Avg Training Stats after 90 global rounds:\n",
      "INFO:root:Train Accuracy: 0.00%\n",
      "INFO:root:Training Loss : 0.10398929082118724\n",
      "INFO:root:Test Accuracy: 60.55%\n",
      "INFO:root:Test Loss: 1.4138928014039993 \n",
      "\n",
      " 90%|█████████ | 90/100 [26:32<02:59, 17.96s/it]"
     ]
    },
    {
     "name": "stdout",
     "output_type": "stream",
     "text": [
      "[2575, 602, 2029, 327, 209, 4600, 2274, 1756, 431, 1112]\n"
     ]
    },
    {
     "name": "stderr",
     "output_type": "stream",
     "text": [
      "INFO:root: \n",
      "Avg Training Stats after 91 global rounds:\n",
      "INFO:root:Train Accuracy: 0.00%\n",
      "INFO:root:Training Loss : 0.10608243449941543\n",
      "INFO:root:Test Accuracy: 53.34%\n",
      "INFO:root:Test Loss: 1.8789763870649039 \n",
      "\n",
      " 91%|█████████ | 91/100 [26:55<02:55, 19.45s/it]"
     ]
    },
    {
     "name": "stdout",
     "output_type": "stream",
     "text": [
      "[2195, 267, 813, 286, 3195, 470, 231, 278, 1012, 231]\n"
     ]
    },
    {
     "name": "stderr",
     "output_type": "stream",
     "text": [
      "INFO:root: \n",
      "Avg Training Stats after 92 global rounds:\n",
      "INFO:root:Train Accuracy: 0.00%\n",
      "INFO:root:Training Loss : 0.11507662135355265\n",
      "INFO:root:Test Accuracy: 62.12%\n",
      "INFO:root:Test Loss: 1.2310449716448784 \n",
      "\n",
      " 92%|█████████▏| 92/100 [27:11<02:28, 18.57s/it]"
     ]
    },
    {
     "name": "stdout",
     "output_type": "stream",
     "text": [
      "[1053, 2575, 303, 2430, 542, 116, 1756, 1433, 327, 15]\n"
     ]
    },
    {
     "name": "stderr",
     "output_type": "stream",
     "text": [
      "INFO:root: \n",
      "Avg Training Stats after 93 global rounds:\n",
      "INFO:root:Train Accuracy: 0.00%\n",
      "INFO:root:Training Loss : 0.15538569211225858\n",
      "INFO:root:Test Accuracy: 56.61%\n",
      "INFO:root:Test Loss: 1.5156714889407157 \n",
      "\n",
      " 93%|█████████▎| 93/100 [27:29<02:08, 18.34s/it]"
     ]
    },
    {
     "name": "stdout",
     "output_type": "stream",
     "text": [
      "[590, 4600, 201, 286, 303, 1736, 15, 1798, 744, 422]\n"
     ]
    },
    {
     "name": "stderr",
     "output_type": "stream",
     "text": [
      "INFO:root: \n",
      "Avg Training Stats after 94 global rounds:\n",
      "INFO:root:Train Accuracy: 0.00%\n",
      "INFO:root:Training Loss : 0.10955889419217693\n",
      "INFO:root:Test Accuracy: 59.16%\n",
      "INFO:root:Test Loss: 1.4608742104470729 \n",
      "\n",
      " 94%|█████████▍| 94/100 [27:47<01:49, 18.24s/it]"
     ]
    },
    {
     "name": "stdout",
     "output_type": "stream",
     "text": [
      "[123, 862, 542, 19, 794, 1112, 4600, 2934, 231, 15]\n"
     ]
    },
    {
     "name": "stderr",
     "output_type": "stream",
     "text": [
      "INFO:root: \n",
      "Avg Training Stats after 95 global rounds:\n",
      "INFO:root:Train Accuracy: 0.00%\n",
      "INFO:root:Training Loss : 0.11395565290965408\n",
      "INFO:root:Test Accuracy: 60.04%\n",
      "INFO:root:Test Loss: 1.5957851535081864 \n",
      "\n",
      " 95%|█████████▌| 95/100 [28:05<01:31, 18.32s/it]"
     ]
    },
    {
     "name": "stdout",
     "output_type": "stream",
     "text": [
      "[1053, 87, 2575, 4600, 542, 231, 1433, 1012, 2029, 862]\n"
     ]
    },
    {
     "name": "stderr",
     "output_type": "stream",
     "text": [
      "INFO:root: \n",
      "Avg Training Stats after 96 global rounds:\n",
      "INFO:root:Train Accuracy: 0.00%\n",
      "INFO:root:Training Loss : 0.0828902504737238\n",
      "INFO:root:Test Accuracy: 53.40%\n",
      "INFO:root:Test Loss: 1.8136520370095968 \n",
      "\n",
      " 96%|█████████▌| 96/100 [28:27<01:17, 19.28s/it]"
     ]
    },
    {
     "name": "stdout",
     "output_type": "stream",
     "text": [
      "[19, 602, 40, 690, 267, 231, 173, 2029, 1798, 3195]\n"
     ]
    },
    {
     "name": "stderr",
     "output_type": "stream",
     "text": [
      "INFO:root: \n",
      "Avg Training Stats after 97 global rounds:\n",
      "INFO:root:Train Accuracy: 0.00%\n",
      "INFO:root:Training Loss : 0.17304569896510416\n",
      "INFO:root:Test Accuracy: 56.10%\n",
      "INFO:root:Test Loss: 1.5641913063637913 \n",
      "\n",
      " 97%|█████████▋| 97/100 [28:44<00:55, 18.46s/it]"
     ]
    },
    {
     "name": "stdout",
     "output_type": "stream",
     "text": [
      "[209, 1012, 422, 40, 794, 4600, 116, 286, 303, 1756]\n"
     ]
    },
    {
     "name": "stderr",
     "output_type": "stream",
     "text": [
      "INFO:root: \n",
      "Avg Training Stats after 98 global rounds:\n",
      "INFO:root:Train Accuracy: 0.00%\n",
      "INFO:root:Training Loss : 0.11153654933517565\n",
      "INFO:root:Test Accuracy: 55.02%\n",
      "INFO:root:Test Loss: 1.6609221771359444 \n",
      "\n",
      " 98%|█████████▊| 98/100 [29:01<00:36, 18.03s/it]"
     ]
    },
    {
     "name": "stdout",
     "output_type": "stream",
     "text": [
      "[2274, 1736, 173, 1416, 447, 19, 2195, 2029, 862, 744]\n"
     ]
    },
    {
     "name": "stderr",
     "output_type": "stream",
     "text": [
      "INFO:root: \n",
      "Avg Training Stats after 99 global rounds:\n",
      "INFO:root:Train Accuracy: 0.00%\n",
      "INFO:root:Training Loss : 0.20898155694107534\n",
      "INFO:root:Test Accuracy: 53.36%\n",
      "INFO:root:Test Loss: 1.808250596821308 \n",
      "\n",
      " 99%|█████████▉| 99/100 [29:20<00:18, 18.38s/it]"
     ]
    },
    {
     "name": "stdout",
     "output_type": "stream",
     "text": [
      "[431, 1798, 1736, 744, 19, 278, 690, 590, 116, 40]\n"
     ]
    },
    {
     "name": "stderr",
     "output_type": "stream",
     "text": [
      "INFO:root: \n",
      "Avg Training Stats after 100 global rounds:\n",
      "INFO:root:Train Accuracy: 0.00%\n",
      "INFO:root:Training Loss : 0.14228942058790237\n",
      "INFO:root:Test Accuracy: 57.27%\n",
      "INFO:root:Test Loss: 1.6171400934457778 \n",
      "\n",
      "100%|██████████| 100/100 [29:34<00:00, 17.74s/it]\n",
      "INFO:root: \n",
      " Results after 100 global rounds of training:\n",
      "INFO:root:|---- Best Test Accuracy: 64.65% , round: 78\n"
     ]
    },
    {
     "name": "stdout",
     "output_type": "stream",
     "text": [
      " Saving checkpoints to ../save/checkpoint/ConvNet_1207/cifar10_ConvNet_none_T[100]_C[0.2]_iid[0]_E[5]_B[32]_GPU[0]_Pruned[0.0]...\n"
     ]
    }
   ],
   "source": [
    " args = easydict.EasyDict({\n",
    "    \"model\": 'ConvNet',\n",
    "    'dataset': 'cifar10',\n",
    "    'gpu': 0,\n",
    "    'iid': 0,\n",
    "    'epochs': 100,\n",
    "    'optimizer': 'sgd',\n",
    "    'seed': 0,\n",
    "    'norm': 'none',\n",
    "    'num_users': 50,\n",
    "    'frac': 0.2,\n",
    "    'local_ep': 5, \n",
    "    'local_bs': 32,\n",
    "    'lr': 0.01,\n",
    "    'momentum': 1,\n",
    "    'kernel_num': 9,\n",
    "    'kernel_sizes': 'centering',\n",
    "    'num_channnels': '1',\n",
    "    'num_filters': 32,\n",
    "    'max_pool': 'True',\n",
    "    'num_classes': 10,\n",
    "    'unequal': 0,\n",
    "    'stopping_rounds': 0,\n",
    "    'verbose': 0,\n",
    "    'hold_normalize': 0,\n",
    "    'save_path': '../save/checkpoint',\n",
    "    'exp_folder': 'ConvNet_1207',\n",
    "    'resume': None,\n",
    "    'server_opt': 'sgdm',\n",
    "    'server_lr': 1.0,\n",
    "    'client_decay':0,\n",
    "    'local_decay':0,\n",
    "    'alpha': 0.05,\n",
    "    'server_epoch':0,\n",
    "    'cosine_norm':0, \n",
    "    'only_fc' :0 ,\n",
    "    'loss':'ce',\n",
    "    'dc_lr':0.0,\n",
    "    'tsne_pred':0,\n",
    "    'pruning': 0.0 })\n",
    "    \n",
    "    \n",
    "    \n",
    "temp = main_test(args)\n",
    "total.append(temp)"
   ]
  },
  {
   "cell_type": "code",
   "execution_count": 8,
   "id": "natural-annex",
   "metadata": {},
   "outputs": [
    {
     "name": "stderr",
     "output_type": "stream",
     "text": [
      "INFO:root:{'model': 'ConvNet', 'dataset': 'cifar10', 'gpu': 0, 'iid': 0, 'epochs': 100, 'optimizer': 'sgd', 'seed': 0, 'norm': 'none', 'num_users': 50, 'frac': 0.2, 'local_ep': 5, 'local_bs': 32, 'lr': 0.01, 'momentum': 1, 'kernel_num': 9, 'kernel_sizes': 'centering', 'num_channnels': '1', 'num_filters': 32, 'max_pool': 'True', 'num_classes': 10, 'unequal': 0, 'stopping_rounds': 0, 'verbose': 0, 'hold_normalize': 0, 'save_path': '../save/checkpoint/ConvNet_1207', 'exp_folder': 'ConvNet_1207', 'resume': None, 'server_opt': 'sgd', 'server_lr': 1.0, 'client_decay': 0, 'local_decay': 0, 'alpha': 0.05, 'server_epoch': 0, 'cosine_norm': 0, 'only_fc': 0, 'loss': 'bsm', 'dc_lr': 0.0, 'tsne_pred': 0, 'pruning': 0.0}\n"
     ]
    },
    {
     "name": "stdout",
     "output_type": "stream",
     "text": [
      "Files already downloaded and verified\n",
      "Files already downloaded and verified\n",
      "Files already downloaded and verified\n"
     ]
    },
    {
     "name": "stderr",
     "output_type": "stream",
     "text": [
      "INFO:root:ConvNet(\n",
      "  (net_act): ReLU(inplace=True)\n",
      "  (net_pooling): MaxPool2d(kernel_size=2, stride=2, padding=0, dilation=1, ceil_mode=False)\n",
      "  (features): Sequential(\n",
      "    (0): Conv2d(3, 128, kernel_size=(3, 3), stride=(1, 1), padding=(1, 1))\n",
      "    (1): ReLU(inplace=True)\n",
      "    (2): MaxPool2d(kernel_size=2, stride=2, padding=0, dilation=1, ceil_mode=False)\n",
      "    (3): Conv2d(128, 128, kernel_size=(3, 3), stride=(1, 1), padding=(1, 1))\n",
      "    (4): ReLU(inplace=True)\n",
      "    (5): MaxPool2d(kernel_size=2, stride=2, padding=0, dilation=1, ceil_mode=False)\n",
      "    (6): Conv2d(128, 128, kernel_size=(3, 3), stride=(1, 1), padding=(1, 1))\n",
      "    (7): ReLU(inplace=True)\n",
      "    (8): MaxPool2d(kernel_size=2, stride=2, padding=0, dilation=1, ceil_mode=False)\n",
      "  )\n",
      "  (classifier): Linear(in_features=2048, out_features=10, bias=True)\n",
      ")\n",
      "INFO:root:None\n",
      "  0%|          | 0/100 [00:00<?, ?it/s]"
     ]
    },
    {
     "name": "stdout",
     "output_type": "stream",
     "text": [
      "----------------------------------------------------------------\n",
      "        Layer (type)               Output Shape         Param #\n",
      "================================================================\n",
      "            Conv2d-1          [-1, 128, 32, 32]           3,584\n",
      "              ReLU-2          [-1, 128, 32, 32]               0\n",
      "              ReLU-3          [-1, 128, 32, 32]               0\n",
      "         MaxPool2d-4          [-1, 128, 16, 16]               0\n",
      "         MaxPool2d-5          [-1, 128, 16, 16]               0\n",
      "            Conv2d-6          [-1, 128, 16, 16]         147,584\n",
      "              ReLU-7          [-1, 128, 16, 16]               0\n",
      "              ReLU-8          [-1, 128, 16, 16]               0\n",
      "         MaxPool2d-9            [-1, 128, 8, 8]               0\n",
      "        MaxPool2d-10            [-1, 128, 8, 8]               0\n",
      "           Conv2d-11            [-1, 128, 8, 8]         147,584\n",
      "             ReLU-12            [-1, 128, 8, 8]               0\n",
      "             ReLU-13            [-1, 128, 8, 8]               0\n",
      "        MaxPool2d-14            [-1, 128, 4, 4]               0\n",
      "        MaxPool2d-15            [-1, 128, 4, 4]               0\n",
      "           Linear-16                   [-1, 10]          20,490\n",
      "================================================================\n",
      "Total params: 319,242\n",
      "Trainable params: 319,242\n",
      "Non-trainable params: 0\n",
      "----------------------------------------------------------------\n",
      "Input size (MB): 0.01\n",
      "Forward/backward pass size (MB): 4.59\n",
      "Params size (MB): 1.22\n",
      "Estimated Total Size (MB): 5.82\n",
      "----------------------------------------------------------------\n",
      "[209, 1756, 422, 2575, 1018, 602, 2274, 447, 744, 1112, 123, 87, 1433, 1416, 40, 1119, 796, 794, 327, 470, 231, 813, 1320, 542, 690, 2195, 2934, 106, 1012, 15, 278, 1798, 303, 590, 2029, 201, 1053, 862, 231, 116, 4600, 19, 286, 1736, 2430, 431, 3195, 1780, 173, 267]\n",
      "[470, 2934, 201, 231, 2575, 744, 15, 123, 1119, 4600]\n"
     ]
    },
    {
     "name": "stderr",
     "output_type": "stream",
     "text": [
      "INFO:root: \n",
      "Avg Training Stats after 1 global rounds:\n",
      "INFO:root:Train Accuracy: 0.00%\n",
      "INFO:root:Training Loss : 0.2699333595383997\n",
      "INFO:root:Test Accuracy: 16.24%\n",
      "INFO:root:Test Loss: 2.289612264633179 \n",
      "\n",
      "  1%|          | 1/100 [00:20<33:36, 20.37s/it]"
     ]
    },
    {
     "name": "stdout",
     "output_type": "stream",
     "text": [
      "[231, 173, 2575, 1736, 2430, 123, 4600, 690, 1012, 447]\n"
     ]
    },
    {
     "name": "stderr",
     "output_type": "stream",
     "text": [
      "INFO:root: \n",
      "Avg Training Stats after 2 global rounds:\n",
      "INFO:root:Train Accuracy: 0.00%\n",
      "INFO:root:Training Loss : 0.4781885700962202\n",
      "INFO:root:Test Accuracy: 21.49%\n",
      "INFO:root:Test Loss: 2.2148357248306274 \n",
      "\n",
      "  2%|▏         | 2/100 [00:41<34:02, 20.84s/it]"
     ]
    },
    {
     "name": "stdout",
     "output_type": "stream",
     "text": [
      "[744, 2575, 1320, 470, 2430, 2274, 267, 690, 209, 303]\n"
     ]
    },
    {
     "name": "stderr",
     "output_type": "stream",
     "text": [
      "INFO:root: \n",
      "Avg Training Stats after 3 global rounds:\n",
      "INFO:root:Train Accuracy: 0.00%\n",
      "INFO:root:Training Loss : 0.36797481788842934\n",
      "INFO:root:Test Accuracy: 25.64%\n",
      "INFO:root:Test Loss: 2.1561725521087647 \n",
      "\n",
      "  3%|▎         | 3/100 [01:00<32:06, 19.86s/it]"
     ]
    },
    {
     "name": "stdout",
     "output_type": "stream",
     "text": [
      "[173, 690, 542, 1012, 2195, 1780, 1053, 87, 2934, 1736]\n"
     ]
    },
    {
     "name": "stderr",
     "output_type": "stream",
     "text": [
      "INFO:root: \n",
      "Avg Training Stats after 4 global rounds:\n",
      "INFO:root:Train Accuracy: 0.00%\n",
      "INFO:root:Training Loss : 0.5329441052077668\n",
      "INFO:root:Test Accuracy: 26.09%\n",
      "INFO:root:Test Loss: 2.0835438442230223 \n",
      "\n",
      "  4%|▍         | 4/100 [01:19<31:32, 19.71s/it]"
     ]
    },
    {
     "name": "stdout",
     "output_type": "stream",
     "text": [
      "[2430, 2575, 1736, 123, 15, 1780, 1018, 231, 87, 794]\n"
     ]
    },
    {
     "name": "stderr",
     "output_type": "stream",
     "text": [
      "INFO:root: \n",
      "Avg Training Stats after 5 global rounds:\n",
      "INFO:root:Train Accuracy: 0.00%\n",
      "INFO:root:Training Loss : 0.3728236260193297\n",
      "INFO:root:Test Accuracy: 26.71%\n",
      "INFO:root:Test Loss: 2.0244444179534913 \n",
      "\n",
      "  5%|▌         | 5/100 [01:38<30:26, 19.23s/it]"
     ]
    },
    {
     "name": "stdout",
     "output_type": "stream",
     "text": [
      "[1119, 87, 590, 794, 813, 303, 1320, 690, 1018, 422]\n"
     ]
    },
    {
     "name": "stderr",
     "output_type": "stream",
     "text": [
      "INFO:root: \n",
      "Avg Training Stats after 6 global rounds:\n",
      "INFO:root:Train Accuracy: 0.00%\n",
      "INFO:root:Training Loss : 0.3054775850144148\n",
      "INFO:root:Test Accuracy: 30.44%\n",
      "INFO:root:Test Loss: 1.9648592913150786 \n",
      "\n",
      "  6%|▌         | 6/100 [01:52<27:47, 17.74s/it]"
     ]
    },
    {
     "name": "stdout",
     "output_type": "stream",
     "text": [
      "[2029, 1433, 303, 327, 744, 862, 2934, 231, 1416, 278]\n"
     ]
    },
    {
     "name": "stderr",
     "output_type": "stream",
     "text": [
      "INFO:root: \n",
      "Avg Training Stats after 7 global rounds:\n",
      "INFO:root:Train Accuracy: 0.00%\n",
      "INFO:root:Training Loss : 0.40802729792533965\n",
      "INFO:root:Test Accuracy: 31.38%\n",
      "INFO:root:Test Loss: 1.9215812373161316 \n",
      "\n",
      "  7%|▋         | 7/100 [02:10<27:36, 17.81s/it]"
     ]
    },
    {
     "name": "stdout",
     "output_type": "stream",
     "text": [
      "[231, 1112, 327, 744, 286, 422, 15, 1798, 1053, 173]\n"
     ]
    },
    {
     "name": "stderr",
     "output_type": "stream",
     "text": [
      "INFO:root: \n",
      "Avg Training Stats after 8 global rounds:\n",
      "INFO:root:Train Accuracy: 0.00%\n",
      "INFO:root:Training Loss : 0.4365523174743215\n",
      "INFO:root:Test Accuracy: 33.25%\n",
      "INFO:root:Test Loss: 1.8814088082313538 \n",
      "\n",
      "  8%|▊         | 8/100 [02:24<25:23, 16.57s/it]"
     ]
    },
    {
     "name": "stdout",
     "output_type": "stream",
     "text": [
      "[794, 278, 744, 862, 303, 19, 2274, 1053, 813, 1012]\n"
     ]
    },
    {
     "name": "stderr",
     "output_type": "stream",
     "text": [
      "INFO:root: \n",
      "Avg Training Stats after 9 global rounds:\n",
      "INFO:root:Train Accuracy: 0.00%\n",
      "INFO:root:Training Loss : 0.2307978936685044\n",
      "INFO:root:Test Accuracy: 33.69%\n",
      "INFO:root:Test Loss: 1.8622520840168 \n",
      "\n",
      "  9%|▉         | 9/100 [02:40<24:49, 16.37s/it]"
     ]
    },
    {
     "name": "stdout",
     "output_type": "stream",
     "text": [
      "[1320, 40, 1756, 470, 327, 1012, 862, 1433, 796, 231]\n"
     ]
    },
    {
     "name": "stderr",
     "output_type": "stream",
     "text": [
      "INFO:root: \n",
      "Avg Training Stats after 10 global rounds:\n",
      "INFO:root:Train Accuracy: 0.00%\n",
      "INFO:root:Training Loss : 0.22391448835421696\n",
      "INFO:root:Test Accuracy: 34.20%\n",
      "INFO:root:Test Loss: 1.8435347747802735 \n",
      "\n",
      " 10%|█         | 10/100 [02:56<24:22, 16.25s/it]"
     ]
    },
    {
     "name": "stdout",
     "output_type": "stream",
     "text": [
      "[87, 201, 1798, 813, 123, 2934, 1756, 231, 1053, 4600]\n"
     ]
    },
    {
     "name": "stderr",
     "output_type": "stream",
     "text": [
      "INFO:root: \n",
      "Avg Training Stats after 11 global rounds:\n",
      "INFO:root:Train Accuracy: 0.00%\n",
      "INFO:root:Training Loss : 0.29938470426867153\n",
      "INFO:root:Test Accuracy: 35.42%\n",
      "INFO:root:Test Loss: 1.8006466376781463 \n",
      "\n",
      " 11%|█         | 11/100 [03:17<26:09, 17.64s/it]"
     ]
    },
    {
     "name": "stdout",
     "output_type": "stream",
     "text": [
      "[106, 231, 447, 796, 209, 1798, 1112, 1416, 590, 794]\n"
     ]
    },
    {
     "name": "stderr",
     "output_type": "stream",
     "text": [
      "INFO:root: \n",
      "Avg Training Stats after 12 global rounds:\n",
      "INFO:root:Train Accuracy: 0.00%\n",
      "INFO:root:Training Loss : 0.21199004650412454\n",
      "INFO:root:Test Accuracy: 35.61%\n",
      "INFO:root:Test Loss: 1.7820086348056794 \n",
      "\n",
      " 12%|█▏        | 12/100 [03:32<24:46, 16.90s/it]"
     ]
    },
    {
     "name": "stdout",
     "output_type": "stream",
     "text": [
      "[1320, 278, 862, 2274, 1798, 87, 2029, 796, 1018, 2430]\n"
     ]
    },
    {
     "name": "stderr",
     "output_type": "stream",
     "text": [
      "INFO:root: \n",
      "Avg Training Stats after 13 global rounds:\n",
      "INFO:root:Train Accuracy: 0.00%\n",
      "INFO:root:Training Loss : 0.2627681160054892\n",
      "INFO:root:Test Accuracy: 36.40%\n",
      "INFO:root:Test Loss: 1.7537720537185668 \n",
      "\n",
      " 13%|█▎        | 13/100 [03:52<25:56, 17.89s/it]"
     ]
    },
    {
     "name": "stdout",
     "output_type": "stream",
     "text": [
      "[4600, 2575, 590, 173, 2430, 40, 1112, 87, 231, 2195]\n"
     ]
    },
    {
     "name": "stderr",
     "output_type": "stream",
     "text": [
      "INFO:root: \n",
      "Avg Training Stats after 14 global rounds:\n",
      "INFO:root:Train Accuracy: 0.00%\n",
      "INFO:root:Training Loss : 0.3190826610401247\n",
      "INFO:root:Test Accuracy: 37.59%\n",
      "INFO:root:Test Loss: 1.728799545764923 \n",
      "\n",
      " 14%|█▍        | 14/100 [04:14<27:06, 18.92s/it]"
     ]
    },
    {
     "name": "stdout",
     "output_type": "stream",
     "text": [
      "[231, 794, 1018, 1012, 15, 303, 796, 2274, 1320, 19]\n"
     ]
    },
    {
     "name": "stderr",
     "output_type": "stream",
     "text": [
      "INFO:root: \n",
      "Avg Training Stats after 15 global rounds:\n",
      "INFO:root:Train Accuracy: 0.00%\n",
      "INFO:root:Training Loss : 0.20088690710896406\n",
      "INFO:root:Test Accuracy: 37.90%\n",
      "INFO:root:Test Loss: 1.7151939034461976 \n",
      "\n",
      " 15%|█▌        | 15/100 [04:29<25:18, 17.87s/it]"
     ]
    },
    {
     "name": "stdout",
     "output_type": "stream",
     "text": [
      "[2195, 40, 2029, 862, 2575, 1433, 447, 19, 4600, 796]\n"
     ]
    },
    {
     "name": "stderr",
     "output_type": "stream",
     "text": [
      "INFO:root: \n",
      "Avg Training Stats after 16 global rounds:\n",
      "INFO:root:Train Accuracy: 0.00%\n",
      "INFO:root:Training Loss : 0.22815794808786838\n",
      "INFO:root:Test Accuracy: 38.25%\n",
      "INFO:root:Test Loss: 1.7030909699201584 \n",
      "\n",
      " 16%|█▌        | 16/100 [04:51<26:52, 19.20s/it]"
     ]
    },
    {
     "name": "stdout",
     "output_type": "stream",
     "text": [
      "[231, 173, 303, 2274, 796, 116, 1798, 447, 106, 1433]\n"
     ]
    },
    {
     "name": "stderr",
     "output_type": "stream",
     "text": [
      "INFO:root: \n",
      "Avg Training Stats after 17 global rounds:\n",
      "INFO:root:Train Accuracy: 0.00%\n",
      "INFO:root:Training Loss : 0.21799509506928785\n",
      "INFO:root:Test Accuracy: 38.14%\n",
      "INFO:root:Test Loss: 1.6894490730762481 \n",
      "\n",
      " 17%|█▋        | 17/100 [05:07<24:57, 18.04s/it]"
     ]
    },
    {
     "name": "stdout",
     "output_type": "stream",
     "text": [
      "[201, 1756, 796, 1320, 813, 542, 116, 173, 794, 1798]\n"
     ]
    },
    {
     "name": "stderr",
     "output_type": "stream",
     "text": [
      "INFO:root: \n",
      "Avg Training Stats after 18 global rounds:\n",
      "INFO:root:Train Accuracy: 0.00%\n",
      "INFO:root:Training Loss : 0.2947150783804072\n",
      "INFO:root:Test Accuracy: 37.84%\n",
      "INFO:root:Test Loss: 1.6756358510255813 \n",
      "\n",
      " 18%|█▊        | 18/100 [05:23<23:45, 17.38s/it]"
     ]
    },
    {
     "name": "stdout",
     "output_type": "stream",
     "text": [
      "[15, 1780, 19, 744, 2575, 173, 813, 40, 1320, 422]\n"
     ]
    },
    {
     "name": "stderr",
     "output_type": "stream",
     "text": [
      "INFO:root: \n",
      "Avg Training Stats after 19 global rounds:\n",
      "INFO:root:Train Accuracy: 0.00%\n",
      "INFO:root:Training Loss : 0.2813898558400424\n",
      "INFO:root:Test Accuracy: 38.66%\n",
      "INFO:root:Test Loss: 1.66484909594059 \n",
      "\n",
      " 19%|█▉        | 19/100 [05:38<22:43, 16.84s/it]"
     ]
    },
    {
     "name": "stdout",
     "output_type": "stream",
     "text": [
      "[813, 1736, 15, 1433, 267, 470, 3195, 744, 2575, 231]\n"
     ]
    },
    {
     "name": "stderr",
     "output_type": "stream",
     "text": [
      "INFO:root: \n",
      "Avg Training Stats after 20 global rounds:\n",
      "INFO:root:Train Accuracy: 0.00%\n",
      "INFO:root:Training Loss : 0.19365221707651578\n",
      "INFO:root:Test Accuracy: 39.58%\n",
      "INFO:root:Test Loss: 1.6429842054843902 \n",
      "\n",
      " 20%|██        | 20/100 [05:57<23:15, 17.44s/it]"
     ]
    },
    {
     "name": "stdout",
     "output_type": "stream",
     "text": [
      "[278, 744, 1053, 447, 1320, 116, 1798, 19, 4600, 3195]\n"
     ]
    },
    {
     "name": "stderr",
     "output_type": "stream",
     "text": [
      "INFO:root: \n",
      "Avg Training Stats after 21 global rounds:\n",
      "INFO:root:Train Accuracy: 0.00%\n",
      "INFO:root:Training Loss : 0.3249370612370307\n",
      "INFO:root:Test Accuracy: 39.89%\n",
      "INFO:root:Test Loss: 1.6212847554683685 \n",
      "\n",
      " 21%|██        | 21/100 [06:18<24:16, 18.44s/it]"
     ]
    },
    {
     "name": "stdout",
     "output_type": "stream",
     "text": [
      "[813, 2029, 602, 590, 1756, 106, 1780, 40, 19, 2934]\n"
     ]
    },
    {
     "name": "stderr",
     "output_type": "stream",
     "text": [
      "INFO:root: \n",
      "Avg Training Stats after 22 global rounds:\n",
      "INFO:root:Train Accuracy: 0.00%\n",
      "INFO:root:Training Loss : 0.15721646259349803\n",
      "INFO:root:Test Accuracy: 40.19%\n",
      "INFO:root:Test Loss: 1.6227152240276337 \n",
      "\n",
      " 22%|██▏       | 22/100 [06:36<23:51, 18.35s/it]"
     ]
    },
    {
     "name": "stdout",
     "output_type": "stream",
     "text": [
      "[40, 862, 327, 1780, 2274, 106, 1053, 1112, 1012, 3195]\n"
     ]
    },
    {
     "name": "stderr",
     "output_type": "stream",
     "text": [
      "INFO:root: \n",
      "Avg Training Stats after 23 global rounds:\n",
      "INFO:root:Train Accuracy: 0.00%\n",
      "INFO:root:Training Loss : 0.2582920308023015\n",
      "INFO:root:Test Accuracy: 41.17%\n",
      "INFO:root:Test Loss: 1.6081260615587234 \n",
      "\n",
      " 23%|██▎       | 23/100 [06:55<23:51, 18.59s/it]"
     ]
    },
    {
     "name": "stdout",
     "output_type": "stream",
     "text": [
      "[1320, 1119, 862, 744, 1053, 87, 201, 470, 2274, 1012]\n"
     ]
    },
    {
     "name": "stderr",
     "output_type": "stream",
     "text": [
      "INFO:root: \n",
      "Avg Training Stats after 24 global rounds:\n",
      "INFO:root:Train Accuracy: 0.00%\n",
      "INFO:root:Training Loss : 0.24472637236216985\n",
      "INFO:root:Test Accuracy: 41.55%\n",
      "INFO:root:Test Loss: 1.5992267119884491 \n",
      "\n",
      " 24%|██▍       | 24/100 [07:12<22:48, 18.01s/it]"
     ]
    },
    {
     "name": "stdout",
     "output_type": "stream",
     "text": [
      "[447, 286, 1416, 87, 796, 1798, 231, 1119, 431, 2195]\n"
     ]
    },
    {
     "name": "stderr",
     "output_type": "stream",
     "text": [
      "INFO:root: \n",
      "Avg Training Stats after 25 global rounds:\n",
      "INFO:root:Train Accuracy: 0.00%\n",
      "INFO:root:Training Loss : 0.3060410898072543\n",
      "INFO:root:Test Accuracy: 41.46%\n",
      "INFO:root:Test Loss: 1.5921021926403045 \n",
      "\n",
      " 25%|██▌       | 25/100 [07:28<21:53, 17.51s/it]"
     ]
    },
    {
     "name": "stdout",
     "output_type": "stream",
     "text": [
      "[116, 2029, 690, 1416, 1780, 602, 2575, 1756, 431, 87]\n"
     ]
    },
    {
     "name": "stderr",
     "output_type": "stream",
     "text": [
      "INFO:root: \n",
      "Avg Training Stats after 26 global rounds:\n",
      "INFO:root:Train Accuracy: 0.00%\n",
      "INFO:root:Training Loss : 0.3562267870336709\n",
      "INFO:root:Test Accuracy: 41.77%\n",
      "INFO:root:Test Loss: 1.5808745741844177 \n",
      "\n",
      " 26%|██▌       | 26/100 [07:47<22:06, 17.93s/it]"
     ]
    },
    {
     "name": "stdout",
     "output_type": "stream",
     "text": [
      "[87, 173, 2029, 19, 4600, 2195, 116, 303, 40, 209]\n"
     ]
    },
    {
     "name": "stderr",
     "output_type": "stream",
     "text": [
      "INFO:root: \n",
      "Avg Training Stats after 27 global rounds:\n",
      "INFO:root:Train Accuracy: 0.00%\n",
      "INFO:root:Training Loss : 0.33997220391891503\n",
      "INFO:root:Test Accuracy: 42.41%\n",
      "INFO:root:Test Loss: 1.5682036137580873 \n",
      "\n",
      " 27%|██▋       | 27/100 [08:04<21:33, 17.72s/it]"
     ]
    },
    {
     "name": "stdout",
     "output_type": "stream",
     "text": [
      "[4600, 267, 794, 231, 201, 231, 2934, 590, 470, 173]\n"
     ]
    },
    {
     "name": "stderr",
     "output_type": "stream",
     "text": [
      "INFO:root: \n",
      "Avg Training Stats after 28 global rounds:\n",
      "INFO:root:Train Accuracy: 0.00%\n",
      "INFO:root:Training Loss : 0.3004689135027889\n",
      "INFO:root:Test Accuracy: 42.80%\n",
      "INFO:root:Test Loss: 1.5474897330999375 \n",
      "\n",
      " 28%|██▊       | 28/100 [08:22<21:17, 17.75s/it]"
     ]
    },
    {
     "name": "stdout",
     "output_type": "stream",
     "text": [
      "[1798, 286, 123, 1112, 303, 796, 744, 1320, 231, 794]\n"
     ]
    },
    {
     "name": "stderr",
     "output_type": "stream",
     "text": [
      "INFO:root: \n",
      "Avg Training Stats after 29 global rounds:\n",
      "INFO:root:Train Accuracy: 0.00%\n",
      "INFO:root:Training Loss : 0.13440861872685408\n",
      "INFO:root:Test Accuracy: 43.10%\n",
      "INFO:root:Test Loss: 1.5469013160467149 \n",
      "\n",
      " 29%|██▉       | 29/100 [08:37<20:11, 17.06s/it]"
     ]
    },
    {
     "name": "stdout",
     "output_type": "stream",
     "text": [
      "[303, 4600, 1119, 447, 744, 40, 1756, 2430, 2029, 602]\n"
     ]
    },
    {
     "name": "stderr",
     "output_type": "stream",
     "text": [
      "INFO:root: \n",
      "Avg Training Stats after 30 global rounds:\n",
      "INFO:root:Train Accuracy: 0.00%\n",
      "INFO:root:Training Loss : 0.1645266479135107\n",
      "INFO:root:Test Accuracy: 43.45%\n",
      "INFO:root:Test Loss: 1.536985330581665 \n",
      "\n",
      " 30%|███       | 30/100 [08:59<21:25, 18.36s/it]"
     ]
    },
    {
     "name": "stdout",
     "output_type": "stream",
     "text": [
      "[422, 3195, 1112, 327, 123, 1736, 303, 286, 106, 1433]\n"
     ]
    },
    {
     "name": "stderr",
     "output_type": "stream",
     "text": [
      "INFO:root: \n",
      "Avg Training Stats after 31 global rounds:\n",
      "INFO:root:Train Accuracy: 0.00%\n",
      "INFO:root:Training Loss : 0.20451713554198458\n",
      "INFO:root:Test Accuracy: 43.69%\n",
      "INFO:root:Test Loss: 1.5340599793195724 \n",
      "\n",
      " 31%|███       | 31/100 [09:15<20:30, 17.83s/it]"
     ]
    },
    {
     "name": "stdout",
     "output_type": "stream",
     "text": [
      "[862, 173, 422, 303, 123, 1012, 542, 278, 431, 2195]\n"
     ]
    },
    {
     "name": "stderr",
     "output_type": "stream",
     "text": [
      "INFO:root: \n",
      "Avg Training Stats after 32 global rounds:\n",
      "INFO:root:Train Accuracy: 0.00%\n",
      "INFO:root:Training Loss : 0.344582394383987\n",
      "INFO:root:Test Accuracy: 44.07%\n",
      "INFO:root:Test Loss: 1.5237639540433883 \n",
      "\n",
      " 32%|███▏      | 32/100 [09:30<18:56, 16.72s/it]"
     ]
    },
    {
     "name": "stdout",
     "output_type": "stream",
     "text": [
      "[1320, 15, 19, 1756, 231, 470, 267, 87, 862, 327]\n"
     ]
    },
    {
     "name": "stderr",
     "output_type": "stream",
     "text": [
      "INFO:root: \n",
      "Avg Training Stats after 33 global rounds:\n",
      "INFO:root:Train Accuracy: 0.00%\n",
      "INFO:root:Training Loss : 0.3016599370627734\n",
      "INFO:root:Test Accuracy: 44.78%\n",
      "INFO:root:Test Loss: 1.5176785719394683 \n",
      "\n",
      " 33%|███▎      | 33/100 [09:43<17:27, 15.64s/it]"
     ]
    },
    {
     "name": "stdout",
     "output_type": "stream",
     "text": [
      "[87, 267, 796, 1053, 1433, 2575, 1119, 794, 15, 327]\n"
     ]
    },
    {
     "name": "stderr",
     "output_type": "stream",
     "text": [
      "INFO:root: \n",
      "Avg Training Stats after 34 global rounds:\n",
      "INFO:root:Train Accuracy: 0.00%\n",
      "INFO:root:Training Loss : 0.24125880955364093\n",
      "INFO:root:Test Accuracy: 44.92%\n",
      "INFO:root:Test Loss: 1.5100315767526626 \n",
      "\n",
      " 34%|███▍      | 34/100 [09:59<17:18, 15.74s/it]"
     ]
    },
    {
     "name": "stdout",
     "output_type": "stream",
     "text": [
      "[422, 1798, 590, 796, 19, 1320, 173, 1416, 1053, 4600]\n"
     ]
    },
    {
     "name": "stderr",
     "output_type": "stream",
     "text": [
      "INFO:root: \n",
      "Avg Training Stats after 35 global rounds:\n",
      "INFO:root:Train Accuracy: 0.00%\n",
      "INFO:root:Training Loss : 0.32647024395161767\n",
      "INFO:root:Test Accuracy: 45.05%\n",
      "INFO:root:Test Loss: 1.503516716361046 \n",
      "\n",
      " 35%|███▌      | 35/100 [10:18<18:15, 16.85s/it]"
     ]
    },
    {
     "name": "stdout",
     "output_type": "stream",
     "text": [
      "[2430, 1320, 602, 3195, 231, 2934, 431, 794, 1416, 542]\n"
     ]
    },
    {
     "name": "stderr",
     "output_type": "stream",
     "text": [
      "INFO:root: \n",
      "Avg Training Stats after 36 global rounds:\n",
      "INFO:root:Train Accuracy: 0.00%\n",
      "INFO:root:Training Loss : 0.24827066473340692\n",
      "INFO:root:Test Accuracy: 45.67%\n",
      "INFO:root:Test Loss: 1.488717468380928 \n",
      "\n",
      " 36%|███▌      | 36/100 [10:39<19:20, 18.13s/it]"
     ]
    },
    {
     "name": "stdout",
     "output_type": "stream",
     "text": [
      "[15, 813, 1112, 123, 40, 796, 2274, 1018, 2195, 201]\n"
     ]
    },
    {
     "name": "stderr",
     "output_type": "stream",
     "text": [
      "INFO:root: \n",
      "Avg Training Stats after 37 global rounds:\n",
      "INFO:root:Train Accuracy: 0.00%\n",
      "INFO:root:Training Loss : 0.17847555772825432\n",
      "INFO:root:Test Accuracy: 45.81%\n",
      "INFO:root:Test Loss: 1.482109909057617 \n",
      "\n",
      " 37%|███▋      | 37/100 [10:55<18:21, 17.49s/it]"
     ]
    },
    {
     "name": "stdout",
     "output_type": "stream",
     "text": [
      "[303, 2195, 422, 1112, 1433, 116, 796, 602, 1756, 231]\n"
     ]
    },
    {
     "name": "stderr",
     "output_type": "stream",
     "text": [
      "INFO:root: \n",
      "Avg Training Stats after 38 global rounds:\n",
      "INFO:root:Train Accuracy: 0.00%\n",
      "INFO:root:Training Loss : 0.2613104662209906\n",
      "INFO:root:Test Accuracy: 45.77%\n",
      "INFO:root:Test Loss: 1.4816526865959168 \n",
      "\n",
      " 38%|███▊      | 38/100 [11:12<17:46, 17.21s/it]"
     ]
    },
    {
     "name": "stdout",
     "output_type": "stream",
     "text": [
      "[1756, 231, 267, 2430, 590, 1736, 15, 4600, 327, 1112]\n"
     ]
    },
    {
     "name": "stderr",
     "output_type": "stream",
     "text": [
      "INFO:root: \n",
      "Avg Training Stats after 39 global rounds:\n",
      "INFO:root:Train Accuracy: 0.00%\n",
      "INFO:root:Training Loss : 0.23015851534328075\n",
      "INFO:root:Test Accuracy: 46.30%\n",
      "INFO:root:Test Loss: 1.473082286119461 \n",
      "\n",
      " 39%|███▉      | 39/100 [11:32<18:26, 18.14s/it]"
     ]
    },
    {
     "name": "stdout",
     "output_type": "stream",
     "text": [
      "[2575, 422, 3195, 862, 231, 796, 2934, 123, 2430, 794]\n"
     ]
    },
    {
     "name": "stderr",
     "output_type": "stream",
     "text": [
      "INFO:root: \n",
      "Avg Training Stats after 40 global rounds:\n",
      "INFO:root:Train Accuracy: 0.00%\n",
      "INFO:root:Training Loss : 0.2266084990203283\n",
      "INFO:root:Test Accuracy: 46.06%\n",
      "INFO:root:Test Loss: 1.4732202941179275 \n",
      "\n",
      " 40%|████      | 40/100 [11:54<19:07, 19.13s/it]"
     ]
    },
    {
     "name": "stdout",
     "output_type": "stream",
     "text": [
      "[231, 1119, 1736, 278, 447, 1018, 286, 744, 690, 173]\n"
     ]
    },
    {
     "name": "stderr",
     "output_type": "stream",
     "text": [
      "INFO:root: \n",
      "Avg Training Stats after 41 global rounds:\n",
      "INFO:root:Train Accuracy: 0.00%\n",
      "INFO:root:Training Loss : 0.26924849496263004\n",
      "INFO:root:Test Accuracy: 46.46%\n",
      "INFO:root:Test Loss: 1.462398515343666 \n",
      "\n",
      " 41%|████      | 41/100 [12:08<17:25, 17.73s/it]"
     ]
    },
    {
     "name": "stdout",
     "output_type": "stream",
     "text": [
      "[231, 1320, 1416, 2575, 2274, 862, 690, 602, 1012, 173]\n"
     ]
    },
    {
     "name": "stderr",
     "output_type": "stream",
     "text": [
      "INFO:root: \n",
      "Avg Training Stats after 42 global rounds:\n",
      "INFO:root:Train Accuracy: 0.00%\n",
      "INFO:root:Training Loss : 0.2667949790465916\n",
      "INFO:root:Test Accuracy: 47.01%\n",
      "INFO:root:Test Loss: 1.4593420267105102 \n",
      "\n",
      " 42%|████▏     | 42/100 [12:27<17:23, 18.00s/it]"
     ]
    },
    {
     "name": "stdout",
     "output_type": "stream",
     "text": [
      "[1112, 1053, 3195, 2934, 2029, 201, 123, 2195, 1018, 173]\n"
     ]
    },
    {
     "name": "stderr",
     "output_type": "stream",
     "text": [
      "INFO:root: \n",
      "Avg Training Stats after 43 global rounds:\n",
      "INFO:root:Train Accuracy: 0.00%\n",
      "INFO:root:Training Loss : 0.3065857497206313\n",
      "INFO:root:Test Accuracy: 47.92%\n",
      "INFO:root:Test Loss: 1.4472904479503632 \n",
      "\n",
      " 43%|████▎     | 43/100 [12:48<18:02, 18.99s/it]"
     ]
    },
    {
     "name": "stdout",
     "output_type": "stream",
     "text": [
      "[862, 1053, 422, 3195, 4600, 794, 1756, 173, 2029, 1018]\n"
     ]
    },
    {
     "name": "stderr",
     "output_type": "stream",
     "text": [
      "INFO:root: \n",
      "Avg Training Stats after 44 global rounds:\n",
      "INFO:root:Train Accuracy: 0.00%\n",
      "INFO:root:Training Loss : 0.31665807825980796\n",
      "INFO:root:Test Accuracy: 48.53%\n",
      "INFO:root:Test Loss: 1.428177211880684 \n",
      "\n",
      " 44%|████▍     | 44/100 [13:11<18:50, 20.18s/it]"
     ]
    },
    {
     "name": "stdout",
     "output_type": "stream",
     "text": [
      "[1320, 2934, 796, 2195, 862, 2575, 2029, 19, 422, 286]\n"
     ]
    },
    {
     "name": "stderr",
     "output_type": "stream",
     "text": [
      "INFO:root: \n",
      "Avg Training Stats after 45 global rounds:\n",
      "INFO:root:Train Accuracy: 0.00%\n",
      "INFO:root:Training Loss : 0.2198475286828466\n",
      "INFO:root:Test Accuracy: 48.59%\n",
      "INFO:root:Test Loss: 1.42459910094738 \n",
      "\n",
      " 45%|████▌     | 45/100 [13:31<18:36, 20.31s/it]"
     ]
    },
    {
     "name": "stdout",
     "output_type": "stream",
     "text": [
      "[862, 744, 1416, 1112, 590, 542, 278, 690, 116, 1780]\n"
     ]
    },
    {
     "name": "stderr",
     "output_type": "stream",
     "text": [
      "INFO:root: \n",
      "Avg Training Stats after 46 global rounds:\n",
      "INFO:root:Train Accuracy: 0.00%\n",
      "INFO:root:Training Loss : 0.36085489926944425\n",
      "INFO:root:Test Accuracy: 49.03%\n",
      "INFO:root:Test Loss: 1.4220404928922654 \n",
      "\n",
      " 46%|████▌     | 46/100 [13:47<17:02, 18.94s/it]"
     ]
    },
    {
     "name": "stdout",
     "output_type": "stream",
     "text": [
      "[2575, 1112, 1320, 231, 3195, 1012, 862, 447, 2195, 201]\n"
     ]
    },
    {
     "name": "stderr",
     "output_type": "stream",
     "text": [
      "INFO:root: \n",
      "Avg Training Stats after 47 global rounds:\n",
      "INFO:root:Train Accuracy: 0.00%\n",
      "INFO:root:Training Loss : 0.17060318749925799\n",
      "INFO:root:Test Accuracy: 49.30%\n",
      "INFO:root:Test Loss: 1.4137080609798431 \n",
      "\n",
      " 47%|████▋     | 47/100 [14:08<17:05, 19.34s/it]"
     ]
    },
    {
     "name": "stdout",
     "output_type": "stream",
     "text": [
      "[1433, 542, 813, 231, 1119, 2029, 1012, 173, 2195, 1320]\n"
     ]
    },
    {
     "name": "stderr",
     "output_type": "stream",
     "text": [
      "INFO:root: \n",
      "Avg Training Stats after 48 global rounds:\n",
      "INFO:root:Train Accuracy: 0.00%\n",
      "INFO:root:Training Loss : 0.19069676338919042\n",
      "INFO:root:Test Accuracy: 49.39%\n",
      "INFO:root:Test Loss: 1.4156298607587814 \n",
      "\n",
      " 48%|████▊     | 48/100 [14:26<16:28, 19.02s/it]"
     ]
    },
    {
     "name": "stdout",
     "output_type": "stream",
     "text": [
      "[744, 2195, 209, 1780, 2575, 123, 327, 40, 1736, 690]\n"
     ]
    },
    {
     "name": "stderr",
     "output_type": "stream",
     "text": [
      "INFO:root: \n",
      "Avg Training Stats after 49 global rounds:\n",
      "INFO:root:Train Accuracy: 0.00%\n",
      "INFO:root:Training Loss : 0.3171954833319629\n",
      "INFO:root:Test Accuracy: 49.38%\n",
      "INFO:root:Test Loss: 1.4222678726911544 \n",
      "\n",
      " 49%|████▉     | 49/100 [14:44<15:54, 18.72s/it]"
     ]
    },
    {
     "name": "stdout",
     "output_type": "stream",
     "text": [
      "[862, 690, 1433, 173, 3195, 2934, 116, 447, 231, 431]\n"
     ]
    },
    {
     "name": "stderr",
     "output_type": "stream",
     "text": [
      "INFO:root: \n",
      "Avg Training Stats after 50 global rounds:\n",
      "INFO:root:Train Accuracy: 0.00%\n",
      "INFO:root:Training Loss : 0.3369919674527821\n",
      "INFO:root:Test Accuracy: 49.11%\n",
      "INFO:root:Test Loss: 1.410080132484436 \n",
      "\n",
      " 50%|█████     | 50/100 [15:02<15:27, 18.54s/it]"
     ]
    },
    {
     "name": "stdout",
     "output_type": "stream",
     "text": [
      "[1320, 19, 3195, 87, 1756, 303, 813, 2575, 231, 231]\n"
     ]
    },
    {
     "name": "stderr",
     "output_type": "stream",
     "text": [
      "INFO:root: \n",
      "Avg Training Stats after 51 global rounds:\n",
      "INFO:root:Train Accuracy: 0.00%\n",
      "INFO:root:Training Loss : 0.10655038030442723\n",
      "INFO:root:Test Accuracy: 48.94%\n",
      "INFO:root:Test Loss: 1.4099969732761384 \n",
      "\n",
      " 51%|█████     | 51/100 [15:20<15:00, 18.38s/it]"
     ]
    },
    {
     "name": "stdout",
     "output_type": "stream",
     "text": [
      "[40, 813, 1780, 2934, 15, 173, 278, 19, 1798, 267]\n"
     ]
    },
    {
     "name": "stderr",
     "output_type": "stream",
     "text": [
      "INFO:root: \n",
      "Avg Training Stats after 52 global rounds:\n",
      "INFO:root:Train Accuracy: 0.00%\n",
      "INFO:root:Training Loss : 0.21799098619486829\n",
      "INFO:root:Test Accuracy: 49.35%\n",
      "INFO:root:Test Loss: 1.4041747653484344 \n",
      "\n",
      " 52%|█████▏    | 52/100 [15:36<14:02, 17.55s/it]"
     ]
    },
    {
     "name": "stdout",
     "output_type": "stream",
     "text": [
      "[267, 231, 690, 173, 1780, 1053, 862, 590, 1433, 303]\n"
     ]
    },
    {
     "name": "stderr",
     "output_type": "stream",
     "text": [
      "INFO:root: \n",
      "Avg Training Stats after 53 global rounds:\n",
      "INFO:root:Train Accuracy: 0.00%\n",
      "INFO:root:Training Loss : 0.30499836870256003\n",
      "INFO:root:Test Accuracy: 49.68%\n",
      "INFO:root:Test Loss: 1.3964307194948196 \n",
      "\n",
      " 53%|█████▎    | 53/100 [15:51<13:11, 16.84s/it]"
     ]
    },
    {
     "name": "stdout",
     "output_type": "stream",
     "text": [
      "[431, 3195, 201, 796, 2934, 15, 231, 1112, 1736, 267]\n"
     ]
    },
    {
     "name": "stderr",
     "output_type": "stream",
     "text": [
      "INFO:root: \n",
      "Avg Training Stats after 54 global rounds:\n",
      "INFO:root:Train Accuracy: 0.00%\n",
      "INFO:root:Training Loss : 0.22826144111808774\n",
      "INFO:root:Test Accuracy: 49.59%\n",
      "INFO:root:Test Loss: 1.3990919440984726 \n",
      "\n",
      " 54%|█████▍    | 54/100 [16:09<13:14, 17.26s/it]"
     ]
    },
    {
     "name": "stdout",
     "output_type": "stream",
     "text": [
      "[40, 1320, 1416, 286, 2195, 1012, 201, 116, 1053, 542]\n"
     ]
    },
    {
     "name": "stderr",
     "output_type": "stream",
     "text": [
      "INFO:root: \n",
      "Avg Training Stats after 55 global rounds:\n",
      "INFO:root:Train Accuracy: 0.00%\n",
      "INFO:root:Training Loss : 0.31460275458076903\n",
      "INFO:root:Test Accuracy: 49.97%\n",
      "INFO:root:Test Loss: 1.389247055053711 \n",
      "\n",
      " 55%|█████▌    | 55/100 [16:25<12:34, 16.78s/it]"
     ]
    },
    {
     "name": "stdout",
     "output_type": "stream",
     "text": [
      "[1798, 422, 231, 4600, 231, 2575, 1433, 106, 1320, 862]\n"
     ]
    },
    {
     "name": "stderr",
     "output_type": "stream",
     "text": [
      "INFO:root: \n",
      "Avg Training Stats after 56 global rounds:\n",
      "INFO:root:Train Accuracy: 0.00%\n",
      "INFO:root:Training Loss : 0.17694987418823627\n",
      "INFO:root:Test Accuracy: 49.91%\n",
      "INFO:root:Test Loss: 1.3849690467119218 \n",
      "\n",
      " 56%|█████▌    | 56/100 [16:46<13:13, 18.02s/it]"
     ]
    },
    {
     "name": "stdout",
     "output_type": "stream",
     "text": [
      "[2274, 3195, 267, 2029, 590, 327, 2195, 278, 1756, 813]\n"
     ]
    },
    {
     "name": "stderr",
     "output_type": "stream",
     "text": [
      "INFO:root: \n",
      "Avg Training Stats after 57 global rounds:\n",
      "INFO:root:Train Accuracy: 0.00%\n",
      "INFO:root:Training Loss : 0.21879291289973937\n",
      "INFO:root:Test Accuracy: 50.22%\n",
      "INFO:root:Test Loss: 1.3820555210113525 \n",
      "\n",
      " 57%|█████▋    | 57/100 [17:07<13:33, 18.92s/it]"
     ]
    },
    {
     "name": "stdout",
     "output_type": "stream",
     "text": [
      "[1798, 431, 123, 1320, 1416, 231, 2575, 2934, 19, 1756]\n"
     ]
    },
    {
     "name": "stderr",
     "output_type": "stream",
     "text": [
      "INFO:root: \n",
      "Avg Training Stats after 58 global rounds:\n",
      "INFO:root:Train Accuracy: 0.00%\n",
      "INFO:root:Training Loss : 0.19637488885252105\n",
      "INFO:root:Test Accuracy: 50.08%\n",
      "INFO:root:Test Loss: 1.3833418381214142 \n",
      "\n",
      " 58%|█████▊    | 58/100 [17:26<13:26, 19.20s/it]"
     ]
    },
    {
     "name": "stdout",
     "output_type": "stream",
     "text": [
      "[1018, 267, 2274, 447, 2029, 690, 590, 303, 1119, 796]\n"
     ]
    },
    {
     "name": "stderr",
     "output_type": "stream",
     "text": [
      "INFO:root: \n",
      "Avg Training Stats after 59 global rounds:\n",
      "INFO:root:Train Accuracy: 0.00%\n",
      "INFO:root:Training Loss : 0.1710130827004654\n",
      "INFO:root:Test Accuracy: 50.26%\n",
      "INFO:root:Test Loss: 1.3849646854400635 \n",
      "\n",
      " 59%|█████▉    | 59/100 [17:44<12:41, 18.57s/it]"
     ]
    },
    {
     "name": "stdout",
     "output_type": "stream",
     "text": [
      "[106, 2430, 447, 1433, 1012, 3195, 1119, 1756, 862, 4600]\n"
     ]
    },
    {
     "name": "stderr",
     "output_type": "stream",
     "text": [
      "INFO:root: \n",
      "Avg Training Stats after 60 global rounds:\n",
      "INFO:root:Train Accuracy: 0.00%\n",
      "INFO:root:Training Loss : 0.12249541100281389\n",
      "INFO:root:Test Accuracy: 50.61%\n",
      "INFO:root:Test Loss: 1.370345460176468 \n",
      "\n",
      " 60%|██████    | 60/100 [18:07<13:27, 20.18s/it]"
     ]
    },
    {
     "name": "stdout",
     "output_type": "stream",
     "text": [
      "[1780, 1320, 286, 2029, 40, 796, 447, 15, 231, 744]\n"
     ]
    },
    {
     "name": "stderr",
     "output_type": "stream",
     "text": [
      "INFO:root: \n",
      "Avg Training Stats after 61 global rounds:\n",
      "INFO:root:Train Accuracy: 0.00%\n",
      "INFO:root:Training Loss : 0.16890791368795904\n",
      "INFO:root:Test Accuracy: 50.94%\n",
      "INFO:root:Test Loss: 1.3757276743650437 \n",
      "\n",
      " 61%|██████    | 61/100 [18:23<12:10, 18.74s/it]"
     ]
    },
    {
     "name": "stdout",
     "output_type": "stream",
     "text": [
      "[116, 15, 2029, 327, 19, 470, 422, 87, 1012, 303]\n"
     ]
    },
    {
     "name": "stderr",
     "output_type": "stream",
     "text": [
      "INFO:root: \n",
      "Avg Training Stats after 62 global rounds:\n",
      "INFO:root:Train Accuracy: 0.00%\n",
      "INFO:root:Training Loss : 0.2294539051482929\n",
      "INFO:root:Test Accuracy: 50.94%\n",
      "INFO:root:Test Loss: 1.360370551943779 \n",
      "\n",
      " 62%|██████▏   | 62/100 [18:36<10:44, 16.97s/it]"
     ]
    },
    {
     "name": "stdout",
     "output_type": "stream",
     "text": [
      "[796, 2274, 862, 286, 813, 3195, 1112, 422, 1119, 327]\n"
     ]
    },
    {
     "name": "stderr",
     "output_type": "stream",
     "text": [
      "INFO:root: \n",
      "Avg Training Stats after 63 global rounds:\n",
      "INFO:root:Train Accuracy: 0.00%\n",
      "INFO:root:Training Loss : 0.1935155076342639\n",
      "INFO:root:Test Accuracy: 50.99%\n",
      "INFO:root:Test Loss: 1.3566024541854858 \n",
      "\n",
      " 63%|██████▎   | 63/100 [18:54<10:46, 17.48s/it]"
     ]
    },
    {
     "name": "stdout",
     "output_type": "stream",
     "text": [
      "[542, 1798, 690, 15, 267, 2575, 796, 590, 209, 470]\n"
     ]
    },
    {
     "name": "stderr",
     "output_type": "stream",
     "text": [
      "INFO:root: \n",
      "Avg Training Stats after 64 global rounds:\n",
      "INFO:root:Train Accuracy: 0.00%\n",
      "INFO:root:Training Loss : 0.1976384074088773\n",
      "INFO:root:Test Accuracy: 51.17%\n",
      "INFO:root:Test Loss: 1.352979058623314 \n",
      "\n",
      " 64%|██████▍   | 64/100 [19:10<10:09, 16.92s/it]"
     ]
    },
    {
     "name": "stdout",
     "output_type": "stream",
     "text": [
      "[87, 267, 286, 1053, 303, 796, 40, 173, 19, 327]\n"
     ]
    },
    {
     "name": "stderr",
     "output_type": "stream",
     "text": [
      "INFO:root: \n",
      "Avg Training Stats after 65 global rounds:\n",
      "INFO:root:Train Accuracy: 0.00%\n",
      "INFO:root:Training Loss : 0.2800874800738701\n",
      "INFO:root:Test Accuracy: 50.85%\n",
      "INFO:root:Test Loss: 1.3556519204378128 \n",
      "\n",
      " 65%|██████▌   | 65/100 [19:21<08:53, 15.23s/it]"
     ]
    },
    {
     "name": "stdout",
     "output_type": "stream",
     "text": [
      "[813, 542, 106, 123, 4600, 40, 209, 2029, 1736, 2195]\n"
     ]
    },
    {
     "name": "stderr",
     "output_type": "stream",
     "text": [
      "INFO:root: \n",
      "Avg Training Stats after 66 global rounds:\n",
      "INFO:root:Train Accuracy: 0.00%\n",
      "INFO:root:Training Loss : 0.2156481324755295\n",
      "INFO:root:Test Accuracy: 51.63%\n",
      "INFO:root:Test Loss: 1.344318825006485 \n",
      "\n",
      " 66%|██████▌   | 66/100 [19:41<09:23, 16.57s/it]"
     ]
    },
    {
     "name": "stdout",
     "output_type": "stream",
     "text": [
      "[1416, 1320, 201, 744, 2934, 447, 278, 2430, 1018, 2274]\n"
     ]
    },
    {
     "name": "stderr",
     "output_type": "stream",
     "text": [
      "INFO:root: \n",
      "Avg Training Stats after 67 global rounds:\n",
      "INFO:root:Train Accuracy: 0.00%\n",
      "INFO:root:Training Loss : 0.22394217216610207\n",
      "INFO:root:Test Accuracy: 52.00%\n",
      "INFO:root:Test Loss: 1.344121127128601 \n",
      "\n",
      " 67%|██████▋   | 67/100 [20:01<09:45, 17.75s/it]"
     ]
    },
    {
     "name": "stdout",
     "output_type": "stream",
     "text": [
      "[303, 1012, 470, 123, 106, 201, 87, 1736, 2934, 2575]\n"
     ]
    },
    {
     "name": "stderr",
     "output_type": "stream",
     "text": [
      "INFO:root: \n",
      "Avg Training Stats after 68 global rounds:\n",
      "INFO:root:Train Accuracy: 0.00%\n",
      "INFO:root:Training Loss : 0.11463679696178611\n",
      "INFO:root:Test Accuracy: 51.66%\n",
      "INFO:root:Test Loss: 1.345977008342743 \n",
      "\n",
      " 68%|██████▊   | 68/100 [20:19<09:21, 17.55s/it]"
     ]
    },
    {
     "name": "stdout",
     "output_type": "stream",
     "text": [
      "[3195, 794, 690, 2029, 231, 1756, 1112, 1736, 201, 813]\n"
     ]
    },
    {
     "name": "stderr",
     "output_type": "stream",
     "text": [
      "INFO:root: \n",
      "Avg Training Stats after 69 global rounds:\n",
      "INFO:root:Train Accuracy: 0.00%\n",
      "INFO:root:Training Loss : 0.14692686984011563\n",
      "INFO:root:Test Accuracy: 51.44%\n",
      "INFO:root:Test Loss: 1.3446219897270202 \n",
      "\n",
      " 69%|██████▉   | 69/100 [20:39<09:28, 18.33s/it]"
     ]
    },
    {
     "name": "stdout",
     "output_type": "stream",
     "text": [
      "[106, 40, 278, 422, 470, 2029, 2934, 744, 2274, 327]\n"
     ]
    },
    {
     "name": "stderr",
     "output_type": "stream",
     "text": [
      "INFO:root: \n",
      "Avg Training Stats after 70 global rounds:\n",
      "INFO:root:Train Accuracy: 0.00%\n",
      "INFO:root:Training Loss : 0.17835005612312252\n",
      "INFO:root:Test Accuracy: 51.57%\n",
      "INFO:root:Test Loss: 1.3438389384746552 \n",
      "\n",
      " 70%|███████   | 70/100 [20:56<08:58, 17.97s/it]"
     ]
    },
    {
     "name": "stdout",
     "output_type": "stream",
     "text": [
      "[3195, 267, 303, 173, 286, 2029, 422, 1012, 796, 106]\n"
     ]
    },
    {
     "name": "stderr",
     "output_type": "stream",
     "text": [
      "INFO:root: \n",
      "Avg Training Stats after 71 global rounds:\n",
      "INFO:root:Train Accuracy: 0.00%\n",
      "INFO:root:Training Loss : 0.20552597494683233\n",
      "INFO:root:Test Accuracy: 51.41%\n",
      "INFO:root:Test Loss: 1.3436106353998185 \n",
      "\n",
      " 71%|███████   | 71/100 [21:12<08:26, 17.45s/it]"
     ]
    },
    {
     "name": "stdout",
     "output_type": "stream",
     "text": [
      "[209, 40, 4600, 106, 123, 1012, 690, 542, 602, 2575]\n"
     ]
    },
    {
     "name": "stderr",
     "output_type": "stream",
     "text": [
      "INFO:root: \n",
      "Avg Training Stats after 72 global rounds:\n",
      "INFO:root:Train Accuracy: 0.00%\n",
      "INFO:root:Training Loss : 0.179506022703602\n",
      "INFO:root:Test Accuracy: 51.95%\n",
      "INFO:root:Test Loss: 1.3379512739181518 \n",
      "\n",
      " 72%|███████▏  | 72/100 [21:30<08:12, 17.58s/it]"
     ]
    },
    {
     "name": "stdout",
     "output_type": "stream",
     "text": [
      "[1012, 2430, 2274, 209, 1798, 303, 1112, 231, 744, 278]\n"
     ]
    },
    {
     "name": "stderr",
     "output_type": "stream",
     "text": [
      "INFO:root: \n",
      "Avg Training Stats after 73 global rounds:\n",
      "INFO:root:Train Accuracy: 0.00%\n",
      "INFO:root:Training Loss : 0.14542070630170345\n",
      "INFO:root:Test Accuracy: 52.21%\n",
      "INFO:root:Test Loss: 1.3291539716720582 \n",
      "\n",
      " 73%|███████▎  | 73/100 [21:48<07:56, 17.65s/it]"
     ]
    },
    {
     "name": "stdout",
     "output_type": "stream",
     "text": [
      "[447, 1320, 209, 327, 744, 1018, 231, 2430, 590, 602]\n"
     ]
    },
    {
     "name": "stderr",
     "output_type": "stream",
     "text": [
      "INFO:root: \n",
      "Avg Training Stats after 74 global rounds:\n",
      "INFO:root:Train Accuracy: 0.00%\n",
      "INFO:root:Training Loss : 0.24874013734045577\n",
      "INFO:root:Test Accuracy: 52.37%\n",
      "INFO:root:Test Loss: 1.3272371363639832 \n",
      "\n",
      " 74%|███████▍  | 74/100 [22:03<07:22, 17.03s/it]"
     ]
    },
    {
     "name": "stdout",
     "output_type": "stream",
     "text": [
      "[470, 1053, 303, 1012, 106, 3195, 447, 1112, 201, 1433]\n"
     ]
    },
    {
     "name": "stderr",
     "output_type": "stream",
     "text": [
      "INFO:root: \n",
      "Avg Training Stats after 75 global rounds:\n",
      "INFO:root:Train Accuracy: 0.00%\n",
      "INFO:root:Training Loss : 0.10773500499578885\n",
      "INFO:root:Test Accuracy: 52.95%\n",
      "INFO:root:Test Loss: 1.3191614532470703 \n",
      "\n",
      " 75%|███████▌  | 75/100 [22:20<07:04, 16.97s/it]"
     ]
    },
    {
     "name": "stdout",
     "output_type": "stream",
     "text": [
      "[231, 1433, 431, 209, 1416, 1780, 116, 123, 422, 4600]\n"
     ]
    },
    {
     "name": "stderr",
     "output_type": "stream",
     "text": [
      "INFO:root: \n",
      "Avg Training Stats after 76 global rounds:\n",
      "INFO:root:Train Accuracy: 0.00%\n",
      "INFO:root:Training Loss : 0.3464127014041066\n",
      "INFO:root:Test Accuracy: 52.93%\n",
      "INFO:root:Test Loss: 1.3335522049665451 \n",
      "\n",
      " 76%|███████▌  | 76/100 [22:39<06:57, 17.40s/it]"
     ]
    },
    {
     "name": "stdout",
     "output_type": "stream",
     "text": [
      "[2575, 796, 1053, 267, 602, 1018, 201, 1756, 286, 2430]\n"
     ]
    },
    {
     "name": "stderr",
     "output_type": "stream",
     "text": [
      "INFO:root: \n",
      "Avg Training Stats after 77 global rounds:\n",
      "INFO:root:Train Accuracy: 0.00%\n",
      "INFO:root:Training Loss : 0.22350016336875916\n",
      "INFO:root:Test Accuracy: 53.49%\n",
      "INFO:root:Test Loss: 1.3000137054920196 \n",
      "\n",
      " 77%|███████▋  | 77/100 [22:57<06:46, 17.66s/it]"
     ]
    },
    {
     "name": "stdout",
     "output_type": "stream",
     "text": [
      "[15, 2029, 2274, 744, 1018, 1736, 2934, 19, 173, 447]\n"
     ]
    },
    {
     "name": "stderr",
     "output_type": "stream",
     "text": [
      "INFO:root: \n",
      "Avg Training Stats after 78 global rounds:\n",
      "INFO:root:Train Accuracy: 0.00%\n",
      "INFO:root:Training Loss : 0.2136997787521163\n",
      "INFO:root:Test Accuracy: 53.60%\n",
      "INFO:root:Test Loss: 1.3023869895935059 \n",
      "\n",
      " 78%|███████▊  | 78/100 [23:16<06:35, 17.99s/it]"
     ]
    },
    {
     "name": "stdout",
     "output_type": "stream",
     "text": [
      "[542, 602, 173, 201, 590, 690, 422, 2934, 1736, 744]\n"
     ]
    },
    {
     "name": "stderr",
     "output_type": "stream",
     "text": [
      "INFO:root: \n",
      "Avg Training Stats after 79 global rounds:\n",
      "INFO:root:Train Accuracy: 0.00%\n",
      "INFO:root:Training Loss : 0.2800874541920527\n",
      "INFO:root:Test Accuracy: 53.87%\n",
      "INFO:root:Test Loss: 1.2963812917470932 \n",
      "\n",
      " 79%|███████▉  | 79/100 [23:32<06:07, 17.50s/it]"
     ]
    },
    {
     "name": "stdout",
     "output_type": "stream",
     "text": [
      "[201, 278, 40, 1112, 106, 690, 2029, 87, 796, 3195]\n"
     ]
    },
    {
     "name": "stderr",
     "output_type": "stream",
     "text": [
      "INFO:root: \n",
      "Avg Training Stats after 80 global rounds:\n",
      "INFO:root:Train Accuracy: 0.00%\n",
      "INFO:root:Training Loss : 0.10858458760622942\n",
      "INFO:root:Test Accuracy: 53.81%\n",
      "INFO:root:Test Loss: 1.2966361957788468 \n",
      "\n",
      " 80%|████████  | 80/100 [23:48<05:41, 17.07s/it]"
     ]
    },
    {
     "name": "stdout",
     "output_type": "stream",
     "text": [
      "[1798, 15, 201, 123, 1433, 542, 1119, 690, 602, 40]\n"
     ]
    },
    {
     "name": "stderr",
     "output_type": "stream",
     "text": [
      "INFO:root: \n",
      "Avg Training Stats after 81 global rounds:\n",
      "INFO:root:Train Accuracy: 0.00%\n",
      "INFO:root:Training Loss : 0.14549011486817828\n",
      "INFO:root:Test Accuracy: 53.61%\n",
      "INFO:root:Test Loss: 1.2938077980279923 \n",
      "\n",
      " 81%|████████  | 81/100 [24:02<05:08, 16.22s/it]"
     ]
    },
    {
     "name": "stdout",
     "output_type": "stream",
     "text": [
      "[267, 542, 209, 796, 87, 3195, 231, 303, 2934, 1119]\n"
     ]
    },
    {
     "name": "stderr",
     "output_type": "stream",
     "text": [
      "INFO:root: \n",
      "Avg Training Stats after 82 global rounds:\n",
      "INFO:root:Train Accuracy: 0.00%\n",
      "INFO:root:Training Loss : 0.17425262885576873\n",
      "INFO:root:Test Accuracy: 53.46%\n",
      "INFO:root:Test Loss: 1.2970644265413285 \n",
      "\n",
      " 82%|████████▏ | 82/100 [24:20<04:57, 16.54s/it]"
     ]
    },
    {
     "name": "stdout",
     "output_type": "stream",
     "text": [
      "[690, 431, 422, 231, 4600, 2934, 2029, 327, 796, 590]\n"
     ]
    },
    {
     "name": "stderr",
     "output_type": "stream",
     "text": [
      "INFO:root: \n",
      "Avg Training Stats after 83 global rounds:\n",
      "INFO:root:Train Accuracy: 0.00%\n",
      "INFO:root:Training Loss : 0.2161318648014409\n",
      "INFO:root:Test Accuracy: 53.51%\n",
      "INFO:root:Test Loss: 1.2978760540485381 \n",
      "\n",
      " 83%|████████▎ | 83/100 [24:40<05:01, 17.76s/it]"
     ]
    },
    {
     "name": "stdout",
     "output_type": "stream",
     "text": [
      "[231, 1112, 87, 303, 690, 796, 2195, 813, 327, 1018]\n"
     ]
    },
    {
     "name": "stderr",
     "output_type": "stream",
     "text": [
      "INFO:root: \n",
      "Avg Training Stats after 84 global rounds:\n",
      "INFO:root:Train Accuracy: 0.00%\n",
      "INFO:root:Training Loss : 0.19578979274984987\n",
      "INFO:root:Test Accuracy: 54.01%\n",
      "INFO:root:Test Loss: 1.2905950164794922 \n",
      "\n",
      " 84%|████████▍ | 84/100 [24:55<04:32, 17.02s/it]"
     ]
    },
    {
     "name": "stdout",
     "output_type": "stream",
     "text": [
      "[602, 1018, 542, 106, 794, 447, 2029, 1433, 327, 690]\n"
     ]
    },
    {
     "name": "stderr",
     "output_type": "stream",
     "text": [
      "INFO:root: \n",
      "Avg Training Stats after 85 global rounds:\n",
      "INFO:root:Train Accuracy: 0.00%\n",
      "INFO:root:Training Loss : 0.2077816859792681\n",
      "INFO:root:Test Accuracy: 53.51%\n",
      "INFO:root:Test Loss: 1.2926411145925523 \n",
      "\n",
      " 85%|████████▌ | 85/100 [25:11<04:08, 16.55s/it]"
     ]
    },
    {
     "name": "stdout",
     "output_type": "stream",
     "text": [
      "[1433, 267, 447, 1012, 470, 201, 231, 15, 278, 1736]\n"
     ]
    },
    {
     "name": "stderr",
     "output_type": "stream",
     "text": [
      "INFO:root: \n",
      "Avg Training Stats after 86 global rounds:\n",
      "INFO:root:Train Accuracy: 0.00%\n",
      "INFO:root:Training Loss : 0.17706397647151298\n",
      "INFO:root:Test Accuracy: 53.68%\n",
      "INFO:root:Test Loss: 1.2868782824277878 \n",
      "\n",
      " 86%|████████▌ | 86/100 [25:25<03:40, 15.77s/it]"
     ]
    },
    {
     "name": "stdout",
     "output_type": "stream",
     "text": [
      "[40, 1053, 231, 286, 106, 2274, 470, 1119, 447, 1416]\n"
     ]
    },
    {
     "name": "stderr",
     "output_type": "stream",
     "text": [
      "INFO:root: \n",
      "Avg Training Stats after 87 global rounds:\n",
      "INFO:root:Train Accuracy: 0.00%\n",
      "INFO:root:Training Loss : 0.17979432279288346\n",
      "INFO:root:Test Accuracy: 54.46%\n",
      "INFO:root:Test Loss: 1.2797675323486328 \n",
      "\n",
      " 87%|████████▋ | 87/100 [25:40<03:23, 15.62s/it]"
     ]
    },
    {
     "name": "stdout",
     "output_type": "stream",
     "text": [
      "[209, 2029, 231, 278, 1320, 862, 2195, 690, 1736, 106]\n"
     ]
    },
    {
     "name": "stderr",
     "output_type": "stream",
     "text": [
      "INFO:root: \n",
      "Avg Training Stats after 88 global rounds:\n",
      "INFO:root:Train Accuracy: 0.00%\n",
      "INFO:root:Training Loss : 0.20316488739222577\n",
      "INFO:root:Test Accuracy: 54.77%\n",
      "INFO:root:Test Loss: 1.2722198110818863 \n",
      "\n",
      " 88%|████████▊ | 88/100 [25:57<03:13, 16.13s/it]"
     ]
    },
    {
     "name": "stdout",
     "output_type": "stream",
     "text": [
      "[2430, 201, 2195, 2575, 123, 602, 116, 794, 4600, 690]\n"
     ]
    },
    {
     "name": "stderr",
     "output_type": "stream",
     "text": [
      "INFO:root: \n",
      "Avg Training Stats after 89 global rounds:\n",
      "INFO:root:Train Accuracy: 0.00%\n",
      "INFO:root:Training Loss : 0.22980962487260337\n",
      "INFO:root:Test Accuracy: 54.70%\n",
      "INFO:root:Test Loss: 1.2688855320215224 \n",
      "\n",
      " 89%|████████▉ | 89/100 [26:19<03:15, 17.77s/it]"
     ]
    },
    {
     "name": "stdout",
     "output_type": "stream",
     "text": [
      "[470, 303, 278, 87, 1119, 2274, 1780, 19, 4600, 602]\n"
     ]
    },
    {
     "name": "stderr",
     "output_type": "stream",
     "text": [
      "INFO:root: \n",
      "Avg Training Stats after 90 global rounds:\n",
      "INFO:root:Train Accuracy: 0.00%\n",
      "INFO:root:Training Loss : 0.14102615142559577\n",
      "INFO:root:Test Accuracy: 54.72%\n",
      "INFO:root:Test Loss: 1.2711753541231154 \n",
      "\n",
      " 90%|█████████ | 90/100 [26:38<03:01, 18.17s/it]"
     ]
    },
    {
     "name": "stdout",
     "output_type": "stream",
     "text": [
      "[2575, 602, 2029, 327, 209, 4600, 2274, 1756, 431, 1112]\n"
     ]
    },
    {
     "name": "stderr",
     "output_type": "stream",
     "text": [
      "INFO:root: \n",
      "Avg Training Stats after 91 global rounds:\n",
      "INFO:root:Train Accuracy: 0.00%\n",
      "INFO:root:Training Loss : 0.18364879374562568\n",
      "INFO:root:Test Accuracy: 54.74%\n",
      "INFO:root:Test Loss: 1.2671768015623093 \n",
      "\n",
      " 91%|█████████ | 91/100 [27:01<02:56, 19.61s/it]"
     ]
    },
    {
     "name": "stdout",
     "output_type": "stream",
     "text": [
      "[2195, 267, 813, 286, 3195, 470, 231, 278, 1012, 231]\n"
     ]
    },
    {
     "name": "stderr",
     "output_type": "stream",
     "text": [
      "INFO:root: \n",
      "Avg Training Stats after 92 global rounds:\n",
      "INFO:root:Train Accuracy: 0.00%\n",
      "INFO:root:Training Loss : 0.18034575139496956\n",
      "INFO:root:Test Accuracy: 54.67%\n",
      "INFO:root:Test Loss: 1.2664208835363389 \n",
      "\n",
      " 92%|█████████▏| 92/100 [27:18<02:29, 18.69s/it]"
     ]
    },
    {
     "name": "stdout",
     "output_type": "stream",
     "text": [
      "[1053, 2575, 303, 2430, 542, 116, 1756, 1433, 327, 15]\n"
     ]
    },
    {
     "name": "stderr",
     "output_type": "stream",
     "text": [
      "INFO:root: \n",
      "Avg Training Stats after 93 global rounds:\n",
      "INFO:root:Train Accuracy: 0.00%\n",
      "INFO:root:Training Loss : 0.21415867089040552\n",
      "INFO:root:Test Accuracy: 55.04%\n",
      "INFO:root:Test Loss: 1.2546110397577286 \n",
      "\n",
      " 93%|█████████▎| 93/100 [27:36<02:09, 18.45s/it]"
     ]
    },
    {
     "name": "stdout",
     "output_type": "stream",
     "text": [
      "[590, 4600, 201, 286, 303, 1736, 15, 1798, 744, 422]\n"
     ]
    },
    {
     "name": "stderr",
     "output_type": "stream",
     "text": [
      "INFO:root: \n",
      "Avg Training Stats after 94 global rounds:\n",
      "INFO:root:Train Accuracy: 0.00%\n",
      "INFO:root:Training Loss : 0.16526637741840763\n",
      "INFO:root:Test Accuracy: 54.87%\n",
      "INFO:root:Test Loss: 1.2568265062570572 \n",
      "\n",
      " 94%|█████████▍| 94/100 [27:54<01:50, 18.37s/it]"
     ]
    },
    {
     "name": "stdout",
     "output_type": "stream",
     "text": [
      "[123, 862, 542, 19, 794, 1112, 4600, 2934, 231, 15]\n"
     ]
    },
    {
     "name": "stderr",
     "output_type": "stream",
     "text": [
      "INFO:root: \n",
      "Avg Training Stats after 95 global rounds:\n",
      "INFO:root:Train Accuracy: 0.00%\n",
      "INFO:root:Training Loss : 0.1863104395357012\n",
      "INFO:root:Test Accuracy: 55.60%\n",
      "INFO:root:Test Loss: 1.2479183506965636 \n",
      "\n",
      " 95%|█████████▌| 95/100 [28:12<01:32, 18.44s/it]"
     ]
    },
    {
     "name": "stdout",
     "output_type": "stream",
     "text": [
      "[1053, 87, 2575, 4600, 542, 231, 1433, 1012, 2029, 862]\n"
     ]
    },
    {
     "name": "stderr",
     "output_type": "stream",
     "text": [
      "INFO:root: \n",
      "Avg Training Stats after 96 global rounds:\n",
      "INFO:root:Train Accuracy: 0.00%\n",
      "INFO:root:Training Loss : 0.17728272671659612\n",
      "INFO:root:Test Accuracy: 55.79%\n",
      "INFO:root:Test Loss: 1.24166639149189 \n",
      "\n",
      " 96%|█████████▌| 96/100 [28:34<01:17, 19.49s/it]"
     ]
    },
    {
     "name": "stdout",
     "output_type": "stream",
     "text": [
      "[19, 602, 40, 690, 267, 231, 173, 2029, 1798, 3195]\n"
     ]
    },
    {
     "name": "stderr",
     "output_type": "stream",
     "text": [
      "INFO:root: \n",
      "Avg Training Stats after 97 global rounds:\n",
      "INFO:root:Train Accuracy: 0.00%\n",
      "INFO:root:Training Loss : 0.22188181057340245\n",
      "INFO:root:Test Accuracy: 55.56%\n",
      "INFO:root:Test Loss: 1.2431563693284988 \n",
      "\n",
      " 97%|█████████▋| 97/100 [28:51<00:55, 18.59s/it]"
     ]
    },
    {
     "name": "stdout",
     "output_type": "stream",
     "text": [
      "[209, 1012, 422, 40, 794, 4600, 116, 286, 303, 1756]\n"
     ]
    },
    {
     "name": "stderr",
     "output_type": "stream",
     "text": [
      "INFO:root: \n",
      "Avg Training Stats after 98 global rounds:\n",
      "INFO:root:Train Accuracy: 0.00%\n",
      "INFO:root:Training Loss : 0.15958544624685875\n",
      "INFO:root:Test Accuracy: 55.95%\n",
      "INFO:root:Test Loss: 1.2364689511060716 \n",
      "\n",
      " 98%|█████████▊| 98/100 [29:08<00:36, 18.13s/it]"
     ]
    },
    {
     "name": "stdout",
     "output_type": "stream",
     "text": [
      "[2274, 1736, 173, 1416, 447, 19, 2195, 2029, 862, 744]\n"
     ]
    },
    {
     "name": "stderr",
     "output_type": "stream",
     "text": [
      "INFO:root: \n",
      "Avg Training Stats after 99 global rounds:\n",
      "INFO:root:Train Accuracy: 0.00%\n",
      "INFO:root:Training Loss : 0.27927386784821107\n",
      "INFO:root:Test Accuracy: 56.05%\n",
      "INFO:root:Test Loss: 1.2320700889825822 \n",
      "\n",
      " 99%|█████████▉| 99/100 [29:27<00:18, 18.47s/it]"
     ]
    },
    {
     "name": "stdout",
     "output_type": "stream",
     "text": [
      "[431, 1798, 1736, 744, 19, 278, 690, 590, 116, 40]\n"
     ]
    },
    {
     "name": "stderr",
     "output_type": "stream",
     "text": [
      "INFO:root: \n",
      "Avg Training Stats after 100 global rounds:\n",
      "INFO:root:Train Accuracy: 0.00%\n",
      "INFO:root:Training Loss : 0.1872781174844604\n",
      "INFO:root:Test Accuracy: 56.43%\n",
      "INFO:root:Test Loss: 1.227909442782402 \n",
      "\n",
      "100%|██████████| 100/100 [29:41<00:00, 17.82s/it]\n",
      "INFO:root: \n",
      " Results after 100 global rounds of training:\n",
      "INFO:root:|---- Best Test Accuracy: 56.43% , round: 99\n"
     ]
    },
    {
     "name": "stdout",
     "output_type": "stream",
     "text": [
      " Saving checkpoints to ../save/checkpoint/ConvNet_1207/cifar10_ConvNet_none_T[100]_C[0.2]_iid[0]_E[5]_B[32]_GPU[0]_Pruned[0.0]...\n"
     ]
    }
   ],
   "source": [
    " args = easydict.EasyDict({\n",
    "    \"model\": 'ConvNet',\n",
    "    'dataset': 'cifar10',\n",
    "    'gpu': 0,\n",
    "    'iid': 0,\n",
    "    'epochs': 100,\n",
    "    'optimizer': 'sgd',\n",
    "    'seed': 0,\n",
    "    'norm': 'none',\n",
    "    'num_users': 50,\n",
    "    'frac': 0.2,\n",
    "    'local_ep': 5, \n",
    "    'local_bs': 32,\n",
    "    'lr': 0.01,\n",
    "    'momentum': 1,\n",
    "    'kernel_num': 9,\n",
    "    'kernel_sizes': 'centering',\n",
    "    'num_channnels': '1',\n",
    "    'num_filters': 32,\n",
    "    'max_pool': 'True',\n",
    "    'num_classes': 10,\n",
    "    'unequal': 0,\n",
    "    'stopping_rounds': 0,\n",
    "    'verbose': 0,\n",
    "    'hold_normalize': 0,\n",
    "    'save_path': '../save/checkpoint',\n",
    "    'exp_folder': 'ConvNet_1207',\n",
    "    'resume': None,\n",
    "    'server_opt': 'sgd',\n",
    "    'server_lr': 1.0,\n",
    "    'client_decay':0,\n",
    "    'local_decay':0,\n",
    "    'alpha': 0.05,\n",
    "    'server_epoch':0,\n",
    "    'cosine_norm':0, \n",
    "    'only_fc' :0 ,\n",
    "    'loss':'bsm',\n",
    "    'dc_lr':0.0,\n",
    "    'tsne_pred':0,\n",
    "    'pruning': 0.0 })\n",
    "    \n",
    "    \n",
    "    \n",
    "temp = main_test(args)\n",
    "total.append(temp)"
   ]
  },
  {
   "cell_type": "code",
   "execution_count": 9,
   "id": "addressed-anaheim",
   "metadata": {},
   "outputs": [
    {
     "name": "stderr",
     "output_type": "stream",
     "text": [
      "INFO:root:{'model': 'ConvNet', 'dataset': 'cifar10', 'gpu': 0, 'iid': 0, 'epochs': 100, 'optimizer': 'sgd', 'seed': 0, 'norm': 'none', 'num_users': 50, 'frac': 0.2, 'local_ep': 5, 'local_bs': 32, 'lr': 0.01, 'momentum': 1, 'kernel_num': 9, 'kernel_sizes': 'centering', 'num_channnels': '1', 'num_filters': 32, 'max_pool': 'True', 'num_classes': 10, 'unequal': 0, 'stopping_rounds': 0, 'verbose': 0, 'hold_normalize': 0, 'save_path': '../save/checkpoint/ConvNet_1207', 'exp_folder': 'ConvNet_1207', 'resume': None, 'server_opt': 'sgdm', 'server_lr': 1.0, 'client_decay': 0, 'local_decay': 0, 'alpha': 0.05, 'server_epoch': 0, 'cosine_norm': 0, 'only_fc': 0, 'loss': 'bsm', 'dc_lr': 0.0, 'tsne_pred': 0, 'pruning': 0.0}\n"
     ]
    },
    {
     "name": "stdout",
     "output_type": "stream",
     "text": [
      "Files already downloaded and verified\n",
      "Files already downloaded and verified\n",
      "Files already downloaded and verified\n"
     ]
    },
    {
     "name": "stderr",
     "output_type": "stream",
     "text": [
      "INFO:root:ConvNet(\n",
      "  (net_act): ReLU(inplace=True)\n",
      "  (net_pooling): MaxPool2d(kernel_size=2, stride=2, padding=0, dilation=1, ceil_mode=False)\n",
      "  (features): Sequential(\n",
      "    (0): Conv2d(3, 128, kernel_size=(3, 3), stride=(1, 1), padding=(1, 1))\n",
      "    (1): ReLU(inplace=True)\n",
      "    (2): MaxPool2d(kernel_size=2, stride=2, padding=0, dilation=1, ceil_mode=False)\n",
      "    (3): Conv2d(128, 128, kernel_size=(3, 3), stride=(1, 1), padding=(1, 1))\n",
      "    (4): ReLU(inplace=True)\n",
      "    (5): MaxPool2d(kernel_size=2, stride=2, padding=0, dilation=1, ceil_mode=False)\n",
      "    (6): Conv2d(128, 128, kernel_size=(3, 3), stride=(1, 1), padding=(1, 1))\n",
      "    (7): ReLU(inplace=True)\n",
      "    (8): MaxPool2d(kernel_size=2, stride=2, padding=0, dilation=1, ceil_mode=False)\n",
      "  )\n",
      "  (classifier): Linear(in_features=2048, out_features=10, bias=True)\n",
      ")\n",
      "INFO:root:None\n",
      "  0%|          | 0/100 [00:00<?, ?it/s]"
     ]
    },
    {
     "name": "stdout",
     "output_type": "stream",
     "text": [
      "----------------------------------------------------------------\n",
      "        Layer (type)               Output Shape         Param #\n",
      "================================================================\n",
      "            Conv2d-1          [-1, 128, 32, 32]           3,584\n",
      "              ReLU-2          [-1, 128, 32, 32]               0\n",
      "              ReLU-3          [-1, 128, 32, 32]               0\n",
      "         MaxPool2d-4          [-1, 128, 16, 16]               0\n",
      "         MaxPool2d-5          [-1, 128, 16, 16]               0\n",
      "            Conv2d-6          [-1, 128, 16, 16]         147,584\n",
      "              ReLU-7          [-1, 128, 16, 16]               0\n",
      "              ReLU-8          [-1, 128, 16, 16]               0\n",
      "         MaxPool2d-9            [-1, 128, 8, 8]               0\n",
      "        MaxPool2d-10            [-1, 128, 8, 8]               0\n",
      "           Conv2d-11            [-1, 128, 8, 8]         147,584\n",
      "             ReLU-12            [-1, 128, 8, 8]               0\n",
      "             ReLU-13            [-1, 128, 8, 8]               0\n",
      "        MaxPool2d-14            [-1, 128, 4, 4]               0\n",
      "        MaxPool2d-15            [-1, 128, 4, 4]               0\n",
      "           Linear-16                   [-1, 10]          20,490\n",
      "================================================================\n",
      "Total params: 319,242\n",
      "Trainable params: 319,242\n",
      "Non-trainable params: 0\n",
      "----------------------------------------------------------------\n",
      "Input size (MB): 0.01\n",
      "Forward/backward pass size (MB): 4.59\n",
      "Params size (MB): 1.22\n",
      "Estimated Total Size (MB): 5.82\n",
      "----------------------------------------------------------------\n",
      "[209, 1756, 422, 2575, 1018, 602, 2274, 447, 744, 1112, 123, 87, 1433, 1416, 40, 1119, 796, 794, 327, 470, 231, 813, 1320, 542, 690, 2195, 2934, 106, 1012, 15, 278, 1798, 303, 590, 2029, 201, 1053, 862, 231, 116, 4600, 19, 286, 1736, 2430, 431, 3195, 1780, 173, 267]\n",
      "[470, 2934, 201, 231, 2575, 744, 15, 123, 1119, 4600]\n"
     ]
    },
    {
     "name": "stderr",
     "output_type": "stream",
     "text": [
      "INFO:root: \n",
      "Avg Training Stats after 1 global rounds:\n",
      "INFO:root:Train Accuracy: 0.00%\n",
      "INFO:root:Training Loss : 0.2699333595383997\n",
      "INFO:root:Test Accuracy: 16.24%\n",
      "INFO:root:Test Loss: 2.289612264633179 \n",
      "\n",
      "  1%|          | 1/100 [00:21<35:34, 21.56s/it]"
     ]
    },
    {
     "name": "stdout",
     "output_type": "stream",
     "text": [
      "[231, 173, 2575, 1736, 2430, 123, 4600, 690, 1012, 447]\n"
     ]
    },
    {
     "name": "stderr",
     "output_type": "stream",
     "text": [
      "INFO:root: \n",
      "Avg Training Stats after 2 global rounds:\n",
      "INFO:root:Train Accuracy: 0.00%\n",
      "INFO:root:Training Loss : 0.4781885700962202\n",
      "INFO:root:Test Accuracy: 22.65%\n",
      "INFO:root:Test Loss: 2.1851272428035737 \n",
      "\n",
      "  2%|▏         | 2/100 [00:43<35:45, 21.89s/it]"
     ]
    },
    {
     "name": "stdout",
     "output_type": "stream",
     "text": [
      "[744, 2575, 1320, 470, 2430, 2274, 267, 690, 209, 303]\n"
     ]
    },
    {
     "name": "stderr",
     "output_type": "stream",
     "text": [
      "INFO:root: \n",
      "Avg Training Stats after 3 global rounds:\n",
      "INFO:root:Train Accuracy: 0.00%\n",
      "INFO:root:Training Loss : 0.36186737328403085\n",
      "INFO:root:Test Accuracy: 23.75%\n",
      "INFO:root:Test Loss: 2.0536749601364135 \n",
      "\n",
      "  3%|▎         | 3/100 [01:03<33:50, 20.93s/it]"
     ]
    },
    {
     "name": "stdout",
     "output_type": "stream",
     "text": [
      "[173, 690, 542, 1012, 2195, 1780, 1053, 87, 2934, 1736]\n"
     ]
    },
    {
     "name": "stderr",
     "output_type": "stream",
     "text": [
      "INFO:root: \n",
      "Avg Training Stats after 4 global rounds:\n",
      "INFO:root:Train Accuracy: 0.00%\n",
      "INFO:root:Training Loss : 0.505023163829361\n",
      "INFO:root:Test Accuracy: 27.32%\n",
      "INFO:root:Test Loss: 2.0772486424446104 \n",
      "\n",
      "  4%|▍         | 4/100 [01:24<33:16, 20.80s/it]"
     ]
    },
    {
     "name": "stdout",
     "output_type": "stream",
     "text": [
      "[2430, 2575, 1736, 123, 15, 1780, 1018, 231, 87, 794]\n"
     ]
    },
    {
     "name": "stderr",
     "output_type": "stream",
     "text": [
      "INFO:root: \n",
      "Avg Training Stats after 5 global rounds:\n",
      "INFO:root:Train Accuracy: 0.00%\n",
      "INFO:root:Training Loss : 0.34550437430564485\n",
      "INFO:root:Test Accuracy: 28.80%\n",
      "INFO:root:Test Loss: 2.201353243589401 \n",
      "\n",
      "  5%|▌         | 5/100 [01:43<31:58, 20.19s/it]"
     ]
    },
    {
     "name": "stdout",
     "output_type": "stream",
     "text": [
      "[1119, 87, 590, 794, 813, 303, 1320, 690, 1018, 422]\n"
     ]
    },
    {
     "name": "stderr",
     "output_type": "stream",
     "text": [
      "INFO:root: \n",
      "Avg Training Stats after 6 global rounds:\n",
      "INFO:root:Train Accuracy: 0.00%\n",
      "INFO:root:Training Loss : 0.25688278306908613\n",
      "INFO:root:Test Accuracy: 29.85%\n",
      "INFO:root:Test Loss: 2.36730710208416 \n",
      "\n",
      "  6%|▌         | 6/100 [01:59<29:28, 18.81s/it]"
     ]
    },
    {
     "name": "stdout",
     "output_type": "stream",
     "text": [
      "[2029, 1433, 303, 327, 744, 862, 2934, 231, 1416, 278]\n"
     ]
    },
    {
     "name": "stderr",
     "output_type": "stream",
     "text": [
      "INFO:root: \n",
      "Avg Training Stats after 7 global rounds:\n",
      "INFO:root:Train Accuracy: 0.00%\n",
      "INFO:root:Training Loss : 0.38072991455402944\n",
      "INFO:root:Test Accuracy: 30.38%\n",
      "INFO:root:Test Loss: 2.4124157071113586 \n",
      "\n",
      "  7%|▋         | 7/100 [02:18<29:19, 18.92s/it]"
     ]
    },
    {
     "name": "stdout",
     "output_type": "stream",
     "text": [
      "[231, 1112, 327, 744, 286, 422, 15, 1798, 1053, 173]\n"
     ]
    },
    {
     "name": "stderr",
     "output_type": "stream",
     "text": [
      "INFO:root: \n",
      "Avg Training Stats after 8 global rounds:\n",
      "INFO:root:Train Accuracy: 0.00%\n",
      "INFO:root:Training Loss : 0.39266121800297177\n",
      "INFO:root:Test Accuracy: 32.57%\n",
      "INFO:root:Test Loss: 2.1119435662031174 \n",
      "\n",
      "  8%|▊         | 8/100 [02:33<27:01, 17.63s/it]"
     ]
    },
    {
     "name": "stdout",
     "output_type": "stream",
     "text": [
      "[794, 278, 744, 862, 303, 19, 2274, 1053, 813, 1012]\n"
     ]
    },
    {
     "name": "stderr",
     "output_type": "stream",
     "text": [
      "INFO:root: \n",
      "Avg Training Stats after 9 global rounds:\n",
      "INFO:root:Train Accuracy: 0.00%\n",
      "INFO:root:Training Loss : 0.20616867003606837\n",
      "INFO:root:Test Accuracy: 32.65%\n",
      "INFO:root:Test Loss: 2.0874821197986604 \n",
      "\n",
      "  9%|▉         | 9/100 [02:50<26:24, 17.41s/it]"
     ]
    },
    {
     "name": "stdout",
     "output_type": "stream",
     "text": [
      "[1320, 40, 1756, 470, 327, 1012, 862, 1433, 796, 231]\n"
     ]
    },
    {
     "name": "stderr",
     "output_type": "stream",
     "text": [
      "INFO:root: \n",
      "Avg Training Stats after 10 global rounds:\n",
      "INFO:root:Train Accuracy: 0.00%\n",
      "INFO:root:Training Loss : 0.19057348112948622\n",
      "INFO:root:Test Accuracy: 31.87%\n",
      "INFO:root:Test Loss: 2.0842780125141145 \n",
      "\n",
      " 10%|█         | 10/100 [03:07<25:49, 17.22s/it]"
     ]
    },
    {
     "name": "stdout",
     "output_type": "stream",
     "text": [
      "[87, 201, 1798, 813, 123, 2934, 1756, 231, 1053, 4600]\n"
     ]
    },
    {
     "name": "stderr",
     "output_type": "stream",
     "text": [
      "INFO:root: \n",
      "Avg Training Stats after 11 global rounds:\n",
      "INFO:root:Train Accuracy: 0.00%\n",
      "INFO:root:Training Loss : 0.26306390777743616\n",
      "INFO:root:Test Accuracy: 37.41%\n",
      "INFO:root:Test Loss: 1.7748104226589203 \n",
      "\n",
      " 11%|█         | 11/100 [03:28<27:37, 18.63s/it]"
     ]
    },
    {
     "name": "stdout",
     "output_type": "stream",
     "text": [
      "[106, 231, 447, 796, 209, 1798, 1112, 1416, 590, 794]\n"
     ]
    },
    {
     "name": "stderr",
     "output_type": "stream",
     "text": [
      "INFO:root: \n",
      "Avg Training Stats after 12 global rounds:\n",
      "INFO:root:Train Accuracy: 0.00%\n",
      "INFO:root:Training Loss : 0.1774652816020932\n",
      "INFO:root:Test Accuracy: 38.23%\n",
      "INFO:root:Test Loss: 1.6909948587417603 \n",
      "\n",
      " 12%|█▏        | 12/100 [03:45<26:18, 17.94s/it]"
     ]
    },
    {
     "name": "stdout",
     "output_type": "stream",
     "text": [
      "[1320, 278, 862, 2274, 1798, 87, 2029, 796, 1018, 2430]\n"
     ]
    },
    {
     "name": "stderr",
     "output_type": "stream",
     "text": [
      "INFO:root: \n",
      "Avg Training Stats after 13 global rounds:\n",
      "INFO:root:Train Accuracy: 0.00%\n",
      "INFO:root:Training Loss : 0.20566697391863137\n",
      "INFO:root:Test Accuracy: 37.91%\n",
      "INFO:root:Test Loss: 1.7280508238077164 \n",
      "\n",
      " 13%|█▎        | 13/100 [04:06<27:26, 18.93s/it]"
     ]
    },
    {
     "name": "stdout",
     "output_type": "stream",
     "text": [
      "[4600, 2575, 590, 173, 2430, 40, 1112, 87, 231, 2195]\n"
     ]
    },
    {
     "name": "stderr",
     "output_type": "stream",
     "text": [
      "INFO:root: \n",
      "Avg Training Stats after 14 global rounds:\n",
      "INFO:root:Train Accuracy: 0.00%\n",
      "INFO:root:Training Loss : 0.2618710574502533\n",
      "INFO:root:Test Accuracy: 38.54%\n",
      "INFO:root:Test Loss: 1.762632759809494 \n",
      "\n",
      " 14%|█▍        | 14/100 [04:28<28:35, 19.95s/it]"
     ]
    },
    {
     "name": "stdout",
     "output_type": "stream",
     "text": [
      "[231, 794, 1018, 1012, 15, 303, 796, 2274, 1320, 19]\n"
     ]
    },
    {
     "name": "stderr",
     "output_type": "stream",
     "text": [
      "INFO:root: \n",
      "Avg Training Stats after 15 global rounds:\n",
      "INFO:root:Train Accuracy: 0.00%\n",
      "INFO:root:Training Loss : 0.15943740026734562\n",
      "INFO:root:Test Accuracy: 41.08%\n",
      "INFO:root:Test Loss: 1.7161104917526244 \n",
      "\n",
      " 15%|█▌        | 15/100 [04:44<26:40, 18.82s/it]"
     ]
    },
    {
     "name": "stdout",
     "output_type": "stream",
     "text": [
      "[2195, 40, 2029, 862, 2575, 1433, 447, 19, 4600, 796]\n"
     ]
    },
    {
     "name": "stderr",
     "output_type": "stream",
     "text": [
      "INFO:root: \n",
      "Avg Training Stats after 16 global rounds:\n",
      "INFO:root:Train Accuracy: 0.00%\n",
      "INFO:root:Training Loss : 0.18630642823066615\n",
      "INFO:root:Test Accuracy: 43.67%\n",
      "INFO:root:Test Loss: 1.6249093949794768 \n",
      "\n",
      " 16%|█▌        | 16/100 [05:08<28:11, 20.14s/it]"
     ]
    },
    {
     "name": "stdout",
     "output_type": "stream",
     "text": [
      "[231, 173, 303, 2274, 796, 116, 1798, 447, 106, 1433]\n"
     ]
    },
    {
     "name": "stderr",
     "output_type": "stream",
     "text": [
      "INFO:root: \n",
      "Avg Training Stats after 17 global rounds:\n",
      "INFO:root:Train Accuracy: 0.00%\n",
      "INFO:root:Training Loss : 0.17360103313482128\n",
      "INFO:root:Test Accuracy: 43.69%\n",
      "INFO:root:Test Loss: 1.6035395878553391 \n",
      "\n",
      " 17%|█▋        | 17/100 [05:24<26:22, 19.07s/it]"
     ]
    },
    {
     "name": "stdout",
     "output_type": "stream",
     "text": [
      "[201, 1756, 796, 1320, 813, 542, 116, 173, 794, 1798]\n"
     ]
    },
    {
     "name": "stderr",
     "output_type": "stream",
     "text": [
      "INFO:root: \n",
      "Avg Training Stats after 18 global rounds:\n",
      "INFO:root:Train Accuracy: 0.00%\n",
      "INFO:root:Training Loss : 0.22976793776349003\n",
      "INFO:root:Test Accuracy: 44.40%\n",
      "INFO:root:Test Loss: 1.5332501047849656 \n",
      "\n",
      " 18%|█▊        | 18/100 [05:41<25:14, 18.47s/it]"
     ]
    },
    {
     "name": "stdout",
     "output_type": "stream",
     "text": [
      "[15, 1780, 19, 744, 2575, 173, 813, 40, 1320, 422]\n"
     ]
    },
    {
     "name": "stderr",
     "output_type": "stream",
     "text": [
      "INFO:root: \n",
      "Avg Training Stats after 19 global rounds:\n",
      "INFO:root:Train Accuracy: 0.00%\n",
      "INFO:root:Training Loss : 0.22767214531299537\n",
      "INFO:root:Test Accuracy: 42.10%\n",
      "INFO:root:Test Loss: 1.550923089981079 \n",
      "\n",
      " 19%|█▉        | 19/100 [05:58<24:01, 17.80s/it]"
     ]
    },
    {
     "name": "stdout",
     "output_type": "stream",
     "text": [
      "[813, 1736, 15, 1433, 267, 470, 3195, 744, 2575, 231]\n"
     ]
    },
    {
     "name": "stderr",
     "output_type": "stream",
     "text": [
      "INFO:root: \n",
      "Avg Training Stats after 20 global rounds:\n",
      "INFO:root:Train Accuracy: 0.00%\n",
      "INFO:root:Training Loss : 0.15789746208144337\n",
      "INFO:root:Test Accuracy: 39.72%\n",
      "INFO:root:Test Loss: 1.6072009694576264 \n",
      "\n",
      " 20%|██        | 20/100 [06:17<24:32, 18.41s/it]"
     ]
    },
    {
     "name": "stdout",
     "output_type": "stream",
     "text": [
      "[278, 744, 1053, 447, 1320, 116, 1798, 19, 4600, 3195]\n"
     ]
    },
    {
     "name": "stderr",
     "output_type": "stream",
     "text": [
      "INFO:root: \n",
      "Avg Training Stats after 21 global rounds:\n",
      "INFO:root:Train Accuracy: 0.00%\n",
      "INFO:root:Training Loss : 0.242214688327203\n",
      "INFO:root:Test Accuracy: 44.24%\n",
      "INFO:root:Test Loss: 1.5241887617111205 \n",
      "\n",
      " 21%|██        | 21/100 [06:39<25:35, 19.44s/it]"
     ]
    },
    {
     "name": "stdout",
     "output_type": "stream",
     "text": [
      "[813, 2029, 602, 590, 1756, 106, 1780, 40, 19, 2934]\n"
     ]
    },
    {
     "name": "stderr",
     "output_type": "stream",
     "text": [
      "INFO:root: \n",
      "Avg Training Stats after 22 global rounds:\n",
      "INFO:root:Train Accuracy: 0.00%\n",
      "INFO:root:Training Loss : 0.12291363080040092\n",
      "INFO:root:Test Accuracy: 49.44%\n",
      "INFO:root:Test Loss: 1.4056120830774308 \n",
      "\n",
      " 22%|██▏       | 22/100 [06:58<25:12, 19.39s/it]"
     ]
    },
    {
     "name": "stdout",
     "output_type": "stream",
     "text": [
      "[40, 862, 327, 1780, 2274, 106, 1053, 1112, 1012, 3195]\n"
     ]
    },
    {
     "name": "stderr",
     "output_type": "stream",
     "text": [
      "INFO:root: \n",
      "Avg Training Stats after 23 global rounds:\n",
      "INFO:root:Train Accuracy: 0.00%\n",
      "INFO:root:Training Loss : 0.2060604482578332\n",
      "INFO:root:Test Accuracy: 51.45%\n",
      "INFO:root:Test Loss: 1.3633758482336997 \n",
      "\n",
      " 23%|██▎       | 23/100 [07:19<25:10, 19.62s/it]"
     ]
    },
    {
     "name": "stdout",
     "output_type": "stream",
     "text": [
      "[1320, 1119, 862, 744, 1053, 87, 201, 470, 2274, 1012]\n"
     ]
    },
    {
     "name": "stderr",
     "output_type": "stream",
     "text": [
      "INFO:root: \n",
      "Avg Training Stats after 24 global rounds:\n",
      "INFO:root:Train Accuracy: 0.00%\n",
      "INFO:root:Training Loss : 0.18193645708291795\n",
      "INFO:root:Test Accuracy: 51.57%\n",
      "INFO:root:Test Loss: 1.379480414390564 \n",
      "\n",
      " 24%|██▍       | 24/100 [07:37<24:15, 19.15s/it]"
     ]
    },
    {
     "name": "stdout",
     "output_type": "stream",
     "text": [
      "[447, 286, 1416, 87, 796, 1798, 231, 1119, 431, 2195]\n"
     ]
    },
    {
     "name": "stderr",
     "output_type": "stream",
     "text": [
      "INFO:root: \n",
      "Avg Training Stats after 25 global rounds:\n",
      "INFO:root:Train Accuracy: 0.00%\n",
      "INFO:root:Training Loss : 0.23212238669613372\n",
      "INFO:root:Test Accuracy: 52.55%\n",
      "INFO:root:Test Loss: 1.3509711229801178 \n",
      "\n",
      " 25%|██▌       | 25/100 [07:54<23:19, 18.66s/it]"
     ]
    },
    {
     "name": "stdout",
     "output_type": "stream",
     "text": [
      "[116, 2029, 690, 1416, 1780, 602, 2575, 1756, 431, 87]\n"
     ]
    },
    {
     "name": "stderr",
     "output_type": "stream",
     "text": [
      "INFO:root: \n",
      "Avg Training Stats after 26 global rounds:\n",
      "INFO:root:Train Accuracy: 0.00%\n",
      "INFO:root:Training Loss : 0.2647739223696597\n",
      "INFO:root:Test Accuracy: 53.58%\n",
      "INFO:root:Test Loss: 1.2977935135364533 \n",
      "\n",
      " 26%|██▌       | 26/100 [08:14<23:26, 19.00s/it]"
     ]
    },
    {
     "name": "stdout",
     "output_type": "stream",
     "text": [
      "[87, 173, 2029, 19, 4600, 2195, 116, 303, 40, 209]\n"
     ]
    },
    {
     "name": "stderr",
     "output_type": "stream",
     "text": [
      "INFO:root: \n",
      "Avg Training Stats after 27 global rounds:\n",
      "INFO:root:Train Accuracy: 0.00%\n",
      "INFO:root:Training Loss : 0.23809818574944686\n",
      "INFO:root:Test Accuracy: 54.52%\n",
      "INFO:root:Test Loss: 1.270207360982895 \n",
      "\n",
      " 27%|██▋       | 27/100 [08:32<22:52, 18.80s/it]"
     ]
    },
    {
     "name": "stdout",
     "output_type": "stream",
     "text": [
      "[4600, 267, 794, 231, 201, 231, 2934, 590, 470, 173]\n"
     ]
    },
    {
     "name": "stderr",
     "output_type": "stream",
     "text": [
      "INFO:root: \n",
      "Avg Training Stats after 28 global rounds:\n",
      "INFO:root:Train Accuracy: 0.00%\n",
      "INFO:root:Training Loss : 0.21306459212228787\n",
      "INFO:root:Test Accuracy: 54.70%\n",
      "INFO:root:Test Loss: 1.2589702904224396 \n",
      "\n",
      " 28%|██▊       | 28/100 [08:52<22:55, 19.10s/it]"
     ]
    },
    {
     "name": "stdout",
     "output_type": "stream",
     "text": [
      "[1798, 286, 123, 1112, 303, 796, 744, 1320, 231, 794]\n"
     ]
    },
    {
     "name": "stderr",
     "output_type": "stream",
     "text": [
      "INFO:root: \n",
      "Avg Training Stats after 29 global rounds:\n",
      "INFO:root:Train Accuracy: 0.00%\n",
      "INFO:root:Training Loss : 0.08769543390215839\n",
      "INFO:root:Test Accuracy: 55.26%\n",
      "INFO:root:Test Loss: 1.2475163328647614 \n",
      "\n",
      " 29%|██▉       | 29/100 [09:08<21:34, 18.23s/it]"
     ]
    },
    {
     "name": "stdout",
     "output_type": "stream",
     "text": [
      "[303, 4600, 1119, 447, 744, 40, 1756, 2430, 2029, 602]\n"
     ]
    },
    {
     "name": "stderr",
     "output_type": "stream",
     "text": [
      "INFO:root: \n",
      "Avg Training Stats after 30 global rounds:\n",
      "INFO:root:Train Accuracy: 0.00%\n",
      "INFO:root:Training Loss : 0.10803338057264336\n",
      "INFO:root:Test Accuracy: 55.75%\n",
      "INFO:root:Test Loss: 1.229518610239029 \n",
      "\n",
      " 30%|███       | 30/100 [09:31<22:41, 19.45s/it]"
     ]
    },
    {
     "name": "stdout",
     "output_type": "stream",
     "text": [
      "[422, 3195, 1112, 327, 123, 1736, 303, 286, 106, 1433]\n"
     ]
    },
    {
     "name": "stderr",
     "output_type": "stream",
     "text": [
      "INFO:root: \n",
      "Avg Training Stats after 31 global rounds:\n",
      "INFO:root:Train Accuracy: 0.00%\n",
      "INFO:root:Training Loss : 0.14691005818822048\n",
      "INFO:root:Test Accuracy: 56.88%\n",
      "INFO:root:Test Loss: 1.2082066607475281 \n",
      "\n",
      " 31%|███       | 31/100 [09:48<21:42, 18.88s/it]"
     ]
    },
    {
     "name": "stdout",
     "output_type": "stream",
     "text": [
      "[862, 173, 422, 303, 123, 1012, 542, 278, 431, 2195]\n"
     ]
    },
    {
     "name": "stderr",
     "output_type": "stream",
     "text": [
      "INFO:root: \n",
      "Avg Training Stats after 32 global rounds:\n",
      "INFO:root:Train Accuracy: 0.00%\n",
      "INFO:root:Training Loss : 0.24693501335239848\n",
      "INFO:root:Test Accuracy: 57.68%\n",
      "INFO:root:Test Loss: 1.1924910247325897 \n",
      "\n",
      " 32%|███▏      | 32/100 [10:03<20:10, 17.80s/it]"
     ]
    },
    {
     "name": "stdout",
     "output_type": "stream",
     "text": [
      "[1320, 15, 19, 1756, 231, 470, 267, 87, 862, 327]\n"
     ]
    },
    {
     "name": "stderr",
     "output_type": "stream",
     "text": [
      "INFO:root: \n",
      "Avg Training Stats after 33 global rounds:\n",
      "INFO:root:Train Accuracy: 0.00%\n",
      "INFO:root:Training Loss : 0.20440242742761713\n",
      "INFO:root:Test Accuracy: 57.67%\n",
      "INFO:root:Test Loss: 1.1925571554899215 \n",
      "\n",
      " 33%|███▎      | 33/100 [10:17<18:34, 16.64s/it]"
     ]
    },
    {
     "name": "stdout",
     "output_type": "stream",
     "text": [
      "[87, 267, 796, 1053, 1433, 2575, 1119, 794, 15, 327]\n"
     ]
    },
    {
     "name": "stderr",
     "output_type": "stream",
     "text": [
      "INFO:root: \n",
      "Avg Training Stats after 34 global rounds:\n",
      "INFO:root:Train Accuracy: 0.00%\n",
      "INFO:root:Training Loss : 0.15756725604267138\n",
      "INFO:root:Test Accuracy: 57.40%\n",
      "INFO:root:Test Loss: 1.2133832576870918 \n",
      "\n",
      " 34%|███▍      | 34/100 [10:34<18:24, 16.73s/it]"
     ]
    },
    {
     "name": "stdout",
     "output_type": "stream",
     "text": [
      "[422, 1798, 590, 796, 19, 1320, 173, 1416, 1053, 4600]\n"
     ]
    },
    {
     "name": "stderr",
     "output_type": "stream",
     "text": [
      "INFO:root: \n",
      "Avg Training Stats after 35 global rounds:\n",
      "INFO:root:Train Accuracy: 0.00%\n",
      "INFO:root:Training Loss : 0.20293158650166082\n",
      "INFO:root:Test Accuracy: 56.92%\n",
      "INFO:root:Test Loss: 1.2268823552131654 \n",
      "\n",
      " 35%|███▌      | 35/100 [10:55<19:26, 17.94s/it]"
     ]
    },
    {
     "name": "stdout",
     "output_type": "stream",
     "text": [
      "[2430, 1320, 602, 3195, 231, 2934, 431, 794, 1416, 542]\n"
     ]
    },
    {
     "name": "stderr",
     "output_type": "stream",
     "text": [
      "INFO:root: \n",
      "Avg Training Stats after 36 global rounds:\n",
      "INFO:root:Train Accuracy: 0.00%\n",
      "INFO:root:Training Loss : 0.15950153609353285\n",
      "INFO:root:Test Accuracy: 57.15%\n",
      "INFO:root:Test Loss: 1.2208728647232057 \n",
      "\n",
      " 36%|███▌      | 36/100 [11:17<20:28, 19.20s/it]"
     ]
    },
    {
     "name": "stdout",
     "output_type": "stream",
     "text": [
      "[15, 813, 1112, 123, 40, 796, 2274, 1018, 2195, 201]\n"
     ]
    },
    {
     "name": "stderr",
     "output_type": "stream",
     "text": [
      "INFO:root: \n",
      "Avg Training Stats after 37 global rounds:\n",
      "INFO:root:Train Accuracy: 0.00%\n",
      "INFO:root:Training Loss : 0.11493394865903186\n",
      "INFO:root:Test Accuracy: 58.15%\n",
      "INFO:root:Test Loss: 1.1916511484980583 \n",
      "\n",
      " 37%|███▋      | 37/100 [11:34<19:30, 18.57s/it]"
     ]
    },
    {
     "name": "stdout",
     "output_type": "stream",
     "text": [
      "[303, 2195, 422, 1112, 1433, 116, 796, 602, 1756, 231]\n"
     ]
    },
    {
     "name": "stderr",
     "output_type": "stream",
     "text": [
      "INFO:root: \n",
      "Avg Training Stats after 38 global rounds:\n",
      "INFO:root:Train Accuracy: 0.00%\n",
      "INFO:root:Training Loss : 0.15286497478575317\n",
      "INFO:root:Test Accuracy: 60.26%\n",
      "INFO:root:Test Loss: 1.1361729291081428 \n",
      "\n",
      " 38%|███▊      | 38/100 [11:52<18:55, 18.31s/it]"
     ]
    },
    {
     "name": "stdout",
     "output_type": "stream",
     "text": [
      "[1756, 231, 267, 2430, 590, 1736, 15, 4600, 327, 1112]\n"
     ]
    },
    {
     "name": "stderr",
     "output_type": "stream",
     "text": [
      "INFO:root: \n",
      "Avg Training Stats after 39 global rounds:\n",
      "INFO:root:Train Accuracy: 0.00%\n",
      "INFO:root:Training Loss : 0.13939193502977626\n",
      "INFO:root:Test Accuracy: 61.28%\n",
      "INFO:root:Test Loss: 1.1125415137410164 \n",
      "\n",
      " 39%|███▉      | 39/100 [12:13<19:32, 19.22s/it]"
     ]
    },
    {
     "name": "stdout",
     "output_type": "stream",
     "text": [
      "[2575, 422, 3195, 862, 231, 796, 2934, 123, 2430, 794]\n"
     ]
    },
    {
     "name": "stderr",
     "output_type": "stream",
     "text": [
      "INFO:root: \n",
      "Avg Training Stats after 40 global rounds:\n",
      "INFO:root:Train Accuracy: 0.00%\n",
      "INFO:root:Training Loss : 0.1363918724342204\n",
      "INFO:root:Test Accuracy: 59.65%\n",
      "INFO:root:Test Loss: 1.1581614312529565 \n",
      "\n",
      " 40%|████      | 40/100 [12:36<20:12, 20.21s/it]"
     ]
    },
    {
     "name": "stdout",
     "output_type": "stream",
     "text": [
      "[231, 1119, 1736, 278, 447, 1018, 286, 744, 690, 173]\n"
     ]
    },
    {
     "name": "stderr",
     "output_type": "stream",
     "text": [
      "INFO:root: \n",
      "Avg Training Stats after 41 global rounds:\n",
      "INFO:root:Train Accuracy: 0.00%\n",
      "INFO:root:Training Loss : 0.1537385094326814\n",
      "INFO:root:Test Accuracy: 59.34%\n",
      "INFO:root:Test Loss: 1.1757263645529747 \n",
      "\n",
      " 41%|████      | 41/100 [12:52<18:34, 18.89s/it]"
     ]
    },
    {
     "name": "stdout",
     "output_type": "stream",
     "text": [
      "[231, 1320, 1416, 2575, 2274, 862, 690, 602, 1012, 173]\n"
     ]
    },
    {
     "name": "stderr",
     "output_type": "stream",
     "text": [
      "INFO:root: \n",
      "Avg Training Stats after 42 global rounds:\n",
      "INFO:root:Train Accuracy: 0.00%\n",
      "INFO:root:Training Loss : 0.16133038624060475\n",
      "INFO:root:Test Accuracy: 60.86%\n",
      "INFO:root:Test Loss: 1.120773229598999 \n",
      "\n",
      " 42%|████▏     | 42/100 [13:11<18:30, 19.14s/it]"
     ]
    },
    {
     "name": "stdout",
     "output_type": "stream",
     "text": [
      "[1112, 1053, 3195, 2934, 2029, 201, 123, 2195, 1018, 173]\n"
     ]
    },
    {
     "name": "stderr",
     "output_type": "stream",
     "text": [
      "INFO:root: \n",
      "Avg Training Stats after 43 global rounds:\n",
      "INFO:root:Train Accuracy: 0.00%\n",
      "INFO:root:Training Loss : 0.19014583091883616\n",
      "INFO:root:Test Accuracy: 62.02%\n",
      "INFO:root:Test Loss: 1.074034668803215 \n",
      "\n",
      " 43%|████▎     | 43/100 [13:34<19:06, 20.12s/it]"
     ]
    },
    {
     "name": "stdout",
     "output_type": "stream",
     "text": [
      "[862, 1053, 422, 3195, 4600, 794, 1756, 173, 2029, 1018]\n"
     ]
    },
    {
     "name": "stderr",
     "output_type": "stream",
     "text": [
      "INFO:root: \n",
      "Avg Training Stats after 44 global rounds:\n",
      "INFO:root:Train Accuracy: 0.00%\n",
      "INFO:root:Training Loss : 0.17606195364948352\n",
      "INFO:root:Test Accuracy: 60.04%\n",
      "INFO:root:Test Loss: 1.1427076730132102 \n",
      "\n",
      " 44%|████▍     | 44/100 [13:58<19:57, 21.38s/it]"
     ]
    },
    {
     "name": "stdout",
     "output_type": "stream",
     "text": [
      "[1320, 2934, 796, 2195, 862, 2575, 2029, 19, 422, 286]\n"
     ]
    },
    {
     "name": "stderr",
     "output_type": "stream",
     "text": [
      "INFO:root: \n",
      "Avg Training Stats after 45 global rounds:\n",
      "INFO:root:Train Accuracy: 0.00%\n",
      "INFO:root:Training Loss : 0.11793348078703811\n",
      "INFO:root:Test Accuracy: 58.52%\n",
      "INFO:root:Test Loss: 1.2225211210548879 \n",
      "\n",
      " 45%|████▌     | 45/100 [14:20<19:38, 21.43s/it]"
     ]
    },
    {
     "name": "stdout",
     "output_type": "stream",
     "text": [
      "[862, 744, 1416, 1112, 590, 542, 278, 690, 116, 1780]\n"
     ]
    },
    {
     "name": "stderr",
     "output_type": "stream",
     "text": [
      "INFO:root: \n",
      "Avg Training Stats after 46 global rounds:\n",
      "INFO:root:Train Accuracy: 0.00%\n",
      "INFO:root:Training Loss : 0.21369219184627095\n",
      "INFO:root:Test Accuracy: 62.22%\n",
      "INFO:root:Test Loss: 1.1020551358163357 \n",
      "\n",
      " 46%|████▌     | 46/100 [14:37<18:02, 20.05s/it]"
     ]
    },
    {
     "name": "stdout",
     "output_type": "stream",
     "text": [
      "[2575, 1112, 1320, 231, 3195, 1012, 862, 447, 2195, 201]\n"
     ]
    },
    {
     "name": "stderr",
     "output_type": "stream",
     "text": [
      "INFO:root: \n",
      "Avg Training Stats after 47 global rounds:\n",
      "INFO:root:Train Accuracy: 0.00%\n",
      "INFO:root:Training Loss : 0.09928625335719446\n",
      "INFO:root:Test Accuracy: 63.96%\n",
      "INFO:root:Test Loss: 1.0416676440835 \n",
      "\n",
      " 47%|████▋     | 47/100 [14:58<18:11, 20.60s/it]"
     ]
    },
    {
     "name": "stdout",
     "output_type": "stream",
     "text": [
      "[1433, 542, 813, 231, 1119, 2029, 1012, 173, 2195, 1320]\n"
     ]
    },
    {
     "name": "stderr",
     "output_type": "stream",
     "text": [
      "INFO:root: \n",
      "Avg Training Stats after 48 global rounds:\n",
      "INFO:root:Train Accuracy: 0.00%\n",
      "INFO:root:Training Loss : 0.10403500148782856\n",
      "INFO:root:Test Accuracy: 62.69%\n",
      "INFO:root:Test Loss: 1.0738370953500271 \n",
      "\n",
      " 48%|████▊     | 48/100 [15:18<17:32, 20.23s/it]"
     ]
    },
    {
     "name": "stdout",
     "output_type": "stream",
     "text": [
      "[744, 2195, 209, 1780, 2575, 123, 327, 40, 1736, 690]\n"
     ]
    },
    {
     "name": "stderr",
     "output_type": "stream",
     "text": [
      "INFO:root: \n",
      "Avg Training Stats after 49 global rounds:\n",
      "INFO:root:Train Accuracy: 0.00%\n",
      "INFO:root:Training Loss : 0.19394288843603552\n",
      "INFO:root:Test Accuracy: 61.95%\n",
      "INFO:root:Test Loss: 1.1003801925480365 \n",
      "\n",
      " 49%|████▉     | 49/100 [15:37<16:51, 19.84s/it]"
     ]
    },
    {
     "name": "stdout",
     "output_type": "stream",
     "text": [
      "[862, 690, 1433, 173, 3195, 2934, 116, 447, 231, 431]\n"
     ]
    },
    {
     "name": "stderr",
     "output_type": "stream",
     "text": [
      "INFO:root: \n",
      "Avg Training Stats after 50 global rounds:\n",
      "INFO:root:Train Accuracy: 0.00%\n",
      "INFO:root:Training Loss : 0.1739394904288871\n",
      "INFO:root:Test Accuracy: 62.75%\n",
      "INFO:root:Test Loss: 1.0861599388718606 \n",
      "\n",
      " 50%|█████     | 50/100 [15:56<16:19, 19.59s/it]"
     ]
    },
    {
     "name": "stdout",
     "output_type": "stream",
     "text": [
      "[1320, 19, 3195, 87, 1756, 303, 813, 2575, 231, 231]\n"
     ]
    },
    {
     "name": "stderr",
     "output_type": "stream",
     "text": [
      "INFO:root: \n",
      "Avg Training Stats after 51 global rounds:\n",
      "INFO:root:Train Accuracy: 0.00%\n",
      "INFO:root:Training Loss : 0.047452975374568704\n",
      "INFO:root:Test Accuracy: 60.54%\n",
      "INFO:root:Test Loss: 1.16851256608963 \n",
      "\n",
      " 51%|█████     | 51/100 [16:15<15:51, 19.41s/it]"
     ]
    },
    {
     "name": "stdout",
     "output_type": "stream",
     "text": [
      "[40, 813, 1780, 2934, 15, 173, 278, 19, 1798, 267]\n"
     ]
    },
    {
     "name": "stderr",
     "output_type": "stream",
     "text": [
      "INFO:root: \n",
      "Avg Training Stats after 52 global rounds:\n",
      "INFO:root:Train Accuracy: 0.00%\n",
      "INFO:root:Training Loss : 0.11787681755210473\n",
      "INFO:root:Test Accuracy: 59.10%\n",
      "INFO:root:Test Loss: 1.2465530888736247 \n",
      "\n",
      " 52%|█████▏    | 52/100 [16:31<14:49, 18.52s/it]"
     ]
    },
    {
     "name": "stdout",
     "output_type": "stream",
     "text": [
      "[267, 231, 690, 173, 1780, 1053, 862, 590, 1433, 303]\n"
     ]
    },
    {
     "name": "stderr",
     "output_type": "stream",
     "text": [
      "INFO:root: \n",
      "Avg Training Stats after 53 global rounds:\n",
      "INFO:root:Train Accuracy: 0.00%\n",
      "INFO:root:Training Loss : 0.15762401514077387\n",
      "INFO:root:Test Accuracy: 62.21%\n",
      "INFO:root:Test Loss: 1.114681734442711 \n",
      "\n",
      " 53%|█████▎    | 53/100 [16:48<14:01, 17.91s/it]"
     ]
    },
    {
     "name": "stdout",
     "output_type": "stream",
     "text": [
      "[431, 3195, 201, 796, 2934, 15, 231, 1112, 1736, 267]\n"
     ]
    },
    {
     "name": "stderr",
     "output_type": "stream",
     "text": [
      "INFO:root: \n",
      "Avg Training Stats after 54 global rounds:\n",
      "INFO:root:Train Accuracy: 0.00%\n",
      "INFO:root:Training Loss : 0.11285690110870647\n",
      "INFO:root:Test Accuracy: 65.01%\n",
      "INFO:root:Test Loss: 1.0159389084577561 \n",
      "\n",
      " 54%|█████▍    | 54/100 [17:07<14:04, 18.36s/it]"
     ]
    },
    {
     "name": "stdout",
     "output_type": "stream",
     "text": [
      "[40, 1320, 1416, 286, 2195, 1012, 201, 116, 1053, 542]\n"
     ]
    },
    {
     "name": "stderr",
     "output_type": "stream",
     "text": [
      "INFO:root: \n",
      "Avg Training Stats after 55 global rounds:\n",
      "INFO:root:Train Accuracy: 0.00%\n",
      "INFO:root:Training Loss : 0.16187543743781035\n",
      "INFO:root:Test Accuracy: 65.77%\n",
      "INFO:root:Test Loss: 1.0080374333262443 \n",
      "\n",
      " 55%|█████▌    | 55/100 [17:24<13:24, 17.88s/it]"
     ]
    },
    {
     "name": "stdout",
     "output_type": "stream",
     "text": [
      "[1798, 422, 231, 4600, 231, 2575, 1433, 106, 1320, 862]\n"
     ]
    },
    {
     "name": "stderr",
     "output_type": "stream",
     "text": [
      "INFO:root: \n",
      "Avg Training Stats after 56 global rounds:\n",
      "INFO:root:Train Accuracy: 0.00%\n",
      "INFO:root:Training Loss : 0.08285746044668985\n",
      "INFO:root:Test Accuracy: 65.35%\n",
      "INFO:root:Test Loss: 1.01647624284029 \n",
      "\n",
      " 56%|█████▌    | 56/100 [17:46<14:01, 19.12s/it]"
     ]
    },
    {
     "name": "stdout",
     "output_type": "stream",
     "text": [
      "[2274, 3195, 267, 2029, 590, 327, 2195, 278, 1756, 813]\n"
     ]
    },
    {
     "name": "stderr",
     "output_type": "stream",
     "text": [
      "INFO:root: \n",
      "Avg Training Stats after 57 global rounds:\n",
      "INFO:root:Train Accuracy: 0.00%\n",
      "INFO:root:Training Loss : 0.11866565391107575\n",
      "INFO:root:Test Accuracy: 66.04%\n",
      "INFO:root:Test Loss: 1.008300797790289 \n",
      "\n",
      " 57%|█████▋    | 57/100 [18:08<14:18, 19.97s/it]"
     ]
    },
    {
     "name": "stdout",
     "output_type": "stream",
     "text": [
      "[1798, 431, 123, 1320, 1416, 231, 2575, 2934, 19, 1756]\n"
     ]
    },
    {
     "name": "stderr",
     "output_type": "stream",
     "text": [
      "INFO:root: \n",
      "Avg Training Stats after 58 global rounds:\n",
      "INFO:root:Train Accuracy: 0.00%\n",
      "INFO:root:Training Loss : 0.09387929882803005\n",
      "INFO:root:Test Accuracy: 65.77%\n",
      "INFO:root:Test Loss: 1.0266006475687026 \n",
      "\n",
      " 58%|█████▊    | 58/100 [18:29<14:08, 20.21s/it]"
     ]
    },
    {
     "name": "stdout",
     "output_type": "stream",
     "text": [
      "[1018, 267, 2274, 447, 2029, 690, 590, 303, 1119, 796]\n"
     ]
    },
    {
     "name": "stderr",
     "output_type": "stream",
     "text": [
      "INFO:root: \n",
      "Avg Training Stats after 59 global rounds:\n",
      "INFO:root:Train Accuracy: 0.00%\n",
      "INFO:root:Training Loss : 0.06759858776697086\n",
      "INFO:root:Test Accuracy: 65.82%\n",
      "INFO:root:Test Loss: 1.0416406247019767 \n",
      "\n",
      " 59%|█████▉    | 59/100 [18:47<13:27, 19.70s/it]"
     ]
    },
    {
     "name": "stdout",
     "output_type": "stream",
     "text": [
      "[106, 2430, 447, 1433, 1012, 3195, 1119, 1756, 862, 4600]\n"
     ]
    },
    {
     "name": "stderr",
     "output_type": "stream",
     "text": [
      "INFO:root: \n",
      "Avg Training Stats after 60 global rounds:\n",
      "INFO:root:Train Accuracy: 0.00%\n",
      "INFO:root:Training Loss : 0.057903753898577826\n",
      "INFO:root:Test Accuracy: 65.58%\n",
      "INFO:root:Test Loss: 1.0378025084733964 \n",
      "\n",
      " 60%|██████    | 60/100 [19:12<14:12, 21.32s/it]"
     ]
    },
    {
     "name": "stdout",
     "output_type": "stream",
     "text": [
      "[1780, 1320, 286, 2029, 40, 796, 447, 15, 231, 744]\n"
     ]
    },
    {
     "name": "stderr",
     "output_type": "stream",
     "text": [
      "INFO:root: \n",
      "Avg Training Stats after 61 global rounds:\n",
      "INFO:root:Train Accuracy: 0.00%\n",
      "INFO:root:Training Loss : 0.08861925536571799\n",
      "INFO:root:Test Accuracy: 65.70%\n",
      "INFO:root:Test Loss: 1.0124609565734863 \n",
      "\n",
      " 61%|██████    | 61/100 [19:28<12:50, 19.76s/it]"
     ]
    },
    {
     "name": "stdout",
     "output_type": "stream",
     "text": [
      "[116, 15, 2029, 327, 19, 470, 422, 87, 1012, 303]\n"
     ]
    },
    {
     "name": "stderr",
     "output_type": "stream",
     "text": [
      "INFO:root: \n",
      "Avg Training Stats after 62 global rounds:\n",
      "INFO:root:Train Accuracy: 0.00%\n",
      "INFO:root:Training Loss : 0.11030714162483324\n",
      "INFO:root:Test Accuracy: 66.43%\n",
      "INFO:root:Test Loss: 0.9988488069176674 \n",
      "\n",
      " 62%|██████▏   | 62/100 [19:42<11:18, 17.85s/it]"
     ]
    },
    {
     "name": "stdout",
     "output_type": "stream",
     "text": [
      "[796, 2274, 862, 286, 813, 3195, 1112, 422, 1119, 327]\n"
     ]
    },
    {
     "name": "stderr",
     "output_type": "stream",
     "text": [
      "INFO:root: \n",
      "Avg Training Stats after 63 global rounds:\n",
      "INFO:root:Train Accuracy: 0.00%\n",
      "INFO:root:Training Loss : 0.09140895199992637\n",
      "INFO:root:Test Accuracy: 65.92%\n",
      "INFO:root:Test Loss: 1.025587652027607 \n",
      "\n",
      " 63%|██████▎   | 63/100 [20:01<11:19, 18.36s/it]"
     ]
    },
    {
     "name": "stdout",
     "output_type": "stream",
     "text": [
      "[542, 1798, 690, 15, 267, 2575, 796, 590, 209, 470]\n"
     ]
    },
    {
     "name": "stderr",
     "output_type": "stream",
     "text": [
      "INFO:root: \n",
      "Avg Training Stats after 64 global rounds:\n",
      "INFO:root:Train Accuracy: 0.00%\n",
      "INFO:root:Training Loss : 0.08365028542355306\n",
      "INFO:root:Test Accuracy: 66.01%\n",
      "INFO:root:Test Loss: 1.0309631571173667 \n",
      "\n",
      " 64%|██████▍   | 64/100 [20:18<10:43, 17.86s/it]"
     ]
    },
    {
     "name": "stdout",
     "output_type": "stream",
     "text": [
      "[87, 267, 286, 1053, 303, 796, 40, 173, 19, 327]\n"
     ]
    },
    {
     "name": "stderr",
     "output_type": "stream",
     "text": [
      "INFO:root: \n",
      "Avg Training Stats after 65 global rounds:\n",
      "INFO:root:Train Accuracy: 0.00%\n",
      "INFO:root:Training Loss : 0.12159411452245672\n",
      "INFO:root:Test Accuracy: 66.10%\n",
      "INFO:root:Test Loss: 1.0185291290283203 \n",
      "\n",
      " 65%|██████▌   | 65/100 [20:30<09:24, 16.13s/it]"
     ]
    },
    {
     "name": "stdout",
     "output_type": "stream",
     "text": [
      "[813, 542, 106, 123, 4600, 40, 209, 2029, 1736, 2195]\n"
     ]
    },
    {
     "name": "stderr",
     "output_type": "stream",
     "text": [
      "INFO:root: \n",
      "Avg Training Stats after 66 global rounds:\n",
      "INFO:root:Train Accuracy: 0.00%\n",
      "INFO:root:Training Loss : 0.10992636229861026\n",
      "INFO:root:Test Accuracy: 66.39%\n",
      "INFO:root:Test Loss: 1.0000568747520446 \n",
      "\n",
      " 66%|██████▌   | 66/100 [20:51<09:56, 17.53s/it]"
     ]
    },
    {
     "name": "stdout",
     "output_type": "stream",
     "text": [
      "[1416, 1320, 201, 744, 2934, 447, 278, 2430, 1018, 2274]\n"
     ]
    },
    {
     "name": "stderr",
     "output_type": "stream",
     "text": [
      "INFO:root: \n",
      "Avg Training Stats after 67 global rounds:\n",
      "INFO:root:Train Accuracy: 0.00%\n",
      "INFO:root:Training Loss : 0.10362421559511696\n",
      "INFO:root:Test Accuracy: 67.53%\n",
      "INFO:root:Test Loss: 0.963452250957489 \n",
      "\n",
      " 67%|██████▋   | 67/100 [21:12<10:18, 18.75s/it]"
     ]
    },
    {
     "name": "stdout",
     "output_type": "stream",
     "text": [
      "[303, 1012, 470, 123, 106, 201, 87, 1736, 2934, 2575]\n"
     ]
    },
    {
     "name": "stderr",
     "output_type": "stream",
     "text": [
      "INFO:root: \n",
      "Avg Training Stats after 68 global rounds:\n",
      "INFO:root:Train Accuracy: 0.00%\n",
      "INFO:root:Training Loss : 0.0513218942530151\n",
      "INFO:root:Test Accuracy: 67.91%\n",
      "INFO:root:Test Loss: 0.9450570642948151 \n",
      "\n",
      " 68%|██████▊   | 68/100 [21:30<09:52, 18.50s/it]"
     ]
    },
    {
     "name": "stdout",
     "output_type": "stream",
     "text": [
      "[3195, 794, 690, 2029, 231, 1756, 1112, 1736, 201, 813]\n"
     ]
    },
    {
     "name": "stderr",
     "output_type": "stream",
     "text": [
      "INFO:root: \n",
      "Avg Training Stats after 69 global rounds:\n",
      "INFO:root:Train Accuracy: 0.00%\n",
      "INFO:root:Training Loss : 0.055734809608309364\n",
      "INFO:root:Test Accuracy: 68.22%\n",
      "INFO:root:Test Loss: 0.9446950975060463 \n",
      "\n",
      " 69%|██████▉   | 69/100 [21:51<09:57, 19.28s/it]"
     ]
    },
    {
     "name": "stdout",
     "output_type": "stream",
     "text": [
      "[106, 40, 278, 422, 470, 2029, 2934, 744, 2274, 327]\n"
     ]
    },
    {
     "name": "stderr",
     "output_type": "stream",
     "text": [
      "INFO:root: \n",
      "Avg Training Stats after 70 global rounds:\n",
      "INFO:root:Train Accuracy: 0.00%\n",
      "INFO:root:Training Loss : 0.08027645450595507\n",
      "INFO:root:Test Accuracy: 67.93%\n",
      "INFO:root:Test Loss: 0.9550208798050881 \n",
      "\n",
      " 70%|███████   | 70/100 [22:10<09:28, 18.97s/it]"
     ]
    },
    {
     "name": "stdout",
     "output_type": "stream",
     "text": [
      "[3195, 267, 303, 173, 286, 2029, 422, 1012, 796, 106]\n"
     ]
    },
    {
     "name": "stderr",
     "output_type": "stream",
     "text": [
      "INFO:root: \n",
      "Avg Training Stats after 71 global rounds:\n",
      "INFO:root:Train Accuracy: 0.00%\n",
      "INFO:root:Training Loss : 0.07701184085046234\n",
      "INFO:root:Test Accuracy: 67.88%\n",
      "INFO:root:Test Loss: 0.9857440677285194 \n",
      "\n",
      " 71%|███████   | 71/100 [22:27<08:54, 18.43s/it]"
     ]
    },
    {
     "name": "stdout",
     "output_type": "stream",
     "text": [
      "[209, 40, 4600, 106, 123, 1012, 690, 542, 602, 2575]\n"
     ]
    },
    {
     "name": "stderr",
     "output_type": "stream",
     "text": [
      "INFO:root: \n",
      "Avg Training Stats after 72 global rounds:\n",
      "INFO:root:Train Accuracy: 0.00%\n",
      "INFO:root:Training Loss : 0.08055077277547297\n",
      "INFO:root:Test Accuracy: 67.62%\n",
      "INFO:root:Test Loss: 1.016506289243698 \n",
      "\n",
      " 72%|███████▏  | 72/100 [22:46<08:41, 18.63s/it]"
     ]
    },
    {
     "name": "stdout",
     "output_type": "stream",
     "text": [
      "[1012, 2430, 2274, 209, 1798, 303, 1112, 231, 744, 278]\n"
     ]
    },
    {
     "name": "stderr",
     "output_type": "stream",
     "text": [
      "INFO:root: \n",
      "Avg Training Stats after 73 global rounds:\n",
      "INFO:root:Train Accuracy: 0.00%\n",
      "INFO:root:Training Loss : 0.06482093561623134\n",
      "INFO:root:Test Accuracy: 66.57%\n",
      "INFO:root:Test Loss: 1.0504595178365708 \n",
      "\n",
      " 73%|███████▎  | 73/100 [23:05<08:27, 18.79s/it]"
     ]
    },
    {
     "name": "stdout",
     "output_type": "stream",
     "text": [
      "[447, 1320, 209, 327, 744, 1018, 231, 2430, 590, 602]\n"
     ]
    },
    {
     "name": "stderr",
     "output_type": "stream",
     "text": [
      "INFO:root: \n",
      "Avg Training Stats after 74 global rounds:\n",
      "INFO:root:Train Accuracy: 0.00%\n",
      "INFO:root:Training Loss : 0.10914414297722341\n",
      "INFO:root:Test Accuracy: 65.06%\n",
      "INFO:root:Test Loss: 1.102856659591198 \n",
      "\n",
      " 74%|███████▍  | 74/100 [23:22<07:51, 18.15s/it]"
     ]
    },
    {
     "name": "stdout",
     "output_type": "stream",
     "text": [
      "[470, 1053, 303, 1012, 106, 3195, 447, 1112, 201, 1433]\n"
     ]
    },
    {
     "name": "stderr",
     "output_type": "stream",
     "text": [
      "INFO:root: \n",
      "Avg Training Stats after 75 global rounds:\n",
      "INFO:root:Train Accuracy: 0.00%\n",
      "INFO:root:Training Loss : 0.04583445527863492\n",
      "INFO:root:Test Accuracy: 65.28%\n",
      "INFO:root:Test Loss: 1.0878380972146988 \n",
      "\n",
      " 75%|███████▌  | 75/100 [23:40<07:32, 18.09s/it]"
     ]
    },
    {
     "name": "stdout",
     "output_type": "stream",
     "text": [
      "[231, 1433, 431, 209, 1416, 1780, 116, 123, 422, 4600]\n"
     ]
    },
    {
     "name": "stderr",
     "output_type": "stream",
     "text": [
      "INFO:root: \n",
      "Avg Training Stats after 76 global rounds:\n",
      "INFO:root:Train Accuracy: 0.00%\n",
      "INFO:root:Training Loss : 0.15487861642971198\n",
      "INFO:root:Test Accuracy: 67.13%\n",
      "INFO:root:Test Loss: 1.001033003628254 \n",
      "\n",
      " 76%|███████▌  | 76/100 [23:59<07:23, 18.47s/it]"
     ]
    },
    {
     "name": "stdout",
     "output_type": "stream",
     "text": [
      "[2575, 796, 1053, 267, 602, 1018, 201, 1756, 286, 2430]\n"
     ]
    },
    {
     "name": "stderr",
     "output_type": "stream",
     "text": [
      "INFO:root: \n",
      "Avg Training Stats after 77 global rounds:\n",
      "INFO:root:Train Accuracy: 0.00%\n",
      "INFO:root:Training Loss : 0.08431285290818427\n",
      "INFO:root:Test Accuracy: 68.20%\n",
      "INFO:root:Test Loss: 0.9574566867947578 \n",
      "\n",
      " 77%|███████▋  | 77/100 [24:19<07:12, 18.81s/it]"
     ]
    },
    {
     "name": "stdout",
     "output_type": "stream",
     "text": [
      "[15, 2029, 2274, 744, 1018, 1736, 2934, 19, 173, 447]\n"
     ]
    },
    {
     "name": "stderr",
     "output_type": "stream",
     "text": [
      "INFO:root: \n",
      "Avg Training Stats after 78 global rounds:\n",
      "INFO:root:Train Accuracy: 0.00%\n",
      "INFO:root:Training Loss : 0.08248770004924624\n",
      "INFO:root:Test Accuracy: 67.53%\n",
      "INFO:root:Test Loss: 0.9843737196922302 \n",
      "\n",
      " 78%|███████▊  | 78/100 [24:38<06:59, 19.06s/it]"
     ]
    },
    {
     "name": "stdout",
     "output_type": "stream",
     "text": [
      "[542, 602, 173, 201, 590, 690, 422, 2934, 1736, 744]\n"
     ]
    },
    {
     "name": "stderr",
     "output_type": "stream",
     "text": [
      "INFO:root: \n",
      "Avg Training Stats after 79 global rounds:\n",
      "INFO:root:Train Accuracy: 0.00%\n",
      "INFO:root:Training Loss : 0.10721800548901246\n",
      "INFO:root:Test Accuracy: 66.85%\n",
      "INFO:root:Test Loss: 1.031589868068695 \n",
      "\n",
      " 79%|███████▉  | 79/100 [24:56<06:31, 18.62s/it]"
     ]
    },
    {
     "name": "stdout",
     "output_type": "stream",
     "text": [
      "[201, 278, 40, 1112, 106, 690, 2029, 87, 796, 3195]\n"
     ]
    },
    {
     "name": "stderr",
     "output_type": "stream",
     "text": [
      "INFO:root: \n",
      "Avg Training Stats after 80 global rounds:\n",
      "INFO:root:Train Accuracy: 0.00%\n",
      "INFO:root:Training Loss : 0.028355887428274544\n",
      "INFO:root:Test Accuracy: 65.00%\n",
      "INFO:root:Test Loss: 1.1293436969816684 \n",
      "\n",
      " 80%|████████  | 80/100 [25:13<06:03, 18.18s/it]"
     ]
    },
    {
     "name": "stdout",
     "output_type": "stream",
     "text": [
      "[1798, 15, 201, 123, 1433, 542, 1119, 690, 602, 40]\n"
     ]
    },
    {
     "name": "stderr",
     "output_type": "stream",
     "text": [
      "INFO:root: \n",
      "Avg Training Stats after 81 global rounds:\n",
      "INFO:root:Train Accuracy: 0.00%\n",
      "INFO:root:Training Loss : 0.05015012365467183\n",
      "INFO:root:Test Accuracy: 64.27%\n",
      "INFO:root:Test Loss: 1.1804168353602291 \n",
      "\n",
      " 81%|████████  | 81/100 [25:28<05:28, 17.27s/it]"
     ]
    },
    {
     "name": "stdout",
     "output_type": "stream",
     "text": [
      "[267, 542, 209, 796, 87, 3195, 231, 303, 2934, 1119]\n"
     ]
    },
    {
     "name": "stderr",
     "output_type": "stream",
     "text": [
      "INFO:root: \n",
      "Avg Training Stats after 82 global rounds:\n",
      "INFO:root:Train Accuracy: 0.00%\n",
      "INFO:root:Training Loss : 0.060108658054055034\n",
      "INFO:root:Test Accuracy: 67.13%\n",
      "INFO:root:Test Loss: 1.0582962134480476 \n",
      "\n",
      " 82%|████████▏ | 82/100 [25:47<05:16, 17.57s/it]"
     ]
    },
    {
     "name": "stdout",
     "output_type": "stream",
     "text": [
      "[690, 431, 422, 231, 4600, 2934, 2029, 327, 796, 590]\n"
     ]
    },
    {
     "name": "stderr",
     "output_type": "stream",
     "text": [
      "INFO:root: \n",
      "Avg Training Stats after 83 global rounds:\n",
      "INFO:root:Train Accuracy: 0.00%\n",
      "INFO:root:Training Loss : 0.083788966952298\n",
      "INFO:root:Test Accuracy: 69.16%\n",
      "INFO:root:Test Loss: 0.9770626544952392 \n",
      "\n",
      " 83%|████████▎ | 83/100 [26:08<05:18, 18.73s/it]"
     ]
    },
    {
     "name": "stdout",
     "output_type": "stream",
     "text": [
      "[231, 1112, 87, 303, 690, 796, 2195, 813, 327, 1018]\n"
     ]
    },
    {
     "name": "stderr",
     "output_type": "stream",
     "text": [
      "INFO:root: \n",
      "Avg Training Stats after 84 global rounds:\n",
      "INFO:root:Train Accuracy: 0.00%\n",
      "INFO:root:Training Loss : 0.08227537162904683\n",
      "INFO:root:Test Accuracy: 68.57%\n",
      "INFO:root:Test Loss: 0.9834874212741852 \n",
      "\n",
      " 84%|████████▍ | 84/100 [26:24<04:47, 17.98s/it]"
     ]
    },
    {
     "name": "stdout",
     "output_type": "stream",
     "text": [
      "[602, 1018, 542, 106, 794, 447, 2029, 1433, 327, 690]\n"
     ]
    },
    {
     "name": "stderr",
     "output_type": "stream",
     "text": [
      "INFO:root: \n",
      "Avg Training Stats after 85 global rounds:\n",
      "INFO:root:Train Accuracy: 0.00%\n",
      "INFO:root:Training Loss : 0.07043531734449308\n",
      "INFO:root:Test Accuracy: 66.23%\n",
      "INFO:root:Test Loss: 1.0491556259989738 \n",
      "\n",
      " 85%|████████▌ | 85/100 [26:41<04:23, 17.53s/it]"
     ]
    },
    {
     "name": "stdout",
     "output_type": "stream",
     "text": [
      "[1433, 267, 447, 1012, 470, 201, 231, 15, 278, 1736]\n"
     ]
    },
    {
     "name": "stderr",
     "output_type": "stream",
     "text": [
      "INFO:root: \n",
      "Avg Training Stats after 86 global rounds:\n",
      "INFO:root:Train Accuracy: 0.00%\n",
      "INFO:root:Training Loss : 0.06385452192531539\n",
      "INFO:root:Test Accuracy: 66.23%\n",
      "INFO:root:Test Loss: 1.0586906206607818 \n",
      "\n",
      " 86%|████████▌ | 86/100 [26:56<03:55, 16.84s/it]"
     ]
    },
    {
     "name": "stdout",
     "output_type": "stream",
     "text": [
      "[40, 1053, 231, 286, 106, 2274, 470, 1119, 447, 1416]\n"
     ]
    },
    {
     "name": "stderr",
     "output_type": "stream",
     "text": [
      "INFO:root: \n",
      "Avg Training Stats after 87 global rounds:\n",
      "INFO:root:Train Accuracy: 0.00%\n",
      "INFO:root:Training Loss : 0.07720921950591406\n",
      "INFO:root:Test Accuracy: 67.07%\n",
      "INFO:root:Test Loss: 1.0192325133085252 \n",
      "\n",
      " 87%|████████▋ | 87/100 [27:12<03:35, 16.60s/it]"
     ]
    },
    {
     "name": "stdout",
     "output_type": "stream",
     "text": [
      "[209, 2029, 231, 278, 1320, 862, 2195, 690, 1736, 106]\n"
     ]
    },
    {
     "name": "stderr",
     "output_type": "stream",
     "text": [
      "INFO:root: \n",
      "Avg Training Stats after 88 global rounds:\n",
      "INFO:root:Train Accuracy: 0.00%\n",
      "INFO:root:Training Loss : 0.08012958266066222\n",
      "INFO:root:Test Accuracy: 67.18%\n",
      "INFO:root:Test Loss: 1.0232245776057243 \n",
      "\n",
      " 88%|████████▊ | 88/100 [27:30<03:25, 17.10s/it]"
     ]
    },
    {
     "name": "stdout",
     "output_type": "stream",
     "text": [
      "[2430, 201, 2195, 2575, 123, 602, 116, 794, 4600, 690]\n"
     ]
    },
    {
     "name": "stderr",
     "output_type": "stream",
     "text": [
      "INFO:root: \n",
      "Avg Training Stats after 89 global rounds:\n",
      "INFO:root:Train Accuracy: 0.00%\n",
      "INFO:root:Training Loss : 0.09097238631748644\n",
      "INFO:root:Test Accuracy: 68.41%\n",
      "INFO:root:Test Loss: 0.9942378123104573 \n",
      "\n",
      " 89%|████████▉ | 89/100 [27:53<03:26, 18.76s/it]"
     ]
    },
    {
     "name": "stdout",
     "output_type": "stream",
     "text": [
      "[470, 303, 278, 87, 1119, 2274, 1780, 19, 4600, 602]\n"
     ]
    },
    {
     "name": "stderr",
     "output_type": "stream",
     "text": [
      "INFO:root: \n",
      "Avg Training Stats after 90 global rounds:\n",
      "INFO:root:Train Accuracy: 0.00%\n",
      "INFO:root:Training Loss : 0.05028337778655974\n",
      "INFO:root:Test Accuracy: 68.66%\n",
      "INFO:root:Test Loss: 0.9858365607261658 \n",
      "\n",
      " 90%|█████████ | 90/100 [28:13<03:11, 19.11s/it]"
     ]
    },
    {
     "name": "stdout",
     "output_type": "stream",
     "text": [
      "[2575, 602, 2029, 327, 209, 4600, 2274, 1756, 431, 1112]\n"
     ]
    },
    {
     "name": "stderr",
     "output_type": "stream",
     "text": [
      "INFO:root: \n",
      "Avg Training Stats after 91 global rounds:\n",
      "INFO:root:Train Accuracy: 0.00%\n",
      "INFO:root:Training Loss : 0.06528431124725045\n",
      "INFO:root:Test Accuracy: 69.33%\n",
      "INFO:root:Test Loss: 0.9708156710863114 \n",
      "\n",
      " 91%|█████████ | 91/100 [28:37<03:05, 20.66s/it]"
     ]
    },
    {
     "name": "stdout",
     "output_type": "stream",
     "text": [
      "[2195, 267, 813, 286, 3195, 470, 231, 278, 1012, 231]\n"
     ]
    },
    {
     "name": "stderr",
     "output_type": "stream",
     "text": [
      "INFO:root: \n",
      "Avg Training Stats after 92 global rounds:\n",
      "INFO:root:Train Accuracy: 0.00%\n",
      "INFO:root:Training Loss : 0.06785904690563595\n",
      "INFO:root:Test Accuracy: 69.50%\n",
      "INFO:root:Test Loss: 0.9561083506047726 \n",
      "\n",
      " 92%|█████████▏| 92/100 [28:55<02:38, 19.78s/it]"
     ]
    },
    {
     "name": "stdout",
     "output_type": "stream",
     "text": [
      "[1053, 2575, 303, 2430, 542, 116, 1756, 1433, 327, 15]\n"
     ]
    },
    {
     "name": "stderr",
     "output_type": "stream",
     "text": [
      "INFO:root: \n",
      "Avg Training Stats after 93 global rounds:\n",
      "INFO:root:Train Accuracy: 0.00%\n",
      "INFO:root:Training Loss : 0.08552083105420827\n",
      "INFO:root:Test Accuracy: 68.61%\n",
      "INFO:root:Test Loss: 1.0042935900390149 \n",
      "\n",
      " 93%|█████████▎| 93/100 [29:14<02:16, 19.54s/it]"
     ]
    },
    {
     "name": "stdout",
     "output_type": "stream",
     "text": [
      "[590, 4600, 201, 286, 303, 1736, 15, 1798, 744, 422]\n"
     ]
    },
    {
     "name": "stderr",
     "output_type": "stream",
     "text": [
      "INFO:root: \n",
      "Avg Training Stats after 94 global rounds:\n",
      "INFO:root:Train Accuracy: 0.00%\n",
      "INFO:root:Training Loss : 0.05446924123989909\n",
      "INFO:root:Test Accuracy: 67.94%\n",
      "INFO:root:Test Loss: 1.0266863822937011 \n",
      "\n",
      " 94%|█████████▍| 94/100 [29:33<01:56, 19.43s/it]"
     ]
    },
    {
     "name": "stdout",
     "output_type": "stream",
     "text": [
      "[123, 862, 542, 19, 794, 1112, 4600, 2934, 231, 15]\n"
     ]
    },
    {
     "name": "stderr",
     "output_type": "stream",
     "text": [
      "INFO:root: \n",
      "Avg Training Stats after 95 global rounds:\n",
      "INFO:root:Train Accuracy: 0.00%\n",
      "INFO:root:Training Loss : 0.06871577889375466\n",
      "INFO:root:Test Accuracy: 69.02%\n",
      "INFO:root:Test Loss: 0.9795276659727097 \n",
      "\n",
      " 95%|█████████▌| 95/100 [29:52<01:37, 19.44s/it]"
     ]
    },
    {
     "name": "stdout",
     "output_type": "stream",
     "text": [
      "[1053, 87, 2575, 4600, 542, 231, 1433, 1012, 2029, 862]\n"
     ]
    },
    {
     "name": "stderr",
     "output_type": "stream",
     "text": [
      "INFO:root: \n",
      "Avg Training Stats after 96 global rounds:\n",
      "INFO:root:Train Accuracy: 0.00%\n",
      "INFO:root:Training Loss : 0.0572148749669929\n",
      "INFO:root:Test Accuracy: 69.38%\n",
      "INFO:root:Test Loss: 0.9626718571782112 \n",
      "\n",
      " 96%|█████████▌| 96/100 [30:15<01:21, 20.50s/it]"
     ]
    },
    {
     "name": "stdout",
     "output_type": "stream",
     "text": [
      "[19, 602, 40, 690, 267, 231, 173, 2029, 1798, 3195]\n"
     ]
    },
    {
     "name": "stderr",
     "output_type": "stream",
     "text": [
      "INFO:root: \n",
      "Avg Training Stats after 97 global rounds:\n",
      "INFO:root:Train Accuracy: 0.00%\n",
      "INFO:root:Training Loss : 0.07142083619484604\n",
      "INFO:root:Test Accuracy: 68.71%\n",
      "INFO:root:Test Loss: 1.0020793370902539 \n",
      "\n",
      " 97%|█████████▋| 97/100 [30:33<00:58, 19.61s/it]"
     ]
    },
    {
     "name": "stdout",
     "output_type": "stream",
     "text": [
      "[209, 1012, 422, 40, 794, 4600, 116, 286, 303, 1756]\n"
     ]
    },
    {
     "name": "stderr",
     "output_type": "stream",
     "text": [
      "INFO:root: \n",
      "Avg Training Stats after 98 global rounds:\n",
      "INFO:root:Train Accuracy: 0.00%\n",
      "INFO:root:Training Loss : 0.051908065791972366\n",
      "INFO:root:Test Accuracy: 67.42%\n",
      "INFO:root:Test Loss: 1.0739649549126624 \n",
      "\n",
      " 98%|█████████▊| 98/100 [30:51<00:38, 19.22s/it]"
     ]
    },
    {
     "name": "stdout",
     "output_type": "stream",
     "text": [
      "[2274, 1736, 173, 1416, 447, 19, 2195, 2029, 862, 744]\n"
     ]
    },
    {
     "name": "stderr",
     "output_type": "stream",
     "text": [
      "INFO:root: \n",
      "Avg Training Stats after 99 global rounds:\n",
      "INFO:root:Train Accuracy: 0.00%\n",
      "INFO:root:Training Loss : 0.11567157676506627\n",
      "INFO:root:Test Accuracy: 68.05%\n",
      "INFO:root:Test Loss: 1.0476356600224972 \n",
      "\n",
      " 99%|█████████▉| 99/100 [31:11<00:19, 19.51s/it]"
     ]
    },
    {
     "name": "stdout",
     "output_type": "stream",
     "text": [
      "[431, 1798, 1736, 744, 19, 278, 690, 590, 116, 40]\n"
     ]
    },
    {
     "name": "stderr",
     "output_type": "stream",
     "text": [
      "INFO:root: \n",
      "Avg Training Stats after 100 global rounds:\n",
      "INFO:root:Train Accuracy: 0.00%\n",
      "INFO:root:Training Loss : 0.05916166344825406\n",
      "INFO:root:Test Accuracy: 68.30%\n",
      "INFO:root:Test Loss: 1.0356824766099453 \n",
      "\n",
      "100%|██████████| 100/100 [31:26<00:00, 18.87s/it]\n",
      "INFO:root: \n",
      " Results after 100 global rounds of training:\n",
      "INFO:root:|---- Best Test Accuracy: 69.50% , round: 91\n"
     ]
    },
    {
     "name": "stdout",
     "output_type": "stream",
     "text": [
      " Saving checkpoints to ../save/checkpoint/ConvNet_1207/cifar10_ConvNet_none_T[100]_C[0.2]_iid[0]_E[5]_B[32]_GPU[0]_Pruned[0.0]...\n"
     ]
    }
   ],
   "source": [
    " args = easydict.EasyDict({\n",
    "    \"model\": 'ConvNet',\n",
    "    'dataset': 'cifar10',\n",
    "    'gpu': 0,\n",
    "    'iid': 0,\n",
    "    'epochs': 100,\n",
    "    'optimizer': 'sgd',\n",
    "    'seed': 0,\n",
    "    'norm': 'none',\n",
    "    'num_users': 50,\n",
    "    'frac': 0.2,\n",
    "    'local_ep': 5, \n",
    "    'local_bs': 32,\n",
    "    'lr': 0.01,\n",
    "    'momentum': 1,\n",
    "    'kernel_num': 9,\n",
    "    'kernel_sizes': 'centering',\n",
    "    'num_channnels': '1',\n",
    "    'num_filters': 32,\n",
    "    'max_pool': 'True',\n",
    "    'num_classes': 10,\n",
    "    'unequal': 0,\n",
    "    'stopping_rounds': 0,\n",
    "    'verbose': 0,\n",
    "    'hold_normalize': 0,\n",
    "    'save_path': '../save/checkpoint',\n",
    "    'exp_folder': 'ConvNet_1207',\n",
    "    'resume': None,\n",
    "    'server_opt': 'sgdm',\n",
    "    'server_lr': 1.0,\n",
    "    'client_decay':0,\n",
    "    'local_decay':0,\n",
    "    'alpha': 0.05,\n",
    "    'server_epoch':0,\n",
    "    'cosine_norm':0, \n",
    "    'only_fc' :0 ,\n",
    "    'loss':'bsm',\n",
    "    'dc_lr':0.0,\n",
    "    'tsne_pred':0,\n",
    "    'pruning': 0.0 })\n",
    "    \n",
    "    \n",
    "    \n",
    "temp = main_test(args)\n",
    "total.append(temp)"
   ]
  },
  {
   "cell_type": "code",
   "execution_count": 10,
   "id": "funky-sessions",
   "metadata": {},
   "outputs": [
    {
     "name": "stderr",
     "output_type": "stream",
     "text": [
      "INFO:root:{'model': 'ConvNet', 'dataset': 'cifar10', 'gpu': 0, 'iid': 0, 'epochs': 100, 'optimizer': 'sgd', 'seed': 0, 'norm': 'none', 'num_users': 50, 'frac': 0.2, 'local_ep': 5, 'local_bs': 32, 'lr': 0.01, 'momentum': 1, 'kernel_num': 9, 'kernel_sizes': 'only_momentum', 'num_channnels': '1', 'num_filters': 32, 'max_pool': 'True', 'num_classes': 10, 'unequal': 0, 'stopping_rounds': 0, 'verbose': 0, 'hold_normalize': 0, 'save_path': '../save/checkpoint/ConvNet_1207', 'exp_folder': 'ConvNet_1207', 'resume': None, 'server_opt': 'adam', 'server_lr': 0.01, 'client_decay': 0, 'local_decay': 0, 'alpha': 0.05, 'server_epoch': 0, 'cosine_norm': 0, 'only_fc': 0, 'loss': 'ce', 'dc_lr': 0.0, 'tsne_pred': 0, 'pruning': 0.0}\n"
     ]
    },
    {
     "name": "stdout",
     "output_type": "stream",
     "text": [
      "Files already downloaded and verified\n",
      "Files already downloaded and verified\n",
      "Files already downloaded and verified\n"
     ]
    },
    {
     "name": "stderr",
     "output_type": "stream",
     "text": [
      "INFO:root:ConvNet(\n",
      "  (net_act): ReLU(inplace=True)\n",
      "  (net_pooling): MaxPool2d(kernel_size=2, stride=2, padding=0, dilation=1, ceil_mode=False)\n",
      "  (features): Sequential(\n",
      "    (0): Conv2d(3, 128, kernel_size=(3, 3), stride=(1, 1), padding=(1, 1))\n",
      "    (1): ReLU(inplace=True)\n",
      "    (2): MaxPool2d(kernel_size=2, stride=2, padding=0, dilation=1, ceil_mode=False)\n",
      "    (3): Conv2d(128, 128, kernel_size=(3, 3), stride=(1, 1), padding=(1, 1))\n",
      "    (4): ReLU(inplace=True)\n",
      "    (5): MaxPool2d(kernel_size=2, stride=2, padding=0, dilation=1, ceil_mode=False)\n",
      "    (6): Conv2d(128, 128, kernel_size=(3, 3), stride=(1, 1), padding=(1, 1))\n",
      "    (7): ReLU(inplace=True)\n",
      "    (8): MaxPool2d(kernel_size=2, stride=2, padding=0, dilation=1, ceil_mode=False)\n",
      "  )\n",
      "  (classifier): Linear(in_features=2048, out_features=10, bias=True)\n",
      ")\n",
      "INFO:root:None\n",
      "  0%|          | 0/100 [00:00<?, ?it/s]"
     ]
    },
    {
     "name": "stdout",
     "output_type": "stream",
     "text": [
      "----------------------------------------------------------------\n",
      "        Layer (type)               Output Shape         Param #\n",
      "================================================================\n",
      "            Conv2d-1          [-1, 128, 32, 32]           3,584\n",
      "              ReLU-2          [-1, 128, 32, 32]               0\n",
      "              ReLU-3          [-1, 128, 32, 32]               0\n",
      "         MaxPool2d-4          [-1, 128, 16, 16]               0\n",
      "         MaxPool2d-5          [-1, 128, 16, 16]               0\n",
      "            Conv2d-6          [-1, 128, 16, 16]         147,584\n",
      "              ReLU-7          [-1, 128, 16, 16]               0\n",
      "              ReLU-8          [-1, 128, 16, 16]               0\n",
      "         MaxPool2d-9            [-1, 128, 8, 8]               0\n",
      "        MaxPool2d-10            [-1, 128, 8, 8]               0\n",
      "           Conv2d-11            [-1, 128, 8, 8]         147,584\n",
      "             ReLU-12            [-1, 128, 8, 8]               0\n",
      "             ReLU-13            [-1, 128, 8, 8]               0\n",
      "        MaxPool2d-14            [-1, 128, 4, 4]               0\n",
      "        MaxPool2d-15            [-1, 128, 4, 4]               0\n",
      "           Linear-16                   [-1, 10]          20,490\n",
      "================================================================\n",
      "Total params: 319,242\n",
      "Trainable params: 319,242\n",
      "Non-trainable params: 0\n",
      "----------------------------------------------------------------\n",
      "Input size (MB): 0.01\n",
      "Forward/backward pass size (MB): 4.59\n",
      "Params size (MB): 1.22\n",
      "Estimated Total Size (MB): 5.82\n",
      "----------------------------------------------------------------\n",
      "[209, 1756, 422, 2575, 1018, 602, 2274, 447, 744, 1112, 123, 87, 1433, 1416, 40, 1119, 796, 794, 327, 470, 231, 813, 1320, 542, 690, 2195, 2934, 106, 1012, 15, 278, 1798, 303, 590, 2029, 201, 1053, 862, 231, 116, 4600, 19, 286, 1736, 2430, 431, 3195, 1780, 173, 267]\n",
      "[470, 2934, 201, 231, 2575, 744, 15, 123, 1119, 4600]\n"
     ]
    },
    {
     "name": "stderr",
     "output_type": "stream",
     "text": [
      "INFO:root: \n",
      "Avg Training Stats after 1 global rounds:\n",
      "INFO:root:Train Accuracy: 0.00%\n",
      "INFO:root:Training Loss : 0.46465974690754824\n",
      "INFO:root:Test Accuracy: 11.01%\n",
      "INFO:root:Test Loss: 16.538270800560714 \n",
      "\n",
      "  1%|          | 1/100 [00:21<34:48, 21.10s/it]"
     ]
    },
    {
     "name": "stdout",
     "output_type": "stream",
     "text": [
      "[231, 173, 2575, 1736, 2430, 123, 4600, 690, 1012, 447]\n"
     ]
    },
    {
     "name": "stderr",
     "output_type": "stream",
     "text": [
      "INFO:root: \n",
      "Avg Training Stats after 2 global rounds:\n",
      "INFO:root:Train Accuracy: 0.00%\n",
      "INFO:root:Training Loss : 1.1431540250641756\n",
      "INFO:root:Test Accuracy: 20.55%\n",
      "INFO:root:Test Loss: 2.317602210044861 \n",
      "\n",
      "  2%|▏         | 2/100 [00:43<35:25, 21.68s/it]"
     ]
    },
    {
     "name": "stdout",
     "output_type": "stream",
     "text": [
      "[744, 2575, 1320, 470, 2430, 2274, 267, 690, 209, 303]\n"
     ]
    },
    {
     "name": "stderr",
     "output_type": "stream",
     "text": [
      "INFO:root: \n",
      "Avg Training Stats after 3 global rounds:\n",
      "INFO:root:Train Accuracy: 0.00%\n",
      "INFO:root:Training Loss : 0.4765398115512795\n",
      "INFO:root:Test Accuracy: 13.87%\n",
      "INFO:root:Test Loss: 2.415390589237213 \n",
      "\n",
      "  3%|▎         | 3/100 [01:02<33:36, 20.79s/it]"
     ]
    },
    {
     "name": "stdout",
     "output_type": "stream",
     "text": [
      "[173, 690, 542, 1012, 2195, 1780, 1053, 87, 2934, 1736]\n"
     ]
    },
    {
     "name": "stderr",
     "output_type": "stream",
     "text": [
      "INFO:root: \n",
      "Avg Training Stats after 4 global rounds:\n",
      "INFO:root:Train Accuracy: 0.00%\n",
      "INFO:root:Training Loss : 0.6330930288157395\n",
      "INFO:root:Test Accuracy: 19.53%\n",
      "INFO:root:Test Loss: 2.4275516122579575 \n",
      "\n",
      "  4%|▍         | 4/100 [01:23<33:08, 20.71s/it]"
     ]
    },
    {
     "name": "stdout",
     "output_type": "stream",
     "text": [
      "[2430, 2575, 1736, 123, 15, 1780, 1018, 231, 87, 794]\n"
     ]
    },
    {
     "name": "stderr",
     "output_type": "stream",
     "text": [
      "INFO:root: \n",
      "Avg Training Stats after 5 global rounds:\n",
      "INFO:root:Train Accuracy: 0.00%\n",
      "INFO:root:Training Loss : 0.5340175468231366\n",
      "INFO:root:Test Accuracy: 21.49%\n",
      "INFO:root:Test Loss: 2.9155381751060485 \n",
      "\n",
      "  5%|▌         | 5/100 [01:42<31:49, 20.10s/it]"
     ]
    },
    {
     "name": "stdout",
     "output_type": "stream",
     "text": [
      "[1119, 87, 590, 794, 813, 303, 1320, 690, 1018, 422]\n"
     ]
    },
    {
     "name": "stderr",
     "output_type": "stream",
     "text": [
      "INFO:root: \n",
      "Avg Training Stats after 6 global rounds:\n",
      "INFO:root:Train Accuracy: 0.00%\n",
      "INFO:root:Training Loss : 0.39053412739584414\n",
      "INFO:root:Test Accuracy: 22.84%\n",
      "INFO:root:Test Loss: 2.5636642891168595 \n",
      "\n",
      "  6%|▌         | 6/100 [01:58<29:08, 18.60s/it]"
     ]
    },
    {
     "name": "stdout",
     "output_type": "stream",
     "text": [
      "[2029, 1433, 303, 327, 744, 862, 2934, 231, 1416, 278]\n"
     ]
    },
    {
     "name": "stderr",
     "output_type": "stream",
     "text": [
      "INFO:root: \n",
      "Avg Training Stats after 7 global rounds:\n",
      "INFO:root:Train Accuracy: 0.00%\n",
      "INFO:root:Training Loss : 0.47932777791421505\n",
      "INFO:root:Test Accuracy: 26.29%\n",
      "INFO:root:Test Loss: 2.1544650915265082 \n",
      "\n",
      "  7%|▋         | 7/100 [02:17<28:59, 18.70s/it]"
     ]
    },
    {
     "name": "stdout",
     "output_type": "stream",
     "text": [
      "[231, 1112, 327, 744, 286, 422, 15, 1798, 1053, 173]\n"
     ]
    },
    {
     "name": "stderr",
     "output_type": "stream",
     "text": [
      "INFO:root: \n",
      "Avg Training Stats after 8 global rounds:\n",
      "INFO:root:Train Accuracy: 0.00%\n",
      "INFO:root:Training Loss : 0.5337795183028791\n",
      "INFO:root:Test Accuracy: 28.59%\n",
      "INFO:root:Test Loss: 1.9149479389190673 \n",
      "\n",
      "  8%|▊         | 8/100 [02:31<26:43, 17.43s/it]"
     ]
    },
    {
     "name": "stdout",
     "output_type": "stream",
     "text": [
      "[794, 278, 744, 862, 303, 19, 2274, 1053, 813, 1012]\n"
     ]
    },
    {
     "name": "stderr",
     "output_type": "stream",
     "text": [
      "INFO:root: \n",
      "Avg Training Stats after 9 global rounds:\n",
      "INFO:root:Train Accuracy: 0.00%\n",
      "INFO:root:Training Loss : 0.33204435567070056\n",
      "INFO:root:Test Accuracy: 27.87%\n",
      "INFO:root:Test Loss: 2.1080453032255173 \n",
      "\n",
      "  9%|▉         | 9/100 [02:48<26:01, 17.16s/it]"
     ]
    },
    {
     "name": "stdout",
     "output_type": "stream",
     "text": [
      "[1320, 40, 1756, 470, 327, 1012, 862, 1433, 796, 231]\n"
     ]
    },
    {
     "name": "stderr",
     "output_type": "stream",
     "text": [
      "INFO:root: \n",
      "Avg Training Stats after 10 global rounds:\n",
      "INFO:root:Train Accuracy: 0.00%\n",
      "INFO:root:Training Loss : 0.24888711359058147\n",
      "INFO:root:Test Accuracy: 24.55%\n",
      "INFO:root:Test Loss: 2.2131697955727576 \n",
      "\n",
      " 10%|█         | 10/100 [03:05<25:30, 17.01s/it]"
     ]
    },
    {
     "name": "stdout",
     "output_type": "stream",
     "text": [
      "[87, 201, 1798, 813, 123, 2934, 1756, 231, 1053, 4600]\n"
     ]
    },
    {
     "name": "stderr",
     "output_type": "stream",
     "text": [
      "INFO:root: \n",
      "Avg Training Stats after 11 global rounds:\n",
      "INFO:root:Train Accuracy: 0.00%\n",
      "INFO:root:Training Loss : 0.3970934306590611\n",
      "INFO:root:Test Accuracy: 25.06%\n",
      "INFO:root:Test Loss: 2.256210994422436 \n",
      "\n",
      " 11%|█         | 11/100 [03:26<27:24, 18.47s/it]"
     ]
    },
    {
     "name": "stdout",
     "output_type": "stream",
     "text": [
      "[106, 231, 447, 796, 209, 1798, 1112, 1416, 590, 794]\n"
     ]
    },
    {
     "name": "stderr",
     "output_type": "stream",
     "text": [
      "INFO:root: \n",
      "Avg Training Stats after 12 global rounds:\n",
      "INFO:root:Train Accuracy: 0.00%\n",
      "INFO:root:Training Loss : 0.2457576609353073\n",
      "INFO:root:Test Accuracy: 25.82%\n",
      "INFO:root:Test Loss: 2.500277300477028 \n",
      "\n",
      " 12%|█▏        | 12/100 [03:42<26:00, 17.73s/it]"
     ]
    },
    {
     "name": "stdout",
     "output_type": "stream",
     "text": [
      "[1320, 278, 862, 2274, 1798, 87, 2029, 796, 1018, 2430]\n"
     ]
    },
    {
     "name": "stderr",
     "output_type": "stream",
     "text": [
      "INFO:root: \n",
      "Avg Training Stats after 13 global rounds:\n",
      "INFO:root:Train Accuracy: 0.00%\n",
      "INFO:root:Training Loss : 0.2955238371775353\n",
      "INFO:root:Test Accuracy: 34.31%\n",
      "INFO:root:Test Loss: 2.109571282863617 \n",
      "\n",
      " 13%|█▎        | 13/100 [04:03<27:06, 18.69s/it]"
     ]
    },
    {
     "name": "stdout",
     "output_type": "stream",
     "text": [
      "[4600, 2575, 590, 173, 2430, 40, 1112, 87, 231, 2195]\n"
     ]
    },
    {
     "name": "stderr",
     "output_type": "stream",
     "text": [
      "INFO:root: \n",
      "Avg Training Stats after 14 global rounds:\n",
      "INFO:root:Train Accuracy: 0.00%\n",
      "INFO:root:Training Loss : 0.3781605958164695\n",
      "INFO:root:Test Accuracy: 37.81%\n",
      "INFO:root:Test Loss: 1.809065228700638 \n",
      "\n",
      " 14%|█▍        | 14/100 [04:25<28:15, 19.71s/it]"
     ]
    },
    {
     "name": "stdout",
     "output_type": "stream",
     "text": [
      "[231, 794, 1018, 1012, 15, 303, 796, 2274, 1320, 19]\n"
     ]
    },
    {
     "name": "stderr",
     "output_type": "stream",
     "text": [
      "INFO:root: \n",
      "Avg Training Stats after 15 global rounds:\n",
      "INFO:root:Train Accuracy: 0.00%\n",
      "INFO:root:Training Loss : 0.32597047733047557\n",
      "INFO:root:Test Accuracy: 35.03%\n",
      "INFO:root:Test Loss: 1.8827486169338226 \n",
      "\n",
      " 15%|█▌        | 15/100 [04:41<26:21, 18.61s/it]"
     ]
    },
    {
     "name": "stdout",
     "output_type": "stream",
     "text": [
      "[2195, 40, 2029, 862, 2575, 1433, 447, 19, 4600, 796]\n"
     ]
    },
    {
     "name": "stderr",
     "output_type": "stream",
     "text": [
      "INFO:root: \n",
      "Avg Training Stats after 16 global rounds:\n",
      "INFO:root:Train Accuracy: 0.00%\n",
      "INFO:root:Training Loss : 0.27616810638973144\n",
      "INFO:root:Test Accuracy: 31.76%\n",
      "INFO:root:Test Loss: 2.119642822742462 \n",
      "\n",
      " 16%|█▌        | 16/100 [05:04<27:49, 19.88s/it]"
     ]
    },
    {
     "name": "stdout",
     "output_type": "stream",
     "text": [
      "[231, 173, 303, 2274, 796, 116, 1798, 447, 106, 1433]\n"
     ]
    },
    {
     "name": "stderr",
     "output_type": "stream",
     "text": [
      "INFO:root: \n",
      "Avg Training Stats after 17 global rounds:\n",
      "INFO:root:Train Accuracy: 0.00%\n",
      "INFO:root:Training Loss : 0.2788950364053614\n",
      "INFO:root:Test Accuracy: 37.58%\n",
      "INFO:root:Test Loss: 1.8174405407905578 \n",
      "\n",
      " 17%|█▋        | 17/100 [05:21<26:08, 18.90s/it]"
     ]
    },
    {
     "name": "stdout",
     "output_type": "stream",
     "text": [
      "[201, 1756, 796, 1320, 813, 542, 116, 173, 794, 1798]\n"
     ]
    },
    {
     "name": "stderr",
     "output_type": "stream",
     "text": [
      "INFO:root: \n",
      "Avg Training Stats after 18 global rounds:\n",
      "INFO:root:Train Accuracy: 0.00%\n",
      "INFO:root:Training Loss : 0.33728346156175737\n",
      "INFO:root:Test Accuracy: 42.63%\n",
      "INFO:root:Test Loss: 1.6814183366298676 \n",
      "\n",
      " 18%|█▊        | 18/100 [05:38<24:57, 18.26s/it]"
     ]
    },
    {
     "name": "stdout",
     "output_type": "stream",
     "text": [
      "[15, 1780, 19, 744, 2575, 173, 813, 40, 1320, 422]\n"
     ]
    },
    {
     "name": "stderr",
     "output_type": "stream",
     "text": [
      "INFO:root: \n",
      "Avg Training Stats after 19 global rounds:\n",
      "INFO:root:Train Accuracy: 0.00%\n",
      "INFO:root:Training Loss : 0.46143461382198936\n",
      "INFO:root:Test Accuracy: 39.79%\n",
      "INFO:root:Test Loss: 1.7589374673366547 \n",
      "\n",
      " 19%|█▉        | 19/100 [05:54<23:47, 17.63s/it]"
     ]
    },
    {
     "name": "stdout",
     "output_type": "stream",
     "text": [
      "[813, 1736, 15, 1433, 267, 470, 3195, 744, 2575, 231]\n"
     ]
    },
    {
     "name": "stderr",
     "output_type": "stream",
     "text": [
      "INFO:root: \n",
      "Avg Training Stats after 20 global rounds:\n",
      "INFO:root:Train Accuracy: 0.00%\n",
      "INFO:root:Training Loss : 0.3037613965759338\n",
      "INFO:root:Test Accuracy: 35.25%\n",
      "INFO:root:Test Loss: 1.925479254424572 \n",
      "\n",
      " 20%|██        | 20/100 [06:13<24:17, 18.21s/it]"
     ]
    },
    {
     "name": "stdout",
     "output_type": "stream",
     "text": [
      "[278, 744, 1053, 447, 1320, 116, 1798, 19, 4600, 3195]\n"
     ]
    },
    {
     "name": "stderr",
     "output_type": "stream",
     "text": [
      "INFO:root: \n",
      "Avg Training Stats after 21 global rounds:\n",
      "INFO:root:Train Accuracy: 0.00%\n",
      "INFO:root:Training Loss : 0.3573115729196046\n",
      "INFO:root:Test Accuracy: 37.30%\n",
      "INFO:root:Test Loss: 1.7844981795549393 \n",
      "\n",
      " 21%|██        | 21/100 [06:35<25:18, 19.22s/it]"
     ]
    },
    {
     "name": "stdout",
     "output_type": "stream",
     "text": [
      "[813, 2029, 602, 590, 1756, 106, 1780, 40, 19, 2934]\n"
     ]
    },
    {
     "name": "stderr",
     "output_type": "stream",
     "text": [
      "INFO:root: \n",
      "Avg Training Stats after 22 global rounds:\n",
      "INFO:root:Train Accuracy: 0.00%\n",
      "INFO:root:Training Loss : 0.20192653117996104\n",
      "INFO:root:Test Accuracy: 33.65%\n",
      "INFO:root:Test Loss: 1.8629238784313202 \n",
      "\n",
      " 22%|██▏       | 22/100 [06:54<24:50, 19.11s/it]"
     ]
    },
    {
     "name": "stdout",
     "output_type": "stream",
     "text": [
      "[40, 862, 327, 1780, 2274, 106, 1053, 1112, 1012, 3195]\n"
     ]
    },
    {
     "name": "stderr",
     "output_type": "stream",
     "text": [
      "INFO:root: \n",
      "Avg Training Stats after 23 global rounds:\n",
      "INFO:root:Train Accuracy: 0.00%\n",
      "INFO:root:Training Loss : 0.2825193466759787\n",
      "INFO:root:Test Accuracy: 31.70%\n",
      "INFO:root:Test Loss: 1.9785898232460022 \n",
      "\n",
      " 23%|██▎       | 23/100 [07:14<24:49, 19.34s/it]"
     ]
    },
    {
     "name": "stdout",
     "output_type": "stream",
     "text": [
      "[1320, 1119, 862, 744, 1053, 87, 201, 470, 2274, 1012]\n"
     ]
    },
    {
     "name": "stderr",
     "output_type": "stream",
     "text": [
      "INFO:root: \n",
      "Avg Training Stats after 24 global rounds:\n",
      "INFO:root:Train Accuracy: 0.00%\n",
      "INFO:root:Training Loss : 0.28892627175190283\n",
      "INFO:root:Test Accuracy: 35.31%\n",
      "INFO:root:Test Loss: 1.9243147227168083 \n",
      "\n",
      " 24%|██▍       | 24/100 [07:32<23:56, 18.90s/it]"
     ]
    },
    {
     "name": "stdout",
     "output_type": "stream",
     "text": [
      "[447, 286, 1416, 87, 796, 1798, 231, 1119, 431, 2195]\n"
     ]
    },
    {
     "name": "stderr",
     "output_type": "stream",
     "text": [
      "INFO:root: \n",
      "Avg Training Stats after 25 global rounds:\n",
      "INFO:root:Train Accuracy: 0.00%\n",
      "INFO:root:Training Loss : 0.3537686603174281\n",
      "INFO:root:Test Accuracy: 34.32%\n",
      "INFO:root:Test Loss: 1.947199376821518 \n",
      "\n",
      " 25%|██▌       | 25/100 [07:49<23:05, 18.47s/it]"
     ]
    },
    {
     "name": "stdout",
     "output_type": "stream",
     "text": [
      "[116, 2029, 690, 1416, 1780, 602, 2575, 1756, 431, 87]\n"
     ]
    },
    {
     "name": "stderr",
     "output_type": "stream",
     "text": [
      "INFO:root: \n",
      "Avg Training Stats after 26 global rounds:\n",
      "INFO:root:Train Accuracy: 0.00%\n",
      "INFO:root:Training Loss : 0.3797167950841255\n",
      "INFO:root:Test Accuracy: 34.00%\n",
      "INFO:root:Test Loss: 2.018102698177099 \n",
      "\n",
      " 26%|██▌       | 26/100 [08:09<23:14, 18.84s/it]"
     ]
    },
    {
     "name": "stdout",
     "output_type": "stream",
     "text": [
      "[87, 173, 2029, 19, 4600, 2195, 116, 303, 40, 209]\n"
     ]
    },
    {
     "name": "stderr",
     "output_type": "stream",
     "text": [
      "INFO:root: \n",
      "Avg Training Stats after 27 global rounds:\n",
      "INFO:root:Train Accuracy: 0.00%\n",
      "INFO:root:Training Loss : 0.437249965018621\n",
      "INFO:root:Test Accuracy: 33.36%\n",
      "INFO:root:Test Loss: 2.0759012511372568 \n",
      "\n",
      " 27%|██▋       | 27/100 [08:27<22:40, 18.64s/it]"
     ]
    },
    {
     "name": "stdout",
     "output_type": "stream",
     "text": [
      "[4600, 267, 794, 231, 201, 231, 2934, 590, 470, 173]\n"
     ]
    },
    {
     "name": "stderr",
     "output_type": "stream",
     "text": [
      "INFO:root: \n",
      "Avg Training Stats after 28 global rounds:\n",
      "INFO:root:Train Accuracy: 0.00%\n",
      "INFO:root:Training Loss : 0.33896310206515967\n",
      "INFO:root:Test Accuracy: 34.84%\n",
      "INFO:root:Test Loss: 1.9069905948638917 \n",
      "\n",
      " 28%|██▊       | 28/100 [08:46<22:29, 18.74s/it]"
     ]
    },
    {
     "name": "stdout",
     "output_type": "stream",
     "text": [
      "[1798, 286, 123, 1112, 303, 796, 744, 1320, 231, 794]\n"
     ]
    },
    {
     "name": "stderr",
     "output_type": "stream",
     "text": [
      "INFO:root: \n",
      "Avg Training Stats after 29 global rounds:\n",
      "INFO:root:Train Accuracy: 0.00%\n",
      "INFO:root:Training Loss : 0.16826651813932653\n",
      "INFO:root:Test Accuracy: 41.04%\n",
      "INFO:root:Test Loss: 1.6308944550156594 \n",
      "\n",
      " 29%|██▉       | 29/100 [09:02<21:18, 18.01s/it]"
     ]
    },
    {
     "name": "stdout",
     "output_type": "stream",
     "text": [
      "[303, 4600, 1119, 447, 744, 40, 1756, 2430, 2029, 602]\n"
     ]
    },
    {
     "name": "stderr",
     "output_type": "stream",
     "text": [
      "INFO:root: \n",
      "Avg Training Stats after 30 global rounds:\n",
      "INFO:root:Train Accuracy: 0.00%\n",
      "INFO:root:Training Loss : 0.1916337692585938\n",
      "INFO:root:Test Accuracy: 46.19%\n",
      "INFO:root:Test Loss: 1.4663777947425842 \n",
      "\n",
      " 30%|███       | 30/100 [09:24<22:28, 19.26s/it]"
     ]
    },
    {
     "name": "stdout",
     "output_type": "stream",
     "text": [
      "[422, 3195, 1112, 327, 123, 1736, 303, 286, 106, 1433]\n"
     ]
    },
    {
     "name": "stderr",
     "output_type": "stream",
     "text": [
      "INFO:root: \n",
      "Avg Training Stats after 31 global rounds:\n",
      "INFO:root:Train Accuracy: 0.00%\n",
      "INFO:root:Training Loss : 0.23559731484475788\n",
      "INFO:root:Test Accuracy: 43.37%\n",
      "INFO:root:Test Loss: 1.5732302021980287 \n",
      "\n",
      " 31%|███       | 31/100 [09:42<21:31, 18.72s/it]"
     ]
    },
    {
     "name": "stdout",
     "output_type": "stream",
     "text": [
      "[862, 173, 422, 303, 123, 1012, 542, 278, 431, 2195]\n"
     ]
    },
    {
     "name": "stderr",
     "output_type": "stream",
     "text": [
      "INFO:root: \n",
      "Avg Training Stats after 32 global rounds:\n",
      "INFO:root:Train Accuracy: 0.00%\n",
      "INFO:root:Training Loss : 0.3756614453265759\n",
      "INFO:root:Test Accuracy: 39.38%\n",
      "INFO:root:Test Loss: 1.6887271630764007 \n",
      "\n",
      " 32%|███▏      | 32/100 [09:57<19:57, 17.61s/it]"
     ]
    },
    {
     "name": "stdout",
     "output_type": "stream",
     "text": [
      "[1320, 15, 19, 1756, 231, 470, 267, 87, 862, 327]\n"
     ]
    },
    {
     "name": "stderr",
     "output_type": "stream",
     "text": [
      "INFO:root: \n",
      "Avg Training Stats after 33 global rounds:\n",
      "INFO:root:Train Accuracy: 0.00%\n",
      "INFO:root:Training Loss : 0.3967619638669512\n",
      "INFO:root:Test Accuracy: 38.64%\n",
      "INFO:root:Test Loss: 1.7817019522190094 \n",
      "\n",
      " 33%|███▎      | 33/100 [10:11<18:27, 16.53s/it]"
     ]
    },
    {
     "name": "stdout",
     "output_type": "stream",
     "text": [
      "[87, 267, 796, 1053, 1433, 2575, 1119, 794, 15, 327]\n"
     ]
    },
    {
     "name": "stderr",
     "output_type": "stream",
     "text": [
      "INFO:root: \n",
      "Avg Training Stats after 34 global rounds:\n",
      "INFO:root:Train Accuracy: 0.00%\n",
      "INFO:root:Training Loss : 0.3327370050130801\n",
      "INFO:root:Test Accuracy: 43.06%\n",
      "INFO:root:Test Loss: 1.722597099840641 \n",
      "\n",
      " 34%|███▍      | 34/100 [10:28<18:16, 16.62s/it]"
     ]
    },
    {
     "name": "stdout",
     "output_type": "stream",
     "text": [
      "[422, 1798, 590, 796, 19, 1320, 173, 1416, 1053, 4600]\n"
     ]
    },
    {
     "name": "stderr",
     "output_type": "stream",
     "text": [
      "INFO:root: \n",
      "Avg Training Stats after 35 global rounds:\n",
      "INFO:root:Train Accuracy: 0.00%\n",
      "INFO:root:Training Loss : 0.32355153229307154\n",
      "INFO:root:Test Accuracy: 47.12%\n",
      "INFO:root:Test Loss: 1.6357435226440429 \n",
      "\n",
      " 35%|███▌      | 35/100 [10:48<19:13, 17.75s/it]"
     ]
    },
    {
     "name": "stdout",
     "output_type": "stream",
     "text": [
      "[2430, 1320, 602, 3195, 231, 2934, 431, 794, 1416, 542]\n"
     ]
    },
    {
     "name": "stderr",
     "output_type": "stream",
     "text": [
      "INFO:root: \n",
      "Avg Training Stats after 36 global rounds:\n",
      "INFO:root:Train Accuracy: 0.00%\n",
      "INFO:root:Training Loss : 0.24299905736508026\n",
      "INFO:root:Test Accuracy: 44.73%\n",
      "INFO:root:Test Loss: 1.6300008311867713 \n",
      "\n",
      " 36%|███▌      | 36/100 [11:10<20:13, 18.97s/it]"
     ]
    },
    {
     "name": "stdout",
     "output_type": "stream",
     "text": [
      "[15, 813, 1112, 123, 40, 796, 2274, 1018, 2195, 201]\n"
     ]
    },
    {
     "name": "stderr",
     "output_type": "stream",
     "text": [
      "INFO:root: \n",
      "Avg Training Stats after 37 global rounds:\n",
      "INFO:root:Train Accuracy: 0.00%\n",
      "INFO:root:Training Loss : 0.27659087287709855\n",
      "INFO:root:Test Accuracy: 42.17%\n",
      "INFO:root:Test Loss: 1.6080553507804871 \n",
      "\n",
      " 37%|███▋      | 37/100 [11:27<19:20, 18.43s/it]"
     ]
    },
    {
     "name": "stdout",
     "output_type": "stream",
     "text": [
      "[303, 2195, 422, 1112, 1433, 116, 796, 602, 1756, 231]\n"
     ]
    },
    {
     "name": "stderr",
     "output_type": "stream",
     "text": [
      "INFO:root: \n",
      "Avg Training Stats after 38 global rounds:\n",
      "INFO:root:Train Accuracy: 0.00%\n",
      "INFO:root:Training Loss : 0.24797584243167342\n",
      "INFO:root:Test Accuracy: 44.47%\n",
      "INFO:root:Test Loss: 1.528677614033222 \n",
      "\n",
      " 38%|███▊      | 38/100 [11:44<18:43, 18.12s/it]"
     ]
    },
    {
     "name": "stdout",
     "output_type": "stream",
     "text": [
      "[1756, 231, 267, 2430, 590, 1736, 15, 4600, 327, 1112]\n"
     ]
    },
    {
     "name": "stderr",
     "output_type": "stream",
     "text": [
      "INFO:root: \n",
      "Avg Training Stats after 39 global rounds:\n",
      "INFO:root:Train Accuracy: 0.00%\n",
      "INFO:root:Training Loss : 0.2604200858923632\n",
      "INFO:root:Test Accuracy: 46.99%\n",
      "INFO:root:Test Loss: 1.482860363125801 \n",
      "\n",
      " 39%|███▉      | 39/100 [12:06<19:20, 19.03s/it]"
     ]
    },
    {
     "name": "stdout",
     "output_type": "stream",
     "text": [
      "[2575, 422, 3195, 862, 231, 796, 2934, 123, 2430, 794]\n"
     ]
    },
    {
     "name": "stderr",
     "output_type": "stream",
     "text": [
      "INFO:root: \n",
      "Avg Training Stats after 40 global rounds:\n",
      "INFO:root:Train Accuracy: 0.00%\n",
      "INFO:root:Training Loss : 0.22658591559074903\n",
      "INFO:root:Test Accuracy: 47.14%\n",
      "INFO:root:Test Loss: 1.4865737974643707 \n",
      "\n",
      " 40%|████      | 40/100 [12:28<20:02, 20.04s/it]"
     ]
    },
    {
     "name": "stdout",
     "output_type": "stream",
     "text": [
      "[231, 1119, 1736, 278, 447, 1018, 286, 744, 690, 173]\n"
     ]
    },
    {
     "name": "stderr",
     "output_type": "stream",
     "text": [
      "INFO:root: \n",
      "Avg Training Stats after 41 global rounds:\n",
      "INFO:root:Train Accuracy: 0.00%\n",
      "INFO:root:Training Loss : 0.26023911145780126\n",
      "INFO:root:Test Accuracy: 46.57%\n",
      "INFO:root:Test Loss: 1.4919996017217636 \n",
      "\n",
      " 41%|████      | 41/100 [12:43<18:21, 18.66s/it]"
     ]
    },
    {
     "name": "stdout",
     "output_type": "stream",
     "text": [
      "[231, 1320, 1416, 2575, 2274, 862, 690, 602, 1012, 173]\n"
     ]
    },
    {
     "name": "stderr",
     "output_type": "stream",
     "text": [
      "INFO:root: \n",
      "Avg Training Stats after 42 global rounds:\n",
      "INFO:root:Train Accuracy: 0.00%\n",
      "INFO:root:Training Loss : 0.26485833648854074\n",
      "INFO:root:Test Accuracy: 49.45%\n",
      "INFO:root:Test Loss: 1.397933633327484 \n",
      "\n",
      " 42%|████▏     | 42/100 [13:03<18:17, 18.92s/it]"
     ]
    },
    {
     "name": "stdout",
     "output_type": "stream",
     "text": [
      "[1112, 1053, 3195, 2934, 2029, 201, 123, 2195, 1018, 173]\n"
     ]
    },
    {
     "name": "stderr",
     "output_type": "stream",
     "text": [
      "INFO:root: \n",
      "Avg Training Stats after 43 global rounds:\n",
      "INFO:root:Train Accuracy: 0.00%\n",
      "INFO:root:Training Loss : 0.2880705971372099\n",
      "INFO:root:Test Accuracy: 50.92%\n",
      "INFO:root:Test Loss: 1.3740156197547913 \n",
      "\n",
      " 43%|████▎     | 43/100 [13:25<18:56, 19.95s/it]"
     ]
    },
    {
     "name": "stdout",
     "output_type": "stream",
     "text": [
      "[862, 1053, 422, 3195, 4600, 794, 1756, 173, 2029, 1018]\n"
     ]
    },
    {
     "name": "stderr",
     "output_type": "stream",
     "text": [
      "INFO:root: \n",
      "Avg Training Stats after 44 global rounds:\n",
      "INFO:root:Train Accuracy: 0.00%\n",
      "INFO:root:Training Loss : 0.2831694962229932\n",
      "INFO:root:Test Accuracy: 45.55%\n",
      "INFO:root:Test Loss: 1.6020053574442863 \n",
      "\n",
      " 44%|████▍     | 44/100 [13:49<19:42, 21.12s/it]"
     ]
    },
    {
     "name": "stdout",
     "output_type": "stream",
     "text": [
      "[1320, 2934, 796, 2195, 862, 2575, 2029, 19, 422, 286]\n"
     ]
    },
    {
     "name": "stderr",
     "output_type": "stream",
     "text": [
      "INFO:root: \n",
      "Avg Training Stats after 45 global rounds:\n",
      "INFO:root:Train Accuracy: 0.00%\n",
      "INFO:root:Training Loss : 0.23491405295120135\n",
      "INFO:root:Test Accuracy: 40.46%\n",
      "INFO:root:Test Loss: 1.8948321807384492 \n",
      "\n",
      " 45%|████▌     | 45/100 [14:11<19:29, 21.27s/it]"
     ]
    },
    {
     "name": "stdout",
     "output_type": "stream",
     "text": [
      "[862, 744, 1416, 1112, 590, 542, 278, 690, 116, 1780]\n"
     ]
    },
    {
     "name": "stderr",
     "output_type": "stream",
     "text": [
      "INFO:root: \n",
      "Avg Training Stats after 46 global rounds:\n",
      "INFO:root:Train Accuracy: 0.00%\n",
      "INFO:root:Training Loss : 0.34214397419076625\n",
      "INFO:root:Test Accuracy: 40.04%\n",
      "INFO:root:Test Loss: 1.9426018725335599 \n",
      "\n",
      " 46%|████▌     | 46/100 [14:27<17:52, 19.86s/it]"
     ]
    },
    {
     "name": "stdout",
     "output_type": "stream",
     "text": [
      "[2575, 1112, 1320, 231, 3195, 1012, 862, 447, 2195, 201]\n"
     ]
    },
    {
     "name": "stderr",
     "output_type": "stream",
     "text": [
      "INFO:root: \n",
      "Avg Training Stats after 47 global rounds:\n",
      "INFO:root:Train Accuracy: 0.00%\n",
      "INFO:root:Training Loss : 0.17282486855405665\n",
      "INFO:root:Test Accuracy: 40.91%\n",
      "INFO:root:Test Loss: 1.7888035845756531 \n",
      "\n",
      " 47%|████▋     | 47/100 [14:49<17:55, 20.28s/it]"
     ]
    },
    {
     "name": "stdout",
     "output_type": "stream",
     "text": [
      "[1433, 542, 813, 231, 1119, 2029, 1012, 173, 2195, 1320]\n"
     ]
    },
    {
     "name": "stderr",
     "output_type": "stream",
     "text": [
      "INFO:root: \n",
      "Avg Training Stats after 48 global rounds:\n",
      "INFO:root:Train Accuracy: 0.00%\n",
      "INFO:root:Training Loss : 0.17972352976446687\n",
      "INFO:root:Test Accuracy: 44.81%\n",
      "INFO:root:Test Loss: 1.5614099997282027 \n",
      "\n",
      " 48%|████▊     | 48/100 [15:08<17:17, 19.95s/it]"
     ]
    },
    {
     "name": "stdout",
     "output_type": "stream",
     "text": [
      "[744, 2195, 209, 1780, 2575, 123, 327, 40, 1736, 690]\n"
     ]
    },
    {
     "name": "stderr",
     "output_type": "stream",
     "text": [
      "INFO:root: \n",
      "Avg Training Stats after 49 global rounds:\n",
      "INFO:root:Train Accuracy: 0.00%\n",
      "INFO:root:Training Loss : 0.31760660442569966\n",
      "INFO:root:Test Accuracy: 48.31%\n",
      "INFO:root:Test Loss: 1.4289394995570184 \n",
      "\n",
      " 49%|████▉     | 49/100 [15:27<16:43, 19.68s/it]"
     ]
    },
    {
     "name": "stdout",
     "output_type": "stream",
     "text": [
      "[862, 690, 1433, 173, 3195, 2934, 116, 447, 231, 431]\n"
     ]
    },
    {
     "name": "stderr",
     "output_type": "stream",
     "text": [
      "INFO:root: \n",
      "Avg Training Stats after 50 global rounds:\n",
      "INFO:root:Train Accuracy: 0.00%\n",
      "INFO:root:Training Loss : 0.3019837969293977\n",
      "INFO:root:Test Accuracy: 45.54%\n",
      "INFO:root:Test Loss: 1.5135004514455794 \n",
      "\n",
      " 50%|█████     | 50/100 [15:46<16:11, 19.43s/it]"
     ]
    },
    {
     "name": "stdout",
     "output_type": "stream",
     "text": [
      "[1320, 19, 3195, 87, 1756, 303, 813, 2575, 231, 231]\n"
     ]
    },
    {
     "name": "stderr",
     "output_type": "stream",
     "text": [
      "INFO:root: \n",
      "Avg Training Stats after 51 global rounds:\n",
      "INFO:root:Train Accuracy: 0.00%\n",
      "INFO:root:Training Loss : 0.11807106802784126\n",
      "INFO:root:Test Accuracy: 38.36%\n",
      "INFO:root:Test Loss: 1.919878284484148 \n",
      "\n",
      " 51%|█████     | 51/100 [16:05<15:44, 19.27s/it]"
     ]
    },
    {
     "name": "stdout",
     "output_type": "stream",
     "text": [
      "[40, 813, 1780, 2934, 15, 173, 278, 19, 1798, 267]\n"
     ]
    },
    {
     "name": "stderr",
     "output_type": "stream",
     "text": [
      "INFO:root: \n",
      "Avg Training Stats after 52 global rounds:\n",
      "INFO:root:Train Accuracy: 0.00%\n",
      "INFO:root:Training Loss : 0.36683983624585814\n",
      "INFO:root:Test Accuracy: 37.76%\n",
      "INFO:root:Test Loss: 1.9222906333208085 \n",
      "\n",
      " 52%|█████▏    | 52/100 [16:21<14:44, 18.42s/it]"
     ]
    },
    {
     "name": "stdout",
     "output_type": "stream",
     "text": [
      "[267, 231, 690, 173, 1780, 1053, 862, 590, 1433, 303]\n"
     ]
    },
    {
     "name": "stderr",
     "output_type": "stream",
     "text": [
      "INFO:root: \n",
      "Avg Training Stats after 53 global rounds:\n",
      "INFO:root:Train Accuracy: 0.00%\n",
      "INFO:root:Training Loss : 0.2857367217291288\n",
      "INFO:root:Test Accuracy: 48.01%\n",
      "INFO:root:Test Loss: 1.4790730366110802 \n",
      "\n",
      " 53%|█████▎    | 53/100 [16:37<13:52, 17.70s/it]"
     ]
    },
    {
     "name": "stdout",
     "output_type": "stream",
     "text": [
      "[431, 3195, 201, 796, 2934, 15, 231, 1112, 1736, 267]\n"
     ]
    },
    {
     "name": "stderr",
     "output_type": "stream",
     "text": [
      "INFO:root: \n",
      "Avg Training Stats after 54 global rounds:\n",
      "INFO:root:Train Accuracy: 0.00%\n",
      "INFO:root:Training Loss : 0.27935375555420544\n",
      "INFO:root:Test Accuracy: 54.37%\n",
      "INFO:root:Test Loss: 1.27567673265934 \n",
      "\n",
      " 54%|█████▍    | 54/100 [16:56<13:54, 18.15s/it]"
     ]
    },
    {
     "name": "stdout",
     "output_type": "stream",
     "text": [
      "[40, 1320, 1416, 286, 2195, 1012, 201, 116, 1053, 542]\n"
     ]
    },
    {
     "name": "stderr",
     "output_type": "stream",
     "text": [
      "INFO:root: \n",
      "Avg Training Stats after 55 global rounds:\n",
      "INFO:root:Train Accuracy: 0.00%\n",
      "INFO:root:Training Loss : 0.28862708787713587\n",
      "INFO:root:Test Accuracy: 50.72%\n",
      "INFO:root:Test Loss: 1.4314624005556107 \n",
      "\n",
      " 55%|█████▌    | 55/100 [17:13<13:15, 17.69s/it]"
     ]
    },
    {
     "name": "stdout",
     "output_type": "stream",
     "text": [
      "[1798, 422, 231, 4600, 231, 2575, 1433, 106, 1320, 862]\n"
     ]
    },
    {
     "name": "stderr",
     "output_type": "stream",
     "text": [
      "INFO:root: \n",
      "Avg Training Stats after 56 global rounds:\n",
      "INFO:root:Train Accuracy: 0.00%\n",
      "INFO:root:Training Loss : 0.16290326972072586\n",
      "INFO:root:Test Accuracy: 48.25%\n",
      "INFO:root:Test Loss: 1.5455395099520683 \n",
      "\n",
      " 56%|█████▌    | 56/100 [17:35<13:53, 18.95s/it]"
     ]
    },
    {
     "name": "stdout",
     "output_type": "stream",
     "text": [
      "[2274, 3195, 267, 2029, 590, 327, 2195, 278, 1756, 813]\n"
     ]
    },
    {
     "name": "stderr",
     "output_type": "stream",
     "text": [
      "INFO:root: \n",
      "Avg Training Stats after 57 global rounds:\n",
      "INFO:root:Train Accuracy: 0.00%\n",
      "INFO:root:Training Loss : 0.18957470087852246\n",
      "INFO:root:Test Accuracy: 48.24%\n",
      "INFO:root:Test Loss: 1.5646216563880444 \n",
      "\n",
      " 57%|█████▋    | 57/100 [17:57<14:11, 19.80s/it]"
     ]
    },
    {
     "name": "stdout",
     "output_type": "stream",
     "text": [
      "[1798, 431, 123, 1320, 1416, 231, 2575, 2934, 19, 1756]\n"
     ]
    },
    {
     "name": "stderr",
     "output_type": "stream",
     "text": [
      "INFO:root: \n",
      "Avg Training Stats after 58 global rounds:\n",
      "INFO:root:Train Accuracy: 0.00%\n",
      "INFO:root:Training Loss : 0.26079199289763283\n",
      "INFO:root:Test Accuracy: 53.84%\n",
      "INFO:root:Test Loss: 1.2780826213955878 \n",
      "\n",
      " 58%|█████▊    | 58/100 [18:17<14:02, 20.07s/it]"
     ]
    },
    {
     "name": "stdout",
     "output_type": "stream",
     "text": [
      "[1018, 267, 2274, 447, 2029, 690, 590, 303, 1119, 796]\n"
     ]
    },
    {
     "name": "stderr",
     "output_type": "stream",
     "text": [
      "INFO:root: \n",
      "Avg Training Stats after 59 global rounds:\n",
      "INFO:root:Train Accuracy: 0.00%\n",
      "INFO:root:Training Loss : 0.13395548992894468\n",
      "INFO:root:Test Accuracy: 55.58%\n",
      "INFO:root:Test Loss: 1.2283959522843362 \n",
      "\n",
      " 59%|█████▉    | 59/100 [18:35<13:16, 19.42s/it]"
     ]
    },
    {
     "name": "stdout",
     "output_type": "stream",
     "text": [
      "[106, 2430, 447, 1433, 1012, 3195, 1119, 1756, 862, 4600]\n"
     ]
    },
    {
     "name": "stderr",
     "output_type": "stream",
     "text": [
      "INFO:root: \n",
      "Avg Training Stats after 60 global rounds:\n",
      "INFO:root:Train Accuracy: 0.00%\n",
      "INFO:root:Training Loss : 0.10713954485208332\n",
      "INFO:root:Test Accuracy: 48.26%\n",
      "INFO:root:Test Loss: 1.4870771157741547 \n",
      "\n",
      " 60%|██████    | 60/100 [19:00<14:01, 21.03s/it]"
     ]
    },
    {
     "name": "stdout",
     "output_type": "stream",
     "text": [
      "[1780, 1320, 286, 2029, 40, 796, 447, 15, 231, 744]\n"
     ]
    },
    {
     "name": "stderr",
     "output_type": "stream",
     "text": [
      "INFO:root: \n",
      "Avg Training Stats after 61 global rounds:\n",
      "INFO:root:Train Accuracy: 0.00%\n",
      "INFO:root:Training Loss : 0.24032527088422045\n",
      "INFO:root:Test Accuracy: 49.86%\n",
      "INFO:root:Test Loss: 1.5409087181091308 \n",
      "\n",
      " 61%|██████    | 61/100 [19:16<12:43, 19.58s/it]"
     ]
    },
    {
     "name": "stdout",
     "output_type": "stream",
     "text": [
      "[116, 15, 2029, 327, 19, 470, 422, 87, 1012, 303]\n"
     ]
    },
    {
     "name": "stderr",
     "output_type": "stream",
     "text": [
      "INFO:root: \n",
      "Avg Training Stats after 62 global rounds:\n",
      "INFO:root:Train Accuracy: 0.00%\n",
      "INFO:root:Training Loss : 0.34285713794322425\n",
      "INFO:root:Test Accuracy: 52.93%\n",
      "INFO:root:Test Loss: 1.5572823110222815 \n",
      "\n",
      " 62%|██████▏   | 62/100 [19:30<11:16, 17.80s/it]"
     ]
    },
    {
     "name": "stdout",
     "output_type": "stream",
     "text": [
      "[796, 2274, 862, 286, 813, 3195, 1112, 422, 1119, 327]\n"
     ]
    },
    {
     "name": "stderr",
     "output_type": "stream",
     "text": [
      "INFO:root: \n",
      "Avg Training Stats after 63 global rounds:\n",
      "INFO:root:Train Accuracy: 0.00%\n",
      "INFO:root:Training Loss : 0.1784617094781969\n",
      "INFO:root:Test Accuracy: 52.08%\n",
      "INFO:root:Test Loss: 1.605212339311838 \n",
      "\n",
      " 63%|██████▎   | 63/100 [19:49<11:17, 18.30s/it]"
     ]
    },
    {
     "name": "stdout",
     "output_type": "stream",
     "text": [
      "[542, 1798, 690, 15, 267, 2575, 796, 590, 209, 470]\n"
     ]
    },
    {
     "name": "stderr",
     "output_type": "stream",
     "text": [
      "INFO:root: \n",
      "Avg Training Stats after 64 global rounds:\n",
      "INFO:root:Train Accuracy: 0.00%\n",
      "INFO:root:Training Loss : 0.27947925630116693\n",
      "INFO:root:Test Accuracy: 51.32%\n",
      "INFO:root:Test Loss: 1.5451702196896075 \n",
      "\n",
      " 64%|██████▍   | 64/100 [20:06<10:37, 17.72s/it]"
     ]
    },
    {
     "name": "stdout",
     "output_type": "stream",
     "text": [
      "[87, 267, 286, 1053, 303, 796, 40, 173, 19, 327]\n"
     ]
    },
    {
     "name": "stderr",
     "output_type": "stream",
     "text": [
      "INFO:root: \n",
      "Avg Training Stats after 65 global rounds:\n",
      "INFO:root:Train Accuracy: 0.00%\n",
      "INFO:root:Training Loss : 0.2942640402100004\n",
      "INFO:root:Test Accuracy: 51.17%\n",
      "INFO:root:Test Loss: 1.501764519289136 \n",
      "\n",
      " 65%|██████▌   | 65/100 [20:18<09:21, 16.04s/it]"
     ]
    },
    {
     "name": "stdout",
     "output_type": "stream",
     "text": [
      "[813, 542, 106, 123, 4600, 40, 209, 2029, 1736, 2195]\n"
     ]
    },
    {
     "name": "stderr",
     "output_type": "stream",
     "text": [
      "INFO:root: \n",
      "Avg Training Stats after 66 global rounds:\n",
      "INFO:root:Train Accuracy: 0.00%\n",
      "INFO:root:Training Loss : 0.23897713135059773\n",
      "INFO:root:Test Accuracy: 53.31%\n",
      "INFO:root:Test Loss: 1.3716759723424912 \n",
      "\n",
      " 66%|██████▌   | 66/100 [20:38<09:48, 17.32s/it]"
     ]
    },
    {
     "name": "stdout",
     "output_type": "stream",
     "text": [
      "[1416, 1320, 201, 744, 2934, 447, 278, 2430, 1018, 2274]\n"
     ]
    },
    {
     "name": "stderr",
     "output_type": "stream",
     "text": [
      "INFO:root: \n",
      "Avg Training Stats after 67 global rounds:\n",
      "INFO:root:Train Accuracy: 0.00%\n",
      "INFO:root:Training Loss : 0.1901704483434115\n",
      "INFO:root:Test Accuracy: 49.58%\n",
      "INFO:root:Test Loss: 1.3785856026411056 \n",
      "\n",
      " 67%|██████▋   | 67/100 [20:59<10:10, 18.49s/it]"
     ]
    },
    {
     "name": "stdout",
     "output_type": "stream",
     "text": [
      "[303, 1012, 470, 123, 106, 201, 87, 1736, 2934, 2575]\n"
     ]
    },
    {
     "name": "stderr",
     "output_type": "stream",
     "text": [
      "INFO:root: \n",
      "Avg Training Stats after 68 global rounds:\n",
      "INFO:root:Train Accuracy: 0.00%\n",
      "INFO:root:Training Loss : 0.14859391252813986\n",
      "INFO:root:Test Accuracy: 46.10%\n",
      "INFO:root:Test Loss: 1.4679114642739295 \n",
      "\n",
      " 68%|██████▊   | 68/100 [21:17<09:48, 18.40s/it]"
     ]
    },
    {
     "name": "stdout",
     "output_type": "stream",
     "text": [
      "[3195, 794, 690, 2029, 231, 1756, 1112, 1736, 201, 813]\n"
     ]
    },
    {
     "name": "stderr",
     "output_type": "stream",
     "text": [
      "INFO:root: \n",
      "Avg Training Stats after 69 global rounds:\n",
      "INFO:root:Train Accuracy: 0.00%\n",
      "INFO:root:Training Loss : 0.11799412621018868\n",
      "INFO:root:Test Accuracy: 46.46%\n",
      "INFO:root:Test Loss: 1.4430462342500687 \n",
      "\n",
      " 69%|██████▉   | 69/100 [21:38<09:52, 19.11s/it]"
     ]
    },
    {
     "name": "stdout",
     "output_type": "stream",
     "text": [
      "[106, 40, 278, 422, 470, 2029, 2934, 744, 2274, 327]\n"
     ]
    },
    {
     "name": "stderr",
     "output_type": "stream",
     "text": [
      "INFO:root: \n",
      "Avg Training Stats after 70 global rounds:\n",
      "INFO:root:Train Accuracy: 0.00%\n",
      "INFO:root:Training Loss : 0.17782104449602626\n",
      "INFO:root:Test Accuracy: 50.80%\n",
      "INFO:root:Test Loss: 1.364751192331314 \n",
      "\n",
      " 70%|███████   | 70/100 [21:56<09:23, 18.79s/it]"
     ]
    },
    {
     "name": "stdout",
     "output_type": "stream",
     "text": [
      "[3195, 267, 303, 173, 286, 2029, 422, 1012, 796, 106]\n"
     ]
    },
    {
     "name": "stderr",
     "output_type": "stream",
     "text": [
      "INFO:root: \n",
      "Avg Training Stats after 71 global rounds:\n",
      "INFO:root:Train Accuracy: 0.00%\n",
      "INFO:root:Training Loss : 0.1783099881194619\n",
      "INFO:root:Test Accuracy: 50.76%\n",
      "INFO:root:Test Loss: 1.4175112751126289 \n",
      "\n",
      " 71%|███████   | 71/100 [22:13<08:50, 18.30s/it]"
     ]
    },
    {
     "name": "stdout",
     "output_type": "stream",
     "text": [
      "[209, 40, 4600, 106, 123, 1012, 690, 542, 602, 2575]\n"
     ]
    },
    {
     "name": "stderr",
     "output_type": "stream",
     "text": [
      "INFO:root: \n",
      "Avg Training Stats after 72 global rounds:\n",
      "INFO:root:Train Accuracy: 0.00%\n",
      "INFO:root:Training Loss : 0.169412452661057\n",
      "INFO:root:Test Accuracy: 48.71%\n",
      "INFO:root:Test Loss: 1.6930169252306222 \n",
      "\n",
      " 72%|███████▏  | 72/100 [22:32<08:37, 18.49s/it]"
     ]
    },
    {
     "name": "stdout",
     "output_type": "stream",
     "text": [
      "[1012, 2430, 2274, 209, 1798, 303, 1112, 231, 744, 278]\n"
     ]
    },
    {
     "name": "stderr",
     "output_type": "stream",
     "text": [
      "INFO:root: \n",
      "Avg Training Stats after 73 global rounds:\n",
      "INFO:root:Train Accuracy: 0.00%\n",
      "INFO:root:Training Loss : 0.15981427271896165\n",
      "INFO:root:Test Accuracy: 49.04%\n",
      "INFO:root:Test Loss: 1.7755607371032238 \n",
      "\n",
      " 73%|███████▎  | 73/100 [22:51<08:21, 18.58s/it]"
     ]
    },
    {
     "name": "stdout",
     "output_type": "stream",
     "text": [
      "[447, 1320, 209, 327, 744, 1018, 231, 2430, 590, 602]\n"
     ]
    },
    {
     "name": "stderr",
     "output_type": "stream",
     "text": [
      "INFO:root: \n",
      "Avg Training Stats after 74 global rounds:\n",
      "INFO:root:Train Accuracy: 0.00%\n",
      "INFO:root:Training Loss : 0.22932426401897305\n",
      "INFO:root:Test Accuracy: 53.78%\n",
      "INFO:root:Test Loss: 1.5451812535524367 \n",
      "\n",
      " 74%|███████▍  | 74/100 [23:08<07:47, 17.98s/it]"
     ]
    },
    {
     "name": "stdout",
     "output_type": "stream",
     "text": [
      "[470, 1053, 303, 1012, 106, 3195, 447, 1112, 201, 1433]\n"
     ]
    },
    {
     "name": "stderr",
     "output_type": "stream",
     "text": [
      "INFO:root: \n",
      "Avg Training Stats after 75 global rounds:\n",
      "INFO:root:Train Accuracy: 0.00%\n",
      "INFO:root:Training Loss : 0.11191515008917666\n",
      "INFO:root:Test Accuracy: 57.53%\n",
      "INFO:root:Test Loss: 1.3171435011923314 \n",
      "\n",
      " 75%|███████▌  | 75/100 [23:26<07:30, 18.01s/it]"
     ]
    },
    {
     "name": "stdout",
     "output_type": "stream",
     "text": [
      "[231, 1433, 431, 209, 1416, 1780, 116, 123, 422, 4600]\n"
     ]
    },
    {
     "name": "stderr",
     "output_type": "stream",
     "text": [
      "INFO:root: \n",
      "Avg Training Stats after 76 global rounds:\n",
      "INFO:root:Train Accuracy: 0.00%\n",
      "INFO:root:Training Loss : 0.29015040421723465\n",
      "INFO:root:Test Accuracy: 56.17%\n",
      "INFO:root:Test Loss: 1.2931017544865608 \n",
      "\n",
      " 76%|███████▌  | 76/100 [23:45<07:21, 18.38s/it]"
     ]
    },
    {
     "name": "stdout",
     "output_type": "stream",
     "text": [
      "[2575, 796, 1053, 267, 602, 1018, 201, 1756, 286, 2430]\n"
     ]
    },
    {
     "name": "stderr",
     "output_type": "stream",
     "text": [
      "INFO:root: \n",
      "Avg Training Stats after 77 global rounds:\n",
      "INFO:root:Train Accuracy: 0.00%\n",
      "INFO:root:Training Loss : 0.17029697976097846\n",
      "INFO:root:Test Accuracy: 53.83%\n",
      "INFO:root:Test Loss: 1.3687031364440918 \n",
      "\n",
      " 77%|███████▋  | 77/100 [24:04<07:08, 18.63s/it]"
     ]
    },
    {
     "name": "stdout",
     "output_type": "stream",
     "text": [
      "[15, 2029, 2274, 744, 1018, 1736, 2934, 19, 173, 447]\n"
     ]
    },
    {
     "name": "stderr",
     "output_type": "stream",
     "text": [
      "INFO:root: \n",
      "Avg Training Stats after 78 global rounds:\n",
      "INFO:root:Train Accuracy: 0.00%\n",
      "INFO:root:Training Loss : 0.22841320336896223\n",
      "INFO:root:Test Accuracy: 49.12%\n",
      "INFO:root:Test Loss: 1.4870849731564522 \n",
      "\n",
      " 78%|███████▊  | 78/100 [24:24<06:54, 18.86s/it]"
     ]
    },
    {
     "name": "stdout",
     "output_type": "stream",
     "text": [
      "[542, 602, 173, 201, 590, 690, 422, 2934, 1736, 744]\n"
     ]
    },
    {
     "name": "stderr",
     "output_type": "stream",
     "text": [
      "INFO:root: \n",
      "Avg Training Stats after 79 global rounds:\n",
      "INFO:root:Train Accuracy: 0.00%\n",
      "INFO:root:Training Loss : 0.22191446015234112\n",
      "INFO:root:Test Accuracy: 48.84%\n",
      "INFO:root:Test Loss: 1.4522285017371177 \n",
      "\n",
      " 79%|███████▉  | 79/100 [24:41<06:25, 18.37s/it]"
     ]
    },
    {
     "name": "stdout",
     "output_type": "stream",
     "text": [
      "[201, 278, 40, 1112, 106, 690, 2029, 87, 796, 3195]\n"
     ]
    },
    {
     "name": "stderr",
     "output_type": "stream",
     "text": [
      "INFO:root: \n",
      "Avg Training Stats after 80 global rounds:\n",
      "INFO:root:Train Accuracy: 0.00%\n",
      "INFO:root:Training Loss : 0.11625612849214213\n",
      "INFO:root:Test Accuracy: 52.53%\n",
      "INFO:root:Test Loss: 1.3772010272741317 \n",
      "\n",
      " 80%|████████  | 80/100 [24:58<05:59, 17.98s/it]"
     ]
    },
    {
     "name": "stdout",
     "output_type": "stream",
     "text": [
      "[1798, 15, 201, 123, 1433, 542, 1119, 690, 602, 40]\n"
     ]
    },
    {
     "name": "stderr",
     "output_type": "stream",
     "text": [
      "INFO:root: \n",
      "Avg Training Stats after 81 global rounds:\n",
      "INFO:root:Train Accuracy: 0.00%\n",
      "INFO:root:Training Loss : 0.15314813730545132\n",
      "INFO:root:Test Accuracy: 53.60%\n",
      "INFO:root:Test Loss: 1.4504973447322846 \n",
      "\n",
      " 81%|████████  | 81/100 [25:13<05:25, 17.12s/it]"
     ]
    },
    {
     "name": "stdout",
     "output_type": "stream",
     "text": [
      "[267, 542, 209, 796, 87, 3195, 231, 303, 2934, 1119]\n"
     ]
    },
    {
     "name": "stderr",
     "output_type": "stream",
     "text": [
      "INFO:root: \n",
      "Avg Training Stats after 82 global rounds:\n",
      "INFO:root:Train Accuracy: 0.00%\n",
      "INFO:root:Training Loss : 0.1531736022166608\n",
      "INFO:root:Test Accuracy: 50.66%\n",
      "INFO:root:Test Loss: 1.641675596088171 \n",
      "\n",
      " 82%|████████▏ | 82/100 [25:31<05:14, 17.49s/it]"
     ]
    },
    {
     "name": "stdout",
     "output_type": "stream",
     "text": [
      "[690, 431, 422, 231, 4600, 2934, 2029, 327, 796, 590]\n"
     ]
    },
    {
     "name": "stderr",
     "output_type": "stream",
     "text": [
      "INFO:root: \n",
      "Avg Training Stats after 83 global rounds:\n",
      "INFO:root:Train Accuracy: 0.00%\n",
      "INFO:root:Training Loss : 0.1654809138077662\n",
      "INFO:root:Test Accuracy: 47.87%\n",
      "INFO:root:Test Loss: 1.7081385178118944 \n",
      "\n",
      " 83%|████████▎ | 83/100 [25:53<05:16, 18.61s/it]"
     ]
    },
    {
     "name": "stdout",
     "output_type": "stream",
     "text": [
      "[231, 1112, 87, 303, 690, 796, 2195, 813, 327, 1018]\n"
     ]
    },
    {
     "name": "stderr",
     "output_type": "stream",
     "text": [
      "INFO:root: \n",
      "Avg Training Stats after 84 global rounds:\n",
      "INFO:root:Train Accuracy: 0.00%\n",
      "INFO:root:Training Loss : 0.17172190159985498\n",
      "INFO:root:Test Accuracy: 54.31%\n",
      "INFO:root:Test Loss: 1.4412262615561486 \n",
      "\n",
      " 84%|████████▍ | 84/100 [26:09<04:46, 17.88s/it]"
     ]
    },
    {
     "name": "stdout",
     "output_type": "stream",
     "text": [
      "[602, 1018, 542, 106, 794, 447, 2029, 1433, 327, 690]\n"
     ]
    },
    {
     "name": "stderr",
     "output_type": "stream",
     "text": [
      "INFO:root: \n",
      "Avg Training Stats after 85 global rounds:\n",
      "INFO:root:Train Accuracy: 0.00%\n",
      "INFO:root:Training Loss : 0.16086807876079803\n",
      "INFO:root:Test Accuracy: 54.91%\n",
      "INFO:root:Test Loss: 1.4760615199804306 \n",
      "\n",
      " 85%|████████▌ | 85/100 [26:26<04:23, 17.54s/it]"
     ]
    },
    {
     "name": "stdout",
     "output_type": "stream",
     "text": [
      "[1433, 267, 447, 1012, 470, 201, 231, 15, 278, 1736]\n"
     ]
    },
    {
     "name": "stderr",
     "output_type": "stream",
     "text": [
      "INFO:root: \n",
      "Avg Training Stats after 86 global rounds:\n",
      "INFO:root:Train Accuracy: 0.00%\n",
      "INFO:root:Training Loss : 0.23353027723401235\n",
      "INFO:root:Test Accuracy: 51.37%\n",
      "INFO:root:Test Loss: 1.582087748274207 \n",
      "\n",
      " 86%|████████▌ | 86/100 [26:40<03:54, 16.74s/it]"
     ]
    },
    {
     "name": "stdout",
     "output_type": "stream",
     "text": [
      "[40, 1053, 231, 286, 106, 2274, 470, 1119, 447, 1416]\n"
     ]
    },
    {
     "name": "stderr",
     "output_type": "stream",
     "text": [
      "INFO:root: \n",
      "Avg Training Stats after 87 global rounds:\n",
      "INFO:root:Train Accuracy: 0.00%\n",
      "INFO:root:Training Loss : 0.1598261502165875\n",
      "INFO:root:Test Accuracy: 46.10%\n",
      "INFO:root:Test Loss: 1.8114492672681808 \n",
      "\n",
      " 87%|████████▋ | 87/100 [26:57<03:35, 16.56s/it]"
     ]
    },
    {
     "name": "stdout",
     "output_type": "stream",
     "text": [
      "[209, 2029, 231, 278, 1320, 862, 2195, 690, 1736, 106]\n"
     ]
    },
    {
     "name": "stderr",
     "output_type": "stream",
     "text": [
      "INFO:root: \n",
      "Avg Training Stats after 88 global rounds:\n",
      "INFO:root:Train Accuracy: 0.00%\n",
      "INFO:root:Training Loss : 0.17865381850894985\n",
      "INFO:root:Test Accuracy: 51.70%\n",
      "INFO:root:Test Loss: 1.4758259558677673 \n",
      "\n",
      " 88%|████████▊ | 88/100 [27:15<03:24, 17.04s/it]"
     ]
    },
    {
     "name": "stdout",
     "output_type": "stream",
     "text": [
      "[2430, 201, 2195, 2575, 123, 602, 116, 794, 4600, 690]\n"
     ]
    },
    {
     "name": "stderr",
     "output_type": "stream",
     "text": [
      "INFO:root: \n",
      "Avg Training Stats after 89 global rounds:\n",
      "INFO:root:Train Accuracy: 0.00%\n",
      "INFO:root:Training Loss : 0.19004232667145782\n",
      "INFO:root:Test Accuracy: 61.75%\n",
      "INFO:root:Test Loss: 1.1023622682690621 \n",
      "\n",
      " 89%|████████▉ | 89/100 [27:37<03:25, 18.67s/it]"
     ]
    },
    {
     "name": "stdout",
     "output_type": "stream",
     "text": [
      "[470, 303, 278, 87, 1119, 2274, 1780, 19, 4600, 602]\n"
     ]
    },
    {
     "name": "stderr",
     "output_type": "stream",
     "text": [
      "INFO:root: \n",
      "Avg Training Stats after 90 global rounds:\n",
      "INFO:root:Train Accuracy: 0.00%\n",
      "INFO:root:Training Loss : 0.14038287597827773\n",
      "INFO:root:Test Accuracy: 59.34%\n",
      "INFO:root:Test Loss: 1.1545402246713639 \n",
      "\n",
      " 90%|█████████ | 90/100 [27:57<03:09, 18.95s/it]"
     ]
    },
    {
     "name": "stdout",
     "output_type": "stream",
     "text": [
      "[2575, 602, 2029, 327, 209, 4600, 2274, 1756, 431, 1112]\n"
     ]
    },
    {
     "name": "stderr",
     "output_type": "stream",
     "text": [
      "INFO:root: \n",
      "Avg Training Stats after 91 global rounds:\n",
      "INFO:root:Train Accuracy: 0.00%\n",
      "INFO:root:Training Loss : 0.1431228870642423\n",
      "INFO:root:Test Accuracy: 54.23%\n",
      "INFO:root:Test Loss: 1.319340510368347 \n",
      "\n",
      " 91%|█████████ | 91/100 [28:21<03:04, 20.49s/it]"
     ]
    },
    {
     "name": "stdout",
     "output_type": "stream",
     "text": [
      "[2195, 267, 813, 286, 3195, 470, 231, 278, 1012, 231]\n"
     ]
    },
    {
     "name": "stderr",
     "output_type": "stream",
     "text": [
      "INFO:root: \n",
      "Avg Training Stats after 92 global rounds:\n",
      "INFO:root:Train Accuracy: 0.00%\n",
      "INFO:root:Training Loss : 0.1449150890697376\n",
      "INFO:root:Test Accuracy: 54.66%\n",
      "INFO:root:Test Loss: 1.339146237373352 \n",
      "\n",
      " 92%|█████████▏| 92/100 [28:38<02:36, 19.60s/it]"
     ]
    },
    {
     "name": "stdout",
     "output_type": "stream",
     "text": [
      "[1053, 2575, 303, 2430, 542, 116, 1756, 1433, 327, 15]\n"
     ]
    },
    {
     "name": "stderr",
     "output_type": "stream",
     "text": [
      "INFO:root: \n",
      "Avg Training Stats after 93 global rounds:\n",
      "INFO:root:Train Accuracy: 0.00%\n",
      "INFO:root:Training Loss : 0.20725167541479128\n",
      "INFO:root:Test Accuracy: 56.64%\n",
      "INFO:root:Test Loss: 1.2815832456946372 \n",
      "\n",
      " 93%|█████████▎| 93/100 [28:57<02:15, 19.36s/it]"
     ]
    },
    {
     "name": "stdout",
     "output_type": "stream",
     "text": [
      "[590, 4600, 201, 286, 303, 1736, 15, 1798, 744, 422]\n"
     ]
    },
    {
     "name": "stderr",
     "output_type": "stream",
     "text": [
      "INFO:root: \n",
      "Avg Training Stats after 94 global rounds:\n",
      "INFO:root:Train Accuracy: 0.00%\n",
      "INFO:root:Training Loss : 0.1649393553459701\n",
      "INFO:root:Test Accuracy: 59.61%\n",
      "INFO:root:Test Loss: 1.1952158251404763 \n",
      "\n",
      " 94%|█████████▍| 94/100 [29:16<01:55, 19.26s/it]"
     ]
    },
    {
     "name": "stdout",
     "output_type": "stream",
     "text": [
      "[123, 862, 542, 19, 794, 1112, 4600, 2934, 231, 15]\n"
     ]
    },
    {
     "name": "stderr",
     "output_type": "stream",
     "text": [
      "INFO:root: \n",
      "Avg Training Stats after 95 global rounds:\n",
      "INFO:root:Train Accuracy: 0.00%\n",
      "INFO:root:Training Loss : 0.20574607152641197\n",
      "INFO:root:Test Accuracy: 57.89%\n",
      "INFO:root:Test Loss: 1.2872652904689312 \n",
      "\n",
      " 95%|█████████▌| 95/100 [29:36<01:36, 19.31s/it]"
     ]
    },
    {
     "name": "stdout",
     "output_type": "stream",
     "text": [
      "[1053, 87, 2575, 4600, 542, 231, 1433, 1012, 2029, 862]\n"
     ]
    },
    {
     "name": "stderr",
     "output_type": "stream",
     "text": [
      "INFO:root: \n",
      "Avg Training Stats after 96 global rounds:\n",
      "INFO:root:Train Accuracy: 0.00%\n",
      "INFO:root:Training Loss : 0.1319097172886366\n",
      "INFO:root:Test Accuracy: 55.86%\n",
      "INFO:root:Test Loss: 1.3869083455204965 \n",
      "\n",
      " 96%|█████████▌| 96/100 [29:58<01:20, 20.22s/it]"
     ]
    },
    {
     "name": "stdout",
     "output_type": "stream",
     "text": [
      "[19, 602, 40, 690, 267, 231, 173, 2029, 1798, 3195]\n"
     ]
    },
    {
     "name": "stderr",
     "output_type": "stream",
     "text": [
      "INFO:root: \n",
      "Avg Training Stats after 97 global rounds:\n",
      "INFO:root:Train Accuracy: 0.00%\n",
      "INFO:root:Training Loss : 0.2202812595515793\n",
      "INFO:root:Test Accuracy: 54.45%\n",
      "INFO:root:Test Loss: 1.4054365625977516 \n",
      "\n",
      " 97%|█████████▋| 97/100 [30:15<00:58, 19.35s/it]"
     ]
    },
    {
     "name": "stdout",
     "output_type": "stream",
     "text": [
      "[209, 1012, 422, 40, 794, 4600, 116, 286, 303, 1756]\n"
     ]
    },
    {
     "name": "stderr",
     "output_type": "stream",
     "text": [
      "INFO:root: \n",
      "Avg Training Stats after 98 global rounds:\n",
      "INFO:root:Train Accuracy: 0.00%\n",
      "INFO:root:Training Loss : 0.14789339761460557\n",
      "INFO:root:Test Accuracy: 54.90%\n",
      "INFO:root:Test Loss: 1.3738487235456704 \n",
      "\n",
      " 98%|█████████▊| 98/100 [30:33<00:37, 18.99s/it]"
     ]
    },
    {
     "name": "stdout",
     "output_type": "stream",
     "text": [
      "[2274, 1736, 173, 1416, 447, 19, 2195, 2029, 862, 744]\n"
     ]
    },
    {
     "name": "stderr",
     "output_type": "stream",
     "text": [
      "INFO:root: \n",
      "Avg Training Stats after 99 global rounds:\n",
      "INFO:root:Train Accuracy: 0.00%\n",
      "INFO:root:Training Loss : 0.24228014707130305\n",
      "INFO:root:Test Accuracy: 56.06%\n",
      "INFO:root:Test Loss: 1.3023148988187314 \n",
      "\n",
      " 99%|█████████▉| 99/100 [30:54<00:19, 19.31s/it]"
     ]
    },
    {
     "name": "stdout",
     "output_type": "stream",
     "text": [
      "[431, 1798, 1736, 744, 19, 278, 690, 590, 116, 40]\n"
     ]
    },
    {
     "name": "stderr",
     "output_type": "stream",
     "text": [
      "INFO:root: \n",
      "Avg Training Stats after 100 global rounds:\n",
      "INFO:root:Train Accuracy: 0.00%\n",
      "INFO:root:Training Loss : 0.15436788250375305\n",
      "INFO:root:Test Accuracy: 50.55%\n",
      "INFO:root:Test Loss: 1.5836392907798291 \n",
      "\n",
      "100%|██████████| 100/100 [31:09<00:00, 18.69s/it]\n",
      "INFO:root: \n",
      " Results after 100 global rounds of training:\n",
      "INFO:root:|---- Best Test Accuracy: 61.75% , round: 88\n"
     ]
    },
    {
     "name": "stdout",
     "output_type": "stream",
     "text": [
      " Saving checkpoints to ../save/checkpoint/ConvNet_1207/cifar10_ConvNet_none_T[100]_C[0.2]_iid[0]_E[5]_B[32]_GPU[0]_Pruned[0.0]...\n"
     ]
    }
   ],
   "source": [
    " args = easydict.EasyDict({\n",
    "    \"model\": 'ConvNet',\n",
    "    'dataset': 'cifar10',\n",
    "    'gpu': 0,\n",
    "    'iid': 0,\n",
    "    'epochs': 100,\n",
    "    'optimizer': 'sgd',\n",
    "    'seed': 0,\n",
    "    'norm': 'none',\n",
    "    'num_users': 50,\n",
    "    'frac': 0.2,\n",
    "    'local_ep': 5, \n",
    "    'local_bs': 32,\n",
    "    'lr': 0.01,\n",
    "    'momentum': 1,\n",
    "    'kernel_num': 9,\n",
    "    'kernel_sizes': 'only_momentum',\n",
    "    'num_channnels': '1',\n",
    "    'num_filters': 32,\n",
    "    'max_pool': 'True',\n",
    "    'num_classes': 10,\n",
    "    'unequal': 0,\n",
    "    'stopping_rounds': 0,\n",
    "    'verbose': 0,\n",
    "    'hold_normalize': 0,\n",
    "    'save_path': '../save/checkpoint',\n",
    "    'exp_folder': 'ConvNet_1207',\n",
    "    'resume': None,\n",
    "    'server_opt': 'adam',\n",
    "    'server_lr': 0.01,\n",
    "    'client_decay':0,\n",
    "    'local_decay':0,\n",
    "    'alpha': 0.05,\n",
    "    'server_epoch':0,\n",
    "    'cosine_norm':0, \n",
    "    'only_fc' :0 ,\n",
    "    'loss':'ce',\n",
    "    'dc_lr':0.0,\n",
    "    'tsne_pred':0,\n",
    "    'pruning': 0.0 })\n",
    "    \n",
    "    \n",
    "    \n",
    "temp = main_test(args)\n",
    "total.append(temp)"
   ]
  },
  {
   "cell_type": "code",
   "execution_count": 11,
   "id": "catholic-probability",
   "metadata": {},
   "outputs": [
    {
     "name": "stderr",
     "output_type": "stream",
     "text": [
      "INFO:root:{'model': 'ConvNet', 'dataset': 'cifar10', 'gpu': 0, 'iid': 0, 'epochs': 100, 'optimizer': 'sgd', 'seed': 0, 'norm': 'none', 'num_users': 50, 'frac': 0.2, 'local_ep': 5, 'local_bs': 32, 'lr': 0.01, 'momentum': 1, 'kernel_num': 9, 'kernel_sizes': 'only_momentum', 'num_channnels': '1', 'num_filters': 32, 'max_pool': 'True', 'num_classes': 10, 'unequal': 0, 'stopping_rounds': 0, 'verbose': 0, 'hold_normalize': 0, 'save_path': '../save/checkpoint/ConvNet_1207', 'exp_folder': 'ConvNet_1207', 'resume': None, 'server_opt': 'adam', 'server_lr': 0.01, 'client_decay': 0, 'local_decay': 0, 'alpha': 0.05, 'server_epoch': 0, 'cosine_norm': 0, 'only_fc': 0, 'loss': 'bsm', 'dc_lr': 0.0, 'tsne_pred': 0, 'pruning': 0.0}\n"
     ]
    },
    {
     "name": "stdout",
     "output_type": "stream",
     "text": [
      "Files already downloaded and verified\n",
      "Files already downloaded and verified\n",
      "Files already downloaded and verified\n"
     ]
    },
    {
     "name": "stderr",
     "output_type": "stream",
     "text": [
      "INFO:root:ConvNet(\n",
      "  (net_act): ReLU(inplace=True)\n",
      "  (net_pooling): MaxPool2d(kernel_size=2, stride=2, padding=0, dilation=1, ceil_mode=False)\n",
      "  (features): Sequential(\n",
      "    (0): Conv2d(3, 128, kernel_size=(3, 3), stride=(1, 1), padding=(1, 1))\n",
      "    (1): ReLU(inplace=True)\n",
      "    (2): MaxPool2d(kernel_size=2, stride=2, padding=0, dilation=1, ceil_mode=False)\n",
      "    (3): Conv2d(128, 128, kernel_size=(3, 3), stride=(1, 1), padding=(1, 1))\n",
      "    (4): ReLU(inplace=True)\n",
      "    (5): MaxPool2d(kernel_size=2, stride=2, padding=0, dilation=1, ceil_mode=False)\n",
      "    (6): Conv2d(128, 128, kernel_size=(3, 3), stride=(1, 1), padding=(1, 1))\n",
      "    (7): ReLU(inplace=True)\n",
      "    (8): MaxPool2d(kernel_size=2, stride=2, padding=0, dilation=1, ceil_mode=False)\n",
      "  )\n",
      "  (classifier): Linear(in_features=2048, out_features=10, bias=True)\n",
      ")\n",
      "INFO:root:None\n",
      "  0%|          | 0/100 [00:00<?, ?it/s]"
     ]
    },
    {
     "name": "stdout",
     "output_type": "stream",
     "text": [
      "----------------------------------------------------------------\n",
      "        Layer (type)               Output Shape         Param #\n",
      "================================================================\n",
      "            Conv2d-1          [-1, 128, 32, 32]           3,584\n",
      "              ReLU-2          [-1, 128, 32, 32]               0\n",
      "              ReLU-3          [-1, 128, 32, 32]               0\n",
      "         MaxPool2d-4          [-1, 128, 16, 16]               0\n",
      "         MaxPool2d-5          [-1, 128, 16, 16]               0\n",
      "            Conv2d-6          [-1, 128, 16, 16]         147,584\n",
      "              ReLU-7          [-1, 128, 16, 16]               0\n",
      "              ReLU-8          [-1, 128, 16, 16]               0\n",
      "         MaxPool2d-9            [-1, 128, 8, 8]               0\n",
      "        MaxPool2d-10            [-1, 128, 8, 8]               0\n",
      "           Conv2d-11            [-1, 128, 8, 8]         147,584\n",
      "             ReLU-12            [-1, 128, 8, 8]               0\n",
      "             ReLU-13            [-1, 128, 8, 8]               0\n",
      "        MaxPool2d-14            [-1, 128, 4, 4]               0\n",
      "        MaxPool2d-15            [-1, 128, 4, 4]               0\n",
      "           Linear-16                   [-1, 10]          20,490\n",
      "================================================================\n",
      "Total params: 319,242\n",
      "Trainable params: 319,242\n",
      "Non-trainable params: 0\n",
      "----------------------------------------------------------------\n",
      "Input size (MB): 0.01\n",
      "Forward/backward pass size (MB): 4.59\n",
      "Params size (MB): 1.22\n",
      "Estimated Total Size (MB): 5.82\n",
      "----------------------------------------------------------------\n",
      "[209, 1756, 422, 2575, 1018, 602, 2274, 447, 744, 1112, 123, 87, 1433, 1416, 40, 1119, 796, 794, 327, 470, 231, 813, 1320, 542, 690, 2195, 2934, 106, 1012, 15, 278, 1798, 303, 590, 2029, 201, 1053, 862, 231, 116, 4600, 19, 286, 1736, 2430, 431, 3195, 1780, 173, 267]\n",
      "[470, 2934, 201, 231, 2575, 744, 15, 123, 1119, 4600]\n"
     ]
    },
    {
     "name": "stderr",
     "output_type": "stream",
     "text": [
      "INFO:root: \n",
      "Avg Training Stats after 1 global rounds:\n",
      "INFO:root:Train Accuracy: 0.00%\n",
      "INFO:root:Training Loss : 0.2708574619777444\n",
      "INFO:root:Test Accuracy: 19.99%\n",
      "INFO:root:Test Loss: 2.1795074164867403 \n",
      "\n",
      "  1%|          | 1/100 [00:21<35:41, 21.63s/it]"
     ]
    },
    {
     "name": "stdout",
     "output_type": "stream",
     "text": [
      "[231, 173, 2575, 1736, 2430, 123, 4600, 690, 1012, 447]\n"
     ]
    },
    {
     "name": "stderr",
     "output_type": "stream",
     "text": [
      "INFO:root: \n",
      "Avg Training Stats after 2 global rounds:\n",
      "INFO:root:Train Accuracy: 0.00%\n",
      "INFO:root:Training Loss : 0.4247870063327525\n",
      "INFO:root:Test Accuracy: 26.50%\n",
      "INFO:root:Test Loss: 2.1227116173505785 \n",
      "\n",
      "  2%|▏         | 2/100 [00:44<36:16, 22.21s/it]"
     ]
    },
    {
     "name": "stdout",
     "output_type": "stream",
     "text": [
      "[744, 2575, 1320, 470, 2430, 2274, 267, 690, 209, 303]\n"
     ]
    },
    {
     "name": "stderr",
     "output_type": "stream",
     "text": [
      "INFO:root: \n",
      "Avg Training Stats after 3 global rounds:\n",
      "INFO:root:Train Accuracy: 0.00%\n",
      "INFO:root:Training Loss : 0.32741706885801214\n",
      "INFO:root:Test Accuracy: 28.74%\n",
      "INFO:root:Test Loss: 2.11650041282177 \n",
      "\n",
      "  3%|▎         | 3/100 [01:04<34:18, 21.22s/it]"
     ]
    },
    {
     "name": "stdout",
     "output_type": "stream",
     "text": [
      "[173, 690, 542, 1012, 2195, 1780, 1053, 87, 2934, 1736]\n"
     ]
    },
    {
     "name": "stderr",
     "output_type": "stream",
     "text": [
      "INFO:root: \n",
      "Avg Training Stats after 4 global rounds:\n",
      "INFO:root:Train Accuracy: 0.00%\n",
      "INFO:root:Training Loss : 0.4551880814534958\n",
      "INFO:root:Test Accuracy: 32.10%\n",
      "INFO:root:Test Loss: 1.872357923388481 \n",
      "\n",
      "  4%|▍         | 4/100 [01:25<33:42, 21.06s/it]"
     ]
    },
    {
     "name": "stdout",
     "output_type": "stream",
     "text": [
      "[2430, 2575, 1736, 123, 15, 1780, 1018, 231, 87, 794]\n"
     ]
    },
    {
     "name": "stderr",
     "output_type": "stream",
     "text": [
      "INFO:root: \n",
      "Avg Training Stats after 5 global rounds:\n",
      "INFO:root:Train Accuracy: 0.00%\n",
      "INFO:root:Training Loss : 0.30008842430299465\n",
      "INFO:root:Test Accuracy: 31.80%\n",
      "INFO:root:Test Loss: 1.8212026870250702 \n",
      "\n",
      "  5%|▌         | 5/100 [01:44<32:25, 20.48s/it]"
     ]
    },
    {
     "name": "stdout",
     "output_type": "stream",
     "text": [
      "[1119, 87, 590, 794, 813, 303, 1320, 690, 1018, 422]\n"
     ]
    },
    {
     "name": "stderr",
     "output_type": "stream",
     "text": [
      "INFO:root: \n",
      "Avg Training Stats after 6 global rounds:\n",
      "INFO:root:Train Accuracy: 0.00%\n",
      "INFO:root:Training Loss : 0.22236701936426906\n",
      "INFO:root:Test Accuracy: 35.95%\n",
      "INFO:root:Test Loss: 1.7206499087810516 \n",
      "\n",
      "  6%|▌         | 6/100 [02:00<29:44, 18.98s/it]"
     ]
    },
    {
     "name": "stdout",
     "output_type": "stream",
     "text": [
      "[2029, 1433, 303, 327, 744, 862, 2934, 231, 1416, 278]\n"
     ]
    },
    {
     "name": "stderr",
     "output_type": "stream",
     "text": [
      "INFO:root: \n",
      "Avg Training Stats after 7 global rounds:\n",
      "INFO:root:Train Accuracy: 0.00%\n",
      "INFO:root:Training Loss : 0.3412766810486404\n",
      "INFO:root:Test Accuracy: 37.79%\n",
      "INFO:root:Test Loss: 1.7509417647123338 \n",
      "\n",
      "  7%|▋         | 7/100 [02:19<29:37, 19.11s/it]"
     ]
    },
    {
     "name": "stdout",
     "output_type": "stream",
     "text": [
      "[231, 1112, 327, 744, 286, 422, 15, 1798, 1053, 173]\n"
     ]
    },
    {
     "name": "stderr",
     "output_type": "stream",
     "text": [
      "INFO:root: \n",
      "Avg Training Stats after 8 global rounds:\n",
      "INFO:root:Train Accuracy: 0.00%\n",
      "INFO:root:Training Loss : 0.34384711838777776\n",
      "INFO:root:Test Accuracy: 40.27%\n",
      "INFO:root:Test Loss: 1.7090425676107406 \n",
      "\n",
      "  8%|▊         | 8/100 [02:35<27:23, 17.87s/it]"
     ]
    },
    {
     "name": "stdout",
     "output_type": "stream",
     "text": [
      "[794, 278, 744, 862, 303, 19, 2274, 1053, 813, 1012]\n"
     ]
    },
    {
     "name": "stderr",
     "output_type": "stream",
     "text": [
      "INFO:root: \n",
      "Avg Training Stats after 9 global rounds:\n",
      "INFO:root:Train Accuracy: 0.00%\n",
      "INFO:root:Training Loss : 0.18818963372706962\n",
      "INFO:root:Test Accuracy: 42.11%\n",
      "INFO:root:Test Loss: 1.638821349143982 \n",
      "\n",
      "  9%|▉         | 9/100 [02:52<26:42, 17.61s/it]"
     ]
    },
    {
     "name": "stdout",
     "output_type": "stream",
     "text": [
      "[1320, 40, 1756, 470, 327, 1012, 862, 1433, 796, 231]\n"
     ]
    },
    {
     "name": "stderr",
     "output_type": "stream",
     "text": [
      "INFO:root: \n",
      "Avg Training Stats after 10 global rounds:\n",
      "INFO:root:Train Accuracy: 0.00%\n",
      "INFO:root:Training Loss : 0.16938814411958417\n",
      "INFO:root:Test Accuracy: 42.34%\n",
      "INFO:root:Test Loss: 1.632655628323555 \n",
      "\n",
      " 10%|█         | 10/100 [03:09<26:09, 17.44s/it]"
     ]
    },
    {
     "name": "stdout",
     "output_type": "stream",
     "text": [
      "[87, 201, 1798, 813, 123, 2934, 1756, 231, 1053, 4600]\n"
     ]
    },
    {
     "name": "stderr",
     "output_type": "stream",
     "text": [
      "INFO:root: \n",
      "Avg Training Stats after 11 global rounds:\n",
      "INFO:root:Train Accuracy: 0.00%\n",
      "INFO:root:Training Loss : 0.2257099186863319\n",
      "INFO:root:Test Accuracy: 43.68%\n",
      "INFO:root:Test Loss: 1.554999102950096 \n",
      "\n",
      " 11%|█         | 11/100 [03:31<27:54, 18.81s/it]"
     ]
    },
    {
     "name": "stdout",
     "output_type": "stream",
     "text": [
      "[106, 231, 447, 796, 209, 1798, 1112, 1416, 590, 794]\n"
     ]
    },
    {
     "name": "stderr",
     "output_type": "stream",
     "text": [
      "INFO:root: \n",
      "Avg Training Stats after 12 global rounds:\n",
      "INFO:root:Train Accuracy: 0.00%\n",
      "INFO:root:Training Loss : 0.15736969014194005\n",
      "INFO:root:Test Accuracy: 44.67%\n",
      "INFO:root:Test Loss: 1.501503256559372 \n",
      "\n",
      " 12%|█▏        | 12/100 [03:47<26:36, 18.14s/it]"
     ]
    },
    {
     "name": "stdout",
     "output_type": "stream",
     "text": [
      "[1320, 278, 862, 2274, 1798, 87, 2029, 796, 1018, 2430]\n"
     ]
    },
    {
     "name": "stderr",
     "output_type": "stream",
     "text": [
      "INFO:root: \n",
      "Avg Training Stats after 13 global rounds:\n",
      "INFO:root:Train Accuracy: 0.00%\n",
      "INFO:root:Training Loss : 0.18543420029956392\n",
      "INFO:root:Test Accuracy: 45.93%\n",
      "INFO:root:Test Loss: 1.4775237888097763 \n",
      "\n",
      " 13%|█▎        | 13/100 [04:09<27:50, 19.20s/it]"
     ]
    },
    {
     "name": "stdout",
     "output_type": "stream",
     "text": [
      "[4600, 2575, 590, 173, 2430, 40, 1112, 87, 231, 2195]\n"
     ]
    },
    {
     "name": "stderr",
     "output_type": "stream",
     "text": [
      "INFO:root: \n",
      "Avg Training Stats after 14 global rounds:\n",
      "INFO:root:Train Accuracy: 0.00%\n",
      "INFO:root:Training Loss : 0.23568816466585418\n",
      "INFO:root:Test Accuracy: 46.51%\n",
      "INFO:root:Test Loss: 1.4810907983779906 \n",
      "\n",
      " 14%|█▍        | 14/100 [04:31<28:50, 20.12s/it]"
     ]
    },
    {
     "name": "stdout",
     "output_type": "stream",
     "text": [
      "[231, 794, 1018, 1012, 15, 303, 796, 2274, 1320, 19]\n"
     ]
    },
    {
     "name": "stderr",
     "output_type": "stream",
     "text": [
      "INFO:root: \n",
      "Avg Training Stats after 15 global rounds:\n",
      "INFO:root:Train Accuracy: 0.00%\n",
      "INFO:root:Training Loss : 0.136576607344254\n",
      "INFO:root:Test Accuracy: 46.31%\n",
      "INFO:root:Test Loss: 1.5054451888799667 \n",
      "\n",
      " 15%|█▌        | 15/100 [04:48<27:02, 19.09s/it]"
     ]
    },
    {
     "name": "stdout",
     "output_type": "stream",
     "text": [
      "[2195, 40, 2029, 862, 2575, 1433, 447, 19, 4600, 796]\n"
     ]
    },
    {
     "name": "stderr",
     "output_type": "stream",
     "text": [
      "INFO:root: \n",
      "Avg Training Stats after 16 global rounds:\n",
      "INFO:root:Train Accuracy: 0.00%\n",
      "INFO:root:Training Loss : 0.17040413036450391\n",
      "INFO:root:Test Accuracy: 47.37%\n",
      "INFO:root:Test Loss: 1.4660746574401855 \n",
      "\n",
      " 16%|█▌        | 16/100 [05:11<28:25, 20.30s/it]"
     ]
    },
    {
     "name": "stdout",
     "output_type": "stream",
     "text": [
      "[231, 173, 303, 2274, 796, 116, 1798, 447, 106, 1433]\n"
     ]
    },
    {
     "name": "stderr",
     "output_type": "stream",
     "text": [
      "INFO:root: \n",
      "Avg Training Stats after 17 global rounds:\n",
      "INFO:root:Train Accuracy: 0.00%\n",
      "INFO:root:Training Loss : 0.15343693275745224\n",
      "INFO:root:Test Accuracy: 48.09%\n",
      "INFO:root:Test Loss: 1.446100236773491 \n",
      "\n",
      " 17%|█▋        | 17/100 [05:28<26:32, 19.19s/it]"
     ]
    },
    {
     "name": "stdout",
     "output_type": "stream",
     "text": [
      "[201, 1756, 796, 1320, 813, 542, 116, 173, 794, 1798]\n"
     ]
    },
    {
     "name": "stderr",
     "output_type": "stream",
     "text": [
      "INFO:root: \n",
      "Avg Training Stats after 18 global rounds:\n",
      "INFO:root:Train Accuracy: 0.00%\n",
      "INFO:root:Training Loss : 0.2066361087140991\n",
      "INFO:root:Test Accuracy: 48.64%\n",
      "INFO:root:Test Loss: 1.4292400592565537 \n",
      "\n",
      " 18%|█▊        | 18/100 [05:45<25:23, 18.58s/it]"
     ]
    },
    {
     "name": "stdout",
     "output_type": "stream",
     "text": [
      "[15, 1780, 19, 744, 2575, 173, 813, 40, 1320, 422]\n"
     ]
    },
    {
     "name": "stderr",
     "output_type": "stream",
     "text": [
      "INFO:root: \n",
      "Avg Training Stats after 19 global rounds:\n",
      "INFO:root:Train Accuracy: 0.00%\n",
      "INFO:root:Training Loss : 0.2041292999007859\n",
      "INFO:root:Test Accuracy: 49.82%\n",
      "INFO:root:Test Loss: 1.3897589612007142 \n",
      "\n",
      " 19%|█▉        | 19/100 [06:01<24:18, 18.00s/it]"
     ]
    },
    {
     "name": "stdout",
     "output_type": "stream",
     "text": [
      "[813, 1736, 15, 1433, 267, 470, 3195, 744, 2575, 231]\n"
     ]
    },
    {
     "name": "stderr",
     "output_type": "stream",
     "text": [
      "INFO:root: \n",
      "Avg Training Stats after 20 global rounds:\n",
      "INFO:root:Train Accuracy: 0.00%\n",
      "INFO:root:Training Loss : 0.14576702439968273\n",
      "INFO:root:Test Accuracy: 51.01%\n",
      "INFO:root:Test Loss: 1.3517084842920304 \n",
      "\n",
      " 20%|██        | 20/100 [06:22<24:51, 18.64s/it]"
     ]
    },
    {
     "name": "stdout",
     "output_type": "stream",
     "text": [
      "[278, 744, 1053, 447, 1320, 116, 1798, 19, 4600, 3195]\n"
     ]
    },
    {
     "name": "stderr",
     "output_type": "stream",
     "text": [
      "INFO:root: \n",
      "Avg Training Stats after 21 global rounds:\n",
      "INFO:root:Train Accuracy: 0.00%\n",
      "INFO:root:Training Loss : 0.21876014326175314\n",
      "INFO:root:Test Accuracy: 51.92%\n",
      "INFO:root:Test Loss: 1.3276454573869705 \n",
      "\n",
      " 21%|██        | 21/100 [06:44<25:54, 19.68s/it]"
     ]
    },
    {
     "name": "stdout",
     "output_type": "stream",
     "text": [
      "[813, 2029, 602, 590, 1756, 106, 1780, 40, 19, 2934]\n"
     ]
    },
    {
     "name": "stderr",
     "output_type": "stream",
     "text": [
      "INFO:root: \n",
      "Avg Training Stats after 22 global rounds:\n",
      "INFO:root:Train Accuracy: 0.00%\n",
      "INFO:root:Training Loss : 0.11053329157936809\n",
      "INFO:root:Test Accuracy: 52.54%\n",
      "INFO:root:Test Loss: 1.3186236864328384 \n",
      "\n",
      " 22%|██▏       | 22/100 [07:03<25:30, 19.62s/it]"
     ]
    },
    {
     "name": "stdout",
     "output_type": "stream",
     "text": [
      "[40, 862, 327, 1780, 2274, 106, 1053, 1112, 1012, 3195]\n"
     ]
    },
    {
     "name": "stderr",
     "output_type": "stream",
     "text": [
      "INFO:root: \n",
      "Avg Training Stats after 23 global rounds:\n",
      "INFO:root:Train Accuracy: 0.00%\n",
      "INFO:root:Training Loss : 0.19290342283077416\n",
      "INFO:root:Test Accuracy: 53.16%\n",
      "INFO:root:Test Loss: 1.3050431168079377 \n",
      "\n",
      " 23%|██▎       | 23/100 [07:23<25:26, 19.83s/it]"
     ]
    },
    {
     "name": "stdout",
     "output_type": "stream",
     "text": [
      "[1320, 1119, 862, 744, 1053, 87, 201, 470, 2274, 1012]\n"
     ]
    },
    {
     "name": "stderr",
     "output_type": "stream",
     "text": [
      "INFO:root: \n",
      "Avg Training Stats after 24 global rounds:\n",
      "INFO:root:Train Accuracy: 0.00%\n",
      "INFO:root:Training Loss : 0.16685578273752572\n",
      "INFO:root:Test Accuracy: 54.23%\n",
      "INFO:root:Test Loss: 1.2808159989118577 \n",
      "\n",
      " 24%|██▍       | 24/100 [07:42<24:27, 19.31s/it]"
     ]
    },
    {
     "name": "stdout",
     "output_type": "stream",
     "text": [
      "[447, 286, 1416, 87, 796, 1798, 231, 1119, 431, 2195]\n"
     ]
    },
    {
     "name": "stderr",
     "output_type": "stream",
     "text": [
      "INFO:root: \n",
      "Avg Training Stats after 25 global rounds:\n",
      "INFO:root:Train Accuracy: 0.00%\n",
      "INFO:root:Training Loss : 0.21252151014183868\n",
      "INFO:root:Test Accuracy: 55.17%\n",
      "INFO:root:Test Loss: 1.247473847270012 \n",
      "\n",
      " 25%|██▌       | 25/100 [07:59<23:30, 18.80s/it]"
     ]
    },
    {
     "name": "stdout",
     "output_type": "stream",
     "text": [
      "[116, 2029, 690, 1416, 1780, 602, 2575, 1756, 431, 87]\n"
     ]
    },
    {
     "name": "stderr",
     "output_type": "stream",
     "text": [
      "INFO:root: \n",
      "Avg Training Stats after 26 global rounds:\n",
      "INFO:root:Train Accuracy: 0.00%\n",
      "INFO:root:Training Loss : 0.24644497409707763\n",
      "INFO:root:Test Accuracy: 56.19%\n",
      "INFO:root:Test Loss: 1.2232929217815398 \n",
      "\n",
      " 26%|██▌       | 26/100 [08:20<23:47, 19.29s/it]"
     ]
    },
    {
     "name": "stdout",
     "output_type": "stream",
     "text": [
      "[87, 173, 2029, 19, 4600, 2195, 116, 303, 40, 209]\n"
     ]
    },
    {
     "name": "stderr",
     "output_type": "stream",
     "text": [
      "INFO:root: \n",
      "Avg Training Stats after 27 global rounds:\n",
      "INFO:root:Train Accuracy: 0.00%\n",
      "INFO:root:Training Loss : 0.22210598879758656\n",
      "INFO:root:Test Accuracy: 56.56%\n",
      "INFO:root:Test Loss: 1.213164991736412 \n",
      "\n",
      " 27%|██▋       | 27/100 [08:38<23:15, 19.12s/it]"
     ]
    },
    {
     "name": "stdout",
     "output_type": "stream",
     "text": [
      "[4600, 267, 794, 231, 201, 231, 2934, 590, 470, 173]\n"
     ]
    },
    {
     "name": "stderr",
     "output_type": "stream",
     "text": [
      "INFO:root: \n",
      "Avg Training Stats after 28 global rounds:\n",
      "INFO:root:Train Accuracy: 0.00%\n",
      "INFO:root:Training Loss : 0.19828830478211135\n",
      "INFO:root:Test Accuracy: 57.05%\n",
      "INFO:root:Test Loss: 1.2041318607330322 \n",
      "\n",
      " 28%|██▊       | 28/100 [08:58<23:02, 19.20s/it]"
     ]
    },
    {
     "name": "stdout",
     "output_type": "stream",
     "text": [
      "[1798, 286, 123, 1112, 303, 796, 744, 1320, 231, 794]\n"
     ]
    },
    {
     "name": "stderr",
     "output_type": "stream",
     "text": [
      "INFO:root: \n",
      "Avg Training Stats after 29 global rounds:\n",
      "INFO:root:Train Accuracy: 0.00%\n",
      "INFO:root:Training Loss : 0.08278555760779965\n",
      "INFO:root:Test Accuracy: 56.61%\n",
      "INFO:root:Test Loss: 1.209601785838604 \n",
      "\n",
      " 29%|██▉       | 29/100 [09:14<21:45, 18.39s/it]"
     ]
    },
    {
     "name": "stdout",
     "output_type": "stream",
     "text": [
      "[303, 4600, 1119, 447, 744, 40, 1756, 2430, 2029, 602]\n"
     ]
    },
    {
     "name": "stderr",
     "output_type": "stream",
     "text": [
      "INFO:root: \n",
      "Avg Training Stats after 30 global rounds:\n",
      "INFO:root:Train Accuracy: 0.00%\n",
      "INFO:root:Training Loss : 0.10230091101507406\n",
      "INFO:root:Test Accuracy: 56.95%\n",
      "INFO:root:Test Loss: 1.2123104107379914 \n",
      "\n",
      " 30%|███       | 30/100 [09:37<22:53, 19.62s/it]"
     ]
    },
    {
     "name": "stdout",
     "output_type": "stream",
     "text": [
      "[422, 3195, 1112, 327, 123, 1736, 303, 286, 106, 1433]\n"
     ]
    },
    {
     "name": "stderr",
     "output_type": "stream",
     "text": [
      "INFO:root: \n",
      "Avg Training Stats after 31 global rounds:\n",
      "INFO:root:Train Accuracy: 0.00%\n",
      "INFO:root:Training Loss : 0.1404656903426295\n",
      "INFO:root:Test Accuracy: 56.80%\n",
      "INFO:root:Test Loss: 1.2184489157795906 \n",
      "\n",
      " 31%|███       | 31/100 [09:54<21:54, 19.05s/it]"
     ]
    },
    {
     "name": "stdout",
     "output_type": "stream",
     "text": [
      "[862, 173, 422, 303, 123, 1012, 542, 278, 431, 2195]\n"
     ]
    },
    {
     "name": "stderr",
     "output_type": "stream",
     "text": [
      "INFO:root: \n",
      "Avg Training Stats after 32 global rounds:\n",
      "INFO:root:Train Accuracy: 0.00%\n",
      "INFO:root:Training Loss : 0.23647436846096898\n",
      "INFO:root:Test Accuracy: 56.90%\n",
      "INFO:root:Test Loss: 1.2111319786310195 \n",
      "\n",
      " 32%|███▏      | 32/100 [10:10<20:27, 18.05s/it]"
     ]
    },
    {
     "name": "stdout",
     "output_type": "stream",
     "text": [
      "[1320, 15, 19, 1756, 231, 470, 267, 87, 862, 327]\n"
     ]
    },
    {
     "name": "stderr",
     "output_type": "stream",
     "text": [
      "INFO:root: \n",
      "Avg Training Stats after 33 global rounds:\n",
      "INFO:root:Train Accuracy: 0.00%\n",
      "INFO:root:Training Loss : 0.19325791440197687\n",
      "INFO:root:Test Accuracy: 57.50%\n",
      "INFO:root:Test Loss: 1.1898949599266053 \n",
      "\n",
      " 33%|███▎      | 33/100 [10:24<18:54, 16.94s/it]"
     ]
    },
    {
     "name": "stdout",
     "output_type": "stream",
     "text": [
      "[87, 267, 796, 1053, 1433, 2575, 1119, 794, 15, 327]\n"
     ]
    },
    {
     "name": "stderr",
     "output_type": "stream",
     "text": [
      "INFO:root: \n",
      "Avg Training Stats after 34 global rounds:\n",
      "INFO:root:Train Accuracy: 0.00%\n",
      "INFO:root:Training Loss : 0.15086283665018593\n",
      "INFO:root:Test Accuracy: 58.43%\n",
      "INFO:root:Test Loss: 1.1722623199224471 \n",
      "\n",
      " 34%|███▍      | 34/100 [10:42<18:44, 17.04s/it]"
     ]
    },
    {
     "name": "stdout",
     "output_type": "stream",
     "text": [
      "[422, 1798, 590, 796, 19, 1320, 173, 1416, 1053, 4600]\n"
     ]
    },
    {
     "name": "stderr",
     "output_type": "stream",
     "text": [
      "INFO:root: \n",
      "Avg Training Stats after 35 global rounds:\n",
      "INFO:root:Train Accuracy: 0.00%\n",
      "INFO:root:Training Loss : 0.1947863642261299\n",
      "INFO:root:Test Accuracy: 59.54%\n",
      "INFO:root:Test Loss: 1.1482546406984329 \n",
      "\n",
      " 35%|███▌      | 35/100 [11:03<19:42, 18.19s/it]"
     ]
    },
    {
     "name": "stdout",
     "output_type": "stream",
     "text": [
      "[2430, 1320, 602, 3195, 231, 2934, 431, 794, 1416, 542]\n"
     ]
    },
    {
     "name": "stderr",
     "output_type": "stream",
     "text": [
      "INFO:root: \n",
      "Avg Training Stats after 36 global rounds:\n",
      "INFO:root:Train Accuracy: 0.00%\n",
      "INFO:root:Training Loss : 0.1566310692832698\n",
      "INFO:root:Test Accuracy: 60.21%\n",
      "INFO:root:Test Loss: 1.1259093436598777 \n",
      "\n",
      " 36%|███▌      | 36/100 [11:25<20:46, 19.48s/it]"
     ]
    },
    {
     "name": "stdout",
     "output_type": "stream",
     "text": [
      "[15, 813, 1112, 123, 40, 796, 2274, 1018, 2195, 201]\n"
     ]
    },
    {
     "name": "stderr",
     "output_type": "stream",
     "text": [
      "INFO:root: \n",
      "Avg Training Stats after 37 global rounds:\n",
      "INFO:root:Train Accuracy: 0.00%\n",
      "INFO:root:Training Loss : 0.11485861577369498\n",
      "INFO:root:Test Accuracy: 59.98%\n",
      "INFO:root:Test Loss: 1.1288248527050018 \n",
      "\n",
      " 37%|███▋      | 37/100 [11:43<19:51, 18.92s/it]"
     ]
    },
    {
     "name": "stdout",
     "output_type": "stream",
     "text": [
      "[303, 2195, 422, 1112, 1433, 116, 796, 602, 1756, 231]\n"
     ]
    },
    {
     "name": "stderr",
     "output_type": "stream",
     "text": [
      "INFO:root: \n",
      "Avg Training Stats after 38 global rounds:\n",
      "INFO:root:Train Accuracy: 0.00%\n",
      "INFO:root:Training Loss : 0.15025516176390996\n",
      "INFO:root:Test Accuracy: 59.87%\n",
      "INFO:root:Test Loss: 1.1385782647132874 \n",
      "\n",
      " 38%|███▊      | 38/100 [12:01<19:14, 18.62s/it]"
     ]
    },
    {
     "name": "stdout",
     "output_type": "stream",
     "text": [
      "[1756, 231, 267, 2430, 590, 1736, 15, 4600, 327, 1112]\n"
     ]
    },
    {
     "name": "stderr",
     "output_type": "stream",
     "text": [
      "INFO:root: \n",
      "Avg Training Stats after 39 global rounds:\n",
      "INFO:root:Train Accuracy: 0.00%\n",
      "INFO:root:Training Loss : 0.14098207464345647\n",
      "INFO:root:Test Accuracy: 60.36%\n",
      "INFO:root:Test Loss: 1.1216157302260399 \n",
      "\n",
      " 39%|███▉      | 39/100 [12:23<19:56, 19.62s/it]"
     ]
    },
    {
     "name": "stdout",
     "output_type": "stream",
     "text": [
      "[2575, 422, 3195, 862, 231, 796, 2934, 123, 2430, 794]\n"
     ]
    },
    {
     "name": "stderr",
     "output_type": "stream",
     "text": [
      "INFO:root: \n",
      "Avg Training Stats after 40 global rounds:\n",
      "INFO:root:Train Accuracy: 0.00%\n",
      "INFO:root:Training Loss : 0.1321359816418227\n",
      "INFO:root:Test Accuracy: 60.25%\n",
      "INFO:root:Test Loss: 1.1168962207436561 \n",
      "\n",
      " 40%|████      | 40/100 [12:45<20:28, 20.47s/it]"
     ]
    },
    {
     "name": "stdout",
     "output_type": "stream",
     "text": [
      "[231, 1119, 1736, 278, 447, 1018, 286, 744, 690, 173]\n"
     ]
    },
    {
     "name": "stderr",
     "output_type": "stream",
     "text": [
      "INFO:root: \n",
      "Avg Training Stats after 41 global rounds:\n",
      "INFO:root:Train Accuracy: 0.00%\n",
      "INFO:root:Training Loss : 0.15237660715472237\n",
      "INFO:root:Test Accuracy: 59.48%\n",
      "INFO:root:Test Loss: 1.1397121289372445 \n",
      "\n",
      " 41%|████      | 41/100 [13:01<18:42, 19.03s/it]"
     ]
    },
    {
     "name": "stdout",
     "output_type": "stream",
     "text": [
      "[231, 1320, 1416, 2575, 2274, 862, 690, 602, 1012, 173]\n"
     ]
    },
    {
     "name": "stderr",
     "output_type": "stream",
     "text": [
      "INFO:root: \n",
      "Avg Training Stats after 42 global rounds:\n",
      "INFO:root:Train Accuracy: 0.00%\n",
      "INFO:root:Training Loss : 0.1553232241765155\n",
      "INFO:root:Test Accuracy: 58.99%\n",
      "INFO:root:Test Loss: 1.1555918142199517 \n",
      "\n",
      " 42%|████▏     | 42/100 [13:21<18:37, 19.27s/it]"
     ]
    },
    {
     "name": "stdout",
     "output_type": "stream",
     "text": [
      "[1112, 1053, 3195, 2934, 2029, 201, 123, 2195, 1018, 173]\n"
     ]
    },
    {
     "name": "stderr",
     "output_type": "stream",
     "text": [
      "INFO:root: \n",
      "Avg Training Stats after 43 global rounds:\n",
      "INFO:root:Train Accuracy: 0.00%\n",
      "INFO:root:Training Loss : 0.18760057003829997\n",
      "INFO:root:Test Accuracy: 59.69%\n",
      "INFO:root:Test Loss: 1.1245852282643318 \n",
      "\n",
      " 43%|████▎     | 43/100 [13:43<19:13, 20.23s/it]"
     ]
    },
    {
     "name": "stdout",
     "output_type": "stream",
     "text": [
      "[862, 1053, 422, 3195, 4600, 794, 1756, 173, 2029, 1018]\n"
     ]
    },
    {
     "name": "stderr",
     "output_type": "stream",
     "text": [
      "INFO:root: \n",
      "Avg Training Stats after 44 global rounds:\n",
      "INFO:root:Train Accuracy: 0.00%\n",
      "INFO:root:Training Loss : 0.1765275605707448\n",
      "INFO:root:Test Accuracy: 60.73%\n",
      "INFO:root:Test Loss: 1.1201215162873268 \n",
      "\n",
      " 44%|████▍     | 44/100 [14:07<20:00, 21.43s/it]"
     ]
    },
    {
     "name": "stdout",
     "output_type": "stream",
     "text": [
      "[1320, 2934, 796, 2195, 862, 2575, 2029, 19, 422, 286]\n"
     ]
    },
    {
     "name": "stderr",
     "output_type": "stream",
     "text": [
      "INFO:root: \n",
      "Avg Training Stats after 45 global rounds:\n",
      "INFO:root:Train Accuracy: 0.00%\n",
      "INFO:root:Training Loss : 0.12031240036945186\n",
      "INFO:root:Test Accuracy: 60.17%\n",
      "INFO:root:Test Loss: 1.1777383583784102 \n",
      "\n",
      " 45%|████▌     | 45/100 [14:29<19:46, 21.57s/it]"
     ]
    },
    {
     "name": "stdout",
     "output_type": "stream",
     "text": [
      "[862, 744, 1416, 1112, 590, 542, 278, 690, 116, 1780]\n"
     ]
    },
    {
     "name": "stderr",
     "output_type": "stream",
     "text": [
      "INFO:root: \n",
      "Avg Training Stats after 46 global rounds:\n",
      "INFO:root:Train Accuracy: 0.00%\n",
      "INFO:root:Training Loss : 0.21341886950804492\n",
      "INFO:root:Test Accuracy: 60.82%\n",
      "INFO:root:Test Loss: 1.1543275207281112 \n",
      "\n",
      " 46%|████▌     | 46/100 [14:46<18:11, 20.21s/it]"
     ]
    },
    {
     "name": "stdout",
     "output_type": "stream",
     "text": [
      "[2575, 1112, 1320, 231, 3195, 1012, 862, 447, 2195, 201]\n"
     ]
    },
    {
     "name": "stderr",
     "output_type": "stream",
     "text": [
      "INFO:root: \n",
      "Avg Training Stats after 47 global rounds:\n",
      "INFO:root:Train Accuracy: 0.00%\n",
      "INFO:root:Training Loss : 0.09846611534951662\n",
      "INFO:root:Test Accuracy: 63.03%\n",
      "INFO:root:Test Loss: 1.0666439750790595 \n",
      "\n",
      " 47%|████▋     | 47/100 [15:08<18:12, 20.61s/it]"
     ]
    },
    {
     "name": "stdout",
     "output_type": "stream",
     "text": [
      "[1433, 542, 813, 231, 1119, 2029, 1012, 173, 2195, 1320]\n"
     ]
    },
    {
     "name": "stderr",
     "output_type": "stream",
     "text": [
      "INFO:root: \n",
      "Avg Training Stats after 48 global rounds:\n",
      "INFO:root:Train Accuracy: 0.00%\n",
      "INFO:root:Training Loss : 0.10495577317513938\n",
      "INFO:root:Test Accuracy: 64.21%\n",
      "INFO:root:Test Loss: 1.0217271399497987 \n",
      "\n",
      " 48%|████▊     | 48/100 [15:27<17:31, 20.23s/it]"
     ]
    },
    {
     "name": "stdout",
     "output_type": "stream",
     "text": [
      "[744, 2195, 209, 1780, 2575, 123, 327, 40, 1736, 690]\n"
     ]
    },
    {
     "name": "stderr",
     "output_type": "stream",
     "text": [
      "INFO:root: \n",
      "Avg Training Stats after 49 global rounds:\n",
      "INFO:root:Train Accuracy: 0.00%\n",
      "INFO:root:Training Loss : 0.1993733402215562\n",
      "INFO:root:Test Accuracy: 63.76%\n",
      "INFO:root:Test Loss: 1.038381639122963 \n",
      "\n",
      " 49%|████▉     | 49/100 [15:46<16:56, 19.93s/it]"
     ]
    },
    {
     "name": "stdout",
     "output_type": "stream",
     "text": [
      "[862, 690, 1433, 173, 3195, 2934, 116, 447, 231, 431]\n"
     ]
    },
    {
     "name": "stderr",
     "output_type": "stream",
     "text": [
      "INFO:root: \n",
      "Avg Training Stats after 50 global rounds:\n",
      "INFO:root:Train Accuracy: 0.00%\n",
      "INFO:root:Training Loss : 0.1718605083050158\n",
      "INFO:root:Test Accuracy: 62.84%\n",
      "INFO:root:Test Loss: 1.0628729151189327 \n",
      "\n",
      " 50%|█████     | 50/100 [16:06<16:27, 19.75s/it]"
     ]
    },
    {
     "name": "stdout",
     "output_type": "stream",
     "text": [
      "[1320, 19, 3195, 87, 1756, 303, 813, 2575, 231, 231]\n"
     ]
    },
    {
     "name": "stderr",
     "output_type": "stream",
     "text": [
      "INFO:root: \n",
      "Avg Training Stats after 51 global rounds:\n",
      "INFO:root:Train Accuracy: 0.00%\n",
      "INFO:root:Training Loss : 0.04606214174378762\n",
      "INFO:root:Test Accuracy: 61.90%\n",
      "INFO:root:Test Loss: 1.1091695615649224 \n",
      "\n",
      " 51%|█████     | 51/100 [16:25<16:03, 19.66s/it]"
     ]
    },
    {
     "name": "stdout",
     "output_type": "stream",
     "text": [
      "[40, 813, 1780, 2934, 15, 173, 278, 19, 1798, 267]\n"
     ]
    },
    {
     "name": "stderr",
     "output_type": "stream",
     "text": [
      "INFO:root: \n",
      "Avg Training Stats after 52 global rounds:\n",
      "INFO:root:Train Accuracy: 0.00%\n",
      "INFO:root:Training Loss : 0.11895744252130358\n",
      "INFO:root:Test Accuracy: 62.40%\n",
      "INFO:root:Test Loss: 1.1031148785352707 \n",
      "\n",
      " 52%|█████▏    | 52/100 [16:42<15:07, 18.90s/it]"
     ]
    },
    {
     "name": "stdout",
     "output_type": "stream",
     "text": [
      "[267, 231, 690, 173, 1780, 1053, 862, 590, 1433, 303]\n"
     ]
    },
    {
     "name": "stderr",
     "output_type": "stream",
     "text": [
      "INFO:root: \n",
      "Avg Training Stats after 53 global rounds:\n",
      "INFO:root:Train Accuracy: 0.00%\n",
      "INFO:root:Training Loss : 0.15637106289338146\n",
      "INFO:root:Test Accuracy: 63.87%\n",
      "INFO:root:Test Loss: 1.0600854542851448 \n",
      "\n",
      " 53%|█████▎    | 53/100 [16:59<14:11, 18.12s/it]"
     ]
    },
    {
     "name": "stdout",
     "output_type": "stream",
     "text": [
      "[431, 3195, 201, 796, 2934, 15, 231, 1112, 1736, 267]\n"
     ]
    },
    {
     "name": "stderr",
     "output_type": "stream",
     "text": [
      "INFO:root: \n",
      "Avg Training Stats after 54 global rounds:\n",
      "INFO:root:Train Accuracy: 0.00%\n",
      "INFO:root:Training Loss : 0.11492191824058504\n",
      "INFO:root:Test Accuracy: 64.33%\n",
      "INFO:root:Test Loss: 1.044028476178646 \n",
      "\n",
      " 54%|█████▍    | 54/100 [17:18<14:13, 18.56s/it]"
     ]
    },
    {
     "name": "stdout",
     "output_type": "stream",
     "text": [
      "[40, 1320, 1416, 286, 2195, 1012, 201, 116, 1053, 542]\n"
     ]
    },
    {
     "name": "stderr",
     "output_type": "stream",
     "text": [
      "INFO:root: \n",
      "Avg Training Stats after 55 global rounds:\n",
      "INFO:root:Train Accuracy: 0.00%\n",
      "INFO:root:Training Loss : 0.16629633682132292\n",
      "INFO:root:Test Accuracy: 64.85%\n",
      "INFO:root:Test Loss: 1.0290984708070754 \n",
      "\n",
      " 55%|█████▌    | 55/100 [17:35<13:33, 18.07s/it]"
     ]
    },
    {
     "name": "stdout",
     "output_type": "stream",
     "text": [
      "[1798, 422, 231, 4600, 231, 2575, 1433, 106, 1320, 862]\n"
     ]
    },
    {
     "name": "stderr",
     "output_type": "stream",
     "text": [
      "INFO:root: \n",
      "Avg Training Stats after 56 global rounds:\n",
      "INFO:root:Train Accuracy: 0.00%\n",
      "INFO:root:Training Loss : 0.08237209782787507\n",
      "INFO:root:Test Accuracy: 65.59%\n",
      "INFO:root:Test Loss: 1.0031583672761917 \n",
      "\n",
      " 56%|█████▌    | 56/100 [17:57<14:06, 19.24s/it]"
     ]
    },
    {
     "name": "stdout",
     "output_type": "stream",
     "text": [
      "[2274, 3195, 267, 2029, 590, 327, 2195, 278, 1756, 813]\n"
     ]
    },
    {
     "name": "stderr",
     "output_type": "stream",
     "text": [
      "INFO:root: \n",
      "Avg Training Stats after 57 global rounds:\n",
      "INFO:root:Train Accuracy: 0.00%\n",
      "INFO:root:Training Loss : 0.1207578416082092\n",
      "INFO:root:Test Accuracy: 65.83%\n",
      "INFO:root:Test Loss: 0.9858541932702064 \n",
      "\n",
      " 57%|█████▋    | 57/100 [18:20<14:29, 20.23s/it]"
     ]
    },
    {
     "name": "stdout",
     "output_type": "stream",
     "text": [
      "[1798, 431, 123, 1320, 1416, 231, 2575, 2934, 19, 1756]\n"
     ]
    },
    {
     "name": "stderr",
     "output_type": "stream",
     "text": [
      "INFO:root: \n",
      "Avg Training Stats after 58 global rounds:\n",
      "INFO:root:Train Accuracy: 0.00%\n",
      "INFO:root:Training Loss : 0.09734652695267552\n",
      "INFO:root:Test Accuracy: 65.82%\n",
      "INFO:root:Test Loss: 0.9874005621671677 \n",
      "\n",
      " 58%|█████▊    | 58/100 [18:41<14:20, 20.50s/it]"
     ]
    },
    {
     "name": "stdout",
     "output_type": "stream",
     "text": [
      "[1018, 267, 2274, 447, 2029, 690, 590, 303, 1119, 796]\n"
     ]
    },
    {
     "name": "stderr",
     "output_type": "stream",
     "text": [
      "INFO:root: \n",
      "Avg Training Stats after 59 global rounds:\n",
      "INFO:root:Train Accuracy: 0.00%\n",
      "INFO:root:Training Loss : 0.06983745754195884\n",
      "INFO:root:Test Accuracy: 65.70%\n",
      "INFO:root:Test Loss: 1.005135081410408 \n",
      "\n",
      " 59%|█████▉    | 59/100 [18:59<13:32, 19.82s/it]"
     ]
    },
    {
     "name": "stdout",
     "output_type": "stream",
     "text": [
      "[106, 2430, 447, 1433, 1012, 3195, 1119, 1756, 862, 4600]\n"
     ]
    },
    {
     "name": "stderr",
     "output_type": "stream",
     "text": [
      "INFO:root: \n",
      "Avg Training Stats after 60 global rounds:\n",
      "INFO:root:Train Accuracy: 0.00%\n",
      "INFO:root:Training Loss : 0.05868467143160554\n",
      "INFO:root:Test Accuracy: 65.48%\n",
      "INFO:root:Test Loss: 1.0207516360282898 \n",
      "\n",
      " 60%|██████    | 60/100 [19:24<14:17, 21.44s/it]"
     ]
    },
    {
     "name": "stdout",
     "output_type": "stream",
     "text": [
      "[1780, 1320, 286, 2029, 40, 796, 447, 15, 231, 744]\n"
     ]
    },
    {
     "name": "stderr",
     "output_type": "stream",
     "text": [
      "INFO:root: \n",
      "Avg Training Stats after 61 global rounds:\n",
      "INFO:root:Train Accuracy: 0.00%\n",
      "INFO:root:Training Loss : 0.08520208177784706\n",
      "INFO:root:Test Accuracy: 65.38%\n",
      "INFO:root:Test Loss: 1.0312961104512215 \n",
      "\n",
      " 61%|██████    | 61/100 [19:41<12:59, 19.98s/it]"
     ]
    },
    {
     "name": "stdout",
     "output_type": "stream",
     "text": [
      "[116, 15, 2029, 327, 19, 470, 422, 87, 1012, 303]\n"
     ]
    },
    {
     "name": "stderr",
     "output_type": "stream",
     "text": [
      "INFO:root: \n",
      "Avg Training Stats after 62 global rounds:\n",
      "INFO:root:Train Accuracy: 0.00%\n",
      "INFO:root:Training Loss : 0.11670225600575071\n",
      "INFO:root:Test Accuracy: 65.62%\n",
      "INFO:root:Test Loss: 1.0279562178254127 \n",
      "\n",
      " 62%|██████▏   | 62/100 [19:55<11:30, 18.16s/it]"
     ]
    },
    {
     "name": "stdout",
     "output_type": "stream",
     "text": [
      "[796, 2274, 862, 286, 813, 3195, 1112, 422, 1119, 327]\n"
     ]
    },
    {
     "name": "stderr",
     "output_type": "stream",
     "text": [
      "INFO:root: \n",
      "Avg Training Stats after 63 global rounds:\n",
      "INFO:root:Train Accuracy: 0.00%\n",
      "INFO:root:Training Loss : 0.09118628888978016\n",
      "INFO:root:Test Accuracy: 64.62%\n",
      "INFO:root:Test Loss: 1.063521338701248 \n",
      "\n",
      " 63%|██████▎   | 63/100 [20:14<11:30, 18.67s/it]"
     ]
    },
    {
     "name": "stdout",
     "output_type": "stream",
     "text": [
      "[542, 1798, 690, 15, 267, 2575, 796, 590, 209, 470]\n"
     ]
    },
    {
     "name": "stderr",
     "output_type": "stream",
     "text": [
      "INFO:root: \n",
      "Avg Training Stats after 64 global rounds:\n",
      "INFO:root:Train Accuracy: 0.00%\n",
      "INFO:root:Training Loss : 0.08986981581573296\n",
      "INFO:root:Test Accuracy: 63.76%\n",
      "INFO:root:Test Loss: 1.093808040767908 \n",
      "\n",
      " 64%|██████▍   | 64/100 [20:31<10:51, 18.09s/it]"
     ]
    },
    {
     "name": "stdout",
     "output_type": "stream",
     "text": [
      "[87, 267, 286, 1053, 303, 796, 40, 173, 19, 327]\n"
     ]
    },
    {
     "name": "stderr",
     "output_type": "stream",
     "text": [
      "INFO:root: \n",
      "Avg Training Stats after 65 global rounds:\n",
      "INFO:root:Train Accuracy: 0.00%\n",
      "INFO:root:Training Loss : 0.12491468179292572\n",
      "INFO:root:Test Accuracy: 64.04%\n",
      "INFO:root:Test Loss: 1.0677627563476562 \n",
      "\n",
      " 65%|██████▌   | 65/100 [20:44<09:36, 16.48s/it]"
     ]
    },
    {
     "name": "stdout",
     "output_type": "stream",
     "text": [
      "[813, 542, 106, 123, 4600, 40, 209, 2029, 1736, 2195]\n"
     ]
    },
    {
     "name": "stderr",
     "output_type": "stream",
     "text": [
      "INFO:root: \n",
      "Avg Training Stats after 66 global rounds:\n",
      "INFO:root:Train Accuracy: 0.00%\n",
      "INFO:root:Training Loss : 0.11540604328884893\n",
      "INFO:root:Test Accuracy: 65.42%\n",
      "INFO:root:Test Loss: 1.0075424864888192 \n",
      "\n",
      " 66%|██████▌   | 66/100 [21:05<10:09, 17.91s/it]"
     ]
    },
    {
     "name": "stdout",
     "output_type": "stream",
     "text": [
      "[1416, 1320, 201, 744, 2934, 447, 278, 2430, 1018, 2274]\n"
     ]
    },
    {
     "name": "stderr",
     "output_type": "stream",
     "text": [
      "INFO:root: \n",
      "Avg Training Stats after 67 global rounds:\n",
      "INFO:root:Train Accuracy: 0.00%\n",
      "INFO:root:Training Loss : 0.10845685518736681\n",
      "INFO:root:Test Accuracy: 66.66%\n",
      "INFO:root:Test Loss: 0.9640374571084976 \n",
      "\n",
      " 67%|██████▋   | 67/100 [21:27<10:28, 19.04s/it]"
     ]
    },
    {
     "name": "stdout",
     "output_type": "stream",
     "text": [
      "[303, 1012, 470, 123, 106, 201, 87, 1736, 2934, 2575]\n"
     ]
    },
    {
     "name": "stderr",
     "output_type": "stream",
     "text": [
      "INFO:root: \n",
      "Avg Training Stats after 68 global rounds:\n",
      "INFO:root:Train Accuracy: 0.00%\n",
      "INFO:root:Training Loss : 0.05060591996698096\n",
      "INFO:root:Test Accuracy: 66.56%\n",
      "INFO:root:Test Loss: 0.964024358689785 \n",
      "\n",
      " 68%|██████▊   | 68/100 [21:45<10:03, 18.87s/it]"
     ]
    },
    {
     "name": "stdout",
     "output_type": "stream",
     "text": [
      "[3195, 794, 690, 2029, 231, 1756, 1112, 1736, 201, 813]\n"
     ]
    },
    {
     "name": "stderr",
     "output_type": "stream",
     "text": [
      "INFO:root: \n",
      "Avg Training Stats after 69 global rounds:\n",
      "INFO:root:Train Accuracy: 0.00%\n",
      "INFO:root:Training Loss : 0.05758014994334325\n",
      "INFO:root:Test Accuracy: 65.64%\n",
      "INFO:root:Test Loss: 1.0099396228790283 \n",
      "\n",
      " 69%|██████▉   | 69/100 [22:06<10:05, 19.55s/it]"
     ]
    },
    {
     "name": "stdout",
     "output_type": "stream",
     "text": [
      "[106, 40, 278, 422, 470, 2029, 2934, 744, 2274, 327]\n"
     ]
    },
    {
     "name": "stderr",
     "output_type": "stream",
     "text": [
      "INFO:root: \n",
      "Avg Training Stats after 70 global rounds:\n",
      "INFO:root:Train Accuracy: 0.00%\n",
      "INFO:root:Training Loss : 0.08507348305914586\n",
      "INFO:root:Test Accuracy: 64.54%\n",
      "INFO:root:Test Loss: 1.0669898955523969 \n",
      "\n",
      " 70%|███████   | 70/100 [22:25<09:39, 19.30s/it]"
     ]
    },
    {
     "name": "stdout",
     "output_type": "stream",
     "text": [
      "[3195, 267, 303, 173, 286, 2029, 422, 1012, 796, 106]\n"
     ]
    },
    {
     "name": "stderr",
     "output_type": "stream",
     "text": [
      "INFO:root: \n",
      "Avg Training Stats after 71 global rounds:\n",
      "INFO:root:Train Accuracy: 0.00%\n",
      "INFO:root:Training Loss : 0.08934829824610832\n",
      "INFO:root:Test Accuracy: 64.06%\n",
      "INFO:root:Test Loss: 1.1025571377575398 \n",
      "\n",
      " 71%|███████   | 71/100 [22:43<09:04, 18.76s/it]"
     ]
    },
    {
     "name": "stdout",
     "output_type": "stream",
     "text": [
      "[209, 40, 4600, 106, 123, 1012, 690, 542, 602, 2575]\n"
     ]
    },
    {
     "name": "stderr",
     "output_type": "stream",
     "text": [
      "INFO:root: \n",
      "Avg Training Stats after 72 global rounds:\n",
      "INFO:root:Train Accuracy: 0.00%\n",
      "INFO:root:Training Loss : 0.08788294121843482\n",
      "INFO:root:Test Accuracy: 64.21%\n",
      "INFO:root:Test Loss: 1.1010528576374055 \n",
      "\n",
      " 72%|███████▏  | 72/100 [23:02<08:49, 18.92s/it]"
     ]
    },
    {
     "name": "stdout",
     "output_type": "stream",
     "text": [
      "[1012, 2430, 2274, 209, 1798, 303, 1112, 231, 744, 278]\n"
     ]
    },
    {
     "name": "stderr",
     "output_type": "stream",
     "text": [
      "INFO:root: \n",
      "Avg Training Stats after 73 global rounds:\n",
      "INFO:root:Train Accuracy: 0.00%\n",
      "INFO:root:Training Loss : 0.06745127836229528\n",
      "INFO:root:Test Accuracy: 64.13%\n",
      "INFO:root:Test Loss: 1.0958514693379402 \n",
      "\n",
      " 73%|███████▎  | 73/100 [23:21<08:31, 18.94s/it]"
     ]
    },
    {
     "name": "stdout",
     "output_type": "stream",
     "text": [
      "[447, 1320, 209, 327, 744, 1018, 231, 2430, 590, 602]\n"
     ]
    },
    {
     "name": "stderr",
     "output_type": "stream",
     "text": [
      "INFO:root: \n",
      "Avg Training Stats after 74 global rounds:\n",
      "INFO:root:Train Accuracy: 0.00%\n",
      "INFO:root:Training Loss : 0.12043387231433504\n",
      "INFO:root:Test Accuracy: 64.95%\n",
      "INFO:root:Test Loss: 1.0566386279463769 \n",
      "\n",
      " 74%|███████▍  | 74/100 [23:38<07:55, 18.29s/it]"
     ]
    },
    {
     "name": "stdout",
     "output_type": "stream",
     "text": [
      "[470, 1053, 303, 1012, 106, 3195, 447, 1112, 201, 1433]\n"
     ]
    },
    {
     "name": "stderr",
     "output_type": "stream",
     "text": [
      "INFO:root: \n",
      "Avg Training Stats after 75 global rounds:\n",
      "INFO:root:Train Accuracy: 0.00%\n",
      "INFO:root:Training Loss : 0.04670169326900311\n",
      "INFO:root:Test Accuracy: 65.75%\n",
      "INFO:root:Test Loss: 1.0174953523278236 \n",
      "\n",
      " 75%|███████▌  | 75/100 [23:56<07:35, 18.22s/it]"
     ]
    },
    {
     "name": "stdout",
     "output_type": "stream",
     "text": [
      "[231, 1433, 431, 209, 1416, 1780, 116, 123, 422, 4600]\n"
     ]
    },
    {
     "name": "stderr",
     "output_type": "stream",
     "text": [
      "INFO:root: \n",
      "Avg Training Stats after 76 global rounds:\n",
      "INFO:root:Train Accuracy: 0.00%\n",
      "INFO:root:Training Loss : 0.16741211422193528\n",
      "INFO:root:Test Accuracy: 67.10%\n",
      "INFO:root:Test Loss: 0.9630979090929032 \n",
      "\n",
      " 76%|███████▌  | 76/100 [24:16<07:28, 18.68s/it]"
     ]
    },
    {
     "name": "stdout",
     "output_type": "stream",
     "text": [
      "[2575, 796, 1053, 267, 602, 1018, 201, 1756, 286, 2430]\n"
     ]
    },
    {
     "name": "stderr",
     "output_type": "stream",
     "text": [
      "INFO:root: \n",
      "Avg Training Stats after 77 global rounds:\n",
      "INFO:root:Train Accuracy: 0.00%\n",
      "INFO:root:Training Loss : 0.09017164809244407\n",
      "INFO:root:Test Accuracy: 67.97%\n",
      "INFO:root:Test Loss: 0.9397517228126526 \n",
      "\n",
      " 77%|███████▋  | 77/100 [24:35<07:17, 19.00s/it]"
     ]
    },
    {
     "name": "stdout",
     "output_type": "stream",
     "text": [
      "[15, 2029, 2274, 744, 1018, 1736, 2934, 19, 173, 447]\n"
     ]
    },
    {
     "name": "stderr",
     "output_type": "stream",
     "text": [
      "INFO:root: \n",
      "Avg Training Stats after 78 global rounds:\n",
      "INFO:root:Train Accuracy: 0.00%\n",
      "INFO:root:Training Loss : 0.08988309606004478\n",
      "INFO:root:Test Accuracy: 67.47%\n",
      "INFO:root:Test Loss: 0.966092758923769 \n",
      "\n",
      " 78%|███████▊  | 78/100 [24:55<07:03, 19.23s/it]"
     ]
    },
    {
     "name": "stdout",
     "output_type": "stream",
     "text": [
      "[542, 602, 173, 201, 590, 690, 422, 2934, 1736, 744]\n"
     ]
    },
    {
     "name": "stderr",
     "output_type": "stream",
     "text": [
      "INFO:root: \n",
      "Avg Training Stats after 79 global rounds:\n",
      "INFO:root:Train Accuracy: 0.00%\n",
      "INFO:root:Training Loss : 0.11475516216130635\n",
      "INFO:root:Test Accuracy: 67.00%\n",
      "INFO:root:Test Loss: 1.0157662391662599 \n",
      "\n",
      " 79%|███████▉  | 79/100 [25:13<06:33, 18.73s/it]"
     ]
    },
    {
     "name": "stdout",
     "output_type": "stream",
     "text": [
      "[201, 278, 40, 1112, 106, 690, 2029, 87, 796, 3195]\n"
     ]
    },
    {
     "name": "stderr",
     "output_type": "stream",
     "text": [
      "INFO:root: \n",
      "Avg Training Stats after 80 global rounds:\n",
      "INFO:root:Train Accuracy: 0.00%\n",
      "INFO:root:Training Loss : 0.031393426179465396\n",
      "INFO:root:Test Accuracy: 66.86%\n",
      "INFO:root:Test Loss: 1.0637557965517044 \n",
      "\n",
      " 80%|████████  | 80/100 [25:30<06:06, 18.30s/it]"
     ]
    },
    {
     "name": "stdout",
     "output_type": "stream",
     "text": [
      "[1798, 15, 201, 123, 1433, 542, 1119, 690, 602, 40]\n"
     ]
    },
    {
     "name": "stderr",
     "output_type": "stream",
     "text": [
      "INFO:root: \n",
      "Avg Training Stats after 81 global rounds:\n",
      "INFO:root:Train Accuracy: 0.00%\n",
      "INFO:root:Training Loss : 0.056275197275313396\n",
      "INFO:root:Test Accuracy: 66.95%\n",
      "INFO:root:Test Loss: 1.0874876038730144 \n",
      "\n",
      " 81%|████████  | 81/100 [25:46<05:32, 17.51s/it]"
     ]
    },
    {
     "name": "stdout",
     "output_type": "stream",
     "text": [
      "[267, 542, 209, 796, 87, 3195, 231, 303, 2934, 1119]\n"
     ]
    },
    {
     "name": "stderr",
     "output_type": "stream",
     "text": [
      "INFO:root: \n",
      "Avg Training Stats after 82 global rounds:\n",
      "INFO:root:Train Accuracy: 0.00%\n",
      "INFO:root:Training Loss : 0.06767049713522624\n",
      "INFO:root:Test Accuracy: 67.75%\n",
      "INFO:root:Test Loss: 1.042273372709751 \n",
      "\n",
      " 82%|████████▏ | 82/100 [26:04<05:20, 17.82s/it]"
     ]
    },
    {
     "name": "stdout",
     "output_type": "stream",
     "text": [
      "[690, 431, 422, 231, 4600, 2934, 2029, 327, 796, 590]\n"
     ]
    },
    {
     "name": "stderr",
     "output_type": "stream",
     "text": [
      "INFO:root: \n",
      "Avg Training Stats after 83 global rounds:\n",
      "INFO:root:Train Accuracy: 0.00%\n",
      "INFO:root:Training Loss : 0.09003285205583803\n",
      "INFO:root:Test Accuracy: 67.60%\n",
      "INFO:root:Test Loss: 1.005541124343872 \n",
      "\n",
      " 83%|████████▎ | 83/100 [26:26<05:22, 18.98s/it]"
     ]
    },
    {
     "name": "stdout",
     "output_type": "stream",
     "text": [
      "[231, 1112, 87, 303, 690, 796, 2195, 813, 327, 1018]\n"
     ]
    },
    {
     "name": "stderr",
     "output_type": "stream",
     "text": [
      "INFO:root: \n",
      "Avg Training Stats after 84 global rounds:\n",
      "INFO:root:Train Accuracy: 0.00%\n",
      "INFO:root:Training Loss : 0.08711736000814077\n",
      "INFO:root:Test Accuracy: 66.75%\n",
      "INFO:root:Test Loss: 1.0002163413167 \n",
      "\n",
      " 84%|████████▍ | 84/100 [26:42<04:51, 18.23s/it]"
     ]
    },
    {
     "name": "stdout",
     "output_type": "stream",
     "text": [
      "[602, 1018, 542, 106, 794, 447, 2029, 1433, 327, 690]\n"
     ]
    },
    {
     "name": "stderr",
     "output_type": "stream",
     "text": [
      "INFO:root: \n",
      "Avg Training Stats after 85 global rounds:\n",
      "INFO:root:Train Accuracy: 0.00%\n",
      "INFO:root:Training Loss : 0.0780083477269333\n",
      "INFO:root:Test Accuracy: 66.00%\n",
      "INFO:root:Test Loss: 1.0113305851817131 \n",
      "\n",
      " 85%|████████▌ | 85/100 [26:59<04:27, 17.84s/it]"
     ]
    },
    {
     "name": "stdout",
     "output_type": "stream",
     "text": [
      "[1433, 267, 447, 1012, 470, 201, 231, 15, 278, 1736]\n"
     ]
    },
    {
     "name": "stderr",
     "output_type": "stream",
     "text": [
      "INFO:root: \n",
      "Avg Training Stats after 86 global rounds:\n",
      "INFO:root:Train Accuracy: 0.00%\n",
      "INFO:root:Training Loss : 0.06264442880104154\n",
      "INFO:root:Test Accuracy: 65.98%\n",
      "INFO:root:Test Loss: 1.0109927451610565 \n",
      "\n",
      " 86%|████████▌ | 86/100 [27:14<03:58, 17.04s/it]"
     ]
    },
    {
     "name": "stdout",
     "output_type": "stream",
     "text": [
      "[40, 1053, 231, 286, 106, 2274, 470, 1119, 447, 1416]\n"
     ]
    },
    {
     "name": "stderr",
     "output_type": "stream",
     "text": [
      "INFO:root: \n",
      "Avg Training Stats after 87 global rounds:\n",
      "INFO:root:Train Accuracy: 0.00%\n",
      "INFO:root:Training Loss : 0.07999784764844782\n",
      "INFO:root:Test Accuracy: 65.73%\n",
      "INFO:root:Test Loss: 1.032224179804325 \n",
      "\n",
      " 87%|████████▋ | 87/100 [27:31<03:38, 16.82s/it]"
     ]
    },
    {
     "name": "stdout",
     "output_type": "stream",
     "text": [
      "[209, 2029, 231, 278, 1320, 862, 2195, 690, 1736, 106]\n"
     ]
    },
    {
     "name": "stderr",
     "output_type": "stream",
     "text": [
      "INFO:root: \n",
      "Avg Training Stats after 88 global rounds:\n",
      "INFO:root:Train Accuracy: 0.00%\n",
      "INFO:root:Training Loss : 0.08407904063962005\n",
      "INFO:root:Test Accuracy: 64.97%\n",
      "INFO:root:Test Loss: 1.0794578528404235 \n",
      "\n",
      " 88%|████████▊ | 88/100 [27:49<03:28, 17.38s/it]"
     ]
    },
    {
     "name": "stdout",
     "output_type": "stream",
     "text": [
      "[2430, 201, 2195, 2575, 123, 602, 116, 794, 4600, 690]\n"
     ]
    },
    {
     "name": "stderr",
     "output_type": "stream",
     "text": [
      "INFO:root: \n",
      "Avg Training Stats after 89 global rounds:\n",
      "INFO:root:Train Accuracy: 0.00%\n",
      "INFO:root:Training Loss : 0.09797560620967595\n",
      "INFO:root:Test Accuracy: 65.70%\n",
      "INFO:root:Test Loss: 1.065846044421196 \n",
      "\n",
      " 89%|████████▉ | 89/100 [28:12<03:28, 19.00s/it]"
     ]
    },
    {
     "name": "stdout",
     "output_type": "stream",
     "text": [
      "[470, 303, 278, 87, 1119, 2274, 1780, 19, 4600, 602]\n"
     ]
    },
    {
     "name": "stderr",
     "output_type": "stream",
     "text": [
      "INFO:root: \n",
      "Avg Training Stats after 90 global rounds:\n",
      "INFO:root:Train Accuracy: 0.00%\n",
      "INFO:root:Training Loss : 0.05631545473830146\n",
      "INFO:root:Test Accuracy: 66.46%\n",
      "INFO:root:Test Loss: 1.0669547234475614 \n",
      "\n",
      " 90%|█████████ | 90/100 [28:32<03:13, 19.37s/it]"
     ]
    },
    {
     "name": "stdout",
     "output_type": "stream",
     "text": [
      "[2575, 602, 2029, 327, 209, 4600, 2274, 1756, 431, 1112]\n"
     ]
    },
    {
     "name": "stderr",
     "output_type": "stream",
     "text": [
      "INFO:root: \n",
      "Avg Training Stats after 91 global rounds:\n",
      "INFO:root:Train Accuracy: 0.00%\n",
      "INFO:root:Training Loss : 0.0750341606980668\n",
      "INFO:root:Test Accuracy: 67.40%\n",
      "INFO:root:Test Loss: 1.0638546431064606 \n",
      "\n",
      " 91%|█████████ | 91/100 [28:57<03:07, 20.84s/it]"
     ]
    },
    {
     "name": "stdout",
     "output_type": "stream",
     "text": [
      "[2195, 267, 813, 286, 3195, 470, 231, 278, 1012, 231]\n"
     ]
    },
    {
     "name": "stderr",
     "output_type": "stream",
     "text": [
      "INFO:root: \n",
      "Avg Training Stats after 92 global rounds:\n",
      "INFO:root:Train Accuracy: 0.00%\n",
      "INFO:root:Training Loss : 0.07381544996285623\n",
      "INFO:root:Test Accuracy: 68.25%\n",
      "INFO:root:Test Loss: 1.02721892952919 \n",
      "\n",
      " 92%|█████████▏| 92/100 [29:15<02:39, 19.96s/it]"
     ]
    },
    {
     "name": "stdout",
     "output_type": "stream",
     "text": [
      "[1053, 2575, 303, 2430, 542, 116, 1756, 1433, 327, 15]\n"
     ]
    },
    {
     "name": "stderr",
     "output_type": "stream",
     "text": [
      "INFO:root: \n",
      "Avg Training Stats after 93 global rounds:\n",
      "INFO:root:Train Accuracy: 0.00%\n",
      "INFO:root:Training Loss : 0.09001116166397102\n",
      "INFO:root:Test Accuracy: 68.16%\n",
      "INFO:root:Test Loss: 1.0098843374848365 \n",
      "\n",
      " 93%|█████████▎| 93/100 [29:34<02:17, 19.71s/it]"
     ]
    },
    {
     "name": "stdout",
     "output_type": "stream",
     "text": [
      "[590, 4600, 201, 286, 303, 1736, 15, 1798, 744, 422]\n"
     ]
    },
    {
     "name": "stderr",
     "output_type": "stream",
     "text": [
      "INFO:root: \n",
      "Avg Training Stats after 94 global rounds:\n",
      "INFO:root:Train Accuracy: 0.00%\n",
      "INFO:root:Training Loss : 0.06002736246116178\n",
      "INFO:root:Test Accuracy: 67.84%\n",
      "INFO:root:Test Loss: 1.008881350159645 \n",
      "\n",
      " 94%|█████████▍| 94/100 [29:53<01:57, 19.57s/it]"
     ]
    },
    {
     "name": "stdout",
     "output_type": "stream",
     "text": [
      "[123, 862, 542, 19, 794, 1112, 4600, 2934, 231, 15]\n"
     ]
    },
    {
     "name": "stderr",
     "output_type": "stream",
     "text": [
      "INFO:root: \n",
      "Avg Training Stats after 95 global rounds:\n",
      "INFO:root:Train Accuracy: 0.00%\n",
      "INFO:root:Training Loss : 0.07126857916987597\n",
      "INFO:root:Test Accuracy: 67.92%\n",
      "INFO:root:Test Loss: 0.9880147109925747 \n",
      "\n",
      " 95%|█████████▌| 95/100 [30:13<01:38, 19.74s/it]"
     ]
    },
    {
     "name": "stdout",
     "output_type": "stream",
     "text": [
      "[1053, 87, 2575, 4600, 542, 231, 1433, 1012, 2029, 862]\n"
     ]
    },
    {
     "name": "stderr",
     "output_type": "stream",
     "text": [
      "INFO:root: \n",
      "Avg Training Stats after 96 global rounds:\n",
      "INFO:root:Train Accuracy: 0.00%\n",
      "INFO:root:Training Loss : 0.06379791500643095\n",
      "INFO:root:Test Accuracy: 67.98%\n",
      "INFO:root:Test Loss: 0.9712770034372806 \n",
      "\n",
      " 96%|█████████▌| 96/100 [30:36<01:22, 20.56s/it]"
     ]
    },
    {
     "name": "stdout",
     "output_type": "stream",
     "text": [
      "[19, 602, 40, 690, 267, 231, 173, 2029, 1798, 3195]\n"
     ]
    },
    {
     "name": "stderr",
     "output_type": "stream",
     "text": [
      "INFO:root: \n",
      "Avg Training Stats after 97 global rounds:\n",
      "INFO:root:Train Accuracy: 0.00%\n",
      "INFO:root:Training Loss : 0.07732979283360525\n",
      "INFO:root:Test Accuracy: 67.99%\n",
      "INFO:root:Test Loss: 0.9760122390091419 \n",
      "\n",
      " 97%|█████████▋| 97/100 [30:54<00:59, 19.79s/it]"
     ]
    },
    {
     "name": "stdout",
     "output_type": "stream",
     "text": [
      "[209, 1012, 422, 40, 794, 4600, 116, 286, 303, 1756]\n"
     ]
    },
    {
     "name": "stderr",
     "output_type": "stream",
     "text": [
      "INFO:root: \n",
      "Avg Training Stats after 98 global rounds:\n",
      "INFO:root:Train Accuracy: 0.00%\n",
      "INFO:root:Training Loss : 0.0593526601530498\n",
      "INFO:root:Test Accuracy: 67.44%\n",
      "INFO:root:Test Loss: 1.0121117874979972 \n",
      "\n",
      " 98%|█████████▊| 98/100 [31:12<00:38, 19.40s/it]"
     ]
    },
    {
     "name": "stdout",
     "output_type": "stream",
     "text": [
      "[2274, 1736, 173, 1416, 447, 19, 2195, 2029, 862, 744]\n"
     ]
    },
    {
     "name": "stderr",
     "output_type": "stream",
     "text": [
      "INFO:root: \n",
      "Avg Training Stats after 99 global rounds:\n",
      "INFO:root:Train Accuracy: 0.00%\n",
      "INFO:root:Training Loss : 0.1286800141562856\n",
      "INFO:root:Test Accuracy: 67.14%\n",
      "INFO:root:Test Loss: 1.03085211455822 \n",
      "\n",
      " 99%|█████████▉| 99/100 [31:32<00:19, 19.64s/it]"
     ]
    },
    {
     "name": "stdout",
     "output_type": "stream",
     "text": [
      "[431, 1798, 1736, 744, 19, 278, 690, 590, 116, 40]\n"
     ]
    },
    {
     "name": "stderr",
     "output_type": "stream",
     "text": [
      "INFO:root: \n",
      "Avg Training Stats after 100 global rounds:\n",
      "INFO:root:Train Accuracy: 0.00%\n",
      "INFO:root:Training Loss : 0.06186882767817435\n",
      "INFO:root:Test Accuracy: 68.12%\n",
      "INFO:root:Test Loss: 1.0229494813084603 \n",
      "\n",
      "100%|██████████| 100/100 [31:47<00:00, 19.08s/it]\n",
      "INFO:root: \n",
      " Results after 100 global rounds of training:\n",
      "INFO:root:|---- Best Test Accuracy: 68.25% , round: 91\n"
     ]
    },
    {
     "name": "stdout",
     "output_type": "stream",
     "text": [
      " Saving checkpoints to ../save/checkpoint/ConvNet_1207/cifar10_ConvNet_none_T[100]_C[0.2]_iid[0]_E[5]_B[32]_GPU[0]_Pruned[0.0]...\n"
     ]
    }
   ],
   "source": [
    " args = easydict.EasyDict({\n",
    "    \"model\": 'ConvNet',\n",
    "    'dataset': 'cifar10',\n",
    "    'gpu': 0,\n",
    "    'iid': 0,\n",
    "    'epochs': 100,\n",
    "    'optimizer': 'sgd',\n",
    "    'seed': 0,\n",
    "    'norm': 'none',\n",
    "    'num_users': 50,\n",
    "    'frac': 0.2,\n",
    "    'local_ep': 5, \n",
    "    'local_bs': 32,\n",
    "    'lr': 0.01,\n",
    "    'momentum': 1,\n",
    "    'kernel_num': 9,\n",
    "    'kernel_sizes': 'only_momentum',\n",
    "    'num_channnels': '1',\n",
    "    'num_filters': 32,\n",
    "    'max_pool': 'True',\n",
    "    'num_classes': 10,\n",
    "    'unequal': 0,\n",
    "    'stopping_rounds': 0,\n",
    "    'verbose': 0,\n",
    "    'hold_normalize': 0,\n",
    "    'save_path': '../save/checkpoint',\n",
    "    'exp_folder': 'ConvNet_1207',\n",
    "    'resume': None,\n",
    "    'server_opt': 'adam',\n",
    "    'server_lr': 0.01,\n",
    "    'client_decay':0,\n",
    "    'local_decay':0,\n",
    "    'alpha': 0.05,\n",
    "    'server_epoch':0,\n",
    "    'cosine_norm':0, \n",
    "    'only_fc' :0 ,\n",
    "    'loss':'bsm',\n",
    "    'dc_lr':0.0,\n",
    "    'tsne_pred':0,\n",
    "    'pruning': 0.0 })\n",
    "    \n",
    "    \n",
    "    \n",
    "temp = main_test(args)\n",
    "total.append(temp)"
   ]
  }
 ],
 "metadata": {
  "kernelspec": {
   "display_name": "federeated_learning",
   "language": "python",
   "name": "fedml"
  },
  "language_info": {
   "codemirror_mode": {
    "name": "ipython",
    "version": 3
   },
   "file_extension": ".py",
   "mimetype": "text/x-python",
   "name": "python",
   "nbconvert_exporter": "python",
   "pygments_lexer": "ipython3",
   "version": "3.7.4"
  }
 },
 "nbformat": 4,
 "nbformat_minor": 5
}
