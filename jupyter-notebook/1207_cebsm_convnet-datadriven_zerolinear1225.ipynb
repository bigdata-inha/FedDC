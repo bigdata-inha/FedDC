{
 "cells": [
  {
   "cell_type": "code",
   "execution_count": 1,
   "id": "magnetic-viking",
   "metadata": {},
   "outputs": [],
   "source": [
    "import matplotlib.pyplot as plt\n",
    "%matplotlib inline\n",
    "import matplotlib.style as style\n",
    "import os\n",
    "os.chdir('../')\n",
    "style.use('seaborn')\n",
    "import numpy as np\n",
    "import warnings\n",
    "warnings.filterwarnings('ignore')\n",
    "import easydict\n",
    "from test_imagenet import main_test\n",
    "total = []\n",
    "import torch\n"
   ]
  },
  {
   "cell_type": "code",
   "execution_count": 2,
   "id": "attended-opening",
   "metadata": {},
   "outputs": [
    {
     "name": "stderr",
     "output_type": "stream",
     "text": [
      "INFO:root:{'model': 'ConvNet', 'dataset': 'cifar10', 'gpu': 0, 'iid': 0, 'epochs': 100, 'optimizer': 'sgd', 'seed': 0, 'norm': 'groupnorm', 'num_users': 50, 'frac': 0.2, 'local_ep': 10, 'local_bs': 32, 'lr': 0.01, 'momentum': 1, 'kernel_num': 9, 'kernel_sizes': 'no_centering', 'num_channnels': '1', 'num_filters': 32, 'max_pool': 'True', 'num_classes': 10, 'unequal': 0, 'stopping_rounds': 0, 'verbose': 0, 'hold_normalize': 0, 'save_path': '../save/checkpoint/ConvNet_1223', 'exp_folder': 'ConvNet_1223', 'resume': None, 'server_opt': 'sgd', 'server_lr': 1.0, 'client_decay': 0, 'local_decay': 0, 'alpha': 0.05, 'server_epoch': 0, 'cosine_norm': 1, 'only_fc': 0, 'loss': 'ce', 'dc_lr': 0.0, 'tsne_pred': 0, 'pruning': 0.0}\n"
     ]
    },
    {
     "name": "stdout",
     "output_type": "stream",
     "text": [
      "Files already downloaded and verified\n",
      "Files already downloaded and verified\n",
      "Files already downloaded and verified\n"
     ]
    },
    {
     "name": "stderr",
     "output_type": "stream",
     "text": [
      "INFO:root:ConvNet(\n",
      "  (net_act): ReLU(inplace=True)\n",
      "  (net_pooling): MaxPool2d(kernel_size=2, stride=2, padding=0, dilation=1, ceil_mode=False)\n",
      "  (features): Sequential(\n",
      "    (0): Conv2d(3, 128, kernel_size=(3, 3), stride=(1, 1), padding=(1, 1))\n",
      "    (1): GroupNorm(2, 128, eps=1e-05, affine=True)\n",
      "    (2): ReLU(inplace=True)\n",
      "    (3): MaxPool2d(kernel_size=2, stride=2, padding=0, dilation=1, ceil_mode=False)\n",
      "    (4): Conv2d(128, 128, kernel_size=(3, 3), stride=(1, 1), padding=(1, 1))\n",
      "    (5): GroupNorm(2, 128, eps=1e-05, affine=True)\n",
      "    (6): ReLU(inplace=True)\n",
      "    (7): MaxPool2d(kernel_size=2, stride=2, padding=0, dilation=1, ceil_mode=False)\n",
      "    (8): Conv2d(128, 128, kernel_size=(3, 3), stride=(1, 1), padding=(1, 1))\n",
      "    (9): GroupNorm(2, 128, eps=1e-05, affine=True)\n",
      "    (10): ReLU(inplace=True)\n",
      "    (11): MaxPool2d(kernel_size=2, stride=2, padding=0, dilation=1, ceil_mode=False)\n",
      "  )\n",
      "  (classifier): ZeroMean_Classifier()\n",
      ")\n",
      "INFO:root:None\n"
     ]
    },
    {
     "name": "stdout",
     "output_type": "stream",
     "text": [
      "----------------------------------------------------------------\n",
      "        Layer (type)               Output Shape         Param #\n",
      "================================================================\n",
      "            Conv2d-1          [-1, 128, 32, 32]           3,584\n",
      "         GroupNorm-2          [-1, 128, 32, 32]             256\n",
      "              ReLU-3          [-1, 128, 32, 32]               0\n",
      "              ReLU-4          [-1, 128, 32, 32]               0\n",
      "         MaxPool2d-5          [-1, 128, 16, 16]               0\n",
      "         MaxPool2d-6          [-1, 128, 16, 16]               0\n",
      "            Conv2d-7          [-1, 128, 16, 16]         147,584\n",
      "         GroupNorm-8          [-1, 128, 16, 16]             256\n",
      "              ReLU-9          [-1, 128, 16, 16]               0\n",
      "             ReLU-10          [-1, 128, 16, 16]               0\n",
      "        MaxPool2d-11            [-1, 128, 8, 8]               0\n",
      "        MaxPool2d-12            [-1, 128, 8, 8]               0\n",
      "           Conv2d-13            [-1, 128, 8, 8]         147,584\n",
      "        GroupNorm-14            [-1, 128, 8, 8]             256\n",
      "             ReLU-15            [-1, 128, 8, 8]               0\n",
      "             ReLU-16            [-1, 128, 8, 8]               0\n",
      "        MaxPool2d-17            [-1, 128, 4, 4]               0\n",
      "        MaxPool2d-18            [-1, 128, 4, 4]               0\n",
      "ZeroMean_Classifier-19                   [-1, 10]          20,490\n",
      "================================================================\n",
      "Total params: 320,010\n",
      "Trainable params: 320,010\n",
      "Non-trainable params: 0\n",
      "----------------------------------------------------------------\n",
      "Input size (MB): 0.01\n",
      "Forward/backward pass size (MB): 5.91\n",
      "Params size (MB): 1.22\n",
      "Estimated Total Size (MB): 7.14\n",
      "----------------------------------------------------------------\n"
     ]
    },
    {
     "name": "stderr",
     "output_type": "stream",
     "text": [
      "\r",
      "  0%|          | 0/100 [00:00<?, ?it/s]"
     ]
    },
    {
     "name": "stdout",
     "output_type": "stream",
     "text": [
      "[209, 1756, 422, 2575, 1018, 602, 2274, 447, 744, 1112, 123, 87, 1433, 1416, 40, 1119, 796, 794, 327, 470, 231, 813, 1320, 542, 690, 2195, 2934, 106, 1012, 15, 278, 1798, 303, 590, 2029, 201, 1053, 862, 231, 116, 4600, 19, 286, 1736, 2430, 431, 3195, 1780, 173, 267]\n",
      "[470, 2934, 201, 231, 2575, 744, 15, 123, 1119, 4600]\n"
     ]
    },
    {
     "name": "stderr",
     "output_type": "stream",
     "text": [
      "INFO:root: \n",
      "Avg Training Stats after 1 global rounds:\n",
      "INFO:root:Train Accuracy: 0.00%\n",
      "INFO:root:Training Loss : 0.3085988410228062\n",
      "INFO:root:Test Accuracy: 17.41%\n",
      "INFO:root:Test Loss: 2.6509023118019104 \n",
      "\n",
      "  1%|          | 1/100 [00:47<1:18:53, 47.81s/it]"
     ]
    },
    {
     "name": "stdout",
     "output_type": "stream",
     "text": [
      "[231, 173, 2575, 1736, 2430, 123, 4600, 690, 1012, 447]\n"
     ]
    },
    {
     "name": "stderr",
     "output_type": "stream",
     "text": [
      "INFO:root: \n",
      "Avg Training Stats after 2 global rounds:\n",
      "INFO:root:Train Accuracy: 0.00%\n",
      "INFO:root:Training Loss : 0.41121006663624166\n",
      "INFO:root:Test Accuracy: 26.56%\n",
      "INFO:root:Test Loss: 2.6096268489956858 \n",
      "\n",
      "  2%|▏         | 2/100 [01:35<1:18:17, 47.94s/it]"
     ]
    },
    {
     "name": "stdout",
     "output_type": "stream",
     "text": [
      "[744, 2575, 1320, 470, 2430, 2274, 267, 690, 209, 303]\n"
     ]
    },
    {
     "name": "stderr",
     "output_type": "stream",
     "text": [
      "INFO:root: \n",
      "Avg Training Stats after 3 global rounds:\n",
      "INFO:root:Train Accuracy: 0.00%\n",
      "INFO:root:Training Loss : 0.2872553906077849\n",
      "INFO:root:Test Accuracy: 26.75%\n",
      "INFO:root:Test Loss: 2.325905513167381 \n",
      "\n",
      "  3%|▎         | 3/100 [02:17<1:12:46, 45.01s/it]"
     ]
    },
    {
     "name": "stdout",
     "output_type": "stream",
     "text": [
      "[173, 690, 542, 1012, 2195, 1780, 1053, 87, 2934, 1736]\n"
     ]
    },
    {
     "name": "stderr",
     "output_type": "stream",
     "text": [
      "INFO:root: \n",
      "Avg Training Stats after 4 global rounds:\n",
      "INFO:root:Train Accuracy: 0.00%\n",
      "INFO:root:Training Loss : 0.439932744715373\n",
      "INFO:root:Test Accuracy: 31.32%\n",
      "INFO:root:Test Loss: 1.900426190495491 \n",
      "\n",
      "  4%|▍         | 4/100 [03:00<1:11:06, 44.45s/it]"
     ]
    },
    {
     "name": "stdout",
     "output_type": "stream",
     "text": [
      "[2430, 2575, 1736, 123, 15, 1780, 1018, 231, 87, 794]\n"
     ]
    },
    {
     "name": "stderr",
     "output_type": "stream",
     "text": [
      "INFO:root: \n",
      "Avg Training Stats after 5 global rounds:\n",
      "INFO:root:Train Accuracy: 0.00%\n",
      "INFO:root:Training Loss : 0.2929647831513318\n",
      "INFO:root:Test Accuracy: 20.98%\n",
      "INFO:root:Test Loss: 2.6402298650890588 \n",
      "\n",
      "  5%|▌         | 5/100 [03:40<1:07:26, 42.59s/it]"
     ]
    },
    {
     "name": "stdout",
     "output_type": "stream",
     "text": [
      "[1119, 87, 590, 794, 813, 303, 1320, 690, 1018, 422]\n"
     ]
    },
    {
     "name": "stderr",
     "output_type": "stream",
     "text": [
      "INFO:root: \n",
      "Avg Training Stats after 6 global rounds:\n",
      "INFO:root:Train Accuracy: 0.00%\n",
      "INFO:root:Training Loss : 0.23303296929292255\n",
      "INFO:root:Test Accuracy: 18.28%\n",
      "INFO:root:Test Loss: 2.84813686247915 \n",
      "\n",
      "  6%|▌         | 6/100 [04:12<1:01:19, 39.14s/it]"
     ]
    },
    {
     "name": "stdout",
     "output_type": "stream",
     "text": [
      "[2029, 1433, 303, 327, 744, 862, 2934, 231, 1416, 278]\n"
     ]
    },
    {
     "name": "stderr",
     "output_type": "stream",
     "text": [
      "INFO:root: \n",
      "Avg Training Stats after 7 global rounds:\n",
      "INFO:root:Train Accuracy: 0.00%\n",
      "INFO:root:Training Loss : 0.3332995499655235\n",
      "INFO:root:Test Accuracy: 28.06%\n",
      "INFO:root:Test Loss: 2.065037458240986 \n",
      "\n",
      "  7%|▋         | 7/100 [04:54<1:01:47, 39.87s/it]"
     ]
    },
    {
     "name": "stdout",
     "output_type": "stream",
     "text": [
      "[231, 1112, 327, 744, 286, 422, 15, 1798, 1053, 173]\n"
     ]
    },
    {
     "name": "stderr",
     "output_type": "stream",
     "text": [
      "INFO:root: \n",
      "Avg Training Stats after 8 global rounds:\n",
      "INFO:root:Train Accuracy: 0.00%\n",
      "INFO:root:Training Loss : 0.32121110299596545\n",
      "INFO:root:Test Accuracy: 41.71%\n",
      "INFO:root:Test Loss: 1.6711700657010078 \n",
      "\n",
      "  8%|▊         | 8/100 [05:23<56:01, 36.53s/it]  "
     ]
    },
    {
     "name": "stdout",
     "output_type": "stream",
     "text": [
      "[794, 278, 744, 862, 303, 19, 2274, 1053, 813, 1012]\n"
     ]
    },
    {
     "name": "stderr",
     "output_type": "stream",
     "text": [
      "INFO:root: \n",
      "Avg Training Stats after 9 global rounds:\n",
      "INFO:root:Train Accuracy: 0.00%\n",
      "INFO:root:Training Loss : 0.19690699103283021\n",
      "INFO:root:Test Accuracy: 30.60%\n",
      "INFO:root:Test Loss: 2.1319996762275695 \n",
      "\n",
      "  9%|▉         | 9/100 [05:58<54:51, 36.17s/it]"
     ]
    },
    {
     "name": "stdout",
     "output_type": "stream",
     "text": [
      "[1320, 40, 1756, 470, 327, 1012, 862, 1433, 796, 231]\n"
     ]
    },
    {
     "name": "stderr",
     "output_type": "stream",
     "text": [
      "INFO:root: \n",
      "Avg Training Stats after 10 global rounds:\n",
      "INFO:root:Train Accuracy: 0.00%\n",
      "INFO:root:Training Loss : 0.15788885657947832\n",
      "INFO:root:Test Accuracy: 28.74%\n",
      "INFO:root:Test Loss: 2.29108813598752 \n",
      "\n",
      " 10%|█         | 10/100 [06:34<53:57, 35.98s/it]"
     ]
    },
    {
     "name": "stdout",
     "output_type": "stream",
     "text": [
      "[87, 201, 1798, 813, 123, 2934, 1756, 231, 1053, 4600]\n"
     ]
    },
    {
     "name": "stderr",
     "output_type": "stream",
     "text": [
      "INFO:root: \n",
      "Avg Training Stats after 11 global rounds:\n",
      "INFO:root:Train Accuracy: 0.00%\n",
      "INFO:root:Training Loss : 0.23063693357255208\n",
      "INFO:root:Test Accuracy: 41.70%\n",
      "INFO:root:Test Loss: 1.612505130469799 \n",
      "\n",
      " 11%|█         | 11/100 [07:23<59:24, 40.05s/it]"
     ]
    },
    {
     "name": "stdout",
     "output_type": "stream",
     "text": [
      "[106, 231, 447, 796, 209, 1798, 1112, 1416, 590, 794]\n"
     ]
    },
    {
     "name": "stderr",
     "output_type": "stream",
     "text": [
      "INFO:root: \n",
      "Avg Training Stats after 12 global rounds:\n",
      "INFO:root:Train Accuracy: 0.00%\n",
      "INFO:root:Training Loss : 0.15376346039443994\n",
      "INFO:root:Test Accuracy: 46.80%\n",
      "INFO:root:Test Loss: 1.6410724574327469 \n",
      "\n",
      " 12%|█▏        | 12/100 [07:57<55:56, 38.14s/it]"
     ]
    },
    {
     "name": "stdout",
     "output_type": "stream",
     "text": [
      "[1320, 278, 862, 2274, 1798, 87, 2029, 796, 1018, 2430]\n"
     ]
    },
    {
     "name": "stderr",
     "output_type": "stream",
     "text": [
      "INFO:root: \n",
      "Avg Training Stats after 13 global rounds:\n",
      "INFO:root:Train Accuracy: 0.00%\n",
      "INFO:root:Training Loss : 0.1685662366710245\n",
      "INFO:root:Test Accuracy: 44.70%\n",
      "INFO:root:Test Loss: 1.728492988795042 \n",
      "\n",
      " 13%|█▎        | 13/100 [08:44<59:19, 40.92s/it]"
     ]
    },
    {
     "name": "stdout",
     "output_type": "stream",
     "text": [
      "[4600, 2575, 590, 173, 2430, 40, 1112, 87, 231, 2195]\n"
     ]
    },
    {
     "name": "stderr",
     "output_type": "stream",
     "text": [
      "INFO:root: \n",
      "Avg Training Stats after 14 global rounds:\n",
      "INFO:root:Train Accuracy: 0.00%\n",
      "INFO:root:Training Loss : 0.2387441347378716\n",
      "INFO:root:Test Accuracy: 52.21%\n",
      "INFO:root:Test Loss: 1.3377742886543273 \n",
      "\n",
      " 14%|█▍        | 14/100 [09:33<1:02:07, 43.34s/it]"
     ]
    },
    {
     "name": "stdout",
     "output_type": "stream",
     "text": [
      "[231, 794, 1018, 1012, 15, 303, 796, 2274, 1320, 19]\n"
     ]
    },
    {
     "name": "stderr",
     "output_type": "stream",
     "text": [
      "INFO:root: \n",
      "Avg Training Stats after 15 global rounds:\n",
      "INFO:root:Train Accuracy: 0.00%\n",
      "INFO:root:Training Loss : 0.18804747386730175\n",
      "INFO:root:Test Accuracy: 43.29%\n",
      "INFO:root:Test Loss: 1.6724089252948762 \n",
      "\n",
      " 15%|█▌        | 15/100 [10:07<57:14, 40.40s/it]  "
     ]
    },
    {
     "name": "stdout",
     "output_type": "stream",
     "text": [
      "[2195, 40, 2029, 862, 2575, 1433, 447, 19, 4600, 796]\n"
     ]
    },
    {
     "name": "stderr",
     "output_type": "stream",
     "text": [
      "INFO:root: \n",
      "Avg Training Stats after 16 global rounds:\n",
      "INFO:root:Train Accuracy: 0.00%\n",
      "INFO:root:Training Loss : 0.17857494467225937\n",
      "INFO:root:Test Accuracy: 53.16%\n",
      "INFO:root:Test Loss: 1.3790360322594644 \n",
      "\n",
      " 16%|█▌        | 16/100 [10:58<1:01:08, 43.68s/it]"
     ]
    },
    {
     "name": "stdout",
     "output_type": "stream",
     "text": [
      "[231, 173, 303, 2274, 796, 116, 1798, 447, 106, 1433]\n"
     ]
    },
    {
     "name": "stderr",
     "output_type": "stream",
     "text": [
      "INFO:root: \n",
      "Avg Training Stats after 17 global rounds:\n",
      "INFO:root:Train Accuracy: 0.00%\n",
      "INFO:root:Training Loss : 0.1618732769541063\n",
      "INFO:root:Test Accuracy: 40.16%\n",
      "INFO:root:Test Loss: 1.9719975640997291 \n",
      "\n",
      " 17%|█▋        | 17/100 [11:32<56:24, 40.78s/it]  "
     ]
    },
    {
     "name": "stdout",
     "output_type": "stream",
     "text": [
      "[201, 1756, 796, 1320, 813, 542, 116, 173, 794, 1798]\n"
     ]
    },
    {
     "name": "stderr",
     "output_type": "stream",
     "text": [
      "INFO:root: \n",
      "Avg Training Stats after 18 global rounds:\n",
      "INFO:root:Train Accuracy: 0.00%\n",
      "INFO:root:Training Loss : 0.2112636038445715\n",
      "INFO:root:Test Accuracy: 48.53%\n",
      "INFO:root:Test Loss: 1.579238084256649 \n",
      "\n",
      " 18%|█▊        | 18/100 [12:07<53:30, 39.15s/it]"
     ]
    },
    {
     "name": "stdout",
     "output_type": "stream",
     "text": [
      "[15, 1780, 19, 744, 2575, 173, 813, 40, 1320, 422]\n"
     ]
    },
    {
     "name": "stderr",
     "output_type": "stream",
     "text": [
      "INFO:root: \n",
      "Avg Training Stats after 19 global rounds:\n",
      "INFO:root:Train Accuracy: 0.00%\n",
      "INFO:root:Training Loss : 0.26894152682541783\n",
      "INFO:root:Test Accuracy: 28.05%\n",
      "INFO:root:Test Loss: 2.7672732335329058 \n",
      "\n",
      " 19%|█▉        | 19/100 [12:42<50:49, 37.65s/it]"
     ]
    },
    {
     "name": "stdout",
     "output_type": "stream",
     "text": [
      "[813, 1736, 15, 1433, 267, 470, 3195, 744, 2575, 231]\n"
     ]
    },
    {
     "name": "stderr",
     "output_type": "stream",
     "text": [
      "INFO:root: \n",
      "Avg Training Stats after 20 global rounds:\n",
      "INFO:root:Train Accuracy: 0.00%\n",
      "INFO:root:Training Loss : 0.20000481543567847\n",
      "INFO:root:Test Accuracy: 36.24%\n",
      "INFO:root:Test Loss: 2.1510710845142604 \n",
      "\n",
      " 20%|██        | 20/100 [13:24<52:00, 39.01s/it]"
     ]
    },
    {
     "name": "stdout",
     "output_type": "stream",
     "text": [
      "[278, 744, 1053, 447, 1320, 116, 1798, 19, 4600, 3195]\n"
     ]
    },
    {
     "name": "stderr",
     "output_type": "stream",
     "text": [
      "INFO:root: \n",
      "Avg Training Stats after 21 global rounds:\n",
      "INFO:root:Train Accuracy: 0.00%\n",
      "INFO:root:Training Loss : 0.220584158226485\n",
      "INFO:root:Test Accuracy: 44.93%\n",
      "INFO:root:Test Loss: 1.8293014779686927 \n",
      "\n",
      " 21%|██        | 21/100 [14:11<54:31, 41.41s/it]"
     ]
    },
    {
     "name": "stdout",
     "output_type": "stream",
     "text": [
      "[813, 2029, 602, 590, 1756, 106, 1780, 40, 19, 2934]\n"
     ]
    },
    {
     "name": "stderr",
     "output_type": "stream",
     "text": [
      "INFO:root: \n",
      "Avg Training Stats after 22 global rounds:\n",
      "INFO:root:Train Accuracy: 0.00%\n",
      "INFO:root:Training Loss : 0.15416355120117167\n",
      "INFO:root:Test Accuracy: 44.99%\n",
      "INFO:root:Test Loss: 1.6510870358347893 \n",
      "\n",
      " 22%|██▏       | 22/100 [14:54<54:21, 41.82s/it]"
     ]
    },
    {
     "name": "stdout",
     "output_type": "stream",
     "text": [
      "[40, 862, 327, 1780, 2274, 106, 1053, 1112, 1012, 3195]\n"
     ]
    },
    {
     "name": "stderr",
     "output_type": "stream",
     "text": [
      "INFO:root: \n",
      "Avg Training Stats after 23 global rounds:\n",
      "INFO:root:Train Accuracy: 0.00%\n",
      "INFO:root:Training Loss : 0.1848071212691173\n",
      "INFO:root:Test Accuracy: 49.91%\n",
      "INFO:root:Test Loss: 1.4942376051843167 \n",
      "\n",
      " 23%|██▎       | 23/100 [15:37<54:27, 42.44s/it]"
     ]
    },
    {
     "name": "stdout",
     "output_type": "stream",
     "text": [
      "[1320, 1119, 862, 744, 1053, 87, 201, 470, 2274, 1012]\n"
     ]
    },
    {
     "name": "stderr",
     "output_type": "stream",
     "text": [
      "INFO:root: \n",
      "Avg Training Stats after 24 global rounds:\n",
      "INFO:root:Train Accuracy: 0.00%\n",
      "INFO:root:Training Loss : 0.16799331271307266\n",
      "INFO:root:Test Accuracy: 45.04%\n",
      "INFO:root:Test Loss: 1.6938143241405488 \n",
      "\n",
      " 24%|██▍       | 24/100 [16:16<52:11, 41.20s/it]"
     ]
    },
    {
     "name": "stdout",
     "output_type": "stream",
     "text": [
      "[447, 286, 1416, 87, 796, 1798, 231, 1119, 431, 2195]\n"
     ]
    },
    {
     "name": "stderr",
     "output_type": "stream",
     "text": [
      "INFO:root: \n",
      "Avg Training Stats after 25 global rounds:\n",
      "INFO:root:Train Accuracy: 0.00%\n",
      "INFO:root:Training Loss : 0.22934889922105164\n",
      "INFO:root:Test Accuracy: 49.36%\n",
      "INFO:root:Test Loss: 1.4394044414162637 \n",
      "\n",
      " 25%|██▌       | 25/100 [16:53<50:09, 40.13s/it]"
     ]
    },
    {
     "name": "stdout",
     "output_type": "stream",
     "text": [
      "[116, 2029, 690, 1416, 1780, 602, 2575, 1756, 431, 87]\n"
     ]
    },
    {
     "name": "stderr",
     "output_type": "stream",
     "text": [
      "INFO:root: \n",
      "Avg Training Stats after 26 global rounds:\n",
      "INFO:root:Train Accuracy: 0.00%\n",
      "INFO:root:Training Loss : 0.24285922377361047\n",
      "INFO:root:Test Accuracy: 48.68%\n",
      "INFO:root:Test Loss: 1.479833981692791 \n",
      "\n",
      " 26%|██▌       | 26/100 [17:37<50:42, 41.11s/it]"
     ]
    },
    {
     "name": "stdout",
     "output_type": "stream",
     "text": [
      "[87, 173, 2029, 19, 4600, 2195, 116, 303, 40, 209]\n"
     ]
    },
    {
     "name": "stderr",
     "output_type": "stream",
     "text": [
      "INFO:root: \n",
      "Avg Training Stats after 27 global rounds:\n",
      "INFO:root:Train Accuracy: 0.00%\n",
      "INFO:root:Training Loss : 0.25417189011957086\n",
      "INFO:root:Test Accuracy: 50.77%\n",
      "INFO:root:Test Loss: 1.5578713592886926 \n",
      "\n",
      " 27%|██▋       | 27/100 [18:17<49:41, 40.84s/it]"
     ]
    },
    {
     "name": "stdout",
     "output_type": "stream",
     "text": [
      "[4600, 267, 794, 231, 201, 231, 2934, 590, 470, 173]\n"
     ]
    },
    {
     "name": "stderr",
     "output_type": "stream",
     "text": [
      "INFO:root: \n",
      "Avg Training Stats after 28 global rounds:\n",
      "INFO:root:Train Accuracy: 0.00%\n",
      "INFO:root:Training Loss : 0.21033292319329583\n",
      "INFO:root:Test Accuracy: 50.51%\n",
      "INFO:root:Test Loss: 1.5325340023636818 \n",
      "\n",
      " 28%|██▊       | 28/100 [18:58<49:13, 41.02s/it]"
     ]
    },
    {
     "name": "stdout",
     "output_type": "stream",
     "text": [
      "[1798, 286, 123, 1112, 303, 796, 744, 1320, 231, 794]\n"
     ]
    },
    {
     "name": "stderr",
     "output_type": "stream",
     "text": [
      "INFO:root: \n",
      "Avg Training Stats after 29 global rounds:\n",
      "INFO:root:Train Accuracy: 0.00%\n",
      "INFO:root:Training Loss : 0.10027609058450512\n",
      "INFO:root:Test Accuracy: 53.00%\n",
      "INFO:root:Test Loss: 1.344584718644619 \n",
      "\n",
      " 29%|██▉       | 29/100 [19:33<46:12, 39.05s/it]"
     ]
    },
    {
     "name": "stdout",
     "output_type": "stream",
     "text": [
      "[303, 4600, 1119, 447, 744, 40, 1756, 2430, 2029, 602]\n"
     ]
    },
    {
     "name": "stderr",
     "output_type": "stream",
     "text": [
      "INFO:root: \n",
      "Avg Training Stats after 30 global rounds:\n",
      "INFO:root:Train Accuracy: 0.00%\n",
      "INFO:root:Training Loss : 0.09219918419322422\n",
      "INFO:root:Test Accuracy: 49.56%\n",
      "INFO:root:Test Loss: 1.534079054892063 \n",
      "\n",
      " 30%|███       | 30/100 [20:22<49:08, 42.12s/it]"
     ]
    },
    {
     "name": "stdout",
     "output_type": "stream",
     "text": [
      "[422, 3195, 1112, 327, 123, 1736, 303, 286, 106, 1433]\n"
     ]
    },
    {
     "name": "stderr",
     "output_type": "stream",
     "text": [
      "INFO:root: \n",
      "Avg Training Stats after 31 global rounds:\n",
      "INFO:root:Train Accuracy: 0.00%\n",
      "INFO:root:Training Loss : 0.15704140745763864\n",
      "INFO:root:Test Accuracy: 36.80%\n",
      "INFO:root:Test Loss: 2.115634826440364 \n",
      "\n",
      " 31%|███       | 31/100 [21:00<46:59, 40.86s/it]"
     ]
    },
    {
     "name": "stdout",
     "output_type": "stream",
     "text": [
      "[862, 173, 422, 303, 123, 1012, 542, 278, 431, 2195]\n"
     ]
    },
    {
     "name": "stderr",
     "output_type": "stream",
     "text": [
      "INFO:root: \n",
      "Avg Training Stats after 32 global rounds:\n",
      "INFO:root:Train Accuracy: 0.00%\n",
      "INFO:root:Training Loss : 0.2556208554914314\n",
      "INFO:root:Test Accuracy: 44.20%\n",
      "INFO:root:Test Loss: 1.7700665345788003 \n",
      "\n",
      " 32%|███▏      | 32/100 [21:32<43:14, 38.15s/it]"
     ]
    },
    {
     "name": "stdout",
     "output_type": "stream",
     "text": [
      "[1320, 15, 19, 1756, 231, 470, 267, 87, 862, 327]\n"
     ]
    },
    {
     "name": "stderr",
     "output_type": "stream",
     "text": [
      "INFO:root: \n",
      "Avg Training Stats after 33 global rounds:\n",
      "INFO:root:Train Accuracy: 0.00%\n",
      "INFO:root:Training Loss : 0.26766400602096785\n",
      "INFO:root:Test Accuracy: 41.65%\n",
      "INFO:root:Test Loss: 1.896006239876151 \n",
      "\n",
      " 33%|███▎      | 33/100 [22:01<39:43, 35.58s/it]"
     ]
    },
    {
     "name": "stdout",
     "output_type": "stream",
     "text": [
      "[87, 267, 796, 1053, 1433, 2575, 1119, 794, 15, 327]\n"
     ]
    },
    {
     "name": "stderr",
     "output_type": "stream",
     "text": [
      "INFO:root: \n",
      "Avg Training Stats after 34 global rounds:\n",
      "INFO:root:Train Accuracy: 0.00%\n",
      "INFO:root:Training Loss : 0.20208223265859226\n",
      "INFO:root:Test Accuracy: 48.58%\n",
      "INFO:root:Test Loss: 1.642346803843975 \n",
      "\n",
      " 34%|███▍      | 34/100 [22:38<39:26, 35.86s/it]"
     ]
    },
    {
     "name": "stdout",
     "output_type": "stream",
     "text": [
      "[422, 1798, 590, 796, 19, 1320, 173, 1416, 1053, 4600]\n"
     ]
    },
    {
     "name": "stderr",
     "output_type": "stream",
     "text": [
      "INFO:root: \n",
      "Avg Training Stats after 35 global rounds:\n",
      "INFO:root:Train Accuracy: 0.00%\n",
      "INFO:root:Training Loss : 0.18066549479748253\n",
      "INFO:root:Test Accuracy: 55.29%\n",
      "INFO:root:Test Loss: 1.4018709576129913 \n",
      "\n",
      " 35%|███▌      | 35/100 [23:23<41:52, 38.65s/it]"
     ]
    },
    {
     "name": "stdout",
     "output_type": "stream",
     "text": [
      "[2430, 1320, 602, 3195, 231, 2934, 431, 794, 1416, 542]\n"
     ]
    },
    {
     "name": "stderr",
     "output_type": "stream",
     "text": [
      "INFO:root: \n",
      "Avg Training Stats after 36 global rounds:\n",
      "INFO:root:Train Accuracy: 0.00%\n",
      "INFO:root:Training Loss : 0.14738441123336718\n",
      "INFO:root:Test Accuracy: 54.54%\n",
      "INFO:root:Test Loss: 1.3277953886985778 \n",
      "\n",
      " 36%|███▌      | 36/100 [24:12<44:28, 41.70s/it]"
     ]
    },
    {
     "name": "stdout",
     "output_type": "stream",
     "text": [
      "[15, 813, 1112, 123, 40, 796, 2274, 1018, 2195, 201]\n"
     ]
    },
    {
     "name": "stderr",
     "output_type": "stream",
     "text": [
      "INFO:root: \n",
      "Avg Training Stats after 37 global rounds:\n",
      "INFO:root:Train Accuracy: 0.00%\n",
      "INFO:root:Training Loss : 0.15342783952658146\n",
      "INFO:root:Test Accuracy: 45.10%\n",
      "INFO:root:Test Loss: 1.7137954127043487 \n",
      "\n",
      " 37%|███▋      | 37/100 [24:49<42:16, 40.26s/it]"
     ]
    },
    {
     "name": "stdout",
     "output_type": "stream",
     "text": [
      "[303, 2195, 422, 1112, 1433, 116, 796, 602, 1756, 231]\n"
     ]
    },
    {
     "name": "stderr",
     "output_type": "stream",
     "text": [
      "INFO:root: \n",
      "Avg Training Stats after 38 global rounds:\n",
      "INFO:root:Train Accuracy: 0.00%\n",
      "INFO:root:Training Loss : 0.16733250232294597\n",
      "INFO:root:Test Accuracy: 44.84%\n",
      "INFO:root:Test Loss: 1.764013818204403 \n",
      "\n",
      " 38%|███▊      | 38/100 [25:27<40:49, 39.50s/it]"
     ]
    },
    {
     "name": "stdout",
     "output_type": "stream",
     "text": [
      "[1756, 231, 267, 2430, 590, 1736, 15, 4600, 327, 1112]\n"
     ]
    },
    {
     "name": "stderr",
     "output_type": "stream",
     "text": [
      "INFO:root: \n",
      "Avg Training Stats after 39 global rounds:\n",
      "INFO:root:Train Accuracy: 0.00%\n",
      "INFO:root:Training Loss : 0.16764912112434432\n",
      "INFO:root:Test Accuracy: 51.43%\n",
      "INFO:root:Test Loss: 1.416481182128191 \n",
      "\n",
      " 39%|███▉      | 39/100 [26:14<42:25, 41.73s/it]"
     ]
    },
    {
     "name": "stdout",
     "output_type": "stream",
     "text": [
      "[2575, 422, 3195, 862, 231, 796, 2934, 123, 2430, 794]\n"
     ]
    },
    {
     "name": "stderr",
     "output_type": "stream",
     "text": [
      "INFO:root: \n",
      "Avg Training Stats after 40 global rounds:\n",
      "INFO:root:Train Accuracy: 0.00%\n",
      "INFO:root:Training Loss : 0.14227609564583837\n",
      "INFO:root:Test Accuracy: 61.34%\n",
      "INFO:root:Test Loss: 1.0811968040466309 \n",
      "\n",
      " 40%|████      | 40/100 [27:03<44:05, 44.10s/it]"
     ]
    },
    {
     "name": "stdout",
     "output_type": "stream",
     "text": [
      "[231, 1119, 1736, 278, 447, 1018, 286, 744, 690, 173]\n"
     ]
    },
    {
     "name": "stderr",
     "output_type": "stream",
     "text": [
      "INFO:root: \n",
      "Avg Training Stats after 41 global rounds:\n",
      "INFO:root:Train Accuracy: 0.00%\n",
      "INFO:root:Training Loss : 0.16053333549568\n",
      "INFO:root:Test Accuracy: 55.02%\n",
      "INFO:root:Test Loss: 1.298888293430209 \n",
      "\n",
      " 41%|████      | 41/100 [27:36<40:00, 40.69s/it]"
     ]
    },
    {
     "name": "stdout",
     "output_type": "stream",
     "text": [
      "[231, 1320, 1416, 2575, 2274, 862, 690, 602, 1012, 173]\n"
     ]
    },
    {
     "name": "stderr",
     "output_type": "stream",
     "text": [
      "INFO:root: \n",
      "Avg Training Stats after 42 global rounds:\n",
      "INFO:root:Train Accuracy: 0.00%\n",
      "INFO:root:Training Loss : 0.1630955525443845\n",
      "INFO:root:Test Accuracy: 58.45%\n",
      "INFO:root:Test Loss: 1.1929424158483743 \n",
      "\n",
      " 42%|████▏     | 42/100 [28:18<39:49, 41.19s/it]"
     ]
    },
    {
     "name": "stdout",
     "output_type": "stream",
     "text": [
      "[1112, 1053, 3195, 2934, 2029, 201, 123, 2195, 1018, 173]\n"
     ]
    },
    {
     "name": "stderr",
     "output_type": "stream",
     "text": [
      "INFO:root: \n",
      "Avg Training Stats after 43 global rounds:\n",
      "INFO:root:Train Accuracy: 0.00%\n",
      "INFO:root:Training Loss : 0.19368499614758158\n",
      "INFO:root:Test Accuracy: 52.72%\n",
      "INFO:root:Test Loss: 1.4967568054795266 \n",
      "\n",
      " 43%|████▎     | 43/100 [29:07<41:16, 43.44s/it]"
     ]
    },
    {
     "name": "stdout",
     "output_type": "stream",
     "text": [
      "[862, 1053, 422, 3195, 4600, 794, 1756, 173, 2029, 1018]\n"
     ]
    },
    {
     "name": "stderr",
     "output_type": "stream",
     "text": [
      "INFO:root: \n",
      "Avg Training Stats after 44 global rounds:\n",
      "INFO:root:Train Accuracy: 0.00%\n",
      "INFO:root:Training Loss : 0.17653359735167654\n",
      "INFO:root:Test Accuracy: 51.86%\n",
      "INFO:root:Test Loss: 1.5071305680274962 \n",
      "\n",
      " 44%|████▍     | 44/100 [30:00<43:14, 46.33s/it]"
     ]
    },
    {
     "name": "stdout",
     "output_type": "stream",
     "text": [
      "[1320, 2934, 796, 2195, 862, 2575, 2029, 19, 422, 286]\n"
     ]
    },
    {
     "name": "stderr",
     "output_type": "stream",
     "text": [
      "INFO:root: \n",
      "Avg Training Stats after 45 global rounds:\n",
      "INFO:root:Train Accuracy: 0.00%\n",
      "INFO:root:Training Loss : 0.1514151254483811\n",
      "INFO:root:Test Accuracy: 56.05%\n",
      "INFO:root:Test Loss: 1.3338049018383027 \n",
      "\n",
      " 45%|████▌     | 45/100 [30:47<42:41, 46.57s/it]"
     ]
    },
    {
     "name": "stdout",
     "output_type": "stream",
     "text": [
      "[862, 744, 1416, 1112, 590, 542, 278, 690, 116, 1780]\n"
     ]
    },
    {
     "name": "stderr",
     "output_type": "stream",
     "text": [
      "INFO:root: \n",
      "Avg Training Stats after 46 global rounds:\n",
      "INFO:root:Train Accuracy: 0.00%\n",
      "INFO:root:Training Loss : 0.22615421769327693\n",
      "INFO:root:Test Accuracy: 53.74%\n",
      "INFO:root:Test Loss: 1.4033998101949692 \n",
      "\n",
      " 46%|████▌     | 46/100 [31:23<39:00, 43.35s/it]"
     ]
    },
    {
     "name": "stdout",
     "output_type": "stream",
     "text": [
      "[2575, 1112, 1320, 231, 3195, 1012, 862, 447, 2195, 201]\n"
     ]
    },
    {
     "name": "stderr",
     "output_type": "stream",
     "text": [
      "INFO:root: \n",
      "Avg Training Stats after 47 global rounds:\n",
      "INFO:root:Train Accuracy: 0.00%\n",
      "INFO:root:Training Loss : 0.10557555023311127\n",
      "INFO:root:Test Accuracy: 50.52%\n",
      "INFO:root:Test Loss: 1.5759414698928595 \n",
      "\n",
      " 47%|████▋     | 47/100 [32:10<39:07, 44.30s/it]"
     ]
    },
    {
     "name": "stdout",
     "output_type": "stream",
     "text": [
      "[1433, 542, 813, 231, 1119, 2029, 1012, 173, 2195, 1320]\n"
     ]
    },
    {
     "name": "stderr",
     "output_type": "stream",
     "text": [
      "INFO:root: \n",
      "Avg Training Stats after 48 global rounds:\n",
      "INFO:root:Train Accuracy: 0.00%\n",
      "INFO:root:Training Loss : 0.11092266226537154\n",
      "INFO:root:Test Accuracy: 49.82%\n",
      "INFO:root:Test Loss: 1.6756500074267386 \n",
      "\n",
      " 48%|████▊     | 48/100 [32:52<37:48, 43.62s/it]"
     ]
    },
    {
     "name": "stdout",
     "output_type": "stream",
     "text": [
      "[744, 2195, 209, 1780, 2575, 123, 327, 40, 1736, 690]\n"
     ]
    },
    {
     "name": "stderr",
     "output_type": "stream",
     "text": [
      "INFO:root: \n",
      "Avg Training Stats after 49 global rounds:\n",
      "INFO:root:Train Accuracy: 0.00%\n",
      "INFO:root:Training Loss : 0.20546965547302726\n",
      "INFO:root:Test Accuracy: 39.65%\n",
      "INFO:root:Test Loss: 2.19842730846256 \n",
      "\n",
      " 49%|████▉     | 49/100 [33:32<36:23, 42.81s/it]"
     ]
    },
    {
     "name": "stdout",
     "output_type": "stream",
     "text": [
      "[862, 690, 1433, 173, 3195, 2934, 116, 447, 231, 431]\n"
     ]
    },
    {
     "name": "stderr",
     "output_type": "stream",
     "text": [
      "INFO:root: \n",
      "Avg Training Stats after 50 global rounds:\n",
      "INFO:root:Train Accuracy: 0.00%\n",
      "INFO:root:Training Loss : 0.21825365647977435\n",
      "INFO:root:Test Accuracy: 41.37%\n",
      "INFO:root:Test Loss: 1.9407256617024542 \n",
      "\n",
      " 50%|█████     | 50/100 [34:13<35:12, 42.25s/it]"
     ]
    },
    {
     "name": "stdout",
     "output_type": "stream",
     "text": [
      "[1320, 19, 3195, 87, 1756, 303, 813, 2575, 231, 231]\n"
     ]
    },
    {
     "name": "stderr",
     "output_type": "stream",
     "text": [
      "INFO:root: \n",
      "Avg Training Stats after 51 global rounds:\n",
      "INFO:root:Train Accuracy: 0.00%\n",
      "INFO:root:Training Loss : 0.09600881980015559\n",
      "INFO:root:Test Accuracy: 42.56%\n",
      "INFO:root:Test Loss: 2.081520187705755 \n",
      "\n",
      " 51%|█████     | 51/100 [34:54<34:12, 41.89s/it]"
     ]
    },
    {
     "name": "stdout",
     "output_type": "stream",
     "text": [
      "[40, 813, 1780, 2934, 15, 173, 278, 19, 1798, 267]\n"
     ]
    },
    {
     "name": "stderr",
     "output_type": "stream",
     "text": [
      "INFO:root: \n",
      "Avg Training Stats after 52 global rounds:\n",
      "INFO:root:Train Accuracy: 0.00%\n",
      "INFO:root:Training Loss : 0.21699628123824163\n",
      "INFO:root:Test Accuracy: 53.41%\n",
      "INFO:root:Test Loss: 1.3166292440891265 \n",
      "\n",
      " 52%|█████▏    | 52/100 [35:30<31:56, 39.93s/it]"
     ]
    },
    {
     "name": "stdout",
     "output_type": "stream",
     "text": [
      "[267, 231, 690, 173, 1780, 1053, 862, 590, 1433, 303]\n"
     ]
    },
    {
     "name": "stderr",
     "output_type": "stream",
     "text": [
      "INFO:root: \n",
      "Avg Training Stats after 53 global rounds:\n",
      "INFO:root:Train Accuracy: 0.00%\n",
      "INFO:root:Training Loss : 0.1794611656007224\n",
      "INFO:root:Test Accuracy: 60.96%\n",
      "INFO:root:Test Loss: 1.1672096219658852 \n",
      "\n",
      " 53%|█████▎    | 53/100 [36:04<29:57, 38.25s/it]"
     ]
    },
    {
     "name": "stdout",
     "output_type": "stream",
     "text": [
      "[431, 3195, 201, 796, 2934, 15, 231, 1112, 1736, 267]\n"
     ]
    },
    {
     "name": "stderr",
     "output_type": "stream",
     "text": [
      "INFO:root: \n",
      "Avg Training Stats after 54 global rounds:\n",
      "INFO:root:Train Accuracy: 0.00%\n",
      "INFO:root:Training Loss : 0.15640128912495702\n",
      "INFO:root:Test Accuracy: 39.56%\n",
      "INFO:root:Test Loss: 1.96963195130229 \n",
      "\n",
      " 54%|█████▍    | 54/100 [36:46<30:14, 39.45s/it]"
     ]
    },
    {
     "name": "stdout",
     "output_type": "stream",
     "text": [
      "[40, 1320, 1416, 286, 2195, 1012, 201, 116, 1053, 542]\n"
     ]
    },
    {
     "name": "stderr",
     "output_type": "stream",
     "text": [
      "INFO:root: \n",
      "Avg Training Stats after 55 global rounds:\n",
      "INFO:root:Train Accuracy: 0.00%\n",
      "INFO:root:Training Loss : 0.21542388477435326\n",
      "INFO:root:Test Accuracy: 54.88%\n",
      "INFO:root:Test Loss: 1.3603376416862012 \n",
      "\n",
      " 55%|█████▌    | 55/100 [37:22<28:47, 38.38s/it]"
     ]
    },
    {
     "name": "stdout",
     "output_type": "stream",
     "text": [
      "[1798, 422, 231, 4600, 231, 2575, 1433, 106, 1320, 862]\n"
     ]
    },
    {
     "name": "stderr",
     "output_type": "stream",
     "text": [
      "INFO:root: \n",
      "Avg Training Stats after 56 global rounds:\n",
      "INFO:root:Train Accuracy: 0.00%\n",
      "INFO:root:Training Loss : 0.10361042518038865\n",
      "INFO:root:Test Accuracy: 56.40%\n",
      "INFO:root:Test Loss: 1.349112550020218 \n",
      "\n",
      " 56%|█████▌    | 56/100 [38:10<30:14, 41.25s/it]"
     ]
    },
    {
     "name": "stdout",
     "output_type": "stream",
     "text": [
      "[2274, 3195, 267, 2029, 590, 327, 2195, 278, 1756, 813]\n"
     ]
    },
    {
     "name": "stderr",
     "output_type": "stream",
     "text": [
      "INFO:root: \n",
      "Avg Training Stats after 57 global rounds:\n",
      "INFO:root:Train Accuracy: 0.00%\n",
      "INFO:root:Training Loss : 0.13077707839609146\n",
      "INFO:root:Test Accuracy: 55.85%\n",
      "INFO:root:Test Loss: 1.3652387061715126 \n",
      "\n",
      " 57%|█████▋    | 57/100 [38:59<31:05, 43.38s/it]"
     ]
    },
    {
     "name": "stdout",
     "output_type": "stream",
     "text": [
      "[1798, 431, 123, 1320, 1416, 231, 2575, 2934, 19, 1756]\n"
     ]
    },
    {
     "name": "stderr",
     "output_type": "stream",
     "text": [
      "INFO:root: \n",
      "Avg Training Stats after 58 global rounds:\n",
      "INFO:root:Train Accuracy: 0.00%\n",
      "INFO:root:Training Loss : 0.1300000782941256\n",
      "INFO:root:Test Accuracy: 62.74%\n",
      "INFO:root:Test Loss: 1.0711397334933281 \n",
      "\n",
      " 58%|█████▊    | 58/100 [39:44<30:53, 44.13s/it]"
     ]
    },
    {
     "name": "stdout",
     "output_type": "stream",
     "text": [
      "[1018, 267, 2274, 447, 2029, 690, 590, 303, 1119, 796]\n"
     ]
    },
    {
     "name": "stderr",
     "output_type": "stream",
     "text": [
      "INFO:root: \n",
      "Avg Training Stats after 59 global rounds:\n",
      "INFO:root:Train Accuracy: 0.00%\n",
      "INFO:root:Training Loss : 0.09259620333459953\n",
      "INFO:root:Test Accuracy: 51.94%\n",
      "INFO:root:Test Loss: 1.632294972166419 \n",
      "\n",
      " 59%|█████▉    | 59/100 [40:23<29:03, 42.53s/it]"
     ]
    },
    {
     "name": "stdout",
     "output_type": "stream",
     "text": [
      "[106, 2430, 447, 1433, 1012, 3195, 1119, 1756, 862, 4600]\n"
     ]
    },
    {
     "name": "stderr",
     "output_type": "stream",
     "text": [
      "INFO:root: \n",
      "Avg Training Stats after 60 global rounds:\n",
      "INFO:root:Train Accuracy: 0.00%\n",
      "INFO:root:Training Loss : 0.06850825740127615\n",
      "INFO:root:Test Accuracy: 42.20%\n",
      "INFO:root:Test Loss: 2.044345818348229 \n",
      "\n",
      " 60%|██████    | 60/100 [41:19<30:58, 46.46s/it]"
     ]
    },
    {
     "name": "stdout",
     "output_type": "stream",
     "text": [
      "[1780, 1320, 286, 2029, 40, 796, 447, 15, 231, 744]\n"
     ]
    },
    {
     "name": "stderr",
     "output_type": "stream",
     "text": [
      "INFO:root: \n",
      "Avg Training Stats after 61 global rounds:\n",
      "INFO:root:Train Accuracy: 0.00%\n",
      "INFO:root:Training Loss : 0.16229579083038664\n",
      "INFO:root:Test Accuracy: 44.09%\n",
      "INFO:root:Test Loss: 2.0692886380851268 \n",
      "\n",
      " 61%|██████    | 61/100 [41:54<27:56, 42.98s/it]"
     ]
    },
    {
     "name": "stdout",
     "output_type": "stream",
     "text": [
      "[116, 15, 2029, 327, 19, 470, 422, 87, 1012, 303]\n"
     ]
    },
    {
     "name": "stderr",
     "output_type": "stream",
     "text": [
      "INFO:root: \n",
      "Avg Training Stats after 62 global rounds:\n",
      "INFO:root:Train Accuracy: 0.00%\n",
      "INFO:root:Training Loss : 0.2148103046905107\n",
      "INFO:root:Test Accuracy: 39.08%\n",
      "INFO:root:Test Loss: 2.320851696031168 \n",
      "\n",
      " 62%|██████▏   | 62/100 [42:22<24:24, 38.54s/it]"
     ]
    },
    {
     "name": "stdout",
     "output_type": "stream",
     "text": [
      "[796, 2274, 862, 286, 813, 3195, 1112, 422, 1119, 327]\n"
     ]
    },
    {
     "name": "stderr",
     "output_type": "stream",
     "text": [
      "INFO:root: \n",
      "Avg Training Stats after 63 global rounds:\n",
      "INFO:root:Train Accuracy: 0.00%\n",
      "INFO:root:Training Loss : 0.11890005157236709\n",
      "INFO:root:Test Accuracy: 52.81%\n",
      "INFO:root:Test Loss: 1.4580580476298928 \n",
      "\n",
      " 63%|██████▎   | 63/100 [43:05<24:33, 39.83s/it]"
     ]
    },
    {
     "name": "stdout",
     "output_type": "stream",
     "text": [
      "[542, 1798, 690, 15, 267, 2575, 796, 590, 209, 470]\n"
     ]
    },
    {
     "name": "stderr",
     "output_type": "stream",
     "text": [
      "INFO:root: \n",
      "Avg Training Stats after 64 global rounds:\n",
      "INFO:root:Train Accuracy: 0.00%\n",
      "INFO:root:Training Loss : 0.14682203406094782\n",
      "INFO:root:Test Accuracy: 51.59%\n",
      "INFO:root:Test Loss: 1.7201899266988039 \n",
      "\n",
      " 64%|██████▍   | 64/100 [43:40<23:05, 38.47s/it]"
     ]
    },
    {
     "name": "stdout",
     "output_type": "stream",
     "text": [
      "[87, 267, 286, 1053, 303, 796, 40, 173, 19, 327]\n"
     ]
    },
    {
     "name": "stderr",
     "output_type": "stream",
     "text": [
      "INFO:root: \n",
      "Avg Training Stats after 65 global rounds:\n",
      "INFO:root:Train Accuracy: 0.00%\n",
      "INFO:root:Training Loss : 0.19610452213622587\n",
      "INFO:root:Test Accuracy: 45.46%\n",
      "INFO:root:Test Loss: 1.9886461635679007 \n",
      "\n",
      " 65%|██████▌   | 65/100 [44:05<20:06, 34.48s/it]"
     ]
    },
    {
     "name": "stdout",
     "output_type": "stream",
     "text": [
      "[813, 542, 106, 123, 4600, 40, 209, 2029, 1736, 2195]\n"
     ]
    },
    {
     "name": "stderr",
     "output_type": "stream",
     "text": [
      "INFO:root: \n",
      "Avg Training Stats after 66 global rounds:\n",
      "INFO:root:Train Accuracy: 0.00%\n",
      "INFO:root:Training Loss : 0.14328545046243257\n",
      "INFO:root:Test Accuracy: 60.73%\n",
      "INFO:root:Test Loss: 1.2131568601727485 \n",
      "\n",
      " 66%|██████▌   | 66/100 [44:51<21:27, 37.88s/it]"
     ]
    },
    {
     "name": "stdout",
     "output_type": "stream",
     "text": [
      "[1416, 1320, 201, 744, 2934, 447, 278, 2430, 1018, 2274]\n"
     ]
    },
    {
     "name": "stderr",
     "output_type": "stream",
     "text": [
      "INFO:root: \n",
      "Avg Training Stats after 67 global rounds:\n",
      "INFO:root:Train Accuracy: 0.00%\n",
      "INFO:root:Training Loss : 0.12453268923734293\n",
      "INFO:root:Test Accuracy: 58.68%\n",
      "INFO:root:Test Loss: 1.2792638658732176 \n",
      "\n",
      " 67%|██████▋   | 67/100 [45:38<22:18, 40.56s/it]"
     ]
    },
    {
     "name": "stdout",
     "output_type": "stream",
     "text": [
      "[303, 1012, 470, 123, 106, 201, 87, 1736, 2934, 2575]\n"
     ]
    },
    {
     "name": "stderr",
     "output_type": "stream",
     "text": [
      "INFO:root: \n",
      "Avg Training Stats after 68 global rounds:\n",
      "INFO:root:Train Accuracy: 0.00%\n",
      "INFO:root:Training Loss : 0.08490724700092217\n",
      "INFO:root:Test Accuracy: 44.03%\n",
      "INFO:root:Test Loss: 1.8574666830524802 \n",
      "\n",
      " 68%|██████▊   | 68/100 [46:17<21:23, 40.10s/it]"
     ]
    },
    {
     "name": "stdout",
     "output_type": "stream",
     "text": [
      "[3195, 794, 690, 2029, 231, 1756, 1112, 1736, 201, 813]\n"
     ]
    },
    {
     "name": "stderr",
     "output_type": "stream",
     "text": [
      "INFO:root: \n",
      "Avg Training Stats after 69 global rounds:\n",
      "INFO:root:Train Accuracy: 0.00%\n",
      "INFO:root:Training Loss : 0.08207124304711898\n",
      "INFO:root:Test Accuracy: 54.83%\n",
      "INFO:root:Test Loss: 1.387947943136096 \n",
      "\n",
      " 69%|██████▉   | 69/100 [47:03<21:35, 41.81s/it]"
     ]
    },
    {
     "name": "stdout",
     "output_type": "stream",
     "text": [
      "[106, 40, 278, 422, 470, 2029, 2934, 744, 2274, 327]\n"
     ]
    },
    {
     "name": "stderr",
     "output_type": "stream",
     "text": [
      "INFO:root: \n",
      "Avg Training Stats after 70 global rounds:\n",
      "INFO:root:Train Accuracy: 0.00%\n",
      "INFO:root:Training Loss : 0.11438495305603524\n",
      "INFO:root:Test Accuracy: 50.82%\n",
      "INFO:root:Test Loss: 1.5882253225147724 \n",
      "\n",
      " 70%|███████   | 70/100 [47:42<20:33, 41.11s/it]"
     ]
    },
    {
     "name": "stdout",
     "output_type": "stream",
     "text": [
      "[3195, 267, 303, 173, 286, 2029, 422, 1012, 796, 106]\n"
     ]
    },
    {
     "name": "stderr",
     "output_type": "stream",
     "text": [
      "INFO:root: \n",
      "Avg Training Stats after 71 global rounds:\n",
      "INFO:root:Train Accuracy: 0.00%\n",
      "INFO:root:Training Loss : 0.12221726554426779\n",
      "INFO:root:Test Accuracy: 50.33%\n",
      "INFO:root:Test Loss: 1.5812473069131374 \n",
      "\n",
      " 71%|███████   | 71/100 [48:19<19:16, 39.87s/it]"
     ]
    },
    {
     "name": "stdout",
     "output_type": "stream",
     "text": [
      "[209, 40, 4600, 106, 123, 1012, 690, 542, 602, 2575]\n"
     ]
    },
    {
     "name": "stderr",
     "output_type": "stream",
     "text": [
      "INFO:root: \n",
      "Avg Training Stats after 72 global rounds:\n",
      "INFO:root:Train Accuracy: 0.00%\n",
      "INFO:root:Training Loss : 0.11171597841033598\n",
      "INFO:root:Test Accuracy: 54.35%\n",
      "INFO:root:Test Loss: 1.574343480616808 \n",
      "\n",
      " 72%|███████▏  | 72/100 [49:00<18:46, 40.24s/it]"
     ]
    },
    {
     "name": "stdout",
     "output_type": "stream",
     "text": [
      "[1012, 2430, 2274, 209, 1798, 303, 1112, 231, 744, 278]\n"
     ]
    },
    {
     "name": "stderr",
     "output_type": "stream",
     "text": [
      "INFO:root: \n",
      "Avg Training Stats after 73 global rounds:\n",
      "INFO:root:Train Accuracy: 0.00%\n",
      "INFO:root:Training Loss : 0.09238724342668629\n",
      "INFO:root:Test Accuracy: 54.53%\n",
      "INFO:root:Test Loss: 1.4697588625736535 \n",
      "\n",
      " 73%|███████▎  | 73/100 [49:41<18:08, 40.32s/it]"
     ]
    },
    {
     "name": "stdout",
     "output_type": "stream",
     "text": [
      "[447, 1320, 209, 327, 744, 1018, 231, 2430, 590, 602]\n"
     ]
    },
    {
     "name": "stderr",
     "output_type": "stream",
     "text": [
      "INFO:root: \n",
      "Avg Training Stats after 74 global rounds:\n",
      "INFO:root:Train Accuracy: 0.00%\n",
      "INFO:root:Training Loss : 0.14458277488993754\n",
      "INFO:root:Test Accuracy: 61.10%\n",
      "INFO:root:Test Loss: 1.2014912132918836 \n",
      "\n",
      " 74%|███████▍  | 74/100 [50:16<16:50, 38.85s/it]"
     ]
    },
    {
     "name": "stdout",
     "output_type": "stream",
     "text": [
      "[470, 1053, 303, 1012, 106, 3195, 447, 1112, 201, 1433]\n"
     ]
    },
    {
     "name": "stderr",
     "output_type": "stream",
     "text": [
      "INFO:root: \n",
      "Avg Training Stats after 75 global rounds:\n",
      "INFO:root:Train Accuracy: 0.00%\n",
      "INFO:root:Training Loss : 0.06630929742771169\n",
      "INFO:root:Test Accuracy: 49.67%\n",
      "INFO:root:Test Loss: 1.641439765840769 \n",
      "\n",
      " 75%|███████▌  | 75/100 [50:55<16:10, 38.84s/it]"
     ]
    },
    {
     "name": "stdout",
     "output_type": "stream",
     "text": [
      "[231, 1433, 431, 209, 1416, 1780, 116, 123, 422, 4600]\n"
     ]
    },
    {
     "name": "stderr",
     "output_type": "stream",
     "text": [
      "INFO:root: \n",
      "Avg Training Stats after 76 global rounds:\n",
      "INFO:root:Train Accuracy: 0.00%\n",
      "INFO:root:Training Loss : 0.2102215489548253\n",
      "INFO:root:Test Accuracy: 58.85%\n",
      "INFO:root:Test Loss: 1.2347921603173018 \n",
      "\n",
      " 76%|███████▌  | 76/100 [51:37<15:54, 39.76s/it]"
     ]
    },
    {
     "name": "stdout",
     "output_type": "stream",
     "text": [
      "[2575, 796, 1053, 267, 602, 1018, 201, 1756, 286, 2430]\n"
     ]
    },
    {
     "name": "stderr",
     "output_type": "stream",
     "text": [
      "INFO:root: \n",
      "Avg Training Stats after 77 global rounds:\n",
      "INFO:root:Train Accuracy: 0.00%\n",
      "INFO:root:Training Loss : 0.11948423374159318\n",
      "INFO:root:Test Accuracy: 60.49%\n",
      "INFO:root:Test Loss: 1.2533851786702872 \n",
      "\n",
      " 77%|███████▋  | 77/100 [52:19<15:28, 40.35s/it]"
     ]
    },
    {
     "name": "stdout",
     "output_type": "stream",
     "text": [
      "[15, 2029, 2274, 744, 1018, 1736, 2934, 19, 173, 447]\n"
     ]
    },
    {
     "name": "stderr",
     "output_type": "stream",
     "text": [
      "INFO:root: \n",
      "Avg Training Stats after 78 global rounds:\n",
      "INFO:root:Train Accuracy: 0.00%\n",
      "INFO:root:Training Loss : 0.14357621968373008\n",
      "INFO:root:Test Accuracy: 56.08%\n",
      "INFO:root:Test Loss: 1.411900915130973 \n",
      "\n",
      " 78%|███████▊  | 78/100 [53:02<15:06, 41.19s/it]"
     ]
    },
    {
     "name": "stdout",
     "output_type": "stream",
     "text": [
      "[542, 602, 173, 201, 590, 690, 422, 2934, 1736, 744]\n"
     ]
    },
    {
     "name": "stderr",
     "output_type": "stream",
     "text": [
      "INFO:root: \n",
      "Avg Training Stats after 79 global rounds:\n",
      "INFO:root:Train Accuracy: 0.00%\n",
      "INFO:root:Training Loss : 0.1590206619085844\n",
      "INFO:root:Test Accuracy: 57.78%\n",
      "INFO:root:Test Loss: 1.302751840054989 \n",
      "\n",
      " 79%|███████▉  | 79/100 [53:39<13:58, 39.92s/it]"
     ]
    },
    {
     "name": "stdout",
     "output_type": "stream",
     "text": [
      "[201, 278, 40, 1112, 106, 690, 2029, 87, 796, 3195]\n"
     ]
    },
    {
     "name": "stderr",
     "output_type": "stream",
     "text": [
      "INFO:root: \n",
      "Avg Training Stats after 80 global rounds:\n",
      "INFO:root:Train Accuracy: 0.00%\n",
      "INFO:root:Training Loss : 0.07100911535391488\n",
      "INFO:root:Test Accuracy: 54.61%\n",
      "INFO:root:Test Loss: 1.434140118956566 \n",
      "\n",
      " 80%|████████  | 80/100 [54:15<12:58, 38.95s/it]"
     ]
    },
    {
     "name": "stdout",
     "output_type": "stream",
     "text": [
      "[1798, 15, 201, 123, 1433, 542, 1119, 690, 602, 40]\n"
     ]
    },
    {
     "name": "stderr",
     "output_type": "stream",
     "text": [
      "INFO:root: \n",
      "Avg Training Stats after 81 global rounds:\n",
      "INFO:root:Train Accuracy: 0.00%\n",
      "INFO:root:Training Loss : 0.12650956633268964\n",
      "INFO:root:Test Accuracy: 56.97%\n",
      "INFO:root:Test Loss: 1.3552718555927277 \n",
      "\n",
      " 81%|████████  | 81/100 [54:48<11:42, 36.99s/it]"
     ]
    },
    {
     "name": "stdout",
     "output_type": "stream",
     "text": [
      "[267, 542, 209, 796, 87, 3195, 231, 303, 2934, 1119]\n"
     ]
    },
    {
     "name": "stderr",
     "output_type": "stream",
     "text": [
      "INFO:root: \n",
      "Avg Training Stats after 82 global rounds:\n",
      "INFO:root:Train Accuracy: 0.00%\n",
      "INFO:root:Training Loss : 0.10485469052631353\n",
      "INFO:root:Test Accuracy: 52.80%\n",
      "INFO:root:Test Loss: 1.442924322783947 \n",
      "\n",
      " 82%|████████▏ | 82/100 [55:27<11:18, 37.68s/it]"
     ]
    },
    {
     "name": "stdout",
     "output_type": "stream",
     "text": [
      "[690, 431, 422, 231, 4600, 2934, 2029, 327, 796, 590]\n"
     ]
    },
    {
     "name": "stderr",
     "output_type": "stream",
     "text": [
      "INFO:root: \n",
      "Avg Training Stats after 83 global rounds:\n",
      "INFO:root:Train Accuracy: 0.00%\n",
      "INFO:root:Training Loss : 0.1266118902719492\n",
      "INFO:root:Test Accuracy: 60.45%\n",
      "INFO:root:Test Loss: 1.1959011705219746 \n",
      "\n",
      " 83%|████████▎ | 83/100 [56:14<11:27, 40.46s/it]"
     ]
    },
    {
     "name": "stdout",
     "output_type": "stream",
     "text": [
      "[231, 1112, 87, 303, 690, 796, 2195, 813, 327, 1018]\n"
     ]
    },
    {
     "name": "stderr",
     "output_type": "stream",
     "text": [
      "INFO:root: \n",
      "Avg Training Stats after 84 global rounds:\n",
      "INFO:root:Train Accuracy: 0.00%\n",
      "INFO:root:Training Loss : 0.10815652194777041\n",
      "INFO:root:Test Accuracy: 50.09%\n",
      "INFO:root:Test Loss: 1.6165918049588799 \n",
      "\n",
      " 84%|████████▍ | 84/100 [56:49<10:20, 38.80s/it]"
     ]
    },
    {
     "name": "stdout",
     "output_type": "stream",
     "text": [
      "[602, 1018, 542, 106, 794, 447, 2029, 1433, 327, 690]\n"
     ]
    },
    {
     "name": "stderr",
     "output_type": "stream",
     "text": [
      "INFO:root: \n",
      "Avg Training Stats after 85 global rounds:\n",
      "INFO:root:Train Accuracy: 0.00%\n",
      "INFO:root:Training Loss : 0.11826152501530791\n",
      "INFO:root:Test Accuracy: 52.05%\n",
      "INFO:root:Test Loss: 1.5056277792155743 \n",
      "\n",
      " 85%|████████▌ | 85/100 [57:24<09:26, 37.76s/it]"
     ]
    },
    {
     "name": "stdout",
     "output_type": "stream",
     "text": [
      "[1433, 267, 447, 1012, 470, 201, 231, 15, 278, 1736]\n"
     ]
    },
    {
     "name": "stderr",
     "output_type": "stream",
     "text": [
      "INFO:root: \n",
      "Avg Training Stats after 86 global rounds:\n",
      "INFO:root:Train Accuracy: 0.00%\n",
      "INFO:root:Training Loss : 0.1375317759359793\n",
      "INFO:root:Test Accuracy: 55.25%\n",
      "INFO:root:Test Loss: 1.402730358913541 \n",
      "\n",
      " 86%|████████▌ | 86/100 [57:56<08:21, 35.81s/it]"
     ]
    },
    {
     "name": "stdout",
     "output_type": "stream",
     "text": [
      "[40, 1053, 231, 286, 106, 2274, 470, 1119, 447, 1416]\n"
     ]
    },
    {
     "name": "stderr",
     "output_type": "stream",
     "text": [
      "INFO:root: \n",
      "Avg Training Stats after 87 global rounds:\n",
      "INFO:root:Train Accuracy: 0.00%\n",
      "INFO:root:Training Loss : 0.10340700449433542\n",
      "INFO:root:Test Accuracy: 46.55%\n",
      "INFO:root:Test Loss: 2.2443131812755017 \n",
      "\n",
      " 87%|████████▋ | 87/100 [58:30<07:39, 35.35s/it]"
     ]
    },
    {
     "name": "stdout",
     "output_type": "stream",
     "text": [
      "[209, 2029, 231, 278, 1320, 862, 2195, 690, 1736, 106]\n"
     ]
    },
    {
     "name": "stderr",
     "output_type": "stream",
     "text": [
      "INFO:root: \n",
      "Avg Training Stats after 88 global rounds:\n",
      "INFO:root:Train Accuracy: 0.00%\n",
      "INFO:root:Training Loss : 0.12346842564070482\n",
      "INFO:root:Test Accuracy: 57.56%\n",
      "INFO:root:Test Loss: 1.3835440821945668 \n",
      "\n",
      " 88%|████████▊ | 88/100 [59:09<07:18, 36.52s/it]"
     ]
    },
    {
     "name": "stdout",
     "output_type": "stream",
     "text": [
      "[2430, 201, 2195, 2575, 123, 602, 116, 794, 4600, 690]\n"
     ]
    },
    {
     "name": "stderr",
     "output_type": "stream",
     "text": [
      "INFO:root: \n",
      "Avg Training Stats after 89 global rounds:\n",
      "INFO:root:Train Accuracy: 0.00%\n",
      "INFO:root:Training Loss : 0.11837592178906539\n",
      "INFO:root:Test Accuracy: 63.90%\n",
      "INFO:root:Test Loss: 1.189094158411026 \n",
      "\n",
      " 89%|████████▉ | 89/100 [59:59<07:24, 40.41s/it]"
     ]
    },
    {
     "name": "stdout",
     "output_type": "stream",
     "text": [
      "[470, 303, 278, 87, 1119, 2274, 1780, 19, 4600, 602]\n"
     ]
    },
    {
     "name": "stderr",
     "output_type": "stream",
     "text": [
      "INFO:root: \n",
      "Avg Training Stats after 90 global rounds:\n",
      "INFO:root:Train Accuracy: 0.00%\n",
      "INFO:root:Training Loss : 0.07684640705395429\n",
      "INFO:root:Test Accuracy: 57.80%\n",
      "INFO:root:Test Loss: 1.3873014241456985 \n",
      "\n",
      " 90%|█████████ | 90/100 [1:00:42<06:53, 41.37s/it]"
     ]
    },
    {
     "name": "stdout",
     "output_type": "stream",
     "text": [
      "[2575, 602, 2029, 327, 209, 4600, 2274, 1756, 431, 1112]\n"
     ]
    },
    {
     "name": "stderr",
     "output_type": "stream",
     "text": [
      "INFO:root: \n",
      "Avg Training Stats after 91 global rounds:\n",
      "INFO:root:Train Accuracy: 0.00%\n",
      "INFO:root:Training Loss : 0.10589362524509478\n",
      "INFO:root:Test Accuracy: 63.60%\n",
      "INFO:root:Test Loss: 1.1166205333173276 \n",
      "\n",
      " 91%|█████████ | 91/100 [1:01:35<06:44, 44.90s/it]"
     ]
    },
    {
     "name": "stdout",
     "output_type": "stream",
     "text": [
      "[2195, 267, 813, 286, 3195, 470, 231, 278, 1012, 231]\n"
     ]
    },
    {
     "name": "stderr",
     "output_type": "stream",
     "text": [
      "INFO:root: \n",
      "Avg Training Stats after 92 global rounds:\n",
      "INFO:root:Train Accuracy: 0.00%\n",
      "INFO:root:Training Loss : 0.1051919492221813\n",
      "INFO:root:Test Accuracy: 54.83%\n",
      "INFO:root:Test Loss: 1.481703332811594 \n",
      "\n",
      " 92%|█████████▏| 92/100 [1:02:13<05:41, 42.72s/it]"
     ]
    },
    {
     "name": "stdout",
     "output_type": "stream",
     "text": [
      "[1053, 2575, 303, 2430, 542, 116, 1756, 1433, 327, 15]\n"
     ]
    },
    {
     "name": "stderr",
     "output_type": "stream",
     "text": [
      "INFO:root: \n",
      "Avg Training Stats after 93 global rounds:\n",
      "INFO:root:Train Accuracy: 0.00%\n",
      "INFO:root:Training Loss : 0.16863131693249928\n",
      "INFO:root:Test Accuracy: 57.58%\n",
      "INFO:root:Test Loss: 1.3666732376813888 \n",
      "\n",
      " 93%|█████████▎| 93/100 [1:02:54<04:55, 42.27s/it]"
     ]
    },
    {
     "name": "stdout",
     "output_type": "stream",
     "text": [
      "[590, 4600, 201, 286, 303, 1736, 15, 1798, 744, 422]\n"
     ]
    },
    {
     "name": "stderr",
     "output_type": "stream",
     "text": [
      "INFO:root: \n",
      "Avg Training Stats after 94 global rounds:\n",
      "INFO:root:Train Accuracy: 0.00%\n",
      "INFO:root:Training Loss : 0.12131594485413351\n",
      "INFO:root:Test Accuracy: 58.78%\n",
      "INFO:root:Test Loss: 1.369378118440509 \n",
      "\n",
      " 94%|█████████▍| 94/100 [1:03:36<04:12, 42.00s/it]"
     ]
    },
    {
     "name": "stdout",
     "output_type": "stream",
     "text": [
      "[123, 862, 542, 19, 794, 1112, 4600, 2934, 231, 15]\n"
     ]
    },
    {
     "name": "stderr",
     "output_type": "stream",
     "text": [
      "INFO:root: \n",
      "Avg Training Stats after 95 global rounds:\n",
      "INFO:root:Train Accuracy: 0.00%\n",
      "INFO:root:Training Loss : 0.19431598926107366\n",
      "INFO:root:Test Accuracy: 55.38%\n",
      "INFO:root:Test Loss: 1.4804846678674222 \n",
      "\n",
      " 95%|█████████▌| 95/100 [1:04:18<03:30, 42.19s/it]"
     ]
    },
    {
     "name": "stdout",
     "output_type": "stream",
     "text": [
      "[1053, 87, 2575, 4600, 542, 231, 1433, 1012, 2029, 862]\n"
     ]
    },
    {
     "name": "stderr",
     "output_type": "stream",
     "text": [
      "INFO:root: \n",
      "Avg Training Stats after 96 global rounds:\n",
      "INFO:root:Train Accuracy: 0.00%\n",
      "INFO:root:Training Loss : 0.08888401611077294\n",
      "INFO:root:Test Accuracy: 58.21%\n",
      "INFO:root:Test Loss: 1.4355619603395462 \n",
      "\n",
      " 96%|█████████▌| 96/100 [1:05:08<02:57, 44.49s/it]"
     ]
    },
    {
     "name": "stdout",
     "output_type": "stream",
     "text": [
      "[19, 602, 40, 690, 267, 231, 173, 2029, 1798, 3195]\n"
     ]
    },
    {
     "name": "stderr",
     "output_type": "stream",
     "text": [
      "INFO:root: \n",
      "Avg Training Stats after 97 global rounds:\n",
      "INFO:root:Train Accuracy: 0.00%\n",
      "INFO:root:Training Loss : 0.12732281396491632\n",
      "INFO:root:Test Accuracy: 56.08%\n",
      "INFO:root:Test Loss: 1.471985850185156 \n",
      "\n",
      " 97%|█████████▋| 97/100 [1:05:46<02:07, 42.55s/it]"
     ]
    },
    {
     "name": "stdout",
     "output_type": "stream",
     "text": [
      "[209, 1012, 422, 40, 794, 4600, 116, 286, 303, 1756]\n"
     ]
    },
    {
     "name": "stderr",
     "output_type": "stream",
     "text": [
      "INFO:root: \n",
      "Avg Training Stats after 98 global rounds:\n",
      "INFO:root:Train Accuracy: 0.00%\n",
      "INFO:root:Training Loss : 0.11384940714821404\n",
      "INFO:root:Test Accuracy: 52.66%\n",
      "INFO:root:Test Loss: 1.6451657090336085 \n",
      "\n",
      " 98%|█████████▊| 98/100 [1:06:25<01:22, 41.48s/it]"
     ]
    },
    {
     "name": "stdout",
     "output_type": "stream",
     "text": [
      "[2274, 1736, 173, 1416, 447, 19, 2195, 2029, 862, 744]\n"
     ]
    },
    {
     "name": "stderr",
     "output_type": "stream",
     "text": [
      "INFO:root: \n",
      "Avg Training Stats after 99 global rounds:\n",
      "INFO:root:Train Accuracy: 0.00%\n",
      "INFO:root:Training Loss : 0.20255597173397857\n",
      "INFO:root:Test Accuracy: 54.62%\n",
      "INFO:root:Test Loss: 1.5868051955103875 \n",
      "\n",
      " 99%|█████████▉| 99/100 [1:07:09<00:42, 42.29s/it]"
     ]
    },
    {
     "name": "stdout",
     "output_type": "stream",
     "text": [
      "[431, 1798, 1736, 744, 19, 278, 690, 590, 116, 40]\n"
     ]
    },
    {
     "name": "stderr",
     "output_type": "stream",
     "text": [
      "INFO:root: \n",
      "Avg Training Stats after 100 global rounds:\n",
      "INFO:root:Train Accuracy: 0.00%\n",
      "INFO:root:Training Loss : 0.11298203229462953\n",
      "INFO:root:Test Accuracy: 63.52%\n",
      "INFO:root:Test Loss: 1.178988770544529 \n",
      "\n",
      "100%|██████████| 100/100 [1:07:41<00:00, 40.62s/it]\n",
      "INFO:root: \n",
      " Results after 100 global rounds of training:\n",
      "INFO:root:|---- Best Test Accuracy: 63.90% , round: 88\n"
     ]
    },
    {
     "name": "stdout",
     "output_type": "stream",
     "text": [
      " Saving checkpoints to ../save/checkpoint/ConvNet_1223/cifar10_ConvNet_groupnorm_T[100]_C[0.2]_iid[0]_E[10]_B[32]_GPU[0]_Pruned[0.0]...\n"
     ]
    }
   ],
   "source": [
    " args = easydict.EasyDict({\n",
    "    \"model\": 'ConvNet',\n",
    "    'dataset': 'cifar10',\n",
    "    'gpu': 0,\n",
    "    'iid': 0,\n",
    "    'epochs': 100,\n",
    "    'optimizer': 'sgd',\n",
    "    'seed': 0,\n",
    "    'norm': 'groupnorm',\n",
    "    'num_users': 50,\n",
    "    'frac': 0.2,\n",
    "    'local_ep': 10, \n",
    "    'local_bs': 32,\n",
    "    'lr': 0.01,\n",
    "    'momentum': 1,\n",
    "    'kernel_num': 9,\n",
    "    'kernel_sizes': 'no_centering',\n",
    "    'num_channnels': '1',\n",
    "    'num_filters': 32,\n",
    "    'max_pool': 'True',\n",
    "    'num_classes': 10,\n",
    "    'unequal': 0,\n",
    "    'stopping_rounds': 0,\n",
    "    'verbose': 0,\n",
    "    'hold_normalize': 0,\n",
    "    'save_path': '../save/checkpoint',\n",
    "    'exp_folder': 'ConvNet_1223',\n",
    "    'resume': None,\n",
    "    'server_opt': 'sgd',\n",
    "    'server_lr': 1.0,\n",
    "    'client_decay':0,\n",
    "    'local_decay':0,\n",
    "    'alpha': 0.05,\n",
    "    'server_epoch':0,\n",
    "    'cosine_norm':1, \n",
    "    'only_fc' :0 ,\n",
    "    'loss':'ce',\n",
    "    'dc_lr':0.0,\n",
    "    'tsne_pred':0,\n",
    "    'pruning': 0.0 })\n",
    "\n",
    "#zero-centering-classifier\n",
    "    \n",
    "temp = main_test(args)\n",
    "total.append(temp)"
   ]
  },
  {
   "cell_type": "code",
   "execution_count": 3,
   "id": "photographic-stack",
   "metadata": {},
   "outputs": [
    {
     "name": "stderr",
     "output_type": "stream",
     "text": [
      "INFO:root:{'model': 'ConvNet', 'dataset': 'cifar10', 'gpu': 0, 'iid': 0, 'epochs': 100, 'optimizer': 'sgd', 'seed': 0, 'norm': 'groupnorm', 'num_users': 50, 'frac': 0.2, 'local_ep': 10, 'local_bs': 32, 'lr': 0.01, 'momentum': 1, 'kernel_num': 9, 'kernel_sizes': 'no_centering', 'num_channnels': '1', 'num_filters': 32, 'max_pool': 'True', 'num_classes': 10, 'unequal': 0, 'stopping_rounds': 0, 'verbose': 0, 'hold_normalize': 0, 'save_path': '../save/checkpoint/ConvNet_1223', 'exp_folder': 'ConvNet_1223', 'resume': None, 'server_opt': 'sgdm', 'server_lr': 1.0, 'client_decay': 0, 'local_decay': 0, 'alpha': 0.05, 'server_epoch': 0, 'cosine_norm': 1, 'only_fc': 0, 'loss': 'ce', 'dc_lr': 0.0, 'tsne_pred': 0, 'pruning': 0.0}\n"
     ]
    },
    {
     "name": "stdout",
     "output_type": "stream",
     "text": [
      "Files already downloaded and verified\n",
      "Files already downloaded and verified\n",
      "Files already downloaded and verified\n"
     ]
    },
    {
     "name": "stderr",
     "output_type": "stream",
     "text": [
      "INFO:root:ConvNet(\n",
      "  (net_act): ReLU(inplace=True)\n",
      "  (net_pooling): MaxPool2d(kernel_size=2, stride=2, padding=0, dilation=1, ceil_mode=False)\n",
      "  (features): Sequential(\n",
      "    (0): Conv2d(3, 128, kernel_size=(3, 3), stride=(1, 1), padding=(1, 1))\n",
      "    (1): GroupNorm(2, 128, eps=1e-05, affine=True)\n",
      "    (2): ReLU(inplace=True)\n",
      "    (3): MaxPool2d(kernel_size=2, stride=2, padding=0, dilation=1, ceil_mode=False)\n",
      "    (4): Conv2d(128, 128, kernel_size=(3, 3), stride=(1, 1), padding=(1, 1))\n",
      "    (5): GroupNorm(2, 128, eps=1e-05, affine=True)\n",
      "    (6): ReLU(inplace=True)\n",
      "    (7): MaxPool2d(kernel_size=2, stride=2, padding=0, dilation=1, ceil_mode=False)\n",
      "    (8): Conv2d(128, 128, kernel_size=(3, 3), stride=(1, 1), padding=(1, 1))\n",
      "    (9): GroupNorm(2, 128, eps=1e-05, affine=True)\n",
      "    (10): ReLU(inplace=True)\n",
      "    (11): MaxPool2d(kernel_size=2, stride=2, padding=0, dilation=1, ceil_mode=False)\n",
      "  )\n",
      "  (classifier): ZeroMean_Classifier()\n",
      ")\n",
      "INFO:root:None\n",
      "  0%|          | 0/100 [00:00<?, ?it/s]"
     ]
    },
    {
     "name": "stdout",
     "output_type": "stream",
     "text": [
      "----------------------------------------------------------------\n",
      "        Layer (type)               Output Shape         Param #\n",
      "================================================================\n",
      "            Conv2d-1          [-1, 128, 32, 32]           3,584\n",
      "         GroupNorm-2          [-1, 128, 32, 32]             256\n",
      "              ReLU-3          [-1, 128, 32, 32]               0\n",
      "              ReLU-4          [-1, 128, 32, 32]               0\n",
      "         MaxPool2d-5          [-1, 128, 16, 16]               0\n",
      "         MaxPool2d-6          [-1, 128, 16, 16]               0\n",
      "            Conv2d-7          [-1, 128, 16, 16]         147,584\n",
      "         GroupNorm-8          [-1, 128, 16, 16]             256\n",
      "              ReLU-9          [-1, 128, 16, 16]               0\n",
      "             ReLU-10          [-1, 128, 16, 16]               0\n",
      "        MaxPool2d-11            [-1, 128, 8, 8]               0\n",
      "        MaxPool2d-12            [-1, 128, 8, 8]               0\n",
      "           Conv2d-13            [-1, 128, 8, 8]         147,584\n",
      "        GroupNorm-14            [-1, 128, 8, 8]             256\n",
      "             ReLU-15            [-1, 128, 8, 8]               0\n",
      "             ReLU-16            [-1, 128, 8, 8]               0\n",
      "        MaxPool2d-17            [-1, 128, 4, 4]               0\n",
      "        MaxPool2d-18            [-1, 128, 4, 4]               0\n",
      "ZeroMean_Classifier-19                   [-1, 10]          20,490\n",
      "================================================================\n",
      "Total params: 320,010\n",
      "Trainable params: 320,010\n",
      "Non-trainable params: 0\n",
      "----------------------------------------------------------------\n",
      "Input size (MB): 0.01\n",
      "Forward/backward pass size (MB): 5.91\n",
      "Params size (MB): 1.22\n",
      "Estimated Total Size (MB): 7.14\n",
      "----------------------------------------------------------------\n",
      "[209, 1756, 422, 2575, 1018, 602, 2274, 447, 744, 1112, 123, 87, 1433, 1416, 40, 1119, 796, 794, 327, 470, 231, 813, 1320, 542, 690, 2195, 2934, 106, 1012, 15, 278, 1798, 303, 590, 2029, 201, 1053, 862, 231, 116, 4600, 19, 286, 1736, 2430, 431, 3195, 1780, 173, 267]\n",
      "[470, 2934, 201, 231, 2575, 744, 15, 123, 1119, 4600]\n"
     ]
    },
    {
     "name": "stderr",
     "output_type": "stream",
     "text": [
      "INFO:root: \n",
      "Avg Training Stats after 1 global rounds:\n",
      "INFO:root:Train Accuracy: 0.00%\n",
      "INFO:root:Training Loss : 0.3085988410228062\n",
      "INFO:root:Test Accuracy: 17.41%\n",
      "INFO:root:Test Loss: 2.6509023118019104 \n",
      "\n",
      "  1%|          | 1/100 [00:46<1:17:07, 46.74s/it]"
     ]
    },
    {
     "name": "stdout",
     "output_type": "stream",
     "text": [
      "[231, 173, 2575, 1736, 2430, 123, 4600, 690, 1012, 447]\n"
     ]
    },
    {
     "name": "stderr",
     "output_type": "stream",
     "text": [
      "INFO:root: \n",
      "Avg Training Stats after 2 global rounds:\n",
      "INFO:root:Train Accuracy: 0.00%\n",
      "INFO:root:Training Loss : 0.41121006663624166\n",
      "INFO:root:Test Accuracy: 27.41%\n",
      "INFO:root:Test Loss: 2.8520533463358877 \n",
      "\n",
      "  2%|▏         | 2/100 [01:36<1:18:47, 48.24s/it]"
     ]
    },
    {
     "name": "stdout",
     "output_type": "stream",
     "text": [
      "[744, 2575, 1320, 470, 2430, 2274, 267, 690, 209, 303]\n"
     ]
    },
    {
     "name": "stderr",
     "output_type": "stream",
     "text": [
      "INFO:root: \n",
      "Avg Training Stats after 3 global rounds:\n",
      "INFO:root:Train Accuracy: 0.00%\n",
      "INFO:root:Training Loss : 0.2835744416039103\n",
      "INFO:root:Test Accuracy: 26.97%\n",
      "INFO:root:Test Loss: 2.5038900858163835 \n",
      "\n",
      "  3%|▎         | 3/100 [02:18<1:14:03, 45.81s/it]"
     ]
    },
    {
     "name": "stdout",
     "output_type": "stream",
     "text": [
      "[173, 690, 542, 1012, 2195, 1780, 1053, 87, 2934, 1736]\n"
     ]
    },
    {
     "name": "stderr",
     "output_type": "stream",
     "text": [
      "INFO:root: \n",
      "Avg Training Stats after 4 global rounds:\n",
      "INFO:root:Train Accuracy: 0.00%\n",
      "INFO:root:Training Loss : 0.4261263382510627\n",
      "INFO:root:Test Accuracy: 29.79%\n",
      "INFO:root:Test Loss: 2.4079830130934714 \n",
      "\n",
      "  4%|▍         | 4/100 [03:03<1:12:45, 45.48s/it]"
     ]
    },
    {
     "name": "stdout",
     "output_type": "stream",
     "text": [
      "[2430, 2575, 1736, 123, 15, 1780, 1018, 231, 87, 794]\n"
     ]
    },
    {
     "name": "stderr",
     "output_type": "stream",
     "text": [
      "INFO:root: \n",
      "Avg Training Stats after 5 global rounds:\n",
      "INFO:root:Train Accuracy: 0.00%\n",
      "INFO:root:Training Loss : 0.30063155658630614\n",
      "INFO:root:Test Accuracy: 27.46%\n",
      "INFO:root:Test Loss: 2.7303715243935587 \n",
      "\n",
      "  5%|▌         | 5/100 [03:45<1:09:38, 43.98s/it]"
     ]
    },
    {
     "name": "stdout",
     "output_type": "stream",
     "text": [
      "[1119, 87, 590, 794, 813, 303, 1320, 690, 1018, 422]\n"
     ]
    },
    {
     "name": "stderr",
     "output_type": "stream",
     "text": [
      "INFO:root: \n",
      "Avg Training Stats after 6 global rounds:\n",
      "INFO:root:Train Accuracy: 0.00%\n",
      "INFO:root:Training Loss : 0.2148277831732472\n",
      "INFO:root:Test Accuracy: 31.32%\n",
      "INFO:root:Test Loss: 2.478741294853389 \n",
      "\n",
      "  6%|▌         | 6/100 [04:19<1:03:28, 40.51s/it]"
     ]
    },
    {
     "name": "stdout",
     "output_type": "stream",
     "text": [
      "[2029, 1433, 303, 327, 744, 862, 2934, 231, 1416, 278]\n"
     ]
    },
    {
     "name": "stderr",
     "output_type": "stream",
     "text": [
      "INFO:root: \n",
      "Avg Training Stats after 7 global rounds:\n",
      "INFO:root:Train Accuracy: 0.00%\n",
      "INFO:root:Training Loss : 0.300284168755652\n",
      "INFO:root:Test Accuracy: 40.92%\n",
      "INFO:root:Test Loss: 2.015430719256401 \n",
      "\n",
      "  7%|▋         | 7/100 [05:00<1:03:15, 40.81s/it]"
     ]
    },
    {
     "name": "stdout",
     "output_type": "stream",
     "text": [
      "[231, 1112, 327, 744, 286, 422, 15, 1798, 1053, 173]\n"
     ]
    },
    {
     "name": "stderr",
     "output_type": "stream",
     "text": [
      "INFO:root: \n",
      "Avg Training Stats after 8 global rounds:\n",
      "INFO:root:Train Accuracy: 0.00%\n",
      "INFO:root:Training Loss : 0.3218842214889356\n",
      "INFO:root:Test Accuracy: 41.32%\n",
      "INFO:root:Test Loss: 2.5164178836345674 \n",
      "\n",
      "  8%|▊         | 8/100 [05:32<58:05, 37.88s/it]  "
     ]
    },
    {
     "name": "stdout",
     "output_type": "stream",
     "text": [
      "[794, 278, 744, 862, 303, 19, 2274, 1053, 813, 1012]\n"
     ]
    },
    {
     "name": "stderr",
     "output_type": "stream",
     "text": [
      "INFO:root: \n",
      "Avg Training Stats after 9 global rounds:\n",
      "INFO:root:Train Accuracy: 0.00%\n",
      "INFO:root:Training Loss : 0.21911472976036594\n",
      "INFO:root:Test Accuracy: 35.29%\n",
      "INFO:root:Test Loss: 3.275908609330654 \n",
      "\n",
      "  9%|▉         | 9/100 [06:07<56:26, 37.22s/it]"
     ]
    },
    {
     "name": "stdout",
     "output_type": "stream",
     "text": [
      "[1320, 40, 1756, 470, 327, 1012, 862, 1433, 796, 231]\n"
     ]
    },
    {
     "name": "stderr",
     "output_type": "stream",
     "text": [
      "INFO:root: \n",
      "Avg Training Stats after 10 global rounds:\n",
      "INFO:root:Train Accuracy: 0.00%\n",
      "INFO:root:Training Loss : 0.14571932256934925\n",
      "INFO:root:Test Accuracy: 37.87%\n",
      "INFO:root:Test Loss: 2.4405500599741936 \n",
      "\n",
      " 10%|█         | 10/100 [06:44<55:21, 36.90s/it]"
     ]
    },
    {
     "name": "stdout",
     "output_type": "stream",
     "text": [
      "[87, 201, 1798, 813, 123, 2934, 1756, 231, 1053, 4600]\n"
     ]
    },
    {
     "name": "stderr",
     "output_type": "stream",
     "text": [
      "INFO:root: \n",
      "Avg Training Stats after 11 global rounds:\n",
      "INFO:root:Train Accuracy: 0.00%\n",
      "INFO:root:Training Loss : 0.2103277796047124\n",
      "INFO:root:Test Accuracy: 30.18%\n",
      "INFO:root:Test Loss: 3.0981802272796632 \n",
      "\n",
      " 11%|█         | 11/100 [07:32<59:58, 40.44s/it]"
     ]
    },
    {
     "name": "stdout",
     "output_type": "stream",
     "text": [
      "[106, 231, 447, 796, 209, 1798, 1112, 1416, 590, 794]\n"
     ]
    },
    {
     "name": "stderr",
     "output_type": "stream",
     "text": [
      "INFO:root: \n",
      "Avg Training Stats after 12 global rounds:\n",
      "INFO:root:Train Accuracy: 0.00%\n",
      "INFO:root:Training Loss : 0.14053424643234835\n",
      "INFO:root:Test Accuracy: 43.48%\n",
      "INFO:root:Test Loss: 1.861724823117256 \n",
      "\n",
      " 12%|█▏        | 12/100 [08:07<56:42, 38.67s/it]"
     ]
    },
    {
     "name": "stdout",
     "output_type": "stream",
     "text": [
      "[1320, 278, 862, 2274, 1798, 87, 2029, 796, 1018, 2430]\n"
     ]
    },
    {
     "name": "stderr",
     "output_type": "stream",
     "text": [
      "INFO:root: \n",
      "Avg Training Stats after 13 global rounds:\n",
      "INFO:root:Train Accuracy: 0.00%\n",
      "INFO:root:Training Loss : 0.14250684171949896\n",
      "INFO:root:Test Accuracy: 46.01%\n",
      "INFO:root:Test Loss: 1.9397642281651497 \n",
      "\n",
      " 13%|█▎        | 13/100 [08:53<59:32, 41.07s/it]"
     ]
    },
    {
     "name": "stdout",
     "output_type": "stream",
     "text": [
      "[4600, 2575, 590, 173, 2430, 40, 1112, 87, 231, 2195]\n"
     ]
    },
    {
     "name": "stderr",
     "output_type": "stream",
     "text": [
      "INFO:root: \n",
      "Avg Training Stats after 14 global rounds:\n",
      "INFO:root:Train Accuracy: 0.00%\n",
      "INFO:root:Training Loss : 0.20728528470849755\n",
      "INFO:root:Test Accuracy: 42.16%\n",
      "INFO:root:Test Loss: 2.2107475665211678 \n",
      "\n",
      " 14%|█▍        | 14/100 [09:42<1:02:21, 43.51s/it]"
     ]
    },
    {
     "name": "stdout",
     "output_type": "stream",
     "text": [
      "[231, 794, 1018, 1012, 15, 303, 796, 2274, 1320, 19]\n"
     ]
    },
    {
     "name": "stderr",
     "output_type": "stream",
     "text": [
      "INFO:root: \n",
      "Avg Training Stats after 15 global rounds:\n",
      "INFO:root:Train Accuracy: 0.00%\n",
      "INFO:root:Training Loss : 0.21272064279599673\n",
      "INFO:root:Test Accuracy: 41.56%\n",
      "INFO:root:Test Loss: 2.3339918626844884 \n",
      "\n",
      " 15%|█▌        | 15/100 [10:18<58:09, 41.05s/it]  "
     ]
    },
    {
     "name": "stdout",
     "output_type": "stream",
     "text": [
      "[2195, 40, 2029, 862, 2575, 1433, 447, 19, 4600, 796]\n"
     ]
    },
    {
     "name": "stderr",
     "output_type": "stream",
     "text": [
      "INFO:root: \n",
      "Avg Training Stats after 16 global rounds:\n",
      "INFO:root:Train Accuracy: 0.00%\n",
      "INFO:root:Training Loss : 0.17271140572532867\n",
      "INFO:root:Test Accuracy: 40.25%\n",
      "INFO:root:Test Loss: 2.357766559869051 \n",
      "\n",
      " 16%|█▌        | 16/100 [11:09<1:01:45, 44.11s/it]"
     ]
    },
    {
     "name": "stdout",
     "output_type": "stream",
     "text": [
      "[231, 173, 303, 2274, 796, 116, 1798, 447, 106, 1433]\n"
     ]
    },
    {
     "name": "stderr",
     "output_type": "stream",
     "text": [
      "INFO:root: \n",
      "Avg Training Stats after 17 global rounds:\n",
      "INFO:root:Train Accuracy: 0.00%\n",
      "INFO:root:Training Loss : 0.1462576831263585\n",
      "INFO:root:Test Accuracy: 44.02%\n",
      "INFO:root:Test Loss: 2.0355633080005644 \n",
      "\n",
      " 17%|█▋        | 17/100 [11:44<57:14, 41.37s/it]  "
     ]
    },
    {
     "name": "stdout",
     "output_type": "stream",
     "text": [
      "[201, 1756, 796, 1320, 813, 542, 116, 173, 794, 1798]\n"
     ]
    },
    {
     "name": "stderr",
     "output_type": "stream",
     "text": [
      "INFO:root: \n",
      "Avg Training Stats after 18 global rounds:\n",
      "INFO:root:Train Accuracy: 0.00%\n",
      "INFO:root:Training Loss : 0.18516085034167878\n",
      "INFO:root:Test Accuracy: 25.86%\n",
      "INFO:root:Test Loss: 3.305653316807002 \n",
      "\n",
      " 18%|█▊        | 18/100 [12:20<54:27, 39.84s/it]"
     ]
    },
    {
     "name": "stdout",
     "output_type": "stream",
     "text": [
      "[15, 1780, 19, 744, 2575, 173, 813, 40, 1320, 422]\n"
     ]
    },
    {
     "name": "stderr",
     "output_type": "stream",
     "text": [
      "INFO:root: \n",
      "Avg Training Stats after 19 global rounds:\n",
      "INFO:root:Train Accuracy: 0.00%\n",
      "INFO:root:Training Loss : 0.31767887735626066\n",
      "INFO:root:Test Accuracy: 45.01%\n",
      "INFO:root:Test Loss: 2.0926437672972678 \n",
      "\n",
      " 19%|█▉        | 19/100 [12:56<52:04, 38.58s/it]"
     ]
    },
    {
     "name": "stdout",
     "output_type": "stream",
     "text": [
      "[813, 1736, 15, 1433, 267, 470, 3195, 744, 2575, 231]\n"
     ]
    },
    {
     "name": "stderr",
     "output_type": "stream",
     "text": [
      "INFO:root: \n",
      "Avg Training Stats after 20 global rounds:\n",
      "INFO:root:Train Accuracy: 0.00%\n",
      "INFO:root:Training Loss : 0.18618757410893366\n",
      "INFO:root:Test Accuracy: 19.11%\n",
      "INFO:root:Test Loss: 4.934814417129383 \n",
      "\n",
      " 20%|██        | 20/100 [13:40<53:30, 40.14s/it]"
     ]
    },
    {
     "name": "stdout",
     "output_type": "stream",
     "text": [
      "[278, 744, 1053, 447, 1320, 116, 1798, 19, 4600, 3195]\n"
     ]
    },
    {
     "name": "stderr",
     "output_type": "stream",
     "text": [
      "INFO:root: \n",
      "Avg Training Stats after 21 global rounds:\n",
      "INFO:root:Train Accuracy: 0.00%\n",
      "INFO:root:Training Loss : 0.2091003304990835\n",
      "INFO:root:Test Accuracy: 29.06%\n",
      "INFO:root:Test Loss: 3.451184427328408 \n",
      "\n",
      " 21%|██        | 21/100 [14:28<55:57, 42.50s/it]"
     ]
    },
    {
     "name": "stdout",
     "output_type": "stream",
     "text": [
      "[813, 2029, 602, 590, 1756, 106, 1780, 40, 19, 2934]\n"
     ]
    },
    {
     "name": "stderr",
     "output_type": "stream",
     "text": [
      "INFO:root: \n",
      "Avg Training Stats after 22 global rounds:\n",
      "INFO:root:Train Accuracy: 0.00%\n",
      "INFO:root:Training Loss : 0.1363314351929331\n",
      "INFO:root:Test Accuracy: 38.14%\n",
      "INFO:root:Test Loss: 2.613649677187204 \n",
      "\n",
      " 22%|██▏       | 22/100 [15:09<54:52, 42.21s/it]"
     ]
    },
    {
     "name": "stdout",
     "output_type": "stream",
     "text": [
      "[40, 862, 327, 1780, 2274, 106, 1053, 1112, 1012, 3195]\n"
     ]
    },
    {
     "name": "stderr",
     "output_type": "stream",
     "text": [
      "INFO:root: \n",
      "Avg Training Stats after 23 global rounds:\n",
      "INFO:root:Train Accuracy: 0.00%\n",
      "INFO:root:Training Loss : 0.1772178953254548\n",
      "INFO:root:Test Accuracy: 43.62%\n",
      "INFO:root:Test Loss: 2.5869025245308874 \n",
      "\n",
      " 23%|██▎       | 23/100 [15:53<54:52, 42.76s/it]"
     ]
    },
    {
     "name": "stdout",
     "output_type": "stream",
     "text": [
      "[1320, 1119, 862, 744, 1053, 87, 201, 470, 2274, 1012]\n"
     ]
    },
    {
     "name": "stderr",
     "output_type": "stream",
     "text": [
      "INFO:root: \n",
      "Avg Training Stats after 24 global rounds:\n",
      "INFO:root:Train Accuracy: 0.00%\n",
      "INFO:root:Training Loss : 0.1515596489472906\n",
      "INFO:root:Test Accuracy: 32.87%\n",
      "INFO:root:Test Loss: 3.949471842404455 \n",
      "\n",
      " 24%|██▍       | 24/100 [16:32<52:31, 41.46s/it]"
     ]
    },
    {
     "name": "stdout",
     "output_type": "stream",
     "text": [
      "[447, 286, 1416, 87, 796, 1798, 231, 1119, 431, 2195]\n"
     ]
    },
    {
     "name": "stderr",
     "output_type": "stream",
     "text": [
      "INFO:root: \n",
      "Avg Training Stats after 25 global rounds:\n",
      "INFO:root:Train Accuracy: 0.00%\n",
      "INFO:root:Training Loss : 0.21688805065500275\n",
      "INFO:root:Test Accuracy: 34.82%\n",
      "INFO:root:Test Loss: 3.6239425027370453 \n",
      "\n",
      " 25%|██▌       | 25/100 [17:09<50:26, 40.36s/it]"
     ]
    },
    {
     "name": "stdout",
     "output_type": "stream",
     "text": [
      "[116, 2029, 690, 1416, 1780, 602, 2575, 1756, 431, 87]\n"
     ]
    },
    {
     "name": "stderr",
     "output_type": "stream",
     "text": [
      "INFO:root: \n",
      "Avg Training Stats after 26 global rounds:\n",
      "INFO:root:Train Accuracy: 0.00%\n",
      "INFO:root:Training Loss : 0.22386077596654103\n",
      "INFO:root:Test Accuracy: 46.36%\n",
      "INFO:root:Test Loss: 2.3055832823365927 \n",
      "\n",
      " 26%|██▌       | 26/100 [17:53<50:53, 41.26s/it]"
     ]
    },
    {
     "name": "stdout",
     "output_type": "stream",
     "text": [
      "[87, 173, 2029, 19, 4600, 2195, 116, 303, 40, 209]\n"
     ]
    },
    {
     "name": "stderr",
     "output_type": "stream",
     "text": [
      "INFO:root: \n",
      "Avg Training Stats after 27 global rounds:\n",
      "INFO:root:Train Accuracy: 0.00%\n",
      "INFO:root:Training Loss : 0.24646820594959862\n",
      "INFO:root:Test Accuracy: 47.90%\n",
      "INFO:root:Test Loss: 1.903988664150238 \n",
      "\n",
      " 27%|██▋       | 27/100 [18:32<49:33, 40.74s/it]"
     ]
    },
    {
     "name": "stdout",
     "output_type": "stream",
     "text": [
      "[4600, 267, 794, 231, 201, 231, 2934, 590, 470, 173]\n"
     ]
    },
    {
     "name": "stderr",
     "output_type": "stream",
     "text": [
      "INFO:root: \n",
      "Avg Training Stats after 28 global rounds:\n",
      "INFO:root:Train Accuracy: 0.00%\n",
      "INFO:root:Training Loss : 0.20103709411536505\n",
      "INFO:root:Test Accuracy: 33.46%\n",
      "INFO:root:Test Loss: 4.062243823260069 \n",
      "\n",
      " 28%|██▊       | 28/100 [19:14<49:13, 41.02s/it]"
     ]
    },
    {
     "name": "stdout",
     "output_type": "stream",
     "text": [
      "[1798, 286, 123, 1112, 303, 796, 744, 1320, 231, 794]\n"
     ]
    },
    {
     "name": "stderr",
     "output_type": "stream",
     "text": [
      "INFO:root: \n",
      "Avg Training Stats after 29 global rounds:\n",
      "INFO:root:Train Accuracy: 0.00%\n",
      "INFO:root:Training Loss : 0.13788744984619333\n",
      "INFO:root:Test Accuracy: 38.56%\n",
      "INFO:root:Test Loss: 3.0420638149231674 \n",
      "\n",
      " 29%|██▉       | 29/100 [19:49<46:19, 39.15s/it]"
     ]
    },
    {
     "name": "stdout",
     "output_type": "stream",
     "text": [
      "[303, 4600, 1119, 447, 744, 40, 1756, 2430, 2029, 602]\n"
     ]
    },
    {
     "name": "stderr",
     "output_type": "stream",
     "text": [
      "INFO:root: \n",
      "Avg Training Stats after 30 global rounds:\n",
      "INFO:root:Train Accuracy: 0.00%\n",
      "INFO:root:Training Loss : 0.13373884903947236\n",
      "INFO:root:Test Accuracy: 50.79%\n",
      "INFO:root:Test Loss: 1.8759439967572689 \n",
      "\n",
      " 30%|███       | 30/100 [20:38<49:12, 42.17s/it]"
     ]
    },
    {
     "name": "stdout",
     "output_type": "stream",
     "text": [
      "[422, 3195, 1112, 327, 123, 1736, 303, 286, 106, 1433]\n"
     ]
    },
    {
     "name": "stderr",
     "output_type": "stream",
     "text": [
      "INFO:root: \n",
      "Avg Training Stats after 31 global rounds:\n",
      "INFO:root:Train Accuracy: 0.00%\n",
      "INFO:root:Training Loss : 0.15374447257149065\n",
      "INFO:root:Test Accuracy: 43.94%\n",
      "INFO:root:Test Loss: 2.135557890832424 \n",
      "\n",
      " 31%|███       | 31/100 [21:16<47:09, 41.00s/it]"
     ]
    },
    {
     "name": "stdout",
     "output_type": "stream",
     "text": [
      "[862, 173, 422, 303, 123, 1012, 542, 278, 431, 2195]\n"
     ]
    },
    {
     "name": "stderr",
     "output_type": "stream",
     "text": [
      "INFO:root: \n",
      "Avg Training Stats after 32 global rounds:\n",
      "INFO:root:Train Accuracy: 0.00%\n",
      "INFO:root:Training Loss : 0.23511703304592269\n",
      "INFO:root:Test Accuracy: 39.99%\n",
      "INFO:root:Test Loss: 2.46432864703238 \n",
      "\n",
      " 32%|███▏      | 32/100 [21:48<43:28, 38.36s/it]"
     ]
    },
    {
     "name": "stdout",
     "output_type": "stream",
     "text": [
      "[1320, 15, 19, 1756, 231, 470, 267, 87, 862, 327]\n"
     ]
    },
    {
     "name": "stderr",
     "output_type": "stream",
     "text": [
      "INFO:root: \n",
      "Avg Training Stats after 33 global rounds:\n",
      "INFO:root:Train Accuracy: 0.00%\n",
      "INFO:root:Training Loss : 0.28828281797987915\n",
      "INFO:root:Test Accuracy: 33.77%\n",
      "INFO:root:Test Loss: 3.0528393406420946 \n",
      "\n",
      " 33%|███▎      | 33/100 [22:18<39:57, 35.79s/it]"
     ]
    },
    {
     "name": "stdout",
     "output_type": "stream",
     "text": [
      "[87, 267, 796, 1053, 1433, 2575, 1119, 794, 15, 327]\n"
     ]
    },
    {
     "name": "stderr",
     "output_type": "stream",
     "text": [
      "INFO:root: \n",
      "Avg Training Stats after 34 global rounds:\n",
      "INFO:root:Train Accuracy: 0.00%\n",
      "INFO:root:Training Loss : 0.25292345339346334\n",
      "INFO:root:Test Accuracy: 39.59%\n",
      "INFO:root:Test Loss: 2.711460941135883 \n",
      "\n",
      " 34%|███▍      | 34/100 [22:55<39:38, 36.03s/it]"
     ]
    },
    {
     "name": "stdout",
     "output_type": "stream",
     "text": [
      "[422, 1798, 590, 796, 19, 1320, 173, 1416, 1053, 4600]\n"
     ]
    },
    {
     "name": "stderr",
     "output_type": "stream",
     "text": [
      "INFO:root: \n",
      "Avg Training Stats after 35 global rounds:\n",
      "INFO:root:Train Accuracy: 0.00%\n",
      "INFO:root:Training Loss : 0.18686836391142705\n",
      "INFO:root:Test Accuracy: 51.17%\n",
      "INFO:root:Test Loss: 1.6986372165381909 \n",
      "\n",
      " 35%|███▌      | 35/100 [23:40<41:58, 38.74s/it]"
     ]
    },
    {
     "name": "stdout",
     "output_type": "stream",
     "text": [
      "[2430, 1320, 602, 3195, 231, 2934, 431, 794, 1416, 542]\n"
     ]
    },
    {
     "name": "stderr",
     "output_type": "stream",
     "text": [
      "INFO:root: \n",
      "Avg Training Stats after 36 global rounds:\n",
      "INFO:root:Train Accuracy: 0.00%\n",
      "INFO:root:Training Loss : 0.12880261714988375\n",
      "INFO:root:Test Accuracy: 44.26%\n",
      "INFO:root:Test Loss: 2.5429820781201125 \n",
      "\n",
      " 36%|███▌      | 36/100 [24:29<44:32, 41.75s/it]"
     ]
    },
    {
     "name": "stdout",
     "output_type": "stream",
     "text": [
      "[15, 813, 1112, 123, 40, 796, 2274, 1018, 2195, 201]\n"
     ]
    },
    {
     "name": "stderr",
     "output_type": "stream",
     "text": [
      "INFO:root: \n",
      "Avg Training Stats after 37 global rounds:\n",
      "INFO:root:Train Accuracy: 0.00%\n",
      "INFO:root:Training Loss : 0.21173513202993485\n",
      "INFO:root:Test Accuracy: 50.55%\n",
      "INFO:root:Test Loss: 2.203600989431143 \n",
      "\n",
      " 37%|███▋      | 37/100 [25:06<42:23, 40.38s/it]"
     ]
    },
    {
     "name": "stdout",
     "output_type": "stream",
     "text": [
      "[303, 2195, 422, 1112, 1433, 116, 796, 602, 1756, 231]\n"
     ]
    },
    {
     "name": "stderr",
     "output_type": "stream",
     "text": [
      "INFO:root: \n",
      "Avg Training Stats after 38 global rounds:\n",
      "INFO:root:Train Accuracy: 0.00%\n",
      "INFO:root:Training Loss : 0.16124493143528362\n",
      "INFO:root:Test Accuracy: 38.71%\n",
      "INFO:root:Test Loss: 2.995832114703953 \n",
      "\n",
      " 38%|███▊      | 38/100 [25:44<40:57, 39.64s/it]"
     ]
    },
    {
     "name": "stdout",
     "output_type": "stream",
     "text": [
      "[1756, 231, 267, 2430, 590, 1736, 15, 4600, 327, 1112]\n"
     ]
    },
    {
     "name": "stderr",
     "output_type": "stream",
     "text": [
      "INFO:root: \n",
      "Avg Training Stats after 39 global rounds:\n",
      "INFO:root:Train Accuracy: 0.00%\n",
      "INFO:root:Training Loss : 0.15584032805518633\n",
      "INFO:root:Test Accuracy: 43.24%\n",
      "INFO:root:Test Loss: 2.4611466090008616 \n",
      "\n",
      " 39%|███▉      | 39/100 [26:31<42:32, 41.84s/it]"
     ]
    },
    {
     "name": "stdout",
     "output_type": "stream",
     "text": [
      "[2575, 422, 3195, 862, 231, 796, 2934, 123, 2430, 794]\n"
     ]
    },
    {
     "name": "stderr",
     "output_type": "stream",
     "text": [
      "INFO:root: \n",
      "Avg Training Stats after 40 global rounds:\n",
      "INFO:root:Train Accuracy: 0.00%\n",
      "INFO:root:Training Loss : 0.13700088381802458\n",
      "INFO:root:Test Accuracy: 43.77%\n",
      "INFO:root:Test Loss: 2.3837281737476586 \n",
      "\n",
      " 40%|████      | 40/100 [27:21<44:16, 44.28s/it]"
     ]
    },
    {
     "name": "stdout",
     "output_type": "stream",
     "text": [
      "[231, 1119, 1736, 278, 447, 1018, 286, 744, 690, 173]\n"
     ]
    },
    {
     "name": "stderr",
     "output_type": "stream",
     "text": [
      "INFO:root: \n",
      "Avg Training Stats after 41 global rounds:\n",
      "INFO:root:Train Accuracy: 0.00%\n",
      "INFO:root:Training Loss : 0.1708927191403043\n",
      "INFO:root:Test Accuracy: 37.26%\n",
      "INFO:root:Test Loss: 2.9368126894906164 \n",
      "\n",
      " 41%|████      | 41/100 [27:54<40:12, 40.89s/it]"
     ]
    },
    {
     "name": "stdout",
     "output_type": "stream",
     "text": [
      "[231, 1320, 1416, 2575, 2274, 862, 690, 602, 1012, 173]\n"
     ]
    },
    {
     "name": "stderr",
     "output_type": "stream",
     "text": [
      "INFO:root: \n",
      "Avg Training Stats after 42 global rounds:\n",
      "INFO:root:Train Accuracy: 0.00%\n",
      "INFO:root:Training Loss : 0.165324948216825\n",
      "INFO:root:Test Accuracy: 43.75%\n",
      "INFO:root:Test Loss: 2.255067506879568 \n",
      "\n",
      " 42%|████▏     | 42/100 [28:36<40:03, 41.44s/it]"
     ]
    },
    {
     "name": "stdout",
     "output_type": "stream",
     "text": [
      "[1112, 1053, 3195, 2934, 2029, 201, 123, 2195, 1018, 173]\n"
     ]
    },
    {
     "name": "stderr",
     "output_type": "stream",
     "text": [
      "INFO:root: \n",
      "Avg Training Stats after 43 global rounds:\n",
      "INFO:root:Train Accuracy: 0.00%\n",
      "INFO:root:Training Loss : 0.1943569198122251\n",
      "INFO:root:Test Accuracy: 46.94%\n",
      "INFO:root:Test Loss: 2.3391592621058224 \n",
      "\n",
      " 43%|████▎     | 43/100 [29:26<41:36, 43.80s/it]"
     ]
    },
    {
     "name": "stdout",
     "output_type": "stream",
     "text": [
      "[862, 1053, 422, 3195, 4600, 794, 1756, 173, 2029, 1018]\n"
     ]
    },
    {
     "name": "stderr",
     "output_type": "stream",
     "text": [
      "INFO:root: \n",
      "Avg Training Stats after 44 global rounds:\n",
      "INFO:root:Train Accuracy: 0.00%\n",
      "INFO:root:Training Loss : 0.1628489046673824\n",
      "INFO:root:Test Accuracy: 43.79%\n",
      "INFO:root:Test Loss: 3.1152460289001467 \n",
      "\n",
      " 44%|████▍     | 44/100 [30:19<43:28, 46.57s/it]"
     ]
    },
    {
     "name": "stdout",
     "output_type": "stream",
     "text": [
      "[1320, 2934, 796, 2195, 862, 2575, 2029, 19, 422, 286]\n"
     ]
    },
    {
     "name": "stderr",
     "output_type": "stream",
     "text": [
      "INFO:root: \n",
      "Avg Training Stats after 45 global rounds:\n",
      "INFO:root:Train Accuracy: 0.00%\n",
      "INFO:root:Training Loss : 0.2235470020788512\n",
      "INFO:root:Test Accuracy: 45.36%\n",
      "INFO:root:Test Loss: 2.7063030453026293 \n",
      "\n",
      " 45%|████▌     | 45/100 [31:07<43:06, 47.02s/it]"
     ]
    },
    {
     "name": "stdout",
     "output_type": "stream",
     "text": [
      "[862, 744, 1416, 1112, 590, 542, 278, 690, 116, 1780]\n"
     ]
    },
    {
     "name": "stderr",
     "output_type": "stream",
     "text": [
      "INFO:root: \n",
      "Avg Training Stats after 46 global rounds:\n",
      "INFO:root:Train Accuracy: 0.00%\n",
      "INFO:root:Training Loss : 0.20789033578505633\n",
      "INFO:root:Test Accuracy: 42.64%\n",
      "INFO:root:Test Loss: 2.4893196891248226 \n",
      "\n",
      " 46%|████▌     | 46/100 [31:43<39:19, 43.69s/it]"
     ]
    },
    {
     "name": "stdout",
     "output_type": "stream",
     "text": [
      "[2575, 1112, 1320, 231, 3195, 1012, 862, 447, 2195, 201]\n"
     ]
    },
    {
     "name": "stderr",
     "output_type": "stream",
     "text": [
      "INFO:root: \n",
      "Avg Training Stats after 47 global rounds:\n",
      "INFO:root:Train Accuracy: 0.00%\n",
      "INFO:root:Training Loss : 0.10172855751818777\n",
      "INFO:root:Test Accuracy: 28.73%\n",
      "INFO:root:Test Loss: 4.0793786703748625 \n",
      "\n",
      " 47%|████▋     | 47/100 [32:30<39:29, 44.71s/it]"
     ]
    },
    {
     "name": "stdout",
     "output_type": "stream",
     "text": [
      "[1433, 542, 813, 231, 1119, 2029, 1012, 173, 2195, 1320]\n"
     ]
    },
    {
     "name": "stderr",
     "output_type": "stream",
     "text": [
      "INFO:root: \n",
      "Avg Training Stats after 48 global rounds:\n",
      "INFO:root:Train Accuracy: 0.00%\n",
      "INFO:root:Training Loss : 0.1160215552524467\n",
      "INFO:root:Test Accuracy: 43.72%\n",
      "INFO:root:Test Loss: 2.8906432513892653 \n",
      "\n",
      " 48%|████▊     | 48/100 [33:12<38:04, 43.94s/it]"
     ]
    },
    {
     "name": "stdout",
     "output_type": "stream",
     "text": [
      "[744, 2195, 209, 1780, 2575, 123, 327, 40, 1736, 690]\n"
     ]
    },
    {
     "name": "stderr",
     "output_type": "stream",
     "text": [
      "INFO:root: \n",
      "Avg Training Stats after 49 global rounds:\n",
      "INFO:root:Train Accuracy: 0.00%\n",
      "INFO:root:Training Loss : 0.19740220137321163\n",
      "INFO:root:Test Accuracy: 44.14%\n",
      "INFO:root:Test Loss: 2.733198008611798 \n",
      "\n",
      " 49%|████▉     | 49/100 [33:53<36:36, 43.07s/it]"
     ]
    },
    {
     "name": "stdout",
     "output_type": "stream",
     "text": [
      "[862, 690, 1433, 173, 3195, 2934, 116, 447, 231, 431]\n"
     ]
    },
    {
     "name": "stderr",
     "output_type": "stream",
     "text": [
      "INFO:root: \n",
      "Avg Training Stats after 50 global rounds:\n",
      "INFO:root:Train Accuracy: 0.00%\n",
      "INFO:root:Training Loss : 0.20236898466429154\n",
      "INFO:root:Test Accuracy: 31.13%\n",
      "INFO:root:Test Loss: 3.1918937746062874 \n",
      "\n",
      " 50%|█████     | 50/100 [34:35<35:30, 42.61s/it]"
     ]
    },
    {
     "name": "stdout",
     "output_type": "stream",
     "text": [
      "[1320, 19, 3195, 87, 1756, 303, 813, 2575, 231, 231]\n"
     ]
    },
    {
     "name": "stderr",
     "output_type": "stream",
     "text": [
      "INFO:root: \n",
      "Avg Training Stats after 51 global rounds:\n",
      "INFO:root:Train Accuracy: 0.00%\n",
      "INFO:root:Training Loss : 0.11538879179112962\n",
      "INFO:root:Test Accuracy: 21.45%\n",
      "INFO:root:Test Loss: 5.331317407861352 \n",
      "\n",
      " 51%|█████     | 51/100 [35:16<34:29, 42.24s/it]"
     ]
    },
    {
     "name": "stdout",
     "output_type": "stream",
     "text": [
      "[40, 813, 1780, 2934, 15, 173, 278, 19, 1798, 267]\n"
     ]
    },
    {
     "name": "stderr",
     "output_type": "stream",
     "text": [
      "INFO:root: \n",
      "Avg Training Stats after 52 global rounds:\n",
      "INFO:root:Train Accuracy: 0.00%\n",
      "INFO:root:Training Loss : 0.3296713135547017\n",
      "INFO:root:Test Accuracy: 31.20%\n",
      "INFO:root:Test Loss: 3.5263076040148733 \n",
      "\n",
      " 52%|█████▏    | 52/100 [35:52<32:16, 40.35s/it]"
     ]
    },
    {
     "name": "stdout",
     "output_type": "stream",
     "text": [
      "[267, 231, 690, 173, 1780, 1053, 862, 590, 1433, 303]\n"
     ]
    },
    {
     "name": "stderr",
     "output_type": "stream",
     "text": [
      "INFO:root: \n",
      "Avg Training Stats after 53 global rounds:\n",
      "INFO:root:Train Accuracy: 0.00%\n",
      "INFO:root:Training Loss : 0.18740817289640135\n",
      "INFO:root:Test Accuracy: 55.41%\n",
      "INFO:root:Test Loss: 1.9467823791503907 \n",
      "\n",
      " 53%|█████▎    | 53/100 [36:26<30:12, 38.56s/it]"
     ]
    },
    {
     "name": "stdout",
     "output_type": "stream",
     "text": [
      "[431, 3195, 201, 796, 2934, 15, 231, 1112, 1736, 267]\n"
     ]
    },
    {
     "name": "stderr",
     "output_type": "stream",
     "text": [
      "INFO:root: \n",
      "Avg Training Stats after 54 global rounds:\n",
      "INFO:root:Train Accuracy: 0.00%\n",
      "INFO:root:Training Loss : 0.13673341383361745\n",
      "INFO:root:Test Accuracy: 55.10%\n",
      "INFO:root:Test Loss: 1.819516924470663 \n",
      "\n",
      " 54%|█████▍    | 54/100 [37:09<30:29, 39.77s/it]"
     ]
    },
    {
     "name": "stdout",
     "output_type": "stream",
     "text": [
      "[40, 1320, 1416, 286, 2195, 1012, 201, 116, 1053, 542]\n"
     ]
    },
    {
     "name": "stderr",
     "output_type": "stream",
     "text": [
      "INFO:root: \n",
      "Avg Training Stats after 55 global rounds:\n",
      "INFO:root:Train Accuracy: 0.00%\n",
      "INFO:root:Training Loss : 0.1627317569399618\n",
      "INFO:root:Test Accuracy: 45.60%\n",
      "INFO:root:Test Loss: 2.137306009680033 \n",
      "\n",
      " 55%|█████▌    | 55/100 [37:45<29:02, 38.72s/it]"
     ]
    },
    {
     "name": "stdout",
     "output_type": "stream",
     "text": [
      "[1798, 422, 231, 4600, 231, 2575, 1433, 106, 1320, 862]\n"
     ]
    },
    {
     "name": "stderr",
     "output_type": "stream",
     "text": [
      "INFO:root: \n",
      "Avg Training Stats after 56 global rounds:\n",
      "INFO:root:Train Accuracy: 0.00%\n",
      "INFO:root:Training Loss : 0.09257711329063618\n",
      "INFO:root:Test Accuracy: 44.36%\n",
      "INFO:root:Test Loss: 2.5561616767197846 \n",
      "\n",
      " 56%|█████▌    | 56/100 [38:33<30:26, 41.52s/it]"
     ]
    },
    {
     "name": "stdout",
     "output_type": "stream",
     "text": [
      "[2274, 3195, 267, 2029, 590, 327, 2195, 278, 1756, 813]\n"
     ]
    },
    {
     "name": "stderr",
     "output_type": "stream",
     "text": [
      "INFO:root: \n",
      "Avg Training Stats after 57 global rounds:\n",
      "INFO:root:Train Accuracy: 0.00%\n",
      "INFO:root:Training Loss : 0.11754818001415904\n",
      "INFO:root:Test Accuracy: 42.63%\n",
      "INFO:root:Test Loss: 3.137127795107663 \n",
      "\n",
      " 57%|█████▋    | 57/100 [39:22<31:15, 43.62s/it]"
     ]
    },
    {
     "name": "stdout",
     "output_type": "stream",
     "text": [
      "[1798, 431, 123, 1320, 1416, 231, 2575, 2934, 19, 1756]\n"
     ]
    },
    {
     "name": "stderr",
     "output_type": "stream",
     "text": [
      "INFO:root: \n",
      "Avg Training Stats after 58 global rounds:\n",
      "INFO:root:Train Accuracy: 0.00%\n",
      "INFO:root:Training Loss : 0.16524473644629797\n",
      "INFO:root:Test Accuracy: 47.20%\n",
      "INFO:root:Test Loss: 2.207933880761266 \n",
      "\n",
      " 58%|█████▊    | 58/100 [40:08<31:04, 44.40s/it]"
     ]
    },
    {
     "name": "stdout",
     "output_type": "stream",
     "text": [
      "[1018, 267, 2274, 447, 2029, 690, 590, 303, 1119, 796]\n"
     ]
    },
    {
     "name": "stderr",
     "output_type": "stream",
     "text": [
      "INFO:root: \n",
      "Avg Training Stats after 59 global rounds:\n",
      "INFO:root:Train Accuracy: 0.00%\n",
      "INFO:root:Training Loss : 0.08831782815387818\n",
      "INFO:root:Test Accuracy: 56.58%\n",
      "INFO:root:Test Loss: 1.8710861912369727 \n",
      "\n",
      " 59%|█████▉    | 59/100 [40:47<29:13, 42.78s/it]"
     ]
    },
    {
     "name": "stdout",
     "output_type": "stream",
     "text": [
      "[106, 2430, 447, 1433, 1012, 3195, 1119, 1756, 862, 4600]\n"
     ]
    },
    {
     "name": "stderr",
     "output_type": "stream",
     "text": [
      "INFO:root: \n",
      "Avg Training Stats after 60 global rounds:\n",
      "INFO:root:Train Accuracy: 0.00%\n",
      "INFO:root:Training Loss : 0.05379724942072121\n",
      "INFO:root:Test Accuracy: 57.16%\n",
      "INFO:root:Test Loss: 1.813465804308653 \n",
      "\n",
      " 60%|██████    | 60/100 [41:43<31:06, 46.67s/it]"
     ]
    },
    {
     "name": "stdout",
     "output_type": "stream",
     "text": [
      "[1780, 1320, 286, 2029, 40, 796, 447, 15, 231, 744]\n"
     ]
    },
    {
     "name": "stderr",
     "output_type": "stream",
     "text": [
      "INFO:root: \n",
      "Avg Training Stats after 61 global rounds:\n",
      "INFO:root:Train Accuracy: 0.00%\n",
      "INFO:root:Training Loss : 0.11049616591342634\n",
      "INFO:root:Test Accuracy: 40.86%\n",
      "INFO:root:Test Loss: 2.7779791297297924 \n",
      "\n",
      " 61%|██████    | 61/100 [42:18<28:02, 43.15s/it]"
     ]
    },
    {
     "name": "stdout",
     "output_type": "stream",
     "text": [
      "[116, 15, 2029, 327, 19, 470, 422, 87, 1012, 303]\n"
     ]
    },
    {
     "name": "stderr",
     "output_type": "stream",
     "text": [
      "INFO:root: \n",
      "Avg Training Stats after 62 global rounds:\n",
      "INFO:root:Train Accuracy: 0.00%\n",
      "INFO:root:Training Loss : 0.24295954409264656\n",
      "INFO:root:Test Accuracy: 27.28%\n",
      "INFO:root:Test Loss: 4.359049995560199 \n",
      "\n",
      " 62%|██████▏   | 62/100 [42:46<24:32, 38.76s/it]"
     ]
    },
    {
     "name": "stdout",
     "output_type": "stream",
     "text": [
      "[796, 2274, 862, 286, 813, 3195, 1112, 422, 1119, 327]\n"
     ]
    },
    {
     "name": "stderr",
     "output_type": "stream",
     "text": [
      "INFO:root: \n",
      "Avg Training Stats after 63 global rounds:\n",
      "INFO:root:Train Accuracy: 0.00%\n",
      "INFO:root:Training Loss : 0.11511419913516736\n",
      "INFO:root:Test Accuracy: 45.24%\n",
      "INFO:root:Test Loss: 2.5283485159277914 \n",
      "\n",
      " 63%|██████▎   | 63/100 [43:29<24:41, 40.03s/it]"
     ]
    },
    {
     "name": "stdout",
     "output_type": "stream",
     "text": [
      "[542, 1798, 690, 15, 267, 2575, 796, 590, 209, 470]\n"
     ]
    },
    {
     "name": "stderr",
     "output_type": "stream",
     "text": [
      "INFO:root: \n",
      "Avg Training Stats after 64 global rounds:\n",
      "INFO:root:Train Accuracy: 0.00%\n",
      "INFO:root:Training Loss : 0.19106109773706378\n",
      "INFO:root:Test Accuracy: 43.33%\n",
      "INFO:root:Test Loss: 2.4080988646671178 \n",
      "\n",
      " 64%|██████▍   | 64/100 [44:05<23:15, 38.77s/it]"
     ]
    },
    {
     "name": "stdout",
     "output_type": "stream",
     "text": [
      "[87, 267, 286, 1053, 303, 796, 40, 173, 19, 327]\n"
     ]
    },
    {
     "name": "stderr",
     "output_type": "stream",
     "text": [
      "INFO:root: \n",
      "Avg Training Stats after 65 global rounds:\n",
      "INFO:root:Train Accuracy: 0.00%\n",
      "INFO:root:Training Loss : 0.22019262487059033\n",
      "INFO:root:Test Accuracy: 50.85%\n",
      "INFO:root:Test Loss: 2.1039389611780646 \n",
      "\n",
      " 65%|██████▌   | 65/100 [44:30<20:15, 34.73s/it]"
     ]
    },
    {
     "name": "stdout",
     "output_type": "stream",
     "text": [
      "[813, 542, 106, 123, 4600, 40, 209, 2029, 1736, 2195]\n"
     ]
    },
    {
     "name": "stderr",
     "output_type": "stream",
     "text": [
      "INFO:root: \n",
      "Avg Training Stats after 66 global rounds:\n",
      "INFO:root:Train Accuracy: 0.00%\n",
      "INFO:root:Training Loss : 0.1334427906461849\n",
      "INFO:root:Test Accuracy: 57.97%\n",
      "INFO:root:Test Loss: 1.7028367511928082 \n",
      "\n",
      " 66%|██████▌   | 66/100 [45:16<21:33, 38.04s/it]"
     ]
    },
    {
     "name": "stdout",
     "output_type": "stream",
     "text": [
      "[1416, 1320, 201, 744, 2934, 447, 278, 2430, 1018, 2274]\n"
     ]
    },
    {
     "name": "stderr",
     "output_type": "stream",
     "text": [
      "INFO:root: \n",
      "Avg Training Stats after 67 global rounds:\n",
      "INFO:root:Train Accuracy: 0.00%\n",
      "INFO:root:Training Loss : 0.10039582875636037\n",
      "INFO:root:Test Accuracy: 55.20%\n",
      "INFO:root:Test Loss: 1.9171201980113983 \n",
      "\n",
      " 67%|██████▋   | 67/100 [46:03<22:25, 40.76s/it]"
     ]
    },
    {
     "name": "stdout",
     "output_type": "stream",
     "text": [
      "[303, 1012, 470, 123, 106, 201, 87, 1736, 2934, 2575]\n"
     ]
    },
    {
     "name": "stderr",
     "output_type": "stream",
     "text": [
      "INFO:root: \n",
      "Avg Training Stats after 68 global rounds:\n",
      "INFO:root:Train Accuracy: 0.00%\n",
      "INFO:root:Training Loss : 0.08276583419887967\n",
      "INFO:root:Test Accuracy: 47.35%\n",
      "INFO:root:Test Loss: 2.0374259094893934 \n",
      "\n",
      " 68%|██████▊   | 68/100 [46:42<21:29, 40.30s/it]"
     ]
    },
    {
     "name": "stdout",
     "output_type": "stream",
     "text": [
      "[3195, 794, 690, 2029, 231, 1756, 1112, 1736, 201, 813]\n"
     ]
    },
    {
     "name": "stderr",
     "output_type": "stream",
     "text": [
      "INFO:root: \n",
      "Avg Training Stats after 69 global rounds:\n",
      "INFO:root:Train Accuracy: 0.00%\n",
      "INFO:root:Training Loss : 0.06878686966281439\n",
      "INFO:root:Test Accuracy: 33.32%\n",
      "INFO:root:Test Loss: 3.809480950050056 \n",
      "\n",
      " 69%|██████▉   | 69/100 [47:28<21:41, 41.99s/it]"
     ]
    },
    {
     "name": "stdout",
     "output_type": "stream",
     "text": [
      "[106, 40, 278, 422, 470, 2029, 2934, 744, 2274, 327]\n"
     ]
    },
    {
     "name": "stderr",
     "output_type": "stream",
     "text": [
      "INFO:root: \n",
      "Avg Training Stats after 70 global rounds:\n",
      "INFO:root:Train Accuracy: 0.00%\n",
      "INFO:root:Training Loss : 0.14546262743332367\n",
      "INFO:root:Test Accuracy: 48.33%\n",
      "INFO:root:Test Loss: 2.5758879202604295 \n",
      "\n",
      " 70%|███████   | 70/100 [48:08<20:37, 41.25s/it]"
     ]
    },
    {
     "name": "stdout",
     "output_type": "stream",
     "text": [
      "[3195, 267, 303, 173, 286, 2029, 422, 1012, 796, 106]\n"
     ]
    },
    {
     "name": "stderr",
     "output_type": "stream",
     "text": [
      "INFO:root: \n",
      "Avg Training Stats after 71 global rounds:\n",
      "INFO:root:Train Accuracy: 0.00%\n",
      "INFO:root:Training Loss : 0.12637340377698472\n",
      "INFO:root:Test Accuracy: 40.05%\n",
      "INFO:root:Test Loss: 3.5911735590547322 \n",
      "\n",
      " 71%|███████   | 71/100 [48:45<19:19, 40.00s/it]"
     ]
    },
    {
     "name": "stdout",
     "output_type": "stream",
     "text": [
      "[209, 40, 4600, 106, 123, 1012, 690, 542, 602, 2575]\n"
     ]
    },
    {
     "name": "stderr",
     "output_type": "stream",
     "text": [
      "INFO:root: \n",
      "Avg Training Stats after 72 global rounds:\n",
      "INFO:root:Train Accuracy: 0.00%\n",
      "INFO:root:Training Loss : 0.13422339135161304\n",
      "INFO:root:Test Accuracy: 49.97%\n",
      "INFO:root:Test Loss: 2.385697836279869 \n",
      "\n",
      " 72%|███████▏  | 72/100 [49:27<18:54, 40.52s/it]"
     ]
    },
    {
     "name": "stdout",
     "output_type": "stream",
     "text": [
      "[1012, 2430, 2274, 209, 1798, 303, 1112, 231, 744, 278]\n"
     ]
    },
    {
     "name": "stderr",
     "output_type": "stream",
     "text": [
      "INFO:root: \n",
      "Avg Training Stats after 73 global rounds:\n",
      "INFO:root:Train Accuracy: 0.00%\n",
      "INFO:root:Training Loss : 0.09550660968581492\n",
      "INFO:root:Test Accuracy: 31.41%\n",
      "INFO:root:Test Loss: 5.449012827933547 \n",
      "\n",
      " 73%|███████▎  | 73/100 [50:08<18:18, 40.68s/it]"
     ]
    },
    {
     "name": "stdout",
     "output_type": "stream",
     "text": [
      "[447, 1320, 209, 327, 744, 1018, 231, 2430, 590, 602]\n"
     ]
    },
    {
     "name": "stderr",
     "output_type": "stream",
     "text": [
      "INFO:root: \n",
      "Avg Training Stats after 74 global rounds:\n",
      "INFO:root:Train Accuracy: 0.00%\n",
      "INFO:root:Training Loss : 0.17204771082929912\n",
      "INFO:root:Test Accuracy: 40.79%\n",
      "INFO:root:Test Loss: 3.970528774894774 \n",
      "\n",
      " 74%|███████▍  | 74/100 [50:43<16:57, 39.14s/it]"
     ]
    },
    {
     "name": "stdout",
     "output_type": "stream",
     "text": [
      "[470, 1053, 303, 1012, 106, 3195, 447, 1112, 201, 1433]\n"
     ]
    },
    {
     "name": "stderr",
     "output_type": "stream",
     "text": [
      "INFO:root: \n",
      "Avg Training Stats after 75 global rounds:\n",
      "INFO:root:Train Accuracy: 0.00%\n",
      "INFO:root:Training Loss : 0.08902896398596462\n",
      "INFO:root:Test Accuracy: 50.77%\n",
      "INFO:root:Test Loss: 2.376309692710638 \n",
      "\n",
      " 75%|███████▌  | 75/100 [51:22<16:16, 39.05s/it]"
     ]
    },
    {
     "name": "stdout",
     "output_type": "stream",
     "text": [
      "[231, 1433, 431, 209, 1416, 1780, 116, 123, 422, 4600]\n"
     ]
    },
    {
     "name": "stderr",
     "output_type": "stream",
     "text": [
      "INFO:root: \n",
      "Avg Training Stats after 76 global rounds:\n",
      "INFO:root:Train Accuracy: 0.00%\n",
      "INFO:root:Training Loss : 0.19825508379910606\n",
      "INFO:root:Test Accuracy: 38.34%\n",
      "INFO:root:Test Loss: 3.2614630864560605 \n",
      "\n",
      " 76%|███████▌  | 76/100 [52:04<15:58, 39.93s/it]"
     ]
    },
    {
     "name": "stdout",
     "output_type": "stream",
     "text": [
      "[2575, 796, 1053, 267, 602, 1018, 201, 1756, 286, 2430]\n"
     ]
    },
    {
     "name": "stderr",
     "output_type": "stream",
     "text": [
      "INFO:root: \n",
      "Avg Training Stats after 77 global rounds:\n",
      "INFO:root:Train Accuracy: 0.00%\n",
      "INFO:root:Training Loss : 0.11473867000658518\n",
      "INFO:root:Test Accuracy: 50.95%\n",
      "INFO:root:Test Loss: 1.9372122067213058 \n",
      "\n",
      " 77%|███████▋  | 77/100 [52:46<15:34, 40.64s/it]"
     ]
    },
    {
     "name": "stdout",
     "output_type": "stream",
     "text": [
      "[15, 2029, 2274, 744, 1018, 1736, 2934, 19, 173, 447]\n"
     ]
    },
    {
     "name": "stderr",
     "output_type": "stream",
     "text": [
      "INFO:root: \n",
      "Avg Training Stats after 78 global rounds:\n",
      "INFO:root:Train Accuracy: 0.00%\n",
      "INFO:root:Training Loss : 0.13380408403592348\n",
      "INFO:root:Test Accuracy: 44.27%\n",
      "INFO:root:Test Loss: 2.6884742789715528 \n",
      "\n",
      " 78%|███████▊  | 78/100 [53:30<15:12, 41.46s/it]"
     ]
    },
    {
     "name": "stdout",
     "output_type": "stream",
     "text": [
      "[542, 602, 173, 201, 590, 690, 422, 2934, 1736, 744]\n"
     ]
    },
    {
     "name": "stderr",
     "output_type": "stream",
     "text": [
      "INFO:root: \n",
      "Avg Training Stats after 79 global rounds:\n",
      "INFO:root:Train Accuracy: 0.00%\n",
      "INFO:root:Training Loss : 0.16151813526822736\n",
      "INFO:root:Test Accuracy: 48.17%\n",
      "INFO:root:Test Loss: 2.335916365534067 \n",
      "\n",
      " 79%|███████▉  | 79/100 [54:07<14:04, 40.20s/it]"
     ]
    },
    {
     "name": "stdout",
     "output_type": "stream",
     "text": [
      "[201, 278, 40, 1112, 106, 690, 2029, 87, 796, 3195]\n"
     ]
    },
    {
     "name": "stderr",
     "output_type": "stream",
     "text": [
      "INFO:root: \n",
      "Avg Training Stats after 80 global rounds:\n",
      "INFO:root:Train Accuracy: 0.00%\n",
      "INFO:root:Training Loss : 0.0763764380948974\n",
      "INFO:root:Test Accuracy: 50.75%\n",
      "INFO:root:Test Loss: 1.9208302884548902 \n",
      "\n",
      " 80%|████████  | 80/100 [54:44<13:03, 39.16s/it]"
     ]
    },
    {
     "name": "stdout",
     "output_type": "stream",
     "text": [
      "[1798, 15, 201, 123, 1433, 542, 1119, 690, 602, 40]\n"
     ]
    },
    {
     "name": "stderr",
     "output_type": "stream",
     "text": [
      "INFO:root: \n",
      "Avg Training Stats after 81 global rounds:\n",
      "INFO:root:Train Accuracy: 0.00%\n",
      "INFO:root:Training Loss : 0.11315300229956812\n",
      "INFO:root:Test Accuracy: 44.61%\n",
      "INFO:root:Test Loss: 3.3222426159679888 \n",
      "\n",
      " 81%|████████  | 81/100 [55:17<11:48, 37.27s/it]"
     ]
    },
    {
     "name": "stdout",
     "output_type": "stream",
     "text": [
      "[267, 542, 209, 796, 87, 3195, 231, 303, 2934, 1119]\n"
     ]
    },
    {
     "name": "stderr",
     "output_type": "stream",
     "text": [
      "INFO:root: \n",
      "Avg Training Stats after 82 global rounds:\n",
      "INFO:root:Train Accuracy: 0.00%\n",
      "INFO:root:Training Loss : 0.10238709769203388\n",
      "INFO:root:Test Accuracy: 40.14%\n",
      "INFO:root:Test Loss: 4.292605277746916 \n",
      "\n",
      " 82%|████████▏ | 82/100 [55:56<11:22, 37.91s/it]"
     ]
    },
    {
     "name": "stdout",
     "output_type": "stream",
     "text": [
      "[690, 431, 422, 231, 4600, 2934, 2029, 327, 796, 590]\n"
     ]
    },
    {
     "name": "stderr",
     "output_type": "stream",
     "text": [
      "INFO:root: \n",
      "Avg Training Stats after 83 global rounds:\n",
      "INFO:root:Train Accuracy: 0.00%\n",
      "INFO:root:Training Loss : 0.13424456282302302\n",
      "INFO:root:Test Accuracy: 50.56%\n",
      "INFO:root:Test Loss: 2.2707096894830467 \n",
      "\n",
      " 83%|████████▎ | 83/100 [56:43<11:31, 40.69s/it]"
     ]
    },
    {
     "name": "stdout",
     "output_type": "stream",
     "text": [
      "[231, 1112, 87, 303, 690, 796, 2195, 813, 327, 1018]\n"
     ]
    },
    {
     "name": "stderr",
     "output_type": "stream",
     "text": [
      "INFO:root: \n",
      "Avg Training Stats after 84 global rounds:\n",
      "INFO:root:Train Accuracy: 0.00%\n",
      "INFO:root:Training Loss : 0.10905007208349429\n",
      "INFO:root:Test Accuracy: 40.42%\n",
      "INFO:root:Test Loss: 3.3046841358579697 \n",
      "\n",
      " 84%|████████▍ | 84/100 [57:18<10:23, 38.97s/it]"
     ]
    },
    {
     "name": "stdout",
     "output_type": "stream",
     "text": [
      "[602, 1018, 542, 106, 794, 447, 2029, 1433, 327, 690]\n"
     ]
    },
    {
     "name": "stderr",
     "output_type": "stream",
     "text": [
      "INFO:root: \n",
      "Avg Training Stats after 85 global rounds:\n",
      "INFO:root:Train Accuracy: 0.00%\n",
      "INFO:root:Training Loss : 0.11722446165600595\n",
      "INFO:root:Test Accuracy: 34.86%\n",
      "INFO:root:Test Loss: 4.77209491423564 \n",
      "\n",
      " 85%|████████▌ | 85/100 [57:54<09:29, 37.98s/it]"
     ]
    },
    {
     "name": "stdout",
     "output_type": "stream",
     "text": [
      "[1433, 267, 447, 1012, 470, 201, 231, 15, 278, 1736]\n"
     ]
    },
    {
     "name": "stderr",
     "output_type": "stream",
     "text": [
      "INFO:root: \n",
      "Avg Training Stats after 86 global rounds:\n",
      "INFO:root:Train Accuracy: 0.00%\n",
      "INFO:root:Training Loss : 0.21242112940995317\n",
      "INFO:root:Test Accuracy: 44.29%\n",
      "INFO:root:Test Loss: 3.2957641630619765 \n",
      "\n",
      " 86%|████████▌ | 86/100 [58:25<08:25, 36.07s/it]"
     ]
    },
    {
     "name": "stdout",
     "output_type": "stream",
     "text": [
      "[40, 1053, 231, 286, 106, 2274, 470, 1119, 447, 1416]\n"
     ]
    },
    {
     "name": "stderr",
     "output_type": "stream",
     "text": [
      "INFO:root: \n",
      "Avg Training Stats after 87 global rounds:\n",
      "INFO:root:Train Accuracy: 0.00%\n",
      "INFO:root:Training Loss : 0.10105189016909906\n",
      "INFO:root:Test Accuracy: 38.21%\n",
      "INFO:root:Test Loss: 3.6197977710887788 \n",
      "\n",
      " 87%|████████▋ | 87/100 [59:00<07:43, 35.65s/it]"
     ]
    },
    {
     "name": "stdout",
     "output_type": "stream",
     "text": [
      "[209, 2029, 231, 278, 1320, 862, 2195, 690, 1736, 106]\n"
     ]
    },
    {
     "name": "stderr",
     "output_type": "stream",
     "text": [
      "INFO:root: \n",
      "Avg Training Stats after 88 global rounds:\n",
      "INFO:root:Train Accuracy: 0.00%\n",
      "INFO:root:Training Loss : 0.10851460330964129\n",
      "INFO:root:Test Accuracy: 56.88%\n",
      "INFO:root:Test Loss: 1.839630638062954 \n",
      "\n",
      " 88%|████████▊ | 88/100 [59:39<07:21, 36.79s/it]"
     ]
    },
    {
     "name": "stdout",
     "output_type": "stream",
     "text": [
      "[2430, 201, 2195, 2575, 123, 602, 116, 794, 4600, 690]\n"
     ]
    },
    {
     "name": "stderr",
     "output_type": "stream",
     "text": [
      "INFO:root: \n",
      "Avg Training Stats after 89 global rounds:\n",
      "INFO:root:Train Accuracy: 0.00%\n",
      "INFO:root:Training Loss : 0.11471716885107293\n",
      "INFO:root:Test Accuracy: 51.65%\n",
      "INFO:root:Test Loss: 2.120166397243738 \n",
      "\n",
      " 89%|████████▉ | 89/100 [1:00:29<07:27, 40.68s/it]"
     ]
    },
    {
     "name": "stdout",
     "output_type": "stream",
     "text": [
      "[470, 303, 278, 87, 1119, 2274, 1780, 19, 4600, 602]\n"
     ]
    },
    {
     "name": "stderr",
     "output_type": "stream",
     "text": [
      "INFO:root: \n",
      "Avg Training Stats after 90 global rounds:\n",
      "INFO:root:Train Accuracy: 0.00%\n",
      "INFO:root:Training Loss : 0.088885791933548\n",
      "INFO:root:Test Accuracy: 42.25%\n",
      "INFO:root:Test Loss: 3.19849865950644 \n",
      "\n",
      " 90%|█████████ | 90/100 [1:01:13<06:56, 41.69s/it]"
     ]
    },
    {
     "name": "stdout",
     "output_type": "stream",
     "text": [
      "[2575, 602, 2029, 327, 209, 4600, 2274, 1756, 431, 1112]\n"
     ]
    },
    {
     "name": "stderr",
     "output_type": "stream",
     "text": [
      "INFO:root: \n",
      "Avg Training Stats after 91 global rounds:\n",
      "INFO:root:Train Accuracy: 0.00%\n",
      "INFO:root:Training Loss : 0.09335166064485871\n",
      "INFO:root:Test Accuracy: 44.81%\n",
      "INFO:root:Test Loss: 2.8638056541234254 \n",
      "\n",
      " 91%|█████████ | 91/100 [1:02:06<06:45, 45.11s/it]"
     ]
    },
    {
     "name": "stdout",
     "output_type": "stream",
     "text": [
      "[2195, 267, 813, 286, 3195, 470, 231, 278, 1012, 231]\n"
     ]
    },
    {
     "name": "stderr",
     "output_type": "stream",
     "text": [
      "INFO:root: \n",
      "Avg Training Stats after 92 global rounds:\n",
      "INFO:root:Train Accuracy: 0.00%\n",
      "INFO:root:Training Loss : 0.11465763445397784\n",
      "INFO:root:Test Accuracy: 59.39%\n",
      "INFO:root:Test Loss: 1.5567384666204453 \n",
      "\n",
      " 92%|█████████▏| 92/100 [1:02:44<05:43, 42.91s/it]"
     ]
    },
    {
     "name": "stdout",
     "output_type": "stream",
     "text": [
      "[1053, 2575, 303, 2430, 542, 116, 1756, 1433, 327, 15]\n"
     ]
    },
    {
     "name": "stderr",
     "output_type": "stream",
     "text": [
      "INFO:root: \n",
      "Avg Training Stats after 93 global rounds:\n",
      "INFO:root:Train Accuracy: 0.00%\n",
      "INFO:root:Training Loss : 0.14373457072706453\n",
      "INFO:root:Test Accuracy: 46.65%\n",
      "INFO:root:Test Loss: 2.5263610312342646 \n",
      "\n",
      " 93%|█████████▎| 93/100 [1:03:26<04:57, 42.46s/it]"
     ]
    },
    {
     "name": "stdout",
     "output_type": "stream",
     "text": [
      "[590, 4600, 201, 286, 303, 1736, 15, 1798, 744, 422]\n"
     ]
    },
    {
     "name": "stderr",
     "output_type": "stream",
     "text": [
      "INFO:root: \n",
      "Avg Training Stats after 94 global rounds:\n",
      "INFO:root:Train Accuracy: 0.00%\n",
      "INFO:root:Training Loss : 0.13302660434746755\n",
      "INFO:root:Test Accuracy: 42.43%\n",
      "INFO:root:Test Loss: 2.7751620778255166 \n",
      "\n",
      " 94%|█████████▍| 94/100 [1:04:07<04:13, 42.30s/it]"
     ]
    },
    {
     "name": "stdout",
     "output_type": "stream",
     "text": [
      "[123, 862, 542, 19, 794, 1112, 4600, 2934, 231, 15]\n"
     ]
    },
    {
     "name": "stderr",
     "output_type": "stream",
     "text": [
      "INFO:root: \n",
      "Avg Training Stats after 95 global rounds:\n",
      "INFO:root:Train Accuracy: 0.00%\n",
      "INFO:root:Training Loss : 0.15656013532464058\n",
      "INFO:root:Test Accuracy: 48.27%\n",
      "INFO:root:Test Loss: 2.4666710325889287 \n",
      "\n",
      " 95%|█████████▌| 95/100 [1:04:50<03:32, 42.43s/it]"
     ]
    },
    {
     "name": "stdout",
     "output_type": "stream",
     "text": [
      "[1053, 87, 2575, 4600, 542, 231, 1433, 1012, 2029, 862]\n"
     ]
    },
    {
     "name": "stderr",
     "output_type": "stream",
     "text": [
      "INFO:root: \n",
      "Avg Training Stats after 96 global rounds:\n",
      "INFO:root:Train Accuracy: 0.00%\n",
      "INFO:root:Training Loss : 0.07063695220650286\n",
      "INFO:root:Test Accuracy: 41.75%\n",
      "INFO:root:Test Loss: 3.15110861428082 \n",
      "\n",
      " 96%|█████████▌| 96/100 [1:05:40<02:58, 44.67s/it]"
     ]
    },
    {
     "name": "stdout",
     "output_type": "stream",
     "text": [
      "[19, 602, 40, 690, 267, 231, 173, 2029, 1798, 3195]\n"
     ]
    },
    {
     "name": "stderr",
     "output_type": "stream",
     "text": [
      "INFO:root: \n",
      "Avg Training Stats after 97 global rounds:\n",
      "INFO:root:Train Accuracy: 0.00%\n",
      "INFO:root:Training Loss : 0.20109465415308364\n",
      "INFO:root:Test Accuracy: 46.57%\n",
      "INFO:root:Test Loss: 2.6343070232123136 \n",
      "\n",
      " 97%|█████████▋| 97/100 [1:06:18<02:08, 42.68s/it]"
     ]
    },
    {
     "name": "stdout",
     "output_type": "stream",
     "text": [
      "[209, 1012, 422, 40, 794, 4600, 116, 286, 303, 1756]\n"
     ]
    },
    {
     "name": "stderr",
     "output_type": "stream",
     "text": [
      "INFO:root: \n",
      "Avg Training Stats after 98 global rounds:\n",
      "INFO:root:Train Accuracy: 0.00%\n",
      "INFO:root:Training Loss : 0.10914232167697908\n",
      "INFO:root:Test Accuracy: 44.97%\n",
      "INFO:root:Test Loss: 3.2170274718105794 \n",
      "\n",
      " 98%|█████████▊| 98/100 [1:06:57<01:23, 41.61s/it]"
     ]
    },
    {
     "name": "stdout",
     "output_type": "stream",
     "text": [
      "[2274, 1736, 173, 1416, 447, 19, 2195, 2029, 862, 744]\n"
     ]
    },
    {
     "name": "stderr",
     "output_type": "stream",
     "text": [
      "INFO:root: \n",
      "Avg Training Stats after 99 global rounds:\n",
      "INFO:root:Train Accuracy: 0.00%\n",
      "INFO:root:Training Loss : 0.23131259398422194\n",
      "INFO:root:Test Accuracy: 52.32%\n",
      "INFO:root:Test Loss: 2.419771897941828 \n",
      "\n",
      " 99%|█████████▉| 99/100 [1:07:42<00:42, 42.58s/it]"
     ]
    },
    {
     "name": "stdout",
     "output_type": "stream",
     "text": [
      "[431, 1798, 1736, 744, 19, 278, 690, 590, 116, 40]\n"
     ]
    },
    {
     "name": "stderr",
     "output_type": "stream",
     "text": [
      "INFO:root: \n",
      "Avg Training Stats after 100 global rounds:\n",
      "INFO:root:Train Accuracy: 0.00%\n",
      "INFO:root:Training Loss : 0.14998946095685817\n",
      "INFO:root:Test Accuracy: 59.12%\n",
      "INFO:root:Test Loss: 2.019786310940981 \n",
      "\n",
      "100%|██████████| 100/100 [1:08:14<00:00, 40.95s/it]\n",
      "INFO:root: \n",
      " Results after 100 global rounds of training:\n",
      "INFO:root:|---- Best Test Accuracy: 59.39% , round: 91\n"
     ]
    },
    {
     "name": "stdout",
     "output_type": "stream",
     "text": [
      " Saving checkpoints to ../save/checkpoint/ConvNet_1223/cifar10_ConvNet_groupnorm_T[100]_C[0.2]_iid[0]_E[10]_B[32]_GPU[0]_Pruned[0.0]...\n"
     ]
    }
   ],
   "source": [
    " args = easydict.EasyDict({\n",
    "    \"model\": 'ConvNet',\n",
    "    'dataset': 'cifar10',\n",
    "    'gpu': 0,\n",
    "    'iid': 0,\n",
    "    'epochs': 100,\n",
    "    'optimizer': 'sgd',\n",
    "    'seed': 0,\n",
    "    'norm': 'groupnorm',\n",
    "    'num_users': 50,\n",
    "    'frac': 0.2,\n",
    "    'local_ep': 10, \n",
    "    'local_bs': 32,\n",
    "    'lr': 0.01,\n",
    "    'momentum': 1,\n",
    "    'kernel_num': 9,\n",
    "    'kernel_sizes': 'no_centering',\n",
    "    'num_channnels': '1',\n",
    "    'num_filters': 32,\n",
    "    'max_pool': 'True',\n",
    "    'num_classes': 10,\n",
    "    'unequal': 0,\n",
    "    'stopping_rounds': 0,\n",
    "    'verbose': 0,\n",
    "    'hold_normalize': 0,\n",
    "    'save_path': '../save/checkpoint',\n",
    "    'exp_folder': 'ConvNet_1223',\n",
    "    'resume': None,\n",
    "    'server_opt': 'sgdm',\n",
    "    'server_lr': 1.0,\n",
    "    'client_decay':0,\n",
    "    'local_decay':0,\n",
    "    'alpha': 0.05,\n",
    "    'server_epoch':0,\n",
    "    'cosine_norm':1, \n",
    "    'only_fc' :0 ,\n",
    "    'loss':'ce',\n",
    "    'dc_lr':0.0,\n",
    "    'tsne_pred':0,\n",
    "    'pruning': 0.0 })\n",
    "\n",
    "#zero-centering-classifier\n",
    "    \n",
    "temp = main_test(args)\n",
    "total.append(temp)"
   ]
  },
  {
   "cell_type": "code",
   "execution_count": 4,
   "id": "rolled-notification",
   "metadata": {},
   "outputs": [
    {
     "name": "stderr",
     "output_type": "stream",
     "text": [
      "INFO:root:{'model': 'ConvNet', 'dataset': 'cifar10', 'gpu': 0, 'iid': 0, 'epochs': 100, 'optimizer': 'sgd', 'seed': 0, 'norm': 'groupnorm', 'num_users': 50, 'frac': 0.2, 'local_ep': 10, 'local_bs': 32, 'lr': 0.01, 'momentum': 1, 'kernel_num': 9, 'kernel_sizes': 'no_centering', 'num_channnels': '1', 'num_filters': 32, 'max_pool': 'True', 'num_classes': 10, 'unequal': 0, 'stopping_rounds': 0, 'verbose': 0, 'hold_normalize': 0, 'save_path': '../save/checkpoint/ConvNet_1223', 'exp_folder': 'ConvNet_1223', 'resume': None, 'server_opt': 'sgd', 'server_lr': 1.0, 'client_decay': 0, 'local_decay': 0, 'alpha': 0.05, 'server_epoch': 0, 'cosine_norm': 1, 'only_fc': 0, 'loss': 'bsm', 'dc_lr': 0.0, 'tsne_pred': 0, 'pruning': 0.0}\n"
     ]
    },
    {
     "name": "stdout",
     "output_type": "stream",
     "text": [
      "Files already downloaded and verified\n",
      "Files already downloaded and verified\n",
      "Files already downloaded and verified\n"
     ]
    },
    {
     "name": "stderr",
     "output_type": "stream",
     "text": [
      "INFO:root:ConvNet(\n",
      "  (net_act): ReLU(inplace=True)\n",
      "  (net_pooling): MaxPool2d(kernel_size=2, stride=2, padding=0, dilation=1, ceil_mode=False)\n",
      "  (features): Sequential(\n",
      "    (0): Conv2d(3, 128, kernel_size=(3, 3), stride=(1, 1), padding=(1, 1))\n",
      "    (1): GroupNorm(2, 128, eps=1e-05, affine=True)\n",
      "    (2): ReLU(inplace=True)\n",
      "    (3): MaxPool2d(kernel_size=2, stride=2, padding=0, dilation=1, ceil_mode=False)\n",
      "    (4): Conv2d(128, 128, kernel_size=(3, 3), stride=(1, 1), padding=(1, 1))\n",
      "    (5): GroupNorm(2, 128, eps=1e-05, affine=True)\n",
      "    (6): ReLU(inplace=True)\n",
      "    (7): MaxPool2d(kernel_size=2, stride=2, padding=0, dilation=1, ceil_mode=False)\n",
      "    (8): Conv2d(128, 128, kernel_size=(3, 3), stride=(1, 1), padding=(1, 1))\n",
      "    (9): GroupNorm(2, 128, eps=1e-05, affine=True)\n",
      "    (10): ReLU(inplace=True)\n",
      "    (11): MaxPool2d(kernel_size=2, stride=2, padding=0, dilation=1, ceil_mode=False)\n",
      "  )\n",
      "  (classifier): ZeroMean_Classifier()\n",
      ")\n",
      "INFO:root:None\n",
      "  0%|          | 0/100 [00:00<?, ?it/s]"
     ]
    },
    {
     "name": "stdout",
     "output_type": "stream",
     "text": [
      "----------------------------------------------------------------\n",
      "        Layer (type)               Output Shape         Param #\n",
      "================================================================\n",
      "            Conv2d-1          [-1, 128, 32, 32]           3,584\n",
      "         GroupNorm-2          [-1, 128, 32, 32]             256\n",
      "              ReLU-3          [-1, 128, 32, 32]               0\n",
      "              ReLU-4          [-1, 128, 32, 32]               0\n",
      "         MaxPool2d-5          [-1, 128, 16, 16]               0\n",
      "         MaxPool2d-6          [-1, 128, 16, 16]               0\n",
      "            Conv2d-7          [-1, 128, 16, 16]         147,584\n",
      "         GroupNorm-8          [-1, 128, 16, 16]             256\n",
      "              ReLU-9          [-1, 128, 16, 16]               0\n",
      "             ReLU-10          [-1, 128, 16, 16]               0\n",
      "        MaxPool2d-11            [-1, 128, 8, 8]               0\n",
      "        MaxPool2d-12            [-1, 128, 8, 8]               0\n",
      "           Conv2d-13            [-1, 128, 8, 8]         147,584\n",
      "        GroupNorm-14            [-1, 128, 8, 8]             256\n",
      "             ReLU-15            [-1, 128, 8, 8]               0\n",
      "             ReLU-16            [-1, 128, 8, 8]               0\n",
      "        MaxPool2d-17            [-1, 128, 4, 4]               0\n",
      "        MaxPool2d-18            [-1, 128, 4, 4]               0\n",
      "ZeroMean_Classifier-19                   [-1, 10]          20,490\n",
      "================================================================\n",
      "Total params: 320,010\n",
      "Trainable params: 320,010\n",
      "Non-trainable params: 0\n",
      "----------------------------------------------------------------\n",
      "Input size (MB): 0.01\n",
      "Forward/backward pass size (MB): 5.91\n",
      "Params size (MB): 1.22\n",
      "Estimated Total Size (MB): 7.14\n",
      "----------------------------------------------------------------\n",
      "[209, 1756, 422, 2575, 1018, 602, 2274, 447, 744, 1112, 123, 87, 1433, 1416, 40, 1119, 796, 794, 327, 470, 231, 813, 1320, 542, 690, 2195, 2934, 106, 1012, 15, 278, 1798, 303, 590, 2029, 201, 1053, 862, 231, 116, 4600, 19, 286, 1736, 2430, 431, 3195, 1780, 173, 267]\n",
      "[470, 2934, 201, 231, 2575, 744, 15, 123, 1119, 4600]\n"
     ]
    },
    {
     "name": "stderr",
     "output_type": "stream",
     "text": [
      "INFO:root: \n",
      "Avg Training Stats after 1 global rounds:\n",
      "INFO:root:Train Accuracy: 0.00%\n",
      "INFO:root:Training Loss : 0.23109070241245805\n",
      "INFO:root:Test Accuracy: 26.29%\n",
      "INFO:root:Test Loss: 2.110973553657532 \n",
      "\n",
      "  1%|          | 1/100 [00:47<1:18:04, 47.32s/it]"
     ]
    },
    {
     "name": "stdout",
     "output_type": "stream",
     "text": [
      "[231, 173, 2575, 1736, 2430, 123, 4600, 690, 1012, 447]\n"
     ]
    },
    {
     "name": "stderr",
     "output_type": "stream",
     "text": [
      "INFO:root: \n",
      "Avg Training Stats after 2 global rounds:\n",
      "INFO:root:Train Accuracy: 0.00%\n",
      "INFO:root:Training Loss : 0.33893617986485486\n",
      "INFO:root:Test Accuracy: 30.29%\n",
      "INFO:root:Test Loss: 1.9797809952497483 \n",
      "\n",
      "  2%|▏         | 2/100 [01:36<1:19:15, 48.52s/it]"
     ]
    },
    {
     "name": "stdout",
     "output_type": "stream",
     "text": [
      "[744, 2575, 1320, 470, 2430, 2274, 267, 690, 209, 303]\n"
     ]
    },
    {
     "name": "stderr",
     "output_type": "stream",
     "text": [
      "INFO:root: \n",
      "Avg Training Stats after 3 global rounds:\n",
      "INFO:root:Train Accuracy: 0.00%\n",
      "INFO:root:Training Loss : 0.22739421007609412\n",
      "INFO:root:Test Accuracy: 32.48%\n",
      "INFO:root:Test Loss: 1.8607569491863252 \n",
      "\n",
      "  3%|▎         | 3/100 [02:20<1:14:36, 46.15s/it]"
     ]
    },
    {
     "name": "stdout",
     "output_type": "stream",
     "text": [
      "[173, 690, 542, 1012, 2195, 1780, 1053, 87, 2934, 1736]\n"
     ]
    },
    {
     "name": "stderr",
     "output_type": "stream",
     "text": [
      "INFO:root: \n",
      "Avg Training Stats after 4 global rounds:\n",
      "INFO:root:Train Accuracy: 0.00%\n",
      "INFO:root:Training Loss : 0.3565372263185306\n",
      "INFO:root:Test Accuracy: 37.32%\n",
      "INFO:root:Test Loss: 1.6629654067754744 \n",
      "\n",
      "  4%|▍         | 4/100 [03:05<1:13:18, 45.82s/it]"
     ]
    },
    {
     "name": "stdout",
     "output_type": "stream",
     "text": [
      "[2430, 2575, 1736, 123, 15, 1780, 1018, 231, 87, 794]\n"
     ]
    },
    {
     "name": "stderr",
     "output_type": "stream",
     "text": [
      "INFO:root: \n",
      "Avg Training Stats after 5 global rounds:\n",
      "INFO:root:Train Accuracy: 0.00%\n",
      "INFO:root:Training Loss : 0.21269130283456658\n",
      "INFO:root:Test Accuracy: 39.53%\n",
      "INFO:root:Test Loss: 1.6028505319356918 \n",
      "\n",
      "  5%|▌         | 5/100 [03:47<1:10:21, 44.43s/it]"
     ]
    },
    {
     "name": "stdout",
     "output_type": "stream",
     "text": [
      "[1119, 87, 590, 794, 813, 303, 1320, 690, 1018, 422]\n"
     ]
    },
    {
     "name": "stderr",
     "output_type": "stream",
     "text": [
      "INFO:root: \n",
      "Avg Training Stats after 6 global rounds:\n",
      "INFO:root:Train Accuracy: 0.00%\n",
      "INFO:root:Training Loss : 0.15424758455658866\n",
      "INFO:root:Test Accuracy: 44.50%\n",
      "INFO:root:Test Loss: 1.5004173558950424 \n",
      "\n",
      "  6%|▌         | 6/100 [04:21<1:03:59, 40.85s/it]"
     ]
    },
    {
     "name": "stdout",
     "output_type": "stream",
     "text": [
      "[2029, 1433, 303, 327, 744, 862, 2934, 231, 1416, 278]\n"
     ]
    },
    {
     "name": "stderr",
     "output_type": "stream",
     "text": [
      "INFO:root: \n",
      "Avg Training Stats after 7 global rounds:\n",
      "INFO:root:Train Accuracy: 0.00%\n",
      "INFO:root:Training Loss : 0.26880295495829665\n",
      "INFO:root:Test Accuracy: 46.42%\n",
      "INFO:root:Test Loss: 1.427255763411522 \n",
      "\n",
      "  7%|▋         | 7/100 [05:03<1:03:53, 41.22s/it]"
     ]
    },
    {
     "name": "stdout",
     "output_type": "stream",
     "text": [
      "[231, 1112, 327, 744, 286, 422, 15, 1798, 1053, 173]\n"
     ]
    },
    {
     "name": "stderr",
     "output_type": "stream",
     "text": [
      "INFO:root: \n",
      "Avg Training Stats after 8 global rounds:\n",
      "INFO:root:Train Accuracy: 0.00%\n",
      "INFO:root:Training Loss : 0.2526545983719898\n",
      "INFO:root:Test Accuracy: 47.94%\n",
      "INFO:root:Test Loss: 1.3869676196575165 \n",
      "\n",
      "  8%|▊         | 8/100 [05:34<58:36, 38.23s/it]  "
     ]
    },
    {
     "name": "stdout",
     "output_type": "stream",
     "text": [
      "[794, 278, 744, 862, 303, 19, 2274, 1053, 813, 1012]\n"
     ]
    },
    {
     "name": "stderr",
     "output_type": "stream",
     "text": [
      "INFO:root: \n",
      "Avg Training Stats after 9 global rounds:\n",
      "INFO:root:Train Accuracy: 0.00%\n",
      "INFO:root:Training Loss : 0.13801262803980308\n",
      "INFO:root:Test Accuracy: 49.57%\n",
      "INFO:root:Test Loss: 1.3632072257995604 \n",
      "\n",
      "  9%|▉         | 9/100 [06:11<56:57, 37.56s/it]"
     ]
    },
    {
     "name": "stdout",
     "output_type": "stream",
     "text": [
      "[1320, 40, 1756, 470, 327, 1012, 862, 1433, 796, 231]\n"
     ]
    },
    {
     "name": "stderr",
     "output_type": "stream",
     "text": [
      "INFO:root: \n",
      "Avg Training Stats after 10 global rounds:\n",
      "INFO:root:Train Accuracy: 0.00%\n",
      "INFO:root:Training Loss : 0.12750900055025555\n",
      "INFO:root:Test Accuracy: 50.36%\n",
      "INFO:root:Test Loss: 1.331862360239029 \n",
      "\n",
      " 10%|█         | 10/100 [06:47<55:54, 37.27s/it]"
     ]
    },
    {
     "name": "stdout",
     "output_type": "stream",
     "text": [
      "[87, 201, 1798, 813, 123, 2934, 1756, 231, 1053, 4600]\n"
     ]
    },
    {
     "name": "stderr",
     "output_type": "stream",
     "text": [
      "INFO:root: \n",
      "Avg Training Stats after 11 global rounds:\n",
      "INFO:root:Train Accuracy: 0.00%\n",
      "INFO:root:Training Loss : 0.15911581386101736\n",
      "INFO:root:Test Accuracy: 51.15%\n",
      "INFO:root:Test Loss: 1.308264117538929 \n",
      "\n",
      " 11%|█         | 11/100 [07:36<1:00:22, 40.70s/it]"
     ]
    },
    {
     "name": "stdout",
     "output_type": "stream",
     "text": [
      "[106, 231, 447, 796, 209, 1798, 1112, 1416, 590, 794]\n"
     ]
    },
    {
     "name": "stderr",
     "output_type": "stream",
     "text": [
      "INFO:root: \n",
      "Avg Training Stats after 12 global rounds:\n",
      "INFO:root:Train Accuracy: 0.00%\n",
      "INFO:root:Training Loss : 0.11485282126646526\n",
      "INFO:root:Test Accuracy: 52.00%\n",
      "INFO:root:Test Loss: 1.2871318772435187 \n",
      "\n",
      " 12%|█▏        | 12/100 [08:11<57:10, 38.98s/it]  "
     ]
    },
    {
     "name": "stdout",
     "output_type": "stream",
     "text": [
      "[1320, 278, 862, 2274, 1798, 87, 2029, 796, 1018, 2430]\n"
     ]
    },
    {
     "name": "stderr",
     "output_type": "stream",
     "text": [
      "INFO:root: \n",
      "Avg Training Stats after 13 global rounds:\n",
      "INFO:root:Train Accuracy: 0.00%\n",
      "INFO:root:Training Loss : 0.13247463462438835\n",
      "INFO:root:Test Accuracy: 53.38%\n",
      "INFO:root:Test Loss: 1.2699862346053123 \n",
      "\n",
      " 13%|█▎        | 13/100 [08:58<1:00:00, 41.38s/it]"
     ]
    },
    {
     "name": "stdout",
     "output_type": "stream",
     "text": [
      "[4600, 2575, 590, 173, 2430, 40, 1112, 87, 231, 2195]\n"
     ]
    },
    {
     "name": "stderr",
     "output_type": "stream",
     "text": [
      "INFO:root: \n",
      "Avg Training Stats after 14 global rounds:\n",
      "INFO:root:Train Accuracy: 0.00%\n",
      "INFO:root:Training Loss : 0.17414086267050244\n",
      "INFO:root:Test Accuracy: 54.57%\n",
      "INFO:root:Test Loss: 1.2398413321375847 \n",
      "\n",
      " 14%|█▍        | 14/100 [09:47<1:02:34, 43.66s/it]"
     ]
    },
    {
     "name": "stdout",
     "output_type": "stream",
     "text": [
      "[231, 794, 1018, 1012, 15, 303, 796, 2274, 1320, 19]\n"
     ]
    },
    {
     "name": "stderr",
     "output_type": "stream",
     "text": [
      "INFO:root: \n",
      "Avg Training Stats after 15 global rounds:\n",
      "INFO:root:Train Accuracy: 0.00%\n",
      "INFO:root:Training Loss : 0.09680525332566998\n",
      "INFO:root:Test Accuracy: 54.52%\n",
      "INFO:root:Test Loss: 1.2355516958236694 \n",
      "\n",
      " 15%|█▌        | 15/100 [10:22<58:14, 41.11s/it]  "
     ]
    },
    {
     "name": "stdout",
     "output_type": "stream",
     "text": [
      "[2195, 40, 2029, 862, 2575, 1433, 447, 19, 4600, 796]\n"
     ]
    },
    {
     "name": "stderr",
     "output_type": "stream",
     "text": [
      "INFO:root: \n",
      "Avg Training Stats after 16 global rounds:\n",
      "INFO:root:Train Accuracy: 0.00%\n",
      "INFO:root:Training Loss : 0.12506164690453891\n",
      "INFO:root:Test Accuracy: 55.20%\n",
      "INFO:root:Test Loss: 1.2235307487845422 \n",
      "\n",
      " 16%|█▌        | 16/100 [11:13<1:01:50, 44.17s/it]"
     ]
    },
    {
     "name": "stdout",
     "output_type": "stream",
     "text": [
      "[231, 173, 303, 2274, 796, 116, 1798, 447, 106, 1433]\n"
     ]
    },
    {
     "name": "stderr",
     "output_type": "stream",
     "text": [
      "INFO:root: \n",
      "Avg Training Stats after 17 global rounds:\n",
      "INFO:root:Train Accuracy: 0.00%\n",
      "INFO:root:Training Loss : 0.10807110032993753\n",
      "INFO:root:Test Accuracy: 55.10%\n",
      "INFO:root:Test Loss: 1.236088756620884 \n",
      "\n",
      " 17%|█▋        | 17/100 [11:48<57:21, 41.47s/it]  "
     ]
    },
    {
     "name": "stdout",
     "output_type": "stream",
     "text": [
      "[201, 1756, 796, 1320, 813, 542, 116, 173, 794, 1798]\n"
     ]
    },
    {
     "name": "stderr",
     "output_type": "stream",
     "text": [
      "INFO:root: \n",
      "Avg Training Stats after 18 global rounds:\n",
      "INFO:root:Train Accuracy: 0.00%\n",
      "INFO:root:Training Loss : 0.15007845811177295\n",
      "INFO:root:Test Accuracy: 55.75%\n",
      "INFO:root:Test Loss: 1.2126545146107675 \n",
      "\n",
      " 18%|█▊        | 18/100 [12:25<54:36, 39.95s/it]"
     ]
    },
    {
     "name": "stdout",
     "output_type": "stream",
     "text": [
      "[15, 1780, 19, 744, 2575, 173, 813, 40, 1320, 422]\n"
     ]
    },
    {
     "name": "stderr",
     "output_type": "stream",
     "text": [
      "INFO:root: \n",
      "Avg Training Stats after 19 global rounds:\n",
      "INFO:root:Train Accuracy: 0.00%\n",
      "INFO:root:Training Loss : 0.15338679131851407\n",
      "INFO:root:Test Accuracy: 55.69%\n",
      "INFO:root:Test Loss: 1.2028477594256402 \n",
      "\n",
      " 19%|█▉        | 19/100 [13:00<52:09, 38.63s/it]"
     ]
    },
    {
     "name": "stdout",
     "output_type": "stream",
     "text": [
      "[813, 1736, 15, 1433, 267, 470, 3195, 744, 2575, 231]\n"
     ]
    },
    {
     "name": "stderr",
     "output_type": "stream",
     "text": [
      "INFO:root: \n",
      "Avg Training Stats after 20 global rounds:\n",
      "INFO:root:Train Accuracy: 0.00%\n",
      "INFO:root:Training Loss : 0.1071239197341588\n",
      "INFO:root:Test Accuracy: 55.60%\n",
      "INFO:root:Test Loss: 1.198714217543602 \n",
      "\n",
      " 20%|██        | 20/100 [13:44<53:25, 40.07s/it]"
     ]
    },
    {
     "name": "stdout",
     "output_type": "stream",
     "text": [
      "[278, 744, 1053, 447, 1320, 116, 1798, 19, 4600, 3195]\n"
     ]
    },
    {
     "name": "stderr",
     "output_type": "stream",
     "text": [
      "INFO:root: \n",
      "Avg Training Stats after 21 global rounds:\n",
      "INFO:root:Train Accuracy: 0.00%\n",
      "INFO:root:Training Loss : 0.1572532679829702\n",
      "INFO:root:Test Accuracy: 55.33%\n",
      "INFO:root:Test Loss: 1.2054927355051042 \n",
      "\n",
      " 21%|██        | 21/100 [14:32<55:58, 42.51s/it]"
     ]
    },
    {
     "name": "stdout",
     "output_type": "stream",
     "text": [
      "[813, 2029, 602, 590, 1756, 106, 1780, 40, 19, 2934]\n"
     ]
    },
    {
     "name": "stderr",
     "output_type": "stream",
     "text": [
      "INFO:root: \n",
      "Avg Training Stats after 22 global rounds:\n",
      "INFO:root:Train Accuracy: 0.00%\n",
      "INFO:root:Training Loss : 0.07741258625442383\n",
      "INFO:root:Test Accuracy: 55.78%\n",
      "INFO:root:Test Loss: 1.1955333536863326 \n",
      "\n",
      " 22%|██▏       | 22/100 [15:14<55:00, 42.31s/it]"
     ]
    },
    {
     "name": "stdout",
     "output_type": "stream",
     "text": [
      "[40, 862, 327, 1780, 2274, 106, 1053, 1112, 1012, 3195]\n"
     ]
    },
    {
     "name": "stderr",
     "output_type": "stream",
     "text": [
      "INFO:root: \n",
      "Avg Training Stats after 23 global rounds:\n",
      "INFO:root:Train Accuracy: 0.00%\n",
      "INFO:root:Training Loss : 0.15434581844975065\n",
      "INFO:root:Test Accuracy: 55.99%\n",
      "INFO:root:Test Loss: 1.1995010167360305 \n",
      "\n",
      " 23%|██▎       | 23/100 [15:58<55:02, 42.89s/it]"
     ]
    },
    {
     "name": "stdout",
     "output_type": "stream",
     "text": [
      "[1320, 1119, 862, 744, 1053, 87, 201, 470, 2274, 1012]\n"
     ]
    },
    {
     "name": "stderr",
     "output_type": "stream",
     "text": [
      "INFO:root: \n",
      "Avg Training Stats after 24 global rounds:\n",
      "INFO:root:Train Accuracy: 0.00%\n",
      "INFO:root:Training Loss : 0.12876457615113873\n",
      "INFO:root:Test Accuracy: 56.61%\n",
      "INFO:root:Test Loss: 1.1926559242606163 \n",
      "\n",
      " 24%|██▍       | 24/100 [16:36<52:36, 41.54s/it]"
     ]
    },
    {
     "name": "stdout",
     "output_type": "stream",
     "text": [
      "[447, 286, 1416, 87, 796, 1798, 231, 1119, 431, 2195]\n"
     ]
    },
    {
     "name": "stderr",
     "output_type": "stream",
     "text": [
      "INFO:root: \n",
      "Avg Training Stats after 25 global rounds:\n",
      "INFO:root:Train Accuracy: 0.00%\n",
      "INFO:root:Training Loss : 0.16685475984882134\n",
      "INFO:root:Test Accuracy: 59.22%\n",
      "INFO:root:Test Loss: 1.1185083624720573 \n",
      "\n",
      " 25%|██▌       | 25/100 [17:14<50:36, 40.49s/it]"
     ]
    },
    {
     "name": "stdout",
     "output_type": "stream",
     "text": [
      "[116, 2029, 690, 1416, 1780, 602, 2575, 1756, 431, 87]\n"
     ]
    },
    {
     "name": "stderr",
     "output_type": "stream",
     "text": [
      "INFO:root: \n",
      "Avg Training Stats after 26 global rounds:\n",
      "INFO:root:Train Accuracy: 0.00%\n",
      "INFO:root:Training Loss : 0.17634360746226402\n",
      "INFO:root:Test Accuracy: 59.01%\n",
      "INFO:root:Test Loss: 1.1176939064264297 \n",
      "\n",
      " 26%|██▌       | 26/100 [17:58<51:04, 41.42s/it]"
     ]
    },
    {
     "name": "stdout",
     "output_type": "stream",
     "text": [
      "[87, 173, 2029, 19, 4600, 2195, 116, 303, 40, 209]\n"
     ]
    },
    {
     "name": "stderr",
     "output_type": "stream",
     "text": [
      "INFO:root: \n",
      "Avg Training Stats after 27 global rounds:\n",
      "INFO:root:Train Accuracy: 0.00%\n",
      "INFO:root:Training Loss : 0.16593259149572864\n",
      "INFO:root:Test Accuracy: 58.63%\n",
      "INFO:root:Test Loss: 1.1358485397696496 \n",
      "\n",
      " 27%|██▋       | 27/100 [18:38<49:47, 40.92s/it]"
     ]
    },
    {
     "name": "stdout",
     "output_type": "stream",
     "text": [
      "[4600, 267, 794, 231, 201, 231, 2934, 590, 470, 173]\n"
     ]
    },
    {
     "name": "stderr",
     "output_type": "stream",
     "text": [
      "INFO:root: \n",
      "Avg Training Stats after 28 global rounds:\n",
      "INFO:root:Train Accuracy: 0.00%\n",
      "INFO:root:Training Loss : 0.15415728137380494\n",
      "INFO:root:Test Accuracy: 58.30%\n",
      "INFO:root:Test Loss: 1.154696875810623 \n",
      "\n",
      " 28%|██▊       | 28/100 [19:19<49:20, 41.12s/it]"
     ]
    },
    {
     "name": "stdout",
     "output_type": "stream",
     "text": [
      "[1798, 286, 123, 1112, 303, 796, 744, 1320, 231, 794]\n"
     ]
    },
    {
     "name": "stderr",
     "output_type": "stream",
     "text": [
      "INFO:root: \n",
      "Avg Training Stats after 29 global rounds:\n",
      "INFO:root:Train Accuracy: 0.00%\n",
      "INFO:root:Training Loss : 0.06096252373602527\n",
      "INFO:root:Test Accuracy: 58.61%\n",
      "INFO:root:Test Loss: 1.1486769032478332 \n",
      "\n",
      " 29%|██▉       | 29/100 [19:54<46:22, 39.19s/it]"
     ]
    },
    {
     "name": "stdout",
     "output_type": "stream",
     "text": [
      "[303, 4600, 1119, 447, 744, 40, 1756, 2430, 2029, 602]\n"
     ]
    },
    {
     "name": "stderr",
     "output_type": "stream",
     "text": [
      "INFO:root: \n",
      "Avg Training Stats after 30 global rounds:\n",
      "INFO:root:Train Accuracy: 0.00%\n",
      "INFO:root:Training Loss : 0.07264075155782967\n",
      "INFO:root:Test Accuracy: 58.48%\n",
      "INFO:root:Test Loss: 1.1604889187216758 \n",
      "\n",
      " 30%|███       | 30/100 [20:43<49:16, 42.24s/it]"
     ]
    },
    {
     "name": "stdout",
     "output_type": "stream",
     "text": [
      "[422, 3195, 1112, 327, 123, 1736, 303, 286, 106, 1433]\n"
     ]
    },
    {
     "name": "stderr",
     "output_type": "stream",
     "text": [
      "INFO:root: \n",
      "Avg Training Stats after 31 global rounds:\n",
      "INFO:root:Train Accuracy: 0.00%\n",
      "INFO:root:Training Loss : 0.10988589392208765\n",
      "INFO:root:Test Accuracy: 58.13%\n",
      "INFO:root:Test Loss: 1.1686197370290756 \n",
      "\n",
      " 31%|███       | 31/100 [21:22<47:12, 41.05s/it]"
     ]
    },
    {
     "name": "stdout",
     "output_type": "stream",
     "text": [
      "[862, 173, 422, 303, 123, 1012, 542, 278, 431, 2195]\n"
     ]
    },
    {
     "name": "stderr",
     "output_type": "stream",
     "text": [
      "INFO:root: \n",
      "Avg Training Stats after 32 global rounds:\n",
      "INFO:root:Train Accuracy: 0.00%\n",
      "INFO:root:Training Loss : 0.18677167660568816\n",
      "INFO:root:Test Accuracy: 59.65%\n",
      "INFO:root:Test Loss: 1.1158302646875382 \n",
      "\n",
      " 32%|███▏      | 32/100 [21:54<43:32, 38.41s/it]"
     ]
    },
    {
     "name": "stdout",
     "output_type": "stream",
     "text": [
      "[1320, 15, 19, 1756, 231, 470, 267, 87, 862, 327]\n"
     ]
    },
    {
     "name": "stderr",
     "output_type": "stream",
     "text": [
      "INFO:root: \n",
      "Avg Training Stats after 33 global rounds:\n",
      "INFO:root:Train Accuracy: 0.00%\n",
      "INFO:root:Training Loss : 0.1575320701443399\n",
      "INFO:root:Test Accuracy: 58.91%\n",
      "INFO:root:Test Loss: 1.1368455080688 \n",
      "\n",
      " 33%|███▎      | 33/100 [22:24<40:01, 35.85s/it]"
     ]
    },
    {
     "name": "stdout",
     "output_type": "stream",
     "text": [
      "[87, 267, 796, 1053, 1433, 2575, 1119, 794, 15, 327]\n"
     ]
    },
    {
     "name": "stderr",
     "output_type": "stream",
     "text": [
      "INFO:root: \n",
      "Avg Training Stats after 34 global rounds:\n",
      "INFO:root:Train Accuracy: 0.00%\n",
      "INFO:root:Training Loss : 0.11972283733074993\n",
      "INFO:root:Test Accuracy: 60.06%\n",
      "INFO:root:Test Loss: 1.1121337008476258 \n",
      "\n",
      " 34%|███▍      | 34/100 [23:01<39:53, 36.27s/it]"
     ]
    },
    {
     "name": "stdout",
     "output_type": "stream",
     "text": [
      "[422, 1798, 590, 796, 19, 1320, 173, 1416, 1053, 4600]\n"
     ]
    },
    {
     "name": "stderr",
     "output_type": "stream",
     "text": [
      "INFO:root: \n",
      "Avg Training Stats after 35 global rounds:\n",
      "INFO:root:Train Accuracy: 0.00%\n",
      "INFO:root:Training Loss : 0.1479714964443158\n",
      "INFO:root:Test Accuracy: 61.08%\n",
      "INFO:root:Test Loss: 1.0812215846776962 \n",
      "\n",
      " 35%|███▌      | 35/100 [23:46<42:10, 38.94s/it]"
     ]
    },
    {
     "name": "stdout",
     "output_type": "stream",
     "text": [
      "[2430, 1320, 602, 3195, 231, 2934, 431, 794, 1416, 542]\n"
     ]
    },
    {
     "name": "stderr",
     "output_type": "stream",
     "text": [
      "INFO:root: \n",
      "Avg Training Stats after 36 global rounds:\n",
      "INFO:root:Train Accuracy: 0.00%\n",
      "INFO:root:Training Loss : 0.12082220968083539\n",
      "INFO:root:Test Accuracy: 61.17%\n",
      "INFO:root:Test Loss: 1.0755319824814797 \n",
      "\n",
      " 36%|███▌      | 36/100 [24:35<44:38, 41.85s/it]"
     ]
    },
    {
     "name": "stdout",
     "output_type": "stream",
     "text": [
      "[15, 813, 1112, 123, 40, 796, 2274, 1018, 2195, 201]\n"
     ]
    },
    {
     "name": "stderr",
     "output_type": "stream",
     "text": [
      "INFO:root: \n",
      "Avg Training Stats after 37 global rounds:\n",
      "INFO:root:Train Accuracy: 0.00%\n",
      "INFO:root:Training Loss : 0.09205899688914862\n",
      "INFO:root:Test Accuracy: 61.65%\n",
      "INFO:root:Test Loss: 1.0713640442490577 \n",
      "\n",
      " 37%|███▋      | 37/100 [25:12<42:28, 40.45s/it]"
     ]
    },
    {
     "name": "stdout",
     "output_type": "stream",
     "text": [
      "[303, 2195, 422, 1112, 1433, 116, 796, 602, 1756, 231]\n"
     ]
    },
    {
     "name": "stderr",
     "output_type": "stream",
     "text": [
      "INFO:root: \n",
      "Avg Training Stats after 38 global rounds:\n",
      "INFO:root:Train Accuracy: 0.00%\n",
      "INFO:root:Training Loss : 0.1254774355531406\n",
      "INFO:root:Test Accuracy: 61.50%\n",
      "INFO:root:Test Loss: 1.0627460581064225 \n",
      "\n",
      " 38%|███▊      | 38/100 [25:50<41:02, 39.72s/it]"
     ]
    },
    {
     "name": "stdout",
     "output_type": "stream",
     "text": [
      "[1756, 231, 267, 2430, 590, 1736, 15, 4600, 327, 1112]\n"
     ]
    },
    {
     "name": "stderr",
     "output_type": "stream",
     "text": [
      "INFO:root: \n",
      "Avg Training Stats after 39 global rounds:\n",
      "INFO:root:Train Accuracy: 0.00%\n",
      "INFO:root:Training Loss : 0.11179500832019126\n",
      "INFO:root:Test Accuracy: 61.90%\n",
      "INFO:root:Test Loss: 1.0680789992213249 \n",
      "\n",
      " 39%|███▉      | 39/100 [26:37<42:36, 41.90s/it]"
     ]
    },
    {
     "name": "stdout",
     "output_type": "stream",
     "text": [
      "[2575, 422, 3195, 862, 231, 796, 2934, 123, 2430, 794]\n"
     ]
    },
    {
     "name": "stderr",
     "output_type": "stream",
     "text": [
      "INFO:root: \n",
      "Avg Training Stats after 40 global rounds:\n",
      "INFO:root:Train Accuracy: 0.00%\n",
      "INFO:root:Training Loss : 0.10773040191907413\n",
      "INFO:root:Test Accuracy: 61.45%\n",
      "INFO:root:Test Loss: 1.0845752081274986 \n",
      "\n",
      " 40%|████      | 40/100 [27:27<44:16, 44.27s/it]"
     ]
    },
    {
     "name": "stdout",
     "output_type": "stream",
     "text": [
      "[231, 1119, 1736, 278, 447, 1018, 286, 744, 690, 173]\n"
     ]
    },
    {
     "name": "stderr",
     "output_type": "stream",
     "text": [
      "INFO:root: \n",
      "Avg Training Stats after 41 global rounds:\n",
      "INFO:root:Train Accuracy: 0.00%\n",
      "INFO:root:Training Loss : 0.12228997680703244\n",
      "INFO:root:Test Accuracy: 62.03%\n",
      "INFO:root:Test Loss: 1.0658315232396125 \n",
      "\n",
      " 41%|████      | 41/100 [28:00<40:11, 40.87s/it]"
     ]
    },
    {
     "name": "stdout",
     "output_type": "stream",
     "text": [
      "[231, 1320, 1416, 2575, 2274, 862, 690, 602, 1012, 173]\n"
     ]
    },
    {
     "name": "stderr",
     "output_type": "stream",
     "text": [
      "INFO:root: \n",
      "Avg Training Stats after 42 global rounds:\n",
      "INFO:root:Train Accuracy: 0.00%\n",
      "INFO:root:Training Loss : 0.1292019111132595\n",
      "INFO:root:Test Accuracy: 63.28%\n",
      "INFO:root:Test Loss: 1.0251441119611264 \n",
      "\n",
      " 42%|████▏     | 42/100 [28:43<40:06, 41.48s/it]"
     ]
    },
    {
     "name": "stdout",
     "output_type": "stream",
     "text": [
      "[1112, 1053, 3195, 2934, 2029, 201, 123, 2195, 1018, 173]\n"
     ]
    },
    {
     "name": "stderr",
     "output_type": "stream",
     "text": [
      "INFO:root: \n",
      "Avg Training Stats after 43 global rounds:\n",
      "INFO:root:Train Accuracy: 0.00%\n",
      "INFO:root:Training Loss : 0.1517138792940853\n",
      "INFO:root:Test Accuracy: 62.92%\n",
      "INFO:root:Test Loss: 1.033194169998169 \n",
      "\n",
      " 43%|████▎     | 43/100 [29:32<41:42, 43.90s/it]"
     ]
    },
    {
     "name": "stdout",
     "output_type": "stream",
     "text": [
      "[862, 1053, 422, 3195, 4600, 794, 1756, 173, 2029, 1018]\n"
     ]
    },
    {
     "name": "stderr",
     "output_type": "stream",
     "text": [
      "INFO:root: \n",
      "Avg Training Stats after 44 global rounds:\n",
      "INFO:root:Train Accuracy: 0.00%\n",
      "INFO:root:Training Loss : 0.1439440505011754\n",
      "INFO:root:Test Accuracy: 62.99%\n",
      "INFO:root:Test Loss: 1.023720310628414 \n",
      "\n",
      " 44%|████▍     | 44/100 [30:25<43:31, 46.64s/it]"
     ]
    },
    {
     "name": "stdout",
     "output_type": "stream",
     "text": [
      "[1320, 2934, 796, 2195, 862, 2575, 2029, 19, 422, 286]\n"
     ]
    },
    {
     "name": "stderr",
     "output_type": "stream",
     "text": [
      "INFO:root: \n",
      "Avg Training Stats after 45 global rounds:\n",
      "INFO:root:Train Accuracy: 0.00%\n",
      "INFO:root:Training Loss : 0.09935513996098658\n",
      "INFO:root:Test Accuracy: 62.61%\n",
      "INFO:root:Test Loss: 1.0405635565519333 \n",
      "\n",
      " 45%|████▌     | 45/100 [31:13<43:11, 47.11s/it]"
     ]
    },
    {
     "name": "stdout",
     "output_type": "stream",
     "text": [
      "[862, 744, 1416, 1112, 590, 542, 278, 690, 116, 1780]\n"
     ]
    },
    {
     "name": "stderr",
     "output_type": "stream",
     "text": [
      "INFO:root: \n",
      "Avg Training Stats after 46 global rounds:\n",
      "INFO:root:Train Accuracy: 0.00%\n",
      "INFO:root:Training Loss : 0.17598753193727942\n",
      "INFO:root:Test Accuracy: 64.13%\n",
      "INFO:root:Test Loss: 0.9978557679057122 \n",
      "\n",
      " 46%|████▌     | 46/100 [31:49<39:25, 43.80s/it]"
     ]
    },
    {
     "name": "stdout",
     "output_type": "stream",
     "text": [
      "[2575, 1112, 1320, 231, 3195, 1012, 862, 447, 2195, 201]\n"
     ]
    },
    {
     "name": "stderr",
     "output_type": "stream",
     "text": [
      "INFO:root: \n",
      "Avg Training Stats after 47 global rounds:\n",
      "INFO:root:Train Accuracy: 0.00%\n",
      "INFO:root:Training Loss : 0.0825480674415778\n",
      "INFO:root:Test Accuracy: 63.41%\n",
      "INFO:root:Test Loss: 1.0216584038734435 \n",
      "\n",
      " 47%|████▋     | 47/100 [32:37<39:38, 44.87s/it]"
     ]
    },
    {
     "name": "stdout",
     "output_type": "stream",
     "text": [
      "[1433, 542, 813, 231, 1119, 2029, 1012, 173, 2195, 1320]\n"
     ]
    },
    {
     "name": "stderr",
     "output_type": "stream",
     "text": [
      "INFO:root: \n",
      "Avg Training Stats after 48 global rounds:\n",
      "INFO:root:Train Accuracy: 0.00%\n",
      "INFO:root:Training Loss : 0.08981100376440049\n",
      "INFO:root:Test Accuracy: 62.91%\n",
      "INFO:root:Test Loss: 1.0294239020347595 \n",
      "\n",
      " 48%|████▊     | 48/100 [33:19<38:14, 44.12s/it]"
     ]
    },
    {
     "name": "stdout",
     "output_type": "stream",
     "text": [
      "[744, 2195, 209, 1780, 2575, 123, 327, 40, 1736, 690]\n"
     ]
    },
    {
     "name": "stderr",
     "output_type": "stream",
     "text": [
      "INFO:root: \n",
      "Avg Training Stats after 49 global rounds:\n",
      "INFO:root:Train Accuracy: 0.00%\n",
      "INFO:root:Training Loss : 0.16210174934723418\n",
      "INFO:root:Test Accuracy: 62.97%\n",
      "INFO:root:Test Loss: 1.0286106634140015 \n",
      "\n",
      " 49%|████▉     | 49/100 [34:01<36:48, 43.31s/it]"
     ]
    },
    {
     "name": "stdout",
     "output_type": "stream",
     "text": [
      "[862, 690, 1433, 173, 3195, 2934, 116, 447, 231, 431]\n"
     ]
    },
    {
     "name": "stderr",
     "output_type": "stream",
     "text": [
      "INFO:root: \n",
      "Avg Training Stats after 50 global rounds:\n",
      "INFO:root:Train Accuracy: 0.00%\n",
      "INFO:root:Training Loss : 0.14625686365447516\n",
      "INFO:root:Test Accuracy: 62.81%\n",
      "INFO:root:Test Loss: 1.0415750461816788 \n",
      "\n",
      " 50%|█████     | 50/100 [34:42<35:40, 42.80s/it]"
     ]
    },
    {
     "name": "stdout",
     "output_type": "stream",
     "text": [
      "[1320, 19, 3195, 87, 1756, 303, 813, 2575, 231, 231]\n"
     ]
    },
    {
     "name": "stderr",
     "output_type": "stream",
     "text": [
      "INFO:root: \n",
      "Avg Training Stats after 51 global rounds:\n",
      "INFO:root:Train Accuracy: 0.00%\n",
      "INFO:root:Training Loss : 0.036321789761697656\n",
      "INFO:root:Test Accuracy: 62.27%\n",
      "INFO:root:Test Loss: 1.0484337189793587 \n",
      "\n",
      " 51%|█████     | 51/100 [35:24<34:40, 42.46s/it]"
     ]
    },
    {
     "name": "stdout",
     "output_type": "stream",
     "text": [
      "[40, 813, 1780, 2934, 15, 173, 278, 19, 1798, 267]\n"
     ]
    },
    {
     "name": "stderr",
     "output_type": "stream",
     "text": [
      "INFO:root: \n",
      "Avg Training Stats after 52 global rounds:\n",
      "INFO:root:Train Accuracy: 0.00%\n",
      "INFO:root:Training Loss : 0.10129519357460855\n",
      "INFO:root:Test Accuracy: 63.22%\n",
      "INFO:root:Test Loss: 1.0253223514556884 \n",
      "\n",
      " 52%|█████▏    | 52/100 [36:00<32:24, 40.51s/it]"
     ]
    },
    {
     "name": "stdout",
     "output_type": "stream",
     "text": [
      "[267, 231, 690, 173, 1780, 1053, 862, 590, 1433, 303]\n"
     ]
    },
    {
     "name": "stderr",
     "output_type": "stream",
     "text": [
      "INFO:root: \n",
      "Avg Training Stats after 53 global rounds:\n",
      "INFO:root:Train Accuracy: 0.00%\n",
      "INFO:root:Training Loss : 0.1456053986131331\n",
      "INFO:root:Test Accuracy: 64.75%\n",
      "INFO:root:Test Loss: 0.9877613207697868 \n",
      "\n",
      " 53%|█████▎    | 53/100 [36:34<30:16, 38.65s/it]"
     ]
    },
    {
     "name": "stdout",
     "output_type": "stream",
     "text": [
      "[431, 3195, 201, 796, 2934, 15, 231, 1112, 1736, 267]\n"
     ]
    },
    {
     "name": "stderr",
     "output_type": "stream",
     "text": [
      "INFO:root: \n",
      "Avg Training Stats after 54 global rounds:\n",
      "INFO:root:Train Accuracy: 0.00%\n",
      "INFO:root:Training Loss : 0.10527153368264026\n",
      "INFO:root:Test Accuracy: 62.87%\n",
      "INFO:root:Test Loss: 1.025796695947647 \n",
      "\n",
      " 54%|█████▍    | 54/100 [37:17<30:31, 39.81s/it]"
     ]
    },
    {
     "name": "stdout",
     "output_type": "stream",
     "text": [
      "[40, 1320, 1416, 286, 2195, 1012, 201, 116, 1053, 542]\n"
     ]
    },
    {
     "name": "stderr",
     "output_type": "stream",
     "text": [
      "INFO:root: \n",
      "Avg Training Stats after 55 global rounds:\n",
      "INFO:root:Train Accuracy: 0.00%\n",
      "INFO:root:Training Loss : 0.14801178451422156\n",
      "INFO:root:Test Accuracy: 65.10%\n",
      "INFO:root:Test Loss: 0.9705209955573082 \n",
      "\n",
      " 55%|█████▌    | 55/100 [37:53<29:04, 38.78s/it]"
     ]
    },
    {
     "name": "stdout",
     "output_type": "stream",
     "text": [
      "[1798, 422, 231, 4600, 231, 2575, 1433, 106, 1320, 862]\n"
     ]
    },
    {
     "name": "stderr",
     "output_type": "stream",
     "text": [
      "INFO:root: \n",
      "Avg Training Stats after 56 global rounds:\n",
      "INFO:root:Train Accuracy: 0.00%\n",
      "INFO:root:Training Loss : 0.07389024789270064\n",
      "INFO:root:Test Accuracy: 65.53%\n",
      "INFO:root:Test Loss: 0.9691081845760345 \n",
      "\n",
      " 56%|█████▌    | 56/100 [38:42<30:34, 41.69s/it]"
     ]
    },
    {
     "name": "stdout",
     "output_type": "stream",
     "text": [
      "[2274, 3195, 267, 2029, 590, 327, 2195, 278, 1756, 813]\n"
     ]
    },
    {
     "name": "stderr",
     "output_type": "stream",
     "text": [
      "INFO:root: \n",
      "Avg Training Stats after 57 global rounds:\n",
      "INFO:root:Train Accuracy: 0.00%\n",
      "INFO:root:Training Loss : 0.10259676314723334\n",
      "INFO:root:Test Accuracy: 64.58%\n",
      "INFO:root:Test Loss: 0.993662640452385 \n",
      "\n",
      " 57%|█████▋    | 57/100 [39:30<31:24, 43.82s/it]"
     ]
    },
    {
     "name": "stdout",
     "output_type": "stream",
     "text": [
      "[1798, 431, 123, 1320, 1416, 231, 2575, 2934, 19, 1756]\n"
     ]
    },
    {
     "name": "stderr",
     "output_type": "stream",
     "text": [
      "INFO:root: \n",
      "Avg Training Stats after 58 global rounds:\n",
      "INFO:root:Train Accuracy: 0.00%\n",
      "INFO:root:Training Loss : 0.0885213387070787\n",
      "INFO:root:Test Accuracy: 64.37%\n",
      "INFO:root:Test Loss: 0.9940050151944161 \n",
      "\n",
      " 58%|█████▊    | 58/100 [40:16<31:09, 44.51s/it]"
     ]
    },
    {
     "name": "stdout",
     "output_type": "stream",
     "text": [
      "[1018, 267, 2274, 447, 2029, 690, 590, 303, 1119, 796]\n"
     ]
    },
    {
     "name": "stderr",
     "output_type": "stream",
     "text": [
      "INFO:root: \n",
      "Avg Training Stats after 59 global rounds:\n",
      "INFO:root:Train Accuracy: 0.00%\n",
      "INFO:root:Training Loss : 0.0715438534875997\n",
      "INFO:root:Test Accuracy: 64.29%\n",
      "INFO:root:Test Loss: 0.9994107119739055 \n",
      "\n",
      " 59%|█████▉    | 59/100 [40:56<29:20, 42.94s/it]"
     ]
    },
    {
     "name": "stdout",
     "output_type": "stream",
     "text": [
      "[106, 2430, 447, 1433, 1012, 3195, 1119, 1756, 862, 4600]\n"
     ]
    },
    {
     "name": "stderr",
     "output_type": "stream",
     "text": [
      "INFO:root: \n",
      "Avg Training Stats after 60 global rounds:\n",
      "INFO:root:Train Accuracy: 0.00%\n",
      "INFO:root:Training Loss : 0.05016450261653153\n",
      "INFO:root:Test Accuracy: 64.31%\n",
      "INFO:root:Test Loss: 1.0015597748756409 \n",
      "\n",
      " 60%|██████    | 60/100 [41:52<31:13, 46.83s/it]"
     ]
    },
    {
     "name": "stdout",
     "output_type": "stream",
     "text": [
      "[1780, 1320, 286, 2029, 40, 796, 447, 15, 231, 744]\n"
     ]
    },
    {
     "name": "stderr",
     "output_type": "stream",
     "text": [
      "INFO:root: \n",
      "Avg Training Stats after 61 global rounds:\n",
      "INFO:root:Train Accuracy: 0.00%\n",
      "INFO:root:Training Loss : 0.06427590536696792\n",
      "INFO:root:Test Accuracy: 65.49%\n",
      "INFO:root:Test Loss: 0.9794714093208313 \n",
      "\n",
      " 61%|██████    | 61/100 [42:27<28:07, 43.28s/it]"
     ]
    },
    {
     "name": "stdout",
     "output_type": "stream",
     "text": [
      "[116, 15, 2029, 327, 19, 470, 422, 87, 1012, 303]\n"
     ]
    },
    {
     "name": "stderr",
     "output_type": "stream",
     "text": [
      "INFO:root: \n",
      "Avg Training Stats after 62 global rounds:\n",
      "INFO:root:Train Accuracy: 0.00%\n",
      "INFO:root:Training Loss : 0.09519789582613211\n",
      "INFO:root:Test Accuracy: 64.59%\n",
      "INFO:root:Test Loss: 1.007579767256975 \n",
      "\n",
      " 62%|██████▏   | 62/100 [42:56<24:40, 38.96s/it]"
     ]
    },
    {
     "name": "stdout",
     "output_type": "stream",
     "text": [
      "[796, 2274, 862, 286, 813, 3195, 1112, 422, 1119, 327]\n"
     ]
    },
    {
     "name": "stderr",
     "output_type": "stream",
     "text": [
      "INFO:root: \n",
      "Avg Training Stats after 63 global rounds:\n",
      "INFO:root:Train Accuracy: 0.00%\n",
      "INFO:root:Training Loss : 0.08868257408453559\n",
      "INFO:root:Test Accuracy: 65.07%\n",
      "INFO:root:Test Loss: 0.9862721054255963 \n",
      "\n",
      " 63%|██████▎   | 63/100 [43:39<24:46, 40.17s/it]"
     ]
    },
    {
     "name": "stdout",
     "output_type": "stream",
     "text": [
      "[542, 1798, 690, 15, 267, 2575, 796, 590, 209, 470]\n"
     ]
    },
    {
     "name": "stderr",
     "output_type": "stream",
     "text": [
      "INFO:root: \n",
      "Avg Training Stats after 64 global rounds:\n",
      "INFO:root:Train Accuracy: 0.00%\n",
      "INFO:root:Training Loss : 0.08395670471390076\n",
      "INFO:root:Test Accuracy: 65.11%\n",
      "INFO:root:Test Loss: 0.989524656534195 \n",
      "\n",
      " 64%|██████▍   | 64/100 [44:14<23:19, 38.86s/it]"
     ]
    },
    {
     "name": "stdout",
     "output_type": "stream",
     "text": [
      "[87, 267, 286, 1053, 303, 796, 40, 173, 19, 327]\n"
     ]
    },
    {
     "name": "stderr",
     "output_type": "stream",
     "text": [
      "INFO:root: \n",
      "Avg Training Stats after 65 global rounds:\n",
      "INFO:root:Train Accuracy: 0.00%\n",
      "INFO:root:Training Loss : 0.1297329206570818\n",
      "INFO:root:Test Accuracy: 65.88%\n",
      "INFO:root:Test Loss: 0.9612949705123901 \n",
      "\n",
      " 65%|██████▌   | 65/100 [44:40<20:19, 34.86s/it]"
     ]
    },
    {
     "name": "stdout",
     "output_type": "stream",
     "text": [
      "[813, 542, 106, 123, 4600, 40, 209, 2029, 1736, 2195]\n"
     ]
    },
    {
     "name": "stderr",
     "output_type": "stream",
     "text": [
      "INFO:root: \n",
      "Avg Training Stats after 66 global rounds:\n",
      "INFO:root:Train Accuracy: 0.00%\n",
      "INFO:root:Training Loss : 0.09636345431237206\n",
      "INFO:root:Test Accuracy: 66.36%\n",
      "INFO:root:Test Loss: 0.963095022290945 \n",
      "\n",
      " 66%|██████▌   | 66/100 [45:26<21:38, 38.20s/it]"
     ]
    },
    {
     "name": "stdout",
     "output_type": "stream",
     "text": [
      "[1416, 1320, 201, 744, 2934, 447, 278, 2430, 1018, 2274]\n"
     ]
    },
    {
     "name": "stderr",
     "output_type": "stream",
     "text": [
      "INFO:root: \n",
      "Avg Training Stats after 67 global rounds:\n",
      "INFO:root:Train Accuracy: 0.00%\n",
      "INFO:root:Training Loss : 0.10091528663587648\n",
      "INFO:root:Test Accuracy: 66.79%\n",
      "INFO:root:Test Loss: 0.9409118531644345 \n",
      "\n",
      " 67%|██████▋   | 67/100 [46:13<22:29, 40.90s/it]"
     ]
    },
    {
     "name": "stdout",
     "output_type": "stream",
     "text": [
      "[303, 1012, 470, 123, 106, 201, 87, 1736, 2934, 2575]\n"
     ]
    },
    {
     "name": "stderr",
     "output_type": "stream",
     "text": [
      "INFO:root: \n",
      "Avg Training Stats after 68 global rounds:\n",
      "INFO:root:Train Accuracy: 0.00%\n",
      "INFO:root:Training Loss : 0.04498496426595723\n",
      "INFO:root:Test Accuracy: 65.20%\n",
      "INFO:root:Test Loss: 0.9868901002407074 \n",
      "\n",
      " 68%|██████▊   | 68/100 [46:53<21:36, 40.51s/it]"
     ]
    },
    {
     "name": "stdout",
     "output_type": "stream",
     "text": [
      "[3195, 794, 690, 2029, 231, 1756, 1112, 1736, 201, 813]\n"
     ]
    },
    {
     "name": "stderr",
     "output_type": "stream",
     "text": [
      "INFO:root: \n",
      "Avg Training Stats after 69 global rounds:\n",
      "INFO:root:Train Accuracy: 0.00%\n",
      "INFO:root:Training Loss : 0.05589360838402304\n",
      "INFO:root:Test Accuracy: 66.22%\n",
      "INFO:root:Test Loss: 0.9593660938739776 \n",
      "\n",
      " 69%|██████▉   | 69/100 [47:39<21:47, 42.17s/it]"
     ]
    },
    {
     "name": "stdout",
     "output_type": "stream",
     "text": [
      "[106, 40, 278, 422, 470, 2029, 2934, 744, 2274, 327]\n"
     ]
    },
    {
     "name": "stderr",
     "output_type": "stream",
     "text": [
      "INFO:root: \n",
      "Avg Training Stats after 70 global rounds:\n",
      "INFO:root:Train Accuracy: 0.00%\n",
      "INFO:root:Training Loss : 0.08100341994524125\n",
      "INFO:root:Test Accuracy: 65.55%\n",
      "INFO:root:Test Loss: 0.975512542128563 \n",
      "\n",
      " 70%|███████   | 70/100 [48:18<20:43, 41.45s/it]"
     ]
    },
    {
     "name": "stdout",
     "output_type": "stream",
     "text": [
      "[3195, 267, 303, 173, 286, 2029, 422, 1012, 796, 106]\n"
     ]
    },
    {
     "name": "stderr",
     "output_type": "stream",
     "text": [
      "INFO:root: \n",
      "Avg Training Stats after 71 global rounds:\n",
      "INFO:root:Train Accuracy: 0.00%\n",
      "INFO:root:Training Loss : 0.08389055009762689\n",
      "INFO:root:Test Accuracy: 65.53%\n",
      "INFO:root:Test Loss: 0.9840818127989769 \n",
      "\n",
      " 71%|███████   | 71/100 [48:56<19:28, 40.31s/it]"
     ]
    },
    {
     "name": "stdout",
     "output_type": "stream",
     "text": [
      "[209, 40, 4600, 106, 123, 1012, 690, 542, 602, 2575]\n"
     ]
    },
    {
     "name": "stderr",
     "output_type": "stream",
     "text": [
      "INFO:root: \n",
      "Avg Training Stats after 72 global rounds:\n",
      "INFO:root:Train Accuracy: 0.00%\n",
      "INFO:root:Training Loss : 0.07661071879735594\n",
      "INFO:root:Test Accuracy: 65.42%\n",
      "INFO:root:Test Loss: 0.9919978919625282 \n",
      "\n",
      " 72%|███████▏  | 72/100 [49:37<18:57, 40.62s/it]"
     ]
    },
    {
     "name": "stdout",
     "output_type": "stream",
     "text": [
      "[1012, 2430, 2274, 209, 1798, 303, 1112, 231, 744, 278]\n"
     ]
    },
    {
     "name": "stderr",
     "output_type": "stream",
     "text": [
      "INFO:root: \n",
      "Avg Training Stats after 73 global rounds:\n",
      "INFO:root:Train Accuracy: 0.00%\n",
      "INFO:root:Training Loss : 0.0640118233106642\n",
      "INFO:root:Test Accuracy: 66.32%\n",
      "INFO:root:Test Loss: 0.9612786599993706 \n",
      "\n",
      " 73%|███████▎  | 73/100 [50:19<18:22, 40.85s/it]"
     ]
    },
    {
     "name": "stdout",
     "output_type": "stream",
     "text": [
      "[447, 1320, 209, 327, 744, 1018, 231, 2430, 590, 602]\n"
     ]
    },
    {
     "name": "stderr",
     "output_type": "stream",
     "text": [
      "INFO:root: \n",
      "Avg Training Stats after 74 global rounds:\n",
      "INFO:root:Train Accuracy: 0.00%\n",
      "INFO:root:Training Loss : 0.1116681091411184\n",
      "INFO:root:Test Accuracy: 66.39%\n",
      "INFO:root:Test Loss: 0.9666627016663552 \n",
      "\n",
      " 74%|███████▍  | 74/100 [50:55<17:02, 39.34s/it]"
     ]
    },
    {
     "name": "stdout",
     "output_type": "stream",
     "text": [
      "[470, 1053, 303, 1012, 106, 3195, 447, 1112, 201, 1433]\n"
     ]
    },
    {
     "name": "stderr",
     "output_type": "stream",
     "text": [
      "INFO:root: \n",
      "Avg Training Stats after 75 global rounds:\n",
      "INFO:root:Train Accuracy: 0.00%\n",
      "INFO:root:Training Loss : 0.044247647443625436\n",
      "INFO:root:Test Accuracy: 66.36%\n",
      "INFO:root:Test Loss: 0.9621512934565544 \n",
      "\n",
      " 75%|███████▌  | 75/100 [51:33<16:19, 39.18s/it]"
     ]
    },
    {
     "name": "stdout",
     "output_type": "stream",
     "text": [
      "[231, 1433, 431, 209, 1416, 1780, 116, 123, 422, 4600]\n"
     ]
    },
    {
     "name": "stderr",
     "output_type": "stream",
     "text": [
      "INFO:root: \n",
      "Avg Training Stats after 76 global rounds:\n",
      "INFO:root:Train Accuracy: 0.00%\n",
      "INFO:root:Training Loss : 0.1586864266735227\n",
      "INFO:root:Test Accuracy: 66.23%\n",
      "INFO:root:Test Loss: 0.9719286811351776 \n",
      "\n",
      " 76%|███████▌  | 76/100 [52:16<16:03, 40.13s/it]"
     ]
    },
    {
     "name": "stdout",
     "output_type": "stream",
     "text": [
      "[2575, 796, 1053, 267, 602, 1018, 201, 1756, 286, 2430]\n"
     ]
    },
    {
     "name": "stderr",
     "output_type": "stream",
     "text": [
      "INFO:root: \n",
      "Avg Training Stats after 77 global rounds:\n",
      "INFO:root:Train Accuracy: 0.00%\n",
      "INFO:root:Training Loss : 0.09153773882012253\n",
      "INFO:root:Test Accuracy: 67.37%\n",
      "INFO:root:Test Loss: 0.9382000744342804 \n",
      "\n",
      " 77%|███████▋  | 77/100 [52:58<15:40, 40.90s/it]"
     ]
    },
    {
     "name": "stdout",
     "output_type": "stream",
     "text": [
      "[15, 2029, 2274, 744, 1018, 1736, 2934, 19, 173, 447]\n"
     ]
    },
    {
     "name": "stderr",
     "output_type": "stream",
     "text": [
      "INFO:root: \n",
      "Avg Training Stats after 78 global rounds:\n",
      "INFO:root:Train Accuracy: 0.00%\n",
      "INFO:root:Training Loss : 0.08752067517813386\n",
      "INFO:root:Test Accuracy: 66.94%\n",
      "INFO:root:Test Loss: 0.9519776104390621 \n",
      "\n",
      " 78%|███████▊  | 78/100 [53:42<15:16, 41.68s/it]"
     ]
    },
    {
     "name": "stdout",
     "output_type": "stream",
     "text": [
      "[542, 602, 173, 201, 590, 690, 422, 2934, 1736, 744]\n"
     ]
    },
    {
     "name": "stderr",
     "output_type": "stream",
     "text": [
      "INFO:root: \n",
      "Avg Training Stats after 79 global rounds:\n",
      "INFO:root:Train Accuracy: 0.00%\n",
      "INFO:root:Training Loss : 0.11984641524000583\n",
      "INFO:root:Test Accuracy: 66.55%\n",
      "INFO:root:Test Loss: 0.961793978959322 \n",
      "\n",
      " 79%|███████▉  | 79/100 [54:19<14:07, 40.37s/it]"
     ]
    },
    {
     "name": "stdout",
     "output_type": "stream",
     "text": [
      "[201, 278, 40, 1112, 106, 690, 2029, 87, 796, 3195]\n"
     ]
    },
    {
     "name": "stderr",
     "output_type": "stream",
     "text": [
      "INFO:root: \n",
      "Avg Training Stats after 80 global rounds:\n",
      "INFO:root:Train Accuracy: 0.00%\n",
      "INFO:root:Training Loss : 0.037017707973353395\n",
      "INFO:root:Test Accuracy: 66.55%\n",
      "INFO:root:Test Loss: 0.9640304109454155 \n",
      "\n",
      " 80%|████████  | 80/100 [54:56<13:07, 39.40s/it]"
     ]
    },
    {
     "name": "stdout",
     "output_type": "stream",
     "text": [
      "[1798, 15, 201, 123, 1433, 542, 1119, 690, 602, 40]\n"
     ]
    },
    {
     "name": "stderr",
     "output_type": "stream",
     "text": [
      "INFO:root: \n",
      "Avg Training Stats after 81 global rounds:\n",
      "INFO:root:Train Accuracy: 0.00%\n",
      "INFO:root:Training Loss : 0.060006622528836207\n",
      "INFO:root:Test Accuracy: 67.04%\n",
      "INFO:root:Test Loss: 0.9532703770697117 \n",
      "\n",
      " 81%|████████  | 81/100 [55:29<11:48, 37.30s/it]"
     ]
    },
    {
     "name": "stdout",
     "output_type": "stream",
     "text": [
      "[267, 542, 209, 796, 87, 3195, 231, 303, 2934, 1119]\n"
     ]
    },
    {
     "name": "stderr",
     "output_type": "stream",
     "text": [
      "INFO:root: \n",
      "Avg Training Stats after 82 global rounds:\n",
      "INFO:root:Train Accuracy: 0.00%\n",
      "INFO:root:Training Loss : 0.07197430198096513\n",
      "INFO:root:Test Accuracy: 66.54%\n",
      "INFO:root:Test Loss: 0.9702248460054398 \n",
      "\n",
      " 82%|████████▏ | 82/100 [56:08<11:24, 38.01s/it]"
     ]
    },
    {
     "name": "stdout",
     "output_type": "stream",
     "text": [
      "[690, 431, 422, 231, 4600, 2934, 2029, 327, 796, 590]\n"
     ]
    },
    {
     "name": "stderr",
     "output_type": "stream",
     "text": [
      "INFO:root: \n",
      "Avg Training Stats after 83 global rounds:\n",
      "INFO:root:Train Accuracy: 0.00%\n",
      "INFO:root:Training Loss : 0.09207086609715691\n",
      "INFO:root:Test Accuracy: 66.63%\n",
      "INFO:root:Test Loss: 0.9694754433631897 \n",
      "\n",
      " 83%|████████▎ | 83/100 [56:56<11:33, 40.80s/it]"
     ]
    },
    {
     "name": "stdout",
     "output_type": "stream",
     "text": [
      "[231, 1112, 87, 303, 690, 796, 2195, 813, 327, 1018]\n"
     ]
    },
    {
     "name": "stderr",
     "output_type": "stream",
     "text": [
      "INFO:root: \n",
      "Avg Training Stats after 84 global rounds:\n",
      "INFO:root:Train Accuracy: 0.00%\n",
      "INFO:root:Training Loss : 0.08893026359680874\n",
      "INFO:root:Test Accuracy: 67.20%\n",
      "INFO:root:Test Loss: 0.9449992254376411 \n",
      "\n",
      " 84%|████████▍ | 84/100 [57:31<10:24, 39.05s/it]"
     ]
    },
    {
     "name": "stdout",
     "output_type": "stream",
     "text": [
      "[602, 1018, 542, 106, 794, 447, 2029, 1433, 327, 690]\n"
     ]
    },
    {
     "name": "stderr",
     "output_type": "stream",
     "text": [
      "INFO:root: \n",
      "Avg Training Stats after 85 global rounds:\n",
      "INFO:root:Train Accuracy: 0.00%\n",
      "INFO:root:Training Loss : 0.08646472811793483\n",
      "INFO:root:Test Accuracy: 66.99%\n",
      "INFO:root:Test Loss: 0.9569852204620838 \n",
      "\n",
      " 85%|████████▌ | 85/100 [58:07<09:31, 38.09s/it]"
     ]
    },
    {
     "name": "stdout",
     "output_type": "stream",
     "text": [
      "[1433, 267, 447, 1012, 470, 201, 231, 15, 278, 1736]\n"
     ]
    },
    {
     "name": "stderr",
     "output_type": "stream",
     "text": [
      "INFO:root: \n",
      "Avg Training Stats after 86 global rounds:\n",
      "INFO:root:Train Accuracy: 0.00%\n",
      "INFO:root:Training Loss : 0.07914264321120452\n",
      "INFO:root:Test Accuracy: 66.94%\n",
      "INFO:root:Test Loss: 0.9532096266746521 \n",
      "\n",
      " 86%|████████▌ | 86/100 [58:38<08:26, 36.15s/it]"
     ]
    },
    {
     "name": "stdout",
     "output_type": "stream",
     "text": [
      "[40, 1053, 231, 286, 106, 2274, 470, 1119, 447, 1416]\n"
     ]
    },
    {
     "name": "stderr",
     "output_type": "stream",
     "text": [
      "INFO:root: \n",
      "Avg Training Stats after 87 global rounds:\n",
      "INFO:root:Train Accuracy: 0.00%\n",
      "INFO:root:Training Loss : 0.07766923661168415\n",
      "INFO:root:Test Accuracy: 67.53%\n",
      "INFO:root:Test Loss: 0.9357539796829224 \n",
      "\n",
      " 87%|████████▋ | 87/100 [59:13<07:45, 35.84s/it]"
     ]
    },
    {
     "name": "stdout",
     "output_type": "stream",
     "text": [
      "[209, 2029, 231, 278, 1320, 862, 2195, 690, 1736, 106]\n"
     ]
    },
    {
     "name": "stderr",
     "output_type": "stream",
     "text": [
      "INFO:root: \n",
      "Avg Training Stats after 88 global rounds:\n",
      "INFO:root:Train Accuracy: 0.00%\n",
      "INFO:root:Training Loss : 0.08559119245657545\n",
      "INFO:root:Test Accuracy: 66.75%\n",
      "INFO:root:Test Loss: 0.9610012905299663 \n",
      "\n",
      " 88%|████████▊ | 88/100 [59:53<07:23, 36.97s/it]"
     ]
    },
    {
     "name": "stdout",
     "output_type": "stream",
     "text": [
      "[2430, 201, 2195, 2575, 123, 602, 116, 794, 4600, 690]\n"
     ]
    },
    {
     "name": "stderr",
     "output_type": "stream",
     "text": [
      "INFO:root: \n",
      "Avg Training Stats after 89 global rounds:\n",
      "INFO:root:Train Accuracy: 0.00%\n",
      "INFO:root:Training Loss : 0.08945218789429993\n",
      "INFO:root:Test Accuracy: 67.33%\n",
      "INFO:root:Test Loss: 0.9448772290349007 \n",
      "\n",
      " 89%|████████▉ | 89/100 [1:00:43<07:30, 40.95s/it]"
     ]
    },
    {
     "name": "stdout",
     "output_type": "stream",
     "text": [
      "[470, 303, 278, 87, 1119, 2274, 1780, 19, 4600, 602]\n"
     ]
    },
    {
     "name": "stderr",
     "output_type": "stream",
     "text": [
      "INFO:root: \n",
      "Avg Training Stats after 90 global rounds:\n",
      "INFO:root:Train Accuracy: 0.00%\n",
      "INFO:root:Training Loss : 0.04703824668841457\n",
      "INFO:root:Test Accuracy: 67.64%\n",
      "INFO:root:Test Loss: 0.9453757372498512 \n",
      "\n",
      " 90%|█████████ | 90/100 [1:01:27<06:57, 41.79s/it]"
     ]
    },
    {
     "name": "stdout",
     "output_type": "stream",
     "text": [
      "[2575, 602, 2029, 327, 209, 4600, 2274, 1756, 431, 1112]\n"
     ]
    },
    {
     "name": "stderr",
     "output_type": "stream",
     "text": [
      "INFO:root: \n",
      "Avg Training Stats after 91 global rounds:\n",
      "INFO:root:Train Accuracy: 0.00%\n",
      "INFO:root:Training Loss : 0.07964267495463316\n",
      "INFO:root:Test Accuracy: 67.64%\n",
      "INFO:root:Test Loss: 0.952941646873951 \n",
      "\n",
      " 91%|█████████ | 91/100 [1:02:20<06:47, 45.29s/it]"
     ]
    },
    {
     "name": "stdout",
     "output_type": "stream",
     "text": [
      "[2195, 267, 813, 286, 3195, 470, 231, 278, 1012, 231]\n"
     ]
    },
    {
     "name": "stderr",
     "output_type": "stream",
     "text": [
      "INFO:root: \n",
      "Avg Training Stats after 92 global rounds:\n",
      "INFO:root:Train Accuracy: 0.00%\n",
      "INFO:root:Training Loss : 0.07874488005828902\n",
      "INFO:root:Test Accuracy: 67.10%\n",
      "INFO:root:Test Loss: 0.966659408211708 \n",
      "\n",
      " 92%|█████████▏| 92/100 [1:02:59<05:47, 43.40s/it]"
     ]
    },
    {
     "name": "stdout",
     "output_type": "stream",
     "text": [
      "[1053, 2575, 303, 2430, 542, 116, 1756, 1433, 327, 15]\n"
     ]
    },
    {
     "name": "stderr",
     "output_type": "stream",
     "text": [
      "INFO:root: \n",
      "Avg Training Stats after 93 global rounds:\n",
      "INFO:root:Train Accuracy: 0.00%\n",
      "INFO:root:Training Loss : 0.10265444567897408\n",
      "INFO:root:Test Accuracy: 67.64%\n",
      "INFO:root:Test Loss: 0.9425995618104934 \n",
      "\n",
      " 93%|█████████▎| 93/100 [1:03:41<04:59, 42.78s/it]"
     ]
    },
    {
     "name": "stdout",
     "output_type": "stream",
     "text": [
      "[590, 4600, 201, 286, 303, 1736, 15, 1798, 744, 422]\n"
     ]
    },
    {
     "name": "stderr",
     "output_type": "stream",
     "text": [
      "INFO:root: \n",
      "Avg Training Stats after 94 global rounds:\n",
      "INFO:root:Train Accuracy: 0.00%\n",
      "INFO:root:Training Loss : 0.06204046663040892\n",
      "INFO:root:Test Accuracy: 67.43%\n",
      "INFO:root:Test Loss: 0.9553795917332173 \n",
      "\n",
      " 94%|█████████▍| 94/100 [1:04:23<04:14, 42.49s/it]"
     ]
    },
    {
     "name": "stdout",
     "output_type": "stream",
     "text": [
      "[123, 862, 542, 19, 794, 1112, 4600, 2934, 231, 15]\n"
     ]
    },
    {
     "name": "stderr",
     "output_type": "stream",
     "text": [
      "INFO:root: \n",
      "Avg Training Stats after 95 global rounds:\n",
      "INFO:root:Train Accuracy: 0.00%\n",
      "INFO:root:Training Loss : 0.0788178668169337\n",
      "INFO:root:Test Accuracy: 66.65%\n",
      "INFO:root:Test Loss: 0.9761412246525287 \n",
      "\n",
      " 95%|█████████▌| 95/100 [1:05:06<03:33, 42.74s/it]"
     ]
    },
    {
     "name": "stdout",
     "output_type": "stream",
     "text": [
      "[1053, 87, 2575, 4600, 542, 231, 1433, 1012, 2029, 862]\n"
     ]
    },
    {
     "name": "stderr",
     "output_type": "stream",
     "text": [
      "INFO:root: \n",
      "Avg Training Stats after 96 global rounds:\n",
      "INFO:root:Train Accuracy: 0.00%\n",
      "INFO:root:Training Loss : 0.06920959865060197\n",
      "INFO:root:Test Accuracy: 66.68%\n",
      "INFO:root:Test Loss: 0.9982266131043435 \n",
      "\n",
      " 96%|█████████▌| 96/100 [1:05:56<03:00, 45.01s/it]"
     ]
    },
    {
     "name": "stdout",
     "output_type": "stream",
     "text": [
      "[19, 602, 40, 690, 267, 231, 173, 2029, 1798, 3195]\n"
     ]
    },
    {
     "name": "stderr",
     "output_type": "stream",
     "text": [
      "INFO:root: \n",
      "Avg Training Stats after 97 global rounds:\n",
      "INFO:root:Train Accuracy: 0.00%\n",
      "INFO:root:Training Loss : 0.09019672877603471\n",
      "INFO:root:Test Accuracy: 66.75%\n",
      "INFO:root:Test Loss: 0.9877951361238957 \n",
      "\n",
      " 97%|█████████▋| 97/100 [1:06:34<02:08, 42.93s/it]"
     ]
    },
    {
     "name": "stdout",
     "output_type": "stream",
     "text": [
      "[209, 1012, 422, 40, 794, 4600, 116, 286, 303, 1756]\n"
     ]
    },
    {
     "name": "stderr",
     "output_type": "stream",
     "text": [
      "INFO:root: \n",
      "Avg Training Stats after 98 global rounds:\n",
      "INFO:root:Train Accuracy: 0.00%\n",
      "INFO:root:Training Loss : 0.06379712657274997\n",
      "INFO:root:Test Accuracy: 66.15%\n",
      "INFO:root:Test Loss: 1.0094683468341827 \n",
      "\n",
      " 98%|█████████▊| 98/100 [1:07:14<01:23, 41.88s/it]"
     ]
    },
    {
     "name": "stdout",
     "output_type": "stream",
     "text": [
      "[2274, 1736, 173, 1416, 447, 19, 2195, 2029, 862, 744]\n"
     ]
    },
    {
     "name": "stderr",
     "output_type": "stream",
     "text": [
      "INFO:root: \n",
      "Avg Training Stats after 99 global rounds:\n",
      "INFO:root:Train Accuracy: 0.00%\n",
      "INFO:root:Training Loss : 0.13762582390723607\n",
      "INFO:root:Test Accuracy: 66.33%\n",
      "INFO:root:Test Loss: 0.9913856840133667 \n",
      "\n",
      " 99%|█████████▉| 99/100 [1:07:58<00:42, 42.67s/it]"
     ]
    },
    {
     "name": "stdout",
     "output_type": "stream",
     "text": [
      "[431, 1798, 1736, 744, 19, 278, 690, 590, 116, 40]\n"
     ]
    },
    {
     "name": "stderr",
     "output_type": "stream",
     "text": [
      "INFO:root: \n",
      "Avg Training Stats after 100 global rounds:\n",
      "INFO:root:Train Accuracy: 0.00%\n",
      "INFO:root:Training Loss : 0.06784712084969494\n",
      "INFO:root:Test Accuracy: 66.84%\n",
      "INFO:root:Test Loss: 0.9958132408559323 \n",
      "\n",
      "100%|██████████| 100/100 [1:08:31<00:00, 41.11s/it]\n",
      "INFO:root: \n",
      " Results after 100 global rounds of training:\n",
      "INFO:root:|---- Best Test Accuracy: 67.64% , round: 89\n"
     ]
    },
    {
     "name": "stdout",
     "output_type": "stream",
     "text": [
      " Saving checkpoints to ../save/checkpoint/ConvNet_1223/cifar10_ConvNet_groupnorm_T[100]_C[0.2]_iid[0]_E[10]_B[32]_GPU[0]_Pruned[0.0]...\n"
     ]
    }
   ],
   "source": [
    " args = easydict.EasyDict({\n",
    "    \"model\": 'ConvNet',\n",
    "    'dataset': 'cifar10',\n",
    "    'gpu': 0,\n",
    "    'iid': 0,\n",
    "    'epochs': 100,\n",
    "    'optimizer': 'sgd',\n",
    "    'seed': 0,\n",
    "    'norm': 'groupnorm',\n",
    "    'num_users': 50,\n",
    "    'frac': 0.2,\n",
    "    'local_ep': 10, \n",
    "    'local_bs': 32,\n",
    "    'lr': 0.01,\n",
    "    'momentum': 1,\n",
    "    'kernel_num': 9,\n",
    "    'kernel_sizes': 'no_centering',\n",
    "    'num_channnels': '1',\n",
    "    'num_filters': 32,\n",
    "    'max_pool': 'True',\n",
    "    'num_classes': 10,\n",
    "    'unequal': 0,\n",
    "    'stopping_rounds': 0,\n",
    "    'verbose': 0,\n",
    "    'hold_normalize': 0,\n",
    "    'save_path': '../save/checkpoint',\n",
    "    'exp_folder': 'ConvNet_1223',\n",
    "    'resume': None,\n",
    "    'server_opt': 'sgd',\n",
    "    'server_lr': 1.0,\n",
    "    'client_decay':0,\n",
    "    'local_decay':0,\n",
    "    'alpha': 0.05,\n",
    "    'server_epoch':0,\n",
    "    'cosine_norm':1, \n",
    "    'only_fc' :0 ,\n",
    "    'loss':'bsm',\n",
    "    'dc_lr':0.0,\n",
    "    'tsne_pred':0,\n",
    "    'pruning': 0.0 })\n",
    "\n",
    "#zero-centering-classifier\n",
    "    \n",
    "temp = main_test(args)\n",
    "total.append(temp)"
   ]
  },
  {
   "cell_type": "code",
   "execution_count": 5,
   "id": "coordinated-marker",
   "metadata": {},
   "outputs": [
    {
     "name": "stderr",
     "output_type": "stream",
     "text": [
      "INFO:root:{'model': 'ConvNet', 'dataset': 'cifar10', 'gpu': 0, 'iid': 0, 'epochs': 100, 'optimizer': 'sgd', 'seed': 0, 'norm': 'groupnorm', 'num_users': 50, 'frac': 0.2, 'local_ep': 10, 'local_bs': 32, 'lr': 0.01, 'momentum': 1, 'kernel_num': 9, 'kernel_sizes': 'no_centering', 'num_channnels': '1', 'num_filters': 32, 'max_pool': 'True', 'num_classes': 10, 'unequal': 0, 'stopping_rounds': 0, 'verbose': 0, 'hold_normalize': 0, 'save_path': '../save/checkpoint/ConvNet_1223', 'exp_folder': 'ConvNet_1223', 'resume': None, 'server_opt': 'sgdm', 'server_lr': 1.0, 'client_decay': 0, 'local_decay': 0, 'alpha': 0.05, 'server_epoch': 0, 'cosine_norm': 1, 'only_fc': 0, 'loss': 'bsm', 'dc_lr': 0.0, 'tsne_pred': 0, 'pruning': 0.0}\n"
     ]
    },
    {
     "name": "stdout",
     "output_type": "stream",
     "text": [
      "Files already downloaded and verified\n",
      "Files already downloaded and verified\n",
      "Files already downloaded and verified\n"
     ]
    },
    {
     "name": "stderr",
     "output_type": "stream",
     "text": [
      "INFO:root:ConvNet(\n",
      "  (net_act): ReLU(inplace=True)\n",
      "  (net_pooling): MaxPool2d(kernel_size=2, stride=2, padding=0, dilation=1, ceil_mode=False)\n",
      "  (features): Sequential(\n",
      "    (0): Conv2d(3, 128, kernel_size=(3, 3), stride=(1, 1), padding=(1, 1))\n",
      "    (1): GroupNorm(2, 128, eps=1e-05, affine=True)\n",
      "    (2): ReLU(inplace=True)\n",
      "    (3): MaxPool2d(kernel_size=2, stride=2, padding=0, dilation=1, ceil_mode=False)\n",
      "    (4): Conv2d(128, 128, kernel_size=(3, 3), stride=(1, 1), padding=(1, 1))\n",
      "    (5): GroupNorm(2, 128, eps=1e-05, affine=True)\n",
      "    (6): ReLU(inplace=True)\n",
      "    (7): MaxPool2d(kernel_size=2, stride=2, padding=0, dilation=1, ceil_mode=False)\n",
      "    (8): Conv2d(128, 128, kernel_size=(3, 3), stride=(1, 1), padding=(1, 1))\n",
      "    (9): GroupNorm(2, 128, eps=1e-05, affine=True)\n",
      "    (10): ReLU(inplace=True)\n",
      "    (11): MaxPool2d(kernel_size=2, stride=2, padding=0, dilation=1, ceil_mode=False)\n",
      "  )\n",
      "  (classifier): ZeroMean_Classifier()\n",
      ")\n",
      "INFO:root:None\n",
      "  0%|          | 0/100 [00:00<?, ?it/s]"
     ]
    },
    {
     "name": "stdout",
     "output_type": "stream",
     "text": [
      "----------------------------------------------------------------\n",
      "        Layer (type)               Output Shape         Param #\n",
      "================================================================\n",
      "            Conv2d-1          [-1, 128, 32, 32]           3,584\n",
      "         GroupNorm-2          [-1, 128, 32, 32]             256\n",
      "              ReLU-3          [-1, 128, 32, 32]               0\n",
      "              ReLU-4          [-1, 128, 32, 32]               0\n",
      "         MaxPool2d-5          [-1, 128, 16, 16]               0\n",
      "         MaxPool2d-6          [-1, 128, 16, 16]               0\n",
      "            Conv2d-7          [-1, 128, 16, 16]         147,584\n",
      "         GroupNorm-8          [-1, 128, 16, 16]             256\n",
      "              ReLU-9          [-1, 128, 16, 16]               0\n",
      "             ReLU-10          [-1, 128, 16, 16]               0\n",
      "        MaxPool2d-11            [-1, 128, 8, 8]               0\n",
      "        MaxPool2d-12            [-1, 128, 8, 8]               0\n",
      "           Conv2d-13            [-1, 128, 8, 8]         147,584\n",
      "        GroupNorm-14            [-1, 128, 8, 8]             256\n",
      "             ReLU-15            [-1, 128, 8, 8]               0\n",
      "             ReLU-16            [-1, 128, 8, 8]               0\n",
      "        MaxPool2d-17            [-1, 128, 4, 4]               0\n",
      "        MaxPool2d-18            [-1, 128, 4, 4]               0\n",
      "ZeroMean_Classifier-19                   [-1, 10]          20,490\n",
      "================================================================\n",
      "Total params: 320,010\n",
      "Trainable params: 320,010\n",
      "Non-trainable params: 0\n",
      "----------------------------------------------------------------\n",
      "Input size (MB): 0.01\n",
      "Forward/backward pass size (MB): 5.91\n",
      "Params size (MB): 1.22\n",
      "Estimated Total Size (MB): 7.14\n",
      "----------------------------------------------------------------\n",
      "[209, 1756, 422, 2575, 1018, 602, 2274, 447, 744, 1112, 123, 87, 1433, 1416, 40, 1119, 796, 794, 327, 470, 231, 813, 1320, 542, 690, 2195, 2934, 106, 1012, 15, 278, 1798, 303, 590, 2029, 201, 1053, 862, 231, 116, 4600, 19, 286, 1736, 2430, 431, 3195, 1780, 173, 267]\n",
      "[470, 2934, 201, 231, 2575, 744, 15, 123, 1119, 4600]\n"
     ]
    },
    {
     "name": "stderr",
     "output_type": "stream",
     "text": [
      "INFO:root: \n",
      "Avg Training Stats after 1 global rounds:\n",
      "INFO:root:Train Accuracy: 0.00%\n",
      "INFO:root:Training Loss : 0.23109070241245805\n",
      "INFO:root:Test Accuracy: 26.29%\n",
      "INFO:root:Test Loss: 2.110973553657532 \n",
      "\n",
      "  1%|          | 1/100 [00:47<1:17:50, 47.17s/it]"
     ]
    },
    {
     "name": "stdout",
     "output_type": "stream",
     "text": [
      "[231, 173, 2575, 1736, 2430, 123, 4600, 690, 1012, 447]\n"
     ]
    },
    {
     "name": "stderr",
     "output_type": "stream",
     "text": [
      "INFO:root: \n",
      "Avg Training Stats after 2 global rounds:\n",
      "INFO:root:Train Accuracy: 0.00%\n",
      "INFO:root:Training Loss : 0.33893617986485486\n",
      "INFO:root:Test Accuracy: 30.06%\n",
      "INFO:root:Test Loss: 2.1163330525159836 \n",
      "\n",
      "  2%|▏         | 2/100 [01:36<1:19:05, 48.42s/it]"
     ]
    },
    {
     "name": "stdout",
     "output_type": "stream",
     "text": [
      "[744, 2575, 1320, 470, 2430, 2274, 267, 690, 209, 303]\n"
     ]
    },
    {
     "name": "stderr",
     "output_type": "stream",
     "text": [
      "INFO:root: \n",
      "Avg Training Stats after 3 global rounds:\n",
      "INFO:root:Train Accuracy: 0.00%\n",
      "INFO:root:Training Loss : 0.21608848683872917\n",
      "INFO:root:Test Accuracy: 28.96%\n",
      "INFO:root:Test Loss: 2.346337207108736 \n",
      "\n",
      "  3%|▎         | 3/100 [02:19<1:14:28, 46.07s/it]"
     ]
    },
    {
     "name": "stdout",
     "output_type": "stream",
     "text": [
      "[173, 690, 542, 1012, 2195, 1780, 1053, 87, 2934, 1736]\n"
     ]
    },
    {
     "name": "stderr",
     "output_type": "stream",
     "text": [
      "INFO:root: \n",
      "Avg Training Stats after 4 global rounds:\n",
      "INFO:root:Train Accuracy: 0.00%\n",
      "INFO:root:Training Loss : 0.3391608949416148\n",
      "INFO:root:Test Accuracy: 29.38%\n",
      "INFO:root:Test Loss: 2.451189277097583 \n",
      "\n",
      "  4%|▍         | 4/100 [03:04<1:13:11, 45.75s/it]"
     ]
    },
    {
     "name": "stdout",
     "output_type": "stream",
     "text": [
      "[2430, 2575, 1736, 123, 15, 1780, 1018, 231, 87, 794]\n"
     ]
    },
    {
     "name": "stderr",
     "output_type": "stream",
     "text": [
      "INFO:root: \n",
      "Avg Training Stats after 5 global rounds:\n",
      "INFO:root:Train Accuracy: 0.00%\n",
      "INFO:root:Training Loss : 0.2089257791241038\n",
      "INFO:root:Test Accuracy: 34.68%\n",
      "INFO:root:Test Loss: 2.2461145935207605 \n",
      "\n",
      "  5%|▌         | 5/100 [03:46<1:10:15, 44.37s/it]"
     ]
    },
    {
     "name": "stdout",
     "output_type": "stream",
     "text": [
      "[1119, 87, 590, 794, 813, 303, 1320, 690, 1018, 422]\n"
     ]
    },
    {
     "name": "stderr",
     "output_type": "stream",
     "text": [
      "INFO:root: \n",
      "Avg Training Stats after 6 global rounds:\n",
      "INFO:root:Train Accuracy: 0.00%\n",
      "INFO:root:Training Loss : 0.14967380355683874\n",
      "INFO:root:Test Accuracy: 40.62%\n",
      "INFO:root:Test Loss: 2.057306372076273 \n",
      "\n",
      "  6%|▌         | 6/100 [04:21<1:04:03, 40.89s/it]"
     ]
    },
    {
     "name": "stdout",
     "output_type": "stream",
     "text": [
      "[2029, 1433, 303, 327, 744, 862, 2934, 231, 1416, 278]\n"
     ]
    },
    {
     "name": "stderr",
     "output_type": "stream",
     "text": [
      "INFO:root: \n",
      "Avg Training Stats after 7 global rounds:\n",
      "INFO:root:Train Accuracy: 0.00%\n",
      "INFO:root:Training Loss : 0.24988913406725013\n",
      "INFO:root:Test Accuracy: 44.05%\n",
      "INFO:root:Test Loss: 1.9634549242258073 \n",
      "\n",
      "  7%|▋         | 7/100 [05:02<1:03:43, 41.11s/it]"
     ]
    },
    {
     "name": "stdout",
     "output_type": "stream",
     "text": [
      "[231, 1112, 327, 744, 286, 422, 15, 1798, 1053, 173]\n"
     ]
    },
    {
     "name": "stderr",
     "output_type": "stream",
     "text": [
      "INFO:root: \n",
      "Avg Training Stats after 8 global rounds:\n",
      "INFO:root:Train Accuracy: 0.00%\n",
      "INFO:root:Training Loss : 0.2487976749961347\n",
      "INFO:root:Test Accuracy: 45.98%\n",
      "INFO:root:Test Loss: 1.7860430306196213 \n",
      "\n",
      "  8%|▊         | 8/100 [05:34<58:36, 38.22s/it]  "
     ]
    },
    {
     "name": "stdout",
     "output_type": "stream",
     "text": [
      "[794, 278, 744, 862, 303, 19, 2274, 1053, 813, 1012]\n"
     ]
    },
    {
     "name": "stderr",
     "output_type": "stream",
     "text": [
      "INFO:root: \n",
      "Avg Training Stats after 9 global rounds:\n",
      "INFO:root:Train Accuracy: 0.00%\n",
      "INFO:root:Training Loss : 0.12436830634154243\n",
      "INFO:root:Test Accuracy: 50.49%\n",
      "INFO:root:Test Loss: 1.5520921376347543 \n",
      "\n",
      "  9%|▉         | 9/100 [06:10<57:02, 37.60s/it]"
     ]
    },
    {
     "name": "stdout",
     "output_type": "stream",
     "text": [
      "[1320, 40, 1756, 470, 327, 1012, 862, 1433, 796, 231]\n"
     ]
    },
    {
     "name": "stderr",
     "output_type": "stream",
     "text": [
      "INFO:root: \n",
      "Avg Training Stats after 10 global rounds:\n",
      "INFO:root:Train Accuracy: 0.00%\n",
      "INFO:root:Training Loss : 0.11398549817824521\n",
      "INFO:root:Test Accuracy: 53.32%\n",
      "INFO:root:Test Loss: 1.4713103058934212 \n",
      "\n",
      " 10%|█         | 10/100 [06:47<55:49, 37.21s/it]"
     ]
    },
    {
     "name": "stdout",
     "output_type": "stream",
     "text": [
      "[87, 201, 1798, 813, 123, 2934, 1756, 231, 1053, 4600]\n"
     ]
    },
    {
     "name": "stderr",
     "output_type": "stream",
     "text": [
      "INFO:root: \n",
      "Avg Training Stats after 11 global rounds:\n",
      "INFO:root:Train Accuracy: 0.00%\n",
      "INFO:root:Training Loss : 0.14759696035657502\n",
      "INFO:root:Test Accuracy: 54.82%\n",
      "INFO:root:Test Loss: 1.4125219231843948 \n",
      "\n",
      " 11%|█         | 11/100 [07:35<1:00:09, 40.56s/it]"
     ]
    },
    {
     "name": "stdout",
     "output_type": "stream",
     "text": [
      "[106, 231, 447, 796, 209, 1798, 1112, 1416, 590, 794]\n"
     ]
    },
    {
     "name": "stderr",
     "output_type": "stream",
     "text": [
      "INFO:root: \n",
      "Avg Training Stats after 12 global rounds:\n",
      "INFO:root:Train Accuracy: 0.00%\n",
      "INFO:root:Training Loss : 0.10280918318077845\n",
      "INFO:root:Test Accuracy: 55.37%\n",
      "INFO:root:Test Loss: 1.3500068762898445 \n",
      "\n",
      " 12%|█▏        | 12/100 [08:10<56:55, 38.81s/it]  "
     ]
    },
    {
     "name": "stdout",
     "output_type": "stream",
     "text": [
      "[1320, 278, 862, 2274, 1798, 87, 2029, 796, 1018, 2430]\n"
     ]
    },
    {
     "name": "stderr",
     "output_type": "stream",
     "text": [
      "INFO:root: \n",
      "Avg Training Stats after 13 global rounds:\n",
      "INFO:root:Train Accuracy: 0.00%\n",
      "INFO:root:Training Loss : 0.11204618190035634\n",
      "INFO:root:Test Accuracy: 55.91%\n",
      "INFO:root:Test Loss: 1.32958423525095 \n",
      "\n",
      " 13%|█▎        | 13/100 [08:57<59:50, 41.27s/it]"
     ]
    },
    {
     "name": "stdout",
     "output_type": "stream",
     "text": [
      "[4600, 2575, 590, 173, 2430, 40, 1112, 87, 231, 2195]\n"
     ]
    },
    {
     "name": "stderr",
     "output_type": "stream",
     "text": [
      "INFO:root: \n",
      "Avg Training Stats after 14 global rounds:\n",
      "INFO:root:Train Accuracy: 0.00%\n",
      "INFO:root:Training Loss : 0.15817627520081748\n",
      "INFO:root:Test Accuracy: 56.39%\n",
      "INFO:root:Test Loss: 1.2970827624201775 \n",
      "\n",
      " 14%|█▍        | 14/100 [09:46<1:02:40, 43.73s/it]"
     ]
    },
    {
     "name": "stdout",
     "output_type": "stream",
     "text": [
      "[231, 794, 1018, 1012, 15, 303, 796, 2274, 1320, 19]\n"
     ]
    },
    {
     "name": "stderr",
     "output_type": "stream",
     "text": [
      "INFO:root: \n",
      "Avg Training Stats after 15 global rounds:\n",
      "INFO:root:Train Accuracy: 0.00%\n",
      "INFO:root:Training Loss : 0.09157837455817255\n",
      "INFO:root:Test Accuracy: 56.45%\n",
      "INFO:root:Test Loss: 1.2955442076921464 \n",
      "\n",
      " 15%|█▌        | 15/100 [10:22<58:26, 41.26s/it]  "
     ]
    },
    {
     "name": "stdout",
     "output_type": "stream",
     "text": [
      "[2195, 40, 2029, 862, 2575, 1433, 447, 19, 4600, 796]\n"
     ]
    },
    {
     "name": "stderr",
     "output_type": "stream",
     "text": [
      "INFO:root: \n",
      "Avg Training Stats after 16 global rounds:\n",
      "INFO:root:Train Accuracy: 0.00%\n",
      "INFO:root:Training Loss : 0.10834620656458056\n",
      "INFO:root:Test Accuracy: 57.13%\n",
      "INFO:root:Test Loss: 1.2721526783704757 \n",
      "\n",
      " 16%|█▌        | 16/100 [11:13<1:02:06, 44.37s/it]"
     ]
    },
    {
     "name": "stdout",
     "output_type": "stream",
     "text": [
      "[231, 173, 303, 2274, 796, 116, 1798, 447, 106, 1433]\n"
     ]
    },
    {
     "name": "stderr",
     "output_type": "stream",
     "text": [
      "INFO:root: \n",
      "Avg Training Stats after 17 global rounds:\n",
      "INFO:root:Train Accuracy: 0.00%\n",
      "INFO:root:Training Loss : 0.09421007259014016\n",
      "INFO:root:Test Accuracy: 57.71%\n",
      "INFO:root:Test Loss: 1.2676569896936416 \n",
      "\n",
      " 17%|█▋        | 17/100 [11:49<57:37, 41.66s/it]  "
     ]
    },
    {
     "name": "stdout",
     "output_type": "stream",
     "text": [
      "[201, 1756, 796, 1320, 813, 542, 116, 173, 794, 1798]\n"
     ]
    },
    {
     "name": "stderr",
     "output_type": "stream",
     "text": [
      "INFO:root: \n",
      "Avg Training Stats after 18 global rounds:\n",
      "INFO:root:Train Accuracy: 0.00%\n",
      "INFO:root:Training Loss : 0.13541614963615767\n",
      "INFO:root:Test Accuracy: 58.53%\n",
      "INFO:root:Test Loss: 1.2454186105728149 \n",
      "\n",
      " 18%|█▊        | 18/100 [12:25<54:55, 40.19s/it]"
     ]
    },
    {
     "name": "stdout",
     "output_type": "stream",
     "text": [
      "[15, 1780, 19, 744, 2575, 173, 813, 40, 1320, 422]\n"
     ]
    },
    {
     "name": "stderr",
     "output_type": "stream",
     "text": [
      "INFO:root: \n",
      "Avg Training Stats after 19 global rounds:\n",
      "INFO:root:Train Accuracy: 0.00%\n",
      "INFO:root:Training Loss : 0.14460725487343934\n",
      "INFO:root:Test Accuracy: 60.49%\n",
      "INFO:root:Test Loss: 1.1746885541081429 \n",
      "\n",
      " 19%|█▉        | 19/100 [13:01<52:23, 38.80s/it]"
     ]
    },
    {
     "name": "stdout",
     "output_type": "stream",
     "text": [
      "[813, 1736, 15, 1433, 267, 470, 3195, 744, 2575, 231]\n"
     ]
    },
    {
     "name": "stderr",
     "output_type": "stream",
     "text": [
      "INFO:root: \n",
      "Avg Training Stats after 20 global rounds:\n",
      "INFO:root:Train Accuracy: 0.00%\n",
      "INFO:root:Training Loss : 0.10788669898469735\n",
      "INFO:root:Test Accuracy: 60.41%\n",
      "INFO:root:Test Loss: 1.1690815076231957 \n",
      "\n",
      " 20%|██        | 20/100 [13:44<53:38, 40.23s/it]"
     ]
    },
    {
     "name": "stdout",
     "output_type": "stream",
     "text": [
      "[278, 744, 1053, 447, 1320, 116, 1798, 19, 4600, 3195]\n"
     ]
    },
    {
     "name": "stderr",
     "output_type": "stream",
     "text": [
      "INFO:root: \n",
      "Avg Training Stats after 21 global rounds:\n",
      "INFO:root:Train Accuracy: 0.00%\n",
      "INFO:root:Training Loss : 0.1310706527639513\n",
      "INFO:root:Test Accuracy: 60.51%\n",
      "INFO:root:Test Loss: 1.1713549172878266 \n",
      "\n",
      " 21%|██        | 21/100 [14:33<56:18, 42.76s/it]"
     ]
    },
    {
     "name": "stdout",
     "output_type": "stream",
     "text": [
      "[813, 2029, 602, 590, 1756, 106, 1780, 40, 19, 2934]\n"
     ]
    },
    {
     "name": "stderr",
     "output_type": "stream",
     "text": [
      "INFO:root: \n",
      "Avg Training Stats after 22 global rounds:\n",
      "INFO:root:Train Accuracy: 0.00%\n",
      "INFO:root:Training Loss : 0.06621911692504664\n",
      "INFO:root:Test Accuracy: 60.71%\n",
      "INFO:root:Test Loss: 1.1728839734196663 \n",
      "\n",
      " 22%|██▏       | 22/100 [15:15<55:13, 42.48s/it]"
     ]
    },
    {
     "name": "stdout",
     "output_type": "stream",
     "text": [
      "[40, 862, 327, 1780, 2274, 106, 1053, 1112, 1012, 3195]\n"
     ]
    },
    {
     "name": "stderr",
     "output_type": "stream",
     "text": [
      "INFO:root: \n",
      "Avg Training Stats after 23 global rounds:\n",
      "INFO:root:Train Accuracy: 0.00%\n",
      "INFO:root:Training Loss : 0.13646235120638403\n",
      "INFO:root:Test Accuracy: 59.62%\n",
      "INFO:root:Test Loss: 1.2215448874235153 \n",
      "\n",
      " 23%|██▎       | 23/100 [15:59<55:12, 43.02s/it]"
     ]
    },
    {
     "name": "stdout",
     "output_type": "stream",
     "text": [
      "[1320, 1119, 862, 744, 1053, 87, 201, 470, 2274, 1012]\n"
     ]
    },
    {
     "name": "stderr",
     "output_type": "stream",
     "text": [
      "INFO:root: \n",
      "Avg Training Stats after 24 global rounds:\n",
      "INFO:root:Train Accuracy: 0.00%\n",
      "INFO:root:Training Loss : 0.111422342720857\n",
      "INFO:root:Test Accuracy: 58.61%\n",
      "INFO:root:Test Loss: 1.28097731128335 \n",
      "\n",
      " 24%|██▍       | 24/100 [16:38<52:47, 41.68s/it]"
     ]
    },
    {
     "name": "stdout",
     "output_type": "stream",
     "text": [
      "[447, 286, 1416, 87, 796, 1798, 231, 1119, 431, 2195]\n"
     ]
    },
    {
     "name": "stderr",
     "output_type": "stream",
     "text": [
      "INFO:root: \n",
      "Avg Training Stats after 25 global rounds:\n",
      "INFO:root:Train Accuracy: 0.00%\n",
      "INFO:root:Training Loss : 0.14340277051417227\n",
      "INFO:root:Test Accuracy: 60.78%\n",
      "INFO:root:Test Loss: 1.195154612660408 \n",
      "\n",
      " 25%|██▌       | 25/100 [17:15<50:37, 40.50s/it]"
     ]
    },
    {
     "name": "stdout",
     "output_type": "stream",
     "text": [
      "[116, 2029, 690, 1416, 1780, 602, 2575, 1756, 431, 87]\n"
     ]
    },
    {
     "name": "stderr",
     "output_type": "stream",
     "text": [
      "INFO:root: \n",
      "Avg Training Stats after 26 global rounds:\n",
      "INFO:root:Train Accuracy: 0.00%\n",
      "INFO:root:Training Loss : 0.1441433958543892\n",
      "INFO:root:Test Accuracy: 62.67%\n",
      "INFO:root:Test Loss: 1.117017166018486 \n",
      "\n",
      " 26%|██▌       | 26/100 [17:59<51:08, 41.46s/it]"
     ]
    },
    {
     "name": "stdout",
     "output_type": "stream",
     "text": [
      "[87, 173, 2029, 19, 4600, 2195, 116, 303, 40, 209]\n"
     ]
    },
    {
     "name": "stderr",
     "output_type": "stream",
     "text": [
      "INFO:root: \n",
      "Avg Training Stats after 27 global rounds:\n",
      "INFO:root:Train Accuracy: 0.00%\n",
      "INFO:root:Training Loss : 0.14561245201821232\n",
      "INFO:root:Test Accuracy: 63.31%\n",
      "INFO:root:Test Loss: 1.089946347475052 \n",
      "\n",
      " 27%|██▋       | 27/100 [18:39<49:54, 41.02s/it]"
     ]
    },
    {
     "name": "stdout",
     "output_type": "stream",
     "text": [
      "[4600, 267, 794, 231, 201, 231, 2934, 590, 470, 173]\n"
     ]
    },
    {
     "name": "stderr",
     "output_type": "stream",
     "text": [
      "INFO:root: \n",
      "Avg Training Stats after 28 global rounds:\n",
      "INFO:root:Train Accuracy: 0.00%\n",
      "INFO:root:Training Loss : 0.14089963267915412\n",
      "INFO:root:Test Accuracy: 62.36%\n",
      "INFO:root:Test Loss: 1.1214929506182671 \n",
      "\n",
      " 28%|██▊       | 28/100 [19:21<49:27, 41.22s/it]"
     ]
    },
    {
     "name": "stdout",
     "output_type": "stream",
     "text": [
      "[1798, 286, 123, 1112, 303, 796, 744, 1320, 231, 794]\n"
     ]
    },
    {
     "name": "stderr",
     "output_type": "stream",
     "text": [
      "INFO:root: \n",
      "Avg Training Stats after 29 global rounds:\n",
      "INFO:root:Train Accuracy: 0.00%\n",
      "INFO:root:Training Loss : 0.056803687881858175\n",
      "INFO:root:Test Accuracy: 59.26%\n",
      "INFO:root:Test Loss: 1.233293921649456 \n",
      "\n",
      " 29%|██▉       | 29/100 [19:56<46:28, 39.28s/it]"
     ]
    },
    {
     "name": "stdout",
     "output_type": "stream",
     "text": [
      "[303, 4600, 1119, 447, 744, 40, 1756, 2430, 2029, 602]\n"
     ]
    },
    {
     "name": "stderr",
     "output_type": "stream",
     "text": [
      "INFO:root: \n",
      "Avg Training Stats after 30 global rounds:\n",
      "INFO:root:Train Accuracy: 0.00%\n",
      "INFO:root:Training Loss : 0.0596719617912025\n",
      "INFO:root:Test Accuracy: 58.38%\n",
      "INFO:root:Test Loss: 1.2954249039292336 \n",
      "\n",
      " 30%|███       | 30/100 [20:45<49:28, 42.40s/it]"
     ]
    },
    {
     "name": "stdout",
     "output_type": "stream",
     "text": [
      "[422, 3195, 1112, 327, 123, 1736, 303, 286, 106, 1433]\n"
     ]
    },
    {
     "name": "stderr",
     "output_type": "stream",
     "text": [
      "INFO:root: \n",
      "Avg Training Stats after 31 global rounds:\n",
      "INFO:root:Train Accuracy: 0.00%\n",
      "INFO:root:Training Loss : 0.11091048756715005\n",
      "INFO:root:Test Accuracy: 58.02%\n",
      "INFO:root:Test Loss: 1.3627525992691516 \n",
      "\n",
      " 31%|███       | 31/100 [21:23<47:14, 41.09s/it]"
     ]
    },
    {
     "name": "stdout",
     "output_type": "stream",
     "text": [
      "[862, 173, 422, 303, 123, 1012, 542, 278, 431, 2195]\n"
     ]
    },
    {
     "name": "stderr",
     "output_type": "stream",
     "text": [
      "INFO:root: \n",
      "Avg Training Stats after 32 global rounds:\n",
      "INFO:root:Train Accuracy: 0.00%\n",
      "INFO:root:Training Loss : 0.18095758811803847\n",
      "INFO:root:Test Accuracy: 59.79%\n",
      "INFO:root:Test Loss: 1.2765788730978966 \n",
      "\n",
      " 32%|███▏      | 32/100 [21:56<43:35, 38.46s/it]"
     ]
    },
    {
     "name": "stdout",
     "output_type": "stream",
     "text": [
      "[1320, 15, 19, 1756, 231, 470, 267, 87, 862, 327]\n"
     ]
    },
    {
     "name": "stderr",
     "output_type": "stream",
     "text": [
      "INFO:root: \n",
      "Avg Training Stats after 33 global rounds:\n",
      "INFO:root:Train Accuracy: 0.00%\n",
      "INFO:root:Training Loss : 0.1536269754422706\n",
      "INFO:root:Test Accuracy: 59.85%\n",
      "INFO:root:Test Loss: 1.2770592454075813 \n",
      "\n",
      " 33%|███▎      | 33/100 [22:26<40:08, 35.94s/it]"
     ]
    },
    {
     "name": "stdout",
     "output_type": "stream",
     "text": [
      "[87, 267, 796, 1053, 1433, 2575, 1119, 794, 15, 327]\n"
     ]
    },
    {
     "name": "stderr",
     "output_type": "stream",
     "text": [
      "INFO:root: \n",
      "Avg Training Stats after 34 global rounds:\n",
      "INFO:root:Train Accuracy: 0.00%\n",
      "INFO:root:Training Loss : 0.11793325679684707\n",
      "INFO:root:Test Accuracy: 58.29%\n",
      "INFO:root:Test Loss: 1.3059922832250594 \n",
      "\n",
      " 34%|███▍      | 34/100 [23:02<39:48, 36.19s/it]"
     ]
    },
    {
     "name": "stdout",
     "output_type": "stream",
     "text": [
      "[422, 1798, 590, 796, 19, 1320, 173, 1416, 1053, 4600]\n"
     ]
    },
    {
     "name": "stderr",
     "output_type": "stream",
     "text": [
      "INFO:root: \n",
      "Avg Training Stats after 35 global rounds:\n",
      "INFO:root:Train Accuracy: 0.00%\n",
      "INFO:root:Training Loss : 0.13640466491523634\n",
      "INFO:root:Test Accuracy: 61.73%\n",
      "INFO:root:Test Loss: 1.1553394678235054 \n",
      "\n",
      " 35%|███▌      | 35/100 [23:48<42:07, 38.89s/it]"
     ]
    },
    {
     "name": "stdout",
     "output_type": "stream",
     "text": [
      "[2430, 1320, 602, 3195, 231, 2934, 431, 794, 1416, 542]\n"
     ]
    },
    {
     "name": "stderr",
     "output_type": "stream",
     "text": [
      "INFO:root: \n",
      "Avg Training Stats after 36 global rounds:\n",
      "INFO:root:Train Accuracy: 0.00%\n",
      "INFO:root:Training Loss : 0.10529811602729242\n",
      "INFO:root:Test Accuracy: 63.33%\n",
      "INFO:root:Test Loss: 1.150259032547474 \n",
      "\n",
      " 36%|███▌      | 36/100 [24:37<44:45, 41.96s/it]"
     ]
    },
    {
     "name": "stdout",
     "output_type": "stream",
     "text": [
      "[15, 813, 1112, 123, 40, 796, 2274, 1018, 2195, 201]\n"
     ]
    },
    {
     "name": "stderr",
     "output_type": "stream",
     "text": [
      "INFO:root: \n",
      "Avg Training Stats after 37 global rounds:\n",
      "INFO:root:Train Accuracy: 0.00%\n",
      "INFO:root:Training Loss : 0.08864059238944455\n",
      "INFO:root:Test Accuracy: 63.36%\n",
      "INFO:root:Test Loss: 1.1929015085101127 \n",
      "\n",
      " 37%|███▋      | 37/100 [25:14<42:29, 40.47s/it]"
     ]
    },
    {
     "name": "stdout",
     "output_type": "stream",
     "text": [
      "[303, 2195, 422, 1112, 1433, 116, 796, 602, 1756, 231]\n"
     ]
    },
    {
     "name": "stderr",
     "output_type": "stream",
     "text": [
      "INFO:root: \n",
      "Avg Training Stats after 38 global rounds:\n",
      "INFO:root:Train Accuracy: 0.00%\n",
      "INFO:root:Training Loss : 0.10985248214738094\n",
      "INFO:root:Test Accuracy: 61.62%\n",
      "INFO:root:Test Loss: 1.3016936503350736 \n",
      "\n",
      " 38%|███▊      | 38/100 [25:52<41:02, 39.71s/it]"
     ]
    },
    {
     "name": "stdout",
     "output_type": "stream",
     "text": [
      "[1756, 231, 267, 2430, 590, 1736, 15, 4600, 327, 1112]\n"
     ]
    },
    {
     "name": "stderr",
     "output_type": "stream",
     "text": [
      "INFO:root: \n",
      "Avg Training Stats after 39 global rounds:\n",
      "INFO:root:Train Accuracy: 0.00%\n",
      "INFO:root:Training Loss : 0.10806040967882638\n",
      "INFO:root:Test Accuracy: 62.75%\n",
      "INFO:root:Test Loss: 1.2906245377659797 \n",
      "\n",
      " 39%|███▉      | 39/100 [26:40<42:50, 42.13s/it]"
     ]
    },
    {
     "name": "stdout",
     "output_type": "stream",
     "text": [
      "[2575, 422, 3195, 862, 231, 796, 2934, 123, 2430, 794]\n"
     ]
    },
    {
     "name": "stderr",
     "output_type": "stream",
     "text": [
      "INFO:root: \n",
      "Avg Training Stats after 40 global rounds:\n",
      "INFO:root:Train Accuracy: 0.00%\n",
      "INFO:root:Training Loss : 0.09394445391709126\n",
      "INFO:root:Test Accuracy: 64.81%\n",
      "INFO:root:Test Loss: 1.1796294744312763 \n",
      "\n",
      " 40%|████      | 40/100 [27:30<44:32, 44.55s/it]"
     ]
    },
    {
     "name": "stdout",
     "output_type": "stream",
     "text": [
      "[231, 1119, 1736, 278, 447, 1018, 286, 744, 690, 173]\n"
     ]
    },
    {
     "name": "stderr",
     "output_type": "stream",
     "text": [
      "INFO:root: \n",
      "Avg Training Stats after 41 global rounds:\n",
      "INFO:root:Train Accuracy: 0.00%\n",
      "INFO:root:Training Loss : 0.11457869449889602\n",
      "INFO:root:Test Accuracy: 64.67%\n",
      "INFO:root:Test Loss: 1.1525928795337677 \n",
      "\n",
      " 41%|████      | 41/100 [28:03<40:23, 41.07s/it]"
     ]
    },
    {
     "name": "stdout",
     "output_type": "stream",
     "text": [
      "[231, 1320, 1416, 2575, 2274, 862, 690, 602, 1012, 173]\n"
     ]
    },
    {
     "name": "stderr",
     "output_type": "stream",
     "text": [
      "INFO:root: \n",
      "Avg Training Stats after 42 global rounds:\n",
      "INFO:root:Train Accuracy: 0.00%\n",
      "INFO:root:Training Loss : 0.1139990280640506\n",
      "INFO:root:Test Accuracy: 63.73%\n",
      "INFO:root:Test Loss: 1.1719073465466499 \n",
      "\n",
      " 42%|████▏     | 42/100 [28:46<40:15, 41.65s/it]"
     ]
    },
    {
     "name": "stdout",
     "output_type": "stream",
     "text": [
      "[1112, 1053, 3195, 2934, 2029, 201, 123, 2195, 1018, 173]\n"
     ]
    },
    {
     "name": "stderr",
     "output_type": "stream",
     "text": [
      "INFO:root: \n",
      "Avg Training Stats after 43 global rounds:\n",
      "INFO:root:Train Accuracy: 0.00%\n",
      "INFO:root:Training Loss : 0.13235447434229486\n",
      "INFO:root:Test Accuracy: 62.84%\n",
      "INFO:root:Test Loss: 1.1958062130212783 \n",
      "\n",
      " 43%|████▎     | 43/100 [29:35<41:46, 43.97s/it]"
     ]
    },
    {
     "name": "stdout",
     "output_type": "stream",
     "text": [
      "[862, 1053, 422, 3195, 4600, 794, 1756, 173, 2029, 1018]\n"
     ]
    },
    {
     "name": "stderr",
     "output_type": "stream",
     "text": [
      "INFO:root: \n",
      "Avg Training Stats after 44 global rounds:\n",
      "INFO:root:Train Accuracy: 0.00%\n",
      "INFO:root:Training Loss : 0.1221017291884093\n",
      "INFO:root:Test Accuracy: 66.40%\n",
      "INFO:root:Test Loss: 1.0560092863440513 \n",
      "\n",
      " 44%|████▍     | 44/100 [30:29<43:50, 46.97s/it]"
     ]
    },
    {
     "name": "stdout",
     "output_type": "stream",
     "text": [
      "[1320, 2934, 796, 2195, 862, 2575, 2029, 19, 422, 286]\n"
     ]
    },
    {
     "name": "stderr",
     "output_type": "stream",
     "text": [
      "INFO:root: \n",
      "Avg Training Stats after 45 global rounds:\n",
      "INFO:root:Train Accuracy: 0.00%\n",
      "INFO:root:Training Loss : 0.07710156778948415\n",
      "INFO:root:Test Accuracy: 67.22%\n",
      "INFO:root:Test Loss: 1.0247410127520562 \n",
      "\n",
      " 45%|████▌     | 45/100 [31:17<43:20, 47.29s/it]"
     ]
    },
    {
     "name": "stdout",
     "output_type": "stream",
     "text": [
      "[862, 744, 1416, 1112, 590, 542, 278, 690, 116, 1780]\n"
     ]
    },
    {
     "name": "stderr",
     "output_type": "stream",
     "text": [
      "INFO:root: \n",
      "Avg Training Stats after 46 global rounds:\n",
      "INFO:root:Train Accuracy: 0.00%\n",
      "INFO:root:Training Loss : 0.14723140907432558\n",
      "INFO:root:Test Accuracy: 67.61%\n",
      "INFO:root:Test Loss: 1.028905757367611 \n",
      "\n",
      " 46%|████▌     | 46/100 [31:53<39:30, 43.90s/it]"
     ]
    },
    {
     "name": "stdout",
     "output_type": "stream",
     "text": [
      "[2575, 1112, 1320, 231, 3195, 1012, 862, 447, 2195, 201]\n"
     ]
    },
    {
     "name": "stderr",
     "output_type": "stream",
     "text": [
      "INFO:root: \n",
      "Avg Training Stats after 47 global rounds:\n",
      "INFO:root:Train Accuracy: 0.00%\n",
      "INFO:root:Training Loss : 0.06370503387097397\n",
      "INFO:root:Test Accuracy: 67.74%\n",
      "INFO:root:Test Loss: 1.0204593840241432 \n",
      "\n",
      " 47%|████▋     | 47/100 [32:41<39:48, 45.06s/it]"
     ]
    },
    {
     "name": "stdout",
     "output_type": "stream",
     "text": [
      "[1433, 542, 813, 231, 1119, 2029, 1012, 173, 2195, 1320]\n"
     ]
    },
    {
     "name": "stderr",
     "output_type": "stream",
     "text": [
      "INFO:root: \n",
      "Avg Training Stats after 48 global rounds:\n",
      "INFO:root:Train Accuracy: 0.00%\n",
      "INFO:root:Training Loss : 0.07293773160242904\n",
      "INFO:root:Test Accuracy: 66.44%\n",
      "INFO:root:Test Loss: 1.0660323536396026 \n",
      "\n",
      " 48%|████▊     | 48/100 [33:23<38:20, 44.23s/it]"
     ]
    },
    {
     "name": "stdout",
     "output_type": "stream",
     "text": [
      "[744, 2195, 209, 1780, 2575, 123, 327, 40, 1736, 690]\n"
     ]
    },
    {
     "name": "stderr",
     "output_type": "stream",
     "text": [
      "INFO:root: \n",
      "Avg Training Stats after 49 global rounds:\n",
      "INFO:root:Train Accuracy: 0.00%\n",
      "INFO:root:Training Loss : 0.13731859417751918\n",
      "INFO:root:Test Accuracy: 64.38%\n",
      "INFO:root:Test Loss: 1.127923787534237 \n",
      "\n",
      " 49%|████▉     | 49/100 [34:04<36:50, 43.35s/it]"
     ]
    },
    {
     "name": "stdout",
     "output_type": "stream",
     "text": [
      "[862, 690, 1433, 173, 3195, 2934, 116, 447, 231, 431]\n"
     ]
    },
    {
     "name": "stderr",
     "output_type": "stream",
     "text": [
      "INFO:root: \n",
      "Avg Training Stats after 50 global rounds:\n",
      "INFO:root:Train Accuracy: 0.00%\n",
      "INFO:root:Training Loss : 0.12257381484585834\n",
      "INFO:root:Test Accuracy: 61.22%\n",
      "INFO:root:Test Loss: 1.3173419778048991 \n",
      "\n",
      " 50%|█████     | 50/100 [34:46<35:41, 42.84s/it]"
     ]
    },
    {
     "name": "stdout",
     "output_type": "stream",
     "text": [
      "[1320, 19, 3195, 87, 1756, 303, 813, 2575, 231, 231]\n"
     ]
    },
    {
     "name": "stderr",
     "output_type": "stream",
     "text": [
      "INFO:root: \n",
      "Avg Training Stats after 51 global rounds:\n",
      "INFO:root:Train Accuracy: 0.00%\n",
      "INFO:root:Training Loss : 0.027341427535761208\n",
      "INFO:root:Test Accuracy: 56.97%\n",
      "INFO:root:Test Loss: 1.5950438141822816 \n",
      "\n",
      " 51%|█████     | 51/100 [35:27<34:38, 42.41s/it]"
     ]
    },
    {
     "name": "stdout",
     "output_type": "stream",
     "text": [
      "[40, 813, 1780, 2934, 15, 173, 278, 19, 1798, 267]\n"
     ]
    },
    {
     "name": "stderr",
     "output_type": "stream",
     "text": [
      "INFO:root: \n",
      "Avg Training Stats after 52 global rounds:\n",
      "INFO:root:Train Accuracy: 0.00%\n",
      "INFO:root:Training Loss : 0.09770289742901585\n",
      "INFO:root:Test Accuracy: 61.65%\n",
      "INFO:root:Test Loss: 1.3743839871883392 \n",
      "\n",
      " 52%|█████▏    | 52/100 [36:04<32:24, 40.52s/it]"
     ]
    },
    {
     "name": "stdout",
     "output_type": "stream",
     "text": [
      "[267, 231, 690, 173, 1780, 1053, 862, 590, 1433, 303]\n"
     ]
    },
    {
     "name": "stderr",
     "output_type": "stream",
     "text": [
      "INFO:root: \n",
      "Avg Training Stats after 53 global rounds:\n",
      "INFO:root:Train Accuracy: 0.00%\n",
      "INFO:root:Training Loss : 0.12173893654448716\n",
      "INFO:root:Test Accuracy: 66.22%\n",
      "INFO:root:Test Loss: 1.1678047293424607 \n",
      "\n",
      " 53%|█████▎    | 53/100 [36:38<30:22, 38.77s/it]"
     ]
    },
    {
     "name": "stdout",
     "output_type": "stream",
     "text": [
      "[431, 3195, 201, 796, 2934, 15, 231, 1112, 1736, 267]\n"
     ]
    },
    {
     "name": "stderr",
     "output_type": "stream",
     "text": [
      "INFO:root: \n",
      "Avg Training Stats after 54 global rounds:\n",
      "INFO:root:Train Accuracy: 0.00%\n",
      "INFO:root:Training Loss : 0.09751061324001524\n",
      "INFO:root:Test Accuracy: 66.73%\n",
      "INFO:root:Test Loss: 1.141588042229414 \n",
      "\n",
      " 54%|█████▍    | 54/100 [37:21<30:41, 40.04s/it]"
     ]
    },
    {
     "name": "stdout",
     "output_type": "stream",
     "text": [
      "[40, 1320, 1416, 286, 2195, 1012, 201, 116, 1053, 542]\n"
     ]
    },
    {
     "name": "stderr",
     "output_type": "stream",
     "text": [
      "INFO:root: \n",
      "Avg Training Stats after 55 global rounds:\n",
      "INFO:root:Train Accuracy: 0.00%\n",
      "INFO:root:Training Loss : 0.11650580497551585\n",
      "INFO:root:Test Accuracy: 67.85%\n",
      "INFO:root:Test Loss: 1.0611883220076561 \n",
      "\n",
      " 55%|█████▌    | 55/100 [37:58<29:10, 38.91s/it]"
     ]
    },
    {
     "name": "stdout",
     "output_type": "stream",
     "text": [
      "[1798, 422, 231, 4600, 231, 2575, 1433, 106, 1320, 862]\n"
     ]
    },
    {
     "name": "stderr",
     "output_type": "stream",
     "text": [
      "INFO:root: \n",
      "Avg Training Stats after 56 global rounds:\n",
      "INFO:root:Train Accuracy: 0.00%\n",
      "INFO:root:Training Loss : 0.05520383737522827\n",
      "INFO:root:Test Accuracy: 67.05%\n",
      "INFO:root:Test Loss: 1.067121499478817 \n",
      "\n",
      " 56%|█████▌    | 56/100 [38:46<30:41, 41.84s/it]"
     ]
    },
    {
     "name": "stdout",
     "output_type": "stream",
     "text": [
      "[2274, 3195, 267, 2029, 590, 327, 2195, 278, 1756, 813]\n"
     ]
    },
    {
     "name": "stderr",
     "output_type": "stream",
     "text": [
      "INFO:root: \n",
      "Avg Training Stats after 57 global rounds:\n",
      "INFO:root:Train Accuracy: 0.00%\n",
      "INFO:root:Training Loss : 0.08572474961177819\n",
      "INFO:root:Test Accuracy: 65.71%\n",
      "INFO:root:Test Loss: 1.1396063232421876 \n",
      "\n",
      " 57%|█████▋    | 57/100 [39:35<31:27, 43.91s/it]"
     ]
    },
    {
     "name": "stdout",
     "output_type": "stream",
     "text": [
      "[1798, 431, 123, 1320, 1416, 231, 2575, 2934, 19, 1756]\n"
     ]
    },
    {
     "name": "stderr",
     "output_type": "stream",
     "text": [
      "INFO:root: \n",
      "Avg Training Stats after 58 global rounds:\n",
      "INFO:root:Train Accuracy: 0.00%\n",
      "INFO:root:Training Loss : 0.06987655627602075\n",
      "INFO:root:Test Accuracy: 65.09%\n",
      "INFO:root:Test Loss: 1.173009520471096 \n",
      "\n",
      " 58%|█████▊    | 58/100 [40:21<31:14, 44.62s/it]"
     ]
    },
    {
     "name": "stdout",
     "output_type": "stream",
     "text": [
      "[1018, 267, 2274, 447, 2029, 690, 590, 303, 1119, 796]\n"
     ]
    },
    {
     "name": "stderr",
     "output_type": "stream",
     "text": [
      "INFO:root: \n",
      "Avg Training Stats after 59 global rounds:\n",
      "INFO:root:Train Accuracy: 0.00%\n",
      "INFO:root:Training Loss : 0.05637792821494845\n",
      "INFO:root:Test Accuracy: 64.53%\n",
      "INFO:root:Test Loss: 1.189105172008276 \n",
      "\n",
      " 59%|█████▉    | 59/100 [41:00<29:22, 42.98s/it]"
     ]
    },
    {
     "name": "stdout",
     "output_type": "stream",
     "text": [
      "[106, 2430, 447, 1433, 1012, 3195, 1119, 1756, 862, 4600]\n"
     ]
    },
    {
     "name": "stderr",
     "output_type": "stream",
     "text": [
      "INFO:root: \n",
      "Avg Training Stats after 60 global rounds:\n",
      "INFO:root:Train Accuracy: 0.00%\n",
      "INFO:root:Training Loss : 0.03233740617528944\n",
      "INFO:root:Test Accuracy: 66.43%\n",
      "INFO:root:Test Loss: 1.1496552807092666 \n",
      "\n",
      " 60%|██████    | 60/100 [41:56<31:13, 46.83s/it]"
     ]
    },
    {
     "name": "stdout",
     "output_type": "stream",
     "text": [
      "[1780, 1320, 286, 2029, 40, 796, 447, 15, 231, 744]\n"
     ]
    },
    {
     "name": "stderr",
     "output_type": "stream",
     "text": [
      "INFO:root: \n",
      "Avg Training Stats after 61 global rounds:\n",
      "INFO:root:Train Accuracy: 0.00%\n",
      "INFO:root:Training Loss : 0.04765779218391815\n",
      "INFO:root:Test Accuracy: 67.59%\n",
      "INFO:root:Test Loss: 1.1264987394213677 \n",
      "\n",
      " 61%|██████    | 61/100 [42:31<28:11, 43.36s/it]"
     ]
    },
    {
     "name": "stdout",
     "output_type": "stream",
     "text": [
      "[116, 15, 2029, 327, 19, 470, 422, 87, 1012, 303]\n"
     ]
    },
    {
     "name": "stderr",
     "output_type": "stream",
     "text": [
      "INFO:root: \n",
      "Avg Training Stats after 62 global rounds:\n",
      "INFO:root:Train Accuracy: 0.00%\n",
      "INFO:root:Training Loss : 0.09233161071688806\n",
      "INFO:root:Test Accuracy: 67.25%\n",
      "INFO:root:Test Loss: 1.1552904216200113 \n",
      "\n",
      " 62%|██████▏   | 62/100 [43:00<24:39, 38.93s/it]"
     ]
    },
    {
     "name": "stdout",
     "output_type": "stream",
     "text": [
      "[796, 2274, 862, 286, 813, 3195, 1112, 422, 1119, 327]\n"
     ]
    },
    {
     "name": "stderr",
     "output_type": "stream",
     "text": [
      "INFO:root: \n",
      "Avg Training Stats after 63 global rounds:\n",
      "INFO:root:Train Accuracy: 0.00%\n",
      "INFO:root:Training Loss : 0.07437092830983909\n",
      "INFO:root:Test Accuracy: 66.31%\n",
      "INFO:root:Test Loss: 1.1998708555102349 \n",
      "\n",
      " 63%|██████▎   | 63/100 [43:43<24:44, 40.13s/it]"
     ]
    },
    {
     "name": "stdout",
     "output_type": "stream",
     "text": [
      "[542, 1798, 690, 15, 267, 2575, 796, 590, 209, 470]\n"
     ]
    },
    {
     "name": "stderr",
     "output_type": "stream",
     "text": [
      "INFO:root: \n",
      "Avg Training Stats after 64 global rounds:\n",
      "INFO:root:Train Accuracy: 0.00%\n",
      "INFO:root:Training Loss : 0.07734247223758864\n",
      "INFO:root:Test Accuracy: 64.62%\n",
      "INFO:root:Test Loss: 1.3018427862226962 \n",
      "\n",
      " 64%|██████▍   | 64/100 [44:19<23:18, 38.84s/it]"
     ]
    },
    {
     "name": "stdout",
     "output_type": "stream",
     "text": [
      "[87, 267, 286, 1053, 303, 796, 40, 173, 19, 327]\n"
     ]
    },
    {
     "name": "stderr",
     "output_type": "stream",
     "text": [
      "INFO:root: \n",
      "Avg Training Stats after 65 global rounds:\n",
      "INFO:root:Train Accuracy: 0.00%\n",
      "INFO:root:Training Loss : 0.11785124423627469\n",
      "INFO:root:Test Accuracy: 64.51%\n",
      "INFO:root:Test Loss: 1.2801078979671001 \n",
      "\n",
      " 65%|██████▌   | 65/100 [44:44<20:19, 34.85s/it]"
     ]
    },
    {
     "name": "stdout",
     "output_type": "stream",
     "text": [
      "[813, 542, 106, 123, 4600, 40, 209, 2029, 1736, 2195]\n"
     ]
    },
    {
     "name": "stderr",
     "output_type": "stream",
     "text": [
      "INFO:root: \n",
      "Avg Training Stats after 66 global rounds:\n",
      "INFO:root:Train Accuracy: 0.00%\n",
      "INFO:root:Training Loss : 0.0760269602437644\n",
      "INFO:root:Test Accuracy: 67.84%\n",
      "INFO:root:Test Loss: 1.1047540940344334 \n",
      "\n",
      " 66%|██████▌   | 66/100 [45:30<21:34, 38.08s/it]"
     ]
    },
    {
     "name": "stdout",
     "output_type": "stream",
     "text": [
      "[1416, 1320, 201, 744, 2934, 447, 278, 2430, 1018, 2274]\n"
     ]
    },
    {
     "name": "stderr",
     "output_type": "stream",
     "text": [
      "INFO:root: \n",
      "Avg Training Stats after 67 global rounds:\n",
      "INFO:root:Train Accuracy: 0.00%\n",
      "INFO:root:Training Loss : 0.07104900332097691\n",
      "INFO:root:Test Accuracy: 65.16%\n",
      "INFO:root:Test Loss: 1.2390686174482106 \n",
      "\n",
      " 67%|██████▋   | 67/100 [46:17<22:29, 40.88s/it]"
     ]
    },
    {
     "name": "stdout",
     "output_type": "stream",
     "text": [
      "[303, 1012, 470, 123, 106, 201, 87, 1736, 2934, 2575]\n"
     ]
    },
    {
     "name": "stderr",
     "output_type": "stream",
     "text": [
      "INFO:root: \n",
      "Avg Training Stats after 68 global rounds:\n",
      "INFO:root:Train Accuracy: 0.00%\n",
      "INFO:root:Training Loss : 0.03993027746557178\n",
      "INFO:root:Test Accuracy: 62.57%\n",
      "INFO:root:Test Loss: 1.3782386443763972 \n",
      "\n",
      " 68%|██████▊   | 68/100 [46:57<21:33, 40.42s/it]"
     ]
    },
    {
     "name": "stdout",
     "output_type": "stream",
     "text": [
      "[3195, 794, 690, 2029, 231, 1756, 1112, 1736, 201, 813]\n"
     ]
    },
    {
     "name": "stderr",
     "output_type": "stream",
     "text": [
      "INFO:root: \n",
      "Avg Training Stats after 69 global rounds:\n",
      "INFO:root:Train Accuracy: 0.00%\n",
      "INFO:root:Training Loss : 0.042752811089819806\n",
      "INFO:root:Test Accuracy: 63.16%\n",
      "INFO:root:Test Loss: 1.3409557926654816 \n",
      "\n",
      " 69%|██████▉   | 69/100 [47:43<21:48, 42.20s/it]"
     ]
    },
    {
     "name": "stdout",
     "output_type": "stream",
     "text": [
      "[106, 40, 278, 422, 470, 2029, 2934, 744, 2274, 327]\n"
     ]
    },
    {
     "name": "stderr",
     "output_type": "stream",
     "text": [
      "INFO:root: \n",
      "Avg Training Stats after 70 global rounds:\n",
      "INFO:root:Train Accuracy: 0.00%\n",
      "INFO:root:Training Loss : 0.07150405164586418\n",
      "INFO:root:Test Accuracy: 65.02%\n",
      "INFO:root:Test Loss: 1.2364209839701652 \n",
      "\n",
      " 70%|███████   | 70/100 [48:23<20:43, 41.46s/it]"
     ]
    },
    {
     "name": "stdout",
     "output_type": "stream",
     "text": [
      "[3195, 267, 303, 173, 286, 2029, 422, 1012, 796, 106]\n"
     ]
    },
    {
     "name": "stderr",
     "output_type": "stream",
     "text": [
      "INFO:root: \n",
      "Avg Training Stats after 71 global rounds:\n",
      "INFO:root:Train Accuracy: 0.00%\n",
      "INFO:root:Training Loss : 0.07699133474249323\n",
      "INFO:root:Test Accuracy: 66.32%\n",
      "INFO:root:Test Loss: 1.2146421653032302 \n",
      "\n",
      " 71%|███████   | 71/100 [49:00<19:23, 40.13s/it]"
     ]
    },
    {
     "name": "stdout",
     "output_type": "stream",
     "text": [
      "[209, 40, 4600, 106, 123, 1012, 690, 542, 602, 2575]\n"
     ]
    },
    {
     "name": "stderr",
     "output_type": "stream",
     "text": [
      "INFO:root: \n",
      "Avg Training Stats after 72 global rounds:\n",
      "INFO:root:Train Accuracy: 0.00%\n",
      "INFO:root:Training Loss : 0.07300576930870747\n",
      "INFO:root:Test Accuracy: 67.87%\n",
      "INFO:root:Test Loss: 1.1630685943365098 \n",
      "\n",
      " 72%|███████▏  | 72/100 [49:41<18:55, 40.54s/it]"
     ]
    },
    {
     "name": "stdout",
     "output_type": "stream",
     "text": [
      "[1012, 2430, 2274, 209, 1798, 303, 1112, 231, 744, 278]\n"
     ]
    },
    {
     "name": "stderr",
     "output_type": "stream",
     "text": [
      "INFO:root: \n",
      "Avg Training Stats after 73 global rounds:\n",
      "INFO:root:Train Accuracy: 0.00%\n",
      "INFO:root:Training Loss : 0.050167089116139374\n",
      "INFO:root:Test Accuracy: 67.22%\n",
      "INFO:root:Test Loss: 1.2255931690335273 \n",
      "\n",
      " 73%|███████▎  | 73/100 [50:23<18:20, 40.75s/it]"
     ]
    },
    {
     "name": "stdout",
     "output_type": "stream",
     "text": [
      "[447, 1320, 209, 327, 744, 1018, 231, 2430, 590, 602]\n"
     ]
    },
    {
     "name": "stderr",
     "output_type": "stream",
     "text": [
      "INFO:root: \n",
      "Avg Training Stats after 74 global rounds:\n",
      "INFO:root:Train Accuracy: 0.00%\n",
      "INFO:root:Training Loss : 0.09216471535743984\n",
      "INFO:root:Test Accuracy: 65.67%\n",
      "INFO:root:Test Loss: 1.2689747725427152 \n",
      "\n",
      " 74%|███████▍  | 74/100 [50:58<17:00, 39.24s/it]"
     ]
    },
    {
     "name": "stdout",
     "output_type": "stream",
     "text": [
      "[470, 1053, 303, 1012, 106, 3195, 447, 1112, 201, 1433]\n"
     ]
    },
    {
     "name": "stderr",
     "output_type": "stream",
     "text": [
      "INFO:root: \n",
      "Avg Training Stats after 75 global rounds:\n",
      "INFO:root:Train Accuracy: 0.00%\n",
      "INFO:root:Training Loss : 0.030772912496098682\n",
      "INFO:root:Test Accuracy: 63.97%\n",
      "INFO:root:Test Loss: 1.3598298825323583 \n",
      "\n",
      " 75%|███████▌  | 75/100 [51:37<16:17, 39.12s/it]"
     ]
    },
    {
     "name": "stdout",
     "output_type": "stream",
     "text": [
      "[231, 1433, 431, 209, 1416, 1780, 116, 123, 422, 4600]\n"
     ]
    },
    {
     "name": "stderr",
     "output_type": "stream",
     "text": [
      "INFO:root: \n",
      "Avg Training Stats after 76 global rounds:\n",
      "INFO:root:Train Accuracy: 0.00%\n",
      "INFO:root:Training Loss : 0.12816712386841927\n",
      "INFO:root:Test Accuracy: 66.13%\n",
      "INFO:root:Test Loss: 1.244189547598362 \n",
      "\n",
      " 76%|███████▌  | 76/100 [52:19<16:02, 40.08s/it]"
     ]
    },
    {
     "name": "stdout",
     "output_type": "stream",
     "text": [
      "[2575, 796, 1053, 267, 602, 1018, 201, 1756, 286, 2430]\n"
     ]
    },
    {
     "name": "stderr",
     "output_type": "stream",
     "text": [
      "INFO:root: \n",
      "Avg Training Stats after 77 global rounds:\n",
      "INFO:root:Train Accuracy: 0.00%\n",
      "INFO:root:Training Loss : 0.06646316671383394\n",
      "INFO:root:Test Accuracy: 65.27%\n",
      "INFO:root:Test Loss: 1.2369748523831368 \n",
      "\n",
      " 77%|███████▋  | 77/100 [53:02<15:40, 40.90s/it]"
     ]
    },
    {
     "name": "stdout",
     "output_type": "stream",
     "text": [
      "[15, 2029, 2274, 744, 1018, 1736, 2934, 19, 173, 447]\n"
     ]
    },
    {
     "name": "stderr",
     "output_type": "stream",
     "text": [
      "INFO:root: \n",
      "Avg Training Stats after 78 global rounds:\n",
      "INFO:root:Train Accuracy: 0.00%\n",
      "INFO:root:Training Loss : 0.07083178963560961\n",
      "INFO:root:Test Accuracy: 64.13%\n",
      "INFO:root:Test Loss: 1.2829965031147004 \n",
      "\n",
      " 78%|███████▊  | 78/100 [53:46<15:16, 41.64s/it]"
     ]
    },
    {
     "name": "stdout",
     "output_type": "stream",
     "text": [
      "[542, 602, 173, 201, 590, 690, 422, 2934, 1736, 744]\n"
     ]
    },
    {
     "name": "stderr",
     "output_type": "stream",
     "text": [
      "INFO:root: \n",
      "Avg Training Stats after 79 global rounds:\n",
      "INFO:root:Train Accuracy: 0.00%\n",
      "INFO:root:Training Loss : 0.10023077983377345\n",
      "INFO:root:Test Accuracy: 65.94%\n",
      "INFO:root:Test Loss: 1.2217389506101608 \n",
      "\n",
      " 79%|███████▉  | 79/100 [54:23<14:07, 40.35s/it]"
     ]
    },
    {
     "name": "stdout",
     "output_type": "stream",
     "text": [
      "[201, 278, 40, 1112, 106, 690, 2029, 87, 796, 3195]\n"
     ]
    },
    {
     "name": "stderr",
     "output_type": "stream",
     "text": [
      "INFO:root: \n",
      "Avg Training Stats after 80 global rounds:\n",
      "INFO:root:Train Accuracy: 0.00%\n",
      "INFO:root:Training Loss : 0.026812630010397687\n",
      "INFO:root:Test Accuracy: 66.87%\n",
      "INFO:root:Test Loss: 1.2015563970804215 \n",
      "\n",
      " 80%|████████  | 80/100 [55:00<13:06, 39.32s/it]"
     ]
    },
    {
     "name": "stdout",
     "output_type": "stream",
     "text": [
      "[1798, 15, 201, 123, 1433, 542, 1119, 690, 602, 40]\n"
     ]
    },
    {
     "name": "stderr",
     "output_type": "stream",
     "text": [
      "INFO:root: \n",
      "Avg Training Stats after 81 global rounds:\n",
      "INFO:root:Train Accuracy: 0.00%\n",
      "INFO:root:Training Loss : 0.05451436358150315\n",
      "INFO:root:Test Accuracy: 65.28%\n",
      "INFO:root:Test Loss: 1.3303928157687188 \n",
      "\n",
      " 81%|████████  | 81/100 [55:32<11:48, 37.27s/it]"
     ]
    },
    {
     "name": "stdout",
     "output_type": "stream",
     "text": [
      "[267, 542, 209, 796, 87, 3195, 231, 303, 2934, 1119]\n"
     ]
    },
    {
     "name": "stderr",
     "output_type": "stream",
     "text": [
      "INFO:root: \n",
      "Avg Training Stats after 82 global rounds:\n",
      "INFO:root:Train Accuracy: 0.00%\n",
      "INFO:root:Training Loss : 0.06046912328454518\n",
      "INFO:root:Test Accuracy: 64.63%\n",
      "INFO:root:Test Loss: 1.3782539731264114 \n",
      "\n",
      " 82%|████████▏ | 82/100 [56:12<11:23, 37.99s/it]"
     ]
    },
    {
     "name": "stdout",
     "output_type": "stream",
     "text": [
      "[690, 431, 422, 231, 4600, 2934, 2029, 327, 796, 590]\n"
     ]
    },
    {
     "name": "stderr",
     "output_type": "stream",
     "text": [
      "INFO:root: \n",
      "Avg Training Stats after 83 global rounds:\n",
      "INFO:root:Train Accuracy: 0.00%\n",
      "INFO:root:Training Loss : 0.07777788872645774\n",
      "INFO:root:Test Accuracy: 66.93%\n",
      "INFO:root:Test Loss: 1.2294255962967873 \n",
      "\n",
      " 83%|████████▎ | 83/100 [57:00<11:34, 40.85s/it]"
     ]
    },
    {
     "name": "stdout",
     "output_type": "stream",
     "text": [
      "[231, 1112, 87, 303, 690, 796, 2195, 813, 327, 1018]\n"
     ]
    },
    {
     "name": "stderr",
     "output_type": "stream",
     "text": [
      "INFO:root: \n",
      "Avg Training Stats after 84 global rounds:\n",
      "INFO:root:Train Accuracy: 0.00%\n",
      "INFO:root:Training Loss : 0.06268603967654253\n",
      "INFO:root:Test Accuracy: 66.82%\n",
      "INFO:root:Test Loss: 1.2411402247846126 \n",
      "\n",
      " 84%|████████▍ | 84/100 [57:34<10:24, 39.03s/it]"
     ]
    },
    {
     "name": "stdout",
     "output_type": "stream",
     "text": [
      "[602, 1018, 542, 106, 794, 447, 2029, 1433, 327, 690]\n"
     ]
    },
    {
     "name": "stderr",
     "output_type": "stream",
     "text": [
      "INFO:root: \n",
      "Avg Training Stats after 85 global rounds:\n",
      "INFO:root:Train Accuracy: 0.00%\n",
      "INFO:root:Training Loss : 0.06460861374277851\n",
      "INFO:root:Test Accuracy: 64.88%\n",
      "INFO:root:Test Loss: 1.3421242336928845 \n",
      "\n",
      " 85%|████████▌ | 85/100 [58:10<09:31, 38.09s/it]"
     ]
    },
    {
     "name": "stdout",
     "output_type": "stream",
     "text": [
      "[1433, 267, 447, 1012, 470, 201, 231, 15, 278, 1736]\n"
     ]
    },
    {
     "name": "stderr",
     "output_type": "stream",
     "text": [
      "INFO:root: \n",
      "Avg Training Stats after 86 global rounds:\n",
      "INFO:root:Train Accuracy: 0.00%\n",
      "INFO:root:Training Loss : 0.07545978316440974\n",
      "INFO:root:Test Accuracy: 63.32%\n",
      "INFO:root:Test Loss: 1.3669219966977835 \n",
      "\n",
      " 86%|████████▌ | 86/100 [58:42<08:25, 36.09s/it]"
     ]
    },
    {
     "name": "stdout",
     "output_type": "stream",
     "text": [
      "[40, 1053, 231, 286, 106, 2274, 470, 1119, 447, 1416]\n"
     ]
    },
    {
     "name": "stderr",
     "output_type": "stream",
     "text": [
      "INFO:root: \n",
      "Avg Training Stats after 87 global rounds:\n",
      "INFO:root:Train Accuracy: 0.00%\n",
      "INFO:root:Training Loss : 0.054044185734107096\n",
      "INFO:root:Test Accuracy: 65.09%\n",
      "INFO:root:Test Loss: 1.229320604801178 \n",
      "\n",
      " 87%|████████▋ | 87/100 [59:16<07:43, 35.63s/it]"
     ]
    },
    {
     "name": "stdout",
     "output_type": "stream",
     "text": [
      "[209, 2029, 231, 278, 1320, 862, 2195, 690, 1736, 106]\n"
     ]
    },
    {
     "name": "stderr",
     "output_type": "stream",
     "text": [
      "INFO:root: \n",
      "Avg Training Stats after 88 global rounds:\n",
      "INFO:root:Train Accuracy: 0.00%\n",
      "INFO:root:Training Loss : 0.0575533659908035\n",
      "INFO:root:Test Accuracy: 65.48%\n",
      "INFO:root:Test Loss: 1.2274619491398335 \n",
      "\n",
      " 88%|████████▊ | 88/100 [59:56<07:21, 36.82s/it]"
     ]
    },
    {
     "name": "stdout",
     "output_type": "stream",
     "text": [
      "[2430, 201, 2195, 2575, 123, 602, 116, 794, 4600, 690]\n"
     ]
    },
    {
     "name": "stderr",
     "output_type": "stream",
     "text": [
      "INFO:root: \n",
      "Avg Training Stats after 89 global rounds:\n",
      "INFO:root:Train Accuracy: 0.00%\n",
      "INFO:root:Training Loss : 0.06917995503582963\n",
      "INFO:root:Test Accuracy: 66.74%\n",
      "INFO:root:Test Loss: 1.205317900031805 \n",
      "\n",
      " 89%|████████▉ | 89/100 [1:00:46<07:27, 40.69s/it]"
     ]
    },
    {
     "name": "stdout",
     "output_type": "stream",
     "text": [
      "[470, 303, 278, 87, 1119, 2274, 1780, 19, 4600, 602]\n"
     ]
    },
    {
     "name": "stderr",
     "output_type": "stream",
     "text": [
      "INFO:root: \n",
      "Avg Training Stats after 90 global rounds:\n",
      "INFO:root:Train Accuracy: 0.00%\n",
      "INFO:root:Training Loss : 0.030754450325129336\n",
      "INFO:root:Test Accuracy: 67.10%\n",
      "INFO:root:Test Loss: 1.2436511752009392 \n",
      "\n",
      " 90%|█████████ | 90/100 [1:01:29<06:55, 41.59s/it]"
     ]
    },
    {
     "name": "stdout",
     "output_type": "stream",
     "text": [
      "[2575, 602, 2029, 327, 209, 4600, 2274, 1756, 431, 1112]\n"
     ]
    },
    {
     "name": "stderr",
     "output_type": "stream",
     "text": [
      "INFO:root: \n",
      "Avg Training Stats after 91 global rounds:\n",
      "INFO:root:Train Accuracy: 0.00%\n",
      "INFO:root:Training Loss : 0.06150180214970737\n",
      "INFO:root:Test Accuracy: 65.49%\n",
      "INFO:root:Test Loss: 1.409975289851427 \n",
      "\n",
      " 91%|█████████ | 91/100 [1:02:23<06:46, 45.20s/it]"
     ]
    },
    {
     "name": "stdout",
     "output_type": "stream",
     "text": [
      "[2195, 267, 813, 286, 3195, 470, 231, 278, 1012, 231]\n"
     ]
    },
    {
     "name": "stderr",
     "output_type": "stream",
     "text": [
      "INFO:root: \n",
      "Avg Training Stats after 92 global rounds:\n",
      "INFO:root:Train Accuracy: 0.00%\n",
      "INFO:root:Training Loss : 0.05641239376002194\n",
      "INFO:root:Test Accuracy: 64.87%\n",
      "INFO:root:Test Loss: 1.482634816914797 \n",
      "\n",
      " 92%|█████████▏| 92/100 [1:03:01<05:44, 43.12s/it]"
     ]
    },
    {
     "name": "stdout",
     "output_type": "stream",
     "text": [
      "[1053, 2575, 303, 2430, 542, 116, 1756, 1433, 327, 15]\n"
     ]
    },
    {
     "name": "stderr",
     "output_type": "stream",
     "text": [
      "INFO:root: \n",
      "Avg Training Stats after 93 global rounds:\n",
      "INFO:root:Train Accuracy: 0.00%\n",
      "INFO:root:Training Loss : 0.09226430574374796\n",
      "INFO:root:Test Accuracy: 64.32%\n",
      "INFO:root:Test Loss: 1.4977818498015403 \n",
      "\n",
      " 93%|█████████▎| 93/100 [1:03:42<04:58, 42.59s/it]"
     ]
    },
    {
     "name": "stdout",
     "output_type": "stream",
     "text": [
      "[590, 4600, 201, 286, 303, 1736, 15, 1798, 744, 422]\n"
     ]
    },
    {
     "name": "stderr",
     "output_type": "stream",
     "text": [
      "INFO:root: \n",
      "Avg Training Stats after 94 global rounds:\n",
      "INFO:root:Train Accuracy: 0.00%\n",
      "INFO:root:Training Loss : 0.057630556617171244\n",
      "INFO:root:Test Accuracy: 67.02%\n",
      "INFO:root:Test Loss: 1.2851209357380866 \n",
      "\n",
      " 94%|█████████▍| 94/100 [1:04:24<04:14, 42.42s/it]"
     ]
    },
    {
     "name": "stdout",
     "output_type": "stream",
     "text": [
      "[123, 862, 542, 19, 794, 1112, 4600, 2934, 231, 15]\n"
     ]
    },
    {
     "name": "stderr",
     "output_type": "stream",
     "text": [
      "INFO:root: \n",
      "Avg Training Stats after 95 global rounds:\n",
      "INFO:root:Train Accuracy: 0.00%\n",
      "INFO:root:Training Loss : 0.062423052662446465\n",
      "INFO:root:Test Accuracy: 66.34%\n",
      "INFO:root:Test Loss: 1.2767648321390153 \n",
      "\n",
      " 95%|█████████▌| 95/100 [1:05:07<03:32, 42.54s/it]"
     ]
    },
    {
     "name": "stdout",
     "output_type": "stream",
     "text": [
      "[1053, 87, 2575, 4600, 542, 231, 1433, 1012, 2029, 862]\n"
     ]
    },
    {
     "name": "stderr",
     "output_type": "stream",
     "text": [
      "INFO:root: \n",
      "Avg Training Stats after 96 global rounds:\n",
      "INFO:root:Train Accuracy: 0.00%\n",
      "INFO:root:Training Loss : 0.03896305260622686\n",
      "INFO:root:Test Accuracy: 64.84%\n",
      "INFO:root:Test Loss: 1.3967568975687028 \n",
      "\n",
      " 96%|█████████▌| 96/100 [1:05:58<03:00, 45.00s/it]"
     ]
    },
    {
     "name": "stdout",
     "output_type": "stream",
     "text": [
      "[19, 602, 40, 690, 267, 231, 173, 2029, 1798, 3195]\n"
     ]
    },
    {
     "name": "stderr",
     "output_type": "stream",
     "text": [
      "INFO:root: \n",
      "Avg Training Stats after 97 global rounds:\n",
      "INFO:root:Train Accuracy: 0.00%\n",
      "INFO:root:Training Loss : 0.07406931082318505\n",
      "INFO:root:Test Accuracy: 66.13%\n",
      "INFO:root:Test Loss: 1.312631963789463 \n",
      "\n",
      " 97%|█████████▋| 97/100 [1:06:36<02:09, 43.02s/it]"
     ]
    },
    {
     "name": "stdout",
     "output_type": "stream",
     "text": [
      "[209, 1012, 422, 40, 794, 4600, 116, 286, 303, 1756]\n"
     ]
    },
    {
     "name": "stderr",
     "output_type": "stream",
     "text": [
      "INFO:root: \n",
      "Avg Training Stats after 98 global rounds:\n",
      "INFO:root:Train Accuracy: 0.00%\n",
      "INFO:root:Training Loss : 0.05499915224817141\n",
      "INFO:root:Test Accuracy: 67.52%\n",
      "INFO:root:Test Loss: 1.268378202021122 \n",
      "\n",
      " 98%|█████████▊| 98/100 [1:07:16<01:23, 41.95s/it]"
     ]
    },
    {
     "name": "stdout",
     "output_type": "stream",
     "text": [
      "[2274, 1736, 173, 1416, 447, 19, 2195, 2029, 862, 744]\n"
     ]
    },
    {
     "name": "stderr",
     "output_type": "stream",
     "text": [
      "INFO:root: \n",
      "Avg Training Stats after 99 global rounds:\n",
      "INFO:root:Train Accuracy: 0.00%\n",
      "INFO:root:Training Loss : 0.09266184378994312\n",
      "INFO:root:Test Accuracy: 68.33%\n",
      "INFO:root:Test Loss: 1.2447535023093224 \n",
      "\n",
      " 99%|█████████▉| 99/100 [1:08:00<00:42, 42.72s/it]"
     ]
    },
    {
     "name": "stdout",
     "output_type": "stream",
     "text": [
      "[431, 1798, 1736, 744, 19, 278, 690, 590, 116, 40]\n"
     ]
    },
    {
     "name": "stderr",
     "output_type": "stream",
     "text": [
      "INFO:root: \n",
      "Avg Training Stats after 100 global rounds:\n",
      "INFO:root:Train Accuracy: 0.00%\n",
      "INFO:root:Training Loss : 0.05198423175352749\n",
      "INFO:root:Test Accuracy: 68.14%\n",
      "INFO:root:Test Loss: 1.2858228133618832 \n",
      "\n",
      "100%|██████████| 100/100 [1:08:33<00:00, 41.14s/it]\n",
      "INFO:root: \n",
      " Results after 100 global rounds of training:\n",
      "INFO:root:|---- Best Test Accuracy: 68.33% , round: 98\n"
     ]
    },
    {
     "name": "stdout",
     "output_type": "stream",
     "text": [
      " Saving checkpoints to ../save/checkpoint/ConvNet_1223/cifar10_ConvNet_groupnorm_T[100]_C[0.2]_iid[0]_E[10]_B[32]_GPU[0]_Pruned[0.0]...\n"
     ]
    }
   ],
   "source": [
    " args = easydict.EasyDict({\n",
    "    \"model\": 'ConvNet',\n",
    "    'dataset': 'cifar10',\n",
    "    'gpu': 0,\n",
    "    'iid': 0,\n",
    "    'epochs': 100,\n",
    "    'optimizer': 'sgd',\n",
    "    'seed': 0,\n",
    "    'norm': 'groupnorm',\n",
    "    'num_users': 50,\n",
    "    'frac': 0.2,\n",
    "    'local_ep': 10, \n",
    "    'local_bs': 32,\n",
    "    'lr': 0.01,\n",
    "    'momentum': 1,\n",
    "    'kernel_num': 9,\n",
    "    'kernel_sizes': 'no_centering',\n",
    "    'num_channnels': '1',\n",
    "    'num_filters': 32,\n",
    "    'max_pool': 'True',\n",
    "    'num_classes': 10,\n",
    "    'unequal': 0,\n",
    "    'stopping_rounds': 0,\n",
    "    'verbose': 0,\n",
    "    'hold_normalize': 0,\n",
    "    'save_path': '../save/checkpoint',\n",
    "    'exp_folder': 'ConvNet_1223',\n",
    "    'resume': None,\n",
    "    'server_opt': 'sgdm',\n",
    "    'server_lr': 1.0,\n",
    "    'client_decay':0,\n",
    "    'local_decay':0,\n",
    "    'alpha': 0.05,\n",
    "    'server_epoch':0,\n",
    "    'cosine_norm':1, \n",
    "    'only_fc' :0 ,\n",
    "    'loss':'bsm',\n",
    "    'dc_lr':0.0,\n",
    "    'tsne_pred':0,\n",
    "    'pruning': 0.0 })\n",
    "\n",
    "#zero-centering-classifier\n",
    "    \n",
    "temp = main_test(args)\n",
    "total.append(temp)"
   ]
  },
  {
   "cell_type": "code",
   "execution_count": 6,
   "id": "prompt-royal",
   "metadata": {},
   "outputs": [
    {
     "name": "stderr",
     "output_type": "stream",
     "text": [
      "INFO:root:{'model': 'ConvNet', 'dataset': 'cifar10', 'gpu': 0, 'iid': 0, 'epochs': 100, 'optimizer': 'sgd', 'seed': 0, 'norm': 'groupnorm', 'num_users': 50, 'frac': 0.2, 'local_ep': 10, 'local_bs': 32, 'lr': 0.01, 'momentum': 1, 'kernel_num': 9, 'kernel_sizes': 'no_centering', 'num_channnels': '1', 'num_filters': 32, 'max_pool': 'True', 'num_classes': 10, 'unequal': 0, 'stopping_rounds': 0, 'verbose': 0, 'hold_normalize': 0, 'save_path': '../save/checkpoint/ConvNet_1225', 'exp_folder': 'ConvNet_1225', 'resume': None, 'server_opt': 'sgd', 'server_lr': 1.0, 'client_decay': 0, 'local_decay': 0, 'alpha': 0.05, 'server_epoch': 0, 'cosine_norm': 0, 'only_fc': 0, 'loss': 'ce', 'dc_lr': 0.0, 'tsne_pred': 0, 'pruning': 0.0}\n"
     ]
    },
    {
     "name": "stdout",
     "output_type": "stream",
     "text": [
      "Files already downloaded and verified\n",
      "Files already downloaded and verified\n",
      "Files already downloaded and verified\n"
     ]
    },
    {
     "name": "stderr",
     "output_type": "stream",
     "text": [
      "INFO:root:ConvNet(\n",
      "  (net_act): ReLU(inplace=True)\n",
      "  (net_pooling): MaxPool2d(kernel_size=2, stride=2, padding=0, dilation=1, ceil_mode=False)\n",
      "  (features): Sequential(\n",
      "    (0): Conv2d(3, 128, kernel_size=(3, 3), stride=(1, 1), padding=(1, 1))\n",
      "    (1): GroupNorm(2, 128, eps=1e-05, affine=True)\n",
      "    (2): ReLU(inplace=True)\n",
      "    (3): MaxPool2d(kernel_size=2, stride=2, padding=0, dilation=1, ceil_mode=False)\n",
      "    (4): Conv2d(128, 128, kernel_size=(3, 3), stride=(1, 1), padding=(1, 1))\n",
      "    (5): GroupNorm(2, 128, eps=1e-05, affine=True)\n",
      "    (6): ReLU(inplace=True)\n",
      "    (7): MaxPool2d(kernel_size=2, stride=2, padding=0, dilation=1, ceil_mode=False)\n",
      "    (8): Conv2d(128, 128, kernel_size=(3, 3), stride=(1, 1), padding=(1, 1))\n",
      "    (9): GroupNorm(2, 128, eps=1e-05, affine=True)\n",
      "    (10): ReLU(inplace=True)\n",
      "    (11): MaxPool2d(kernel_size=2, stride=2, padding=0, dilation=1, ceil_mode=False)\n",
      "  )\n",
      "  (classifier): Linear(in_features=2048, out_features=10, bias=True)\n",
      ")\n",
      "INFO:root:None\n",
      "  0%|          | 0/100 [00:00<?, ?it/s]"
     ]
    },
    {
     "name": "stdout",
     "output_type": "stream",
     "text": [
      "----------------------------------------------------------------\n",
      "        Layer (type)               Output Shape         Param #\n",
      "================================================================\n",
      "            Conv2d-1          [-1, 128, 32, 32]           3,584\n",
      "         GroupNorm-2          [-1, 128, 32, 32]             256\n",
      "              ReLU-3          [-1, 128, 32, 32]               0\n",
      "              ReLU-4          [-1, 128, 32, 32]               0\n",
      "         MaxPool2d-5          [-1, 128, 16, 16]               0\n",
      "         MaxPool2d-6          [-1, 128, 16, 16]               0\n",
      "            Conv2d-7          [-1, 128, 16, 16]         147,584\n",
      "         GroupNorm-8          [-1, 128, 16, 16]             256\n",
      "              ReLU-9          [-1, 128, 16, 16]               0\n",
      "             ReLU-10          [-1, 128, 16, 16]               0\n",
      "        MaxPool2d-11            [-1, 128, 8, 8]               0\n",
      "        MaxPool2d-12            [-1, 128, 8, 8]               0\n",
      "           Conv2d-13            [-1, 128, 8, 8]         147,584\n",
      "        GroupNorm-14            [-1, 128, 8, 8]             256\n",
      "             ReLU-15            [-1, 128, 8, 8]               0\n",
      "             ReLU-16            [-1, 128, 8, 8]               0\n",
      "        MaxPool2d-17            [-1, 128, 4, 4]               0\n",
      "        MaxPool2d-18            [-1, 128, 4, 4]               0\n",
      "           Linear-19                   [-1, 10]          20,490\n",
      "================================================================\n",
      "Total params: 320,010\n",
      "Trainable params: 320,010\n",
      "Non-trainable params: 0\n",
      "----------------------------------------------------------------\n",
      "Input size (MB): 0.01\n",
      "Forward/backward pass size (MB): 5.91\n",
      "Params size (MB): 1.22\n",
      "Estimated Total Size (MB): 7.14\n",
      "----------------------------------------------------------------\n",
      "[209, 1756, 422, 2575, 1018, 602, 2274, 447, 744, 1112, 123, 87, 1433, 1416, 40, 1119, 796, 794, 327, 470, 231, 813, 1320, 542, 690, 2195, 2934, 106, 1012, 15, 278, 1798, 303, 590, 2029, 201, 1053, 862, 231, 116, 4600, 19, 286, 1736, 2430, 431, 3195, 1780, 173, 267]\n",
      "[470, 2934, 201, 231, 2575, 744, 15, 123, 1119, 4600]\n"
     ]
    },
    {
     "name": "stderr",
     "output_type": "stream",
     "text": [
      "INFO:root: \n",
      "Avg Training Stats after 1 global rounds:\n",
      "INFO:root:Train Accuracy: 0.00%\n",
      "INFO:root:Training Loss : 0.4075449367040186\n",
      "INFO:root:Test Accuracy: 15.52%\n",
      "INFO:root:Test Loss: 2.931709707081318 \n",
      "\n",
      "  1%|          | 1/100 [00:46<1:16:59, 46.66s/it]"
     ]
    },
    {
     "name": "stdout",
     "output_type": "stream",
     "text": [
      "[231, 173, 2575, 1736, 2430, 123, 4600, 690, 1012, 447]\n"
     ]
    },
    {
     "name": "stderr",
     "output_type": "stream",
     "text": [
      "INFO:root: \n",
      "Avg Training Stats after 2 global rounds:\n",
      "INFO:root:Train Accuracy: 0.00%\n",
      "INFO:root:Training Loss : 0.4818441645493891\n",
      "INFO:root:Test Accuracy: 27.32%\n",
      "INFO:root:Test Loss: 3.054909940958023 \n",
      "\n",
      "  2%|▏         | 2/100 [01:35<1:18:01, 47.77s/it]"
     ]
    },
    {
     "name": "stdout",
     "output_type": "stream",
     "text": [
      "[744, 2575, 1320, 470, 2430, 2274, 267, 690, 209, 303]\n"
     ]
    },
    {
     "name": "stderr",
     "output_type": "stream",
     "text": [
      "INFO:root: \n",
      "Avg Training Stats after 3 global rounds:\n",
      "INFO:root:Train Accuracy: 0.00%\n",
      "INFO:root:Training Loss : 0.3207451547980804\n",
      "INFO:root:Test Accuracy: 27.80%\n",
      "INFO:root:Test Loss: 2.495320431292057 \n",
      "\n",
      "  3%|▎         | 3/100 [02:17<1:13:26, 45.42s/it]"
     ]
    },
    {
     "name": "stdout",
     "output_type": "stream",
     "text": [
      "[173, 690, 542, 1012, 2195, 1780, 1053, 87, 2934, 1736]\n"
     ]
    },
    {
     "name": "stderr",
     "output_type": "stream",
     "text": [
      "INFO:root: \n",
      "Avg Training Stats after 4 global rounds:\n",
      "INFO:root:Train Accuracy: 0.00%\n",
      "INFO:root:Training Loss : 0.47345383319964734\n",
      "INFO:root:Test Accuracy: 27.26%\n",
      "INFO:root:Test Loss: 2.0942499446868896 \n",
      "\n",
      "  4%|▍         | 4/100 [03:02<1:12:08, 45.09s/it]"
     ]
    },
    {
     "name": "stdout",
     "output_type": "stream",
     "text": [
      "[2430, 2575, 1736, 123, 15, 1780, 1018, 231, 87, 794]\n"
     ]
    },
    {
     "name": "stderr",
     "output_type": "stream",
     "text": [
      "INFO:root: \n",
      "Avg Training Stats after 5 global rounds:\n",
      "INFO:root:Train Accuracy: 0.00%\n",
      "INFO:root:Training Loss : 0.3139079481561884\n",
      "INFO:root:Test Accuracy: 14.64%\n",
      "INFO:root:Test Loss: 3.4135932157561184 \n",
      "\n",
      "  5%|▌         | 5/100 [03:43<1:09:12, 43.71s/it]"
     ]
    },
    {
     "name": "stdout",
     "output_type": "stream",
     "text": [
      "[1119, 87, 590, 794, 813, 303, 1320, 690, 1018, 422]\n"
     ]
    },
    {
     "name": "stderr",
     "output_type": "stream",
     "text": [
      "INFO:root: \n",
      "Avg Training Stats after 6 global rounds:\n",
      "INFO:root:Train Accuracy: 0.00%\n",
      "INFO:root:Training Loss : 0.2522546809797122\n",
      "INFO:root:Test Accuracy: 13.93%\n",
      "INFO:root:Test Loss: 3.2051449364796283 \n",
      "\n",
      "  6%|▌         | 6/100 [04:17<1:03:02, 40.24s/it]"
     ]
    },
    {
     "name": "stdout",
     "output_type": "stream",
     "text": [
      "[2029, 1433, 303, 327, 744, 862, 2934, 231, 1416, 278]\n"
     ]
    },
    {
     "name": "stderr",
     "output_type": "stream",
     "text": [
      "INFO:root: \n",
      "Avg Training Stats after 7 global rounds:\n",
      "INFO:root:Train Accuracy: 0.00%\n",
      "INFO:root:Training Loss : 0.35420084524923906\n",
      "INFO:root:Test Accuracy: 24.36%\n",
      "INFO:root:Test Loss: 2.3928734830021856 \n",
      "\n",
      "  7%|▋         | 7/100 [04:58<1:02:41, 40.44s/it]"
     ]
    },
    {
     "name": "stdout",
     "output_type": "stream",
     "text": [
      "[231, 1112, 327, 744, 286, 422, 15, 1798, 1053, 173]\n"
     ]
    },
    {
     "name": "stderr",
     "output_type": "stream",
     "text": [
      "INFO:root: \n",
      "Avg Training Stats after 8 global rounds:\n",
      "INFO:root:Train Accuracy: 0.00%\n",
      "INFO:root:Training Loss : 0.3539921024256546\n",
      "INFO:root:Test Accuracy: 39.59%\n",
      "INFO:root:Test Loss: 1.8304645484685897 \n",
      "\n",
      "  8%|▊         | 8/100 [05:29<57:35, 37.56s/it]  "
     ]
    },
    {
     "name": "stdout",
     "output_type": "stream",
     "text": [
      "[794, 278, 744, 862, 303, 19, 2274, 1053, 813, 1012]\n"
     ]
    },
    {
     "name": "stderr",
     "output_type": "stream",
     "text": [
      "INFO:root: \n",
      "Avg Training Stats after 9 global rounds:\n",
      "INFO:root:Train Accuracy: 0.00%\n",
      "INFO:root:Training Loss : 0.21914703863803447\n",
      "INFO:root:Test Accuracy: 29.43%\n",
      "INFO:root:Test Loss: 2.3077951869368554 \n",
      "\n",
      "  9%|▉         | 9/100 [06:05<56:10, 37.04s/it]"
     ]
    },
    {
     "name": "stdout",
     "output_type": "stream",
     "text": [
      "[1320, 40, 1756, 470, 327, 1012, 862, 1433, 796, 231]\n"
     ]
    },
    {
     "name": "stderr",
     "output_type": "stream",
     "text": [
      "INFO:root: \n",
      "Avg Training Stats after 10 global rounds:\n",
      "INFO:root:Train Accuracy: 0.00%\n",
      "INFO:root:Training Loss : 0.1734819017960107\n",
      "INFO:root:Test Accuracy: 31.13%\n",
      "INFO:root:Test Loss: 2.216066124290228 \n",
      "\n",
      " 10%|█         | 10/100 [06:41<55:04, 36.72s/it]"
     ]
    },
    {
     "name": "stdout",
     "output_type": "stream",
     "text": [
      "[87, 201, 1798, 813, 123, 2934, 1756, 231, 1053, 4600]\n"
     ]
    },
    {
     "name": "stderr",
     "output_type": "stream",
     "text": [
      "INFO:root: \n",
      "Avg Training Stats after 11 global rounds:\n",
      "INFO:root:Train Accuracy: 0.00%\n",
      "INFO:root:Training Loss : 0.24646180735099166\n",
      "INFO:root:Test Accuracy: 32.66%\n",
      "INFO:root:Test Loss: 2.052970227599144 \n",
      "\n",
      " 11%|█         | 11/100 [07:28<59:19, 40.00s/it]"
     ]
    },
    {
     "name": "stdout",
     "output_type": "stream",
     "text": [
      "[106, 231, 447, 796, 209, 1798, 1112, 1416, 590, 794]\n"
     ]
    },
    {
     "name": "stderr",
     "output_type": "stream",
     "text": [
      "INFO:root: \n",
      "Avg Training Stats after 12 global rounds:\n",
      "INFO:root:Train Accuracy: 0.00%\n",
      "INFO:root:Training Loss : 0.16836062557873974\n",
      "INFO:root:Test Accuracy: 45.49%\n",
      "INFO:root:Test Loss: 1.847254597246647 \n",
      "\n",
      " 12%|█▏        | 12/100 [08:03<56:13, 38.34s/it]"
     ]
    },
    {
     "name": "stdout",
     "output_type": "stream",
     "text": [
      "[1320, 278, 862, 2274, 1798, 87, 2029, 796, 1018, 2430]\n"
     ]
    },
    {
     "name": "stderr",
     "output_type": "stream",
     "text": [
      "INFO:root: \n",
      "Avg Training Stats after 13 global rounds:\n",
      "INFO:root:Train Accuracy: 0.00%\n",
      "INFO:root:Training Loss : 0.18689779347534352\n",
      "INFO:root:Test Accuracy: 43.59%\n",
      "INFO:root:Test Loss: 1.9270335194468498 \n",
      "\n",
      " 13%|█▎        | 13/100 [08:49<58:55, 40.64s/it]"
     ]
    },
    {
     "name": "stdout",
     "output_type": "stream",
     "text": [
      "[4600, 2575, 590, 173, 2430, 40, 1112, 87, 231, 2195]\n"
     ]
    },
    {
     "name": "stderr",
     "output_type": "stream",
     "text": [
      "INFO:root: \n",
      "Avg Training Stats after 14 global rounds:\n",
      "INFO:root:Train Accuracy: 0.00%\n",
      "INFO:root:Training Loss : 0.25318299547616874\n",
      "INFO:root:Test Accuracy: 45.44%\n",
      "INFO:root:Test Loss: 1.6216183499991894 \n",
      "\n",
      " 14%|█▍        | 14/100 [09:37<1:01:35, 42.98s/it]"
     ]
    },
    {
     "name": "stdout",
     "output_type": "stream",
     "text": [
      "[231, 794, 1018, 1012, 15, 303, 796, 2274, 1320, 19]\n"
     ]
    },
    {
     "name": "stderr",
     "output_type": "stream",
     "text": [
      "INFO:root: \n",
      "Avg Training Stats after 15 global rounds:\n",
      "INFO:root:Train Accuracy: 0.00%\n",
      "INFO:root:Training Loss : 0.2072386817628206\n",
      "INFO:root:Test Accuracy: 43.83%\n",
      "INFO:root:Test Loss: 1.6726656989753246 \n",
      "\n",
      " 15%|█▌        | 15/100 [10:12<57:24, 40.52s/it]  "
     ]
    },
    {
     "name": "stdout",
     "output_type": "stream",
     "text": [
      "[2195, 40, 2029, 862, 2575, 1433, 447, 19, 4600, 796]\n"
     ]
    },
    {
     "name": "stderr",
     "output_type": "stream",
     "text": [
      "INFO:root: \n",
      "Avg Training Stats after 16 global rounds:\n",
      "INFO:root:Train Accuracy: 0.00%\n",
      "INFO:root:Training Loss : 0.19476187687576713\n",
      "INFO:root:Test Accuracy: 49.31%\n",
      "INFO:root:Test Loss: 1.5913271418213843 \n",
      "\n",
      " 16%|█▌        | 16/100 [11:03<1:00:58, 43.55s/it]"
     ]
    },
    {
     "name": "stdout",
     "output_type": "stream",
     "text": [
      "[231, 173, 303, 2274, 796, 116, 1798, 447, 106, 1433]\n"
     ]
    },
    {
     "name": "stderr",
     "output_type": "stream",
     "text": [
      "INFO:root: \n",
      "Avg Training Stats after 17 global rounds:\n",
      "INFO:root:Train Accuracy: 0.00%\n",
      "INFO:root:Training Loss : 0.1792426565351473\n",
      "INFO:root:Test Accuracy: 42.50%\n",
      "INFO:root:Test Loss: 1.9681352131813765 \n",
      "\n",
      " 17%|█▋        | 17/100 [11:37<56:38, 40.94s/it]  "
     ]
    },
    {
     "name": "stdout",
     "output_type": "stream",
     "text": [
      "[201, 1756, 796, 1320, 813, 542, 116, 173, 794, 1798]\n"
     ]
    },
    {
     "name": "stderr",
     "output_type": "stream",
     "text": [
      "INFO:root: \n",
      "Avg Training Stats after 18 global rounds:\n",
      "INFO:root:Train Accuracy: 0.00%\n",
      "INFO:root:Training Loss : 0.23294573670688595\n",
      "INFO:root:Test Accuracy: 49.86%\n",
      "INFO:root:Test Loss: 1.615485254228115 \n",
      "\n",
      " 18%|█▊        | 18/100 [12:14<54:08, 39.61s/it]"
     ]
    },
    {
     "name": "stdout",
     "output_type": "stream",
     "text": [
      "[15, 1780, 19, 744, 2575, 173, 813, 40, 1320, 422]\n"
     ]
    },
    {
     "name": "stderr",
     "output_type": "stream",
     "text": [
      "INFO:root: \n",
      "Avg Training Stats after 19 global rounds:\n",
      "INFO:root:Train Accuracy: 0.00%\n",
      "INFO:root:Training Loss : 0.3061009882460651\n",
      "INFO:root:Test Accuracy: 23.58%\n",
      "INFO:root:Test Loss: 3.1511900660768153 \n",
      "\n",
      " 19%|█▉        | 19/100 [12:49<51:35, 38.22s/it]"
     ]
    },
    {
     "name": "stdout",
     "output_type": "stream",
     "text": [
      "[813, 1736, 15, 1433, 267, 470, 3195, 744, 2575, 231]\n"
     ]
    },
    {
     "name": "stderr",
     "output_type": "stream",
     "text": [
      "INFO:root: \n",
      "Avg Training Stats after 20 global rounds:\n",
      "INFO:root:Train Accuracy: 0.00%\n",
      "INFO:root:Training Loss : 0.22401336590771007\n",
      "INFO:root:Test Accuracy: 30.79%\n",
      "INFO:root:Test Loss: 2.5968418840691445 \n",
      "\n",
      " 20%|██        | 20/100 [13:32<52:52, 39.66s/it]"
     ]
    },
    {
     "name": "stdout",
     "output_type": "stream",
     "text": [
      "[278, 744, 1053, 447, 1320, 116, 1798, 19, 4600, 3195]\n"
     ]
    },
    {
     "name": "stderr",
     "output_type": "stream",
     "text": [
      "INFO:root: \n",
      "Avg Training Stats after 21 global rounds:\n",
      "INFO:root:Train Accuracy: 0.00%\n",
      "INFO:root:Training Loss : 0.2385302992669196\n",
      "INFO:root:Test Accuracy: 36.09%\n",
      "INFO:root:Test Loss: 2.250188196003437 \n",
      "\n",
      " 21%|██        | 21/100 [14:20<55:24, 42.09s/it]"
     ]
    },
    {
     "name": "stdout",
     "output_type": "stream",
     "text": [
      "[813, 2029, 602, 590, 1756, 106, 1780, 40, 19, 2934]\n"
     ]
    },
    {
     "name": "stderr",
     "output_type": "stream",
     "text": [
      "INFO:root: \n",
      "Avg Training Stats after 22 global rounds:\n",
      "INFO:root:Train Accuracy: 0.00%\n",
      "INFO:root:Training Loss : 0.16291568421323097\n",
      "INFO:root:Test Accuracy: 36.89%\n",
      "INFO:root:Test Loss: 1.9860353146493435 \n",
      "\n",
      " 22%|██▏       | 22/100 [15:01<54:24, 41.85s/it]"
     ]
    },
    {
     "name": "stdout",
     "output_type": "stream",
     "text": [
      "[40, 862, 327, 1780, 2274, 106, 1053, 1112, 1012, 3195]\n"
     ]
    },
    {
     "name": "stderr",
     "output_type": "stream",
     "text": [
      "INFO:root: \n",
      "Avg Training Stats after 23 global rounds:\n",
      "INFO:root:Train Accuracy: 0.00%\n",
      "INFO:root:Training Loss : 0.20574627045620586\n",
      "INFO:root:Test Accuracy: 47.30%\n",
      "INFO:root:Test Loss: 1.5674080255627632 \n",
      "\n",
      " 23%|██▎       | 23/100 [15:45<54:28, 42.44s/it]"
     ]
    },
    {
     "name": "stdout",
     "output_type": "stream",
     "text": [
      "[1320, 1119, 862, 744, 1053, 87, 201, 470, 2274, 1012]\n"
     ]
    },
    {
     "name": "stderr",
     "output_type": "stream",
     "text": [
      "INFO:root: \n",
      "Avg Training Stats after 24 global rounds:\n",
      "INFO:root:Train Accuracy: 0.00%\n",
      "INFO:root:Training Loss : 0.18594147282108883\n",
      "INFO:root:Test Accuracy: 43.04%\n",
      "INFO:root:Test Loss: 1.7676811911165715 \n",
      "\n",
      " 24%|██▍       | 24/100 [16:23<52:03, 41.10s/it]"
     ]
    },
    {
     "name": "stdout",
     "output_type": "stream",
     "text": [
      "[447, 286, 1416, 87, 796, 1798, 231, 1119, 431, 2195]\n"
     ]
    },
    {
     "name": "stderr",
     "output_type": "stream",
     "text": [
      "INFO:root: \n",
      "Avg Training Stats after 25 global rounds:\n",
      "INFO:root:Train Accuracy: 0.00%\n",
      "INFO:root:Training Loss : 0.2476716930341616\n",
      "INFO:root:Test Accuracy: 40.49%\n",
      "INFO:root:Test Loss: 1.733544853180647 \n",
      "\n",
      " 25%|██▌       | 25/100 [17:00<49:57, 39.96s/it]"
     ]
    },
    {
     "name": "stdout",
     "output_type": "stream",
     "text": [
      "[116, 2029, 690, 1416, 1780, 602, 2575, 1756, 431, 87]\n"
     ]
    },
    {
     "name": "stderr",
     "output_type": "stream",
     "text": [
      "INFO:root: \n",
      "Avg Training Stats after 26 global rounds:\n",
      "INFO:root:Train Accuracy: 0.00%\n",
      "INFO:root:Training Loss : 0.2673556668654462\n",
      "INFO:root:Test Accuracy: 45.44%\n",
      "INFO:root:Test Loss: 1.5931033273041248 \n",
      "\n",
      " 26%|██▌       | 26/100 [17:43<50:27, 40.91s/it]"
     ]
    },
    {
     "name": "stdout",
     "output_type": "stream",
     "text": [
      "[87, 173, 2029, 19, 4600, 2195, 116, 303, 40, 209]\n"
     ]
    },
    {
     "name": "stderr",
     "output_type": "stream",
     "text": [
      "INFO:root: \n",
      "Avg Training Stats after 27 global rounds:\n",
      "INFO:root:Train Accuracy: 0.00%\n",
      "INFO:root:Training Loss : 0.2605678337884294\n",
      "INFO:root:Test Accuracy: 47.99%\n",
      "INFO:root:Test Loss: 1.8175364270806313 \n",
      "\n",
      " 27%|██▋       | 27/100 [18:23<49:13, 40.45s/it]"
     ]
    },
    {
     "name": "stdout",
     "output_type": "stream",
     "text": [
      "[4600, 267, 794, 231, 201, 231, 2934, 590, 470, 173]\n"
     ]
    },
    {
     "name": "stderr",
     "output_type": "stream",
     "text": [
      "INFO:root: \n",
      "Avg Training Stats after 28 global rounds:\n",
      "INFO:root:Train Accuracy: 0.00%\n",
      "INFO:root:Training Loss : 0.2321419038880638\n",
      "INFO:root:Test Accuracy: 42.11%\n",
      "INFO:root:Test Loss: 2.047010670900345 \n",
      "\n",
      " 28%|██▊       | 28/100 [19:04<48:45, 40.63s/it]"
     ]
    },
    {
     "name": "stdout",
     "output_type": "stream",
     "text": [
      "[1798, 286, 123, 1112, 303, 796, 744, 1320, 231, 794]\n"
     ]
    },
    {
     "name": "stderr",
     "output_type": "stream",
     "text": [
      "INFO:root: \n",
      "Avg Training Stats after 29 global rounds:\n",
      "INFO:root:Train Accuracy: 0.00%\n",
      "INFO:root:Training Loss : 0.11010617901813854\n",
      "INFO:root:Test Accuracy: 54.58%\n",
      "INFO:root:Test Loss: 1.3096634700894356 \n",
      "\n",
      " 29%|██▉       | 29/100 [19:38<45:55, 38.81s/it]"
     ]
    },
    {
     "name": "stdout",
     "output_type": "stream",
     "text": [
      "[303, 4600, 1119, 447, 744, 40, 1756, 2430, 2029, 602]\n"
     ]
    },
    {
     "name": "stderr",
     "output_type": "stream",
     "text": [
      "INFO:root: \n",
      "Avg Training Stats after 30 global rounds:\n",
      "INFO:root:Train Accuracy: 0.00%\n",
      "INFO:root:Training Loss : 0.10706603130036699\n",
      "INFO:root:Test Accuracy: 46.57%\n",
      "INFO:root:Test Loss: 1.748686599507928 \n",
      "\n",
      " 30%|███       | 30/100 [20:27<48:42, 41.74s/it]"
     ]
    },
    {
     "name": "stdout",
     "output_type": "stream",
     "text": [
      "[422, 3195, 1112, 327, 123, 1736, 303, 286, 106, 1433]\n"
     ]
    },
    {
     "name": "stderr",
     "output_type": "stream",
     "text": [
      "INFO:root: \n",
      "Avg Training Stats after 31 global rounds:\n",
      "INFO:root:Train Accuracy: 0.00%\n",
      "INFO:root:Training Loss : 0.16950729580453197\n",
      "INFO:root:Test Accuracy: 28.62%\n",
      "INFO:root:Test Loss: 2.909486335599795 \n",
      "\n",
      " 31%|███       | 31/100 [21:05<46:41, 40.61s/it]"
     ]
    },
    {
     "name": "stdout",
     "output_type": "stream",
     "text": [
      "[862, 173, 422, 303, 123, 1012, 542, 278, 431, 2195]\n"
     ]
    },
    {
     "name": "stderr",
     "output_type": "stream",
     "text": [
      "INFO:root: \n",
      "Avg Training Stats after 32 global rounds:\n",
      "INFO:root:Train Accuracy: 0.00%\n",
      "INFO:root:Training Loss : 0.2913813743632362\n",
      "INFO:root:Test Accuracy: 41.22%\n",
      "INFO:root:Test Loss: 1.9365192256122827 \n",
      "\n",
      " 32%|███▏      | 32/100 [21:37<43:08, 38.07s/it]"
     ]
    },
    {
     "name": "stdout",
     "output_type": "stream",
     "text": [
      "[1320, 15, 19, 1756, 231, 470, 267, 87, 862, 327]\n"
     ]
    },
    {
     "name": "stderr",
     "output_type": "stream",
     "text": [
      "INFO:root: \n",
      "Avg Training Stats after 33 global rounds:\n",
      "INFO:root:Train Accuracy: 0.00%\n",
      "INFO:root:Training Loss : 0.2866367254138497\n",
      "INFO:root:Test Accuracy: 40.77%\n",
      "INFO:root:Test Loss: 1.8217089647054672 \n",
      "\n",
      " 33%|███▎      | 33/100 [22:06<39:41, 35.54s/it]"
     ]
    },
    {
     "name": "stdout",
     "output_type": "stream",
     "text": [
      "[87, 267, 796, 1053, 1433, 2575, 1119, 794, 15, 327]\n"
     ]
    },
    {
     "name": "stderr",
     "output_type": "stream",
     "text": [
      "INFO:root: \n",
      "Avg Training Stats after 34 global rounds:\n",
      "INFO:root:Train Accuracy: 0.00%\n",
      "INFO:root:Training Loss : 0.20428970077796663\n",
      "INFO:root:Test Accuracy: 50.66%\n",
      "INFO:root:Test Loss: 1.5002936381101608 \n",
      "\n",
      " 34%|███▍      | 34/100 [22:43<39:23, 35.82s/it]"
     ]
    },
    {
     "name": "stdout",
     "output_type": "stream",
     "text": [
      "[422, 1798, 590, 796, 19, 1320, 173, 1416, 1053, 4600]\n"
     ]
    },
    {
     "name": "stderr",
     "output_type": "stream",
     "text": [
      "INFO:root: \n",
      "Avg Training Stats after 35 global rounds:\n",
      "INFO:root:Train Accuracy: 0.00%\n",
      "INFO:root:Training Loss : 0.19358244313437362\n",
      "INFO:root:Test Accuracy: 51.87%\n",
      "INFO:root:Test Loss: 1.5745652930438518 \n",
      "\n",
      " 35%|███▌      | 35/100 [23:27<41:36, 38.40s/it]"
     ]
    },
    {
     "name": "stdout",
     "output_type": "stream",
     "text": [
      "[2430, 1320, 602, 3195, 231, 2934, 431, 794, 1416, 542]\n"
     ]
    },
    {
     "name": "stderr",
     "output_type": "stream",
     "text": [
      "INFO:root: \n",
      "Avg Training Stats after 36 global rounds:\n",
      "INFO:root:Train Accuracy: 0.00%\n",
      "INFO:root:Training Loss : 0.17085933624696187\n",
      "INFO:root:Test Accuracy: 47.98%\n",
      "INFO:root:Test Loss: 1.5779045397043228 \n",
      "\n",
      " 36%|███▌      | 36/100 [24:16<44:11, 41.43s/it]"
     ]
    },
    {
     "name": "stdout",
     "output_type": "stream",
     "text": [
      "[15, 813, 1112, 123, 40, 796, 2274, 1018, 2195, 201]\n"
     ]
    },
    {
     "name": "stderr",
     "output_type": "stream",
     "text": [
      "INFO:root: \n",
      "Avg Training Stats after 37 global rounds:\n",
      "INFO:root:Train Accuracy: 0.00%\n",
      "INFO:root:Training Loss : 0.1661618939826527\n",
      "INFO:root:Test Accuracy: 38.48%\n",
      "INFO:root:Test Loss: 2.018083514869213 \n",
      "\n",
      " 37%|███▋      | 37/100 [24:53<42:06, 40.10s/it]"
     ]
    },
    {
     "name": "stdout",
     "output_type": "stream",
     "text": [
      "[303, 2195, 422, 1112, 1433, 116, 796, 602, 1756, 231]\n"
     ]
    },
    {
     "name": "stderr",
     "output_type": "stream",
     "text": [
      "INFO:root: \n",
      "Avg Training Stats after 38 global rounds:\n",
      "INFO:root:Train Accuracy: 0.00%\n",
      "INFO:root:Training Loss : 0.18385695095710508\n",
      "INFO:root:Test Accuracy: 40.88%\n",
      "INFO:root:Test Loss: 1.9268328182771801 \n",
      "\n",
      " 38%|███▊      | 38/100 [25:31<40:40, 39.37s/it]"
     ]
    },
    {
     "name": "stdout",
     "output_type": "stream",
     "text": [
      "[1756, 231, 267, 2430, 590, 1736, 15, 4600, 327, 1112]\n"
     ]
    },
    {
     "name": "stderr",
     "output_type": "stream",
     "text": [
      "INFO:root: \n",
      "Avg Training Stats after 39 global rounds:\n",
      "INFO:root:Train Accuracy: 0.00%\n",
      "INFO:root:Training Loss : 0.1855897215168428\n",
      "INFO:root:Test Accuracy: 43.78%\n",
      "INFO:root:Test Loss: 1.789315809905529 \n",
      "\n",
      " 39%|███▉      | 39/100 [26:17<42:19, 41.63s/it]"
     ]
    },
    {
     "name": "stdout",
     "output_type": "stream",
     "text": [
      "[2575, 422, 3195, 862, 231, 796, 2934, 123, 2430, 794]\n"
     ]
    },
    {
     "name": "stderr",
     "output_type": "stream",
     "text": [
      "INFO:root: \n",
      "Avg Training Stats after 40 global rounds:\n",
      "INFO:root:Train Accuracy: 0.00%\n",
      "INFO:root:Training Loss : 0.1586522988870696\n",
      "INFO:root:Test Accuracy: 54.39%\n",
      "INFO:root:Test Loss: 1.2548294685781003 \n",
      "\n",
      " 40%|████      | 40/100 [27:07<43:57, 43.97s/it]"
     ]
    },
    {
     "name": "stdout",
     "output_type": "stream",
     "text": [
      "[231, 1119, 1736, 278, 447, 1018, 286, 744, 690, 173]\n"
     ]
    },
    {
     "name": "stderr",
     "output_type": "stream",
     "text": [
      "INFO:root: \n",
      "Avg Training Stats after 41 global rounds:\n",
      "INFO:root:Train Accuracy: 0.00%\n",
      "INFO:root:Training Loss : 0.17645985753157906\n",
      "INFO:root:Test Accuracy: 53.72%\n",
      "INFO:root:Test Loss: 1.3105373467504977 \n",
      "\n",
      " 41%|████      | 41/100 [27:40<39:58, 40.65s/it]"
     ]
    },
    {
     "name": "stdout",
     "output_type": "stream",
     "text": [
      "[231, 1320, 1416, 2575, 2274, 862, 690, 602, 1012, 173]\n"
     ]
    },
    {
     "name": "stderr",
     "output_type": "stream",
     "text": [
      "INFO:root: \n",
      "Avg Training Stats after 42 global rounds:\n",
      "INFO:root:Train Accuracy: 0.00%\n",
      "INFO:root:Training Loss : 0.18710924280203006\n",
      "INFO:root:Test Accuracy: 57.99%\n",
      "INFO:root:Test Loss: 1.1966752260923386 \n",
      "\n",
      " 42%|████▏     | 42/100 [28:22<39:46, 41.15s/it]"
     ]
    },
    {
     "name": "stdout",
     "output_type": "stream",
     "text": [
      "[1112, 1053, 3195, 2934, 2029, 201, 123, 2195, 1018, 173]\n"
     ]
    },
    {
     "name": "stderr",
     "output_type": "stream",
     "text": [
      "INFO:root: \n",
      "Avg Training Stats after 43 global rounds:\n",
      "INFO:root:Train Accuracy: 0.00%\n",
      "INFO:root:Training Loss : 0.2045701113324392\n",
      "INFO:root:Test Accuracy: 49.01%\n",
      "INFO:root:Test Loss: 1.6202283903956414 \n",
      "\n",
      " 43%|████▎     | 43/100 [29:11<41:11, 43.37s/it]"
     ]
    },
    {
     "name": "stdout",
     "output_type": "stream",
     "text": [
      "[862, 1053, 422, 3195, 4600, 794, 1756, 173, 2029, 1018]\n"
     ]
    },
    {
     "name": "stderr",
     "output_type": "stream",
     "text": [
      "INFO:root: \n",
      "Avg Training Stats after 44 global rounds:\n",
      "INFO:root:Train Accuracy: 0.00%\n",
      "INFO:root:Training Loss : 0.20326273035517958\n",
      "INFO:root:Test Accuracy: 49.29%\n",
      "INFO:root:Test Loss: 1.708088251799345 \n",
      "\n",
      " 44%|████▍     | 44/100 [30:04<43:08, 46.22s/it]"
     ]
    },
    {
     "name": "stdout",
     "output_type": "stream",
     "text": [
      "[1320, 2934, 796, 2195, 862, 2575, 2029, 19, 422, 286]\n"
     ]
    },
    {
     "name": "stderr",
     "output_type": "stream",
     "text": [
      "INFO:root: \n",
      "Avg Training Stats after 45 global rounds:\n",
      "INFO:root:Train Accuracy: 0.00%\n",
      "INFO:root:Training Loss : 0.1692410034838823\n",
      "INFO:root:Test Accuracy: 55.54%\n",
      "INFO:root:Test Loss: 1.3788325238227843 \n",
      "\n",
      " 45%|████▌     | 45/100 [30:51<42:39, 46.54s/it]"
     ]
    },
    {
     "name": "stdout",
     "output_type": "stream",
     "text": [
      "[862, 744, 1416, 1112, 590, 542, 278, 690, 116, 1780]\n"
     ]
    },
    {
     "name": "stderr",
     "output_type": "stream",
     "text": [
      "INFO:root: \n",
      "Avg Training Stats after 46 global rounds:\n",
      "INFO:root:Train Accuracy: 0.00%\n",
      "INFO:root:Training Loss : 0.2610406103211901\n",
      "INFO:root:Test Accuracy: 49.52%\n",
      "INFO:root:Test Loss: 1.5383883014321327 \n",
      "\n",
      " 46%|████▌     | 46/100 [31:26<38:54, 43.24s/it]"
     ]
    },
    {
     "name": "stdout",
     "output_type": "stream",
     "text": [
      "[2575, 1112, 1320, 231, 3195, 1012, 862, 447, 2195, 201]\n"
     ]
    },
    {
     "name": "stderr",
     "output_type": "stream",
     "text": [
      "INFO:root: \n",
      "Avg Training Stats after 47 global rounds:\n",
      "INFO:root:Train Accuracy: 0.00%\n",
      "INFO:root:Training Loss : 0.1204165805273331\n",
      "INFO:root:Test Accuracy: 48.13%\n",
      "INFO:root:Test Loss: 1.5768593272566795 \n",
      "\n",
      " 47%|████▋     | 47/100 [32:13<39:05, 44.26s/it]"
     ]
    },
    {
     "name": "stdout",
     "output_type": "stream",
     "text": [
      "[1433, 542, 813, 231, 1119, 2029, 1012, 173, 2195, 1320]\n"
     ]
    },
    {
     "name": "stderr",
     "output_type": "stream",
     "text": [
      "INFO:root: \n",
      "Avg Training Stats after 48 global rounds:\n",
      "INFO:root:Train Accuracy: 0.00%\n",
      "INFO:root:Training Loss : 0.12324991597589699\n",
      "INFO:root:Test Accuracy: 45.57%\n",
      "INFO:root:Test Loss: 1.8260528954863549 \n",
      "\n",
      " 48%|████▊     | 48/100 [32:54<37:38, 43.44s/it]"
     ]
    },
    {
     "name": "stdout",
     "output_type": "stream",
     "text": [
      "[744, 2195, 209, 1780, 2575, 123, 327, 40, 1736, 690]\n"
     ]
    },
    {
     "name": "stderr",
     "output_type": "stream",
     "text": [
      "INFO:root: \n",
      "Avg Training Stats after 49 global rounds:\n",
      "INFO:root:Train Accuracy: 0.00%\n",
      "INFO:root:Training Loss : 0.22893891875953246\n",
      "INFO:root:Test Accuracy: 33.39%\n",
      "INFO:root:Test Loss: 2.594029738418758 \n",
      "\n",
      " 49%|████▉     | 49/100 [33:36<36:20, 42.75s/it]"
     ]
    },
    {
     "name": "stdout",
     "output_type": "stream",
     "text": [
      "[862, 690, 1433, 173, 3195, 2934, 116, 447, 231, 431]\n"
     ]
    },
    {
     "name": "stderr",
     "output_type": "stream",
     "text": [
      "INFO:root: \n",
      "Avg Training Stats after 50 global rounds:\n",
      "INFO:root:Train Accuracy: 0.00%\n",
      "INFO:root:Training Loss : 0.23875023946046356\n",
      "INFO:root:Test Accuracy: 34.48%\n",
      "INFO:root:Test Loss: 2.4435191403049976 \n",
      "\n",
      " 50%|█████     | 50/100 [34:17<35:12, 42.25s/it]"
     ]
    },
    {
     "name": "stdout",
     "output_type": "stream",
     "text": [
      "[1320, 19, 3195, 87, 1756, 303, 813, 2575, 231, 231]\n"
     ]
    },
    {
     "name": "stderr",
     "output_type": "stream",
     "text": [
      "INFO:root: \n",
      "Avg Training Stats after 51 global rounds:\n",
      "INFO:root:Train Accuracy: 0.00%\n",
      "INFO:root:Training Loss : 0.1087840075365634\n",
      "INFO:root:Test Accuracy: 40.71%\n",
      "INFO:root:Test Loss: 2.1554789155721665 \n",
      "\n",
      " 51%|█████     | 51/100 [34:58<34:09, 41.83s/it]"
     ]
    },
    {
     "name": "stdout",
     "output_type": "stream",
     "text": [
      "[40, 813, 1780, 2934, 15, 173, 278, 19, 1798, 267]\n"
     ]
    },
    {
     "name": "stderr",
     "output_type": "stream",
     "text": [
      "INFO:root: \n",
      "Avg Training Stats after 52 global rounds:\n",
      "INFO:root:Train Accuracy: 0.00%\n",
      "INFO:root:Training Loss : 0.21934207630115093\n",
      "INFO:root:Test Accuracy: 49.37%\n",
      "INFO:root:Test Loss: 1.4432752665877342 \n",
      "\n",
      " 52%|█████▏    | 52/100 [35:33<31:55, 39.90s/it]"
     ]
    },
    {
     "name": "stdout",
     "output_type": "stream",
     "text": [
      "[267, 231, 690, 173, 1780, 1053, 862, 590, 1433, 303]\n"
     ]
    },
    {
     "name": "stderr",
     "output_type": "stream",
     "text": [
      "INFO:root: \n",
      "Avg Training Stats after 53 global rounds:\n",
      "INFO:root:Train Accuracy: 0.00%\n",
      "INFO:root:Training Loss : 0.2076139078853064\n",
      "INFO:root:Test Accuracy: 56.49%\n",
      "INFO:root:Test Loss: 1.3064029800891876 \n",
      "\n",
      " 53%|█████▎    | 53/100 [36:07<29:55, 38.19s/it]"
     ]
    },
    {
     "name": "stdout",
     "output_type": "stream",
     "text": [
      "[431, 3195, 201, 796, 2934, 15, 231, 1112, 1736, 267]\n"
     ]
    },
    {
     "name": "stderr",
     "output_type": "stream",
     "text": [
      "INFO:root: \n",
      "Avg Training Stats after 54 global rounds:\n",
      "INFO:root:Train Accuracy: 0.00%\n",
      "INFO:root:Training Loss : 0.1710265076104496\n",
      "INFO:root:Test Accuracy: 34.96%\n",
      "INFO:root:Test Loss: 2.3113016099855304 \n",
      "\n",
      " 54%|█████▍    | 54/100 [36:49<30:07, 39.30s/it]"
     ]
    },
    {
     "name": "stdout",
     "output_type": "stream",
     "text": [
      "[40, 1320, 1416, 286, 2195, 1012, 201, 116, 1053, 542]\n"
     ]
    },
    {
     "name": "stderr",
     "output_type": "stream",
     "text": [
      "INFO:root: \n",
      "Avg Training Stats after 55 global rounds:\n",
      "INFO:root:Train Accuracy: 0.00%\n",
      "INFO:root:Training Loss : 0.2314430182308908\n",
      "INFO:root:Test Accuracy: 49.20%\n",
      "INFO:root:Test Loss: 1.5502223278582097 \n",
      "\n",
      " 55%|█████▌    | 55/100 [37:25<28:40, 38.22s/it]"
     ]
    },
    {
     "name": "stdout",
     "output_type": "stream",
     "text": [
      "[1798, 422, 231, 4600, 231, 2575, 1433, 106, 1320, 862]\n"
     ]
    },
    {
     "name": "stderr",
     "output_type": "stream",
     "text": [
      "INFO:root: \n",
      "Avg Training Stats after 56 global rounds:\n",
      "INFO:root:Train Accuracy: 0.00%\n",
      "INFO:root:Training Loss : 0.11790127860106044\n",
      "INFO:root:Test Accuracy: 53.26%\n",
      "INFO:root:Test Loss: 1.3917465010285377 \n",
      "\n",
      " 56%|█████▌    | 56/100 [38:13<30:11, 41.16s/it]"
     ]
    },
    {
     "name": "stdout",
     "output_type": "stream",
     "text": [
      "[2274, 3195, 267, 2029, 590, 327, 2195, 278, 1756, 813]\n"
     ]
    },
    {
     "name": "stderr",
     "output_type": "stream",
     "text": [
      "INFO:root: \n",
      "Avg Training Stats after 57 global rounds:\n",
      "INFO:root:Train Accuracy: 0.00%\n",
      "INFO:root:Training Loss : 0.14033014432270005\n",
      "INFO:root:Test Accuracy: 50.28%\n",
      "INFO:root:Test Loss: 1.6392244776338338 \n",
      "\n",
      " 57%|█████▋    | 57/100 [39:01<30:57, 43.20s/it]"
     ]
    },
    {
     "name": "stdout",
     "output_type": "stream",
     "text": [
      "[1798, 431, 123, 1320, 1416, 231, 2575, 2934, 19, 1756]\n"
     ]
    },
    {
     "name": "stderr",
     "output_type": "stream",
     "text": [
      "INFO:root: \n",
      "Avg Training Stats after 58 global rounds:\n",
      "INFO:root:Train Accuracy: 0.00%\n",
      "INFO:root:Training Loss : 0.14911563796612962\n",
      "INFO:root:Test Accuracy: 61.22%\n",
      "INFO:root:Test Loss: 1.08158611536026 \n",
      "\n",
      " 58%|█████▊    | 58/100 [39:47<30:47, 43.99s/it]"
     ]
    },
    {
     "name": "stdout",
     "output_type": "stream",
     "text": [
      "[1018, 267, 2274, 447, 2029, 690, 590, 303, 1119, 796]\n"
     ]
    },
    {
     "name": "stderr",
     "output_type": "stream",
     "text": [
      "INFO:root: \n",
      "Avg Training Stats after 59 global rounds:\n",
      "INFO:root:Train Accuracy: 0.00%\n",
      "INFO:root:Training Loss : 0.10177701387886506\n",
      "INFO:root:Test Accuracy: 51.07%\n",
      "INFO:root:Test Loss: 1.6670811399817467 \n",
      "\n",
      " 59%|█████▉    | 59/100 [40:25<28:58, 42.40s/it]"
     ]
    },
    {
     "name": "stdout",
     "output_type": "stream",
     "text": [
      "[106, 2430, 447, 1433, 1012, 3195, 1119, 1756, 862, 4600]\n"
     ]
    },
    {
     "name": "stderr",
     "output_type": "stream",
     "text": [
      "INFO:root: \n",
      "Avg Training Stats after 60 global rounds:\n",
      "INFO:root:Train Accuracy: 0.00%\n",
      "INFO:root:Training Loss : 0.07771234120827604\n",
      "INFO:root:Test Accuracy: 43.13%\n",
      "INFO:root:Test Loss: 1.9823174911364914 \n",
      "\n",
      " 60%|██████    | 60/100 [41:20<30:45, 46.13s/it]"
     ]
    },
    {
     "name": "stdout",
     "output_type": "stream",
     "text": [
      "[1780, 1320, 286, 2029, 40, 796, 447, 15, 231, 744]\n"
     ]
    },
    {
     "name": "stderr",
     "output_type": "stream",
     "text": [
      "INFO:root: \n",
      "Avg Training Stats after 61 global rounds:\n",
      "INFO:root:Train Accuracy: 0.00%\n",
      "INFO:root:Training Loss : 0.1643461160130752\n",
      "INFO:root:Test Accuracy: 46.25%\n",
      "INFO:root:Test Loss: 1.923087910823524 \n",
      "\n",
      " 61%|██████    | 61/100 [41:55<27:48, 42.78s/it]"
     ]
    },
    {
     "name": "stdout",
     "output_type": "stream",
     "text": [
      "[116, 15, 2029, 327, 19, 470, 422, 87, 1012, 303]\n"
     ]
    },
    {
     "name": "stderr",
     "output_type": "stream",
     "text": [
      "INFO:root: \n",
      "Avg Training Stats after 62 global rounds:\n",
      "INFO:root:Train Accuracy: 0.00%\n",
      "INFO:root:Training Loss : 0.22957782534881002\n",
      "INFO:root:Test Accuracy: 36.59%\n",
      "INFO:root:Test Loss: 2.524389978507534 \n",
      "\n",
      " 62%|██████▏   | 62/100 [42:24<24:24, 38.53s/it]"
     ]
    },
    {
     "name": "stdout",
     "output_type": "stream",
     "text": [
      "[796, 2274, 862, 286, 813, 3195, 1112, 422, 1119, 327]\n"
     ]
    },
    {
     "name": "stderr",
     "output_type": "stream",
     "text": [
      "INFO:root: \n",
      "Avg Training Stats after 63 global rounds:\n",
      "INFO:root:Train Accuracy: 0.00%\n",
      "INFO:root:Training Loss : 0.13541241069313442\n",
      "INFO:root:Test Accuracy: 52.45%\n",
      "INFO:root:Test Loss: 1.4525407069176435 \n",
      "\n",
      " 63%|██████▎   | 63/100 [43:06<24:27, 39.66s/it]"
     ]
    },
    {
     "name": "stdout",
     "output_type": "stream",
     "text": [
      "[542, 1798, 690, 15, 267, 2575, 796, 590, 209, 470]\n"
     ]
    },
    {
     "name": "stderr",
     "output_type": "stream",
     "text": [
      "INFO:root: \n",
      "Avg Training Stats after 64 global rounds:\n",
      "INFO:root:Train Accuracy: 0.00%\n",
      "INFO:root:Training Loss : 0.1589486473374042\n",
      "INFO:root:Test Accuracy: 53.88%\n",
      "INFO:root:Test Loss: 1.4897275267541408 \n",
      "\n",
      " 64%|██████▍   | 64/100 [43:42<23:02, 38.42s/it]"
     ]
    },
    {
     "name": "stdout",
     "output_type": "stream",
     "text": [
      "[87, 267, 286, 1053, 303, 796, 40, 173, 19, 327]\n"
     ]
    },
    {
     "name": "stderr",
     "output_type": "stream",
     "text": [
      "INFO:root: \n",
      "Avg Training Stats after 65 global rounds:\n",
      "INFO:root:Train Accuracy: 0.00%\n",
      "INFO:root:Training Loss : 0.20602251012678874\n",
      "INFO:root:Test Accuracy: 46.30%\n",
      "INFO:root:Test Loss: 2.0093265741318462 \n",
      "\n",
      " 65%|██████▌   | 65/100 [44:07<20:06, 34.47s/it]"
     ]
    },
    {
     "name": "stdout",
     "output_type": "stream",
     "text": [
      "[813, 542, 106, 123, 4600, 40, 209, 2029, 1736, 2195]\n"
     ]
    },
    {
     "name": "stderr",
     "output_type": "stream",
     "text": [
      "INFO:root: \n",
      "Avg Training Stats after 66 global rounds:\n",
      "INFO:root:Train Accuracy: 0.00%\n",
      "INFO:root:Training Loss : 0.16068570875725108\n",
      "INFO:root:Test Accuracy: 57.75%\n",
      "INFO:root:Test Loss: 1.333030003607273 \n",
      "\n",
      " 66%|██████▌   | 66/100 [44:52<21:21, 37.69s/it]"
     ]
    },
    {
     "name": "stdout",
     "output_type": "stream",
     "text": [
      "[1416, 1320, 201, 744, 2934, 447, 278, 2430, 1018, 2274]\n"
     ]
    },
    {
     "name": "stderr",
     "output_type": "stream",
     "text": [
      "INFO:root: \n",
      "Avg Training Stats after 67 global rounds:\n",
      "INFO:root:Train Accuracy: 0.00%\n",
      "INFO:root:Training Loss : 0.1373348811907203\n",
      "INFO:root:Test Accuracy: 58.02%\n",
      "INFO:root:Test Loss: 1.242081150636077 \n",
      "\n",
      " 67%|██████▋   | 67/100 [45:39<22:14, 40.45s/it]"
     ]
    },
    {
     "name": "stdout",
     "output_type": "stream",
     "text": [
      "[303, 1012, 470, 123, 106, 201, 87, 1736, 2934, 2575]\n"
     ]
    },
    {
     "name": "stderr",
     "output_type": "stream",
     "text": [
      "INFO:root: \n",
      "Avg Training Stats after 68 global rounds:\n",
      "INFO:root:Train Accuracy: 0.00%\n",
      "INFO:root:Training Loss : 0.08592940159751686\n",
      "INFO:root:Test Accuracy: 45.59%\n",
      "INFO:root:Test Loss: 1.7082644497603179 \n",
      "\n",
      " 68%|██████▊   | 68/100 [46:18<21:19, 39.98s/it]"
     ]
    },
    {
     "name": "stdout",
     "output_type": "stream",
     "text": [
      "[3195, 794, 690, 2029, 231, 1756, 1112, 1736, 201, 813]\n"
     ]
    },
    {
     "name": "stderr",
     "output_type": "stream",
     "text": [
      "INFO:root: \n",
      "Avg Training Stats after 69 global rounds:\n",
      "INFO:root:Train Accuracy: 0.00%\n",
      "INFO:root:Training Loss : 0.08511831988390384\n",
      "INFO:root:Test Accuracy: 51.49%\n",
      "INFO:root:Test Loss: 1.5768735907971858 \n",
      "\n",
      " 69%|██████▉   | 69/100 [47:03<21:28, 41.56s/it]"
     ]
    },
    {
     "name": "stdout",
     "output_type": "stream",
     "text": [
      "[106, 40, 278, 422, 470, 2029, 2934, 744, 2274, 327]\n"
     ]
    },
    {
     "name": "stderr",
     "output_type": "stream",
     "text": [
      "INFO:root: \n",
      "Avg Training Stats after 70 global rounds:\n",
      "INFO:root:Train Accuracy: 0.00%\n",
      "INFO:root:Training Loss : 0.12676871179383972\n",
      "INFO:root:Test Accuracy: 50.78%\n",
      "INFO:root:Test Loss: 1.5514129267632961 \n",
      "\n",
      " 70%|███████   | 70/100 [47:42<20:25, 40.86s/it]"
     ]
    },
    {
     "name": "stdout",
     "output_type": "stream",
     "text": [
      "[3195, 267, 303, 173, 286, 2029, 422, 1012, 796, 106]\n"
     ]
    },
    {
     "name": "stderr",
     "output_type": "stream",
     "text": [
      "INFO:root: \n",
      "Avg Training Stats after 71 global rounds:\n",
      "INFO:root:Train Accuracy: 0.00%\n",
      "INFO:root:Training Loss : 0.1303445922470057\n",
      "INFO:root:Test Accuracy: 46.28%\n",
      "INFO:root:Test Loss: 1.804107654541731 \n",
      "\n",
      " 71%|███████   | 71/100 [48:19<19:11, 39.69s/it]"
     ]
    },
    {
     "name": "stdout",
     "output_type": "stream",
     "text": [
      "[209, 40, 4600, 106, 123, 1012, 690, 542, 602, 2575]\n"
     ]
    },
    {
     "name": "stderr",
     "output_type": "stream",
     "text": [
      "INFO:root: \n",
      "Avg Training Stats after 72 global rounds:\n",
      "INFO:root:Train Accuracy: 0.00%\n",
      "INFO:root:Training Loss : 0.1251304704988999\n",
      "INFO:root:Test Accuracy: 49.88%\n",
      "INFO:root:Test Loss: 1.7813351249322296 \n",
      "\n",
      " 72%|███████▏  | 72/100 [49:00<18:41, 40.06s/it]"
     ]
    },
    {
     "name": "stdout",
     "output_type": "stream",
     "text": [
      "[1012, 2430, 2274, 209, 1798, 303, 1112, 231, 744, 278]\n"
     ]
    },
    {
     "name": "stderr",
     "output_type": "stream",
     "text": [
      "INFO:root: \n",
      "Avg Training Stats after 73 global rounds:\n",
      "INFO:root:Train Accuracy: 0.00%\n",
      "INFO:root:Training Loss : 0.10844301006907923\n",
      "INFO:root:Test Accuracy: 53.59%\n",
      "INFO:root:Test Loss: 1.4729784671217203 \n",
      "\n",
      " 73%|███████▎  | 73/100 [49:41<18:08, 40.31s/it]"
     ]
    },
    {
     "name": "stdout",
     "output_type": "stream",
     "text": [
      "[447, 1320, 209, 327, 744, 1018, 231, 2430, 590, 602]\n"
     ]
    },
    {
     "name": "stderr",
     "output_type": "stream",
     "text": [
      "INFO:root: \n",
      "Avg Training Stats after 74 global rounds:\n",
      "INFO:root:Train Accuracy: 0.00%\n",
      "INFO:root:Training Loss : 0.16688956444948552\n",
      "INFO:root:Test Accuracy: 60.13%\n",
      "INFO:root:Test Loss: 1.2125294083356857 \n",
      "\n",
      " 74%|███████▍  | 74/100 [50:16<16:49, 38.84s/it]"
     ]
    },
    {
     "name": "stdout",
     "output_type": "stream",
     "text": [
      "[470, 1053, 303, 1012, 106, 3195, 447, 1112, 201, 1433]\n"
     ]
    },
    {
     "name": "stderr",
     "output_type": "stream",
     "text": [
      "INFO:root: \n",
      "Avg Training Stats after 75 global rounds:\n",
      "INFO:root:Train Accuracy: 0.00%\n",
      "INFO:root:Training Loss : 0.06738182271753088\n",
      "INFO:root:Test Accuracy: 47.56%\n",
      "INFO:root:Test Loss: 1.7252234034985303 \n",
      "\n",
      " 75%|███████▌  | 75/100 [50:55<16:07, 38.70s/it]"
     ]
    },
    {
     "name": "stdout",
     "output_type": "stream",
     "text": [
      "[231, 1433, 431, 209, 1416, 1780, 116, 123, 422, 4600]\n"
     ]
    },
    {
     "name": "stderr",
     "output_type": "stream",
     "text": [
      "INFO:root: \n",
      "Avg Training Stats after 76 global rounds:\n",
      "INFO:root:Train Accuracy: 0.00%\n",
      "INFO:root:Training Loss : 0.24205290897113846\n",
      "INFO:root:Test Accuracy: 53.62%\n",
      "INFO:root:Test Loss: 1.4304561018943787 \n",
      "\n",
      " 76%|███████▌  | 76/100 [51:37<15:52, 39.69s/it]"
     ]
    },
    {
     "name": "stdout",
     "output_type": "stream",
     "text": [
      "[2575, 796, 1053, 267, 602, 1018, 201, 1756, 286, 2430]\n"
     ]
    },
    {
     "name": "stderr",
     "output_type": "stream",
     "text": [
      "INFO:root: \n",
      "Avg Training Stats after 77 global rounds:\n",
      "INFO:root:Train Accuracy: 0.00%\n",
      "INFO:root:Training Loss : 0.12784681435517226\n",
      "INFO:root:Test Accuracy: 64.06%\n",
      "INFO:root:Test Loss: 1.0983495438098907 \n",
      "\n",
      " 77%|███████▋  | 77/100 [52:19<15:27, 40.34s/it]"
     ]
    },
    {
     "name": "stdout",
     "output_type": "stream",
     "text": [
      "[15, 2029, 2274, 744, 1018, 1736, 2934, 19, 173, 447]\n"
     ]
    },
    {
     "name": "stderr",
     "output_type": "stream",
     "text": [
      "INFO:root: \n",
      "Avg Training Stats after 78 global rounds:\n",
      "INFO:root:Train Accuracy: 0.00%\n",
      "INFO:root:Training Loss : 0.15251833044933968\n",
      "INFO:root:Test Accuracy: 56.36%\n",
      "INFO:root:Test Loss: 1.3241559162735939 \n",
      "\n",
      " 78%|███████▊  | 78/100 [53:01<15:03, 41.08s/it]"
     ]
    },
    {
     "name": "stdout",
     "output_type": "stream",
     "text": [
      "[542, 602, 173, 201, 590, 690, 422, 2934, 1736, 744]\n"
     ]
    },
    {
     "name": "stderr",
     "output_type": "stream",
     "text": [
      "INFO:root: \n",
      "Avg Training Stats after 79 global rounds:\n",
      "INFO:root:Train Accuracy: 0.00%\n",
      "INFO:root:Training Loss : 0.17097442948480368\n",
      "INFO:root:Test Accuracy: 54.73%\n",
      "INFO:root:Test Loss: 1.454169918447733 \n",
      "\n",
      " 79%|███████▉  | 79/100 [53:39<13:57, 39.88s/it]"
     ]
    },
    {
     "name": "stdout",
     "output_type": "stream",
     "text": [
      "[201, 278, 40, 1112, 106, 690, 2029, 87, 796, 3195]\n"
     ]
    },
    {
     "name": "stderr",
     "output_type": "stream",
     "text": [
      "INFO:root: \n",
      "Avg Training Stats after 80 global rounds:\n",
      "INFO:root:Train Accuracy: 0.00%\n",
      "INFO:root:Training Loss : 0.07103044659200819\n",
      "INFO:root:Test Accuracy: 52.69%\n",
      "INFO:root:Test Loss: 1.485534412264824 \n",
      "\n",
      " 80%|████████  | 80/100 [54:15<12:58, 38.91s/it]"
     ]
    },
    {
     "name": "stdout",
     "output_type": "stream",
     "text": [
      "[1798, 15, 201, 123, 1433, 542, 1119, 690, 602, 40]\n"
     ]
    },
    {
     "name": "stderr",
     "output_type": "stream",
     "text": [
      "INFO:root: \n",
      "Avg Training Stats after 81 global rounds:\n",
      "INFO:root:Train Accuracy: 0.00%\n",
      "INFO:root:Training Loss : 0.1308210398115913\n",
      "INFO:root:Test Accuracy: 60.11%\n",
      "INFO:root:Test Loss: 1.2217144593596458 \n",
      "\n",
      " 81%|████████  | 81/100 [54:47<11:41, 36.92s/it]"
     ]
    },
    {
     "name": "stdout",
     "output_type": "stream",
     "text": [
      "[267, 542, 209, 796, 87, 3195, 231, 303, 2934, 1119]\n"
     ]
    },
    {
     "name": "stderr",
     "output_type": "stream",
     "text": [
      "INFO:root: \n",
      "Avg Training Stats after 82 global rounds:\n",
      "INFO:root:Train Accuracy: 0.00%\n",
      "INFO:root:Training Loss : 0.1192336452096577\n",
      "INFO:root:Test Accuracy: 48.37%\n",
      "INFO:root:Test Loss: 1.651447146758437 \n",
      "\n",
      " 82%|████████▏ | 82/100 [55:27<11:16, 37.59s/it]"
     ]
    },
    {
     "name": "stdout",
     "output_type": "stream",
     "text": [
      "[690, 431, 422, 231, 4600, 2934, 2029, 327, 796, 590]\n"
     ]
    },
    {
     "name": "stderr",
     "output_type": "stream",
     "text": [
      "INFO:root: \n",
      "Avg Training Stats after 83 global rounds:\n",
      "INFO:root:Train Accuracy: 0.00%\n",
      "INFO:root:Training Loss : 0.14465654685348622\n",
      "INFO:root:Test Accuracy: 58.16%\n",
      "INFO:root:Test Loss: 1.3225562000274658 \n",
      "\n",
      " 83%|████████▎ | 83/100 [56:13<11:26, 40.37s/it]"
     ]
    },
    {
     "name": "stdout",
     "output_type": "stream",
     "text": [
      "[231, 1112, 87, 303, 690, 796, 2195, 813, 327, 1018]\n"
     ]
    },
    {
     "name": "stderr",
     "output_type": "stream",
     "text": [
      "INFO:root: \n",
      "Avg Training Stats after 84 global rounds:\n",
      "INFO:root:Train Accuracy: 0.00%\n",
      "INFO:root:Training Loss : 0.12278848972262357\n",
      "INFO:root:Test Accuracy: 46.68%\n",
      "INFO:root:Test Loss: 1.7300194984488189 \n",
      "\n",
      " 84%|████████▍ | 84/100 [56:48<10:17, 38.60s/it]"
     ]
    },
    {
     "name": "stdout",
     "output_type": "stream",
     "text": [
      "[602, 1018, 542, 106, 794, 447, 2029, 1433, 327, 690]\n"
     ]
    },
    {
     "name": "stderr",
     "output_type": "stream",
     "text": [
      "INFO:root: \n",
      "Avg Training Stats after 85 global rounds:\n",
      "INFO:root:Train Accuracy: 0.00%\n",
      "INFO:root:Training Loss : 0.13123072349193776\n",
      "INFO:root:Test Accuracy: 47.65%\n",
      "INFO:root:Test Loss: 1.737438090890646 \n",
      "\n",
      " 85%|████████▌ | 85/100 [57:23<09:24, 37.66s/it]"
     ]
    },
    {
     "name": "stdout",
     "output_type": "stream",
     "text": [
      "[1433, 267, 447, 1012, 470, 201, 231, 15, 278, 1736]\n"
     ]
    },
    {
     "name": "stderr",
     "output_type": "stream",
     "text": [
      "INFO:root: \n",
      "Avg Training Stats after 86 global rounds:\n",
      "INFO:root:Train Accuracy: 0.00%\n",
      "INFO:root:Training Loss : 0.1533256002407634\n",
      "INFO:root:Test Accuracy: 51.94%\n",
      "INFO:root:Test Loss: 1.5407550095766782 \n",
      "\n",
      " 86%|████████▌ | 86/100 [57:55<08:21, 35.81s/it]"
     ]
    },
    {
     "name": "stdout",
     "output_type": "stream",
     "text": [
      "[40, 1053, 231, 286, 106, 2274, 470, 1119, 447, 1416]\n"
     ]
    },
    {
     "name": "stderr",
     "output_type": "stream",
     "text": [
      "INFO:root: \n",
      "Avg Training Stats after 87 global rounds:\n",
      "INFO:root:Train Accuracy: 0.00%\n",
      "INFO:root:Training Loss : 0.11252812514459828\n",
      "INFO:root:Test Accuracy: 46.34%\n",
      "INFO:root:Test Loss: 2.1939937790110706 \n",
      "\n",
      " 87%|████████▋ | 87/100 [58:29<07:39, 35.33s/it]"
     ]
    },
    {
     "name": "stdout",
     "output_type": "stream",
     "text": [
      "[209, 2029, 231, 278, 1320, 862, 2195, 690, 1736, 106]\n"
     ]
    },
    {
     "name": "stderr",
     "output_type": "stream",
     "text": [
      "INFO:root: \n",
      "Avg Training Stats after 88 global rounds:\n",
      "INFO:root:Train Accuracy: 0.00%\n",
      "INFO:root:Training Loss : 0.14131069200721585\n",
      "INFO:root:Test Accuracy: 53.38%\n",
      "INFO:root:Test Loss: 1.4861622264236212 \n",
      "\n",
      " 88%|████████▊ | 88/100 [59:08<07:17, 36.49s/it]"
     ]
    },
    {
     "name": "stdout",
     "output_type": "stream",
     "text": [
      "[2430, 201, 2195, 2575, 123, 602, 116, 794, 4600, 690]\n"
     ]
    },
    {
     "name": "stderr",
     "output_type": "stream",
     "text": [
      "INFO:root: \n",
      "Avg Training Stats after 89 global rounds:\n",
      "INFO:root:Train Accuracy: 0.00%\n",
      "INFO:root:Training Loss : 0.12941426565272215\n",
      "INFO:root:Test Accuracy: 62.13%\n",
      "INFO:root:Test Loss: 1.1971182478964328 \n",
      "\n",
      " 89%|████████▉ | 89/100 [59:58<07:24, 40.39s/it]"
     ]
    },
    {
     "name": "stdout",
     "output_type": "stream",
     "text": [
      "[470, 303, 278, 87, 1119, 2274, 1780, 19, 4600, 602]\n"
     ]
    },
    {
     "name": "stderr",
     "output_type": "stream",
     "text": [
      "INFO:root: \n",
      "Avg Training Stats after 90 global rounds:\n",
      "INFO:root:Train Accuracy: 0.00%\n",
      "INFO:root:Training Loss : 0.08009409892720835\n",
      "INFO:root:Test Accuracy: 53.16%\n",
      "INFO:root:Test Loss: 1.571139200180769 \n",
      "\n",
      " 90%|█████████ | 90/100 [1:00:41<06:53, 41.31s/it]"
     ]
    },
    {
     "name": "stdout",
     "output_type": "stream",
     "text": [
      "[2575, 602, 2029, 327, 209, 4600, 2274, 1756, 431, 1112]\n"
     ]
    },
    {
     "name": "stderr",
     "output_type": "stream",
     "text": [
      "INFO:root: \n",
      "Avg Training Stats after 91 global rounds:\n",
      "INFO:root:Train Accuracy: 0.00%\n",
      "INFO:root:Training Loss : 0.12353601430611612\n",
      "INFO:root:Test Accuracy: 58.98%\n",
      "INFO:root:Test Loss: 1.3042532849311828 \n",
      "\n",
      " 91%|█████████ | 91/100 [1:01:34<06:42, 44.74s/it]"
     ]
    },
    {
     "name": "stdout",
     "output_type": "stream",
     "text": [
      "[2195, 267, 813, 286, 3195, 470, 231, 278, 1012, 231]\n"
     ]
    },
    {
     "name": "stderr",
     "output_type": "stream",
     "text": [
      "INFO:root: \n",
      "Avg Training Stats after 92 global rounds:\n",
      "INFO:root:Train Accuracy: 0.00%\n",
      "INFO:root:Training Loss : 0.12154528547766352\n",
      "INFO:root:Test Accuracy: 48.50%\n",
      "INFO:root:Test Loss: 1.7500088299065828 \n",
      "\n",
      " 92%|█████████▏| 92/100 [1:02:12<05:41, 42.66s/it]"
     ]
    },
    {
     "name": "stdout",
     "output_type": "stream",
     "text": [
      "[1053, 2575, 303, 2430, 542, 116, 1756, 1433, 327, 15]\n"
     ]
    },
    {
     "name": "stderr",
     "output_type": "stream",
     "text": [
      "INFO:root: \n",
      "Avg Training Stats after 93 global rounds:\n",
      "INFO:root:Train Accuracy: 0.00%\n",
      "INFO:root:Training Loss : 0.19880760183637652\n",
      "INFO:root:Test Accuracy: 55.24%\n",
      "INFO:root:Test Loss: 1.4774375378340483 \n",
      "\n",
      " 93%|█████████▎| 93/100 [1:02:53<04:55, 42.17s/it]"
     ]
    },
    {
     "name": "stdout",
     "output_type": "stream",
     "text": [
      "[590, 4600, 201, 286, 303, 1736, 15, 1798, 744, 422]\n"
     ]
    },
    {
     "name": "stderr",
     "output_type": "stream",
     "text": [
      "INFO:root: \n",
      "Avg Training Stats after 94 global rounds:\n",
      "INFO:root:Train Accuracy: 0.00%\n",
      "INFO:root:Training Loss : 0.14223477235077703\n",
      "INFO:root:Test Accuracy: 55.55%\n",
      "INFO:root:Test Loss: 1.5099465615674854 \n",
      "\n",
      " 94%|█████████▍| 94/100 [1:03:34<04:11, 41.99s/it]"
     ]
    },
    {
     "name": "stdout",
     "output_type": "stream",
     "text": [
      "[123, 862, 542, 19, 794, 1112, 4600, 2934, 231, 15]\n"
     ]
    },
    {
     "name": "stderr",
     "output_type": "stream",
     "text": [
      "INFO:root: \n",
      "Avg Training Stats after 95 global rounds:\n",
      "INFO:root:Train Accuracy: 0.00%\n",
      "INFO:root:Training Loss : 0.21562390819612826\n",
      "INFO:root:Test Accuracy: 54.97%\n",
      "INFO:root:Test Loss: 1.5175720182061196 \n",
      "\n",
      " 95%|█████████▌| 95/100 [1:04:17<03:30, 42.14s/it]"
     ]
    },
    {
     "name": "stdout",
     "output_type": "stream",
     "text": [
      "[1053, 87, 2575, 4600, 542, 231, 1433, 1012, 2029, 862]\n"
     ]
    },
    {
     "name": "stderr",
     "output_type": "stream",
     "text": [
      "INFO:root: \n",
      "Avg Training Stats after 96 global rounds:\n",
      "INFO:root:Train Accuracy: 0.00%\n",
      "INFO:root:Training Loss : 0.10481939423564561\n",
      "INFO:root:Test Accuracy: 57.50%\n",
      "INFO:root:Test Loss: 1.3793492868542672 \n",
      "\n",
      " 96%|█████████▌| 96/100 [1:05:06<02:57, 44.34s/it]"
     ]
    },
    {
     "name": "stdout",
     "output_type": "stream",
     "text": [
      "[19, 602, 40, 690, 267, 231, 173, 2029, 1798, 3195]\n"
     ]
    },
    {
     "name": "stderr",
     "output_type": "stream",
     "text": [
      "INFO:root: \n",
      "Avg Training Stats after 97 global rounds:\n",
      "INFO:root:Train Accuracy: 0.00%\n",
      "INFO:root:Training Loss : 0.14372371964627892\n",
      "INFO:root:Test Accuracy: 53.77%\n",
      "INFO:root:Test Loss: 1.539093274474144 \n",
      "\n",
      " 97%|█████████▋| 97/100 [1:05:44<02:07, 42.43s/it]"
     ]
    },
    {
     "name": "stdout",
     "output_type": "stream",
     "text": [
      "[209, 1012, 422, 40, 794, 4600, 116, 286, 303, 1756]\n"
     ]
    },
    {
     "name": "stderr",
     "output_type": "stream",
     "text": [
      "INFO:root: \n",
      "Avg Training Stats after 98 global rounds:\n",
      "INFO:root:Train Accuracy: 0.00%\n",
      "INFO:root:Training Loss : 0.1362439234399897\n",
      "INFO:root:Test Accuracy: 47.92%\n",
      "INFO:root:Test Loss: 2.04575993206352 \n",
      "\n",
      " 98%|█████████▊| 98/100 [1:06:23<01:22, 41.41s/it]"
     ]
    },
    {
     "name": "stdout",
     "output_type": "stream",
     "text": [
      "[2274, 1736, 173, 1416, 447, 19, 2195, 2029, 862, 744]\n"
     ]
    },
    {
     "name": "stderr",
     "output_type": "stream",
     "text": [
      "INFO:root: \n",
      "Avg Training Stats after 99 global rounds:\n",
      "INFO:root:Train Accuracy: 0.00%\n",
      "INFO:root:Training Loss : 0.24193057166480342\n",
      "INFO:root:Test Accuracy: 53.47%\n",
      "INFO:root:Test Loss: 1.566252970471978 \n",
      "\n",
      " 99%|█████████▉| 99/100 [1:07:07<00:42, 42.09s/it]"
     ]
    },
    {
     "name": "stdout",
     "output_type": "stream",
     "text": [
      "[431, 1798, 1736, 744, 19, 278, 690, 590, 116, 40]\n"
     ]
    },
    {
     "name": "stderr",
     "output_type": "stream",
     "text": [
      "INFO:root: \n",
      "Avg Training Stats after 100 global rounds:\n",
      "INFO:root:Train Accuracy: 0.00%\n",
      "INFO:root:Training Loss : 0.13425926239154304\n",
      "INFO:root:Test Accuracy: 61.70%\n",
      "INFO:root:Test Loss: 1.257509555518627 \n",
      "\n",
      "100%|██████████| 100/100 [1:07:39<00:00, 40.60s/it]\n",
      "INFO:root: \n",
      " Results after 100 global rounds of training:\n",
      "INFO:root:|---- Best Test Accuracy: 64.06% , round: 76\n"
     ]
    },
    {
     "name": "stdout",
     "output_type": "stream",
     "text": [
      " Saving checkpoints to ../save/checkpoint/ConvNet_1225/cifar10_ConvNet_groupnorm_T[100]_C[0.2]_iid[0]_E[10]_B[32]_GPU[0]_Pruned[0.0]...\n"
     ]
    }
   ],
   "source": [
    " args = easydict.EasyDict({\n",
    "    \"model\": 'ConvNet',\n",
    "    'dataset': 'cifar10',\n",
    "    'gpu': 0,\n",
    "    'iid': 0,\n",
    "    'epochs': 100,\n",
    "    'optimizer': 'sgd',\n",
    "    'seed': 0,\n",
    "    'norm': 'groupnorm',\n",
    "    'num_users': 50,\n",
    "    'frac': 0.2,\n",
    "    'local_ep': 10, \n",
    "    'local_bs': 32,\n",
    "    'lr': 0.01,\n",
    "    'momentum': 1,\n",
    "    'kernel_num': 9,\n",
    "    'kernel_sizes': 'no_centering',\n",
    "    'num_channnels': '1',\n",
    "    'num_filters': 32,\n",
    "    'max_pool': 'True',\n",
    "    'num_classes': 10,\n",
    "    'unequal': 0,\n",
    "    'stopping_rounds': 0,\n",
    "    'verbose': 0,\n",
    "    'hold_normalize': 0,\n",
    "    'save_path': '../save/checkpoint',\n",
    "    'exp_folder': 'ConvNet_1225',\n",
    "    'resume': None,\n",
    "    'server_opt': 'sgd',\n",
    "    'server_lr': 1.0,\n",
    "    'client_decay':0,\n",
    "    'local_decay':0,\n",
    "    'alpha': 0.05,\n",
    "    'server_epoch':0,\n",
    "    'cosine_norm':0, \n",
    "    'only_fc' :0 ,\n",
    "    'loss':'ce',\n",
    "    'dc_lr':0.0,\n",
    "    'tsne_pred':0,\n",
    "    'pruning': 0.0 })\n",
    "\n",
    "#zero-centering-classifier\n",
    "    \n",
    "temp = main_test(args)\n",
    "total.append(temp)"
   ]
  },
  {
   "cell_type": "code",
   "execution_count": 7,
   "id": "informed-enhancement",
   "metadata": {},
   "outputs": [
    {
     "name": "stderr",
     "output_type": "stream",
     "text": [
      "INFO:root:{'model': 'ConvNet', 'dataset': 'cifar10', 'gpu': 0, 'iid': 0, 'epochs': 100, 'optimizer': 'sgd', 'seed': 0, 'norm': 'groupnorm', 'num_users': 50, 'frac': 0.2, 'local_ep': 10, 'local_bs': 32, 'lr': 0.01, 'momentum': 1, 'kernel_num': 9, 'kernel_sizes': 'no_centering', 'num_channnels': '1', 'num_filters': 32, 'max_pool': 'True', 'num_classes': 10, 'unequal': 0, 'stopping_rounds': 0, 'verbose': 0, 'hold_normalize': 0, 'save_path': '../save/checkpoint/ConvNet_1223', 'exp_folder': 'ConvNet_1223', 'resume': None, 'server_opt': 'sgdm', 'server_lr': 1.0, 'client_decay': 0, 'local_decay': 0, 'alpha': 0.05, 'server_epoch': 0, 'cosine_norm': 0, 'only_fc': 0, 'loss': 'ce', 'dc_lr': 0.0, 'tsne_pred': 0, 'pruning': 0.0}\n"
     ]
    },
    {
     "name": "stdout",
     "output_type": "stream",
     "text": [
      "Files already downloaded and verified\n",
      "Files already downloaded and verified\n",
      "Files already downloaded and verified\n"
     ]
    },
    {
     "name": "stderr",
     "output_type": "stream",
     "text": [
      "INFO:root:ConvNet(\n",
      "  (net_act): ReLU(inplace=True)\n",
      "  (net_pooling): MaxPool2d(kernel_size=2, stride=2, padding=0, dilation=1, ceil_mode=False)\n",
      "  (features): Sequential(\n",
      "    (0): Conv2d(3, 128, kernel_size=(3, 3), stride=(1, 1), padding=(1, 1))\n",
      "    (1): GroupNorm(2, 128, eps=1e-05, affine=True)\n",
      "    (2): ReLU(inplace=True)\n",
      "    (3): MaxPool2d(kernel_size=2, stride=2, padding=0, dilation=1, ceil_mode=False)\n",
      "    (4): Conv2d(128, 128, kernel_size=(3, 3), stride=(1, 1), padding=(1, 1))\n",
      "    (5): GroupNorm(2, 128, eps=1e-05, affine=True)\n",
      "    (6): ReLU(inplace=True)\n",
      "    (7): MaxPool2d(kernel_size=2, stride=2, padding=0, dilation=1, ceil_mode=False)\n",
      "    (8): Conv2d(128, 128, kernel_size=(3, 3), stride=(1, 1), padding=(1, 1))\n",
      "    (9): GroupNorm(2, 128, eps=1e-05, affine=True)\n",
      "    (10): ReLU(inplace=True)\n",
      "    (11): MaxPool2d(kernel_size=2, stride=2, padding=0, dilation=1, ceil_mode=False)\n",
      "  )\n",
      "  (classifier): Linear(in_features=2048, out_features=10, bias=True)\n",
      ")\n",
      "INFO:root:None\n",
      "  0%|          | 0/100 [00:00<?, ?it/s]"
     ]
    },
    {
     "name": "stdout",
     "output_type": "stream",
     "text": [
      "----------------------------------------------------------------\n",
      "        Layer (type)               Output Shape         Param #\n",
      "================================================================\n",
      "            Conv2d-1          [-1, 128, 32, 32]           3,584\n",
      "         GroupNorm-2          [-1, 128, 32, 32]             256\n",
      "              ReLU-3          [-1, 128, 32, 32]               0\n",
      "              ReLU-4          [-1, 128, 32, 32]               0\n",
      "         MaxPool2d-5          [-1, 128, 16, 16]               0\n",
      "         MaxPool2d-6          [-1, 128, 16, 16]               0\n",
      "            Conv2d-7          [-1, 128, 16, 16]         147,584\n",
      "         GroupNorm-8          [-1, 128, 16, 16]             256\n",
      "              ReLU-9          [-1, 128, 16, 16]               0\n",
      "             ReLU-10          [-1, 128, 16, 16]               0\n",
      "        MaxPool2d-11            [-1, 128, 8, 8]               0\n",
      "        MaxPool2d-12            [-1, 128, 8, 8]               0\n",
      "           Conv2d-13            [-1, 128, 8, 8]         147,584\n",
      "        GroupNorm-14            [-1, 128, 8, 8]             256\n",
      "             ReLU-15            [-1, 128, 8, 8]               0\n",
      "             ReLU-16            [-1, 128, 8, 8]               0\n",
      "        MaxPool2d-17            [-1, 128, 4, 4]               0\n",
      "        MaxPool2d-18            [-1, 128, 4, 4]               0\n",
      "           Linear-19                   [-1, 10]          20,490\n",
      "================================================================\n",
      "Total params: 320,010\n",
      "Trainable params: 320,010\n",
      "Non-trainable params: 0\n",
      "----------------------------------------------------------------\n",
      "Input size (MB): 0.01\n",
      "Forward/backward pass size (MB): 5.91\n",
      "Params size (MB): 1.22\n",
      "Estimated Total Size (MB): 7.14\n",
      "----------------------------------------------------------------\n",
      "[209, 1756, 422, 2575, 1018, 602, 2274, 447, 744, 1112, 123, 87, 1433, 1416, 40, 1119, 796, 794, 327, 470, 231, 813, 1320, 542, 690, 2195, 2934, 106, 1012, 15, 278, 1798, 303, 590, 2029, 201, 1053, 862, 231, 116, 4600, 19, 286, 1736, 2430, 431, 3195, 1780, 173, 267]\n",
      "[470, 2934, 201, 231, 2575, 744, 15, 123, 1119, 4600]\n"
     ]
    },
    {
     "name": "stderr",
     "output_type": "stream",
     "text": [
      "INFO:root: \n",
      "Avg Training Stats after 1 global rounds:\n",
      "INFO:root:Train Accuracy: 0.00%\n",
      "INFO:root:Training Loss : 0.4075449367040186\n",
      "INFO:root:Test Accuracy: 15.52%\n",
      "INFO:root:Test Loss: 2.931709707081318 \n",
      "\n",
      "  1%|          | 1/100 [00:46<1:16:53, 46.60s/it]"
     ]
    },
    {
     "name": "stdout",
     "output_type": "stream",
     "text": [
      "[231, 173, 2575, 1736, 2430, 123, 4600, 690, 1012, 447]\n"
     ]
    },
    {
     "name": "stderr",
     "output_type": "stream",
     "text": [
      "INFO:root: \n",
      "Avg Training Stats after 2 global rounds:\n",
      "INFO:root:Train Accuracy: 0.00%\n",
      "INFO:root:Training Loss : 0.4818441645493891\n",
      "INFO:root:Test Accuracy: 26.05%\n",
      "INFO:root:Test Loss: 3.6398866641521455 \n",
      "\n",
      "  2%|▏         | 2/100 [01:35<1:17:57, 47.73s/it]"
     ]
    },
    {
     "name": "stdout",
     "output_type": "stream",
     "text": [
      "[744, 2575, 1320, 470, 2430, 2274, 267, 690, 209, 303]\n"
     ]
    },
    {
     "name": "stderr",
     "output_type": "stream",
     "text": [
      "INFO:root: \n",
      "Avg Training Stats after 3 global rounds:\n",
      "INFO:root:Train Accuracy: 0.00%\n",
      "INFO:root:Training Loss : 0.31216172678254334\n",
      "INFO:root:Test Accuracy: 23.97%\n",
      "INFO:root:Test Loss: 3.389403769224882 \n",
      "\n",
      "  3%|▎         | 3/100 [02:18<1:13:44, 45.62s/it]"
     ]
    },
    {
     "name": "stdout",
     "output_type": "stream",
     "text": [
      "[173, 690, 542, 1012, 2195, 1780, 1053, 87, 2934, 1736]\n"
     ]
    },
    {
     "name": "stderr",
     "output_type": "stream",
     "text": [
      "INFO:root: \n",
      "Avg Training Stats after 4 global rounds:\n",
      "INFO:root:Train Accuracy: 0.00%\n",
      "INFO:root:Training Loss : 0.44825375907786985\n",
      "INFO:root:Test Accuracy: 21.92%\n",
      "INFO:root:Test Loss: 2.1248521611094473 \n",
      "\n",
      "  4%|▍         | 4/100 [03:02<1:12:16, 45.18s/it]"
     ]
    },
    {
     "name": "stdout",
     "output_type": "stream",
     "text": [
      "[2430, 2575, 1736, 123, 15, 1780, 1018, 231, 87, 794]\n"
     ]
    },
    {
     "name": "stderr",
     "output_type": "stream",
     "text": [
      "INFO:root: \n",
      "Avg Training Stats after 5 global rounds:\n",
      "INFO:root:Train Accuracy: 0.00%\n",
      "INFO:root:Training Loss : 0.30661339491030526\n",
      "INFO:root:Test Accuracy: 21.70%\n",
      "INFO:root:Test Loss: 2.995813673734665 \n",
      "\n",
      "  5%|▌         | 5/100 [03:43<1:09:13, 43.72s/it]"
     ]
    },
    {
     "name": "stdout",
     "output_type": "stream",
     "text": [
      "[1119, 87, 590, 794, 813, 303, 1320, 690, 1018, 422]\n"
     ]
    },
    {
     "name": "stderr",
     "output_type": "stream",
     "text": [
      "INFO:root: \n",
      "Avg Training Stats after 6 global rounds:\n",
      "INFO:root:Train Accuracy: 0.00%\n",
      "INFO:root:Training Loss : 0.23005268184028155\n",
      "INFO:root:Test Accuracy: 26.28%\n",
      "INFO:root:Test Loss: 3.0873606663197277 \n",
      "\n",
      "  6%|▌         | 6/100 [04:17<1:03:09, 40.31s/it]"
     ]
    },
    {
     "name": "stdout",
     "output_type": "stream",
     "text": [
      "[2029, 1433, 303, 327, 744, 862, 2934, 231, 1416, 278]\n"
     ]
    },
    {
     "name": "stderr",
     "output_type": "stream",
     "text": [
      "INFO:root: \n",
      "Avg Training Stats after 7 global rounds:\n",
      "INFO:root:Train Accuracy: 0.00%\n",
      "INFO:root:Training Loss : 0.31840136199228897\n",
      "INFO:root:Test Accuracy: 31.86%\n",
      "INFO:root:Test Loss: 2.527524726986885 \n",
      "\n",
      "  7%|▋         | 7/100 [04:58<1:02:56, 40.61s/it]"
     ]
    },
    {
     "name": "stdout",
     "output_type": "stream",
     "text": [
      "[231, 1112, 327, 744, 286, 422, 15, 1798, 1053, 173]\n"
     ]
    },
    {
     "name": "stderr",
     "output_type": "stream",
     "text": [
      "INFO:root: \n",
      "Avg Training Stats after 8 global rounds:\n",
      "INFO:root:Train Accuracy: 0.00%\n",
      "INFO:root:Training Loss : 0.33443583569378366\n",
      "INFO:root:Test Accuracy: 36.48%\n",
      "INFO:root:Test Loss: 2.446280823647976 \n",
      "\n",
      "  8%|▊         | 8/100 [05:30<57:49, 37.71s/it]  "
     ]
    },
    {
     "name": "stdout",
     "output_type": "stream",
     "text": [
      "[794, 278, 744, 862, 303, 19, 2274, 1053, 813, 1012]\n"
     ]
    },
    {
     "name": "stderr",
     "output_type": "stream",
     "text": [
      "INFO:root: \n",
      "Avg Training Stats after 9 global rounds:\n",
      "INFO:root:Train Accuracy: 0.00%\n",
      "INFO:root:Training Loss : 0.2321334780405619\n",
      "INFO:root:Test Accuracy: 30.41%\n",
      "INFO:root:Test Loss: 3.2503678767383097 \n",
      "\n",
      "  9%|▉         | 9/100 [06:06<56:22, 37.17s/it]"
     ]
    },
    {
     "name": "stdout",
     "output_type": "stream",
     "text": [
      "[1320, 40, 1756, 470, 327, 1012, 862, 1433, 796, 231]\n"
     ]
    },
    {
     "name": "stderr",
     "output_type": "stream",
     "text": [
      "INFO:root: \n",
      "Avg Training Stats after 10 global rounds:\n",
      "INFO:root:Train Accuracy: 0.00%\n",
      "INFO:root:Training Loss : 0.16230690615563076\n",
      "INFO:root:Test Accuracy: 35.42%\n",
      "INFO:root:Test Loss: 2.3010772731900215 \n",
      "\n",
      " 10%|█         | 10/100 [06:42<55:13, 36.81s/it]"
     ]
    },
    {
     "name": "stdout",
     "output_type": "stream",
     "text": [
      "[87, 201, 1798, 813, 123, 2934, 1756, 231, 1053, 4600]\n"
     ]
    },
    {
     "name": "stderr",
     "output_type": "stream",
     "text": [
      "INFO:root: \n",
      "Avg Training Stats after 11 global rounds:\n",
      "INFO:root:Train Accuracy: 0.00%\n",
      "INFO:root:Training Loss : 0.22905729739507846\n",
      "INFO:root:Test Accuracy: 26.06%\n",
      "INFO:root:Test Loss: 3.056863858439028 \n",
      "\n",
      " 11%|█         | 11/100 [07:30<59:37, 40.20s/it]"
     ]
    },
    {
     "name": "stdout",
     "output_type": "stream",
     "text": [
      "[106, 231, 447, 796, 209, 1798, 1112, 1416, 590, 794]\n"
     ]
    },
    {
     "name": "stderr",
     "output_type": "stream",
     "text": [
      "INFO:root: \n",
      "Avg Training Stats after 12 global rounds:\n",
      "INFO:root:Train Accuracy: 0.00%\n",
      "INFO:root:Training Loss : 0.15170537852014987\n",
      "INFO:root:Test Accuracy: 40.67%\n",
      "INFO:root:Test Loss: 1.8147039496898651 \n",
      "\n",
      " 12%|█▏        | 12/100 [08:04<56:29, 38.51s/it]"
     ]
    },
    {
     "name": "stdout",
     "output_type": "stream",
     "text": [
      "[1320, 278, 862, 2274, 1798, 87, 2029, 796, 1018, 2430]\n"
     ]
    },
    {
     "name": "stderr",
     "output_type": "stream",
     "text": [
      "INFO:root: \n",
      "Avg Training Stats after 13 global rounds:\n",
      "INFO:root:Train Accuracy: 0.00%\n",
      "INFO:root:Training Loss : 0.15853689122680817\n",
      "INFO:root:Test Accuracy: 43.71%\n",
      "INFO:root:Test Loss: 1.8793538323044776 \n",
      "\n",
      " 13%|█▎        | 13/100 [08:50<59:10, 40.82s/it]"
     ]
    },
    {
     "name": "stdout",
     "output_type": "stream",
     "text": [
      "[4600, 2575, 590, 173, 2430, 40, 1112, 87, 231, 2195]\n"
     ]
    },
    {
     "name": "stderr",
     "output_type": "stream",
     "text": [
      "INFO:root: \n",
      "Avg Training Stats after 14 global rounds:\n",
      "INFO:root:Train Accuracy: 0.00%\n",
      "INFO:root:Training Loss : 0.2195978554299806\n",
      "INFO:root:Test Accuracy: 40.64%\n",
      "INFO:root:Test Loss: 2.1405275129526853 \n",
      "\n",
      " 14%|█▍        | 14/100 [09:39<1:01:55, 43.20s/it]"
     ]
    },
    {
     "name": "stdout",
     "output_type": "stream",
     "text": [
      "[231, 794, 1018, 1012, 15, 303, 796, 2274, 1320, 19]\n"
     ]
    },
    {
     "name": "stderr",
     "output_type": "stream",
     "text": [
      "INFO:root: \n",
      "Avg Training Stats after 15 global rounds:\n",
      "INFO:root:Train Accuracy: 0.00%\n",
      "INFO:root:Training Loss : 0.2211614193567514\n",
      "INFO:root:Test Accuracy: 39.94%\n",
      "INFO:root:Test Loss: 2.4688083504885436 \n",
      "\n",
      " 15%|█▌        | 15/100 [10:14<57:44, 40.76s/it]  "
     ]
    },
    {
     "name": "stdout",
     "output_type": "stream",
     "text": [
      "[2195, 40, 2029, 862, 2575, 1433, 447, 19, 4600, 796]\n"
     ]
    },
    {
     "name": "stderr",
     "output_type": "stream",
     "text": [
      "INFO:root: \n",
      "Avg Training Stats after 16 global rounds:\n",
      "INFO:root:Train Accuracy: 0.00%\n",
      "INFO:root:Training Loss : 0.20755551644344378\n",
      "INFO:root:Test Accuracy: 44.29%\n",
      "INFO:root:Test Loss: 2.2412272864580154 \n",
      "\n",
      " 16%|█▌        | 16/100 [11:05<1:01:14, 43.75s/it]"
     ]
    },
    {
     "name": "stdout",
     "output_type": "stream",
     "text": [
      "[231, 173, 303, 2274, 796, 116, 1798, 447, 106, 1433]\n"
     ]
    },
    {
     "name": "stderr",
     "output_type": "stream",
     "text": [
      "INFO:root: \n",
      "Avg Training Stats after 17 global rounds:\n",
      "INFO:root:Train Accuracy: 0.00%\n",
      "INFO:root:Training Loss : 0.15979540102478398\n",
      "INFO:root:Test Accuracy: 45.68%\n",
      "INFO:root:Test Loss: 2.1460108135640623 \n",
      "\n",
      " 17%|█▋        | 17/100 [11:40<56:48, 41.06s/it]  "
     ]
    },
    {
     "name": "stdout",
     "output_type": "stream",
     "text": [
      "[201, 1756, 796, 1320, 813, 542, 116, 173, 794, 1798]\n"
     ]
    },
    {
     "name": "stderr",
     "output_type": "stream",
     "text": [
      "INFO:root: \n",
      "Avg Training Stats after 18 global rounds:\n",
      "INFO:root:Train Accuracy: 0.00%\n",
      "INFO:root:Training Loss : 0.21360444772877454\n",
      "INFO:root:Test Accuracy: 20.07%\n",
      "INFO:root:Test Loss: 3.89080159066245 \n",
      "\n",
      " 18%|█▊        | 18/100 [12:16<54:10, 39.64s/it]"
     ]
    },
    {
     "name": "stdout",
     "output_type": "stream",
     "text": [
      "[15, 1780, 19, 744, 2575, 173, 813, 40, 1320, 422]\n"
     ]
    },
    {
     "name": "stderr",
     "output_type": "stream",
     "text": [
      "INFO:root: \n",
      "Avg Training Stats after 19 global rounds:\n",
      "INFO:root:Train Accuracy: 0.00%\n",
      "INFO:root:Training Loss : 0.3810915029705103\n",
      "INFO:root:Test Accuracy: 40.78%\n",
      "INFO:root:Test Loss: 2.6138926711678505 \n",
      "\n",
      " 19%|█▉        | 19/100 [12:51<51:46, 38.35s/it]"
     ]
    },
    {
     "name": "stdout",
     "output_type": "stream",
     "text": [
      "[813, 1736, 15, 1433, 267, 470, 3195, 744, 2575, 231]\n"
     ]
    },
    {
     "name": "stderr",
     "output_type": "stream",
     "text": [
      "INFO:root: \n",
      "Avg Training Stats after 20 global rounds:\n",
      "INFO:root:Train Accuracy: 0.00%\n",
      "INFO:root:Training Loss : 0.2389824704578384\n",
      "INFO:root:Test Accuracy: 20.07%\n",
      "INFO:root:Test Loss: 5.032938425936736 \n",
      "\n",
      " 20%|██        | 20/100 [13:35<53:02, 39.79s/it]"
     ]
    },
    {
     "name": "stdout",
     "output_type": "stream",
     "text": [
      "[278, 744, 1053, 447, 1320, 116, 1798, 19, 4600, 3195]\n"
     ]
    },
    {
     "name": "stderr",
     "output_type": "stream",
     "text": [
      "INFO:root: \n",
      "Avg Training Stats after 21 global rounds:\n",
      "INFO:root:Train Accuracy: 0.00%\n",
      "INFO:root:Training Loss : 0.23400093104380632\n",
      "INFO:root:Test Accuracy: 24.92%\n",
      "INFO:root:Test Loss: 4.125437264479697 \n",
      "\n",
      " 21%|██        | 21/100 [14:22<55:30, 42.15s/it]"
     ]
    },
    {
     "name": "stdout",
     "output_type": "stream",
     "text": [
      "[813, 2029, 602, 590, 1756, 106, 1780, 40, 19, 2934]\n"
     ]
    },
    {
     "name": "stderr",
     "output_type": "stream",
     "text": [
      "INFO:root: \n",
      "Avg Training Stats after 22 global rounds:\n",
      "INFO:root:Train Accuracy: 0.00%\n",
      "INFO:root:Training Loss : 0.1556350070507846\n",
      "INFO:root:Test Accuracy: 34.35%\n",
      "INFO:root:Test Loss: 3.421750164180994 \n",
      "\n",
      " 22%|██▏       | 22/100 [15:03<54:22, 41.83s/it]"
     ]
    },
    {
     "name": "stdout",
     "output_type": "stream",
     "text": [
      "[40, 862, 327, 1780, 2274, 106, 1053, 1112, 1012, 3195]\n"
     ]
    },
    {
     "name": "stderr",
     "output_type": "stream",
     "text": [
      "INFO:root: \n",
      "Avg Training Stats after 23 global rounds:\n",
      "INFO:root:Train Accuracy: 0.00%\n",
      "INFO:root:Training Loss : 0.19396419628362208\n",
      "INFO:root:Test Accuracy: 35.25%\n",
      "INFO:root:Test Loss: 3.379716226756573 \n",
      "\n",
      " 23%|██▎       | 23/100 [15:47<54:22, 42.37s/it]"
     ]
    },
    {
     "name": "stdout",
     "output_type": "stream",
     "text": [
      "[1320, 1119, 862, 744, 1053, 87, 201, 470, 2274, 1012]\n"
     ]
    },
    {
     "name": "stderr",
     "output_type": "stream",
     "text": [
      "INFO:root: \n",
      "Avg Training Stats after 24 global rounds:\n",
      "INFO:root:Train Accuracy: 0.00%\n",
      "INFO:root:Training Loss : 0.17647610564194932\n",
      "INFO:root:Test Accuracy: 31.69%\n",
      "INFO:root:Test Loss: 4.19945981984958 \n",
      "\n",
      " 24%|██▍       | 24/100 [16:25<52:03, 41.10s/it]"
     ]
    },
    {
     "name": "stdout",
     "output_type": "stream",
     "text": [
      "[447, 286, 1416, 87, 796, 1798, 231, 1119, 431, 2195]\n"
     ]
    },
    {
     "name": "stderr",
     "output_type": "stream",
     "text": [
      "INFO:root: \n",
      "Avg Training Stats after 25 global rounds:\n",
      "INFO:root:Train Accuracy: 0.00%\n",
      "INFO:root:Training Loss : 0.2357451776045958\n",
      "INFO:root:Test Accuracy: 34.22%\n",
      "INFO:root:Test Loss: 3.6719702146947384 \n",
      "\n",
      " 25%|██▌       | 25/100 [17:02<49:59, 39.99s/it]"
     ]
    },
    {
     "name": "stdout",
     "output_type": "stream",
     "text": [
      "[116, 2029, 690, 1416, 1780, 602, 2575, 1756, 431, 87]\n"
     ]
    },
    {
     "name": "stderr",
     "output_type": "stream",
     "text": [
      "INFO:root: \n",
      "Avg Training Stats after 26 global rounds:\n",
      "INFO:root:Train Accuracy: 0.00%\n",
      "INFO:root:Training Loss : 0.24271554342814455\n",
      "INFO:root:Test Accuracy: 42.09%\n",
      "INFO:root:Test Loss: 2.5489240716397763 \n",
      "\n",
      " 26%|██▌       | 26/100 [17:46<50:27, 40.91s/it]"
     ]
    },
    {
     "name": "stdout",
     "output_type": "stream",
     "text": [
      "[87, 173, 2029, 19, 4600, 2195, 116, 303, 40, 209]\n"
     ]
    },
    {
     "name": "stderr",
     "output_type": "stream",
     "text": [
      "INFO:root: \n",
      "Avg Training Stats after 27 global rounds:\n",
      "INFO:root:Train Accuracy: 0.00%\n",
      "INFO:root:Training Loss : 0.26654748147577295\n",
      "INFO:root:Test Accuracy: 41.96%\n",
      "INFO:root:Test Loss: 2.260254483371973 \n",
      "\n",
      " 27%|██▋       | 27/100 [18:25<49:14, 40.47s/it]"
     ]
    },
    {
     "name": "stdout",
     "output_type": "stream",
     "text": [
      "[4600, 267, 794, 231, 201, 231, 2934, 590, 470, 173]\n"
     ]
    },
    {
     "name": "stderr",
     "output_type": "stream",
     "text": [
      "INFO:root: \n",
      "Avg Training Stats after 28 global rounds:\n",
      "INFO:root:Train Accuracy: 0.00%\n",
      "INFO:root:Training Loss : 0.21223947174243069\n",
      "INFO:root:Test Accuracy: 30.16%\n",
      "INFO:root:Test Loss: 4.114776365160942 \n",
      "\n",
      " 28%|██▊       | 28/100 [19:06<48:39, 40.55s/it]"
     ]
    },
    {
     "name": "stdout",
     "output_type": "stream",
     "text": [
      "[1798, 286, 123, 1112, 303, 796, 744, 1320, 231, 794]\n"
     ]
    },
    {
     "name": "stderr",
     "output_type": "stream",
     "text": [
      "INFO:root: \n",
      "Avg Training Stats after 29 global rounds:\n",
      "INFO:root:Train Accuracy: 0.00%\n",
      "INFO:root:Training Loss : 0.13851093157094063\n",
      "INFO:root:Test Accuracy: 33.19%\n",
      "INFO:root:Test Loss: 3.360388636440039 \n",
      "\n",
      " 29%|██▉       | 29/100 [19:40<45:48, 38.71s/it]"
     ]
    },
    {
     "name": "stdout",
     "output_type": "stream",
     "text": [
      "[303, 4600, 1119, 447, 744, 40, 1756, 2430, 2029, 602]\n"
     ]
    },
    {
     "name": "stderr",
     "output_type": "stream",
     "text": [
      "INFO:root: \n",
      "Avg Training Stats after 30 global rounds:\n",
      "INFO:root:Train Accuracy: 0.00%\n",
      "INFO:root:Training Loss : 0.14441987414535432\n",
      "INFO:root:Test Accuracy: 48.93%\n",
      "INFO:root:Test Loss: 1.9479729324579238 \n",
      "\n",
      " 30%|███       | 30/100 [20:29<48:41, 41.73s/it]"
     ]
    },
    {
     "name": "stdout",
     "output_type": "stream",
     "text": [
      "[422, 3195, 1112, 327, 123, 1736, 303, 286, 106, 1433]\n"
     ]
    },
    {
     "name": "stderr",
     "output_type": "stream",
     "text": [
      "INFO:root: \n",
      "Avg Training Stats after 31 global rounds:\n",
      "INFO:root:Train Accuracy: 0.00%\n",
      "INFO:root:Training Loss : 0.1562285339433307\n",
      "INFO:root:Test Accuracy: 43.02%\n",
      "INFO:root:Test Loss: 2.22344797372818 \n",
      "\n",
      " 31%|███       | 31/100 [21:07<46:39, 40.57s/it]"
     ]
    },
    {
     "name": "stdout",
     "output_type": "stream",
     "text": [
      "[862, 173, 422, 303, 123, 1012, 542, 278, 431, 2195]\n"
     ]
    },
    {
     "name": "stderr",
     "output_type": "stream",
     "text": [
      "INFO:root: \n",
      "Avg Training Stats after 32 global rounds:\n",
      "INFO:root:Train Accuracy: 0.00%\n",
      "INFO:root:Training Loss : 0.2503164179603414\n",
      "INFO:root:Test Accuracy: 42.04%\n",
      "INFO:root:Test Loss: 2.4468776938319206 \n",
      "\n",
      " 32%|███▏      | 32/100 [21:39<43:03, 37.99s/it]"
     ]
    },
    {
     "name": "stdout",
     "output_type": "stream",
     "text": [
      "[1320, 15, 19, 1756, 231, 470, 267, 87, 862, 327]\n"
     ]
    },
    {
     "name": "stderr",
     "output_type": "stream",
     "text": [
      "INFO:root: \n",
      "Avg Training Stats after 33 global rounds:\n",
      "INFO:root:Train Accuracy: 0.00%\n",
      "INFO:root:Training Loss : 0.29127633120444163\n",
      "INFO:root:Test Accuracy: 34.83%\n",
      "INFO:root:Test Loss: 3.022444589883089 \n",
      "\n",
      " 33%|███▎      | 33/100 [22:08<39:40, 35.53s/it]"
     ]
    },
    {
     "name": "stdout",
     "output_type": "stream",
     "text": [
      "[87, 267, 796, 1053, 1433, 2575, 1119, 794, 15, 327]\n"
     ]
    },
    {
     "name": "stderr",
     "output_type": "stream",
     "text": [
      "INFO:root: \n",
      "Avg Training Stats after 34 global rounds:\n",
      "INFO:root:Train Accuracy: 0.00%\n",
      "INFO:root:Training Loss : 0.2525042192210064\n",
      "INFO:root:Test Accuracy: 40.36%\n",
      "INFO:root:Test Loss: 2.7699973475933075 \n",
      "\n",
      " 34%|███▍      | 34/100 [22:45<39:22, 35.80s/it]"
     ]
    },
    {
     "name": "stdout",
     "output_type": "stream",
     "text": [
      "[422, 1798, 590, 796, 19, 1320, 173, 1416, 1053, 4600]\n"
     ]
    },
    {
     "name": "stderr",
     "output_type": "stream",
     "text": [
      "INFO:root: \n",
      "Avg Training Stats after 35 global rounds:\n",
      "INFO:root:Train Accuracy: 0.00%\n",
      "INFO:root:Training Loss : 0.19283407543023087\n",
      "INFO:root:Test Accuracy: 48.87%\n",
      "INFO:root:Test Loss: 1.7519068528711796 \n",
      "\n",
      " 35%|███▌      | 35/100 [23:29<41:35, 38.39s/it]"
     ]
    },
    {
     "name": "stdout",
     "output_type": "stream",
     "text": [
      "[2430, 1320, 602, 3195, 231, 2934, 431, 794, 1416, 542]\n"
     ]
    },
    {
     "name": "stderr",
     "output_type": "stream",
     "text": [
      "INFO:root: \n",
      "Avg Training Stats after 36 global rounds:\n",
      "INFO:root:Train Accuracy: 0.00%\n",
      "INFO:root:Training Loss : 0.14449342259018616\n",
      "INFO:root:Test Accuracy: 43.17%\n",
      "INFO:root:Test Loss: 2.7432994386553764 \n",
      "\n",
      " 36%|███▌      | 36/100 [24:18<44:11, 41.42s/it]"
     ]
    },
    {
     "name": "stdout",
     "output_type": "stream",
     "text": [
      "[15, 813, 1112, 123, 40, 796, 2274, 1018, 2195, 201]\n"
     ]
    },
    {
     "name": "stderr",
     "output_type": "stream",
     "text": [
      "INFO:root: \n",
      "Avg Training Stats after 37 global rounds:\n",
      "INFO:root:Train Accuracy: 0.00%\n",
      "INFO:root:Training Loss : 0.2043522004545663\n",
      "INFO:root:Test Accuracy: 46.68%\n",
      "INFO:root:Test Loss: 2.3304974837601184 \n",
      "\n",
      " 37%|███▋      | 37/100 [24:55<41:59, 39.99s/it]"
     ]
    },
    {
     "name": "stdout",
     "output_type": "stream",
     "text": [
      "[303, 2195, 422, 1112, 1433, 116, 796, 602, 1756, 231]\n"
     ]
    },
    {
     "name": "stderr",
     "output_type": "stream",
     "text": [
      "INFO:root: \n",
      "Avg Training Stats after 38 global rounds:\n",
      "INFO:root:Train Accuracy: 0.00%\n",
      "INFO:root:Training Loss : 0.1681081363032392\n",
      "INFO:root:Test Accuracy: 39.37%\n",
      "INFO:root:Test Loss: 2.8209637538716197 \n",
      "\n",
      " 38%|███▊      | 38/100 [25:32<40:36, 39.29s/it]"
     ]
    },
    {
     "name": "stdout",
     "output_type": "stream",
     "text": [
      "[1756, 231, 267, 2430, 590, 1736, 15, 4600, 327, 1112]\n"
     ]
    },
    {
     "name": "stderr",
     "output_type": "stream",
     "text": [
      "INFO:root: \n",
      "Avg Training Stats after 39 global rounds:\n",
      "INFO:root:Train Accuracy: 0.00%\n",
      "INFO:root:Training Loss : 0.1723167974409064\n",
      "INFO:root:Test Accuracy: 41.48%\n",
      "INFO:root:Test Loss: 2.5095669236034155 \n",
      "\n",
      " 39%|███▉      | 39/100 [26:19<42:12, 41.52s/it]"
     ]
    },
    {
     "name": "stdout",
     "output_type": "stream",
     "text": [
      "[2575, 422, 3195, 862, 231, 796, 2934, 123, 2430, 794]\n"
     ]
    },
    {
     "name": "stderr",
     "output_type": "stream",
     "text": [
      "INFO:root: \n",
      "Avg Training Stats after 40 global rounds:\n",
      "INFO:root:Train Accuracy: 0.00%\n",
      "INFO:root:Training Loss : 0.14109531974067055\n",
      "INFO:root:Test Accuracy: 38.41%\n",
      "INFO:root:Test Loss: 2.728369778431952 \n",
      "\n",
      " 40%|████      | 40/100 [27:08<43:49, 43.83s/it]"
     ]
    },
    {
     "name": "stdout",
     "output_type": "stream",
     "text": [
      "[231, 1119, 1736, 278, 447, 1018, 286, 744, 690, 173]\n"
     ]
    },
    {
     "name": "stderr",
     "output_type": "stream",
     "text": [
      "INFO:root: \n",
      "Avg Training Stats after 41 global rounds:\n",
      "INFO:root:Train Accuracy: 0.00%\n",
      "INFO:root:Training Loss : 0.18395712310740261\n",
      "INFO:root:Test Accuracy: 28.72%\n",
      "INFO:root:Test Loss: 3.686518073757179 \n",
      "\n",
      " 41%|████      | 41/100 [27:41<39:48, 40.49s/it]"
     ]
    },
    {
     "name": "stdout",
     "output_type": "stream",
     "text": [
      "[231, 1320, 1416, 2575, 2274, 862, 690, 602, 1012, 173]\n"
     ]
    },
    {
     "name": "stderr",
     "output_type": "stream",
     "text": [
      "INFO:root: \n",
      "Avg Training Stats after 42 global rounds:\n",
      "INFO:root:Train Accuracy: 0.00%\n",
      "INFO:root:Training Loss : 0.18046286647043827\n",
      "INFO:root:Test Accuracy: 42.30%\n",
      "INFO:root:Test Loss: 2.1994863399490714 \n",
      "\n",
      " 42%|████▏     | 42/100 [28:24<39:52, 41.25s/it]"
     ]
    },
    {
     "name": "stdout",
     "output_type": "stream",
     "text": [
      "[1112, 1053, 3195, 2934, 2029, 201, 123, 2195, 1018, 173]\n"
     ]
    },
    {
     "name": "stderr",
     "output_type": "stream",
     "text": [
      "INFO:root: \n",
      "Avg Training Stats after 43 global rounds:\n",
      "INFO:root:Train Accuracy: 0.00%\n",
      "INFO:root:Training Loss : 0.19907369982571485\n",
      "INFO:root:Test Accuracy: 48.38%\n",
      "INFO:root:Test Loss: 2.0164292752742767 \n",
      "\n",
      " 43%|████▎     | 43/100 [29:13<41:20, 43.52s/it]"
     ]
    },
    {
     "name": "stdout",
     "output_type": "stream",
     "text": [
      "[862, 1053, 422, 3195, 4600, 794, 1756, 173, 2029, 1018]\n"
     ]
    },
    {
     "name": "stderr",
     "output_type": "stream",
     "text": [
      "INFO:root: \n",
      "Avg Training Stats after 44 global rounds:\n",
      "INFO:root:Train Accuracy: 0.00%\n",
      "INFO:root:Training Loss : 0.16291746180274896\n",
      "INFO:root:Test Accuracy: 44.13%\n",
      "INFO:root:Test Loss: 2.9681504181027414 \n",
      "\n",
      " 44%|████▍     | 44/100 [30:06<43:14, 46.33s/it]"
     ]
    },
    {
     "name": "stdout",
     "output_type": "stream",
     "text": [
      "[1320, 2934, 796, 2195, 862, 2575, 2029, 19, 422, 286]\n"
     ]
    },
    {
     "name": "stderr",
     "output_type": "stream",
     "text": [
      "INFO:root: \n",
      "Avg Training Stats after 45 global rounds:\n",
      "INFO:root:Train Accuracy: 0.00%\n",
      "INFO:root:Training Loss : 0.2653173641248857\n",
      "INFO:root:Test Accuracy: 45.55%\n",
      "INFO:root:Test Loss: 2.9249776184558867 \n",
      "\n",
      " 45%|████▌     | 45/100 [30:53<42:46, 46.66s/it]"
     ]
    },
    {
     "name": "stdout",
     "output_type": "stream",
     "text": [
      "[862, 744, 1416, 1112, 590, 542, 278, 690, 116, 1780]\n"
     ]
    },
    {
     "name": "stderr",
     "output_type": "stream",
     "text": [
      "INFO:root: \n",
      "Avg Training Stats after 46 global rounds:\n",
      "INFO:root:Train Accuracy: 0.00%\n",
      "INFO:root:Training Loss : 0.2228253724274826\n",
      "INFO:root:Test Accuracy: 45.71%\n",
      "INFO:root:Test Loss: 2.318483721166849 \n",
      "\n",
      " 46%|████▌     | 46/100 [31:29<39:06, 43.46s/it]"
     ]
    },
    {
     "name": "stdout",
     "output_type": "stream",
     "text": [
      "[2575, 1112, 1320, 231, 3195, 1012, 862, 447, 2195, 201]\n"
     ]
    },
    {
     "name": "stderr",
     "output_type": "stream",
     "text": [
      "INFO:root: \n",
      "Avg Training Stats after 47 global rounds:\n",
      "INFO:root:Train Accuracy: 0.00%\n",
      "INFO:root:Training Loss : 0.10940974134282051\n",
      "INFO:root:Test Accuracy: 28.08%\n",
      "INFO:root:Test Loss: 3.969138135993853 \n",
      "\n",
      " 47%|████▋     | 47/100 [32:16<39:21, 44.55s/it]"
     ]
    },
    {
     "name": "stdout",
     "output_type": "stream",
     "text": [
      "[1433, 542, 813, 231, 1119, 2029, 1012, 173, 2195, 1320]\n"
     ]
    },
    {
     "name": "stderr",
     "output_type": "stream",
     "text": [
      "INFO:root: \n",
      "Avg Training Stats after 48 global rounds:\n",
      "INFO:root:Train Accuracy: 0.00%\n",
      "INFO:root:Training Loss : 0.12419830738669706\n",
      "INFO:root:Test Accuracy: 32.28%\n",
      "INFO:root:Test Loss: 3.917659729681909 \n",
      "\n",
      " 48%|████▊     | 48/100 [32:58<37:52, 43.70s/it]"
     ]
    },
    {
     "name": "stdout",
     "output_type": "stream",
     "text": [
      "[744, 2195, 209, 1780, 2575, 123, 327, 40, 1736, 690]\n"
     ]
    },
    {
     "name": "stderr",
     "output_type": "stream",
     "text": [
      "INFO:root: \n",
      "Avg Training Stats after 49 global rounds:\n",
      "INFO:root:Train Accuracy: 0.00%\n",
      "INFO:root:Training Loss : 0.20816933617460237\n",
      "INFO:root:Test Accuracy: 41.83%\n",
      "INFO:root:Test Loss: 3.1788902932405474 \n",
      "\n",
      " 49%|████▉     | 49/100 [33:38<36:21, 42.78s/it]"
     ]
    },
    {
     "name": "stdout",
     "output_type": "stream",
     "text": [
      "[862, 690, 1433, 173, 3195, 2934, 116, 447, 231, 431]\n"
     ]
    },
    {
     "name": "stderr",
     "output_type": "stream",
     "text": [
      "INFO:root: \n",
      "Avg Training Stats after 50 global rounds:\n",
      "INFO:root:Train Accuracy: 0.00%\n",
      "INFO:root:Training Loss : 0.20533849147491798\n",
      "INFO:root:Test Accuracy: 30.17%\n",
      "INFO:root:Test Loss: 3.474435188593343 \n",
      "\n",
      " 50%|█████     | 50/100 [34:20<35:16, 42.33s/it]"
     ]
    },
    {
     "name": "stdout",
     "output_type": "stream",
     "text": [
      "[1320, 19, 3195, 87, 1756, 303, 813, 2575, 231, 231]\n"
     ]
    },
    {
     "name": "stderr",
     "output_type": "stream",
     "text": [
      "INFO:root: \n",
      "Avg Training Stats after 51 global rounds:\n",
      "INFO:root:Train Accuracy: 0.00%\n",
      "INFO:root:Training Loss : 0.12087305032517182\n",
      "INFO:root:Test Accuracy: 20.34%\n",
      "INFO:root:Test Loss: 5.597101152453106 \n",
      "\n",
      " 51%|█████     | 51/100 [35:01<34:18, 42.01s/it]"
     ]
    },
    {
     "name": "stdout",
     "output_type": "stream",
     "text": [
      "[40, 813, 1780, 2934, 15, 173, 278, 19, 1798, 267]\n"
     ]
    },
    {
     "name": "stderr",
     "output_type": "stream",
     "text": [
      "INFO:root: \n",
      "Avg Training Stats after 52 global rounds:\n",
      "INFO:root:Train Accuracy: 0.00%\n",
      "INFO:root:Training Loss : 0.35843894712452606\n",
      "INFO:root:Test Accuracy: 31.53%\n",
      "INFO:root:Test Loss: 3.2826009419560433 \n",
      "\n",
      " 52%|█████▏    | 52/100 [35:37<32:05, 40.12s/it]"
     ]
    },
    {
     "name": "stdout",
     "output_type": "stream",
     "text": [
      "[267, 231, 690, 173, 1780, 1053, 862, 590, 1433, 303]\n"
     ]
    },
    {
     "name": "stderr",
     "output_type": "stream",
     "text": [
      "INFO:root: \n",
      "Avg Training Stats after 53 global rounds:\n",
      "INFO:root:Train Accuracy: 0.00%\n",
      "INFO:root:Training Loss : 0.1871436730552007\n",
      "INFO:root:Test Accuracy: 46.17%\n",
      "INFO:root:Test Loss: 2.416842009276152 \n",
      "\n",
      " 53%|█████▎    | 53/100 [36:11<30:04, 38.38s/it]"
     ]
    },
    {
     "name": "stdout",
     "output_type": "stream",
     "text": [
      "[431, 3195, 201, 796, 2934, 15, 231, 1112, 1736, 267]\n"
     ]
    },
    {
     "name": "stderr",
     "output_type": "stream",
     "text": [
      "INFO:root: \n",
      "Avg Training Stats after 54 global rounds:\n",
      "INFO:root:Train Accuracy: 0.00%\n",
      "INFO:root:Training Loss : 0.14363729509944773\n",
      "INFO:root:Test Accuracy: 45.44%\n",
      "INFO:root:Test Loss: 2.459667867049575 \n",
      "\n",
      " 54%|█████▍    | 54/100 [36:53<30:13, 39.42s/it]"
     ]
    },
    {
     "name": "stdout",
     "output_type": "stream",
     "text": [
      "[40, 1320, 1416, 286, 2195, 1012, 201, 116, 1053, 542]\n"
     ]
    },
    {
     "name": "stderr",
     "output_type": "stream",
     "text": [
      "INFO:root: \n",
      "Avg Training Stats after 55 global rounds:\n",
      "INFO:root:Train Accuracy: 0.00%\n",
      "INFO:root:Training Loss : 0.17469582724340416\n",
      "INFO:root:Test Accuracy: 46.93%\n",
      "INFO:root:Test Loss: 2.072621759325266 \n",
      "\n",
      " 55%|█████▌    | 55/100 [37:29<28:44, 38.33s/it]"
     ]
    },
    {
     "name": "stdout",
     "output_type": "stream",
     "text": [
      "[1798, 422, 231, 4600, 231, 2575, 1433, 106, 1320, 862]\n"
     ]
    },
    {
     "name": "stderr",
     "output_type": "stream",
     "text": [
      "INFO:root: \n",
      "Avg Training Stats after 56 global rounds:\n",
      "INFO:root:Train Accuracy: 0.00%\n",
      "INFO:root:Training Loss : 0.09553450703398626\n",
      "INFO:root:Test Accuracy: 39.72%\n",
      "INFO:root:Test Loss: 3.014632498212159 \n",
      "\n",
      " 56%|█████▌    | 56/100 [38:17<30:12, 41.20s/it]"
     ]
    },
    {
     "name": "stdout",
     "output_type": "stream",
     "text": [
      "[2274, 3195, 267, 2029, 590, 327, 2195, 278, 1756, 813]\n"
     ]
    },
    {
     "name": "stderr",
     "output_type": "stream",
     "text": [
      "INFO:root: \n",
      "Avg Training Stats after 57 global rounds:\n",
      "INFO:root:Train Accuracy: 0.00%\n",
      "INFO:root:Training Loss : 0.1222154895761276\n",
      "INFO:root:Test Accuracy: 34.86%\n",
      "INFO:root:Test Loss: 4.507425433900207 \n",
      "\n",
      " 57%|█████▋    | 57/100 [39:04<30:56, 43.18s/it]"
     ]
    },
    {
     "name": "stdout",
     "output_type": "stream",
     "text": [
      "[1798, 431, 123, 1320, 1416, 231, 2575, 2934, 19, 1756]\n"
     ]
    },
    {
     "name": "stderr",
     "output_type": "stream",
     "text": [
      "INFO:root: \n",
      "Avg Training Stats after 58 global rounds:\n",
      "INFO:root:Train Accuracy: 0.00%\n",
      "INFO:root:Training Loss : 0.2225733638648506\n",
      "INFO:root:Test Accuracy: 39.58%\n",
      "INFO:root:Test Loss: 2.9752456273883583 \n",
      "\n",
      " 58%|█████▊    | 58/100 [39:50<30:41, 43.85s/it]"
     ]
    },
    {
     "name": "stdout",
     "output_type": "stream",
     "text": [
      "[1018, 267, 2274, 447, 2029, 690, 590, 303, 1119, 796]\n"
     ]
    },
    {
     "name": "stderr",
     "output_type": "stream",
     "text": [
      "INFO:root: \n",
      "Avg Training Stats after 59 global rounds:\n",
      "INFO:root:Train Accuracy: 0.00%\n",
      "INFO:root:Training Loss : 0.09718887788418992\n",
      "INFO:root:Test Accuracy: 57.59%\n",
      "INFO:root:Test Loss: 1.7438421366363763 \n",
      "\n",
      " 59%|█████▉    | 59/100 [40:29<28:58, 42.41s/it]"
     ]
    },
    {
     "name": "stdout",
     "output_type": "stream",
     "text": [
      "[106, 2430, 447, 1433, 1012, 3195, 1119, 1756, 862, 4600]\n"
     ]
    },
    {
     "name": "stderr",
     "output_type": "stream",
     "text": [
      "INFO:root: \n",
      "Avg Training Stats after 60 global rounds:\n",
      "INFO:root:Train Accuracy: 0.00%\n",
      "INFO:root:Training Loss : 0.05627965566263811\n",
      "INFO:root:Test Accuracy: 58.63%\n",
      "INFO:root:Test Loss: 1.8638126249611378 \n",
      "\n",
      " 60%|██████    | 60/100 [41:24<30:50, 46.27s/it]"
     ]
    },
    {
     "name": "stdout",
     "output_type": "stream",
     "text": [
      "[1780, 1320, 286, 2029, 40, 796, 447, 15, 231, 744]\n"
     ]
    },
    {
     "name": "stderr",
     "output_type": "stream",
     "text": [
      "INFO:root: \n",
      "Avg Training Stats after 61 global rounds:\n",
      "INFO:root:Train Accuracy: 0.00%\n",
      "INFO:root:Training Loss : 0.10139576394466118\n",
      "INFO:root:Test Accuracy: 39.75%\n",
      "INFO:root:Test Loss: 3.0543332977592943 \n",
      "\n",
      " 61%|██████    | 61/100 [41:59<27:50, 42.85s/it]"
     ]
    },
    {
     "name": "stdout",
     "output_type": "stream",
     "text": [
      "[116, 15, 2029, 327, 19, 470, 422, 87, 1012, 303]\n"
     ]
    },
    {
     "name": "stderr",
     "output_type": "stream",
     "text": [
      "INFO:root: \n",
      "Avg Training Stats after 62 global rounds:\n",
      "INFO:root:Train Accuracy: 0.00%\n",
      "INFO:root:Training Loss : 0.2148569863327187\n",
      "INFO:root:Test Accuracy: 26.53%\n",
      "INFO:root:Test Loss: 4.970810083448887 \n",
      "\n",
      " 62%|██████▏   | 62/100 [42:27<24:23, 38.52s/it]"
     ]
    },
    {
     "name": "stdout",
     "output_type": "stream",
     "text": [
      "[796, 2274, 862, 286, 813, 3195, 1112, 422, 1119, 327]\n"
     ]
    },
    {
     "name": "stderr",
     "output_type": "stream",
     "text": [
      "INFO:root: \n",
      "Avg Training Stats after 63 global rounds:\n",
      "INFO:root:Train Accuracy: 0.00%\n",
      "INFO:root:Training Loss : 0.11801487281624468\n",
      "INFO:root:Test Accuracy: 46.33%\n",
      "INFO:root:Test Loss: 2.5190714505314826 \n",
      "\n",
      " 63%|██████▎   | 63/100 [43:10<24:28, 39.70s/it]"
     ]
    },
    {
     "name": "stdout",
     "output_type": "stream",
     "text": [
      "[542, 1798, 690, 15, 267, 2575, 796, 590, 209, 470]\n"
     ]
    },
    {
     "name": "stderr",
     "output_type": "stream",
     "text": [
      "INFO:root: \n",
      "Avg Training Stats after 64 global rounds:\n",
      "INFO:root:Train Accuracy: 0.00%\n",
      "INFO:root:Training Loss : 0.19169967312946873\n",
      "INFO:root:Test Accuracy: 45.90%\n",
      "INFO:root:Test Loss: 2.511463637193665 \n",
      "\n",
      " 64%|██████▍   | 64/100 [43:45<23:02, 38.41s/it]"
     ]
    },
    {
     "name": "stdout",
     "output_type": "stream",
     "text": [
      "[87, 267, 286, 1053, 303, 796, 40, 173, 19, 327]\n"
     ]
    },
    {
     "name": "stderr",
     "output_type": "stream",
     "text": [
      "INFO:root: \n",
      "Avg Training Stats after 65 global rounds:\n",
      "INFO:root:Train Accuracy: 0.00%\n",
      "INFO:root:Training Loss : 0.22247019096055592\n",
      "INFO:root:Test Accuracy: 52.15%\n",
      "INFO:root:Test Loss: 1.913133127782494 \n",
      "\n",
      " 65%|██████▌   | 65/100 [44:11<20:08, 34.54s/it]"
     ]
    },
    {
     "name": "stdout",
     "output_type": "stream",
     "text": [
      "[813, 542, 106, 123, 4600, 40, 209, 2029, 1736, 2195]\n"
     ]
    },
    {
     "name": "stderr",
     "output_type": "stream",
     "text": [
      "INFO:root: \n",
      "Avg Training Stats after 66 global rounds:\n",
      "INFO:root:Train Accuracy: 0.00%\n",
      "INFO:root:Training Loss : 0.13099459949629802\n",
      "INFO:root:Test Accuracy: 56.24%\n",
      "INFO:root:Test Loss: 1.6964091096073388 \n",
      "\n",
      " 66%|██████▌   | 66/100 [44:56<21:22, 37.73s/it]"
     ]
    },
    {
     "name": "stdout",
     "output_type": "stream",
     "text": [
      "[1416, 1320, 201, 744, 2934, 447, 278, 2430, 1018, 2274]\n"
     ]
    },
    {
     "name": "stderr",
     "output_type": "stream",
     "text": [
      "INFO:root: \n",
      "Avg Training Stats after 67 global rounds:\n",
      "INFO:root:Train Accuracy: 0.00%\n",
      "INFO:root:Training Loss : 0.10424230366282419\n",
      "INFO:root:Test Accuracy: 51.77%\n",
      "INFO:root:Test Loss: 1.9421009345352649 \n",
      "\n",
      " 67%|██████▋   | 67/100 [45:42<22:11, 40.36s/it]"
     ]
    },
    {
     "name": "stdout",
     "output_type": "stream",
     "text": [
      "[303, 1012, 470, 123, 106, 201, 87, 1736, 2934, 2575]\n"
     ]
    },
    {
     "name": "stderr",
     "output_type": "stream",
     "text": [
      "INFO:root: \n",
      "Avg Training Stats after 68 global rounds:\n",
      "INFO:root:Train Accuracy: 0.00%\n",
      "INFO:root:Training Loss : 0.08787732482451241\n",
      "INFO:root:Test Accuracy: 45.80%\n",
      "INFO:root:Test Loss: 2.1406123039126395 \n",
      "\n",
      " 68%|██████▊   | 68/100 [46:21<21:19, 39.98s/it]"
     ]
    },
    {
     "name": "stdout",
     "output_type": "stream",
     "text": [
      "[3195, 794, 690, 2029, 231, 1756, 1112, 1736, 201, 813]\n"
     ]
    },
    {
     "name": "stderr",
     "output_type": "stream",
     "text": [
      "INFO:root: \n",
      "Avg Training Stats after 69 global rounds:\n",
      "INFO:root:Train Accuracy: 0.00%\n",
      "INFO:root:Training Loss : 0.07228170610620374\n",
      "INFO:root:Test Accuracy: 33.01%\n",
      "INFO:root:Test Loss: 3.6332825002074243 \n",
      "\n",
      " 69%|██████▉   | 69/100 [47:07<21:30, 41.63s/it]"
     ]
    },
    {
     "name": "stdout",
     "output_type": "stream",
     "text": [
      "[106, 40, 278, 422, 470, 2029, 2934, 744, 2274, 327]\n"
     ]
    },
    {
     "name": "stderr",
     "output_type": "stream",
     "text": [
      "INFO:root: \n",
      "Avg Training Stats after 70 global rounds:\n",
      "INFO:root:Train Accuracy: 0.00%\n",
      "INFO:root:Training Loss : 0.14597237298927998\n",
      "INFO:root:Test Accuracy: 43.54%\n",
      "INFO:root:Test Loss: 2.5242482769489287 \n",
      "\n",
      " 70%|███████   | 70/100 [47:46<20:26, 40.89s/it]"
     ]
    },
    {
     "name": "stdout",
     "output_type": "stream",
     "text": [
      "[3195, 267, 303, 173, 286, 2029, 422, 1012, 796, 106]\n"
     ]
    },
    {
     "name": "stderr",
     "output_type": "stream",
     "text": [
      "INFO:root: \n",
      "Avg Training Stats after 71 global rounds:\n",
      "INFO:root:Train Accuracy: 0.00%\n",
      "INFO:root:Training Loss : 0.12867198272546002\n",
      "INFO:root:Test Accuracy: 34.42%\n",
      "INFO:root:Test Loss: 3.728650389462709 \n",
      "\n",
      " 71%|███████   | 71/100 [48:23<19:12, 39.74s/it]"
     ]
    },
    {
     "name": "stdout",
     "output_type": "stream",
     "text": [
      "[209, 40, 4600, 106, 123, 1012, 690, 542, 602, 2575]\n"
     ]
    },
    {
     "name": "stderr",
     "output_type": "stream",
     "text": [
      "INFO:root: \n",
      "Avg Training Stats after 72 global rounds:\n",
      "INFO:root:Train Accuracy: 0.00%\n",
      "INFO:root:Training Loss : 0.13653639880366852\n",
      "INFO:root:Test Accuracy: 46.32%\n",
      "INFO:root:Test Loss: 2.6105707836151124 \n",
      "\n",
      " 72%|███████▏  | 72/100 [49:04<18:42, 40.09s/it]"
     ]
    },
    {
     "name": "stdout",
     "output_type": "stream",
     "text": [
      "[1012, 2430, 2274, 209, 1798, 303, 1112, 231, 744, 278]\n"
     ]
    },
    {
     "name": "stderr",
     "output_type": "stream",
     "text": [
      "INFO:root: \n",
      "Avg Training Stats after 73 global rounds:\n",
      "INFO:root:Train Accuracy: 0.00%\n",
      "INFO:root:Training Loss : 0.09936763158756719\n",
      "INFO:root:Test Accuracy: 30.99%\n",
      "INFO:root:Test Loss: 4.691779271128617 \n",
      "\n",
      " 73%|███████▎  | 73/100 [49:45<18:08, 40.32s/it]"
     ]
    },
    {
     "name": "stdout",
     "output_type": "stream",
     "text": [
      "[447, 1320, 209, 327, 744, 1018, 231, 2430, 590, 602]\n"
     ]
    },
    {
     "name": "stderr",
     "output_type": "stream",
     "text": [
      "INFO:root: \n",
      "Avg Training Stats after 74 global rounds:\n",
      "INFO:root:Train Accuracy: 0.00%\n",
      "INFO:root:Training Loss : 0.16576360180632724\n",
      "INFO:root:Test Accuracy: 40.24%\n",
      "INFO:root:Test Loss: 3.519585174880922 \n",
      "\n",
      " 74%|███████▍  | 74/100 [50:21<16:51, 38.91s/it]"
     ]
    },
    {
     "name": "stdout",
     "output_type": "stream",
     "text": [
      "[470, 1053, 303, 1012, 106, 3195, 447, 1112, 201, 1433]\n"
     ]
    },
    {
     "name": "stderr",
     "output_type": "stream",
     "text": [
      "INFO:root: \n",
      "Avg Training Stats after 75 global rounds:\n",
      "INFO:root:Train Accuracy: 0.00%\n",
      "INFO:root:Training Loss : 0.08730930895273885\n",
      "INFO:root:Test Accuracy: 48.75%\n",
      "INFO:root:Test Loss: 2.4857001952826976 \n",
      "\n",
      " 75%|███████▌  | 75/100 [50:59<16:08, 38.74s/it]"
     ]
    },
    {
     "name": "stdout",
     "output_type": "stream",
     "text": [
      "[231, 1433, 431, 209, 1416, 1780, 116, 123, 422, 4600]\n"
     ]
    },
    {
     "name": "stderr",
     "output_type": "stream",
     "text": [
      "INFO:root: \n",
      "Avg Training Stats after 76 global rounds:\n",
      "INFO:root:Train Accuracy: 0.00%\n",
      "INFO:root:Training Loss : 0.20774189166820273\n",
      "INFO:root:Test Accuracy: 43.25%\n",
      "INFO:root:Test Loss: 2.7143355672061444 \n",
      "\n",
      " 76%|███████▌  | 76/100 [51:40<15:49, 39.58s/it]"
     ]
    },
    {
     "name": "stdout",
     "output_type": "stream",
     "text": [
      "[2575, 796, 1053, 267, 602, 1018, 201, 1756, 286, 2430]\n"
     ]
    },
    {
     "name": "stderr",
     "output_type": "stream",
     "text": [
      "INFO:root: \n",
      "Avg Training Stats after 77 global rounds:\n",
      "INFO:root:Train Accuracy: 0.00%\n",
      "INFO:root:Training Loss : 0.11513113356640554\n",
      "INFO:root:Test Accuracy: 47.81%\n",
      "INFO:root:Test Loss: 2.298056303858757 \n",
      "\n",
      " 77%|███████▋  | 77/100 [52:23<15:28, 40.37s/it]"
     ]
    },
    {
     "name": "stdout",
     "output_type": "stream",
     "text": [
      "[15, 2029, 2274, 744, 1018, 1736, 2934, 19, 173, 447]\n"
     ]
    },
    {
     "name": "stderr",
     "output_type": "stream",
     "text": [
      "INFO:root: \n",
      "Avg Training Stats after 78 global rounds:\n",
      "INFO:root:Train Accuracy: 0.00%\n",
      "INFO:root:Training Loss : 0.13814934101462406\n",
      "INFO:root:Test Accuracy: 44.29%\n",
      "INFO:root:Test Loss: 2.5348312417417764 \n",
      "\n",
      " 78%|███████▊  | 78/100 [53:06<15:06, 41.20s/it]"
     ]
    },
    {
     "name": "stdout",
     "output_type": "stream",
     "text": [
      "[542, 602, 173, 201, 590, 690, 422, 2934, 1736, 744]\n"
     ]
    },
    {
     "name": "stderr",
     "output_type": "stream",
     "text": [
      "INFO:root: \n",
      "Avg Training Stats after 79 global rounds:\n",
      "INFO:root:Train Accuracy: 0.00%\n",
      "INFO:root:Training Loss : 0.15892632011938498\n",
      "INFO:root:Test Accuracy: 48.62%\n",
      "INFO:root:Test Loss: 2.307326543480158 \n",
      "\n",
      " 79%|███████▉  | 79/100 [53:43<13:58, 39.93s/it]"
     ]
    },
    {
     "name": "stdout",
     "output_type": "stream",
     "text": [
      "[201, 278, 40, 1112, 106, 690, 2029, 87, 796, 3195]\n"
     ]
    },
    {
     "name": "stderr",
     "output_type": "stream",
     "text": [
      "INFO:root: \n",
      "Avg Training Stats after 80 global rounds:\n",
      "INFO:root:Train Accuracy: 0.00%\n",
      "INFO:root:Training Loss : 0.074405871697849\n",
      "INFO:root:Test Accuracy: 49.83%\n",
      "INFO:root:Test Loss: 1.9111841609328986 \n",
      "\n",
      " 80%|████████  | 80/100 [54:19<12:59, 38.95s/it]"
     ]
    },
    {
     "name": "stdout",
     "output_type": "stream",
     "text": [
      "[1798, 15, 201, 123, 1433, 542, 1119, 690, 602, 40]\n"
     ]
    },
    {
     "name": "stderr",
     "output_type": "stream",
     "text": [
      "INFO:root: \n",
      "Avg Training Stats after 81 global rounds:\n",
      "INFO:root:Train Accuracy: 0.00%\n",
      "INFO:root:Training Loss : 0.1144915546813132\n",
      "INFO:root:Test Accuracy: 44.80%\n",
      "INFO:root:Test Loss: 2.694243240952492 \n",
      "\n",
      " 81%|████████  | 81/100 [54:52<11:41, 36.91s/it]"
     ]
    },
    {
     "name": "stdout",
     "output_type": "stream",
     "text": [
      "[267, 542, 209, 796, 87, 3195, 231, 303, 2934, 1119]\n"
     ]
    },
    {
     "name": "stderr",
     "output_type": "stream",
     "text": [
      "INFO:root: \n",
      "Avg Training Stats after 82 global rounds:\n",
      "INFO:root:Train Accuracy: 0.00%\n",
      "INFO:root:Training Loss : 0.0990103130072661\n",
      "INFO:root:Test Accuracy: 42.57%\n",
      "INFO:root:Test Loss: 3.2963808466494084 \n",
      "\n",
      " 82%|████████▏ | 82/100 [55:31<11:17, 37.64s/it]"
     ]
    },
    {
     "name": "stdout",
     "output_type": "stream",
     "text": [
      "[690, 431, 422, 231, 4600, 2934, 2029, 327, 796, 590]\n"
     ]
    },
    {
     "name": "stderr",
     "output_type": "stream",
     "text": [
      "INFO:root: \n",
      "Avg Training Stats after 83 global rounds:\n",
      "INFO:root:Train Accuracy: 0.00%\n",
      "INFO:root:Training Loss : 0.12954176832700898\n",
      "INFO:root:Test Accuracy: 51.09%\n",
      "INFO:root:Test Loss: 2.195479179471731 \n",
      "\n",
      " 83%|████████▎ | 83/100 [56:18<11:27, 40.46s/it]"
     ]
    },
    {
     "name": "stdout",
     "output_type": "stream",
     "text": [
      "[231, 1112, 87, 303, 690, 796, 2195, 813, 327, 1018]\n"
     ]
    },
    {
     "name": "stderr",
     "output_type": "stream",
     "text": [
      "INFO:root: \n",
      "Avg Training Stats after 84 global rounds:\n",
      "INFO:root:Train Accuracy: 0.00%\n",
      "INFO:root:Training Loss : 0.11262087689888671\n",
      "INFO:root:Test Accuracy: 47.81%\n",
      "INFO:root:Test Loss: 2.4923429340869188 \n",
      "\n",
      " 84%|████████▍ | 84/100 [56:53<10:19, 38.69s/it]"
     ]
    },
    {
     "name": "stdout",
     "output_type": "stream",
     "text": [
      "[602, 1018, 542, 106, 794, 447, 2029, 1433, 327, 690]\n"
     ]
    },
    {
     "name": "stderr",
     "output_type": "stream",
     "text": [
      "INFO:root: \n",
      "Avg Training Stats after 85 global rounds:\n",
      "INFO:root:Train Accuracy: 0.00%\n",
      "INFO:root:Training Loss : 0.1139068350554773\n",
      "INFO:root:Test Accuracy: 40.72%\n",
      "INFO:root:Test Loss: 3.673565815910697 \n",
      "\n",
      " 85%|████████▌ | 85/100 [57:28<09:27, 37.82s/it]"
     ]
    },
    {
     "name": "stdout",
     "output_type": "stream",
     "text": [
      "[1433, 267, 447, 1012, 470, 201, 231, 15, 278, 1736]\n"
     ]
    },
    {
     "name": "stderr",
     "output_type": "stream",
     "text": [
      "INFO:root: \n",
      "Avg Training Stats after 86 global rounds:\n",
      "INFO:root:Train Accuracy: 0.00%\n",
      "INFO:root:Training Loss : 0.17345756052921474\n",
      "INFO:root:Test Accuracy: 40.25%\n",
      "INFO:root:Test Loss: 3.457879551947117 \n",
      "\n",
      " 86%|████████▌ | 86/100 [58:00<08:22, 35.91s/it]"
     ]
    },
    {
     "name": "stdout",
     "output_type": "stream",
     "text": [
      "[40, 1053, 231, 286, 106, 2274, 470, 1119, 447, 1416]\n"
     ]
    },
    {
     "name": "stderr",
     "output_type": "stream",
     "text": [
      "INFO:root: \n",
      "Avg Training Stats after 87 global rounds:\n",
      "INFO:root:Train Accuracy: 0.00%\n",
      "INFO:root:Training Loss : 0.10544880970016268\n",
      "INFO:root:Test Accuracy: 41.06%\n",
      "INFO:root:Test Loss: 3.3409786916524173 \n",
      "\n",
      " 87%|████████▋ | 87/100 [58:34<07:41, 35.48s/it]"
     ]
    },
    {
     "name": "stdout",
     "output_type": "stream",
     "text": [
      "[209, 2029, 231, 278, 1320, 862, 2195, 690, 1736, 106]\n"
     ]
    },
    {
     "name": "stderr",
     "output_type": "stream",
     "text": [
      "INFO:root: \n",
      "Avg Training Stats after 88 global rounds:\n",
      "INFO:root:Train Accuracy: 0.00%\n",
      "INFO:root:Training Loss : 0.11180104127508983\n",
      "INFO:root:Test Accuracy: 52.61%\n",
      "INFO:root:Test Loss: 2.0626629534363747 \n",
      "\n",
      " 88%|████████▊ | 88/100 [59:14<07:19, 36.63s/it]"
     ]
    },
    {
     "name": "stdout",
     "output_type": "stream",
     "text": [
      "[2430, 201, 2195, 2575, 123, 602, 116, 794, 4600, 690]\n"
     ]
    },
    {
     "name": "stderr",
     "output_type": "stream",
     "text": [
      "INFO:root: \n",
      "Avg Training Stats after 89 global rounds:\n",
      "INFO:root:Train Accuracy: 0.00%\n",
      "INFO:root:Training Loss : 0.11392705425710725\n",
      "INFO:root:Test Accuracy: 50.76%\n",
      "INFO:root:Test Loss: 2.0326012259721757 \n",
      "\n",
      " 89%|████████▉ | 89/100 [1:00:03<07:24, 40.43s/it]"
     ]
    },
    {
     "name": "stdout",
     "output_type": "stream",
     "text": [
      "[470, 303, 278, 87, 1119, 2274, 1780, 19, 4600, 602]\n"
     ]
    },
    {
     "name": "stderr",
     "output_type": "stream",
     "text": [
      "INFO:root: \n",
      "Avg Training Stats after 90 global rounds:\n",
      "INFO:root:Train Accuracy: 0.00%\n",
      "INFO:root:Training Loss : 0.0857680318277454\n",
      "INFO:root:Test Accuracy: 35.26%\n",
      "INFO:root:Test Loss: 4.071771974116563 \n",
      "\n",
      " 90%|█████████ | 90/100 [1:00:46<06:52, 41.26s/it]"
     ]
    },
    {
     "name": "stdout",
     "output_type": "stream",
     "text": [
      "[2575, 602, 2029, 327, 209, 4600, 2274, 1756, 431, 1112]\n"
     ]
    },
    {
     "name": "stderr",
     "output_type": "stream",
     "text": [
      "INFO:root: \n",
      "Avg Training Stats after 91 global rounds:\n",
      "INFO:root:Train Accuracy: 0.00%\n",
      "INFO:root:Training Loss : 0.10074165726023761\n",
      "INFO:root:Test Accuracy: 34.91%\n",
      "INFO:root:Test Loss: 4.08408720927313 \n",
      "\n",
      " 91%|█████████ | 91/100 [1:01:39<06:43, 44.82s/it]"
     ]
    },
    {
     "name": "stdout",
     "output_type": "stream",
     "text": [
      "[2195, 267, 813, 286, 3195, 470, 231, 278, 1012, 231]\n"
     ]
    },
    {
     "name": "stderr",
     "output_type": "stream",
     "text": [
      "INFO:root: \n",
      "Avg Training Stats after 92 global rounds:\n",
      "INFO:root:Train Accuracy: 0.00%\n",
      "INFO:root:Training Loss : 0.13514691803341372\n",
      "INFO:root:Test Accuracy: 57.06%\n",
      "INFO:root:Test Loss: 1.7208610659092665 \n",
      "\n",
      " 92%|█████████▏| 92/100 [1:02:17<05:41, 42.71s/it]"
     ]
    },
    {
     "name": "stdout",
     "output_type": "stream",
     "text": [
      "[1053, 2575, 303, 2430, 542, 116, 1756, 1433, 327, 15]\n"
     ]
    },
    {
     "name": "stderr",
     "output_type": "stream",
     "text": [
      "INFO:root: \n",
      "Avg Training Stats after 93 global rounds:\n",
      "INFO:root:Train Accuracy: 0.00%\n",
      "INFO:root:Training Loss : 0.14559144316791112\n",
      "INFO:root:Test Accuracy: 44.20%\n",
      "INFO:root:Test Loss: 2.9512293267808856 \n",
      "\n",
      " 93%|█████████▎| 93/100 [1:02:58<04:55, 42.17s/it]"
     ]
    },
    {
     "name": "stdout",
     "output_type": "stream",
     "text": [
      "[590, 4600, 201, 286, 303, 1736, 15, 1798, 744, 422]\n"
     ]
    },
    {
     "name": "stderr",
     "output_type": "stream",
     "text": [
      "INFO:root: \n",
      "Avg Training Stats after 94 global rounds:\n",
      "INFO:root:Train Accuracy: 0.00%\n",
      "INFO:root:Training Loss : 0.15229599876975514\n",
      "INFO:root:Test Accuracy: 44.19%\n",
      "INFO:root:Test Loss: 2.6744438119977714 \n",
      "\n",
      " 94%|█████████▍| 94/100 [1:03:39<04:11, 41.94s/it]"
     ]
    },
    {
     "name": "stdout",
     "output_type": "stream",
     "text": [
      "[123, 862, 542, 19, 794, 1112, 4600, 2934, 231, 15]\n"
     ]
    },
    {
     "name": "stderr",
     "output_type": "stream",
     "text": [
      "INFO:root: \n",
      "Avg Training Stats after 95 global rounds:\n",
      "INFO:root:Train Accuracy: 0.00%\n",
      "INFO:root:Training Loss : 0.15228069125316232\n",
      "INFO:root:Test Accuracy: 54.06%\n",
      "INFO:root:Test Loss: 2.040601081326604 \n",
      "\n",
      " 95%|█████████▌| 95/100 [1:04:22<03:30, 42.13s/it]"
     ]
    },
    {
     "name": "stdout",
     "output_type": "stream",
     "text": [
      "[1053, 87, 2575, 4600, 542, 231, 1433, 1012, 2029, 862]\n"
     ]
    },
    {
     "name": "stderr",
     "output_type": "stream",
     "text": [
      "INFO:root: \n",
      "Avg Training Stats after 96 global rounds:\n",
      "INFO:root:Train Accuracy: 0.00%\n",
      "INFO:root:Training Loss : 0.07314009079973899\n",
      "INFO:root:Test Accuracy: 39.05%\n",
      "INFO:root:Test Loss: 3.6659986879210917 \n",
      "\n",
      " 96%|█████████▌| 96/100 [1:05:12<02:57, 44.46s/it]"
     ]
    },
    {
     "name": "stdout",
     "output_type": "stream",
     "text": [
      "[19, 602, 40, 690, 267, 231, 173, 2029, 1798, 3195]\n"
     ]
    },
    {
     "name": "stderr",
     "output_type": "stream",
     "text": [
      "INFO:root: \n",
      "Avg Training Stats after 97 global rounds:\n",
      "INFO:root:Train Accuracy: 0.00%\n",
      "INFO:root:Training Loss : 0.21049344934061245\n",
      "INFO:root:Test Accuracy: 43.02%\n",
      "INFO:root:Test Loss: 3.215278640091419 \n",
      "\n",
      " 97%|█████████▋| 97/100 [1:05:50<02:07, 42.48s/it]"
     ]
    },
    {
     "name": "stdout",
     "output_type": "stream",
     "text": [
      "[209, 1012, 422, 40, 794, 4600, 116, 286, 303, 1756]\n"
     ]
    },
    {
     "name": "stderr",
     "output_type": "stream",
     "text": [
      "INFO:root: \n",
      "Avg Training Stats after 98 global rounds:\n",
      "INFO:root:Train Accuracy: 0.00%\n",
      "INFO:root:Training Loss : 0.11878543323788024\n",
      "INFO:root:Test Accuracy: 45.85%\n",
      "INFO:root:Test Loss: 3.221519785448909 \n",
      "\n",
      " 98%|█████████▊| 98/100 [1:06:29<01:22, 41.45s/it]"
     ]
    },
    {
     "name": "stdout",
     "output_type": "stream",
     "text": [
      "[2274, 1736, 173, 1416, 447, 19, 2195, 2029, 862, 744]\n"
     ]
    },
    {
     "name": "stderr",
     "output_type": "stream",
     "text": [
      "INFO:root: \n",
      "Avg Training Stats after 99 global rounds:\n",
      "INFO:root:Train Accuracy: 0.00%\n",
      "INFO:root:Training Loss : 0.2297519863568877\n",
      "INFO:root:Test Accuracy: 53.89%\n",
      "INFO:root:Test Loss: 2.0861996522545816 \n",
      "\n",
      " 99%|█████████▉| 99/100 [1:07:13<00:42, 42.18s/it]"
     ]
    },
    {
     "name": "stdout",
     "output_type": "stream",
     "text": [
      "[431, 1798, 1736, 744, 19, 278, 690, 590, 116, 40]\n"
     ]
    },
    {
     "name": "stderr",
     "output_type": "stream",
     "text": [
      "INFO:root: \n",
      "Avg Training Stats after 100 global rounds:\n",
      "INFO:root:Train Accuracy: 0.00%\n",
      "INFO:root:Training Loss : 0.14013520115326647\n",
      "INFO:root:Test Accuracy: 52.78%\n",
      "INFO:root:Test Loss: 2.4565326287597418 \n",
      "\n",
      "100%|██████████| 100/100 [1:07:45<00:00, 40.65s/it]\n",
      "INFO:root: \n",
      " Results after 100 global rounds of training:\n",
      "INFO:root:|---- Best Test Accuracy: 58.63% , round: 59\n"
     ]
    },
    {
     "name": "stdout",
     "output_type": "stream",
     "text": [
      " Saving checkpoints to ../save/checkpoint/ConvNet_1223/cifar10_ConvNet_groupnorm_T[100]_C[0.2]_iid[0]_E[10]_B[32]_GPU[0]_Pruned[0.0]...\n"
     ]
    }
   ],
   "source": [
    " args = easydict.EasyDict({\n",
    "    \"model\": 'ConvNet',\n",
    "    'dataset': 'cifar10',\n",
    "    'gpu': 0,\n",
    "    'iid': 0,\n",
    "    'epochs': 100,\n",
    "    'optimizer': 'sgd',\n",
    "    'seed': 0,\n",
    "    'norm': 'groupnorm',\n",
    "    'num_users': 50,\n",
    "    'frac': 0.2,\n",
    "    'local_ep': 10, \n",
    "    'local_bs': 32,\n",
    "    'lr': 0.01,\n",
    "    'momentum': 1,\n",
    "    'kernel_num': 9,\n",
    "    'kernel_sizes': 'no_centering',\n",
    "    'num_channnels': '1',\n",
    "    'num_filters': 32,\n",
    "    'max_pool': 'True',\n",
    "    'num_classes': 10,\n",
    "    'unequal': 0,\n",
    "    'stopping_rounds': 0,\n",
    "    'verbose': 0,\n",
    "    'hold_normalize': 0,\n",
    "    'save_path': '../save/checkpoint',\n",
    "    'exp_folder': 'ConvNet_1223',\n",
    "    'resume': None,\n",
    "    'server_opt': 'sgdm',\n",
    "    'server_lr': 1.0,\n",
    "    'client_decay':0,\n",
    "    'local_decay':0,\n",
    "    'alpha': 0.05,\n",
    "    'server_epoch':0,\n",
    "    'cosine_norm':0, \n",
    "    'only_fc' :0 ,\n",
    "    'loss':'ce',\n",
    "    'dc_lr':0.0,\n",
    "    'tsne_pred':0,\n",
    "    'pruning': 0.0 })\n",
    "\n",
    "#zero-centering-classifier\n",
    "    \n",
    "temp = main_test(args)\n",
    "total.append(temp)"
   ]
  },
  {
   "cell_type": "code",
   "execution_count": 8,
   "id": "satellite-population",
   "metadata": {},
   "outputs": [
    {
     "name": "stderr",
     "output_type": "stream",
     "text": [
      "INFO:root:{'model': 'ConvNet', 'dataset': 'cifar10', 'gpu': 0, 'iid': 0, 'epochs': 100, 'optimizer': 'sgd', 'seed': 0, 'norm': 'groupnorm', 'num_users': 50, 'frac': 0.2, 'local_ep': 10, 'local_bs': 32, 'lr': 0.01, 'momentum': 1, 'kernel_num': 9, 'kernel_sizes': 'no_centering', 'num_channnels': '1', 'num_filters': 32, 'max_pool': 'True', 'num_classes': 10, 'unequal': 0, 'stopping_rounds': 0, 'verbose': 0, 'hold_normalize': 0, 'save_path': '../save/checkpoint/ConvNet_1223', 'exp_folder': 'ConvNet_1223', 'resume': None, 'server_opt': 'sgd', 'server_lr': 1.0, 'client_decay': 0, 'local_decay': 0, 'alpha': 0.05, 'server_epoch': 0, 'cosine_norm': 0, 'only_fc': 0, 'loss': 'bsm', 'dc_lr': 0.0, 'tsne_pred': 0, 'pruning': 0.0}\n"
     ]
    },
    {
     "name": "stdout",
     "output_type": "stream",
     "text": [
      "Files already downloaded and verified\n",
      "Files already downloaded and verified\n",
      "Files already downloaded and verified\n"
     ]
    },
    {
     "name": "stderr",
     "output_type": "stream",
     "text": [
      "INFO:root:ConvNet(\n",
      "  (net_act): ReLU(inplace=True)\n",
      "  (net_pooling): MaxPool2d(kernel_size=2, stride=2, padding=0, dilation=1, ceil_mode=False)\n",
      "  (features): Sequential(\n",
      "    (0): Conv2d(3, 128, kernel_size=(3, 3), stride=(1, 1), padding=(1, 1))\n",
      "    (1): GroupNorm(2, 128, eps=1e-05, affine=True)\n",
      "    (2): ReLU(inplace=True)\n",
      "    (3): MaxPool2d(kernel_size=2, stride=2, padding=0, dilation=1, ceil_mode=False)\n",
      "    (4): Conv2d(128, 128, kernel_size=(3, 3), stride=(1, 1), padding=(1, 1))\n",
      "    (5): GroupNorm(2, 128, eps=1e-05, affine=True)\n",
      "    (6): ReLU(inplace=True)\n",
      "    (7): MaxPool2d(kernel_size=2, stride=2, padding=0, dilation=1, ceil_mode=False)\n",
      "    (8): Conv2d(128, 128, kernel_size=(3, 3), stride=(1, 1), padding=(1, 1))\n",
      "    (9): GroupNorm(2, 128, eps=1e-05, affine=True)\n",
      "    (10): ReLU(inplace=True)\n",
      "    (11): MaxPool2d(kernel_size=2, stride=2, padding=0, dilation=1, ceil_mode=False)\n",
      "  )\n",
      "  (classifier): Linear(in_features=2048, out_features=10, bias=True)\n",
      ")\n",
      "INFO:root:None\n",
      "  0%|          | 0/100 [00:00<?, ?it/s]"
     ]
    },
    {
     "name": "stdout",
     "output_type": "stream",
     "text": [
      "----------------------------------------------------------------\n",
      "        Layer (type)               Output Shape         Param #\n",
      "================================================================\n",
      "            Conv2d-1          [-1, 128, 32, 32]           3,584\n",
      "         GroupNorm-2          [-1, 128, 32, 32]             256\n",
      "              ReLU-3          [-1, 128, 32, 32]               0\n",
      "              ReLU-4          [-1, 128, 32, 32]               0\n",
      "         MaxPool2d-5          [-1, 128, 16, 16]               0\n",
      "         MaxPool2d-6          [-1, 128, 16, 16]               0\n",
      "            Conv2d-7          [-1, 128, 16, 16]         147,584\n",
      "         GroupNorm-8          [-1, 128, 16, 16]             256\n",
      "              ReLU-9          [-1, 128, 16, 16]               0\n",
      "             ReLU-10          [-1, 128, 16, 16]               0\n",
      "        MaxPool2d-11            [-1, 128, 8, 8]               0\n",
      "        MaxPool2d-12            [-1, 128, 8, 8]               0\n",
      "           Conv2d-13            [-1, 128, 8, 8]         147,584\n",
      "        GroupNorm-14            [-1, 128, 8, 8]             256\n",
      "             ReLU-15            [-1, 128, 8, 8]               0\n",
      "             ReLU-16            [-1, 128, 8, 8]               0\n",
      "        MaxPool2d-17            [-1, 128, 4, 4]               0\n",
      "        MaxPool2d-18            [-1, 128, 4, 4]               0\n",
      "           Linear-19                   [-1, 10]          20,490\n",
      "================================================================\n",
      "Total params: 320,010\n",
      "Trainable params: 320,010\n",
      "Non-trainable params: 0\n",
      "----------------------------------------------------------------\n",
      "Input size (MB): 0.01\n",
      "Forward/backward pass size (MB): 5.91\n",
      "Params size (MB): 1.22\n",
      "Estimated Total Size (MB): 7.14\n",
      "----------------------------------------------------------------\n",
      "[209, 1756, 422, 2575, 1018, 602, 2274, 447, 744, 1112, 123, 87, 1433, 1416, 40, 1119, 796, 794, 327, 470, 231, 813, 1320, 542, 690, 2195, 2934, 106, 1012, 15, 278, 1798, 303, 590, 2029, 201, 1053, 862, 231, 116, 4600, 19, 286, 1736, 2430, 431, 3195, 1780, 173, 267]\n",
      "[470, 2934, 201, 231, 2575, 744, 15, 123, 1119, 4600]\n"
     ]
    },
    {
     "name": "stderr",
     "output_type": "stream",
     "text": [
      "INFO:root: \n",
      "Avg Training Stats after 1 global rounds:\n",
      "INFO:root:Train Accuracy: 0.00%\n",
      "INFO:root:Training Loss : 0.3366203264270811\n",
      "INFO:root:Test Accuracy: 20.16%\n",
      "INFO:root:Test Loss: 2.178098289966583 \n",
      "\n",
      "  1%|          | 1/100 [00:47<1:17:41, 47.08s/it]"
     ]
    },
    {
     "name": "stdout",
     "output_type": "stream",
     "text": [
      "[231, 173, 2575, 1736, 2430, 123, 4600, 690, 1012, 447]\n"
     ]
    },
    {
     "name": "stderr",
     "output_type": "stream",
     "text": [
      "INFO:root: \n",
      "Avg Training Stats after 2 global rounds:\n",
      "INFO:root:Train Accuracy: 0.00%\n",
      "INFO:root:Training Loss : 0.416564733488259\n",
      "INFO:root:Test Accuracy: 29.56%\n",
      "INFO:root:Test Loss: 1.982874361872673 \n",
      "\n",
      "  2%|▏         | 2/100 [01:36<1:18:49, 48.26s/it]"
     ]
    },
    {
     "name": "stdout",
     "output_type": "stream",
     "text": [
      "[744, 2575, 1320, 470, 2430, 2274, 267, 690, 209, 303]\n"
     ]
    },
    {
     "name": "stderr",
     "output_type": "stream",
     "text": [
      "INFO:root: \n",
      "Avg Training Stats after 3 global rounds:\n",
      "INFO:root:Train Accuracy: 0.00%\n",
      "INFO:root:Training Loss : 0.28673242314792025\n",
      "INFO:root:Test Accuracy: 31.45%\n",
      "INFO:root:Test Loss: 1.8777272963523866 \n",
      "\n",
      "  3%|▎         | 3/100 [02:19<1:14:08, 45.87s/it]"
     ]
    },
    {
     "name": "stdout",
     "output_type": "stream",
     "text": [
      "[173, 690, 542, 1012, 2195, 1780, 1053, 87, 2934, 1736]\n"
     ]
    },
    {
     "name": "stderr",
     "output_type": "stream",
     "text": [
      "INFO:root: \n",
      "Avg Training Stats after 4 global rounds:\n",
      "INFO:root:Train Accuracy: 0.00%\n",
      "INFO:root:Training Loss : 0.4298766633202374\n",
      "INFO:root:Test Accuracy: 35.32%\n",
      "INFO:root:Test Loss: 1.7277383202314376 \n",
      "\n",
      "  4%|▍         | 4/100 [03:04<1:12:48, 45.51s/it]"
     ]
    },
    {
     "name": "stdout",
     "output_type": "stream",
     "text": [
      "[2430, 2575, 1736, 123, 15, 1780, 1018, 231, 87, 794]\n"
     ]
    },
    {
     "name": "stderr",
     "output_type": "stream",
     "text": [
      "INFO:root: \n",
      "Avg Training Stats after 5 global rounds:\n",
      "INFO:root:Train Accuracy: 0.00%\n",
      "INFO:root:Training Loss : 0.26117442148239517\n",
      "INFO:root:Test Accuracy: 36.81%\n",
      "INFO:root:Test Loss: 1.6647741317749023 \n",
      "\n",
      "  5%|▌         | 5/100 [03:45<1:09:52, 44.13s/it]"
     ]
    },
    {
     "name": "stdout",
     "output_type": "stream",
     "text": [
      "[1119, 87, 590, 794, 813, 303, 1320, 690, 1018, 422]\n"
     ]
    },
    {
     "name": "stderr",
     "output_type": "stream",
     "text": [
      "INFO:root: \n",
      "Avg Training Stats after 6 global rounds:\n",
      "INFO:root:Train Accuracy: 0.00%\n",
      "INFO:root:Training Loss : 0.19806687395733308\n",
      "INFO:root:Test Accuracy: 40.91%\n",
      "INFO:root:Test Loss: 1.5751016467809678 \n",
      "\n",
      "  6%|▌         | 6/100 [04:19<1:03:46, 40.71s/it]"
     ]
    },
    {
     "name": "stdout",
     "output_type": "stream",
     "text": [
      "[2029, 1433, 303, 327, 744, 862, 2934, 231, 1416, 278]\n"
     ]
    },
    {
     "name": "stderr",
     "output_type": "stream",
     "text": [
      "INFO:root: \n",
      "Avg Training Stats after 7 global rounds:\n",
      "INFO:root:Train Accuracy: 0.00%\n",
      "INFO:root:Training Loss : 0.31900522453002955\n",
      "INFO:root:Test Accuracy: 43.12%\n",
      "INFO:root:Test Loss: 1.5113641571998597 \n",
      "\n",
      "  7%|▋         | 7/100 [05:01<1:03:24, 40.91s/it]"
     ]
    },
    {
     "name": "stdout",
     "output_type": "stream",
     "text": [
      "[231, 1112, 327, 744, 286, 422, 15, 1798, 1053, 173]\n"
     ]
    },
    {
     "name": "stderr",
     "output_type": "stream",
     "text": [
      "INFO:root: \n",
      "Avg Training Stats after 8 global rounds:\n",
      "INFO:root:Train Accuracy: 0.00%\n",
      "INFO:root:Training Loss : 0.3115351105960865\n",
      "INFO:root:Test Accuracy: 43.42%\n",
      "INFO:root:Test Loss: 1.487431281208992 \n",
      "\n",
      "  8%|▊         | 8/100 [05:32<58:15, 37.99s/it]  "
     ]
    },
    {
     "name": "stdout",
     "output_type": "stream",
     "text": [
      "[794, 278, 744, 862, 303, 19, 2274, 1053, 813, 1012]\n"
     ]
    },
    {
     "name": "stderr",
     "output_type": "stream",
     "text": [
      "INFO:root: \n",
      "Avg Training Stats after 9 global rounds:\n",
      "INFO:root:Train Accuracy: 0.00%\n",
      "INFO:root:Training Loss : 0.1669175694040373\n",
      "INFO:root:Test Accuracy: 45.06%\n",
      "INFO:root:Test Loss: 1.4624976581335067 \n",
      "\n",
      "  9%|▉         | 9/100 [06:09<56:50, 37.48s/it]"
     ]
    },
    {
     "name": "stdout",
     "output_type": "stream",
     "text": [
      "[1320, 40, 1756, 470, 327, 1012, 862, 1433, 796, 231]\n"
     ]
    },
    {
     "name": "stderr",
     "output_type": "stream",
     "text": [
      "INFO:root: \n",
      "Avg Training Stats after 10 global rounds:\n",
      "INFO:root:Train Accuracy: 0.00%\n",
      "INFO:root:Training Loss : 0.1552556881105755\n",
      "INFO:root:Test Accuracy: 46.97%\n",
      "INFO:root:Test Loss: 1.4196173399686813 \n",
      "\n",
      " 10%|█         | 10/100 [06:45<55:37, 37.09s/it]"
     ]
    },
    {
     "name": "stdout",
     "output_type": "stream",
     "text": [
      "[87, 201, 1798, 813, 123, 2934, 1756, 231, 1053, 4600]\n"
     ]
    },
    {
     "name": "stderr",
     "output_type": "stream",
     "text": [
      "INFO:root: \n",
      "Avg Training Stats after 11 global rounds:\n",
      "INFO:root:Train Accuracy: 0.00%\n",
      "INFO:root:Training Loss : 0.1963387104745635\n",
      "INFO:root:Test Accuracy: 47.39%\n",
      "INFO:root:Test Loss: 1.3884632235765457 \n",
      "\n",
      " 11%|█         | 11/100 [07:33<59:59, 40.44s/it]"
     ]
    },
    {
     "name": "stdout",
     "output_type": "stream",
     "text": [
      "[106, 231, 447, 796, 209, 1798, 1112, 1416, 590, 794]\n"
     ]
    },
    {
     "name": "stderr",
     "output_type": "stream",
     "text": [
      "INFO:root: \n",
      "Avg Training Stats after 12 global rounds:\n",
      "INFO:root:Train Accuracy: 0.00%\n",
      "INFO:root:Training Loss : 0.14080734288803903\n",
      "INFO:root:Test Accuracy: 48.28%\n",
      "INFO:root:Test Loss: 1.3711286336183548 \n",
      "\n",
      " 12%|█▏        | 12/100 [08:08<56:49, 38.74s/it]"
     ]
    },
    {
     "name": "stdout",
     "output_type": "stream",
     "text": [
      "[1320, 278, 862, 2274, 1798, 87, 2029, 796, 1018, 2430]\n"
     ]
    },
    {
     "name": "stderr",
     "output_type": "stream",
     "text": [
      "INFO:root: \n",
      "Avg Training Stats after 13 global rounds:\n",
      "INFO:root:Train Accuracy: 0.00%\n",
      "INFO:root:Training Loss : 0.16424222759220555\n",
      "INFO:root:Test Accuracy: 50.63%\n",
      "INFO:root:Test Loss: 1.337043542265892 \n",
      "\n",
      " 13%|█▎        | 13/100 [08:55<59:39, 41.14s/it]"
     ]
    },
    {
     "name": "stdout",
     "output_type": "stream",
     "text": [
      "[4600, 2575, 590, 173, 2430, 40, 1112, 87, 231, 2195]\n"
     ]
    },
    {
     "name": "stderr",
     "output_type": "stream",
     "text": [
      "INFO:root: \n",
      "Avg Training Stats after 14 global rounds:\n",
      "INFO:root:Train Accuracy: 0.00%\n",
      "INFO:root:Training Loss : 0.22376515424240226\n",
      "INFO:root:Test Accuracy: 52.12%\n",
      "INFO:root:Test Loss: 1.278582088947296 \n",
      "\n",
      " 14%|█▍        | 14/100 [09:44<1:02:25, 43.55s/it]"
     ]
    },
    {
     "name": "stdout",
     "output_type": "stream",
     "text": [
      "[231, 794, 1018, 1012, 15, 303, 796, 2274, 1320, 19]\n"
     ]
    },
    {
     "name": "stderr",
     "output_type": "stream",
     "text": [
      "INFO:root: \n",
      "Avg Training Stats after 15 global rounds:\n",
      "INFO:root:Train Accuracy: 0.00%\n",
      "INFO:root:Training Loss : 0.11933072445629973\n",
      "INFO:root:Test Accuracy: 52.94%\n",
      "INFO:root:Test Loss: 1.2708005693554878 \n",
      "\n",
      " 15%|█▌        | 15/100 [10:19<58:12, 41.09s/it]  "
     ]
    },
    {
     "name": "stdout",
     "output_type": "stream",
     "text": [
      "[2195, 40, 2029, 862, 2575, 1433, 447, 19, 4600, 796]\n"
     ]
    },
    {
     "name": "stderr",
     "output_type": "stream",
     "text": [
      "INFO:root: \n",
      "Avg Training Stats after 16 global rounds:\n",
      "INFO:root:Train Accuracy: 0.00%\n",
      "INFO:root:Training Loss : 0.1505806337572097\n",
      "INFO:root:Test Accuracy: 52.77%\n",
      "INFO:root:Test Loss: 1.2555804473161698 \n",
      "\n",
      " 16%|█▌        | 16/100 [11:10<1:01:42, 44.08s/it]"
     ]
    },
    {
     "name": "stdout",
     "output_type": "stream",
     "text": [
      "[231, 173, 303, 2274, 796, 116, 1798, 447, 106, 1433]\n"
     ]
    },
    {
     "name": "stderr",
     "output_type": "stream",
     "text": [
      "INFO:root: \n",
      "Avg Training Stats after 17 global rounds:\n",
      "INFO:root:Train Accuracy: 0.00%\n",
      "INFO:root:Training Loss : 0.15259453735914336\n",
      "INFO:root:Test Accuracy: 52.92%\n",
      "INFO:root:Test Loss: 1.2702547204494476 \n",
      "\n",
      " 17%|█▋        | 17/100 [11:45<57:12, 41.35s/it]  "
     ]
    },
    {
     "name": "stdout",
     "output_type": "stream",
     "text": [
      "[201, 1756, 796, 1320, 813, 542, 116, 173, 794, 1798]\n"
     ]
    },
    {
     "name": "stderr",
     "output_type": "stream",
     "text": [
      "INFO:root: \n",
      "Avg Training Stats after 18 global rounds:\n",
      "INFO:root:Train Accuracy: 0.00%\n",
      "INFO:root:Training Loss : 0.2019419016936042\n",
      "INFO:root:Test Accuracy: 53.78%\n",
      "INFO:root:Test Loss: 1.2474997061491013 \n",
      "\n",
      " 18%|█▊        | 18/100 [12:22<54:40, 40.01s/it]"
     ]
    },
    {
     "name": "stdout",
     "output_type": "stream",
     "text": [
      "[15, 1780, 19, 744, 2575, 173, 813, 40, 1320, 422]\n"
     ]
    },
    {
     "name": "stderr",
     "output_type": "stream",
     "text": [
      "INFO:root: \n",
      "Avg Training Stats after 19 global rounds:\n",
      "INFO:root:Train Accuracy: 0.00%\n",
      "INFO:root:Training Loss : 0.197246574123812\n",
      "INFO:root:Test Accuracy: 53.70%\n",
      "INFO:root:Test Loss: 1.2521222114562989 \n",
      "\n",
      " 19%|█▉        | 19/100 [12:57<52:10, 38.65s/it]"
     ]
    },
    {
     "name": "stdout",
     "output_type": "stream",
     "text": [
      "[813, 1736, 15, 1433, 267, 470, 3195, 744, 2575, 231]\n"
     ]
    },
    {
     "name": "stderr",
     "output_type": "stream",
     "text": [
      "INFO:root: \n",
      "Avg Training Stats after 20 global rounds:\n",
      "INFO:root:Train Accuracy: 0.00%\n",
      "INFO:root:Training Loss : 0.1316842663714061\n",
      "INFO:root:Test Accuracy: 51.95%\n",
      "INFO:root:Test Loss: 1.2848173314332962 \n",
      "\n",
      " 20%|██        | 20/100 [13:41<53:29, 40.12s/it]"
     ]
    },
    {
     "name": "stdout",
     "output_type": "stream",
     "text": [
      "[278, 744, 1053, 447, 1320, 116, 1798, 19, 4600, 3195]\n"
     ]
    },
    {
     "name": "stderr",
     "output_type": "stream",
     "text": [
      "INFO:root: \n",
      "Avg Training Stats after 21 global rounds:\n",
      "INFO:root:Train Accuracy: 0.00%\n",
      "INFO:root:Training Loss : 0.20026011669185242\n",
      "INFO:root:Test Accuracy: 52.33%\n",
      "INFO:root:Test Loss: 1.2700605928897857 \n",
      "\n",
      " 21%|██        | 21/100 [14:29<55:55, 42.47s/it]"
     ]
    },
    {
     "name": "stdout",
     "output_type": "stream",
     "text": [
      "[813, 2029, 602, 590, 1756, 106, 1780, 40, 19, 2934]\n"
     ]
    },
    {
     "name": "stderr",
     "output_type": "stream",
     "text": [
      "INFO:root: \n",
      "Avg Training Stats after 22 global rounds:\n",
      "INFO:root:Train Accuracy: 0.00%\n",
      "INFO:root:Training Loss : 0.09200982460638343\n",
      "INFO:root:Test Accuracy: 51.78%\n",
      "INFO:root:Test Loss: 1.2850670671463014 \n",
      "\n",
      " 22%|██▏       | 22/100 [15:11<54:50, 42.19s/it]"
     ]
    },
    {
     "name": "stdout",
     "output_type": "stream",
     "text": [
      "[40, 862, 327, 1780, 2274, 106, 1053, 1112, 1012, 3195]\n"
     ]
    },
    {
     "name": "stderr",
     "output_type": "stream",
     "text": [
      "INFO:root: \n",
      "Avg Training Stats after 23 global rounds:\n",
      "INFO:root:Train Accuracy: 0.00%\n",
      "INFO:root:Training Loss : 0.1872287582024205\n",
      "INFO:root:Test Accuracy: 53.14%\n",
      "INFO:root:Test Loss: 1.2558039760589599 \n",
      "\n",
      " 23%|██▎       | 23/100 [15:55<54:50, 42.73s/it]"
     ]
    },
    {
     "name": "stdout",
     "output_type": "stream",
     "text": [
      "[1320, 1119, 862, 744, 1053, 87, 201, 470, 2274, 1012]\n"
     ]
    },
    {
     "name": "stderr",
     "output_type": "stream",
     "text": [
      "INFO:root: \n",
      "Avg Training Stats after 24 global rounds:\n",
      "INFO:root:Train Accuracy: 0.00%\n",
      "INFO:root:Training Loss : 0.1627700809040906\n",
      "INFO:root:Test Accuracy: 54.96%\n",
      "INFO:root:Test Loss: 1.2183393892645835 \n",
      "\n",
      " 24%|██▍       | 24/100 [16:33<52:28, 41.42s/it]"
     ]
    },
    {
     "name": "stdout",
     "output_type": "stream",
     "text": [
      "[447, 286, 1416, 87, 796, 1798, 231, 1119, 431, 2195]\n"
     ]
    },
    {
     "name": "stderr",
     "output_type": "stream",
     "text": [
      "INFO:root: \n",
      "Avg Training Stats after 25 global rounds:\n",
      "INFO:root:Train Accuracy: 0.00%\n",
      "INFO:root:Training Loss : 0.20485294497550394\n",
      "INFO:root:Test Accuracy: 56.68%\n",
      "INFO:root:Test Loss: 1.1628251737356186 \n",
      "\n",
      " 25%|██▌       | 25/100 [17:10<50:17, 40.24s/it]"
     ]
    },
    {
     "name": "stdout",
     "output_type": "stream",
     "text": [
      "[116, 2029, 690, 1416, 1780, 602, 2575, 1756, 431, 87]\n"
     ]
    },
    {
     "name": "stderr",
     "output_type": "stream",
     "text": [
      "INFO:root: \n",
      "Avg Training Stats after 26 global rounds:\n",
      "INFO:root:Train Accuracy: 0.00%\n",
      "INFO:root:Training Loss : 0.22437942726589627\n",
      "INFO:root:Test Accuracy: 55.57%\n",
      "INFO:root:Test Loss: 1.1822845369577408 \n",
      "\n",
      " 26%|██▌       | 26/100 [17:54<50:47, 41.18s/it]"
     ]
    },
    {
     "name": "stdout",
     "output_type": "stream",
     "text": [
      "[87, 173, 2029, 19, 4600, 2195, 116, 303, 40, 209]\n"
     ]
    },
    {
     "name": "stderr",
     "output_type": "stream",
     "text": [
      "INFO:root: \n",
      "Avg Training Stats after 27 global rounds:\n",
      "INFO:root:Train Accuracy: 0.00%\n",
      "INFO:root:Training Loss : 0.20733767991603877\n",
      "INFO:root:Test Accuracy: 56.89%\n",
      "INFO:root:Test Loss: 1.1634722721576691 \n",
      "\n",
      " 27%|██▋       | 27/100 [18:34<49:37, 40.79s/it]"
     ]
    },
    {
     "name": "stdout",
     "output_type": "stream",
     "text": [
      "[4600, 267, 794, 231, 201, 231, 2934, 590, 470, 173]\n"
     ]
    },
    {
     "name": "stderr",
     "output_type": "stream",
     "text": [
      "INFO:root: \n",
      "Avg Training Stats after 28 global rounds:\n",
      "INFO:root:Train Accuracy: 0.00%\n",
      "INFO:root:Training Loss : 0.1959393091537842\n",
      "INFO:root:Test Accuracy: 56.65%\n",
      "INFO:root:Test Loss: 1.1652538380026818 \n",
      "\n",
      " 28%|██▊       | 28/100 [19:15<49:14, 41.03s/it]"
     ]
    },
    {
     "name": "stdout",
     "output_type": "stream",
     "text": [
      "[1798, 286, 123, 1112, 303, 796, 744, 1320, 231, 794]\n"
     ]
    },
    {
     "name": "stderr",
     "output_type": "stream",
     "text": [
      "INFO:root: \n",
      "Avg Training Stats after 29 global rounds:\n",
      "INFO:root:Train Accuracy: 0.00%\n",
      "INFO:root:Training Loss : 0.0772965265712508\n",
      "INFO:root:Test Accuracy: 57.86%\n",
      "INFO:root:Test Loss: 1.1578108865022658 \n",
      "\n",
      " 29%|██▉       | 29/100 [19:50<46:19, 39.14s/it]"
     ]
    },
    {
     "name": "stdout",
     "output_type": "stream",
     "text": [
      "[303, 4600, 1119, 447, 744, 40, 1756, 2430, 2029, 602]\n"
     ]
    },
    {
     "name": "stderr",
     "output_type": "stream",
     "text": [
      "INFO:root: \n",
      "Avg Training Stats after 30 global rounds:\n",
      "INFO:root:Train Accuracy: 0.00%\n",
      "INFO:root:Training Loss : 0.0885453256461578\n",
      "INFO:root:Test Accuracy: 57.74%\n",
      "INFO:root:Test Loss: 1.1584073221683502 \n",
      "\n",
      " 30%|███       | 30/100 [20:39<49:08, 42.12s/it]"
     ]
    },
    {
     "name": "stdout",
     "output_type": "stream",
     "text": [
      "[422, 3195, 1112, 327, 123, 1736, 303, 286, 106, 1433]\n"
     ]
    },
    {
     "name": "stderr",
     "output_type": "stream",
     "text": [
      "INFO:root: \n",
      "Avg Training Stats after 31 global rounds:\n",
      "INFO:root:Train Accuracy: 0.00%\n",
      "INFO:root:Training Loss : 0.13440393789696034\n",
      "INFO:root:Test Accuracy: 55.84%\n",
      "INFO:root:Test Loss: 1.2054748836159705 \n",
      "\n",
      " 31%|███       | 31/100 [21:17<47:04, 40.93s/it]"
     ]
    },
    {
     "name": "stdout",
     "output_type": "stream",
     "text": [
      "[862, 173, 422, 303, 123, 1012, 542, 278, 431, 2195]\n"
     ]
    },
    {
     "name": "stderr",
     "output_type": "stream",
     "text": [
      "INFO:root: \n",
      "Avg Training Stats after 32 global rounds:\n",
      "INFO:root:Train Accuracy: 0.00%\n",
      "INFO:root:Training Loss : 0.24151588032870547\n",
      "INFO:root:Test Accuracy: 58.46%\n",
      "INFO:root:Test Loss: 1.1334320640563964 \n",
      "\n",
      " 32%|███▏      | 32/100 [21:49<43:22, 38.27s/it]"
     ]
    },
    {
     "name": "stdout",
     "output_type": "stream",
     "text": [
      "[1320, 15, 19, 1756, 231, 470, 267, 87, 862, 327]\n"
     ]
    },
    {
     "name": "stderr",
     "output_type": "stream",
     "text": [
      "INFO:root: \n",
      "Avg Training Stats after 33 global rounds:\n",
      "INFO:root:Train Accuracy: 0.00%\n",
      "INFO:root:Training Loss : 0.18885315231251712\n",
      "INFO:root:Test Accuracy: 59.16%\n",
      "INFO:root:Test Loss: 1.1152973461151123 \n",
      "\n",
      " 33%|███▎      | 33/100 [22:19<40:02, 35.85s/it]"
     ]
    },
    {
     "name": "stdout",
     "output_type": "stream",
     "text": [
      "[87, 267, 796, 1053, 1433, 2575, 1119, 794, 15, 327]\n"
     ]
    },
    {
     "name": "stderr",
     "output_type": "stream",
     "text": [
      "INFO:root: \n",
      "Avg Training Stats after 34 global rounds:\n",
      "INFO:root:Train Accuracy: 0.00%\n",
      "INFO:root:Training Loss : 0.1428263599316589\n",
      "INFO:root:Test Accuracy: 59.69%\n",
      "INFO:root:Test Loss: 1.1033441442251206 \n",
      "\n",
      " 34%|███▍      | 34/100 [22:56<39:42, 36.09s/it]"
     ]
    },
    {
     "name": "stdout",
     "output_type": "stream",
     "text": [
      "[422, 1798, 590, 796, 19, 1320, 173, 1416, 1053, 4600]\n"
     ]
    },
    {
     "name": "stderr",
     "output_type": "stream",
     "text": [
      "INFO:root: \n",
      "Avg Training Stats after 35 global rounds:\n",
      "INFO:root:Train Accuracy: 0.00%\n",
      "INFO:root:Training Loss : 0.1726457815021609\n",
      "INFO:root:Test Accuracy: 60.54%\n",
      "INFO:root:Test Loss: 1.0973168912529945 \n",
      "\n",
      " 35%|███▌      | 35/100 [23:41<41:57, 38.73s/it]"
     ]
    },
    {
     "name": "stdout",
     "output_type": "stream",
     "text": [
      "[2430, 1320, 602, 3195, 231, 2934, 431, 794, 1416, 542]\n"
     ]
    },
    {
     "name": "stderr",
     "output_type": "stream",
     "text": [
      "INFO:root: \n",
      "Avg Training Stats after 36 global rounds:\n",
      "INFO:root:Train Accuracy: 0.00%\n",
      "INFO:root:Training Loss : 0.151656742264148\n",
      "INFO:root:Test Accuracy: 60.80%\n",
      "INFO:root:Test Loss: 1.0789073154330253 \n",
      "\n",
      " 36%|███▌      | 36/100 [24:30<44:37, 41.84s/it]"
     ]
    },
    {
     "name": "stdout",
     "output_type": "stream",
     "text": [
      "[15, 813, 1112, 123, 40, 796, 2274, 1018, 2195, 201]\n"
     ]
    },
    {
     "name": "stderr",
     "output_type": "stream",
     "text": [
      "INFO:root: \n",
      "Avg Training Stats after 37 global rounds:\n",
      "INFO:root:Train Accuracy: 0.00%\n",
      "INFO:root:Training Loss : 0.10803746506603881\n",
      "INFO:root:Test Accuracy: 61.70%\n",
      "INFO:root:Test Loss: 1.0544540151953696 \n",
      "\n",
      " 37%|███▋      | 37/100 [25:07<42:21, 40.34s/it]"
     ]
    },
    {
     "name": "stdout",
     "output_type": "stream",
     "text": [
      "[303, 2195, 422, 1112, 1433, 116, 796, 602, 1756, 231]\n"
     ]
    },
    {
     "name": "stderr",
     "output_type": "stream",
     "text": [
      "INFO:root: \n",
      "Avg Training Stats after 38 global rounds:\n",
      "INFO:root:Train Accuracy: 0.00%\n",
      "INFO:root:Training Loss : 0.14961214931305883\n",
      "INFO:root:Test Accuracy: 60.95%\n",
      "INFO:root:Test Loss: 1.075303004682064 \n",
      "\n",
      " 38%|███▊      | 38/100 [25:45<40:54, 39.59s/it]"
     ]
    },
    {
     "name": "stdout",
     "output_type": "stream",
     "text": [
      "[1756, 231, 267, 2430, 590, 1736, 15, 4600, 327, 1112]\n"
     ]
    },
    {
     "name": "stderr",
     "output_type": "stream",
     "text": [
      "INFO:root: \n",
      "Avg Training Stats after 39 global rounds:\n",
      "INFO:root:Train Accuracy: 0.00%\n",
      "INFO:root:Training Loss : 0.13414638988208796\n",
      "INFO:root:Test Accuracy: 61.11%\n",
      "INFO:root:Test Loss: 1.076022761464119 \n",
      "\n",
      " 39%|███▉      | 39/100 [26:32<42:36, 41.91s/it]"
     ]
    },
    {
     "name": "stdout",
     "output_type": "stream",
     "text": [
      "[2575, 422, 3195, 862, 231, 796, 2934, 123, 2430, 794]\n"
     ]
    },
    {
     "name": "stderr",
     "output_type": "stream",
     "text": [
      "INFO:root: \n",
      "Avg Training Stats after 40 global rounds:\n",
      "INFO:root:Train Accuracy: 0.00%\n",
      "INFO:root:Training Loss : 0.13392142181140665\n",
      "INFO:root:Test Accuracy: 60.35%\n",
      "INFO:root:Test Loss: 1.0875889694690704 \n",
      "\n",
      " 40%|████      | 40/100 [27:22<44:12, 44.22s/it]"
     ]
    },
    {
     "name": "stdout",
     "output_type": "stream",
     "text": [
      "[231, 1119, 1736, 278, 447, 1018, 286, 744, 690, 173]\n"
     ]
    },
    {
     "name": "stderr",
     "output_type": "stream",
     "text": [
      "INFO:root: \n",
      "Avg Training Stats after 41 global rounds:\n",
      "INFO:root:Train Accuracy: 0.00%\n",
      "INFO:root:Training Loss : 0.15169925608907991\n",
      "INFO:root:Test Accuracy: 60.22%\n",
      "INFO:root:Test Loss: 1.1047523027658464 \n",
      "\n",
      " 41%|████      | 41/100 [27:55<40:10, 40.85s/it]"
     ]
    },
    {
     "name": "stdout",
     "output_type": "stream",
     "text": [
      "[231, 1320, 1416, 2575, 2274, 862, 690, 602, 1012, 173]\n"
     ]
    },
    {
     "name": "stderr",
     "output_type": "stream",
     "text": [
      "INFO:root: \n",
      "Avg Training Stats after 42 global rounds:\n",
      "INFO:root:Train Accuracy: 0.00%\n",
      "INFO:root:Training Loss : 0.16421408816928706\n",
      "INFO:root:Test Accuracy: 62.08%\n",
      "INFO:root:Test Loss: 1.048526029586792 \n",
      "\n",
      " 42%|████▏     | 42/100 [28:38<40:05, 41.48s/it]"
     ]
    },
    {
     "name": "stdout",
     "output_type": "stream",
     "text": [
      "[1112, 1053, 3195, 2934, 2029, 201, 123, 2195, 1018, 173]\n"
     ]
    },
    {
     "name": "stderr",
     "output_type": "stream",
     "text": [
      "INFO:root: \n",
      "Avg Training Stats after 43 global rounds:\n",
      "INFO:root:Train Accuracy: 0.00%\n",
      "INFO:root:Training Loss : 0.18263932862386348\n",
      "INFO:root:Test Accuracy: 61.62%\n",
      "INFO:root:Test Loss: 1.05358713388443 \n",
      "\n",
      " 43%|████▎     | 43/100 [29:26<41:27, 43.64s/it]"
     ]
    },
    {
     "name": "stdout",
     "output_type": "stream",
     "text": [
      "[862, 1053, 422, 3195, 4600, 794, 1756, 173, 2029, 1018]\n"
     ]
    },
    {
     "name": "stderr",
     "output_type": "stream",
     "text": [
      "INFO:root: \n",
      "Avg Training Stats after 44 global rounds:\n",
      "INFO:root:Train Accuracy: 0.00%\n",
      "INFO:root:Training Loss : 0.18210684272215583\n",
      "INFO:root:Test Accuracy: 62.01%\n",
      "INFO:root:Test Loss: 1.0461873269081117 \n",
      "\n",
      " 44%|████▍     | 44/100 [30:20<43:26, 46.54s/it]"
     ]
    },
    {
     "name": "stdout",
     "output_type": "stream",
     "text": [
      "[1320, 2934, 796, 2195, 862, 2575, 2029, 19, 422, 286]\n"
     ]
    },
    {
     "name": "stderr",
     "output_type": "stream",
     "text": [
      "INFO:root: \n",
      "Avg Training Stats after 45 global rounds:\n",
      "INFO:root:Train Accuracy: 0.00%\n",
      "INFO:root:Training Loss : 0.12091628234794208\n",
      "INFO:root:Test Accuracy: 62.38%\n",
      "INFO:root:Test Loss: 1.0338796669244765 \n",
      "\n",
      " 45%|████▌     | 45/100 [31:07<42:58, 46.88s/it]"
     ]
    },
    {
     "name": "stdout",
     "output_type": "stream",
     "text": [
      "[862, 744, 1416, 1112, 590, 542, 278, 690, 116, 1780]\n"
     ]
    },
    {
     "name": "stderr",
     "output_type": "stream",
     "text": [
      "INFO:root: \n",
      "Avg Training Stats after 46 global rounds:\n",
      "INFO:root:Train Accuracy: 0.00%\n",
      "INFO:root:Training Loss : 0.22819498895928728\n",
      "INFO:root:Test Accuracy: 62.89%\n",
      "INFO:root:Test Loss: 1.0145151713490486 \n",
      "\n",
      " 46%|████▌     | 46/100 [31:43<39:13, 43.59s/it]"
     ]
    },
    {
     "name": "stdout",
     "output_type": "stream",
     "text": [
      "[2575, 1112, 1320, 231, 3195, 1012, 862, 447, 2195, 201]\n"
     ]
    },
    {
     "name": "stderr",
     "output_type": "stream",
     "text": [
      "INFO:root: \n",
      "Avg Training Stats after 47 global rounds:\n",
      "INFO:root:Train Accuracy: 0.00%\n",
      "INFO:root:Training Loss : 0.10142108328732331\n",
      "INFO:root:Test Accuracy: 62.64%\n",
      "INFO:root:Test Loss: 1.020270631313324 \n",
      "\n",
      " 47%|████▋     | 47/100 [32:30<39:28, 44.70s/it]"
     ]
    },
    {
     "name": "stdout",
     "output_type": "stream",
     "text": [
      "[1433, 542, 813, 231, 1119, 2029, 1012, 173, 2195, 1320]\n"
     ]
    },
    {
     "name": "stderr",
     "output_type": "stream",
     "text": [
      "INFO:root: \n",
      "Avg Training Stats after 48 global rounds:\n",
      "INFO:root:Train Accuracy: 0.00%\n",
      "INFO:root:Training Loss : 0.11133394577130251\n",
      "INFO:root:Test Accuracy: 63.51%\n",
      "INFO:root:Test Loss: 1.0234813937544822 \n",
      "\n",
      " 48%|████▊     | 48/100 [33:13<38:03, 43.92s/it]"
     ]
    },
    {
     "name": "stdout",
     "output_type": "stream",
     "text": [
      "[744, 2195, 209, 1780, 2575, 123, 327, 40, 1736, 690]\n"
     ]
    },
    {
     "name": "stderr",
     "output_type": "stream",
     "text": [
      "INFO:root: \n",
      "Avg Training Stats after 49 global rounds:\n",
      "INFO:root:Train Accuracy: 0.00%\n",
      "INFO:root:Training Loss : 0.1995118688326256\n",
      "INFO:root:Test Accuracy: 62.63%\n",
      "INFO:root:Test Loss: 1.0264246878027916 \n",
      "\n",
      " 49%|████▉     | 49/100 [33:54<36:37, 43.08s/it]"
     ]
    },
    {
     "name": "stdout",
     "output_type": "stream",
     "text": [
      "[862, 690, 1433, 173, 3195, 2934, 116, 447, 231, 431]\n"
     ]
    },
    {
     "name": "stderr",
     "output_type": "stream",
     "text": [
      "INFO:root: \n",
      "Avg Training Stats after 50 global rounds:\n",
      "INFO:root:Train Accuracy: 0.00%\n",
      "INFO:root:Training Loss : 0.18545526199807855\n",
      "INFO:root:Test Accuracy: 62.14%\n",
      "INFO:root:Test Loss: 1.0436919578909873 \n",
      "\n",
      " 50%|█████     | 50/100 [34:35<35:30, 42.61s/it]"
     ]
    },
    {
     "name": "stdout",
     "output_type": "stream",
     "text": [
      "[1320, 19, 3195, 87, 1756, 303, 813, 2575, 231, 231]\n"
     ]
    },
    {
     "name": "stderr",
     "output_type": "stream",
     "text": [
      "INFO:root: \n",
      "Avg Training Stats after 51 global rounds:\n",
      "INFO:root:Train Accuracy: 0.00%\n",
      "INFO:root:Training Loss : 0.0410204355760192\n",
      "INFO:root:Test Accuracy: 61.52%\n",
      "INFO:root:Test Loss: 1.0605731493234634 \n",
      "\n",
      " 51%|█████     | 51/100 [35:17<34:30, 42.25s/it]"
     ]
    },
    {
     "name": "stdout",
     "output_type": "stream",
     "text": [
      "[40, 813, 1780, 2934, 15, 173, 278, 19, 1798, 267]\n"
     ]
    },
    {
     "name": "stderr",
     "output_type": "stream",
     "text": [
      "INFO:root: \n",
      "Avg Training Stats after 52 global rounds:\n",
      "INFO:root:Train Accuracy: 0.00%\n",
      "INFO:root:Training Loss : 0.12372334498944881\n",
      "INFO:root:Test Accuracy: 62.73%\n",
      "INFO:root:Test Loss: 1.0328598216176033 \n",
      "\n",
      " 52%|█████▏    | 52/100 [35:53<32:17, 40.37s/it]"
     ]
    },
    {
     "name": "stdout",
     "output_type": "stream",
     "text": [
      "[267, 231, 690, 173, 1780, 1053, 862, 590, 1433, 303]\n"
     ]
    },
    {
     "name": "stderr",
     "output_type": "stream",
     "text": [
      "INFO:root: \n",
      "Avg Training Stats after 53 global rounds:\n",
      "INFO:root:Train Accuracy: 0.00%\n",
      "INFO:root:Training Loss : 0.1809631561186261\n",
      "INFO:root:Test Accuracy: 62.83%\n",
      "INFO:root:Test Loss: 1.0288176012039185 \n",
      "\n",
      " 53%|█████▎    | 53/100 [36:27<30:19, 38.71s/it]"
     ]
    },
    {
     "name": "stdout",
     "output_type": "stream",
     "text": [
      "[431, 3195, 201, 796, 2934, 15, 231, 1112, 1736, 267]\n"
     ]
    },
    {
     "name": "stderr",
     "output_type": "stream",
     "text": [
      "INFO:root: \n",
      "Avg Training Stats after 54 global rounds:\n",
      "INFO:root:Train Accuracy: 0.00%\n",
      "INFO:root:Training Loss : 0.130002353904955\n",
      "INFO:root:Test Accuracy: 61.92%\n",
      "INFO:root:Test Loss: 1.0537503552436829 \n",
      "\n",
      " 54%|█████▍    | 54/100 [37:10<30:29, 39.77s/it]"
     ]
    },
    {
     "name": "stdout",
     "output_type": "stream",
     "text": [
      "[40, 1320, 1416, 286, 2195, 1012, 201, 116, 1053, 542]\n"
     ]
    },
    {
     "name": "stderr",
     "output_type": "stream",
     "text": [
      "INFO:root: \n",
      "Avg Training Stats after 55 global rounds:\n",
      "INFO:root:Train Accuracy: 0.00%\n",
      "INFO:root:Training Loss : 0.18241677786920787\n",
      "INFO:root:Test Accuracy: 63.09%\n",
      "INFO:root:Test Loss: 1.0221517977118493 \n",
      "\n",
      " 55%|█████▌    | 55/100 [37:46<29:00, 38.69s/it]"
     ]
    },
    {
     "name": "stdout",
     "output_type": "stream",
     "text": [
      "[1798, 422, 231, 4600, 231, 2575, 1433, 106, 1320, 862]\n"
     ]
    },
    {
     "name": "stderr",
     "output_type": "stream",
     "text": [
      "INFO:root: \n",
      "Avg Training Stats after 56 global rounds:\n",
      "INFO:root:Train Accuracy: 0.00%\n",
      "INFO:root:Training Loss : 0.0902006626049763\n",
      "INFO:root:Test Accuracy: 64.74%\n",
      "INFO:root:Test Loss: 0.9851334291696549 \n",
      "\n",
      " 56%|█████▌    | 56/100 [38:34<30:30, 41.61s/it]"
     ]
    },
    {
     "name": "stdout",
     "output_type": "stream",
     "text": [
      "[2274, 3195, 267, 2029, 590, 327, 2195, 278, 1756, 813]\n"
     ]
    },
    {
     "name": "stderr",
     "output_type": "stream",
     "text": [
      "INFO:root: \n",
      "Avg Training Stats after 57 global rounds:\n",
      "INFO:root:Train Accuracy: 0.00%\n",
      "INFO:root:Training Loss : 0.12197818431097684\n",
      "INFO:root:Test Accuracy: 63.83%\n",
      "INFO:root:Test Loss: 1.0055098685622215 \n",
      "\n",
      " 57%|█████▋    | 57/100 [39:23<31:16, 43.63s/it]"
     ]
    },
    {
     "name": "stdout",
     "output_type": "stream",
     "text": [
      "[1798, 431, 123, 1320, 1416, 231, 2575, 2934, 19, 1756]\n"
     ]
    },
    {
     "name": "stderr",
     "output_type": "stream",
     "text": [
      "INFO:root: \n",
      "Avg Training Stats after 58 global rounds:\n",
      "INFO:root:Train Accuracy: 0.00%\n",
      "INFO:root:Training Loss : 0.11091675380594243\n",
      "INFO:root:Test Accuracy: 64.35%\n",
      "INFO:root:Test Loss: 0.9957342317700386 \n",
      "\n",
      " 58%|█████▊    | 58/100 [40:10<31:14, 44.62s/it]"
     ]
    },
    {
     "name": "stdout",
     "output_type": "stream",
     "text": [
      "[1018, 267, 2274, 447, 2029, 690, 590, 303, 1119, 796]\n"
     ]
    },
    {
     "name": "stderr",
     "output_type": "stream",
     "text": [
      "INFO:root: \n",
      "Avg Training Stats after 59 global rounds:\n",
      "INFO:root:Train Accuracy: 0.00%\n",
      "INFO:root:Training Loss : 0.08750886407273979\n",
      "INFO:root:Test Accuracy: 63.79%\n",
      "INFO:root:Test Loss: 1.0067621424794198 \n",
      "\n",
      " 59%|█████▉    | 59/100 [40:49<29:20, 42.93s/it]"
     ]
    },
    {
     "name": "stdout",
     "output_type": "stream",
     "text": [
      "[106, 2430, 447, 1433, 1012, 3195, 1119, 1756, 862, 4600]\n"
     ]
    },
    {
     "name": "stderr",
     "output_type": "stream",
     "text": [
      "INFO:root: \n",
      "Avg Training Stats after 60 global rounds:\n",
      "INFO:root:Train Accuracy: 0.00%\n",
      "INFO:root:Training Loss : 0.06270013630366746\n",
      "INFO:root:Test Accuracy: 64.35%\n",
      "INFO:root:Test Loss: 0.9961284846067429 \n",
      "\n",
      " 60%|██████    | 60/100 [41:44<31:05, 46.65s/it]"
     ]
    },
    {
     "name": "stdout",
     "output_type": "stream",
     "text": [
      "[1780, 1320, 286, 2029, 40, 796, 447, 15, 231, 744]\n"
     ]
    },
    {
     "name": "stderr",
     "output_type": "stream",
     "text": [
      "INFO:root: \n",
      "Avg Training Stats after 61 global rounds:\n",
      "INFO:root:Train Accuracy: 0.00%\n",
      "INFO:root:Training Loss : 0.07545671209623411\n",
      "INFO:root:Test Accuracy: 64.24%\n",
      "INFO:root:Test Loss: 1.0060760629177095 \n",
      "\n",
      " 61%|██████    | 61/100 [42:19<28:05, 43.21s/it]"
     ]
    },
    {
     "name": "stdout",
     "output_type": "stream",
     "text": [
      "[116, 15, 2029, 327, 19, 470, 422, 87, 1012, 303]\n"
     ]
    },
    {
     "name": "stderr",
     "output_type": "stream",
     "text": [
      "INFO:root: \n",
      "Avg Training Stats after 62 global rounds:\n",
      "INFO:root:Train Accuracy: 0.00%\n",
      "INFO:root:Training Loss : 0.11051531936483514\n",
      "INFO:root:Test Accuracy: 63.62%\n",
      "INFO:root:Test Loss: 1.0170389705896377 \n",
      "\n",
      " 62%|██████▏   | 62/100 [42:48<24:34, 38.80s/it]"
     ]
    },
    {
     "name": "stdout",
     "output_type": "stream",
     "text": [
      "[796, 2274, 862, 286, 813, 3195, 1112, 422, 1119, 327]\n"
     ]
    },
    {
     "name": "stderr",
     "output_type": "stream",
     "text": [
      "INFO:root: \n",
      "Avg Training Stats after 63 global rounds:\n",
      "INFO:root:Train Accuracy: 0.00%\n",
      "INFO:root:Training Loss : 0.10548099383173151\n",
      "INFO:root:Test Accuracy: 64.17%\n",
      "INFO:root:Test Loss: 0.9974967640638351 \n",
      "\n",
      " 63%|██████▎   | 63/100 [43:30<24:40, 40.01s/it]"
     ]
    },
    {
     "name": "stdout",
     "output_type": "stream",
     "text": [
      "[542, 1798, 690, 15, 267, 2575, 796, 590, 209, 470]\n"
     ]
    },
    {
     "name": "stderr",
     "output_type": "stream",
     "text": [
      "INFO:root: \n",
      "Avg Training Stats after 64 global rounds:\n",
      "INFO:root:Train Accuracy: 0.00%\n",
      "INFO:root:Training Loss : 0.1095207969596613\n",
      "INFO:root:Test Accuracy: 63.89%\n",
      "INFO:root:Test Loss: 1.0084892404079437 \n",
      "\n",
      " 64%|██████▍   | 64/100 [44:06<23:11, 38.67s/it]"
     ]
    },
    {
     "name": "stdout",
     "output_type": "stream",
     "text": [
      "[87, 267, 286, 1053, 303, 796, 40, 173, 19, 327]\n"
     ]
    },
    {
     "name": "stderr",
     "output_type": "stream",
     "text": [
      "INFO:root: \n",
      "Avg Training Stats after 65 global rounds:\n",
      "INFO:root:Train Accuracy: 0.00%\n",
      "INFO:root:Training Loss : 0.15573183609832578\n",
      "INFO:root:Test Accuracy: 64.67%\n",
      "INFO:root:Test Loss: 0.9961441597342491 \n",
      "\n",
      " 65%|██████▌   | 65/100 [44:31<20:15, 34.72s/it]"
     ]
    },
    {
     "name": "stdout",
     "output_type": "stream",
     "text": [
      "[813, 542, 106, 123, 4600, 40, 209, 2029, 1736, 2195]\n"
     ]
    },
    {
     "name": "stderr",
     "output_type": "stream",
     "text": [
      "INFO:root: \n",
      "Avg Training Stats after 66 global rounds:\n",
      "INFO:root:Train Accuracy: 0.00%\n",
      "INFO:root:Training Loss : 0.12351480811281408\n",
      "INFO:root:Test Accuracy: 65.13%\n",
      "INFO:root:Test Loss: 0.9960719841718674 \n",
      "\n",
      " 66%|██████▌   | 66/100 [45:17<21:31, 38.00s/it]"
     ]
    },
    {
     "name": "stdout",
     "output_type": "stream",
     "text": [
      "[1416, 1320, 201, 744, 2934, 447, 278, 2430, 1018, 2274]\n"
     ]
    },
    {
     "name": "stderr",
     "output_type": "stream",
     "text": [
      "INFO:root: \n",
      "Avg Training Stats after 67 global rounds:\n",
      "INFO:root:Train Accuracy: 0.00%\n",
      "INFO:root:Training Loss : 0.11720038013066807\n",
      "INFO:root:Test Accuracy: 65.80%\n",
      "INFO:root:Test Loss: 0.9569761753082275 \n",
      "\n",
      " 67%|██████▋   | 67/100 [46:04<22:20, 40.61s/it]"
     ]
    },
    {
     "name": "stdout",
     "output_type": "stream",
     "text": [
      "[303, 1012, 470, 123, 106, 201, 87, 1736, 2934, 2575]\n"
     ]
    },
    {
     "name": "stderr",
     "output_type": "stream",
     "text": [
      "INFO:root: \n",
      "Avg Training Stats after 68 global rounds:\n",
      "INFO:root:Train Accuracy: 0.00%\n",
      "INFO:root:Training Loss : 0.05912554056624473\n",
      "INFO:root:Test Accuracy: 64.53%\n",
      "INFO:root:Test Loss: 0.9942424735426902 \n",
      "\n",
      " 68%|██████▊   | 68/100 [46:43<21:28, 40.27s/it]"
     ]
    },
    {
     "name": "stdout",
     "output_type": "stream",
     "text": [
      "[3195, 794, 690, 2029, 231, 1756, 1112, 1736, 201, 813]\n"
     ]
    },
    {
     "name": "stderr",
     "output_type": "stream",
     "text": [
      "INFO:root: \n",
      "Avg Training Stats after 69 global rounds:\n",
      "INFO:root:Train Accuracy: 0.00%\n",
      "INFO:root:Training Loss : 0.06582161352215644\n",
      "INFO:root:Test Accuracy: 65.06%\n",
      "INFO:root:Test Loss: 0.984122349023819 \n",
      "\n",
      " 69%|██████▉   | 69/100 [47:29<21:39, 41.91s/it]"
     ]
    },
    {
     "name": "stdout",
     "output_type": "stream",
     "text": [
      "[106, 40, 278, 422, 470, 2029, 2934, 744, 2274, 327]\n"
     ]
    },
    {
     "name": "stderr",
     "output_type": "stream",
     "text": [
      "INFO:root: \n",
      "Avg Training Stats after 70 global rounds:\n",
      "INFO:root:Train Accuracy: 0.00%\n",
      "INFO:root:Training Loss : 0.09900542074948078\n",
      "INFO:root:Test Accuracy: 64.65%\n",
      "INFO:root:Test Loss: 0.9902972173690796 \n",
      "\n",
      " 70%|███████   | 70/100 [48:09<20:37, 41.26s/it]"
     ]
    },
    {
     "name": "stdout",
     "output_type": "stream",
     "text": [
      "[3195, 267, 303, 173, 286, 2029, 422, 1012, 796, 106]\n"
     ]
    },
    {
     "name": "stderr",
     "output_type": "stream",
     "text": [
      "INFO:root: \n",
      "Avg Training Stats after 71 global rounds:\n",
      "INFO:root:Train Accuracy: 0.00%\n",
      "INFO:root:Training Loss : 0.11052609374343769\n",
      "INFO:root:Test Accuracy: 64.18%\n",
      "INFO:root:Test Loss: 1.0014264816045761 \n",
      "\n",
      " 71%|███████   | 71/100 [48:46<19:19, 39.97s/it]"
     ]
    },
    {
     "name": "stdout",
     "output_type": "stream",
     "text": [
      "[209, 40, 4600, 106, 123, 1012, 690, 542, 602, 2575]\n"
     ]
    },
    {
     "name": "stderr",
     "output_type": "stream",
     "text": [
      "INFO:root: \n",
      "Avg Training Stats after 72 global rounds:\n",
      "INFO:root:Train Accuracy: 0.00%\n",
      "INFO:root:Training Loss : 0.09626874409295794\n",
      "INFO:root:Test Accuracy: 65.12%\n",
      "INFO:root:Test Loss: 0.9945907580852509 \n",
      "\n",
      " 72%|███████▏  | 72/100 [49:27<18:48, 40.29s/it]"
     ]
    },
    {
     "name": "stdout",
     "output_type": "stream",
     "text": [
      "[1012, 2430, 2274, 209, 1798, 303, 1112, 231, 744, 278]\n"
     ]
    },
    {
     "name": "stderr",
     "output_type": "stream",
     "text": [
      "INFO:root: \n",
      "Avg Training Stats after 73 global rounds:\n",
      "INFO:root:Train Accuracy: 0.00%\n",
      "INFO:root:Training Loss : 0.07952838395980136\n",
      "INFO:root:Test Accuracy: 66.39%\n",
      "INFO:root:Test Loss: 0.9597900518774987 \n",
      "\n",
      " 73%|███████▎  | 73/100 [50:08<18:16, 40.60s/it]"
     ]
    },
    {
     "name": "stdout",
     "output_type": "stream",
     "text": [
      "[447, 1320, 209, 327, 744, 1018, 231, 2430, 590, 602]\n"
     ]
    },
    {
     "name": "stderr",
     "output_type": "stream",
     "text": [
      "INFO:root: \n",
      "Avg Training Stats after 74 global rounds:\n",
      "INFO:root:Train Accuracy: 0.00%\n",
      "INFO:root:Training Loss : 0.1417691966979935\n",
      "INFO:root:Test Accuracy: 65.77%\n",
      "INFO:root:Test Loss: 0.9688502368330956 \n",
      "\n",
      " 74%|███████▍  | 74/100 [50:44<16:56, 39.11s/it]"
     ]
    },
    {
     "name": "stdout",
     "output_type": "stream",
     "text": [
      "[470, 1053, 303, 1012, 106, 3195, 447, 1112, 201, 1433]\n"
     ]
    },
    {
     "name": "stderr",
     "output_type": "stream",
     "text": [
      "INFO:root: \n",
      "Avg Training Stats after 75 global rounds:\n",
      "INFO:root:Train Accuracy: 0.00%\n",
      "INFO:root:Training Loss : 0.051976035635322895\n",
      "INFO:root:Test Accuracy: 65.27%\n",
      "INFO:root:Test Loss: 0.9775323843955994 \n",
      "\n",
      " 75%|███████▌  | 75/100 [51:23<16:15, 39.02s/it]"
     ]
    },
    {
     "name": "stdout",
     "output_type": "stream",
     "text": [
      "[231, 1433, 431, 209, 1416, 1780, 116, 123, 422, 4600]\n"
     ]
    },
    {
     "name": "stderr",
     "output_type": "stream",
     "text": [
      "INFO:root: \n",
      "Avg Training Stats after 76 global rounds:\n",
      "INFO:root:Train Accuracy: 0.00%\n",
      "INFO:root:Training Loss : 0.1978393569981674\n",
      "INFO:root:Test Accuracy: 65.56%\n",
      "INFO:root:Test Loss: 0.989265940785408 \n",
      "\n",
      " 76%|███████▌  | 76/100 [52:05<15:58, 39.92s/it]"
     ]
    },
    {
     "name": "stdout",
     "output_type": "stream",
     "text": [
      "[2575, 796, 1053, 267, 602, 1018, 201, 1756, 286, 2430]\n"
     ]
    },
    {
     "name": "stderr",
     "output_type": "stream",
     "text": [
      "INFO:root: \n",
      "Avg Training Stats after 77 global rounds:\n",
      "INFO:root:Train Accuracy: 0.00%\n",
      "INFO:root:Training Loss : 0.10858170033253352\n",
      "INFO:root:Test Accuracy: 66.36%\n",
      "INFO:root:Test Loss: 0.9579660561680794 \n",
      "\n",
      " 77%|███████▋  | 77/100 [52:47<15:33, 40.59s/it]"
     ]
    },
    {
     "name": "stdout",
     "output_type": "stream",
     "text": [
      "[15, 2029, 2274, 744, 1018, 1736, 2934, 19, 173, 447]\n"
     ]
    },
    {
     "name": "stderr",
     "output_type": "stream",
     "text": [
      "INFO:root: \n",
      "Avg Training Stats after 78 global rounds:\n",
      "INFO:root:Train Accuracy: 0.00%\n",
      "INFO:root:Training Loss : 0.10261537609623166\n",
      "INFO:root:Test Accuracy: 66.41%\n",
      "INFO:root:Test Loss: 0.9546361276507378 \n",
      "\n",
      " 78%|███████▊  | 78/100 [53:30<15:08, 41.29s/it]"
     ]
    },
    {
     "name": "stdout",
     "output_type": "stream",
     "text": [
      "[542, 602, 173, 201, 590, 690, 422, 2934, 1736, 744]\n"
     ]
    },
    {
     "name": "stderr",
     "output_type": "stream",
     "text": [
      "INFO:root: \n",
      "Avg Training Stats after 79 global rounds:\n",
      "INFO:root:Train Accuracy: 0.00%\n",
      "INFO:root:Training Loss : 0.14888664197703858\n",
      "INFO:root:Test Accuracy: 65.96%\n",
      "INFO:root:Test Loss: 0.9654284164309501 \n",
      "\n",
      " 79%|███████▉  | 79/100 [54:07<14:03, 40.15s/it]"
     ]
    },
    {
     "name": "stdout",
     "output_type": "stream",
     "text": [
      "[201, 278, 40, 1112, 106, 690, 2029, 87, 796, 3195]\n"
     ]
    },
    {
     "name": "stderr",
     "output_type": "stream",
     "text": [
      "INFO:root: \n",
      "Avg Training Stats after 80 global rounds:\n",
      "INFO:root:Train Accuracy: 0.00%\n",
      "INFO:root:Training Loss : 0.04243212443612186\n",
      "INFO:root:Test Accuracy: 65.09%\n",
      "INFO:root:Test Loss: 0.9935660180449486 \n",
      "\n",
      " 80%|████████  | 80/100 [54:44<13:03, 39.15s/it]"
     ]
    },
    {
     "name": "stdout",
     "output_type": "stream",
     "text": [
      "[1798, 15, 201, 123, 1433, 542, 1119, 690, 602, 40]\n"
     ]
    },
    {
     "name": "stderr",
     "output_type": "stream",
     "text": [
      "INFO:root: \n",
      "Avg Training Stats after 81 global rounds:\n",
      "INFO:root:Train Accuracy: 0.00%\n",
      "INFO:root:Training Loss : 0.0712356975642445\n",
      "INFO:root:Test Accuracy: 65.79%\n",
      "INFO:root:Test Loss: 0.9784581077098846 \n",
      "\n",
      " 81%|████████  | 81/100 [55:17<11:46, 37.19s/it]"
     ]
    },
    {
     "name": "stdout",
     "output_type": "stream",
     "text": [
      "[267, 542, 209, 796, 87, 3195, 231, 303, 2934, 1119]\n"
     ]
    },
    {
     "name": "stderr",
     "output_type": "stream",
     "text": [
      "INFO:root: \n",
      "Avg Training Stats after 82 global rounds:\n",
      "INFO:root:Train Accuracy: 0.00%\n",
      "INFO:root:Training Loss : 0.09622356010740821\n",
      "INFO:root:Test Accuracy: 64.85%\n",
      "INFO:root:Test Loss: 0.9970343551039695 \n",
      "\n",
      " 82%|████████▏ | 82/100 [55:56<11:21, 37.88s/it]"
     ]
    },
    {
     "name": "stdout",
     "output_type": "stream",
     "text": [
      "[690, 431, 422, 231, 4600, 2934, 2029, 327, 796, 590]\n"
     ]
    },
    {
     "name": "stderr",
     "output_type": "stream",
     "text": [
      "INFO:root: \n",
      "Avg Training Stats after 83 global rounds:\n",
      "INFO:root:Train Accuracy: 0.00%\n",
      "INFO:root:Training Loss : 0.11530478069187866\n",
      "INFO:root:Test Accuracy: 65.91%\n",
      "INFO:root:Test Loss: 0.9876187965273857 \n",
      "\n",
      " 83%|████████▎ | 83/100 [56:43<11:30, 40.61s/it]"
     ]
    },
    {
     "name": "stdout",
     "output_type": "stream",
     "text": [
      "[231, 1112, 87, 303, 690, 796, 2195, 813, 327, 1018]\n"
     ]
    },
    {
     "name": "stderr",
     "output_type": "stream",
     "text": [
      "INFO:root: \n",
      "Avg Training Stats after 84 global rounds:\n",
      "INFO:root:Train Accuracy: 0.00%\n",
      "INFO:root:Training Loss : 0.10712961319398853\n",
      "INFO:root:Test Accuracy: 66.26%\n",
      "INFO:root:Test Loss: 0.9659124773740768 \n",
      "\n",
      " 84%|████████▍ | 84/100 [57:18<10:22, 38.91s/it]"
     ]
    },
    {
     "name": "stdout",
     "output_type": "stream",
     "text": [
      "[602, 1018, 542, 106, 794, 447, 2029, 1433, 327, 690]\n"
     ]
    },
    {
     "name": "stderr",
     "output_type": "stream",
     "text": [
      "INFO:root: \n",
      "Avg Training Stats after 85 global rounds:\n",
      "INFO:root:Train Accuracy: 0.00%\n",
      "INFO:root:Training Loss : 0.10600548932185769\n",
      "INFO:root:Test Accuracy: 66.06%\n",
      "INFO:root:Test Loss: 0.9724447998404503 \n",
      "\n",
      " 85%|████████▌ | 85/100 [57:53<09:28, 37.90s/it]"
     ]
    },
    {
     "name": "stdout",
     "output_type": "stream",
     "text": [
      "[1433, 267, 447, 1012, 470, 201, 231, 15, 278, 1736]\n"
     ]
    },
    {
     "name": "stderr",
     "output_type": "stream",
     "text": [
      "INFO:root: \n",
      "Avg Training Stats after 86 global rounds:\n",
      "INFO:root:Train Accuracy: 0.00%\n",
      "INFO:root:Training Loss : 0.09102344645067827\n",
      "INFO:root:Test Accuracy: 66.70%\n",
      "INFO:root:Test Loss: 0.9520515275001525 \n",
      "\n",
      " 86%|████████▌ | 86/100 [58:26<08:26, 36.14s/it]"
     ]
    },
    {
     "name": "stdout",
     "output_type": "stream",
     "text": [
      "[40, 1053, 231, 286, 106, 2274, 470, 1119, 447, 1416]\n"
     ]
    },
    {
     "name": "stderr",
     "output_type": "stream",
     "text": [
      "INFO:root: \n",
      "Avg Training Stats after 87 global rounds:\n",
      "INFO:root:Train Accuracy: 0.00%\n",
      "INFO:root:Training Loss : 0.08863183726627619\n",
      "INFO:root:Test Accuracy: 67.27%\n",
      "INFO:root:Test Loss: 0.9290619771182537 \n",
      "\n",
      " 87%|████████▋ | 87/100 [59:00<07:43, 35.65s/it]"
     ]
    },
    {
     "name": "stdout",
     "output_type": "stream",
     "text": [
      "[209, 2029, 231, 278, 1320, 862, 2195, 690, 1736, 106]\n"
     ]
    },
    {
     "name": "stderr",
     "output_type": "stream",
     "text": [
      "INFO:root: \n",
      "Avg Training Stats after 88 global rounds:\n",
      "INFO:root:Train Accuracy: 0.00%\n",
      "INFO:root:Training Loss : 0.10844297690407738\n",
      "INFO:root:Test Accuracy: 66.72%\n",
      "INFO:root:Test Loss: 0.9419383198022843 \n",
      "\n",
      " 88%|████████▊ | 88/100 [59:39<07:20, 36.72s/it]"
     ]
    },
    {
     "name": "stdout",
     "output_type": "stream",
     "text": [
      "[2430, 201, 2195, 2575, 123, 602, 116, 794, 4600, 690]\n"
     ]
    },
    {
     "name": "stderr",
     "output_type": "stream",
     "text": [
      "INFO:root: \n",
      "Avg Training Stats after 89 global rounds:\n",
      "INFO:root:Train Accuracy: 0.00%\n",
      "INFO:root:Training Loss : 0.10431419255133874\n",
      "INFO:root:Test Accuracy: 67.20%\n",
      "INFO:root:Test Loss: 0.9356009009480476 \n",
      "\n",
      " 89%|████████▉ | 89/100 [1:00:29<07:26, 40.63s/it]"
     ]
    },
    {
     "name": "stdout",
     "output_type": "stream",
     "text": [
      "[470, 303, 278, 87, 1119, 2274, 1780, 19, 4600, 602]\n"
     ]
    },
    {
     "name": "stderr",
     "output_type": "stream",
     "text": [
      "INFO:root: \n",
      "Avg Training Stats after 90 global rounds:\n",
      "INFO:root:Train Accuracy: 0.00%\n",
      "INFO:root:Training Loss : 0.05462480313906004\n",
      "INFO:root:Test Accuracy: 66.77%\n",
      "INFO:root:Test Loss: 0.9606305792927742 \n",
      "\n",
      " 90%|█████████ | 90/100 [1:01:12<06:54, 41.45s/it]"
     ]
    },
    {
     "name": "stdout",
     "output_type": "stream",
     "text": [
      "[2575, 602, 2029, 327, 209, 4600, 2274, 1756, 431, 1112]\n"
     ]
    },
    {
     "name": "stderr",
     "output_type": "stream",
     "text": [
      "INFO:root: \n",
      "Avg Training Stats after 91 global rounds:\n",
      "INFO:root:Train Accuracy: 0.00%\n",
      "INFO:root:Training Loss : 0.10069450388305615\n",
      "INFO:root:Test Accuracy: 66.60%\n",
      "INFO:root:Test Loss: 0.9705285063385963 \n",
      "\n",
      " 91%|█████████ | 91/100 [1:02:06<06:44, 44.95s/it]"
     ]
    },
    {
     "name": "stdout",
     "output_type": "stream",
     "text": [
      "[2195, 267, 813, 286, 3195, 470, 231, 278, 1012, 231]\n"
     ]
    },
    {
     "name": "stderr",
     "output_type": "stream",
     "text": [
      "INFO:root: \n",
      "Avg Training Stats after 92 global rounds:\n",
      "INFO:root:Train Accuracy: 0.00%\n",
      "INFO:root:Training Loss : 0.0932778505196008\n",
      "INFO:root:Test Accuracy: 66.51%\n",
      "INFO:root:Test Loss: 0.969422814399004 \n",
      "\n",
      " 92%|█████████▏| 92/100 [1:02:43<05:42, 42.80s/it]"
     ]
    },
    {
     "name": "stdout",
     "output_type": "stream",
     "text": [
      "[1053, 2575, 303, 2430, 542, 116, 1756, 1433, 327, 15]\n"
     ]
    },
    {
     "name": "stderr",
     "output_type": "stream",
     "text": [
      "INFO:root: \n",
      "Avg Training Stats after 93 global rounds:\n",
      "INFO:root:Train Accuracy: 0.00%\n",
      "INFO:root:Training Loss : 0.11986665964844993\n",
      "INFO:root:Test Accuracy: 67.16%\n",
      "INFO:root:Test Loss: 0.9476062807440758 \n",
      "\n",
      " 93%|█████████▎| 93/100 [1:03:24<04:56, 42.29s/it]"
     ]
    },
    {
     "name": "stdout",
     "output_type": "stream",
     "text": [
      "[590, 4600, 201, 286, 303, 1736, 15, 1798, 744, 422]\n"
     ]
    },
    {
     "name": "stderr",
     "output_type": "stream",
     "text": [
      "INFO:root: \n",
      "Avg Training Stats after 94 global rounds:\n",
      "INFO:root:Train Accuracy: 0.00%\n",
      "INFO:root:Training Loss : 0.07485002044609038\n",
      "INFO:root:Test Accuracy: 66.86%\n",
      "INFO:root:Test Loss: 0.9697682896256447 \n",
      "\n",
      " 94%|█████████▍| 94/100 [1:04:06<04:12, 42.14s/it]"
     ]
    },
    {
     "name": "stdout",
     "output_type": "stream",
     "text": [
      "[123, 862, 542, 19, 794, 1112, 4600, 2934, 231, 15]\n"
     ]
    },
    {
     "name": "stderr",
     "output_type": "stream",
     "text": [
      "INFO:root: \n",
      "Avg Training Stats after 95 global rounds:\n",
      "INFO:root:Train Accuracy: 0.00%\n",
      "INFO:root:Training Loss : 0.09924185584600437\n",
      "INFO:root:Test Accuracy: 66.42%\n",
      "INFO:root:Test Loss: 0.9735742264986038 \n",
      "\n",
      " 95%|█████████▌| 95/100 [1:04:49<03:31, 42.36s/it]"
     ]
    },
    {
     "name": "stdout",
     "output_type": "stream",
     "text": [
      "[1053, 87, 2575, 4600, 542, 231, 1433, 1012, 2029, 862]\n"
     ]
    },
    {
     "name": "stderr",
     "output_type": "stream",
     "text": [
      "INFO:root: \n",
      "Avg Training Stats after 96 global rounds:\n",
      "INFO:root:Train Accuracy: 0.00%\n",
      "INFO:root:Training Loss : 0.08773462568543314\n",
      "INFO:root:Test Accuracy: 66.71%\n",
      "INFO:root:Test Loss: 0.981018034517765 \n",
      "\n",
      " 96%|█████████▌| 96/100 [1:05:39<02:58, 44.60s/it]"
     ]
    },
    {
     "name": "stdout",
     "output_type": "stream",
     "text": [
      "[19, 602, 40, 690, 267, 231, 173, 2029, 1798, 3195]\n"
     ]
    },
    {
     "name": "stderr",
     "output_type": "stream",
     "text": [
      "INFO:root: \n",
      "Avg Training Stats after 97 global rounds:\n",
      "INFO:root:Train Accuracy: 0.00%\n",
      "INFO:root:Training Loss : 0.11000286089287752\n",
      "INFO:root:Test Accuracy: 65.73%\n",
      "INFO:root:Test Loss: 1.004252876341343 \n",
      "\n",
      " 97%|█████████▋| 97/100 [1:06:17<02:08, 42.75s/it]"
     ]
    },
    {
     "name": "stdout",
     "output_type": "stream",
     "text": [
      "[209, 1012, 422, 40, 794, 4600, 116, 286, 303, 1756]\n"
     ]
    },
    {
     "name": "stderr",
     "output_type": "stream",
     "text": [
      "INFO:root: \n",
      "Avg Training Stats after 98 global rounds:\n",
      "INFO:root:Train Accuracy: 0.00%\n",
      "INFO:root:Training Loss : 0.08999535939768662\n",
      "INFO:root:Test Accuracy: 65.92%\n",
      "INFO:root:Test Loss: 1.015481366366148 \n",
      "\n",
      " 98%|█████████▊| 98/100 [1:06:56<01:23, 41.64s/it]"
     ]
    },
    {
     "name": "stdout",
     "output_type": "stream",
     "text": [
      "[2274, 1736, 173, 1416, 447, 19, 2195, 2029, 862, 744]\n"
     ]
    },
    {
     "name": "stderr",
     "output_type": "stream",
     "text": [
      "INFO:root: \n",
      "Avg Training Stats after 99 global rounds:\n",
      "INFO:root:Train Accuracy: 0.00%\n",
      "INFO:root:Training Loss : 0.17414649390076956\n",
      "INFO:root:Test Accuracy: 66.40%\n",
      "INFO:root:Test Loss: 0.9930325357615948 \n",
      "\n",
      " 99%|█████████▉| 99/100 [1:07:40<00:42, 42.39s/it]"
     ]
    },
    {
     "name": "stdout",
     "output_type": "stream",
     "text": [
      "[431, 1798, 1736, 744, 19, 278, 690, 590, 116, 40]\n"
     ]
    },
    {
     "name": "stderr",
     "output_type": "stream",
     "text": [
      "INFO:root: \n",
      "Avg Training Stats after 100 global rounds:\n",
      "INFO:root:Train Accuracy: 0.00%\n",
      "INFO:root:Training Loss : 0.08495904494775086\n",
      "INFO:root:Test Accuracy: 65.93%\n",
      "INFO:root:Test Loss: 1.0316188168525695 \n",
      "\n",
      "100%|██████████| 100/100 [1:08:13<00:00, 40.93s/it]\n",
      "INFO:root: \n",
      " Results after 100 global rounds of training:\n",
      "INFO:root:|---- Best Test Accuracy: 67.27% , round: 86\n"
     ]
    },
    {
     "name": "stdout",
     "output_type": "stream",
     "text": [
      " Saving checkpoints to ../save/checkpoint/ConvNet_1223/cifar10_ConvNet_groupnorm_T[100]_C[0.2]_iid[0]_E[10]_B[32]_GPU[0]_Pruned[0.0]...\n"
     ]
    }
   ],
   "source": [
    " args = easydict.EasyDict({\n",
    "    \"model\": 'ConvNet',\n",
    "    'dataset': 'cifar10',\n",
    "    'gpu': 0,\n",
    "    'iid': 0,\n",
    "    'epochs': 100,\n",
    "    'optimizer': 'sgd',\n",
    "    'seed': 0,\n",
    "    'norm': 'groupnorm',\n",
    "    'num_users': 50,\n",
    "    'frac': 0.2,\n",
    "    'local_ep': 10, \n",
    "    'local_bs': 32,\n",
    "    'lr': 0.01,\n",
    "    'momentum': 1,\n",
    "    'kernel_num': 9,\n",
    "    'kernel_sizes': 'no_centering',\n",
    "    'num_channnels': '1',\n",
    "    'num_filters': 32,\n",
    "    'max_pool': 'True',\n",
    "    'num_classes': 10,\n",
    "    'unequal': 0,\n",
    "    'stopping_rounds': 0,\n",
    "    'verbose': 0,\n",
    "    'hold_normalize': 0,\n",
    "    'save_path': '../save/checkpoint',\n",
    "    'exp_folder': 'ConvNet_1223',\n",
    "    'resume': None,\n",
    "    'server_opt': 'sgd',\n",
    "    'server_lr': 1.0,\n",
    "    'client_decay':0,\n",
    "    'local_decay':0,\n",
    "    'alpha': 0.05,\n",
    "    'server_epoch':0,\n",
    "    'cosine_norm':0, \n",
    "    'only_fc' :0 ,\n",
    "    'loss':'bsm',\n",
    "    'dc_lr':0.0,\n",
    "    'tsne_pred':0,\n",
    "    'pruning': 0.0 })\n",
    "\n",
    "#zero-centering-classifier\n",
    "    \n",
    "temp = main_test(args)\n",
    "total.append(temp)"
   ]
  },
  {
   "cell_type": "code",
   "execution_count": 9,
   "id": "centered-tournament",
   "metadata": {},
   "outputs": [
    {
     "name": "stderr",
     "output_type": "stream",
     "text": [
      "INFO:root:{'model': 'ConvNet', 'dataset': 'cifar10', 'gpu': 0, 'iid': 0, 'epochs': 100, 'optimizer': 'sgd', 'seed': 0, 'norm': 'groupnorm', 'num_users': 50, 'frac': 0.2, 'local_ep': 10, 'local_bs': 32, 'lr': 0.01, 'momentum': 1, 'kernel_num': 9, 'kernel_sizes': 'no_centering', 'num_channnels': '1', 'num_filters': 32, 'max_pool': 'True', 'num_classes': 10, 'unequal': 0, 'stopping_rounds': 0, 'verbose': 0, 'hold_normalize': 0, 'save_path': '../save/checkpoint/ConvNet_1223', 'exp_folder': 'ConvNet_1223', 'resume': None, 'server_opt': 'sgdm', 'server_lr': 1.0, 'client_decay': 0, 'local_decay': 0, 'alpha': 0.05, 'server_epoch': 0, 'cosine_norm': 0, 'only_fc': 0, 'loss': 'bsm', 'dc_lr': 0.0, 'tsne_pred': 0, 'pruning': 0.0}\n"
     ]
    },
    {
     "name": "stdout",
     "output_type": "stream",
     "text": [
      "Files already downloaded and verified\n",
      "Files already downloaded and verified\n",
      "Files already downloaded and verified\n"
     ]
    },
    {
     "name": "stderr",
     "output_type": "stream",
     "text": [
      "INFO:root:ConvNet(\n",
      "  (net_act): ReLU(inplace=True)\n",
      "  (net_pooling): MaxPool2d(kernel_size=2, stride=2, padding=0, dilation=1, ceil_mode=False)\n",
      "  (features): Sequential(\n",
      "    (0): Conv2d(3, 128, kernel_size=(3, 3), stride=(1, 1), padding=(1, 1))\n",
      "    (1): GroupNorm(2, 128, eps=1e-05, affine=True)\n",
      "    (2): ReLU(inplace=True)\n",
      "    (3): MaxPool2d(kernel_size=2, stride=2, padding=0, dilation=1, ceil_mode=False)\n",
      "    (4): Conv2d(128, 128, kernel_size=(3, 3), stride=(1, 1), padding=(1, 1))\n",
      "    (5): GroupNorm(2, 128, eps=1e-05, affine=True)\n",
      "    (6): ReLU(inplace=True)\n",
      "    (7): MaxPool2d(kernel_size=2, stride=2, padding=0, dilation=1, ceil_mode=False)\n",
      "    (8): Conv2d(128, 128, kernel_size=(3, 3), stride=(1, 1), padding=(1, 1))\n",
      "    (9): GroupNorm(2, 128, eps=1e-05, affine=True)\n",
      "    (10): ReLU(inplace=True)\n",
      "    (11): MaxPool2d(kernel_size=2, stride=2, padding=0, dilation=1, ceil_mode=False)\n",
      "  )\n",
      "  (classifier): Linear(in_features=2048, out_features=10, bias=True)\n",
      ")\n",
      "INFO:root:None\n",
      "  0%|          | 0/100 [00:00<?, ?it/s]"
     ]
    },
    {
     "name": "stdout",
     "output_type": "stream",
     "text": [
      "----------------------------------------------------------------\n",
      "        Layer (type)               Output Shape         Param #\n",
      "================================================================\n",
      "            Conv2d-1          [-1, 128, 32, 32]           3,584\n",
      "         GroupNorm-2          [-1, 128, 32, 32]             256\n",
      "              ReLU-3          [-1, 128, 32, 32]               0\n",
      "              ReLU-4          [-1, 128, 32, 32]               0\n",
      "         MaxPool2d-5          [-1, 128, 16, 16]               0\n",
      "         MaxPool2d-6          [-1, 128, 16, 16]               0\n",
      "            Conv2d-7          [-1, 128, 16, 16]         147,584\n",
      "         GroupNorm-8          [-1, 128, 16, 16]             256\n",
      "              ReLU-9          [-1, 128, 16, 16]               0\n",
      "             ReLU-10          [-1, 128, 16, 16]               0\n",
      "        MaxPool2d-11            [-1, 128, 8, 8]               0\n",
      "        MaxPool2d-12            [-1, 128, 8, 8]               0\n",
      "           Conv2d-13            [-1, 128, 8, 8]         147,584\n",
      "        GroupNorm-14            [-1, 128, 8, 8]             256\n",
      "             ReLU-15            [-1, 128, 8, 8]               0\n",
      "             ReLU-16            [-1, 128, 8, 8]               0\n",
      "        MaxPool2d-17            [-1, 128, 4, 4]               0\n",
      "        MaxPool2d-18            [-1, 128, 4, 4]               0\n",
      "           Linear-19                   [-1, 10]          20,490\n",
      "================================================================\n",
      "Total params: 320,010\n",
      "Trainable params: 320,010\n",
      "Non-trainable params: 0\n",
      "----------------------------------------------------------------\n",
      "Input size (MB): 0.01\n",
      "Forward/backward pass size (MB): 5.91\n",
      "Params size (MB): 1.22\n",
      "Estimated Total Size (MB): 7.14\n",
      "----------------------------------------------------------------\n",
      "[209, 1756, 422, 2575, 1018, 602, 2274, 447, 744, 1112, 123, 87, 1433, 1416, 40, 1119, 796, 794, 327, 470, 231, 813, 1320, 542, 690, 2195, 2934, 106, 1012, 15, 278, 1798, 303, 590, 2029, 201, 1053, 862, 231, 116, 4600, 19, 286, 1736, 2430, 431, 3195, 1780, 173, 267]\n",
      "[470, 2934, 201, 231, 2575, 744, 15, 123, 1119, 4600]\n"
     ]
    },
    {
     "name": "stderr",
     "output_type": "stream",
     "text": [
      "INFO:root: \n",
      "Avg Training Stats after 1 global rounds:\n",
      "INFO:root:Train Accuracy: 0.00%\n",
      "INFO:root:Training Loss : 0.3366203264270811\n",
      "INFO:root:Test Accuracy: 20.16%\n",
      "INFO:root:Test Loss: 2.178098289966583 \n",
      "\n",
      "  1%|          | 1/100 [00:48<1:20:37, 48.87s/it]"
     ]
    },
    {
     "name": "stdout",
     "output_type": "stream",
     "text": [
      "[231, 173, 2575, 1736, 2430, 123, 4600, 690, 1012, 447]\n"
     ]
    },
    {
     "name": "stderr",
     "output_type": "stream",
     "text": [
      "INFO:root: \n",
      "Avg Training Stats after 2 global rounds:\n",
      "INFO:root:Train Accuracy: 0.00%\n",
      "INFO:root:Training Loss : 0.416564733488259\n",
      "INFO:root:Test Accuracy: 29.51%\n",
      "INFO:root:Test Loss: 2.005563164949417 \n",
      "\n",
      "  2%|▏         | 2/100 [01:39<1:21:34, 49.95s/it]"
     ]
    },
    {
     "name": "stdout",
     "output_type": "stream",
     "text": [
      "[744, 2575, 1320, 470, 2430, 2274, 267, 690, 209, 303]\n"
     ]
    },
    {
     "name": "stderr",
     "output_type": "stream",
     "text": [
      "INFO:root: \n",
      "Avg Training Stats after 3 global rounds:\n",
      "INFO:root:Train Accuracy: 0.00%\n",
      "INFO:root:Training Loss : 0.26645590171978956\n",
      "INFO:root:Test Accuracy: 28.67%\n",
      "INFO:root:Test Loss: 2.192144584059715 \n",
      "\n",
      "  3%|▎         | 3/100 [02:24<1:17:04, 47.67s/it]"
     ]
    },
    {
     "name": "stdout",
     "output_type": "stream",
     "text": [
      "[173, 690, 542, 1012, 2195, 1780, 1053, 87, 2934, 1736]\n"
     ]
    },
    {
     "name": "stderr",
     "output_type": "stream",
     "text": [
      "INFO:root: \n",
      "Avg Training Stats after 4 global rounds:\n",
      "INFO:root:Train Accuracy: 0.00%\n",
      "INFO:root:Training Loss : 0.39190114658800373\n",
      "INFO:root:Test Accuracy: 29.85%\n",
      "INFO:root:Test Loss: 2.2281712278723718 \n",
      "\n",
      "  4%|▍         | 4/100 [03:11<1:15:35, 47.25s/it]"
     ]
    },
    {
     "name": "stdout",
     "output_type": "stream",
     "text": [
      "[2430, 2575, 1736, 123, 15, 1780, 1018, 231, 87, 794]\n"
     ]
    },
    {
     "name": "stderr",
     "output_type": "stream",
     "text": [
      "INFO:root: \n",
      "Avg Training Stats after 5 global rounds:\n",
      "INFO:root:Train Accuracy: 0.00%\n",
      "INFO:root:Training Loss : 0.24038961072415677\n",
      "INFO:root:Test Accuracy: 34.02%\n",
      "INFO:root:Test Loss: 2.113944097459316 \n",
      "\n",
      "  5%|▌         | 5/100 [03:54<1:12:51, 46.02s/it]"
     ]
    },
    {
     "name": "stdout",
     "output_type": "stream",
     "text": [
      "[1119, 87, 590, 794, 813, 303, 1320, 690, 1018, 422]\n"
     ]
    },
    {
     "name": "stderr",
     "output_type": "stream",
     "text": [
      "INFO:root: \n",
      "Avg Training Stats after 6 global rounds:\n",
      "INFO:root:Train Accuracy: 0.00%\n",
      "INFO:root:Training Loss : 0.17065713242301397\n",
      "INFO:root:Test Accuracy: 38.47%\n",
      "INFO:root:Test Loss: 2.124823997616768 \n",
      "\n",
      "  6%|▌         | 6/100 [04:30<1:06:29, 42.44s/it]"
     ]
    },
    {
     "name": "stdout",
     "output_type": "stream",
     "text": [
      "[2029, 1433, 303, 327, 744, 862, 2934, 231, 1416, 278]\n"
     ]
    },
    {
     "name": "stderr",
     "output_type": "stream",
     "text": [
      "INFO:root: \n",
      "Avg Training Stats after 7 global rounds:\n",
      "INFO:root:Train Accuracy: 0.00%\n",
      "INFO:root:Training Loss : 0.27961919209188973\n",
      "INFO:root:Test Accuracy: 41.94%\n",
      "INFO:root:Test Loss: 1.9404775941371917 \n",
      "\n",
      "  7%|▋         | 7/100 [05:13<1:06:04, 42.63s/it]"
     ]
    },
    {
     "name": "stdout",
     "output_type": "stream",
     "text": [
      "[231, 1112, 327, 744, 286, 422, 15, 1798, 1053, 173]\n"
     ]
    },
    {
     "name": "stderr",
     "output_type": "stream",
     "text": [
      "INFO:root: \n",
      "Avg Training Stats after 8 global rounds:\n",
      "INFO:root:Train Accuracy: 0.00%\n",
      "INFO:root:Training Loss : 0.2820215337757859\n",
      "INFO:root:Test Accuracy: 44.62%\n",
      "INFO:root:Test Loss: 1.6812896019220351 \n",
      "\n",
      "  8%|▊         | 8/100 [05:46<1:00:46, 39.64s/it]"
     ]
    },
    {
     "name": "stdout",
     "output_type": "stream",
     "text": [
      "[794, 278, 744, 862, 303, 19, 2274, 1053, 813, 1012]\n"
     ]
    },
    {
     "name": "stderr",
     "output_type": "stream",
     "text": [
      "INFO:root: \n",
      "Avg Training Stats after 9 global rounds:\n",
      "INFO:root:Train Accuracy: 0.00%\n",
      "INFO:root:Training Loss : 0.14466808571290632\n",
      "INFO:root:Test Accuracy: 45.93%\n",
      "INFO:root:Test Loss: 1.5517416834831237 \n",
      "\n",
      "  9%|▉         | 9/100 [06:24<59:15, 39.07s/it]  "
     ]
    },
    {
     "name": "stdout",
     "output_type": "stream",
     "text": [
      "[1320, 40, 1756, 470, 327, 1012, 862, 1433, 796, 231]\n"
     ]
    },
    {
     "name": "stderr",
     "output_type": "stream",
     "text": [
      "INFO:root: \n",
      "Avg Training Stats after 10 global rounds:\n",
      "INFO:root:Train Accuracy: 0.00%\n",
      "INFO:root:Training Loss : 0.1260341894515577\n",
      "INFO:root:Test Accuracy: 46.26%\n",
      "INFO:root:Test Loss: 1.5487050482630729 \n",
      "\n",
      " 10%|█         | 10/100 [07:02<58:03, 38.71s/it]"
     ]
    },
    {
     "name": "stdout",
     "output_type": "stream",
     "text": [
      "[87, 201, 1798, 813, 123, 2934, 1756, 231, 1053, 4600]\n"
     ]
    },
    {
     "name": "stderr",
     "output_type": "stream",
     "text": [
      "INFO:root: \n",
      "Avg Training Stats after 11 global rounds:\n",
      "INFO:root:Train Accuracy: 0.00%\n",
      "INFO:root:Training Loss : 0.16884655597143317\n",
      "INFO:root:Test Accuracy: 50.69%\n",
      "INFO:root:Test Loss: 1.4058202973008156 \n",
      "\n",
      " 11%|█         | 11/100 [07:52<1:02:27, 42.10s/it]"
     ]
    },
    {
     "name": "stdout",
     "output_type": "stream",
     "text": [
      "[106, 231, 447, 796, 209, 1798, 1112, 1416, 590, 794]\n"
     ]
    },
    {
     "name": "stderr",
     "output_type": "stream",
     "text": [
      "INFO:root: \n",
      "Avg Training Stats after 12 global rounds:\n",
      "INFO:root:Train Accuracy: 0.00%\n",
      "INFO:root:Training Loss : 0.11434214670682026\n",
      "INFO:root:Test Accuracy: 52.48%\n",
      "INFO:root:Test Loss: 1.325180256664753 \n",
      "\n",
      " 12%|█▏        | 12/100 [08:28<59:16, 40.41s/it]  "
     ]
    },
    {
     "name": "stdout",
     "output_type": "stream",
     "text": [
      "[1320, 278, 862, 2274, 1798, 87, 2029, 796, 1018, 2430]\n"
     ]
    },
    {
     "name": "stderr",
     "output_type": "stream",
     "text": [
      "INFO:root: \n",
      "Avg Training Stats after 13 global rounds:\n",
      "INFO:root:Train Accuracy: 0.00%\n",
      "INFO:root:Training Loss : 0.13279306527269674\n",
      "INFO:root:Test Accuracy: 54.06%\n",
      "INFO:root:Test Loss: 1.2837372305989265 \n",
      "\n",
      " 13%|█▎        | 13/100 [09:16<1:01:57, 42.73s/it]"
     ]
    },
    {
     "name": "stdout",
     "output_type": "stream",
     "text": [
      "[4600, 2575, 590, 173, 2430, 40, 1112, 87, 231, 2195]\n"
     ]
    },
    {
     "name": "stderr",
     "output_type": "stream",
     "text": [
      "INFO:root: \n",
      "Avg Training Stats after 14 global rounds:\n",
      "INFO:root:Train Accuracy: 0.00%\n",
      "INFO:root:Training Loss : 0.1765644038099198\n",
      "INFO:root:Test Accuracy: 54.69%\n",
      "INFO:root:Test Loss: 1.2579021334648133 \n",
      "\n",
      " 14%|█▍        | 14/100 [10:07<1:04:50, 45.24s/it]"
     ]
    },
    {
     "name": "stdout",
     "output_type": "stream",
     "text": [
      "[231, 794, 1018, 1012, 15, 303, 796, 2274, 1320, 19]\n"
     ]
    },
    {
     "name": "stderr",
     "output_type": "stream",
     "text": [
      "INFO:root: \n",
      "Avg Training Stats after 15 global rounds:\n",
      "INFO:root:Train Accuracy: 0.00%\n",
      "INFO:root:Training Loss : 0.1033321398099974\n",
      "INFO:root:Test Accuracy: 54.85%\n",
      "INFO:root:Test Loss: 1.2597777500748635 \n",
      "\n",
      " 15%|█▌        | 15/100 [10:44<1:00:19, 42.58s/it]"
     ]
    },
    {
     "name": "stdout",
     "output_type": "stream",
     "text": [
      "[2195, 40, 2029, 862, 2575, 1433, 447, 19, 4600, 796]\n"
     ]
    },
    {
     "name": "stderr",
     "output_type": "stream",
     "text": [
      "INFO:root: \n",
      "Avg Training Stats after 16 global rounds:\n",
      "INFO:root:Train Accuracy: 0.00%\n",
      "INFO:root:Training Loss : 0.12122955992853783\n",
      "INFO:root:Test Accuracy: 56.37%\n",
      "INFO:root:Test Loss: 1.2252837008237838 \n",
      "\n",
      " 16%|█▌        | 16/100 [11:36<1:03:48, 45.57s/it]"
     ]
    },
    {
     "name": "stdout",
     "output_type": "stream",
     "text": [
      "[231, 173, 303, 2274, 796, 116, 1798, 447, 106, 1433]\n"
     ]
    },
    {
     "name": "stderr",
     "output_type": "stream",
     "text": [
      "INFO:root: \n",
      "Avg Training Stats after 17 global rounds:\n",
      "INFO:root:Train Accuracy: 0.00%\n",
      "INFO:root:Training Loss : 0.10600820515476254\n",
      "INFO:root:Test Accuracy: 55.85%\n",
      "INFO:root:Test Loss: 1.2517913734912873 \n",
      "\n",
      " 17%|█▋        | 17/100 [12:13<59:28, 42.99s/it]  "
     ]
    },
    {
     "name": "stdout",
     "output_type": "stream",
     "text": [
      "[201, 1756, 796, 1320, 813, 542, 116, 173, 794, 1798]\n"
     ]
    },
    {
     "name": "stderr",
     "output_type": "stream",
     "text": [
      "INFO:root: \n",
      "Avg Training Stats after 18 global rounds:\n",
      "INFO:root:Train Accuracy: 0.00%\n",
      "INFO:root:Training Loss : 0.14952779959311616\n",
      "INFO:root:Test Accuracy: 55.28%\n",
      "INFO:root:Test Loss: 1.2881842601299285 \n",
      "\n",
      " 18%|█▊        | 18/100 [12:52<56:49, 41.58s/it]"
     ]
    },
    {
     "name": "stdout",
     "output_type": "stream",
     "text": [
      "[15, 1780, 19, 744, 2575, 173, 813, 40, 1320, 422]\n"
     ]
    },
    {
     "name": "stderr",
     "output_type": "stream",
     "text": [
      "INFO:root: \n",
      "Avg Training Stats after 19 global rounds:\n",
      "INFO:root:Train Accuracy: 0.00%\n",
      "INFO:root:Training Loss : 0.15138884385783052\n",
      "INFO:root:Test Accuracy: 56.28%\n",
      "INFO:root:Test Loss: 1.2512925589084625 \n",
      "\n",
      " 19%|█▉        | 19/100 [13:28<54:09, 40.12s/it]"
     ]
    },
    {
     "name": "stdout",
     "output_type": "stream",
     "text": [
      "[813, 1736, 15, 1433, 267, 470, 3195, 744, 2575, 231]\n"
     ]
    },
    {
     "name": "stderr",
     "output_type": "stream",
     "text": [
      "INFO:root: \n",
      "Avg Training Stats after 20 global rounds:\n",
      "INFO:root:Train Accuracy: 0.00%\n",
      "INFO:root:Training Loss : 0.11271882814027563\n",
      "INFO:root:Test Accuracy: 56.39%\n",
      "INFO:root:Test Loss: 1.2813321447372437 \n",
      "\n",
      " 20%|██        | 20/100 [14:14<55:31, 41.64s/it]"
     ]
    },
    {
     "name": "stdout",
     "output_type": "stream",
     "text": [
      "[278, 744, 1053, 447, 1320, 116, 1798, 19, 4600, 3195]\n"
     ]
    },
    {
     "name": "stderr",
     "output_type": "stream",
     "text": [
      "INFO:root: \n",
      "Avg Training Stats after 21 global rounds:\n",
      "INFO:root:Train Accuracy: 0.00%\n",
      "INFO:root:Training Loss : 0.14555926956009596\n",
      "INFO:root:Test Accuracy: 57.73%\n",
      "INFO:root:Test Loss: 1.2429613879323005 \n",
      "\n",
      " 21%|██        | 21/100 [15:03<57:57, 44.02s/it]"
     ]
    },
    {
     "name": "stdout",
     "output_type": "stream",
     "text": [
      "[813, 2029, 602, 590, 1756, 106, 1780, 40, 19, 2934]\n"
     ]
    },
    {
     "name": "stderr",
     "output_type": "stream",
     "text": [
      "INFO:root: \n",
      "Avg Training Stats after 22 global rounds:\n",
      "INFO:root:Train Accuracy: 0.00%\n",
      "INFO:root:Training Loss : 0.07468771476531252\n",
      "INFO:root:Test Accuracy: 59.93%\n",
      "INFO:root:Test Loss: 1.1765549671649933 \n",
      "\n",
      " 22%|██▏       | 22/100 [15:46<56:49, 43.71s/it]"
     ]
    },
    {
     "name": "stdout",
     "output_type": "stream",
     "text": [
      "[40, 862, 327, 1780, 2274, 106, 1053, 1112, 1012, 3195]\n"
     ]
    },
    {
     "name": "stderr",
     "output_type": "stream",
     "text": [
      "INFO:root: \n",
      "Avg Training Stats after 23 global rounds:\n",
      "INFO:root:Train Accuracy: 0.00%\n",
      "INFO:root:Training Loss : 0.14973926731217807\n",
      "INFO:root:Test Accuracy: 60.75%\n",
      "INFO:root:Test Loss: 1.158578293323517 \n",
      "\n",
      " 23%|██▎       | 23/100 [16:32<56:53, 44.33s/it]"
     ]
    },
    {
     "name": "stdout",
     "output_type": "stream",
     "text": [
      "[1320, 1119, 862, 744, 1053, 87, 201, 470, 2274, 1012]\n"
     ]
    },
    {
     "name": "stderr",
     "output_type": "stream",
     "text": [
      "INFO:root: \n",
      "Avg Training Stats after 24 global rounds:\n",
      "INFO:root:Train Accuracy: 0.00%\n",
      "INFO:root:Training Loss : 0.1265184062171792\n",
      "INFO:root:Test Accuracy: 60.82%\n",
      "INFO:root:Test Loss: 1.1905665630102158 \n",
      "\n",
      " 24%|██▍       | 24/100 [17:12<54:31, 43.04s/it]"
     ]
    },
    {
     "name": "stdout",
     "output_type": "stream",
     "text": [
      "[447, 286, 1416, 87, 796, 1798, 231, 1119, 431, 2195]\n"
     ]
    },
    {
     "name": "stderr",
     "output_type": "stream",
     "text": [
      "INFO:root: \n",
      "Avg Training Stats after 25 global rounds:\n",
      "INFO:root:Train Accuracy: 0.00%\n",
      "INFO:root:Training Loss : 0.16380575805088657\n",
      "INFO:root:Test Accuracy: 60.86%\n",
      "INFO:root:Test Loss: 1.1850681963562966 \n",
      "\n",
      " 25%|██▌       | 25/100 [17:51<52:22, 41.90s/it]"
     ]
    },
    {
     "name": "stdout",
     "output_type": "stream",
     "text": [
      "[116, 2029, 690, 1416, 1780, 602, 2575, 1756, 431, 87]\n"
     ]
    },
    {
     "name": "stderr",
     "output_type": "stream",
     "text": [
      "INFO:root: \n",
      "Avg Training Stats after 26 global rounds:\n",
      "INFO:root:Train Accuracy: 0.00%\n",
      "INFO:root:Training Loss : 0.17595911486855165\n",
      "INFO:root:Test Accuracy: 60.57%\n",
      "INFO:root:Test Loss: 1.1666371124982833 \n",
      "\n",
      " 26%|██▌       | 26/100 [18:36<52:54, 42.90s/it]"
     ]
    },
    {
     "name": "stdout",
     "output_type": "stream",
     "text": [
      "[87, 173, 2029, 19, 4600, 2195, 116, 303, 40, 209]\n"
     ]
    },
    {
     "name": "stderr",
     "output_type": "stream",
     "text": [
      "INFO:root: \n",
      "Avg Training Stats after 27 global rounds:\n",
      "INFO:root:Train Accuracy: 0.00%\n",
      "INFO:root:Training Loss : 0.16789856890851812\n",
      "INFO:root:Test Accuracy: 60.83%\n",
      "INFO:root:Test Loss: 1.1236093121767043 \n",
      "\n",
      " 27%|██▋       | 27/100 [19:17<51:30, 42.34s/it]"
     ]
    },
    {
     "name": "stdout",
     "output_type": "stream",
     "text": [
      "[4600, 267, 794, 231, 201, 231, 2934, 590, 470, 173]\n"
     ]
    },
    {
     "name": "stderr",
     "output_type": "stream",
     "text": [
      "INFO:root: \n",
      "Avg Training Stats after 28 global rounds:\n",
      "INFO:root:Train Accuracy: 0.00%\n",
      "INFO:root:Training Loss : 0.15912015115965203\n",
      "INFO:root:Test Accuracy: 59.30%\n",
      "INFO:root:Test Loss: 1.1729972037672995 \n",
      "\n",
      " 28%|██▊       | 28/100 [20:01<51:05, 42.57s/it]"
     ]
    },
    {
     "name": "stdout",
     "output_type": "stream",
     "text": [
      "[1798, 286, 123, 1112, 303, 796, 744, 1320, 231, 794]\n"
     ]
    },
    {
     "name": "stderr",
     "output_type": "stream",
     "text": [
      "INFO:root: \n",
      "Avg Training Stats after 29 global rounds:\n",
      "INFO:root:Train Accuracy: 0.00%\n",
      "INFO:root:Training Loss : 0.06396853589298901\n",
      "INFO:root:Test Accuracy: 57.17%\n",
      "INFO:root:Test Loss: 1.239895204603672 \n",
      "\n",
      " 29%|██▉       | 29/100 [20:37<48:12, 40.74s/it]"
     ]
    },
    {
     "name": "stdout",
     "output_type": "stream",
     "text": [
      "[303, 4600, 1119, 447, 744, 40, 1756, 2430, 2029, 602]\n"
     ]
    },
    {
     "name": "stderr",
     "output_type": "stream",
     "text": [
      "INFO:root: \n",
      "Avg Training Stats after 30 global rounds:\n",
      "INFO:root:Train Accuracy: 0.00%\n",
      "INFO:root:Training Loss : 0.06935165206718452\n",
      "INFO:root:Test Accuracy: 57.71%\n",
      "INFO:root:Test Loss: 1.254463845193386 \n",
      "\n",
      " 30%|███       | 30/100 [21:28<51:03, 43.77s/it]"
     ]
    },
    {
     "name": "stdout",
     "output_type": "stream",
     "text": [
      "[422, 3195, 1112, 327, 123, 1736, 303, 286, 106, 1433]\n"
     ]
    },
    {
     "name": "stderr",
     "output_type": "stream",
     "text": [
      "INFO:root: \n",
      "Avg Training Stats after 31 global rounds:\n",
      "INFO:root:Train Accuracy: 0.00%\n",
      "INFO:root:Training Loss : 0.11575356840581033\n",
      "INFO:root:Test Accuracy: 57.57%\n",
      "INFO:root:Test Loss: 1.3287202176451682 \n",
      "\n",
      " 31%|███       | 31/100 [22:08<49:04, 42.67s/it]"
     ]
    },
    {
     "name": "stdout",
     "output_type": "stream",
     "text": [
      "[862, 173, 422, 303, 123, 1012, 542, 278, 431, 2195]\n"
     ]
    },
    {
     "name": "stderr",
     "output_type": "stream",
     "text": [
      "INFO:root: \n",
      "Avg Training Stats after 32 global rounds:\n",
      "INFO:root:Train Accuracy: 0.00%\n",
      "INFO:root:Training Loss : 0.20325696665944243\n",
      "INFO:root:Test Accuracy: 59.07%\n",
      "INFO:root:Test Loss: 1.2947650220990181 \n",
      "\n",
      " 32%|███▏      | 32/100 [22:42<45:25, 40.08s/it]"
     ]
    },
    {
     "name": "stdout",
     "output_type": "stream",
     "text": [
      "[1320, 15, 19, 1756, 231, 470, 267, 87, 862, 327]\n"
     ]
    },
    {
     "name": "stderr",
     "output_type": "stream",
     "text": [
      "INFO:root: \n",
      "Avg Training Stats after 33 global rounds:\n",
      "INFO:root:Train Accuracy: 0.00%\n",
      "INFO:root:Training Loss : 0.17123755976732374\n",
      "INFO:root:Test Accuracy: 59.96%\n",
      "INFO:root:Test Loss: 1.221981291770935 \n",
      "\n",
      " 33%|███▎      | 33/100 [23:13<41:41, 37.34s/it]"
     ]
    },
    {
     "name": "stdout",
     "output_type": "stream",
     "text": [
      "[87, 267, 796, 1053, 1433, 2575, 1119, 794, 15, 327]\n"
     ]
    },
    {
     "name": "stderr",
     "output_type": "stream",
     "text": [
      "INFO:root: \n",
      "Avg Training Stats after 34 global rounds:\n",
      "INFO:root:Train Accuracy: 0.00%\n",
      "INFO:root:Training Loss : 0.12886022927987126\n",
      "INFO:root:Test Accuracy: 58.95%\n",
      "INFO:root:Test Loss: 1.2249628734588622 \n",
      "\n",
      " 34%|███▍      | 34/100 [23:51<41:21, 37.60s/it]"
     ]
    },
    {
     "name": "stdout",
     "output_type": "stream",
     "text": [
      "[422, 1798, 590, 796, 19, 1320, 173, 1416, 1053, 4600]\n"
     ]
    },
    {
     "name": "stderr",
     "output_type": "stream",
     "text": [
      "INFO:root: \n",
      "Avg Training Stats after 35 global rounds:\n",
      "INFO:root:Train Accuracy: 0.00%\n",
      "INFO:root:Training Loss : 0.14674982294460479\n",
      "INFO:root:Test Accuracy: 60.71%\n",
      "INFO:root:Test Loss: 1.1656812828779222 \n",
      "\n",
      " 35%|███▌      | 35/100 [24:38<43:38, 40.29s/it]"
     ]
    },
    {
     "name": "stdout",
     "output_type": "stream",
     "text": [
      "[2430, 1320, 602, 3195, 231, 2934, 431, 794, 1416, 542]\n"
     ]
    },
    {
     "name": "stderr",
     "output_type": "stream",
     "text": [
      "INFO:root: \n",
      "Avg Training Stats after 36 global rounds:\n",
      "INFO:root:Train Accuracy: 0.00%\n",
      "INFO:root:Training Loss : 0.12074984191944746\n",
      "INFO:root:Test Accuracy: 60.74%\n",
      "INFO:root:Test Loss: 1.2207272544503212 \n",
      "\n",
      " 36%|███▌      | 36/100 [25:28<46:19, 43.44s/it]"
     ]
    },
    {
     "name": "stdout",
     "output_type": "stream",
     "text": [
      "[15, 813, 1112, 123, 40, 796, 2274, 1018, 2195, 201]\n"
     ]
    },
    {
     "name": "stderr",
     "output_type": "stream",
     "text": [
      "INFO:root: \n",
      "Avg Training Stats after 37 global rounds:\n",
      "INFO:root:Train Accuracy: 0.00%\n",
      "INFO:root:Training Loss : 0.09912816572202453\n",
      "INFO:root:Test Accuracy: 61.26%\n",
      "INFO:root:Test Loss: 1.1877996146678924 \n",
      "\n",
      " 37%|███▋      | 37/100 [26:07<44:03, 41.96s/it]"
     ]
    },
    {
     "name": "stdout",
     "output_type": "stream",
     "text": [
      "[303, 2195, 422, 1112, 1433, 116, 796, 602, 1756, 231]\n"
     ]
    },
    {
     "name": "stderr",
     "output_type": "stream",
     "text": [
      "INFO:root: \n",
      "Avg Training Stats after 38 global rounds:\n",
      "INFO:root:Train Accuracy: 0.00%\n",
      "INFO:root:Training Loss : 0.12343224015214824\n",
      "INFO:root:Test Accuracy: 62.75%\n",
      "INFO:root:Test Loss: 1.1300337532162665 \n",
      "\n",
      " 38%|███▊      | 38/100 [26:47<42:41, 41.31s/it]"
     ]
    },
    {
     "name": "stdout",
     "output_type": "stream",
     "text": [
      "[1756, 231, 267, 2430, 590, 1736, 15, 4600, 327, 1112]\n"
     ]
    },
    {
     "name": "stderr",
     "output_type": "stream",
     "text": [
      "INFO:root: \n",
      "Avg Training Stats after 39 global rounds:\n",
      "INFO:root:Train Accuracy: 0.00%\n",
      "INFO:root:Training Loss : 0.10966420278236151\n",
      "INFO:root:Test Accuracy: 64.01%\n",
      "INFO:root:Test Loss: 1.1104351055622101 \n",
      "\n",
      " 39%|███▉      | 39/100 [27:36<44:27, 43.72s/it]"
     ]
    },
    {
     "name": "stdout",
     "output_type": "stream",
     "text": [
      "[2575, 422, 3195, 862, 231, 796, 2934, 123, 2430, 794]\n"
     ]
    },
    {
     "name": "stderr",
     "output_type": "stream",
     "text": [
      "INFO:root: \n",
      "Avg Training Stats after 40 global rounds:\n",
      "INFO:root:Train Accuracy: 0.00%\n",
      "INFO:root:Training Loss : 0.10888573429719883\n",
      "INFO:root:Test Accuracy: 64.24%\n",
      "INFO:root:Test Loss: 1.1309599095582963 \n",
      "\n",
      " 40%|████      | 40/100 [28:28<46:12, 46.20s/it]"
     ]
    },
    {
     "name": "stdout",
     "output_type": "stream",
     "text": [
      "[231, 1119, 1736, 278, 447, 1018, 286, 744, 690, 173]\n"
     ]
    },
    {
     "name": "stderr",
     "output_type": "stream",
     "text": [
      "INFO:root: \n",
      "Avg Training Stats after 41 global rounds:\n",
      "INFO:root:Train Accuracy: 0.00%\n",
      "INFO:root:Training Loss : 0.12379852610617847\n",
      "INFO:root:Test Accuracy: 63.67%\n",
      "INFO:root:Test Loss: 1.177210626900196 \n",
      "\n",
      " 41%|████      | 41/100 [29:03<41:58, 42.68s/it]"
     ]
    },
    {
     "name": "stdout",
     "output_type": "stream",
     "text": [
      "[231, 1320, 1416, 2575, 2274, 862, 690, 602, 1012, 173]\n"
     ]
    },
    {
     "name": "stderr",
     "output_type": "stream",
     "text": [
      "INFO:root: \n",
      "Avg Training Stats after 42 global rounds:\n",
      "INFO:root:Train Accuracy: 0.00%\n",
      "INFO:root:Training Loss : 0.12760974184591167\n",
      "INFO:root:Test Accuracy: 63.88%\n",
      "INFO:root:Test Loss: 1.152636260688305 \n",
      "\n",
      " 42%|████▏     | 42/100 [29:47<41:47, 43.24s/it]"
     ]
    },
    {
     "name": "stdout",
     "output_type": "stream",
     "text": [
      "[1112, 1053, 3195, 2934, 2029, 201, 123, 2195, 1018, 173]\n"
     ]
    },
    {
     "name": "stderr",
     "output_type": "stream",
     "text": [
      "INFO:root: \n",
      "Avg Training Stats after 43 global rounds:\n",
      "INFO:root:Train Accuracy: 0.00%\n",
      "INFO:root:Training Loss : 0.15094501993529863\n",
      "INFO:root:Test Accuracy: 64.16%\n",
      "INFO:root:Test Loss: 1.0991371142864228 \n",
      "\n",
      " 43%|████▎     | 43/100 [30:38<43:17, 45.58s/it]"
     ]
    },
    {
     "name": "stdout",
     "output_type": "stream",
     "text": [
      "[862, 1053, 422, 3195, 4600, 794, 1756, 173, 2029, 1018]\n"
     ]
    },
    {
     "name": "stderr",
     "output_type": "stream",
     "text": [
      "INFO:root: \n",
      "Avg Training Stats after 44 global rounds:\n",
      "INFO:root:Train Accuracy: 0.00%\n",
      "INFO:root:Training Loss : 0.13299975758502058\n",
      "INFO:root:Test Accuracy: 63.74%\n",
      "INFO:root:Test Loss: 1.1352037400007249 \n",
      "\n",
      " 44%|████▍     | 44/100 [31:33<45:12, 48.43s/it]"
     ]
    },
    {
     "name": "stdout",
     "output_type": "stream",
     "text": [
      "[1320, 2934, 796, 2195, 862, 2575, 2029, 19, 422, 286]\n"
     ]
    },
    {
     "name": "stderr",
     "output_type": "stream",
     "text": [
      "INFO:root: \n",
      "Avg Training Stats after 45 global rounds:\n",
      "INFO:root:Train Accuracy: 0.00%\n",
      "INFO:root:Training Loss : 0.08723549229759223\n",
      "INFO:root:Test Accuracy: 63.16%\n",
      "INFO:root:Test Loss: 1.1572457388043405 \n",
      "\n",
      " 45%|████▌     | 45/100 [32:23<44:40, 48.73s/it]"
     ]
    },
    {
     "name": "stdout",
     "output_type": "stream",
     "text": [
      "[862, 744, 1416, 1112, 590, 542, 278, 690, 116, 1780]\n"
     ]
    },
    {
     "name": "stderr",
     "output_type": "stream",
     "text": [
      "INFO:root: \n",
      "Avg Training Stats after 46 global rounds:\n",
      "INFO:root:Train Accuracy: 0.00%\n",
      "INFO:root:Training Loss : 0.16310037908485434\n",
      "INFO:root:Test Accuracy: 64.67%\n",
      "INFO:root:Test Loss: 1.0890969049930572 \n",
      "\n",
      " 46%|████▌     | 46/100 [33:00<40:54, 45.45s/it]"
     ]
    },
    {
     "name": "stdout",
     "output_type": "stream",
     "text": [
      "[2575, 1112, 1320, 231, 3195, 1012, 862, 447, 2195, 201]\n"
     ]
    },
    {
     "name": "stderr",
     "output_type": "stream",
     "text": [
      "INFO:root: \n",
      "Avg Training Stats after 47 global rounds:\n",
      "INFO:root:Train Accuracy: 0.00%\n",
      "INFO:root:Training Loss : 0.07112755501583623\n",
      "INFO:root:Test Accuracy: 64.60%\n",
      "INFO:root:Test Loss: 1.1154407915472984 \n",
      "\n",
      " 47%|████▋     | 47/100 [33:49<40:56, 46.34s/it]"
     ]
    },
    {
     "name": "stdout",
     "output_type": "stream",
     "text": [
      "[1433, 542, 813, 231, 1119, 2029, 1012, 173, 2195, 1320]\n"
     ]
    },
    {
     "name": "stderr",
     "output_type": "stream",
     "text": [
      "INFO:root: \n",
      "Avg Training Stats after 48 global rounds:\n",
      "INFO:root:Train Accuracy: 0.00%\n",
      "INFO:root:Training Loss : 0.08310575249287194\n",
      "INFO:root:Test Accuracy: 63.76%\n",
      "INFO:root:Test Loss: 1.1839661502838135 \n",
      "\n",
      " 48%|████▊     | 48/100 [34:33<39:32, 45.62s/it]"
     ]
    },
    {
     "name": "stdout",
     "output_type": "stream",
     "text": [
      "[744, 2195, 209, 1780, 2575, 123, 327, 40, 1736, 690]\n"
     ]
    },
    {
     "name": "stderr",
     "output_type": "stream",
     "text": [
      "INFO:root: \n",
      "Avg Training Stats after 49 global rounds:\n",
      "INFO:root:Train Accuracy: 0.00%\n",
      "INFO:root:Training Loss : 0.15006204062415238\n",
      "INFO:root:Test Accuracy: 63.77%\n",
      "INFO:root:Test Loss: 1.172910090982914 \n",
      "\n",
      " 49%|████▉     | 49/100 [35:16<38:03, 44.77s/it]"
     ]
    },
    {
     "name": "stdout",
     "output_type": "stream",
     "text": [
      "[862, 690, 1433, 173, 3195, 2934, 116, 447, 231, 431]\n"
     ]
    },
    {
     "name": "stderr",
     "output_type": "stream",
     "text": [
      "INFO:root: \n",
      "Avg Training Stats after 50 global rounds:\n",
      "INFO:root:Train Accuracy: 0.00%\n",
      "INFO:root:Training Loss : 0.13545917613233752\n",
      "INFO:root:Test Accuracy: 63.06%\n",
      "INFO:root:Test Loss: 1.1645611280202866 \n",
      "\n",
      " 50%|█████     | 50/100 [35:59<36:57, 44.35s/it]"
     ]
    },
    {
     "name": "stdout",
     "output_type": "stream",
     "text": [
      "[1320, 19, 3195, 87, 1756, 303, 813, 2575, 231, 231]\n"
     ]
    },
    {
     "name": "stderr",
     "output_type": "stream",
     "text": [
      "INFO:root: \n",
      "Avg Training Stats after 51 global rounds:\n",
      "INFO:root:Train Accuracy: 0.00%\n",
      "INFO:root:Training Loss : 0.03439004800132287\n",
      "INFO:root:Test Accuracy: 61.50%\n",
      "INFO:root:Test Loss: 1.2201520791649818 \n",
      "\n",
      " 51%|█████     | 51/100 [36:42<35:48, 43.85s/it]"
     ]
    },
    {
     "name": "stdout",
     "output_type": "stream",
     "text": [
      "[40, 813, 1780, 2934, 15, 173, 278, 19, 1798, 267]\n"
     ]
    },
    {
     "name": "stderr",
     "output_type": "stream",
     "text": [
      "INFO:root: \n",
      "Avg Training Stats after 52 global rounds:\n",
      "INFO:root:Train Accuracy: 0.00%\n",
      "INFO:root:Training Loss : 0.0992693802203619\n",
      "INFO:root:Test Accuracy: 63.89%\n",
      "INFO:root:Test Loss: 1.1323586246371269 \n",
      "\n",
      " 52%|█████▏    | 52/100 [37:19<33:31, 41.90s/it]"
     ]
    },
    {
     "name": "stdout",
     "output_type": "stream",
     "text": [
      "[267, 231, 690, 173, 1780, 1053, 862, 590, 1433, 303]\n"
     ]
    },
    {
     "name": "stderr",
     "output_type": "stream",
     "text": [
      "INFO:root: \n",
      "Avg Training Stats after 53 global rounds:\n",
      "INFO:root:Train Accuracy: 0.00%\n",
      "INFO:root:Training Loss : 0.13005835609781047\n",
      "INFO:root:Test Accuracy: 64.12%\n",
      "INFO:root:Test Loss: 1.1495389501750468 \n",
      "\n",
      " 53%|█████▎    | 53/100 [37:55<31:31, 40.25s/it]"
     ]
    },
    {
     "name": "stdout",
     "output_type": "stream",
     "text": [
      "[431, 3195, 201, 796, 2934, 15, 231, 1112, 1736, 267]\n"
     ]
    },
    {
     "name": "stderr",
     "output_type": "stream",
     "text": [
      "INFO:root: \n",
      "Avg Training Stats after 54 global rounds:\n",
      "INFO:root:Train Accuracy: 0.00%\n",
      "INFO:root:Training Loss : 0.10001531312312258\n",
      "INFO:root:Test Accuracy: 63.46%\n",
      "INFO:root:Test Loss: 1.1952722330391408 \n",
      "\n",
      " 54%|█████▍    | 54/100 [38:39<31:39, 41.30s/it]"
     ]
    },
    {
     "name": "stdout",
     "output_type": "stream",
     "text": [
      "[40, 1320, 1416, 286, 2195, 1012, 201, 116, 1053, 542]\n"
     ]
    },
    {
     "name": "stderr",
     "output_type": "stream",
     "text": [
      "INFO:root: \n",
      "Avg Training Stats after 55 global rounds:\n",
      "INFO:root:Train Accuracy: 0.00%\n",
      "INFO:root:Training Loss : 0.12734711584364344\n",
      "INFO:root:Test Accuracy: 63.92%\n",
      "INFO:root:Test Loss: 1.1715058919787407 \n",
      "\n",
      " 55%|█████▌    | 55/100 [39:17<30:07, 40.17s/it]"
     ]
    },
    {
     "name": "stdout",
     "output_type": "stream",
     "text": [
      "[1798, 422, 231, 4600, 231, 2575, 1433, 106, 1320, 862]\n"
     ]
    },
    {
     "name": "stderr",
     "output_type": "stream",
     "text": [
      "INFO:root: \n",
      "Avg Training Stats after 56 global rounds:\n",
      "INFO:root:Train Accuracy: 0.00%\n",
      "INFO:root:Training Loss : 0.06574569667816339\n",
      "INFO:root:Test Accuracy: 65.27%\n",
      "INFO:root:Test Loss: 1.1346898728609085 \n",
      "\n",
      " 56%|█████▌    | 56/100 [40:07<31:39, 43.16s/it]"
     ]
    },
    {
     "name": "stdout",
     "output_type": "stream",
     "text": [
      "[2274, 3195, 267, 2029, 590, 327, 2195, 278, 1756, 813]\n"
     ]
    },
    {
     "name": "stderr",
     "output_type": "stream",
     "text": [
      "INFO:root: \n",
      "Avg Training Stats after 57 global rounds:\n",
      "INFO:root:Train Accuracy: 0.00%\n",
      "INFO:root:Training Loss : 0.08950918482607703\n",
      "INFO:root:Test Accuracy: 66.44%\n",
      "INFO:root:Test Loss: 1.1072890824079513 \n",
      "\n",
      " 57%|█████▋    | 57/100 [40:57<32:26, 45.28s/it]"
     ]
    },
    {
     "name": "stdout",
     "output_type": "stream",
     "text": [
      "[1798, 431, 123, 1320, 1416, 231, 2575, 2934, 19, 1756]\n"
     ]
    },
    {
     "name": "stderr",
     "output_type": "stream",
     "text": [
      "INFO:root: \n",
      "Avg Training Stats after 58 global rounds:\n",
      "INFO:root:Train Accuracy: 0.00%\n",
      "INFO:root:Training Loss : 0.08285640641272687\n",
      "INFO:root:Test Accuracy: 65.08%\n",
      "INFO:root:Test Loss: 1.1673302486538888 \n",
      "\n",
      " 58%|█████▊    | 58/100 [41:44<32:08, 45.92s/it]"
     ]
    },
    {
     "name": "stdout",
     "output_type": "stream",
     "text": [
      "[1018, 267, 2274, 447, 2029, 690, 590, 303, 1119, 796]\n"
     ]
    },
    {
     "name": "stderr",
     "output_type": "stream",
     "text": [
      "INFO:root: \n",
      "Avg Training Stats after 59 global rounds:\n",
      "INFO:root:Train Accuracy: 0.00%\n",
      "INFO:root:Training Loss : 0.06053444894858608\n",
      "INFO:root:Test Accuracy: 62.38%\n",
      "INFO:root:Test Loss: 1.3052075237035752 \n",
      "\n",
      " 59%|█████▉    | 59/100 [42:25<30:21, 44.43s/it]"
     ]
    },
    {
     "name": "stdout",
     "output_type": "stream",
     "text": [
      "[106, 2430, 447, 1433, 1012, 3195, 1119, 1756, 862, 4600]\n"
     ]
    },
    {
     "name": "stderr",
     "output_type": "stream",
     "text": [
      "INFO:root: \n",
      "Avg Training Stats after 60 global rounds:\n",
      "INFO:root:Train Accuracy: 0.00%\n",
      "INFO:root:Training Loss : 0.035432612869244845\n",
      "INFO:root:Test Accuracy: 62.90%\n",
      "INFO:root:Test Loss: 1.2927275997400285 \n",
      "\n",
      " 60%|██████    | 60/100 [43:23<32:09, 48.23s/it]"
     ]
    },
    {
     "name": "stdout",
     "output_type": "stream",
     "text": [
      "[1780, 1320, 286, 2029, 40, 796, 447, 15, 231, 744]\n"
     ]
    },
    {
     "name": "stderr",
     "output_type": "stream",
     "text": [
      "INFO:root: \n",
      "Avg Training Stats after 61 global rounds:\n",
      "INFO:root:Train Accuracy: 0.00%\n",
      "INFO:root:Training Loss : 0.05727444900099249\n",
      "INFO:root:Test Accuracy: 65.08%\n",
      "INFO:root:Test Loss: 1.1776242892444133 \n",
      "\n",
      " 61%|██████    | 61/100 [43:59<29:06, 44.77s/it]"
     ]
    },
    {
     "name": "stdout",
     "output_type": "stream",
     "text": [
      "[116, 15, 2029, 327, 19, 470, 422, 87, 1012, 303]\n"
     ]
    },
    {
     "name": "stderr",
     "output_type": "stream",
     "text": [
      "INFO:root: \n",
      "Avg Training Stats after 62 global rounds:\n",
      "INFO:root:Train Accuracy: 0.00%\n",
      "INFO:root:Training Loss : 0.09813996948317724\n",
      "INFO:root:Test Accuracy: 64.85%\n",
      "INFO:root:Test Loss: 1.1740633168816565 \n",
      "\n",
      " 62%|██████▏   | 62/100 [44:29<25:30, 40.28s/it]"
     ]
    },
    {
     "name": "stdout",
     "output_type": "stream",
     "text": [
      "[796, 2274, 862, 286, 813, 3195, 1112, 422, 1119, 327]\n"
     ]
    },
    {
     "name": "stderr",
     "output_type": "stream",
     "text": [
      "INFO:root: \n",
      "Avg Training Stats after 63 global rounds:\n",
      "INFO:root:Train Accuracy: 0.00%\n",
      "INFO:root:Training Loss : 0.08000298633953114\n",
      "INFO:root:Test Accuracy: 64.38%\n",
      "INFO:root:Test Loss: 1.194736902564764 \n",
      "\n",
      " 63%|██████▎   | 63/100 [45:13<25:36, 41.52s/it]"
     ]
    },
    {
     "name": "stdout",
     "output_type": "stream",
     "text": [
      "[542, 1798, 690, 15, 267, 2575, 796, 590, 209, 470]\n"
     ]
    },
    {
     "name": "stderr",
     "output_type": "stream",
     "text": [
      "INFO:root: \n",
      "Avg Training Stats after 64 global rounds:\n",
      "INFO:root:Train Accuracy: 0.00%\n",
      "INFO:root:Training Loss : 0.08752116210946462\n",
      "INFO:root:Test Accuracy: 64.61%\n",
      "INFO:root:Test Loss: 1.1798248186707496 \n",
      "\n",
      " 64%|██████▍   | 64/100 [45:51<24:09, 40.28s/it]"
     ]
    },
    {
     "name": "stdout",
     "output_type": "stream",
     "text": [
      "[87, 267, 286, 1053, 303, 796, 40, 173, 19, 327]\n"
     ]
    },
    {
     "name": "stderr",
     "output_type": "stream",
     "text": [
      "INFO:root: \n",
      "Avg Training Stats after 65 global rounds:\n",
      "INFO:root:Train Accuracy: 0.00%\n",
      "INFO:root:Training Loss : 0.11805067714770642\n",
      "INFO:root:Test Accuracy: 65.18%\n",
      "INFO:root:Test Loss: 1.1438142803311349 \n",
      "\n",
      " 65%|██████▌   | 65/100 [46:18<21:09, 36.28s/it]"
     ]
    },
    {
     "name": "stdout",
     "output_type": "stream",
     "text": [
      "[813, 542, 106, 123, 4600, 40, 209, 2029, 1736, 2195]\n"
     ]
    },
    {
     "name": "stderr",
     "output_type": "stream",
     "text": [
      "INFO:root: \n",
      "Avg Training Stats after 66 global rounds:\n",
      "INFO:root:Train Accuracy: 0.00%\n",
      "INFO:root:Training Loss : 0.08507053448214755\n",
      "INFO:root:Test Accuracy: 65.46%\n",
      "INFO:root:Test Loss: 1.1433639135956764 \n",
      "\n",
      " 66%|██████▌   | 66/100 [47:05<22:22, 39.49s/it]"
     ]
    },
    {
     "name": "stdout",
     "output_type": "stream",
     "text": [
      "[1416, 1320, 201, 744, 2934, 447, 278, 2430, 1018, 2274]\n"
     ]
    },
    {
     "name": "stderr",
     "output_type": "stream",
     "text": [
      "INFO:root: \n",
      "Avg Training Stats after 67 global rounds:\n",
      "INFO:root:Train Accuracy: 0.00%\n",
      "INFO:root:Training Loss : 0.08079275977715775\n",
      "INFO:root:Test Accuracy: 65.22%\n",
      "INFO:root:Test Loss: 1.1528028216958046 \n",
      "\n",
      " 67%|██████▋   | 67/100 [47:54<23:16, 42.31s/it]"
     ]
    },
    {
     "name": "stdout",
     "output_type": "stream",
     "text": [
      "[303, 1012, 470, 123, 106, 201, 87, 1736, 2934, 2575]\n"
     ]
    },
    {
     "name": "stderr",
     "output_type": "stream",
     "text": [
      "INFO:root: \n",
      "Avg Training Stats after 68 global rounds:\n",
      "INFO:root:Train Accuracy: 0.00%\n",
      "INFO:root:Training Loss : 0.04484266943406792\n",
      "INFO:root:Test Accuracy: 63.73%\n",
      "INFO:root:Test Loss: 1.2264559698104858 \n",
      "\n",
      " 68%|██████▊   | 68/100 [48:34<22:19, 41.86s/it]"
     ]
    },
    {
     "name": "stdout",
     "output_type": "stream",
     "text": [
      "[3195, 794, 690, 2029, 231, 1756, 1112, 1736, 201, 813]\n"
     ]
    },
    {
     "name": "stderr",
     "output_type": "stream",
     "text": [
      "INFO:root: \n",
      "Avg Training Stats after 69 global rounds:\n",
      "INFO:root:Train Accuracy: 0.00%\n",
      "INFO:root:Training Loss : 0.04869092683526606\n",
      "INFO:root:Test Accuracy: 63.39%\n",
      "INFO:root:Test Loss: 1.2450215694308282 \n",
      "\n",
      " 69%|██████▉   | 69/100 [49:22<22:31, 43.59s/it]"
     ]
    },
    {
     "name": "stdout",
     "output_type": "stream",
     "text": [
      "[106, 40, 278, 422, 470, 2029, 2934, 744, 2274, 327]\n"
     ]
    },
    {
     "name": "stderr",
     "output_type": "stream",
     "text": [
      "INFO:root: \n",
      "Avg Training Stats after 70 global rounds:\n",
      "INFO:root:Train Accuracy: 0.00%\n",
      "INFO:root:Training Loss : 0.07455848687134173\n",
      "INFO:root:Test Accuracy: 63.11%\n",
      "INFO:root:Test Loss: 1.283041695356369 \n",
      "\n",
      " 70%|███████   | 70/100 [50:03<21:27, 42.91s/it]"
     ]
    },
    {
     "name": "stdout",
     "output_type": "stream",
     "text": [
      "[3195, 267, 303, 173, 286, 2029, 422, 1012, 796, 106]\n"
     ]
    },
    {
     "name": "stderr",
     "output_type": "stream",
     "text": [
      "INFO:root: \n",
      "Avg Training Stats after 71 global rounds:\n",
      "INFO:root:Train Accuracy: 0.00%\n",
      "INFO:root:Training Loss : 0.08256976569564943\n",
      "INFO:root:Test Accuracy: 62.30%\n",
      "INFO:root:Test Loss: 1.3089935487508775 \n",
      "\n",
      " 71%|███████   | 71/100 [50:42<20:08, 41.66s/it]"
     ]
    },
    {
     "name": "stdout",
     "output_type": "stream",
     "text": [
      "[209, 40, 4600, 106, 123, 1012, 690, 542, 602, 2575]\n"
     ]
    },
    {
     "name": "stderr",
     "output_type": "stream",
     "text": [
      "INFO:root: \n",
      "Avg Training Stats after 72 global rounds:\n",
      "INFO:root:Train Accuracy: 0.00%\n",
      "INFO:root:Training Loss : 0.07227586936906902\n",
      "INFO:root:Test Accuracy: 63.67%\n",
      "INFO:root:Test Loss: 1.2522257143259048 \n",
      "\n",
      " 72%|███████▏  | 72/100 [51:25<19:34, 41.96s/it]"
     ]
    },
    {
     "name": "stdout",
     "output_type": "stream",
     "text": [
      "[1012, 2430, 2274, 209, 1798, 303, 1112, 231, 744, 278]\n"
     ]
    },
    {
     "name": "stderr",
     "output_type": "stream",
     "text": [
      "INFO:root: \n",
      "Avg Training Stats after 73 global rounds:\n",
      "INFO:root:Train Accuracy: 0.00%\n",
      "INFO:root:Training Loss : 0.057067207600290396\n",
      "INFO:root:Test Accuracy: 64.47%\n",
      "INFO:root:Test Loss: 1.2254519766569139 \n",
      "\n",
      " 73%|███████▎  | 73/100 [52:08<19:02, 42.32s/it]"
     ]
    },
    {
     "name": "stdout",
     "output_type": "stream",
     "text": [
      "[447, 1320, 209, 327, 744, 1018, 231, 2430, 590, 602]\n"
     ]
    },
    {
     "name": "stderr",
     "output_type": "stream",
     "text": [
      "INFO:root: \n",
      "Avg Training Stats after 74 global rounds:\n",
      "INFO:root:Train Accuracy: 0.00%\n",
      "INFO:root:Training Loss : 0.09448156628508314\n",
      "INFO:root:Test Accuracy: 65.58%\n",
      "INFO:root:Test Loss: 1.1887890860438346 \n",
      "\n",
      " 74%|███████▍  | 74/100 [52:45<17:41, 40.83s/it]"
     ]
    },
    {
     "name": "stdout",
     "output_type": "stream",
     "text": [
      "[470, 1053, 303, 1012, 106, 3195, 447, 1112, 201, 1433]\n"
     ]
    },
    {
     "name": "stderr",
     "output_type": "stream",
     "text": [
      "INFO:root: \n",
      "Avg Training Stats after 75 global rounds:\n",
      "INFO:root:Train Accuracy: 0.00%\n",
      "INFO:root:Training Loss : 0.03441087890710924\n",
      "INFO:root:Test Accuracy: 65.32%\n",
      "INFO:root:Test Loss: 1.1897717157006265 \n",
      "\n",
      " 75%|███████▌  | 75/100 [53:26<16:58, 40.72s/it]"
     ]
    },
    {
     "name": "stdout",
     "output_type": "stream",
     "text": [
      "[231, 1433, 431, 209, 1416, 1780, 116, 123, 422, 4600]\n"
     ]
    },
    {
     "name": "stderr",
     "output_type": "stream",
     "text": [
      "INFO:root: \n",
      "Avg Training Stats after 76 global rounds:\n",
      "INFO:root:Train Accuracy: 0.00%\n",
      "INFO:root:Training Loss : 0.13825938290234147\n",
      "INFO:root:Test Accuracy: 66.64%\n",
      "INFO:root:Test Loss: 1.1361831891536713 \n",
      "\n",
      " 76%|███████▌  | 76/100 [54:10<16:39, 41.65s/it]"
     ]
    },
    {
     "name": "stdout",
     "output_type": "stream",
     "text": [
      "[2575, 796, 1053, 267, 602, 1018, 201, 1756, 286, 2430]\n"
     ]
    },
    {
     "name": "stderr",
     "output_type": "stream",
     "text": [
      "INFO:root: \n",
      "Avg Training Stats after 77 global rounds:\n",
      "INFO:root:Train Accuracy: 0.00%\n",
      "INFO:root:Training Loss : 0.06963475849232388\n",
      "INFO:root:Test Accuracy: 67.36%\n",
      "INFO:root:Test Loss: 1.1128114867210388 \n",
      "\n",
      " 77%|███████▋  | 77/100 [54:54<16:15, 42.40s/it]"
     ]
    },
    {
     "name": "stdout",
     "output_type": "stream",
     "text": [
      "[15, 2029, 2274, 744, 1018, 1736, 2934, 19, 173, 447]\n"
     ]
    },
    {
     "name": "stderr",
     "output_type": "stream",
     "text": [
      "INFO:root: \n",
      "Avg Training Stats after 78 global rounds:\n",
      "INFO:root:Train Accuracy: 0.00%\n",
      "INFO:root:Training Loss : 0.07450387196406416\n",
      "INFO:root:Test Accuracy: 67.09%\n",
      "INFO:root:Test Loss: 1.1264829584956169 \n",
      "\n",
      " 78%|███████▊  | 78/100 [55:38<15:47, 43.07s/it]"
     ]
    },
    {
     "name": "stdout",
     "output_type": "stream",
     "text": [
      "[542, 602, 173, 201, 590, 690, 422, 2934, 1736, 744]\n"
     ]
    },
    {
     "name": "stderr",
     "output_type": "stream",
     "text": [
      "INFO:root: \n",
      "Avg Training Stats after 79 global rounds:\n",
      "INFO:root:Train Accuracy: 0.00%\n",
      "INFO:root:Training Loss : 0.11173746212934814\n",
      "INFO:root:Test Accuracy: 66.71%\n",
      "INFO:root:Test Loss: 1.1516112101078033 \n",
      "\n",
      " 79%|███████▉  | 79/100 [56:18<14:41, 41.98s/it]"
     ]
    },
    {
     "name": "stdout",
     "output_type": "stream",
     "text": [
      "[201, 278, 40, 1112, 106, 690, 2029, 87, 796, 3195]\n"
     ]
    },
    {
     "name": "stderr",
     "output_type": "stream",
     "text": [
      "INFO:root: \n",
      "Avg Training Stats after 80 global rounds:\n",
      "INFO:root:Train Accuracy: 0.00%\n",
      "INFO:root:Training Loss : 0.032077583686087124\n",
      "INFO:root:Test Accuracy: 66.66%\n",
      "INFO:root:Test Loss: 1.1455524918437003 \n",
      "\n",
      " 80%|████████  | 80/100 [56:56<13:38, 40.93s/it]"
     ]
    },
    {
     "name": "stdout",
     "output_type": "stream",
     "text": [
      "[1798, 15, 201, 123, 1433, 542, 1119, 690, 602, 40]\n"
     ]
    },
    {
     "name": "stderr",
     "output_type": "stream",
     "text": [
      "INFO:root: \n",
      "Avg Training Stats after 81 global rounds:\n",
      "INFO:root:Train Accuracy: 0.00%\n",
      "INFO:root:Training Loss : 0.06015869599934853\n",
      "INFO:root:Test Accuracy: 65.43%\n",
      "INFO:root:Test Loss: 1.2084506885707378 \n",
      "\n",
      " 81%|████████  | 81/100 [57:30<12:16, 38.77s/it]"
     ]
    },
    {
     "name": "stdout",
     "output_type": "stream",
     "text": [
      "[267, 542, 209, 796, 87, 3195, 231, 303, 2934, 1119]\n"
     ]
    },
    {
     "name": "stderr",
     "output_type": "stream",
     "text": [
      "INFO:root: \n",
      "Avg Training Stats after 82 global rounds:\n",
      "INFO:root:Train Accuracy: 0.00%\n",
      "INFO:root:Training Loss : 0.06518836650596993\n",
      "INFO:root:Test Accuracy: 66.39%\n",
      "INFO:root:Test Loss: 1.1676281902194023 \n",
      "\n",
      " 82%|████████▏ | 82/100 [58:11<11:52, 39.58s/it]"
     ]
    },
    {
     "name": "stdout",
     "output_type": "stream",
     "text": [
      "[690, 431, 422, 231, 4600, 2934, 2029, 327, 796, 590]\n"
     ]
    },
    {
     "name": "stderr",
     "output_type": "stream",
     "text": [
      "INFO:root: \n",
      "Avg Training Stats after 83 global rounds:\n",
      "INFO:root:Train Accuracy: 0.00%\n",
      "INFO:root:Training Loss : 0.07593654724587884\n",
      "INFO:root:Test Accuracy: 68.96%\n",
      "INFO:root:Test Loss: 1.0777557849884034 \n",
      "\n",
      " 83%|████████▎ | 83/100 [59:00<11:59, 42.34s/it]"
     ]
    },
    {
     "name": "stdout",
     "output_type": "stream",
     "text": [
      "[231, 1112, 87, 303, 690, 796, 2195, 813, 327, 1018]\n"
     ]
    },
    {
     "name": "stderr",
     "output_type": "stream",
     "text": [
      "INFO:root: \n",
      "Avg Training Stats after 84 global rounds:\n",
      "INFO:root:Train Accuracy: 0.00%\n",
      "INFO:root:Training Loss : 0.06507244641625962\n",
      "INFO:root:Test Accuracy: 68.12%\n",
      "INFO:root:Test Loss: 1.1124520960450173 \n",
      "\n",
      " 84%|████████▍ | 84/100 [59:37<10:48, 40.55s/it]"
     ]
    },
    {
     "name": "stdout",
     "output_type": "stream",
     "text": [
      "[602, 1018, 542, 106, 794, 447, 2029, 1433, 327, 690]\n"
     ]
    },
    {
     "name": "stderr",
     "output_type": "stream",
     "text": [
      "INFO:root: \n",
      "Avg Training Stats after 85 global rounds:\n",
      "INFO:root:Train Accuracy: 0.00%\n",
      "INFO:root:Training Loss : 0.06827439910197622\n",
      "INFO:root:Test Accuracy: 66.69%\n",
      "INFO:root:Test Loss: 1.1525898936390877 \n",
      "\n",
      " 85%|████████▌ | 85/100 [1:00:14<09:55, 39.71s/it]"
     ]
    },
    {
     "name": "stdout",
     "output_type": "stream",
     "text": [
      "[1433, 267, 447, 1012, 470, 201, 231, 15, 278, 1736]\n"
     ]
    },
    {
     "name": "stderr",
     "output_type": "stream",
     "text": [
      "INFO:root: \n",
      "Avg Training Stats after 86 global rounds:\n",
      "INFO:root:Train Accuracy: 0.00%\n",
      "INFO:root:Training Loss : 0.06558964623298837\n",
      "INFO:root:Test Accuracy: 65.87%\n",
      "INFO:root:Test Loss: 1.1642169810831546 \n",
      "\n",
      " 86%|████████▌ | 86/100 [1:00:47<08:48, 37.72s/it]"
     ]
    },
    {
     "name": "stdout",
     "output_type": "stream",
     "text": [
      "[40, 1053, 231, 286, 106, 2274, 470, 1119, 447, 1416]\n"
     ]
    },
    {
     "name": "stderr",
     "output_type": "stream",
     "text": [
      "INFO:root: \n",
      "Avg Training Stats after 87 global rounds:\n",
      "INFO:root:Train Accuracy: 0.00%\n",
      "INFO:root:Training Loss : 0.05845207713488926\n",
      "INFO:root:Test Accuracy: 66.16%\n",
      "INFO:root:Test Loss: 1.1665236511826516 \n",
      "\n",
      " 87%|████████▋ | 87/100 [1:01:24<08:04, 37.27s/it]"
     ]
    },
    {
     "name": "stdout",
     "output_type": "stream",
     "text": [
      "[209, 2029, 231, 278, 1320, 862, 2195, 690, 1736, 106]\n"
     ]
    },
    {
     "name": "stderr",
     "output_type": "stream",
     "text": [
      "INFO:root: \n",
      "Avg Training Stats after 88 global rounds:\n",
      "INFO:root:Train Accuracy: 0.00%\n",
      "INFO:root:Training Loss : 0.06274878842108647\n",
      "INFO:root:Test Accuracy: 67.19%\n",
      "INFO:root:Test Loss: 1.1242522820830345 \n",
      "\n",
      " 88%|████████▊ | 88/100 [1:02:05<07:42, 38.50s/it]"
     ]
    },
    {
     "name": "stdout",
     "output_type": "stream",
     "text": [
      "[2430, 201, 2195, 2575, 123, 602, 116, 794, 4600, 690]\n"
     ]
    },
    {
     "name": "stderr",
     "output_type": "stream",
     "text": [
      "INFO:root: \n",
      "Avg Training Stats after 89 global rounds:\n",
      "INFO:root:Train Accuracy: 0.00%\n",
      "INFO:root:Training Loss : 0.08108492072389126\n",
      "INFO:root:Test Accuracy: 68.01%\n",
      "INFO:root:Test Loss: 1.1201710620522498 \n",
      "\n",
      " 89%|████████▉ | 89/100 [1:02:56<07:45, 42.28s/it]"
     ]
    },
    {
     "name": "stdout",
     "output_type": "stream",
     "text": [
      "[470, 303, 278, 87, 1119, 2274, 1780, 19, 4600, 602]\n"
     ]
    },
    {
     "name": "stderr",
     "output_type": "stream",
     "text": [
      "INFO:root: \n",
      "Avg Training Stats after 90 global rounds:\n",
      "INFO:root:Train Accuracy: 0.00%\n",
      "INFO:root:Training Loss : 0.031116244564563623\n",
      "INFO:root:Test Accuracy: 67.52%\n",
      "INFO:root:Test Loss: 1.2180111879110336 \n",
      "\n",
      " 90%|█████████ | 90/100 [1:03:41<07:11, 43.10s/it]"
     ]
    },
    {
     "name": "stdout",
     "output_type": "stream",
     "text": [
      "[2575, 602, 2029, 327, 209, 4600, 2274, 1756, 431, 1112]\n"
     ]
    },
    {
     "name": "stderr",
     "output_type": "stream",
     "text": [
      "INFO:root: \n",
      "Avg Training Stats after 91 global rounds:\n",
      "INFO:root:Train Accuracy: 0.00%\n",
      "INFO:root:Training Loss : 0.0637946616482005\n",
      "INFO:root:Test Accuracy: 65.79%\n",
      "INFO:root:Test Loss: 1.3585641711950303 \n",
      "\n",
      " 91%|█████████ | 91/100 [1:04:37<07:01, 46.80s/it]"
     ]
    },
    {
     "name": "stdout",
     "output_type": "stream",
     "text": [
      "[2195, 267, 813, 286, 3195, 470, 231, 278, 1012, 231]\n"
     ]
    },
    {
     "name": "stderr",
     "output_type": "stream",
     "text": [
      "INFO:root: \n",
      "Avg Training Stats after 92 global rounds:\n",
      "INFO:root:Train Accuracy: 0.00%\n",
      "INFO:root:Training Loss : 0.06130340855790957\n",
      "INFO:root:Test Accuracy: 65.50%\n",
      "INFO:root:Test Loss: 1.3574992015957832 \n",
      "\n",
      " 92%|█████████▏| 92/100 [1:05:16<05:57, 44.63s/it]"
     ]
    },
    {
     "name": "stdout",
     "output_type": "stream",
     "text": [
      "[1053, 2575, 303, 2430, 542, 116, 1756, 1433, 327, 15]\n"
     ]
    },
    {
     "name": "stderr",
     "output_type": "stream",
     "text": [
      "INFO:root: \n",
      "Avg Training Stats after 93 global rounds:\n",
      "INFO:root:Train Accuracy: 0.00%\n",
      "INFO:root:Training Loss : 0.09467308752399653\n",
      "INFO:root:Test Accuracy: 65.56%\n",
      "INFO:root:Test Loss: 1.3919495192170144 \n",
      "\n",
      " 93%|█████████▎| 93/100 [1:05:59<05:08, 44.14s/it]"
     ]
    },
    {
     "name": "stdout",
     "output_type": "stream",
     "text": [
      "[590, 4600, 201, 286, 303, 1736, 15, 1798, 744, 422]\n"
     ]
    },
    {
     "name": "stderr",
     "output_type": "stream",
     "text": [
      "INFO:root: \n",
      "Avg Training Stats after 94 global rounds:\n",
      "INFO:root:Train Accuracy: 0.00%\n",
      "INFO:root:Training Loss : 0.054080589701853456\n",
      "INFO:root:Test Accuracy: 67.23%\n",
      "INFO:root:Test Loss: 1.263602093011141 \n",
      "\n",
      " 94%|█████████▍| 94/100 [1:06:42<04:22, 43.82s/it]"
     ]
    },
    {
     "name": "stdout",
     "output_type": "stream",
     "text": [
      "[123, 862, 542, 19, 794, 1112, 4600, 2934, 231, 15]\n"
     ]
    },
    {
     "name": "stderr",
     "output_type": "stream",
     "text": [
      "INFO:root: \n",
      "Avg Training Stats after 95 global rounds:\n",
      "INFO:root:Train Accuracy: 0.00%\n",
      "INFO:root:Training Loss : 0.07244350877032087\n",
      "INFO:root:Test Accuracy: 67.26%\n",
      "INFO:root:Test Loss: 1.1968825928866864 \n",
      "\n",
      " 95%|█████████▌| 95/100 [1:07:26<03:39, 43.91s/it]"
     ]
    },
    {
     "name": "stdout",
     "output_type": "stream",
     "text": [
      "[1053, 87, 2575, 4600, 542, 231, 1433, 1012, 2029, 862]\n"
     ]
    },
    {
     "name": "stderr",
     "output_type": "stream",
     "text": [
      "INFO:root: \n",
      "Avg Training Stats after 96 global rounds:\n",
      "INFO:root:Train Accuracy: 0.00%\n",
      "INFO:root:Training Loss : 0.04431040385200637\n",
      "INFO:root:Test Accuracy: 65.75%\n",
      "INFO:root:Test Loss: 1.2525305554270745 \n",
      "\n",
      " 96%|█████████▌| 96/100 [1:08:18<03:05, 46.28s/it]"
     ]
    },
    {
     "name": "stdout",
     "output_type": "stream",
     "text": [
      "[19, 602, 40, 690, 267, 231, 173, 2029, 1798, 3195]\n"
     ]
    },
    {
     "name": "stderr",
     "output_type": "stream",
     "text": [
      "INFO:root: \n",
      "Avg Training Stats after 97 global rounds:\n",
      "INFO:root:Train Accuracy: 0.00%\n",
      "INFO:root:Training Loss : 0.07831759977639087\n",
      "INFO:root:Test Accuracy: 65.25%\n",
      "INFO:root:Test Loss: 1.2870939090847968 \n",
      "\n",
      " 97%|█████████▋| 97/100 [1:08:58<02:12, 44.24s/it]"
     ]
    },
    {
     "name": "stdout",
     "output_type": "stream",
     "text": [
      "[209, 1012, 422, 40, 794, 4600, 116, 286, 303, 1756]\n"
     ]
    },
    {
     "name": "stderr",
     "output_type": "stream",
     "text": [
      "INFO:root: \n",
      "Avg Training Stats after 98 global rounds:\n",
      "INFO:root:Train Accuracy: 0.00%\n",
      "INFO:root:Training Loss : 0.05809411876043206\n",
      "INFO:root:Test Accuracy: 66.36%\n",
      "INFO:root:Test Loss: 1.287073428630829 \n",
      "\n",
      " 98%|█████████▊| 98/100 [1:09:38<01:26, 43.21s/it]"
     ]
    },
    {
     "name": "stdout",
     "output_type": "stream",
     "text": [
      "[2274, 1736, 173, 1416, 447, 19, 2195, 2029, 862, 744]\n"
     ]
    },
    {
     "name": "stderr",
     "output_type": "stream",
     "text": [
      "INFO:root: \n",
      "Avg Training Stats after 99 global rounds:\n",
      "INFO:root:Train Accuracy: 0.00%\n",
      "INFO:root:Training Loss : 0.09881710085138759\n",
      "INFO:root:Test Accuracy: 68.31%\n",
      "INFO:root:Test Loss: 1.163099134862423 \n",
      "\n",
      " 99%|█████████▉| 99/100 [1:10:25<00:44, 44.19s/it]"
     ]
    },
    {
     "name": "stdout",
     "output_type": "stream",
     "text": [
      "[431, 1798, 1736, 744, 19, 278, 690, 590, 116, 40]\n"
     ]
    },
    {
     "name": "stderr",
     "output_type": "stream",
     "text": [
      "INFO:root: \n",
      "Avg Training Stats after 100 global rounds:\n",
      "INFO:root:Train Accuracy: 0.00%\n",
      "INFO:root:Training Loss : 0.060249522194395146\n",
      "INFO:root:Test Accuracy: 68.19%\n",
      "INFO:root:Test Loss: 1.158707759231329 \n",
      "\n",
      "100%|██████████| 100/100 [1:10:58<00:00, 42.59s/it]\n",
      "INFO:root: \n",
      " Results after 100 global rounds of training:\n",
      "INFO:root:|---- Best Test Accuracy: 68.96% , round: 82\n"
     ]
    },
    {
     "name": "stdout",
     "output_type": "stream",
     "text": [
      " Saving checkpoints to ../save/checkpoint/ConvNet_1223/cifar10_ConvNet_groupnorm_T[100]_C[0.2]_iid[0]_E[10]_B[32]_GPU[0]_Pruned[0.0]...\n"
     ]
    }
   ],
   "source": [
    " args = easydict.EasyDict({\n",
    "    \"model\": 'ConvNet',\n",
    "    'dataset': 'cifar10',\n",
    "    'gpu': 0,\n",
    "    'iid': 0,\n",
    "    'epochs': 100,\n",
    "    'optimizer': 'sgd',\n",
    "    'seed': 0,\n",
    "    'norm': 'groupnorm',\n",
    "    'num_users': 50,\n",
    "    'frac': 0.2,\n",
    "    'local_ep': 10, \n",
    "    'local_bs': 32,\n",
    "    'lr': 0.01,\n",
    "    'momentum': 1,\n",
    "    'kernel_num': 9,\n",
    "    'kernel_sizes': 'no_centering',\n",
    "    'num_channnels': '1',\n",
    "    'num_filters': 32,\n",
    "    'max_pool': 'True',\n",
    "    'num_classes': 10,\n",
    "    'unequal': 0,\n",
    "    'stopping_rounds': 0,\n",
    "    'verbose': 0,\n",
    "    'hold_normalize': 0,\n",
    "    'save_path': '../save/checkpoint',\n",
    "    'exp_folder': 'ConvNet_1223',\n",
    "    'resume': None,\n",
    "    'server_opt': 'sgdm',\n",
    "    'server_lr': 1.0,\n",
    "    'client_decay':0,\n",
    "    'local_decay':0,\n",
    "    'alpha': 0.05,\n",
    "    'server_epoch':0,\n",
    "    'cosine_norm':0, \n",
    "    'only_fc' :0 ,\n",
    "    'loss':'bsm',\n",
    "    'dc_lr':0.0,\n",
    "    'tsne_pred':0,\n",
    "    'pruning': 0.0 })\n",
    "\n",
    "#zero-centering-classifier\n",
    "    \n",
    "temp = main_test(args)\n",
    "total.append(temp)"
   ]
  }
 ],
 "metadata": {
  "kernelspec": {
   "display_name": "federeated_learning",
   "language": "python",
   "name": "fedml"
  },
  "language_info": {
   "codemirror_mode": {
    "name": "ipython",
    "version": 3
   },
   "file_extension": ".py",
   "mimetype": "text/x-python",
   "name": "python",
   "nbconvert_exporter": "python",
   "pygments_lexer": "ipython3",
   "version": "3.7.4"
  }
 },
 "nbformat": 4,
 "nbformat_minor": 5
}
