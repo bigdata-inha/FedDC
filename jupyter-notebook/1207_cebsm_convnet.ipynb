{
 "cells": [
  {
   "cell_type": "code",
   "execution_count": 1,
   "id": "european-wilson",
   "metadata": {},
   "outputs": [],
   "source": [
    "import matplotlib.pyplot as plt\n",
    "%matplotlib inline\n",
    "import matplotlib.style as style\n",
    "import os\n",
    "os.chdir('../')\n",
    "style.use('seaborn')\n",
    "import numpy as np\n",
    "import warnings\n",
    "warnings.filterwarnings('ignore')\n",
    "import easydict\n",
    "from test_imagenet import main_test\n",
    "total = []\n",
    "import torch\n"
   ]
  },
  {
   "cell_type": "code",
   "execution_count": 2,
   "id": "ordinary-citation",
   "metadata": {},
   "outputs": [
    {
     "name": "stderr",
     "output_type": "stream",
     "text": [
      "INFO:root:{'model': 'ConvNet', 'dataset': 'cifar10', 'gpu': 0, 'iid': 0, 'epochs': 100, 'optimizer': 'sgd', 'seed': 0, 'norm': 'none', 'num_users': 50, 'frac': 0.2, 'local_ep': 10, 'local_bs': 32, 'lr': 0.01, 'momentum': 1, 'kernel_num': 9, 'kernel_sizes': 'only_momentum', 'num_channnels': '1', 'num_filters': 32, 'max_pool': 'True', 'num_classes': 10, 'unequal': 0, 'stopping_rounds': 0, 'verbose': 0, 'hold_normalize': 0, 'save_path': '../save/checkpoint/ConvNet_1207', 'exp_folder': 'ConvNet_1207', 'resume': None, 'server_opt': 'sgd', 'server_lr': 1.0, 'client_decay': 0, 'local_decay': 0, 'alpha': 0.05, 'server_epoch': 0, 'cosine_norm': 0, 'only_fc': 0, 'loss': 'ce', 'dc_lr': 0.0, 'tsne_pred': 0, 'pruning': 0.0}\n"
     ]
    },
    {
     "name": "stdout",
     "output_type": "stream",
     "text": [
      "Files already downloaded and verified\n",
      "Files already downloaded and verified\n",
      "Files already downloaded and verified\n"
     ]
    },
    {
     "name": "stderr",
     "output_type": "stream",
     "text": [
      "INFO:root:ConvNet(\n",
      "  (net_act): ReLU(inplace=True)\n",
      "  (net_pooling): MaxPool2d(kernel_size=2, stride=2, padding=0, dilation=1, ceil_mode=False)\n",
      "  (features): Sequential(\n",
      "    (0): Conv2d(3, 128, kernel_size=(3, 3), stride=(1, 1), padding=(1, 1))\n",
      "    (1): ReLU(inplace=True)\n",
      "    (2): MaxPool2d(kernel_size=2, stride=2, padding=0, dilation=1, ceil_mode=False)\n",
      "    (3): Conv2d(128, 128, kernel_size=(3, 3), stride=(1, 1), padding=(1, 1))\n",
      "    (4): ReLU(inplace=True)\n",
      "    (5): MaxPool2d(kernel_size=2, stride=2, padding=0, dilation=1, ceil_mode=False)\n",
      "    (6): Conv2d(128, 128, kernel_size=(3, 3), stride=(1, 1), padding=(1, 1))\n",
      "    (7): ReLU(inplace=True)\n",
      "    (8): MaxPool2d(kernel_size=2, stride=2, padding=0, dilation=1, ceil_mode=False)\n",
      "  )\n",
      "  (classifier): Linear(in_features=2048, out_features=10, bias=True)\n",
      ")\n",
      "INFO:root:None\n"
     ]
    },
    {
     "name": "stdout",
     "output_type": "stream",
     "text": [
      "----------------------------------------------------------------\n",
      "        Layer (type)               Output Shape         Param #\n",
      "================================================================\n",
      "            Conv2d-1          [-1, 128, 32, 32]           3,584\n",
      "              ReLU-2          [-1, 128, 32, 32]               0\n",
      "              ReLU-3          [-1, 128, 32, 32]               0\n",
      "         MaxPool2d-4          [-1, 128, 16, 16]               0\n",
      "         MaxPool2d-5          [-1, 128, 16, 16]               0\n",
      "            Conv2d-6          [-1, 128, 16, 16]         147,584\n",
      "              ReLU-7          [-1, 128, 16, 16]               0\n",
      "              ReLU-8          [-1, 128, 16, 16]               0\n",
      "         MaxPool2d-9            [-1, 128, 8, 8]               0\n",
      "        MaxPool2d-10            [-1, 128, 8, 8]               0\n",
      "           Conv2d-11            [-1, 128, 8, 8]         147,584\n",
      "             ReLU-12            [-1, 128, 8, 8]               0\n",
      "             ReLU-13            [-1, 128, 8, 8]               0\n",
      "        MaxPool2d-14            [-1, 128, 4, 4]               0\n",
      "        MaxPool2d-15            [-1, 128, 4, 4]               0\n",
      "           Linear-16                   [-1, 10]          20,490\n",
      "================================================================\n",
      "Total params: 319,242\n",
      "Trainable params: 319,242\n",
      "Non-trainable params: 0\n",
      "----------------------------------------------------------------\n",
      "Input size (MB): 0.01\n",
      "Forward/backward pass size (MB): 4.59\n",
      "Params size (MB): 1.22\n",
      "Estimated Total Size (MB): 5.82\n",
      "----------------------------------------------------------------\n"
     ]
    },
    {
     "name": "stderr",
     "output_type": "stream",
     "text": [
      "\r",
      "  0%|          | 0/100 [00:00<?, ?it/s]"
     ]
    },
    {
     "name": "stdout",
     "output_type": "stream",
     "text": [
      "[209, 1756, 422, 2575, 1018, 602, 2274, 447, 744, 1112, 123, 87, 1433, 1416, 40, 1119, 796, 794, 327, 470, 231, 813, 1320, 542, 690, 2195, 2934, 106, 1012, 15, 278, 1798, 303, 590, 2029, 201, 1053, 862, 231, 116, 4600, 19, 286, 1736, 2430, 431, 3195, 1780, 173, 267]\n",
      "[470, 2934, 201, 231, 2575, 744, 15, 123, 1119, 4600]\n"
     ]
    },
    {
     "name": "stderr",
     "output_type": "stream",
     "text": [
      "INFO:root: \n",
      "Avg Training Stats after 1 global rounds:\n",
      "INFO:root:Train Accuracy: 0.00%\n",
      "INFO:root:Training Loss : 0.36925601100708394\n",
      "INFO:root:Test Accuracy: 14.75%\n",
      "INFO:root:Test Loss: 2.620742518901825 \n",
      "\n",
      "  1%|          | 1/100 [00:41<1:09:16, 41.98s/it]"
     ]
    },
    {
     "name": "stdout",
     "output_type": "stream",
     "text": [
      "[231, 173, 2575, 1736, 2430, 123, 4600, 690, 1012, 447]\n"
     ]
    },
    {
     "name": "stderr",
     "output_type": "stream",
     "text": [
      "INFO:root: \n",
      "Avg Training Stats after 2 global rounds:\n",
      "INFO:root:Train Accuracy: 0.00%\n",
      "INFO:root:Training Loss : 0.4635327764951801\n",
      "INFO:root:Test Accuracy: 17.27%\n",
      "INFO:root:Test Loss: 3.147436049878597 \n",
      "\n",
      "  2%|▏         | 2/100 [01:26<1:10:46, 43.34s/it]"
     ]
    },
    {
     "name": "stdout",
     "output_type": "stream",
     "text": [
      "[744, 2575, 1320, 470, 2430, 2274, 267, 690, 209, 303]\n"
     ]
    },
    {
     "name": "stderr",
     "output_type": "stream",
     "text": [
      "INFO:root: \n",
      "Avg Training Stats after 3 global rounds:\n",
      "INFO:root:Train Accuracy: 0.00%\n",
      "INFO:root:Training Loss : 0.3517710895573066\n",
      "INFO:root:Test Accuracy: 24.69%\n",
      "INFO:root:Test Loss: 2.535020102262497 \n",
      "\n",
      "  3%|▎         | 3/100 [02:05<1:07:13, 41.58s/it]"
     ]
    },
    {
     "name": "stdout",
     "output_type": "stream",
     "text": [
      "[173, 690, 542, 1012, 2195, 1780, 1053, 87, 2934, 1736]\n"
     ]
    },
    {
     "name": "stderr",
     "output_type": "stream",
     "text": [
      "INFO:root: \n",
      "Avg Training Stats after 4 global rounds:\n",
      "INFO:root:Train Accuracy: 0.00%\n",
      "INFO:root:Training Loss : 0.5113800825005794\n",
      "INFO:root:Test Accuracy: 23.61%\n",
      "INFO:root:Test Loss: 2.159933690428734 \n",
      "\n",
      "  4%|▍         | 4/100 [02:46<1:05:49, 41.14s/it]"
     ]
    },
    {
     "name": "stdout",
     "output_type": "stream",
     "text": [
      "[2430, 2575, 1736, 123, 15, 1780, 1018, 231, 87, 794]\n"
     ]
    },
    {
     "name": "stderr",
     "output_type": "stream",
     "text": [
      "INFO:root: \n",
      "Avg Training Stats after 5 global rounds:\n",
      "INFO:root:Train Accuracy: 0.00%\n",
      "INFO:root:Training Loss : 0.37289855493141133\n",
      "INFO:root:Test Accuracy: 15.03%\n",
      "INFO:root:Test Loss: 3.235457933694124 \n",
      "\n",
      "  5%|▌         | 5/100 [03:23<1:02:56, 39.75s/it]"
     ]
    },
    {
     "name": "stdout",
     "output_type": "stream",
     "text": [
      "[1119, 87, 590, 794, 813, 303, 1320, 690, 1018, 422]\n"
     ]
    },
    {
     "name": "stderr",
     "output_type": "stream",
     "text": [
      "INFO:root: \n",
      "Avg Training Stats after 6 global rounds:\n",
      "INFO:root:Train Accuracy: 0.00%\n",
      "INFO:root:Training Loss : 0.28243901308633373\n",
      "INFO:root:Test Accuracy: 12.23%\n",
      "INFO:root:Test Loss: 3.0031427615880966 \n",
      "\n",
      "  6%|▌         | 6/100 [03:54<57:39, 36.80s/it]  "
     ]
    },
    {
     "name": "stdout",
     "output_type": "stream",
     "text": [
      "[2029, 1433, 303, 327, 744, 862, 2934, 231, 1416, 278]\n"
     ]
    },
    {
     "name": "stderr",
     "output_type": "stream",
     "text": [
      "INFO:root: \n",
      "Avg Training Stats after 7 global rounds:\n",
      "INFO:root:Train Accuracy: 0.00%\n",
      "INFO:root:Training Loss : 0.3894728651807299\n",
      "INFO:root:Test Accuracy: 22.36%\n",
      "INFO:root:Test Loss: 2.2128193324804304 \n",
      "\n",
      "  7%|▋         | 7/100 [04:31<57:06, 36.84s/it]"
     ]
    },
    {
     "name": "stdout",
     "output_type": "stream",
     "text": [
      "[231, 1112, 327, 744, 286, 422, 15, 1798, 1053, 173]\n"
     ]
    },
    {
     "name": "stderr",
     "output_type": "stream",
     "text": [
      "INFO:root: \n",
      "Avg Training Stats after 8 global rounds:\n",
      "INFO:root:Train Accuracy: 0.00%\n",
      "INFO:root:Training Loss : 0.4112846293821602\n",
      "INFO:root:Test Accuracy: 35.23%\n",
      "INFO:root:Test Loss: 1.8749980008602143 \n",
      "\n",
      "  8%|▊         | 8/100 [05:01<52:57, 34.54s/it]"
     ]
    },
    {
     "name": "stdout",
     "output_type": "stream",
     "text": [
      "[794, 278, 744, 862, 303, 19, 2274, 1053, 813, 1012]\n"
     ]
    },
    {
     "name": "stderr",
     "output_type": "stream",
     "text": [
      "INFO:root: \n",
      "Avg Training Stats after 9 global rounds:\n",
      "INFO:root:Train Accuracy: 0.00%\n",
      "INFO:root:Training Loss : 0.24982989269038014\n",
      "INFO:root:Test Accuracy: 26.35%\n",
      "INFO:root:Test Loss: 2.2587631624937057 \n",
      "\n",
      "  9%|▉         | 9/100 [05:33<51:31, 33.98s/it]"
     ]
    },
    {
     "name": "stdout",
     "output_type": "stream",
     "text": [
      "[1320, 40, 1756, 470, 327, 1012, 862, 1433, 796, 231]\n"
     ]
    },
    {
     "name": "stderr",
     "output_type": "stream",
     "text": [
      "INFO:root: \n",
      "Avg Training Stats after 10 global rounds:\n",
      "INFO:root:Train Accuracy: 0.00%\n",
      "INFO:root:Training Loss : 0.19976338111766598\n",
      "INFO:root:Test Accuracy: 23.67%\n",
      "INFO:root:Test Loss: 2.5242208087444307 \n",
      "\n",
      " 10%|█         | 10/100 [06:06<50:32, 33.70s/it]"
     ]
    },
    {
     "name": "stdout",
     "output_type": "stream",
     "text": [
      "[87, 201, 1798, 813, 123, 2934, 1756, 231, 1053, 4600]\n"
     ]
    },
    {
     "name": "stderr",
     "output_type": "stream",
     "text": [
      "INFO:root: \n",
      "Avg Training Stats after 11 global rounds:\n",
      "INFO:root:Train Accuracy: 0.00%\n",
      "INFO:root:Training Loss : 0.2869749429593689\n",
      "INFO:root:Test Accuracy: 25.98%\n",
      "INFO:root:Test Loss: 2.340527422130108 \n",
      "\n",
      " 11%|█         | 11/100 [06:49<53:52, 36.32s/it]"
     ]
    },
    {
     "name": "stdout",
     "output_type": "stream",
     "text": [
      "[106, 231, 447, 796, 209, 1798, 1112, 1416, 590, 794]\n"
     ]
    },
    {
     "name": "stderr",
     "output_type": "stream",
     "text": [
      "INFO:root: \n",
      "Avg Training Stats after 12 global rounds:\n",
      "INFO:root:Train Accuracy: 0.00%\n",
      "INFO:root:Training Loss : 0.19547116430170422\n",
      "INFO:root:Test Accuracy: 40.23%\n",
      "INFO:root:Test Loss: 1.7707045406103135 \n",
      "\n",
      " 12%|█▏        | 12/100 [07:21<51:15, 34.95s/it]"
     ]
    },
    {
     "name": "stdout",
     "output_type": "stream",
     "text": [
      "[1320, 278, 862, 2274, 1798, 87, 2029, 796, 1018, 2430]\n"
     ]
    },
    {
     "name": "stderr",
     "output_type": "stream",
     "text": [
      "INFO:root: \n",
      "Avg Training Stats after 13 global rounds:\n",
      "INFO:root:Train Accuracy: 0.00%\n",
      "INFO:root:Training Loss : 0.23043857120602737\n",
      "INFO:root:Test Accuracy: 38.97%\n",
      "INFO:root:Test Loss: 1.925299245119095 \n",
      "\n",
      " 13%|█▎        | 13/100 [08:02<53:20, 36.79s/it]"
     ]
    },
    {
     "name": "stdout",
     "output_type": "stream",
     "text": [
      "[4600, 2575, 590, 173, 2430, 40, 1112, 87, 231, 2195]\n"
     ]
    },
    {
     "name": "stderr",
     "output_type": "stream",
     "text": [
      "INFO:root: \n",
      "Avg Training Stats after 14 global rounds:\n",
      "INFO:root:Train Accuracy: 0.00%\n",
      "INFO:root:Training Loss : 0.287025198187597\n",
      "INFO:root:Test Accuracy: 36.64%\n",
      "INFO:root:Test Loss: 1.8036677399277687 \n",
      "\n",
      " 14%|█▍        | 14/100 [08:44<55:19, 38.60s/it]"
     ]
    },
    {
     "name": "stdout",
     "output_type": "stream",
     "text": [
      "[231, 794, 1018, 1012, 15, 303, 796, 2274, 1320, 19]\n"
     ]
    },
    {
     "name": "stderr",
     "output_type": "stream",
     "text": [
      "INFO:root: \n",
      "Avg Training Stats after 15 global rounds:\n",
      "INFO:root:Train Accuracy: 0.00%\n",
      "INFO:root:Training Loss : 0.24500537575231526\n",
      "INFO:root:Test Accuracy: 38.16%\n",
      "INFO:root:Test Loss: 1.8076759093999863 \n",
      "\n",
      " 15%|█▌        | 15/100 [09:16<51:54, 36.64s/it]"
     ]
    },
    {
     "name": "stdout",
     "output_type": "stream",
     "text": [
      "[2195, 40, 2029, 862, 2575, 1433, 447, 19, 4600, 796]\n"
     ]
    },
    {
     "name": "stderr",
     "output_type": "stream",
     "text": [
      "INFO:root: \n",
      "Avg Training Stats after 16 global rounds:\n",
      "INFO:root:Train Accuracy: 0.00%\n",
      "INFO:root:Training Loss : 0.23041489406730445\n",
      "INFO:root:Test Accuracy: 42.28%\n",
      "INFO:root:Test Loss: 1.7179730743169785 \n",
      "\n",
      " 16%|█▌        | 16/100 [10:01<54:49, 39.16s/it]"
     ]
    },
    {
     "name": "stdout",
     "output_type": "stream",
     "text": [
      "[231, 173, 303, 2274, 796, 116, 1798, 447, 106, 1433]\n"
     ]
    },
    {
     "name": "stderr",
     "output_type": "stream",
     "text": [
      "INFO:root: \n",
      "Avg Training Stats after 17 global rounds:\n",
      "INFO:root:Train Accuracy: 0.00%\n",
      "INFO:root:Training Loss : 0.2059971344068246\n",
      "INFO:root:Test Accuracy: 37.39%\n",
      "INFO:root:Test Loss: 1.952419430166483 \n",
      "\n",
      " 17%|█▋        | 17/100 [10:33<51:11, 37.01s/it]"
     ]
    },
    {
     "name": "stdout",
     "output_type": "stream",
     "text": [
      "[201, 1756, 796, 1320, 813, 542, 116, 173, 794, 1798]\n"
     ]
    },
    {
     "name": "stderr",
     "output_type": "stream",
     "text": [
      "INFO:root: \n",
      "Avg Training Stats after 18 global rounds:\n",
      "INFO:root:Train Accuracy: 0.00%\n",
      "INFO:root:Training Loss : 0.2772012701384309\n",
      "INFO:root:Test Accuracy: 40.37%\n",
      "INFO:root:Test Loss: 1.8664120101928712 \n",
      "\n",
      " 18%|█▊        | 18/100 [11:07<49:01, 35.87s/it]"
     ]
    },
    {
     "name": "stdout",
     "output_type": "stream",
     "text": [
      "[15, 1780, 19, 744, 2575, 173, 813, 40, 1320, 422]\n"
     ]
    },
    {
     "name": "stderr",
     "output_type": "stream",
     "text": [
      "INFO:root: \n",
      "Avg Training Stats after 19 global rounds:\n",
      "INFO:root:Train Accuracy: 0.00%\n",
      "INFO:root:Training Loss : 0.34565986099275425\n",
      "INFO:root:Test Accuracy: 22.36%\n",
      "INFO:root:Test Loss: 2.901745808273554 \n",
      "\n",
      " 19%|█▉        | 19/100 [11:39<46:59, 34.81s/it]"
     ]
    },
    {
     "name": "stdout",
     "output_type": "stream",
     "text": [
      "[813, 1736, 15, 1433, 267, 470, 3195, 744, 2575, 231]\n"
     ]
    },
    {
     "name": "stderr",
     "output_type": "stream",
     "text": [
      "INFO:root: \n",
      "Avg Training Stats after 20 global rounds:\n",
      "INFO:root:Train Accuracy: 0.00%\n",
      "INFO:root:Training Loss : 0.2550388165538365\n",
      "INFO:root:Test Accuracy: 24.70%\n",
      "INFO:root:Test Loss: 2.6047100907564165 \n",
      "\n",
      " 20%|██        | 20/100 [12:17<47:52, 35.91s/it]"
     ]
    },
    {
     "name": "stdout",
     "output_type": "stream",
     "text": [
      "[278, 744, 1053, 447, 1320, 116, 1798, 19, 4600, 3195]\n"
     ]
    },
    {
     "name": "stderr",
     "output_type": "stream",
     "text": [
      "INFO:root: \n",
      "Avg Training Stats after 21 global rounds:\n",
      "INFO:root:Train Accuracy: 0.00%\n",
      "INFO:root:Training Loss : 0.2918547033475677\n",
      "INFO:root:Test Accuracy: 29.42%\n",
      "INFO:root:Test Loss: 2.3774126908183097 \n",
      "\n",
      " 21%|██        | 21/100 [13:00<49:48, 37.82s/it]"
     ]
    },
    {
     "name": "stdout",
     "output_type": "stream",
     "text": [
      "[813, 2029, 602, 590, 1756, 106, 1780, 40, 19, 2934]\n"
     ]
    },
    {
     "name": "stderr",
     "output_type": "stream",
     "text": [
      "INFO:root: \n",
      "Avg Training Stats after 22 global rounds:\n",
      "INFO:root:Train Accuracy: 0.00%\n",
      "INFO:root:Training Loss : 0.19829352859488494\n",
      "INFO:root:Test Accuracy: 30.33%\n",
      "INFO:root:Test Loss: 1.9551631316542626 \n",
      "\n",
      " 22%|██▏       | 22/100 [13:37<48:52, 37.60s/it]"
     ]
    },
    {
     "name": "stdout",
     "output_type": "stream",
     "text": [
      "[40, 862, 327, 1780, 2274, 106, 1053, 1112, 1012, 3195]\n"
     ]
    },
    {
     "name": "stderr",
     "output_type": "stream",
     "text": [
      "INFO:root: \n",
      "Avg Training Stats after 23 global rounds:\n",
      "INFO:root:Train Accuracy: 0.00%\n",
      "INFO:root:Training Loss : 0.23470100116913833\n",
      "INFO:root:Test Accuracy: 38.73%\n",
      "INFO:root:Test Loss: 1.760395067334175 \n",
      "\n",
      " 23%|██▎       | 23/100 [14:16<48:51, 38.07s/it]"
     ]
    },
    {
     "name": "stdout",
     "output_type": "stream",
     "text": [
      "[1320, 1119, 862, 744, 1053, 87, 201, 470, 2274, 1012]\n"
     ]
    },
    {
     "name": "stderr",
     "output_type": "stream",
     "text": [
      "INFO:root: \n",
      "Avg Training Stats after 24 global rounds:\n",
      "INFO:root:Train Accuracy: 0.00%\n",
      "INFO:root:Training Loss : 0.2303768491523351\n",
      "INFO:root:Test Accuracy: 37.46%\n",
      "INFO:root:Test Loss: 1.8849558013677596 \n",
      "\n",
      " 24%|██▍       | 24/100 [14:50<46:50, 36.98s/it]"
     ]
    },
    {
     "name": "stdout",
     "output_type": "stream",
     "text": [
      "[447, 286, 1416, 87, 796, 1798, 231, 1119, 431, 2195]\n"
     ]
    },
    {
     "name": "stderr",
     "output_type": "stream",
     "text": [
      "INFO:root: \n",
      "Avg Training Stats after 25 global rounds:\n",
      "INFO:root:Train Accuracy: 0.00%\n",
      "INFO:root:Training Loss : 0.29148896409753966\n",
      "INFO:root:Test Accuracy: 35.25%\n",
      "INFO:root:Test Loss: 1.7841040778160095 \n",
      "\n",
      " 25%|██▌       | 25/100 [15:25<45:09, 36.13s/it]"
     ]
    },
    {
     "name": "stdout",
     "output_type": "stream",
     "text": [
      "[116, 2029, 690, 1416, 1780, 602, 2575, 1756, 431, 87]\n"
     ]
    },
    {
     "name": "stderr",
     "output_type": "stream",
     "text": [
      "INFO:root: \n",
      "Avg Training Stats after 26 global rounds:\n",
      "INFO:root:Train Accuracy: 0.00%\n",
      "INFO:root:Training Loss : 0.32655774293605544\n",
      "INFO:root:Test Accuracy: 40.67%\n",
      "INFO:root:Test Loss: 1.689588398039341 \n",
      "\n",
      " 26%|██▌       | 26/100 [16:03<45:23, 36.80s/it]"
     ]
    },
    {
     "name": "stdout",
     "output_type": "stream",
     "text": [
      "[87, 173, 2029, 19, 4600, 2195, 116, 303, 40, 209]\n"
     ]
    },
    {
     "name": "stderr",
     "output_type": "stream",
     "text": [
      "INFO:root: \n",
      "Avg Training Stats after 27 global rounds:\n",
      "INFO:root:Train Accuracy: 0.00%\n",
      "INFO:root:Training Loss : 0.3212886961028275\n",
      "INFO:root:Test Accuracy: 42.05%\n",
      "INFO:root:Test Loss: 1.8335862612724305 \n",
      "\n",
      " 27%|██▋       | 27/100 [16:38<44:15, 36.38s/it]"
     ]
    },
    {
     "name": "stdout",
     "output_type": "stream",
     "text": [
      "[4600, 267, 794, 231, 201, 231, 2934, 590, 470, 173]\n"
     ]
    },
    {
     "name": "stderr",
     "output_type": "stream",
     "text": [
      "INFO:root: \n",
      "Avg Training Stats after 28 global rounds:\n",
      "INFO:root:Train Accuracy: 0.00%\n",
      "INFO:root:Training Loss : 0.271352351165774\n",
      "INFO:root:Test Accuracy: 35.45%\n",
      "INFO:root:Test Loss: 1.9733746099472045 \n",
      "\n",
      " 28%|██▊       | 28/100 [17:15<43:45, 36.46s/it]"
     ]
    },
    {
     "name": "stdout",
     "output_type": "stream",
     "text": [
      "[1798, 286, 123, 1112, 303, 796, 744, 1320, 231, 794]\n"
     ]
    },
    {
     "name": "stderr",
     "output_type": "stream",
     "text": [
      "INFO:root: \n",
      "Avg Training Stats after 29 global rounds:\n",
      "INFO:root:Train Accuracy: 0.00%\n",
      "INFO:root:Training Loss : 0.13571902965080246\n",
      "INFO:root:Test Accuracy: 48.44%\n",
      "INFO:root:Test Loss: 1.4147990497946739 \n",
      "\n",
      " 29%|██▉       | 29/100 [17:47<41:24, 34.99s/it]"
     ]
    },
    {
     "name": "stdout",
     "output_type": "stream",
     "text": [
      "[303, 4600, 1119, 447, 744, 40, 1756, 2430, 2029, 602]\n"
     ]
    },
    {
     "name": "stderr",
     "output_type": "stream",
     "text": [
      "INFO:root: \n",
      "Avg Training Stats after 30 global rounds:\n",
      "INFO:root:Train Accuracy: 0.00%\n",
      "INFO:root:Training Loss : 0.1402802538543005\n",
      "INFO:root:Test Accuracy: 38.05%\n",
      "INFO:root:Test Loss: 1.825598297715187 \n",
      "\n",
      " 30%|███       | 30/100 [18:30<43:37, 37.40s/it]"
     ]
    },
    {
     "name": "stdout",
     "output_type": "stream",
     "text": [
      "[422, 3195, 1112, 327, 123, 1736, 303, 286, 106, 1433]\n"
     ]
    },
    {
     "name": "stderr",
     "output_type": "stream",
     "text": [
      "INFO:root: \n",
      "Avg Training Stats after 31 global rounds:\n",
      "INFO:root:Train Accuracy: 0.00%\n",
      "INFO:root:Training Loss : 0.19230605514227783\n",
      "INFO:root:Test Accuracy: 27.20%\n",
      "INFO:root:Test Loss: 2.6980221626907586 \n",
      "\n",
      " 31%|███       | 31/100 [19:04<42:01, 36.55s/it]"
     ]
    },
    {
     "name": "stdout",
     "output_type": "stream",
     "text": [
      "[862, 173, 422, 303, 123, 1012, 542, 278, 431, 2195]\n"
     ]
    },
    {
     "name": "stderr",
     "output_type": "stream",
     "text": [
      "INFO:root: \n",
      "Avg Training Stats after 32 global rounds:\n",
      "INFO:root:Train Accuracy: 0.00%\n",
      "INFO:root:Training Loss : 0.32424350981583955\n",
      "INFO:root:Test Accuracy: 38.48%\n",
      "INFO:root:Test Loss: 1.8279296293854714 \n",
      "\n",
      " 32%|███▏      | 32/100 [19:34<39:07, 34.52s/it]"
     ]
    },
    {
     "name": "stdout",
     "output_type": "stream",
     "text": [
      "[1320, 15, 19, 1756, 231, 470, 267, 87, 862, 327]\n"
     ]
    },
    {
     "name": "stderr",
     "output_type": "stream",
     "text": [
      "INFO:root: \n",
      "Avg Training Stats after 33 global rounds:\n",
      "INFO:root:Train Accuracy: 0.00%\n",
      "INFO:root:Training Loss : 0.3393507997319885\n",
      "INFO:root:Test Accuracy: 35.79%\n",
      "INFO:root:Test Loss: 2.0472981062531472 \n",
      "\n",
      " 33%|███▎      | 33/100 [20:02<36:16, 32.48s/it]"
     ]
    },
    {
     "name": "stdout",
     "output_type": "stream",
     "text": [
      "[87, 267, 796, 1053, 1433, 2575, 1119, 794, 15, 327]\n"
     ]
    },
    {
     "name": "stderr",
     "output_type": "stream",
     "text": [
      "INFO:root: \n",
      "Avg Training Stats after 34 global rounds:\n",
      "INFO:root:Train Accuracy: 0.00%\n",
      "INFO:root:Training Loss : 0.25856642019767284\n",
      "INFO:root:Test Accuracy: 44.35%\n",
      "INFO:root:Test Loss: 1.673928799033165 \n",
      "\n",
      " 34%|███▍      | 34/100 [20:35<36:00, 32.74s/it]"
     ]
    },
    {
     "name": "stdout",
     "output_type": "stream",
     "text": [
      "[422, 1798, 590, 796, 19, 1320, 173, 1416, 1053, 4600]\n"
     ]
    },
    {
     "name": "stderr",
     "output_type": "stream",
     "text": [
      "INFO:root: \n",
      "Avg Training Stats after 35 global rounds:\n",
      "INFO:root:Train Accuracy: 0.00%\n",
      "INFO:root:Training Loss : 0.25261127159589736\n",
      "INFO:root:Test Accuracy: 43.44%\n",
      "INFO:root:Test Loss: 1.7047881448268891 \n",
      "\n",
      " 35%|███▌      | 35/100 [21:15<37:50, 34.93s/it]"
     ]
    },
    {
     "name": "stdout",
     "output_type": "stream",
     "text": [
      "[2430, 1320, 602, 3195, 231, 2934, 431, 794, 1416, 542]\n"
     ]
    },
    {
     "name": "stderr",
     "output_type": "stream",
     "text": [
      "INFO:root: \n",
      "Avg Training Stats after 36 global rounds:\n",
      "INFO:root:Train Accuracy: 0.00%\n",
      "INFO:root:Training Loss : 0.20799551769811858\n",
      "INFO:root:Test Accuracy: 40.14%\n",
      "INFO:root:Test Loss: 1.668700061738491 \n",
      "\n",
      " 36%|███▌      | 36/100 [21:58<39:53, 37.41s/it]"
     ]
    },
    {
     "name": "stdout",
     "output_type": "stream",
     "text": [
      "[15, 813, 1112, 123, 40, 796, 2274, 1018, 2195, 201]\n"
     ]
    },
    {
     "name": "stderr",
     "output_type": "stream",
     "text": [
      "INFO:root: \n",
      "Avg Training Stats after 37 global rounds:\n",
      "INFO:root:Train Accuracy: 0.00%\n",
      "INFO:root:Training Loss : 0.19883216506191667\n",
      "INFO:root:Test Accuracy: 33.88%\n",
      "INFO:root:Test Loss: 2.129963513761759 \n",
      "\n",
      " 37%|███▋      | 37/100 [22:32<37:59, 36.18s/it]"
     ]
    },
    {
     "name": "stdout",
     "output_type": "stream",
     "text": [
      "[303, 2195, 422, 1112, 1433, 116, 796, 602, 1756, 231]\n"
     ]
    },
    {
     "name": "stderr",
     "output_type": "stream",
     "text": [
      "INFO:root: \n",
      "Avg Training Stats after 38 global rounds:\n",
      "INFO:root:Train Accuracy: 0.00%\n",
      "INFO:root:Training Loss : 0.2218600867460836\n",
      "INFO:root:Test Accuracy: 38.29%\n",
      "INFO:root:Test Loss: 1.961319040954113 \n",
      "\n",
      " 38%|███▊      | 38/100 [23:06<36:45, 35.57s/it]"
     ]
    },
    {
     "name": "stdout",
     "output_type": "stream",
     "text": [
      "[1756, 231, 267, 2430, 590, 1736, 15, 4600, 327, 1112]\n"
     ]
    },
    {
     "name": "stderr",
     "output_type": "stream",
     "text": [
      "INFO:root: \n",
      "Avg Training Stats after 39 global rounds:\n",
      "INFO:root:Train Accuracy: 0.00%\n",
      "INFO:root:Training Loss : 0.2253034032395352\n",
      "INFO:root:Test Accuracy: 37.67%\n",
      "INFO:root:Test Loss: 1.8325520627200604 \n",
      "\n",
      " 39%|███▉      | 39/100 [23:47<38:00, 37.38s/it]"
     ]
    },
    {
     "name": "stdout",
     "output_type": "stream",
     "text": [
      "[2575, 422, 3195, 862, 231, 796, 2934, 123, 2430, 794]\n"
     ]
    },
    {
     "name": "stderr",
     "output_type": "stream",
     "text": [
      "INFO:root: \n",
      "Avg Training Stats after 40 global rounds:\n",
      "INFO:root:Train Accuracy: 0.00%\n",
      "INFO:root:Training Loss : 0.19011711056994338\n",
      "INFO:root:Test Accuracy: 46.51%\n",
      "INFO:root:Test Loss: 1.3819962900876999 \n",
      "\n",
      " 40%|████      | 40/100 [24:31<39:14, 39.24s/it]"
     ]
    },
    {
     "name": "stdout",
     "output_type": "stream",
     "text": [
      "[231, 1119, 1736, 278, 447, 1018, 286, 744, 690, 173]\n"
     ]
    },
    {
     "name": "stderr",
     "output_type": "stream",
     "text": [
      "INFO:root: \n",
      "Avg Training Stats after 41 global rounds:\n",
      "INFO:root:Train Accuracy: 0.00%\n",
      "INFO:root:Training Loss : 0.22396488354250219\n",
      "INFO:root:Test Accuracy: 47.23%\n",
      "INFO:root:Test Loss: 1.4480320367217063 \n",
      "\n",
      " 41%|████      | 41/100 [25:01<35:57, 36.56s/it]"
     ]
    },
    {
     "name": "stdout",
     "output_type": "stream",
     "text": [
      "[231, 1320, 1416, 2575, 2274, 862, 690, 602, 1012, 173]\n"
     ]
    },
    {
     "name": "stderr",
     "output_type": "stream",
     "text": [
      "INFO:root: \n",
      "Avg Training Stats after 42 global rounds:\n",
      "INFO:root:Train Accuracy: 0.00%\n",
      "INFO:root:Training Loss : 0.21507584689225268\n",
      "INFO:root:Test Accuracy: 50.01%\n",
      "INFO:root:Test Loss: 1.414130793362856 \n",
      "\n",
      " 42%|████▏     | 42/100 [25:39<35:50, 37.07s/it]"
     ]
    },
    {
     "name": "stdout",
     "output_type": "stream",
     "text": [
      "[1112, 1053, 3195, 2934, 2029, 201, 123, 2195, 1018, 173]\n"
     ]
    },
    {
     "name": "stderr",
     "output_type": "stream",
     "text": [
      "INFO:root: \n",
      "Avg Training Stats after 43 global rounds:\n",
      "INFO:root:Train Accuracy: 0.00%\n",
      "INFO:root:Training Loss : 0.25140616774622865\n",
      "INFO:root:Test Accuracy: 43.03%\n",
      "INFO:root:Test Loss: 1.7470643723011017 \n",
      "\n",
      " 43%|████▎     | 43/100 [26:23<36:57, 38.91s/it]"
     ]
    },
    {
     "name": "stdout",
     "output_type": "stream",
     "text": [
      "[862, 1053, 422, 3195, 4600, 794, 1756, 173, 2029, 1018]\n"
     ]
    },
    {
     "name": "stderr",
     "output_type": "stream",
     "text": [
      "INFO:root: \n",
      "Avg Training Stats after 44 global rounds:\n",
      "INFO:root:Train Accuracy: 0.00%\n",
      "INFO:root:Training Loss : 0.24148510234392292\n",
      "INFO:root:Test Accuracy: 43.86%\n",
      "INFO:root:Test Loss: 1.70990347802639 \n",
      "\n",
      " 44%|████▍     | 44/100 [27:09<38:28, 41.22s/it]"
     ]
    },
    {
     "name": "stdout",
     "output_type": "stream",
     "text": [
      "[1320, 2934, 796, 2195, 862, 2575, 2029, 19, 422, 286]\n"
     ]
    },
    {
     "name": "stderr",
     "output_type": "stream",
     "text": [
      "INFO:root: \n",
      "Avg Training Stats after 45 global rounds:\n",
      "INFO:root:Train Accuracy: 0.00%\n",
      "INFO:root:Training Loss : 0.2019795157921629\n",
      "INFO:root:Test Accuracy: 46.32%\n",
      "INFO:root:Test Loss: 1.5453563144803046 \n",
      "\n",
      " 45%|████▌     | 45/100 [27:52<38:04, 41.54s/it]"
     ]
    },
    {
     "name": "stdout",
     "output_type": "stream",
     "text": [
      "[862, 744, 1416, 1112, 590, 542, 278, 690, 116, 1780]\n"
     ]
    },
    {
     "name": "stderr",
     "output_type": "stream",
     "text": [
      "INFO:root: \n",
      "Avg Training Stats after 46 global rounds:\n",
      "INFO:root:Train Accuracy: 0.00%\n",
      "INFO:root:Training Loss : 0.2987169426094813\n",
      "INFO:root:Test Accuracy: 45.11%\n",
      "INFO:root:Test Loss: 1.580526639819145 \n",
      "\n",
      " 46%|████▌     | 46/100 [28:24<35:00, 38.90s/it]"
     ]
    },
    {
     "name": "stdout",
     "output_type": "stream",
     "text": [
      "[2575, 1112, 1320, 231, 3195, 1012, 862, 447, 2195, 201]\n"
     ]
    },
    {
     "name": "stderr",
     "output_type": "stream",
     "text": [
      "INFO:root: \n",
      "Avg Training Stats after 47 global rounds:\n",
      "INFO:root:Train Accuracy: 0.00%\n",
      "INFO:root:Training Loss : 0.145539334682414\n",
      "INFO:root:Test Accuracy: 43.25%\n",
      "INFO:root:Test Loss: 1.617092681825161 \n",
      "\n",
      " 47%|████▋     | 47/100 [29:06<35:04, 39.71s/it]"
     ]
    },
    {
     "name": "stdout",
     "output_type": "stream",
     "text": [
      "[1433, 542, 813, 231, 1119, 2029, 1012, 173, 2195, 1320]\n"
     ]
    },
    {
     "name": "stderr",
     "output_type": "stream",
     "text": [
      "INFO:root: \n",
      "Avg Training Stats after 48 global rounds:\n",
      "INFO:root:Train Accuracy: 0.00%\n",
      "INFO:root:Training Loss : 0.1500830706059782\n",
      "INFO:root:Test Accuracy: 39.91%\n",
      "INFO:root:Test Loss: 1.9458610133081675 \n",
      "\n",
      " 48%|████▊     | 48/100 [29:44<33:53, 39.11s/it]"
     ]
    },
    {
     "name": "stdout",
     "output_type": "stream",
     "text": [
      "[744, 2195, 209, 1780, 2575, 123, 327, 40, 1736, 690]\n"
     ]
    },
    {
     "name": "stderr",
     "output_type": "stream",
     "text": [
      "INFO:root: \n",
      "Avg Training Stats after 49 global rounds:\n",
      "INFO:root:Train Accuracy: 0.00%\n",
      "INFO:root:Training Loss : 0.25726825944120374\n",
      "INFO:root:Test Accuracy: 31.74%\n",
      "INFO:root:Test Loss: 2.408445721566677 \n",
      "\n",
      " 49%|████▉     | 49/100 [30:20<32:39, 38.41s/it]"
     ]
    },
    {
     "name": "stdout",
     "output_type": "stream",
     "text": [
      "[862, 690, 1433, 173, 3195, 2934, 116, 447, 231, 431]\n"
     ]
    },
    {
     "name": "stderr",
     "output_type": "stream",
     "text": [
      "INFO:root: \n",
      "Avg Training Stats after 50 global rounds:\n",
      "INFO:root:Train Accuracy: 0.00%\n",
      "INFO:root:Training Loss : 0.2791267090383028\n",
      "INFO:root:Test Accuracy: 30.36%\n",
      "INFO:root:Test Loss: 2.2796989060938357 \n",
      "\n",
      " 50%|█████     | 50/100 [30:57<31:40, 38.01s/it]"
     ]
    },
    {
     "name": "stdout",
     "output_type": "stream",
     "text": [
      "[1320, 19, 3195, 87, 1756, 303, 813, 2575, 231, 231]\n"
     ]
    },
    {
     "name": "stderr",
     "output_type": "stream",
     "text": [
      "INFO:root: \n",
      "Avg Training Stats after 51 global rounds:\n",
      "INFO:root:Train Accuracy: 0.00%\n",
      "INFO:root:Training Loss : 0.12406634852956719\n",
      "INFO:root:Test Accuracy: 34.08%\n",
      "INFO:root:Test Loss: 2.2847104446589945 \n",
      "\n",
      " 51%|█████     | 51/100 [31:35<30:53, 37.83s/it]"
     ]
    },
    {
     "name": "stdout",
     "output_type": "stream",
     "text": [
      "[40, 813, 1780, 2934, 15, 173, 278, 19, 1798, 267]\n"
     ]
    },
    {
     "name": "stderr",
     "output_type": "stream",
     "text": [
      "INFO:root: \n",
      "Avg Training Stats after 52 global rounds:\n",
      "INFO:root:Train Accuracy: 0.00%\n",
      "INFO:root:Training Loss : 0.2562323725715754\n",
      "INFO:root:Test Accuracy: 40.86%\n",
      "INFO:root:Test Loss: 1.6047059962153434 \n",
      "\n",
      " 52%|█████▏    | 52/100 [32:08<29:00, 36.27s/it]"
     ]
    },
    {
     "name": "stdout",
     "output_type": "stream",
     "text": [
      "[267, 231, 690, 173, 1780, 1053, 862, 590, 1433, 303]\n"
     ]
    },
    {
     "name": "stderr",
     "output_type": "stream",
     "text": [
      "INFO:root: \n",
      "Avg Training Stats after 53 global rounds:\n",
      "INFO:root:Train Accuracy: 0.00%\n",
      "INFO:root:Training Loss : 0.23923737076848278\n",
      "INFO:root:Test Accuracy: 51.93%\n",
      "INFO:root:Test Loss: 1.3485612335801125 \n",
      "\n",
      " 53%|█████▎    | 53/100 [32:39<27:17, 34.84s/it]"
     ]
    },
    {
     "name": "stdout",
     "output_type": "stream",
     "text": [
      "[431, 3195, 201, 796, 2934, 15, 231, 1112, 1736, 267]\n"
     ]
    },
    {
     "name": "stderr",
     "output_type": "stream",
     "text": [
      "INFO:root: \n",
      "Avg Training Stats after 54 global rounds:\n",
      "INFO:root:Train Accuracy: 0.00%\n",
      "INFO:root:Training Loss : 0.20988692542052806\n",
      "INFO:root:Test Accuracy: 31.25%\n",
      "INFO:root:Test Loss: 2.272419657036662 \n",
      "\n",
      " 54%|█████▍    | 54/100 [33:16<27:18, 35.63s/it]"
     ]
    },
    {
     "name": "stdout",
     "output_type": "stream",
     "text": [
      "[40, 1320, 1416, 286, 2195, 1012, 201, 116, 1053, 542]\n"
     ]
    },
    {
     "name": "stderr",
     "output_type": "stream",
     "text": [
      "INFO:root: \n",
      "Avg Training Stats after 55 global rounds:\n",
      "INFO:root:Train Accuracy: 0.00%\n",
      "INFO:root:Training Loss : 0.27186932156159094\n",
      "INFO:root:Test Accuracy: 44.45%\n",
      "INFO:root:Test Loss: 1.609965454339981 \n",
      "\n",
      " 55%|█████▌    | 55/100 [33:49<26:03, 34.74s/it]"
     ]
    },
    {
     "name": "stdout",
     "output_type": "stream",
     "text": [
      "[1798, 422, 231, 4600, 231, 2575, 1433, 106, 1320, 862]\n"
     ]
    },
    {
     "name": "stderr",
     "output_type": "stream",
     "text": [
      "INFO:root: \n",
      "Avg Training Stats after 56 global rounds:\n",
      "INFO:root:Train Accuracy: 0.00%\n",
      "INFO:root:Training Loss : 0.13641710519644487\n",
      "INFO:root:Test Accuracy: 49.24%\n",
      "INFO:root:Test Loss: 1.4266250470280648 \n",
      "\n",
      " 56%|█████▌    | 56/100 [34:31<27:07, 36.98s/it]"
     ]
    },
    {
     "name": "stdout",
     "output_type": "stream",
     "text": [
      "[2274, 3195, 267, 2029, 590, 327, 2195, 278, 1756, 813]\n"
     ]
    },
    {
     "name": "stderr",
     "output_type": "stream",
     "text": [
      "INFO:root: \n",
      "Avg Training Stats after 57 global rounds:\n",
      "INFO:root:Train Accuracy: 0.00%\n",
      "INFO:root:Training Loss : 0.16648945536691886\n",
      "INFO:root:Test Accuracy: 45.49%\n",
      "INFO:root:Test Loss: 1.7090380561351777 \n",
      "\n",
      " 57%|█████▋    | 57/100 [35:14<27:39, 38.60s/it]"
     ]
    },
    {
     "name": "stdout",
     "output_type": "stream",
     "text": [
      "[1798, 431, 123, 1320, 1416, 231, 2575, 2934, 19, 1756]\n"
     ]
    },
    {
     "name": "stderr",
     "output_type": "stream",
     "text": [
      "INFO:root: \n",
      "Avg Training Stats after 58 global rounds:\n",
      "INFO:root:Train Accuracy: 0.00%\n",
      "INFO:root:Training Loss : 0.17870719525612802\n",
      "INFO:root:Test Accuracy: 49.53%\n",
      "INFO:root:Test Loss: 1.3682741010189057 \n",
      "\n",
      " 58%|█████▊    | 58/100 [35:54<27:27, 39.22s/it]"
     ]
    },
    {
     "name": "stdout",
     "output_type": "stream",
     "text": [
      "[1018, 267, 2274, 447, 2029, 690, 590, 303, 1119, 796]\n"
     ]
    },
    {
     "name": "stderr",
     "output_type": "stream",
     "text": [
      "INFO:root: \n",
      "Avg Training Stats after 59 global rounds:\n",
      "INFO:root:Train Accuracy: 0.00%\n",
      "INFO:root:Training Loss : 0.12929681871406792\n",
      "INFO:root:Test Accuracy: 46.11%\n",
      "INFO:root:Test Loss: 1.7792474530637263 \n",
      "\n",
      " 59%|█████▉    | 59/100 [36:30<25:59, 38.04s/it]"
     ]
    },
    {
     "name": "stdout",
     "output_type": "stream",
     "text": [
      "[106, 2430, 447, 1433, 1012, 3195, 1119, 1756, 862, 4600]\n",
      "0.1\n"
     ]
    },
    {
     "name": "stderr",
     "output_type": "stream",
     "text": [
      "INFO:root: \n",
      "Avg Training Stats after 60 global rounds:\n",
      "INFO:root:Train Accuracy: 0.00%\n",
      "INFO:root:Training Loss : 0.09423509183378934\n",
      "INFO:root:Test Accuracy: 48.74%\n",
      "INFO:root:Test Loss: 1.596468940973282 \n",
      "\n",
      " 60%|██████    | 60/100 [37:18<27:24, 41.11s/it]"
     ]
    },
    {
     "name": "stdout",
     "output_type": "stream",
     "text": [
      "[1780, 1320, 286, 2029, 40, 796, 447, 15, 231, 744]\n"
     ]
    },
    {
     "name": "stderr",
     "output_type": "stream",
     "text": [
      "INFO:root: \n",
      "Avg Training Stats after 61 global rounds:\n",
      "INFO:root:Train Accuracy: 0.00%\n",
      "INFO:root:Training Loss : 0.1580756431734723\n",
      "INFO:root:Test Accuracy: 48.49%\n",
      "INFO:root:Test Loss: 1.603737112134695 \n",
      "\n",
      " 61%|██████    | 61/100 [37:50<24:57, 38.39s/it]"
     ]
    },
    {
     "name": "stdout",
     "output_type": "stream",
     "text": [
      "[116, 15, 2029, 327, 19, 470, 422, 87, 1012, 303]\n"
     ]
    },
    {
     "name": "stderr",
     "output_type": "stream",
     "text": [
      "INFO:root: \n",
      "Avg Training Stats after 62 global rounds:\n",
      "INFO:root:Train Accuracy: 0.00%\n",
      "INFO:root:Training Loss : 0.24820350054970947\n",
      "INFO:root:Test Accuracy: 48.00%\n",
      "INFO:root:Test Loss: 1.6194112446904183 \n",
      "\n",
      " 62%|██████▏   | 62/100 [38:17<22:06, 34.92s/it]"
     ]
    },
    {
     "name": "stdout",
     "output_type": "stream",
     "text": [
      "[796, 2274, 862, 286, 813, 3195, 1112, 422, 1119, 327]\n"
     ]
    },
    {
     "name": "stderr",
     "output_type": "stream",
     "text": [
      "INFO:root: \n",
      "Avg Training Stats after 63 global rounds:\n",
      "INFO:root:Train Accuracy: 0.00%\n",
      "INFO:root:Training Loss : 0.1451647863992088\n",
      "INFO:root:Test Accuracy: 48.92%\n",
      "INFO:root:Test Loss: 1.5626829542219638 \n",
      "\n",
      " 63%|██████▎   | 63/100 [38:55<22:08, 35.91s/it]"
     ]
    },
    {
     "name": "stdout",
     "output_type": "stream",
     "text": [
      "[542, 1798, 690, 15, 267, 2575, 796, 590, 209, 470]\n"
     ]
    },
    {
     "name": "stderr",
     "output_type": "stream",
     "text": [
      "INFO:root: \n",
      "Avg Training Stats after 64 global rounds:\n",
      "INFO:root:Train Accuracy: 0.00%\n",
      "INFO:root:Training Loss : 0.19834405505239652\n",
      "INFO:root:Test Accuracy: 50.87%\n",
      "INFO:root:Test Loss: 1.477435800731182 \n",
      "\n",
      " 64%|██████▍   | 64/100 [39:28<20:59, 34.97s/it]"
     ]
    },
    {
     "name": "stdout",
     "output_type": "stream",
     "text": [
      "[87, 267, 286, 1053, 303, 796, 40, 173, 19, 327]\n"
     ]
    },
    {
     "name": "stderr",
     "output_type": "stream",
     "text": [
      "INFO:root: \n",
      "Avg Training Stats after 65 global rounds:\n",
      "INFO:root:Train Accuracy: 0.00%\n",
      "INFO:root:Training Loss : 0.2464682668589581\n",
      "INFO:root:Test Accuracy: 50.26%\n",
      "INFO:root:Test Loss: 1.504200037419796 \n",
      "\n",
      " 65%|██████▌   | 65/100 [39:52<18:31, 31.76s/it]"
     ]
    },
    {
     "name": "stdout",
     "output_type": "stream",
     "text": [
      "[813, 542, 106, 123, 4600, 40, 209, 2029, 1736, 2195]\n"
     ]
    },
    {
     "name": "stderr",
     "output_type": "stream",
     "text": [
      "INFO:root: \n",
      "Avg Training Stats after 66 global rounds:\n",
      "INFO:root:Train Accuracy: 0.00%\n",
      "INFO:root:Training Loss : 0.17383193850788178\n",
      "INFO:root:Test Accuracy: 51.12%\n",
      "INFO:root:Test Loss: 1.4454932580888271 \n",
      "\n",
      " 66%|██████▌   | 66/100 [40:32<19:25, 34.28s/it]"
     ]
    },
    {
     "name": "stdout",
     "output_type": "stream",
     "text": [
      "[1416, 1320, 201, 744, 2934, 447, 278, 2430, 1018, 2274]\n"
     ]
    },
    {
     "name": "stderr",
     "output_type": "stream",
     "text": [
      "INFO:root: \n",
      "Avg Training Stats after 67 global rounds:\n",
      "INFO:root:Train Accuracy: 0.00%\n",
      "INFO:root:Training Loss : 0.16990801344233938\n",
      "INFO:root:Test Accuracy: 52.63%\n",
      "INFO:root:Test Loss: 1.3820752188563348 \n",
      "\n",
      " 67%|██████▋   | 67/100 [41:14<20:04, 36.50s/it]"
     ]
    },
    {
     "name": "stdout",
     "output_type": "stream",
     "text": [
      "[303, 1012, 470, 123, 106, 201, 87, 1736, 2934, 2575]\n"
     ]
    },
    {
     "name": "stderr",
     "output_type": "stream",
     "text": [
      "INFO:root: \n",
      "Avg Training Stats after 68 global rounds:\n",
      "INFO:root:Train Accuracy: 0.00%\n",
      "INFO:root:Training Loss : 0.10821514864303002\n",
      "INFO:root:Test Accuracy: 54.16%\n",
      "INFO:root:Test Loss: 1.3132169932126998 \n",
      "\n",
      " 68%|██████▊   | 68/100 [41:49<19:17, 36.16s/it]"
     ]
    },
    {
     "name": "stdout",
     "output_type": "stream",
     "text": [
      "[3195, 794, 690, 2029, 231, 1756, 1112, 1736, 201, 813]\n"
     ]
    },
    {
     "name": "stderr",
     "output_type": "stream",
     "text": [
      "INFO:root: \n",
      "Avg Training Stats after 69 global rounds:\n",
      "INFO:root:Train Accuracy: 0.00%\n",
      "INFO:root:Training Loss : 0.11194914804679627\n",
      "INFO:root:Test Accuracy: 54.75%\n",
      "INFO:root:Test Loss: 1.2787424284219742 \n",
      "\n",
      " 69%|██████▉   | 69/100 [42:30<19:21, 37.46s/it]"
     ]
    },
    {
     "name": "stdout",
     "output_type": "stream",
     "text": [
      "[106, 40, 278, 422, 470, 2029, 2934, 744, 2274, 327]\n"
     ]
    },
    {
     "name": "stderr",
     "output_type": "stream",
     "text": [
      "INFO:root: \n",
      "Avg Training Stats after 70 global rounds:\n",
      "INFO:root:Train Accuracy: 0.00%\n",
      "INFO:root:Training Loss : 0.14610714520406937\n",
      "INFO:root:Test Accuracy: 54.18%\n",
      "INFO:root:Test Loss: 1.2931727093458176 \n",
      "\n",
      " 70%|███████   | 70/100 [43:05<18:25, 36.86s/it]"
     ]
    },
    {
     "name": "stdout",
     "output_type": "stream",
     "text": [
      "[3195, 267, 303, 173, 286, 2029, 422, 1012, 796, 106]\n"
     ]
    },
    {
     "name": "stderr",
     "output_type": "stream",
     "text": [
      "INFO:root: \n",
      "Avg Training Stats after 71 global rounds:\n",
      "INFO:root:Train Accuracy: 0.00%\n",
      "INFO:root:Training Loss : 0.16183210294767905\n",
      "INFO:root:Test Accuracy: 54.21%\n",
      "INFO:root:Test Loss: 1.2829115304350853 \n",
      "\n",
      " 71%|███████   | 71/100 [43:39<17:22, 35.94s/it]"
     ]
    },
    {
     "name": "stdout",
     "output_type": "stream",
     "text": [
      "[209, 40, 4600, 106, 123, 1012, 690, 542, 602, 2575]\n"
     ]
    },
    {
     "name": "stderr",
     "output_type": "stream",
     "text": [
      "INFO:root: \n",
      "Avg Training Stats after 72 global rounds:\n",
      "INFO:root:Train Accuracy: 0.00%\n",
      "INFO:root:Training Loss : 0.1510381546521386\n",
      "INFO:root:Test Accuracy: 55.94%\n",
      "INFO:root:Test Loss: 1.2242597219347955 \n",
      "\n",
      " 72%|███████▏  | 72/100 [44:16<16:53, 36.19s/it]"
     ]
    },
    {
     "name": "stdout",
     "output_type": "stream",
     "text": [
      "[1012, 2430, 2274, 209, 1798, 303, 1112, 231, 744, 278]\n"
     ]
    },
    {
     "name": "stderr",
     "output_type": "stream",
     "text": [
      "INFO:root: \n",
      "Avg Training Stats after 73 global rounds:\n",
      "INFO:root:Train Accuracy: 0.00%\n",
      "INFO:root:Training Loss : 0.12034296394527025\n",
      "INFO:root:Test Accuracy: 57.14%\n",
      "INFO:root:Test Loss: 1.1935955876111983 \n",
      "\n",
      " 73%|███████▎  | 73/100 [44:52<16:20, 36.33s/it]"
     ]
    },
    {
     "name": "stdout",
     "output_type": "stream",
     "text": [
      "[447, 1320, 209, 327, 744, 1018, 231, 2430, 590, 602]\n"
     ]
    },
    {
     "name": "stderr",
     "output_type": "stream",
     "text": [
      "INFO:root: \n",
      "Avg Training Stats after 74 global rounds:\n",
      "INFO:root:Train Accuracy: 0.00%\n",
      "INFO:root:Training Loss : 0.20020678339149334\n",
      "INFO:root:Test Accuracy: 57.97%\n",
      "INFO:root:Test Loss: 1.1706917506456376 \n",
      "\n",
      " 74%|███████▍  | 74/100 [45:25<15:16, 35.24s/it]"
     ]
    },
    {
     "name": "stdout",
     "output_type": "stream",
     "text": [
      "[470, 1053, 303, 1012, 106, 3195, 447, 1112, 201, 1433]\n"
     ]
    },
    {
     "name": "stderr",
     "output_type": "stream",
     "text": [
      "INFO:root: \n",
      "Avg Training Stats after 75 global rounds:\n",
      "INFO:root:Train Accuracy: 0.00%\n",
      "INFO:root:Training Loss : 0.09278582090263578\n",
      "INFO:root:Test Accuracy: 57.88%\n",
      "INFO:root:Test Loss: 1.1688448137044907 \n",
      "\n",
      " 75%|███████▌  | 75/100 [46:00<14:37, 35.09s/it]"
     ]
    },
    {
     "name": "stdout",
     "output_type": "stream",
     "text": [
      "[231, 1433, 431, 209, 1416, 1780, 116, 123, 422, 4600]\n"
     ]
    },
    {
     "name": "stderr",
     "output_type": "stream",
     "text": [
      "INFO:root: \n",
      "Avg Training Stats after 76 global rounds:\n",
      "INFO:root:Train Accuracy: 0.00%\n",
      "INFO:root:Training Loss : 0.2834583662583453\n",
      "INFO:root:Test Accuracy: 57.90%\n",
      "INFO:root:Test Loss: 1.1654913148283959 \n",
      "\n",
      " 76%|███████▌  | 76/100 [46:37<14:18, 35.76s/it]"
     ]
    },
    {
     "name": "stdout",
     "output_type": "stream",
     "text": [
      "[2575, 796, 1053, 267, 602, 1018, 201, 1756, 286, 2430]\n"
     ]
    },
    {
     "name": "stderr",
     "output_type": "stream",
     "text": [
      "INFO:root: \n",
      "Avg Training Stats after 77 global rounds:\n",
      "INFO:root:Train Accuracy: 0.00%\n",
      "INFO:root:Training Loss : 0.17383993803388714\n",
      "INFO:root:Test Accuracy: 58.39%\n",
      "INFO:root:Test Loss: 1.146530848145485 \n",
      "\n",
      " 77%|███████▋  | 77/100 [47:15<13:55, 36.34s/it]"
     ]
    },
    {
     "name": "stdout",
     "output_type": "stream",
     "text": [
      "[15, 2029, 2274, 744, 1018, 1736, 2934, 19, 173, 447]\n"
     ]
    },
    {
     "name": "stderr",
     "output_type": "stream",
     "text": [
      "INFO:root: \n",
      "Avg Training Stats after 78 global rounds:\n",
      "INFO:root:Train Accuracy: 0.00%\n",
      "INFO:root:Training Loss : 0.2054045795018428\n",
      "INFO:root:Test Accuracy: 57.52%\n",
      "INFO:root:Test Loss: 1.1643848145008087 \n",
      "\n",
      " 78%|███████▊  | 78/100 [47:54<13:34, 37.04s/it]"
     ]
    },
    {
     "name": "stdout",
     "output_type": "stream",
     "text": [
      "[542, 602, 173, 201, 590, 690, 422, 2934, 1736, 744]\n"
     ]
    },
    {
     "name": "stderr",
     "output_type": "stream",
     "text": [
      "INFO:root: \n",
      "Avg Training Stats after 79 global rounds:\n",
      "INFO:root:Train Accuracy: 0.00%\n",
      "INFO:root:Training Loss : 0.2264550593228941\n",
      "INFO:root:Test Accuracy: 57.43%\n",
      "INFO:root:Test Loss: 1.1578511649370193 \n",
      "\n",
      " 79%|███████▉  | 79/100 [48:27<12:36, 36.01s/it]"
     ]
    },
    {
     "name": "stdout",
     "output_type": "stream",
     "text": [
      "[201, 278, 40, 1112, 106, 690, 2029, 87, 796, 3195]\n"
     ]
    },
    {
     "name": "stderr",
     "output_type": "stream",
     "text": [
      "INFO:root: \n",
      "Avg Training Stats after 80 global rounds:\n",
      "INFO:root:Train Accuracy: 0.00%\n",
      "INFO:root:Training Loss : 0.09484296258098106\n",
      "INFO:root:Test Accuracy: 57.11%\n",
      "INFO:root:Test Loss: 1.168435573875904 \n",
      "\n",
      " 80%|████████  | 80/100 [49:00<11:43, 35.15s/it]"
     ]
    },
    {
     "name": "stdout",
     "output_type": "stream",
     "text": [
      "[1798, 15, 201, 123, 1433, 542, 1119, 690, 602, 40]\n"
     ]
    },
    {
     "name": "stderr",
     "output_type": "stream",
     "text": [
      "INFO:root: \n",
      "Avg Training Stats after 81 global rounds:\n",
      "INFO:root:Train Accuracy: 0.00%\n",
      "INFO:root:Training Loss : 0.1562240864584019\n",
      "INFO:root:Test Accuracy: 58.00%\n",
      "INFO:root:Test Loss: 1.1424843207001687 \n",
      "\n",
      " 81%|████████  | 81/100 [49:31<10:39, 33.65s/it]"
     ]
    },
    {
     "name": "stdout",
     "output_type": "stream",
     "text": [
      "[267, 542, 209, 796, 87, 3195, 231, 303, 2934, 1119]\n"
     ]
    },
    {
     "name": "stderr",
     "output_type": "stream",
     "text": [
      "INFO:root: \n",
      "Avg Training Stats after 82 global rounds:\n",
      "INFO:root:Train Accuracy: 0.00%\n",
      "INFO:root:Training Loss : 0.14975310799552022\n",
      "INFO:root:Test Accuracy: 57.58%\n",
      "INFO:root:Test Loss: 1.1602216213941574 \n",
      "\n",
      " 82%|████████▏ | 82/100 [50:06<10:15, 34.22s/it]"
     ]
    },
    {
     "name": "stdout",
     "output_type": "stream",
     "text": [
      "[690, 431, 422, 231, 4600, 2934, 2029, 327, 796, 590]\n"
     ]
    },
    {
     "name": "stderr",
     "output_type": "stream",
     "text": [
      "INFO:root: \n",
      "Avg Training Stats after 83 global rounds:\n",
      "INFO:root:Train Accuracy: 0.00%\n",
      "INFO:root:Training Loss : 0.17067079695351323\n",
      "INFO:root:Test Accuracy: 57.71%\n",
      "INFO:root:Test Loss: 1.1619968155026437 \n",
      "\n",
      " 83%|████████▎ | 83/100 [50:48<10:18, 36.41s/it]"
     ]
    },
    {
     "name": "stdout",
     "output_type": "stream",
     "text": [
      "[231, 1112, 87, 303, 690, 796, 2195, 813, 327, 1018]\n"
     ]
    },
    {
     "name": "stderr",
     "output_type": "stream",
     "text": [
      "INFO:root: \n",
      "Avg Training Stats after 84 global rounds:\n",
      "INFO:root:Train Accuracy: 0.00%\n",
      "INFO:root:Training Loss : 0.15562718923317947\n",
      "INFO:root:Test Accuracy: 57.75%\n",
      "INFO:root:Test Loss: 1.158555253446102 \n",
      "\n",
      " 84%|████████▍ | 84/100 [51:19<09:20, 35.02s/it]"
     ]
    },
    {
     "name": "stdout",
     "output_type": "stream",
     "text": [
      "[602, 1018, 542, 106, 794, 447, 2029, 1433, 327, 690]\n"
     ]
    },
    {
     "name": "stderr",
     "output_type": "stream",
     "text": [
      "INFO:root: \n",
      "Avg Training Stats after 85 global rounds:\n",
      "INFO:root:Train Accuracy: 0.00%\n",
      "INFO:root:Training Loss : 0.17074179811591933\n",
      "INFO:root:Test Accuracy: 57.39%\n",
      "INFO:root:Test Loss: 1.1677391019463539 \n",
      "\n",
      " 85%|████████▌ | 85/100 [51:52<08:34, 34.29s/it]"
     ]
    },
    {
     "name": "stdout",
     "output_type": "stream",
     "text": [
      "[1433, 267, 447, 1012, 470, 201, 231, 15, 278, 1736]\n"
     ]
    },
    {
     "name": "stderr",
     "output_type": "stream",
     "text": [
      "INFO:root: \n",
      "Avg Training Stats after 86 global rounds:\n",
      "INFO:root:Train Accuracy: 0.00%\n",
      "INFO:root:Training Loss : 0.1907789436342044\n",
      "INFO:root:Test Accuracy: 57.03%\n",
      "INFO:root:Test Loss: 1.1694317704439163 \n",
      "\n",
      " 86%|████████▌ | 86/100 [52:21<07:38, 32.73s/it]"
     ]
    },
    {
     "name": "stdout",
     "output_type": "stream",
     "text": [
      "[40, 1053, 231, 286, 106, 2274, 470, 1119, 447, 1416]\n"
     ]
    },
    {
     "name": "stderr",
     "output_type": "stream",
     "text": [
      "INFO:root: \n",
      "Avg Training Stats after 87 global rounds:\n",
      "INFO:root:Train Accuracy: 0.00%\n",
      "INFO:root:Training Loss : 0.1453079449052212\n",
      "INFO:root:Test Accuracy: 56.51%\n",
      "INFO:root:Test Loss: 1.182320173084736 \n",
      "\n",
      " 87%|████████▋ | 87/100 [52:53<07:00, 32.37s/it]"
     ]
    },
    {
     "name": "stdout",
     "output_type": "stream",
     "text": [
      "[209, 2029, 231, 278, 1320, 862, 2195, 690, 1736, 106]\n"
     ]
    },
    {
     "name": "stderr",
     "output_type": "stream",
     "text": [
      "INFO:root: \n",
      "Avg Training Stats after 88 global rounds:\n",
      "INFO:root:Train Accuracy: 0.00%\n",
      "INFO:root:Training Loss : 0.16361265985570753\n",
      "INFO:root:Test Accuracy: 56.66%\n",
      "INFO:root:Test Loss: 1.189579857289791 \n",
      "\n",
      " 88%|████████▊ | 88/100 [53:28<06:39, 33.33s/it]"
     ]
    },
    {
     "name": "stdout",
     "output_type": "stream",
     "text": [
      "[2430, 201, 2195, 2575, 123, 602, 116, 794, 4600, 690]\n"
     ]
    },
    {
     "name": "stderr",
     "output_type": "stream",
     "text": [
      "INFO:root: \n",
      "Avg Training Stats after 89 global rounds:\n",
      "INFO:root:Train Accuracy: 0.00%\n",
      "INFO:root:Training Loss : 0.201174786943746\n",
      "INFO:root:Test Accuracy: 57.64%\n",
      "INFO:root:Test Loss: 1.1604312247037887 \n",
      "\n",
      " 89%|████████▉ | 89/100 [54:12<06:40, 36.41s/it]"
     ]
    },
    {
     "name": "stdout",
     "output_type": "stream",
     "text": [
      "[470, 303, 278, 87, 1119, 2274, 1780, 19, 4600, 602]\n",
      "0.010000000000000002\n"
     ]
    },
    {
     "name": "stderr",
     "output_type": "stream",
     "text": [
      "INFO:root: \n",
      "Avg Training Stats after 90 global rounds:\n",
      "INFO:root:Train Accuracy: 0.00%\n",
      "INFO:root:Training Loss : 0.1250173831520675\n",
      "INFO:root:Test Accuracy: 57.72%\n",
      "INFO:root:Test Loss: 1.1608209162950516 \n",
      "\n",
      " 90%|█████████ | 90/100 [54:50<06:10, 37.05s/it]"
     ]
    },
    {
     "name": "stdout",
     "output_type": "stream",
     "text": [
      "[2575, 602, 2029, 327, 209, 4600, 2274, 1756, 431, 1112]\n"
     ]
    },
    {
     "name": "stderr",
     "output_type": "stream",
     "text": [
      "INFO:root: \n",
      "Avg Training Stats after 91 global rounds:\n",
      "INFO:root:Train Accuracy: 0.00%\n",
      "INFO:root:Training Loss : 0.1540568418341312\n",
      "INFO:root:Test Accuracy: 57.79%\n",
      "INFO:root:Test Loss: 1.1605977821350097 \n",
      "\n",
      " 91%|█████████ | 91/100 [55:37<05:59, 39.97s/it]"
     ]
    },
    {
     "name": "stdout",
     "output_type": "stream",
     "text": [
      "[2195, 267, 813, 286, 3195, 470, 231, 278, 1012, 231]\n"
     ]
    },
    {
     "name": "stderr",
     "output_type": "stream",
     "text": [
      "INFO:root: \n",
      "Avg Training Stats after 92 global rounds:\n",
      "INFO:root:Train Accuracy: 0.00%\n",
      "INFO:root:Training Loss : 0.15196473717840478\n",
      "INFO:root:Test Accuracy: 57.84%\n",
      "INFO:root:Test Loss: 1.1618631088733673 \n",
      "\n",
      " 92%|█████████▏| 92/100 [56:11<05:06, 38.29s/it]"
     ]
    },
    {
     "name": "stdout",
     "output_type": "stream",
     "text": [
      "[1053, 2575, 303, 2430, 542, 116, 1756, 1433, 327, 15]\n"
     ]
    },
    {
     "name": "stderr",
     "output_type": "stream",
     "text": [
      "INFO:root: \n",
      "Avg Training Stats after 93 global rounds:\n",
      "INFO:root:Train Accuracy: 0.00%\n",
      "INFO:root:Training Loss : 0.22039029001625346\n",
      "INFO:root:Test Accuracy: 57.88%\n",
      "INFO:root:Test Loss: 1.160191398859024 \n",
      "\n",
      " 93%|█████████▎| 93/100 [56:48<04:25, 37.88s/it]"
     ]
    },
    {
     "name": "stdout",
     "output_type": "stream",
     "text": [
      "[590, 4600, 201, 286, 303, 1736, 15, 1798, 744, 422]\n"
     ]
    },
    {
     "name": "stderr",
     "output_type": "stream",
     "text": [
      "INFO:root: \n",
      "Avg Training Stats after 94 global rounds:\n",
      "INFO:root:Train Accuracy: 0.00%\n",
      "INFO:root:Training Loss : 0.16434286835881573\n",
      "INFO:root:Test Accuracy: 58.04%\n",
      "INFO:root:Test Loss: 1.1587005084753037 \n",
      "\n",
      " 94%|█████████▍| 94/100 [57:26<03:46, 37.77s/it]"
     ]
    },
    {
     "name": "stdout",
     "output_type": "stream",
     "text": [
      "[123, 862, 542, 19, 794, 1112, 4600, 2934, 231, 15]\n"
     ]
    },
    {
     "name": "stderr",
     "output_type": "stream",
     "text": [
      "INFO:root: \n",
      "Avg Training Stats after 95 global rounds:\n",
      "INFO:root:Train Accuracy: 0.00%\n",
      "INFO:root:Training Loss : 0.1952784833110574\n",
      "INFO:root:Test Accuracy: 58.00%\n",
      "INFO:root:Test Loss: 1.1576001545786858 \n",
      "\n",
      " 95%|█████████▌| 95/100 [58:04<03:08, 37.79s/it]"
     ]
    },
    {
     "name": "stdout",
     "output_type": "stream",
     "text": [
      "[1053, 87, 2575, 4600, 542, 231, 1433, 1012, 2029, 862]\n"
     ]
    },
    {
     "name": "stderr",
     "output_type": "stream",
     "text": [
      "INFO:root: \n",
      "Avg Training Stats after 96 global rounds:\n",
      "INFO:root:Train Accuracy: 0.00%\n",
      "INFO:root:Training Loss : 0.14484481387030193\n",
      "INFO:root:Test Accuracy: 58.04%\n",
      "INFO:root:Test Loss: 1.1566866534948348 \n",
      "\n",
      " 96%|█████████▌| 96/100 [58:48<02:38, 39.61s/it]"
     ]
    },
    {
     "name": "stdout",
     "output_type": "stream",
     "text": [
      "[19, 602, 40, 690, 267, 231, 173, 2029, 1798, 3195]\n"
     ]
    },
    {
     "name": "stderr",
     "output_type": "stream",
     "text": [
      "INFO:root: \n",
      "Avg Training Stats after 97 global rounds:\n",
      "INFO:root:Train Accuracy: 0.00%\n",
      "INFO:root:Training Loss : 0.19513276578870042\n",
      "INFO:root:Test Accuracy: 58.03%\n",
      "INFO:root:Test Loss: 1.156739709675312 \n",
      "\n",
      " 97%|█████████▋| 97/100 [59:22<01:54, 38.06s/it]"
     ]
    },
    {
     "name": "stdout",
     "output_type": "stream",
     "text": [
      "[209, 1012, 422, 40, 794, 4600, 116, 286, 303, 1756]\n"
     ]
    },
    {
     "name": "stderr",
     "output_type": "stream",
     "text": [
      "INFO:root: \n",
      "Avg Training Stats after 98 global rounds:\n",
      "INFO:root:Train Accuracy: 0.00%\n",
      "INFO:root:Training Loss : 0.15490179246833274\n",
      "INFO:root:Test Accuracy: 58.02%\n",
      "INFO:root:Test Loss: 1.1567184698581696 \n",
      "\n",
      " 98%|█████████▊| 98/100 [59:57<01:14, 37.26s/it]"
     ]
    },
    {
     "name": "stdout",
     "output_type": "stream",
     "text": [
      "[2274, 1736, 173, 1416, 447, 19, 2195, 2029, 862, 744]\n"
     ]
    },
    {
     "name": "stderr",
     "output_type": "stream",
     "text": [
      "INFO:root: \n",
      "Avg Training Stats after 99 global rounds:\n",
      "INFO:root:Train Accuracy: 0.00%\n",
      "INFO:root:Training Loss : 0.24203530591653122\n",
      "INFO:root:Test Accuracy: 58.02%\n",
      "INFO:root:Test Loss: 1.158372316658497 \n",
      "\n",
      " 99%|█████████▉| 99/100 [1:00:37<00:37, 37.86s/it]"
     ]
    },
    {
     "name": "stdout",
     "output_type": "stream",
     "text": [
      "[431, 1798, 1736, 744, 19, 278, 690, 590, 116, 40]\n"
     ]
    },
    {
     "name": "stderr",
     "output_type": "stream",
     "text": [
      "INFO:root: \n",
      "Avg Training Stats after 100 global rounds:\n",
      "INFO:root:Train Accuracy: 0.00%\n",
      "INFO:root:Training Loss : 0.17199957801643548\n",
      "INFO:root:Test Accuracy: 58.09%\n",
      "INFO:root:Test Loss: 1.1555201268196107 \n",
      "\n",
      "100%|██████████| 100/100 [1:01:06<00:00, 36.67s/it]\n",
      "INFO:root: \n",
      " Results after 100 global rounds of training:\n",
      "INFO:root:|---- Best Test Accuracy: 58.39% , round: 76\n"
     ]
    },
    {
     "name": "stdout",
     "output_type": "stream",
     "text": [
      " Saving checkpoints to ../save/checkpoint/ConvNet_1207/cifar10_ConvNet_none_T[100]_C[0.2]_iid[0]_E[10]_B[32]_GPU[0]_Pruned[0.0]...\n"
     ]
    }
   ],
   "source": [
    " args = easydict.EasyDict({\n",
    "    \"model\": 'ConvNet',\n",
    "    'dataset': 'cifar10',\n",
    "    'gpu': 0,\n",
    "    'iid': 0,\n",
    "    'epochs': 100,\n",
    "    'optimizer': 'sgd',\n",
    "    'seed': 0,\n",
    "    'norm': 'none',\n",
    "    'num_users': 50,\n",
    "    'frac': 0.2,\n",
    "    'local_ep': 10, \n",
    "    'local_bs': 32,\n",
    "    'lr': 0.01,\n",
    "    'momentum': 1,\n",
    "    'kernel_num': 9,\n",
    "    'kernel_sizes': 'only_momentum',\n",
    "    'num_channnels': '1',\n",
    "    'num_filters': 32,\n",
    "    'max_pool': 'True',\n",
    "    'num_classes': 10,\n",
    "    'unequal': 0,\n",
    "    'stopping_rounds': 0,\n",
    "    'verbose': 0,\n",
    "    'hold_normalize': 0,\n",
    "    'save_path': '../save/checkpoint',\n",
    "    'exp_folder': 'ConvNet_1207',\n",
    "    'resume': None,\n",
    "    'server_opt': 'sgd',\n",
    "    'server_lr': 1.0,\n",
    "    'client_decay':0,\n",
    "    'local_decay':0,\n",
    "    'alpha': 0.05,\n",
    "    'server_epoch':0,\n",
    "    'cosine_norm':0, \n",
    "    'only_fc' :0 ,\n",
    "    'loss':'ce',\n",
    "    'dc_lr':0.0,\n",
    "    'tsne_pred':0,\n",
    "    'pruning': 0.0 })\n",
    "    \n",
    "    \n",
    "    \n",
    "temp = main_test(args)\n",
    "total.append(temp)"
   ]
  },
  {
   "cell_type": "code",
   "execution_count": 3,
   "id": "beautiful-married",
   "metadata": {},
   "outputs": [
    {
     "name": "stderr",
     "output_type": "stream",
     "text": [
      "INFO:root:{'model': 'ConvNet', 'dataset': 'cifar10', 'gpu': 0, 'iid': 0, 'epochs': 100, 'optimizer': 'sgd', 'seed': 0, 'norm': 'none', 'num_users': 50, 'frac': 0.2, 'local_ep': 10, 'local_bs': 32, 'lr': 0.01, 'momentum': 1, 'kernel_num': 9, 'kernel_sizes': 'only_momentum', 'num_channnels': '1', 'num_filters': 32, 'max_pool': 'True', 'num_classes': 10, 'unequal': 0, 'stopping_rounds': 0, 'verbose': 0, 'hold_normalize': 0, 'save_path': '../save/checkpoint/ConvNet_1207', 'exp_folder': 'ConvNet_1207', 'resume': None, 'server_opt': 'sgdm', 'server_lr': 1.0, 'client_decay': 0, 'local_decay': 0, 'alpha': 0.05, 'server_epoch': 0, 'cosine_norm': 0, 'only_fc': 0, 'loss': 'ce', 'dc_lr': 0.0, 'tsne_pred': 0, 'pruning': 0.0}\n"
     ]
    },
    {
     "name": "stdout",
     "output_type": "stream",
     "text": [
      "Files already downloaded and verified\n",
      "Files already downloaded and verified\n",
      "Files already downloaded and verified\n"
     ]
    },
    {
     "name": "stderr",
     "output_type": "stream",
     "text": [
      "INFO:root:ConvNet(\n",
      "  (net_act): ReLU(inplace=True)\n",
      "  (net_pooling): MaxPool2d(kernel_size=2, stride=2, padding=0, dilation=1, ceil_mode=False)\n",
      "  (features): Sequential(\n",
      "    (0): Conv2d(3, 128, kernel_size=(3, 3), stride=(1, 1), padding=(1, 1))\n",
      "    (1): ReLU(inplace=True)\n",
      "    (2): MaxPool2d(kernel_size=2, stride=2, padding=0, dilation=1, ceil_mode=False)\n",
      "    (3): Conv2d(128, 128, kernel_size=(3, 3), stride=(1, 1), padding=(1, 1))\n",
      "    (4): ReLU(inplace=True)\n",
      "    (5): MaxPool2d(kernel_size=2, stride=2, padding=0, dilation=1, ceil_mode=False)\n",
      "    (6): Conv2d(128, 128, kernel_size=(3, 3), stride=(1, 1), padding=(1, 1))\n",
      "    (7): ReLU(inplace=True)\n",
      "    (8): MaxPool2d(kernel_size=2, stride=2, padding=0, dilation=1, ceil_mode=False)\n",
      "  )\n",
      "  (classifier): Linear(in_features=2048, out_features=10, bias=True)\n",
      ")\n",
      "INFO:root:None\n",
      "  0%|          | 0/100 [00:00<?, ?it/s]"
     ]
    },
    {
     "name": "stdout",
     "output_type": "stream",
     "text": [
      "----------------------------------------------------------------\n",
      "        Layer (type)               Output Shape         Param #\n",
      "================================================================\n",
      "            Conv2d-1          [-1, 128, 32, 32]           3,584\n",
      "              ReLU-2          [-1, 128, 32, 32]               0\n",
      "              ReLU-3          [-1, 128, 32, 32]               0\n",
      "         MaxPool2d-4          [-1, 128, 16, 16]               0\n",
      "         MaxPool2d-5          [-1, 128, 16, 16]               0\n",
      "            Conv2d-6          [-1, 128, 16, 16]         147,584\n",
      "              ReLU-7          [-1, 128, 16, 16]               0\n",
      "              ReLU-8          [-1, 128, 16, 16]               0\n",
      "         MaxPool2d-9            [-1, 128, 8, 8]               0\n",
      "        MaxPool2d-10            [-1, 128, 8, 8]               0\n",
      "           Conv2d-11            [-1, 128, 8, 8]         147,584\n",
      "             ReLU-12            [-1, 128, 8, 8]               0\n",
      "             ReLU-13            [-1, 128, 8, 8]               0\n",
      "        MaxPool2d-14            [-1, 128, 4, 4]               0\n",
      "        MaxPool2d-15            [-1, 128, 4, 4]               0\n",
      "           Linear-16                   [-1, 10]          20,490\n",
      "================================================================\n",
      "Total params: 319,242\n",
      "Trainable params: 319,242\n",
      "Non-trainable params: 0\n",
      "----------------------------------------------------------------\n",
      "Input size (MB): 0.01\n",
      "Forward/backward pass size (MB): 4.59\n",
      "Params size (MB): 1.22\n",
      "Estimated Total Size (MB): 5.82\n",
      "----------------------------------------------------------------\n",
      "[209, 1756, 422, 2575, 1018, 602, 2274, 447, 744, 1112, 123, 87, 1433, 1416, 40, 1119, 796, 794, 327, 470, 231, 813, 1320, 542, 690, 2195, 2934, 106, 1012, 15, 278, 1798, 303, 590, 2029, 201, 1053, 862, 231, 116, 4600, 19, 286, 1736, 2430, 431, 3195, 1780, 173, 267]\n",
      "[470, 2934, 201, 231, 2575, 744, 15, 123, 1119, 4600]\n"
     ]
    },
    {
     "name": "stderr",
     "output_type": "stream",
     "text": [
      "INFO:root: \n",
      "Avg Training Stats after 1 global rounds:\n",
      "INFO:root:Train Accuracy: 0.00%\n",
      "INFO:root:Training Loss : 0.36925601100708394\n",
      "INFO:root:Test Accuracy: 14.75%\n",
      "INFO:root:Test Loss: 2.620742518901825 \n",
      "\n",
      "  1%|          | 1/100 [00:41<1:08:28, 41.50s/it]"
     ]
    },
    {
     "name": "stdout",
     "output_type": "stream",
     "text": [
      "[231, 173, 2575, 1736, 2430, 123, 4600, 690, 1012, 447]\n"
     ]
    },
    {
     "name": "stderr",
     "output_type": "stream",
     "text": [
      "INFO:root: \n",
      "Avg Training Stats after 2 global rounds:\n",
      "INFO:root:Train Accuracy: 0.00%\n",
      "INFO:root:Training Loss : 0.4635327764951801\n",
      "INFO:root:Test Accuracy: 15.49%\n",
      "INFO:root:Test Loss: 7.24993132583797 \n",
      "\n",
      "  2%|▏         | 2/100 [01:25<1:09:46, 42.72s/it]"
     ]
    },
    {
     "name": "stdout",
     "output_type": "stream",
     "text": [
      "[744, 2575, 1320, 470, 2430, 2274, 267, 690, 209, 303]\n"
     ]
    },
    {
     "name": "stderr",
     "output_type": "stream",
     "text": [
      "INFO:root: \n",
      "Avg Training Stats after 3 global rounds:\n",
      "INFO:root:Train Accuracy: 0.00%\n",
      "INFO:root:Training Loss : 0.3648775523768411\n",
      "INFO:root:Test Accuracy: 23.30%\n",
      "INFO:root:Test Loss: 6.2750677543133495 \n",
      "\n",
      "  3%|▎         | 3/100 [02:03<1:05:55, 40.78s/it]"
     ]
    },
    {
     "name": "stdout",
     "output_type": "stream",
     "text": [
      "[173, 690, 542, 1012, 2195, 1780, 1053, 87, 2934, 1736]\n"
     ]
    },
    {
     "name": "stderr",
     "output_type": "stream",
     "text": [
      "INFO:root: \n",
      "Avg Training Stats after 4 global rounds:\n",
      "INFO:root:Train Accuracy: 0.00%\n",
      "INFO:root:Training Loss : 0.529436434373123\n",
      "INFO:root:Test Accuracy: 23.66%\n",
      "INFO:root:Test Loss: 2.497821662425995 \n",
      "\n",
      "  4%|▍         | 4/100 [02:43<1:04:52, 40.54s/it]"
     ]
    },
    {
     "name": "stdout",
     "output_type": "stream",
     "text": [
      "[2430, 2575, 1736, 123, 15, 1780, 1018, 231, 87, 794]\n"
     ]
    },
    {
     "name": "stderr",
     "output_type": "stream",
     "text": [
      "INFO:root: \n",
      "Avg Training Stats after 5 global rounds:\n",
      "INFO:root:Train Accuracy: 0.00%\n",
      "INFO:root:Training Loss : 0.37386691369636227\n",
      "INFO:root:Test Accuracy: 25.45%\n",
      "INFO:root:Test Loss: 3.0889468610286714 \n",
      "\n",
      "  5%|▌         | 5/100 [03:20<1:02:12, 39.29s/it]"
     ]
    },
    {
     "name": "stdout",
     "output_type": "stream",
     "text": [
      "[1119, 87, 590, 794, 813, 303, 1320, 690, 1018, 422]\n"
     ]
    },
    {
     "name": "stderr",
     "output_type": "stream",
     "text": [
      "INFO:root: \n",
      "Avg Training Stats after 6 global rounds:\n",
      "INFO:root:Train Accuracy: 0.00%\n",
      "INFO:root:Training Loss : 0.26134869836976\n",
      "INFO:root:Test Accuracy: 22.86%\n",
      "INFO:root:Test Loss: 3.0592678624391554 \n",
      "\n",
      "  6%|▌         | 6/100 [03:51<57:08, 36.47s/it]  "
     ]
    },
    {
     "name": "stdout",
     "output_type": "stream",
     "text": [
      "[2029, 1433, 303, 327, 744, 862, 2934, 231, 1416, 278]\n"
     ]
    },
    {
     "name": "stderr",
     "output_type": "stream",
     "text": [
      "INFO:root: \n",
      "Avg Training Stats after 7 global rounds:\n",
      "INFO:root:Train Accuracy: 0.00%\n",
      "INFO:root:Training Loss : 0.3625362350994275\n",
      "INFO:root:Test Accuracy: 30.88%\n",
      "INFO:root:Test Loss: 2.3566119414567948 \n",
      "\n",
      "  7%|▋         | 7/100 [04:29<56:54, 36.72s/it]"
     ]
    },
    {
     "name": "stdout",
     "output_type": "stream",
     "text": [
      "[231, 1112, 327, 744, 286, 422, 15, 1798, 1053, 173]\n"
     ]
    },
    {
     "name": "stderr",
     "output_type": "stream",
     "text": [
      "INFO:root: \n",
      "Avg Training Stats after 8 global rounds:\n",
      "INFO:root:Train Accuracy: 0.00%\n",
      "INFO:root:Training Loss : 0.3742319113795823\n",
      "INFO:root:Test Accuracy: 33.82%\n",
      "INFO:root:Test Loss: 2.2862508606910708 \n",
      "\n",
      "  8%|▊         | 8/100 [04:58<52:39, 34.34s/it]"
     ]
    },
    {
     "name": "stdout",
     "output_type": "stream",
     "text": [
      "[794, 278, 744, 862, 303, 19, 2274, 1053, 813, 1012]\n"
     ]
    },
    {
     "name": "stderr",
     "output_type": "stream",
     "text": [
      "INFO:root: \n",
      "Avg Training Stats after 9 global rounds:\n",
      "INFO:root:Train Accuracy: 0.00%\n",
      "INFO:root:Training Loss : 0.26108219586122805\n",
      "INFO:root:Test Accuracy: 29.38%\n",
      "INFO:root:Test Loss: 3.1585306207090618 \n",
      "\n",
      "  9%|▉         | 9/100 [05:30<51:19, 33.84s/it]"
     ]
    },
    {
     "name": "stdout",
     "output_type": "stream",
     "text": [
      "[1320, 40, 1756, 470, 327, 1012, 862, 1433, 796, 231]\n"
     ]
    },
    {
     "name": "stderr",
     "output_type": "stream",
     "text": [
      "INFO:root: \n",
      "Avg Training Stats after 10 global rounds:\n",
      "INFO:root:Train Accuracy: 0.00%\n",
      "INFO:root:Training Loss : 0.17794572993586988\n",
      "INFO:root:Test Accuracy: 31.17%\n",
      "INFO:root:Test Loss: 2.768306193500757 \n",
      "\n",
      " 10%|█         | 10/100 [06:03<50:17, 33.53s/it]"
     ]
    },
    {
     "name": "stdout",
     "output_type": "stream",
     "text": [
      "[87, 201, 1798, 813, 123, 2934, 1756, 231, 1053, 4600]\n"
     ]
    },
    {
     "name": "stderr",
     "output_type": "stream",
     "text": [
      "INFO:root: \n",
      "Avg Training Stats after 11 global rounds:\n",
      "INFO:root:Train Accuracy: 0.00%\n",
      "INFO:root:Training Loss : 0.2545246517757681\n",
      "INFO:root:Test Accuracy: 25.36%\n",
      "INFO:root:Test Loss: 2.8626242663711308 \n",
      "\n",
      " 11%|█         | 11/100 [06:46<53:46, 36.25s/it]"
     ]
    },
    {
     "name": "stdout",
     "output_type": "stream",
     "text": [
      "[106, 231, 447, 796, 209, 1798, 1112, 1416, 590, 794]\n"
     ]
    },
    {
     "name": "stderr",
     "output_type": "stream",
     "text": [
      "INFO:root: \n",
      "Avg Training Stats after 12 global rounds:\n",
      "INFO:root:Train Accuracy: 0.00%\n",
      "INFO:root:Training Loss : 0.17127454181112978\n",
      "INFO:root:Test Accuracy: 41.96%\n",
      "INFO:root:Test Loss: 1.673502482175827 \n",
      "\n",
      " 12%|█▏        | 12/100 [07:18<51:13, 34.92s/it]"
     ]
    },
    {
     "name": "stdout",
     "output_type": "stream",
     "text": [
      "[1320, 278, 862, 2274, 1798, 87, 2029, 796, 1018, 2430]\n"
     ]
    },
    {
     "name": "stderr",
     "output_type": "stream",
     "text": [
      "INFO:root: \n",
      "Avg Training Stats after 13 global rounds:\n",
      "INFO:root:Train Accuracy: 0.00%\n",
      "INFO:root:Training Loss : 0.18353665052350995\n",
      "INFO:root:Test Accuracy: 42.26%\n",
      "INFO:root:Test Loss: 1.9748533183336259 \n",
      "\n",
      " 13%|█▎        | 13/100 [07:59<53:21, 36.79s/it]"
     ]
    },
    {
     "name": "stdout",
     "output_type": "stream",
     "text": [
      "[4600, 2575, 590, 173, 2430, 40, 1112, 87, 231, 2195]\n"
     ]
    },
    {
     "name": "stderr",
     "output_type": "stream",
     "text": [
      "INFO:root: \n",
      "Avg Training Stats after 14 global rounds:\n",
      "INFO:root:Train Accuracy: 0.00%\n",
      "INFO:root:Training Loss : 0.24056805930331268\n",
      "INFO:root:Test Accuracy: 38.36%\n",
      "INFO:root:Test Loss: 2.332083982080221 \n",
      "\n",
      " 14%|█▍        | 14/100 [08:42<55:31, 38.74s/it]"
     ]
    },
    {
     "name": "stdout",
     "output_type": "stream",
     "text": [
      "[231, 794, 1018, 1012, 15, 303, 796, 2274, 1320, 19]\n"
     ]
    },
    {
     "name": "stderr",
     "output_type": "stream",
     "text": [
      "INFO:root: \n",
      "Avg Training Stats after 15 global rounds:\n",
      "INFO:root:Train Accuracy: 0.00%\n",
      "INFO:root:Training Loss : 0.22852896914158416\n",
      "INFO:root:Test Accuracy: 36.89%\n",
      "INFO:root:Test Loss: 2.754491167664528 \n",
      "\n",
      " 15%|█▌        | 15/100 [09:14<52:01, 36.73s/it]"
     ]
    },
    {
     "name": "stdout",
     "output_type": "stream",
     "text": [
      "[2195, 40, 2029, 862, 2575, 1433, 447, 19, 4600, 796]\n"
     ]
    },
    {
     "name": "stderr",
     "output_type": "stream",
     "text": [
      "INFO:root: \n",
      "Avg Training Stats after 16 global rounds:\n",
      "INFO:root:Train Accuracy: 0.00%\n",
      "INFO:root:Training Loss : 0.19662272307389708\n",
      "INFO:root:Test Accuracy: 42.95%\n",
      "INFO:root:Test Loss: 2.2657369980216027 \n",
      "\n",
      " 16%|█▌        | 16/100 [09:59<54:42, 39.07s/it]"
     ]
    },
    {
     "name": "stdout",
     "output_type": "stream",
     "text": [
      "[231, 173, 303, 2274, 796, 116, 1798, 447, 106, 1433]\n"
     ]
    },
    {
     "name": "stderr",
     "output_type": "stream",
     "text": [
      "INFO:root: \n",
      "Avg Training Stats after 17 global rounds:\n",
      "INFO:root:Train Accuracy: 0.00%\n",
      "INFO:root:Training Loss : 0.1732876841547138\n",
      "INFO:root:Test Accuracy: 36.32%\n",
      "INFO:root:Test Loss: 2.2031191454827788 \n",
      "\n",
      " 17%|█▋        | 17/100 [10:31<51:10, 37.00s/it]"
     ]
    },
    {
     "name": "stdout",
     "output_type": "stream",
     "text": [
      "[201, 1756, 796, 1320, 813, 542, 116, 173, 794, 1798]\n"
     ]
    },
    {
     "name": "stderr",
     "output_type": "stream",
     "text": [
      "INFO:root: \n",
      "Avg Training Stats after 18 global rounds:\n",
      "INFO:root:Train Accuracy: 0.00%\n",
      "INFO:root:Training Loss : 0.2232751634890678\n",
      "INFO:root:Test Accuracy: 31.66%\n",
      "INFO:root:Test Loss: 2.6228929233551024 \n",
      "\n",
      " 18%|█▊        | 18/100 [11:04<48:57, 35.82s/it]"
     ]
    },
    {
     "name": "stdout",
     "output_type": "stream",
     "text": [
      "[15, 1780, 19, 744, 2575, 173, 813, 40, 1320, 422]\n"
     ]
    },
    {
     "name": "stderr",
     "output_type": "stream",
     "text": [
      "INFO:root: \n",
      "Avg Training Stats after 19 global rounds:\n",
      "INFO:root:Train Accuracy: 0.00%\n",
      "INFO:root:Training Loss : 0.36139899635530354\n",
      "INFO:root:Test Accuracy: 38.24%\n",
      "INFO:root:Test Loss: 2.3596473482251166 \n",
      "\n",
      " 19%|█▉        | 19/100 [11:36<46:51, 34.71s/it]"
     ]
    },
    {
     "name": "stdout",
     "output_type": "stream",
     "text": [
      "[813, 1736, 15, 1433, 267, 470, 3195, 744, 2575, 231]\n"
     ]
    },
    {
     "name": "stderr",
     "output_type": "stream",
     "text": [
      "INFO:root: \n",
      "Avg Training Stats after 20 global rounds:\n",
      "INFO:root:Train Accuracy: 0.00%\n",
      "INFO:root:Training Loss : 0.22096995944451767\n",
      "INFO:root:Test Accuracy: 18.50%\n",
      "INFO:root:Test Loss: 5.500525391940028 \n",
      "\n",
      " 20%|██        | 20/100 [12:15<47:53, 35.92s/it]"
     ]
    },
    {
     "name": "stdout",
     "output_type": "stream",
     "text": [
      "[278, 744, 1053, 447, 1320, 116, 1798, 19, 4600, 3195]\n"
     ]
    },
    {
     "name": "stderr",
     "output_type": "stream",
     "text": [
      "INFO:root: \n",
      "Avg Training Stats after 21 global rounds:\n",
      "INFO:root:Train Accuracy: 0.00%\n",
      "INFO:root:Training Loss : 0.2629626213873788\n",
      "INFO:root:Test Accuracy: 28.98%\n",
      "INFO:root:Test Loss: 3.4093018999695777 \n",
      "\n",
      " 21%|██        | 21/100 [12:57<49:42, 37.75s/it]"
     ]
    },
    {
     "name": "stdout",
     "output_type": "stream",
     "text": [
      "[813, 2029, 602, 590, 1756, 106, 1780, 40, 19, 2934]\n"
     ]
    },
    {
     "name": "stderr",
     "output_type": "stream",
     "text": [
      "INFO:root: \n",
      "Avg Training Stats after 22 global rounds:\n",
      "INFO:root:Train Accuracy: 0.00%\n",
      "INFO:root:Training Loss : 0.1559480359182138\n",
      "INFO:root:Test Accuracy: 31.69%\n",
      "INFO:root:Test Loss: 2.866781283505261 \n",
      "\n",
      " 22%|██▏       | 22/100 [13:34<48:48, 37.55s/it]"
     ]
    },
    {
     "name": "stdout",
     "output_type": "stream",
     "text": [
      "[40, 862, 327, 1780, 2274, 106, 1053, 1112, 1012, 3195]\n"
     ]
    },
    {
     "name": "stderr",
     "output_type": "stream",
     "text": [
      "INFO:root: \n",
      "Avg Training Stats after 23 global rounds:\n",
      "INFO:root:Train Accuracy: 0.00%\n",
      "INFO:root:Training Loss : 0.19189286787756063\n",
      "INFO:root:Test Accuracy: 37.69%\n",
      "INFO:root:Test Loss: 2.891852578520775 \n",
      "\n",
      " 23%|██▎       | 23/100 [14:13<48:44, 37.99s/it]"
     ]
    },
    {
     "name": "stdout",
     "output_type": "stream",
     "text": [
      "[1320, 1119, 862, 744, 1053, 87, 201, 470, 2274, 1012]\n"
     ]
    },
    {
     "name": "stderr",
     "output_type": "stream",
     "text": [
      "INFO:root: \n",
      "Avg Training Stats after 24 global rounds:\n",
      "INFO:root:Train Accuracy: 0.00%\n",
      "INFO:root:Training Loss : 0.17884916967625525\n",
      "INFO:root:Test Accuracy: 32.28%\n",
      "INFO:root:Test Loss: 3.8568665238469837 \n",
      "\n",
      " 24%|██▍       | 24/100 [14:47<46:51, 36.99s/it]"
     ]
    },
    {
     "name": "stdout",
     "output_type": "stream",
     "text": [
      "[447, 286, 1416, 87, 796, 1798, 231, 1119, 431, 2195]\n"
     ]
    },
    {
     "name": "stderr",
     "output_type": "stream",
     "text": [
      "INFO:root: \n",
      "Avg Training Stats after 25 global rounds:\n",
      "INFO:root:Train Accuracy: 0.00%\n",
      "INFO:root:Training Loss : 0.24451133620798632\n",
      "INFO:root:Test Accuracy: 31.52%\n",
      "INFO:root:Test Loss: 3.070058012828231 \n",
      "\n",
      " 25%|██▌       | 25/100 [15:21<45:07, 36.10s/it]"
     ]
    },
    {
     "name": "stdout",
     "output_type": "stream",
     "text": [
      "[116, 2029, 690, 1416, 1780, 602, 2575, 1756, 431, 87]\n"
     ]
    },
    {
     "name": "stderr",
     "output_type": "stream",
     "text": [
      "INFO:root: \n",
      "Avg Training Stats after 26 global rounds:\n",
      "INFO:root:Train Accuracy: 0.00%\n",
      "INFO:root:Training Loss : 0.25002520703161923\n",
      "INFO:root:Test Accuracy: 38.83%\n",
      "INFO:root:Test Loss: 2.3254242372512817 \n",
      "\n",
      " 26%|██▌       | 26/100 [16:00<45:23, 36.81s/it]"
     ]
    },
    {
     "name": "stdout",
     "output_type": "stream",
     "text": [
      "[87, 173, 2029, 19, 4600, 2195, 116, 303, 40, 209]\n"
     ]
    },
    {
     "name": "stderr",
     "output_type": "stream",
     "text": [
      "INFO:root: \n",
      "Avg Training Stats after 27 global rounds:\n",
      "INFO:root:Train Accuracy: 0.00%\n",
      "INFO:root:Training Loss : 0.2763580786936021\n",
      "INFO:root:Test Accuracy: 42.97%\n",
      "INFO:root:Test Loss: 2.0200839452445507 \n",
      "\n",
      " 27%|██▋       | 27/100 [16:36<44:23, 36.49s/it]"
     ]
    },
    {
     "name": "stdout",
     "output_type": "stream",
     "text": [
      "[4600, 267, 794, 231, 201, 231, 2934, 590, 470, 173]\n"
     ]
    },
    {
     "name": "stderr",
     "output_type": "stream",
     "text": [
      "INFO:root: \n",
      "Avg Training Stats after 28 global rounds:\n",
      "INFO:root:Train Accuracy: 0.00%\n",
      "INFO:root:Training Loss : 0.21513782497092868\n",
      "INFO:root:Test Accuracy: 32.28%\n",
      "INFO:root:Test Loss: 4.421364923268556 \n",
      "\n",
      " 28%|██▊       | 28/100 [17:13<43:54, 36.60s/it]"
     ]
    },
    {
     "name": "stdout",
     "output_type": "stream",
     "text": [
      "[1798, 286, 123, 1112, 303, 796, 744, 1320, 231, 794]\n"
     ]
    },
    {
     "name": "stderr",
     "output_type": "stream",
     "text": [
      "INFO:root: \n",
      "Avg Training Stats after 29 global rounds:\n",
      "INFO:root:Train Accuracy: 0.00%\n",
      "INFO:root:Training Loss : 0.1286249461180874\n",
      "INFO:root:Test Accuracy: 44.18%\n",
      "INFO:root:Test Loss: 2.334789207279682 \n",
      "\n",
      " 29%|██▉       | 29/100 [17:44<41:30, 35.08s/it]"
     ]
    },
    {
     "name": "stdout",
     "output_type": "stream",
     "text": [
      "[303, 4600, 1119, 447, 744, 40, 1756, 2430, 2029, 602]\n"
     ]
    },
    {
     "name": "stderr",
     "output_type": "stream",
     "text": [
      "INFO:root: \n",
      "Avg Training Stats after 30 global rounds:\n",
      "INFO:root:Train Accuracy: 0.00%\n",
      "INFO:root:Training Loss : 0.1295706544156438\n",
      "INFO:root:Test Accuracy: 46.25%\n",
      "INFO:root:Test Loss: 2.061788326203823 \n",
      "\n",
      " 30%|███       | 30/100 [18:27<43:49, 37.57s/it]"
     ]
    },
    {
     "name": "stdout",
     "output_type": "stream",
     "text": [
      "[422, 3195, 1112, 327, 123, 1736, 303, 286, 106, 1433]\n"
     ]
    },
    {
     "name": "stderr",
     "output_type": "stream",
     "text": [
      "INFO:root: \n",
      "Avg Training Stats after 31 global rounds:\n",
      "INFO:root:Train Accuracy: 0.00%\n",
      "INFO:root:Training Loss : 0.16692767993107638\n",
      "INFO:root:Test Accuracy: 43.39%\n",
      "INFO:root:Test Loss: 1.9959299536049366 \n",
      "\n",
      " 31%|███       | 31/100 [19:02<42:01, 36.55s/it]"
     ]
    },
    {
     "name": "stdout",
     "output_type": "stream",
     "text": [
      "[862, 173, 422, 303, 123, 1012, 542, 278, 431, 2195]\n"
     ]
    },
    {
     "name": "stderr",
     "output_type": "stream",
     "text": [
      "INFO:root: \n",
      "Avg Training Stats after 32 global rounds:\n",
      "INFO:root:Train Accuracy: 0.00%\n",
      "INFO:root:Training Loss : 0.2437819997822846\n",
      "INFO:root:Test Accuracy: 40.14%\n",
      "INFO:root:Test Loss: 2.315738827586174 \n",
      "\n",
      " 32%|███▏      | 32/100 [19:31<39:06, 34.50s/it]"
     ]
    },
    {
     "name": "stdout",
     "output_type": "stream",
     "text": [
      "[1320, 15, 19, 1756, 231, 470, 267, 87, 862, 327]\n"
     ]
    },
    {
     "name": "stderr",
     "output_type": "stream",
     "text": [
      "INFO:root: \n",
      "Avg Training Stats after 33 global rounds:\n",
      "INFO:root:Train Accuracy: 0.00%\n",
      "INFO:root:Training Loss : 0.27875962496572104\n",
      "INFO:root:Test Accuracy: 33.88%\n",
      "INFO:root:Test Loss: 3.3834347821678965 \n",
      "\n",
      " 33%|███▎      | 33/100 [19:59<36:16, 32.49s/it]"
     ]
    },
    {
     "name": "stdout",
     "output_type": "stream",
     "text": [
      "[87, 267, 796, 1053, 1433, 2575, 1119, 794, 15, 327]\n"
     ]
    },
    {
     "name": "stderr",
     "output_type": "stream",
     "text": [
      "INFO:root: \n",
      "Avg Training Stats after 34 global rounds:\n",
      "INFO:root:Train Accuracy: 0.00%\n",
      "INFO:root:Training Loss : 0.2510520301427999\n",
      "INFO:root:Test Accuracy: 39.03%\n",
      "INFO:root:Test Loss: 2.7831550347805023 \n",
      "\n",
      " 34%|███▍      | 34/100 [20:33<36:02, 32.76s/it]"
     ]
    },
    {
     "name": "stdout",
     "output_type": "stream",
     "text": [
      "[422, 1798, 590, 796, 19, 1320, 173, 1416, 1053, 4600]\n"
     ]
    },
    {
     "name": "stderr",
     "output_type": "stream",
     "text": [
      "INFO:root: \n",
      "Avg Training Stats after 35 global rounds:\n",
      "INFO:root:Train Accuracy: 0.00%\n",
      "INFO:root:Training Loss : 0.2067424431815985\n",
      "INFO:root:Test Accuracy: 52.77%\n",
      "INFO:root:Test Loss: 1.6144006426632405 \n",
      "\n",
      " 35%|███▌      | 35/100 [21:12<37:45, 34.85s/it]"
     ]
    },
    {
     "name": "stdout",
     "output_type": "stream",
     "text": [
      "[2430, 1320, 602, 3195, 231, 2934, 431, 794, 1416, 542]\n"
     ]
    },
    {
     "name": "stderr",
     "output_type": "stream",
     "text": [
      "INFO:root: \n",
      "Avg Training Stats after 36 global rounds:\n",
      "INFO:root:Train Accuracy: 0.00%\n",
      "INFO:root:Training Loss : 0.14054824917284234\n",
      "INFO:root:Test Accuracy: 40.79%\n",
      "INFO:root:Test Loss: 2.8716977304965257 \n",
      "\n",
      " 36%|███▌      | 36/100 [21:55<39:46, 37.28s/it]"
     ]
    },
    {
     "name": "stdout",
     "output_type": "stream",
     "text": [
      "[15, 813, 1112, 123, 40, 796, 2274, 1018, 2195, 201]\n"
     ]
    },
    {
     "name": "stderr",
     "output_type": "stream",
     "text": [
      "INFO:root: \n",
      "Avg Training Stats after 37 global rounds:\n",
      "INFO:root:Train Accuracy: 0.00%\n",
      "INFO:root:Training Loss : 0.19199088551109572\n",
      "INFO:root:Test Accuracy: 46.76%\n",
      "INFO:root:Test Loss: 2.5148247319459913 \n",
      "\n",
      " 37%|███▋      | 37/100 [22:29<38:07, 36.31s/it]"
     ]
    },
    {
     "name": "stdout",
     "output_type": "stream",
     "text": [
      "[303, 2195, 422, 1112, 1433, 116, 796, 602, 1756, 231]\n"
     ]
    },
    {
     "name": "stderr",
     "output_type": "stream",
     "text": [
      "INFO:root: \n",
      "Avg Training Stats after 38 global rounds:\n",
      "INFO:root:Train Accuracy: 0.00%\n",
      "INFO:root:Training Loss : 0.17351947245905217\n",
      "INFO:root:Test Accuracy: 33.80%\n",
      "INFO:root:Test Loss: 3.6282070034742357 \n",
      "\n",
      " 38%|███▊      | 38/100 [23:03<36:50, 35.66s/it]"
     ]
    },
    {
     "name": "stdout",
     "output_type": "stream",
     "text": [
      "[1756, 231, 267, 2430, 590, 1736, 15, 4600, 327, 1112]\n"
     ]
    },
    {
     "name": "stderr",
     "output_type": "stream",
     "text": [
      "INFO:root: \n",
      "Avg Training Stats after 39 global rounds:\n",
      "INFO:root:Train Accuracy: 0.00%\n",
      "INFO:root:Training Loss : 0.18571124745746365\n",
      "INFO:root:Test Accuracy: 38.42%\n",
      "INFO:root:Test Loss: 2.8155422581732275 \n",
      "\n",
      " 39%|███▉      | 39/100 [23:45<37:55, 37.31s/it]"
     ]
    },
    {
     "name": "stdout",
     "output_type": "stream",
     "text": [
      "[2575, 422, 3195, 862, 231, 796, 2934, 123, 2430, 794]\n"
     ]
    },
    {
     "name": "stderr",
     "output_type": "stream",
     "text": [
      "INFO:root: \n",
      "Avg Training Stats after 40 global rounds:\n",
      "INFO:root:Train Accuracy: 0.00%\n",
      "INFO:root:Training Loss : 0.14196286376307127\n",
      "INFO:root:Test Accuracy: 32.95%\n",
      "INFO:root:Test Loss: 3.4294787495583297 \n",
      "\n",
      " 40%|████      | 40/100 [24:28<39:13, 39.23s/it]"
     ]
    },
    {
     "name": "stdout",
     "output_type": "stream",
     "text": [
      "[231, 1119, 1736, 278, 447, 1018, 286, 744, 690, 173]\n"
     ]
    },
    {
     "name": "stderr",
     "output_type": "stream",
     "text": [
      "INFO:root: \n",
      "Avg Training Stats after 41 global rounds:\n",
      "INFO:root:Train Accuracy: 0.00%\n",
      "INFO:root:Training Loss : 0.19121056552046212\n",
      "INFO:root:Test Accuracy: 38.66%\n",
      "INFO:root:Test Loss: 2.885105966553092 \n",
      "\n",
      " 41%|████      | 41/100 [24:59<35:56, 36.55s/it]"
     ]
    },
    {
     "name": "stdout",
     "output_type": "stream",
     "text": [
      "[231, 1320, 1416, 2575, 2274, 862, 690, 602, 1012, 173]\n"
     ]
    },
    {
     "name": "stderr",
     "output_type": "stream",
     "text": [
      "INFO:root: \n",
      "Avg Training Stats after 42 global rounds:\n",
      "INFO:root:Train Accuracy: 0.00%\n",
      "INFO:root:Training Loss : 0.16840448030475316\n",
      "INFO:root:Test Accuracy: 42.20%\n",
      "INFO:root:Test Loss: 2.3737988021224736 \n",
      "\n",
      " 42%|████▏     | 42/100 [25:37<35:44, 36.97s/it]"
     ]
    },
    {
     "name": "stdout",
     "output_type": "stream",
     "text": [
      "[1112, 1053, 3195, 2934, 2029, 201, 123, 2195, 1018, 173]\n"
     ]
    },
    {
     "name": "stderr",
     "output_type": "stream",
     "text": [
      "INFO:root: \n",
      "Avg Training Stats after 43 global rounds:\n",
      "INFO:root:Train Accuracy: 0.00%\n",
      "INFO:root:Training Loss : 0.19102859010831366\n",
      "INFO:root:Test Accuracy: 39.87%\n",
      "INFO:root:Test Loss: 2.8140966518223287 \n",
      "\n",
      " 43%|████▎     | 43/100 [26:20<36:52, 38.82s/it]"
     ]
    },
    {
     "name": "stdout",
     "output_type": "stream",
     "text": [
      "[862, 1053, 422, 3195, 4600, 794, 1756, 173, 2029, 1018]\n"
     ]
    },
    {
     "name": "stderr",
     "output_type": "stream",
     "text": [
      "INFO:root: \n",
      "Avg Training Stats after 44 global rounds:\n",
      "INFO:root:Train Accuracy: 0.00%\n",
      "INFO:root:Training Loss : 0.16456011458141148\n",
      "INFO:root:Test Accuracy: 36.64%\n",
      "INFO:root:Test Loss: 3.6193884485960006 \n",
      "\n",
      " 44%|████▍     | 44/100 [27:06<38:18, 41.05s/it]"
     ]
    },
    {
     "name": "stdout",
     "output_type": "stream",
     "text": [
      "[1320, 2934, 796, 2195, 862, 2575, 2029, 19, 422, 286]\n"
     ]
    },
    {
     "name": "stderr",
     "output_type": "stream",
     "text": [
      "INFO:root: \n",
      "Avg Training Stats after 45 global rounds:\n",
      "INFO:root:Train Accuracy: 0.00%\n",
      "INFO:root:Training Loss : 0.21812294614320904\n",
      "INFO:root:Test Accuracy: 39.71%\n",
      "INFO:root:Test Loss: 3.01521623685956 \n",
      "\n",
      " 45%|████▌     | 45/100 [27:48<37:53, 41.33s/it]"
     ]
    },
    {
     "name": "stdout",
     "output_type": "stream",
     "text": [
      "[862, 744, 1416, 1112, 590, 542, 278, 690, 116, 1780]\n"
     ]
    },
    {
     "name": "stderr",
     "output_type": "stream",
     "text": [
      "INFO:root: \n",
      "Avg Training Stats after 46 global rounds:\n",
      "INFO:root:Train Accuracy: 0.00%\n",
      "INFO:root:Training Loss : 0.20636689830520555\n",
      "INFO:root:Test Accuracy: 44.13%\n",
      "INFO:root:Test Loss: 2.364400324076414 \n",
      "\n",
      " 46%|████▌     | 46/100 [28:21<34:57, 38.85s/it]"
     ]
    },
    {
     "name": "stdout",
     "output_type": "stream",
     "text": [
      "[2575, 1112, 1320, 231, 3195, 1012, 862, 447, 2195, 201]\n"
     ]
    },
    {
     "name": "stderr",
     "output_type": "stream",
     "text": [
      "INFO:root: \n",
      "Avg Training Stats after 47 global rounds:\n",
      "INFO:root:Train Accuracy: 0.00%\n",
      "INFO:root:Training Loss : 0.09888392019855338\n",
      "INFO:root:Test Accuracy: 32.79%\n",
      "INFO:root:Test Loss: 3.6023576685041188 \n",
      "\n",
      " 47%|████▋     | 47/100 [29:02<35:00, 39.63s/it]"
     ]
    },
    {
     "name": "stdout",
     "output_type": "stream",
     "text": [
      "[1433, 542, 813, 231, 1119, 2029, 1012, 173, 2195, 1320]\n"
     ]
    },
    {
     "name": "stderr",
     "output_type": "stream",
     "text": [
      "INFO:root: \n",
      "Avg Training Stats after 48 global rounds:\n",
      "INFO:root:Train Accuracy: 0.00%\n",
      "INFO:root:Training Loss : 0.11384637699320473\n",
      "INFO:root:Test Accuracy: 39.39%\n",
      "INFO:root:Test Loss: 2.6762375965155663 \n",
      "\n",
      " 48%|████▊     | 48/100 [29:40<33:50, 39.04s/it]"
     ]
    },
    {
     "name": "stdout",
     "output_type": "stream",
     "text": [
      "[744, 2195, 209, 1780, 2575, 123, 327, 40, 1736, 690]\n"
     ]
    },
    {
     "name": "stderr",
     "output_type": "stream",
     "text": [
      "INFO:root: \n",
      "Avg Training Stats after 49 global rounds:\n",
      "INFO:root:Train Accuracy: 0.00%\n",
      "INFO:root:Training Loss : 0.19459636447737255\n",
      "INFO:root:Test Accuracy: 40.40%\n",
      "INFO:root:Test Loss: 2.8220654962956906 \n",
      "\n",
      " 49%|████▉     | 49/100 [30:17<32:41, 38.46s/it]"
     ]
    },
    {
     "name": "stdout",
     "output_type": "stream",
     "text": [
      "[862, 690, 1433, 173, 3195, 2934, 116, 447, 231, 431]\n"
     ]
    },
    {
     "name": "stderr",
     "output_type": "stream",
     "text": [
      "INFO:root: \n",
      "Avg Training Stats after 50 global rounds:\n",
      "INFO:root:Train Accuracy: 0.00%\n",
      "INFO:root:Training Loss : 0.20030148043227322\n",
      "INFO:root:Test Accuracy: 27.60%\n",
      "INFO:root:Test Loss: 4.28220885656774 \n",
      "\n",
      " 50%|█████     | 50/100 [30:54<31:41, 38.03s/it]"
     ]
    },
    {
     "name": "stdout",
     "output_type": "stream",
     "text": [
      "[1320, 19, 3195, 87, 1756, 303, 813, 2575, 231, 231]\n"
     ]
    },
    {
     "name": "stderr",
     "output_type": "stream",
     "text": [
      "INFO:root: \n",
      "Avg Training Stats after 51 global rounds:\n",
      "INFO:root:Train Accuracy: 0.00%\n",
      "INFO:root:Training Loss : 0.11902304189363258\n",
      "INFO:root:Test Accuracy: 21.13%\n",
      "INFO:root:Test Loss: 8.008430994246154 \n",
      "\n",
      " 51%|█████     | 51/100 [31:31<30:43, 37.63s/it]"
     ]
    },
    {
     "name": "stdout",
     "output_type": "stream",
     "text": [
      "[40, 813, 1780, 2934, 15, 173, 278, 19, 1798, 267]\n"
     ]
    },
    {
     "name": "stderr",
     "output_type": "stream",
     "text": [
      "INFO:root: \n",
      "Avg Training Stats after 52 global rounds:\n",
      "INFO:root:Train Accuracy: 0.00%\n",
      "INFO:root:Training Loss : 0.3643391082144362\n",
      "INFO:root:Test Accuracy: 27.62%\n",
      "INFO:root:Test Loss: 3.8703368589282037 \n",
      "\n",
      " 52%|█████▏    | 52/100 [32:04<28:54, 36.14s/it]"
     ]
    },
    {
     "name": "stdout",
     "output_type": "stream",
     "text": [
      "[267, 231, 690, 173, 1780, 1053, 862, 590, 1433, 303]\n"
     ]
    },
    {
     "name": "stderr",
     "output_type": "stream",
     "text": [
      "INFO:root: \n",
      "Avg Training Stats after 53 global rounds:\n",
      "INFO:root:Train Accuracy: 0.00%\n",
      "INFO:root:Training Loss : 0.18112777067203067\n",
      "INFO:root:Test Accuracy: 50.23%\n",
      "INFO:root:Test Loss: 1.9985658913850783 \n",
      "\n",
      " 53%|█████▎    | 53/100 [32:35<27:15, 34.80s/it]"
     ]
    },
    {
     "name": "stdout",
     "output_type": "stream",
     "text": [
      "[431, 3195, 201, 796, 2934, 15, 231, 1112, 1736, 267]\n"
     ]
    },
    {
     "name": "stderr",
     "output_type": "stream",
     "text": [
      "INFO:root: \n",
      "Avg Training Stats after 54 global rounds:\n",
      "INFO:root:Train Accuracy: 0.00%\n",
      "INFO:root:Training Loss : 0.14233772917636173\n",
      "INFO:root:Test Accuracy: 54.97%\n",
      "INFO:root:Test Loss: 1.6882806661725045 \n",
      "\n",
      " 54%|█████▍    | 54/100 [33:13<27:18, 35.62s/it]"
     ]
    },
    {
     "name": "stdout",
     "output_type": "stream",
     "text": [
      "[40, 1320, 1416, 286, 2195, 1012, 201, 116, 1053, 542]\n"
     ]
    },
    {
     "name": "stderr",
     "output_type": "stream",
     "text": [
      "INFO:root: \n",
      "Avg Training Stats after 55 global rounds:\n",
      "INFO:root:Train Accuracy: 0.00%\n",
      "INFO:root:Training Loss : 0.16890745697196563\n",
      "INFO:root:Test Accuracy: 50.10%\n",
      "INFO:root:Test Loss: 2.081876907348633 \n",
      "\n",
      " 55%|█████▌    | 55/100 [33:46<26:04, 34.77s/it]"
     ]
    },
    {
     "name": "stdout",
     "output_type": "stream",
     "text": [
      "[1798, 422, 231, 4600, 231, 2575, 1433, 106, 1320, 862]\n"
     ]
    },
    {
     "name": "stderr",
     "output_type": "stream",
     "text": [
      "INFO:root: \n",
      "Avg Training Stats after 56 global rounds:\n",
      "INFO:root:Train Accuracy: 0.00%\n",
      "INFO:root:Training Loss : 0.09681177123475156\n",
      "INFO:root:Test Accuracy: 45.89%\n",
      "INFO:root:Test Loss: 2.5554875319451096 \n",
      "\n",
      " 56%|█████▌    | 56/100 [34:28<27:10, 37.06s/it]"
     ]
    },
    {
     "name": "stdout",
     "output_type": "stream",
     "text": [
      "[2274, 3195, 267, 2029, 590, 327, 2195, 278, 1756, 813]\n"
     ]
    },
    {
     "name": "stderr",
     "output_type": "stream",
     "text": [
      "INFO:root: \n",
      "Avg Training Stats after 57 global rounds:\n",
      "INFO:root:Train Accuracy: 0.00%\n",
      "INFO:root:Training Loss : 0.12426389720703357\n",
      "INFO:root:Test Accuracy: 43.50%\n",
      "INFO:root:Test Loss: 3.301233365535736 \n",
      "\n",
      " 57%|█████▋    | 57/100 [35:11<27:46, 38.75s/it]"
     ]
    },
    {
     "name": "stdout",
     "output_type": "stream",
     "text": [
      "[1798, 431, 123, 1320, 1416, 231, 2575, 2934, 19, 1756]\n"
     ]
    },
    {
     "name": "stderr",
     "output_type": "stream",
     "text": [
      "INFO:root: \n",
      "Avg Training Stats after 58 global rounds:\n",
      "INFO:root:Train Accuracy: 0.00%\n",
      "INFO:root:Training Loss : 0.1636518605722023\n",
      "INFO:root:Test Accuracy: 42.79%\n",
      "INFO:root:Test Loss: 3.2370644299685956 \n",
      "\n",
      " 58%|█████▊    | 58/100 [35:51<27:28, 39.25s/it]"
     ]
    },
    {
     "name": "stdout",
     "output_type": "stream",
     "text": [
      "[1018, 267, 2274, 447, 2029, 690, 590, 303, 1119, 796]\n"
     ]
    },
    {
     "name": "stderr",
     "output_type": "stream",
     "text": [
      "INFO:root: \n",
      "Avg Training Stats after 59 global rounds:\n",
      "INFO:root:Train Accuracy: 0.00%\n",
      "INFO:root:Training Loss : 0.1008391397792783\n",
      "INFO:root:Test Accuracy: 54.70%\n",
      "INFO:root:Test Loss: 2.512342570722103 \n",
      "\n",
      " 59%|█████▉    | 59/100 [36:26<26:00, 38.07s/it]"
     ]
    },
    {
     "name": "stdout",
     "output_type": "stream",
     "text": [
      "[106, 2430, 447, 1433, 1012, 3195, 1119, 1756, 862, 4600]\n",
      "0.1\n"
     ]
    },
    {
     "name": "stderr",
     "output_type": "stream",
     "text": [
      "INFO:root: \n",
      "Avg Training Stats after 60 global rounds:\n",
      "INFO:root:Train Accuracy: 0.00%\n",
      "INFO:root:Training Loss : 0.05593165670851309\n",
      "INFO:root:Test Accuracy: 55.80%\n",
      "INFO:root:Test Loss: 2.4011521661281585 \n",
      "\n",
      " 60%|██████    | 60/100 [37:15<27:25, 41.14s/it]"
     ]
    },
    {
     "name": "stdout",
     "output_type": "stream",
     "text": [
      "[1780, 1320, 286, 2029, 40, 796, 447, 15, 231, 744]\n"
     ]
    },
    {
     "name": "stderr",
     "output_type": "stream",
     "text": [
      "INFO:root: \n",
      "Avg Training Stats after 61 global rounds:\n",
      "INFO:root:Train Accuracy: 0.00%\n",
      "INFO:root:Training Loss : 0.11661790429580632\n",
      "INFO:root:Test Accuracy: 56.92%\n",
      "INFO:root:Test Loss: 2.2492878416180613 \n",
      "\n",
      " 61%|██████    | 61/100 [37:47<24:56, 38.37s/it]"
     ]
    },
    {
     "name": "stdout",
     "output_type": "stream",
     "text": [
      "[116, 15, 2029, 327, 19, 470, 422, 87, 1012, 303]\n"
     ]
    },
    {
     "name": "stderr",
     "output_type": "stream",
     "text": [
      "INFO:root: \n",
      "Avg Training Stats after 62 global rounds:\n",
      "INFO:root:Train Accuracy: 0.00%\n",
      "INFO:root:Training Loss : 0.1888095687689409\n",
      "INFO:root:Test Accuracy: 57.32%\n",
      "INFO:root:Test Loss: 2.159495697170496 \n",
      "\n",
      " 62%|██████▏   | 62/100 [38:14<22:09, 34.99s/it]"
     ]
    },
    {
     "name": "stdout",
     "output_type": "stream",
     "text": [
      "[796, 2274, 862, 286, 813, 3195, 1112, 422, 1119, 327]\n"
     ]
    },
    {
     "name": "stderr",
     "output_type": "stream",
     "text": [
      "INFO:root: \n",
      "Avg Training Stats after 63 global rounds:\n",
      "INFO:root:Train Accuracy: 0.00%\n",
      "INFO:root:Training Loss : 0.1036262723886853\n",
      "INFO:root:Test Accuracy: 57.08%\n",
      "INFO:root:Test Loss: 2.0324431264400484 \n",
      "\n",
      " 63%|██████▎   | 63/100 [38:52<22:06, 35.86s/it]"
     ]
    },
    {
     "name": "stdout",
     "output_type": "stream",
     "text": [
      "[542, 1798, 690, 15, 267, 2575, 796, 590, 209, 470]\n"
     ]
    },
    {
     "name": "stderr",
     "output_type": "stream",
     "text": [
      "INFO:root: \n",
      "Avg Training Stats after 64 global rounds:\n",
      "INFO:root:Train Accuracy: 0.00%\n",
      "INFO:root:Training Loss : 0.13446013286466085\n",
      "INFO:root:Test Accuracy: 57.55%\n",
      "INFO:root:Test Loss: 1.8978857982158661 \n",
      "\n",
      " 64%|██████▍   | 64/100 [39:24<20:52, 34.78s/it]"
     ]
    },
    {
     "name": "stdout",
     "output_type": "stream",
     "text": [
      "[87, 267, 286, 1053, 303, 796, 40, 173, 19, 327]\n"
     ]
    },
    {
     "name": "stderr",
     "output_type": "stream",
     "text": [
      "INFO:root: \n",
      "Avg Training Stats after 65 global rounds:\n",
      "INFO:root:Train Accuracy: 0.00%\n",
      "INFO:root:Training Loss : 0.19064466808138786\n",
      "INFO:root:Test Accuracy: 57.09%\n",
      "INFO:root:Test Loss: 1.8343182650208474 \n",
      "\n",
      " 65%|██████▌   | 65/100 [39:48<18:26, 31.62s/it]"
     ]
    },
    {
     "name": "stdout",
     "output_type": "stream",
     "text": [
      "[813, 542, 106, 123, 4600, 40, 209, 2029, 1736, 2195]\n"
     ]
    },
    {
     "name": "stderr",
     "output_type": "stream",
     "text": [
      "INFO:root: \n",
      "Avg Training Stats after 66 global rounds:\n",
      "INFO:root:Train Accuracy: 0.00%\n",
      "INFO:root:Training Loss : 0.1105368658439611\n",
      "INFO:root:Test Accuracy: 57.89%\n",
      "INFO:root:Test Loss: 1.695912360548973 \n",
      "\n",
      " 66%|██████▌   | 66/100 [40:29<19:25, 34.26s/it]"
     ]
    },
    {
     "name": "stdout",
     "output_type": "stream",
     "text": [
      "[1416, 1320, 201, 744, 2934, 447, 278, 2430, 1018, 2274]\n"
     ]
    },
    {
     "name": "stderr",
     "output_type": "stream",
     "text": [
      "INFO:root: \n",
      "Avg Training Stats after 67 global rounds:\n",
      "INFO:root:Train Accuracy: 0.00%\n",
      "INFO:root:Training Loss : 0.10648584259525928\n",
      "INFO:root:Test Accuracy: 59.87%\n",
      "INFO:root:Test Loss: 1.5086940969526768 \n",
      "\n",
      " 67%|██████▋   | 67/100 [41:10<20:01, 36.41s/it]"
     ]
    },
    {
     "name": "stdout",
     "output_type": "stream",
     "text": [
      "[303, 1012, 470, 123, 106, 201, 87, 1736, 2934, 2575]\n"
     ]
    },
    {
     "name": "stderr",
     "output_type": "stream",
     "text": [
      "INFO:root: \n",
      "Avg Training Stats after 68 global rounds:\n",
      "INFO:root:Train Accuracy: 0.00%\n",
      "INFO:root:Training Loss : 0.0806926772105792\n",
      "INFO:root:Test Accuracy: 62.76%\n",
      "INFO:root:Test Loss: 1.3105536127090454 \n",
      "\n",
      " 68%|██████▊   | 68/100 [41:45<19:12, 36.02s/it]"
     ]
    },
    {
     "name": "stdout",
     "output_type": "stream",
     "text": [
      "[3195, 794, 690, 2029, 231, 1756, 1112, 1736, 201, 813]\n"
     ]
    },
    {
     "name": "stderr",
     "output_type": "stream",
     "text": [
      "INFO:root: \n",
      "Avg Training Stats after 69 global rounds:\n",
      "INFO:root:Train Accuracy: 0.00%\n",
      "INFO:root:Training Loss : 0.0683261151490925\n",
      "INFO:root:Test Accuracy: 64.96%\n",
      "INFO:root:Test Loss: 1.1891860756278039 \n",
      "\n",
      " 69%|██████▉   | 69/100 [42:26<19:18, 37.36s/it]"
     ]
    },
    {
     "name": "stdout",
     "output_type": "stream",
     "text": [
      "[106, 40, 278, 422, 470, 2029, 2934, 744, 2274, 327]\n"
     ]
    },
    {
     "name": "stderr",
     "output_type": "stream",
     "text": [
      "INFO:root: \n",
      "Avg Training Stats after 70 global rounds:\n",
      "INFO:root:Train Accuracy: 0.00%\n",
      "INFO:root:Training Loss : 0.11147670653232922\n",
      "INFO:root:Test Accuracy: 64.42%\n",
      "INFO:root:Test Loss: 1.186059514582157 \n",
      "\n",
      " 70%|███████   | 70/100 [43:01<18:25, 36.84s/it]"
     ]
    },
    {
     "name": "stdout",
     "output_type": "stream",
     "text": [
      "[3195, 267, 303, 173, 286, 2029, 422, 1012, 796, 106]\n"
     ]
    },
    {
     "name": "stderr",
     "output_type": "stream",
     "text": [
      "INFO:root: \n",
      "Avg Training Stats after 71 global rounds:\n",
      "INFO:root:Train Accuracy: 0.00%\n",
      "INFO:root:Training Loss : 0.09980742031055714\n",
      "INFO:root:Test Accuracy: 62.81%\n",
      "INFO:root:Test Loss: 1.2680134981870652 \n",
      "\n",
      " 71%|███████   | 71/100 [43:35<17:19, 35.84s/it]"
     ]
    },
    {
     "name": "stdout",
     "output_type": "stream",
     "text": [
      "[209, 40, 4600, 106, 123, 1012, 690, 542, 602, 2575]\n"
     ]
    },
    {
     "name": "stderr",
     "output_type": "stream",
     "text": [
      "INFO:root: \n",
      "Avg Training Stats after 72 global rounds:\n",
      "INFO:root:Train Accuracy: 0.00%\n",
      "INFO:root:Training Loss : 0.10823629762538786\n",
      "INFO:root:Test Accuracy: 61.13%\n",
      "INFO:root:Test Loss: 1.3560980725288392 \n",
      "\n",
      " 72%|███████▏  | 72/100 [44:12<16:52, 36.17s/it]"
     ]
    },
    {
     "name": "stdout",
     "output_type": "stream",
     "text": [
      "[1012, 2430, 2274, 209, 1798, 303, 1112, 231, 744, 278]\n"
     ]
    },
    {
     "name": "stderr",
     "output_type": "stream",
     "text": [
      "INFO:root: \n",
      "Avg Training Stats after 73 global rounds:\n",
      "INFO:root:Train Accuracy: 0.00%\n",
      "INFO:root:Training Loss : 0.08184919261425605\n",
      "INFO:root:Test Accuracy: 61.02%\n",
      "INFO:root:Test Loss: 1.3939725723862648 \n",
      "\n",
      " 73%|███████▎  | 73/100 [44:49<16:24, 36.46s/it]"
     ]
    },
    {
     "name": "stdout",
     "output_type": "stream",
     "text": [
      "[447, 1320, 209, 327, 744, 1018, 231, 2430, 590, 602]\n"
     ]
    },
    {
     "name": "stderr",
     "output_type": "stream",
     "text": [
      "INFO:root: \n",
      "Avg Training Stats after 74 global rounds:\n",
      "INFO:root:Train Accuracy: 0.00%\n",
      "INFO:root:Training Loss : 0.1437335528464058\n",
      "INFO:root:Test Accuracy: 61.99%\n",
      "INFO:root:Test Loss: 1.3638902324438096 \n",
      "\n",
      " 74%|███████▍  | 74/100 [45:21<15:17, 35.29s/it]"
     ]
    },
    {
     "name": "stdout",
     "output_type": "stream",
     "text": [
      "[470, 1053, 303, 1012, 106, 3195, 447, 1112, 201, 1433]\n"
     ]
    },
    {
     "name": "stderr",
     "output_type": "stream",
     "text": [
      "INFO:root: \n",
      "Avg Training Stats after 75 global rounds:\n",
      "INFO:root:Train Accuracy: 0.00%\n",
      "INFO:root:Training Loss : 0.057805112128643865\n",
      "INFO:root:Test Accuracy: 62.41%\n",
      "INFO:root:Test Loss: 1.3668703138828278 \n",
      "\n",
      " 75%|███████▌  | 75/100 [45:56<14:39, 35.16s/it]"
     ]
    },
    {
     "name": "stdout",
     "output_type": "stream",
     "text": [
      "[231, 1433, 431, 209, 1416, 1780, 116, 123, 422, 4600]\n"
     ]
    },
    {
     "name": "stderr",
     "output_type": "stream",
     "text": [
      "INFO:root: \n",
      "Avg Training Stats after 76 global rounds:\n",
      "INFO:root:Train Accuracy: 0.00%\n",
      "INFO:root:Training Loss : 0.17222548645421215\n",
      "INFO:root:Test Accuracy: 62.60%\n",
      "INFO:root:Test Loss: 1.3786480301618576 \n",
      "\n",
      " 76%|███████▌  | 76/100 [46:34<14:22, 35.93s/it]"
     ]
    },
    {
     "name": "stdout",
     "output_type": "stream",
     "text": [
      "[2575, 796, 1053, 267, 602, 1018, 201, 1756, 286, 2430]\n"
     ]
    },
    {
     "name": "stderr",
     "output_type": "stream",
     "text": [
      "INFO:root: \n",
      "Avg Training Stats after 77 global rounds:\n",
      "INFO:root:Train Accuracy: 0.00%\n",
      "INFO:root:Training Loss : 0.10517022145880553\n",
      "INFO:root:Test Accuracy: 63.44%\n",
      "INFO:root:Test Loss: 1.3554196113348007 \n",
      "\n",
      " 77%|███████▋  | 77/100 [47:12<13:58, 36.45s/it]"
     ]
    },
    {
     "name": "stdout",
     "output_type": "stream",
     "text": [
      "[15, 2029, 2274, 744, 1018, 1736, 2934, 19, 173, 447]\n"
     ]
    },
    {
     "name": "stderr",
     "output_type": "stream",
     "text": [
      "INFO:root: \n",
      "Avg Training Stats after 78 global rounds:\n",
      "INFO:root:Train Accuracy: 0.00%\n",
      "INFO:root:Training Loss : 0.13508441012854505\n",
      "INFO:root:Test Accuracy: 64.16%\n",
      "INFO:root:Test Loss: 1.3118071533739566 \n",
      "\n",
      " 78%|███████▊  | 78/100 [47:50<13:34, 37.04s/it]"
     ]
    },
    {
     "name": "stdout",
     "output_type": "stream",
     "text": [
      "[542, 602, 173, 201, 590, 690, 422, 2934, 1736, 744]\n"
     ]
    },
    {
     "name": "stderr",
     "output_type": "stream",
     "text": [
      "INFO:root: \n",
      "Avg Training Stats after 79 global rounds:\n",
      "INFO:root:Train Accuracy: 0.00%\n",
      "INFO:root:Training Loss : 0.13887047258542964\n",
      "INFO:root:Test Accuracy: 64.61%\n",
      "INFO:root:Test Loss: 1.2887908302247524 \n",
      "\n",
      " 79%|███████▉  | 79/100 [48:24<12:38, 36.14s/it]"
     ]
    },
    {
     "name": "stdout",
     "output_type": "stream",
     "text": [
      "[201, 278, 40, 1112, 106, 690, 2029, 87, 796, 3195]\n"
     ]
    },
    {
     "name": "stderr",
     "output_type": "stream",
     "text": [
      "INFO:root: \n",
      "Avg Training Stats after 80 global rounds:\n",
      "INFO:root:Train Accuracy: 0.00%\n",
      "INFO:root:Training Loss : 0.062477236217478783\n",
      "INFO:root:Test Accuracy: 65.75%\n",
      "INFO:root:Test Loss: 1.2381130310893058 \n",
      "\n",
      " 80%|████████  | 80/100 [48:57<11:46, 35.31s/it]"
     ]
    },
    {
     "name": "stdout",
     "output_type": "stream",
     "text": [
      "[1798, 15, 201, 123, 1433, 542, 1119, 690, 602, 40]\n"
     ]
    },
    {
     "name": "stderr",
     "output_type": "stream",
     "text": [
      "INFO:root: \n",
      "Avg Training Stats after 81 global rounds:\n",
      "INFO:root:Train Accuracy: 0.00%\n",
      "INFO:root:Training Loss : 0.10804614316796438\n",
      "INFO:root:Test Accuracy: 66.80%\n",
      "INFO:root:Test Loss: 1.2184854519367219 \n",
      "\n",
      " 81%|████████  | 81/100 [49:27<10:40, 33.70s/it]"
     ]
    },
    {
     "name": "stdout",
     "output_type": "stream",
     "text": [
      "[267, 542, 209, 796, 87, 3195, 231, 303, 2934, 1119]\n"
     ]
    },
    {
     "name": "stderr",
     "output_type": "stream",
     "text": [
      "INFO:root: \n",
      "Avg Training Stats after 82 global rounds:\n",
      "INFO:root:Train Accuracy: 0.00%\n",
      "INFO:root:Training Loss : 0.08763576408999925\n",
      "INFO:root:Test Accuracy: 67.01%\n",
      "INFO:root:Test Loss: 1.199943957030773 \n",
      "\n",
      " 82%|████████▏ | 82/100 [50:03<10:16, 34.26s/it]"
     ]
    },
    {
     "name": "stdout",
     "output_type": "stream",
     "text": [
      "[690, 431, 422, 231, 4600, 2934, 2029, 327, 796, 590]\n"
     ]
    },
    {
     "name": "stderr",
     "output_type": "stream",
     "text": [
      "INFO:root: \n",
      "Avg Training Stats after 83 global rounds:\n",
      "INFO:root:Train Accuracy: 0.00%\n",
      "INFO:root:Training Loss : 0.1015958575893604\n",
      "INFO:root:Test Accuracy: 67.16%\n",
      "INFO:root:Test Loss: 1.1778971749544143 \n",
      "\n",
      " 83%|████████▎ | 83/100 [50:45<10:20, 36.49s/it]"
     ]
    },
    {
     "name": "stdout",
     "output_type": "stream",
     "text": [
      "[231, 1112, 87, 303, 690, 796, 2195, 813, 327, 1018]\n"
     ]
    },
    {
     "name": "stderr",
     "output_type": "stream",
     "text": [
      "INFO:root: \n",
      "Avg Training Stats after 84 global rounds:\n",
      "INFO:root:Train Accuracy: 0.00%\n",
      "INFO:root:Training Loss : 0.09585462679654044\n",
      "INFO:root:Test Accuracy: 67.08%\n",
      "INFO:root:Test Loss: 1.1655244433879852 \n",
      "\n",
      " 84%|████████▍ | 84/100 [51:16<09:21, 35.07s/it]"
     ]
    },
    {
     "name": "stdout",
     "output_type": "stream",
     "text": [
      "[602, 1018, 542, 106, 794, 447, 2029, 1433, 327, 690]\n"
     ]
    },
    {
     "name": "stderr",
     "output_type": "stream",
     "text": [
      "INFO:root: \n",
      "Avg Training Stats after 85 global rounds:\n",
      "INFO:root:Train Accuracy: 0.00%\n",
      "INFO:root:Training Loss : 0.10968797851725942\n",
      "INFO:root:Test Accuracy: 66.01%\n",
      "INFO:root:Test Loss: 1.212204267680645 \n",
      "\n",
      " 85%|████████▌ | 85/100 [51:49<08:37, 34.47s/it]"
     ]
    },
    {
     "name": "stdout",
     "output_type": "stream",
     "text": [
      "[1433, 267, 447, 1012, 470, 201, 231, 15, 278, 1736]\n"
     ]
    },
    {
     "name": "stderr",
     "output_type": "stream",
     "text": [
      "INFO:root: \n",
      "Avg Training Stats after 86 global rounds:\n",
      "INFO:root:Train Accuracy: 0.00%\n",
      "INFO:root:Training Loss : 0.10940655810165785\n",
      "INFO:root:Test Accuracy: 64.26%\n",
      "INFO:root:Test Loss: 1.297661400437355 \n",
      "\n",
      " 86%|████████▌ | 86/100 [52:19<07:41, 32.97s/it]"
     ]
    },
    {
     "name": "stdout",
     "output_type": "stream",
     "text": [
      "[40, 1053, 231, 286, 106, 2274, 470, 1119, 447, 1416]\n"
     ]
    },
    {
     "name": "stderr",
     "output_type": "stream",
     "text": [
      "INFO:root: \n",
      "Avg Training Stats after 87 global rounds:\n",
      "INFO:root:Train Accuracy: 0.00%\n",
      "INFO:root:Training Loss : 0.08515415692272829\n",
      "INFO:root:Test Accuracy: 62.79%\n",
      "INFO:root:Test Loss: 1.3867063881456851 \n",
      "\n",
      " 87%|████████▋ | 87/100 [52:50<07:03, 32.56s/it]"
     ]
    },
    {
     "name": "stdout",
     "output_type": "stream",
     "text": [
      "[209, 2029, 231, 278, 1320, 862, 2195, 690, 1736, 106]\n"
     ]
    },
    {
     "name": "stderr",
     "output_type": "stream",
     "text": [
      "INFO:root: \n",
      "Avg Training Stats after 88 global rounds:\n",
      "INFO:root:Train Accuracy: 0.00%\n",
      "INFO:root:Training Loss : 0.08574326413860617\n",
      "INFO:root:Test Accuracy: 60.93%\n",
      "INFO:root:Test Loss: 1.4991690398752688 \n",
      "\n",
      " 88%|████████▊ | 88/100 [53:26<06:40, 33.38s/it]"
     ]
    },
    {
     "name": "stdout",
     "output_type": "stream",
     "text": [
      "[2430, 201, 2195, 2575, 123, 602, 116, 794, 4600, 690]\n"
     ]
    },
    {
     "name": "stderr",
     "output_type": "stream",
     "text": [
      "INFO:root: \n",
      "Avg Training Stats after 89 global rounds:\n",
      "INFO:root:Train Accuracy: 0.00%\n",
      "INFO:root:Training Loss : 0.10992643283956931\n",
      "INFO:root:Test Accuracy: 60.73%\n",
      "INFO:root:Test Loss: 1.4920580968260766 \n",
      "\n",
      " 89%|████████▉ | 89/100 [54:09<06:40, 36.42s/it]"
     ]
    },
    {
     "name": "stdout",
     "output_type": "stream",
     "text": [
      "[470, 303, 278, 87, 1119, 2274, 1780, 19, 4600, 602]\n",
      "0.010000000000000002\n"
     ]
    },
    {
     "name": "stderr",
     "output_type": "stream",
     "text": [
      "INFO:root: \n",
      "Avg Training Stats after 90 global rounds:\n",
      "INFO:root:Train Accuracy: 0.00%\n",
      "INFO:root:Training Loss : 0.0772894756601259\n",
      "INFO:root:Test Accuracy: 60.89%\n",
      "INFO:root:Test Loss: 1.4817592357099056 \n",
      "\n",
      " 90%|█████████ | 90/100 [54:48<06:11, 37.14s/it]"
     ]
    },
    {
     "name": "stdout",
     "output_type": "stream",
     "text": [
      "[2575, 602, 2029, 327, 209, 4600, 2274, 1756, 431, 1112]\n"
     ]
    },
    {
     "name": "stderr",
     "output_type": "stream",
     "text": [
      "INFO:root: \n",
      "Avg Training Stats after 91 global rounds:\n",
      "INFO:root:Train Accuracy: 0.00%\n",
      "INFO:root:Training Loss : 0.09549252366961988\n",
      "INFO:root:Test Accuracy: 61.16%\n",
      "INFO:root:Test Loss: 1.4628575910627841 \n",
      "\n",
      " 91%|█████████ | 91/100 [55:34<05:58, 39.89s/it]"
     ]
    },
    {
     "name": "stdout",
     "output_type": "stream",
     "text": [
      "[2195, 267, 813, 286, 3195, 470, 231, 278, 1012, 231]\n"
     ]
    },
    {
     "name": "stderr",
     "output_type": "stream",
     "text": [
      "INFO:root: \n",
      "Avg Training Stats after 92 global rounds:\n",
      "INFO:root:Train Accuracy: 0.00%\n",
      "INFO:root:Training Loss : 0.08209449732063377\n",
      "INFO:root:Test Accuracy: 61.57%\n",
      "INFO:root:Test Loss: 1.4420860448479653 \n",
      "\n",
      " 92%|█████████▏| 92/100 [56:09<05:05, 38.20s/it]"
     ]
    },
    {
     "name": "stdout",
     "output_type": "stream",
     "text": [
      "[1053, 2575, 303, 2430, 542, 116, 1756, 1433, 327, 15]\n"
     ]
    },
    {
     "name": "stderr",
     "output_type": "stream",
     "text": [
      "INFO:root: \n",
      "Avg Training Stats after 93 global rounds:\n",
      "INFO:root:Train Accuracy: 0.00%\n",
      "INFO:root:Training Loss : 0.1384805077189621\n",
      "INFO:root:Test Accuracy: 62.05%\n",
      "INFO:root:Test Loss: 1.41544882401824 \n",
      "\n",
      " 93%|█████████▎| 93/100 [56:46<04:24, 37.83s/it]"
     ]
    },
    {
     "name": "stdout",
     "output_type": "stream",
     "text": [
      "[590, 4600, 201, 286, 303, 1736, 15, 1798, 744, 422]\n"
     ]
    },
    {
     "name": "stderr",
     "output_type": "stream",
     "text": [
      "INFO:root: \n",
      "Avg Training Stats after 94 global rounds:\n",
      "INFO:root:Train Accuracy: 0.00%\n",
      "INFO:root:Training Loss : 0.0995782914753752\n",
      "INFO:root:Test Accuracy: 62.54%\n",
      "INFO:root:Test Loss: 1.3806218361854554 \n",
      "\n",
      " 94%|█████████▍| 94/100 [57:23<03:46, 37.69s/it]"
     ]
    },
    {
     "name": "stdout",
     "output_type": "stream",
     "text": [
      "[123, 862, 542, 19, 794, 1112, 4600, 2934, 231, 15]\n"
     ]
    },
    {
     "name": "stderr",
     "output_type": "stream",
     "text": [
      "INFO:root: \n",
      "Avg Training Stats after 95 global rounds:\n",
      "INFO:root:Train Accuracy: 0.00%\n",
      "INFO:root:Training Loss : 0.1176702860382072\n",
      "INFO:root:Test Accuracy: 63.03%\n",
      "INFO:root:Test Loss: 1.3408546203374863 \n",
      "\n",
      " 95%|█████████▌| 95/100 [58:01<03:09, 37.86s/it]"
     ]
    },
    {
     "name": "stdout",
     "output_type": "stream",
     "text": [
      "[1053, 87, 2575, 4600, 542, 231, 1433, 1012, 2029, 862]\n"
     ]
    },
    {
     "name": "stderr",
     "output_type": "stream",
     "text": [
      "INFO:root: \n",
      "Avg Training Stats after 96 global rounds:\n",
      "INFO:root:Train Accuracy: 0.00%\n",
      "INFO:root:Training Loss : 0.06772962932299716\n",
      "INFO:root:Test Accuracy: 63.44%\n",
      "INFO:root:Test Loss: 1.3029150718450546 \n",
      "\n",
      " 96%|█████████▌| 96/100 [58:45<02:38, 39.72s/it]"
     ]
    },
    {
     "name": "stdout",
     "output_type": "stream",
     "text": [
      "[19, 602, 40, 690, 267, 231, 173, 2029, 1798, 3195]\n"
     ]
    },
    {
     "name": "stderr",
     "output_type": "stream",
     "text": [
      "INFO:root: \n",
      "Avg Training Stats after 97 global rounds:\n",
      "INFO:root:Train Accuracy: 0.00%\n",
      "INFO:root:Training Loss : 0.12149349414245307\n",
      "INFO:root:Test Accuracy: 64.32%\n",
      "INFO:root:Test Loss: 1.267571520358324 \n",
      "\n",
      " 97%|█████████▋| 97/100 [59:20<01:54, 38.10s/it]"
     ]
    },
    {
     "name": "stdout",
     "output_type": "stream",
     "text": [
      "[209, 1012, 422, 40, 794, 4600, 116, 286, 303, 1756]\n"
     ]
    },
    {
     "name": "stderr",
     "output_type": "stream",
     "text": [
      "INFO:root: \n",
      "Avg Training Stats after 98 global rounds:\n",
      "INFO:root:Train Accuracy: 0.00%\n",
      "INFO:root:Training Loss : 0.0960260786217523\n",
      "INFO:root:Test Accuracy: 64.90%\n",
      "INFO:root:Test Loss: 1.2329072685539721 \n",
      "\n",
      " 98%|█████████▊| 98/100 [59:55<01:14, 37.24s/it]"
     ]
    },
    {
     "name": "stdout",
     "output_type": "stream",
     "text": [
      "[2274, 1736, 173, 1416, 447, 19, 2195, 2029, 862, 744]\n"
     ]
    },
    {
     "name": "stderr",
     "output_type": "stream",
     "text": [
      "INFO:root: \n",
      "Avg Training Stats after 99 global rounds:\n",
      "INFO:root:Train Accuracy: 0.00%\n",
      "INFO:root:Training Loss : 0.13243769696662294\n",
      "INFO:root:Test Accuracy: 65.44%\n",
      "INFO:root:Test Loss: 1.2072455002367497 \n",
      "\n",
      " 99%|█████████▉| 99/100 [1:00:34<00:37, 37.95s/it]"
     ]
    },
    {
     "name": "stdout",
     "output_type": "stream",
     "text": [
      "[431, 1798, 1736, 744, 19, 278, 690, 590, 116, 40]\n"
     ]
    },
    {
     "name": "stderr",
     "output_type": "stream",
     "text": [
      "INFO:root: \n",
      "Avg Training Stats after 100 global rounds:\n",
      "INFO:root:Train Accuracy: 0.00%\n",
      "INFO:root:Training Loss : 0.10496258483989167\n",
      "INFO:root:Test Accuracy: 66.06%\n",
      "INFO:root:Test Loss: 1.1828490705788135 \n",
      "\n",
      "100%|██████████| 100/100 [1:01:04<00:00, 36.65s/it]\n",
      "INFO:root: \n",
      " Results after 100 global rounds of training:\n",
      "INFO:root:|---- Best Test Accuracy: 67.16% , round: 82\n"
     ]
    },
    {
     "name": "stdout",
     "output_type": "stream",
     "text": [
      " Saving checkpoints to ../save/checkpoint/ConvNet_1207/cifar10_ConvNet_none_T[100]_C[0.2]_iid[0]_E[10]_B[32]_GPU[0]_Pruned[0.0]...\n"
     ]
    }
   ],
   "source": [
    " args = easydict.EasyDict({\n",
    "    \"model\": 'ConvNet',\n",
    "    'dataset': 'cifar10',\n",
    "    'gpu': 0,\n",
    "    'iid': 0,\n",
    "    'epochs': 100,\n",
    "    'optimizer': 'sgd',\n",
    "    'seed': 0,\n",
    "    'norm': 'none',\n",
    "    'num_users': 50,\n",
    "    'frac': 0.2,\n",
    "    'local_ep': 10, \n",
    "    'local_bs': 32,\n",
    "    'lr': 0.01,\n",
    "    'momentum': 1,\n",
    "    'kernel_num': 9,\n",
    "    'kernel_sizes': 'only_momentum',\n",
    "    'num_channnels': '1',\n",
    "    'num_filters': 32,\n",
    "    'max_pool': 'True',\n",
    "    'num_classes': 10,\n",
    "    'unequal': 0,\n",
    "    'stopping_rounds': 0,\n",
    "    'verbose': 0,\n",
    "    'hold_normalize': 0,\n",
    "    'save_path': '../save/checkpoint',\n",
    "    'exp_folder': 'ConvNet_1207',\n",
    "    'resume': None,\n",
    "    'server_opt': 'sgdm',\n",
    "    'server_lr': 1.0,\n",
    "    'client_decay':0,\n",
    "    'local_decay':0,\n",
    "    'alpha': 0.05,\n",
    "    'server_epoch':0,\n",
    "    'cosine_norm':0, \n",
    "    'only_fc' :0 ,\n",
    "    'loss':'ce',\n",
    "    'dc_lr':0.0,\n",
    "    'tsne_pred':0,\n",
    "    'pruning': 0.0 })\n",
    "    \n",
    "    \n",
    "    \n",
    "temp = main_test(args)\n",
    "total.append(temp)"
   ]
  },
  {
   "cell_type": "code",
   "execution_count": 4,
   "id": "aboriginal-kruger",
   "metadata": {},
   "outputs": [
    {
     "name": "stderr",
     "output_type": "stream",
     "text": [
      "INFO:root:{'model': 'ConvNet', 'dataset': 'cifar10', 'gpu': 0, 'iid': 0, 'epochs': 100, 'optimizer': 'sgd', 'seed': 0, 'norm': 'none', 'num_users': 50, 'frac': 0.2, 'local_ep': 10, 'local_bs': 32, 'lr': 0.01, 'momentum': 1, 'kernel_num': 9, 'kernel_sizes': 'only_momentum', 'num_channnels': '1', 'num_filters': 32, 'max_pool': 'True', 'num_classes': 10, 'unequal': 0, 'stopping_rounds': 0, 'verbose': 0, 'hold_normalize': 0, 'save_path': '../save/checkpoint/ConvNet_1207', 'exp_folder': 'ConvNet_1207', 'resume': None, 'server_opt': 'sgd', 'server_lr': 1.0, 'client_decay': 0, 'local_decay': 0, 'alpha': 0.05, 'server_epoch': 0, 'cosine_norm': 0, 'only_fc': 0, 'loss': 'bsm', 'dc_lr': 0.0, 'tsne_pred': 0, 'pruning': 0.0}\n"
     ]
    },
    {
     "name": "stdout",
     "output_type": "stream",
     "text": [
      "Files already downloaded and verified\n",
      "Files already downloaded and verified\n",
      "Files already downloaded and verified\n"
     ]
    },
    {
     "name": "stderr",
     "output_type": "stream",
     "text": [
      "INFO:root:ConvNet(\n",
      "  (net_act): ReLU(inplace=True)\n",
      "  (net_pooling): MaxPool2d(kernel_size=2, stride=2, padding=0, dilation=1, ceil_mode=False)\n",
      "  (features): Sequential(\n",
      "    (0): Conv2d(3, 128, kernel_size=(3, 3), stride=(1, 1), padding=(1, 1))\n",
      "    (1): ReLU(inplace=True)\n",
      "    (2): MaxPool2d(kernel_size=2, stride=2, padding=0, dilation=1, ceil_mode=False)\n",
      "    (3): Conv2d(128, 128, kernel_size=(3, 3), stride=(1, 1), padding=(1, 1))\n",
      "    (4): ReLU(inplace=True)\n",
      "    (5): MaxPool2d(kernel_size=2, stride=2, padding=0, dilation=1, ceil_mode=False)\n",
      "    (6): Conv2d(128, 128, kernel_size=(3, 3), stride=(1, 1), padding=(1, 1))\n",
      "    (7): ReLU(inplace=True)\n",
      "    (8): MaxPool2d(kernel_size=2, stride=2, padding=0, dilation=1, ceil_mode=False)\n",
      "  )\n",
      "  (classifier): Linear(in_features=2048, out_features=10, bias=True)\n",
      ")\n",
      "INFO:root:None\n",
      "  0%|          | 0/100 [00:00<?, ?it/s]"
     ]
    },
    {
     "name": "stdout",
     "output_type": "stream",
     "text": [
      "----------------------------------------------------------------\n",
      "        Layer (type)               Output Shape         Param #\n",
      "================================================================\n",
      "            Conv2d-1          [-1, 128, 32, 32]           3,584\n",
      "              ReLU-2          [-1, 128, 32, 32]               0\n",
      "              ReLU-3          [-1, 128, 32, 32]               0\n",
      "         MaxPool2d-4          [-1, 128, 16, 16]               0\n",
      "         MaxPool2d-5          [-1, 128, 16, 16]               0\n",
      "            Conv2d-6          [-1, 128, 16, 16]         147,584\n",
      "              ReLU-7          [-1, 128, 16, 16]               0\n",
      "              ReLU-8          [-1, 128, 16, 16]               0\n",
      "         MaxPool2d-9            [-1, 128, 8, 8]               0\n",
      "        MaxPool2d-10            [-1, 128, 8, 8]               0\n",
      "           Conv2d-11            [-1, 128, 8, 8]         147,584\n",
      "             ReLU-12            [-1, 128, 8, 8]               0\n",
      "             ReLU-13            [-1, 128, 8, 8]               0\n",
      "        MaxPool2d-14            [-1, 128, 4, 4]               0\n",
      "        MaxPool2d-15            [-1, 128, 4, 4]               0\n",
      "           Linear-16                   [-1, 10]          20,490\n",
      "================================================================\n",
      "Total params: 319,242\n",
      "Trainable params: 319,242\n",
      "Non-trainable params: 0\n",
      "----------------------------------------------------------------\n",
      "Input size (MB): 0.01\n",
      "Forward/backward pass size (MB): 4.59\n",
      "Params size (MB): 1.22\n",
      "Estimated Total Size (MB): 5.82\n",
      "----------------------------------------------------------------\n",
      "[209, 1756, 422, 2575, 1018, 602, 2274, 447, 744, 1112, 123, 87, 1433, 1416, 40, 1119, 796, 794, 327, 470, 231, 813, 1320, 542, 690, 2195, 2934, 106, 1012, 15, 278, 1798, 303, 590, 2029, 201, 1053, 862, 231, 116, 4600, 19, 286, 1736, 2430, 431, 3195, 1780, 173, 267]\n",
      "[470, 2934, 201, 231, 2575, 744, 15, 123, 1119, 4600]\n"
     ]
    },
    {
     "name": "stderr",
     "output_type": "stream",
     "text": [
      "INFO:root: \n",
      "Avg Training Stats after 1 global rounds:\n",
      "INFO:root:Train Accuracy: 0.00%\n",
      "INFO:root:Training Loss : 0.2596565816162659\n",
      "INFO:root:Test Accuracy: 22.43%\n",
      "INFO:root:Test Loss: 2.230755784511566 \n",
      "\n",
      "  1%|          | 1/100 [00:41<1:09:03, 41.86s/it]"
     ]
    },
    {
     "name": "stdout",
     "output_type": "stream",
     "text": [
      "[231, 173, 2575, 1736, 2430, 123, 4600, 690, 1012, 447]\n"
     ]
    },
    {
     "name": "stderr",
     "output_type": "stream",
     "text": [
      "INFO:root: \n",
      "Avg Training Stats after 2 global rounds:\n",
      "INFO:root:Train Accuracy: 0.00%\n",
      "INFO:root:Training Loss : 0.4132426791278814\n",
      "INFO:root:Test Accuracy: 25.67%\n",
      "INFO:root:Test Loss: 2.0839533734321596 \n",
      "\n",
      "  2%|▏         | 2/100 [01:25<1:10:02, 42.88s/it]"
     ]
    },
    {
     "name": "stdout",
     "output_type": "stream",
     "text": [
      "[744, 2575, 1320, 470, 2430, 2274, 267, 690, 209, 303]\n"
     ]
    },
    {
     "name": "stderr",
     "output_type": "stream",
     "text": [
      "INFO:root: \n",
      "Avg Training Stats after 3 global rounds:\n",
      "INFO:root:Train Accuracy: 0.00%\n",
      "INFO:root:Training Loss : 0.3090789506586776\n",
      "INFO:root:Test Accuracy: 26.61%\n",
      "INFO:root:Test Loss: 2.002564959526062 \n",
      "\n",
      "  3%|▎         | 3/100 [02:04<1:06:10, 40.93s/it]"
     ]
    },
    {
     "name": "stdout",
     "output_type": "stream",
     "text": [
      "[173, 690, 542, 1012, 2195, 1780, 1053, 87, 2934, 1736]\n"
     ]
    },
    {
     "name": "stderr",
     "output_type": "stream",
     "text": [
      "INFO:root: \n",
      "Avg Training Stats after 4 global rounds:\n",
      "INFO:root:Train Accuracy: 0.00%\n",
      "INFO:root:Training Loss : 0.4585355468638844\n",
      "INFO:root:Test Accuracy: 28.08%\n",
      "INFO:root:Test Loss: 1.9191138708591462 \n",
      "\n",
      "  4%|▍         | 4/100 [02:44<1:04:53, 40.56s/it]"
     ]
    },
    {
     "name": "stdout",
     "output_type": "stream",
     "text": [
      "[2430, 2575, 1736, 123, 15, 1780, 1018, 231, 87, 794]\n"
     ]
    },
    {
     "name": "stderr",
     "output_type": "stream",
     "text": [
      "INFO:root: \n",
      "Avg Training Stats after 5 global rounds:\n",
      "INFO:root:Train Accuracy: 0.00%\n",
      "INFO:root:Training Loss : 0.3002940496983437\n",
      "INFO:root:Test Accuracy: 29.84%\n",
      "INFO:root:Test Loss: 1.863945301771164 \n",
      "\n",
      "  5%|▌         | 5/100 [03:21<1:02:31, 39.49s/it]"
     ]
    },
    {
     "name": "stdout",
     "output_type": "stream",
     "text": [
      "[1119, 87, 590, 794, 813, 303, 1320, 690, 1018, 422]\n"
     ]
    },
    {
     "name": "stderr",
     "output_type": "stream",
     "text": [
      "INFO:root: \n",
      "Avg Training Stats after 6 global rounds:\n",
      "INFO:root:Train Accuracy: 0.00%\n",
      "INFO:root:Training Loss : 0.23048348040561129\n",
      "INFO:root:Test Accuracy: 33.90%\n",
      "INFO:root:Test Loss: 1.7834186673164367 \n",
      "\n",
      "  6%|▌         | 6/100 [03:52<57:16, 36.56s/it]  "
     ]
    },
    {
     "name": "stdout",
     "output_type": "stream",
     "text": [
      "[2029, 1433, 303, 327, 744, 862, 2934, 231, 1416, 278]\n"
     ]
    },
    {
     "name": "stderr",
     "output_type": "stream",
     "text": [
      "INFO:root: \n",
      "Avg Training Stats after 7 global rounds:\n",
      "INFO:root:Train Accuracy: 0.00%\n",
      "INFO:root:Training Loss : 0.3437754761531288\n",
      "INFO:root:Test Accuracy: 34.26%\n",
      "INFO:root:Test Loss: 1.7371852171421052 \n",
      "\n",
      "  7%|▋         | 7/100 [04:29<56:54, 36.71s/it]"
     ]
    },
    {
     "name": "stdout",
     "output_type": "stream",
     "text": [
      "[231, 1112, 327, 744, 286, 422, 15, 1798, 1053, 173]\n"
     ]
    },
    {
     "name": "stderr",
     "output_type": "stream",
     "text": [
      "INFO:root: \n",
      "Avg Training Stats after 8 global rounds:\n",
      "INFO:root:Train Accuracy: 0.00%\n",
      "INFO:root:Training Loss : 0.3492379912046467\n",
      "INFO:root:Test Accuracy: 33.72%\n",
      "INFO:root:Test Loss: 1.7190337872505188 \n",
      "\n",
      "  8%|▊         | 8/100 [04:58<52:38, 34.33s/it]"
     ]
    },
    {
     "name": "stdout",
     "output_type": "stream",
     "text": [
      "[794, 278, 744, 862, 303, 19, 2274, 1053, 813, 1012]\n"
     ]
    },
    {
     "name": "stderr",
     "output_type": "stream",
     "text": [
      "INFO:root: \n",
      "Avg Training Stats after 9 global rounds:\n",
      "INFO:root:Train Accuracy: 0.00%\n",
      "INFO:root:Training Loss : 0.19374523964729765\n",
      "INFO:root:Test Accuracy: 35.45%\n",
      "INFO:root:Test Loss: 1.677989155650139 \n",
      "\n",
      "  9%|▉         | 9/100 [05:31<51:22, 33.87s/it]"
     ]
    },
    {
     "name": "stdout",
     "output_type": "stream",
     "text": [
      "[1320, 40, 1756, 470, 327, 1012, 862, 1433, 796, 231]\n"
     ]
    },
    {
     "name": "stderr",
     "output_type": "stream",
     "text": [
      "INFO:root: \n",
      "Avg Training Stats after 10 global rounds:\n",
      "INFO:root:Train Accuracy: 0.00%\n",
      "INFO:root:Training Loss : 0.17459902557892926\n",
      "INFO:root:Test Accuracy: 38.15%\n",
      "INFO:root:Test Loss: 1.6407016038894653 \n",
      "\n",
      " 10%|█         | 10/100 [06:04<50:25, 33.62s/it]"
     ]
    },
    {
     "name": "stdout",
     "output_type": "stream",
     "text": [
      "[87, 201, 1798, 813, 123, 2934, 1756, 231, 1053, 4600]\n"
     ]
    },
    {
     "name": "stderr",
     "output_type": "stream",
     "text": [
      "INFO:root: \n",
      "Avg Training Stats after 11 global rounds:\n",
      "INFO:root:Train Accuracy: 0.00%\n",
      "INFO:root:Training Loss : 0.23173590825678786\n",
      "INFO:root:Test Accuracy: 38.84%\n",
      "INFO:root:Test Loss: 1.609424911737442 \n",
      "\n",
      " 11%|█         | 11/100 [06:47<53:56, 36.37s/it]"
     ]
    },
    {
     "name": "stdout",
     "output_type": "stream",
     "text": [
      "[106, 231, 447, 796, 209, 1798, 1112, 1416, 590, 794]\n"
     ]
    },
    {
     "name": "stderr",
     "output_type": "stream",
     "text": [
      "INFO:root: \n",
      "Avg Training Stats after 12 global rounds:\n",
      "INFO:root:Train Accuracy: 0.00%\n",
      "INFO:root:Training Loss : 0.16337977598772485\n",
      "INFO:root:Test Accuracy: 39.73%\n",
      "INFO:root:Test Loss: 1.5849333828687668 \n",
      "\n",
      " 12%|█▏        | 12/100 [07:19<51:24, 35.05s/it]"
     ]
    },
    {
     "name": "stdout",
     "output_type": "stream",
     "text": [
      "[1320, 278, 862, 2274, 1798, 87, 2029, 796, 1018, 2430]\n"
     ]
    },
    {
     "name": "stderr",
     "output_type": "stream",
     "text": [
      "INFO:root: \n",
      "Avg Training Stats after 13 global rounds:\n",
      "INFO:root:Train Accuracy: 0.00%\n",
      "INFO:root:Training Loss : 0.20312725030918174\n",
      "INFO:root:Test Accuracy: 41.66%\n",
      "INFO:root:Test Loss: 1.5484672498703003 \n",
      "\n",
      " 13%|█▎        | 13/100 [08:00<53:27, 36.86s/it]"
     ]
    },
    {
     "name": "stdout",
     "output_type": "stream",
     "text": [
      "[4600, 2575, 590, 173, 2430, 40, 1112, 87, 231, 2195]\n"
     ]
    },
    {
     "name": "stderr",
     "output_type": "stream",
     "text": [
      "INFO:root: \n",
      "Avg Training Stats after 14 global rounds:\n",
      "INFO:root:Train Accuracy: 0.00%\n",
      "INFO:root:Training Loss : 0.24994023829607084\n",
      "INFO:root:Test Accuracy: 44.35%\n",
      "INFO:root:Test Loss: 1.4916890567541123 \n",
      "\n",
      " 14%|█▍        | 14/100 [08:43<55:36, 38.79s/it]"
     ]
    },
    {
     "name": "stdout",
     "output_type": "stream",
     "text": [
      "[231, 794, 1018, 1012, 15, 303, 796, 2274, 1320, 19]\n"
     ]
    },
    {
     "name": "stderr",
     "output_type": "stream",
     "text": [
      "INFO:root: \n",
      "Avg Training Stats after 15 global rounds:\n",
      "INFO:root:Train Accuracy: 0.00%\n",
      "INFO:root:Training Loss : 0.15461707084276316\n",
      "INFO:root:Test Accuracy: 45.41%\n",
      "INFO:root:Test Loss: 1.4755215066671372 \n",
      "\n",
      " 15%|█▌        | 15/100 [09:15<52:12, 36.85s/it]"
     ]
    },
    {
     "name": "stdout",
     "output_type": "stream",
     "text": [
      "[2195, 40, 2029, 862, 2575, 1433, 447, 19, 4600, 796]\n"
     ]
    },
    {
     "name": "stderr",
     "output_type": "stream",
     "text": [
      "INFO:root: \n",
      "Avg Training Stats after 16 global rounds:\n",
      "INFO:root:Train Accuracy: 0.00%\n",
      "INFO:root:Training Loss : 0.17773312354729878\n",
      "INFO:root:Test Accuracy: 45.03%\n",
      "INFO:root:Test Loss: 1.4641777664422988 \n",
      "\n",
      " 16%|█▌        | 16/100 [10:00<54:56, 39.24s/it]"
     ]
    },
    {
     "name": "stdout",
     "output_type": "stream",
     "text": [
      "[231, 173, 303, 2274, 796, 116, 1798, 447, 106, 1433]\n"
     ]
    },
    {
     "name": "stderr",
     "output_type": "stream",
     "text": [
      "INFO:root: \n",
      "Avg Training Stats after 17 global rounds:\n",
      "INFO:root:Train Accuracy: 0.00%\n",
      "INFO:root:Training Loss : 0.1693494281312115\n",
      "INFO:root:Test Accuracy: 45.24%\n",
      "INFO:root:Test Loss: 1.4595098626613616 \n",
      "\n",
      " 17%|█▋        | 17/100 [10:32<51:18, 37.09s/it]"
     ]
    },
    {
     "name": "stdout",
     "output_type": "stream",
     "text": [
      "[201, 1756, 796, 1320, 813, 542, 116, 173, 794, 1798]\n"
     ]
    },
    {
     "name": "stderr",
     "output_type": "stream",
     "text": [
      "INFO:root: \n",
      "Avg Training Stats after 18 global rounds:\n",
      "INFO:root:Train Accuracy: 0.00%\n",
      "INFO:root:Training Loss : 0.227644048923632\n",
      "INFO:root:Test Accuracy: 45.77%\n",
      "INFO:root:Test Loss: 1.453889741897583 \n",
      "\n",
      " 18%|█▊        | 18/100 [11:05<49:03, 35.89s/it]"
     ]
    },
    {
     "name": "stdout",
     "output_type": "stream",
     "text": [
      "[15, 1780, 19, 744, 2575, 173, 813, 40, 1320, 422]\n"
     ]
    },
    {
     "name": "stderr",
     "output_type": "stream",
     "text": [
      "INFO:root: \n",
      "Avg Training Stats after 19 global rounds:\n",
      "INFO:root:Train Accuracy: 0.00%\n",
      "INFO:root:Training Loss : 0.22690671223849365\n",
      "INFO:root:Test Accuracy: 45.44%\n",
      "INFO:root:Test Loss: 1.446149138212204 \n",
      "\n",
      " 19%|█▉        | 19/100 [11:38<47:01, 34.84s/it]"
     ]
    },
    {
     "name": "stdout",
     "output_type": "stream",
     "text": [
      "[813, 1736, 15, 1433, 267, 470, 3195, 744, 2575, 231]\n"
     ]
    },
    {
     "name": "stderr",
     "output_type": "stream",
     "text": [
      "INFO:root: \n",
      "Avg Training Stats after 20 global rounds:\n",
      "INFO:root:Train Accuracy: 0.00%\n",
      "INFO:root:Training Loss : 0.15981868788569462\n",
      "INFO:root:Test Accuracy: 44.58%\n",
      "INFO:root:Test Loss: 1.451694279909134 \n",
      "\n",
      " 20%|██        | 20/100 [12:16<47:56, 35.95s/it]"
     ]
    },
    {
     "name": "stdout",
     "output_type": "stream",
     "text": [
      "[278, 744, 1053, 447, 1320, 116, 1798, 19, 4600, 3195]\n"
     ]
    },
    {
     "name": "stderr",
     "output_type": "stream",
     "text": [
      "INFO:root: \n",
      "Avg Training Stats after 21 global rounds:\n",
      "INFO:root:Train Accuracy: 0.00%\n",
      "INFO:root:Training Loss : 0.2443419841407087\n",
      "INFO:root:Test Accuracy: 44.96%\n",
      "INFO:root:Test Loss: 1.4408331018686296 \n",
      "\n",
      " 21%|██        | 21/100 [12:59<49:53, 37.89s/it]"
     ]
    },
    {
     "name": "stdout",
     "output_type": "stream",
     "text": [
      "[813, 2029, 602, 590, 1756, 106, 1780, 40, 19, 2934]\n"
     ]
    },
    {
     "name": "stderr",
     "output_type": "stream",
     "text": [
      "INFO:root: \n",
      "Avg Training Stats after 22 global rounds:\n",
      "INFO:root:Train Accuracy: 0.00%\n",
      "INFO:root:Training Loss : 0.12168859600118306\n",
      "INFO:root:Test Accuracy: 45.13%\n",
      "INFO:root:Test Loss: 1.429675378203392 \n",
      "\n",
      " 22%|██▏       | 22/100 [13:36<49:02, 37.72s/it]"
     ]
    },
    {
     "name": "stdout",
     "output_type": "stream",
     "text": [
      "[40, 862, 327, 1780, 2274, 106, 1053, 1112, 1012, 3195]\n"
     ]
    },
    {
     "name": "stderr",
     "output_type": "stream",
     "text": [
      "INFO:root: \n",
      "Avg Training Stats after 23 global rounds:\n",
      "INFO:root:Train Accuracy: 0.00%\n",
      "INFO:root:Training Loss : 0.20875187769790876\n",
      "INFO:root:Test Accuracy: 45.86%\n",
      "INFO:root:Test Loss: 1.416201313138008 \n",
      "\n",
      " 23%|██▎       | 23/100 [14:15<48:55, 38.13s/it]"
     ]
    },
    {
     "name": "stdout",
     "output_type": "stream",
     "text": [
      "[1320, 1119, 862, 744, 1053, 87, 201, 470, 2274, 1012]\n"
     ]
    },
    {
     "name": "stderr",
     "output_type": "stream",
     "text": [
      "INFO:root: \n",
      "Avg Training Stats after 24 global rounds:\n",
      "INFO:root:Train Accuracy: 0.00%\n",
      "INFO:root:Training Loss : 0.1946909114861469\n",
      "INFO:root:Test Accuracy: 47.18%\n",
      "INFO:root:Test Loss: 1.3972658908367157 \n",
      "\n",
      " 24%|██▍       | 24/100 [14:50<46:54, 37.03s/it]"
     ]
    },
    {
     "name": "stdout",
     "output_type": "stream",
     "text": [
      "[447, 286, 1416, 87, 796, 1798, 231, 1119, 431, 2195]\n"
     ]
    },
    {
     "name": "stderr",
     "output_type": "stream",
     "text": [
      "INFO:root: \n",
      "Avg Training Stats after 25 global rounds:\n",
      "INFO:root:Train Accuracy: 0.00%\n",
      "INFO:root:Training Loss : 0.2431802058467476\n",
      "INFO:root:Test Accuracy: 47.94%\n",
      "INFO:root:Test Loss: 1.3834473049640656 \n",
      "\n",
      " 25%|██▌       | 25/100 [15:24<45:12, 36.16s/it]"
     ]
    },
    {
     "name": "stdout",
     "output_type": "stream",
     "text": [
      "[116, 2029, 690, 1416, 1780, 602, 2575, 1756, 431, 87]\n"
     ]
    },
    {
     "name": "stderr",
     "output_type": "stream",
     "text": [
      "INFO:root: \n",
      "Avg Training Stats after 26 global rounds:\n",
      "INFO:root:Train Accuracy: 0.00%\n",
      "INFO:root:Training Loss : 0.2790172454517323\n",
      "INFO:root:Test Accuracy: 47.17%\n",
      "INFO:root:Test Loss: 1.3892346477508546 \n",
      "\n",
      " 26%|██▌       | 26/100 [16:02<45:30, 36.89s/it]"
     ]
    },
    {
     "name": "stdout",
     "output_type": "stream",
     "text": [
      "[87, 173, 2029, 19, 4600, 2195, 116, 303, 40, 209]\n"
     ]
    },
    {
     "name": "stderr",
     "output_type": "stream",
     "text": [
      "INFO:root: \n",
      "Avg Training Stats after 27 global rounds:\n",
      "INFO:root:Train Accuracy: 0.00%\n",
      "INFO:root:Training Loss : 0.2591526596302864\n",
      "INFO:root:Test Accuracy: 48.39%\n",
      "INFO:root:Test Loss: 1.35965502679348 \n",
      "\n",
      " 27%|██▋       | 27/100 [16:38<44:29, 36.57s/it]"
     ]
    },
    {
     "name": "stdout",
     "output_type": "stream",
     "text": [
      "[4600, 267, 794, 231, 201, 231, 2934, 590, 470, 173]\n"
     ]
    },
    {
     "name": "stderr",
     "output_type": "stream",
     "text": [
      "INFO:root: \n",
      "Avg Training Stats after 28 global rounds:\n",
      "INFO:root:Train Accuracy: 0.00%\n",
      "INFO:root:Training Loss : 0.22673468035065775\n",
      "INFO:root:Test Accuracy: 49.79%\n",
      "INFO:root:Test Loss: 1.3377419412136078 \n",
      "\n",
      " 28%|██▊       | 28/100 [17:15<44:07, 36.77s/it]"
     ]
    },
    {
     "name": "stdout",
     "output_type": "stream",
     "text": [
      "[1798, 286, 123, 1112, 303, 796, 744, 1320, 231, 794]\n"
     ]
    },
    {
     "name": "stderr",
     "output_type": "stream",
     "text": [
      "INFO:root: \n",
      "Avg Training Stats after 29 global rounds:\n",
      "INFO:root:Train Accuracy: 0.00%\n",
      "INFO:root:Training Loss : 0.09815267601013146\n",
      "INFO:root:Test Accuracy: 50.19%\n",
      "INFO:root:Test Loss: 1.3333316826820374 \n",
      "\n",
      " 29%|██▉       | 29/100 [17:47<41:41, 35.23s/it]"
     ]
    },
    {
     "name": "stdout",
     "output_type": "stream",
     "text": [
      "[303, 4600, 1119, 447, 744, 40, 1756, 2430, 2029, 602]\n"
     ]
    },
    {
     "name": "stderr",
     "output_type": "stream",
     "text": [
      "INFO:root: \n",
      "Avg Training Stats after 30 global rounds:\n",
      "INFO:root:Train Accuracy: 0.00%\n",
      "INFO:root:Training Loss : 0.11696335946715339\n",
      "INFO:root:Test Accuracy: 50.68%\n",
      "INFO:root:Test Loss: 1.314147676229477 \n",
      "\n",
      " 30%|███       | 30/100 [18:30<43:55, 37.65s/it]"
     ]
    },
    {
     "name": "stdout",
     "output_type": "stream",
     "text": [
      "[422, 3195, 1112, 327, 123, 1736, 303, 286, 106, 1433]\n"
     ]
    },
    {
     "name": "stderr",
     "output_type": "stream",
     "text": [
      "INFO:root: \n",
      "Avg Training Stats after 31 global rounds:\n",
      "INFO:root:Train Accuracy: 0.00%\n",
      "INFO:root:Training Loss : 0.1535320365909864\n",
      "INFO:root:Test Accuracy: 48.01%\n",
      "INFO:root:Test Loss: 1.3644509354233743 \n",
      "\n",
      " 31%|███       | 31/100 [19:05<42:15, 36.74s/it]"
     ]
    },
    {
     "name": "stdout",
     "output_type": "stream",
     "text": [
      "[862, 173, 422, 303, 123, 1012, 542, 278, 431, 2195]\n"
     ]
    },
    {
     "name": "stderr",
     "output_type": "stream",
     "text": [
      "INFO:root: \n",
      "Avg Training Stats after 32 global rounds:\n",
      "INFO:root:Train Accuracy: 0.00%\n",
      "INFO:root:Training Loss : 0.27254991286914076\n",
      "INFO:root:Test Accuracy: 49.75%\n",
      "INFO:root:Test Loss: 1.3282124823331833 \n",
      "\n",
      " 32%|███▏      | 32/100 [19:35<39:19, 34.69s/it]"
     ]
    },
    {
     "name": "stdout",
     "output_type": "stream",
     "text": [
      "[1320, 15, 19, 1756, 231, 470, 267, 87, 862, 327]\n"
     ]
    },
    {
     "name": "stderr",
     "output_type": "stream",
     "text": [
      "INFO:root: \n",
      "Avg Training Stats after 33 global rounds:\n",
      "INFO:root:Train Accuracy: 0.00%\n",
      "INFO:root:Training Loss : 0.23129493819239486\n",
      "INFO:root:Test Accuracy: 50.06%\n",
      "INFO:root:Test Loss: 1.3293588629364967 \n",
      "\n",
      " 33%|███▎      | 33/100 [20:03<36:24, 32.60s/it]"
     ]
    },
    {
     "name": "stdout",
     "output_type": "stream",
     "text": [
      "[87, 267, 796, 1053, 1433, 2575, 1119, 794, 15, 327]\n"
     ]
    },
    {
     "name": "stderr",
     "output_type": "stream",
     "text": [
      "INFO:root: \n",
      "Avg Training Stats after 34 global rounds:\n",
      "INFO:root:Train Accuracy: 0.00%\n",
      "INFO:root:Training Loss : 0.1820340996948691\n",
      "INFO:root:Test Accuracy: 51.40%\n",
      "INFO:root:Test Loss: 1.3033760422468186 \n",
      "\n",
      " 34%|███▍      | 34/100 [20:36<36:04, 32.80s/it]"
     ]
    },
    {
     "name": "stdout",
     "output_type": "stream",
     "text": [
      "[422, 1798, 590, 796, 19, 1320, 173, 1416, 1053, 4600]\n"
     ]
    },
    {
     "name": "stderr",
     "output_type": "stream",
     "text": [
      "INFO:root: \n",
      "Avg Training Stats after 35 global rounds:\n",
      "INFO:root:Train Accuracy: 0.00%\n",
      "INFO:root:Training Loss : 0.22227034695891995\n",
      "INFO:root:Test Accuracy: 52.35%\n",
      "INFO:root:Test Loss: 1.2838375014066696 \n",
      "\n",
      " 35%|███▌      | 35/100 [21:16<37:58, 35.06s/it]"
     ]
    },
    {
     "name": "stdout",
     "output_type": "stream",
     "text": [
      "[2430, 1320, 602, 3195, 231, 2934, 431, 794, 1416, 542]\n"
     ]
    },
    {
     "name": "stderr",
     "output_type": "stream",
     "text": [
      "INFO:root: \n",
      "Avg Training Stats after 36 global rounds:\n",
      "INFO:root:Train Accuracy: 0.00%\n",
      "INFO:root:Training Loss : 0.18377005588415943\n",
      "INFO:root:Test Accuracy: 52.28%\n",
      "INFO:root:Test Loss: 1.2861945390701295 \n",
      "\n",
      " 36%|███▌      | 36/100 [21:59<39:51, 37.36s/it]"
     ]
    },
    {
     "name": "stdout",
     "output_type": "stream",
     "text": [
      "[15, 813, 1112, 123, 40, 796, 2274, 1018, 2195, 201]\n"
     ]
    },
    {
     "name": "stderr",
     "output_type": "stream",
     "text": [
      "INFO:root: \n",
      "Avg Training Stats after 37 global rounds:\n",
      "INFO:root:Train Accuracy: 0.00%\n",
      "INFO:root:Training Loss : 0.13464601196704012\n",
      "INFO:root:Test Accuracy: 52.96%\n",
      "INFO:root:Test Loss: 1.2763089537620544 \n",
      "\n",
      " 37%|███▋      | 37/100 [22:32<37:58, 36.16s/it]"
     ]
    },
    {
     "name": "stdout",
     "output_type": "stream",
     "text": [
      "[303, 2195, 422, 1112, 1433, 116, 796, 602, 1756, 231]\n"
     ]
    },
    {
     "name": "stderr",
     "output_type": "stream",
     "text": [
      "INFO:root: \n",
      "Avg Training Stats after 38 global rounds:\n",
      "INFO:root:Train Accuracy: 0.00%\n",
      "INFO:root:Training Loss : 0.18944392508112734\n",
      "INFO:root:Test Accuracy: 53.34%\n",
      "INFO:root:Test Loss: 1.266078601181507 \n",
      "\n",
      " 38%|███▊      | 38/100 [23:07<36:50, 35.66s/it]"
     ]
    },
    {
     "name": "stdout",
     "output_type": "stream",
     "text": [
      "[1756, 231, 267, 2430, 590, 1736, 15, 4600, 327, 1112]\n"
     ]
    },
    {
     "name": "stderr",
     "output_type": "stream",
     "text": [
      "INFO:root: \n",
      "Avg Training Stats after 39 global rounds:\n",
      "INFO:root:Train Accuracy: 0.00%\n",
      "INFO:root:Training Loss : 0.16771330703658432\n",
      "INFO:root:Test Accuracy: 54.70%\n",
      "INFO:root:Test Loss: 1.2327701836824416 \n",
      "\n",
      " 39%|███▉      | 39/100 [23:48<38:02, 37.42s/it]"
     ]
    },
    {
     "name": "stdout",
     "output_type": "stream",
     "text": [
      "[2575, 422, 3195, 862, 231, 796, 2934, 123, 2430, 794]\n"
     ]
    },
    {
     "name": "stderr",
     "output_type": "stream",
     "text": [
      "INFO:root: \n",
      "Avg Training Stats after 40 global rounds:\n",
      "INFO:root:Train Accuracy: 0.00%\n",
      "INFO:root:Training Loss : 0.16140249126937053\n",
      "INFO:root:Test Accuracy: 52.78%\n",
      "INFO:root:Test Loss: 1.280847096145153 \n",
      "\n",
      " 40%|████      | 40/100 [24:32<39:17, 39.30s/it]"
     ]
    },
    {
     "name": "stdout",
     "output_type": "stream",
     "text": [
      "[231, 1119, 1736, 278, 447, 1018, 286, 744, 690, 173]\n"
     ]
    },
    {
     "name": "stderr",
     "output_type": "stream",
     "text": [
      "INFO:root: \n",
      "Avg Training Stats after 41 global rounds:\n",
      "INFO:root:Train Accuracy: 0.00%\n",
      "INFO:root:Training Loss : 0.19035518756258546\n",
      "INFO:root:Test Accuracy: 52.85%\n",
      "INFO:root:Test Loss: 1.2831528756022452 \n",
      "\n",
      " 41%|████      | 41/100 [25:02<36:01, 36.63s/it]"
     ]
    },
    {
     "name": "stdout",
     "output_type": "stream",
     "text": [
      "[231, 1320, 1416, 2575, 2274, 862, 690, 602, 1012, 173]\n"
     ]
    },
    {
     "name": "stderr",
     "output_type": "stream",
     "text": [
      "INFO:root: \n",
      "Avg Training Stats after 42 global rounds:\n",
      "INFO:root:Train Accuracy: 0.00%\n",
      "INFO:root:Training Loss : 0.18998879514080516\n",
      "INFO:root:Test Accuracy: 54.49%\n",
      "INFO:root:Test Loss: 1.2391174972057342 \n",
      "\n",
      " 42%|████▏     | 42/100 [25:41<35:52, 37.12s/it]"
     ]
    },
    {
     "name": "stdout",
     "output_type": "stream",
     "text": [
      "[1112, 1053, 3195, 2934, 2029, 201, 123, 2195, 1018, 173]\n"
     ]
    },
    {
     "name": "stderr",
     "output_type": "stream",
     "text": [
      "INFO:root: \n",
      "Avg Training Stats after 43 global rounds:\n",
      "INFO:root:Train Accuracy: 0.00%\n",
      "INFO:root:Training Loss : 0.2219340693798128\n",
      "INFO:root:Test Accuracy: 53.55%\n",
      "INFO:root:Test Loss: 1.2637187024950982 \n",
      "\n",
      " 43%|████▎     | 43/100 [26:24<36:57, 38.91s/it]"
     ]
    },
    {
     "name": "stdout",
     "output_type": "stream",
     "text": [
      "[862, 1053, 422, 3195, 4600, 794, 1756, 173, 2029, 1018]\n"
     ]
    },
    {
     "name": "stderr",
     "output_type": "stream",
     "text": [
      "INFO:root: \n",
      "Avg Training Stats after 44 global rounds:\n",
      "INFO:root:Train Accuracy: 0.00%\n",
      "INFO:root:Training Loss : 0.2183633900463938\n",
      "INFO:root:Test Accuracy: 55.29%\n",
      "INFO:root:Test Loss: 1.2090524405241012 \n",
      "\n",
      " 44%|████▍     | 44/100 [27:11<38:33, 41.32s/it]"
     ]
    },
    {
     "name": "stdout",
     "output_type": "stream",
     "text": [
      "[1320, 2934, 796, 2195, 862, 2575, 2029, 19, 422, 286]\n"
     ]
    },
    {
     "name": "stderr",
     "output_type": "stream",
     "text": [
      "INFO:root: \n",
      "Avg Training Stats after 45 global rounds:\n",
      "INFO:root:Train Accuracy: 0.00%\n",
      "INFO:root:Training Loss : 0.14962186757865018\n",
      "INFO:root:Test Accuracy: 54.21%\n",
      "INFO:root:Test Loss: 1.2316310182213783 \n",
      "\n",
      " 45%|████▌     | 45/100 [27:53<38:05, 41.55s/it]"
     ]
    },
    {
     "name": "stdout",
     "output_type": "stream",
     "text": [
      "[862, 744, 1416, 1112, 590, 542, 278, 690, 116, 1780]\n"
     ]
    },
    {
     "name": "stderr",
     "output_type": "stream",
     "text": [
      "INFO:root: \n",
      "Avg Training Stats after 46 global rounds:\n",
      "INFO:root:Train Accuracy: 0.00%\n",
      "INFO:root:Training Loss : 0.2670117905977277\n",
      "INFO:root:Test Accuracy: 56.27%\n",
      "INFO:root:Test Loss: 1.184800820350647 \n",
      "\n",
      " 46%|████▌     | 46/100 [28:25<34:59, 38.88s/it]"
     ]
    },
    {
     "name": "stdout",
     "output_type": "stream",
     "text": [
      "[2575, 1112, 1320, 231, 3195, 1012, 862, 447, 2195, 201]\n"
     ]
    },
    {
     "name": "stderr",
     "output_type": "stream",
     "text": [
      "INFO:root: \n",
      "Avg Training Stats after 47 global rounds:\n",
      "INFO:root:Train Accuracy: 0.00%\n",
      "INFO:root:Training Loss : 0.12474888901363909\n",
      "INFO:root:Test Accuracy: 56.25%\n",
      "INFO:root:Test Loss: 1.185174500644207 \n",
      "\n",
      " 47%|████▋     | 47/100 [29:07<35:06, 39.75s/it]"
     ]
    },
    {
     "name": "stdout",
     "output_type": "stream",
     "text": [
      "[1433, 542, 813, 231, 1119, 2029, 1012, 173, 2195, 1320]\n"
     ]
    },
    {
     "name": "stderr",
     "output_type": "stream",
     "text": [
      "INFO:root: \n",
      "Avg Training Stats after 48 global rounds:\n",
      "INFO:root:Train Accuracy: 0.00%\n",
      "INFO:root:Training Loss : 0.1314400475618254\n",
      "INFO:root:Test Accuracy: 56.69%\n",
      "INFO:root:Test Loss: 1.1758431708812713 \n",
      "\n",
      " 48%|████▊     | 48/100 [29:45<33:54, 39.13s/it]"
     ]
    },
    {
     "name": "stdout",
     "output_type": "stream",
     "text": [
      "[744, 2195, 209, 1780, 2575, 123, 327, 40, 1736, 690]\n"
     ]
    },
    {
     "name": "stderr",
     "output_type": "stream",
     "text": [
      "INFO:root: \n",
      "Avg Training Stats after 49 global rounds:\n",
      "INFO:root:Train Accuracy: 0.00%\n",
      "INFO:root:Training Loss : 0.222722265403328\n",
      "INFO:root:Test Accuracy: 56.34%\n",
      "INFO:root:Test Loss: 1.1733590865135193 \n",
      "\n",
      " 49%|████▉     | 49/100 [30:22<32:39, 38.43s/it]"
     ]
    },
    {
     "name": "stdout",
     "output_type": "stream",
     "text": [
      "[862, 690, 1433, 173, 3195, 2934, 116, 447, 231, 431]\n"
     ]
    },
    {
     "name": "stderr",
     "output_type": "stream",
     "text": [
      "INFO:root: \n",
      "Avg Training Stats after 50 global rounds:\n",
      "INFO:root:Train Accuracy: 0.00%\n",
      "INFO:root:Training Loss : 0.22896395509783396\n",
      "INFO:root:Test Accuracy: 54.87%\n",
      "INFO:root:Test Loss: 1.2189475092291833 \n",
      "\n",
      " 50%|█████     | 50/100 [30:59<31:38, 37.97s/it]"
     ]
    },
    {
     "name": "stdout",
     "output_type": "stream",
     "text": [
      "[1320, 19, 3195, 87, 1756, 303, 813, 2575, 231, 231]\n"
     ]
    },
    {
     "name": "stderr",
     "output_type": "stream",
     "text": [
      "INFO:root: \n",
      "Avg Training Stats after 51 global rounds:\n",
      "INFO:root:Train Accuracy: 0.00%\n",
      "INFO:root:Training Loss : 0.06452353619826492\n",
      "INFO:root:Test Accuracy: 54.19%\n",
      "INFO:root:Test Loss: 1.2365103909373283 \n",
      "\n",
      " 51%|█████     | 51/100 [31:36<30:48, 37.72s/it]"
     ]
    },
    {
     "name": "stdout",
     "output_type": "stream",
     "text": [
      "[40, 813, 1780, 2934, 15, 173, 278, 19, 1798, 267]\n"
     ]
    },
    {
     "name": "stderr",
     "output_type": "stream",
     "text": [
      "INFO:root: \n",
      "Avg Training Stats after 52 global rounds:\n",
      "INFO:root:Train Accuracy: 0.00%\n",
      "INFO:root:Training Loss : 0.15378867854810047\n",
      "INFO:root:Test Accuracy: 55.25%\n",
      "INFO:root:Test Loss: 1.203404396176338 \n",
      "\n",
      " 52%|█████▏    | 52/100 [32:08<28:57, 36.20s/it]"
     ]
    },
    {
     "name": "stdout",
     "output_type": "stream",
     "text": [
      "[267, 231, 690, 173, 1780, 1053, 862, 590, 1433, 303]\n"
     ]
    },
    {
     "name": "stderr",
     "output_type": "stream",
     "text": [
      "INFO:root: \n",
      "Avg Training Stats after 53 global rounds:\n",
      "INFO:root:Train Accuracy: 0.00%\n",
      "INFO:root:Training Loss : 0.21228620637800058\n",
      "INFO:root:Test Accuracy: 55.74%\n",
      "INFO:root:Test Loss: 1.1994596654176712 \n",
      "\n",
      " 53%|█████▎    | 53/100 [32:40<27:13, 34.76s/it]"
     ]
    },
    {
     "name": "stdout",
     "output_type": "stream",
     "text": [
      "[431, 3195, 201, 796, 2934, 15, 231, 1112, 1736, 267]\n"
     ]
    },
    {
     "name": "stderr",
     "output_type": "stream",
     "text": [
      "INFO:root: \n",
      "Avg Training Stats after 54 global rounds:\n",
      "INFO:root:Train Accuracy: 0.00%\n",
      "INFO:root:Training Loss : 0.16241455285967257\n",
      "INFO:root:Test Accuracy: 53.73%\n",
      "INFO:root:Test Loss: 1.2565361565351487 \n",
      "\n",
      " 54%|█████▍    | 54/100 [33:18<27:21, 35.69s/it]"
     ]
    },
    {
     "name": "stdout",
     "output_type": "stream",
     "text": [
      "[40, 1320, 1416, 286, 2195, 1012, 201, 116, 1053, 542]\n"
     ]
    },
    {
     "name": "stderr",
     "output_type": "stream",
     "text": [
      "INFO:root: \n",
      "Avg Training Stats after 55 global rounds:\n",
      "INFO:root:Train Accuracy: 0.00%\n",
      "INFO:root:Training Loss : 0.22261383290203263\n",
      "INFO:root:Test Accuracy: 56.01%\n",
      "INFO:root:Test Loss: 1.1872108855843544 \n",
      "\n",
      " 55%|█████▌    | 55/100 [33:50<26:06, 34.81s/it]"
     ]
    },
    {
     "name": "stdout",
     "output_type": "stream",
     "text": [
      "[1798, 422, 231, 4600, 231, 2575, 1433, 106, 1320, 862]\n"
     ]
    },
    {
     "name": "stderr",
     "output_type": "stream",
     "text": [
      "INFO:root: \n",
      "Avg Training Stats after 56 global rounds:\n",
      "INFO:root:Train Accuracy: 0.00%\n",
      "INFO:root:Training Loss : 0.11056396609666094\n",
      "INFO:root:Test Accuracy: 57.08%\n",
      "INFO:root:Test Loss: 1.1559396862983704 \n",
      "\n",
      " 56%|█████▌    | 56/100 [34:33<27:08, 37.02s/it]"
     ]
    },
    {
     "name": "stdout",
     "output_type": "stream",
     "text": [
      "[2274, 3195, 267, 2029, 590, 327, 2195, 278, 1756, 813]\n"
     ]
    },
    {
     "name": "stderr",
     "output_type": "stream",
     "text": [
      "INFO:root: \n",
      "Avg Training Stats after 57 global rounds:\n",
      "INFO:root:Train Accuracy: 0.00%\n",
      "INFO:root:Training Loss : 0.14880074085483483\n",
      "INFO:root:Test Accuracy: 57.31%\n",
      "INFO:root:Test Loss: 1.1630646893382073 \n",
      "\n",
      " 57%|█████▋    | 57/100 [35:15<27:42, 38.67s/it]"
     ]
    },
    {
     "name": "stdout",
     "output_type": "stream",
     "text": [
      "[1798, 431, 123, 1320, 1416, 231, 2575, 2934, 19, 1756]\n"
     ]
    },
    {
     "name": "stderr",
     "output_type": "stream",
     "text": [
      "INFO:root: \n",
      "Avg Training Stats after 58 global rounds:\n",
      "INFO:root:Train Accuracy: 0.00%\n",
      "INFO:root:Training Loss : 0.1297635289375197\n",
      "INFO:root:Test Accuracy: 56.96%\n",
      "INFO:root:Test Loss: 1.1687759655714034 \n",
      "\n",
      " 58%|█████▊    | 58/100 [35:56<27:29, 39.27s/it]"
     ]
    },
    {
     "name": "stdout",
     "output_type": "stream",
     "text": [
      "[1018, 267, 2274, 447, 2029, 690, 590, 303, 1119, 796]\n"
     ]
    },
    {
     "name": "stderr",
     "output_type": "stream",
     "text": [
      "INFO:root: \n",
      "Avg Training Stats after 59 global rounds:\n",
      "INFO:root:Train Accuracy: 0.00%\n",
      "INFO:root:Training Loss : 0.11417032225170473\n",
      "INFO:root:Test Accuracy: 56.42%\n",
      "INFO:root:Test Loss: 1.18907300055027 \n",
      "\n",
      " 59%|█████▉    | 59/100 [36:31<26:01, 38.09s/it]"
     ]
    },
    {
     "name": "stdout",
     "output_type": "stream",
     "text": [
      "[106, 2430, 447, 1433, 1012, 3195, 1119, 1756, 862, 4600]\n",
      "0.1\n"
     ]
    },
    {
     "name": "stderr",
     "output_type": "stream",
     "text": [
      "INFO:root: \n",
      "Avg Training Stats after 60 global rounds:\n",
      "INFO:root:Train Accuracy: 0.00%\n",
      "INFO:root:Training Loss : 0.07840815517654323\n",
      "INFO:root:Test Accuracy: 56.69%\n",
      "INFO:root:Test Loss: 1.182012288570404 \n",
      "\n",
      " 60%|██████    | 60/100 [37:20<27:28, 41.20s/it]"
     ]
    },
    {
     "name": "stdout",
     "output_type": "stream",
     "text": [
      "[1780, 1320, 286, 2029, 40, 796, 447, 15, 231, 744]\n"
     ]
    },
    {
     "name": "stderr",
     "output_type": "stream",
     "text": [
      "INFO:root: \n",
      "Avg Training Stats after 61 global rounds:\n",
      "INFO:root:Train Accuracy: 0.00%\n",
      "INFO:root:Training Loss : 0.10359836447008894\n",
      "INFO:root:Test Accuracy: 56.96%\n",
      "INFO:root:Test Loss: 1.1735321208834648 \n",
      "\n",
      " 61%|██████    | 61/100 [37:52<24:58, 38.43s/it]"
     ]
    },
    {
     "name": "stdout",
     "output_type": "stream",
     "text": [
      "[116, 15, 2029, 327, 19, 470, 422, 87, 1012, 303]\n"
     ]
    },
    {
     "name": "stderr",
     "output_type": "stream",
     "text": [
      "INFO:root: \n",
      "Avg Training Stats after 62 global rounds:\n",
      "INFO:root:Train Accuracy: 0.00%\n",
      "INFO:root:Training Loss : 0.15005094062593\n",
      "INFO:root:Test Accuracy: 57.10%\n",
      "INFO:root:Test Loss: 1.1698660284280777 \n",
      "\n",
      " 62%|██████▏   | 62/100 [38:18<22:08, 34.95s/it]"
     ]
    },
    {
     "name": "stdout",
     "output_type": "stream",
     "text": [
      "[796, 2274, 862, 286, 813, 3195, 1112, 422, 1119, 327]\n"
     ]
    },
    {
     "name": "stderr",
     "output_type": "stream",
     "text": [
      "INFO:root: \n",
      "Avg Training Stats after 63 global rounds:\n",
      "INFO:root:Train Accuracy: 0.00%\n",
      "INFO:root:Training Loss : 0.12684128399940509\n",
      "INFO:root:Test Accuracy: 57.11%\n",
      "INFO:root:Test Loss: 1.1692274811863899 \n",
      "\n",
      " 63%|██████▎   | 63/100 [38:56<22:08, 35.90s/it]"
     ]
    },
    {
     "name": "stdout",
     "output_type": "stream",
     "text": [
      "[542, 1798, 690, 15, 267, 2575, 796, 590, 209, 470]\n"
     ]
    },
    {
     "name": "stderr",
     "output_type": "stream",
     "text": [
      "INFO:root: \n",
      "Avg Training Stats after 64 global rounds:\n",
      "INFO:root:Train Accuracy: 0.00%\n",
      "INFO:root:Training Loss : 0.13067498999021607\n",
      "INFO:root:Test Accuracy: 57.16%\n",
      "INFO:root:Test Loss: 1.1693066203594207 \n",
      "\n",
      " 64%|██████▍   | 64/100 [39:29<20:59, 34.97s/it]"
     ]
    },
    {
     "name": "stdout",
     "output_type": "stream",
     "text": [
      "[87, 267, 286, 1053, 303, 796, 40, 173, 19, 327]\n"
     ]
    },
    {
     "name": "stderr",
     "output_type": "stream",
     "text": [
      "INFO:root: \n",
      "Avg Training Stats after 65 global rounds:\n",
      "INFO:root:Train Accuracy: 0.00%\n",
      "INFO:root:Training Loss : 0.18546215138592043\n",
      "INFO:root:Test Accuracy: 57.28%\n",
      "INFO:root:Test Loss: 1.1668073439598083 \n",
      "\n",
      " 65%|██████▌   | 65/100 [39:54<18:32, 31.78s/it]"
     ]
    },
    {
     "name": "stdout",
     "output_type": "stream",
     "text": [
      "[813, 542, 106, 123, 4600, 40, 209, 2029, 1736, 2195]\n"
     ]
    },
    {
     "name": "stderr",
     "output_type": "stream",
     "text": [
      "INFO:root: \n",
      "Avg Training Stats after 66 global rounds:\n",
      "INFO:root:Train Accuracy: 0.00%\n",
      "INFO:root:Training Loss : 0.14060981655569837\n",
      "INFO:root:Test Accuracy: 57.46%\n",
      "INFO:root:Test Loss: 1.1601530784368514 \n",
      "\n",
      " 66%|██████▌   | 66/100 [40:34<19:25, 34.27s/it]"
     ]
    },
    {
     "name": "stdout",
     "output_type": "stream",
     "text": [
      "[1416, 1320, 201, 744, 2934, 447, 278, 2430, 1018, 2274]\n"
     ]
    },
    {
     "name": "stderr",
     "output_type": "stream",
     "text": [
      "INFO:root: \n",
      "Avg Training Stats after 67 global rounds:\n",
      "INFO:root:Train Accuracy: 0.00%\n",
      "INFO:root:Training Loss : 0.15042521014807525\n",
      "INFO:root:Test Accuracy: 57.66%\n",
      "INFO:root:Test Loss: 1.1544667026400566 \n",
      "\n",
      " 67%|██████▋   | 67/100 [41:16<20:05, 36.54s/it]"
     ]
    },
    {
     "name": "stdout",
     "output_type": "stream",
     "text": [
      "[303, 1012, 470, 123, 106, 201, 87, 1736, 2934, 2575]\n"
     ]
    },
    {
     "name": "stderr",
     "output_type": "stream",
     "text": [
      "INFO:root: \n",
      "Avg Training Stats after 68 global rounds:\n",
      "INFO:root:Train Accuracy: 0.00%\n",
      "INFO:root:Training Loss : 0.07606706887524933\n",
      "INFO:root:Test Accuracy: 57.50%\n",
      "INFO:root:Test Loss: 1.1575296944379807 \n",
      "\n",
      " 68%|██████▊   | 68/100 [41:51<19:16, 36.13s/it]"
     ]
    },
    {
     "name": "stdout",
     "output_type": "stream",
     "text": [
      "[3195, 794, 690, 2029, 231, 1756, 1112, 1736, 201, 813]\n"
     ]
    },
    {
     "name": "stderr",
     "output_type": "stream",
     "text": [
      "INFO:root: \n",
      "Avg Training Stats after 69 global rounds:\n",
      "INFO:root:Train Accuracy: 0.00%\n",
      "INFO:root:Training Loss : 0.09378354698291613\n",
      "INFO:root:Test Accuracy: 57.59%\n",
      "INFO:root:Test Loss: 1.1562514448165893 \n",
      "\n",
      " 69%|██████▉   | 69/100 [42:31<19:20, 37.43s/it]"
     ]
    },
    {
     "name": "stdout",
     "output_type": "stream",
     "text": [
      "[106, 40, 278, 422, 470, 2029, 2934, 744, 2274, 327]\n"
     ]
    },
    {
     "name": "stderr",
     "output_type": "stream",
     "text": [
      "INFO:root: \n",
      "Avg Training Stats after 70 global rounds:\n",
      "INFO:root:Train Accuracy: 0.00%\n",
      "INFO:root:Training Loss : 0.12605218016354963\n",
      "INFO:root:Test Accuracy: 57.75%\n",
      "INFO:root:Test Loss: 1.1545371425151825 \n",
      "\n",
      " 70%|███████   | 70/100 [43:07<18:26, 36.89s/it]"
     ]
    },
    {
     "name": "stdout",
     "output_type": "stream",
     "text": [
      "[3195, 267, 303, 173, 286, 2029, 422, 1012, 796, 106]\n"
     ]
    },
    {
     "name": "stderr",
     "output_type": "stream",
     "text": [
      "INFO:root: \n",
      "Avg Training Stats after 71 global rounds:\n",
      "INFO:root:Train Accuracy: 0.00%\n",
      "INFO:root:Training Loss : 0.13752899532788734\n",
      "INFO:root:Test Accuracy: 57.69%\n",
      "INFO:root:Test Loss: 1.1537551102042198 \n",
      "\n",
      " 71%|███████   | 71/100 [43:41<17:22, 35.95s/it]"
     ]
    },
    {
     "name": "stdout",
     "output_type": "stream",
     "text": [
      "[209, 40, 4600, 106, 123, 1012, 690, 542, 602, 2575]\n"
     ]
    },
    {
     "name": "stderr",
     "output_type": "stream",
     "text": [
      "INFO:root: \n",
      "Avg Training Stats after 72 global rounds:\n",
      "INFO:root:Train Accuracy: 0.00%\n",
      "INFO:root:Training Loss : 0.12046662898633476\n",
      "INFO:root:Test Accuracy: 57.85%\n",
      "INFO:root:Test Loss: 1.1473402327299118 \n",
      "\n",
      " 72%|███████▏  | 72/100 [44:17<16:52, 36.17s/it]"
     ]
    },
    {
     "name": "stdout",
     "output_type": "stream",
     "text": [
      "[1012, 2430, 2274, 209, 1798, 303, 1112, 231, 744, 278]\n"
     ]
    },
    {
     "name": "stderr",
     "output_type": "stream",
     "text": [
      "INFO:root: \n",
      "Avg Training Stats after 73 global rounds:\n",
      "INFO:root:Train Accuracy: 0.00%\n",
      "INFO:root:Training Loss : 0.09802496358947017\n",
      "INFO:root:Test Accuracy: 57.91%\n",
      "INFO:root:Test Loss: 1.145017302930355 \n",
      "\n",
      " 73%|███████▎  | 73/100 [44:54<16:21, 36.35s/it]"
     ]
    },
    {
     "name": "stdout",
     "output_type": "stream",
     "text": [
      "[447, 1320, 209, 327, 744, 1018, 231, 2430, 590, 602]\n"
     ]
    },
    {
     "name": "stderr",
     "output_type": "stream",
     "text": [
      "INFO:root: \n",
      "Avg Training Stats after 74 global rounds:\n",
      "INFO:root:Train Accuracy: 0.00%\n",
      "INFO:root:Training Loss : 0.17595007026772846\n",
      "INFO:root:Test Accuracy: 58.02%\n",
      "INFO:root:Test Loss: 1.1426900511980056 \n",
      "\n",
      " 74%|███████▍  | 74/100 [45:27<15:17, 35.28s/it]"
     ]
    },
    {
     "name": "stdout",
     "output_type": "stream",
     "text": [
      "[470, 1053, 303, 1012, 106, 3195, 447, 1112, 201, 1433]\n"
     ]
    },
    {
     "name": "stderr",
     "output_type": "stream",
     "text": [
      "INFO:root: \n",
      "Avg Training Stats after 75 global rounds:\n",
      "INFO:root:Train Accuracy: 0.00%\n",
      "INFO:root:Training Loss : 0.07537445376005644\n",
      "INFO:root:Test Accuracy: 57.98%\n",
      "INFO:root:Test Loss: 1.1447900921106338 \n",
      "\n",
      " 75%|███████▌  | 75/100 [46:02<14:39, 35.17s/it]"
     ]
    },
    {
     "name": "stdout",
     "output_type": "stream",
     "text": [
      "[231, 1433, 431, 209, 1416, 1780, 116, 123, 422, 4600]\n"
     ]
    },
    {
     "name": "stderr",
     "output_type": "stream",
     "text": [
      "INFO:root: \n",
      "Avg Training Stats after 76 global rounds:\n",
      "INFO:root:Train Accuracy: 0.00%\n",
      "INFO:root:Training Loss : 0.24449682041286264\n",
      "INFO:root:Test Accuracy: 58.26%\n",
      "INFO:root:Test Loss: 1.139403406381607 \n",
      "\n",
      " 76%|███████▌  | 76/100 [46:39<14:20, 35.87s/it]"
     ]
    },
    {
     "name": "stdout",
     "output_type": "stream",
     "text": [
      "[2575, 796, 1053, 267, 602, 1018, 201, 1756, 286, 2430]\n"
     ]
    },
    {
     "name": "stderr",
     "output_type": "stream",
     "text": [
      "INFO:root: \n",
      "Avg Training Stats after 77 global rounds:\n",
      "INFO:root:Train Accuracy: 0.00%\n",
      "INFO:root:Training Loss : 0.1537311419214442\n",
      "INFO:root:Test Accuracy: 58.35%\n",
      "INFO:root:Test Loss: 1.1367382884025574 \n",
      "\n",
      " 77%|███████▋  | 77/100 [47:17<13:59, 36.52s/it]"
     ]
    },
    {
     "name": "stdout",
     "output_type": "stream",
     "text": [
      "[15, 2029, 2274, 744, 1018, 1736, 2934, 19, 173, 447]\n"
     ]
    },
    {
     "name": "stderr",
     "output_type": "stream",
     "text": [
      "INFO:root: \n",
      "Avg Training Stats after 78 global rounds:\n",
      "INFO:root:Train Accuracy: 0.00%\n",
      "INFO:root:Training Loss : 0.14448393420081312\n",
      "INFO:root:Test Accuracy: 58.33%\n",
      "INFO:root:Test Loss: 1.1380272608995439 \n",
      "\n",
      " 78%|███████▊  | 78/100 [47:56<13:36, 37.11s/it]"
     ]
    },
    {
     "name": "stdout",
     "output_type": "stream",
     "text": [
      "[542, 602, 173, 201, 590, 690, 422, 2934, 1736, 744]\n"
     ]
    },
    {
     "name": "stderr",
     "output_type": "stream",
     "text": [
      "INFO:root: \n",
      "Avg Training Stats after 79 global rounds:\n",
      "INFO:root:Train Accuracy: 0.00%\n",
      "INFO:root:Training Loss : 0.19887778718678692\n",
      "INFO:root:Test Accuracy: 58.37%\n",
      "INFO:root:Test Loss: 1.1393303063511848 \n",
      "\n",
      " 79%|███████▉  | 79/100 [48:30<12:38, 36.11s/it]"
     ]
    },
    {
     "name": "stdout",
     "output_type": "stream",
     "text": [
      "[201, 278, 40, 1112, 106, 690, 2029, 87, 796, 3195]\n"
     ]
    },
    {
     "name": "stderr",
     "output_type": "stream",
     "text": [
      "INFO:root: \n",
      "Avg Training Stats after 80 global rounds:\n",
      "INFO:root:Train Accuracy: 0.00%\n",
      "INFO:root:Training Loss : 0.07044295998866038\n",
      "INFO:root:Test Accuracy: 58.29%\n",
      "INFO:root:Test Loss: 1.1406706243753433 \n",
      "\n",
      " 80%|████████  | 80/100 [49:03<11:46, 35.32s/it]"
     ]
    },
    {
     "name": "stdout",
     "output_type": "stream",
     "text": [
      "[1798, 15, 201, 123, 1433, 542, 1119, 690, 602, 40]\n"
     ]
    },
    {
     "name": "stderr",
     "output_type": "stream",
     "text": [
      "INFO:root: \n",
      "Avg Training Stats after 81 global rounds:\n",
      "INFO:root:Train Accuracy: 0.00%\n",
      "INFO:root:Training Loss : 0.10124495943129237\n",
      "INFO:root:Test Accuracy: 58.36%\n",
      "INFO:root:Test Loss: 1.1407031244039536 \n",
      "\n",
      " 81%|████████  | 81/100 [49:33<10:40, 33.74s/it]"
     ]
    },
    {
     "name": "stdout",
     "output_type": "stream",
     "text": [
      "[267, 542, 209, 796, 87, 3195, 231, 303, 2934, 1119]\n"
     ]
    },
    {
     "name": "stderr",
     "output_type": "stream",
     "text": [
      "INFO:root: \n",
      "Avg Training Stats after 82 global rounds:\n",
      "INFO:root:Train Accuracy: 0.00%\n",
      "INFO:root:Training Loss : 0.12336229174558203\n",
      "INFO:root:Test Accuracy: 58.39%\n",
      "INFO:root:Test Loss: 1.1416823500394822 \n",
      "\n",
      " 82%|████████▏ | 82/100 [50:09<10:17, 34.32s/it]"
     ]
    },
    {
     "name": "stdout",
     "output_type": "stream",
     "text": [
      "[690, 431, 422, 231, 4600, 2934, 2029, 327, 796, 590]\n"
     ]
    },
    {
     "name": "stderr",
     "output_type": "stream",
     "text": [
      "INFO:root: \n",
      "Avg Training Stats after 83 global rounds:\n",
      "INFO:root:Train Accuracy: 0.00%\n",
      "INFO:root:Training Loss : 0.1507741133239045\n",
      "INFO:root:Test Accuracy: 58.44%\n",
      "INFO:root:Test Loss: 1.1366930299997329 \n",
      "\n",
      " 83%|████████▎ | 83/100 [50:50<10:20, 36.50s/it]"
     ]
    },
    {
     "name": "stdout",
     "output_type": "stream",
     "text": [
      "[231, 1112, 87, 303, 690, 796, 2195, 813, 327, 1018]\n"
     ]
    },
    {
     "name": "stderr",
     "output_type": "stream",
     "text": [
      "INFO:root: \n",
      "Avg Training Stats after 84 global rounds:\n",
      "INFO:root:Train Accuracy: 0.00%\n",
      "INFO:root:Training Loss : 0.13612721824062074\n",
      "INFO:root:Test Accuracy: 58.55%\n",
      "INFO:root:Test Loss: 1.132156906723976 \n",
      "\n",
      " 84%|████████▍ | 84/100 [51:22<09:22, 35.17s/it]"
     ]
    },
    {
     "name": "stdout",
     "output_type": "stream",
     "text": [
      "[602, 1018, 542, 106, 794, 447, 2029, 1433, 327, 690]\n"
     ]
    },
    {
     "name": "stderr",
     "output_type": "stream",
     "text": [
      "INFO:root: \n",
      "Avg Training Stats after 85 global rounds:\n",
      "INFO:root:Train Accuracy: 0.00%\n",
      "INFO:root:Training Loss : 0.14953297769949495\n",
      "INFO:root:Test Accuracy: 58.52%\n",
      "INFO:root:Test Loss: 1.1328187802433967 \n",
      "\n",
      " 85%|████████▌ | 85/100 [51:55<08:35, 34.37s/it]"
     ]
    },
    {
     "name": "stdout",
     "output_type": "stream",
     "text": [
      "[1433, 267, 447, 1012, 470, 201, 231, 15, 278, 1736]\n"
     ]
    },
    {
     "name": "stderr",
     "output_type": "stream",
     "text": [
      "INFO:root: \n",
      "Avg Training Stats after 86 global rounds:\n",
      "INFO:root:Train Accuracy: 0.00%\n",
      "INFO:root:Training Loss : 0.1351971250943946\n",
      "INFO:root:Test Accuracy: 58.59%\n",
      "INFO:root:Test Loss: 1.1340371966362 \n",
      "\n",
      " 86%|████████▌ | 86/100 [52:24<07:39, 32.81s/it]"
     ]
    },
    {
     "name": "stdout",
     "output_type": "stream",
     "text": [
      "[40, 1053, 231, 286, 106, 2274, 470, 1119, 447, 1416]\n"
     ]
    },
    {
     "name": "stderr",
     "output_type": "stream",
     "text": [
      "INFO:root: \n",
      "Avg Training Stats after 87 global rounds:\n",
      "INFO:root:Train Accuracy: 0.00%\n",
      "INFO:root:Training Loss : 0.12509280128685146\n",
      "INFO:root:Test Accuracy: 58.63%\n",
      "INFO:root:Test Loss: 1.1326085609197616 \n",
      "\n",
      " 87%|████████▋ | 87/100 [52:56<07:01, 32.45s/it]"
     ]
    },
    {
     "name": "stdout",
     "output_type": "stream",
     "text": [
      "[209, 2029, 231, 278, 1320, 862, 2195, 690, 1736, 106]\n"
     ]
    },
    {
     "name": "stderr",
     "output_type": "stream",
     "text": [
      "INFO:root: \n",
      "Avg Training Stats after 88 global rounds:\n",
      "INFO:root:Train Accuracy: 0.00%\n",
      "INFO:root:Training Loss : 0.13999300604734127\n",
      "INFO:root:Test Accuracy: 58.82%\n",
      "INFO:root:Test Loss: 1.1282890287041665 \n",
      "\n",
      " 88%|████████▊ | 88/100 [53:31<06:40, 33.41s/it]"
     ]
    },
    {
     "name": "stdout",
     "output_type": "stream",
     "text": [
      "[2430, 201, 2195, 2575, 123, 602, 116, 794, 4600, 690]\n"
     ]
    },
    {
     "name": "stderr",
     "output_type": "stream",
     "text": [
      "INFO:root: \n",
      "Avg Training Stats after 89 global rounds:\n",
      "INFO:root:Train Accuracy: 0.00%\n",
      "INFO:root:Training Loss : 0.16530782311194722\n",
      "INFO:root:Test Accuracy: 59.01%\n",
      "INFO:root:Test Loss: 1.1236257582902909 \n",
      "\n",
      " 89%|████████▉ | 89/100 [54:15<06:41, 36.54s/it]"
     ]
    },
    {
     "name": "stdout",
     "output_type": "stream",
     "text": [
      "[470, 303, 278, 87, 1119, 2274, 1780, 19, 4600, 602]\n",
      "0.010000000000000002\n"
     ]
    },
    {
     "name": "stderr",
     "output_type": "stream",
     "text": [
      "INFO:root: \n",
      "Avg Training Stats after 90 global rounds:\n",
      "INFO:root:Train Accuracy: 0.00%\n",
      "INFO:root:Training Loss : 0.09095593052009183\n",
      "INFO:root:Test Accuracy: 59.01%\n",
      "INFO:root:Test Loss: 1.1232120484113692 \n",
      "\n",
      " 90%|█████████ | 90/100 [54:54<06:11, 37.19s/it]"
     ]
    },
    {
     "name": "stdout",
     "output_type": "stream",
     "text": [
      "[2575, 602, 2029, 327, 209, 4600, 2274, 1756, 431, 1112]\n"
     ]
    },
    {
     "name": "stderr",
     "output_type": "stream",
     "text": [
      "INFO:root: \n",
      "Avg Training Stats after 91 global rounds:\n",
      "INFO:root:Train Accuracy: 0.00%\n",
      "INFO:root:Training Loss : 0.13226461096231643\n",
      "INFO:root:Test Accuracy: 58.98%\n",
      "INFO:root:Test Loss: 1.1230734205245971 \n",
      "\n",
      " 91%|█████████ | 91/100 [55:41<06:00, 40.10s/it]"
     ]
    },
    {
     "name": "stdout",
     "output_type": "stream",
     "text": [
      "[2195, 267, 813, 286, 3195, 470, 231, 278, 1012, 231]\n"
     ]
    },
    {
     "name": "stderr",
     "output_type": "stream",
     "text": [
      "INFO:root: \n",
      "Avg Training Stats after 92 global rounds:\n",
      "INFO:root:Train Accuracy: 0.00%\n",
      "INFO:root:Training Loss : 0.12965799153954288\n",
      "INFO:root:Test Accuracy: 59.01%\n",
      "INFO:root:Test Loss: 1.123221801519394 \n",
      "\n",
      " 92%|█████████▏| 92/100 [56:15<05:06, 38.37s/it]"
     ]
    },
    {
     "name": "stdout",
     "output_type": "stream",
     "text": [
      "[1053, 2575, 303, 2430, 542, 116, 1756, 1433, 327, 15]\n"
     ]
    },
    {
     "name": "stderr",
     "output_type": "stream",
     "text": [
      "INFO:root: \n",
      "Avg Training Stats after 93 global rounds:\n",
      "INFO:root:Train Accuracy: 0.00%\n",
      "INFO:root:Training Loss : 0.16399331218555657\n",
      "INFO:root:Test Accuracy: 59.06%\n",
      "INFO:root:Test Loss: 1.1230334782600402 \n",
      "\n",
      " 93%|█████████▎| 93/100 [56:52<04:25, 37.91s/it]"
     ]
    },
    {
     "name": "stdout",
     "output_type": "stream",
     "text": [
      "[590, 4600, 201, 286, 303, 1736, 15, 1798, 744, 422]\n"
     ]
    },
    {
     "name": "stderr",
     "output_type": "stream",
     "text": [
      "INFO:root: \n",
      "Avg Training Stats after 94 global rounds:\n",
      "INFO:root:Train Accuracy: 0.00%\n",
      "INFO:root:Training Loss : 0.11891114368231248\n",
      "INFO:root:Test Accuracy: 59.05%\n",
      "INFO:root:Test Loss: 1.1229362410306931 \n",
      "\n",
      " 94%|█████████▍| 94/100 [57:30<03:46, 37.81s/it]"
     ]
    },
    {
     "name": "stdout",
     "output_type": "stream",
     "text": [
      "[123, 862, 542, 19, 794, 1112, 4600, 2934, 231, 15]\n"
     ]
    },
    {
     "name": "stderr",
     "output_type": "stream",
     "text": [
      "INFO:root: \n",
      "Avg Training Stats after 95 global rounds:\n",
      "INFO:root:Train Accuracy: 0.00%\n",
      "INFO:root:Training Loss : 0.1344262060138956\n",
      "INFO:root:Test Accuracy: 59.09%\n",
      "INFO:root:Test Loss: 1.1227451428771018 \n",
      "\n",
      " 95%|█████████▌| 95/100 [58:07<03:09, 37.86s/it]"
     ]
    },
    {
     "name": "stdout",
     "output_type": "stream",
     "text": [
      "[1053, 87, 2575, 4600, 542, 231, 1433, 1012, 2029, 862]\n"
     ]
    },
    {
     "name": "stderr",
     "output_type": "stream",
     "text": [
      "INFO:root: \n",
      "Avg Training Stats after 96 global rounds:\n",
      "INFO:root:Train Accuracy: 0.00%\n",
      "INFO:root:Training Loss : 0.12484473168691904\n",
      "INFO:root:Test Accuracy: 59.14%\n",
      "INFO:root:Test Loss: 1.1223164907097816 \n",
      "\n",
      " 96%|█████████▌| 96/100 [58:51<02:38, 39.65s/it]"
     ]
    },
    {
     "name": "stdout",
     "output_type": "stream",
     "text": [
      "[19, 602, 40, 690, 267, 231, 173, 2029, 1798, 3195]\n"
     ]
    },
    {
     "name": "stderr",
     "output_type": "stream",
     "text": [
      "INFO:root: \n",
      "Avg Training Stats after 97 global rounds:\n",
      "INFO:root:Train Accuracy: 0.00%\n",
      "INFO:root:Training Loss : 0.15410291073874544\n",
      "INFO:root:Test Accuracy: 59.08%\n",
      "INFO:root:Test Loss: 1.1226749724149705 \n",
      "\n",
      " 97%|█████████▋| 97/100 [59:26<01:54, 38.12s/it]"
     ]
    },
    {
     "name": "stdout",
     "output_type": "stream",
     "text": [
      "[209, 1012, 422, 40, 794, 4600, 116, 286, 303, 1756]\n"
     ]
    },
    {
     "name": "stderr",
     "output_type": "stream",
     "text": [
      "INFO:root: \n",
      "Avg Training Stats after 98 global rounds:\n",
      "INFO:root:Train Accuracy: 0.00%\n",
      "INFO:root:Training Loss : 0.12081565863013503\n",
      "INFO:root:Test Accuracy: 59.13%\n",
      "INFO:root:Test Loss: 1.122275806069374 \n",
      "\n",
      " 98%|█████████▊| 98/100 [1:00:01<01:14, 37.32s/it]"
     ]
    },
    {
     "name": "stdout",
     "output_type": "stream",
     "text": [
      "[2274, 1736, 173, 1416, 447, 19, 2195, 2029, 862, 744]\n"
     ]
    },
    {
     "name": "stderr",
     "output_type": "stream",
     "text": [
      "INFO:root: \n",
      "Avg Training Stats after 99 global rounds:\n",
      "INFO:root:Train Accuracy: 0.00%\n",
      "INFO:root:Training Loss : 0.2078473669069319\n",
      "INFO:root:Test Accuracy: 59.11%\n",
      "INFO:root:Test Loss: 1.1222752591967582 \n",
      "\n",
      " 99%|█████████▉| 99/100 [1:00:41<00:37, 37.93s/it]"
     ]
    },
    {
     "name": "stdout",
     "output_type": "stream",
     "text": [
      "[431, 1798, 1736, 744, 19, 278, 690, 590, 116, 40]\n"
     ]
    },
    {
     "name": "stderr",
     "output_type": "stream",
     "text": [
      "INFO:root: \n",
      "Avg Training Stats after 100 global rounds:\n",
      "INFO:root:Train Accuracy: 0.00%\n",
      "INFO:root:Training Loss : 0.1346294695579102\n",
      "INFO:root:Test Accuracy: 59.14%\n",
      "INFO:root:Test Loss: 1.122473855614662 \n",
      "\n",
      "100%|██████████| 100/100 [1:01:11<00:00, 36.71s/it]\n",
      "INFO:root: \n",
      " Results after 100 global rounds of training:\n",
      "INFO:root:|---- Best Test Accuracy: 59.14% , round: 95\n"
     ]
    },
    {
     "name": "stdout",
     "output_type": "stream",
     "text": [
      " Saving checkpoints to ../save/checkpoint/ConvNet_1207/cifar10_ConvNet_none_T[100]_C[0.2]_iid[0]_E[10]_B[32]_GPU[0]_Pruned[0.0]...\n"
     ]
    }
   ],
   "source": [
    " args = easydict.EasyDict({\n",
    "    \"model\": 'ConvNet',\n",
    "    'dataset': 'cifar10',\n",
    "    'gpu': 0,\n",
    "    'iid': 0,\n",
    "    'epochs': 100,\n",
    "    'optimizer': 'sgd',\n",
    "    'seed': 0,\n",
    "    'norm': 'none',\n",
    "    'num_users': 50,\n",
    "    'frac': 0.2,\n",
    "    'local_ep': 10, \n",
    "    'local_bs': 32,\n",
    "    'lr': 0.01,\n",
    "    'momentum': 1,\n",
    "    'kernel_num': 9,\n",
    "    'kernel_sizes': 'only_momentum',\n",
    "    'num_channnels': '1',\n",
    "    'num_filters': 32,\n",
    "    'max_pool': 'True',\n",
    "    'num_classes': 10,\n",
    "    'unequal': 0,\n",
    "    'stopping_rounds': 0,\n",
    "    'verbose': 0,\n",
    "    'hold_normalize': 0,\n",
    "    'save_path': '../save/checkpoint',\n",
    "    'exp_folder': 'ConvNet_1207',\n",
    "    'resume': None,\n",
    "    'server_opt': 'sgd',\n",
    "    'server_lr': 1.0,\n",
    "    'client_decay':0,\n",
    "    'local_decay':0,\n",
    "    'alpha': 0.05,\n",
    "    'server_epoch':0,\n",
    "    'cosine_norm':0, \n",
    "    'only_fc' :0 ,\n",
    "    'loss':'bsm',\n",
    "    'dc_lr':0.0,\n",
    "    'tsne_pred':0,\n",
    "    'pruning': 0.0 })\n",
    "    \n",
    "    \n",
    "    \n",
    "temp = main_test(args)\n",
    "total.append(temp)"
   ]
  },
  {
   "cell_type": "code",
   "execution_count": 5,
   "id": "secondary-literacy",
   "metadata": {},
   "outputs": [
    {
     "name": "stderr",
     "output_type": "stream",
     "text": [
      "INFO:root:{'model': 'ConvNet', 'dataset': 'cifar10', 'gpu': 0, 'iid': 0, 'epochs': 100, 'optimizer': 'sgd', 'seed': 0, 'norm': 'none', 'num_users': 50, 'frac': 0.2, 'local_ep': 10, 'local_bs': 32, 'lr': 0.01, 'momentum': 1, 'kernel_num': 9, 'kernel_sizes': 'only_momentum', 'num_channnels': '1', 'num_filters': 32, 'max_pool': 'True', 'num_classes': 10, 'unequal': 0, 'stopping_rounds': 0, 'verbose': 0, 'hold_normalize': 0, 'save_path': '../save/checkpoint/ConvNet_1207', 'exp_folder': 'ConvNet_1207', 'resume': None, 'server_opt': 'sgdm', 'server_lr': 1.0, 'client_decay': 0, 'local_decay': 0, 'alpha': 0.05, 'server_epoch': 0, 'cosine_norm': 0, 'only_fc': 0, 'loss': 'bsm', 'dc_lr': 0.0, 'tsne_pred': 0, 'pruning': 0.0}\n"
     ]
    },
    {
     "name": "stdout",
     "output_type": "stream",
     "text": [
      "Files already downloaded and verified\n",
      "Files already downloaded and verified\n",
      "Files already downloaded and verified\n"
     ]
    },
    {
     "name": "stderr",
     "output_type": "stream",
     "text": [
      "INFO:root:ConvNet(\n",
      "  (net_act): ReLU(inplace=True)\n",
      "  (net_pooling): MaxPool2d(kernel_size=2, stride=2, padding=0, dilation=1, ceil_mode=False)\n",
      "  (features): Sequential(\n",
      "    (0): Conv2d(3, 128, kernel_size=(3, 3), stride=(1, 1), padding=(1, 1))\n",
      "    (1): ReLU(inplace=True)\n",
      "    (2): MaxPool2d(kernel_size=2, stride=2, padding=0, dilation=1, ceil_mode=False)\n",
      "    (3): Conv2d(128, 128, kernel_size=(3, 3), stride=(1, 1), padding=(1, 1))\n",
      "    (4): ReLU(inplace=True)\n",
      "    (5): MaxPool2d(kernel_size=2, stride=2, padding=0, dilation=1, ceil_mode=False)\n",
      "    (6): Conv2d(128, 128, kernel_size=(3, 3), stride=(1, 1), padding=(1, 1))\n",
      "    (7): ReLU(inplace=True)\n",
      "    (8): MaxPool2d(kernel_size=2, stride=2, padding=0, dilation=1, ceil_mode=False)\n",
      "  )\n",
      "  (classifier): Linear(in_features=2048, out_features=10, bias=True)\n",
      ")\n",
      "INFO:root:None\n",
      "  0%|          | 0/100 [00:00<?, ?it/s]"
     ]
    },
    {
     "name": "stdout",
     "output_type": "stream",
     "text": [
      "----------------------------------------------------------------\n",
      "        Layer (type)               Output Shape         Param #\n",
      "================================================================\n",
      "            Conv2d-1          [-1, 128, 32, 32]           3,584\n",
      "              ReLU-2          [-1, 128, 32, 32]               0\n",
      "              ReLU-3          [-1, 128, 32, 32]               0\n",
      "         MaxPool2d-4          [-1, 128, 16, 16]               0\n",
      "         MaxPool2d-5          [-1, 128, 16, 16]               0\n",
      "            Conv2d-6          [-1, 128, 16, 16]         147,584\n",
      "              ReLU-7          [-1, 128, 16, 16]               0\n",
      "              ReLU-8          [-1, 128, 16, 16]               0\n",
      "         MaxPool2d-9            [-1, 128, 8, 8]               0\n",
      "        MaxPool2d-10            [-1, 128, 8, 8]               0\n",
      "           Conv2d-11            [-1, 128, 8, 8]         147,584\n",
      "             ReLU-12            [-1, 128, 8, 8]               0\n",
      "             ReLU-13            [-1, 128, 8, 8]               0\n",
      "        MaxPool2d-14            [-1, 128, 4, 4]               0\n",
      "        MaxPool2d-15            [-1, 128, 4, 4]               0\n",
      "           Linear-16                   [-1, 10]          20,490\n",
      "================================================================\n",
      "Total params: 319,242\n",
      "Trainable params: 319,242\n",
      "Non-trainable params: 0\n",
      "----------------------------------------------------------------\n",
      "Input size (MB): 0.01\n",
      "Forward/backward pass size (MB): 4.59\n",
      "Params size (MB): 1.22\n",
      "Estimated Total Size (MB): 5.82\n",
      "----------------------------------------------------------------\n",
      "[209, 1756, 422, 2575, 1018, 602, 2274, 447, 744, 1112, 123, 87, 1433, 1416, 40, 1119, 796, 794, 327, 470, 231, 813, 1320, 542, 690, 2195, 2934, 106, 1012, 15, 278, 1798, 303, 590, 2029, 201, 1053, 862, 231, 116, 4600, 19, 286, 1736, 2430, 431, 3195, 1780, 173, 267]\n",
      "[470, 2934, 201, 231, 2575, 744, 15, 123, 1119, 4600]\n"
     ]
    },
    {
     "name": "stderr",
     "output_type": "stream",
     "text": [
      "INFO:root: \n",
      "Avg Training Stats after 1 global rounds:\n",
      "INFO:root:Train Accuracy: 0.00%\n",
      "INFO:root:Training Loss : 0.2596565816162659\n",
      "INFO:root:Test Accuracy: 22.43%\n",
      "INFO:root:Test Loss: 2.230755784511566 \n",
      "\n",
      "  1%|          | 1/100 [00:41<1:08:41, 41.63s/it]"
     ]
    },
    {
     "name": "stdout",
     "output_type": "stream",
     "text": [
      "[231, 173, 2575, 1736, 2430, 123, 4600, 690, 1012, 447]\n"
     ]
    },
    {
     "name": "stderr",
     "output_type": "stream",
     "text": [
      "INFO:root: \n",
      "Avg Training Stats after 2 global rounds:\n",
      "INFO:root:Train Accuracy: 0.00%\n",
      "INFO:root:Training Loss : 0.4132426791278814\n",
      "INFO:root:Test Accuracy: 25.87%\n",
      "INFO:root:Test Loss: 2.128462315201759 \n",
      "\n",
      "  2%|▏         | 2/100 [01:25<1:09:42, 42.68s/it]"
     ]
    },
    {
     "name": "stdout",
     "output_type": "stream",
     "text": [
      "[744, 2575, 1320, 470, 2430, 2274, 267, 690, 209, 303]\n"
     ]
    },
    {
     "name": "stderr",
     "output_type": "stream",
     "text": [
      "INFO:root: \n",
      "Avg Training Stats after 3 global rounds:\n",
      "INFO:root:Train Accuracy: 0.00%\n",
      "INFO:root:Training Loss : 0.2971319879304162\n",
      "INFO:root:Test Accuracy: 26.39%\n",
      "INFO:root:Test Loss: 3.110653680860996 \n",
      "\n",
      "  3%|▎         | 3/100 [02:03<1:06:13, 40.97s/it]"
     ]
    },
    {
     "name": "stdout",
     "output_type": "stream",
     "text": [
      "[173, 690, 542, 1012, 2195, 1780, 1053, 87, 2934, 1736]\n"
     ]
    },
    {
     "name": "stderr",
     "output_type": "stream",
     "text": [
      "INFO:root: \n",
      "Avg Training Stats after 4 global rounds:\n",
      "INFO:root:Train Accuracy: 0.00%\n",
      "INFO:root:Training Loss : 0.4467238977852513\n",
      "INFO:root:Test Accuracy: 26.90%\n",
      "INFO:root:Test Loss: 3.385325127542019 \n",
      "\n",
      "  4%|▍         | 4/100 [02:43<1:04:48, 40.51s/it]"
     ]
    },
    {
     "name": "stdout",
     "output_type": "stream",
     "text": [
      "[2430, 2575, 1736, 123, 15, 1780, 1018, 231, 87, 794]\n"
     ]
    },
    {
     "name": "stderr",
     "output_type": "stream",
     "text": [
      "INFO:root: \n",
      "Avg Training Stats after 5 global rounds:\n",
      "INFO:root:Train Accuracy: 0.00%\n",
      "INFO:root:Training Loss : 0.29469839357203104\n",
      "INFO:root:Test Accuracy: 28.99%\n",
      "INFO:root:Test Loss: 2.8089883321523668 \n",
      "\n",
      "  5%|▌         | 5/100 [03:21<1:02:17, 39.35s/it]"
     ]
    },
    {
     "name": "stdout",
     "output_type": "stream",
     "text": [
      "[1119, 87, 590, 794, 813, 303, 1320, 690, 1018, 422]\n"
     ]
    },
    {
     "name": "stderr",
     "output_type": "stream",
     "text": [
      "INFO:root: \n",
      "Avg Training Stats after 6 global rounds:\n",
      "INFO:root:Train Accuracy: 0.00%\n",
      "INFO:root:Training Loss : 0.2056848898742011\n",
      "INFO:root:Test Accuracy: 33.08%\n",
      "INFO:root:Test Loss: 2.3643660432100297 \n",
      "\n",
      "  6%|▌         | 6/100 [03:52<57:12, 36.51s/it]  "
     ]
    },
    {
     "name": "stdout",
     "output_type": "stream",
     "text": [
      "[2029, 1433, 303, 327, 744, 862, 2934, 231, 1416, 278]\n"
     ]
    },
    {
     "name": "stderr",
     "output_type": "stream",
     "text": [
      "INFO:root: \n",
      "Avg Training Stats after 7 global rounds:\n",
      "INFO:root:Train Accuracy: 0.00%\n",
      "INFO:root:Training Loss : 0.3111848664035534\n",
      "INFO:root:Test Accuracy: 37.67%\n",
      "INFO:root:Test Loss: 1.9717219251394271 \n",
      "\n",
      "  7%|▋         | 7/100 [04:29<56:57, 36.75s/it]"
     ]
    },
    {
     "name": "stdout",
     "output_type": "stream",
     "text": [
      "[231, 1112, 327, 744, 286, 422, 15, 1798, 1053, 173]\n"
     ]
    },
    {
     "name": "stderr",
     "output_type": "stream",
     "text": [
      "INFO:root: \n",
      "Avg Training Stats after 8 global rounds:\n",
      "INFO:root:Train Accuracy: 0.00%\n",
      "INFO:root:Training Loss : 0.31140841344201126\n",
      "INFO:root:Test Accuracy: 41.07%\n",
      "INFO:root:Test Loss: 1.673765189051628 \n",
      "\n",
      "  8%|▊         | 8/100 [04:58<52:42, 34.37s/it]"
     ]
    },
    {
     "name": "stdout",
     "output_type": "stream",
     "text": [
      "[794, 278, 744, 862, 303, 19, 2274, 1053, 813, 1012]\n"
     ]
    },
    {
     "name": "stderr",
     "output_type": "stream",
     "text": [
      "INFO:root: \n",
      "Avg Training Stats after 9 global rounds:\n",
      "INFO:root:Train Accuracy: 0.00%\n",
      "INFO:root:Training Loss : 0.1661391909256008\n",
      "INFO:root:Test Accuracy: 44.29%\n",
      "INFO:root:Test Loss: 1.5939502274990083 \n",
      "\n",
      "  9%|▉         | 9/100 [05:31<51:21, 33.86s/it]"
     ]
    },
    {
     "name": "stdout",
     "output_type": "stream",
     "text": [
      "[1320, 40, 1756, 470, 327, 1012, 862, 1433, 796, 231]\n"
     ]
    },
    {
     "name": "stderr",
     "output_type": "stream",
     "text": [
      "INFO:root: \n",
      "Avg Training Stats after 10 global rounds:\n",
      "INFO:root:Train Accuracy: 0.00%\n",
      "INFO:root:Training Loss : 0.14211226849875497\n",
      "INFO:root:Test Accuracy: 43.30%\n",
      "INFO:root:Test Loss: 1.673787261247635 \n",
      "\n",
      " 10%|█         | 10/100 [06:04<50:31, 33.68s/it]"
     ]
    },
    {
     "name": "stdout",
     "output_type": "stream",
     "text": [
      "[87, 201, 1798, 813, 123, 2934, 1756, 231, 1053, 4600]\n"
     ]
    },
    {
     "name": "stderr",
     "output_type": "stream",
     "text": [
      "INFO:root: \n",
      "Avg Training Stats after 11 global rounds:\n",
      "INFO:root:Train Accuracy: 0.00%\n",
      "INFO:root:Training Loss : 0.18949130478822912\n",
      "INFO:root:Test Accuracy: 44.60%\n",
      "INFO:root:Test Loss: 1.583816210627556 \n",
      "\n",
      " 11%|█         | 11/100 [06:46<53:52, 36.33s/it]"
     ]
    },
    {
     "name": "stdout",
     "output_type": "stream",
     "text": [
      "[106, 231, 447, 796, 209, 1798, 1112, 1416, 590, 794]\n"
     ]
    },
    {
     "name": "stderr",
     "output_type": "stream",
     "text": [
      "INFO:root: \n",
      "Avg Training Stats after 12 global rounds:\n",
      "INFO:root:Train Accuracy: 0.00%\n",
      "INFO:root:Training Loss : 0.12763594547355858\n",
      "INFO:root:Test Accuracy: 47.70%\n",
      "INFO:root:Test Loss: 1.5535481238365174 \n",
      "\n",
      " 12%|█▏        | 12/100 [07:18<51:13, 34.92s/it]"
     ]
    },
    {
     "name": "stdout",
     "output_type": "stream",
     "text": [
      "[1320, 278, 862, 2274, 1798, 87, 2029, 796, 1018, 2430]\n"
     ]
    },
    {
     "name": "stderr",
     "output_type": "stream",
     "text": [
      "INFO:root: \n",
      "Avg Training Stats after 13 global rounds:\n",
      "INFO:root:Train Accuracy: 0.00%\n",
      "INFO:root:Training Loss : 0.15281044935771967\n",
      "INFO:root:Test Accuracy: 48.30%\n",
      "INFO:root:Test Loss: 1.5704394581913947 \n",
      "\n",
      " 13%|█▎        | 13/100 [08:00<53:32, 36.93s/it]"
     ]
    },
    {
     "name": "stdout",
     "output_type": "stream",
     "text": [
      "[4600, 2575, 590, 173, 2430, 40, 1112, 87, 231, 2195]\n"
     ]
    },
    {
     "name": "stderr",
     "output_type": "stream",
     "text": [
      "INFO:root: \n",
      "Avg Training Stats after 14 global rounds:\n",
      "INFO:root:Train Accuracy: 0.00%\n",
      "INFO:root:Training Loss : 0.19329327235321575\n",
      "INFO:root:Test Accuracy: 49.32%\n",
      "INFO:root:Test Loss: 1.5014254277944565 \n",
      "\n",
      " 14%|█▍        | 14/100 [08:43<55:36, 38.80s/it]"
     ]
    },
    {
     "name": "stdout",
     "output_type": "stream",
     "text": [
      "[231, 794, 1018, 1012, 15, 303, 796, 2274, 1320, 19]\n"
     ]
    },
    {
     "name": "stderr",
     "output_type": "stream",
     "text": [
      "INFO:root: \n",
      "Avg Training Stats after 15 global rounds:\n",
      "INFO:root:Train Accuracy: 0.00%\n",
      "INFO:root:Training Loss : 0.1111954831553698\n",
      "INFO:root:Test Accuracy: 48.23%\n",
      "INFO:root:Test Loss: 1.5586406987905503 \n",
      "\n",
      " 15%|█▌        | 15/100 [09:15<52:06, 36.78s/it]"
     ]
    },
    {
     "name": "stdout",
     "output_type": "stream",
     "text": [
      "[2195, 40, 2029, 862, 2575, 1433, 447, 19, 4600, 796]\n"
     ]
    },
    {
     "name": "stderr",
     "output_type": "stream",
     "text": [
      "INFO:root: \n",
      "Avg Training Stats after 16 global rounds:\n",
      "INFO:root:Train Accuracy: 0.00%\n",
      "INFO:root:Training Loss : 0.12646779233671318\n",
      "INFO:root:Test Accuracy: 47.88%\n",
      "INFO:root:Test Loss: 1.560678693652153 \n",
      "\n",
      " 16%|█▌        | 16/100 [10:00<55:04, 39.34s/it]"
     ]
    },
    {
     "name": "stdout",
     "output_type": "stream",
     "text": [
      "[231, 173, 303, 2274, 796, 116, 1798, 447, 106, 1433]\n"
     ]
    },
    {
     "name": "stderr",
     "output_type": "stream",
     "text": [
      "INFO:root: \n",
      "Avg Training Stats after 17 global rounds:\n",
      "INFO:root:Train Accuracy: 0.00%\n",
      "INFO:root:Training Loss : 0.11698161751550325\n",
      "INFO:root:Test Accuracy: 49.00%\n",
      "INFO:root:Test Loss: 1.575622416138649 \n",
      "\n",
      " 17%|█▋        | 17/100 [10:32<51:25, 37.17s/it]"
     ]
    },
    {
     "name": "stdout",
     "output_type": "stream",
     "text": [
      "[201, 1756, 796, 1320, 813, 542, 116, 173, 794, 1798]\n"
     ]
    },
    {
     "name": "stderr",
     "output_type": "stream",
     "text": [
      "INFO:root: \n",
      "Avg Training Stats after 18 global rounds:\n",
      "INFO:root:Train Accuracy: 0.00%\n",
      "INFO:root:Training Loss : 0.16760976859140914\n",
      "INFO:root:Test Accuracy: 51.53%\n",
      "INFO:root:Test Loss: 1.511133359670639 \n",
      "\n",
      " 18%|█▊        | 18/100 [11:05<49:07, 35.94s/it]"
     ]
    },
    {
     "name": "stdout",
     "output_type": "stream",
     "text": [
      "[15, 1780, 19, 744, 2575, 173, 813, 40, 1320, 422]\n"
     ]
    },
    {
     "name": "stderr",
     "output_type": "stream",
     "text": [
      "INFO:root: \n",
      "Avg Training Stats after 19 global rounds:\n",
      "INFO:root:Train Accuracy: 0.00%\n",
      "INFO:root:Training Loss : 0.16324112624318213\n",
      "INFO:root:Test Accuracy: 53.49%\n",
      "INFO:root:Test Loss: 1.4141420909762383 \n",
      "\n",
      " 19%|█▉        | 19/100 [11:38<47:00, 34.82s/it]"
     ]
    },
    {
     "name": "stdout",
     "output_type": "stream",
     "text": [
      "[813, 1736, 15, 1433, 267, 470, 3195, 744, 2575, 231]\n"
     ]
    },
    {
     "name": "stderr",
     "output_type": "stream",
     "text": [
      "INFO:root: \n",
      "Avg Training Stats after 20 global rounds:\n",
      "INFO:root:Train Accuracy: 0.00%\n",
      "INFO:root:Training Loss : 0.12531703012634576\n",
      "INFO:root:Test Accuracy: 52.57%\n",
      "INFO:root:Test Loss: 1.4427435934543609 \n",
      "\n",
      " 20%|██        | 20/100 [12:17<48:05, 36.06s/it]"
     ]
    },
    {
     "name": "stdout",
     "output_type": "stream",
     "text": [
      "[278, 744, 1053, 447, 1320, 116, 1798, 19, 4600, 3195]\n"
     ]
    },
    {
     "name": "stderr",
     "output_type": "stream",
     "text": [
      "INFO:root: \n",
      "Avg Training Stats after 21 global rounds:\n",
      "INFO:root:Train Accuracy: 0.00%\n",
      "INFO:root:Training Loss : 0.16448555414017402\n",
      "INFO:root:Test Accuracy: 53.25%\n",
      "INFO:root:Test Loss: 1.3831955635547637 \n",
      "\n",
      " 21%|██        | 21/100 [12:59<49:59, 37.97s/it]"
     ]
    },
    {
     "name": "stdout",
     "output_type": "stream",
     "text": [
      "[813, 2029, 602, 590, 1756, 106, 1780, 40, 19, 2934]\n"
     ]
    },
    {
     "name": "stderr",
     "output_type": "stream",
     "text": [
      "INFO:root: \n",
      "Avg Training Stats after 22 global rounds:\n",
      "INFO:root:Train Accuracy: 0.00%\n",
      "INFO:root:Training Loss : 0.0817259764513394\n",
      "INFO:root:Test Accuracy: 52.97%\n",
      "INFO:root:Test Loss: 1.37823995500803 \n",
      "\n",
      " 22%|██▏       | 22/100 [13:36<49:03, 37.74s/it]"
     ]
    },
    {
     "name": "stdout",
     "output_type": "stream",
     "text": [
      "[40, 862, 327, 1780, 2274, 106, 1053, 1112, 1012, 3195]\n"
     ]
    },
    {
     "name": "stderr",
     "output_type": "stream",
     "text": [
      "INFO:root: \n",
      "Avg Training Stats after 23 global rounds:\n",
      "INFO:root:Train Accuracy: 0.00%\n",
      "INFO:root:Training Loss : 0.15342407205895797\n",
      "INFO:root:Test Accuracy: 53.53%\n",
      "INFO:root:Test Loss: 1.3542662853002547 \n",
      "\n",
      " 23%|██▎       | 23/100 [14:16<49:05, 38.25s/it]"
     ]
    },
    {
     "name": "stdout",
     "output_type": "stream",
     "text": [
      "[1320, 1119, 862, 744, 1053, 87, 201, 470, 2274, 1012]\n"
     ]
    },
    {
     "name": "stderr",
     "output_type": "stream",
     "text": [
      "INFO:root: \n",
      "Avg Training Stats after 24 global rounds:\n",
      "INFO:root:Train Accuracy: 0.00%\n",
      "INFO:root:Training Loss : 0.13086378714878788\n",
      "INFO:root:Test Accuracy: 50.53%\n",
      "INFO:root:Test Loss: 1.5727483011782168 \n",
      "\n",
      " 24%|██▍       | 24/100 [14:50<47:03, 37.15s/it]"
     ]
    },
    {
     "name": "stdout",
     "output_type": "stream",
     "text": [
      "[447, 286, 1416, 87, 796, 1798, 231, 1119, 431, 2195]\n"
     ]
    },
    {
     "name": "stderr",
     "output_type": "stream",
     "text": [
      "INFO:root: \n",
      "Avg Training Stats after 25 global rounds:\n",
      "INFO:root:Train Accuracy: 0.00%\n",
      "INFO:root:Training Loss : 0.1650274251684972\n",
      "INFO:root:Test Accuracy: 49.23%\n",
      "INFO:root:Test Loss: 1.7470564149320125 \n",
      "\n",
      " 25%|██▌       | 25/100 [15:24<45:16, 36.22s/it]"
     ]
    },
    {
     "name": "stdout",
     "output_type": "stream",
     "text": [
      "[116, 2029, 690, 1416, 1780, 602, 2575, 1756, 431, 87]\n"
     ]
    },
    {
     "name": "stderr",
     "output_type": "stream",
     "text": [
      "INFO:root: \n",
      "Avg Training Stats after 26 global rounds:\n",
      "INFO:root:Train Accuracy: 0.00%\n",
      "INFO:root:Training Loss : 0.17527579901592888\n",
      "INFO:root:Test Accuracy: 52.03%\n",
      "INFO:root:Test Loss: 1.5896742291748525 \n",
      "\n",
      " 26%|██▌       | 26/100 [16:03<45:38, 37.00s/it]"
     ]
    },
    {
     "name": "stdout",
     "output_type": "stream",
     "text": [
      "[87, 173, 2029, 19, 4600, 2195, 116, 303, 40, 209]\n"
     ]
    },
    {
     "name": "stderr",
     "output_type": "stream",
     "text": [
      "INFO:root: \n",
      "Avg Training Stats after 27 global rounds:\n",
      "INFO:root:Train Accuracy: 0.00%\n",
      "INFO:root:Training Loss : 0.17775939161687826\n",
      "INFO:root:Test Accuracy: 56.96%\n",
      "INFO:root:Test Loss: 1.3126030445098877 \n",
      "\n",
      " 27%|██▋       | 27/100 [16:39<44:31, 36.60s/it]"
     ]
    },
    {
     "name": "stdout",
     "output_type": "stream",
     "text": [
      "[4600, 267, 794, 231, 201, 231, 2934, 590, 470, 173]\n"
     ]
    },
    {
     "name": "stderr",
     "output_type": "stream",
     "text": [
      "INFO:root: \n",
      "Avg Training Stats after 28 global rounds:\n",
      "INFO:root:Train Accuracy: 0.00%\n",
      "INFO:root:Training Loss : 0.15658184248901413\n",
      "INFO:root:Test Accuracy: 56.57%\n",
      "INFO:root:Test Loss: 1.352784519791603 \n",
      "\n",
      " 28%|██▊       | 28/100 [17:16<44:06, 36.76s/it]"
     ]
    },
    {
     "name": "stdout",
     "output_type": "stream",
     "text": [
      "[1798, 286, 123, 1112, 303, 796, 744, 1320, 231, 794]\n"
     ]
    },
    {
     "name": "stderr",
     "output_type": "stream",
     "text": [
      "INFO:root: \n",
      "Avg Training Stats after 29 global rounds:\n",
      "INFO:root:Train Accuracy: 0.00%\n",
      "INFO:root:Training Loss : 0.058795285795759454\n",
      "INFO:root:Test Accuracy: 55.12%\n",
      "INFO:root:Test Loss: 1.4752266663312912 \n",
      "\n",
      " 29%|██▉       | 29/100 [17:47<41:39, 35.21s/it]"
     ]
    },
    {
     "name": "stdout",
     "output_type": "stream",
     "text": [
      "[303, 4600, 1119, 447, 744, 40, 1756, 2430, 2029, 602]\n"
     ]
    },
    {
     "name": "stderr",
     "output_type": "stream",
     "text": [
      "INFO:root: \n",
      "Avg Training Stats after 30 global rounds:\n",
      "INFO:root:Train Accuracy: 0.00%\n",
      "INFO:root:Training Loss : 0.07257988314186152\n",
      "INFO:root:Test Accuracy: 55.70%\n",
      "INFO:root:Test Loss: 1.4921691614389418 \n",
      "\n",
      " 30%|███       | 30/100 [18:31<43:54, 37.63s/it]"
     ]
    },
    {
     "name": "stdout",
     "output_type": "stream",
     "text": [
      "[422, 3195, 1112, 327, 123, 1736, 303, 286, 106, 1433]\n"
     ]
    },
    {
     "name": "stderr",
     "output_type": "stream",
     "text": [
      "INFO:root: \n",
      "Avg Training Stats after 31 global rounds:\n",
      "INFO:root:Train Accuracy: 0.00%\n",
      "INFO:root:Training Loss : 0.11838923056929355\n",
      "INFO:root:Test Accuracy: 56.14%\n",
      "INFO:root:Test Loss: 1.5086409890651702 \n",
      "\n",
      " 31%|███       | 31/100 [19:05<42:12, 36.70s/it]"
     ]
    },
    {
     "name": "stdout",
     "output_type": "stream",
     "text": [
      "[862, 173, 422, 303, 123, 1012, 542, 278, 431, 2195]\n"
     ]
    },
    {
     "name": "stderr",
     "output_type": "stream",
     "text": [
      "INFO:root: \n",
      "Avg Training Stats after 32 global rounds:\n",
      "INFO:root:Train Accuracy: 0.00%\n",
      "INFO:root:Training Loss : 0.1885060193455353\n",
      "INFO:root:Test Accuracy: 53.43%\n",
      "INFO:root:Test Loss: 1.5486088785529137 \n",
      "\n",
      " 32%|███▏      | 32/100 [19:35<39:14, 34.62s/it]"
     ]
    },
    {
     "name": "stdout",
     "output_type": "stream",
     "text": [
      "[1320, 15, 19, 1756, 231, 470, 267, 87, 862, 327]\n"
     ]
    },
    {
     "name": "stderr",
     "output_type": "stream",
     "text": [
      "INFO:root: \n",
      "Avg Training Stats after 33 global rounds:\n",
      "INFO:root:Train Accuracy: 0.00%\n",
      "INFO:root:Training Loss : 0.16668424887079708\n",
      "INFO:root:Test Accuracy: 52.67%\n",
      "INFO:root:Test Loss: 1.591520628631115 \n",
      "\n",
      " 33%|███▎      | 33/100 [20:03<36:27, 32.65s/it]"
     ]
    },
    {
     "name": "stdout",
     "output_type": "stream",
     "text": [
      "[87, 267, 796, 1053, 1433, 2575, 1119, 794, 15, 327]\n"
     ]
    },
    {
     "name": "stderr",
     "output_type": "stream",
     "text": [
      "INFO:root: \n",
      "Avg Training Stats after 34 global rounds:\n",
      "INFO:root:Train Accuracy: 0.00%\n",
      "INFO:root:Training Loss : 0.13245391331527603\n",
      "INFO:root:Test Accuracy: 52.67%\n",
      "INFO:root:Test Loss: 1.596265534758568 \n",
      "\n",
      " 34%|███▍      | 34/100 [20:36<36:08, 32.85s/it]"
     ]
    },
    {
     "name": "stdout",
     "output_type": "stream",
     "text": [
      "[422, 1798, 590, 796, 19, 1320, 173, 1416, 1053, 4600]\n"
     ]
    },
    {
     "name": "stderr",
     "output_type": "stream",
     "text": [
      "INFO:root: \n",
      "Avg Training Stats after 35 global rounds:\n",
      "INFO:root:Train Accuracy: 0.00%\n",
      "INFO:root:Training Loss : 0.15526037972418974\n",
      "INFO:root:Test Accuracy: 56.44%\n",
      "INFO:root:Test Loss: 1.4761392503976822 \n",
      "\n",
      " 35%|███▌      | 35/100 [21:16<37:50, 34.93s/it]"
     ]
    },
    {
     "name": "stdout",
     "output_type": "stream",
     "text": [
      "[2430, 1320, 602, 3195, 231, 2934, 431, 794, 1416, 542]\n"
     ]
    },
    {
     "name": "stderr",
     "output_type": "stream",
     "text": [
      "INFO:root: \n",
      "Avg Training Stats after 36 global rounds:\n",
      "INFO:root:Train Accuracy: 0.00%\n",
      "INFO:root:Training Loss : 0.11531148267808897\n",
      "INFO:root:Test Accuracy: 56.82%\n",
      "INFO:root:Test Loss: 1.5322786748409272 \n",
      "\n",
      " 36%|███▌      | 36/100 [21:59<39:54, 37.42s/it]"
     ]
    },
    {
     "name": "stdout",
     "output_type": "stream",
     "text": [
      "[15, 813, 1112, 123, 40, 796, 2274, 1018, 2195, 201]\n"
     ]
    },
    {
     "name": "stderr",
     "output_type": "stream",
     "text": [
      "INFO:root: \n",
      "Avg Training Stats after 37 global rounds:\n",
      "INFO:root:Train Accuracy: 0.00%\n",
      "INFO:root:Training Loss : 0.09344817238629503\n",
      "INFO:root:Test Accuracy: 58.06%\n",
      "INFO:root:Test Loss: 1.5296530669927597 \n",
      "\n",
      " 37%|███▋      | 37/100 [22:33<38:03, 36.24s/it]"
     ]
    },
    {
     "name": "stdout",
     "output_type": "stream",
     "text": [
      "[303, 2195, 422, 1112, 1433, 116, 796, 602, 1756, 231]\n"
     ]
    },
    {
     "name": "stderr",
     "output_type": "stream",
     "text": [
      "INFO:root: \n",
      "Avg Training Stats after 38 global rounds:\n",
      "INFO:root:Train Accuracy: 0.00%\n",
      "INFO:root:Training Loss : 0.12960294338032563\n",
      "INFO:root:Test Accuracy: 57.33%\n",
      "INFO:root:Test Loss: 1.564259521663189 \n",
      "\n",
      " 38%|███▊      | 38/100 [23:07<36:48, 35.62s/it]"
     ]
    },
    {
     "name": "stdout",
     "output_type": "stream",
     "text": [
      "[1756, 231, 267, 2430, 590, 1736, 15, 4600, 327, 1112]\n"
     ]
    },
    {
     "name": "stderr",
     "output_type": "stream",
     "text": [
      "INFO:root: \n",
      "Avg Training Stats after 39 global rounds:\n",
      "INFO:root:Train Accuracy: 0.00%\n",
      "INFO:root:Training Loss : 0.10959092496706702\n",
      "INFO:root:Test Accuracy: 58.91%\n",
      "INFO:root:Test Loss: 1.4286695700883865 \n",
      "\n",
      " 39%|███▉      | 39/100 [23:49<38:01, 37.40s/it]"
     ]
    },
    {
     "name": "stdout",
     "output_type": "stream",
     "text": [
      "[2575, 422, 3195, 862, 231, 796, 2934, 123, 2430, 794]\n"
     ]
    },
    {
     "name": "stderr",
     "output_type": "stream",
     "text": [
      "INFO:root: \n",
      "Avg Training Stats after 40 global rounds:\n",
      "INFO:root:Train Accuracy: 0.00%\n",
      "INFO:root:Training Loss : 0.1050804460290117\n",
      "INFO:root:Test Accuracy: 59.65%\n",
      "INFO:root:Test Loss: 1.3682958960533143 \n",
      "\n",
      " 40%|████      | 40/100 [24:33<39:19, 39.33s/it]"
     ]
    },
    {
     "name": "stdout",
     "output_type": "stream",
     "text": [
      "[231, 1119, 1736, 278, 447, 1018, 286, 744, 690, 173]\n"
     ]
    },
    {
     "name": "stderr",
     "output_type": "stream",
     "text": [
      "INFO:root: \n",
      "Avg Training Stats after 41 global rounds:\n",
      "INFO:root:Train Accuracy: 0.00%\n",
      "INFO:root:Training Loss : 0.12570281191974833\n",
      "INFO:root:Test Accuracy: 61.39%\n",
      "INFO:root:Test Loss: 1.2858031344413758 \n",
      "\n",
      " 41%|████      | 41/100 [25:03<36:01, 36.63s/it]"
     ]
    },
    {
     "name": "stdout",
     "output_type": "stream",
     "text": [
      "[231, 1320, 1416, 2575, 2274, 862, 690, 602, 1012, 173]\n"
     ]
    },
    {
     "name": "stderr",
     "output_type": "stream",
     "text": [
      "INFO:root: \n",
      "Avg Training Stats after 42 global rounds:\n",
      "INFO:root:Train Accuracy: 0.00%\n",
      "INFO:root:Training Loss : 0.12009532952226805\n",
      "INFO:root:Test Accuracy: 60.65%\n",
      "INFO:root:Test Loss: 1.312222543656826 \n",
      "\n",
      " 42%|████▏     | 42/100 [25:41<35:51, 37.09s/it]"
     ]
    },
    {
     "name": "stdout",
     "output_type": "stream",
     "text": [
      "[1112, 1053, 3195, 2934, 2029, 201, 123, 2195, 1018, 173]\n"
     ]
    },
    {
     "name": "stderr",
     "output_type": "stream",
     "text": [
      "INFO:root: \n",
      "Avg Training Stats after 43 global rounds:\n",
      "INFO:root:Train Accuracy: 0.00%\n",
      "INFO:root:Training Loss : 0.13881136218684428\n",
      "INFO:root:Test Accuracy: 60.78%\n",
      "INFO:root:Test Loss: 1.3230684432387352 \n",
      "\n",
      " 43%|████▎     | 43/100 [26:24<37:03, 39.00s/it]"
     ]
    },
    {
     "name": "stdout",
     "output_type": "stream",
     "text": [
      "[862, 1053, 422, 3195, 4600, 794, 1756, 173, 2029, 1018]\n"
     ]
    },
    {
     "name": "stderr",
     "output_type": "stream",
     "text": [
      "INFO:root: \n",
      "Avg Training Stats after 44 global rounds:\n",
      "INFO:root:Train Accuracy: 0.00%\n",
      "INFO:root:Training Loss : 0.1255123212546563\n",
      "INFO:root:Test Accuracy: 60.96%\n",
      "INFO:root:Test Loss: 1.3700379893183707 \n",
      "\n",
      " 44%|████▍     | 44/100 [27:11<38:31, 41.27s/it]"
     ]
    },
    {
     "name": "stdout",
     "output_type": "stream",
     "text": [
      "[1320, 2934, 796, 2195, 862, 2575, 2029, 19, 422, 286]\n"
     ]
    },
    {
     "name": "stderr",
     "output_type": "stream",
     "text": [
      "INFO:root: \n",
      "Avg Training Stats after 45 global rounds:\n",
      "INFO:root:Train Accuracy: 0.00%\n",
      "INFO:root:Training Loss : 0.0766767276867376\n",
      "INFO:root:Test Accuracy: 61.63%\n",
      "INFO:root:Test Loss: 1.4144124120473862 \n",
      "\n",
      " 45%|████▌     | 45/100 [27:53<38:06, 41.57s/it]"
     ]
    },
    {
     "name": "stdout",
     "output_type": "stream",
     "text": [
      "[862, 744, 1416, 1112, 590, 542, 278, 690, 116, 1780]\n"
     ]
    },
    {
     "name": "stderr",
     "output_type": "stream",
     "text": [
      "INFO:root: \n",
      "Avg Training Stats after 46 global rounds:\n",
      "INFO:root:Train Accuracy: 0.00%\n",
      "INFO:root:Training Loss : 0.15334988178558276\n",
      "INFO:root:Test Accuracy: 63.68%\n",
      "INFO:root:Test Loss: 1.2169446775317192 \n",
      "\n",
      " 46%|████▌     | 46/100 [28:26<35:04, 38.98s/it]"
     ]
    },
    {
     "name": "stdout",
     "output_type": "stream",
     "text": [
      "[2575, 1112, 1320, 231, 3195, 1012, 862, 447, 2195, 201]\n"
     ]
    },
    {
     "name": "stderr",
     "output_type": "stream",
     "text": [
      "INFO:root: \n",
      "Avg Training Stats after 47 global rounds:\n",
      "INFO:root:Train Accuracy: 0.00%\n",
      "INFO:root:Training Loss : 0.06022747139521319\n",
      "INFO:root:Test Accuracy: 63.08%\n",
      "INFO:root:Test Loss: 1.188052878677845 \n",
      "\n",
      " 47%|████▋     | 47/100 [29:08<35:06, 39.75s/it]"
     ]
    },
    {
     "name": "stdout",
     "output_type": "stream",
     "text": [
      "[1433, 542, 813, 231, 1119, 2029, 1012, 173, 2195, 1320]\n"
     ]
    },
    {
     "name": "stderr",
     "output_type": "stream",
     "text": [
      "INFO:root: \n",
      "Avg Training Stats after 48 global rounds:\n",
      "INFO:root:Train Accuracy: 0.00%\n",
      "INFO:root:Training Loss : 0.07705331943346751\n",
      "INFO:root:Test Accuracy: 62.10%\n",
      "INFO:root:Test Loss: 1.2605026918649673 \n",
      "\n",
      " 48%|████▊     | 48/100 [29:45<33:53, 39.10s/it]"
     ]
    },
    {
     "name": "stdout",
     "output_type": "stream",
     "text": [
      "[744, 2195, 209, 1780, 2575, 123, 327, 40, 1736, 690]\n"
     ]
    },
    {
     "name": "stderr",
     "output_type": "stream",
     "text": [
      "INFO:root: \n",
      "Avg Training Stats after 49 global rounds:\n",
      "INFO:root:Train Accuracy: 0.00%\n",
      "INFO:root:Training Loss : 0.1381806418068073\n",
      "INFO:root:Test Accuracy: 61.83%\n",
      "INFO:root:Test Loss: 1.3024448415637015 \n",
      "\n",
      " 49%|████▉     | 49/100 [30:22<32:42, 38.47s/it]"
     ]
    },
    {
     "name": "stdout",
     "output_type": "stream",
     "text": [
      "[862, 690, 1433, 173, 3195, 2934, 116, 447, 231, 431]\n"
     ]
    },
    {
     "name": "stderr",
     "output_type": "stream",
     "text": [
      "INFO:root: \n",
      "Avg Training Stats after 50 global rounds:\n",
      "INFO:root:Train Accuracy: 0.00%\n",
      "INFO:root:Training Loss : 0.13564442868824558\n",
      "INFO:root:Test Accuracy: 61.57%\n",
      "INFO:root:Test Loss: 1.4497953730821609 \n",
      "\n",
      " 50%|█████     | 50/100 [30:59<31:42, 38.05s/it]"
     ]
    },
    {
     "name": "stdout",
     "output_type": "stream",
     "text": [
      "[1320, 19, 3195, 87, 1756, 303, 813, 2575, 231, 231]\n"
     ]
    },
    {
     "name": "stderr",
     "output_type": "stream",
     "text": [
      "INFO:root: \n",
      "Avg Training Stats after 51 global rounds:\n",
      "INFO:root:Train Accuracy: 0.00%\n",
      "INFO:root:Training Loss : 0.03226787164202929\n",
      "INFO:root:Test Accuracy: 59.55%\n",
      "INFO:root:Test Loss: 1.7640282893180848 \n",
      "\n",
      " 51%|█████     | 51/100 [31:36<30:45, 37.67s/it]"
     ]
    },
    {
     "name": "stdout",
     "output_type": "stream",
     "text": [
      "[40, 813, 1780, 2934, 15, 173, 278, 19, 1798, 267]\n"
     ]
    },
    {
     "name": "stderr",
     "output_type": "stream",
     "text": [
      "INFO:root: \n",
      "Avg Training Stats after 52 global rounds:\n",
      "INFO:root:Train Accuracy: 0.00%\n",
      "INFO:root:Training Loss : 0.09847844554207129\n",
      "INFO:root:Test Accuracy: 62.01%\n",
      "INFO:root:Test Loss: 1.5798636960983277 \n",
      "\n",
      " 52%|█████▏    | 52/100 [32:09<28:57, 36.20s/it]"
     ]
    },
    {
     "name": "stdout",
     "output_type": "stream",
     "text": [
      "[267, 231, 690, 173, 1780, 1053, 862, 590, 1433, 303]\n"
     ]
    },
    {
     "name": "stderr",
     "output_type": "stream",
     "text": [
      "INFO:root: \n",
      "Avg Training Stats after 53 global rounds:\n",
      "INFO:root:Train Accuracy: 0.00%\n",
      "INFO:root:Training Loss : 0.12279834548234614\n",
      "INFO:root:Test Accuracy: 64.57%\n",
      "INFO:root:Test Loss: 1.3471630042791367 \n",
      "\n",
      " 53%|█████▎    | 53/100 [32:40<27:14, 34.78s/it]"
     ]
    },
    {
     "name": "stdout",
     "output_type": "stream",
     "text": [
      "[431, 3195, 201, 796, 2934, 15, 231, 1112, 1736, 267]\n"
     ]
    },
    {
     "name": "stderr",
     "output_type": "stream",
     "text": [
      "INFO:root: \n",
      "Avg Training Stats after 54 global rounds:\n",
      "INFO:root:Train Accuracy: 0.00%\n",
      "INFO:root:Training Loss : 0.09355375521314237\n",
      "INFO:root:Test Accuracy: 64.24%\n",
      "INFO:root:Test Loss: 1.306941065788269 \n",
      "\n",
      " 54%|█████▍    | 54/100 [33:18<27:19, 35.65s/it]"
     ]
    },
    {
     "name": "stdout",
     "output_type": "stream",
     "text": [
      "[40, 1320, 1416, 286, 2195, 1012, 201, 116, 1053, 542]\n"
     ]
    },
    {
     "name": "stderr",
     "output_type": "stream",
     "text": [
      "INFO:root: \n",
      "Avg Training Stats after 55 global rounds:\n",
      "INFO:root:Train Accuracy: 0.00%\n",
      "INFO:root:Training Loss : 0.12161314875123704\n",
      "INFO:root:Test Accuracy: 64.09%\n",
      "INFO:root:Test Loss: 1.258864324092865 \n",
      "\n",
      " 55%|█████▌    | 55/100 [33:51<26:05, 34.79s/it]"
     ]
    },
    {
     "name": "stdout",
     "output_type": "stream",
     "text": [
      "[1798, 422, 231, 4600, 231, 2575, 1433, 106, 1320, 862]\n"
     ]
    },
    {
     "name": "stderr",
     "output_type": "stream",
     "text": [
      "INFO:root: \n",
      "Avg Training Stats after 56 global rounds:\n",
      "INFO:root:Train Accuracy: 0.00%\n",
      "INFO:root:Training Loss : 0.06060722772283124\n",
      "INFO:root:Test Accuracy: 63.80%\n",
      "INFO:root:Test Loss: 1.2906752100586891 \n",
      "\n",
      " 56%|█████▌    | 56/100 [34:33<27:12, 37.10s/it]"
     ]
    },
    {
     "name": "stdout",
     "output_type": "stream",
     "text": [
      "[2274, 3195, 267, 2029, 590, 327, 2195, 278, 1756, 813]\n"
     ]
    },
    {
     "name": "stderr",
     "output_type": "stream",
     "text": [
      "INFO:root: \n",
      "Avg Training Stats after 57 global rounds:\n",
      "INFO:root:Train Accuracy: 0.00%\n",
      "INFO:root:Training Loss : 0.08425850005204705\n",
      "INFO:root:Test Accuracy: 63.44%\n",
      "INFO:root:Test Loss: 1.3980010935664178 \n",
      "\n",
      " 57%|█████▋    | 57/100 [35:16<27:45, 38.74s/it]"
     ]
    },
    {
     "name": "stdout",
     "output_type": "stream",
     "text": [
      "[1798, 431, 123, 1320, 1416, 231, 2575, 2934, 19, 1756]\n"
     ]
    },
    {
     "name": "stderr",
     "output_type": "stream",
     "text": [
      "INFO:root: \n",
      "Avg Training Stats after 58 global rounds:\n",
      "INFO:root:Train Accuracy: 0.00%\n",
      "INFO:root:Training Loss : 0.072647628592247\n",
      "INFO:root:Test Accuracy: 63.18%\n",
      "INFO:root:Test Loss: 1.5444558373093604 \n",
      "\n",
      " 58%|█████▊    | 58/100 [35:57<27:32, 39.35s/it]"
     ]
    },
    {
     "name": "stdout",
     "output_type": "stream",
     "text": [
      "[1018, 267, 2274, 447, 2029, 690, 590, 303, 1119, 796]\n"
     ]
    },
    {
     "name": "stderr",
     "output_type": "stream",
     "text": [
      "INFO:root: \n",
      "Avg Training Stats after 59 global rounds:\n",
      "INFO:root:Train Accuracy: 0.00%\n",
      "INFO:root:Training Loss : 0.058796211664176104\n",
      "INFO:root:Test Accuracy: 62.44%\n",
      "INFO:root:Test Loss: 1.7304186491668225 \n",
      "\n",
      " 59%|█████▉    | 59/100 [36:32<26:03, 38.13s/it]"
     ]
    },
    {
     "name": "stdout",
     "output_type": "stream",
     "text": [
      "[106, 2430, 447, 1433, 1012, 3195, 1119, 1756, 862, 4600]\n",
      "0.1\n"
     ]
    },
    {
     "name": "stderr",
     "output_type": "stream",
     "text": [
      "INFO:root: \n",
      "Avg Training Stats after 60 global rounds:\n",
      "INFO:root:Train Accuracy: 0.00%\n",
      "INFO:root:Training Loss : 0.03189735000277695\n",
      "INFO:root:Test Accuracy: 62.62%\n",
      "INFO:root:Test Loss: 1.703997505158186 \n",
      "\n",
      " 60%|██████    | 60/100 [37:20<27:26, 41.15s/it]"
     ]
    },
    {
     "name": "stdout",
     "output_type": "stream",
     "text": [
      "[1780, 1320, 286, 2029, 40, 796, 447, 15, 231, 744]\n"
     ]
    },
    {
     "name": "stderr",
     "output_type": "stream",
     "text": [
      "INFO:root: \n",
      "Avg Training Stats after 61 global rounds:\n",
      "INFO:root:Train Accuracy: 0.00%\n",
      "INFO:root:Training Loss : 0.053726366399293825\n",
      "INFO:root:Test Accuracy: 63.22%\n",
      "INFO:root:Test Loss: 1.6443448384851218 \n",
      "\n",
      " 61%|██████    | 61/100 [37:52<24:57, 38.40s/it]"
     ]
    },
    {
     "name": "stdout",
     "output_type": "stream",
     "text": [
      "[116, 15, 2029, 327, 19, 470, 422, 87, 1012, 303]\n"
     ]
    },
    {
     "name": "stderr",
     "output_type": "stream",
     "text": [
      "INFO:root: \n",
      "Avg Training Stats after 62 global rounds:\n",
      "INFO:root:Train Accuracy: 0.00%\n",
      "INFO:root:Training Loss : 0.10201464816007302\n",
      "INFO:root:Test Accuracy: 64.00%\n",
      "INFO:root:Test Loss: 1.5706915998458861 \n",
      "\n",
      " 62%|██████▏   | 62/100 [38:19<22:09, 34.98s/it]"
     ]
    },
    {
     "name": "stdout",
     "output_type": "stream",
     "text": [
      "[796, 2274, 862, 286, 813, 3195, 1112, 422, 1119, 327]\n"
     ]
    },
    {
     "name": "stderr",
     "output_type": "stream",
     "text": [
      "INFO:root: \n",
      "Avg Training Stats after 63 global rounds:\n",
      "INFO:root:Train Accuracy: 0.00%\n",
      "INFO:root:Training Loss : 0.0750347224894051\n",
      "INFO:root:Test Accuracy: 64.57%\n",
      "INFO:root:Test Loss: 1.5010709866136311 \n",
      "\n",
      " 63%|██████▎   | 63/100 [38:57<22:09, 35.94s/it]"
     ]
    },
    {
     "name": "stdout",
     "output_type": "stream",
     "text": [
      "[542, 1798, 690, 15, 267, 2575, 796, 590, 209, 470]\n"
     ]
    },
    {
     "name": "stderr",
     "output_type": "stream",
     "text": [
      "INFO:root: \n",
      "Avg Training Stats after 64 global rounds:\n",
      "INFO:root:Train Accuracy: 0.00%\n",
      "INFO:root:Training Loss : 0.08725349306683192\n",
      "INFO:root:Test Accuracy: 65.12%\n",
      "INFO:root:Test Loss: 1.4407288977503776 \n",
      "\n",
      " 64%|██████▍   | 64/100 [39:30<20:56, 34.89s/it]"
     ]
    },
    {
     "name": "stdout",
     "output_type": "stream",
     "text": [
      "[87, 267, 286, 1053, 303, 796, 40, 173, 19, 327]\n"
     ]
    },
    {
     "name": "stderr",
     "output_type": "stream",
     "text": [
      "INFO:root: \n",
      "Avg Training Stats after 65 global rounds:\n",
      "INFO:root:Train Accuracy: 0.00%\n",
      "INFO:root:Training Loss : 0.11765278513060506\n",
      "INFO:root:Test Accuracy: 65.64%\n",
      "INFO:root:Test Loss: 1.3895122981071473 \n",
      "\n",
      " 65%|██████▌   | 65/100 [39:54<18:30, 31.73s/it]"
     ]
    },
    {
     "name": "stdout",
     "output_type": "stream",
     "text": [
      "[813, 542, 106, 123, 4600, 40, 209, 2029, 1736, 2195]\n"
     ]
    },
    {
     "name": "stderr",
     "output_type": "stream",
     "text": [
      "INFO:root: \n",
      "Avg Training Stats after 66 global rounds:\n",
      "INFO:root:Train Accuracy: 0.00%\n",
      "INFO:root:Training Loss : 0.06925629829690592\n",
      "INFO:root:Test Accuracy: 65.98%\n",
      "INFO:root:Test Loss: 1.3424491792917252 \n",
      "\n",
      " 66%|██████▌   | 66/100 [40:34<19:25, 34.29s/it]"
     ]
    },
    {
     "name": "stdout",
     "output_type": "stream",
     "text": [
      "[1416, 1320, 201, 744, 2934, 447, 278, 2430, 1018, 2274]\n"
     ]
    },
    {
     "name": "stderr",
     "output_type": "stream",
     "text": [
      "INFO:root: \n",
      "Avg Training Stats after 67 global rounds:\n",
      "INFO:root:Train Accuracy: 0.00%\n",
      "INFO:root:Training Loss : 0.07422303079688666\n",
      "INFO:root:Test Accuracy: 66.42%\n",
      "INFO:root:Test Loss: 1.3022432380914688 \n",
      "\n",
      " 67%|██████▋   | 67/100 [41:16<20:01, 36.40s/it]"
     ]
    },
    {
     "name": "stdout",
     "output_type": "stream",
     "text": [
      "[303, 1012, 470, 123, 106, 201, 87, 1736, 2934, 2575]\n"
     ]
    },
    {
     "name": "stderr",
     "output_type": "stream",
     "text": [
      "INFO:root: \n",
      "Avg Training Stats after 68 global rounds:\n",
      "INFO:root:Train Accuracy: 0.00%\n",
      "INFO:root:Training Loss : 0.03785550650058077\n",
      "INFO:root:Test Accuracy: 66.61%\n",
      "INFO:root:Test Loss: 1.274720435142517 \n",
      "\n",
      " 68%|██████▊   | 68/100 [41:51<19:12, 36.00s/it]"
     ]
    },
    {
     "name": "stdout",
     "output_type": "stream",
     "text": [
      "[3195, 794, 690, 2029, 231, 1756, 1112, 1736, 201, 813]\n"
     ]
    },
    {
     "name": "stderr",
     "output_type": "stream",
     "text": [
      "INFO:root: \n",
      "Avg Training Stats after 69 global rounds:\n",
      "INFO:root:Train Accuracy: 0.00%\n",
      "INFO:root:Training Loss : 0.04577170933756799\n",
      "INFO:root:Test Accuracy: 66.82%\n",
      "INFO:root:Test Loss: 1.2560648229718208 \n",
      "\n",
      " 69%|██████▉   | 69/100 [42:32<19:20, 37.43s/it]"
     ]
    },
    {
     "name": "stdout",
     "output_type": "stream",
     "text": [
      "[106, 40, 278, 422, 470, 2029, 2934, 744, 2274, 327]\n"
     ]
    },
    {
     "name": "stderr",
     "output_type": "stream",
     "text": [
      "INFO:root: \n",
      "Avg Training Stats after 70 global rounds:\n",
      "INFO:root:Train Accuracy: 0.00%\n",
      "INFO:root:Training Loss : 0.07116765659427295\n",
      "INFO:root:Test Accuracy: 66.94%\n",
      "INFO:root:Test Loss: 1.2466245540976524 \n",
      "\n",
      " 70%|███████   | 70/100 [43:07<18:25, 36.85s/it]"
     ]
    },
    {
     "name": "stdout",
     "output_type": "stream",
     "text": [
      "[3195, 267, 303, 173, 286, 2029, 422, 1012, 796, 106]\n"
     ]
    },
    {
     "name": "stderr",
     "output_type": "stream",
     "text": [
      "INFO:root: \n",
      "Avg Training Stats after 71 global rounds:\n",
      "INFO:root:Train Accuracy: 0.00%\n",
      "INFO:root:Training Loss : 0.07613670531441516\n",
      "INFO:root:Test Accuracy: 66.93%\n",
      "INFO:root:Test Loss: 1.244932235777378 \n",
      "\n",
      " 71%|███████   | 71/100 [43:41<17:21, 35.91s/it]"
     ]
    },
    {
     "name": "stdout",
     "output_type": "stream",
     "text": [
      "[209, 40, 4600, 106, 123, 1012, 690, 542, 602, 2575]\n"
     ]
    },
    {
     "name": "stderr",
     "output_type": "stream",
     "text": [
      "INFO:root: \n",
      "Avg Training Stats after 72 global rounds:\n",
      "INFO:root:Train Accuracy: 0.00%\n",
      "INFO:root:Training Loss : 0.06756349602323859\n",
      "INFO:root:Test Accuracy: 66.90%\n",
      "INFO:root:Test Loss: 1.2512182316184044 \n",
      "\n",
      " 72%|███████▏  | 72/100 [44:18<16:57, 36.32s/it]"
     ]
    },
    {
     "name": "stdout",
     "output_type": "stream",
     "text": [
      "[1012, 2430, 2274, 209, 1798, 303, 1112, 231, 744, 278]\n"
     ]
    },
    {
     "name": "stderr",
     "output_type": "stream",
     "text": [
      "INFO:root: \n",
      "Avg Training Stats after 73 global rounds:\n",
      "INFO:root:Train Accuracy: 0.00%\n",
      "INFO:root:Training Loss : 0.06124507278546816\n",
      "INFO:root:Test Accuracy: 66.80%\n",
      "INFO:root:Test Loss: 1.2500962248444558 \n",
      "\n",
      " 73%|███████▎  | 73/100 [44:55<16:23, 36.42s/it]"
     ]
    },
    {
     "name": "stdout",
     "output_type": "stream",
     "text": [
      "[447, 1320, 209, 327, 744, 1018, 231, 2430, 590, 602]\n"
     ]
    },
    {
     "name": "stderr",
     "output_type": "stream",
     "text": [
      "INFO:root: \n",
      "Avg Training Stats after 74 global rounds:\n",
      "INFO:root:Train Accuracy: 0.00%\n",
      "INFO:root:Training Loss : 0.10468961185749578\n",
      "INFO:root:Test Accuracy: 66.84%\n",
      "INFO:root:Test Loss: 1.2444900101423264 \n",
      "\n",
      " 74%|███████▍  | 74/100 [45:27<15:15, 35.21s/it]"
     ]
    },
    {
     "name": "stdout",
     "output_type": "stream",
     "text": [
      "[470, 1053, 303, 1012, 106, 3195, 447, 1112, 201, 1433]\n"
     ]
    },
    {
     "name": "stderr",
     "output_type": "stream",
     "text": [
      "INFO:root: \n",
      "Avg Training Stats after 75 global rounds:\n",
      "INFO:root:Train Accuracy: 0.00%\n",
      "INFO:root:Training Loss : 0.031041067853055476\n",
      "INFO:root:Test Accuracy: 66.97%\n",
      "INFO:root:Test Loss: 1.2446190875768661 \n",
      "\n",
      " 75%|███████▌  | 75/100 [46:02<14:40, 35.21s/it]"
     ]
    },
    {
     "name": "stdout",
     "output_type": "stream",
     "text": [
      "[231, 1433, 431, 209, 1416, 1780, 116, 123, 422, 4600]\n"
     ]
    },
    {
     "name": "stderr",
     "output_type": "stream",
     "text": [
      "INFO:root: \n",
      "Avg Training Stats after 76 global rounds:\n",
      "INFO:root:Train Accuracy: 0.00%\n",
      "INFO:root:Training Loss : 0.1300418543805622\n",
      "INFO:root:Test Accuracy: 66.99%\n",
      "INFO:root:Test Loss: 1.2442024937272071 \n",
      "\n",
      " 76%|███████▌  | 76/100 [46:40<14:21, 35.91s/it]"
     ]
    },
    {
     "name": "stdout",
     "output_type": "stream",
     "text": [
      "[2575, 796, 1053, 267, 602, 1018, 201, 1756, 286, 2430]\n"
     ]
    },
    {
     "name": "stderr",
     "output_type": "stream",
     "text": [
      "INFO:root: \n",
      "Avg Training Stats after 77 global rounds:\n",
      "INFO:root:Train Accuracy: 0.00%\n",
      "INFO:root:Training Loss : 0.07213131098585118\n",
      "INFO:root:Test Accuracy: 67.11%\n",
      "INFO:root:Test Loss: 1.24746667355299 \n",
      "\n",
      " 77%|███████▋  | 77/100 [47:18<13:58, 36.45s/it]"
     ]
    },
    {
     "name": "stdout",
     "output_type": "stream",
     "text": [
      "[15, 2029, 2274, 744, 1018, 1736, 2934, 19, 173, 447]\n"
     ]
    },
    {
     "name": "stderr",
     "output_type": "stream",
     "text": [
      "INFO:root: \n",
      "Avg Training Stats after 78 global rounds:\n",
      "INFO:root:Train Accuracy: 0.00%\n",
      "INFO:root:Training Loss : 0.07674896970395671\n",
      "INFO:root:Test Accuracy: 67.19%\n",
      "INFO:root:Test Loss: 1.251056485772133 \n",
      "\n",
      " 78%|███████▊  | 78/100 [47:56<13:37, 37.14s/it]"
     ]
    },
    {
     "name": "stdout",
     "output_type": "stream",
     "text": [
      "[542, 602, 173, 201, 590, 690, 422, 2934, 1736, 744]\n"
     ]
    },
    {
     "name": "stderr",
     "output_type": "stream",
     "text": [
      "INFO:root: \n",
      "Avg Training Stats after 79 global rounds:\n",
      "INFO:root:Train Accuracy: 0.00%\n",
      "INFO:root:Training Loss : 0.10315029905836937\n",
      "INFO:root:Test Accuracy: 67.20%\n",
      "INFO:root:Test Loss: 1.2544596564769745 \n",
      "\n",
      " 79%|███████▉  | 79/100 [48:30<12:37, 36.08s/it]"
     ]
    },
    {
     "name": "stdout",
     "output_type": "stream",
     "text": [
      "[201, 278, 40, 1112, 106, 690, 2029, 87, 796, 3195]\n"
     ]
    },
    {
     "name": "stderr",
     "output_type": "stream",
     "text": [
      "INFO:root: \n",
      "Avg Training Stats after 80 global rounds:\n",
      "INFO:root:Train Accuracy: 0.00%\n",
      "INFO:root:Training Loss : 0.029841782184135395\n",
      "INFO:root:Test Accuracy: 67.21%\n",
      "INFO:root:Test Loss: 1.263691347837448 \n",
      "\n",
      " 80%|████████  | 80/100 [49:03<11:46, 35.31s/it]"
     ]
    },
    {
     "name": "stdout",
     "output_type": "stream",
     "text": [
      "[1798, 15, 201, 123, 1433, 542, 1119, 690, 602, 40]\n"
     ]
    },
    {
     "name": "stderr",
     "output_type": "stream",
     "text": [
      "INFO:root: \n",
      "Avg Training Stats after 81 global rounds:\n",
      "INFO:root:Train Accuracy: 0.00%\n",
      "INFO:root:Training Loss : 0.05670387353950803\n",
      "INFO:root:Test Accuracy: 67.28%\n",
      "INFO:root:Test Loss: 1.268836675286293 \n",
      "\n",
      " 81%|████████  | 81/100 [49:33<10:40, 33.69s/it]"
     ]
    },
    {
     "name": "stdout",
     "output_type": "stream",
     "text": [
      "[267, 542, 209, 796, 87, 3195, 231, 303, 2934, 1119]\n"
     ]
    },
    {
     "name": "stderr",
     "output_type": "stream",
     "text": [
      "INFO:root: \n",
      "Avg Training Stats after 82 global rounds:\n",
      "INFO:root:Train Accuracy: 0.00%\n",
      "INFO:root:Training Loss : 0.06348655829212699\n",
      "INFO:root:Test Accuracy: 67.27%\n",
      "INFO:root:Test Loss: 1.277753418982029 \n",
      "\n",
      " 82%|████████▏ | 82/100 [50:09<10:17, 34.32s/it]"
     ]
    },
    {
     "name": "stdout",
     "output_type": "stream",
     "text": [
      "[690, 431, 422, 231, 4600, 2934, 2029, 327, 796, 590]\n"
     ]
    },
    {
     "name": "stderr",
     "output_type": "stream",
     "text": [
      "INFO:root: \n",
      "Avg Training Stats after 83 global rounds:\n",
      "INFO:root:Train Accuracy: 0.00%\n",
      "INFO:root:Training Loss : 0.07329371325188794\n",
      "INFO:root:Test Accuracy: 67.48%\n",
      "INFO:root:Test Loss: 1.285713944733143 \n",
      "\n",
      " 83%|████████▎ | 83/100 [50:51<10:20, 36.48s/it]"
     ]
    },
    {
     "name": "stdout",
     "output_type": "stream",
     "text": [
      "[231, 1112, 87, 303, 690, 796, 2195, 813, 327, 1018]\n"
     ]
    },
    {
     "name": "stderr",
     "output_type": "stream",
     "text": [
      "INFO:root: \n",
      "Avg Training Stats after 84 global rounds:\n",
      "INFO:root:Train Accuracy: 0.00%\n",
      "INFO:root:Training Loss : 0.06759809395592108\n",
      "INFO:root:Test Accuracy: 67.44%\n",
      "INFO:root:Test Loss: 1.2939251092076303 \n",
      "\n",
      " 84%|████████▍ | 84/100 [51:22<09:21, 35.06s/it]"
     ]
    },
    {
     "name": "stdout",
     "output_type": "stream",
     "text": [
      "[602, 1018, 542, 106, 794, 447, 2029, 1433, 327, 690]\n"
     ]
    },
    {
     "name": "stderr",
     "output_type": "stream",
     "text": [
      "INFO:root: \n",
      "Avg Training Stats after 85 global rounds:\n",
      "INFO:root:Train Accuracy: 0.00%\n",
      "INFO:root:Training Loss : 0.07651136317129412\n",
      "INFO:root:Test Accuracy: 67.48%\n",
      "INFO:root:Test Loss: 1.296924996972084 \n",
      "\n",
      " 85%|████████▌ | 85/100 [51:55<08:35, 34.38s/it]"
     ]
    },
    {
     "name": "stdout",
     "output_type": "stream",
     "text": [
      "[1433, 267, 447, 1012, 470, 201, 231, 15, 278, 1736]\n"
     ]
    },
    {
     "name": "stderr",
     "output_type": "stream",
     "text": [
      "INFO:root: \n",
      "Avg Training Stats after 86 global rounds:\n",
      "INFO:root:Train Accuracy: 0.00%\n",
      "INFO:root:Training Loss : 0.07059398578499652\n",
      "INFO:root:Test Accuracy: 67.51%\n",
      "INFO:root:Test Loss: 1.292703709602356 \n",
      "\n",
      " 86%|████████▌ | 86/100 [52:24<07:39, 32.83s/it]"
     ]
    },
    {
     "name": "stdout",
     "output_type": "stream",
     "text": [
      "[40, 1053, 231, 286, 106, 2274, 470, 1119, 447, 1416]\n"
     ]
    },
    {
     "name": "stderr",
     "output_type": "stream",
     "text": [
      "INFO:root: \n",
      "Avg Training Stats after 87 global rounds:\n",
      "INFO:root:Train Accuracy: 0.00%\n",
      "INFO:root:Training Loss : 0.06098330048168269\n",
      "INFO:root:Test Accuracy: 67.67%\n",
      "INFO:root:Test Loss: 1.2768899536132812 \n",
      "\n",
      " 87%|████████▋ | 87/100 [52:56<07:02, 32.47s/it]"
     ]
    },
    {
     "name": "stdout",
     "output_type": "stream",
     "text": [
      "[209, 2029, 231, 278, 1320, 862, 2195, 690, 1736, 106]\n"
     ]
    },
    {
     "name": "stderr",
     "output_type": "stream",
     "text": [
      "INFO:root: \n",
      "Avg Training Stats after 88 global rounds:\n",
      "INFO:root:Train Accuracy: 0.00%\n",
      "INFO:root:Training Loss : 0.05635965282983339\n",
      "INFO:root:Test Accuracy: 67.79%\n",
      "INFO:root:Test Loss: 1.259385644197464 \n",
      "\n",
      " 88%|████████▊ | 88/100 [53:31<06:40, 33.34s/it]"
     ]
    },
    {
     "name": "stdout",
     "output_type": "stream",
     "text": [
      "[2430, 201, 2195, 2575, 123, 602, 116, 794, 4600, 690]\n"
     ]
    },
    {
     "name": "stderr",
     "output_type": "stream",
     "text": [
      "INFO:root: \n",
      "Avg Training Stats after 89 global rounds:\n",
      "INFO:root:Train Accuracy: 0.00%\n",
      "INFO:root:Training Loss : 0.07486591993139054\n",
      "INFO:root:Test Accuracy: 67.98%\n",
      "INFO:root:Test Loss: 1.2450868725776671 \n",
      "\n",
      " 89%|████████▉ | 89/100 [54:15<06:41, 36.47s/it]"
     ]
    },
    {
     "name": "stdout",
     "output_type": "stream",
     "text": [
      "[470, 303, 278, 87, 1119, 2274, 1780, 19, 4600, 602]\n",
      "0.010000000000000002\n"
     ]
    },
    {
     "name": "stderr",
     "output_type": "stream",
     "text": [
      "INFO:root: \n",
      "Avg Training Stats after 90 global rounds:\n",
      "INFO:root:Train Accuracy: 0.00%\n",
      "INFO:root:Training Loss : 0.037590105094134005\n",
      "INFO:root:Test Accuracy: 67.96%\n",
      "INFO:root:Test Loss: 1.2438084295392036 \n",
      "\n",
      " 90%|█████████ | 90/100 [54:54<06:11, 37.14s/it]"
     ]
    },
    {
     "name": "stdout",
     "output_type": "stream",
     "text": [
      "[2575, 602, 2029, 327, 209, 4600, 2274, 1756, 431, 1112]\n"
     ]
    },
    {
     "name": "stderr",
     "output_type": "stream",
     "text": [
      "INFO:root: \n",
      "Avg Training Stats after 91 global rounds:\n",
      "INFO:root:Train Accuracy: 0.00%\n",
      "INFO:root:Training Loss : 0.07063266594889883\n",
      "INFO:root:Test Accuracy: 68.01%\n",
      "INFO:root:Test Loss: 1.2427117490768433 \n",
      "\n",
      " 91%|█████████ | 91/100 [55:40<05:59, 39.96s/it]"
     ]
    },
    {
     "name": "stdout",
     "output_type": "stream",
     "text": [
      "[2195, 267, 813, 286, 3195, 470, 231, 278, 1012, 231]\n"
     ]
    },
    {
     "name": "stderr",
     "output_type": "stream",
     "text": [
      "INFO:root: \n",
      "Avg Training Stats after 92 global rounds:\n",
      "INFO:root:Train Accuracy: 0.00%\n",
      "INFO:root:Training Loss : 0.057585387639270805\n",
      "INFO:root:Test Accuracy: 68.01%\n",
      "INFO:root:Test Loss: 1.2415233954787255 \n",
      "\n",
      " 92%|█████████▏| 92/100 [56:15<05:05, 38.21s/it]"
     ]
    },
    {
     "name": "stdout",
     "output_type": "stream",
     "text": [
      "[1053, 2575, 303, 2430, 542, 116, 1756, 1433, 327, 15]\n"
     ]
    },
    {
     "name": "stderr",
     "output_type": "stream",
     "text": [
      "INFO:root: \n",
      "Avg Training Stats after 93 global rounds:\n",
      "INFO:root:Train Accuracy: 0.00%\n",
      "INFO:root:Training Loss : 0.0938034565770535\n",
      "INFO:root:Test Accuracy: 67.99%\n",
      "INFO:root:Test Loss: 1.240239705145359 \n",
      "\n",
      " 93%|█████████▎| 93/100 [56:51<04:24, 37.73s/it]"
     ]
    },
    {
     "name": "stdout",
     "output_type": "stream",
     "text": [
      "[590, 4600, 201, 286, 303, 1736, 15, 1798, 744, 422]\n"
     ]
    },
    {
     "name": "stderr",
     "output_type": "stream",
     "text": [
      "INFO:root: \n",
      "Avg Training Stats after 94 global rounds:\n",
      "INFO:root:Train Accuracy: 0.00%\n",
      "INFO:root:Training Loss : 0.05321657803744432\n",
      "INFO:root:Test Accuracy: 68.01%\n",
      "INFO:root:Test Loss: 1.239072626531124 \n",
      "\n",
      " 94%|█████████▍| 94/100 [57:28<03:45, 37.57s/it]"
     ]
    },
    {
     "name": "stdout",
     "output_type": "stream",
     "text": [
      "[123, 862, 542, 19, 794, 1112, 4600, 2934, 231, 15]\n"
     ]
    },
    {
     "name": "stderr",
     "output_type": "stream",
     "text": [
      "INFO:root: \n",
      "Avg Training Stats after 95 global rounds:\n",
      "INFO:root:Train Accuracy: 0.00%\n",
      "INFO:root:Training Loss : 0.06889513240109987\n",
      "INFO:root:Test Accuracy: 68.02%\n",
      "INFO:root:Test Loss: 1.2382098829746246 \n",
      "\n",
      " 95%|█████████▌| 95/100 [58:07<03:08, 37.78s/it]"
     ]
    },
    {
     "name": "stdout",
     "output_type": "stream",
     "text": [
      "[1053, 87, 2575, 4600, 542, 231, 1433, 1012, 2029, 862]\n"
     ]
    },
    {
     "name": "stderr",
     "output_type": "stream",
     "text": [
      "INFO:root: \n",
      "Avg Training Stats after 96 global rounds:\n",
      "INFO:root:Train Accuracy: 0.00%\n",
      "INFO:root:Training Loss : 0.04498138332477658\n",
      "INFO:root:Test Accuracy: 67.99%\n",
      "INFO:root:Test Loss: 1.237643602192402 \n",
      "\n",
      " 96%|█████████▌| 96/100 [58:50<02:38, 39.51s/it]"
     ]
    },
    {
     "name": "stdout",
     "output_type": "stream",
     "text": [
      "[19, 602, 40, 690, 267, 231, 173, 2029, 1798, 3195]\n"
     ]
    },
    {
     "name": "stderr",
     "output_type": "stream",
     "text": [
      "INFO:root: \n",
      "Avg Training Stats after 97 global rounds:\n",
      "INFO:root:Train Accuracy: 0.00%\n",
      "INFO:root:Training Loss : 0.07887921130855788\n",
      "INFO:root:Test Accuracy: 67.98%\n",
      "INFO:root:Test Loss: 1.2372640684247016 \n",
      "\n",
      " 97%|█████████▋| 97/100 [59:24<01:53, 37.92s/it]"
     ]
    },
    {
     "name": "stdout",
     "output_type": "stream",
     "text": [
      "[209, 1012, 422, 40, 794, 4600, 116, 286, 303, 1756]\n"
     ]
    },
    {
     "name": "stderr",
     "output_type": "stream",
     "text": [
      "INFO:root: \n",
      "Avg Training Stats after 98 global rounds:\n",
      "INFO:root:Train Accuracy: 0.00%\n",
      "INFO:root:Training Loss : 0.06391648311623208\n",
      "INFO:root:Test Accuracy: 67.90%\n",
      "INFO:root:Test Loss: 1.2371263813972473 \n",
      "\n",
      " 98%|█████████▊| 98/100 [1:00:00<01:14, 37.16s/it]"
     ]
    },
    {
     "name": "stdout",
     "output_type": "stream",
     "text": [
      "[2274, 1736, 173, 1416, 447, 19, 2195, 2029, 862, 744]\n"
     ]
    },
    {
     "name": "stderr",
     "output_type": "stream",
     "text": [
      "INFO:root: \n",
      "Avg Training Stats after 99 global rounds:\n",
      "INFO:root:Train Accuracy: 0.00%\n",
      "INFO:root:Training Loss : 0.09069041372636291\n",
      "INFO:root:Test Accuracy: 67.90%\n",
      "INFO:root:Test Loss: 1.2366482371091843 \n",
      "\n",
      " 99%|█████████▉| 99/100 [1:00:39<00:37, 37.75s/it]"
     ]
    },
    {
     "name": "stdout",
     "output_type": "stream",
     "text": [
      "[431, 1798, 1736, 744, 19, 278, 690, 590, 116, 40]\n"
     ]
    },
    {
     "name": "stderr",
     "output_type": "stream",
     "text": [
      "INFO:root: \n",
      "Avg Training Stats after 100 global rounds:\n",
      "INFO:root:Train Accuracy: 0.00%\n",
      "INFO:root:Training Loss : 0.05933290483802604\n",
      "INFO:root:Test Accuracy: 67.93%\n",
      "INFO:root:Test Loss: 1.235966750383377 \n",
      "\n",
      "100%|██████████| 100/100 [1:01:09<00:00, 36.69s/it]\n",
      "INFO:root: \n",
      " Results after 100 global rounds of training:\n",
      "INFO:root:|---- Best Test Accuracy: 68.02% , round: 94\n"
     ]
    },
    {
     "name": "stdout",
     "output_type": "stream",
     "text": [
      " Saving checkpoints to ../save/checkpoint/ConvNet_1207/cifar10_ConvNet_none_T[100]_C[0.2]_iid[0]_E[10]_B[32]_GPU[0]_Pruned[0.0]...\n"
     ]
    }
   ],
   "source": [
    " args = easydict.EasyDict({\n",
    "    \"model\": 'ConvNet',\n",
    "    'dataset': 'cifar10',\n",
    "    'gpu': 0,\n",
    "    'iid': 0,\n",
    "    'epochs': 100,\n",
    "    'optimizer': 'sgd',\n",
    "    'seed': 0,\n",
    "    'norm': 'none',\n",
    "    'num_users': 50,\n",
    "    'frac': 0.2,\n",
    "    'local_ep': 10, \n",
    "    'local_bs': 32,\n",
    "    'lr': 0.01,\n",
    "    'momentum': 1,\n",
    "    'kernel_num': 9,\n",
    "    'kernel_sizes': 'only_momentum',\n",
    "    'num_channnels': '1',\n",
    "    'num_filters': 32,\n",
    "    'max_pool': 'True',\n",
    "    'num_classes': 10,\n",
    "    'unequal': 0,\n",
    "    'stopping_rounds': 0,\n",
    "    'verbose': 0,\n",
    "    'hold_normalize': 0,\n",
    "    'save_path': '../save/checkpoint',\n",
    "    'exp_folder': 'ConvNet_1207',\n",
    "    'resume': None,\n",
    "    'server_opt': 'sgdm',\n",
    "    'server_lr': 1.0,\n",
    "    'client_decay':0,\n",
    "    'local_decay':0,\n",
    "    'alpha': 0.05,\n",
    "    'server_epoch':0,\n",
    "    'cosine_norm':0, \n",
    "    'only_fc' :0 ,\n",
    "    'loss':'bsm',\n",
    "    'dc_lr':0.0,\n",
    "    'tsne_pred':0,\n",
    "    'pruning': 0.0 })\n",
    "    \n",
    "    \n",
    "    \n",
    "temp = main_test(args)\n",
    "total.append(temp)"
   ]
  },
  {
   "cell_type": "code",
   "execution_count": 6,
   "id": "covered-airline",
   "metadata": {},
   "outputs": [
    {
     "name": "stderr",
     "output_type": "stream",
     "text": [
      "INFO:root:{'model': 'ConvNet', 'dataset': 'cifar10', 'gpu': 0, 'iid': 0, 'epochs': 100, 'optimizer': 'sgd', 'seed': 0, 'norm': 'none', 'num_users': 50, 'frac': 0.2, 'local_ep': 10, 'local_bs': 32, 'lr': 0.01, 'momentum': 1, 'kernel_num': 9, 'kernel_sizes': 'centering', 'num_channnels': '1', 'num_filters': 32, 'max_pool': 'True', 'num_classes': 10, 'unequal': 0, 'stopping_rounds': 0, 'verbose': 0, 'hold_normalize': 0, 'save_path': '../save/checkpoint/ConvNet_1207', 'exp_folder': 'ConvNet_1207', 'resume': None, 'server_opt': 'sgd', 'server_lr': 1.0, 'client_decay': 0, 'local_decay': 0, 'alpha': 0.05, 'server_epoch': 0, 'cosine_norm': 0, 'only_fc': 0, 'loss': 'ce', 'dc_lr': 0.0, 'tsne_pred': 0, 'pruning': 0.0}\n"
     ]
    },
    {
     "name": "stdout",
     "output_type": "stream",
     "text": [
      "Files already downloaded and verified\n",
      "Files already downloaded and verified\n",
      "Files already downloaded and verified\n"
     ]
    },
    {
     "name": "stderr",
     "output_type": "stream",
     "text": [
      "INFO:root:ConvNet(\n",
      "  (net_act): ReLU(inplace=True)\n",
      "  (net_pooling): MaxPool2d(kernel_size=2, stride=2, padding=0, dilation=1, ceil_mode=False)\n",
      "  (features): Sequential(\n",
      "    (0): Conv2d(3, 128, kernel_size=(3, 3), stride=(1, 1), padding=(1, 1))\n",
      "    (1): ReLU(inplace=True)\n",
      "    (2): MaxPool2d(kernel_size=2, stride=2, padding=0, dilation=1, ceil_mode=False)\n",
      "    (3): Conv2d(128, 128, kernel_size=(3, 3), stride=(1, 1), padding=(1, 1))\n",
      "    (4): ReLU(inplace=True)\n",
      "    (5): MaxPool2d(kernel_size=2, stride=2, padding=0, dilation=1, ceil_mode=False)\n",
      "    (6): Conv2d(128, 128, kernel_size=(3, 3), stride=(1, 1), padding=(1, 1))\n",
      "    (7): ReLU(inplace=True)\n",
      "    (8): MaxPool2d(kernel_size=2, stride=2, padding=0, dilation=1, ceil_mode=False)\n",
      "  )\n",
      "  (classifier): Linear(in_features=2048, out_features=10, bias=True)\n",
      ")\n",
      "INFO:root:None\n",
      "  0%|          | 0/100 [00:00<?, ?it/s]"
     ]
    },
    {
     "name": "stdout",
     "output_type": "stream",
     "text": [
      "----------------------------------------------------------------\n",
      "        Layer (type)               Output Shape         Param #\n",
      "================================================================\n",
      "            Conv2d-1          [-1, 128, 32, 32]           3,584\n",
      "              ReLU-2          [-1, 128, 32, 32]               0\n",
      "              ReLU-3          [-1, 128, 32, 32]               0\n",
      "         MaxPool2d-4          [-1, 128, 16, 16]               0\n",
      "         MaxPool2d-5          [-1, 128, 16, 16]               0\n",
      "            Conv2d-6          [-1, 128, 16, 16]         147,584\n",
      "              ReLU-7          [-1, 128, 16, 16]               0\n",
      "              ReLU-8          [-1, 128, 16, 16]               0\n",
      "         MaxPool2d-9            [-1, 128, 8, 8]               0\n",
      "        MaxPool2d-10            [-1, 128, 8, 8]               0\n",
      "           Conv2d-11            [-1, 128, 8, 8]         147,584\n",
      "             ReLU-12            [-1, 128, 8, 8]               0\n",
      "             ReLU-13            [-1, 128, 8, 8]               0\n",
      "        MaxPool2d-14            [-1, 128, 4, 4]               0\n",
      "        MaxPool2d-15            [-1, 128, 4, 4]               0\n",
      "           Linear-16                   [-1, 10]          20,490\n",
      "================================================================\n",
      "Total params: 319,242\n",
      "Trainable params: 319,242\n",
      "Non-trainable params: 0\n",
      "----------------------------------------------------------------\n",
      "Input size (MB): 0.01\n",
      "Forward/backward pass size (MB): 4.59\n",
      "Params size (MB): 1.22\n",
      "Estimated Total Size (MB): 5.82\n",
      "----------------------------------------------------------------\n",
      "[209, 1756, 422, 2575, 1018, 602, 2274, 447, 744, 1112, 123, 87, 1433, 1416, 40, 1119, 796, 794, 327, 470, 231, 813, 1320, 542, 690, 2195, 2934, 106, 1012, 15, 278, 1798, 303, 590, 2029, 201, 1053, 862, 231, 116, 4600, 19, 286, 1736, 2430, 431, 3195, 1780, 173, 267]\n",
      "[470, 2934, 201, 231, 2575, 744, 15, 123, 1119, 4600]\n"
     ]
    },
    {
     "name": "stderr",
     "output_type": "stream",
     "text": [
      "INFO:root: \n",
      "Avg Training Stats after 1 global rounds:\n",
      "INFO:root:Train Accuracy: 0.00%\n",
      "INFO:root:Training Loss : 0.3982622898320828\n",
      "INFO:root:Test Accuracy: 13.19%\n",
      "INFO:root:Test Loss: 2.503257300257683 \n",
      "\n",
      "  1%|          | 1/100 [00:41<1:08:56, 41.78s/it]"
     ]
    },
    {
     "name": "stdout",
     "output_type": "stream",
     "text": [
      "[231, 173, 2575, 1736, 2430, 123, 4600, 690, 1012, 447]\n"
     ]
    },
    {
     "name": "stderr",
     "output_type": "stream",
     "text": [
      "INFO:root: \n",
      "Avg Training Stats after 2 global rounds:\n",
      "INFO:root:Train Accuracy: 0.00%\n",
      "INFO:root:Training Loss : 0.46066806226856316\n",
      "INFO:root:Test Accuracy: 16.92%\n",
      "INFO:root:Test Loss: 3.032871425151825 \n",
      "\n",
      "  2%|▏         | 2/100 [01:25<1:09:55, 42.81s/it]"
     ]
    },
    {
     "name": "stdout",
     "output_type": "stream",
     "text": [
      "[744, 2575, 1320, 470, 2430, 2274, 267, 690, 209, 303]\n"
     ]
    },
    {
     "name": "stderr",
     "output_type": "stream",
     "text": [
      "INFO:root: \n",
      "Avg Training Stats after 3 global rounds:\n",
      "INFO:root:Train Accuracy: 0.00%\n",
      "INFO:root:Training Loss : 0.3456094027130253\n",
      "INFO:root:Test Accuracy: 25.21%\n",
      "INFO:root:Test Loss: 2.498246769309044 \n",
      "\n",
      "  3%|▎         | 3/100 [02:03<1:06:03, 40.86s/it]"
     ]
    },
    {
     "name": "stdout",
     "output_type": "stream",
     "text": [
      "[173, 690, 542, 1012, 2195, 1780, 1053, 87, 2934, 1736]\n"
     ]
    },
    {
     "name": "stderr",
     "output_type": "stream",
     "text": [
      "INFO:root: \n",
      "Avg Training Stats after 4 global rounds:\n",
      "INFO:root:Train Accuracy: 0.00%\n",
      "INFO:root:Training Loss : 0.5059222168937991\n",
      "INFO:root:Test Accuracy: 23.87%\n",
      "INFO:root:Test Loss: 2.0787151205539702 \n",
      "\n",
      "  4%|▍         | 4/100 [02:44<1:05:07, 40.70s/it]"
     ]
    },
    {
     "name": "stdout",
     "output_type": "stream",
     "text": [
      "[2430, 2575, 1736, 123, 15, 1780, 1018, 231, 87, 794]\n"
     ]
    },
    {
     "name": "stderr",
     "output_type": "stream",
     "text": [
      "INFO:root: \n",
      "Avg Training Stats after 5 global rounds:\n",
      "INFO:root:Train Accuracy: 0.00%\n",
      "INFO:root:Training Loss : 0.36898195253652316\n",
      "INFO:root:Test Accuracy: 16.11%\n",
      "INFO:root:Test Loss: 2.948193497955799 \n",
      "\n",
      "  5%|▌         | 5/100 [03:21<1:02:36, 39.54s/it]"
     ]
    },
    {
     "name": "stdout",
     "output_type": "stream",
     "text": [
      "[1119, 87, 590, 794, 813, 303, 1320, 690, 1018, 422]\n"
     ]
    },
    {
     "name": "stderr",
     "output_type": "stream",
     "text": [
      "INFO:root: \n",
      "Avg Training Stats after 6 global rounds:\n",
      "INFO:root:Train Accuracy: 0.00%\n",
      "INFO:root:Training Loss : 0.27464464841635616\n",
      "INFO:root:Test Accuracy: 14.04%\n",
      "INFO:root:Test Loss: 2.8036473612487316 \n",
      "\n",
      "  6%|▌         | 6/100 [03:52<57:23, 36.63s/it]  "
     ]
    },
    {
     "name": "stdout",
     "output_type": "stream",
     "text": [
      "[2029, 1433, 303, 327, 744, 862, 2934, 231, 1416, 278]\n"
     ]
    },
    {
     "name": "stderr",
     "output_type": "stream",
     "text": [
      "INFO:root: \n",
      "Avg Training Stats after 7 global rounds:\n",
      "INFO:root:Train Accuracy: 0.00%\n",
      "INFO:root:Training Loss : 0.3838907787634383\n",
      "INFO:root:Test Accuracy: 23.90%\n",
      "INFO:root:Test Loss: 2.075357748866081 \n",
      "\n",
      "  7%|▋         | 7/100 [04:29<57:01, 36.79s/it]"
     ]
    },
    {
     "name": "stdout",
     "output_type": "stream",
     "text": [
      "[231, 1112, 327, 744, 286, 422, 15, 1798, 1053, 173]\n"
     ]
    },
    {
     "name": "stderr",
     "output_type": "stream",
     "text": [
      "INFO:root: \n",
      "Avg Training Stats after 8 global rounds:\n",
      "INFO:root:Train Accuracy: 0.00%\n",
      "INFO:root:Training Loss : 0.4029694151127696\n",
      "INFO:root:Test Accuracy: 35.80%\n",
      "INFO:root:Test Loss: 1.8394288778305055 \n",
      "\n",
      "  8%|▊         | 8/100 [04:59<53:01, 34.58s/it]"
     ]
    },
    {
     "name": "stdout",
     "output_type": "stream",
     "text": [
      "[794, 278, 744, 862, 303, 19, 2274, 1053, 813, 1012]\n"
     ]
    },
    {
     "name": "stderr",
     "output_type": "stream",
     "text": [
      "INFO:root: \n",
      "Avg Training Stats after 9 global rounds:\n",
      "INFO:root:Train Accuracy: 0.00%\n",
      "INFO:root:Training Loss : 0.2472864790459112\n",
      "INFO:root:Test Accuracy: 26.48%\n",
      "INFO:root:Test Loss: 2.2212995263934134 \n",
      "\n",
      "  9%|▉         | 9/100 [05:32<51:33, 34.00s/it]"
     ]
    },
    {
     "name": "stdout",
     "output_type": "stream",
     "text": [
      "[1320, 40, 1756, 470, 327, 1012, 862, 1433, 796, 231]\n"
     ]
    },
    {
     "name": "stderr",
     "output_type": "stream",
     "text": [
      "INFO:root: \n",
      "Avg Training Stats after 10 global rounds:\n",
      "INFO:root:Train Accuracy: 0.00%\n",
      "INFO:root:Training Loss : 0.19726586150465056\n",
      "INFO:root:Test Accuracy: 23.82%\n",
      "INFO:root:Test Loss: 2.5326923567056654 \n",
      "\n",
      " 10%|█         | 10/100 [06:05<50:32, 33.70s/it]"
     ]
    },
    {
     "name": "stdout",
     "output_type": "stream",
     "text": [
      "[87, 201, 1798, 813, 123, 2934, 1756, 231, 1053, 4600]\n"
     ]
    },
    {
     "name": "stderr",
     "output_type": "stream",
     "text": [
      "INFO:root: \n",
      "Avg Training Stats after 11 global rounds:\n",
      "INFO:root:Train Accuracy: 0.00%\n",
      "INFO:root:Training Loss : 0.2827018491904393\n",
      "INFO:root:Test Accuracy: 27.00%\n",
      "INFO:root:Test Loss: 2.0891108608245847 \n",
      "\n",
      " 11%|█         | 11/100 [06:48<54:09, 36.51s/it]"
     ]
    },
    {
     "name": "stdout",
     "output_type": "stream",
     "text": [
      "[106, 231, 447, 796, 209, 1798, 1112, 1416, 590, 794]\n"
     ]
    },
    {
     "name": "stderr",
     "output_type": "stream",
     "text": [
      "INFO:root: \n",
      "Avg Training Stats after 12 global rounds:\n",
      "INFO:root:Train Accuracy: 0.00%\n",
      "INFO:root:Training Loss : 0.1922025474156111\n",
      "INFO:root:Test Accuracy: 41.56%\n",
      "INFO:root:Test Loss: 1.7048480588197708 \n",
      "\n",
      " 12%|█▏        | 12/100 [07:20<51:26, 35.07s/it]"
     ]
    },
    {
     "name": "stdout",
     "output_type": "stream",
     "text": [
      "[1320, 278, 862, 2274, 1798, 87, 2029, 796, 1018, 2430]\n"
     ]
    },
    {
     "name": "stderr",
     "output_type": "stream",
     "text": [
      "INFO:root: \n",
      "Avg Training Stats after 13 global rounds:\n",
      "INFO:root:Train Accuracy: 0.00%\n",
      "INFO:root:Training Loss : 0.22548840264857883\n",
      "INFO:root:Test Accuracy: 39.28%\n",
      "INFO:root:Test Loss: 1.876874450445175 \n",
      "\n",
      " 13%|█▎        | 13/100 [08:01<53:33, 36.93s/it]"
     ]
    },
    {
     "name": "stdout",
     "output_type": "stream",
     "text": [
      "[4600, 2575, 590, 173, 2430, 40, 1112, 87, 231, 2195]\n"
     ]
    },
    {
     "name": "stderr",
     "output_type": "stream",
     "text": [
      "INFO:root: \n",
      "Avg Training Stats after 14 global rounds:\n",
      "INFO:root:Train Accuracy: 0.00%\n",
      "INFO:root:Training Loss : 0.2843746785567464\n",
      "INFO:root:Test Accuracy: 39.05%\n",
      "INFO:root:Test Loss: 1.6853006306290625 \n",
      "\n",
      " 14%|█▍        | 14/100 [08:44<55:45, 38.90s/it]"
     ]
    },
    {
     "name": "stdout",
     "output_type": "stream",
     "text": [
      "[231, 794, 1018, 1012, 15, 303, 796, 2274, 1320, 19]\n"
     ]
    },
    {
     "name": "stderr",
     "output_type": "stream",
     "text": [
      "INFO:root: \n",
      "Avg Training Stats after 15 global rounds:\n",
      "INFO:root:Train Accuracy: 0.00%\n",
      "INFO:root:Training Loss : 0.24228381446216235\n",
      "INFO:root:Test Accuracy: 37.39%\n",
      "INFO:root:Test Loss: 1.8327191573381425 \n",
      "\n",
      " 15%|█▌        | 15/100 [09:16<52:10, 36.83s/it]"
     ]
    },
    {
     "name": "stdout",
     "output_type": "stream",
     "text": [
      "[2195, 40, 2029, 862, 2575, 1433, 447, 19, 4600, 796]\n"
     ]
    },
    {
     "name": "stderr",
     "output_type": "stream",
     "text": [
      "INFO:root: \n",
      "Avg Training Stats after 16 global rounds:\n",
      "INFO:root:Train Accuracy: 0.00%\n",
      "INFO:root:Training Loss : 0.2291072237252752\n",
      "INFO:root:Test Accuracy: 43.39%\n",
      "INFO:root:Test Loss: 1.6642659956216812 \n",
      "\n",
      " 16%|█▌        | 16/100 [10:01<55:02, 39.31s/it]"
     ]
    },
    {
     "name": "stdout",
     "output_type": "stream",
     "text": [
      "[231, 173, 303, 2274, 796, 116, 1798, 447, 106, 1433]\n"
     ]
    },
    {
     "name": "stderr",
     "output_type": "stream",
     "text": [
      "INFO:root: \n",
      "Avg Training Stats after 17 global rounds:\n",
      "INFO:root:Train Accuracy: 0.00%\n",
      "INFO:root:Training Loss : 0.20413787218257523\n",
      "INFO:root:Test Accuracy: 36.83%\n",
      "INFO:root:Test Loss: 1.938038007467985 \n",
      "\n",
      " 17%|█▋        | 17/100 [10:33<51:21, 37.13s/it]"
     ]
    },
    {
     "name": "stdout",
     "output_type": "stream",
     "text": [
      "[201, 1756, 796, 1320, 813, 542, 116, 173, 794, 1798]\n"
     ]
    },
    {
     "name": "stderr",
     "output_type": "stream",
     "text": [
      "INFO:root: \n",
      "Avg Training Stats after 18 global rounds:\n",
      "INFO:root:Train Accuracy: 0.00%\n",
      "INFO:root:Training Loss : 0.2706721319794627\n",
      "INFO:root:Test Accuracy: 39.42%\n",
      "INFO:root:Test Loss: 1.9113927474617958 \n",
      "\n",
      " 18%|█▊        | 18/100 [11:07<49:09, 35.97s/it]"
     ]
    },
    {
     "name": "stdout",
     "output_type": "stream",
     "text": [
      "[15, 1780, 19, 744, 2575, 173, 813, 40, 1320, 422]\n"
     ]
    },
    {
     "name": "stderr",
     "output_type": "stream",
     "text": [
      "INFO:root: \n",
      "Avg Training Stats after 19 global rounds:\n",
      "INFO:root:Train Accuracy: 0.00%\n",
      "INFO:root:Training Loss : 0.3447523802776943\n",
      "INFO:root:Test Accuracy: 25.22%\n",
      "INFO:root:Test Loss: 2.8408728834986685 \n",
      "\n",
      " 19%|█▉        | 19/100 [11:39<47:05, 34.88s/it]"
     ]
    },
    {
     "name": "stdout",
     "output_type": "stream",
     "text": [
      "[813, 1736, 15, 1433, 267, 470, 3195, 744, 2575, 231]\n"
     ]
    },
    {
     "name": "stderr",
     "output_type": "stream",
     "text": [
      "INFO:root: \n",
      "Avg Training Stats after 20 global rounds:\n",
      "INFO:root:Train Accuracy: 0.00%\n",
      "INFO:root:Training Loss : 0.24883509033623286\n",
      "INFO:root:Test Accuracy: 27.55%\n",
      "INFO:root:Test Loss: 2.4303134948015215 \n",
      "\n",
      " 20%|██        | 20/100 [12:18<47:57, 35.97s/it]"
     ]
    },
    {
     "name": "stdout",
     "output_type": "stream",
     "text": [
      "[278, 744, 1053, 447, 1320, 116, 1798, 19, 4600, 3195]\n"
     ]
    },
    {
     "name": "stderr",
     "output_type": "stream",
     "text": [
      "INFO:root: \n",
      "Avg Training Stats after 21 global rounds:\n",
      "INFO:root:Train Accuracy: 0.00%\n",
      "INFO:root:Training Loss : 0.28561494783439617\n",
      "INFO:root:Test Accuracy: 31.95%\n",
      "INFO:root:Test Loss: 2.2414646020531652 \n",
      "\n",
      " 21%|██        | 21/100 [13:00<49:57, 37.95s/it]"
     ]
    },
    {
     "name": "stdout",
     "output_type": "stream",
     "text": [
      "[813, 2029, 602, 590, 1756, 106, 1780, 40, 19, 2934]\n"
     ]
    },
    {
     "name": "stderr",
     "output_type": "stream",
     "text": [
      "INFO:root: \n",
      "Avg Training Stats after 22 global rounds:\n",
      "INFO:root:Train Accuracy: 0.00%\n",
      "INFO:root:Training Loss : 0.19765968213097468\n",
      "INFO:root:Test Accuracy: 34.78%\n",
      "INFO:root:Test Loss: 1.7734542036056518 \n",
      "\n",
      " 22%|██▏       | 22/100 [13:37<49:00, 37.70s/it]"
     ]
    },
    {
     "name": "stdout",
     "output_type": "stream",
     "text": [
      "[40, 862, 327, 1780, 2274, 106, 1053, 1112, 1012, 3195]\n"
     ]
    },
    {
     "name": "stderr",
     "output_type": "stream",
     "text": [
      "INFO:root: \n",
      "Avg Training Stats after 23 global rounds:\n",
      "INFO:root:Train Accuracy: 0.00%\n",
      "INFO:root:Training Loss : 0.23294947073802147\n",
      "INFO:root:Test Accuracy: 41.15%\n",
      "INFO:root:Test Loss: 1.678711801469326 \n",
      "\n",
      " 23%|██▎       | 23/100 [14:16<48:57, 38.15s/it]"
     ]
    },
    {
     "name": "stdout",
     "output_type": "stream",
     "text": [
      "[1320, 1119, 862, 744, 1053, 87, 201, 470, 2274, 1012]\n"
     ]
    },
    {
     "name": "stderr",
     "output_type": "stream",
     "text": [
      "INFO:root: \n",
      "Avg Training Stats after 24 global rounds:\n",
      "INFO:root:Train Accuracy: 0.00%\n",
      "INFO:root:Training Loss : 0.22377998703960222\n",
      "INFO:root:Test Accuracy: 37.37%\n",
      "INFO:root:Test Loss: 1.9243615686893463 \n",
      "\n",
      " 24%|██▍       | 24/100 [14:51<47:04, 37.17s/it]"
     ]
    },
    {
     "name": "stdout",
     "output_type": "stream",
     "text": [
      "[447, 286, 1416, 87, 796, 1798, 231, 1119, 431, 2195]\n"
     ]
    },
    {
     "name": "stderr",
     "output_type": "stream",
     "text": [
      "INFO:root: \n",
      "Avg Training Stats after 25 global rounds:\n",
      "INFO:root:Train Accuracy: 0.00%\n",
      "INFO:root:Training Loss : 0.29173774979756195\n",
      "INFO:root:Test Accuracy: 38.51%\n",
      "INFO:root:Test Loss: 1.6846790012717248 \n",
      "\n",
      " 25%|██▌       | 25/100 [15:25<45:16, 36.23s/it]"
     ]
    },
    {
     "name": "stdout",
     "output_type": "stream",
     "text": [
      "[116, 2029, 690, 1416, 1780, 602, 2575, 1756, 431, 87]\n"
     ]
    },
    {
     "name": "stderr",
     "output_type": "stream",
     "text": [
      "INFO:root: \n",
      "Avg Training Stats after 26 global rounds:\n",
      "INFO:root:Train Accuracy: 0.00%\n",
      "INFO:root:Training Loss : 0.3250649364707281\n",
      "INFO:root:Test Accuracy: 42.65%\n",
      "INFO:root:Test Loss: 1.6467964461445808 \n",
      "\n",
      " 26%|██▌       | 26/100 [16:04<45:37, 36.99s/it]"
     ]
    },
    {
     "name": "stdout",
     "output_type": "stream",
     "text": [
      "[87, 173, 2029, 19, 4600, 2195, 116, 303, 40, 209]\n"
     ]
    },
    {
     "name": "stderr",
     "output_type": "stream",
     "text": [
      "INFO:root: \n",
      "Avg Training Stats after 27 global rounds:\n",
      "INFO:root:Train Accuracy: 0.00%\n",
      "INFO:root:Training Loss : 0.3230186656869133\n",
      "INFO:root:Test Accuracy: 43.41%\n",
      "INFO:root:Test Loss: 1.720972928106785 \n",
      "\n",
      " 27%|██▋       | 27/100 [16:40<44:26, 36.53s/it]"
     ]
    },
    {
     "name": "stdout",
     "output_type": "stream",
     "text": [
      "[4600, 267, 794, 231, 201, 231, 2934, 590, 470, 173]\n"
     ]
    },
    {
     "name": "stderr",
     "output_type": "stream",
     "text": [
      "INFO:root: \n",
      "Avg Training Stats after 28 global rounds:\n",
      "INFO:root:Train Accuracy: 0.00%\n",
      "INFO:root:Training Loss : 0.26826376011729874\n",
      "INFO:root:Test Accuracy: 37.45%\n",
      "INFO:root:Test Loss: 1.8451976242661476 \n",
      "\n",
      " 28%|██▊       | 28/100 [17:17<44:01, 36.68s/it]"
     ]
    },
    {
     "name": "stdout",
     "output_type": "stream",
     "text": [
      "[1798, 286, 123, 1112, 303, 796, 744, 1320, 231, 794]\n"
     ]
    },
    {
     "name": "stderr",
     "output_type": "stream",
     "text": [
      "INFO:root: \n",
      "Avg Training Stats after 29 global rounds:\n",
      "INFO:root:Train Accuracy: 0.00%\n",
      "INFO:root:Training Loss : 0.13575374064349652\n",
      "INFO:root:Test Accuracy: 49.65%\n",
      "INFO:root:Test Loss: 1.4140822476148605 \n",
      "\n",
      " 29%|██▉       | 29/100 [17:48<41:36, 35.16s/it]"
     ]
    },
    {
     "name": "stdout",
     "output_type": "stream",
     "text": [
      "[303, 4600, 1119, 447, 744, 40, 1756, 2430, 2029, 602]\n"
     ]
    },
    {
     "name": "stderr",
     "output_type": "stream",
     "text": [
      "INFO:root: \n",
      "Avg Training Stats after 30 global rounds:\n",
      "INFO:root:Train Accuracy: 0.00%\n",
      "INFO:root:Training Loss : 0.13681722617492578\n",
      "INFO:root:Test Accuracy: 42.32%\n",
      "INFO:root:Test Loss: 1.719991917014122 \n",
      "\n",
      " 30%|███       | 30/100 [18:31<43:50, 37.58s/it]"
     ]
    },
    {
     "name": "stdout",
     "output_type": "stream",
     "text": [
      "[422, 3195, 1112, 327, 123, 1736, 303, 286, 106, 1433]\n"
     ]
    },
    {
     "name": "stderr",
     "output_type": "stream",
     "text": [
      "INFO:root: \n",
      "Avg Training Stats after 31 global rounds:\n",
      "INFO:root:Train Accuracy: 0.00%\n",
      "INFO:root:Training Loss : 0.19487176286963465\n",
      "INFO:root:Test Accuracy: 29.21%\n",
      "INFO:root:Test Loss: 2.3964337757602334 \n",
      "\n",
      " 31%|███       | 31/100 [19:06<42:12, 36.70s/it]"
     ]
    },
    {
     "name": "stdout",
     "output_type": "stream",
     "text": [
      "[862, 173, 422, 303, 123, 1012, 542, 278, 431, 2195]\n"
     ]
    },
    {
     "name": "stderr",
     "output_type": "stream",
     "text": [
      "INFO:root: \n",
      "Avg Training Stats after 32 global rounds:\n",
      "INFO:root:Train Accuracy: 0.00%\n",
      "INFO:root:Training Loss : 0.32110584155308947\n",
      "INFO:root:Test Accuracy: 37.72%\n",
      "INFO:root:Test Loss: 1.8218267853558063 \n",
      "\n",
      " 32%|███▏      | 32/100 [19:36<39:14, 34.63s/it]"
     ]
    },
    {
     "name": "stdout",
     "output_type": "stream",
     "text": [
      "[1320, 15, 19, 1756, 231, 470, 267, 87, 862, 327]\n"
     ]
    },
    {
     "name": "stderr",
     "output_type": "stream",
     "text": [
      "INFO:root: \n",
      "Avg Training Stats after 33 global rounds:\n",
      "INFO:root:Train Accuracy: 0.00%\n",
      "INFO:root:Training Loss : 0.33956441312426133\n",
      "INFO:root:Test Accuracy: 35.57%\n",
      "INFO:root:Test Loss: 2.0681328354775905 \n",
      "\n",
      " 33%|███▎      | 33/100 [20:04<36:24, 32.61s/it]"
     ]
    },
    {
     "name": "stdout",
     "output_type": "stream",
     "text": [
      "[87, 267, 796, 1053, 1433, 2575, 1119, 794, 15, 327]\n"
     ]
    },
    {
     "name": "stderr",
     "output_type": "stream",
     "text": [
      "INFO:root: \n",
      "Avg Training Stats after 34 global rounds:\n",
      "INFO:root:Train Accuracy: 0.00%\n",
      "INFO:root:Training Loss : 0.2607860103216418\n",
      "INFO:root:Test Accuracy: 41.75%\n",
      "INFO:root:Test Loss: 1.7735270419716835 \n",
      "\n",
      " 34%|███▍      | 34/100 [20:37<36:06, 32.83s/it]"
     ]
    },
    {
     "name": "stdout",
     "output_type": "stream",
     "text": [
      "[422, 1798, 590, 796, 19, 1320, 173, 1416, 1053, 4600]\n"
     ]
    },
    {
     "name": "stderr",
     "output_type": "stream",
     "text": [
      "INFO:root: \n",
      "Avg Training Stats after 35 global rounds:\n",
      "INFO:root:Train Accuracy: 0.00%\n",
      "INFO:root:Training Loss : 0.2538816154561255\n",
      "INFO:root:Test Accuracy: 46.30%\n",
      "INFO:root:Test Loss: 1.596595356464386 \n",
      "\n",
      " 35%|███▌      | 35/100 [21:17<37:57, 35.04s/it]"
     ]
    },
    {
     "name": "stdout",
     "output_type": "stream",
     "text": [
      "[2430, 1320, 602, 3195, 231, 2934, 431, 794, 1416, 542]\n"
     ]
    },
    {
     "name": "stderr",
     "output_type": "stream",
     "text": [
      "INFO:root: \n",
      "Avg Training Stats after 36 global rounds:\n",
      "INFO:root:Train Accuracy: 0.00%\n",
      "INFO:root:Training Loss : 0.20626460142791897\n",
      "INFO:root:Test Accuracy: 44.02%\n",
      "INFO:root:Test Loss: 1.5186645036935806 \n",
      "\n",
      " 36%|███▌      | 36/100 [22:00<39:52, 37.38s/it]"
     ]
    },
    {
     "name": "stdout",
     "output_type": "stream",
     "text": [
      "[15, 813, 1112, 123, 40, 796, 2274, 1018, 2195, 201]\n"
     ]
    },
    {
     "name": "stderr",
     "output_type": "stream",
     "text": [
      "INFO:root: \n",
      "Avg Training Stats after 37 global rounds:\n",
      "INFO:root:Train Accuracy: 0.00%\n",
      "INFO:root:Training Loss : 0.2029505857231127\n",
      "INFO:root:Test Accuracy: 35.53%\n",
      "INFO:root:Test Loss: 2.0348150081932546 \n",
      "\n",
      " 37%|███▋      | 37/100 [22:34<38:02, 36.23s/it]"
     ]
    },
    {
     "name": "stdout",
     "output_type": "stream",
     "text": [
      "[303, 2195, 422, 1112, 1433, 116, 796, 602, 1756, 231]\n"
     ]
    },
    {
     "name": "stderr",
     "output_type": "stream",
     "text": [
      "INFO:root: \n",
      "Avg Training Stats after 38 global rounds:\n",
      "INFO:root:Train Accuracy: 0.00%\n",
      "INFO:root:Training Loss : 0.21975253377503362\n",
      "INFO:root:Test Accuracy: 39.36%\n",
      "INFO:root:Test Loss: 1.8752334690093995 \n",
      "\n",
      " 38%|███▊      | 38/100 [23:08<36:55, 35.74s/it]"
     ]
    },
    {
     "name": "stdout",
     "output_type": "stream",
     "text": [
      "[1756, 231, 267, 2430, 590, 1736, 15, 4600, 327, 1112]\n"
     ]
    },
    {
     "name": "stderr",
     "output_type": "stream",
     "text": [
      "INFO:root: \n",
      "Avg Training Stats after 39 global rounds:\n",
      "INFO:root:Train Accuracy: 0.00%\n",
      "INFO:root:Training Loss : 0.22832506510131462\n",
      "INFO:root:Test Accuracy: 39.80%\n",
      "INFO:root:Test Loss: 1.7133094877004624 \n",
      "\n",
      " 39%|███▉      | 39/100 [23:50<38:06, 37.48s/it]"
     ]
    },
    {
     "name": "stdout",
     "output_type": "stream",
     "text": [
      "[2575, 422, 3195, 862, 231, 796, 2934, 123, 2430, 794]\n"
     ]
    },
    {
     "name": "stderr",
     "output_type": "stream",
     "text": [
      "INFO:root: \n",
      "Avg Training Stats after 40 global rounds:\n",
      "INFO:root:Train Accuracy: 0.00%\n",
      "INFO:root:Training Loss : 0.18877431875255996\n",
      "INFO:root:Test Accuracy: 51.35%\n",
      "INFO:root:Test Loss: 1.2754807257652283 \n",
      "\n",
      " 40%|████      | 40/100 [24:33<39:16, 39.28s/it]"
     ]
    },
    {
     "name": "stdout",
     "output_type": "stream",
     "text": [
      "[231, 1119, 1736, 278, 447, 1018, 286, 744, 690, 173]\n"
     ]
    },
    {
     "name": "stderr",
     "output_type": "stream",
     "text": [
      "INFO:root: \n",
      "Avg Training Stats after 41 global rounds:\n",
      "INFO:root:Train Accuracy: 0.00%\n",
      "INFO:root:Training Loss : 0.2224394949077313\n",
      "INFO:root:Test Accuracy: 48.90%\n",
      "INFO:root:Test Loss: 1.4266248148679734 \n",
      "\n",
      " 41%|████      | 41/100 [25:04<36:05, 36.71s/it]"
     ]
    },
    {
     "name": "stdout",
     "output_type": "stream",
     "text": [
      "[231, 1320, 1416, 2575, 2274, 862, 690, 602, 1012, 173]\n"
     ]
    },
    {
     "name": "stderr",
     "output_type": "stream",
     "text": [
      "INFO:root: \n",
      "Avg Training Stats after 42 global rounds:\n",
      "INFO:root:Train Accuracy: 0.00%\n",
      "INFO:root:Training Loss : 0.21543594130354338\n",
      "INFO:root:Test Accuracy: 52.19%\n",
      "INFO:root:Test Loss: 1.3566586831212044 \n",
      "\n",
      " 42%|████▏     | 42/100 [25:42<35:53, 37.14s/it]"
     ]
    },
    {
     "name": "stdout",
     "output_type": "stream",
     "text": [
      "[1112, 1053, 3195, 2934, 2029, 201, 123, 2195, 1018, 173]\n"
     ]
    },
    {
     "name": "stderr",
     "output_type": "stream",
     "text": [
      "INFO:root: \n",
      "Avg Training Stats after 43 global rounds:\n",
      "INFO:root:Train Accuracy: 0.00%\n",
      "INFO:root:Training Loss : 0.2521185959112313\n",
      "INFO:root:Test Accuracy: 44.94%\n",
      "INFO:root:Test Loss: 1.640375261604786 \n",
      "\n",
      " 43%|████▎     | 43/100 [26:25<36:52, 38.81s/it]"
     ]
    },
    {
     "name": "stdout",
     "output_type": "stream",
     "text": [
      "[862, 1053, 422, 3195, 4600, 794, 1756, 173, 2029, 1018]\n"
     ]
    },
    {
     "name": "stderr",
     "output_type": "stream",
     "text": [
      "INFO:root: \n",
      "Avg Training Stats after 44 global rounds:\n",
      "INFO:root:Train Accuracy: 0.00%\n",
      "INFO:root:Training Loss : 0.2428344541730453\n",
      "INFO:root:Test Accuracy: 45.91%\n",
      "INFO:root:Test Loss: 1.5699088025093078 \n",
      "\n",
      " 44%|████▍     | 44/100 [27:12<38:29, 41.24s/it]"
     ]
    },
    {
     "name": "stdout",
     "output_type": "stream",
     "text": [
      "[1320, 2934, 796, 2195, 862, 2575, 2029, 19, 422, 286]\n"
     ]
    },
    {
     "name": "stderr",
     "output_type": "stream",
     "text": [
      "INFO:root: \n",
      "Avg Training Stats after 45 global rounds:\n",
      "INFO:root:Train Accuracy: 0.00%\n",
      "INFO:root:Training Loss : 0.1996821246218981\n",
      "INFO:root:Test Accuracy: 46.06%\n",
      "INFO:root:Test Loss: 1.5224539056420325 \n",
      "\n",
      " 45%|████▌     | 45/100 [27:54<38:03, 41.52s/it]"
     ]
    },
    {
     "name": "stdout",
     "output_type": "stream",
     "text": [
      "[862, 744, 1416, 1112, 590, 542, 278, 690, 116, 1780]\n"
     ]
    },
    {
     "name": "stderr",
     "output_type": "stream",
     "text": [
      "INFO:root: \n",
      "Avg Training Stats after 46 global rounds:\n",
      "INFO:root:Train Accuracy: 0.00%\n",
      "INFO:root:Training Loss : 0.2978386714015649\n",
      "INFO:root:Test Accuracy: 46.53%\n",
      "INFO:root:Test Loss: 1.5398548850417138 \n",
      "\n",
      " 46%|████▌     | 46/100 [28:27<35:02, 38.93s/it]"
     ]
    },
    {
     "name": "stdout",
     "output_type": "stream",
     "text": [
      "[2575, 1112, 1320, 231, 3195, 1012, 862, 447, 2195, 201]\n"
     ]
    },
    {
     "name": "stderr",
     "output_type": "stream",
     "text": [
      "INFO:root: \n",
      "Avg Training Stats after 47 global rounds:\n",
      "INFO:root:Train Accuracy: 0.00%\n",
      "INFO:root:Training Loss : 0.14393303572767055\n",
      "INFO:root:Test Accuracy: 44.66%\n",
      "INFO:root:Test Loss: 1.5908879277855157 \n",
      "\n",
      " 47%|████▋     | 47/100 [29:09<35:07, 39.76s/it]"
     ]
    },
    {
     "name": "stdout",
     "output_type": "stream",
     "text": [
      "[1433, 542, 813, 231, 1119, 2029, 1012, 173, 2195, 1320]\n"
     ]
    },
    {
     "name": "stderr",
     "output_type": "stream",
     "text": [
      "INFO:root: \n",
      "Avg Training Stats after 48 global rounds:\n",
      "INFO:root:Train Accuracy: 0.00%\n",
      "INFO:root:Training Loss : 0.15128847474197543\n",
      "INFO:root:Test Accuracy: 38.76%\n",
      "INFO:root:Test Loss: 1.9707310938835143 \n",
      "\n",
      " 48%|████▊     | 48/100 [29:46<33:55, 39.14s/it]"
     ]
    },
    {
     "name": "stdout",
     "output_type": "stream",
     "text": [
      "[744, 2195, 209, 1780, 2575, 123, 327, 40, 1736, 690]\n"
     ]
    },
    {
     "name": "stderr",
     "output_type": "stream",
     "text": [
      "INFO:root: \n",
      "Avg Training Stats after 49 global rounds:\n",
      "INFO:root:Train Accuracy: 0.00%\n",
      "INFO:root:Training Loss : 0.26071390460187327\n",
      "INFO:root:Test Accuracy: 33.15%\n",
      "INFO:root:Test Loss: 2.2772693839669227 \n",
      "\n",
      " 49%|████▉     | 49/100 [30:23<32:42, 38.48s/it]"
     ]
    },
    {
     "name": "stdout",
     "output_type": "stream",
     "text": [
      "[862, 690, 1433, 173, 3195, 2934, 116, 447, 231, 431]\n"
     ]
    },
    {
     "name": "stderr",
     "output_type": "stream",
     "text": [
      "INFO:root: \n",
      "Avg Training Stats after 50 global rounds:\n",
      "INFO:root:Train Accuracy: 0.00%\n",
      "INFO:root:Training Loss : 0.27405944189938297\n",
      "INFO:root:Test Accuracy: 33.80%\n",
      "INFO:root:Test Loss: 2.037923646941781 \n",
      "\n",
      " 50%|█████     | 50/100 [31:01<31:49, 38.18s/it]"
     ]
    },
    {
     "name": "stdout",
     "output_type": "stream",
     "text": [
      "[1320, 19, 3195, 87, 1756, 303, 813, 2575, 231, 231]\n"
     ]
    },
    {
     "name": "stderr",
     "output_type": "stream",
     "text": [
      "INFO:root: \n",
      "Avg Training Stats after 51 global rounds:\n",
      "INFO:root:Train Accuracy: 0.00%\n",
      "INFO:root:Training Loss : 0.12248594644571398\n",
      "INFO:root:Test Accuracy: 35.51%\n",
      "INFO:root:Test Loss: 2.2060003608465193 \n",
      "\n",
      " 51%|█████     | 51/100 [31:38<30:52, 37.81s/it]"
     ]
    },
    {
     "name": "stdout",
     "output_type": "stream",
     "text": [
      "[40, 813, 1780, 2934, 15, 173, 278, 19, 1798, 267]\n"
     ]
    },
    {
     "name": "stderr",
     "output_type": "stream",
     "text": [
      "INFO:root: \n",
      "Avg Training Stats after 52 global rounds:\n",
      "INFO:root:Train Accuracy: 0.00%\n",
      "INFO:root:Training Loss : 0.2688302335034375\n",
      "INFO:root:Test Accuracy: 44.46%\n",
      "INFO:root:Test Loss: 1.4784957483410834 \n",
      "\n",
      " 52%|█████▏    | 52/100 [32:10<29:01, 36.28s/it]"
     ]
    },
    {
     "name": "stdout",
     "output_type": "stream",
     "text": [
      "[267, 231, 690, 173, 1780, 1053, 862, 590, 1433, 303]\n"
     ]
    },
    {
     "name": "stderr",
     "output_type": "stream",
     "text": [
      "INFO:root: \n",
      "Avg Training Stats after 53 global rounds:\n",
      "INFO:root:Train Accuracy: 0.00%\n",
      "INFO:root:Training Loss : 0.23748988239802316\n",
      "INFO:root:Test Accuracy: 55.45%\n",
      "INFO:root:Test Loss: 1.248386464715004 \n",
      "\n",
      " 53%|█████▎    | 53/100 [32:42<27:18, 34.85s/it]"
     ]
    },
    {
     "name": "stdout",
     "output_type": "stream",
     "text": [
      "[431, 3195, 201, 796, 2934, 15, 231, 1112, 1736, 267]\n"
     ]
    },
    {
     "name": "stderr",
     "output_type": "stream",
     "text": [
      "INFO:root: \n",
      "Avg Training Stats after 54 global rounds:\n",
      "INFO:root:Train Accuracy: 0.00%\n",
      "INFO:root:Training Loss : 0.2125892804415553\n",
      "INFO:root:Test Accuracy: 32.03%\n",
      "INFO:root:Test Loss: 2.1204558676481247 \n",
      "\n",
      " 54%|█████▍    | 54/100 [33:20<27:24, 35.76s/it]"
     ]
    },
    {
     "name": "stdout",
     "output_type": "stream",
     "text": [
      "[40, 1320, 1416, 286, 2195, 1012, 201, 116, 1053, 542]\n"
     ]
    },
    {
     "name": "stderr",
     "output_type": "stream",
     "text": [
      "INFO:root: \n",
      "Avg Training Stats after 55 global rounds:\n",
      "INFO:root:Train Accuracy: 0.00%\n",
      "INFO:root:Training Loss : 0.273858554956662\n",
      "INFO:root:Test Accuracy: 46.20%\n",
      "INFO:root:Test Loss: 1.5713947696983814 \n",
      "\n",
      " 55%|█████▌    | 55/100 [33:53<26:19, 35.10s/it]"
     ]
    },
    {
     "name": "stdout",
     "output_type": "stream",
     "text": [
      "[1798, 422, 231, 4600, 231, 2575, 1433, 106, 1320, 862]\n"
     ]
    },
    {
     "name": "stderr",
     "output_type": "stream",
     "text": [
      "INFO:root: \n",
      "Avg Training Stats after 56 global rounds:\n",
      "INFO:root:Train Accuracy: 0.00%\n",
      "INFO:root:Training Loss : 0.1370354078762776\n",
      "INFO:root:Test Accuracy: 51.30%\n",
      "INFO:root:Test Loss: 1.3875069496035577 \n",
      "\n",
      " 56%|█████▌    | 56/100 [34:36<27:22, 37.34s/it]"
     ]
    },
    {
     "name": "stdout",
     "output_type": "stream",
     "text": [
      "[2274, 3195, 267, 2029, 590, 327, 2195, 278, 1756, 813]\n"
     ]
    },
    {
     "name": "stderr",
     "output_type": "stream",
     "text": [
      "INFO:root: \n",
      "Avg Training Stats after 57 global rounds:\n",
      "INFO:root:Train Accuracy: 0.00%\n",
      "INFO:root:Training Loss : 0.16931753493415216\n",
      "INFO:root:Test Accuracy: 47.99%\n",
      "INFO:root:Test Loss: 1.5399897582828999 \n",
      "\n",
      " 57%|█████▋    | 57/100 [35:19<28:03, 39.14s/it]"
     ]
    },
    {
     "name": "stdout",
     "output_type": "stream",
     "text": [
      "[1798, 431, 123, 1320, 1416, 231, 2575, 2934, 19, 1756]\n"
     ]
    },
    {
     "name": "stderr",
     "output_type": "stream",
     "text": [
      "INFO:root: \n",
      "Avg Training Stats after 58 global rounds:\n",
      "INFO:root:Train Accuracy: 0.00%\n",
      "INFO:root:Training Loss : 0.17610176949013237\n",
      "INFO:root:Test Accuracy: 52.79%\n",
      "INFO:root:Test Loss: 1.260958917737007 \n",
      "\n",
      " 58%|█████▊    | 58/100 [36:00<27:45, 39.66s/it]"
     ]
    },
    {
     "name": "stdout",
     "output_type": "stream",
     "text": [
      "[1018, 267, 2274, 447, 2029, 690, 590, 303, 1119, 796]\n"
     ]
    },
    {
     "name": "stderr",
     "output_type": "stream",
     "text": [
      "INFO:root: \n",
      "Avg Training Stats after 59 global rounds:\n",
      "INFO:root:Train Accuracy: 0.00%\n",
      "INFO:root:Training Loss : 0.12930299803358272\n",
      "INFO:root:Test Accuracy: 46.69%\n",
      "INFO:root:Test Loss: 1.7231111325323583 \n",
      "\n",
      " 59%|█████▉    | 59/100 [36:35<26:13, 38.37s/it]"
     ]
    },
    {
     "name": "stdout",
     "output_type": "stream",
     "text": [
      "[106, 2430, 447, 1433, 1012, 3195, 1119, 1756, 862, 4600]\n",
      "0.1\n"
     ]
    },
    {
     "name": "stderr",
     "output_type": "stream",
     "text": [
      "INFO:root: \n",
      "Avg Training Stats after 60 global rounds:\n",
      "INFO:root:Train Accuracy: 0.00%\n",
      "INFO:root:Training Loss : 0.09648747729241762\n",
      "INFO:root:Test Accuracy: 49.78%\n",
      "INFO:root:Test Loss: 1.5416530773043633 \n",
      "\n",
      " 60%|██████    | 60/100 [37:24<27:42, 41.56s/it]"
     ]
    },
    {
     "name": "stdout",
     "output_type": "stream",
     "text": [
      "[1780, 1320, 286, 2029, 40, 796, 447, 15, 231, 744]\n"
     ]
    },
    {
     "name": "stderr",
     "output_type": "stream",
     "text": [
      "INFO:root: \n",
      "Avg Training Stats after 61 global rounds:\n",
      "INFO:root:Train Accuracy: 0.00%\n",
      "INFO:root:Training Loss : 0.1629772690119086\n",
      "INFO:root:Test Accuracy: 49.43%\n",
      "INFO:root:Test Loss: 1.5540714746713638 \n",
      "\n",
      " 61%|██████    | 61/100 [37:56<25:08, 38.67s/it]"
     ]
    },
    {
     "name": "stdout",
     "output_type": "stream",
     "text": [
      "[116, 15, 2029, 327, 19, 470, 422, 87, 1012, 303]\n"
     ]
    },
    {
     "name": "stderr",
     "output_type": "stream",
     "text": [
      "INFO:root: \n",
      "Avg Training Stats after 62 global rounds:\n",
      "INFO:root:Train Accuracy: 0.00%\n",
      "INFO:root:Training Loss : 0.24930553967709845\n",
      "INFO:root:Test Accuracy: 48.82%\n",
      "INFO:root:Test Loss: 1.5810005076229572 \n",
      "\n",
      " 62%|██████▏   | 62/100 [38:23<22:16, 35.16s/it]"
     ]
    },
    {
     "name": "stdout",
     "output_type": "stream",
     "text": [
      "[796, 2274, 862, 286, 813, 3195, 1112, 422, 1119, 327]\n"
     ]
    },
    {
     "name": "stderr",
     "output_type": "stream",
     "text": [
      "INFO:root: \n",
      "Avg Training Stats after 63 global rounds:\n",
      "INFO:root:Train Accuracy: 0.00%\n",
      "INFO:root:Training Loss : 0.14712019343622498\n",
      "INFO:root:Test Accuracy: 49.84%\n",
      "INFO:root:Test Loss: 1.525010917186737 \n",
      "\n",
      " 63%|██████▎   | 63/100 [39:02<22:18, 36.18s/it]"
     ]
    },
    {
     "name": "stdout",
     "output_type": "stream",
     "text": [
      "[542, 1798, 690, 15, 267, 2575, 796, 590, 209, 470]\n"
     ]
    },
    {
     "name": "stderr",
     "output_type": "stream",
     "text": [
      "INFO:root: \n",
      "Avg Training Stats after 64 global rounds:\n",
      "INFO:root:Train Accuracy: 0.00%\n",
      "INFO:root:Training Loss : 0.20177013507670397\n",
      "INFO:root:Test Accuracy: 51.43%\n",
      "INFO:root:Test Loss: 1.4570762950181961 \n",
      "\n",
      " 64%|██████▍   | 64/100 [39:34<21:01, 35.04s/it]"
     ]
    },
    {
     "name": "stdout",
     "output_type": "stream",
     "text": [
      "[87, 267, 286, 1053, 303, 796, 40, 173, 19, 327]\n"
     ]
    },
    {
     "name": "stderr",
     "output_type": "stream",
     "text": [
      "INFO:root: \n",
      "Avg Training Stats after 65 global rounds:\n",
      "INFO:root:Train Accuracy: 0.00%\n",
      "INFO:root:Training Loss : 0.24912704648366385\n",
      "INFO:root:Test Accuracy: 50.81%\n",
      "INFO:root:Test Loss: 1.4824482402205468 \n",
      "\n",
      " 65%|██████▌   | 65/100 [39:59<18:34, 31.85s/it]"
     ]
    },
    {
     "name": "stdout",
     "output_type": "stream",
     "text": [
      "[813, 542, 106, 123, 4600, 40, 209, 2029, 1736, 2195]\n"
     ]
    },
    {
     "name": "stderr",
     "output_type": "stream",
     "text": [
      "INFO:root: \n",
      "Avg Training Stats after 66 global rounds:\n",
      "INFO:root:Train Accuracy: 0.00%\n",
      "INFO:root:Training Loss : 0.17754276727648438\n",
      "INFO:root:Test Accuracy: 52.32%\n",
      "INFO:root:Test Loss: 1.4130641232430934 \n",
      "\n",
      " 66%|██████▌   | 66/100 [40:39<19:29, 34.39s/it]"
     ]
    },
    {
     "name": "stdout",
     "output_type": "stream",
     "text": [
      "[1416, 1320, 201, 744, 2934, 447, 278, 2430, 1018, 2274]\n"
     ]
    },
    {
     "name": "stderr",
     "output_type": "stream",
     "text": [
      "INFO:root: \n",
      "Avg Training Stats after 67 global rounds:\n",
      "INFO:root:Train Accuracy: 0.00%\n",
      "INFO:root:Training Loss : 0.17070390115183842\n",
      "INFO:root:Test Accuracy: 53.48%\n",
      "INFO:root:Test Loss: 1.3603470796346664 \n",
      "\n",
      " 67%|██████▋   | 67/100 [41:21<20:07, 36.59s/it]"
     ]
    },
    {
     "name": "stdout",
     "output_type": "stream",
     "text": [
      "[303, 1012, 470, 123, 106, 201, 87, 1736, 2934, 2575]\n"
     ]
    },
    {
     "name": "stderr",
     "output_type": "stream",
     "text": [
      "INFO:root: \n",
      "Avg Training Stats after 68 global rounds:\n",
      "INFO:root:Train Accuracy: 0.00%\n",
      "INFO:root:Training Loss : 0.11057128814358883\n",
      "INFO:root:Test Accuracy: 55.42%\n",
      "INFO:root:Test Loss: 1.2898498991131782 \n",
      "\n",
      " 68%|██████▊   | 68/100 [41:56<19:20, 36.26s/it]"
     ]
    },
    {
     "name": "stdout",
     "output_type": "stream",
     "text": [
      "[3195, 794, 690, 2029, 231, 1756, 1112, 1736, 201, 813]\n"
     ]
    },
    {
     "name": "stderr",
     "output_type": "stream",
     "text": [
      "INFO:root: \n",
      "Avg Training Stats after 69 global rounds:\n",
      "INFO:root:Train Accuracy: 0.00%\n",
      "INFO:root:Training Loss : 0.11137353645303409\n",
      "INFO:root:Test Accuracy: 56.53%\n",
      "INFO:root:Test Loss: 1.242993957400322 \n",
      "\n",
      " 69%|██████▉   | 69/100 [42:37<19:23, 37.54s/it]"
     ]
    },
    {
     "name": "stdout",
     "output_type": "stream",
     "text": [
      "[106, 40, 278, 422, 470, 2029, 2934, 744, 2274, 327]\n"
     ]
    },
    {
     "name": "stderr",
     "output_type": "stream",
     "text": [
      "INFO:root: \n",
      "Avg Training Stats after 70 global rounds:\n",
      "INFO:root:Train Accuracy: 0.00%\n",
      "INFO:root:Training Loss : 0.1467000084183168\n",
      "INFO:root:Test Accuracy: 56.06%\n",
      "INFO:root:Test Loss: 1.2529261681437491 \n",
      "\n",
      " 70%|███████   | 70/100 [43:13<18:30, 37.00s/it]"
     ]
    },
    {
     "name": "stdout",
     "output_type": "stream",
     "text": [
      "[3195, 267, 303, 173, 286, 2029, 422, 1012, 796, 106]\n"
     ]
    },
    {
     "name": "stderr",
     "output_type": "stream",
     "text": [
      "INFO:root: \n",
      "Avg Training Stats after 71 global rounds:\n",
      "INFO:root:Train Accuracy: 0.00%\n",
      "INFO:root:Training Loss : 0.16627441043947822\n",
      "INFO:root:Test Accuracy: 56.17%\n",
      "INFO:root:Test Loss: 1.2399635860323905 \n",
      "\n",
      " 71%|███████   | 71/100 [43:46<17:22, 35.96s/it]"
     ]
    },
    {
     "name": "stdout",
     "output_type": "stream",
     "text": [
      "[209, 40, 4600, 106, 123, 1012, 690, 542, 602, 2575]\n"
     ]
    },
    {
     "name": "stderr",
     "output_type": "stream",
     "text": [
      "INFO:root: \n",
      "Avg Training Stats after 72 global rounds:\n",
      "INFO:root:Train Accuracy: 0.00%\n",
      "INFO:root:Training Loss : 0.15268367209523753\n",
      "INFO:root:Test Accuracy: 57.82%\n",
      "INFO:root:Test Loss: 1.1834107813239099 \n",
      "\n",
      " 72%|███████▏  | 72/100 [44:23<16:55, 36.28s/it]"
     ]
    },
    {
     "name": "stdout",
     "output_type": "stream",
     "text": [
      "[1012, 2430, 2274, 209, 1798, 303, 1112, 231, 744, 278]\n"
     ]
    },
    {
     "name": "stderr",
     "output_type": "stream",
     "text": [
      "INFO:root: \n",
      "Avg Training Stats after 73 global rounds:\n",
      "INFO:root:Train Accuracy: 0.00%\n",
      "INFO:root:Training Loss : 0.12038868010656974\n",
      "INFO:root:Test Accuracy: 58.76%\n",
      "INFO:root:Test Loss: 1.1620344653725625 \n",
      "\n",
      " 73%|███████▎  | 73/100 [45:00<16:26, 36.54s/it]"
     ]
    },
    {
     "name": "stdout",
     "output_type": "stream",
     "text": [
      "[447, 1320, 209, 327, 744, 1018, 231, 2430, 590, 602]\n"
     ]
    },
    {
     "name": "stderr",
     "output_type": "stream",
     "text": [
      "INFO:root: \n",
      "Avg Training Stats after 74 global rounds:\n",
      "INFO:root:Train Accuracy: 0.00%\n",
      "INFO:root:Training Loss : 0.2024389657890724\n",
      "INFO:root:Test Accuracy: 59.78%\n",
      "INFO:root:Test Loss: 1.14337299823761 \n",
      "\n",
      " 74%|███████▍  | 74/100 [45:33<15:18, 35.34s/it]"
     ]
    },
    {
     "name": "stdout",
     "output_type": "stream",
     "text": [
      "[470, 1053, 303, 1012, 106, 3195, 447, 1112, 201, 1433]\n"
     ]
    },
    {
     "name": "stderr",
     "output_type": "stream",
     "text": [
      "INFO:root: \n",
      "Avg Training Stats after 75 global rounds:\n",
      "INFO:root:Train Accuracy: 0.00%\n",
      "INFO:root:Training Loss : 0.09217060822560887\n",
      "INFO:root:Test Accuracy: 59.95%\n",
      "INFO:root:Test Loss: 1.1284678635001182 \n",
      "\n",
      " 75%|███████▌  | 75/100 [46:08<14:41, 35.26s/it]"
     ]
    },
    {
     "name": "stdout",
     "output_type": "stream",
     "text": [
      "[231, 1433, 431, 209, 1416, 1780, 116, 123, 422, 4600]\n"
     ]
    },
    {
     "name": "stderr",
     "output_type": "stream",
     "text": [
      "INFO:root: \n",
      "Avg Training Stats after 76 global rounds:\n",
      "INFO:root:Train Accuracy: 0.00%\n",
      "INFO:root:Training Loss : 0.28770380663520057\n",
      "INFO:root:Test Accuracy: 60.42%\n",
      "INFO:root:Test Loss: 1.118921000957489 \n",
      "\n",
      " 76%|███████▌  | 76/100 [46:46<14:25, 36.07s/it]"
     ]
    },
    {
     "name": "stdout",
     "output_type": "stream",
     "text": [
      "[2575, 796, 1053, 267, 602, 1018, 201, 1756, 286, 2430]\n"
     ]
    },
    {
     "name": "stderr",
     "output_type": "stream",
     "text": [
      "INFO:root: \n",
      "Avg Training Stats after 77 global rounds:\n",
      "INFO:root:Train Accuracy: 0.00%\n",
      "INFO:root:Training Loss : 0.17601770938714362\n",
      "INFO:root:Test Accuracy: 61.02%\n",
      "INFO:root:Test Loss: 1.1017355147004126 \n",
      "\n",
      " 77%|███████▋  | 77/100 [47:24<14:01, 36.59s/it]"
     ]
    },
    {
     "name": "stdout",
     "output_type": "stream",
     "text": [
      "[15, 2029, 2274, 744, 1018, 1736, 2934, 19, 173, 447]\n"
     ]
    },
    {
     "name": "stderr",
     "output_type": "stream",
     "text": [
      "INFO:root: \n",
      "Avg Training Stats after 78 global rounds:\n",
      "INFO:root:Train Accuracy: 0.00%\n",
      "INFO:root:Training Loss : 0.2133793679955104\n",
      "INFO:root:Test Accuracy: 60.01%\n",
      "INFO:root:Test Loss: 1.1125593855977058 \n",
      "\n",
      " 78%|███████▊  | 78/100 [48:02<13:38, 37.20s/it]"
     ]
    },
    {
     "name": "stdout",
     "output_type": "stream",
     "text": [
      "[542, 602, 173, 201, 590, 690, 422, 2934, 1736, 744]\n"
     ]
    },
    {
     "name": "stderr",
     "output_type": "stream",
     "text": [
      "INFO:root: \n",
      "Avg Training Stats after 79 global rounds:\n",
      "INFO:root:Train Accuracy: 0.00%\n",
      "INFO:root:Training Loss : 0.22586103974368782\n",
      "INFO:root:Test Accuracy: 60.31%\n",
      "INFO:root:Test Loss: 1.0994876059889793 \n",
      "\n",
      " 79%|███████▉  | 79/100 [48:36<12:39, 36.17s/it]"
     ]
    },
    {
     "name": "stdout",
     "output_type": "stream",
     "text": [
      "[201, 278, 40, 1112, 106, 690, 2029, 87, 796, 3195]\n"
     ]
    },
    {
     "name": "stderr",
     "output_type": "stream",
     "text": [
      "INFO:root: \n",
      "Avg Training Stats after 80 global rounds:\n",
      "INFO:root:Train Accuracy: 0.00%\n",
      "INFO:root:Training Loss : 0.09441443191401884\n",
      "INFO:root:Test Accuracy: 59.78%\n",
      "INFO:root:Test Loss: 1.1082331290841103 \n",
      "\n",
      " 80%|████████  | 80/100 [49:10<11:49, 35.48s/it]"
     ]
    },
    {
     "name": "stdout",
     "output_type": "stream",
     "text": [
      "[1798, 15, 201, 123, 1433, 542, 1119, 690, 602, 40]\n"
     ]
    },
    {
     "name": "stderr",
     "output_type": "stream",
     "text": [
      "INFO:root: \n",
      "Avg Training Stats after 81 global rounds:\n",
      "INFO:root:Train Accuracy: 0.00%\n",
      "INFO:root:Training Loss : 0.1574298149359726\n",
      "INFO:root:Test Accuracy: 60.81%\n",
      "INFO:root:Test Loss: 1.0867750486731529 \n",
      "\n",
      " 81%|████████  | 81/100 [49:40<10:42, 33.82s/it]"
     ]
    },
    {
     "name": "stdout",
     "output_type": "stream",
     "text": [
      "[267, 542, 209, 796, 87, 3195, 231, 303, 2934, 1119]\n"
     ]
    },
    {
     "name": "stderr",
     "output_type": "stream",
     "text": [
      "INFO:root: \n",
      "Avg Training Stats after 82 global rounds:\n",
      "INFO:root:Train Accuracy: 0.00%\n",
      "INFO:root:Training Loss : 0.1537319034014128\n",
      "INFO:root:Test Accuracy: 60.08%\n",
      "INFO:root:Test Loss: 1.097723385989666 \n",
      "\n",
      " 82%|████████▏ | 82/100 [50:16<10:19, 34.41s/it]"
     ]
    },
    {
     "name": "stdout",
     "output_type": "stream",
     "text": [
      "[690, 431, 422, 231, 4600, 2934, 2029, 327, 796, 590]\n"
     ]
    },
    {
     "name": "stderr",
     "output_type": "stream",
     "text": [
      "INFO:root: \n",
      "Avg Training Stats after 83 global rounds:\n",
      "INFO:root:Train Accuracy: 0.00%\n",
      "INFO:root:Training Loss : 0.17028490126580983\n",
      "INFO:root:Test Accuracy: 60.04%\n",
      "INFO:root:Test Loss: 1.0988628312945365 \n",
      "\n",
      " 83%|████████▎ | 83/100 [50:57<10:23, 36.65s/it]"
     ]
    },
    {
     "name": "stdout",
     "output_type": "stream",
     "text": [
      "[231, 1112, 87, 303, 690, 796, 2195, 813, 327, 1018]\n"
     ]
    },
    {
     "name": "stderr",
     "output_type": "stream",
     "text": [
      "INFO:root: \n",
      "Avg Training Stats after 84 global rounds:\n",
      "INFO:root:Train Accuracy: 0.00%\n",
      "INFO:root:Training Loss : 0.15365369007313817\n",
      "INFO:root:Test Accuracy: 59.81%\n",
      "INFO:root:Test Loss: 1.1035681372880937 \n",
      "\n",
      " 84%|████████▍ | 84/100 [51:29<09:23, 35.22s/it]"
     ]
    },
    {
     "name": "stdout",
     "output_type": "stream",
     "text": [
      "[602, 1018, 542, 106, 794, 447, 2029, 1433, 327, 690]\n"
     ]
    },
    {
     "name": "stderr",
     "output_type": "stream",
     "text": [
      "INFO:root: \n",
      "Avg Training Stats after 85 global rounds:\n",
      "INFO:root:Train Accuracy: 0.00%\n",
      "INFO:root:Training Loss : 0.16934217588182446\n",
      "INFO:root:Test Accuracy: 59.71%\n",
      "INFO:root:Test Loss: 1.112900883257389 \n",
      "\n",
      " 85%|████████▌ | 85/100 [52:02<08:36, 34.44s/it]"
     ]
    },
    {
     "name": "stdout",
     "output_type": "stream",
     "text": [
      "[1433, 267, 447, 1012, 470, 201, 231, 15, 278, 1736]\n"
     ]
    },
    {
     "name": "stderr",
     "output_type": "stream",
     "text": [
      "INFO:root: \n",
      "Avg Training Stats after 86 global rounds:\n",
      "INFO:root:Train Accuracy: 0.00%\n",
      "INFO:root:Training Loss : 0.1938188815263831\n",
      "INFO:root:Test Accuracy: 59.69%\n",
      "INFO:root:Test Loss: 1.1071069926023482 \n",
      "\n",
      " 86%|████████▌ | 86/100 [52:31<07:39, 32.86s/it]"
     ]
    },
    {
     "name": "stdout",
     "output_type": "stream",
     "text": [
      "[40, 1053, 231, 286, 106, 2274, 470, 1119, 447, 1416]\n"
     ]
    },
    {
     "name": "stderr",
     "output_type": "stream",
     "text": [
      "INFO:root: \n",
      "Avg Training Stats after 87 global rounds:\n",
      "INFO:root:Train Accuracy: 0.00%\n",
      "INFO:root:Training Loss : 0.1467614467680892\n",
      "INFO:root:Test Accuracy: 58.92%\n",
      "INFO:root:Test Loss: 1.123652948141098 \n",
      "\n",
      " 87%|████████▋ | 87/100 [53:03<07:03, 32.56s/it]"
     ]
    },
    {
     "name": "stdout",
     "output_type": "stream",
     "text": [
      "[209, 2029, 231, 278, 1320, 862, 2195, 690, 1736, 106]\n"
     ]
    },
    {
     "name": "stderr",
     "output_type": "stream",
     "text": [
      "INFO:root: \n",
      "Avg Training Stats after 88 global rounds:\n",
      "INFO:root:Train Accuracy: 0.00%\n",
      "INFO:root:Training Loss : 0.16529807920792985\n",
      "INFO:root:Test Accuracy: 58.76%\n",
      "INFO:root:Test Loss: 1.1316980549693108 \n",
      "\n",
      " 88%|████████▊ | 88/100 [53:39<06:41, 33.46s/it]"
     ]
    },
    {
     "name": "stdout",
     "output_type": "stream",
     "text": [
      "[2430, 201, 2195, 2575, 123, 602, 116, 794, 4600, 690]\n"
     ]
    },
    {
     "name": "stderr",
     "output_type": "stream",
     "text": [
      "INFO:root: \n",
      "Avg Training Stats after 89 global rounds:\n",
      "INFO:root:Train Accuracy: 0.00%\n",
      "INFO:root:Training Loss : 0.19861140765401414\n",
      "INFO:root:Test Accuracy: 60.08%\n",
      "INFO:root:Test Loss: 1.1055604246258737 \n",
      "\n",
      " 89%|████████▉ | 89/100 [54:22<06:41, 36.48s/it]"
     ]
    },
    {
     "name": "stdout",
     "output_type": "stream",
     "text": [
      "[470, 303, 278, 87, 1119, 2274, 1780, 19, 4600, 602]\n",
      "0.010000000000000002\n"
     ]
    },
    {
     "name": "stderr",
     "output_type": "stream",
     "text": [
      "INFO:root: \n",
      "Avg Training Stats after 90 global rounds:\n",
      "INFO:root:Train Accuracy: 0.00%\n",
      "INFO:root:Training Loss : 0.12417236344759106\n",
      "INFO:root:Test Accuracy: 60.16%\n",
      "INFO:root:Test Loss: 1.1054548335075378 \n",
      "\n",
      " 90%|█████████ | 90/100 [55:01<06:12, 37.25s/it]"
     ]
    },
    {
     "name": "stdout",
     "output_type": "stream",
     "text": [
      "[2575, 602, 2029, 327, 209, 4600, 2274, 1756, 431, 1112]\n"
     ]
    },
    {
     "name": "stderr",
     "output_type": "stream",
     "text": [
      "INFO:root: \n",
      "Avg Training Stats after 91 global rounds:\n",
      "INFO:root:Train Accuracy: 0.00%\n",
      "INFO:root:Training Loss : 0.15551122897349412\n",
      "INFO:root:Test Accuracy: 60.21%\n",
      "INFO:root:Test Loss: 1.1049250867962837 \n",
      "\n",
      " 91%|█████████ | 91/100 [55:48<05:59, 39.99s/it]"
     ]
    },
    {
     "name": "stdout",
     "output_type": "stream",
     "text": [
      "[2195, 267, 813, 286, 3195, 470, 231, 278, 1012, 231]\n"
     ]
    },
    {
     "name": "stderr",
     "output_type": "stream",
     "text": [
      "INFO:root: \n",
      "Avg Training Stats after 92 global rounds:\n",
      "INFO:root:Train Accuracy: 0.00%\n",
      "INFO:root:Training Loss : 0.15275068146101392\n",
      "INFO:root:Test Accuracy: 60.13%\n",
      "INFO:root:Test Loss: 1.1058465546369554 \n",
      "\n",
      " 92%|█████████▏| 92/100 [56:22<05:06, 38.27s/it]"
     ]
    },
    {
     "name": "stdout",
     "output_type": "stream",
     "text": [
      "[1053, 2575, 303, 2430, 542, 116, 1756, 1433, 327, 15]\n"
     ]
    },
    {
     "name": "stderr",
     "output_type": "stream",
     "text": [
      "INFO:root: \n",
      "Avg Training Stats after 93 global rounds:\n",
      "INFO:root:Train Accuracy: 0.00%\n",
      "INFO:root:Training Loss : 0.2230159523378031\n",
      "INFO:root:Test Accuracy: 60.31%\n",
      "INFO:root:Test Loss: 1.1039320182800294 \n",
      "\n",
      " 93%|█████████▎| 93/100 [56:59<04:25, 37.95s/it]"
     ]
    },
    {
     "name": "stdout",
     "output_type": "stream",
     "text": [
      "[590, 4600, 201, 286, 303, 1736, 15, 1798, 744, 422]\n"
     ]
    },
    {
     "name": "stderr",
     "output_type": "stream",
     "text": [
      "INFO:root: \n",
      "Avg Training Stats after 94 global rounds:\n",
      "INFO:root:Train Accuracy: 0.00%\n",
      "INFO:root:Training Loss : 0.16734113648830862\n",
      "INFO:root:Test Accuracy: 60.39%\n",
      "INFO:root:Test Loss: 1.1020901584625244 \n",
      "\n",
      " 94%|█████████▍| 94/100 [57:36<03:46, 37.75s/it]"
     ]
    },
    {
     "name": "stdout",
     "output_type": "stream",
     "text": [
      "[123, 862, 542, 19, 794, 1112, 4600, 2934, 231, 15]\n"
     ]
    },
    {
     "name": "stderr",
     "output_type": "stream",
     "text": [
      "INFO:root: \n",
      "Avg Training Stats after 95 global rounds:\n",
      "INFO:root:Train Accuracy: 0.00%\n",
      "INFO:root:Training Loss : 0.1973994131778865\n",
      "INFO:root:Test Accuracy: 60.38%\n",
      "INFO:root:Test Loss: 1.1008948311209679 \n",
      "\n",
      " 95%|█████████▌| 95/100 [58:14<03:09, 37.86s/it]"
     ]
    },
    {
     "name": "stdout",
     "output_type": "stream",
     "text": [
      "[1053, 87, 2575, 4600, 542, 231, 1433, 1012, 2029, 862]\n"
     ]
    },
    {
     "name": "stderr",
     "output_type": "stream",
     "text": [
      "INFO:root: \n",
      "Avg Training Stats after 96 global rounds:\n",
      "INFO:root:Train Accuracy: 0.00%\n",
      "INFO:root:Training Loss : 0.14409529200162813\n",
      "INFO:root:Test Accuracy: 60.37%\n",
      "INFO:root:Test Loss: 1.1001093605160712 \n",
      "\n",
      " 96%|█████████▌| 96/100 [58:58<02:38, 39.70s/it]"
     ]
    },
    {
     "name": "stdout",
     "output_type": "stream",
     "text": [
      "[19, 602, 40, 690, 267, 231, 173, 2029, 1798, 3195]\n"
     ]
    },
    {
     "name": "stderr",
     "output_type": "stream",
     "text": [
      "INFO:root: \n",
      "Avg Training Stats after 97 global rounds:\n",
      "INFO:root:Train Accuracy: 0.00%\n",
      "INFO:root:Training Loss : 0.19659344276191487\n",
      "INFO:root:Test Accuracy: 60.30%\n",
      "INFO:root:Test Loss: 1.0998874723911285 \n",
      "\n",
      " 97%|█████████▋| 97/100 [59:33<01:54, 38.12s/it]"
     ]
    },
    {
     "name": "stdout",
     "output_type": "stream",
     "text": [
      "[209, 1012, 422, 40, 794, 4600, 116, 286, 303, 1756]\n"
     ]
    },
    {
     "name": "stderr",
     "output_type": "stream",
     "text": [
      "INFO:root: \n",
      "Avg Training Stats after 98 global rounds:\n",
      "INFO:root:Train Accuracy: 0.00%\n",
      "INFO:root:Training Loss : 0.15836057735004488\n",
      "INFO:root:Test Accuracy: 60.40%\n",
      "INFO:root:Test Loss: 1.0993791216611861 \n",
      "\n",
      " 98%|█████████▊| 98/100 [1:00:08<01:14, 37.31s/it]"
     ]
    },
    {
     "name": "stdout",
     "output_type": "stream",
     "text": [
      "[2274, 1736, 173, 1416, 447, 19, 2195, 2029, 862, 744]\n"
     ]
    },
    {
     "name": "stderr",
     "output_type": "stream",
     "text": [
      "INFO:root: \n",
      "Avg Training Stats after 99 global rounds:\n",
      "INFO:root:Train Accuracy: 0.00%\n",
      "INFO:root:Training Loss : 0.243126288471082\n",
      "INFO:root:Test Accuracy: 60.28%\n",
      "INFO:root:Test Loss: 1.1008061397075652 \n",
      "\n",
      " 99%|█████████▉| 99/100 [1:00:48<00:37, 37.99s/it]"
     ]
    },
    {
     "name": "stdout",
     "output_type": "stream",
     "text": [
      "[431, 1798, 1736, 744, 19, 278, 690, 590, 116, 40]\n"
     ]
    },
    {
     "name": "stderr",
     "output_type": "stream",
     "text": [
      "INFO:root: \n",
      "Avg Training Stats after 100 global rounds:\n",
      "INFO:root:Train Accuracy: 0.00%\n",
      "INFO:root:Training Loss : 0.17342823507051605\n",
      "INFO:root:Test Accuracy: 60.44%\n",
      "INFO:root:Test Loss: 1.0983077555894851 \n",
      "\n",
      "100%|██████████| 100/100 [1:01:18<00:00, 36.78s/it]\n",
      "INFO:root: \n",
      " Results after 100 global rounds of training:\n",
      "INFO:root:|---- Best Test Accuracy: 61.02% , round: 76\n"
     ]
    },
    {
     "name": "stdout",
     "output_type": "stream",
     "text": [
      " Saving checkpoints to ../save/checkpoint/ConvNet_1207/cifar10_ConvNet_none_T[100]_C[0.2]_iid[0]_E[10]_B[32]_GPU[0]_Pruned[0.0]...\n"
     ]
    }
   ],
   "source": [
    " args = easydict.EasyDict({\n",
    "    \"model\": 'ConvNet',\n",
    "    'dataset': 'cifar10',\n",
    "    'gpu': 0,\n",
    "    'iid': 0,\n",
    "    'epochs': 100,\n",
    "    'optimizer': 'sgd',\n",
    "    'seed': 0,\n",
    "    'norm': 'none',\n",
    "    'num_users': 50,\n",
    "    'frac': 0.2,\n",
    "    'local_ep': 10, \n",
    "    'local_bs': 32,\n",
    "    'lr': 0.01,\n",
    "    'momentum': 1,\n",
    "    'kernel_num': 9,\n",
    "    'kernel_sizes': 'centering',\n",
    "    'num_channnels': '1',\n",
    "    'num_filters': 32,\n",
    "    'max_pool': 'True',\n",
    "    'num_classes': 10,\n",
    "    'unequal': 0,\n",
    "    'stopping_rounds': 0,\n",
    "    'verbose': 0,\n",
    "    'hold_normalize': 0,\n",
    "    'save_path': '../save/checkpoint',\n",
    "    'exp_folder': 'ConvNet_1207',\n",
    "    'resume': None,\n",
    "    'server_opt': 'sgd',\n",
    "    'server_lr': 1.0,\n",
    "    'client_decay':0,\n",
    "    'local_decay':0,\n",
    "    'alpha': 0.05,\n",
    "    'server_epoch':0,\n",
    "    'cosine_norm':0, \n",
    "    'only_fc' :0 ,\n",
    "    'loss':'ce',\n",
    "    'dc_lr':0.0,\n",
    "    'tsne_pred':0,\n",
    "    'pruning': 0.0 })\n",
    "    \n",
    "    \n",
    "    \n",
    "temp = main_test(args)\n",
    "total.append(temp)"
   ]
  },
  {
   "cell_type": "code",
   "execution_count": 7,
   "id": "saving-ministry",
   "metadata": {},
   "outputs": [
    {
     "name": "stderr",
     "output_type": "stream",
     "text": [
      "INFO:root:{'model': 'ConvNet', 'dataset': 'cifar10', 'gpu': 0, 'iid': 0, 'epochs': 100, 'optimizer': 'sgd', 'seed': 0, 'norm': 'none', 'num_users': 50, 'frac': 0.2, 'local_ep': 10, 'local_bs': 32, 'lr': 0.01, 'momentum': 1, 'kernel_num': 9, 'kernel_sizes': 'centering', 'num_channnels': '1', 'num_filters': 32, 'max_pool': 'True', 'num_classes': 10, 'unequal': 0, 'stopping_rounds': 0, 'verbose': 0, 'hold_normalize': 0, 'save_path': '../save/checkpoint/ConvNet_1207', 'exp_folder': 'ConvNet_1207', 'resume': None, 'server_opt': 'sgdm', 'server_lr': 1.0, 'client_decay': 0, 'local_decay': 0, 'alpha': 0.05, 'server_epoch': 0, 'cosine_norm': 0, 'only_fc': 0, 'loss': 'ce', 'dc_lr': 0.0, 'tsne_pred': 0, 'pruning': 0.0}\n"
     ]
    },
    {
     "name": "stdout",
     "output_type": "stream",
     "text": [
      "Files already downloaded and verified\n",
      "Files already downloaded and verified\n",
      "Files already downloaded and verified\n"
     ]
    },
    {
     "name": "stderr",
     "output_type": "stream",
     "text": [
      "INFO:root:ConvNet(\n",
      "  (net_act): ReLU(inplace=True)\n",
      "  (net_pooling): MaxPool2d(kernel_size=2, stride=2, padding=0, dilation=1, ceil_mode=False)\n",
      "  (features): Sequential(\n",
      "    (0): Conv2d(3, 128, kernel_size=(3, 3), stride=(1, 1), padding=(1, 1))\n",
      "    (1): ReLU(inplace=True)\n",
      "    (2): MaxPool2d(kernel_size=2, stride=2, padding=0, dilation=1, ceil_mode=False)\n",
      "    (3): Conv2d(128, 128, kernel_size=(3, 3), stride=(1, 1), padding=(1, 1))\n",
      "    (4): ReLU(inplace=True)\n",
      "    (5): MaxPool2d(kernel_size=2, stride=2, padding=0, dilation=1, ceil_mode=False)\n",
      "    (6): Conv2d(128, 128, kernel_size=(3, 3), stride=(1, 1), padding=(1, 1))\n",
      "    (7): ReLU(inplace=True)\n",
      "    (8): MaxPool2d(kernel_size=2, stride=2, padding=0, dilation=1, ceil_mode=False)\n",
      "  )\n",
      "  (classifier): Linear(in_features=2048, out_features=10, bias=True)\n",
      ")\n",
      "INFO:root:None\n",
      "  0%|          | 0/100 [00:00<?, ?it/s]"
     ]
    },
    {
     "name": "stdout",
     "output_type": "stream",
     "text": [
      "----------------------------------------------------------------\n",
      "        Layer (type)               Output Shape         Param #\n",
      "================================================================\n",
      "            Conv2d-1          [-1, 128, 32, 32]           3,584\n",
      "              ReLU-2          [-1, 128, 32, 32]               0\n",
      "              ReLU-3          [-1, 128, 32, 32]               0\n",
      "         MaxPool2d-4          [-1, 128, 16, 16]               0\n",
      "         MaxPool2d-5          [-1, 128, 16, 16]               0\n",
      "            Conv2d-6          [-1, 128, 16, 16]         147,584\n",
      "              ReLU-7          [-1, 128, 16, 16]               0\n",
      "              ReLU-8          [-1, 128, 16, 16]               0\n",
      "         MaxPool2d-9            [-1, 128, 8, 8]               0\n",
      "        MaxPool2d-10            [-1, 128, 8, 8]               0\n",
      "           Conv2d-11            [-1, 128, 8, 8]         147,584\n",
      "             ReLU-12            [-1, 128, 8, 8]               0\n",
      "             ReLU-13            [-1, 128, 8, 8]               0\n",
      "        MaxPool2d-14            [-1, 128, 4, 4]               0\n",
      "        MaxPool2d-15            [-1, 128, 4, 4]               0\n",
      "           Linear-16                   [-1, 10]          20,490\n",
      "================================================================\n",
      "Total params: 319,242\n",
      "Trainable params: 319,242\n",
      "Non-trainable params: 0\n",
      "----------------------------------------------------------------\n",
      "Input size (MB): 0.01\n",
      "Forward/backward pass size (MB): 4.59\n",
      "Params size (MB): 1.22\n",
      "Estimated Total Size (MB): 5.82\n",
      "----------------------------------------------------------------\n",
      "[209, 1756, 422, 2575, 1018, 602, 2274, 447, 744, 1112, 123, 87, 1433, 1416, 40, 1119, 796, 794, 327, 470, 231, 813, 1320, 542, 690, 2195, 2934, 106, 1012, 15, 278, 1798, 303, 590, 2029, 201, 1053, 862, 231, 116, 4600, 19, 286, 1736, 2430, 431, 3195, 1780, 173, 267]\n",
      "[470, 2934, 201, 231, 2575, 744, 15, 123, 1119, 4600]\n"
     ]
    },
    {
     "name": "stderr",
     "output_type": "stream",
     "text": [
      "INFO:root: \n",
      "Avg Training Stats after 1 global rounds:\n",
      "INFO:root:Train Accuracy: 0.00%\n",
      "INFO:root:Training Loss : 0.3982622898320828\n",
      "INFO:root:Test Accuracy: 13.19%\n",
      "INFO:root:Test Loss: 2.503257300257683 \n",
      "\n",
      "  1%|          | 1/100 [00:41<1:09:08, 41.90s/it]"
     ]
    },
    {
     "name": "stdout",
     "output_type": "stream",
     "text": [
      "[231, 173, 2575, 1736, 2430, 123, 4600, 690, 1012, 447]\n"
     ]
    },
    {
     "name": "stderr",
     "output_type": "stream",
     "text": [
      "INFO:root: \n",
      "Avg Training Stats after 2 global rounds:\n",
      "INFO:root:Train Accuracy: 0.00%\n",
      "INFO:root:Training Loss : 0.46066806226856316\n",
      "INFO:root:Test Accuracy: 15.70%\n",
      "INFO:root:Test Loss: 6.93346551079303 \n",
      "\n",
      "  2%|▏         | 2/100 [01:25<1:10:10, 42.96s/it]"
     ]
    },
    {
     "name": "stdout",
     "output_type": "stream",
     "text": [
      "[744, 2575, 1320, 470, 2430, 2274, 267, 690, 209, 303]\n"
     ]
    },
    {
     "name": "stderr",
     "output_type": "stream",
     "text": [
      "INFO:root: \n",
      "Avg Training Stats after 3 global rounds:\n",
      "INFO:root:Train Accuracy: 0.00%\n",
      "INFO:root:Training Loss : 0.35662232102582736\n",
      "INFO:root:Test Accuracy: 24.10%\n",
      "INFO:root:Test Loss: 5.898874769210815 \n",
      "\n",
      "  3%|▎         | 3/100 [02:04<1:06:21, 41.05s/it]"
     ]
    },
    {
     "name": "stdout",
     "output_type": "stream",
     "text": [
      "[173, 690, 542, 1012, 2195, 1780, 1053, 87, 2934, 1736]\n"
     ]
    },
    {
     "name": "stderr",
     "output_type": "stream",
     "text": [
      "INFO:root: \n",
      "Avg Training Stats after 4 global rounds:\n",
      "INFO:root:Train Accuracy: 0.00%\n",
      "INFO:root:Training Loss : 0.5367988063562907\n",
      "INFO:root:Test Accuracy: 29.96%\n",
      "INFO:root:Test Loss: 2.673549099564552 \n",
      "\n",
      "  4%|▍         | 4/100 [02:44<1:04:59, 40.62s/it]"
     ]
    },
    {
     "name": "stdout",
     "output_type": "stream",
     "text": [
      "[2430, 2575, 1736, 123, 15, 1780, 1018, 231, 87, 794]\n"
     ]
    },
    {
     "name": "stderr",
     "output_type": "stream",
     "text": [
      "INFO:root: \n",
      "Avg Training Stats after 5 global rounds:\n",
      "INFO:root:Train Accuracy: 0.00%\n",
      "INFO:root:Training Loss : 0.37502159297991244\n",
      "INFO:root:Test Accuracy: 29.70%\n",
      "INFO:root:Test Loss: 2.970116661190987 \n",
      "\n",
      "  5%|▌         | 5/100 [03:21<1:02:31, 39.49s/it]"
     ]
    },
    {
     "name": "stdout",
     "output_type": "stream",
     "text": [
      "[1119, 87, 590, 794, 813, 303, 1320, 690, 1018, 422]\n"
     ]
    },
    {
     "name": "stderr",
     "output_type": "stream",
     "text": [
      "INFO:root: \n",
      "Avg Training Stats after 6 global rounds:\n",
      "INFO:root:Train Accuracy: 0.00%\n",
      "INFO:root:Training Loss : 0.2528588070334819\n",
      "INFO:root:Test Accuracy: 22.92%\n",
      "INFO:root:Test Loss: 2.761473070979118 \n",
      "\n",
      "  6%|▌         | 6/100 [03:53<57:45, 36.86s/it]  "
     ]
    },
    {
     "name": "stdout",
     "output_type": "stream",
     "text": [
      "[2029, 1433, 303, 327, 744, 862, 2934, 231, 1416, 278]\n"
     ]
    },
    {
     "name": "stderr",
     "output_type": "stream",
     "text": [
      "INFO:root: \n",
      "Avg Training Stats after 7 global rounds:\n",
      "INFO:root:Train Accuracy: 0.00%\n",
      "INFO:root:Training Loss : 0.3533836520223682\n",
      "INFO:root:Test Accuracy: 29.75%\n",
      "INFO:root:Test Loss: 2.2664195519685744 \n",
      "\n",
      "  7%|▋         | 7/100 [04:30<57:20, 36.99s/it]"
     ]
    },
    {
     "name": "stdout",
     "output_type": "stream",
     "text": [
      "[231, 1112, 327, 744, 286, 422, 15, 1798, 1053, 173]\n"
     ]
    },
    {
     "name": "stderr",
     "output_type": "stream",
     "text": [
      "INFO:root: \n",
      "Avg Training Stats after 8 global rounds:\n",
      "INFO:root:Train Accuracy: 0.00%\n",
      "INFO:root:Training Loss : 0.37930780426044597\n",
      "INFO:root:Test Accuracy: 36.10%\n",
      "INFO:root:Test Loss: 2.367351879477501 \n",
      "\n",
      "  8%|▊         | 8/100 [05:00<53:01, 34.58s/it]"
     ]
    },
    {
     "name": "stdout",
     "output_type": "stream",
     "text": [
      "[794, 278, 744, 862, 303, 19, 2274, 1053, 813, 1012]\n"
     ]
    },
    {
     "name": "stderr",
     "output_type": "stream",
     "text": [
      "INFO:root: \n",
      "Avg Training Stats after 9 global rounds:\n",
      "INFO:root:Train Accuracy: 0.00%\n",
      "INFO:root:Training Loss : 0.2625654325259009\n",
      "INFO:root:Test Accuracy: 31.28%\n",
      "INFO:root:Test Loss: 3.081954818814993 \n",
      "\n",
      "  9%|▉         | 9/100 [05:33<51:48, 34.16s/it]"
     ]
    },
    {
     "name": "stdout",
     "output_type": "stream",
     "text": [
      "[1320, 40, 1756, 470, 327, 1012, 862, 1433, 796, 231]\n"
     ]
    },
    {
     "name": "stderr",
     "output_type": "stream",
     "text": [
      "INFO:root: \n",
      "Avg Training Stats after 10 global rounds:\n",
      "INFO:root:Train Accuracy: 0.00%\n",
      "INFO:root:Training Loss : 0.17420787858300496\n",
      "INFO:root:Test Accuracy: 28.02%\n",
      "INFO:root:Test Loss: 3.031801110059023 \n",
      "\n",
      " 10%|█         | 10/100 [06:06<50:44, 33.83s/it]"
     ]
    },
    {
     "name": "stdout",
     "output_type": "stream",
     "text": [
      "[87, 201, 1798, 813, 123, 2934, 1756, 231, 1053, 4600]\n"
     ]
    },
    {
     "name": "stderr",
     "output_type": "stream",
     "text": [
      "INFO:root: \n",
      "Avg Training Stats after 11 global rounds:\n",
      "INFO:root:Train Accuracy: 0.00%\n",
      "INFO:root:Training Loss : 0.25487171516990814\n",
      "INFO:root:Test Accuracy: 22.09%\n",
      "INFO:root:Test Loss: 3.1804393459111453 \n",
      "\n",
      " 11%|█         | 11/100 [06:49<54:09, 36.51s/it]"
     ]
    },
    {
     "name": "stdout",
     "output_type": "stream",
     "text": [
      "[106, 231, 447, 796, 209, 1798, 1112, 1416, 590, 794]\n"
     ]
    },
    {
     "name": "stderr",
     "output_type": "stream",
     "text": [
      "INFO:root: \n",
      "Avg Training Stats after 12 global rounds:\n",
      "INFO:root:Train Accuracy: 0.00%\n",
      "INFO:root:Training Loss : 0.16988912057317157\n",
      "INFO:root:Test Accuracy: 42.23%\n",
      "INFO:root:Test Loss: 1.6719138038158416 \n",
      "\n",
      " 12%|█▏        | 12/100 [07:21<51:31, 35.13s/it]"
     ]
    },
    {
     "name": "stdout",
     "output_type": "stream",
     "text": [
      "[1320, 278, 862, 2274, 1798, 87, 2029, 796, 1018, 2430]\n"
     ]
    },
    {
     "name": "stderr",
     "output_type": "stream",
     "text": [
      "INFO:root: \n",
      "Avg Training Stats after 13 global rounds:\n",
      "INFO:root:Train Accuracy: 0.00%\n",
      "INFO:root:Training Loss : 0.17603445656654781\n",
      "INFO:root:Test Accuracy: 35.93%\n",
      "INFO:root:Test Loss: 2.455077340453863 \n",
      "\n",
      " 13%|█▎        | 13/100 [08:02<53:40, 37.02s/it]"
     ]
    },
    {
     "name": "stdout",
     "output_type": "stream",
     "text": [
      "[4600, 2575, 590, 173, 2430, 40, 1112, 87, 231, 2195]\n"
     ]
    },
    {
     "name": "stderr",
     "output_type": "stream",
     "text": [
      "INFO:root: \n",
      "Avg Training Stats after 14 global rounds:\n",
      "INFO:root:Train Accuracy: 0.00%\n",
      "INFO:root:Training Loss : 0.24320647922324495\n",
      "INFO:root:Test Accuracy: 39.47%\n",
      "INFO:root:Test Loss: 2.3045389690995215 \n",
      "\n",
      " 14%|█▍        | 14/100 [08:45<55:41, 38.85s/it]"
     ]
    },
    {
     "name": "stdout",
     "output_type": "stream",
     "text": [
      "[231, 794, 1018, 1012, 15, 303, 796, 2274, 1320, 19]\n"
     ]
    },
    {
     "name": "stderr",
     "output_type": "stream",
     "text": [
      "INFO:root: \n",
      "Avg Training Stats after 15 global rounds:\n",
      "INFO:root:Train Accuracy: 0.00%\n",
      "INFO:root:Training Loss : 0.24108248025202217\n",
      "INFO:root:Test Accuracy: 32.06%\n",
      "INFO:root:Test Loss: 3.1878252080082894 \n",
      "\n",
      " 15%|█▌        | 15/100 [09:17<52:10, 36.83s/it]"
     ]
    },
    {
     "name": "stdout",
     "output_type": "stream",
     "text": [
      "[2195, 40, 2029, 862, 2575, 1433, 447, 19, 4600, 796]\n"
     ]
    },
    {
     "name": "stderr",
     "output_type": "stream",
     "text": [
      "INFO:root: \n",
      "Avg Training Stats after 16 global rounds:\n",
      "INFO:root:Train Accuracy: 0.00%\n",
      "INFO:root:Training Loss : 0.1766411476307414\n",
      "INFO:root:Test Accuracy: 37.72%\n",
      "INFO:root:Test Loss: 2.925973438024521 \n",
      "\n",
      " 16%|█▌        | 16/100 [10:03<55:07, 39.37s/it]"
     ]
    },
    {
     "name": "stdout",
     "output_type": "stream",
     "text": [
      "[231, 173, 303, 2274, 796, 116, 1798, 447, 106, 1433]\n"
     ]
    },
    {
     "name": "stderr",
     "output_type": "stream",
     "text": [
      "INFO:root: \n",
      "Avg Training Stats after 17 global rounds:\n",
      "INFO:root:Train Accuracy: 0.00%\n",
      "INFO:root:Training Loss : 0.16714409742423345\n",
      "INFO:root:Test Accuracy: 31.24%\n",
      "INFO:root:Test Loss: 2.804519388228655 \n",
      "\n",
      " 17%|█▋        | 17/100 [10:35<51:26, 37.19s/it]"
     ]
    },
    {
     "name": "stdout",
     "output_type": "stream",
     "text": [
      "[201, 1756, 796, 1320, 813, 542, 116, 173, 794, 1798]\n"
     ]
    },
    {
     "name": "stderr",
     "output_type": "stream",
     "text": [
      "INFO:root: \n",
      "Avg Training Stats after 18 global rounds:\n",
      "INFO:root:Train Accuracy: 0.00%\n",
      "INFO:root:Training Loss : 0.2116156037721942\n",
      "INFO:root:Test Accuracy: 35.29%\n",
      "INFO:root:Test Loss: 2.6765265011787416 \n",
      "\n",
      " 18%|█▊        | 18/100 [11:08<49:12, 36.00s/it]"
     ]
    },
    {
     "name": "stdout",
     "output_type": "stream",
     "text": [
      "[15, 1780, 19, 744, 2575, 173, 813, 40, 1320, 422]\n"
     ]
    },
    {
     "name": "stderr",
     "output_type": "stream",
     "text": [
      "INFO:root: \n",
      "Avg Training Stats after 19 global rounds:\n",
      "INFO:root:Train Accuracy: 0.00%\n",
      "INFO:root:Training Loss : 0.3531385354825129\n",
      "INFO:root:Test Accuracy: 37.81%\n",
      "INFO:root:Test Loss: 2.277048348635435 \n",
      "\n",
      " 19%|█▉        | 19/100 [11:41<47:16, 35.02s/it]"
     ]
    },
    {
     "name": "stdout",
     "output_type": "stream",
     "text": [
      "[813, 1736, 15, 1433, 267, 470, 3195, 744, 2575, 231]\n"
     ]
    },
    {
     "name": "stderr",
     "output_type": "stream",
     "text": [
      "INFO:root: \n",
      "Avg Training Stats after 20 global rounds:\n",
      "INFO:root:Train Accuracy: 0.00%\n",
      "INFO:root:Training Loss : 0.21194173850706557\n",
      "INFO:root:Test Accuracy: 18.58%\n",
      "INFO:root:Test Loss: 5.038846485270187 \n",
      "\n",
      " 20%|██        | 20/100 [12:19<48:13, 36.17s/it]"
     ]
    },
    {
     "name": "stdout",
     "output_type": "stream",
     "text": [
      "[278, 744, 1053, 447, 1320, 116, 1798, 19, 4600, 3195]\n"
     ]
    },
    {
     "name": "stderr",
     "output_type": "stream",
     "text": [
      "INFO:root: \n",
      "Avg Training Stats after 21 global rounds:\n",
      "INFO:root:Train Accuracy: 0.00%\n",
      "INFO:root:Training Loss : 0.2540190032208836\n",
      "INFO:root:Test Accuracy: 32.17%\n",
      "INFO:root:Test Loss: 3.3329394733905793 \n",
      "\n",
      " 21%|██        | 21/100 [13:02<50:06, 38.06s/it]"
     ]
    },
    {
     "name": "stdout",
     "output_type": "stream",
     "text": [
      "[813, 2029, 602, 590, 1756, 106, 1780, 40, 19, 2934]\n"
     ]
    },
    {
     "name": "stderr",
     "output_type": "stream",
     "text": [
      "INFO:root: \n",
      "Avg Training Stats after 22 global rounds:\n",
      "INFO:root:Train Accuracy: 0.00%\n",
      "INFO:root:Training Loss : 0.140653632195556\n",
      "INFO:root:Test Accuracy: 32.84%\n",
      "INFO:root:Test Loss: 2.9529010860621927 \n",
      "\n",
      " 22%|██▏       | 22/100 [13:40<49:17, 37.91s/it]"
     ]
    },
    {
     "name": "stdout",
     "output_type": "stream",
     "text": [
      "[40, 862, 327, 1780, 2274, 106, 1053, 1112, 1012, 3195]\n"
     ]
    },
    {
     "name": "stderr",
     "output_type": "stream",
     "text": [
      "INFO:root: \n",
      "Avg Training Stats after 23 global rounds:\n",
      "INFO:root:Train Accuracy: 0.00%\n",
      "INFO:root:Training Loss : 0.19008071258556097\n",
      "INFO:root:Test Accuracy: 34.41%\n",
      "INFO:root:Test Loss: 3.0287201380729676 \n",
      "\n",
      " 23%|██▎       | 23/100 [14:19<49:08, 38.29s/it]"
     ]
    },
    {
     "name": "stdout",
     "output_type": "stream",
     "text": [
      "[1320, 1119, 862, 744, 1053, 87, 201, 470, 2274, 1012]\n"
     ]
    },
    {
     "name": "stderr",
     "output_type": "stream",
     "text": [
      "INFO:root: \n",
      "Avg Training Stats after 24 global rounds:\n",
      "INFO:root:Train Accuracy: 0.00%\n",
      "INFO:root:Training Loss : 0.1793748178435546\n",
      "INFO:root:Test Accuracy: 30.52%\n",
      "INFO:root:Test Loss: 3.932325321175158 \n",
      "\n",
      " 24%|██▍       | 24/100 [14:53<47:09, 37.24s/it]"
     ]
    },
    {
     "name": "stdout",
     "output_type": "stream",
     "text": [
      "[447, 286, 1416, 87, 796, 1798, 231, 1119, 431, 2195]\n"
     ]
    },
    {
     "name": "stderr",
     "output_type": "stream",
     "text": [
      "INFO:root: \n",
      "Avg Training Stats after 25 global rounds:\n",
      "INFO:root:Train Accuracy: 0.00%\n",
      "INFO:root:Training Loss : 0.23226371782367897\n",
      "INFO:root:Test Accuracy: 37.28%\n",
      "INFO:root:Test Loss: 2.9998045621067284 \n",
      "\n",
      " 25%|██▌       | 25/100 [15:28<45:33, 36.45s/it]"
     ]
    },
    {
     "name": "stdout",
     "output_type": "stream",
     "text": [
      "[116, 2029, 690, 1416, 1780, 602, 2575, 1756, 431, 87]\n"
     ]
    },
    {
     "name": "stderr",
     "output_type": "stream",
     "text": [
      "INFO:root: \n",
      "Avg Training Stats after 26 global rounds:\n",
      "INFO:root:Train Accuracy: 0.00%\n",
      "INFO:root:Training Loss : 0.23657633652880436\n",
      "INFO:root:Test Accuracy: 43.04%\n",
      "INFO:root:Test Loss: 2.298895326256752 \n",
      "\n",
      " 26%|██▌       | 26/100 [16:07<45:48, 37.14s/it]"
     ]
    },
    {
     "name": "stdout",
     "output_type": "stream",
     "text": [
      "[87, 173, 2029, 19, 4600, 2195, 116, 303, 40, 209]\n"
     ]
    },
    {
     "name": "stderr",
     "output_type": "stream",
     "text": [
      "INFO:root: \n",
      "Avg Training Stats after 27 global rounds:\n",
      "INFO:root:Train Accuracy: 0.00%\n",
      "INFO:root:Training Loss : 0.2638874195814187\n",
      "INFO:root:Test Accuracy: 45.14%\n",
      "INFO:root:Test Loss: 1.9442910866439342 \n",
      "\n",
      " 27%|██▋       | 27/100 [16:42<44:38, 36.69s/it]"
     ]
    },
    {
     "name": "stdout",
     "output_type": "stream",
     "text": [
      "[4600, 267, 794, 231, 201, 231, 2934, 590, 470, 173]\n"
     ]
    },
    {
     "name": "stderr",
     "output_type": "stream",
     "text": [
      "INFO:root: \n",
      "Avg Training Stats after 28 global rounds:\n",
      "INFO:root:Train Accuracy: 0.00%\n",
      "INFO:root:Training Loss : 0.20477183952733755\n",
      "INFO:root:Test Accuracy: 30.20%\n",
      "INFO:root:Test Loss: 4.25093277990818 \n",
      "\n",
      " 28%|██▊       | 28/100 [17:19<44:03, 36.72s/it]"
     ]
    },
    {
     "name": "stdout",
     "output_type": "stream",
     "text": [
      "[1798, 286, 123, 1112, 303, 796, 744, 1320, 231, 794]\n"
     ]
    },
    {
     "name": "stderr",
     "output_type": "stream",
     "text": [
      "INFO:root: \n",
      "Avg Training Stats after 29 global rounds:\n",
      "INFO:root:Train Accuracy: 0.00%\n",
      "INFO:root:Training Loss : 0.13433883728195284\n",
      "INFO:root:Test Accuracy: 40.45%\n",
      "INFO:root:Test Loss: 2.930324184000492 \n",
      "\n",
      " 29%|██▉       | 29/100 [17:51<41:45, 35.29s/it]"
     ]
    },
    {
     "name": "stdout",
     "output_type": "stream",
     "text": [
      "[303, 4600, 1119, 447, 744, 40, 1756, 2430, 2029, 602]\n"
     ]
    },
    {
     "name": "stderr",
     "output_type": "stream",
     "text": [
      "INFO:root: \n",
      "Avg Training Stats after 30 global rounds:\n",
      "INFO:root:Train Accuracy: 0.00%\n",
      "INFO:root:Training Loss : 0.13047032807423947\n",
      "INFO:root:Test Accuracy: 48.91%\n",
      "INFO:root:Test Loss: 1.9738327622413636 \n",
      "\n",
      " 30%|███       | 30/100 [18:34<43:54, 37.63s/it]"
     ]
    },
    {
     "name": "stdout",
     "output_type": "stream",
     "text": [
      "[422, 3195, 1112, 327, 123, 1736, 303, 286, 106, 1433]\n"
     ]
    },
    {
     "name": "stderr",
     "output_type": "stream",
     "text": [
      "INFO:root: \n",
      "Avg Training Stats after 31 global rounds:\n",
      "INFO:root:Train Accuracy: 0.00%\n",
      "INFO:root:Training Loss : 0.16175306762382546\n",
      "INFO:root:Test Accuracy: 49.04%\n",
      "INFO:root:Test Loss: 1.8650100976228714 \n",
      "\n",
      " 31%|███       | 31/100 [19:09<42:08, 36.65s/it]"
     ]
    },
    {
     "name": "stdout",
     "output_type": "stream",
     "text": [
      "[862, 173, 422, 303, 123, 1012, 542, 278, 431, 2195]\n"
     ]
    },
    {
     "name": "stderr",
     "output_type": "stream",
     "text": [
      "INFO:root: \n",
      "Avg Training Stats after 32 global rounds:\n",
      "INFO:root:Train Accuracy: 0.00%\n",
      "INFO:root:Training Loss : 0.24203005816761416\n",
      "INFO:root:Test Accuracy: 47.15%\n",
      "INFO:root:Test Loss: 1.975139759629965 \n",
      "\n",
      " 32%|███▏      | 32/100 [19:39<39:19, 34.69s/it]"
     ]
    },
    {
     "name": "stdout",
     "output_type": "stream",
     "text": [
      "[1320, 15, 19, 1756, 231, 470, 267, 87, 862, 327]\n"
     ]
    },
    {
     "name": "stderr",
     "output_type": "stream",
     "text": [
      "INFO:root: \n",
      "Avg Training Stats after 33 global rounds:\n",
      "INFO:root:Train Accuracy: 0.00%\n",
      "INFO:root:Training Loss : 0.26811621304720246\n",
      "INFO:root:Test Accuracy: 36.66%\n",
      "INFO:root:Test Loss: 2.9122594410181044 \n",
      "\n",
      " 33%|███▎      | 33/100 [20:07<36:27, 32.65s/it]"
     ]
    },
    {
     "name": "stdout",
     "output_type": "stream",
     "text": [
      "[87, 267, 796, 1053, 1433, 2575, 1119, 794, 15, 327]\n"
     ]
    },
    {
     "name": "stderr",
     "output_type": "stream",
     "text": [
      "INFO:root: \n",
      "Avg Training Stats after 34 global rounds:\n",
      "INFO:root:Train Accuracy: 0.00%\n",
      "INFO:root:Training Loss : 0.25760120808270115\n",
      "INFO:root:Test Accuracy: 38.27%\n",
      "INFO:root:Test Loss: 2.7985826589912177 \n",
      "\n",
      " 34%|███▍      | 34/100 [20:40<36:08, 32.86s/it]"
     ]
    },
    {
     "name": "stdout",
     "output_type": "stream",
     "text": [
      "[422, 1798, 590, 796, 19, 1320, 173, 1416, 1053, 4600]\n"
     ]
    },
    {
     "name": "stderr",
     "output_type": "stream",
     "text": [
      "INFO:root: \n",
      "Avg Training Stats after 35 global rounds:\n",
      "INFO:root:Train Accuracy: 0.00%\n",
      "INFO:root:Training Loss : 0.19118079486789197\n",
      "INFO:root:Test Accuracy: 48.29%\n",
      "INFO:root:Test Loss: 1.9725696606189012 \n",
      "\n",
      " 35%|███▌      | 35/100 [21:20<37:54, 34.99s/it]"
     ]
    },
    {
     "name": "stdout",
     "output_type": "stream",
     "text": [
      "[2430, 1320, 602, 3195, 231, 2934, 431, 794, 1416, 542]\n"
     ]
    },
    {
     "name": "stderr",
     "output_type": "stream",
     "text": [
      "INFO:root: \n",
      "Avg Training Stats after 36 global rounds:\n",
      "INFO:root:Train Accuracy: 0.00%\n",
      "INFO:root:Training Loss : 0.13570693027983163\n",
      "INFO:root:Test Accuracy: 40.40%\n",
      "INFO:root:Test Loss: 2.742228184826672 \n",
      "\n",
      " 36%|███▌      | 36/100 [22:03<40:01, 37.53s/it]"
     ]
    },
    {
     "name": "stdout",
     "output_type": "stream",
     "text": [
      "[15, 813, 1112, 123, 40, 796, 2274, 1018, 2195, 201]\n"
     ]
    },
    {
     "name": "stderr",
     "output_type": "stream",
     "text": [
      "INFO:root: \n",
      "Avg Training Stats after 37 global rounds:\n",
      "INFO:root:Train Accuracy: 0.00%\n",
      "INFO:root:Training Loss : 0.18961337716012155\n",
      "INFO:root:Test Accuracy: 48.34%\n",
      "INFO:root:Test Loss: 2.2405393040180206 \n",
      "\n",
      " 37%|███▋      | 37/100 [22:37<38:08, 36.32s/it]"
     ]
    },
    {
     "name": "stdout",
     "output_type": "stream",
     "text": [
      "[303, 2195, 422, 1112, 1433, 116, 796, 602, 1756, 231]\n"
     ]
    },
    {
     "name": "stderr",
     "output_type": "stream",
     "text": [
      "INFO:root: \n",
      "Avg Training Stats after 38 global rounds:\n",
      "INFO:root:Train Accuracy: 0.00%\n",
      "INFO:root:Training Loss : 0.16621568476572463\n",
      "INFO:root:Test Accuracy: 41.12%\n",
      "INFO:root:Test Loss: 2.8127420400083065 \n",
      "\n",
      " 38%|███▊      | 38/100 [23:11<36:53, 35.71s/it]"
     ]
    },
    {
     "name": "stdout",
     "output_type": "stream",
     "text": [
      "[1756, 231, 267, 2430, 590, 1736, 15, 4600, 327, 1112]\n"
     ]
    },
    {
     "name": "stderr",
     "output_type": "stream",
     "text": [
      "INFO:root: \n",
      "Avg Training Stats after 39 global rounds:\n",
      "INFO:root:Train Accuracy: 0.00%\n",
      "INFO:root:Training Loss : 0.16362436999723462\n",
      "INFO:root:Test Accuracy: 43.73%\n",
      "INFO:root:Test Loss: 2.3159568175673484 \n",
      "\n",
      " 39%|███▉      | 39/100 [23:53<38:08, 37.51s/it]"
     ]
    },
    {
     "name": "stdout",
     "output_type": "stream",
     "text": [
      "[2575, 422, 3195, 862, 231, 796, 2934, 123, 2430, 794]\n"
     ]
    },
    {
     "name": "stderr",
     "output_type": "stream",
     "text": [
      "INFO:root: \n",
      "Avg Training Stats after 40 global rounds:\n",
      "INFO:root:Train Accuracy: 0.00%\n",
      "INFO:root:Training Loss : 0.13268258241817774\n",
      "INFO:root:Test Accuracy: 45.22%\n",
      "INFO:root:Test Loss: 2.2044512768089772 \n",
      "\n",
      " 40%|████      | 40/100 [24:37<39:26, 39.44s/it]"
     ]
    },
    {
     "name": "stdout",
     "output_type": "stream",
     "text": [
      "[231, 1119, 1736, 278, 447, 1018, 286, 744, 690, 173]\n"
     ]
    },
    {
     "name": "stderr",
     "output_type": "stream",
     "text": [
      "INFO:root: \n",
      "Avg Training Stats after 41 global rounds:\n",
      "INFO:root:Train Accuracy: 0.00%\n",
      "INFO:root:Training Loss : 0.17625350512193133\n",
      "INFO:root:Test Accuracy: 45.45%\n",
      "INFO:root:Test Loss: 2.1191032685339453 \n",
      "\n",
      " 41%|████      | 41/100 [25:07<36:05, 36.70s/it]"
     ]
    },
    {
     "name": "stdout",
     "output_type": "stream",
     "text": [
      "[231, 1320, 1416, 2575, 2274, 862, 690, 602, 1012, 173]\n"
     ]
    },
    {
     "name": "stderr",
     "output_type": "stream",
     "text": [
      "INFO:root: \n",
      "Avg Training Stats after 42 global rounds:\n",
      "INFO:root:Train Accuracy: 0.00%\n",
      "INFO:root:Training Loss : 0.15639205596078493\n",
      "INFO:root:Test Accuracy: 48.81%\n",
      "INFO:root:Test Loss: 1.8831338971853255 \n",
      "\n",
      " 42%|████▏     | 42/100 [25:46<35:58, 37.22s/it]"
     ]
    },
    {
     "name": "stdout",
     "output_type": "stream",
     "text": [
      "[1112, 1053, 3195, 2934, 2029, 201, 123, 2195, 1018, 173]\n"
     ]
    },
    {
     "name": "stderr",
     "output_type": "stream",
     "text": [
      "INFO:root: \n",
      "Avg Training Stats after 43 global rounds:\n",
      "INFO:root:Train Accuracy: 0.00%\n",
      "INFO:root:Training Loss : 0.17995569858607444\n",
      "INFO:root:Test Accuracy: 46.32%\n",
      "INFO:root:Test Loss: 2.547673729211092 \n",
      "\n",
      " 43%|████▎     | 43/100 [26:29<37:04, 39.02s/it]"
     ]
    },
    {
     "name": "stdout",
     "output_type": "stream",
     "text": [
      "[862, 1053, 422, 3195, 4600, 794, 1756, 173, 2029, 1018]\n"
     ]
    },
    {
     "name": "stderr",
     "output_type": "stream",
     "text": [
      "INFO:root: \n",
      "Avg Training Stats after 44 global rounds:\n",
      "INFO:root:Train Accuracy: 0.00%\n",
      "INFO:root:Training Loss : 0.151993716874714\n",
      "INFO:root:Test Accuracy: 40.86%\n",
      "INFO:root:Test Loss: 3.575818409919739 \n",
      "\n",
      " 44%|████▍     | 44/100 [27:15<38:29, 41.25s/it]"
     ]
    },
    {
     "name": "stdout",
     "output_type": "stream",
     "text": [
      "[1320, 2934, 796, 2195, 862, 2575, 2029, 19, 422, 286]\n"
     ]
    },
    {
     "name": "stderr",
     "output_type": "stream",
     "text": [
      "INFO:root: \n",
      "Avg Training Stats after 45 global rounds:\n",
      "INFO:root:Train Accuracy: 0.00%\n",
      "INFO:root:Training Loss : 0.20097733598917236\n",
      "INFO:root:Test Accuracy: 42.64%\n",
      "INFO:root:Test Loss: 3.0904073847830293 \n",
      "\n",
      " 45%|████▌     | 45/100 [27:57<38:04, 41.55s/it]"
     ]
    },
    {
     "name": "stdout",
     "output_type": "stream",
     "text": [
      "[862, 744, 1416, 1112, 590, 542, 278, 690, 116, 1780]\n"
     ]
    },
    {
     "name": "stderr",
     "output_type": "stream",
     "text": [
      "INFO:root: \n",
      "Avg Training Stats after 46 global rounds:\n",
      "INFO:root:Train Accuracy: 0.00%\n",
      "INFO:root:Training Loss : 0.20813598196940625\n",
      "INFO:root:Test Accuracy: 46.63%\n",
      "INFO:root:Test Loss: 2.461806072294712 \n",
      "\n",
      " 46%|████▌     | 46/100 [28:30<35:02, 38.94s/it]"
     ]
    },
    {
     "name": "stdout",
     "output_type": "stream",
     "text": [
      "[2575, 1112, 1320, 231, 3195, 1012, 862, 447, 2195, 201]\n"
     ]
    },
    {
     "name": "stderr",
     "output_type": "stream",
     "text": [
      "INFO:root: \n",
      "Avg Training Stats after 47 global rounds:\n",
      "INFO:root:Train Accuracy: 0.00%\n",
      "INFO:root:Training Loss : 0.09129445969541031\n",
      "INFO:root:Test Accuracy: 32.38%\n",
      "INFO:root:Test Loss: 3.8725783218070866 \n",
      "\n",
      " 47%|████▋     | 47/100 [29:12<35:05, 39.73s/it]"
     ]
    },
    {
     "name": "stdout",
     "output_type": "stream",
     "text": [
      "[1433, 542, 813, 231, 1119, 2029, 1012, 173, 2195, 1320]\n"
     ]
    },
    {
     "name": "stderr",
     "output_type": "stream",
     "text": [
      "INFO:root: \n",
      "Avg Training Stats after 48 global rounds:\n",
      "INFO:root:Train Accuracy: 0.00%\n",
      "INFO:root:Training Loss : 0.1076522365388882\n",
      "INFO:root:Test Accuracy: 43.61%\n",
      "INFO:root:Test Loss: 2.4796047750115395 \n",
      "\n",
      " 48%|████▊     | 48/100 [29:50<33:58, 39.21s/it]"
     ]
    },
    {
     "name": "stdout",
     "output_type": "stream",
     "text": [
      "[744, 2195, 209, 1780, 2575, 123, 327, 40, 1736, 690]\n"
     ]
    },
    {
     "name": "stderr",
     "output_type": "stream",
     "text": [
      "INFO:root: \n",
      "Avg Training Stats after 49 global rounds:\n",
      "INFO:root:Train Accuracy: 0.00%\n",
      "INFO:root:Training Loss : 0.18211028271004587\n",
      "INFO:root:Test Accuracy: 45.01%\n",
      "INFO:root:Test Loss: 2.563485378026962 \n",
      "\n",
      " 49%|████▉     | 49/100 [30:27<32:45, 38.54s/it]"
     ]
    },
    {
     "name": "stdout",
     "output_type": "stream",
     "text": [
      "[862, 690, 1433, 173, 3195, 2934, 116, 447, 231, 431]\n"
     ]
    },
    {
     "name": "stderr",
     "output_type": "stream",
     "text": [
      "INFO:root: \n",
      "Avg Training Stats after 50 global rounds:\n",
      "INFO:root:Train Accuracy: 0.00%\n",
      "INFO:root:Training Loss : 0.18867244390677967\n",
      "INFO:root:Test Accuracy: 36.28%\n",
      "INFO:root:Test Loss: 3.4046151021681728 \n",
      "\n",
      " 50%|█████     | 50/100 [31:04<31:46, 38.13s/it]"
     ]
    },
    {
     "name": "stdout",
     "output_type": "stream",
     "text": [
      "[1320, 19, 3195, 87, 1756, 303, 813, 2575, 231, 231]\n"
     ]
    },
    {
     "name": "stderr",
     "output_type": "stream",
     "text": [
      "INFO:root: \n",
      "Avg Training Stats after 51 global rounds:\n",
      "INFO:root:Train Accuracy: 0.00%\n",
      "INFO:root:Training Loss : 0.09651863614208385\n",
      "INFO:root:Test Accuracy: 24.73%\n",
      "INFO:root:Test Loss: 6.5269047825085 \n",
      "\n",
      " 51%|█████     | 51/100 [31:41<30:56, 37.89s/it]"
     ]
    },
    {
     "name": "stdout",
     "output_type": "stream",
     "text": [
      "[40, 813, 1780, 2934, 15, 173, 278, 19, 1798, 267]\n"
     ]
    },
    {
     "name": "stderr",
     "output_type": "stream",
     "text": [
      "INFO:root: \n",
      "Avg Training Stats after 52 global rounds:\n",
      "INFO:root:Train Accuracy: 0.00%\n",
      "INFO:root:Training Loss : 0.2846354599428247\n",
      "INFO:root:Test Accuracy: 36.14%\n",
      "INFO:root:Test Loss: 3.4749370872974397 \n",
      "\n",
      " 52%|█████▏    | 52/100 [32:14<29:05, 36.36s/it]"
     ]
    },
    {
     "name": "stdout",
     "output_type": "stream",
     "text": [
      "[267, 231, 690, 173, 1780, 1053, 862, 590, 1433, 303]\n"
     ]
    },
    {
     "name": "stderr",
     "output_type": "stream",
     "text": [
      "INFO:root: \n",
      "Avg Training Stats after 53 global rounds:\n",
      "INFO:root:Train Accuracy: 0.00%\n",
      "INFO:root:Training Loss : 0.16853886670318388\n",
      "INFO:root:Test Accuracy: 53.62%\n",
      "INFO:root:Test Loss: 2.0920265594124796 \n",
      "\n",
      " 53%|█████▎    | 53/100 [32:46<27:22, 34.94s/it]"
     ]
    },
    {
     "name": "stdout",
     "output_type": "stream",
     "text": [
      "[431, 3195, 201, 796, 2934, 15, 231, 1112, 1736, 267]\n"
     ]
    },
    {
     "name": "stderr",
     "output_type": "stream",
     "text": [
      "INFO:root: \n",
      "Avg Training Stats after 54 global rounds:\n",
      "INFO:root:Train Accuracy: 0.00%\n",
      "INFO:root:Training Loss : 0.14623259570241995\n",
      "INFO:root:Test Accuracy: 56.99%\n",
      "INFO:root:Test Loss: 1.6452554374933244 \n",
      "\n",
      " 54%|█████▍    | 54/100 [33:24<27:29, 35.86s/it]"
     ]
    },
    {
     "name": "stdout",
     "output_type": "stream",
     "text": [
      "[40, 1320, 1416, 286, 2195, 1012, 201, 116, 1053, 542]\n"
     ]
    },
    {
     "name": "stderr",
     "output_type": "stream",
     "text": [
      "INFO:root: \n",
      "Avg Training Stats after 55 global rounds:\n",
      "INFO:root:Train Accuracy: 0.00%\n",
      "INFO:root:Training Loss : 0.15864205141600723\n",
      "INFO:root:Test Accuracy: 50.21%\n",
      "INFO:root:Test Loss: 2.0502337238192556 \n",
      "\n",
      " 55%|█████▌    | 55/100 [33:57<26:15, 35.01s/it]"
     ]
    },
    {
     "name": "stdout",
     "output_type": "stream",
     "text": [
      "[1798, 422, 231, 4600, 231, 2575, 1433, 106, 1320, 862]\n"
     ]
    },
    {
     "name": "stderr",
     "output_type": "stream",
     "text": [
      "INFO:root: \n",
      "Avg Training Stats after 56 global rounds:\n",
      "INFO:root:Train Accuracy: 0.00%\n",
      "INFO:root:Training Loss : 0.09012931490115561\n",
      "INFO:root:Test Accuracy: 45.85%\n",
      "INFO:root:Test Loss: 2.7583474311232568 \n",
      "\n",
      " 56%|█████▌    | 56/100 [34:40<27:22, 37.34s/it]"
     ]
    },
    {
     "name": "stdout",
     "output_type": "stream",
     "text": [
      "[2274, 3195, 267, 2029, 590, 327, 2195, 278, 1756, 813]\n"
     ]
    },
    {
     "name": "stderr",
     "output_type": "stream",
     "text": [
      "INFO:root: \n",
      "Avg Training Stats after 57 global rounds:\n",
      "INFO:root:Train Accuracy: 0.00%\n",
      "INFO:root:Training Loss : 0.11199953127995191\n",
      "INFO:root:Test Accuracy: 45.58%\n",
      "INFO:root:Test Loss: 3.144981675669551 \n",
      "\n",
      " 57%|█████▋    | 57/100 [35:23<27:57, 39.01s/it]"
     ]
    },
    {
     "name": "stdout",
     "output_type": "stream",
     "text": [
      "[1798, 431, 123, 1320, 1416, 231, 2575, 2934, 19, 1756]\n"
     ]
    },
    {
     "name": "stderr",
     "output_type": "stream",
     "text": [
      "INFO:root: \n",
      "Avg Training Stats after 58 global rounds:\n",
      "INFO:root:Train Accuracy: 0.00%\n",
      "INFO:root:Training Loss : 0.15438394359217114\n",
      "INFO:root:Test Accuracy: 48.84%\n",
      "INFO:root:Test Loss: 2.473531977981329 \n",
      "\n",
      " 58%|█████▊    | 58/100 [36:03<27:42, 39.58s/it]"
     ]
    },
    {
     "name": "stdout",
     "output_type": "stream",
     "text": [
      "[1018, 267, 2274, 447, 2029, 690, 590, 303, 1119, 796]\n"
     ]
    },
    {
     "name": "stderr",
     "output_type": "stream",
     "text": [
      "INFO:root: \n",
      "Avg Training Stats after 59 global rounds:\n",
      "INFO:root:Train Accuracy: 0.00%\n",
      "INFO:root:Training Loss : 0.08585069784694714\n",
      "INFO:root:Test Accuracy: 55.28%\n",
      "INFO:root:Test Loss: 2.752839576601982 \n",
      "\n",
      " 59%|█████▉    | 59/100 [36:39<26:12, 38.34s/it]"
     ]
    },
    {
     "name": "stdout",
     "output_type": "stream",
     "text": [
      "[106, 2430, 447, 1433, 1012, 3195, 1119, 1756, 862, 4600]\n",
      "0.1\n"
     ]
    },
    {
     "name": "stderr",
     "output_type": "stream",
     "text": [
      "INFO:root: \n",
      "Avg Training Stats after 60 global rounds:\n",
      "INFO:root:Train Accuracy: 0.00%\n",
      "INFO:root:Training Loss : 0.05274419665558292\n",
      "INFO:root:Test Accuracy: 56.25%\n",
      "INFO:root:Test Loss: 2.589357096850872 \n",
      "\n",
      " 60%|██████    | 60/100 [37:27<27:33, 41.34s/it]"
     ]
    },
    {
     "name": "stdout",
     "output_type": "stream",
     "text": [
      "[1780, 1320, 286, 2029, 40, 796, 447, 15, 231, 744]\n"
     ]
    },
    {
     "name": "stderr",
     "output_type": "stream",
     "text": [
      "INFO:root: \n",
      "Avg Training Stats after 61 global rounds:\n",
      "INFO:root:Train Accuracy: 0.00%\n",
      "INFO:root:Training Loss : 0.11021133817932874\n",
      "INFO:root:Test Accuracy: 57.69%\n",
      "INFO:root:Test Loss: 2.367847388088703 \n",
      "\n",
      " 61%|██████    | 61/100 [37:59<25:02, 38.52s/it]"
     ]
    },
    {
     "name": "stdout",
     "output_type": "stream",
     "text": [
      "[116, 15, 2029, 327, 19, 470, 422, 87, 1012, 303]\n"
     ]
    },
    {
     "name": "stderr",
     "output_type": "stream",
     "text": [
      "INFO:root: \n",
      "Avg Training Stats after 62 global rounds:\n",
      "INFO:root:Train Accuracy: 0.00%\n",
      "INFO:root:Training Loss : 0.20065756394254222\n",
      "INFO:root:Test Accuracy: 58.88%\n",
      "INFO:root:Test Loss: 2.190186865478754 \n",
      "\n",
      " 62%|██████▏   | 62/100 [38:26<22:11, 35.03s/it]"
     ]
    },
    {
     "name": "stdout",
     "output_type": "stream",
     "text": [
      "[796, 2274, 862, 286, 813, 3195, 1112, 422, 1119, 327]\n"
     ]
    },
    {
     "name": "stderr",
     "output_type": "stream",
     "text": [
      "INFO:root: \n",
      "Avg Training Stats after 63 global rounds:\n",
      "INFO:root:Train Accuracy: 0.00%\n",
      "INFO:root:Training Loss : 0.09885130619635685\n",
      "INFO:root:Test Accuracy: 59.59%\n",
      "INFO:root:Test Loss: 1.9776159718632698 \n",
      "\n",
      " 63%|██████▎   | 63/100 [39:04<22:12, 36.00s/it]"
     ]
    },
    {
     "name": "stdout",
     "output_type": "stream",
     "text": [
      "[542, 1798, 690, 15, 267, 2575, 796, 590, 209, 470]\n"
     ]
    },
    {
     "name": "stderr",
     "output_type": "stream",
     "text": [
      "INFO:root: \n",
      "Avg Training Stats after 64 global rounds:\n",
      "INFO:root:Train Accuracy: 0.00%\n",
      "INFO:root:Training Loss : 0.13946092104946956\n",
      "INFO:root:Test Accuracy: 60.24%\n",
      "INFO:root:Test Loss: 1.7761159485578537 \n",
      "\n",
      " 64%|██████▍   | 64/100 [39:37<21:03, 35.08s/it]"
     ]
    },
    {
     "name": "stdout",
     "output_type": "stream",
     "text": [
      "[87, 267, 286, 1053, 303, 796, 40, 173, 19, 327]\n"
     ]
    },
    {
     "name": "stderr",
     "output_type": "stream",
     "text": [
      "INFO:root: \n",
      "Avg Training Stats after 65 global rounds:\n",
      "INFO:root:Train Accuracy: 0.00%\n",
      "INFO:root:Training Loss : 0.17614916015791132\n",
      "INFO:root:Test Accuracy: 60.57%\n",
      "INFO:root:Test Loss: 1.6619612427800894 \n",
      "\n",
      " 65%|██████▌   | 65/100 [40:02<18:34, 31.84s/it]"
     ]
    },
    {
     "name": "stdout",
     "output_type": "stream",
     "text": [
      "[813, 542, 106, 123, 4600, 40, 209, 2029, 1736, 2195]\n"
     ]
    },
    {
     "name": "stderr",
     "output_type": "stream",
     "text": [
      "INFO:root: \n",
      "Avg Training Stats after 66 global rounds:\n",
      "INFO:root:Train Accuracy: 0.00%\n",
      "INFO:root:Training Loss : 0.10356116969909442\n",
      "INFO:root:Test Accuracy: 61.72%\n",
      "INFO:root:Test Loss: 1.5200439132750034 \n",
      "\n",
      " 66%|██████▌   | 66/100 [40:42<19:29, 34.40s/it]"
     ]
    },
    {
     "name": "stdout",
     "output_type": "stream",
     "text": [
      "[1416, 1320, 201, 744, 2934, 447, 278, 2430, 1018, 2274]\n"
     ]
    },
    {
     "name": "stderr",
     "output_type": "stream",
     "text": [
      "INFO:root: \n",
      "Avg Training Stats after 67 global rounds:\n",
      "INFO:root:Train Accuracy: 0.00%\n",
      "INFO:root:Training Loss : 0.10173445066140221\n",
      "INFO:root:Test Accuracy: 63.42%\n",
      "INFO:root:Test Loss: 1.3750784680247308 \n",
      "\n",
      " 67%|██████▋   | 67/100 [41:24<20:09, 36.66s/it]"
     ]
    },
    {
     "name": "stdout",
     "output_type": "stream",
     "text": [
      "[303, 1012, 470, 123, 106, 201, 87, 1736, 2934, 2575]\n"
     ]
    },
    {
     "name": "stderr",
     "output_type": "stream",
     "text": [
      "INFO:root: \n",
      "Avg Training Stats after 68 global rounds:\n",
      "INFO:root:Train Accuracy: 0.00%\n",
      "INFO:root:Training Loss : 0.07553973895626943\n",
      "INFO:root:Test Accuracy: 65.47%\n",
      "INFO:root:Test Loss: 1.2471384586393832 \n",
      "\n",
      " 68%|██████▊   | 68/100 [41:59<19:20, 36.28s/it]"
     ]
    },
    {
     "name": "stdout",
     "output_type": "stream",
     "text": [
      "[3195, 794, 690, 2029, 231, 1756, 1112, 1736, 201, 813]\n"
     ]
    },
    {
     "name": "stderr",
     "output_type": "stream",
     "text": [
      "INFO:root: \n",
      "Avg Training Stats after 69 global rounds:\n",
      "INFO:root:Train Accuracy: 0.00%\n",
      "INFO:root:Training Loss : 0.06289909310367771\n",
      "INFO:root:Test Accuracy: 65.61%\n",
      "INFO:root:Test Loss: 1.1960677036643028 \n",
      "\n",
      " 69%|██████▉   | 69/100 [42:40<19:24, 37.57s/it]"
     ]
    },
    {
     "name": "stdout",
     "output_type": "stream",
     "text": [
      "[106, 40, 278, 422, 470, 2029, 2934, 744, 2274, 327]\n"
     ]
    },
    {
     "name": "stderr",
     "output_type": "stream",
     "text": [
      "INFO:root: \n",
      "Avg Training Stats after 70 global rounds:\n",
      "INFO:root:Train Accuracy: 0.00%\n",
      "INFO:root:Training Loss : 0.10741941276405412\n",
      "INFO:root:Test Accuracy: 64.41%\n",
      "INFO:root:Test Loss: 1.2385120204091071 \n",
      "\n",
      " 70%|███████   | 70/100 [43:16<18:31, 37.05s/it]"
     ]
    },
    {
     "name": "stdout",
     "output_type": "stream",
     "text": [
      "[3195, 267, 303, 173, 286, 2029, 422, 1012, 796, 106]\n"
     ]
    },
    {
     "name": "stderr",
     "output_type": "stream",
     "text": [
      "INFO:root: \n",
      "Avg Training Stats after 71 global rounds:\n",
      "INFO:root:Train Accuracy: 0.00%\n",
      "INFO:root:Training Loss : 0.09775355368421419\n",
      "INFO:root:Test Accuracy: 62.32%\n",
      "INFO:root:Test Loss: 1.3366247725486755 \n",
      "\n",
      " 71%|███████   | 71/100 [43:50<17:27, 36.11s/it]"
     ]
    },
    {
     "name": "stdout",
     "output_type": "stream",
     "text": [
      "[209, 40, 4600, 106, 123, 1012, 690, 542, 602, 2575]\n"
     ]
    },
    {
     "name": "stderr",
     "output_type": "stream",
     "text": [
      "INFO:root: \n",
      "Avg Training Stats after 72 global rounds:\n",
      "INFO:root:Train Accuracy: 0.00%\n",
      "INFO:root:Training Loss : 0.10555023960748314\n",
      "INFO:root:Test Accuracy: 60.41%\n",
      "INFO:root:Test Loss: 1.455467567741871 \n",
      "\n",
      " 72%|███████▏  | 72/100 [44:27<16:59, 36.41s/it]"
     ]
    },
    {
     "name": "stdout",
     "output_type": "stream",
     "text": [
      "[1012, 2430, 2274, 209, 1798, 303, 1112, 231, 744, 278]\n"
     ]
    },
    {
     "name": "stderr",
     "output_type": "stream",
     "text": [
      "INFO:root: \n",
      "Avg Training Stats after 73 global rounds:\n",
      "INFO:root:Train Accuracy: 0.00%\n",
      "INFO:root:Training Loss : 0.08248567297200346\n",
      "INFO:root:Test Accuracy: 60.14%\n",
      "INFO:root:Test Loss: 1.4954469764232636 \n",
      "\n",
      " 73%|███████▎  | 73/100 [45:04<16:27, 36.59s/it]"
     ]
    },
    {
     "name": "stdout",
     "output_type": "stream",
     "text": [
      "[447, 1320, 209, 327, 744, 1018, 231, 2430, 590, 602]\n"
     ]
    },
    {
     "name": "stderr",
     "output_type": "stream",
     "text": [
      "INFO:root: \n",
      "Avg Training Stats after 74 global rounds:\n",
      "INFO:root:Train Accuracy: 0.00%\n",
      "INFO:root:Training Loss : 0.1330256884364855\n",
      "INFO:root:Test Accuracy: 61.60%\n",
      "INFO:root:Test Loss: 1.441836938560009 \n",
      "\n",
      " 74%|███████▍  | 74/100 [45:37<15:22, 35.48s/it]"
     ]
    },
    {
     "name": "stdout",
     "output_type": "stream",
     "text": [
      "[470, 1053, 303, 1012, 106, 3195, 447, 1112, 201, 1433]\n"
     ]
    },
    {
     "name": "stderr",
     "output_type": "stream",
     "text": [
      "INFO:root: \n",
      "Avg Training Stats after 75 global rounds:\n",
      "INFO:root:Train Accuracy: 0.00%\n",
      "INFO:root:Training Loss : 0.0546818299399436\n",
      "INFO:root:Test Accuracy: 62.52%\n",
      "INFO:root:Test Loss: 1.4141994723677636 \n",
      "\n",
      " 75%|███████▌  | 75/100 [46:12<14:43, 35.35s/it]"
     ]
    },
    {
     "name": "stdout",
     "output_type": "stream",
     "text": [
      "[231, 1433, 431, 209, 1416, 1780, 116, 123, 422, 4600]\n"
     ]
    },
    {
     "name": "stderr",
     "output_type": "stream",
     "text": [
      "INFO:root: \n",
      "Avg Training Stats after 76 global rounds:\n",
      "INFO:root:Train Accuracy: 0.00%\n",
      "INFO:root:Training Loss : 0.16361781398402192\n",
      "INFO:root:Test Accuracy: 63.05%\n",
      "INFO:root:Test Loss: 1.3930871576070785 \n",
      "\n",
      " 76%|███████▌  | 76/100 [46:49<14:25, 36.05s/it]"
     ]
    },
    {
     "name": "stdout",
     "output_type": "stream",
     "text": [
      "[2575, 796, 1053, 267, 602, 1018, 201, 1756, 286, 2430]\n"
     ]
    },
    {
     "name": "stderr",
     "output_type": "stream",
     "text": [
      "INFO:root: \n",
      "Avg Training Stats after 77 global rounds:\n",
      "INFO:root:Train Accuracy: 0.00%\n",
      "INFO:root:Training Loss : 0.0931203613340095\n",
      "INFO:root:Test Accuracy: 63.84%\n",
      "INFO:root:Test Loss: 1.3513437330722808 \n",
      "\n",
      " 77%|███████▋  | 77/100 [47:27<14:03, 36.66s/it]"
     ]
    },
    {
     "name": "stdout",
     "output_type": "stream",
     "text": [
      "[15, 2029, 2274, 744, 1018, 1736, 2934, 19, 173, 447]\n"
     ]
    },
    {
     "name": "stderr",
     "output_type": "stream",
     "text": [
      "INFO:root: \n",
      "Avg Training Stats after 78 global rounds:\n",
      "INFO:root:Train Accuracy: 0.00%\n",
      "INFO:root:Training Loss : 0.11916787897246013\n",
      "INFO:root:Test Accuracy: 64.33%\n",
      "INFO:root:Test Loss: 1.3053833359479905 \n",
      "\n",
      " 78%|███████▊  | 78/100 [48:06<13:40, 37.28s/it]"
     ]
    },
    {
     "name": "stdout",
     "output_type": "stream",
     "text": [
      "[542, 602, 173, 201, 590, 690, 422, 2934, 1736, 744]\n"
     ]
    },
    {
     "name": "stderr",
     "output_type": "stream",
     "text": [
      "INFO:root: \n",
      "Avg Training Stats after 79 global rounds:\n",
      "INFO:root:Train Accuracy: 0.00%\n",
      "INFO:root:Training Loss : 0.13197658905773485\n",
      "INFO:root:Test Accuracy: 64.85%\n",
      "INFO:root:Test Loss: 1.284566947221756 \n",
      "\n",
      " 79%|███████▉  | 79/100 [48:40<12:41, 36.26s/it]"
     ]
    },
    {
     "name": "stdout",
     "output_type": "stream",
     "text": [
      "[201, 278, 40, 1112, 106, 690, 2029, 87, 796, 3195]\n"
     ]
    },
    {
     "name": "stderr",
     "output_type": "stream",
     "text": [
      "INFO:root: \n",
      "Avg Training Stats after 80 global rounds:\n",
      "INFO:root:Train Accuracy: 0.00%\n",
      "INFO:root:Training Loss : 0.059851657336907484\n",
      "INFO:root:Test Accuracy: 65.59%\n",
      "INFO:root:Test Loss: 1.2460335233807565 \n",
      "\n",
      " 80%|████████  | 80/100 [49:14<11:49, 35.47s/it]"
     ]
    },
    {
     "name": "stdout",
     "output_type": "stream",
     "text": [
      "[1798, 15, 201, 123, 1433, 542, 1119, 690, 602, 40]\n"
     ]
    },
    {
     "name": "stderr",
     "output_type": "stream",
     "text": [
      "INFO:root: \n",
      "Avg Training Stats after 81 global rounds:\n",
      "INFO:root:Train Accuracy: 0.00%\n",
      "INFO:root:Training Loss : 0.1021927703088614\n",
      "INFO:root:Test Accuracy: 66.37%\n",
      "INFO:root:Test Loss: 1.2321013832092285 \n",
      "\n",
      " 81%|████████  | 81/100 [49:44<10:43, 33.89s/it]"
     ]
    },
    {
     "name": "stdout",
     "output_type": "stream",
     "text": [
      "[267, 542, 209, 796, 87, 3195, 231, 303, 2934, 1119]\n"
     ]
    },
    {
     "name": "stderr",
     "output_type": "stream",
     "text": [
      "INFO:root: \n",
      "Avg Training Stats after 82 global rounds:\n",
      "INFO:root:Train Accuracy: 0.00%\n",
      "INFO:root:Training Loss : 0.08427492012158298\n",
      "INFO:root:Test Accuracy: 66.31%\n",
      "INFO:root:Test Loss: 1.2346753099560737 \n",
      "\n",
      " 82%|████████▏ | 82/100 [50:20<10:20, 34.47s/it]"
     ]
    },
    {
     "name": "stdout",
     "output_type": "stream",
     "text": [
      "[690, 431, 422, 231, 4600, 2934, 2029, 327, 796, 590]\n"
     ]
    },
    {
     "name": "stderr",
     "output_type": "stream",
     "text": [
      "INFO:root: \n",
      "Avg Training Stats after 83 global rounds:\n",
      "INFO:root:Train Accuracy: 0.00%\n",
      "INFO:root:Training Loss : 0.09386720182052419\n",
      "INFO:root:Test Accuracy: 66.25%\n",
      "INFO:root:Test Loss: 1.2391339373588561 \n",
      "\n",
      " 83%|████████▎ | 83/100 [51:01<10:23, 36.66s/it]"
     ]
    },
    {
     "name": "stdout",
     "output_type": "stream",
     "text": [
      "[231, 1112, 87, 303, 690, 796, 2195, 813, 327, 1018]\n"
     ]
    },
    {
     "name": "stderr",
     "output_type": "stream",
     "text": [
      "INFO:root: \n",
      "Avg Training Stats after 84 global rounds:\n",
      "INFO:root:Train Accuracy: 0.00%\n",
      "INFO:root:Training Loss : 0.08565214958690677\n",
      "INFO:root:Test Accuracy: 65.71%\n",
      "INFO:root:Test Loss: 1.2607534047961235 \n",
      "\n",
      " 84%|████████▍ | 84/100 [51:33<09:24, 35.28s/it]"
     ]
    },
    {
     "name": "stdout",
     "output_type": "stream",
     "text": [
      "[602, 1018, 542, 106, 794, 447, 2029, 1433, 327, 690]\n"
     ]
    },
    {
     "name": "stderr",
     "output_type": "stream",
     "text": [
      "INFO:root: \n",
      "Avg Training Stats after 85 global rounds:\n",
      "INFO:root:Train Accuracy: 0.00%\n",
      "INFO:root:Training Loss : 0.0974893350190156\n",
      "INFO:root:Test Accuracy: 64.87%\n",
      "INFO:root:Test Loss: 1.3275983199477195 \n",
      "\n",
      " 85%|████████▌ | 85/100 [52:06<08:37, 34.49s/it]"
     ]
    },
    {
     "name": "stdout",
     "output_type": "stream",
     "text": [
      "[1433, 267, 447, 1012, 470, 201, 231, 15, 278, 1736]\n"
     ]
    },
    {
     "name": "stderr",
     "output_type": "stream",
     "text": [
      "INFO:root: \n",
      "Avg Training Stats after 86 global rounds:\n",
      "INFO:root:Train Accuracy: 0.00%\n",
      "INFO:root:Training Loss : 0.10285662949333026\n",
      "INFO:root:Test Accuracy: 63.35%\n",
      "INFO:root:Test Loss: 1.4135465134680272 \n",
      "\n",
      " 86%|████████▌ | 86/100 [52:35<07:40, 32.91s/it]"
     ]
    },
    {
     "name": "stdout",
     "output_type": "stream",
     "text": [
      "[40, 1053, 231, 286, 106, 2274, 470, 1119, 447, 1416]\n"
     ]
    },
    {
     "name": "stderr",
     "output_type": "stream",
     "text": [
      "INFO:root: \n",
      "Avg Training Stats after 87 global rounds:\n",
      "INFO:root:Train Accuracy: 0.00%\n",
      "INFO:root:Training Loss : 0.08384585706502709\n",
      "INFO:root:Test Accuracy: 62.09%\n",
      "INFO:root:Test Loss: 1.4869942225515842 \n",
      "\n",
      " 87%|████████▋ | 87/100 [53:07<07:02, 32.52s/it]"
     ]
    },
    {
     "name": "stdout",
     "output_type": "stream",
     "text": [
      "[209, 2029, 231, 278, 1320, 862, 2195, 690, 1736, 106]\n"
     ]
    },
    {
     "name": "stderr",
     "output_type": "stream",
     "text": [
      "INFO:root: \n",
      "Avg Training Stats after 88 global rounds:\n",
      "INFO:root:Train Accuracy: 0.00%\n",
      "INFO:root:Training Loss : 0.08174427318568224\n",
      "INFO:root:Test Accuracy: 61.21%\n",
      "INFO:root:Test Loss: 1.576484053581953 \n",
      "\n",
      " 88%|████████▊ | 88/100 [53:43<06:42, 33.53s/it]"
     ]
    },
    {
     "name": "stdout",
     "output_type": "stream",
     "text": [
      "[2430, 201, 2195, 2575, 123, 602, 116, 794, 4600, 690]\n"
     ]
    },
    {
     "name": "stderr",
     "output_type": "stream",
     "text": [
      "INFO:root: \n",
      "Avg Training Stats after 89 global rounds:\n",
      "INFO:root:Train Accuracy: 0.00%\n",
      "INFO:root:Training Loss : 0.1058824491573648\n",
      "INFO:root:Test Accuracy: 61.75%\n",
      "INFO:root:Test Loss: 1.5225504332780837 \n",
      "\n",
      " 89%|████████▉ | 89/100 [54:27<06:43, 36.70s/it]"
     ]
    },
    {
     "name": "stdout",
     "output_type": "stream",
     "text": [
      "[470, 303, 278, 87, 1119, 2274, 1780, 19, 4600, 602]\n",
      "0.010000000000000002\n"
     ]
    },
    {
     "name": "stderr",
     "output_type": "stream",
     "text": [
      "INFO:root: \n",
      "Avg Training Stats after 90 global rounds:\n",
      "INFO:root:Train Accuracy: 0.00%\n",
      "INFO:root:Training Loss : 0.07470475718021385\n",
      "INFO:root:Test Accuracy: 61.89%\n",
      "INFO:root:Test Loss: 1.5075500963628292 \n",
      "\n",
      " 90%|█████████ | 90/100 [55:06<06:14, 37.41s/it]"
     ]
    },
    {
     "name": "stdout",
     "output_type": "stream",
     "text": [
      "[2575, 602, 2029, 327, 209, 4600, 2274, 1756, 431, 1112]\n"
     ]
    },
    {
     "name": "stderr",
     "output_type": "stream",
     "text": [
      "INFO:root: \n",
      "Avg Training Stats after 91 global rounds:\n",
      "INFO:root:Train Accuracy: 0.00%\n",
      "INFO:root:Training Loss : 0.09322586925542774\n",
      "INFO:root:Test Accuracy: 62.20%\n",
      "INFO:root:Test Loss: 1.483820141851902 \n",
      "\n",
      " 91%|█████████ | 91/100 [55:53<06:02, 40.30s/it]"
     ]
    },
    {
     "name": "stdout",
     "output_type": "stream",
     "text": [
      "[2195, 267, 813, 286, 3195, 470, 231, 278, 1012, 231]\n"
     ]
    },
    {
     "name": "stderr",
     "output_type": "stream",
     "text": [
      "INFO:root: \n",
      "Avg Training Stats after 92 global rounds:\n",
      "INFO:root:Train Accuracy: 0.00%\n",
      "INFO:root:Training Loss : 0.07486120446374014\n",
      "INFO:root:Test Accuracy: 62.48%\n",
      "INFO:root:Test Loss: 1.4590193085372447 \n",
      "\n",
      " 92%|█████████▏| 92/100 [56:27<05:07, 38.49s/it]"
     ]
    },
    {
     "name": "stdout",
     "output_type": "stream",
     "text": [
      "[1053, 2575, 303, 2430, 542, 116, 1756, 1433, 327, 15]\n"
     ]
    },
    {
     "name": "stderr",
     "output_type": "stream",
     "text": [
      "INFO:root: \n",
      "Avg Training Stats after 93 global rounds:\n",
      "INFO:root:Train Accuracy: 0.00%\n",
      "INFO:root:Training Loss : 0.14060592605960404\n",
      "INFO:root:Test Accuracy: 62.95%\n",
      "INFO:root:Test Loss: 1.4286705884337425 \n",
      "\n",
      " 93%|█████████▎| 93/100 [57:04<04:26, 38.08s/it]"
     ]
    },
    {
     "name": "stdout",
     "output_type": "stream",
     "text": [
      "[590, 4600, 201, 286, 303, 1736, 15, 1798, 744, 422]\n"
     ]
    },
    {
     "name": "stderr",
     "output_type": "stream",
     "text": [
      "INFO:root: \n",
      "Avg Training Stats after 94 global rounds:\n",
      "INFO:root:Train Accuracy: 0.00%\n",
      "INFO:root:Training Loss : 0.10748325537476477\n",
      "INFO:root:Test Accuracy: 63.69%\n",
      "INFO:root:Test Loss: 1.3900365224480629 \n",
      "\n",
      " 94%|█████████▍| 94/100 [57:42<03:47, 37.95s/it]"
     ]
    },
    {
     "name": "stdout",
     "output_type": "stream",
     "text": [
      "[123, 862, 542, 19, 794, 1112, 4600, 2934, 231, 15]\n"
     ]
    },
    {
     "name": "stderr",
     "output_type": "stream",
     "text": [
      "INFO:root: \n",
      "Avg Training Stats after 95 global rounds:\n",
      "INFO:root:Train Accuracy: 0.00%\n",
      "INFO:root:Training Loss : 0.12521440738330064\n",
      "INFO:root:Test Accuracy: 64.44%\n",
      "INFO:root:Test Loss: 1.3493515837192536 \n",
      "\n",
      " 95%|█████████▌| 95/100 [58:20<03:10, 38.06s/it]"
     ]
    },
    {
     "name": "stdout",
     "output_type": "stream",
     "text": [
      "[1053, 87, 2575, 4600, 542, 231, 1433, 1012, 2029, 862]\n"
     ]
    },
    {
     "name": "stderr",
     "output_type": "stream",
     "text": [
      "INFO:root: \n",
      "Avg Training Stats after 96 global rounds:\n",
      "INFO:root:Train Accuracy: 0.00%\n",
      "INFO:root:Training Loss : 0.0638505602759161\n",
      "INFO:root:Test Accuracy: 65.02%\n",
      "INFO:root:Test Loss: 1.312330010831356 \n",
      "\n",
      " 96%|█████████▌| 96/100 [59:05<02:39, 39.88s/it]"
     ]
    },
    {
     "name": "stdout",
     "output_type": "stream",
     "text": [
      "[19, 602, 40, 690, 267, 231, 173, 2029, 1798, 3195]\n"
     ]
    },
    {
     "name": "stderr",
     "output_type": "stream",
     "text": [
      "INFO:root: \n",
      "Avg Training Stats after 97 global rounds:\n",
      "INFO:root:Train Accuracy: 0.00%\n",
      "INFO:root:Training Loss : 0.11198852488059408\n",
      "INFO:root:Test Accuracy: 65.72%\n",
      "INFO:root:Test Loss: 1.2787267103791238 \n",
      "\n",
      " 97%|█████████▋| 97/100 [59:39<01:54, 38.32s/it]"
     ]
    },
    {
     "name": "stdout",
     "output_type": "stream",
     "text": [
      "[209, 1012, 422, 40, 794, 4600, 116, 286, 303, 1756]\n"
     ]
    },
    {
     "name": "stderr",
     "output_type": "stream",
     "text": [
      "INFO:root: \n",
      "Avg Training Stats after 98 global rounds:\n",
      "INFO:root:Train Accuracy: 0.00%\n",
      "INFO:root:Training Loss : 0.0909743239582384\n",
      "INFO:root:Test Accuracy: 66.07%\n",
      "INFO:root:Test Loss: 1.2482460504770279 \n",
      "\n",
      " 98%|█████████▊| 98/100 [1:00:15<01:14, 37.46s/it]"
     ]
    },
    {
     "name": "stdout",
     "output_type": "stream",
     "text": [
      "[2274, 1736, 173, 1416, 447, 19, 2195, 2029, 862, 744]\n"
     ]
    },
    {
     "name": "stderr",
     "output_type": "stream",
     "text": [
      "INFO:root: \n",
      "Avg Training Stats after 99 global rounds:\n",
      "INFO:root:Train Accuracy: 0.00%\n",
      "INFO:root:Training Loss : 0.12355015329846657\n",
      "INFO:root:Test Accuracy: 66.45%\n",
      "INFO:root:Test Loss: 1.2266438426077366 \n",
      "\n",
      " 99%|█████████▉| 99/100 [1:00:54<00:38, 38.08s/it]"
     ]
    },
    {
     "name": "stdout",
     "output_type": "stream",
     "text": [
      "[431, 1798, 1736, 744, 19, 278, 690, 590, 116, 40]\n"
     ]
    },
    {
     "name": "stderr",
     "output_type": "stream",
     "text": [
      "INFO:root: \n",
      "Avg Training Stats after 100 global rounds:\n",
      "INFO:root:Train Accuracy: 0.00%\n",
      "INFO:root:Training Loss : 0.09310828374198077\n",
      "INFO:root:Test Accuracy: 66.86%\n",
      "INFO:root:Test Loss: 1.2060272027552128 \n",
      "\n",
      "100%|██████████| 100/100 [1:01:24<00:00, 36.85s/it]\n",
      "INFO:root: \n",
      " Results after 100 global rounds of training:\n",
      "INFO:root:|---- Best Test Accuracy: 66.86% , round: 99\n"
     ]
    },
    {
     "name": "stdout",
     "output_type": "stream",
     "text": [
      " Saving checkpoints to ../save/checkpoint/ConvNet_1207/cifar10_ConvNet_none_T[100]_C[0.2]_iid[0]_E[10]_B[32]_GPU[0]_Pruned[0.0]...\n"
     ]
    }
   ],
   "source": [
    " args = easydict.EasyDict({\n",
    "    \"model\": 'ConvNet',\n",
    "    'dataset': 'cifar10',\n",
    "    'gpu': 0,\n",
    "    'iid': 0,\n",
    "    'epochs': 100,\n",
    "    'optimizer': 'sgd',\n",
    "    'seed': 0,\n",
    "    'norm': 'none',\n",
    "    'num_users': 50,\n",
    "    'frac': 0.2,\n",
    "    'local_ep': 10, \n",
    "    'local_bs': 32,\n",
    "    'lr': 0.01,\n",
    "    'momentum': 1,\n",
    "    'kernel_num': 9,\n",
    "    'kernel_sizes': 'centering',\n",
    "    'num_channnels': '1',\n",
    "    'num_filters': 32,\n",
    "    'max_pool': 'True',\n",
    "    'num_classes': 10,\n",
    "    'unequal': 0,\n",
    "    'stopping_rounds': 0,\n",
    "    'verbose': 0,\n",
    "    'hold_normalize': 0,\n",
    "    'save_path': '../save/checkpoint',\n",
    "    'exp_folder': 'ConvNet_1207',\n",
    "    'resume': None,\n",
    "    'server_opt': 'sgdm',\n",
    "    'server_lr': 1.0,\n",
    "    'client_decay':0,\n",
    "    'local_decay':0,\n",
    "    'alpha': 0.05,\n",
    "    'server_epoch':0,\n",
    "    'cosine_norm':0, \n",
    "    'only_fc' :0 ,\n",
    "    'loss':'ce',\n",
    "    'dc_lr':0.0,\n",
    "    'tsne_pred':0,\n",
    "    'pruning': 0.0 })\n",
    "    \n",
    "    \n",
    "    \n",
    "temp = main_test(args)\n",
    "total.append(temp)"
   ]
  },
  {
   "cell_type": "code",
   "execution_count": 8,
   "id": "varying-french",
   "metadata": {},
   "outputs": [
    {
     "name": "stderr",
     "output_type": "stream",
     "text": [
      "INFO:root:{'model': 'ConvNet', 'dataset': 'cifar10', 'gpu': 0, 'iid': 0, 'epochs': 100, 'optimizer': 'sgd', 'seed': 0, 'norm': 'none', 'num_users': 50, 'frac': 0.2, 'local_ep': 10, 'local_bs': 32, 'lr': 0.01, 'momentum': 1, 'kernel_num': 9, 'kernel_sizes': 'centering', 'num_channnels': '1', 'num_filters': 32, 'max_pool': 'True', 'num_classes': 10, 'unequal': 0, 'stopping_rounds': 0, 'verbose': 0, 'hold_normalize': 0, 'save_path': '../save/checkpoint/ConvNet_1207', 'exp_folder': 'ConvNet_1207', 'resume': None, 'server_opt': 'sgd', 'server_lr': 1.0, 'client_decay': 0, 'local_decay': 0, 'alpha': 0.05, 'server_epoch': 0, 'cosine_norm': 0, 'only_fc': 0, 'loss': 'bsm', 'dc_lr': 0.0, 'tsne_pred': 0, 'pruning': 0.0}\n"
     ]
    },
    {
     "name": "stdout",
     "output_type": "stream",
     "text": [
      "Files already downloaded and verified\n",
      "Files already downloaded and verified\n",
      "Files already downloaded and verified\n"
     ]
    },
    {
     "name": "stderr",
     "output_type": "stream",
     "text": [
      "INFO:root:ConvNet(\n",
      "  (net_act): ReLU(inplace=True)\n",
      "  (net_pooling): MaxPool2d(kernel_size=2, stride=2, padding=0, dilation=1, ceil_mode=False)\n",
      "  (features): Sequential(\n",
      "    (0): Conv2d(3, 128, kernel_size=(3, 3), stride=(1, 1), padding=(1, 1))\n",
      "    (1): ReLU(inplace=True)\n",
      "    (2): MaxPool2d(kernel_size=2, stride=2, padding=0, dilation=1, ceil_mode=False)\n",
      "    (3): Conv2d(128, 128, kernel_size=(3, 3), stride=(1, 1), padding=(1, 1))\n",
      "    (4): ReLU(inplace=True)\n",
      "    (5): MaxPool2d(kernel_size=2, stride=2, padding=0, dilation=1, ceil_mode=False)\n",
      "    (6): Conv2d(128, 128, kernel_size=(3, 3), stride=(1, 1), padding=(1, 1))\n",
      "    (7): ReLU(inplace=True)\n",
      "    (8): MaxPool2d(kernel_size=2, stride=2, padding=0, dilation=1, ceil_mode=False)\n",
      "  )\n",
      "  (classifier): Linear(in_features=2048, out_features=10, bias=True)\n",
      ")\n",
      "INFO:root:None\n",
      "  0%|          | 0/100 [00:00<?, ?it/s]"
     ]
    },
    {
     "name": "stdout",
     "output_type": "stream",
     "text": [
      "----------------------------------------------------------------\n",
      "        Layer (type)               Output Shape         Param #\n",
      "================================================================\n",
      "            Conv2d-1          [-1, 128, 32, 32]           3,584\n",
      "              ReLU-2          [-1, 128, 32, 32]               0\n",
      "              ReLU-3          [-1, 128, 32, 32]               0\n",
      "         MaxPool2d-4          [-1, 128, 16, 16]               0\n",
      "         MaxPool2d-5          [-1, 128, 16, 16]               0\n",
      "            Conv2d-6          [-1, 128, 16, 16]         147,584\n",
      "              ReLU-7          [-1, 128, 16, 16]               0\n",
      "              ReLU-8          [-1, 128, 16, 16]               0\n",
      "         MaxPool2d-9            [-1, 128, 8, 8]               0\n",
      "        MaxPool2d-10            [-1, 128, 8, 8]               0\n",
      "           Conv2d-11            [-1, 128, 8, 8]         147,584\n",
      "             ReLU-12            [-1, 128, 8, 8]               0\n",
      "             ReLU-13            [-1, 128, 8, 8]               0\n",
      "        MaxPool2d-14            [-1, 128, 4, 4]               0\n",
      "        MaxPool2d-15            [-1, 128, 4, 4]               0\n",
      "           Linear-16                   [-1, 10]          20,490\n",
      "================================================================\n",
      "Total params: 319,242\n",
      "Trainable params: 319,242\n",
      "Non-trainable params: 0\n",
      "----------------------------------------------------------------\n",
      "Input size (MB): 0.01\n",
      "Forward/backward pass size (MB): 4.59\n",
      "Params size (MB): 1.22\n",
      "Estimated Total Size (MB): 5.82\n",
      "----------------------------------------------------------------\n",
      "[209, 1756, 422, 2575, 1018, 602, 2274, 447, 744, 1112, 123, 87, 1433, 1416, 40, 1119, 796, 794, 327, 470, 231, 813, 1320, 542, 690, 2195, 2934, 106, 1012, 15, 278, 1798, 303, 590, 2029, 201, 1053, 862, 231, 116, 4600, 19, 286, 1736, 2430, 431, 3195, 1780, 173, 267]\n",
      "[470, 2934, 201, 231, 2575, 744, 15, 123, 1119, 4600]\n"
     ]
    },
    {
     "name": "stderr",
     "output_type": "stream",
     "text": [
      "INFO:root: \n",
      "Avg Training Stats after 1 global rounds:\n",
      "INFO:root:Train Accuracy: 0.00%\n",
      "INFO:root:Training Loss : 0.25849472064419554\n",
      "INFO:root:Test Accuracy: 24.62%\n",
      "INFO:root:Test Loss: 2.2244501793384552 \n",
      "\n",
      "  1%|          | 1/100 [00:42<1:09:31, 42.14s/it]"
     ]
    },
    {
     "name": "stdout",
     "output_type": "stream",
     "text": [
      "[231, 173, 2575, 1736, 2430, 123, 4600, 690, 1012, 447]\n"
     ]
    },
    {
     "name": "stderr",
     "output_type": "stream",
     "text": [
      "INFO:root: \n",
      "Avg Training Stats after 2 global rounds:\n",
      "INFO:root:Train Accuracy: 0.00%\n",
      "INFO:root:Training Loss : 0.4069342518449385\n",
      "INFO:root:Test Accuracy: 26.48%\n",
      "INFO:root:Test Loss: 2.075540641546249 \n",
      "\n",
      "  2%|▏         | 2/100 [01:25<1:10:28, 43.15s/it]"
     ]
    },
    {
     "name": "stdout",
     "output_type": "stream",
     "text": [
      "[744, 2575, 1320, 470, 2430, 2274, 267, 690, 209, 303]\n"
     ]
    },
    {
     "name": "stderr",
     "output_type": "stream",
     "text": [
      "INFO:root: \n",
      "Avg Training Stats after 3 global rounds:\n",
      "INFO:root:Train Accuracy: 0.00%\n",
      "INFO:root:Training Loss : 0.30024044898878166\n",
      "INFO:root:Test Accuracy: 26.83%\n",
      "INFO:root:Test Loss: 1.990322663784027 \n",
      "\n",
      "  3%|▎         | 3/100 [02:04<1:06:31, 41.15s/it]"
     ]
    },
    {
     "name": "stdout",
     "output_type": "stream",
     "text": [
      "[173, 690, 542, 1012, 2195, 1780, 1053, 87, 2934, 1736]\n"
     ]
    },
    {
     "name": "stderr",
     "output_type": "stream",
     "text": [
      "INFO:root: \n",
      "Avg Training Stats after 4 global rounds:\n",
      "INFO:root:Train Accuracy: 0.00%\n",
      "INFO:root:Training Loss : 0.4463794272745929\n",
      "INFO:root:Test Accuracy: 27.73%\n",
      "INFO:root:Test Loss: 1.8968950247764587 \n",
      "\n",
      "  4%|▍         | 4/100 [02:45<1:05:21, 40.85s/it]"
     ]
    },
    {
     "name": "stdout",
     "output_type": "stream",
     "text": [
      "[2430, 2575, 1736, 123, 15, 1780, 1018, 231, 87, 794]\n"
     ]
    },
    {
     "name": "stderr",
     "output_type": "stream",
     "text": [
      "INFO:root: \n",
      "Avg Training Stats after 5 global rounds:\n",
      "INFO:root:Train Accuracy: 0.00%\n",
      "INFO:root:Training Loss : 0.29069411246451304\n",
      "INFO:root:Test Accuracy: 29.17%\n",
      "INFO:root:Test Loss: 1.8490684407949447 \n",
      "\n",
      "  5%|▌         | 5/100 [03:22<1:02:43, 39.62s/it]"
     ]
    },
    {
     "name": "stdout",
     "output_type": "stream",
     "text": [
      "[1119, 87, 590, 794, 813, 303, 1320, 690, 1018, 422]\n"
     ]
    },
    {
     "name": "stderr",
     "output_type": "stream",
     "text": [
      "INFO:root: \n",
      "Avg Training Stats after 6 global rounds:\n",
      "INFO:root:Train Accuracy: 0.00%\n",
      "INFO:root:Training Loss : 0.2204701592269538\n",
      "INFO:root:Test Accuracy: 33.13%\n",
      "INFO:root:Test Loss: 1.7665351879596711 \n",
      "\n",
      "  6%|▌         | 6/100 [03:53<57:32, 36.73s/it]  "
     ]
    },
    {
     "name": "stdout",
     "output_type": "stream",
     "text": [
      "[2029, 1433, 303, 327, 744, 862, 2934, 231, 1416, 278]\n"
     ]
    },
    {
     "name": "stderr",
     "output_type": "stream",
     "text": [
      "INFO:root: \n",
      "Avg Training Stats after 7 global rounds:\n",
      "INFO:root:Train Accuracy: 0.00%\n",
      "INFO:root:Training Loss : 0.33317642235308\n",
      "INFO:root:Test Accuracy: 33.31%\n",
      "INFO:root:Test Loss: 1.7271222913265227 \n",
      "\n",
      "  7%|▋         | 7/100 [04:31<57:24, 37.04s/it]"
     ]
    },
    {
     "name": "stdout",
     "output_type": "stream",
     "text": [
      "[231, 1112, 327, 744, 286, 422, 15, 1798, 1053, 173]\n"
     ]
    },
    {
     "name": "stderr",
     "output_type": "stream",
     "text": [
      "INFO:root: \n",
      "Avg Training Stats after 8 global rounds:\n",
      "INFO:root:Train Accuracy: 0.00%\n",
      "INFO:root:Training Loss : 0.3367820931245589\n",
      "INFO:root:Test Accuracy: 34.48%\n",
      "INFO:root:Test Loss: 1.7011682641506196 \n",
      "\n",
      "  8%|▊         | 8/100 [05:01<53:10, 34.68s/it]"
     ]
    },
    {
     "name": "stdout",
     "output_type": "stream",
     "text": [
      "[794, 278, 744, 862, 303, 19, 2274, 1053, 813, 1012]\n"
     ]
    },
    {
     "name": "stderr",
     "output_type": "stream",
     "text": [
      "INFO:root: \n",
      "Avg Training Stats after 9 global rounds:\n",
      "INFO:root:Train Accuracy: 0.00%\n",
      "INFO:root:Training Loss : 0.1882960864467384\n",
      "INFO:root:Test Accuracy: 36.47%\n",
      "INFO:root:Test Loss: 1.6599565643072127 \n",
      "\n",
      "  9%|▉         | 9/100 [05:33<51:45, 34.13s/it]"
     ]
    },
    {
     "name": "stdout",
     "output_type": "stream",
     "text": [
      "[1320, 40, 1756, 470, 327, 1012, 862, 1433, 796, 231]\n"
     ]
    },
    {
     "name": "stderr",
     "output_type": "stream",
     "text": [
      "INFO:root: \n",
      "Avg Training Stats after 10 global rounds:\n",
      "INFO:root:Train Accuracy: 0.00%\n",
      "INFO:root:Training Loss : 0.16974683414713987\n",
      "INFO:root:Test Accuracy: 38.84%\n",
      "INFO:root:Test Loss: 1.6252599585056304 \n",
      "\n",
      " 10%|█         | 10/100 [06:07<50:52, 33.92s/it]"
     ]
    },
    {
     "name": "stdout",
     "output_type": "stream",
     "text": [
      "[87, 201, 1798, 813, 123, 2934, 1756, 231, 1053, 4600]\n"
     ]
    },
    {
     "name": "stderr",
     "output_type": "stream",
     "text": [
      "INFO:root: \n",
      "Avg Training Stats after 11 global rounds:\n",
      "INFO:root:Train Accuracy: 0.00%\n",
      "INFO:root:Training Loss : 0.22509207945830365\n",
      "INFO:root:Test Accuracy: 40.40%\n",
      "INFO:root:Test Loss: 1.588870358467102 \n",
      "\n",
      " 11%|█         | 11/100 [06:49<54:12, 36.55s/it]"
     ]
    },
    {
     "name": "stdout",
     "output_type": "stream",
     "text": [
      "[106, 231, 447, 796, 209, 1798, 1112, 1416, 590, 794]\n"
     ]
    },
    {
     "name": "stderr",
     "output_type": "stream",
     "text": [
      "INFO:root: \n",
      "Avg Training Stats after 12 global rounds:\n",
      "INFO:root:Train Accuracy: 0.00%\n",
      "INFO:root:Training Loss : 0.15832359824466322\n",
      "INFO:root:Test Accuracy: 41.13%\n",
      "INFO:root:Test Loss: 1.5746895509958267 \n",
      "\n",
      " 12%|█▏        | 12/100 [07:21<51:33, 35.15s/it]"
     ]
    },
    {
     "name": "stdout",
     "output_type": "stream",
     "text": [
      "[1320, 278, 862, 2274, 1798, 87, 2029, 796, 1018, 2430]\n"
     ]
    },
    {
     "name": "stderr",
     "output_type": "stream",
     "text": [
      "INFO:root: \n",
      "Avg Training Stats after 13 global rounds:\n",
      "INFO:root:Train Accuracy: 0.00%\n",
      "INFO:root:Training Loss : 0.1962497425281698\n",
      "INFO:root:Test Accuracy: 43.01%\n",
      "INFO:root:Test Loss: 1.5398282307386397 \n",
      "\n",
      " 13%|█▎        | 13/100 [08:03<53:45, 37.08s/it]"
     ]
    },
    {
     "name": "stdout",
     "output_type": "stream",
     "text": [
      "[4600, 2575, 590, 173, 2430, 40, 1112, 87, 231, 2195]\n"
     ]
    },
    {
     "name": "stderr",
     "output_type": "stream",
     "text": [
      "INFO:root: \n",
      "Avg Training Stats after 14 global rounds:\n",
      "INFO:root:Train Accuracy: 0.00%\n",
      "INFO:root:Training Loss : 0.2400968263978264\n",
      "INFO:root:Test Accuracy: 44.68%\n",
      "INFO:root:Test Loss: 1.4903727573156358 \n",
      "\n",
      " 14%|█▍        | 14/100 [08:46<55:49, 38.94s/it]"
     ]
    },
    {
     "name": "stdout",
     "output_type": "stream",
     "text": [
      "[231, 794, 1018, 1012, 15, 303, 796, 2274, 1320, 19]\n"
     ]
    },
    {
     "name": "stderr",
     "output_type": "stream",
     "text": [
      "INFO:root: \n",
      "Avg Training Stats after 15 global rounds:\n",
      "INFO:root:Train Accuracy: 0.00%\n",
      "INFO:root:Training Loss : 0.14819854365609053\n",
      "INFO:root:Test Accuracy: 45.44%\n",
      "INFO:root:Test Loss: 1.4776285713911057 \n",
      "\n",
      " 15%|█▌        | 15/100 [09:18<52:18, 36.93s/it]"
     ]
    },
    {
     "name": "stdout",
     "output_type": "stream",
     "text": [
      "[2195, 40, 2029, 862, 2575, 1433, 447, 19, 4600, 796]\n"
     ]
    },
    {
     "name": "stderr",
     "output_type": "stream",
     "text": [
      "INFO:root: \n",
      "Avg Training Stats after 16 global rounds:\n",
      "INFO:root:Train Accuracy: 0.00%\n",
      "INFO:root:Training Loss : 0.17391892882372756\n",
      "INFO:root:Test Accuracy: 46.05%\n",
      "INFO:root:Test Loss: 1.4579359996318817 \n",
      "\n",
      " 16%|█▌        | 16/100 [10:04<55:10, 39.41s/it]"
     ]
    },
    {
     "name": "stdout",
     "output_type": "stream",
     "text": [
      "[231, 173, 303, 2274, 796, 116, 1798, 447, 106, 1433]\n"
     ]
    },
    {
     "name": "stderr",
     "output_type": "stream",
     "text": [
      "INFO:root: \n",
      "Avg Training Stats after 17 global rounds:\n",
      "INFO:root:Train Accuracy: 0.00%\n",
      "INFO:root:Training Loss : 0.1629068018205539\n",
      "INFO:root:Test Accuracy: 46.25%\n",
      "INFO:root:Test Loss: 1.4595585584640502 \n",
      "\n",
      " 17%|█▋        | 17/100 [10:36<51:30, 37.23s/it]"
     ]
    },
    {
     "name": "stdout",
     "output_type": "stream",
     "text": [
      "[201, 1756, 796, 1320, 813, 542, 116, 173, 794, 1798]\n"
     ]
    },
    {
     "name": "stderr",
     "output_type": "stream",
     "text": [
      "INFO:root: \n",
      "Avg Training Stats after 18 global rounds:\n",
      "INFO:root:Train Accuracy: 0.00%\n",
      "INFO:root:Training Loss : 0.21831815993882292\n",
      "INFO:root:Test Accuracy: 46.33%\n",
      "INFO:root:Test Loss: 1.4598569482564927 \n",
      "\n",
      " 18%|█▊        | 18/100 [11:09<49:12, 36.01s/it]"
     ]
    },
    {
     "name": "stdout",
     "output_type": "stream",
     "text": [
      "[15, 1780, 19, 744, 2575, 173, 813, 40, 1320, 422]\n"
     ]
    },
    {
     "name": "stderr",
     "output_type": "stream",
     "text": [
      "INFO:root: \n",
      "Avg Training Stats after 19 global rounds:\n",
      "INFO:root:Train Accuracy: 0.00%\n",
      "INFO:root:Training Loss : 0.21782143781018207\n",
      "INFO:root:Test Accuracy: 46.21%\n",
      "INFO:root:Test Loss: 1.446689869761467 \n",
      "\n",
      " 19%|█▉        | 19/100 [11:41<47:08, 34.92s/it]"
     ]
    },
    {
     "name": "stdout",
     "output_type": "stream",
     "text": [
      "[813, 1736, 15, 1433, 267, 470, 3195, 744, 2575, 231]\n"
     ]
    },
    {
     "name": "stderr",
     "output_type": "stream",
     "text": [
      "INFO:root: \n",
      "Avg Training Stats after 20 global rounds:\n",
      "INFO:root:Train Accuracy: 0.00%\n",
      "INFO:root:Training Loss : 0.15474773260455793\n",
      "INFO:root:Test Accuracy: 46.69%\n",
      "INFO:root:Test Loss: 1.4356689476966857 \n",
      "\n",
      " 20%|██        | 20/100 [12:21<48:19, 36.24s/it]"
     ]
    },
    {
     "name": "stdout",
     "output_type": "stream",
     "text": [
      "[278, 744, 1053, 447, 1320, 116, 1798, 19, 4600, 3195]\n"
     ]
    },
    {
     "name": "stderr",
     "output_type": "stream",
     "text": [
      "INFO:root: \n",
      "Avg Training Stats after 21 global rounds:\n",
      "INFO:root:Train Accuracy: 0.00%\n",
      "INFO:root:Training Loss : 0.23806359280609346\n",
      "INFO:root:Test Accuracy: 47.57%\n",
      "INFO:root:Test Loss: 1.4272573810815812 \n",
      "\n",
      " 21%|██        | 21/100 [13:03<50:19, 38.22s/it]"
     ]
    },
    {
     "name": "stdout",
     "output_type": "stream",
     "text": [
      "[813, 2029, 602, 590, 1756, 106, 1780, 40, 19, 2934]\n"
     ]
    },
    {
     "name": "stderr",
     "output_type": "stream",
     "text": [
      "INFO:root: \n",
      "Avg Training Stats after 22 global rounds:\n",
      "INFO:root:Train Accuracy: 0.00%\n",
      "INFO:root:Training Loss : 0.1197990501407542\n",
      "INFO:root:Test Accuracy: 47.71%\n",
      "INFO:root:Test Loss: 1.416335972547531 \n",
      "\n",
      " 22%|██▏       | 22/100 [13:41<49:21, 37.97s/it]"
     ]
    },
    {
     "name": "stdout",
     "output_type": "stream",
     "text": [
      "[40, 862, 327, 1780, 2274, 106, 1053, 1112, 1012, 3195]\n"
     ]
    },
    {
     "name": "stderr",
     "output_type": "stream",
     "text": [
      "INFO:root: \n",
      "Avg Training Stats after 23 global rounds:\n",
      "INFO:root:Train Accuracy: 0.00%\n",
      "INFO:root:Training Loss : 0.20547990094367652\n",
      "INFO:root:Test Accuracy: 48.67%\n",
      "INFO:root:Test Loss: 1.3942025643587113 \n",
      "\n",
      " 23%|██▎       | 23/100 [14:20<49:21, 38.46s/it]"
     ]
    },
    {
     "name": "stdout",
     "output_type": "stream",
     "text": [
      "[1320, 1119, 862, 744, 1053, 87, 201, 470, 2274, 1012]\n"
     ]
    },
    {
     "name": "stderr",
     "output_type": "stream",
     "text": [
      "INFO:root: \n",
      "Avg Training Stats after 24 global rounds:\n",
      "INFO:root:Train Accuracy: 0.00%\n",
      "INFO:root:Training Loss : 0.18897759042333734\n",
      "INFO:root:Test Accuracy: 49.44%\n",
      "INFO:root:Test Loss: 1.380307052731514 \n",
      "\n",
      " 24%|██▍       | 24/100 [14:55<47:20, 37.37s/it]"
     ]
    },
    {
     "name": "stdout",
     "output_type": "stream",
     "text": [
      "[447, 286, 1416, 87, 796, 1798, 231, 1119, 431, 2195]\n"
     ]
    },
    {
     "name": "stderr",
     "output_type": "stream",
     "text": [
      "INFO:root: \n",
      "Avg Training Stats after 25 global rounds:\n",
      "INFO:root:Train Accuracy: 0.00%\n",
      "INFO:root:Training Loss : 0.23712226058471808\n",
      "INFO:root:Test Accuracy: 49.57%\n",
      "INFO:root:Test Loss: 1.3721300730109214 \n",
      "\n",
      " 25%|██▌       | 25/100 [15:30<45:33, 36.44s/it]"
     ]
    },
    {
     "name": "stdout",
     "output_type": "stream",
     "text": [
      "[116, 2029, 690, 1416, 1780, 602, 2575, 1756, 431, 87]\n"
     ]
    },
    {
     "name": "stderr",
     "output_type": "stream",
     "text": [
      "INFO:root: \n",
      "Avg Training Stats after 26 global rounds:\n",
      "INFO:root:Train Accuracy: 0.00%\n",
      "INFO:root:Training Loss : 0.27171668040217795\n",
      "INFO:root:Test Accuracy: 49.74%\n",
      "INFO:root:Test Loss: 1.3676332342624664 \n",
      "\n",
      " 26%|██▌       | 26/100 [16:09<45:58, 37.28s/it]"
     ]
    },
    {
     "name": "stdout",
     "output_type": "stream",
     "text": [
      "[87, 173, 2029, 19, 4600, 2195, 116, 303, 40, 209]\n"
     ]
    },
    {
     "name": "stderr",
     "output_type": "stream",
     "text": [
      "INFO:root: \n",
      "Avg Training Stats after 27 global rounds:\n",
      "INFO:root:Train Accuracy: 0.00%\n",
      "INFO:root:Training Loss : 0.2501499163481296\n",
      "INFO:root:Test Accuracy: 51.19%\n",
      "INFO:root:Test Loss: 1.3394143849611282 \n",
      "\n",
      " 27%|██▋       | 27/100 [16:44<44:46, 36.80s/it]"
     ]
    },
    {
     "name": "stdout",
     "output_type": "stream",
     "text": [
      "[4600, 267, 794, 231, 201, 231, 2934, 590, 470, 173]\n"
     ]
    },
    {
     "name": "stderr",
     "output_type": "stream",
     "text": [
      "INFO:root: \n",
      "Avg Training Stats after 28 global rounds:\n",
      "INFO:root:Train Accuracy: 0.00%\n",
      "INFO:root:Training Loss : 0.21959856679294373\n",
      "INFO:root:Test Accuracy: 51.44%\n",
      "INFO:root:Test Loss: 1.3410112518072128 \n",
      "\n",
      " 28%|██▊       | 28/100 [17:22<44:16, 36.89s/it]"
     ]
    },
    {
     "name": "stdout",
     "output_type": "stream",
     "text": [
      "[1798, 286, 123, 1112, 303, 796, 744, 1320, 231, 794]\n"
     ]
    },
    {
     "name": "stderr",
     "output_type": "stream",
     "text": [
      "INFO:root: \n",
      "Avg Training Stats after 29 global rounds:\n",
      "INFO:root:Train Accuracy: 0.00%\n",
      "INFO:root:Training Loss : 0.0966347986956466\n",
      "INFO:root:Test Accuracy: 51.12%\n",
      "INFO:root:Test Loss: 1.3411954218149185 \n",
      "\n",
      " 29%|██▉       | 29/100 [17:53<41:52, 35.39s/it]"
     ]
    },
    {
     "name": "stdout",
     "output_type": "stream",
     "text": [
      "[303, 4600, 1119, 447, 744, 40, 1756, 2430, 2029, 602]\n"
     ]
    },
    {
     "name": "stderr",
     "output_type": "stream",
     "text": [
      "INFO:root: \n",
      "Avg Training Stats after 30 global rounds:\n",
      "INFO:root:Train Accuracy: 0.00%\n",
      "INFO:root:Training Loss : 0.11607902409076461\n",
      "INFO:root:Test Accuracy: 52.20%\n",
      "INFO:root:Test Loss: 1.3170821952819824 \n",
      "\n",
      " 30%|███       | 30/100 [18:37<44:08, 37.83s/it]"
     ]
    },
    {
     "name": "stdout",
     "output_type": "stream",
     "text": [
      "[422, 3195, 1112, 327, 123, 1736, 303, 286, 106, 1433]\n"
     ]
    },
    {
     "name": "stderr",
     "output_type": "stream",
     "text": [
      "INFO:root: \n",
      "Avg Training Stats after 31 global rounds:\n",
      "INFO:root:Train Accuracy: 0.00%\n",
      "INFO:root:Training Loss : 0.15219878422051228\n",
      "INFO:root:Test Accuracy: 51.23%\n",
      "INFO:root:Test Loss: 1.3329850441217423 \n",
      "\n",
      " 31%|███       | 31/100 [19:12<42:22, 36.85s/it]"
     ]
    },
    {
     "name": "stdout",
     "output_type": "stream",
     "text": [
      "[862, 173, 422, 303, 123, 1012, 542, 278, 431, 2195]\n"
     ]
    },
    {
     "name": "stderr",
     "output_type": "stream",
     "text": [
      "INFO:root: \n",
      "Avg Training Stats after 32 global rounds:\n",
      "INFO:root:Train Accuracy: 0.00%\n",
      "INFO:root:Training Loss : 0.26489270537204485\n",
      "INFO:root:Test Accuracy: 51.90%\n",
      "INFO:root:Test Loss: 1.321177523136139 \n",
      "\n",
      " 32%|███▏      | 32/100 [19:41<39:24, 34.77s/it]"
     ]
    },
    {
     "name": "stdout",
     "output_type": "stream",
     "text": [
      "[1320, 15, 19, 1756, 231, 470, 267, 87, 862, 327]\n"
     ]
    },
    {
     "name": "stderr",
     "output_type": "stream",
     "text": [
      "INFO:root: \n",
      "Avg Training Stats after 33 global rounds:\n",
      "INFO:root:Train Accuracy: 0.00%\n",
      "INFO:root:Training Loss : 0.2269324968001011\n",
      "INFO:root:Test Accuracy: 51.13%\n",
      "INFO:root:Test Loss: 1.3419414740800857 \n",
      "\n",
      " 33%|███▎      | 33/100 [20:10<36:38, 32.81s/it]"
     ]
    },
    {
     "name": "stdout",
     "output_type": "stream",
     "text": [
      "[87, 267, 796, 1053, 1433, 2575, 1119, 794, 15, 327]\n"
     ]
    },
    {
     "name": "stderr",
     "output_type": "stream",
     "text": [
      "INFO:root: \n",
      "Avg Training Stats after 34 global rounds:\n",
      "INFO:root:Train Accuracy: 0.00%\n",
      "INFO:root:Training Loss : 0.17830499374586023\n",
      "INFO:root:Test Accuracy: 52.48%\n",
      "INFO:root:Test Loss: 1.309267654120922 \n",
      "\n",
      " 34%|███▍      | 34/100 [20:43<36:19, 33.02s/it]"
     ]
    },
    {
     "name": "stdout",
     "output_type": "stream",
     "text": [
      "[422, 1798, 590, 796, 19, 1320, 173, 1416, 1053, 4600]\n"
     ]
    },
    {
     "name": "stderr",
     "output_type": "stream",
     "text": [
      "INFO:root: \n",
      "Avg Training Stats after 35 global rounds:\n",
      "INFO:root:Train Accuracy: 0.00%\n",
      "INFO:root:Training Loss : 0.2207241183472052\n",
      "INFO:root:Test Accuracy: 53.96%\n",
      "INFO:root:Test Loss: 1.2917036443948746 \n",
      "\n",
      " 35%|███▌      | 35/100 [21:23<38:05, 35.16s/it]"
     ]
    },
    {
     "name": "stdout",
     "output_type": "stream",
     "text": [
      "[2430, 1320, 602, 3195, 231, 2934, 431, 794, 1416, 542]\n"
     ]
    },
    {
     "name": "stderr",
     "output_type": "stream",
     "text": [
      "INFO:root: \n",
      "Avg Training Stats after 36 global rounds:\n",
      "INFO:root:Train Accuracy: 0.00%\n",
      "INFO:root:Training Loss : 0.1812073014041609\n",
      "INFO:root:Test Accuracy: 53.88%\n",
      "INFO:root:Test Loss: 1.2793887582421304 \n",
      "\n",
      " 36%|███▌      | 36/100 [22:07<40:11, 37.68s/it]"
     ]
    },
    {
     "name": "stdout",
     "output_type": "stream",
     "text": [
      "[15, 813, 1112, 123, 40, 796, 2274, 1018, 2195, 201]\n"
     ]
    },
    {
     "name": "stderr",
     "output_type": "stream",
     "text": [
      "INFO:root: \n",
      "Avg Training Stats after 37 global rounds:\n",
      "INFO:root:Train Accuracy: 0.00%\n",
      "INFO:root:Training Loss : 0.13150799153251033\n",
      "INFO:root:Test Accuracy: 53.14%\n",
      "INFO:root:Test Loss: 1.3022332200407982 \n",
      "\n",
      " 37%|███▋      | 37/100 [22:41<38:18, 36.48s/it]"
     ]
    },
    {
     "name": "stdout",
     "output_type": "stream",
     "text": [
      "[303, 2195, 422, 1112, 1433, 116, 796, 602, 1756, 231]\n"
     ]
    },
    {
     "name": "stderr",
     "output_type": "stream",
     "text": [
      "INFO:root: \n",
      "Avg Training Stats after 38 global rounds:\n",
      "INFO:root:Train Accuracy: 0.00%\n",
      "INFO:root:Training Loss : 0.18625670933538974\n",
      "INFO:root:Test Accuracy: 53.52%\n",
      "INFO:root:Test Loss: 1.2866169175505637 \n",
      "\n",
      " 38%|███▊      | 38/100 [23:15<37:06, 35.91s/it]"
     ]
    },
    {
     "name": "stdout",
     "output_type": "stream",
     "text": [
      "[1756, 231, 267, 2430, 590, 1736, 15, 4600, 327, 1112]\n"
     ]
    },
    {
     "name": "stderr",
     "output_type": "stream",
     "text": [
      "INFO:root: \n",
      "Avg Training Stats after 39 global rounds:\n",
      "INFO:root:Train Accuracy: 0.00%\n",
      "INFO:root:Training Loss : 0.16551776420723424\n",
      "INFO:root:Test Accuracy: 55.55%\n",
      "INFO:root:Test Loss: 1.2414965051412583 \n",
      "\n",
      " 39%|███▉      | 39/100 [23:57<38:18, 37.69s/it]"
     ]
    },
    {
     "name": "stdout",
     "output_type": "stream",
     "text": [
      "[2575, 422, 3195, 862, 231, 796, 2934, 123, 2430, 794]\n"
     ]
    },
    {
     "name": "stderr",
     "output_type": "stream",
     "text": [
      "INFO:root: \n",
      "Avg Training Stats after 40 global rounds:\n",
      "INFO:root:Train Accuracy: 0.00%\n",
      "INFO:root:Training Loss : 0.1583125470894882\n",
      "INFO:root:Test Accuracy: 54.20%\n",
      "INFO:root:Test Loss: 1.2657598248124122 \n",
      "\n",
      " 40%|████      | 40/100 [24:41<39:39, 39.65s/it]"
     ]
    },
    {
     "name": "stdout",
     "output_type": "stream",
     "text": [
      "[231, 1119, 1736, 278, 447, 1018, 286, 744, 690, 173]\n"
     ]
    },
    {
     "name": "stderr",
     "output_type": "stream",
     "text": [
      "INFO:root: \n",
      "Avg Training Stats after 41 global rounds:\n",
      "INFO:root:Train Accuracy: 0.00%\n",
      "INFO:root:Training Loss : 0.18609307069617648\n",
      "INFO:root:Test Accuracy: 53.57%\n",
      "INFO:root:Test Loss: 1.291475995182991 \n",
      "\n",
      " 41%|████      | 41/100 [25:12<36:14, 36.86s/it]"
     ]
    },
    {
     "name": "stdout",
     "output_type": "stream",
     "text": [
      "[231, 1320, 1416, 2575, 2274, 862, 690, 602, 1012, 173]\n"
     ]
    },
    {
     "name": "stderr",
     "output_type": "stream",
     "text": [
      "INFO:root: \n",
      "Avg Training Stats after 42 global rounds:\n",
      "INFO:root:Train Accuracy: 0.00%\n",
      "INFO:root:Training Loss : 0.18721377856926386\n",
      "INFO:root:Test Accuracy: 55.15%\n",
      "INFO:root:Test Loss: 1.2452107235789298 \n",
      "\n",
      " 42%|████▏     | 42/100 [25:50<36:06, 37.35s/it]"
     ]
    },
    {
     "name": "stdout",
     "output_type": "stream",
     "text": [
      "[1112, 1053, 3195, 2934, 2029, 201, 123, 2195, 1018, 173]\n"
     ]
    },
    {
     "name": "stderr",
     "output_type": "stream",
     "text": [
      "INFO:root: \n",
      "Avg Training Stats after 43 global rounds:\n",
      "INFO:root:Train Accuracy: 0.00%\n",
      "INFO:root:Training Loss : 0.2196385183625023\n",
      "INFO:root:Test Accuracy: 54.77%\n",
      "INFO:root:Test Loss: 1.266053484082222 \n",
      "\n",
      " 43%|████▎     | 43/100 [26:34<37:18, 39.27s/it]"
     ]
    },
    {
     "name": "stdout",
     "output_type": "stream",
     "text": [
      "[862, 1053, 422, 3195, 4600, 794, 1756, 173, 2029, 1018]\n"
     ]
    },
    {
     "name": "stderr",
     "output_type": "stream",
     "text": [
      "INFO:root: \n",
      "Avg Training Stats after 44 global rounds:\n",
      "INFO:root:Train Accuracy: 0.00%\n",
      "INFO:root:Training Loss : 0.21442582965350437\n",
      "INFO:root:Test Accuracy: 57.12%\n",
      "INFO:root:Test Loss: 1.192079829275608 \n",
      "\n",
      " 44%|████▍     | 44/100 [27:20<38:43, 41.49s/it]"
     ]
    },
    {
     "name": "stdout",
     "output_type": "stream",
     "text": [
      "[1320, 2934, 796, 2195, 862, 2575, 2029, 19, 422, 286]\n"
     ]
    },
    {
     "name": "stderr",
     "output_type": "stream",
     "text": [
      "INFO:root: \n",
      "Avg Training Stats after 45 global rounds:\n",
      "INFO:root:Train Accuracy: 0.00%\n",
      "INFO:root:Training Loss : 0.14846148006947632\n",
      "INFO:root:Test Accuracy: 55.09%\n",
      "INFO:root:Test Loss: 1.2500795716047286 \n",
      "\n",
      " 45%|████▌     | 45/100 [28:03<38:19, 41.81s/it]"
     ]
    },
    {
     "name": "stdout",
     "output_type": "stream",
     "text": [
      "[862, 744, 1416, 1112, 590, 542, 278, 690, 116, 1780]\n"
     ]
    },
    {
     "name": "stderr",
     "output_type": "stream",
     "text": [
      "INFO:root: \n",
      "Avg Training Stats after 46 global rounds:\n",
      "INFO:root:Train Accuracy: 0.00%\n",
      "INFO:root:Training Loss : 0.26408006643790544\n",
      "INFO:root:Test Accuracy: 57.71%\n",
      "INFO:root:Test Loss: 1.18395544141531 \n",
      "\n",
      " 46%|████▌     | 46/100 [28:36<35:13, 39.13s/it]"
     ]
    },
    {
     "name": "stdout",
     "output_type": "stream",
     "text": [
      "[2575, 1112, 1320, 231, 3195, 1012, 862, 447, 2195, 201]\n"
     ]
    },
    {
     "name": "stderr",
     "output_type": "stream",
     "text": [
      "INFO:root: \n",
      "Avg Training Stats after 47 global rounds:\n",
      "INFO:root:Train Accuracy: 0.00%\n",
      "INFO:root:Training Loss : 0.12331473652230288\n",
      "INFO:root:Test Accuracy: 56.81%\n",
      "INFO:root:Test Loss: 1.1933186188340188 \n",
      "\n",
      " 47%|████▋     | 47/100 [29:17<35:11, 39.84s/it]"
     ]
    },
    {
     "name": "stdout",
     "output_type": "stream",
     "text": [
      "[1433, 542, 813, 231, 1119, 2029, 1012, 173, 2195, 1320]\n"
     ]
    },
    {
     "name": "stderr",
     "output_type": "stream",
     "text": [
      "INFO:root: \n",
      "Avg Training Stats after 48 global rounds:\n",
      "INFO:root:Train Accuracy: 0.00%\n",
      "INFO:root:Training Loss : 0.13056359696467942\n",
      "INFO:root:Test Accuracy: 57.08%\n",
      "INFO:root:Test Loss: 1.1867930644750595 \n",
      "\n",
      " 48%|████▊     | 48/100 [29:55<34:03, 39.30s/it]"
     ]
    },
    {
     "name": "stdout",
     "output_type": "stream",
     "text": [
      "[744, 2195, 209, 1780, 2575, 123, 327, 40, 1736, 690]\n"
     ]
    },
    {
     "name": "stderr",
     "output_type": "stream",
     "text": [
      "INFO:root: \n",
      "Avg Training Stats after 49 global rounds:\n",
      "INFO:root:Train Accuracy: 0.00%\n",
      "INFO:root:Training Loss : 0.22311153240979995\n",
      "INFO:root:Test Accuracy: 56.98%\n",
      "INFO:root:Test Loss: 1.1939070951938628 \n",
      "\n",
      " 49%|████▉     | 49/100 [30:33<32:51, 38.66s/it]"
     ]
    },
    {
     "name": "stdout",
     "output_type": "stream",
     "text": [
      "[862, 690, 1433, 173, 3195, 2934, 116, 447, 231, 431]\n"
     ]
    },
    {
     "name": "stderr",
     "output_type": "stream",
     "text": [
      "INFO:root: \n",
      "Avg Training Stats after 50 global rounds:\n",
      "INFO:root:Train Accuracy: 0.00%\n",
      "INFO:root:Training Loss : 0.22224837891366675\n",
      "INFO:root:Test Accuracy: 55.66%\n",
      "INFO:root:Test Loss: 1.2245590010285377 \n",
      "\n",
      " 50%|█████     | 50/100 [31:10<31:52, 38.25s/it]"
     ]
    },
    {
     "name": "stdout",
     "output_type": "stream",
     "text": [
      "[1320, 19, 3195, 87, 1756, 303, 813, 2575, 231, 231]\n"
     ]
    },
    {
     "name": "stderr",
     "output_type": "stream",
     "text": [
      "INFO:root: \n",
      "Avg Training Stats after 51 global rounds:\n",
      "INFO:root:Train Accuracy: 0.00%\n",
      "INFO:root:Training Loss : 0.06308552622115052\n",
      "INFO:root:Test Accuracy: 55.55%\n",
      "INFO:root:Test Loss: 1.2357704523205757 \n",
      "\n",
      " 51%|█████     | 51/100 [31:47<31:02, 38.01s/it]"
     ]
    },
    {
     "name": "stdout",
     "output_type": "stream",
     "text": [
      "[40, 813, 1780, 2934, 15, 173, 278, 19, 1798, 267]\n"
     ]
    },
    {
     "name": "stderr",
     "output_type": "stream",
     "text": [
      "INFO:root: \n",
      "Avg Training Stats after 52 global rounds:\n",
      "INFO:root:Train Accuracy: 0.00%\n",
      "INFO:root:Training Loss : 0.15134243201576456\n",
      "INFO:root:Test Accuracy: 56.54%\n",
      "INFO:root:Test Loss: 1.206354945898056 \n",
      "\n",
      " 52%|█████▏    | 52/100 [32:20<29:12, 36.52s/it]"
     ]
    },
    {
     "name": "stdout",
     "output_type": "stream",
     "text": [
      "[267, 231, 690, 173, 1780, 1053, 862, 590, 1433, 303]\n"
     ]
    },
    {
     "name": "stderr",
     "output_type": "stream",
     "text": [
      "INFO:root: \n",
      "Avg Training Stats after 53 global rounds:\n",
      "INFO:root:Train Accuracy: 0.00%\n",
      "INFO:root:Training Loss : 0.20846424233261143\n",
      "INFO:root:Test Accuracy: 57.59%\n",
      "INFO:root:Test Loss: 1.182070589363575 \n",
      "\n",
      " 53%|█████▎    | 53/100 [32:52<27:28, 35.07s/it]"
     ]
    },
    {
     "name": "stdout",
     "output_type": "stream",
     "text": [
      "[431, 3195, 201, 796, 2934, 15, 231, 1112, 1736, 267]\n"
     ]
    },
    {
     "name": "stderr",
     "output_type": "stream",
     "text": [
      "INFO:root: \n",
      "Avg Training Stats after 54 global rounds:\n",
      "INFO:root:Train Accuracy: 0.00%\n",
      "INFO:root:Training Loss : 0.15979472039289316\n",
      "INFO:root:Test Accuracy: 56.63%\n",
      "INFO:root:Test Loss: 1.2112032839655875 \n",
      "\n",
      " 54%|█████▍    | 54/100 [33:30<27:31, 35.91s/it]"
     ]
    },
    {
     "name": "stdout",
     "output_type": "stream",
     "text": [
      "[40, 1320, 1416, 286, 2195, 1012, 201, 116, 1053, 542]\n"
     ]
    },
    {
     "name": "stderr",
     "output_type": "stream",
     "text": [
      "INFO:root: \n",
      "Avg Training Stats after 55 global rounds:\n",
      "INFO:root:Train Accuracy: 0.00%\n",
      "INFO:root:Training Loss : 0.2194466071755919\n",
      "INFO:root:Test Accuracy: 59.23%\n",
      "INFO:root:Test Loss: 1.138890563249588 \n",
      "\n",
      " 55%|█████▌    | 55/100 [34:03<26:19, 35.11s/it]"
     ]
    },
    {
     "name": "stdout",
     "output_type": "stream",
     "text": [
      "[1798, 422, 231, 4600, 231, 2575, 1433, 106, 1320, 862]\n"
     ]
    },
    {
     "name": "stderr",
     "output_type": "stream",
     "text": [
      "INFO:root: \n",
      "Avg Training Stats after 56 global rounds:\n",
      "INFO:root:Train Accuracy: 0.00%\n",
      "INFO:root:Training Loss : 0.10934097770495481\n",
      "INFO:root:Test Accuracy: 59.80%\n",
      "INFO:root:Test Loss: 1.1287590980529785 \n",
      "\n",
      " 56%|█████▌    | 56/100 [34:46<27:28, 37.45s/it]"
     ]
    },
    {
     "name": "stdout",
     "output_type": "stream",
     "text": [
      "[2274, 3195, 267, 2029, 590, 327, 2195, 278, 1756, 813]\n"
     ]
    },
    {
     "name": "stderr",
     "output_type": "stream",
     "text": [
      "INFO:root: \n",
      "Avg Training Stats after 57 global rounds:\n",
      "INFO:root:Train Accuracy: 0.00%\n",
      "INFO:root:Training Loss : 0.14819948095570332\n",
      "INFO:root:Test Accuracy: 59.11%\n",
      "INFO:root:Test Loss: 1.146648240685463 \n",
      "\n",
      " 57%|█████▋    | 57/100 [35:29<28:02, 39.12s/it]"
     ]
    },
    {
     "name": "stdout",
     "output_type": "stream",
     "text": [
      "[1798, 431, 123, 1320, 1416, 231, 2575, 2934, 19, 1756]\n"
     ]
    },
    {
     "name": "stderr",
     "output_type": "stream",
     "text": [
      "INFO:root: \n",
      "Avg Training Stats after 58 global rounds:\n",
      "INFO:root:Train Accuracy: 0.00%\n",
      "INFO:root:Training Loss : 0.128049410916097\n",
      "INFO:root:Test Accuracy: 58.54%\n",
      "INFO:root:Test Loss: 1.1613129782676697 \n",
      "\n",
      " 58%|█████▊    | 58/100 [36:10<27:50, 39.76s/it]"
     ]
    },
    {
     "name": "stdout",
     "output_type": "stream",
     "text": [
      "[1018, 267, 2274, 447, 2029, 690, 590, 303, 1119, 796]\n"
     ]
    },
    {
     "name": "stderr",
     "output_type": "stream",
     "text": [
      "INFO:root: \n",
      "Avg Training Stats after 59 global rounds:\n",
      "INFO:root:Train Accuracy: 0.00%\n",
      "INFO:root:Training Loss : 0.11186355785860895\n",
      "INFO:root:Test Accuracy: 58.00%\n",
      "INFO:root:Test Loss: 1.181543460637331 \n",
      "\n",
      " 59%|█████▉    | 59/100 [36:46<26:15, 38.43s/it]"
     ]
    },
    {
     "name": "stdout",
     "output_type": "stream",
     "text": [
      "[106, 2430, 447, 1433, 1012, 3195, 1119, 1756, 862, 4600]\n",
      "0.1\n"
     ]
    },
    {
     "name": "stderr",
     "output_type": "stream",
     "text": [
      "INFO:root: \n",
      "Avg Training Stats after 60 global rounds:\n",
      "INFO:root:Train Accuracy: 0.00%\n",
      "INFO:root:Training Loss : 0.0783087599201841\n",
      "INFO:root:Test Accuracy: 58.35%\n",
      "INFO:root:Test Loss: 1.1731366711854934 \n",
      "\n",
      " 60%|██████    | 60/100 [37:34<27:40, 41.50s/it]"
     ]
    },
    {
     "name": "stdout",
     "output_type": "stream",
     "text": [
      "[1780, 1320, 286, 2029, 40, 796, 447, 15, 231, 744]\n"
     ]
    },
    {
     "name": "stderr",
     "output_type": "stream",
     "text": [
      "INFO:root: \n",
      "Avg Training Stats after 61 global rounds:\n",
      "INFO:root:Train Accuracy: 0.00%\n",
      "INFO:root:Training Loss : 0.1039122991806222\n",
      "INFO:root:Test Accuracy: 58.63%\n",
      "INFO:root:Test Loss: 1.1667864806950092 \n",
      "\n",
      " 61%|██████    | 61/100 [38:07<25:13, 38.80s/it]"
     ]
    },
    {
     "name": "stdout",
     "output_type": "stream",
     "text": [
      "[116, 15, 2029, 327, 19, 470, 422, 87, 1012, 303]\n"
     ]
    },
    {
     "name": "stderr",
     "output_type": "stream",
     "text": [
      "INFO:root: \n",
      "Avg Training Stats after 62 global rounds:\n",
      "INFO:root:Train Accuracy: 0.00%\n",
      "INFO:root:Training Loss : 0.14521024956157597\n",
      "INFO:root:Test Accuracy: 58.72%\n",
      "INFO:root:Test Loss: 1.1625756254792214 \n",
      "\n",
      " 62%|██████▏   | 62/100 [38:34<22:20, 35.28s/it]"
     ]
    },
    {
     "name": "stdout",
     "output_type": "stream",
     "text": [
      "[796, 2274, 862, 286, 813, 3195, 1112, 422, 1119, 327]\n"
     ]
    },
    {
     "name": "stderr",
     "output_type": "stream",
     "text": [
      "INFO:root: \n",
      "Avg Training Stats after 63 global rounds:\n",
      "INFO:root:Train Accuracy: 0.00%\n",
      "INFO:root:Training Loss : 0.12528136323620073\n",
      "INFO:root:Test Accuracy: 58.73%\n",
      "INFO:root:Test Loss: 1.1624054461717606 \n",
      "\n",
      " 63%|██████▎   | 63/100 [39:12<22:19, 36.21s/it]"
     ]
    },
    {
     "name": "stdout",
     "output_type": "stream",
     "text": [
      "[542, 1798, 690, 15, 267, 2575, 796, 590, 209, 470]\n"
     ]
    },
    {
     "name": "stderr",
     "output_type": "stream",
     "text": [
      "INFO:root: \n",
      "Avg Training Stats after 64 global rounds:\n",
      "INFO:root:Train Accuracy: 0.00%\n",
      "INFO:root:Training Loss : 0.1272940149264908\n",
      "INFO:root:Test Accuracy: 58.72%\n",
      "INFO:root:Test Loss: 1.162804096341133 \n",
      "\n",
      " 64%|██████▍   | 64/100 [39:45<21:05, 35.16s/it]"
     ]
    },
    {
     "name": "stdout",
     "output_type": "stream",
     "text": [
      "[87, 267, 286, 1053, 303, 796, 40, 173, 19, 327]\n"
     ]
    },
    {
     "name": "stderr",
     "output_type": "stream",
     "text": [
      "INFO:root: \n",
      "Avg Training Stats after 65 global rounds:\n",
      "INFO:root:Train Accuracy: 0.00%\n",
      "INFO:root:Training Loss : 0.1837569549810668\n",
      "INFO:root:Test Accuracy: 58.70%\n",
      "INFO:root:Test Loss: 1.1596962895989418 \n",
      "\n",
      " 65%|██████▌   | 65/100 [40:10<18:39, 31.99s/it]"
     ]
    },
    {
     "name": "stdout",
     "output_type": "stream",
     "text": [
      "[813, 542, 106, 123, 4600, 40, 209, 2029, 1736, 2195]\n"
     ]
    },
    {
     "name": "stderr",
     "output_type": "stream",
     "text": [
      "INFO:root: \n",
      "Avg Training Stats after 66 global rounds:\n",
      "INFO:root:Train Accuracy: 0.00%\n",
      "INFO:root:Training Loss : 0.1408562354542126\n",
      "INFO:root:Test Accuracy: 58.93%\n",
      "INFO:root:Test Loss: 1.1535795375704765 \n",
      "\n",
      " 66%|██████▌   | 66/100 [40:50<19:34, 34.56s/it]"
     ]
    },
    {
     "name": "stdout",
     "output_type": "stream",
     "text": [
      "[1416, 1320, 201, 744, 2934, 447, 278, 2430, 1018, 2274]\n"
     ]
    },
    {
     "name": "stderr",
     "output_type": "stream",
     "text": [
      "INFO:root: \n",
      "Avg Training Stats after 67 global rounds:\n",
      "INFO:root:Train Accuracy: 0.00%\n",
      "INFO:root:Training Loss : 0.14940959287695418\n",
      "INFO:root:Test Accuracy: 59.16%\n",
      "INFO:root:Test Loss: 1.1497332969307898 \n",
      "\n",
      " 67%|██████▋   | 67/100 [41:32<20:10, 36.67s/it]"
     ]
    },
    {
     "name": "stdout",
     "output_type": "stream",
     "text": [
      "[303, 1012, 470, 123, 106, 201, 87, 1736, 2934, 2575]\n"
     ]
    },
    {
     "name": "stderr",
     "output_type": "stream",
     "text": [
      "INFO:root: \n",
      "Avg Training Stats after 68 global rounds:\n",
      "INFO:root:Train Accuracy: 0.00%\n",
      "INFO:root:Training Loss : 0.07571402571396887\n",
      "INFO:root:Test Accuracy: 58.90%\n",
      "INFO:root:Test Loss: 1.1549912041425705 \n",
      "\n",
      " 68%|██████▊   | 68/100 [42:08<19:25, 36.42s/it]"
     ]
    },
    {
     "name": "stdout",
     "output_type": "stream",
     "text": [
      "[3195, 794, 690, 2029, 231, 1756, 1112, 1736, 201, 813]\n"
     ]
    },
    {
     "name": "stderr",
     "output_type": "stream",
     "text": [
      "INFO:root: \n",
      "Avg Training Stats after 69 global rounds:\n",
      "INFO:root:Train Accuracy: 0.00%\n",
      "INFO:root:Training Loss : 0.09209669082482069\n",
      "INFO:root:Test Accuracy: 58.85%\n",
      "INFO:root:Test Loss: 1.1546362853050232 \n",
      "\n",
      " 69%|██████▉   | 69/100 [42:48<19:30, 37.74s/it]"
     ]
    },
    {
     "name": "stdout",
     "output_type": "stream",
     "text": [
      "[106, 40, 278, 422, 470, 2029, 2934, 744, 2274, 327]\n"
     ]
    },
    {
     "name": "stderr",
     "output_type": "stream",
     "text": [
      "INFO:root: \n",
      "Avg Training Stats after 70 global rounds:\n",
      "INFO:root:Train Accuracy: 0.00%\n",
      "INFO:root:Training Loss : 0.12410340469799222\n",
      "INFO:root:Test Accuracy: 58.92%\n",
      "INFO:root:Test Loss: 1.1551369267702103 \n",
      "\n",
      " 70%|███████   | 70/100 [43:24<18:34, 37.15s/it]"
     ]
    },
    {
     "name": "stdout",
     "output_type": "stream",
     "text": [
      "[3195, 267, 303, 173, 286, 2029, 422, 1012, 796, 106]\n"
     ]
    },
    {
     "name": "stderr",
     "output_type": "stream",
     "text": [
      "INFO:root: \n",
      "Avg Training Stats after 71 global rounds:\n",
      "INFO:root:Train Accuracy: 0.00%\n",
      "INFO:root:Training Loss : 0.13376217302324106\n",
      "INFO:root:Test Accuracy: 58.94%\n",
      "INFO:root:Test Loss: 1.1524579644203186 \n",
      "\n",
      " 71%|███████   | 71/100 [43:58<17:30, 36.22s/it]"
     ]
    },
    {
     "name": "stdout",
     "output_type": "stream",
     "text": [
      "[209, 40, 4600, 106, 123, 1012, 690, 542, 602, 2575]\n"
     ]
    },
    {
     "name": "stderr",
     "output_type": "stream",
     "text": [
      "INFO:root: \n",
      "Avg Training Stats after 72 global rounds:\n",
      "INFO:root:Train Accuracy: 0.00%\n",
      "INFO:root:Training Loss : 0.11971673980255634\n",
      "INFO:root:Test Accuracy: 59.23%\n",
      "INFO:root:Test Loss: 1.1452493947744369 \n",
      "\n",
      " 72%|███████▏  | 72/100 [44:35<17:02, 36.51s/it]"
     ]
    },
    {
     "name": "stdout",
     "output_type": "stream",
     "text": [
      "[1012, 2430, 2274, 209, 1798, 303, 1112, 231, 744, 278]\n"
     ]
    },
    {
     "name": "stderr",
     "output_type": "stream",
     "text": [
      "INFO:root: \n",
      "Avg Training Stats after 73 global rounds:\n",
      "INFO:root:Train Accuracy: 0.00%\n",
      "INFO:root:Training Loss : 0.09555731635234002\n",
      "INFO:root:Test Accuracy: 59.39%\n",
      "INFO:root:Test Loss: 1.1435499721765519 \n",
      "\n",
      " 73%|███████▎  | 73/100 [45:13<16:31, 36.71s/it]"
     ]
    },
    {
     "name": "stdout",
     "output_type": "stream",
     "text": [
      "[447, 1320, 209, 327, 744, 1018, 231, 2430, 590, 602]\n"
     ]
    },
    {
     "name": "stderr",
     "output_type": "stream",
     "text": [
      "INFO:root: \n",
      "Avg Training Stats after 74 global rounds:\n",
      "INFO:root:Train Accuracy: 0.00%\n",
      "INFO:root:Training Loss : 0.17434266264196502\n",
      "INFO:root:Test Accuracy: 59.44%\n",
      "INFO:root:Test Loss: 1.1412541249394417 \n",
      "\n",
      " 74%|███████▍  | 74/100 [45:45<15:23, 35.54s/it]"
     ]
    },
    {
     "name": "stdout",
     "output_type": "stream",
     "text": [
      "[470, 1053, 303, 1012, 106, 3195, 447, 1112, 201, 1433]\n"
     ]
    },
    {
     "name": "stderr",
     "output_type": "stream",
     "text": [
      "INFO:root: \n",
      "Avg Training Stats after 75 global rounds:\n",
      "INFO:root:Train Accuracy: 0.00%\n",
      "INFO:root:Training Loss : 0.07454719729568786\n",
      "INFO:root:Test Accuracy: 59.36%\n",
      "INFO:root:Test Loss: 1.1420827889442444 \n",
      "\n",
      " 75%|███████▌  | 75/100 [46:21<14:46, 35.46s/it]"
     ]
    },
    {
     "name": "stdout",
     "output_type": "stream",
     "text": [
      "[231, 1433, 431, 209, 1416, 1780, 116, 123, 422, 4600]\n"
     ]
    },
    {
     "name": "stderr",
     "output_type": "stream",
     "text": [
      "INFO:root: \n",
      "Avg Training Stats after 76 global rounds:\n",
      "INFO:root:Train Accuracy: 0.00%\n",
      "INFO:root:Training Loss : 0.23983367733411037\n",
      "INFO:root:Test Accuracy: 59.66%\n",
      "INFO:root:Test Loss: 1.1362128615379334 \n",
      "\n",
      " 76%|███████▌  | 76/100 [46:59<14:28, 36.17s/it]"
     ]
    },
    {
     "name": "stdout",
     "output_type": "stream",
     "text": [
      "[2575, 796, 1053, 267, 602, 1018, 201, 1756, 286, 2430]\n"
     ]
    },
    {
     "name": "stderr",
     "output_type": "stream",
     "text": [
      "INFO:root: \n",
      "Avg Training Stats after 77 global rounds:\n",
      "INFO:root:Train Accuracy: 0.00%\n",
      "INFO:root:Training Loss : 0.15268826002429198\n",
      "INFO:root:Test Accuracy: 59.81%\n",
      "INFO:root:Test Loss: 1.1319016233086585 \n",
      "\n",
      " 77%|███████▋  | 77/100 [47:37<14:05, 36.76s/it]"
     ]
    },
    {
     "name": "stdout",
     "output_type": "stream",
     "text": [
      "[15, 2029, 2274, 744, 1018, 1736, 2934, 19, 173, 447]\n"
     ]
    },
    {
     "name": "stderr",
     "output_type": "stream",
     "text": [
      "INFO:root: \n",
      "Avg Training Stats after 78 global rounds:\n",
      "INFO:root:Train Accuracy: 0.00%\n",
      "INFO:root:Training Loss : 0.1437923512387087\n",
      "INFO:root:Test Accuracy: 59.72%\n",
      "INFO:root:Test Loss: 1.1361402386426926 \n",
      "\n",
      " 78%|███████▊  | 78/100 [48:16<13:42, 37.40s/it]"
     ]
    },
    {
     "name": "stdout",
     "output_type": "stream",
     "text": [
      "[542, 602, 173, 201, 590, 690, 422, 2934, 1736, 744]\n"
     ]
    },
    {
     "name": "stderr",
     "output_type": "stream",
     "text": [
      "INFO:root: \n",
      "Avg Training Stats after 79 global rounds:\n",
      "INFO:root:Train Accuracy: 0.00%\n",
      "INFO:root:Training Loss : 0.1950473920280433\n",
      "INFO:root:Test Accuracy: 59.49%\n",
      "INFO:root:Test Loss: 1.1381912487745285 \n",
      "\n",
      " 79%|███████▉  | 79/100 [48:50<12:43, 36.37s/it]"
     ]
    },
    {
     "name": "stdout",
     "output_type": "stream",
     "text": [
      "[201, 278, 40, 1112, 106, 690, 2029, 87, 796, 3195]\n"
     ]
    },
    {
     "name": "stderr",
     "output_type": "stream",
     "text": [
      "INFO:root: \n",
      "Avg Training Stats after 80 global rounds:\n",
      "INFO:root:Train Accuracy: 0.00%\n",
      "INFO:root:Training Loss : 0.06892302795173025\n",
      "INFO:root:Test Accuracy: 59.43%\n",
      "INFO:root:Test Loss: 1.139714548289776 \n",
      "\n",
      " 80%|████████  | 80/100 [49:23<11:50, 35.54s/it]"
     ]
    },
    {
     "name": "stdout",
     "output_type": "stream",
     "text": [
      "[1798, 15, 201, 123, 1433, 542, 1119, 690, 602, 40]\n"
     ]
    },
    {
     "name": "stderr",
     "output_type": "stream",
     "text": [
      "INFO:root: \n",
      "Avg Training Stats after 81 global rounds:\n",
      "INFO:root:Train Accuracy: 0.00%\n",
      "INFO:root:Training Loss : 0.0998944680653744\n",
      "INFO:root:Test Accuracy: 59.42%\n",
      "INFO:root:Test Loss: 1.1397735247015952 \n",
      "\n",
      " 81%|████████  | 81/100 [49:53<10:43, 33.88s/it]"
     ]
    },
    {
     "name": "stdout",
     "output_type": "stream",
     "text": [
      "[267, 542, 209, 796, 87, 3195, 231, 303, 2934, 1119]\n"
     ]
    },
    {
     "name": "stderr",
     "output_type": "stream",
     "text": [
      "INFO:root: \n",
      "Avg Training Stats after 82 global rounds:\n",
      "INFO:root:Train Accuracy: 0.00%\n",
      "INFO:root:Training Loss : 0.11981476740108969\n",
      "INFO:root:Test Accuracy: 59.30%\n",
      "INFO:root:Test Loss: 1.1430806761980057 \n",
      "\n",
      " 82%|████████▏ | 82/100 [50:29<10:21, 34.55s/it]"
     ]
    },
    {
     "name": "stdout",
     "output_type": "stream",
     "text": [
      "[690, 431, 422, 231, 4600, 2934, 2029, 327, 796, 590]\n"
     ]
    },
    {
     "name": "stderr",
     "output_type": "stream",
     "text": [
      "INFO:root: \n",
      "Avg Training Stats after 83 global rounds:\n",
      "INFO:root:Train Accuracy: 0.00%\n",
      "INFO:root:Training Loss : 0.1482898173479143\n",
      "INFO:root:Test Accuracy: 59.42%\n",
      "INFO:root:Test Loss: 1.1408197087049485 \n",
      "\n",
      " 83%|████████▎ | 83/100 [51:11<10:23, 36.68s/it]"
     ]
    },
    {
     "name": "stdout",
     "output_type": "stream",
     "text": [
      "[231, 1112, 87, 303, 690, 796, 2195, 813, 327, 1018]\n"
     ]
    },
    {
     "name": "stderr",
     "output_type": "stream",
     "text": [
      "INFO:root: \n",
      "Avg Training Stats after 84 global rounds:\n",
      "INFO:root:Train Accuracy: 0.00%\n",
      "INFO:root:Training Loss : 0.13594060252161497\n",
      "INFO:root:Test Accuracy: 59.60%\n",
      "INFO:root:Test Loss: 1.137084765434265 \n",
      "\n",
      " 84%|████████▍ | 84/100 [51:43<09:24, 35.26s/it]"
     ]
    },
    {
     "name": "stdout",
     "output_type": "stream",
     "text": [
      "[602, 1018, 542, 106, 794, 447, 2029, 1433, 327, 690]\n"
     ]
    },
    {
     "name": "stderr",
     "output_type": "stream",
     "text": [
      "INFO:root: \n",
      "Avg Training Stats after 85 global rounds:\n",
      "INFO:root:Train Accuracy: 0.00%\n",
      "INFO:root:Training Loss : 0.14737444604648098\n",
      "INFO:root:Test Accuracy: 59.56%\n",
      "INFO:root:Test Loss: 1.1365061438083648 \n",
      "\n",
      " 85%|████████▌ | 85/100 [52:16<08:38, 34.56s/it]"
     ]
    },
    {
     "name": "stdout",
     "output_type": "stream",
     "text": [
      "[1433, 267, 447, 1012, 470, 201, 231, 15, 278, 1736]\n"
     ]
    },
    {
     "name": "stderr",
     "output_type": "stream",
     "text": [
      "INFO:root: \n",
      "Avg Training Stats after 86 global rounds:\n",
      "INFO:root:Train Accuracy: 0.00%\n",
      "INFO:root:Training Loss : 0.13234036951841474\n",
      "INFO:root:Test Accuracy: 59.56%\n",
      "INFO:root:Test Loss: 1.137294636964798 \n",
      "\n",
      " 86%|████████▌ | 86/100 [52:45<07:43, 33.08s/it]"
     ]
    },
    {
     "name": "stdout",
     "output_type": "stream",
     "text": [
      "[40, 1053, 231, 286, 106, 2274, 470, 1119, 447, 1416]\n"
     ]
    },
    {
     "name": "stderr",
     "output_type": "stream",
     "text": [
      "INFO:root: \n",
      "Avg Training Stats after 87 global rounds:\n",
      "INFO:root:Train Accuracy: 0.00%\n",
      "INFO:root:Training Loss : 0.1251023603796638\n",
      "INFO:root:Test Accuracy: 59.63%\n",
      "INFO:root:Test Loss: 1.1356745284795762 \n",
      "\n",
      " 87%|████████▋ | 87/100 [53:17<07:05, 32.70s/it]"
     ]
    },
    {
     "name": "stdout",
     "output_type": "stream",
     "text": [
      "[209, 2029, 231, 278, 1320, 862, 2195, 690, 1736, 106]\n"
     ]
    },
    {
     "name": "stderr",
     "output_type": "stream",
     "text": [
      "INFO:root: \n",
      "Avg Training Stats after 88 global rounds:\n",
      "INFO:root:Train Accuracy: 0.00%\n",
      "INFO:root:Training Loss : 0.13821794549609784\n",
      "INFO:root:Test Accuracy: 59.67%\n",
      "INFO:root:Test Loss: 1.134059981405735 \n",
      "\n",
      " 88%|████████▊ | 88/100 [53:53<06:43, 33.60s/it]"
     ]
    },
    {
     "name": "stdout",
     "output_type": "stream",
     "text": [
      "[2430, 201, 2195, 2575, 123, 602, 116, 794, 4600, 690]\n"
     ]
    },
    {
     "name": "stderr",
     "output_type": "stream",
     "text": [
      "INFO:root: \n",
      "Avg Training Stats after 89 global rounds:\n",
      "INFO:root:Train Accuracy: 0.00%\n",
      "INFO:root:Training Loss : 0.16190170547451505\n",
      "INFO:root:Test Accuracy: 59.97%\n",
      "INFO:root:Test Loss: 1.1290539619326592 \n",
      "\n",
      " 89%|████████▉ | 89/100 [54:37<06:44, 36.81s/it]"
     ]
    },
    {
     "name": "stdout",
     "output_type": "stream",
     "text": [
      "[470, 303, 278, 87, 1119, 2274, 1780, 19, 4600, 602]\n",
      "0.010000000000000002\n"
     ]
    },
    {
     "name": "stderr",
     "output_type": "stream",
     "text": [
      "INFO:root: \n",
      "Avg Training Stats after 90 global rounds:\n",
      "INFO:root:Train Accuracy: 0.00%\n",
      "INFO:root:Training Loss : 0.09033057049240623\n",
      "INFO:root:Test Accuracy: 59.96%\n",
      "INFO:root:Test Loss: 1.128668063879013 \n",
      "\n",
      " 90%|█████████ | 90/100 [55:16<06:15, 37.52s/it]"
     ]
    },
    {
     "name": "stdout",
     "output_type": "stream",
     "text": [
      "[2575, 602, 2029, 327, 209, 4600, 2274, 1756, 431, 1112]\n"
     ]
    },
    {
     "name": "stderr",
     "output_type": "stream",
     "text": [
      "INFO:root: \n",
      "Avg Training Stats after 91 global rounds:\n",
      "INFO:root:Train Accuracy: 0.00%\n",
      "INFO:root:Training Loss : 0.1306533445416715\n",
      "INFO:root:Test Accuracy: 59.95%\n",
      "INFO:root:Test Loss: 1.1285251367092133 \n",
      "\n",
      " 91%|█████████ | 91/100 [56:03<06:03, 40.40s/it]"
     ]
    },
    {
     "name": "stdout",
     "output_type": "stream",
     "text": [
      "[2195, 267, 813, 286, 3195, 470, 231, 278, 1012, 231]\n"
     ]
    },
    {
     "name": "stderr",
     "output_type": "stream",
     "text": [
      "INFO:root: \n",
      "Avg Training Stats after 92 global rounds:\n",
      "INFO:root:Train Accuracy: 0.00%\n",
      "INFO:root:Training Loss : 0.12807279565256202\n",
      "INFO:root:Test Accuracy: 59.99%\n",
      "INFO:root:Test Loss: 1.128595865368843 \n",
      "\n",
      " 92%|█████████▏| 92/100 [56:38<05:09, 38.67s/it]"
     ]
    },
    {
     "name": "stdout",
     "output_type": "stream",
     "text": [
      "[1053, 2575, 303, 2430, 542, 116, 1756, 1433, 327, 15]\n"
     ]
    },
    {
     "name": "stderr",
     "output_type": "stream",
     "text": [
      "INFO:root: \n",
      "Avg Training Stats after 93 global rounds:\n",
      "INFO:root:Train Accuracy: 0.00%\n",
      "INFO:root:Training Loss : 0.15962897780582005\n",
      "INFO:root:Test Accuracy: 59.99%\n",
      "INFO:root:Test Loss: 1.1281129102408887 \n",
      "\n",
      " 93%|█████████▎| 93/100 [57:15<04:26, 38.12s/it]"
     ]
    },
    {
     "name": "stdout",
     "output_type": "stream",
     "text": [
      "[590, 4600, 201, 286, 303, 1736, 15, 1798, 744, 422]\n"
     ]
    },
    {
     "name": "stderr",
     "output_type": "stream",
     "text": [
      "INFO:root: \n",
      "Avg Training Stats after 94 global rounds:\n",
      "INFO:root:Train Accuracy: 0.00%\n",
      "INFO:root:Training Loss : 0.1182854518012276\n",
      "INFO:root:Test Accuracy: 59.99%\n",
      "INFO:root:Test Loss: 1.1280704778432846 \n",
      "\n",
      " 94%|█████████▍| 94/100 [57:52<03:47, 37.91s/it]"
     ]
    },
    {
     "name": "stdout",
     "output_type": "stream",
     "text": [
      "[123, 862, 542, 19, 794, 1112, 4600, 2934, 231, 15]\n"
     ]
    },
    {
     "name": "stderr",
     "output_type": "stream",
     "text": [
      "INFO:root: \n",
      "Avg Training Stats after 95 global rounds:\n",
      "INFO:root:Train Accuracy: 0.00%\n",
      "INFO:root:Training Loss : 0.1312712897418868\n",
      "INFO:root:Test Accuracy: 60.03%\n",
      "INFO:root:Test Loss: 1.1277747610211373 \n",
      "\n",
      " 95%|█████████▌| 95/100 [58:31<03:10, 38.09s/it]"
     ]
    },
    {
     "name": "stdout",
     "output_type": "stream",
     "text": [
      "[1053, 87, 2575, 4600, 542, 231, 1433, 1012, 2029, 862]\n"
     ]
    },
    {
     "name": "stderr",
     "output_type": "stream",
     "text": [
      "INFO:root: \n",
      "Avg Training Stats after 96 global rounds:\n",
      "INFO:root:Train Accuracy: 0.00%\n",
      "INFO:root:Training Loss : 0.1237079354792344\n",
      "INFO:root:Test Accuracy: 60.02%\n",
      "INFO:root:Test Loss: 1.1273564472794533 \n",
      "\n",
      " 96%|█████████▌| 96/100 [59:15<02:39, 39.93s/it]"
     ]
    },
    {
     "name": "stdout",
     "output_type": "stream",
     "text": [
      "[19, 602, 40, 690, 267, 231, 173, 2029, 1798, 3195]\n"
     ]
    },
    {
     "name": "stderr",
     "output_type": "stream",
     "text": [
      "INFO:root: \n",
      "Avg Training Stats after 97 global rounds:\n",
      "INFO:root:Train Accuracy: 0.00%\n",
      "INFO:root:Training Loss : 0.15099082652706905\n",
      "INFO:root:Test Accuracy: 60.00%\n",
      "INFO:root:Test Loss: 1.127558211684227 \n",
      "\n",
      " 97%|█████████▋| 97/100 [59:50<01:54, 38.32s/it]"
     ]
    },
    {
     "name": "stdout",
     "output_type": "stream",
     "text": [
      "[209, 1012, 422, 40, 794, 4600, 116, 286, 303, 1756]\n"
     ]
    },
    {
     "name": "stderr",
     "output_type": "stream",
     "text": [
      "INFO:root: \n",
      "Avg Training Stats after 98 global rounds:\n",
      "INFO:root:Train Accuracy: 0.00%\n",
      "INFO:root:Training Loss : 0.11402656254722832\n",
      "INFO:root:Test Accuracy: 60.03%\n",
      "INFO:root:Test Loss: 1.1272811976075172 \n",
      "\n",
      " 98%|█████████▊| 98/100 [1:00:25<01:15, 37.56s/it]"
     ]
    },
    {
     "name": "stdout",
     "output_type": "stream",
     "text": [
      "[2274, 1736, 173, 1416, 447, 19, 2195, 2029, 862, 744]\n"
     ]
    },
    {
     "name": "stderr",
     "output_type": "stream",
     "text": [
      "INFO:root: \n",
      "Avg Training Stats after 99 global rounds:\n",
      "INFO:root:Train Accuracy: 0.00%\n",
      "INFO:root:Training Loss : 0.20624079106067147\n",
      "INFO:root:Test Accuracy: 60.01%\n",
      "INFO:root:Test Loss: 1.1272880938649177 \n",
      "\n",
      " 99%|█████████▉| 99/100 [1:01:05<00:38, 38.08s/it]"
     ]
    },
    {
     "name": "stdout",
     "output_type": "stream",
     "text": [
      "[431, 1798, 1736, 744, 19, 278, 690, 590, 116, 40]\n"
     ]
    },
    {
     "name": "stderr",
     "output_type": "stream",
     "text": [
      "INFO:root: \n",
      "Avg Training Stats after 100 global rounds:\n",
      "INFO:root:Train Accuracy: 0.00%\n",
      "INFO:root:Training Loss : 0.12982225846639597\n",
      "INFO:root:Test Accuracy: 59.99%\n",
      "INFO:root:Test Loss: 1.1276360374689103 \n",
      "\n",
      "100%|██████████| 100/100 [1:01:35<00:00, 36.95s/it]\n",
      "INFO:root: \n",
      " Results after 100 global rounds of training:\n",
      "INFO:root:|---- Best Test Accuracy: 60.03% , round: 94\n"
     ]
    },
    {
     "name": "stdout",
     "output_type": "stream",
     "text": [
      " Saving checkpoints to ../save/checkpoint/ConvNet_1207/cifar10_ConvNet_none_T[100]_C[0.2]_iid[0]_E[10]_B[32]_GPU[0]_Pruned[0.0]...\n"
     ]
    }
   ],
   "source": [
    " args = easydict.EasyDict({\n",
    "    \"model\": 'ConvNet',\n",
    "    'dataset': 'cifar10',\n",
    "    'gpu': 0,\n",
    "    'iid': 0,\n",
    "    'epochs': 100,\n",
    "    'optimizer': 'sgd',\n",
    "    'seed': 0,\n",
    "    'norm': 'none',\n",
    "    'num_users': 50,\n",
    "    'frac': 0.2,\n",
    "    'local_ep': 10, \n",
    "    'local_bs': 32,\n",
    "    'lr': 0.01,\n",
    "    'momentum': 1,\n",
    "    'kernel_num': 9,\n",
    "    'kernel_sizes': 'centering',\n",
    "    'num_channnels': '1',\n",
    "    'num_filters': 32,\n",
    "    'max_pool': 'True',\n",
    "    'num_classes': 10,\n",
    "    'unequal': 0,\n",
    "    'stopping_rounds': 0,\n",
    "    'verbose': 0,\n",
    "    'hold_normalize': 0,\n",
    "    'save_path': '../save/checkpoint',\n",
    "    'exp_folder': 'ConvNet_1207',\n",
    "    'resume': None,\n",
    "    'server_opt': 'sgd',\n",
    "    'server_lr': 1.0,\n",
    "    'client_decay':0,\n",
    "    'local_decay':0,\n",
    "    'alpha': 0.05,\n",
    "    'server_epoch':0,\n",
    "    'cosine_norm':0, \n",
    "    'only_fc' :0 ,\n",
    "    'loss':'bsm',\n",
    "    'dc_lr':0.0,\n",
    "    'tsne_pred':0,\n",
    "    'pruning': 0.0 })\n",
    "    \n",
    "    \n",
    "    \n",
    "temp = main_test(args)\n",
    "total.append(temp)"
   ]
  },
  {
   "cell_type": "code",
   "execution_count": 9,
   "id": "separated-sessions",
   "metadata": {},
   "outputs": [
    {
     "name": "stderr",
     "output_type": "stream",
     "text": [
      "INFO:root:{'model': 'ConvNet', 'dataset': 'cifar10', 'gpu': 0, 'iid': 0, 'epochs': 100, 'optimizer': 'sgd', 'seed': 0, 'norm': 'none', 'num_users': 50, 'frac': 0.2, 'local_ep': 10, 'local_bs': 32, 'lr': 0.01, 'momentum': 1, 'kernel_num': 9, 'kernel_sizes': 'centering', 'num_channnels': '1', 'num_filters': 32, 'max_pool': 'True', 'num_classes': 10, 'unequal': 0, 'stopping_rounds': 0, 'verbose': 0, 'hold_normalize': 0, 'save_path': '../save/checkpoint/ConvNet_1207', 'exp_folder': 'ConvNet_1207', 'resume': None, 'server_opt': 'sgdm', 'server_lr': 1.0, 'client_decay': 0, 'local_decay': 0, 'alpha': 0.05, 'server_epoch': 0, 'cosine_norm': 0, 'only_fc': 0, 'loss': 'bsm', 'dc_lr': 0.0, 'tsne_pred': 0, 'pruning': 0.0}\n"
     ]
    },
    {
     "name": "stdout",
     "output_type": "stream",
     "text": [
      "Files already downloaded and verified\n",
      "Files already downloaded and verified\n",
      "Files already downloaded and verified\n"
     ]
    },
    {
     "name": "stderr",
     "output_type": "stream",
     "text": [
      "INFO:root:ConvNet(\n",
      "  (net_act): ReLU(inplace=True)\n",
      "  (net_pooling): MaxPool2d(kernel_size=2, stride=2, padding=0, dilation=1, ceil_mode=False)\n",
      "  (features): Sequential(\n",
      "    (0): Conv2d(3, 128, kernel_size=(3, 3), stride=(1, 1), padding=(1, 1))\n",
      "    (1): ReLU(inplace=True)\n",
      "    (2): MaxPool2d(kernel_size=2, stride=2, padding=0, dilation=1, ceil_mode=False)\n",
      "    (3): Conv2d(128, 128, kernel_size=(3, 3), stride=(1, 1), padding=(1, 1))\n",
      "    (4): ReLU(inplace=True)\n",
      "    (5): MaxPool2d(kernel_size=2, stride=2, padding=0, dilation=1, ceil_mode=False)\n",
      "    (6): Conv2d(128, 128, kernel_size=(3, 3), stride=(1, 1), padding=(1, 1))\n",
      "    (7): ReLU(inplace=True)\n",
      "    (8): MaxPool2d(kernel_size=2, stride=2, padding=0, dilation=1, ceil_mode=False)\n",
      "  )\n",
      "  (classifier): Linear(in_features=2048, out_features=10, bias=True)\n",
      ")\n",
      "INFO:root:None\n",
      "  0%|          | 0/100 [00:00<?, ?it/s]"
     ]
    },
    {
     "name": "stdout",
     "output_type": "stream",
     "text": [
      "----------------------------------------------------------------\n",
      "        Layer (type)               Output Shape         Param #\n",
      "================================================================\n",
      "            Conv2d-1          [-1, 128, 32, 32]           3,584\n",
      "              ReLU-2          [-1, 128, 32, 32]               0\n",
      "              ReLU-3          [-1, 128, 32, 32]               0\n",
      "         MaxPool2d-4          [-1, 128, 16, 16]               0\n",
      "         MaxPool2d-5          [-1, 128, 16, 16]               0\n",
      "            Conv2d-6          [-1, 128, 16, 16]         147,584\n",
      "              ReLU-7          [-1, 128, 16, 16]               0\n",
      "              ReLU-8          [-1, 128, 16, 16]               0\n",
      "         MaxPool2d-9            [-1, 128, 8, 8]               0\n",
      "        MaxPool2d-10            [-1, 128, 8, 8]               0\n",
      "           Conv2d-11            [-1, 128, 8, 8]         147,584\n",
      "             ReLU-12            [-1, 128, 8, 8]               0\n",
      "             ReLU-13            [-1, 128, 8, 8]               0\n",
      "        MaxPool2d-14            [-1, 128, 4, 4]               0\n",
      "        MaxPool2d-15            [-1, 128, 4, 4]               0\n",
      "           Linear-16                   [-1, 10]          20,490\n",
      "================================================================\n",
      "Total params: 319,242\n",
      "Trainable params: 319,242\n",
      "Non-trainable params: 0\n",
      "----------------------------------------------------------------\n",
      "Input size (MB): 0.01\n",
      "Forward/backward pass size (MB): 4.59\n",
      "Params size (MB): 1.22\n",
      "Estimated Total Size (MB): 5.82\n",
      "----------------------------------------------------------------\n",
      "[209, 1756, 422, 2575, 1018, 602, 2274, 447, 744, 1112, 123, 87, 1433, 1416, 40, 1119, 796, 794, 327, 470, 231, 813, 1320, 542, 690, 2195, 2934, 106, 1012, 15, 278, 1798, 303, 590, 2029, 201, 1053, 862, 231, 116, 4600, 19, 286, 1736, 2430, 431, 3195, 1780, 173, 267]\n",
      "[470, 2934, 201, 231, 2575, 744, 15, 123, 1119, 4600]\n"
     ]
    },
    {
     "name": "stderr",
     "output_type": "stream",
     "text": [
      "INFO:root: \n",
      "Avg Training Stats after 1 global rounds:\n",
      "INFO:root:Train Accuracy: 0.00%\n",
      "INFO:root:Training Loss : 0.25849472064419554\n",
      "INFO:root:Test Accuracy: 24.62%\n",
      "INFO:root:Test Loss: 2.2244501793384552 \n",
      "\n",
      "  1%|          | 1/100 [00:44<1:12:51, 44.15s/it]"
     ]
    },
    {
     "name": "stdout",
     "output_type": "stream",
     "text": [
      "[231, 173, 2575, 1736, 2430, 123, 4600, 690, 1012, 447]\n"
     ]
    },
    {
     "name": "stderr",
     "output_type": "stream",
     "text": [
      "INFO:root: \n",
      "Avg Training Stats after 2 global rounds:\n",
      "INFO:root:Train Accuracy: 0.00%\n",
      "INFO:root:Training Loss : 0.4069342518449385\n",
      "INFO:root:Test Accuracy: 26.39%\n",
      "INFO:root:Test Loss: 2.1742076551914216 \n",
      "\n",
      "  2%|▏         | 2/100 [01:30<1:13:50, 45.21s/it]"
     ]
    },
    {
     "name": "stdout",
     "output_type": "stream",
     "text": [
      "[744, 2575, 1320, 470, 2430, 2274, 267, 690, 209, 303]\n"
     ]
    },
    {
     "name": "stderr",
     "output_type": "stream",
     "text": [
      "INFO:root: \n",
      "Avg Training Stats after 3 global rounds:\n",
      "INFO:root:Train Accuracy: 0.00%\n",
      "INFO:root:Training Loss : 0.2857638681782356\n",
      "INFO:root:Test Accuracy: 26.65%\n",
      "INFO:root:Test Loss: 3.4458358126878736 \n",
      "\n",
      "  3%|▎         | 3/100 [02:11<1:10:02, 43.33s/it]"
     ]
    },
    {
     "name": "stdout",
     "output_type": "stream",
     "text": [
      "[173, 690, 542, 1012, 2195, 1780, 1053, 87, 2934, 1736]\n"
     ]
    },
    {
     "name": "stderr",
     "output_type": "stream",
     "text": [
      "INFO:root: \n",
      "Avg Training Stats after 4 global rounds:\n",
      "INFO:root:Train Accuracy: 0.00%\n",
      "INFO:root:Training Loss : 0.4331544427186014\n",
      "INFO:root:Test Accuracy: 27.21%\n",
      "INFO:root:Test Loss: 4.2435998660326 \n",
      "\n",
      "  4%|▍         | 4/100 [02:54<1:09:02, 43.15s/it]"
     ]
    },
    {
     "name": "stdout",
     "output_type": "stream",
     "text": [
      "[2430, 2575, 1736, 123, 15, 1780, 1018, 231, 87, 794]\n"
     ]
    },
    {
     "name": "stderr",
     "output_type": "stream",
     "text": [
      "INFO:root: \n",
      "Avg Training Stats after 5 global rounds:\n",
      "INFO:root:Train Accuracy: 0.00%\n",
      "INFO:root:Training Loss : 0.3087438915640087\n",
      "INFO:root:Test Accuracy: 29.22%\n",
      "INFO:root:Test Loss: 4.075884260833264 \n",
      "\n",
      "  5%|▌         | 5/100 [03:33<1:06:16, 41.86s/it]"
     ]
    },
    {
     "name": "stdout",
     "output_type": "stream",
     "text": [
      "[1119, 87, 590, 794, 813, 303, 1320, 690, 1018, 422]\n"
     ]
    },
    {
     "name": "stderr",
     "output_type": "stream",
     "text": [
      "INFO:root: \n",
      "Avg Training Stats after 6 global rounds:\n",
      "INFO:root:Train Accuracy: 0.00%\n",
      "INFO:root:Training Loss : 0.2209986428450071\n",
      "INFO:root:Test Accuracy: 30.32%\n",
      "INFO:root:Test Loss: 3.7064215575158594 \n",
      "\n",
      "  6%|▌         | 6/100 [04:06<1:01:02, 38.96s/it]"
     ]
    },
    {
     "name": "stdout",
     "output_type": "stream",
     "text": [
      "[2029, 1433, 303, 327, 744, 862, 2934, 231, 1416, 278]\n"
     ]
    },
    {
     "name": "stderr",
     "output_type": "stream",
     "text": [
      "INFO:root: \n",
      "Avg Training Stats after 7 global rounds:\n",
      "INFO:root:Train Accuracy: 0.00%\n",
      "INFO:root:Training Loss : 0.32404568322895944\n",
      "INFO:root:Test Accuracy: 33.46%\n",
      "INFO:root:Test Loss: 2.8727765867114066 \n",
      "\n",
      "  7%|▋         | 7/100 [04:46<1:00:51, 39.27s/it]"
     ]
    },
    {
     "name": "stdout",
     "output_type": "stream",
     "text": [
      "[231, 1112, 327, 744, 286, 422, 15, 1798, 1053, 173]\n"
     ]
    },
    {
     "name": "stderr",
     "output_type": "stream",
     "text": [
      "INFO:root: \n",
      "Avg Training Stats after 8 global rounds:\n",
      "INFO:root:Train Accuracy: 0.00%\n",
      "INFO:root:Training Loss : 0.32963969560448986\n",
      "INFO:root:Test Accuracy: 37.67%\n",
      "INFO:root:Test Loss: 1.966924978494644 \n",
      "\n",
      "  8%|▊         | 8/100 [05:18<56:22, 36.77s/it]  "
     ]
    },
    {
     "name": "stdout",
     "output_type": "stream",
     "text": [
      "[794, 278, 744, 862, 303, 19, 2274, 1053, 813, 1012]\n"
     ]
    },
    {
     "name": "stderr",
     "output_type": "stream",
     "text": [
      "INFO:root: \n",
      "Avg Training Stats after 9 global rounds:\n",
      "INFO:root:Train Accuracy: 0.00%\n",
      "INFO:root:Training Loss : 0.16769761633303243\n",
      "INFO:root:Test Accuracy: 40.66%\n",
      "INFO:root:Test Loss: 1.7180476313829423 \n",
      "\n",
      "  9%|▉         | 9/100 [05:53<54:56, 36.23s/it]"
     ]
    },
    {
     "name": "stdout",
     "output_type": "stream",
     "text": [
      "[1320, 40, 1756, 470, 327, 1012, 862, 1433, 796, 231]\n"
     ]
    },
    {
     "name": "stderr",
     "output_type": "stream",
     "text": [
      "INFO:root: \n",
      "Avg Training Stats after 10 global rounds:\n",
      "INFO:root:Train Accuracy: 0.00%\n",
      "INFO:root:Training Loss : 0.14293415140185145\n",
      "INFO:root:Test Accuracy: 40.50%\n",
      "INFO:root:Test Loss: 1.7168592709302901 \n",
      "\n",
      " 10%|█         | 10/100 [06:28<53:54, 35.93s/it]"
     ]
    },
    {
     "name": "stdout",
     "output_type": "stream",
     "text": [
      "[87, 201, 1798, 813, 123, 2934, 1756, 231, 1053, 4600]\n"
     ]
    },
    {
     "name": "stderr",
     "output_type": "stream",
     "text": [
      "INFO:root: \n",
      "Avg Training Stats after 11 global rounds:\n",
      "INFO:root:Train Accuracy: 0.00%\n",
      "INFO:root:Training Loss : 0.19376112296721826\n",
      "INFO:root:Test Accuracy: 42.56%\n",
      "INFO:root:Test Loss: 1.6245651322603225 \n",
      "\n",
      " 11%|█         | 11/100 [07:13<57:10, 38.55s/it]"
     ]
    },
    {
     "name": "stdout",
     "output_type": "stream",
     "text": [
      "[106, 231, 447, 796, 209, 1798, 1112, 1416, 590, 794]\n"
     ]
    },
    {
     "name": "stderr",
     "output_type": "stream",
     "text": [
      "INFO:root: \n",
      "Avg Training Stats after 12 global rounds:\n",
      "INFO:root:Train Accuracy: 0.00%\n",
      "INFO:root:Training Loss : 0.1280050016974486\n",
      "INFO:root:Test Accuracy: 44.46%\n",
      "INFO:root:Test Loss: 1.6704049354791641 \n",
      "\n",
      " 12%|█▏        | 12/100 [07:47<54:30, 37.17s/it]"
     ]
    },
    {
     "name": "stdout",
     "output_type": "stream",
     "text": [
      "[1320, 278, 862, 2274, 1798, 87, 2029, 796, 1018, 2430]\n"
     ]
    },
    {
     "name": "stderr",
     "output_type": "stream",
     "text": [
      "INFO:root: \n",
      "Avg Training Stats after 13 global rounds:\n",
      "INFO:root:Train Accuracy: 0.00%\n",
      "INFO:root:Training Loss : 0.15113219501906627\n",
      "INFO:root:Test Accuracy: 47.63%\n",
      "INFO:root:Test Loss: 1.6738284474611282 \n",
      "\n",
      " 13%|█▎        | 13/100 [08:30<56:44, 39.13s/it]"
     ]
    },
    {
     "name": "stdout",
     "output_type": "stream",
     "text": [
      "[4600, 2575, 590, 173, 2430, 40, 1112, 87, 231, 2195]\n"
     ]
    },
    {
     "name": "stderr",
     "output_type": "stream",
     "text": [
      "INFO:root: \n",
      "Avg Training Stats after 14 global rounds:\n",
      "INFO:root:Train Accuracy: 0.00%\n",
      "INFO:root:Training Loss : 0.19492026756935593\n",
      "INFO:root:Test Accuracy: 50.57%\n",
      "INFO:root:Test Loss: 1.5043817794322967 \n",
      "\n",
      " 14%|█▍        | 14/100 [09:15<58:30, 40.82s/it]"
     ]
    },
    {
     "name": "stdout",
     "output_type": "stream",
     "text": [
      "[231, 794, 1018, 1012, 15, 303, 796, 2274, 1320, 19]\n"
     ]
    },
    {
     "name": "stderr",
     "output_type": "stream",
     "text": [
      "INFO:root: \n",
      "Avg Training Stats after 15 global rounds:\n",
      "INFO:root:Train Accuracy: 0.00%\n",
      "INFO:root:Training Loss : 0.11112909417141162\n",
      "INFO:root:Test Accuracy: 49.92%\n",
      "INFO:root:Test Loss: 1.5020634171366691 \n",
      "\n",
      " 15%|█▌        | 15/100 [09:49<54:52, 38.74s/it]"
     ]
    },
    {
     "name": "stdout",
     "output_type": "stream",
     "text": [
      "[2195, 40, 2029, 862, 2575, 1433, 447, 19, 4600, 796]\n"
     ]
    },
    {
     "name": "stderr",
     "output_type": "stream",
     "text": [
      "INFO:root: \n",
      "Avg Training Stats after 16 global rounds:\n",
      "INFO:root:Train Accuracy: 0.00%\n",
      "INFO:root:Training Loss : 0.12650681580953066\n",
      "INFO:root:Test Accuracy: 48.25%\n",
      "INFO:root:Test Loss: 1.5042851057648658 \n",
      "\n",
      " 16%|█▌        | 16/100 [10:36<57:44, 41.25s/it]"
     ]
    },
    {
     "name": "stdout",
     "output_type": "stream",
     "text": [
      "[231, 173, 303, 2274, 796, 116, 1798, 447, 106, 1433]\n"
     ]
    },
    {
     "name": "stderr",
     "output_type": "stream",
     "text": [
      "INFO:root: \n",
      "Avg Training Stats after 17 global rounds:\n",
      "INFO:root:Train Accuracy: 0.00%\n",
      "INFO:root:Training Loss : 0.11552151392390453\n",
      "INFO:root:Test Accuracy: 48.90%\n",
      "INFO:root:Test Loss: 1.485044267475605 \n",
      "\n",
      " 17%|█▋        | 17/100 [11:10<54:09, 39.15s/it]"
     ]
    },
    {
     "name": "stdout",
     "output_type": "stream",
     "text": [
      "[201, 1756, 796, 1320, 813, 542, 116, 173, 794, 1798]\n"
     ]
    },
    {
     "name": "stderr",
     "output_type": "stream",
     "text": [
      "INFO:root: \n",
      "Avg Training Stats after 18 global rounds:\n",
      "INFO:root:Train Accuracy: 0.00%\n",
      "INFO:root:Training Loss : 0.16219179324952776\n",
      "INFO:root:Test Accuracy: 50.93%\n",
      "INFO:root:Test Loss: 1.4561651504039765 \n",
      "\n",
      " 18%|█▊        | 18/100 [11:45<51:52, 37.95s/it]"
     ]
    },
    {
     "name": "stdout",
     "output_type": "stream",
     "text": [
      "[15, 1780, 19, 744, 2575, 173, 813, 40, 1320, 422]\n"
     ]
    },
    {
     "name": "stderr",
     "output_type": "stream",
     "text": [
      "INFO:root: \n",
      "Avg Training Stats after 19 global rounds:\n",
      "INFO:root:Train Accuracy: 0.00%\n",
      "INFO:root:Training Loss : 0.16650894938940697\n",
      "INFO:root:Test Accuracy: 50.88%\n",
      "INFO:root:Test Loss: 1.5030020573735237 \n",
      "\n",
      " 19%|█▉        | 19/100 [12:19<49:35, 36.74s/it]"
     ]
    },
    {
     "name": "stdout",
     "output_type": "stream",
     "text": [
      "[813, 1736, 15, 1433, 267, 470, 3195, 744, 2575, 231]\n"
     ]
    },
    {
     "name": "stderr",
     "output_type": "stream",
     "text": [
      "INFO:root: \n",
      "Avg Training Stats after 20 global rounds:\n",
      "INFO:root:Train Accuracy: 0.00%\n",
      "INFO:root:Training Loss : 0.12299257096937086\n",
      "INFO:root:Test Accuracy: 50.46%\n",
      "INFO:root:Test Loss: 1.5837147670984268 \n",
      "\n",
      " 20%|██        | 20/100 [13:00<50:45, 38.07s/it]"
     ]
    },
    {
     "name": "stdout",
     "output_type": "stream",
     "text": [
      "[278, 744, 1053, 447, 1320, 116, 1798, 19, 4600, 3195]\n"
     ]
    },
    {
     "name": "stderr",
     "output_type": "stream",
     "text": [
      "INFO:root: \n",
      "Avg Training Stats after 21 global rounds:\n",
      "INFO:root:Train Accuracy: 0.00%\n",
      "INFO:root:Training Loss : 0.15911348267615835\n",
      "INFO:root:Test Accuracy: 54.14%\n",
      "INFO:root:Test Loss: 1.395140346288681 \n",
      "\n",
      " 21%|██        | 21/100 [13:45<52:39, 40.00s/it]"
     ]
    },
    {
     "name": "stdout",
     "output_type": "stream",
     "text": [
      "[813, 2029, 602, 590, 1756, 106, 1780, 40, 19, 2934]\n"
     ]
    },
    {
     "name": "stderr",
     "output_type": "stream",
     "text": [
      "INFO:root: \n",
      "Avg Training Stats after 22 global rounds:\n",
      "INFO:root:Train Accuracy: 0.00%\n",
      "INFO:root:Training Loss : 0.0786537669265575\n",
      "INFO:root:Test Accuracy: 56.04%\n",
      "INFO:root:Test Loss: 1.3075676238536835 \n",
      "\n",
      " 22%|██▏       | 22/100 [14:24<51:38, 39.73s/it]"
     ]
    },
    {
     "name": "stdout",
     "output_type": "stream",
     "text": [
      "[40, 862, 327, 1780, 2274, 106, 1053, 1112, 1012, 3195]\n"
     ]
    },
    {
     "name": "stderr",
     "output_type": "stream",
     "text": [
      "INFO:root: \n",
      "Avg Training Stats after 23 global rounds:\n",
      "INFO:root:Train Accuracy: 0.00%\n",
      "INFO:root:Training Loss : 0.15197009104758993\n",
      "INFO:root:Test Accuracy: 54.73%\n",
      "INFO:root:Test Loss: 1.345348788201809 \n",
      "\n",
      " 23%|██▎       | 23/100 [15:06<51:39, 40.25s/it]"
     ]
    },
    {
     "name": "stdout",
     "output_type": "stream",
     "text": [
      "[1320, 1119, 862, 744, 1053, 87, 201, 470, 2274, 1012]\n"
     ]
    },
    {
     "name": "stderr",
     "output_type": "stream",
     "text": [
      "INFO:root: \n",
      "Avg Training Stats after 24 global rounds:\n",
      "INFO:root:Train Accuracy: 0.00%\n",
      "INFO:root:Training Loss : 0.12902549577485306\n",
      "INFO:root:Test Accuracy: 53.44%\n",
      "INFO:root:Test Loss: 1.412220208644867 \n",
      "\n",
      " 24%|██▍       | 24/100 [15:43<49:44, 39.27s/it]"
     ]
    },
    {
     "name": "stdout",
     "output_type": "stream",
     "text": [
      "[447, 286, 1416, 87, 796, 1798, 231, 1119, 431, 2195]\n"
     ]
    },
    {
     "name": "stderr",
     "output_type": "stream",
     "text": [
      "INFO:root: \n",
      "Avg Training Stats after 25 global rounds:\n",
      "INFO:root:Train Accuracy: 0.00%\n",
      "INFO:root:Training Loss : 0.16262596951934277\n",
      "INFO:root:Test Accuracy: 54.53%\n",
      "INFO:root:Test Loss: 1.4176680716872214 \n",
      "\n",
      " 25%|██▌       | 25/100 [16:19<47:57, 38.37s/it]"
     ]
    },
    {
     "name": "stdout",
     "output_type": "stream",
     "text": [
      "[116, 2029, 690, 1416, 1780, 602, 2575, 1756, 431, 87]\n"
     ]
    },
    {
     "name": "stderr",
     "output_type": "stream",
     "text": [
      "INFO:root: \n",
      "Avg Training Stats after 26 global rounds:\n",
      "INFO:root:Train Accuracy: 0.00%\n",
      "INFO:root:Training Loss : 0.17046431185710018\n",
      "INFO:root:Test Accuracy: 55.88%\n",
      "INFO:root:Test Loss: 1.3684303000569344 \n",
      "\n",
      " 26%|██▌       | 26/100 [17:00<48:17, 39.16s/it]"
     ]
    },
    {
     "name": "stdout",
     "output_type": "stream",
     "text": [
      "[87, 173, 2029, 19, 4600, 2195, 116, 303, 40, 209]\n"
     ]
    },
    {
     "name": "stderr",
     "output_type": "stream",
     "text": [
      "INFO:root: \n",
      "Avg Training Stats after 27 global rounds:\n",
      "INFO:root:Train Accuracy: 0.00%\n",
      "INFO:root:Training Loss : 0.16761917600883675\n",
      "INFO:root:Test Accuracy: 60.15%\n",
      "INFO:root:Test Loss: 1.2220924079418183 \n",
      "\n",
      " 27%|██▋       | 27/100 [17:37<46:56, 38.58s/it]"
     ]
    },
    {
     "name": "stdout",
     "output_type": "stream",
     "text": [
      "[4600, 267, 794, 231, 201, 231, 2934, 590, 470, 173]\n"
     ]
    },
    {
     "name": "stderr",
     "output_type": "stream",
     "text": [
      "INFO:root: \n",
      "Avg Training Stats after 28 global rounds:\n",
      "INFO:root:Train Accuracy: 0.00%\n",
      "INFO:root:Training Loss : 0.14914752235324985\n",
      "INFO:root:Test Accuracy: 58.85%\n",
      "INFO:root:Test Loss: 1.2909477120637893 \n",
      "\n",
      " 28%|██▊       | 28/100 [18:16<46:35, 38.83s/it]"
     ]
    },
    {
     "name": "stdout",
     "output_type": "stream",
     "text": [
      "[1798, 286, 123, 1112, 303, 796, 744, 1320, 231, 794]\n"
     ]
    },
    {
     "name": "stderr",
     "output_type": "stream",
     "text": [
      "INFO:root: \n",
      "Avg Training Stats after 29 global rounds:\n",
      "INFO:root:Train Accuracy: 0.00%\n",
      "INFO:root:Training Loss : 0.057684881488401805\n",
      "INFO:root:Test Accuracy: 57.04%\n",
      "INFO:root:Test Loss: 1.4273309037089348 \n",
      "\n",
      " 29%|██▉       | 29/100 [18:51<44:22, 37.50s/it]"
     ]
    },
    {
     "name": "stdout",
     "output_type": "stream",
     "text": [
      "[303, 4600, 1119, 447, 744, 40, 1756, 2430, 2029, 602]\n"
     ]
    },
    {
     "name": "stderr",
     "output_type": "stream",
     "text": [
      "INFO:root: \n",
      "Avg Training Stats after 30 global rounds:\n",
      "INFO:root:Train Accuracy: 0.00%\n",
      "INFO:root:Training Loss : 0.06981118639724856\n",
      "INFO:root:Test Accuracy: 57.50%\n",
      "INFO:root:Test Loss: 1.4514463305473329 \n",
      "\n",
      " 30%|███       | 30/100 [19:36<46:34, 39.92s/it]"
     ]
    },
    {
     "name": "stdout",
     "output_type": "stream",
     "text": [
      "[422, 3195, 1112, 327, 123, 1736, 303, 286, 106, 1433]\n"
     ]
    },
    {
     "name": "stderr",
     "output_type": "stream",
     "text": [
      "INFO:root: \n",
      "Avg Training Stats after 31 global rounds:\n",
      "INFO:root:Train Accuracy: 0.00%\n",
      "INFO:root:Training Loss : 0.1146575476532659\n",
      "INFO:root:Test Accuracy: 57.68%\n",
      "INFO:root:Test Loss: 1.4295470535755157 \n",
      "\n",
      " 31%|███       | 31/100 [20:13<44:47, 38.95s/it]"
     ]
    },
    {
     "name": "stdout",
     "output_type": "stream",
     "text": [
      "[862, 173, 422, 303, 123, 1012, 542, 278, 431, 2195]\n"
     ]
    },
    {
     "name": "stderr",
     "output_type": "stream",
     "text": [
      "INFO:root: \n",
      "Avg Training Stats after 32 global rounds:\n",
      "INFO:root:Train Accuracy: 0.00%\n",
      "INFO:root:Training Loss : 0.18208908042867086\n",
      "INFO:root:Test Accuracy: 58.55%\n",
      "INFO:root:Test Loss: 1.3391957792639733 \n",
      "\n",
      " 32%|███▏      | 32/100 [20:46<41:56, 37.00s/it]"
     ]
    },
    {
     "name": "stdout",
     "output_type": "stream",
     "text": [
      "[1320, 15, 19, 1756, 231, 470, 267, 87, 862, 327]\n"
     ]
    },
    {
     "name": "stderr",
     "output_type": "stream",
     "text": [
      "INFO:root: \n",
      "Avg Training Stats after 33 global rounds:\n",
      "INFO:root:Train Accuracy: 0.00%\n",
      "INFO:root:Training Loss : 0.15956772549466564\n",
      "INFO:root:Test Accuracy: 56.93%\n",
      "INFO:root:Test Loss: 1.4146683786809444 \n",
      "\n",
      " 33%|███▎      | 33/100 [21:15<38:48, 34.75s/it]"
     ]
    },
    {
     "name": "stdout",
     "output_type": "stream",
     "text": [
      "[87, 267, 796, 1053, 1433, 2575, 1119, 794, 15, 327]\n"
     ]
    },
    {
     "name": "stderr",
     "output_type": "stream",
     "text": [
      "INFO:root: \n",
      "Avg Training Stats after 34 global rounds:\n",
      "INFO:root:Train Accuracy: 0.00%\n",
      "INFO:root:Training Loss : 0.1245840203624123\n",
      "INFO:root:Test Accuracy: 54.06%\n",
      "INFO:root:Test Loss: 1.5469943085312843 \n",
      "\n",
      " 34%|███▍      | 34/100 [21:50<38:23, 34.90s/it]"
     ]
    },
    {
     "name": "stdout",
     "output_type": "stream",
     "text": [
      "[422, 1798, 590, 796, 19, 1320, 173, 1416, 1053, 4600]\n"
     ]
    },
    {
     "name": "stderr",
     "output_type": "stream",
     "text": [
      "INFO:root: \n",
      "Avg Training Stats after 35 global rounds:\n",
      "INFO:root:Train Accuracy: 0.00%\n",
      "INFO:root:Training Loss : 0.15152429675414697\n",
      "INFO:root:Test Accuracy: 59.45%\n",
      "INFO:root:Test Loss: 1.3422939708828927 \n",
      "\n",
      " 35%|███▌      | 35/100 [22:33<40:12, 37.12s/it]"
     ]
    },
    {
     "name": "stdout",
     "output_type": "stream",
     "text": [
      "[2430, 1320, 602, 3195, 231, 2934, 431, 794, 1416, 542]\n"
     ]
    },
    {
     "name": "stderr",
     "output_type": "stream",
     "text": [
      "INFO:root: \n",
      "Avg Training Stats after 36 global rounds:\n",
      "INFO:root:Train Accuracy: 0.00%\n",
      "INFO:root:Training Loss : 0.10947287347953041\n",
      "INFO:root:Test Accuracy: 61.39%\n",
      "INFO:root:Test Loss: 1.3548042315244675 \n",
      "\n",
      " 36%|███▌      | 36/100 [23:18<42:11, 39.56s/it]"
     ]
    },
    {
     "name": "stdout",
     "output_type": "stream",
     "text": [
      "[15, 813, 1112, 123, 40, 796, 2274, 1018, 2195, 201]\n"
     ]
    },
    {
     "name": "stderr",
     "output_type": "stream",
     "text": [
      "INFO:root: \n",
      "Avg Training Stats after 37 global rounds:\n",
      "INFO:root:Train Accuracy: 0.00%\n",
      "INFO:root:Training Loss : 0.08661586248022976\n",
      "INFO:root:Test Accuracy: 61.53%\n",
      "INFO:root:Test Loss: 1.3951423382759094 \n",
      "\n",
      " 37%|███▋      | 37/100 [23:53<40:10, 38.26s/it]"
     ]
    },
    {
     "name": "stdout",
     "output_type": "stream",
     "text": [
      "[303, 2195, 422, 1112, 1433, 116, 796, 602, 1756, 231]\n"
     ]
    },
    {
     "name": "stderr",
     "output_type": "stream",
     "text": [
      "INFO:root: \n",
      "Avg Training Stats after 38 global rounds:\n",
      "INFO:root:Train Accuracy: 0.00%\n",
      "INFO:root:Training Loss : 0.1210274915836084\n",
      "INFO:root:Test Accuracy: 61.39%\n",
      "INFO:root:Test Loss: 1.369226147532463 \n",
      "\n",
      " 38%|███▊      | 38/100 [24:30<39:09, 37.90s/it]"
     ]
    },
    {
     "name": "stdout",
     "output_type": "stream",
     "text": [
      "[1756, 231, 267, 2430, 590, 1736, 15, 4600, 327, 1112]\n"
     ]
    },
    {
     "name": "stderr",
     "output_type": "stream",
     "text": [
      "INFO:root: \n",
      "Avg Training Stats after 39 global rounds:\n",
      "INFO:root:Train Accuracy: 0.00%\n",
      "INFO:root:Training Loss : 0.10302658460229705\n",
      "INFO:root:Test Accuracy: 62.75%\n",
      "INFO:root:Test Loss: 1.280685023367405 \n",
      "\n",
      " 39%|███▉      | 39/100 [25:14<40:14, 39.57s/it]"
     ]
    },
    {
     "name": "stdout",
     "output_type": "stream",
     "text": [
      "[2575, 422, 3195, 862, 231, 796, 2934, 123, 2430, 794]\n"
     ]
    },
    {
     "name": "stderr",
     "output_type": "stream",
     "text": [
      "INFO:root: \n",
      "Avg Training Stats after 40 global rounds:\n",
      "INFO:root:Train Accuracy: 0.00%\n",
      "INFO:root:Training Loss : 0.10023962191346773\n",
      "INFO:root:Test Accuracy: 61.38%\n",
      "INFO:root:Test Loss: 1.3230730792880059 \n",
      "\n",
      " 40%|████      | 40/100 [26:00<41:31, 41.53s/it]"
     ]
    },
    {
     "name": "stdout",
     "output_type": "stream",
     "text": [
      "[231, 1119, 1736, 278, 447, 1018, 286, 744, 690, 173]\n"
     ]
    },
    {
     "name": "stderr",
     "output_type": "stream",
     "text": [
      "INFO:root: \n",
      "Avg Training Stats after 41 global rounds:\n",
      "INFO:root:Train Accuracy: 0.00%\n",
      "INFO:root:Training Loss : 0.11769513610721431\n",
      "INFO:root:Test Accuracy: 58.67%\n",
      "INFO:root:Test Loss: 1.4671009495854377 \n",
      "\n",
      " 41%|████      | 41/100 [26:33<38:17, 38.93s/it]"
     ]
    },
    {
     "name": "stdout",
     "output_type": "stream",
     "text": [
      "[231, 1320, 1416, 2575, 2274, 862, 690, 602, 1012, 173]\n"
     ]
    },
    {
     "name": "stderr",
     "output_type": "stream",
     "text": [
      "INFO:root: \n",
      "Avg Training Stats after 42 global rounds:\n",
      "INFO:root:Train Accuracy: 0.00%\n",
      "INFO:root:Training Loss : 0.11452190123701192\n",
      "INFO:root:Test Accuracy: 57.62%\n",
      "INFO:root:Test Loss: 1.538908426761627 \n",
      "\n",
      " 42%|████▏     | 42/100 [27:13<38:05, 39.40s/it]"
     ]
    },
    {
     "name": "stdout",
     "output_type": "stream",
     "text": [
      "[1112, 1053, 3195, 2934, 2029, 201, 123, 2195, 1018, 173]\n"
     ]
    },
    {
     "name": "stderr",
     "output_type": "stream",
     "text": [
      "INFO:root: \n",
      "Avg Training Stats after 43 global rounds:\n",
      "INFO:root:Train Accuracy: 0.00%\n",
      "INFO:root:Training Loss : 0.13306483667490046\n",
      "INFO:root:Test Accuracy: 60.00%\n",
      "INFO:root:Test Loss: 1.4082561647891998 \n",
      "\n",
      " 43%|████▎     | 43/100 [27:59<39:10, 41.24s/it]"
     ]
    },
    {
     "name": "stdout",
     "output_type": "stream",
     "text": [
      "[862, 1053, 422, 3195, 4600, 794, 1756, 173, 2029, 1018]\n"
     ]
    },
    {
     "name": "stderr",
     "output_type": "stream",
     "text": [
      "INFO:root: \n",
      "Avg Training Stats after 44 global rounds:\n",
      "INFO:root:Train Accuracy: 0.00%\n",
      "INFO:root:Training Loss : 0.11879198405843246\n",
      "INFO:root:Test Accuracy: 62.80%\n",
      "INFO:root:Test Loss: 1.2792881119251251 \n",
      "\n",
      " 44%|████▍     | 44/100 [28:48<40:41, 43.60s/it]"
     ]
    },
    {
     "name": "stdout",
     "output_type": "stream",
     "text": [
      "[1320, 2934, 796, 2195, 862, 2575, 2029, 19, 422, 286]\n"
     ]
    },
    {
     "name": "stderr",
     "output_type": "stream",
     "text": [
      "INFO:root: \n",
      "Avg Training Stats after 45 global rounds:\n",
      "INFO:root:Train Accuracy: 0.00%\n",
      "INFO:root:Training Loss : 0.07319048743681068\n",
      "INFO:root:Test Accuracy: 63.76%\n",
      "INFO:root:Test Loss: 1.2986175495386123 \n",
      "\n",
      " 45%|████▌     | 45/100 [29:32<40:09, 43.81s/it]"
     ]
    },
    {
     "name": "stdout",
     "output_type": "stream",
     "text": [
      "[862, 744, 1416, 1112, 590, 542, 278, 690, 116, 1780]\n"
     ]
    },
    {
     "name": "stderr",
     "output_type": "stream",
     "text": [
      "INFO:root: \n",
      "Avg Training Stats after 46 global rounds:\n",
      "INFO:root:Train Accuracy: 0.00%\n",
      "INFO:root:Training Loss : 0.1482400472080507\n",
      "INFO:root:Test Accuracy: 65.25%\n",
      "INFO:root:Test Loss: 1.2399436256289482 \n",
      "\n",
      " 46%|████▌     | 46/100 [30:07<37:05, 41.20s/it]"
     ]
    },
    {
     "name": "stdout",
     "output_type": "stream",
     "text": [
      "[2575, 1112, 1320, 231, 3195, 1012, 862, 447, 2195, 201]\n"
     ]
    },
    {
     "name": "stderr",
     "output_type": "stream",
     "text": [
      "INFO:root: \n",
      "Avg Training Stats after 47 global rounds:\n",
      "INFO:root:Train Accuracy: 0.00%\n",
      "INFO:root:Training Loss : 0.057109266031209825\n",
      "INFO:root:Test Accuracy: 65.05%\n",
      "INFO:root:Test Loss: 1.2150492331385612 \n",
      "\n",
      " 47%|████▋     | 47/100 [30:51<37:14, 42.15s/it]"
     ]
    },
    {
     "name": "stdout",
     "output_type": "stream",
     "text": [
      "[1433, 542, 813, 231, 1119, 2029, 1012, 173, 2195, 1320]\n"
     ]
    },
    {
     "name": "stderr",
     "output_type": "stream",
     "text": [
      "INFO:root: \n",
      "Avg Training Stats after 48 global rounds:\n",
      "INFO:root:Train Accuracy: 0.00%\n",
      "INFO:root:Training Loss : 0.07210815083519742\n",
      "INFO:root:Test Accuracy: 64.24%\n",
      "INFO:root:Test Loss: 1.2375669851899147 \n",
      "\n",
      " 48%|████▊     | 48/100 [31:31<35:56, 41.47s/it]"
     ]
    },
    {
     "name": "stdout",
     "output_type": "stream",
     "text": [
      "[744, 2195, 209, 1780, 2575, 123, 327, 40, 1736, 690]\n"
     ]
    },
    {
     "name": "stderr",
     "output_type": "stream",
     "text": [
      "INFO:root: \n",
      "Avg Training Stats after 49 global rounds:\n",
      "INFO:root:Train Accuracy: 0.00%\n",
      "INFO:root:Training Loss : 0.13856492797379455\n",
      "INFO:root:Test Accuracy: 62.67%\n",
      "INFO:root:Test Loss: 1.311743922829628 \n",
      "\n",
      " 49%|████▉     | 49/100 [32:10<34:37, 40.73s/it]"
     ]
    },
    {
     "name": "stdout",
     "output_type": "stream",
     "text": [
      "[862, 690, 1433, 173, 3195, 2934, 116, 447, 231, 431]\n"
     ]
    },
    {
     "name": "stderr",
     "output_type": "stream",
     "text": [
      "INFO:root: \n",
      "Avg Training Stats after 50 global rounds:\n",
      "INFO:root:Train Accuracy: 0.00%\n",
      "INFO:root:Training Loss : 0.12667160869008992\n",
      "INFO:root:Test Accuracy: 60.81%\n",
      "INFO:root:Test Loss: 1.499102064371109 \n",
      "\n",
      " 50%|█████     | 50/100 [32:50<33:40, 40.42s/it]"
     ]
    },
    {
     "name": "stdout",
     "output_type": "stream",
     "text": [
      "[1320, 19, 3195, 87, 1756, 303, 813, 2575, 231, 231]\n"
     ]
    },
    {
     "name": "stderr",
     "output_type": "stream",
     "text": [
      "INFO:root: \n",
      "Avg Training Stats after 51 global rounds:\n",
      "INFO:root:Train Accuracy: 0.00%\n",
      "INFO:root:Training Loss : 0.030197792519176925\n",
      "INFO:root:Test Accuracy: 58.96%\n",
      "INFO:root:Test Loss: 1.7981194661557673 \n",
      "\n",
      " 51%|█████     | 51/100 [33:29<32:42, 40.05s/it]"
     ]
    },
    {
     "name": "stdout",
     "output_type": "stream",
     "text": [
      "[40, 813, 1780, 2934, 15, 173, 278, 19, 1798, 267]\n"
     ]
    },
    {
     "name": "stderr",
     "output_type": "stream",
     "text": [
      "INFO:root: \n",
      "Avg Training Stats after 52 global rounds:\n",
      "INFO:root:Train Accuracy: 0.00%\n",
      "INFO:root:Training Loss : 0.09303219956209428\n",
      "INFO:root:Test Accuracy: 62.67%\n",
      "INFO:root:Test Loss: 1.5004088097810746 \n",
      "\n",
      " 52%|█████▏    | 52/100 [34:04<30:39, 38.32s/it]"
     ]
    },
    {
     "name": "stdout",
     "output_type": "stream",
     "text": [
      "[267, 231, 690, 173, 1780, 1053, 862, 590, 1433, 303]\n"
     ]
    },
    {
     "name": "stderr",
     "output_type": "stream",
     "text": [
      "INFO:root: \n",
      "Avg Training Stats after 53 global rounds:\n",
      "INFO:root:Train Accuracy: 0.00%\n",
      "INFO:root:Training Loss : 0.11407279237599752\n",
      "INFO:root:Test Accuracy: 63.77%\n",
      "INFO:root:Test Loss: 1.4088895379006863 \n",
      "\n",
      " 53%|█████▎    | 53/100 [34:38<29:02, 37.08s/it]"
     ]
    },
    {
     "name": "stdout",
     "output_type": "stream",
     "text": [
      "[431, 3195, 201, 796, 2934, 15, 231, 1112, 1736, 267]\n"
     ]
    },
    {
     "name": "stderr",
     "output_type": "stream",
     "text": [
      "INFO:root: \n",
      "Avg Training Stats after 54 global rounds:\n",
      "INFO:root:Train Accuracy: 0.00%\n",
      "INFO:root:Training Loss : 0.10329831266827146\n",
      "INFO:root:Test Accuracy: 65.24%\n",
      "INFO:root:Test Loss: 1.3362280170619487 \n",
      "\n",
      " 54%|█████▍    | 54/100 [35:17<29:01, 37.86s/it]"
     ]
    },
    {
     "name": "stdout",
     "output_type": "stream",
     "text": [
      "[40, 1320, 1416, 286, 2195, 1012, 201, 116, 1053, 542]\n"
     ]
    },
    {
     "name": "stderr",
     "output_type": "stream",
     "text": [
      "INFO:root: \n",
      "Avg Training Stats after 55 global rounds:\n",
      "INFO:root:Train Accuracy: 0.00%\n",
      "INFO:root:Training Loss : 0.11228660967391435\n",
      "INFO:root:Test Accuracy: 65.31%\n",
      "INFO:root:Test Loss: 1.244468119442463 \n",
      "\n",
      " 55%|█████▌    | 55/100 [35:53<27:47, 37.06s/it]"
     ]
    },
    {
     "name": "stdout",
     "output_type": "stream",
     "text": [
      "[1798, 422, 231, 4600, 231, 2575, 1433, 106, 1320, 862]\n"
     ]
    },
    {
     "name": "stderr",
     "output_type": "stream",
     "text": [
      "INFO:root: \n",
      "Avg Training Stats after 56 global rounds:\n",
      "INFO:root:Train Accuracy: 0.00%\n",
      "INFO:root:Training Loss : 0.056047189928927967\n",
      "INFO:root:Test Accuracy: 62.72%\n",
      "INFO:root:Test Loss: 1.4293535968661308 \n",
      "\n",
      " 56%|█████▌    | 56/100 [36:38<28:57, 39.50s/it]"
     ]
    },
    {
     "name": "stdout",
     "output_type": "stream",
     "text": [
      "[2274, 3195, 267, 2029, 590, 327, 2195, 278, 1756, 813]\n"
     ]
    },
    {
     "name": "stderr",
     "output_type": "stream",
     "text": [
      "INFO:root: \n",
      "Avg Training Stats after 57 global rounds:\n",
      "INFO:root:Train Accuracy: 0.00%\n",
      "INFO:root:Training Loss : 0.08200276013706476\n",
      "INFO:root:Test Accuracy: 60.80%\n",
      "INFO:root:Test Loss: 1.617672000825405 \n",
      "\n",
      " 57%|█████▋    | 57/100 [37:23<29:30, 41.17s/it]"
     ]
    },
    {
     "name": "stdout",
     "output_type": "stream",
     "text": [
      "[1798, 431, 123, 1320, 1416, 231, 2575, 2934, 19, 1756]\n"
     ]
    },
    {
     "name": "stderr",
     "output_type": "stream",
     "text": [
      "INFO:root: \n",
      "Avg Training Stats after 58 global rounds:\n",
      "INFO:root:Train Accuracy: 0.00%\n",
      "INFO:root:Training Loss : 0.07226104211734641\n",
      "INFO:root:Test Accuracy: 61.70%\n",
      "INFO:root:Test Loss: 1.645374720096588 \n",
      "\n",
      " 58%|█████▊    | 58/100 [38:05<29:07, 41.60s/it]"
     ]
    },
    {
     "name": "stdout",
     "output_type": "stream",
     "text": [
      "[1018, 267, 2274, 447, 2029, 690, 590, 303, 1119, 796]\n"
     ]
    },
    {
     "name": "stderr",
     "output_type": "stream",
     "text": [
      "INFO:root: \n",
      "Avg Training Stats after 59 global rounds:\n",
      "INFO:root:Train Accuracy: 0.00%\n",
      "INFO:root:Training Loss : 0.05731956196842565\n",
      "INFO:root:Test Accuracy: 62.36%\n",
      "INFO:root:Test Loss: 1.6575566621124744 \n",
      "\n",
      " 59%|█████▉    | 59/100 [38:43<27:40, 40.50s/it]"
     ]
    },
    {
     "name": "stdout",
     "output_type": "stream",
     "text": [
      "[106, 2430, 447, 1433, 1012, 3195, 1119, 1756, 862, 4600]\n",
      "0.1\n"
     ]
    },
    {
     "name": "stderr",
     "output_type": "stream",
     "text": [
      "INFO:root: \n",
      "Avg Training Stats after 60 global rounds:\n",
      "INFO:root:Train Accuracy: 0.00%\n",
      "INFO:root:Training Loss : 0.02969268407337411\n",
      "INFO:root:Test Accuracy: 62.64%\n",
      "INFO:root:Test Loss: 1.629006364941597 \n",
      "\n",
      " 60%|██████    | 60/100 [39:34<29:02, 43.57s/it]"
     ]
    },
    {
     "name": "stdout",
     "output_type": "stream",
     "text": [
      "[1780, 1320, 286, 2029, 40, 796, 447, 15, 231, 744]\n"
     ]
    },
    {
     "name": "stderr",
     "output_type": "stream",
     "text": [
      "INFO:root: \n",
      "Avg Training Stats after 61 global rounds:\n",
      "INFO:root:Train Accuracy: 0.00%\n",
      "INFO:root:Training Loss : 0.050032647964953506\n",
      "INFO:root:Test Accuracy: 63.35%\n",
      "INFO:root:Test Loss: 1.5670844992995263 \n",
      "\n",
      " 61%|██████    | 61/100 [40:08<26:25, 40.65s/it]"
     ]
    },
    {
     "name": "stdout",
     "output_type": "stream",
     "text": [
      "[116, 15, 2029, 327, 19, 470, 422, 87, 1012, 303]\n"
     ]
    },
    {
     "name": "stderr",
     "output_type": "stream",
     "text": [
      "INFO:root: \n",
      "Avg Training Stats after 62 global rounds:\n",
      "INFO:root:Train Accuracy: 0.00%\n",
      "INFO:root:Training Loss : 0.1053733413745025\n",
      "INFO:root:Test Accuracy: 64.27%\n",
      "INFO:root:Test Loss: 1.5026965093612672 \n",
      "\n",
      " 62%|██████▏   | 62/100 [40:37<23:29, 37.08s/it]"
     ]
    },
    {
     "name": "stdout",
     "output_type": "stream",
     "text": [
      "[796, 2274, 862, 286, 813, 3195, 1112, 422, 1119, 327]\n"
     ]
    },
    {
     "name": "stderr",
     "output_type": "stream",
     "text": [
      "INFO:root: \n",
      "Avg Training Stats after 63 global rounds:\n",
      "INFO:root:Train Accuracy: 0.00%\n",
      "INFO:root:Training Loss : 0.07640537427764146\n",
      "INFO:root:Test Accuracy: 65.00%\n",
      "INFO:root:Test Loss: 1.4460081753134728 \n",
      "\n",
      " 63%|██████▎   | 63/100 [41:17<23:31, 38.16s/it]"
     ]
    },
    {
     "name": "stdout",
     "output_type": "stream",
     "text": [
      "[542, 1798, 690, 15, 267, 2575, 796, 590, 209, 470]\n"
     ]
    },
    {
     "name": "stderr",
     "output_type": "stream",
     "text": [
      "INFO:root: \n",
      "Avg Training Stats after 64 global rounds:\n",
      "INFO:root:Train Accuracy: 0.00%\n",
      "INFO:root:Training Loss : 0.08390553976180493\n",
      "INFO:root:Test Accuracy: 65.46%\n",
      "INFO:root:Test Loss: 1.3979901172220708 \n",
      "\n",
      " 64%|██████▍   | 64/100 [41:52<22:13, 37.03s/it]"
     ]
    },
    {
     "name": "stdout",
     "output_type": "stream",
     "text": [
      "[87, 267, 286, 1053, 303, 796, 40, 173, 19, 327]\n"
     ]
    },
    {
     "name": "stderr",
     "output_type": "stream",
     "text": [
      "INFO:root: \n",
      "Avg Training Stats after 65 global rounds:\n",
      "INFO:root:Train Accuracy: 0.00%\n",
      "INFO:root:Training Loss : 0.11501092332393777\n",
      "INFO:root:Test Accuracy: 66.14%\n",
      "INFO:root:Test Loss: 1.3485603964328765 \n",
      "\n",
      " 65%|██████▌   | 65/100 [42:18<19:40, 33.74s/it]"
     ]
    },
    {
     "name": "stdout",
     "output_type": "stream",
     "text": [
      "[813, 542, 106, 123, 4600, 40, 209, 2029, 1736, 2195]\n"
     ]
    },
    {
     "name": "stderr",
     "output_type": "stream",
     "text": [
      "INFO:root: \n",
      "Avg Training Stats after 66 global rounds:\n",
      "INFO:root:Train Accuracy: 0.00%\n",
      "INFO:root:Training Loss : 0.06605293134290517\n",
      "INFO:root:Test Accuracy: 66.51%\n",
      "INFO:root:Test Loss: 1.3087669479846955 \n",
      "\n",
      " 66%|██████▌   | 66/100 [43:01<20:40, 36.49s/it]"
     ]
    },
    {
     "name": "stdout",
     "output_type": "stream",
     "text": [
      "[1416, 1320, 201, 744, 2934, 447, 278, 2430, 1018, 2274]\n"
     ]
    },
    {
     "name": "stderr",
     "output_type": "stream",
     "text": [
      "INFO:root: \n",
      "Avg Training Stats after 67 global rounds:\n",
      "INFO:root:Train Accuracy: 0.00%\n",
      "INFO:root:Training Loss : 0.06938377343853172\n",
      "INFO:root:Test Accuracy: 66.89%\n",
      "INFO:root:Test Loss: 1.2797068452835083 \n",
      "\n",
      " 67%|██████▋   | 67/100 [43:45<21:18, 38.76s/it]"
     ]
    },
    {
     "name": "stdout",
     "output_type": "stream",
     "text": [
      "[303, 1012, 470, 123, 106, 201, 87, 1736, 2934, 2575]\n"
     ]
    },
    {
     "name": "stderr",
     "output_type": "stream",
     "text": [
      "INFO:root: \n",
      "Avg Training Stats after 68 global rounds:\n",
      "INFO:root:Train Accuracy: 0.00%\n",
      "INFO:root:Training Loss : 0.03528992290843574\n",
      "INFO:root:Test Accuracy: 66.79%\n",
      "INFO:root:Test Loss: 1.2642801010608673 \n",
      "\n",
      " 68%|██████▊   | 68/100 [44:22<20:29, 38.43s/it]"
     ]
    },
    {
     "name": "stdout",
     "output_type": "stream",
     "text": [
      "[3195, 794, 690, 2029, 231, 1756, 1112, 1736, 201, 813]\n"
     ]
    },
    {
     "name": "stderr",
     "output_type": "stream",
     "text": [
      "INFO:root: \n",
      "Avg Training Stats after 69 global rounds:\n",
      "INFO:root:Train Accuracy: 0.00%\n",
      "INFO:root:Training Loss : 0.04100753394664165\n",
      "INFO:root:Test Accuracy: 66.84%\n",
      "INFO:root:Test Loss: 1.2561993741989135 \n",
      "\n",
      " 69%|██████▉   | 69/100 [45:05<20:32, 39.76s/it]"
     ]
    },
    {
     "name": "stdout",
     "output_type": "stream",
     "text": [
      "[106, 40, 278, 422, 470, 2029, 2934, 744, 2274, 327]\n"
     ]
    },
    {
     "name": "stderr",
     "output_type": "stream",
     "text": [
      "INFO:root: \n",
      "Avg Training Stats after 70 global rounds:\n",
      "INFO:root:Train Accuracy: 0.00%\n",
      "INFO:root:Training Loss : 0.07057466876149836\n",
      "INFO:root:Test Accuracy: 67.01%\n",
      "INFO:root:Test Loss: 1.253217314183712 \n",
      "\n",
      " 70%|███████   | 70/100 [45:43<19:35, 39.17s/it]"
     ]
    },
    {
     "name": "stdout",
     "output_type": "stream",
     "text": [
      "[3195, 267, 303, 173, 286, 2029, 422, 1012, 796, 106]\n"
     ]
    },
    {
     "name": "stderr",
     "output_type": "stream",
     "text": [
      "INFO:root: \n",
      "Avg Training Stats after 71 global rounds:\n",
      "INFO:root:Train Accuracy: 0.00%\n",
      "INFO:root:Training Loss : 0.07085751707065022\n",
      "INFO:root:Test Accuracy: 67.02%\n",
      "INFO:root:Test Loss: 1.250163225531578 \n",
      "\n",
      " 71%|███████   | 71/100 [46:19<18:30, 38.30s/it]"
     ]
    },
    {
     "name": "stdout",
     "output_type": "stream",
     "text": [
      "[209, 40, 4600, 106, 123, 1012, 690, 542, 602, 2575]\n"
     ]
    },
    {
     "name": "stderr",
     "output_type": "stream",
     "text": [
      "INFO:root: \n",
      "Avg Training Stats after 72 global rounds:\n",
      "INFO:root:Train Accuracy: 0.00%\n",
      "INFO:root:Training Loss : 0.0657667294312482\n",
      "INFO:root:Test Accuracy: 67.19%\n",
      "INFO:root:Test Loss: 1.2467317301034928 \n",
      "\n",
      " 72%|███████▏  | 72/100 [46:59<18:00, 38.60s/it]"
     ]
    },
    {
     "name": "stdout",
     "output_type": "stream",
     "text": [
      "[1012, 2430, 2274, 209, 1798, 303, 1112, 231, 744, 278]\n"
     ]
    },
    {
     "name": "stderr",
     "output_type": "stream",
     "text": [
      "INFO:root: \n",
      "Avg Training Stats after 73 global rounds:\n",
      "INFO:root:Train Accuracy: 0.00%\n",
      "INFO:root:Training Loss : 0.05685833290194109\n",
      "INFO:root:Test Accuracy: 67.31%\n",
      "INFO:root:Test Loss: 1.2394285616278649 \n",
      "\n",
      " 73%|███████▎  | 73/100 [47:38<17:27, 38.80s/it]"
     ]
    },
    {
     "name": "stdout",
     "output_type": "stream",
     "text": [
      "[447, 1320, 209, 327, 744, 1018, 231, 2430, 590, 602]\n"
     ]
    },
    {
     "name": "stderr",
     "output_type": "stream",
     "text": [
      "INFO:root: \n",
      "Avg Training Stats after 74 global rounds:\n",
      "INFO:root:Train Accuracy: 0.00%\n",
      "INFO:root:Training Loss : 0.1015356687067955\n",
      "INFO:root:Test Accuracy: 67.55%\n",
      "INFO:root:Test Loss: 1.2276249060034752 \n",
      "\n",
      " 74%|███████▍  | 74/100 [48:13<16:17, 37.58s/it]"
     ]
    },
    {
     "name": "stdout",
     "output_type": "stream",
     "text": [
      "[470, 1053, 303, 1012, 106, 3195, 447, 1112, 201, 1433]\n"
     ]
    },
    {
     "name": "stderr",
     "output_type": "stream",
     "text": [
      "INFO:root: \n",
      "Avg Training Stats after 75 global rounds:\n",
      "INFO:root:Train Accuracy: 0.00%\n",
      "INFO:root:Training Loss : 0.030465335345706113\n",
      "INFO:root:Test Accuracy: 67.85%\n",
      "INFO:root:Test Loss: 1.219006527364254 \n",
      "\n",
      " 75%|███████▌  | 75/100 [48:51<15:41, 37.66s/it]"
     ]
    },
    {
     "name": "stdout",
     "output_type": "stream",
     "text": [
      "[231, 1433, 431, 209, 1416, 1780, 116, 123, 422, 4600]\n"
     ]
    },
    {
     "name": "stderr",
     "output_type": "stream",
     "text": [
      "INFO:root: \n",
      "Avg Training Stats after 76 global rounds:\n",
      "INFO:root:Train Accuracy: 0.00%\n",
      "INFO:root:Training Loss : 0.12571613462726747\n",
      "INFO:root:Test Accuracy: 68.13%\n",
      "INFO:root:Test Loss: 1.2105145570635796 \n",
      "\n",
      " 76%|███████▌  | 76/100 [49:30<15:19, 38.31s/it]"
     ]
    },
    {
     "name": "stdout",
     "output_type": "stream",
     "text": [
      "[2575, 796, 1053, 267, 602, 1018, 201, 1756, 286, 2430]\n"
     ]
    },
    {
     "name": "stderr",
     "output_type": "stream",
     "text": [
      "INFO:root: \n",
      "Avg Training Stats after 77 global rounds:\n",
      "INFO:root:Train Accuracy: 0.00%\n",
      "INFO:root:Training Loss : 0.06979424750036453\n",
      "INFO:root:Test Accuracy: 68.21%\n",
      "INFO:root:Test Loss: 1.206803317964077 \n",
      "\n",
      " 77%|███████▋  | 77/100 [50:11<14:54, 38.88s/it]"
     ]
    },
    {
     "name": "stdout",
     "output_type": "stream",
     "text": [
      "[15, 2029, 2274, 744, 1018, 1736, 2934, 19, 173, 447]\n"
     ]
    },
    {
     "name": "stderr",
     "output_type": "stream",
     "text": [
      "INFO:root: \n",
      "Avg Training Stats after 78 global rounds:\n",
      "INFO:root:Train Accuracy: 0.00%\n",
      "INFO:root:Training Loss : 0.06938463229524042\n",
      "INFO:root:Test Accuracy: 68.31%\n",
      "INFO:root:Test Loss: 1.208958929479122 \n",
      "\n",
      " 78%|███████▊  | 78/100 [50:51<14:28, 39.47s/it]"
     ]
    },
    {
     "name": "stdout",
     "output_type": "stream",
     "text": [
      "[542, 602, 173, 201, 590, 690, 422, 2934, 1736, 744]\n"
     ]
    },
    {
     "name": "stderr",
     "output_type": "stream",
     "text": [
      "INFO:root: \n",
      "Avg Training Stats after 79 global rounds:\n",
      "INFO:root:Train Accuracy: 0.00%\n",
      "INFO:root:Training Loss : 0.10076768923499657\n",
      "INFO:root:Test Accuracy: 68.25%\n",
      "INFO:root:Test Loss: 1.2149159035086632 \n",
      "\n",
      " 79%|███████▉  | 79/100 [51:28<13:27, 38.46s/it]"
     ]
    },
    {
     "name": "stdout",
     "output_type": "stream",
     "text": [
      "[201, 278, 40, 1112, 106, 690, 2029, 87, 796, 3195]\n"
     ]
    },
    {
     "name": "stderr",
     "output_type": "stream",
     "text": [
      "INFO:root: \n",
      "Avg Training Stats after 80 global rounds:\n",
      "INFO:root:Train Accuracy: 0.00%\n",
      "INFO:root:Training Loss : 0.024897578706363586\n",
      "INFO:root:Test Accuracy: 68.27%\n",
      "INFO:root:Test Loss: 1.2255664408206939 \n",
      "\n",
      " 80%|████████  | 80/100 [52:03<12:29, 37.48s/it]"
     ]
    },
    {
     "name": "stdout",
     "output_type": "stream",
     "text": [
      "[1798, 15, 201, 123, 1433, 542, 1119, 690, 602, 40]\n"
     ]
    },
    {
     "name": "stderr",
     "output_type": "stream",
     "text": [
      "INFO:root: \n",
      "Avg Training Stats after 81 global rounds:\n",
      "INFO:root:Train Accuracy: 0.00%\n",
      "INFO:root:Training Loss : 0.05412259194651381\n",
      "INFO:root:Test Accuracy: 68.30%\n",
      "INFO:root:Test Loss: 1.2329481592774392 \n",
      "\n",
      " 81%|████████  | 81/100 [52:35<11:20, 35.83s/it]"
     ]
    },
    {
     "name": "stdout",
     "output_type": "stream",
     "text": [
      "[267, 542, 209, 796, 87, 3195, 231, 303, 2934, 1119]\n"
     ]
    },
    {
     "name": "stderr",
     "output_type": "stream",
     "text": [
      "INFO:root: \n",
      "Avg Training Stats after 82 global rounds:\n",
      "INFO:root:Train Accuracy: 0.00%\n",
      "INFO:root:Training Loss : 0.05628666736629208\n",
      "INFO:root:Test Accuracy: 68.26%\n",
      "INFO:root:Test Loss: 1.2435286736488342 \n",
      "\n",
      " 82%|████████▏ | 82/100 [53:13<10:56, 36.45s/it]"
     ]
    },
    {
     "name": "stdout",
     "output_type": "stream",
     "text": [
      "[690, 431, 422, 231, 4600, 2934, 2029, 327, 796, 590]\n"
     ]
    },
    {
     "name": "stderr",
     "output_type": "stream",
     "text": [
      "INFO:root: \n",
      "Avg Training Stats after 83 global rounds:\n",
      "INFO:root:Train Accuracy: 0.00%\n",
      "INFO:root:Training Loss : 0.07192445804932808\n",
      "INFO:root:Test Accuracy: 68.17%\n",
      "INFO:root:Test Loss: 1.2572503834962845 \n",
      "\n",
      " 83%|████████▎ | 83/100 [53:56<10:57, 38.68s/it]"
     ]
    },
    {
     "name": "stdout",
     "output_type": "stream",
     "text": [
      "[231, 1112, 87, 303, 690, 796, 2195, 813, 327, 1018]\n"
     ]
    },
    {
     "name": "stderr",
     "output_type": "stream",
     "text": [
      "INFO:root: \n",
      "Avg Training Stats after 84 global rounds:\n",
      "INFO:root:Train Accuracy: 0.00%\n",
      "INFO:root:Training Loss : 0.062353843177843225\n",
      "INFO:root:Test Accuracy: 68.14%\n",
      "INFO:root:Test Loss: 1.2692627289891243 \n",
      "\n",
      " 84%|████████▍ | 84/100 [54:31<09:58, 37.39s/it]"
     ]
    },
    {
     "name": "stdout",
     "output_type": "stream",
     "text": [
      "[602, 1018, 542, 106, 794, 447, 2029, 1433, 327, 690]\n"
     ]
    },
    {
     "name": "stderr",
     "output_type": "stream",
     "text": [
      "INFO:root: \n",
      "Avg Training Stats after 85 global rounds:\n",
      "INFO:root:Train Accuracy: 0.00%\n",
      "INFO:root:Training Loss : 0.07903036655235626\n",
      "INFO:root:Test Accuracy: 68.05%\n",
      "INFO:root:Test Loss: 1.2727055537700653 \n",
      "\n",
      " 85%|████████▌ | 85/100 [55:06<09:09, 36.65s/it]"
     ]
    },
    {
     "name": "stdout",
     "output_type": "stream",
     "text": [
      "[1433, 267, 447, 1012, 470, 201, 231, 15, 278, 1736]\n"
     ]
    },
    {
     "name": "stderr",
     "output_type": "stream",
     "text": [
      "INFO:root: \n",
      "Avg Training Stats after 86 global rounds:\n",
      "INFO:root:Train Accuracy: 0.00%\n",
      "INFO:root:Training Loss : 0.06421535777720315\n",
      "INFO:root:Test Accuracy: 68.00%\n",
      "INFO:root:Test Loss: 1.2687511128187179 \n",
      "\n",
      " 86%|████████▌ | 86/100 [55:37<08:10, 35.05s/it]"
     ]
    },
    {
     "name": "stdout",
     "output_type": "stream",
     "text": [
      "[40, 1053, 231, 286, 106, 2274, 470, 1119, 447, 1416]\n"
     ]
    },
    {
     "name": "stderr",
     "output_type": "stream",
     "text": [
      "INFO:root: \n",
      "Avg Training Stats after 87 global rounds:\n",
      "INFO:root:Train Accuracy: 0.00%\n",
      "INFO:root:Training Loss : 0.05698359154011216\n",
      "INFO:root:Test Accuracy: 68.26%\n",
      "INFO:root:Test Loss: 1.2510595485568046 \n",
      "\n",
      " 87%|████████▋ | 87/100 [56:11<07:30, 34.62s/it]"
     ]
    },
    {
     "name": "stdout",
     "output_type": "stream",
     "text": [
      "[209, 2029, 231, 278, 1320, 862, 2195, 690, 1736, 106]\n"
     ]
    },
    {
     "name": "stderr",
     "output_type": "stream",
     "text": [
      "INFO:root: \n",
      "Avg Training Stats after 88 global rounds:\n",
      "INFO:root:Train Accuracy: 0.00%\n",
      "INFO:root:Training Loss : 0.051671306421530575\n",
      "INFO:root:Test Accuracy: 68.51%\n",
      "INFO:root:Test Loss: 1.2371877631545067 \n",
      "\n",
      " 88%|████████▊ | 88/100 [56:49<07:07, 35.63s/it]"
     ]
    },
    {
     "name": "stdout",
     "output_type": "stream",
     "text": [
      "[2430, 201, 2195, 2575, 123, 602, 116, 794, 4600, 690]\n"
     ]
    },
    {
     "name": "stderr",
     "output_type": "stream",
     "text": [
      "INFO:root: \n",
      "Avg Training Stats after 89 global rounds:\n",
      "INFO:root:Train Accuracy: 0.00%\n",
      "INFO:root:Training Loss : 0.07128815645815412\n",
      "INFO:root:Test Accuracy: 68.60%\n",
      "INFO:root:Test Loss: 1.2298305127024651 \n",
      "\n",
      " 89%|████████▉ | 89/100 [57:35<07:05, 38.72s/it]"
     ]
    },
    {
     "name": "stdout",
     "output_type": "stream",
     "text": [
      "[470, 303, 278, 87, 1119, 2274, 1780, 19, 4600, 602]\n",
      "0.010000000000000002\n"
     ]
    },
    {
     "name": "stderr",
     "output_type": "stream",
     "text": [
      "INFO:root: \n",
      "Avg Training Stats after 90 global rounds:\n",
      "INFO:root:Train Accuracy: 0.00%\n",
      "INFO:root:Training Loss : 0.03363803534799612\n",
      "INFO:root:Test Accuracy: 68.60%\n",
      "INFO:root:Test Loss: 1.2287596148252486 \n",
      "\n",
      " 90%|█████████ | 90/100 [58:15<06:33, 39.32s/it]"
     ]
    },
    {
     "name": "stdout",
     "output_type": "stream",
     "text": [
      "[2575, 602, 2029, 327, 209, 4600, 2274, 1756, 431, 1112]\n"
     ]
    },
    {
     "name": "stderr",
     "output_type": "stream",
     "text": [
      "INFO:root: \n",
      "Avg Training Stats after 91 global rounds:\n",
      "INFO:root:Train Accuracy: 0.00%\n",
      "INFO:root:Training Loss : 0.07479107940000623\n",
      "INFO:root:Test Accuracy: 68.56%\n",
      "INFO:root:Test Loss: 1.2276449194550514 \n",
      "\n",
      " 91%|█████████ | 91/100 [59:04<06:19, 42.19s/it]"
     ]
    },
    {
     "name": "stdout",
     "output_type": "stream",
     "text": [
      "[2195, 267, 813, 286, 3195, 470, 231, 278, 1012, 231]\n"
     ]
    },
    {
     "name": "stderr",
     "output_type": "stream",
     "text": [
      "INFO:root: \n",
      "Avg Training Stats after 92 global rounds:\n",
      "INFO:root:Train Accuracy: 0.00%\n",
      "INFO:root:Training Loss : 0.05456662961608899\n",
      "INFO:root:Test Accuracy: 68.55%\n",
      "INFO:root:Test Loss: 1.2265017318725586 \n",
      "\n",
      " 92%|█████████▏| 92/100 [59:41<05:23, 40.45s/it]"
     ]
    },
    {
     "name": "stdout",
     "output_type": "stream",
     "text": [
      "[1053, 2575, 303, 2430, 542, 116, 1756, 1433, 327, 15]\n"
     ]
    },
    {
     "name": "stderr",
     "output_type": "stream",
     "text": [
      "INFO:root: \n",
      "Avg Training Stats after 93 global rounds:\n",
      "INFO:root:Train Accuracy: 0.00%\n",
      "INFO:root:Training Loss : 0.08821573703432682\n",
      "INFO:root:Test Accuracy: 68.51%\n",
      "INFO:root:Test Loss: 1.225378448665142 \n",
      "\n",
      " 93%|█████████▎| 93/100 [1:00:20<04:40, 40.11s/it]"
     ]
    },
    {
     "name": "stdout",
     "output_type": "stream",
     "text": [
      "[590, 4600, 201, 286, 303, 1736, 15, 1798, 744, 422]\n"
     ]
    },
    {
     "name": "stderr",
     "output_type": "stream",
     "text": [
      "INFO:root: \n",
      "Avg Training Stats after 94 global rounds:\n",
      "INFO:root:Train Accuracy: 0.00%\n",
      "INFO:root:Training Loss : 0.049188684236945494\n",
      "INFO:root:Test Accuracy: 68.48%\n",
      "INFO:root:Test Loss: 1.2246875289082526 \n",
      "\n",
      " 94%|█████████▍| 94/100 [1:01:00<03:59, 39.97s/it]"
     ]
    },
    {
     "name": "stdout",
     "output_type": "stream",
     "text": [
      "[123, 862, 542, 19, 794, 1112, 4600, 2934, 231, 15]\n"
     ]
    },
    {
     "name": "stderr",
     "output_type": "stream",
     "text": [
      "INFO:root: \n",
      "Avg Training Stats after 95 global rounds:\n",
      "INFO:root:Train Accuracy: 0.00%\n",
      "INFO:root:Training Loss : 0.06064771277108685\n",
      "INFO:root:Test Accuracy: 68.44%\n",
      "INFO:root:Test Loss: 1.2243492317199707 \n",
      "\n",
      " 95%|█████████▌| 95/100 [1:01:40<03:19, 39.99s/it]"
     ]
    },
    {
     "name": "stdout",
     "output_type": "stream",
     "text": [
      "[1053, 87, 2575, 4600, 542, 231, 1433, 1012, 2029, 862]\n"
     ]
    },
    {
     "name": "stderr",
     "output_type": "stream",
     "text": [
      "INFO:root: \n",
      "Avg Training Stats after 96 global rounds:\n",
      "INFO:root:Train Accuracy: 0.00%\n",
      "INFO:root:Training Loss : 0.03949191811403617\n",
      "INFO:root:Test Accuracy: 68.50%\n",
      "INFO:root:Test Loss: 1.224219582080841 \n",
      "\n",
      " 96%|█████████▌| 96/100 [1:02:26<02:47, 41.93s/it]"
     ]
    },
    {
     "name": "stdout",
     "output_type": "stream",
     "text": [
      "[19, 602, 40, 690, 267, 231, 173, 2029, 1798, 3195]\n"
     ]
    },
    {
     "name": "stderr",
     "output_type": "stream",
     "text": [
      "INFO:root: \n",
      "Avg Training Stats after 97 global rounds:\n",
      "INFO:root:Train Accuracy: 0.00%\n",
      "INFO:root:Training Loss : 0.07608794392402833\n",
      "INFO:root:Test Accuracy: 68.54%\n",
      "INFO:root:Test Loss: 1.223927348256111 \n",
      "\n",
      " 97%|█████████▋| 97/100 [1:03:03<02:00, 40.32s/it]"
     ]
    },
    {
     "name": "stdout",
     "output_type": "stream",
     "text": [
      "[209, 1012, 422, 40, 794, 4600, 116, 286, 303, 1756]\n"
     ]
    },
    {
     "name": "stderr",
     "output_type": "stream",
     "text": [
      "INFO:root: \n",
      "Avg Training Stats after 98 global rounds:\n",
      "INFO:root:Train Accuracy: 0.00%\n",
      "INFO:root:Training Loss : 0.06015847910021975\n",
      "INFO:root:Test Accuracy: 68.55%\n",
      "INFO:root:Test Loss: 1.2240772387385368 \n",
      "\n",
      " 98%|█████████▊| 98/100 [1:03:40<01:18, 39.45s/it]"
     ]
    },
    {
     "name": "stdout",
     "output_type": "stream",
     "text": [
      "[2274, 1736, 173, 1416, 447, 19, 2195, 2029, 862, 744]\n"
     ]
    },
    {
     "name": "stderr",
     "output_type": "stream",
     "text": [
      "INFO:root: \n",
      "Avg Training Stats after 99 global rounds:\n",
      "INFO:root:Train Accuracy: 0.00%\n",
      "INFO:root:Training Loss : 0.08660945260658927\n",
      "INFO:root:Test Accuracy: 68.55%\n",
      "INFO:root:Test Loss: 1.2239924955368042 \n",
      "\n",
      " 99%|█████████▉| 99/100 [1:04:22<00:40, 40.17s/it]"
     ]
    },
    {
     "name": "stdout",
     "output_type": "stream",
     "text": [
      "[431, 1798, 1736, 744, 19, 278, 690, 590, 116, 40]\n"
     ]
    },
    {
     "name": "stderr",
     "output_type": "stream",
     "text": [
      "INFO:root: \n",
      "Avg Training Stats after 100 global rounds:\n",
      "INFO:root:Train Accuracy: 0.00%\n",
      "INFO:root:Training Loss : 0.0576925599447393\n",
      "INFO:root:Test Accuracy: 68.57%\n",
      "INFO:root:Test Loss: 1.2239249658584594 \n",
      "\n",
      "100%|██████████| 100/100 [1:04:53<00:00, 38.94s/it]\n",
      "INFO:root: \n",
      " Results after 100 global rounds of training:\n",
      "INFO:root:|---- Best Test Accuracy: 68.60% , round: 88\n"
     ]
    },
    {
     "name": "stdout",
     "output_type": "stream",
     "text": [
      " Saving checkpoints to ../save/checkpoint/ConvNet_1207/cifar10_ConvNet_none_T[100]_C[0.2]_iid[0]_E[10]_B[32]_GPU[0]_Pruned[0.0]...\n"
     ]
    }
   ],
   "source": [
    " args = easydict.EasyDict({\n",
    "    \"model\": 'ConvNet',\n",
    "    'dataset': 'cifar10',\n",
    "    'gpu': 0,\n",
    "    'iid': 0,\n",
    "    'epochs': 100,\n",
    "    'optimizer': 'sgd',\n",
    "    'seed': 0,\n",
    "    'norm': 'none',\n",
    "    'num_users': 50,\n",
    "    'frac': 0.2,\n",
    "    'local_ep': 10, \n",
    "    'local_bs': 32,\n",
    "    'lr': 0.01,\n",
    "    'momentum': 1,\n",
    "    'kernel_num': 9,\n",
    "    'kernel_sizes': 'centering',\n",
    "    'num_channnels': '1',\n",
    "    'num_filters': 32,\n",
    "    'max_pool': 'True',\n",
    "    'num_classes': 10,\n",
    "    'unequal': 0,\n",
    "    'stopping_rounds': 0,\n",
    "    'verbose': 0,\n",
    "    'hold_normalize': 0,\n",
    "    'save_path': '../save/checkpoint',\n",
    "    'exp_folder': 'ConvNet_1207',\n",
    "    'resume': None,\n",
    "    'server_opt': 'sgdm',\n",
    "    'server_lr': 1.0,\n",
    "    'client_decay':0,\n",
    "    'local_decay':0,\n",
    "    'alpha': 0.05,\n",
    "    'server_epoch':0,\n",
    "    'cosine_norm':0, \n",
    "    'only_fc' :0 ,\n",
    "    'loss':'bsm',\n",
    "    'dc_lr':0.0,\n",
    "    'tsne_pred':0,\n",
    "    'pruning': 0.0 })\n",
    "    \n",
    "    \n",
    "    \n",
    "temp = main_test(args)\n",
    "total.append(temp)"
   ]
  }
 ],
 "metadata": {
  "kernelspec": {
   "display_name": "federeated_learning",
   "language": "python",
   "name": "fedml"
  },
  "language_info": {
   "codemirror_mode": {
    "name": "ipython",
    "version": 3
   },
   "file_extension": ".py",
   "mimetype": "text/x-python",
   "name": "python",
   "nbconvert_exporter": "python",
   "pygments_lexer": "ipython3",
   "version": "3.7.4"
  }
 },
 "nbformat": 4,
 "nbformat_minor": 5
}
